{
    "metadata": {
        "kernelspec": {
            "name": "SQL",
            "display_name": "SQL",
            "language": "sql"
        },
        "language_info": {
            "name": "sql",
            "version": ""
        }
    },
    "nbformat_minor": 2,
    "nbformat": 4,
    "cells": [
        {
            "cell_type": "markdown",
            "source": [
                "Listázzuk azon vendégek nevét és email-címét, akik az 1990-es év második felében születtek! \n",
                "\n",
                "a. Rendezzük a listát a születés hónapja szerint növekvő sorrendbe!"
            ],
            "metadata": {
                "azdata_cell_guid": "a2e6b019-5923-4cdc-bc98-76a9817368b8"
            },
            "attachments": {}
        },
        {
            "cell_type": "code",
            "source": [
                "Select NEV, EMAIL, SZUL_DAT\r\n",
                "from Vendeg\r\n",
                "where YEAR(SZUL_DAT)=1990 and MONTH(SZUL_DAT)>6\r\n",
                "order by MONTH(SZUL_DAT) ASC"
            ],
            "metadata": {
                "azdata_cell_guid": "24f9fdd8-79fa-45d6-b7de-81b336ae9f67",
                "language": "sql"
            },
            "outputs": [
                {
                    "output_type": "display_data",
                    "data": {
                        "text/html": "(4 rows affected)"
                    },
                    "metadata": {}
                },
                {
                    "output_type": "display_data",
                    "data": {
                        "text/html": "Total execution time: 00:00:00.004"
                    },
                    "metadata": {}
                },
                {
                    "output_type": "execute_result",
                    "metadata": {},
                    "execution_count": 6,
                    "data": {
                        "application/vnd.dataresource+json": {
                            "schema": {
                                "fields": [
                                    {
                                        "name": "NEV"
                                    },
                                    {
                                        "name": "EMAIL"
                                    },
                                    {
                                        "name": "SZUL_DAT"
                                    }
                                ]
                            },
                            "data": [
                                {
                                    "NEV": "Bodor Szabolcs",
                                    "EMAIL": "szabolcs.bodor@mail.hu",
                                    "SZUL_DAT": "1990-07-16"
                                },
                                {
                                    "NEV": "Bosnyák Ilona",
                                    "EMAIL": "ilona3@gmail.com",
                                    "SZUL_DAT": "1990-08-06"
                                },
                                {
                                    "NEV": "Szabó Julianna",
                                    "EMAIL": "julianna4@gmail.com",
                                    "SZUL_DAT": "1990-09-29"
                                },
                                {
                                    "NEV": "Berta Dávid",
                                    "EMAIL": "david4@gmail.com",
                                    "SZUL_DAT": "1990-10-08"
                                }
                            ]
                        },
                        "text/html": [
                            "<table>",
                            "<tr><th>NEV</th><th>EMAIL</th><th>SZUL_DAT</th></tr>",
                            "<tr><td>Bodor Szabolcs</td><td>szabolcs.bodor@mail.hu</td><td>1990-07-16</td></tr>",
                            "<tr><td>Bosnyák Ilona</td><td>ilona3@gmail.com</td><td>1990-08-06</td></tr>",
                            "<tr><td>Szabó Julianna</td><td>julianna4@gmail.com</td><td>1990-09-29</td></tr>",
                            "<tr><td>Berta Dávid</td><td>david4@gmail.com</td><td>1990-10-08</td></tr>",
                            "</table>"
                        ]
                    }
                }
            ],
            "execution_count": 6
        },
        {
            "cell_type": "markdown",
            "source": [
                "Készítsen lekérdezést, amely megjeleníti, hogy szobánként (SZOBA\\_FK) hány olyan foglalás történt, ahol a felnőttek száma nagyobb volt a gyermekek számánál!\n",
                "\n",
                "a. Az eredményt rendezzük sorba a foglalásszám szerint növekvően!\n",
                "\n",
                "b. Hagyjuk ki azokat a csoportokat, ahol az említett foglalásszám 2 alatti!"
            ],
            "metadata": {
                "azdata_cell_guid": "851049ed-c0fc-474c-97f0-6b13b47ed9db"
            },
            "attachments": {}
        },
        {
            "cell_type": "code",
            "source": [
                "SELECT SZOBA_FK,count(*)\r\n",
                "From foglalas f join Szoba sz on f.SZOBA_FK = sz.SZOBA_ID\r\n",
                "where f.FELNOTT_SZAM>f.GYERMEK_SZAM\r\n",
                "group by SZOBA_FK\r\n",
                "having count(*)>=2\r\n",
                "order by count(*)\r\n",
                ""
            ],
            "metadata": {
                "azdata_cell_guid": "3558d418-22b2-4b82-9ef5-4ace8c70e6ad",
                "language": "sql"
            },
            "outputs": [
                {
                    "output_type": "display_data",
                    "data": {
                        "text/html": "(165 rows affected)"
                    },
                    "metadata": {}
                },
                {
                    "output_type": "display_data",
                    "data": {
                        "text/html": "Total execution time: 00:00:00.009"
                    },
                    "metadata": {}
                },
                {
                    "output_type": "execute_result",
                    "metadata": {},
                    "execution_count": 17,
                    "data": {
                        "application/vnd.dataresource+json": {
                            "schema": {
                                "fields": [
                                    {
                                        "name": "SZOBA_FK"
                                    },
                                    {
                                        "name": "(No column name)"
                                    }
                                ]
                            },
                            "data": [
                                {
                                    "SZOBA_FK": "2",
                                    "(No column name)": "2"
                                },
                                {
                                    "SZOBA_FK": "5",
                                    "(No column name)": "2"
                                },
                                {
                                    "SZOBA_FK": "17",
                                    "(No column name)": "2"
                                },
                                {
                                    "SZOBA_FK": "22",
                                    "(No column name)": "2"
                                },
                                {
                                    "SZOBA_FK": "30",
                                    "(No column name)": "2"
                                },
                                {
                                    "SZOBA_FK": "37",
                                    "(No column name)": "2"
                                },
                                {
                                    "SZOBA_FK": "47",
                                    "(No column name)": "2"
                                },
                                {
                                    "SZOBA_FK": "71",
                                    "(No column name)": "2"
                                },
                                {
                                    "SZOBA_FK": "72",
                                    "(No column name)": "2"
                                },
                                {
                                    "SZOBA_FK": "75",
                                    "(No column name)": "2"
                                },
                                {
                                    "SZOBA_FK": "76",
                                    "(No column name)": "2"
                                },
                                {
                                    "SZOBA_FK": "67",
                                    "(No column name)": "2"
                                },
                                {
                                    "SZOBA_FK": "69",
                                    "(No column name)": "2"
                                },
                                {
                                    "SZOBA_FK": "85",
                                    "(No column name)": "2"
                                },
                                {
                                    "SZOBA_FK": "91",
                                    "(No column name)": "2"
                                },
                                {
                                    "SZOBA_FK": "100",
                                    "(No column name)": "2"
                                },
                                {
                                    "SZOBA_FK": "109",
                                    "(No column name)": "2"
                                },
                                {
                                    "SZOBA_FK": "113",
                                    "(No column name)": "2"
                                },
                                {
                                    "SZOBA_FK": "118",
                                    "(No column name)": "2"
                                },
                                {
                                    "SZOBA_FK": "120",
                                    "(No column name)": "2"
                                },
                                {
                                    "SZOBA_FK": "136",
                                    "(No column name)": "2"
                                },
                                {
                                    "SZOBA_FK": "137",
                                    "(No column name)": "2"
                                },
                                {
                                    "SZOBA_FK": "144",
                                    "(No column name)": "2"
                                },
                                {
                                    "SZOBA_FK": "145",
                                    "(No column name)": "2"
                                },
                                {
                                    "SZOBA_FK": "151",
                                    "(No column name)": "2"
                                },
                                {
                                    "SZOBA_FK": "156",
                                    "(No column name)": "2"
                                },
                                {
                                    "SZOBA_FK": "157",
                                    "(No column name)": "2"
                                },
                                {
                                    "SZOBA_FK": "160",
                                    "(No column name)": "2"
                                },
                                {
                                    "SZOBA_FK": "162",
                                    "(No column name)": "2"
                                },
                                {
                                    "SZOBA_FK": "167",
                                    "(No column name)": "2"
                                },
                                {
                                    "SZOBA_FK": "176",
                                    "(No column name)": "2"
                                },
                                {
                                    "SZOBA_FK": "179",
                                    "(No column name)": "2"
                                },
                                {
                                    "SZOBA_FK": "188",
                                    "(No column name)": "2"
                                },
                                {
                                    "SZOBA_FK": "193",
                                    "(No column name)": "2"
                                },
                                {
                                    "SZOBA_FK": "196",
                                    "(No column name)": "2"
                                },
                                {
                                    "SZOBA_FK": "191",
                                    "(No column name)": "3"
                                },
                                {
                                    "SZOBA_FK": "183",
                                    "(No column name)": "3"
                                },
                                {
                                    "SZOBA_FK": "173",
                                    "(No column name)": "3"
                                },
                                {
                                    "SZOBA_FK": "166",
                                    "(No column name)": "3"
                                },
                                {
                                    "SZOBA_FK": "175",
                                    "(No column name)": "3"
                                },
                                {
                                    "SZOBA_FK": "169",
                                    "(No column name)": "3"
                                },
                                {
                                    "SZOBA_FK": "170",
                                    "(No column name)": "3"
                                },
                                {
                                    "SZOBA_FK": "161",
                                    "(No column name)": "3"
                                },
                                {
                                    "SZOBA_FK": "158",
                                    "(No column name)": "3"
                                },
                                {
                                    "SZOBA_FK": "152",
                                    "(No column name)": "3"
                                },
                                {
                                    "SZOBA_FK": "154",
                                    "(No column name)": "3"
                                },
                                {
                                    "SZOBA_FK": "155",
                                    "(No column name)": "3"
                                },
                                {
                                    "SZOBA_FK": "146",
                                    "(No column name)": "3"
                                },
                                {
                                    "SZOBA_FK": "135",
                                    "(No column name)": "3"
                                },
                                {
                                    "SZOBA_FK": "122",
                                    "(No column name)": "3"
                                },
                                {
                                    "SZOBA_FK": "129",
                                    "(No column name)": "3"
                                },
                                {
                                    "SZOBA_FK": "104",
                                    "(No column name)": "3"
                                },
                                {
                                    "SZOBA_FK": "90",
                                    "(No column name)": "3"
                                },
                                {
                                    "SZOBA_FK": "66",
                                    "(No column name)": "3"
                                },
                                {
                                    "SZOBA_FK": "84",
                                    "(No column name)": "3"
                                },
                                {
                                    "SZOBA_FK": "93",
                                    "(No column name)": "3"
                                },
                                {
                                    "SZOBA_FK": "95",
                                    "(No column name)": "3"
                                },
                                {
                                    "SZOBA_FK": "81",
                                    "(No column name)": "3"
                                },
                                {
                                    "SZOBA_FK": "77",
                                    "(No column name)": "3"
                                },
                                {
                                    "SZOBA_FK": "78",
                                    "(No column name)": "3"
                                },
                                {
                                    "SZOBA_FK": "50",
                                    "(No column name)": "3"
                                },
                                {
                                    "SZOBA_FK": "51",
                                    "(No column name)": "3"
                                },
                                {
                                    "SZOBA_FK": "46",
                                    "(No column name)": "3"
                                },
                                {
                                    "SZOBA_FK": "55",
                                    "(No column name)": "3"
                                },
                                {
                                    "SZOBA_FK": "57",
                                    "(No column name)": "3"
                                },
                                {
                                    "SZOBA_FK": "62",
                                    "(No column name)": "3"
                                },
                                {
                                    "SZOBA_FK": "63",
                                    "(No column name)": "3"
                                },
                                {
                                    "SZOBA_FK": "29",
                                    "(No column name)": "3"
                                },
                                {
                                    "SZOBA_FK": "40",
                                    "(No column name)": "3"
                                },
                                {
                                    "SZOBA_FK": "33",
                                    "(No column name)": "3"
                                },
                                {
                                    "SZOBA_FK": "34",
                                    "(No column name)": "3"
                                },
                                {
                                    "SZOBA_FK": "23",
                                    "(No column name)": "3"
                                },
                                {
                                    "SZOBA_FK": "24",
                                    "(No column name)": "3"
                                },
                                {
                                    "SZOBA_FK": "18",
                                    "(No column name)": "3"
                                },
                                {
                                    "SZOBA_FK": "14",
                                    "(No column name)": "3"
                                },
                                {
                                    "SZOBA_FK": "3",
                                    "(No column name)": "3"
                                },
                                {
                                    "SZOBA_FK": "9",
                                    "(No column name)": "4"
                                },
                                {
                                    "SZOBA_FK": "10",
                                    "(No column name)": "4"
                                },
                                {
                                    "SZOBA_FK": "11",
                                    "(No column name)": "4"
                                },
                                {
                                    "SZOBA_FK": "15",
                                    "(No column name)": "4"
                                },
                                {
                                    "SZOBA_FK": "19",
                                    "(No column name)": "4"
                                },
                                {
                                    "SZOBA_FK": "36",
                                    "(No column name)": "4"
                                },
                                {
                                    "SZOBA_FK": "39",
                                    "(No column name)": "4"
                                },
                                {
                                    "SZOBA_FK": "13",
                                    "(No column name)": "4"
                                },
                                {
                                    "SZOBA_FK": "59",
                                    "(No column name)": "4"
                                },
                                {
                                    "SZOBA_FK": "61",
                                    "(No column name)": "4"
                                },
                                {
                                    "SZOBA_FK": "54",
                                    "(No column name)": "4"
                                },
                                {
                                    "SZOBA_FK": "45",
                                    "(No column name)": "4"
                                },
                                {
                                    "SZOBA_FK": "43",
                                    "(No column name)": "4"
                                },
                                {
                                    "SZOBA_FK": "79",
                                    "(No column name)": "4"
                                },
                                {
                                    "SZOBA_FK": "73",
                                    "(No column name)": "4"
                                },
                                {
                                    "SZOBA_FK": "86",
                                    "(No column name)": "4"
                                },
                                {
                                    "SZOBA_FK": "98",
                                    "(No column name)": "4"
                                },
                                {
                                    "SZOBA_FK": "99",
                                    "(No column name)": "4"
                                },
                                {
                                    "SZOBA_FK": "106",
                                    "(No column name)": "4"
                                },
                                {
                                    "SZOBA_FK": "107",
                                    "(No column name)": "4"
                                },
                                {
                                    "SZOBA_FK": "124",
                                    "(No column name)": "4"
                                },
                                {
                                    "SZOBA_FK": "126",
                                    "(No column name)": "4"
                                },
                                {
                                    "SZOBA_FK": "119",
                                    "(No column name)": "4"
                                },
                                {
                                    "SZOBA_FK": "112",
                                    "(No column name)": "4"
                                },
                                {
                                    "SZOBA_FK": "117",
                                    "(No column name)": "4"
                                },
                                {
                                    "SZOBA_FK": "141",
                                    "(No column name)": "4"
                                },
                                {
                                    "SZOBA_FK": "131",
                                    "(No column name)": "4"
                                },
                                {
                                    "SZOBA_FK": "132",
                                    "(No column name)": "4"
                                },
                                {
                                    "SZOBA_FK": "133",
                                    "(No column name)": "4"
                                },
                                {
                                    "SZOBA_FK": "134",
                                    "(No column name)": "4"
                                },
                                {
                                    "SZOBA_FK": "153",
                                    "(No column name)": "4"
                                },
                                {
                                    "SZOBA_FK": "164",
                                    "(No column name)": "4"
                                },
                                {
                                    "SZOBA_FK": "174",
                                    "(No column name)": "4"
                                },
                                {
                                    "SZOBA_FK": "184",
                                    "(No column name)": "4"
                                },
                                {
                                    "SZOBA_FK": "190",
                                    "(No column name)": "5"
                                },
                                {
                                    "SZOBA_FK": "195",
                                    "(No column name)": "5"
                                },
                                {
                                    "SZOBA_FK": "181",
                                    "(No column name)": "5"
                                },
                                {
                                    "SZOBA_FK": "165",
                                    "(No column name)": "5"
                                },
                                {
                                    "SZOBA_FK": "163",
                                    "(No column name)": "5"
                                },
                                {
                                    "SZOBA_FK": "171",
                                    "(No column name)": "5"
                                },
                                {
                                    "SZOBA_FK": "138",
                                    "(No column name)": "5"
                                },
                                {
                                    "SZOBA_FK": "143",
                                    "(No column name)": "5"
                                },
                                {
                                    "SZOBA_FK": "140",
                                    "(No column name)": "5"
                                },
                                {
                                    "SZOBA_FK": "148",
                                    "(No column name)": "5"
                                },
                                {
                                    "SZOBA_FK": "149",
                                    "(No column name)": "5"
                                },
                                {
                                    "SZOBA_FK": "115",
                                    "(No column name)": "5"
                                },
                                {
                                    "SZOBA_FK": "110",
                                    "(No column name)": "5"
                                },
                                {
                                    "SZOBA_FK": "127",
                                    "(No column name)": "5"
                                },
                                {
                                    "SZOBA_FK": "130",
                                    "(No column name)": "5"
                                },
                                {
                                    "SZOBA_FK": "123",
                                    "(No column name)": "5"
                                },
                                {
                                    "SZOBA_FK": "121",
                                    "(No column name)": "5"
                                },
                                {
                                    "SZOBA_FK": "97",
                                    "(No column name)": "5"
                                },
                                {
                                    "SZOBA_FK": "92",
                                    "(No column name)": "5"
                                },
                                {
                                    "SZOBA_FK": "87",
                                    "(No column name)": "5"
                                },
                                {
                                    "SZOBA_FK": "88",
                                    "(No column name)": "5"
                                },
                                {
                                    "SZOBA_FK": "82",
                                    "(No column name)": "5"
                                },
                                {
                                    "SZOBA_FK": "83",
                                    "(No column name)": "5"
                                },
                                {
                                    "SZOBA_FK": "80",
                                    "(No column name)": "5"
                                },
                                {
                                    "SZOBA_FK": "52",
                                    "(No column name)": "5"
                                },
                                {
                                    "SZOBA_FK": "49",
                                    "(No column name)": "5"
                                },
                                {
                                    "SZOBA_FK": "64",
                                    "(No column name)": "5"
                                },
                                {
                                    "SZOBA_FK": "38",
                                    "(No column name)": "5"
                                },
                                {
                                    "SZOBA_FK": "42",
                                    "(No column name)": "5"
                                },
                                {
                                    "SZOBA_FK": "27",
                                    "(No column name)": "5"
                                },
                                {
                                    "SZOBA_FK": "28",
                                    "(No column name)": "5"
                                },
                                {
                                    "SZOBA_FK": "20",
                                    "(No column name)": "5"
                                },
                                {
                                    "SZOBA_FK": "8",
                                    "(No column name)": "5"
                                },
                                {
                                    "SZOBA_FK": "4",
                                    "(No column name)": "5"
                                },
                                {
                                    "SZOBA_FK": "6",
                                    "(No column name)": "5"
                                },
                                {
                                    "SZOBA_FK": "7",
                                    "(No column name)": "6"
                                },
                                {
                                    "SZOBA_FK": "35",
                                    "(No column name)": "6"
                                },
                                {
                                    "SZOBA_FK": "48",
                                    "(No column name)": "6"
                                },
                                {
                                    "SZOBA_FK": "44",
                                    "(No column name)": "6"
                                },
                                {
                                    "SZOBA_FK": "96",
                                    "(No column name)": "6"
                                },
                                {
                                    "SZOBA_FK": "94",
                                    "(No column name)": "6"
                                },
                                {
                                    "SZOBA_FK": "150",
                                    "(No column name)": "6"
                                },
                                {
                                    "SZOBA_FK": "139",
                                    "(No column name)": "6"
                                },
                                {
                                    "SZOBA_FK": "172",
                                    "(No column name)": "6"
                                },
                                {
                                    "SZOBA_FK": "187",
                                    "(No column name)": "6"
                                },
                                {
                                    "SZOBA_FK": "197",
                                    "(No column name)": "6"
                                },
                                {
                                    "SZOBA_FK": "198",
                                    "(No column name)": "7"
                                },
                                {
                                    "SZOBA_FK": "12",
                                    "(No column name)": "7"
                                },
                                {
                                    "SZOBA_FK": "1",
                                    "(No column name)": "7"
                                },
                                {
                                    "SZOBA_FK": "58",
                                    "(No column name)": "8"
                                },
                                {
                                    "SZOBA_FK": "74",
                                    "(No column name)": "8"
                                },
                                {
                                    "SZOBA_FK": "70",
                                    "(No column name)": "8"
                                },
                                {
                                    "SZOBA_FK": "89",
                                    "(No column name)": "8"
                                },
                                {
                                    "SZOBA_FK": "185",
                                    "(No column name)": "10"
                                },
                                {
                                    "SZOBA_FK": "182",
                                    "(No column name)": "11"
                                }
                            ]
                        },
                        "text/html": [
                            "<table>",
                            "<tr><th>SZOBA_FK</th><th>(No column name)</th></tr>",
                            "<tr><td>2</td><td>2</td></tr>",
                            "<tr><td>5</td><td>2</td></tr>",
                            "<tr><td>17</td><td>2</td></tr>",
                            "<tr><td>22</td><td>2</td></tr>",
                            "<tr><td>30</td><td>2</td></tr>",
                            "<tr><td>37</td><td>2</td></tr>",
                            "<tr><td>47</td><td>2</td></tr>",
                            "<tr><td>71</td><td>2</td></tr>",
                            "<tr><td>72</td><td>2</td></tr>",
                            "<tr><td>75</td><td>2</td></tr>",
                            "<tr><td>76</td><td>2</td></tr>",
                            "<tr><td>67</td><td>2</td></tr>",
                            "<tr><td>69</td><td>2</td></tr>",
                            "<tr><td>85</td><td>2</td></tr>",
                            "<tr><td>91</td><td>2</td></tr>",
                            "<tr><td>100</td><td>2</td></tr>",
                            "<tr><td>109</td><td>2</td></tr>",
                            "<tr><td>113</td><td>2</td></tr>",
                            "<tr><td>118</td><td>2</td></tr>",
                            "<tr><td>120</td><td>2</td></tr>",
                            "<tr><td>136</td><td>2</td></tr>",
                            "<tr><td>137</td><td>2</td></tr>",
                            "<tr><td>144</td><td>2</td></tr>",
                            "<tr><td>145</td><td>2</td></tr>",
                            "<tr><td>151</td><td>2</td></tr>",
                            "<tr><td>156</td><td>2</td></tr>",
                            "<tr><td>157</td><td>2</td></tr>",
                            "<tr><td>160</td><td>2</td></tr>",
                            "<tr><td>162</td><td>2</td></tr>",
                            "<tr><td>167</td><td>2</td></tr>",
                            "<tr><td>176</td><td>2</td></tr>",
                            "<tr><td>179</td><td>2</td></tr>",
                            "<tr><td>188</td><td>2</td></tr>",
                            "<tr><td>193</td><td>2</td></tr>",
                            "<tr><td>196</td><td>2</td></tr>",
                            "<tr><td>191</td><td>3</td></tr>",
                            "<tr><td>183</td><td>3</td></tr>",
                            "<tr><td>173</td><td>3</td></tr>",
                            "<tr><td>166</td><td>3</td></tr>",
                            "<tr><td>175</td><td>3</td></tr>",
                            "<tr><td>169</td><td>3</td></tr>",
                            "<tr><td>170</td><td>3</td></tr>",
                            "<tr><td>161</td><td>3</td></tr>",
                            "<tr><td>158</td><td>3</td></tr>",
                            "<tr><td>152</td><td>3</td></tr>",
                            "<tr><td>154</td><td>3</td></tr>",
                            "<tr><td>155</td><td>3</td></tr>",
                            "<tr><td>146</td><td>3</td></tr>",
                            "<tr><td>135</td><td>3</td></tr>",
                            "<tr><td>122</td><td>3</td></tr>",
                            "<tr><td>129</td><td>3</td></tr>",
                            "<tr><td>104</td><td>3</td></tr>",
                            "<tr><td>90</td><td>3</td></tr>",
                            "<tr><td>66</td><td>3</td></tr>",
                            "<tr><td>84</td><td>3</td></tr>",
                            "<tr><td>93</td><td>3</td></tr>",
                            "<tr><td>95</td><td>3</td></tr>",
                            "<tr><td>81</td><td>3</td></tr>",
                            "<tr><td>77</td><td>3</td></tr>",
                            "<tr><td>78</td><td>3</td></tr>",
                            "<tr><td>50</td><td>3</td></tr>",
                            "<tr><td>51</td><td>3</td></tr>",
                            "<tr><td>46</td><td>3</td></tr>",
                            "<tr><td>55</td><td>3</td></tr>",
                            "<tr><td>57</td><td>3</td></tr>",
                            "<tr><td>62</td><td>3</td></tr>",
                            "<tr><td>63</td><td>3</td></tr>",
                            "<tr><td>29</td><td>3</td></tr>",
                            "<tr><td>40</td><td>3</td></tr>",
                            "<tr><td>33</td><td>3</td></tr>",
                            "<tr><td>34</td><td>3</td></tr>",
                            "<tr><td>23</td><td>3</td></tr>",
                            "<tr><td>24</td><td>3</td></tr>",
                            "<tr><td>18</td><td>3</td></tr>",
                            "<tr><td>14</td><td>3</td></tr>",
                            "<tr><td>3</td><td>3</td></tr>",
                            "<tr><td>9</td><td>4</td></tr>",
                            "<tr><td>10</td><td>4</td></tr>",
                            "<tr><td>11</td><td>4</td></tr>",
                            "<tr><td>15</td><td>4</td></tr>",
                            "<tr><td>19</td><td>4</td></tr>",
                            "<tr><td>36</td><td>4</td></tr>",
                            "<tr><td>39</td><td>4</td></tr>",
                            "<tr><td>13</td><td>4</td></tr>",
                            "<tr><td>59</td><td>4</td></tr>",
                            "<tr><td>61</td><td>4</td></tr>",
                            "<tr><td>54</td><td>4</td></tr>",
                            "<tr><td>45</td><td>4</td></tr>",
                            "<tr><td>43</td><td>4</td></tr>",
                            "<tr><td>79</td><td>4</td></tr>",
                            "<tr><td>73</td><td>4</td></tr>",
                            "<tr><td>86</td><td>4</td></tr>",
                            "<tr><td>98</td><td>4</td></tr>",
                            "<tr><td>99</td><td>4</td></tr>",
                            "<tr><td>106</td><td>4</td></tr>",
                            "<tr><td>107</td><td>4</td></tr>",
                            "<tr><td>124</td><td>4</td></tr>",
                            "<tr><td>126</td><td>4</td></tr>",
                            "<tr><td>119</td><td>4</td></tr>",
                            "<tr><td>112</td><td>4</td></tr>",
                            "<tr><td>117</td><td>4</td></tr>",
                            "<tr><td>141</td><td>4</td></tr>",
                            "<tr><td>131</td><td>4</td></tr>",
                            "<tr><td>132</td><td>4</td></tr>",
                            "<tr><td>133</td><td>4</td></tr>",
                            "<tr><td>134</td><td>4</td></tr>",
                            "<tr><td>153</td><td>4</td></tr>",
                            "<tr><td>164</td><td>4</td></tr>",
                            "<tr><td>174</td><td>4</td></tr>",
                            "<tr><td>184</td><td>4</td></tr>",
                            "<tr><td>190</td><td>5</td></tr>",
                            "<tr><td>195</td><td>5</td></tr>",
                            "<tr><td>181</td><td>5</td></tr>",
                            "<tr><td>165</td><td>5</td></tr>",
                            "<tr><td>163</td><td>5</td></tr>",
                            "<tr><td>171</td><td>5</td></tr>",
                            "<tr><td>138</td><td>5</td></tr>",
                            "<tr><td>143</td><td>5</td></tr>",
                            "<tr><td>140</td><td>5</td></tr>",
                            "<tr><td>148</td><td>5</td></tr>",
                            "<tr><td>149</td><td>5</td></tr>",
                            "<tr><td>115</td><td>5</td></tr>",
                            "<tr><td>110</td><td>5</td></tr>",
                            "<tr><td>127</td><td>5</td></tr>",
                            "<tr><td>130</td><td>5</td></tr>",
                            "<tr><td>123</td><td>5</td></tr>",
                            "<tr><td>121</td><td>5</td></tr>",
                            "<tr><td>97</td><td>5</td></tr>",
                            "<tr><td>92</td><td>5</td></tr>",
                            "<tr><td>87</td><td>5</td></tr>",
                            "<tr><td>88</td><td>5</td></tr>",
                            "<tr><td>82</td><td>5</td></tr>",
                            "<tr><td>83</td><td>5</td></tr>",
                            "<tr><td>80</td><td>5</td></tr>",
                            "<tr><td>52</td><td>5</td></tr>",
                            "<tr><td>49</td><td>5</td></tr>",
                            "<tr><td>64</td><td>5</td></tr>",
                            "<tr><td>38</td><td>5</td></tr>",
                            "<tr><td>42</td><td>5</td></tr>",
                            "<tr><td>27</td><td>5</td></tr>",
                            "<tr><td>28</td><td>5</td></tr>",
                            "<tr><td>20</td><td>5</td></tr>",
                            "<tr><td>8</td><td>5</td></tr>",
                            "<tr><td>4</td><td>5</td></tr>",
                            "<tr><td>6</td><td>5</td></tr>",
                            "<tr><td>7</td><td>6</td></tr>",
                            "<tr><td>35</td><td>6</td></tr>",
                            "<tr><td>48</td><td>6</td></tr>",
                            "<tr><td>44</td><td>6</td></tr>",
                            "<tr><td>96</td><td>6</td></tr>",
                            "<tr><td>94</td><td>6</td></tr>",
                            "<tr><td>150</td><td>6</td></tr>",
                            "<tr><td>139</td><td>6</td></tr>",
                            "<tr><td>172</td><td>6</td></tr>",
                            "<tr><td>187</td><td>6</td></tr>",
                            "<tr><td>197</td><td>6</td></tr>",
                            "<tr><td>198</td><td>7</td></tr>",
                            "<tr><td>12</td><td>7</td></tr>",
                            "<tr><td>1</td><td>7</td></tr>",
                            "<tr><td>58</td><td>8</td></tr>",
                            "<tr><td>74</td><td>8</td></tr>",
                            "<tr><td>70</td><td>8</td></tr>",
                            "<tr><td>89</td><td>8</td></tr>",
                            "<tr><td>185</td><td>10</td></tr>",
                            "<tr><td>182</td><td>11</td></tr>",
                            "</table>"
                        ]
                    }
                }
            ],
            "execution_count": 17
        }
    ]
}