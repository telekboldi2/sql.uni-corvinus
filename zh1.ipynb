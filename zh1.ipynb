{
    "metadata": {
        "kernelspec": {
            "name": "SQL",
            "display_name": "SQL",
            "language": "sql"
        },
        "language_info": {
            "name": "sql",
            "version": ""
        }
    },
    "nbformat_minor": 2,
    "nbformat": 4,
    "cells": [
        {
            "cell_type": "markdown",
            "source": [
                "Listázzuk azon vendégek nevét és email-címét, akik az 1990-es év második felében születtek! \n",
                "\n",
                "a. Rendezzük a listát a születés hónapja szerint növekvő sorrendbe!"
            ],
            "metadata": {
                "azdata_cell_guid": "a2e6b019-5923-4cdc-bc98-76a9817368b8"
            },
            "attachments": {}
        },
        {
            "cell_type": "code",
            "source": [
                "Select NEV, EMAIL, SZUL_DAT\r\n",
                "from Vendeg\r\n",
                "where YEAR(SZUL_DAT)=1990 and MONTH(SZUL_DAT)>6\r\n",
                "order by MONTH(SZUL_DAT) ASC"
            ],
            "metadata": {
                "azdata_cell_guid": "24f9fdd8-79fa-45d6-b7de-81b336ae9f67",
                "language": "sql"
            },
            "outputs": [
                {
                    "output_type": "display_data",
                    "data": {
                        "text/html": "(4 rows affected)"
                    },
                    "metadata": {}
                },
                {
                    "output_type": "display_data",
                    "data": {
                        "text/html": "Total execution time: 00:00:00.004"
                    },
                    "metadata": {}
                },
                {
                    "output_type": "execute_result",
                    "metadata": {},
                    "execution_count": 6,
                    "data": {
                        "application/vnd.dataresource+json": {
                            "schema": {
                                "fields": [
                                    {
                                        "name": "NEV"
                                    },
                                    {
                                        "name": "EMAIL"
                                    },
                                    {
                                        "name": "SZUL_DAT"
                                    }
                                ]
                            },
                            "data": [
                                {
                                    "NEV": "Bodor Szabolcs",
                                    "EMAIL": "szabolcs.bodor@mail.hu",
                                    "SZUL_DAT": "1990-07-16"
                                },
                                {
                                    "NEV": "Bosnyák Ilona",
                                    "EMAIL": "ilona3@gmail.com",
                                    "SZUL_DAT": "1990-08-06"
                                },
                                {
                                    "NEV": "Szabó Julianna",
                                    "EMAIL": "julianna4@gmail.com",
                                    "SZUL_DAT": "1990-09-29"
                                },
                                {
                                    "NEV": "Berta Dávid",
                                    "EMAIL": "david4@gmail.com",
                                    "SZUL_DAT": "1990-10-08"
                                }
                            ]
                        },
                        "text/html": [
                            "<table>",
                            "<tr><th>NEV</th><th>EMAIL</th><th>SZUL_DAT</th></tr>",
                            "<tr><td>Bodor Szabolcs</td><td>szabolcs.bodor@mail.hu</td><td>1990-07-16</td></tr>",
                            "<tr><td>Bosnyák Ilona</td><td>ilona3@gmail.com</td><td>1990-08-06</td></tr>",
                            "<tr><td>Szabó Julianna</td><td>julianna4@gmail.com</td><td>1990-09-29</td></tr>",
                            "<tr><td>Berta Dávid</td><td>david4@gmail.com</td><td>1990-10-08</td></tr>",
                            "</table>"
                        ]
                    }
                }
            ],
            "execution_count": 6
        },
        {
            "cell_type": "markdown",
            "source": [
                "Készítsen lekérdezést, amely megjeleníti, hogy szobánként (SZOBA\\_FK) hány olyan foglalás történt, ahol a felnőttek száma nagyobb volt a gyermekek számánál!\n",
                "\n",
                "a. Az eredményt rendezzük sorba a foglalásszám szerint növekvően!\n",
                "\n",
                "b. Hagyjuk ki azokat a csoportokat, ahol az említett foglalásszám 2 alatti!"
            ],
            "metadata": {
                "azdata_cell_guid": "851049ed-c0fc-474c-97f0-6b13b47ed9db"
            },
            "attachments": {}
        },
        {
            "cell_type": "code",
            "source": [
                "SELECT SZOBA_FK,count(*)\r\n",
                "From foglalas f join Szoba sz on f.SZOBA_FK = sz.SZOBA_ID\r\n",
                "where f.FELNOTT_SZAM>f.GYERMEK_SZAM\r\n",
                "group by SZOBA_FK\r\n",
                "having count(*)>=2\r\n",
                "order by count(*)\r\n",
                ""
            ],
            "metadata": {
                "azdata_cell_guid": "3558d418-22b2-4b82-9ef5-4ace8c70e6ad",
                "language": "sql"
            },
            "outputs": [
                {
                    "output_type": "error",
                    "evalue": "Msg 156, Level 15, State 1, Line 6\r\nIncorrect syntax near the keyword 'having'.",
                    "ename": "",
                    "traceback": []
                },
                {
                    "output_type": "display_data",
                    "data": {
                        "text/html": "Total execution time: 00:00:00.005"
                    },
                    "metadata": {}
                }
            ],
            "execution_count": 18
        },
        {
            "cell_type": "markdown",
            "source": [
                "Jelenítsük meg, hogy az egyes szálláshelyeken összesen hány foglalás történt!\n",
                "\n",
                "a. Csak a szálláshely neve és a foglalásszám jelenjen meg\n",
                "\n",
                "b. Azok a szálláshelyek is jelenjenek meg, ahol nem történt foglalás (ha vannak ilyenek)"
            ],
            "metadata": {
                "azdata_cell_guid": "5eccea45-9432-4ea9-891a-5324b91ccbe5"
            },
            "attachments": {}
        },
        {
            "cell_type": "code",
            "source": [
                "select  count(*)\r\n",
                "from Szoba sz join Szallashely szh on sz.SZALLAS_FK = szh.SZALLAS_ID\r\n",
                "    left join Foglalas f on sz.SZOBA_ID = f.SZOBA_FK\r\n",
                "group by SZALLAS_FK\r\n",
                "\r\n",
                "UNION\r\n",
                "\r\n",
                "select SZALLAS_NEV\r\n",
                "from Szallashely szh\r\n",
                "group by szh.SZALLAS_NEV\r\n",
                "\r\n",
                "                    "
            ],
            "metadata": {
                "azdata_cell_guid": "be7c6846-4039-49c4-ad6e-906c02162d12",
                "language": "sql"
            },
            "outputs": [
                {
                    "output_type": "display_data",
                    "data": {
                        "text/html": "Total execution time: 00:00:00.007"
                    },
                    "metadata": {}
                },
                {
                    "output_type": "execute_result",
                    "metadata": {},
                    "execution_count": 33,
                    "data": {
                        "application/vnd.dataresource+json": {
                            "schema": {
                                "fields": [
                                    {
                                        "name": "(No column name)"
                                    }
                                ]
                            },
                            "data": []
                        },
                        "text/html": [
                            "<table>",
                            "<tr><th>(No column name)</th></tr>",
                            "</table>"
                        ]
                    }
                },
                {
                    "output_type": "error",
                    "evalue": "Msg 245, Level 16, State 1, Line 1\r\nConversion failed when converting the nvarchar value 'Bagoly Hotel' to data type int.",
                    "ename": "",
                    "traceback": []
                }
            ],
            "execution_count": 33
        },
        {
            "cell_type": "markdown",
            "source": [
                ""
            ],
            "metadata": {
                "azdata_cell_guid": "fcd6b76a-51af-44bb-9501-7409ee72f1f5"
            }
        }
    ]
}