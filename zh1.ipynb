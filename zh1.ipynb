{
    "metadata": {
        "kernelspec": {
            "name": "SQL",
            "display_name": "SQL",
            "language": "sql"
        },
        "language_info": {
            "name": "sql",
            "version": ""
        }
    },
    "nbformat_minor": 2,
    "nbformat": 4,
    "cells": [
        {
            "cell_type": "markdown",
            "source": [
                "Listázzuk azon vendégek nevét és email-címét, akik az 1990-es év második felében születtek! \n",
                "\n",
                "a. Rendezzük a listát a születés hónapja szerint növekvő sorrendbe!"
            ],
            "metadata": {
                "azdata_cell_guid": "a2e6b019-5923-4cdc-bc98-76a9817368b8"
            },
            "attachments": {}
        },
        {
            "cell_type": "code",
            "source": [
                "Select NEV, EMAIL, SZUL_DAT\r\n",
                "from Vendeg\r\n",
                "where YEAR(SZUL_DAT)=1990 and MONTH(SZUL_DAT)>6\r\n",
                "order by MONTH(SZUL_DAT) ASC"
            ],
            "metadata": {
                "azdata_cell_guid": "24f9fdd8-79fa-45d6-b7de-81b336ae9f67",
                "language": "sql"
            },
            "outputs": [
                {
                    "output_type": "display_data",
                    "data": {
                        "text/html": "(4 rows affected)"
                    },
                    "metadata": {}
                },
                {
                    "output_type": "display_data",
                    "data": {
                        "text/html": "Total execution time: 00:00:00.004"
                    },
                    "metadata": {}
                },
                {
                    "output_type": "execute_result",
                    "metadata": {},
                    "execution_count": 6,
                    "data": {
                        "application/vnd.dataresource+json": {
                            "schema": {
                                "fields": [
                                    {
                                        "name": "NEV"
                                    },
                                    {
                                        "name": "EMAIL"
                                    },
                                    {
                                        "name": "SZUL_DAT"
                                    }
                                ]
                            },
                            "data": [
                                {
                                    "NEV": "Bodor Szabolcs",
                                    "EMAIL": "szabolcs.bodor@mail.hu",
                                    "SZUL_DAT": "1990-07-16"
                                },
                                {
                                    "NEV": "Bosnyák Ilona",
                                    "EMAIL": "ilona3@gmail.com",
                                    "SZUL_DAT": "1990-08-06"
                                },
                                {
                                    "NEV": "Szabó Julianna",
                                    "EMAIL": "julianna4@gmail.com",
                                    "SZUL_DAT": "1990-09-29"
                                },
                                {
                                    "NEV": "Berta Dávid",
                                    "EMAIL": "david4@gmail.com",
                                    "SZUL_DAT": "1990-10-08"
                                }
                            ]
                        },
                        "text/html": [
                            "<table>",
                            "<tr><th>NEV</th><th>EMAIL</th><th>SZUL_DAT</th></tr>",
                            "<tr><td>Bodor Szabolcs</td><td>szabolcs.bodor@mail.hu</td><td>1990-07-16</td></tr>",
                            "<tr><td>Bosnyák Ilona</td><td>ilona3@gmail.com</td><td>1990-08-06</td></tr>",
                            "<tr><td>Szabó Julianna</td><td>julianna4@gmail.com</td><td>1990-09-29</td></tr>",
                            "<tr><td>Berta Dávid</td><td>david4@gmail.com</td><td>1990-10-08</td></tr>",
                            "</table>"
                        ]
                    }
                }
            ],
            "execution_count": 6
        }
    ]
}