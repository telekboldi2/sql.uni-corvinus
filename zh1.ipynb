{
    "metadata": {
        "kernelspec": {
            "name": "SQL",
            "display_name": "SQL",
            "language": "sql"
        },
        "language_info": {
            "name": "sql",
            "version": ""
        }
    },
    "nbformat_minor": 2,
    "nbformat": 4,
    "cells": [
        {
            "cell_type": "code",
            "source": [
                "dawdawdawdawda"
            ],
            "metadata": {
                "azdata_cell_guid": "bc1db19e-d88a-4c89-a8c4-6201942a7f4c",
                "language": "sql"
            },
            "outputs": [],
            "execution_count": null
        }
    ]
}