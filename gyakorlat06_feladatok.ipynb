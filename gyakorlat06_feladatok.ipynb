{
    "metadata": {
        "kernelspec": {
            "name": "SQL",
            "display_name": "SQL",
            "language": "sql"
        },
        "language_info": {
            "name": "sql",
            "version": ""
        }
    },
    "nbformat_minor": 2,
    "nbformat": 4,
    "cells": [
        {
            "cell_type": "markdown",
            "source": [
                "1. <span style=\"background-color: rgb(255, 255, 255); color: rgb(0, 0, 0); font-family: &quot;Open Sans&quot;, sans-serif; font-size: 14.44px;\">Készítsünk sorszámozott listát a szálláshelyek adatairól!&nbsp;</span> \n",
                "\n",
                "a. A lista legyen a szálláshely típusa szerint, azon belül hely szerint, majd a neve szerint növekvően rendezve! \n",
                "\n",
                "b. A számozás típusonként kezdődjön újra!"
            ],
            "metadata": {
                "azdata_cell_guid": "363cd270-6577-449b-9c89-d4b7c7972d52"
            },
            "attachments": {}
        },
        {
            "cell_type": "code",
            "source": [
                "Select  row_number() over(\r\n",
                "            PARTITION BY tipus\r\n",
                ") as 'sorszám',\r\n",
                "        *\r\n",
                "from szallashely"
            ],
            "metadata": {
                "azdata_cell_guid": "6ab9f633-a3b5-48c9-a1dc-4fb8235ae85b",
                "language": "sql"
            },
            "outputs": [
                {
                    "output_type": "display_data",
                    "data": {
                        "text/html": "(21 rows affected)"
                    },
                    "metadata": {}
                },
                {
                    "output_type": "display_data",
                    "data": {
                        "text/html": "Total execution time: 00:00:00.045"
                    },
                    "metadata": {}
                },
                {
                    "output_type": "execute_result",
                    "metadata": {},
                    "execution_count": 1,
                    "data": {
                        "application/vnd.dataresource+json": {
                            "schema": {
                                "fields": [
                                    {
                                        "name": "sorszám"
                                    },
                                    {
                                        "name": "SZALLAS_ID"
                                    },
                                    {
                                        "name": "SZALLAS_NEV"
                                    },
                                    {
                                        "name": "HELY"
                                    },
                                    {
                                        "name": "CSILLAGOK_SZAMA"
                                    },
                                    {
                                        "name": "TIPUS"
                                    },
                                    {
                                        "name": "ROGZITETTE"
                                    },
                                    {
                                        "name": "ROGZ_IDO"
                                    },
                                    {
                                        "name": "CIM"
                                    }
                                ]
                            },
                            "data": [
                                {
                                    "sorszám": "1",
                                    "SZALLAS_ID": "7",
                                    "SZALLAS_NEV": "Szieszta Apartmanház",
                                    "HELY": "Balaton-dél",
                                    "CSILLAGOK_SZAMA": "0",
                                    "TIPUS": "Apartman",
                                    "ROGZITETTE": "Mari",
                                    "ROGZ_IDO": "2016-03-11",
                                    "CIM": "8630 Balatonboglár, Dózsa György utca 108"
                                },
                                {
                                    "sorszám": "2",
                                    "SZALLAS_ID": "18",
                                    "SZALLAS_NEV": "Fortuna Apartman",
                                    "HELY": "Dél-Somogy",
                                    "CSILLAGOK_SZAMA": "0",
                                    "TIPUS": "Apartman",
                                    "ROGZITETTE": "Béla",
                                    "ROGZ_IDO": "2016-04-07",
                                    "CIM": "7570 Barcs, Kossuth u. 13."
                                },
                                {
                                    "sorszám": "3",
                                    "SZALLAS_ID": "3",
                                    "SZALLAS_NEV": "Fortuna Apartman",
                                    "HELY": "Hajdúbihar megye",
                                    "CSILLAGOK_SZAMA": "0",
                                    "TIPUS": "Apartman",
                                    "ROGZITETTE": "Sára",
                                    "ROGZ_IDO": "2016-03-06",
                                    "CIM": "4200 Hajdúszoboszló, Wesselényi utca 56."
                                },
                                {
                                    "sorszám": "1",
                                    "SZALLAS_ID": "20",
                                    "SZALLAS_NEV": "Kollégium",
                                    "HELY": "Budapest",
                                    "CSILLAGOK_SZAMA": "0",
                                    "TIPUS": "Diákszálló",
                                    "ROGZITETTE": "Sára",
                                    "ROGZ_IDO": "2016-04-07",
                                    "CIM": "1146 Budapest, Ajtósi Dürer sor 23."
                                },
                                {
                                    "sorszám": "1",
                                    "SZALLAS_ID": "8",
                                    "SZALLAS_NEV": "Hotel Három Hattyú",
                                    "HELY": "Balaton-dél",
                                    "CSILLAGOK_SZAMA": "4",
                                    "TIPUS": "Hotel",
                                    "ROGZITETTE": "Béla",
                                    "ROGZ_IDO": "2016-03-13",
                                    "CIM": "8623 Balatonföldvár, Rákóczi Ferenc út 45."
                                },
                                {
                                    "sorszám": "2",
                                    "SZALLAS_ID": "6",
                                    "SZALLAS_NEV": "Kentaur Hotel",
                                    "HELY": "Balaton-dél",
                                    "CSILLAGOK_SZAMA": "3",
                                    "TIPUS": "Hotel",
                                    "ROGZITETTE": "Béla",
                                    "ROGZ_IDO": "2016-03-08",
                                    "CIM": "8600 Siófok (Széplak), Akácfa utca 1"
                                },
                                {
                                    "sorszám": "3",
                                    "SZALLAS_ID": "12",
                                    "SZALLAS_NEV": "Gold Hotel",
                                    "HELY": "Budapest",
                                    "CSILLAGOK_SZAMA": "3",
                                    "TIPUS": "Hotel",
                                    "ROGZITETTE": "Béla",
                                    "ROGZ_IDO": "2016-03-24",
                                    "CIM": "1016 Budapest, Hegyalja út 12"
                                },
                                {
                                    "sorszám": "4",
                                    "SZALLAS_ID": "10",
                                    "SZALLAS_NEV": "Lagúna Hotel",
                                    "HELY": "Budapest",
                                    "CSILLAGOK_SZAMA": "4",
                                    "TIPUS": "Hotel",
                                    "ROGZITETTE": "Sára",
                                    "ROGZ_IDO": "2016-03-20",
                                    "CIM": "1097 Budapest, Albert Flórián út 3"
                                },
                                {
                                    "sorszám": "5",
                                    "SZALLAS_ID": "16",
                                    "SZALLAS_NEV": "Bagoly Hotel",
                                    "HELY": "Pest megye",
                                    "CSILLAGOK_SZAMA": "3",
                                    "TIPUS": "Hotel",
                                    "ROGZITETTE": "Mari",
                                    "ROGZ_IDO": "2016-04-01",
                                    "CIM": "2230 Gyömrő, Bergszász u. 5."
                                },
                                {
                                    "sorszám": "6",
                                    "SZALLAS_ID": "17",
                                    "SZALLAS_NEV": "Szarvas Hotel",
                                    "HELY": "Tolna megye",
                                    "CSILLAGOK_SZAMA": "4",
                                    "TIPUS": "Hotel",
                                    "ROGZITETTE": "Béla",
                                    "ROGZ_IDO": "2016-04-04",
                                    "CIM": "7121 Szálka, Petőfi Sándor u."
                                },
                                {
                                    "sorszám": "1",
                                    "SZALLAS_ID": "9",
                                    "SZALLAS_NEV": "Jáde panzió",
                                    "HELY": "Balaton-dél",
                                    "CSILLAGOK_SZAMA": "3",
                                    "TIPUS": "panzió",
                                    "ROGZITETTE": "Mari",
                                    "ROGZ_IDO": "2016-03-16",
                                    "CIM": "8624 Balatonföldvár, Kiss u.2."
                                },
                                {
                                    "sorszám": "2",
                                    "SZALLAS_ID": "15",
                                    "SZALLAS_NEV": "Tímárház Panzió",
                                    "HELY": "Balaton-dél",
                                    "CSILLAGOK_SZAMA": "3",
                                    "TIPUS": "panzió",
                                    "ROGZITETTE": "Béla",
                                    "ROGZ_IDO": "2016-03-29",
                                    "CIM": "8600 Siófok, Virág utca 1"
                                },
                                {
                                    "sorszám": "3",
                                    "SZALLAS_ID": "5",
                                    "SZALLAS_NEV": "Fortuna Panzió",
                                    "HELY": "Békés megye",
                                    "CSILLAGOK_SZAMA": "3",
                                    "TIPUS": "panzió",
                                    "ROGZITETTE": "Sára",
                                    "ROGZ_IDO": "2016-03-08",
                                    "CIM": "5900 Orosháza, Gyopárosfürdő Tópart utca 3."
                                },
                                {
                                    "sorszám": "4",
                                    "SZALLAS_ID": "4",
                                    "SZALLAS_NEV": "Fortuna panzió",
                                    "HELY": "Budapest",
                                    "CSILLAGOK_SZAMA": "3",
                                    "TIPUS": "panzió",
                                    "ROGZITETTE": "Béla",
                                    "ROGZ_IDO": "2016-03-07",
                                    "CIM": "1019 Budapest XIV. Cinkotai út 86."
                                },
                                {
                                    "sorszám": "5",
                                    "SZALLAS_ID": "13",
                                    "SZALLAS_NEV": "Riviéra Panzió",
                                    "HELY": "Csongrád megye",
                                    "CSILLAGOK_SZAMA": "3",
                                    "TIPUS": "panzió",
                                    "ROGZITETTE": "Sára",
                                    "ROGZ_IDO": "2016-03-27",
                                    "CIM": "6722 Szeged, Petőfi Sándor út 3."
                                },
                                {
                                    "sorszám": "1",
                                    "SZALLAS_ID": "2",
                                    "SZALLAS_NEV": "Családi Ház",
                                    "HELY": "Balaton-dél",
                                    "CSILLAGOK_SZAMA": "0",
                                    "TIPUS": "vendégház",
                                    "ROGZITETTE": "Béla",
                                    "ROGZ_IDO": "2016-03-02",
                                    "CIM": "8630 Balatonboglár, József Attila utca 25"
                                },
                                {
                                    "sorszám": "2",
                                    "SZALLAS_ID": "1",
                                    "SZALLAS_NEV": "Sába-Ház",
                                    "HELY": "Balaton-dél",
                                    "CSILLAGOK_SZAMA": "0",
                                    "TIPUS": "vendégház",
                                    "ROGZITETTE": "Béla",
                                    "ROGZ_IDO": "2016-02-28",
                                    "CIM": "8630 Balatonboglár, Radnóti Miklós utca 8"
                                },
                                {
                                    "sorszám": "3",
                                    "SZALLAS_ID": "11",
                                    "SZALLAS_NEV": "Partiszél Vendégház",
                                    "HELY": "Balaton-észak",
                                    "CSILLAGOK_SZAMA": "0",
                                    "TIPUS": "vendégház",
                                    "ROGZITETTE": "Béla",
                                    "ROGZ_IDO": "2016-03-22",
                                    "CIM": "8220 Balatonalmádi Neptun u. 23."
                                },
                                {
                                    "sorszám": "4",
                                    "SZALLAS_ID": "14",
                                    "SZALLAS_NEV": "Nyárfás Vendégház",
                                    "HELY": "Csongrád megye",
                                    "CSILLAGOK_SZAMA": "0",
                                    "TIPUS": "vendégház",
                                    "ROGZITETTE": "Béla",
                                    "ROGZ_IDO": "2016-03-27",
                                    "CIM": "6723 Szeged, Nagy u. 12."
                                },
                                {
                                    "sorszám": "5",
                                    "SZALLAS_ID": "21",
                                    "SZALLAS_NEV": "Müller Vendégház",
                                    "HELY": "Dél-Somogy",
                                    "CSILLAGOK_SZAMA": "0",
                                    "TIPUS": "vendégház",
                                    "ROGZITETTE": "Béla",
                                    "ROGZ_IDO": "2016-04-07",
                                    "CIM": "7570 Barcs, Magyar u. 10."
                                },
                                {
                                    "sorszám": "6",
                                    "SZALLAS_ID": "19",
                                    "SZALLAS_NEV": "Nyárfás Vendégház",
                                    "HELY": "Dél-Somogy",
                                    "CSILLAGOK_SZAMA": "0",
                                    "TIPUS": "vendégház",
                                    "ROGZITETTE": "Sára",
                                    "ROGZ_IDO": "2016-04-07",
                                    "CIM": "7570 Barcs, Bajcsy-Zs. u. 53"
                                }
                            ]
                        },
                        "text/html": [
                            "<table>",
                            "<tr><th>sorszám</th><th>SZALLAS_ID</th><th>SZALLAS_NEV</th><th>HELY</th><th>CSILLAGOK_SZAMA</th><th>TIPUS</th><th>ROGZITETTE</th><th>ROGZ_IDO</th><th>CIM</th></tr>",
                            "<tr><td>1</td><td>7</td><td>Szieszta Apartmanház</td><td>Balaton-dél</td><td>0</td><td>Apartman</td><td>Mari</td><td>2016-03-11</td><td>8630 Balatonboglár, Dózsa György utca 108</td></tr>",
                            "<tr><td>2</td><td>18</td><td>Fortuna Apartman</td><td>Dél-Somogy</td><td>0</td><td>Apartman</td><td>Béla</td><td>2016-04-07</td><td>7570 Barcs, Kossuth u. 13.</td></tr>",
                            "<tr><td>3</td><td>3</td><td>Fortuna Apartman</td><td>Hajdúbihar megye</td><td>0</td><td>Apartman</td><td>Sára</td><td>2016-03-06</td><td>4200 Hajdúszoboszló, Wesselényi utca 56.</td></tr>",
                            "<tr><td>1</td><td>20</td><td>Kollégium</td><td>Budapest</td><td>0</td><td>Diákszálló</td><td>Sára</td><td>2016-04-07</td><td>1146 Budapest, Ajtósi Dürer sor 23.</td></tr>",
                            "<tr><td>1</td><td>8</td><td>Hotel Három Hattyú</td><td>Balaton-dél</td><td>4</td><td>Hotel</td><td>Béla</td><td>2016-03-13</td><td>8623 Balatonföldvár, Rákóczi Ferenc út 45.</td></tr>",
                            "<tr><td>2</td><td>6</td><td>Kentaur Hotel</td><td>Balaton-dél</td><td>3</td><td>Hotel</td><td>Béla</td><td>2016-03-08</td><td>8600 Siófok (Széplak), Akácfa utca 1</td></tr>",
                            "<tr><td>3</td><td>12</td><td>Gold Hotel</td><td>Budapest</td><td>3</td><td>Hotel</td><td>Béla</td><td>2016-03-24</td><td>1016 Budapest, Hegyalja út 12</td></tr>",
                            "<tr><td>4</td><td>10</td><td>Lagúna Hotel</td><td>Budapest</td><td>4</td><td>Hotel</td><td>Sára</td><td>2016-03-20</td><td>1097 Budapest, Albert Flórián út 3</td></tr>",
                            "<tr><td>5</td><td>16</td><td>Bagoly Hotel</td><td>Pest megye</td><td>3</td><td>Hotel</td><td>Mari</td><td>2016-04-01</td><td>2230 Gyömrő, Bergszász u. 5.</td></tr>",
                            "<tr><td>6</td><td>17</td><td>Szarvas Hotel</td><td>Tolna megye</td><td>4</td><td>Hotel</td><td>Béla</td><td>2016-04-04</td><td>7121 Szálka, Petőfi Sándor u.</td></tr>",
                            "<tr><td>1</td><td>9</td><td>Jáde panzió</td><td>Balaton-dél</td><td>3</td><td>panzió</td><td>Mari</td><td>2016-03-16</td><td>8624 Balatonföldvár, Kiss u.2.</td></tr>",
                            "<tr><td>2</td><td>15</td><td>Tímárház Panzió</td><td>Balaton-dél</td><td>3</td><td>panzió</td><td>Béla</td><td>2016-03-29</td><td>8600 Siófok, Virág utca 1</td></tr>",
                            "<tr><td>3</td><td>5</td><td>Fortuna Panzió</td><td>Békés megye</td><td>3</td><td>panzió</td><td>Sára</td><td>2016-03-08</td><td>5900 Orosháza, Gyopárosfürdő Tópart utca 3.</td></tr>",
                            "<tr><td>4</td><td>4</td><td>Fortuna panzió</td><td>Budapest</td><td>3</td><td>panzió</td><td>Béla</td><td>2016-03-07</td><td>1019 Budapest XIV. Cinkotai út 86.</td></tr>",
                            "<tr><td>5</td><td>13</td><td>Riviéra Panzió</td><td>Csongrád megye</td><td>3</td><td>panzió</td><td>Sára</td><td>2016-03-27</td><td>6722 Szeged, Petőfi Sándor út 3.</td></tr>",
                            "<tr><td>1</td><td>2</td><td>Családi Ház</td><td>Balaton-dél</td><td>0</td><td>vendégház</td><td>Béla</td><td>2016-03-02</td><td>8630 Balatonboglár, József Attila utca 25</td></tr>",
                            "<tr><td>2</td><td>1</td><td>Sába-Ház</td><td>Balaton-dél</td><td>0</td><td>vendégház</td><td>Béla</td><td>2016-02-28</td><td>8630 Balatonboglár, Radnóti Miklós utca 8</td></tr>",
                            "<tr><td>3</td><td>11</td><td>Partiszél Vendégház</td><td>Balaton-észak</td><td>0</td><td>vendégház</td><td>Béla</td><td>2016-03-22</td><td>8220 Balatonalmádi Neptun u. 23.</td></tr>",
                            "<tr><td>4</td><td>14</td><td>Nyárfás Vendégház</td><td>Csongrád megye</td><td>0</td><td>vendégház</td><td>Béla</td><td>2016-03-27</td><td>6723 Szeged, Nagy u. 12.</td></tr>",
                            "<tr><td>5</td><td>21</td><td>Müller Vendégház</td><td>Dél-Somogy</td><td>0</td><td>vendégház</td><td>Béla</td><td>2016-04-07</td><td>7570 Barcs, Magyar u. 10.</td></tr>",
                            "<tr><td>6</td><td>19</td><td>Nyárfás Vendégház</td><td>Dél-Somogy</td><td>0</td><td>vendégház</td><td>Sára</td><td>2016-04-07</td><td>7570 Barcs, Bajcsy-Zs. u. 53</td></tr>",
                            "</table>"
                        ]
                    }
                }
            ],
            "execution_count": 1
        },
        {
            "cell_type": "markdown",
            "source": [
                "2. <span style=\"background-color: rgb(255, 255, 255); color: rgb(0, 0, 0); font-family: &quot;Open Sans&quot;, sans-serif; font-size: 14.44px;\">Készítsünk lekérdezést, amely a foglalások adatait jeleníti meg!&nbsp;</span> \n",
                "\n",
                "a. A lista tartalmazzon két új oszlopot, amelyek az adott ügyfél legrövidebb, illetve leghosszabb foglalásának hosszát (a foglalt napok számát) mutatják meg! \n",
                "\n",
                "b. Az oszlopokat nevezzük el értelemszerűen!"
            ],
            "metadata": {
                "azdata_cell_guid": "ea75c103-911f-41a3-a32c-3d40fb3e4e4a"
            },
            "attachments": {}
        },
        {
            "cell_type": "code",
            "source": [
                ""
            ],
            "metadata": {
                "azdata_cell_guid": "222b9618-a8e8-42b4-a8e8-d002257122b7",
                "language": "sql"
            },
            "outputs": [],
            "execution_count": null
        },
        {
            "cell_type": "markdown",
            "source": [
                "```\n",
                "3. Készítsük listát, amely megjeleníti az ügyfelek azonosítóját, nevét és a foglalásainak kezdő- és befejező dátumát, valamint azt, hogy a foglalás összesen hány főre történt! \n",
                "```\n",
                "\n",
                "a. Egy új oszlopban jelenítsük meg azt is, hogy az ügyfél előző három foglalása összesen hány főre történt!\n",
                "\n",
                "![](https://moodle.uni-corvinus.hu/theme/image.php/adaptable/atto_h5p/1709548862/icon)"
            ],
            "metadata": {
                "azdata_cell_guid": "d7876bb9-76d0-4d07-baed-3cb17b2f96c3"
            },
            "attachments": {}
        },
        {
            "cell_type": "code",
            "source": [
                ""
            ],
            "metadata": {
                "azdata_cell_guid": "56ec19ce-e249-4551-b2a8-f17569765acc",
                "language": "sql"
            },
            "outputs": [],
            "execution_count": null
        },
        {
            "cell_type": "markdown",
            "source": [
                "4. <span style=\"background-color: rgb(255, 255, 255); color: rgb(0, 0, 0); font-family: &quot;Open Sans&quot;, sans-serif; font-size: 14.44px;\">Készítsünk listát arról, hogy az egyes szálláshelyeken évente hány foglalás történt!&nbsp;</span> \n",
                "\n",
                "a. A lista jelenítse meg a szálláshely azonosítóját, nevét, az évet, és a foglalások számát!\n",
                "\n",
                "b. Egy új oszlopban jelenítsük meg a szálláshely eddigi éves foglalásainak számát is (az aktuálisat is beleértve). \n",
                "\n",
                "c. Az évnél a METTOL dátumot vegyük figyelembe! \n",
                "\n",
                "d. A lista ne tartalmazzon duplikált sorokat!"
            ],
            "metadata": {
                "azdata_cell_guid": "8e7fef82-8022-49a0-8255-fc2846c2134b"
            },
            "attachments": {}
        },
        {
            "cell_type": "code",
            "source": [
                "SELECT distinct szh.SZALLAS_ID,YEAR(f.METTOL), count(*) over(partition by szh.SZALLAS_ID, YEAR(f.METTOL)),    \r\n",
                "                -- eddigi foglalásk száma\r\n",
                "                COUNT(*) over(partition by szh.szallas_id, year(f.METTOL)\r\n",
                "                                order by f.mettol\r\n",
                "                                range between unbounded preceding AND current ROW)\r\n",
                "FROM Szallashely szh join szoba sz on szh.SZALLAS_ID=sz.SZALLAS_FK\r\n",
                "                    join Foglalas f on sz.SZOBA_ID=f.SZOBA_FK"
            ],
            "metadata": {
                "azdata_cell_guid": "36f7b396-4a1f-45e5-8720-2302537c91bc",
                "language": "sql"
            },
            "outputs": [
                {
                    "output_type": "display_data",
                    "data": {
                        "text/html": "(811 rows affected)"
                    },
                    "metadata": {}
                },
                {
                    "output_type": "display_data",
                    "data": {
                        "text/html": "Total execution time: 00:00:00.036"
                    },
                    "metadata": {}
                },
                {
                    "output_type": "execute_result",
                    "metadata": {},
                    "execution_count": 2,
                    "data": {
                        "application/vnd.dataresource+json": {
                            "schema": {
                                "fields": [
                                    {
                                        "name": "SZALLAS_ID"
                                    },
                                    {
                                        "name": "(No column name)"
                                    },
                                    {
                                        "name": "(No column name)"
                                    },
                                    {
                                        "name": "(No column name)"
                                    }
                                ]
                            },
                            "data": [
                                {
                                    "SZALLAS_ID": "3",
                                    "(No column name)": "31"
                                },
                                {
                                    "SZALLAS_ID": "6",
                                    "(No column name)": "44"
                                },
                                {
                                    "SZALLAS_ID": "6",
                                    "(No column name)": "20"
                                },
                                {
                                    "SZALLAS_ID": "8",
                                    "(No column name)": "80"
                                },
                                {
                                    "SZALLAS_ID": "12",
                                    "(No column name)": "12"
                                },
                                {
                                    "SZALLAS_ID": "8",
                                    "(No column name)": "32"
                                },
                                {
                                    "SZALLAS_ID": "10",
                                    "(No column name)": "12"
                                },
                                {
                                    "SZALLAS_ID": "2",
                                    "(No column name)": "7"
                                },
                                {
                                    "SZALLAS_ID": "7",
                                    "(No column name)": "23"
                                },
                                {
                                    "SZALLAS_ID": "12",
                                    "(No column name)": "18"
                                },
                                {
                                    "SZALLAS_ID": "1",
                                    "(No column name)": "1"
                                },
                                {
                                    "SZALLAS_ID": "3",
                                    "(No column name)": "8"
                                },
                                {
                                    "SZALLAS_ID": "5",
                                    "(No column name)": "32"
                                },
                                {
                                    "SZALLAS_ID": "6",
                                    "(No column name)": "136"
                                },
                                {
                                    "SZALLAS_ID": "9",
                                    "(No column name)": "23"
                                },
                                {
                                    "SZALLAS_ID": "10",
                                    "(No column name)": "47"
                                },
                                {
                                    "SZALLAS_ID": "5",
                                    "(No column name)": "9"
                                },
                                {
                                    "SZALLAS_ID": "6",
                                    "(No column name)": "113"
                                },
                                {
                                    "SZALLAS_ID": "8",
                                    "(No column name)": "155"
                                },
                                {
                                    "SZALLAS_ID": "10",
                                    "(No column name)": "70"
                                },
                                {
                                    "SZALLAS_ID": "2",
                                    "(No column name)": "1"
                                },
                                {
                                    "SZALLAS_ID": "8",
                                    "(No column name)": "27"
                                },
                                {
                                    "SZALLAS_ID": "10",
                                    "(No column name)": "16"
                                },
                                {
                                    "SZALLAS_ID": "6",
                                    "(No column name)": "67"
                                },
                                {
                                    "SZALLAS_ID": "8",
                                    "(No column name)": "103"
                                },
                                {
                                    "SZALLAS_ID": "8",
                                    "(No column name)": "4"
                                },
                                {
                                    "SZALLAS_ID": "6",
                                    "(No column name)": "50"
                                },
                                {
                                    "SZALLAS_ID": "6",
                                    "(No column name)": "144"
                                },
                                {
                                    "SZALLAS_ID": "7",
                                    "(No column name)": "4"
                                },
                                {
                                    "SZALLAS_ID": "8",
                                    "(No column name)": "26"
                                },
                                {
                                    "SZALLAS_ID": "9",
                                    "(No column name)": "2"
                                },
                                {
                                    "SZALLAS_ID": "5",
                                    "(No column name)": "1"
                                },
                                {
                                    "SZALLAS_ID": "10",
                                    "(No column name)": "87"
                                },
                                {
                                    "SZALLAS_ID": "4",
                                    "(No column name)": "8"
                                },
                                {
                                    "SZALLAS_ID": "6",
                                    "(No column name)": "61"
                                },
                                {
                                    "SZALLAS_ID": "8",
                                    "(No column name)": "72"
                                },
                                {
                                    "SZALLAS_ID": "8",
                                    "(No column name)": "109"
                                },
                                {
                                    "SZALLAS_ID": "8",
                                    "(No column name)": "10"
                                },
                                {
                                    "SZALLAS_ID": "10",
                                    "(No column name)": "24"
                                },
                                {
                                    "SZALLAS_ID": "12",
                                    "(No column name)": "41"
                                },
                                {
                                    "SZALLAS_ID": "5",
                                    "(No column name)": "38"
                                },
                                {
                                    "SZALLAS_ID": "4",
                                    "(No column name)": "48"
                                },
                                {
                                    "SZALLAS_ID": "4",
                                    "(No column name)": "54"
                                },
                                {
                                    "SZALLAS_ID": "4",
                                    "(No column name)": "11"
                                },
                                {
                                    "SZALLAS_ID": "6",
                                    "(No column name)": "107"
                                },
                                {
                                    "SZALLAS_ID": "10",
                                    "(No column name)": "76"
                                },
                                {
                                    "SZALLAS_ID": "12",
                                    "(No column name)": "81"
                                },
                                {
                                    "SZALLAS_ID": "6",
                                    "(No column name)": "4"
                                },
                                {
                                    "SZALLAS_ID": "12",
                                    "(No column name)": "12"
                                },
                                {
                                    "SZALLAS_ID": "1",
                                    "(No column name)": "7"
                                },
                                {
                                    "SZALLAS_ID": "3",
                                    "(No column name)": "2"
                                },
                                {
                                    "SZALLAS_ID": "4",
                                    "(No column name)": "2"
                                },
                                {
                                    "SZALLAS_ID": "10",
                                    "(No column name)": "30"
                                },
                                {
                                    "SZALLAS_ID": "12",
                                    "(No column name)": "35"
                                },
                                {
                                    "SZALLAS_ID": "5",
                                    "(No column name)": "41"
                                },
                                {
                                    "SZALLAS_ID": "10",
                                    "(No column name)": "56"
                                },
                                {
                                    "SZALLAS_ID": "12",
                                    "(No column name)": "95"
                                },
                                {
                                    "SZALLAS_ID": "6",
                                    "(No column name)": "150"
                                },
                                {
                                    "SZALLAS_ID": "7",
                                    "(No column name)": "12"
                                },
                                {
                                    "SZALLAS_ID": "8",
                                    "(No column name)": "20"
                                },
                                {
                                    "SZALLAS_ID": "1",
                                    "(No column name)": "4"
                                },
                                {
                                    "SZALLAS_ID": "6",
                                    "(No column name)": "10"
                                },
                                {
                                    "SZALLAS_ID": "8",
                                    "(No column name)": "46"
                                },
                                {
                                    "SZALLAS_ID": "9",
                                    "(No column name)": "6"
                                },
                                {
                                    "SZALLAS_ID": "5",
                                    "(No column name)": "6"
                                },
                                {
                                    "SZALLAS_ID": "6",
                                    "(No column name)": "29"
                                },
                                {
                                    "SZALLAS_ID": "12",
                                    "(No column name)": "21"
                                },
                                {
                                    "SZALLAS_ID": "4",
                                    "(No column name)": "5"
                                },
                                {
                                    "SZALLAS_ID": "12",
                                    "(No column name)": "44"
                                },
                                {
                                    "SZALLAS_ID": "12",
                                    "(No column name)": "1"
                                },
                                {
                                    "SZALLAS_ID": "12",
                                    "(No column name)": "144"
                                },
                                {
                                    "SZALLAS_ID": "12",
                                    "(No column name)": "24"
                                },
                                {
                                    "SZALLAS_ID": "6",
                                    "(No column name)": "3"
                                },
                                {
                                    "SZALLAS_ID": "12",
                                    "(No column name)": "72"
                                },
                                {
                                    "SZALLAS_ID": "12",
                                    "(No column name)": "121"
                                },
                                {
                                    "SZALLAS_ID": "4",
                                    "(No column name)": "22"
                                },
                                {
                                    "SZALLAS_ID": "4",
                                    "(No column name)": "34"
                                },
                                {
                                    "SZALLAS_ID": "8",
                                    "(No column name)": "3"
                                },
                                {
                                    "SZALLAS_ID": "10",
                                    "(No column name)": "50"
                                },
                                {
                                    "SZALLAS_ID": "11",
                                    "(No column name)": "17"
                                },
                                {
                                    "SZALLAS_ID": "12",
                                    "(No column name)": "101"
                                },
                                {
                                    "SZALLAS_ID": "7",
                                    "(No column name)": "6"
                                },
                                {
                                    "SZALLAS_ID": "2",
                                    "(No column name)": "5"
                                },
                                {
                                    "SZALLAS_ID": "3",
                                    "(No column name)": "4"
                                },
                                {
                                    "SZALLAS_ID": "7",
                                    "(No column name)": "20"
                                },
                                {
                                    "SZALLAS_ID": "10",
                                    "(No column name)": "1"
                                },
                                {
                                    "SZALLAS_ID": "10",
                                    "(No column name)": "13"
                                },
                                {
                                    "SZALLAS_ID": "12",
                                    "(No column name)": "52"
                                },
                                {
                                    "SZALLAS_ID": "12",
                                    "(No column name)": "64"
                                },
                                {
                                    "SZALLAS_ID": "1",
                                    "(No column name)": "18"
                                },
                                {
                                    "SZALLAS_ID": "1",
                                    "(No column name)": "30"
                                },
                                {
                                    "SZALLAS_ID": "6",
                                    "(No column name)": "73"
                                },
                                {
                                    "SZALLAS_ID": "8",
                                    "(No column name)": "146"
                                },
                                {
                                    "SZALLAS_ID": "10",
                                    "(No column name)": "15"
                                },
                                {
                                    "SZALLAS_ID": "3",
                                    "(No column name)": "22"
                                },
                                {
                                    "SZALLAS_ID": "3",
                                    "(No column name)": "28"
                                },
                                {
                                    "SZALLAS_ID": "6",
                                    "(No column name)": "124"
                                },
                                {
                                    "SZALLAS_ID": "6",
                                    "(No column name)": "130"
                                },
                                {
                                    "SZALLAS_ID": "8",
                                    "(No column name)": "95"
                                },
                                {
                                    "SZALLAS_ID": "12",
                                    "(No column name)": "9"
                                },
                                {
                                    "SZALLAS_ID": "12",
                                    "(No column name)": "15"
                                },
                                {
                                    "SZALLAS_ID": "8",
                                    "(No column name)": "40"
                                },
                                {
                                    "SZALLAS_ID": "10",
                                    "(No column name)": "7"
                                },
                                {
                                    "SZALLAS_ID": "12",
                                    "(No column name)": "58"
                                },
                                {
                                    "SZALLAS_ID": "1",
                                    "(No column name)": "24"
                                },
                                {
                                    "SZALLAS_ID": "6",
                                    "(No column name)": "30"
                                },
                                {
                                    "SZALLAS_ID": "9",
                                    "(No column name)": "12"
                                },
                                {
                                    "SZALLAS_ID": "10",
                                    "(No column name)": "9"
                                },
                                {
                                    "SZALLAS_ID": "1",
                                    "(No column name)": "38"
                                },
                                {
                                    "SZALLAS_ID": "10",
                                    "(No column name)": "44"
                                },
                                {
                                    "SZALLAS_ID": "11",
                                    "(No column name)": "11"
                                },
                                {
                                    "SZALLAS_ID": "1",
                                    "(No column name)": "4"
                                },
                                {
                                    "SZALLAS_ID": "4",
                                    "(No column name)": "5"
                                },
                                {
                                    "SZALLAS_ID": "8",
                                    "(No column name)": "1"
                                },
                                {
                                    "SZALLAS_ID": "2",
                                    "(No column name)": "4"
                                },
                                {
                                    "SZALLAS_ID": "12",
                                    "(No column name)": "15"
                                },
                                {
                                    "SZALLAS_ID": "8",
                                    "(No column name)": "47"
                                },
                                {
                                    "SZALLAS_ID": "9",
                                    "(No column name)": "5"
                                },
                                {
                                    "SZALLAS_ID": "6",
                                    "(No column name)": "47"
                                },
                                {
                                    "SZALLAS_ID": "6",
                                    "(No column name)": "23"
                                },
                                {
                                    "SZALLAS_ID": "8",
                                    "(No column name)": "6"
                                },
                                {
                                    "SZALLAS_ID": "8",
                                    "(No column name)": "83"
                                },
                                {
                                    "SZALLAS_ID": "3",
                                    "(No column name)": "11"
                                },
                                {
                                    "SZALLAS_ID": "6",
                                    "(No column name)": "64"
                                },
                                {
                                    "SZALLAS_ID": "6",
                                    "(No column name)": "70"
                                },
                                {
                                    "SZALLAS_ID": "8",
                                    "(No column name)": "106"
                                },
                                {
                                    "SZALLAS_ID": "6",
                                    "(No column name)": "93"
                                },
                                {
                                    "SZALLAS_ID": "7",
                                    "(No column name)": "26"
                                },
                                {
                                    "SZALLAS_ID": "8",
                                    "(No column name)": "52"
                                },
                                {
                                    "SZALLAS_ID": "8",
                                    "(No column name)": "129"
                                },
                                {
                                    "SZALLAS_ID": "10",
                                    "(No column name)": "90"
                                },
                                {
                                    "SZALLAS_ID": "12",
                                    "(No column name)": "21"
                                },
                                {
                                    "SZALLAS_ID": "1",
                                    "(No column name)": "61"
                                },
                                {
                                    "SZALLAS_ID": "6",
                                    "(No column name)": "116"
                                },
                                {
                                    "SZALLAS_ID": "7",
                                    "(No column name)": "3"
                                },
                                {
                                    "SZALLAS_ID": "8",
                                    "(No column name)": "29"
                                },
                                {
                                    "SZALLAS_ID": "10",
                                    "(No column name)": "67"
                                },
                                {
                                    "SZALLAS_ID": "11",
                                    "(No column name)": "3"
                                },
                                {
                                    "SZALLAS_ID": "1",
                                    "(No column name)": "44"
                                },
                                {
                                    "SZALLAS_ID": "5",
                                    "(No column name)": "35"
                                },
                                {
                                    "SZALLAS_ID": "5",
                                    "(No column name)": "3"
                                },
                                {
                                    "SZALLAS_ID": "11",
                                    "(No column name)": "5"
                                },
                                {
                                    "SZALLAS_ID": "8",
                                    "(No column name)": "7"
                                },
                                {
                                    "SZALLAS_ID": "10",
                                    "(No column name)": "27"
                                },
                                {
                                    "SZALLAS_ID": "1",
                                    "(No column name)": "7"
                                },
                                {
                                    "SZALLAS_ID": "6",
                                    "(No column name)": "1"
                                },
                                {
                                    "SZALLAS_ID": "8",
                                    "(No column name)": "123"
                                },
                                {
                                    "SZALLAS_ID": "12",
                                    "(No column name)": "138"
                                },
                                {
                                    "SZALLAS_ID": "4",
                                    "(No column name)": "45"
                                },
                                {
                                    "SZALLAS_ID": "4",
                                    "(No column name)": "8"
                                },
                                {
                                    "SZALLAS_ID": "6",
                                    "(No column name)": "147"
                                },
                                {
                                    "SZALLAS_ID": "8",
                                    "(No column name)": "60"
                                },
                                {
                                    "SZALLAS_ID": "10",
                                    "(No column name)": "36"
                                },
                                {
                                    "SZALLAS_ID": "10",
                                    "(No column name)": "73"
                                },
                                {
                                    "SZALLAS_ID": "12",
                                    "(No column name)": "78"
                                },
                                {
                                    "SZALLAS_ID": "1",
                                    "(No column name)": "53"
                                },
                                {
                                    "SZALLAS_ID": "6",
                                    "(No column name)": "53"
                                },
                                {
                                    "SZALLAS_ID": "8",
                                    "(No column name)": "12"
                                },
                                {
                                    "SZALLAS_ID": "3",
                                    "(No column name)": "5"
                                },
                                {
                                    "SZALLAS_ID": "6",
                                    "(No column name)": "101"
                                },
                                {
                                    "SZALLAS_ID": "8",
                                    "(No column name)": "112"
                                },
                                {
                                    "SZALLAS_ID": "12",
                                    "(No column name)": "38"
                                },
                                {
                                    "SZALLAS_ID": "2",
                                    "(No column name)": "10"
                                },
                                {
                                    "SZALLAS_ID": "6",
                                    "(No column name)": "7"
                                },
                                {
                                    "SZALLAS_ID": "8",
                                    "(No column name)": "18"
                                },
                                {
                                    "SZALLAS_ID": "12",
                                    "(No column name)": "9"
                                },
                                {
                                    "SZALLAS_ID": "4",
                                    "(No column name)": "51"
                                },
                                {
                                    "SZALLAS_ID": "6",
                                    "(No column name)": "104"
                                },
                                {
                                    "SZALLAS_ID": "12",
                                    "(No column name)": "84"
                                },
                                {
                                    "SZALLAS_ID": "3",
                                    "(No column name)": "19"
                                },
                                {
                                    "SZALLAS_ID": "5",
                                    "(No column name)": "9"
                                },
                                {
                                    "SZALLAS_ID": "6",
                                    "(No column name)": "127"
                                },
                                {
                                    "SZALLAS_ID": "8",
                                    "(No column name)": "92"
                                },
                                {
                                    "SZALLAS_ID": "1",
                                    "(No column name)": "27"
                                },
                                {
                                    "SZALLAS_ID": "9",
                                    "(No column name)": "9"
                                },
                                {
                                    "SZALLAS_ID": "12",
                                    "(No column name)": "118"
                                },
                                {
                                    "SZALLAS_ID": "10",
                                    "(No column name)": "10"
                                },
                                {
                                    "SZALLAS_ID": "12",
                                    "(No column name)": "141"
                                },
                                {
                                    "SZALLAS_ID": "8",
                                    "(No column name)": "23"
                                },
                                {
                                    "SZALLAS_ID": "12",
                                    "(No column name)": "92"
                                },
                                {
                                    "SZALLAS_ID": "2",
                                    "(No column name)": "2"
                                },
                                {
                                    "SZALLAS_ID": "12",
                                    "(No column name)": "147"
                                },
                                {
                                    "SZALLAS_ID": "4",
                                    "(No column name)": "2"
                                },
                                {
                                    "SZALLAS_ID": "3",
                                    "(No column name)": "25"
                                },
                                {
                                    "SZALLAS_ID": "6",
                                    "(No column name)": "26"
                                },
                                {
                                    "SZALLAS_ID": "8",
                                    "(No column name)": "86"
                                },
                                {
                                    "SZALLAS_ID": "1",
                                    "(No column name)": "21"
                                },
                                {
                                    "SZALLAS_ID": "6",
                                    "(No column name)": "27"
                                },
                                {
                                    "SZALLAS_ID": "8",
                                    "(No column name)": "44"
                                },
                                {
                                    "SZALLAS_ID": "9",
                                    "(No column name)": "3"
                                },
                                {
                                    "SZALLAS_ID": "9",
                                    "(No column name)": "15"
                                },
                                {
                                    "SZALLAS_ID": "10",
                                    "(No column name)": "6"
                                },
                                {
                                    "SZALLAS_ID": "10",
                                    "(No column name)": "18"
                                },
                                {
                                    "SZALLAS_ID": "3",
                                    "(No column name)": "1"
                                },
                                {
                                    "SZALLAS_ID": "6",
                                    "(No column name)": "84"
                                },
                                {
                                    "SZALLAS_ID": "8",
                                    "(No column name)": "49"
                                },
                                {
                                    "SZALLAS_ID": "8",
                                    "(No column name)": "135"
                                },
                                {
                                    "SZALLAS_ID": "10",
                                    "(No column name)": "96"
                                },
                                {
                                    "SZALLAS_ID": "5",
                                    "(No column name)": "12"
                                },
                                {
                                    "SZALLAS_ID": "5",
                                    "(No column name)": "24"
                                },
                                {
                                    "SZALLAS_ID": "7",
                                    "(No column name)": "9"
                                },
                                {
                                    "SZALLAS_ID": "4",
                                    "(No column name)": "25"
                                },
                                {
                                    "SZALLAS_ID": "4",
                                    "(No column name)": "31"
                                },
                                {
                                    "SZALLAS_ID": "11",
                                    "(No column name)": "14"
                                },
                                {
                                    "SZALLAS_ID": "8",
                                    "(No column name)": "43"
                                },
                                {
                                    "SZALLAS_ID": "10",
                                    "(No column name)": "4"
                                },
                                {
                                    "SZALLAS_ID": "12",
                                    "(No column name)": "61"
                                },
                                {
                                    "SZALLAS_ID": "5",
                                    "(No column name)": "18"
                                },
                                {
                                    "SZALLAS_ID": "6",
                                    "(No column name)": "115"
                                },
                                {
                                    "SZALLAS_ID": "8",
                                    "(No column name)": "2"
                                },
                                {
                                    "SZALLAS_ID": "6",
                                    "(No column name)": "138"
                                },
                                {
                                    "SZALLAS_ID": "7",
                                    "(No column name)": "25"
                                },
                                {
                                    "SZALLAS_ID": "8",
                                    "(No column name)": "57"
                                },
                                {
                                    "SZALLAS_ID": "8",
                                    "(No column name)": "25"
                                },
                                {
                                    "SZALLAS_ID": "11",
                                    "(No column name)": "10"
                                },
                                {
                                    "SZALLAS_ID": "8",
                                    "(No column name)": "34"
                                },
                                {
                                    "SZALLAS_ID": "12",
                                    "(No column name)": "129"
                                },
                                {
                                    "SZALLAS_ID": "3",
                                    "(No column name)": "33"
                                },
                                {
                                    "SZALLAS_ID": "12",
                                    "(No column name)": "152"
                                },
                                {
                                    "SZALLAS_ID": "12",
                                    "(No column name)": "16"
                                },
                                {
                                    "SZALLAS_ID": "1",
                                    "(No column name)": "35"
                                },
                                {
                                    "SZALLAS_ID": "3",
                                    "(No column name)": "10"
                                },
                                {
                                    "SZALLAS_ID": "5",
                                    "(No column name)": "26"
                                },
                                {
                                    "SZALLAS_ID": "2",
                                    "(No column name)": "3"
                                },
                                {
                                    "SZALLAS_ID": "5",
                                    "(No column name)": "3"
                                },
                                {
                                    "SZALLAS_ID": "6",
                                    "(No column name)": "46"
                                },
                                {
                                    "SZALLAS_ID": "6",
                                    "(No column name)": "24"
                                },
                                {
                                    "SZALLAS_ID": "10",
                                    "(No column name)": "95"
                                },
                                {
                                    "SZALLAS_ID": "6",
                                    "(No column name)": "69"
                                },
                                {
                                    "SZALLAS_ID": "6",
                                    "(No column name)": "1"
                                },
                                {
                                    "SZALLAS_ID": "1",
                                    "(No column name)": "12"
                                },
                                {
                                    "SZALLAS_ID": "8",
                                    "(No column name)": "5"
                                },
                                {
                                    "SZALLAS_ID": "8",
                                    "(No column name)": "128"
                                },
                                {
                                    "SZALLAS_ID": "10",
                                    "(No column name)": "18"
                                },
                                {
                                    "SZALLAS_ID": "4",
                                    "(No column name)": "10"
                                },
                                {
                                    "SZALLAS_ID": "4",
                                    "(No column name)": "9"
                                },
                                {
                                    "SZALLAS_ID": "8",
                                    "(No column name)": "74"
                                },
                                {
                                    "SZALLAS_ID": "8",
                                    "(No column name)": "157"
                                },
                                {
                                    "SZALLAS_ID": "12",
                                    "(No column name)": "77"
                                },
                                {
                                    "SZALLAS_ID": "5",
                                    "(No column name)": "4"
                                },
                                {
                                    "SZALLAS_ID": "6",
                                    "(No column name)": "15"
                                },
                                {
                                    "SZALLAS_ID": "8",
                                    "(No column name)": "19"
                                },
                                {
                                    "SZALLAS_ID": "4",
                                    "(No column name)": "56"
                                },
                                {
                                    "SZALLAS_ID": "7",
                                    "(No column name)": "2"
                                },
                                {
                                    "SZALLAS_ID": "12",
                                    "(No column name)": "43"
                                },
                                {
                                    "SZALLAS_ID": "1",
                                    "(No column name)": "6"
                                },
                                {
                                    "SZALLAS_ID": "6",
                                    "(No column name)": "98"
                                },
                                {
                                    "SZALLAS_ID": "3",
                                    "(No column name)": "4"
                                },
                                {
                                    "SZALLAS_ID": "8",
                                    "(No column name)": "65"
                                },
                                {
                                    "SZALLAS_ID": "10",
                                    "(No column name)": "35"
                                },
                                {
                                    "SZALLAS_ID": "1",
                                    "(No column name)": "52"
                                },
                                {
                                    "SZALLAS_ID": "2",
                                    "(No column name)": "9"
                                },
                                {
                                    "SZALLAS_ID": "6",
                                    "(No column name)": "52"
                                },
                                {
                                    "SZALLAS_ID": "1",
                                    "(No column name)": "5"
                                },
                                {
                                    "SZALLAS_ID": "4",
                                    "(No column name)": "50"
                                },
                                {
                                    "SZALLAS_ID": "10",
                                    "(No column name)": "81"
                                },
                                {
                                    "SZALLAS_ID": "12",
                                    "(No column name)": "37"
                                },
                                {
                                    "SZALLAS_ID": "1",
                                    "(No column name)": "49"
                                },
                                {
                                    "SZALLAS_ID": "5",
                                    "(No column name)": "43"
                                },
                                {
                                    "SZALLAS_ID": "6",
                                    "(No column name)": "6"
                                },
                                {
                                    "SZALLAS_ID": "8",
                                    "(No column name)": "17"
                                },
                                {
                                    "SZALLAS_ID": "12",
                                    "(No column name)": "10"
                                },
                                {
                                    "SZALLAS_ID": "1",
                                    "(No column name)": "26"
                                },
                                {
                                    "SZALLAS_ID": "4",
                                    "(No column name)": "3"
                                },
                                {
                                    "SZALLAS_ID": "5",
                                    "(No column name)": "17"
                                },
                                {
                                    "SZALLAS_ID": "9",
                                    "(No column name)": "8"
                                },
                                {
                                    "SZALLAS_ID": "10",
                                    "(No column name)": "32"
                                },
                                {
                                    "SZALLAS_ID": "10",
                                    "(No column name)": "9"
                                },
                                {
                                    "SZALLAS_ID": "6",
                                    "(No column name)": "7"
                                },
                                {
                                    "SZALLAS_ID": "10",
                                    "(No column name)": "1"
                                },
                                {
                                    "SZALLAS_ID": "12",
                                    "(No column name)": "140"
                                },
                                {
                                    "SZALLAS_ID": "3",
                                    "(No column name)": "16"
                                },
                                {
                                    "SZALLAS_ID": "4",
                                    "(No column name)": "36"
                                },
                                {
                                    "SZALLAS_ID": "12",
                                    "(No column name)": "46"
                                },
                                {
                                    "SZALLAS_ID": "12",
                                    "(No column name)": "123"
                                },
                                {
                                    "SZALLAS_ID": "6",
                                    "(No column name)": "27"
                                },
                                {
                                    "SZALLAS_ID": "12",
                                    "(No column name)": "97"
                                },
                                {
                                    "SZALLAS_ID": "12",
                                    "(No column name)": "146"
                                },
                                {
                                    "SZALLAS_ID": "1",
                                    "(No column name)": "32"
                                },
                                {
                                    "SZALLAS_ID": "6",
                                    "(No column name)": "26"
                                },
                                {
                                    "SZALLAS_ID": "9",
                                    "(No column name)": "14"
                                },
                                {
                                    "SZALLAS_ID": "2",
                                    "(No column name)": "3"
                                },
                                {
                                    "SZALLAS_ID": "3",
                                    "(No column name)": "24"
                                },
                                {
                                    "SZALLAS_ID": "6",
                                    "(No column name)": "132"
                                },
                                {
                                    "SZALLAS_ID": "10",
                                    "(No column name)": "15"
                                },
                                {
                                    "SZALLAS_ID": "7",
                                    "(No column name)": "8"
                                },
                                {
                                    "SZALLAS_ID": "8",
                                    "(No column name)": "45"
                                },
                                {
                                    "SZALLAS_ID": "3",
                                    "(No column name)": "2"
                                },
                                {
                                    "SZALLAS_ID": "8",
                                    "(No column name)": "48"
                                },
                                {
                                    "SZALLAS_ID": "8",
                                    "(No column name)": "134"
                                },
                                {
                                    "SZALLAS_ID": "12",
                                    "(No column name)": "17"
                                },
                                {
                                    "SZALLAS_ID": "12",
                                    "(No column name)": "103"
                                },
                                {
                                    "SZALLAS_ID": "4",
                                    "(No column name)": "30"
                                },
                                {
                                    "SZALLAS_ID": "10",
                                    "(No column name)": "52"
                                },
                                {
                                    "SZALLAS_ID": "10",
                                    "(No column name)": "58"
                                },
                                {
                                    "SZALLAS_ID": "10",
                                    "(No column name)": "101"
                                },
                                {
                                    "SZALLAS_ID": "6",
                                    "(No column name)": "15"
                                },
                                {
                                    "SZALLAS_ID": "8",
                                    "(No column name)": "91"
                                },
                                {
                                    "SZALLAS_ID": "8",
                                    "(No column name)": "140"
                                },
                                {
                                    "SZALLAS_ID": "11",
                                    "(No column name)": "19"
                                },
                                {
                                    "SZALLAS_ID": "12",
                                    "(No column name)": "109"
                                },
                                {
                                    "SZALLAS_ID": "3",
                                    "(No column name)": "7"
                                },
                                {
                                    "SZALLAS_ID": "5",
                                    "(No column name)": "29"
                                },
                                {
                                    "SZALLAS_ID": "9",
                                    "(No column name)": "20"
                                },
                                {
                                    "SZALLAS_ID": "1",
                                    "(No column name)": "15"
                                },
                                {
                                    "SZALLAS_ID": "3",
                                    "(No column name)": "30"
                                },
                                {
                                    "SZALLAS_ID": "8",
                                    "(No column name)": "8"
                                },
                                {
                                    "SZALLAS_ID": "10",
                                    "(No column name)": "21"
                                },
                                {
                                    "SZALLAS_ID": "1",
                                    "(No column name)": "2"
                                },
                                {
                                    "SZALLAS_ID": "2",
                                    "(No column name)": "6"
                                },
                                {
                                    "SZALLAS_ID": "6",
                                    "(No column name)": "21"
                                },
                                {
                                    "SZALLAS_ID": "11",
                                    "(No column name)": "13"
                                },
                                {
                                    "SZALLAS_ID": "6",
                                    "(No column name)": "112"
                                },
                                {
                                    "SZALLAS_ID": "6",
                                    "(No column name)": "118"
                                },
                                {
                                    "SZALLAS_ID": "8",
                                    "(No column name)": "77"
                                },
                                {
                                    "SZALLAS_ID": "8",
                                    "(No column name)": "148"
                                },
                                {
                                    "SZALLAS_ID": "8",
                                    "(No column name)": "154"
                                },
                                {
                                    "SZALLAS_ID": "8",
                                    "(No column name)": "5"
                                },
                                {
                                    "SZALLAS_ID": "6",
                                    "(No column name)": "95"
                                },
                                {
                                    "SZALLAS_ID": "8",
                                    "(No column name)": "100"
                                },
                                {
                                    "SZALLAS_ID": "8",
                                    "(No column name)": "131"
                                },
                                {
                                    "SZALLAS_ID": "6",
                                    "(No column name)": "66"
                                },
                                {
                                    "SZALLAS_ID": "7",
                                    "(No column name)": "5"
                                },
                                {
                                    "SZALLAS_ID": "10",
                                    "(No column name)": "69"
                                },
                                {
                                    "SZALLAS_ID": "11",
                                    "(No column name)": "1"
                                },
                                {
                                    "SZALLAS_ID": "5",
                                    "(No column name)": "6"
                                },
                                {
                                    "SZALLAS_ID": "6",
                                    "(No column name)": "141"
                                },
                                {
                                    "SZALLAS_ID": "7",
                                    "(No column name)": "28"
                                },
                                {
                                    "SZALLAS_ID": "8",
                                    "(No column name)": "54"
                                },
                                {
                                    "SZALLAS_ID": "10",
                                    "(No column name)": "92"
                                },
                                {
                                    "SZALLAS_ID": "3",
                                    "(No column name)": "13"
                                },
                                {
                                    "SZALLAS_ID": "10",
                                    "(No column name)": "38"
                                },
                                {
                                    "SZALLAS_ID": "1",
                                    "(No column name)": "9"
                                },
                                {
                                    "SZALLAS_ID": "6",
                                    "(No column name)": "3"
                                },
                                {
                                    "SZALLAS_ID": "8",
                                    "(No column name)": "14"
                                },
                                {
                                    "SZALLAS_ID": "4",
                                    "(No column name)": "47"
                                },
                                {
                                    "SZALLAS_ID": "4",
                                    "(No column name)": "59"
                                },
                                {
                                    "SZALLAS_ID": "8",
                                    "(No column name)": "25"
                                },
                                {
                                    "SZALLAS_ID": "8",
                                    "(No column name)": "108"
                                },
                                {
                                    "SZALLAS_ID": "9",
                                    "(No column name)": "3"
                                },
                                {
                                    "SZALLAS_ID": "10",
                                    "(No column name)": "75"
                                },
                                {
                                    "SZALLAS_ID": "12",
                                    "(No column name)": "40"
                                },
                                {
                                    "SZALLAS_ID": "1",
                                    "(No column name)": "55"
                                },
                                {
                                    "SZALLAS_ID": "5",
                                    "(No column name)": "37"
                                },
                                {
                                    "SZALLAS_ID": "5",
                                    "(No column name)": "1"
                                },
                                {
                                    "SZALLAS_ID": "6",
                                    "(No column name)": "49"
                                },
                                {
                                    "SZALLAS_ID": "8",
                                    "(No column name)": "22"
                                },
                                {
                                    "SZALLAS_ID": "4",
                                    "(No column name)": "7"
                                },
                                {
                                    "SZALLAS_ID": "6",
                                    "(No column name)": "106"
                                },
                                {
                                    "SZALLAS_ID": "8",
                                    "(No column name)": "71"
                                },
                                {
                                    "SZALLAS_ID": "10",
                                    "(No column name)": "29"
                                },
                                {
                                    "SZALLAS_ID": "12",
                                    "(No column name)": "80"
                                },
                                {
                                    "SZALLAS_ID": "12",
                                    "(No column name)": "86"
                                },
                                {
                                    "SZALLAS_ID": "1",
                                    "(No column name)": "46"
                                },
                                {
                                    "SZALLAS_ID": "6",
                                    "(No column name)": "58"
                                },
                                {
                                    "SZALLAS_ID": "12",
                                    "(No column name)": "7"
                                },
                                {
                                    "SZALLAS_ID": "12",
                                    "(No column name)": "13"
                                },
                                {
                                    "SZALLAS_ID": "4",
                                    "(No column name)": "53"
                                },
                                {
                                    "SZALLAS_ID": "7",
                                    "(No column name)": "5"
                                },
                                {
                                    "SZALLAS_ID": "8",
                                    "(No column name)": "114"
                                },
                                {
                                    "SZALLAS_ID": "8",
                                    "(No column name)": "117"
                                },
                                {
                                    "SZALLAS_ID": "12",
                                    "(No column name)": "132"
                                },
                                {
                                    "SZALLAS_ID": "2",
                                    "(No column name)": "12"
                                },
                                {
                                    "SZALLAS_ID": "8",
                                    "(No column name)": "16"
                                },
                                {
                                    "SZALLAS_ID": "8",
                                    "(No column name)": "68"
                                },
                                {
                                    "SZALLAS_ID": "1",
                                    "(No column name)": "3"
                                },
                                {
                                    "SZALLAS_ID": "6",
                                    "(No column name)": "9"
                                },
                                {
                                    "SZALLAS_ID": "11",
                                    "(No column name)": "22"
                                },
                                {
                                    "SZALLAS_ID": "12",
                                    "(No column name)": "143"
                                },
                                {
                                    "SZALLAS_ID": "6",
                                    "(No column name)": "149"
                                },
                                {
                                    "SZALLAS_ID": "7",
                                    "(No column name)": "11"
                                },
                                {
                                    "SZALLAS_ID": "8",
                                    "(No column name)": "36"
                                },
                                {
                                    "SZALLAS_ID": "12",
                                    "(No column name)": "27"
                                },
                                {
                                    "SZALLAS_ID": "12",
                                    "(No column name)": "4"
                                },
                                {
                                    "SZALLAS_ID": "4",
                                    "(No column name)": "13"
                                },
                                {
                                    "SZALLAS_ID": "4",
                                    "(No column name)": "19"
                                },
                                {
                                    "SZALLAS_ID": "4",
                                    "(No column name)": "6"
                                },
                                {
                                    "SZALLAS_ID": "11",
                                    "(No column name)": "2"
                                },
                                {
                                    "SZALLAS_ID": "12",
                                    "(No column name)": "20"
                                },
                                {
                                    "SZALLAS_ID": "6",
                                    "(No column name)": "4"
                                },
                                {
                                    "SZALLAS_ID": "12",
                                    "(No column name)": "120"
                                },
                                {
                                    "SZALLAS_ID": "4",
                                    "(No column name)": "39"
                                },
                                {
                                    "SZALLAS_ID": "6",
                                    "(No column name)": "121"
                                },
                                {
                                    "SZALLAS_ID": "12",
                                    "(No column name)": "6"
                                },
                                {
                                    "SZALLAS_ID": "8",
                                    "(No column name)": "2"
                                },
                                {
                                    "SZALLAS_ID": "8",
                                    "(No column name)": "51"
                                },
                                {
                                    "SZALLAS_ID": "11",
                                    "(No column name)": "16"
                                },
                                {
                                    "SZALLAS_ID": "12",
                                    "(No column name)": "100"
                                },
                                {
                                    "SZALLAS_ID": "12",
                                    "(No column name)": "112"
                                },
                                {
                                    "SZALLAS_ID": "12",
                                    "(No column name)": "149"
                                },
                                {
                                    "SZALLAS_ID": "6",
                                    "(No column name)": "72"
                                },
                                {
                                    "SZALLAS_ID": "10",
                                    "(No column name)": "4"
                                },
                                {
                                    "SZALLAS_ID": "4",
                                    "(No column name)": "33"
                                },
                                {
                                    "SZALLAS_ID": "6",
                                    "(No column name)": "86"
                                },
                                {
                                    "SZALLAS_ID": "6",
                                    "(No column name)": "135"
                                },
                                {
                                    "SZALLAS_ID": "10",
                                    "(No column name)": "12"
                                },
                                {
                                    "SZALLAS_ID": "10",
                                    "(No column name)": "49"
                                },
                                {
                                    "SZALLAS_ID": "10",
                                    "(No column name)": "61"
                                },
                                {
                                    "SZALLAS_ID": "10",
                                    "(No column name)": "98"
                                },
                                {
                                    "SZALLAS_ID": "5",
                                    "(No column name)": "14"
                                },
                                {
                                    "SZALLAS_ID": "5",
                                    "(No column name)": "20"
                                },
                                {
                                    "SZALLAS_ID": "6",
                                    "(No column name)": "29"
                                },
                                {
                                    "SZALLAS_ID": "6",
                                    "(No column name)": "35"
                                },
                                {
                                    "SZALLAS_ID": "9",
                                    "(No column name)": "11"
                                },
                                {
                                    "SZALLAS_ID": "9",
                                    "(No column name)": "17"
                                },
                                {
                                    "SZALLAS_ID": "6",
                                    "(No column name)": "18"
                                },
                                {
                                    "SZALLAS_ID": "8",
                                    "(No column name)": "88"
                                },
                                {
                                    "SZALLAS_ID": "8",
                                    "(No column name)": "94"
                                },
                                {
                                    "SZALLAS_ID": "12",
                                    "(No column name)": "57"
                                },
                                {
                                    "SZALLAS_ID": "12",
                                    "(No column name)": "63"
                                },
                                {
                                    "SZALLAS_ID": "6",
                                    "(No column name)": "78"
                                },
                                {
                                    "SZALLAS_ID": "7",
                                    "(No column name)": "17"
                                },
                                {
                                    "SZALLAS_ID": "8",
                                    "(No column name)": "42"
                                },
                                {
                                    "SZALLAS_ID": "10",
                                    "(No column name)": "10"
                                },
                                {
                                    "SZALLAS_ID": "3",
                                    "(No column name)": "27"
                                },
                                {
                                    "SZALLAS_ID": "4",
                                    "(No column name)": "27"
                                },
                                {
                                    "SZALLAS_ID": "6",
                                    "(No column name)": "129"
                                },
                                {
                                    "SZALLAS_ID": "10",
                                    "(No column name)": "55"
                                },
                                {
                                    "SZALLAS_ID": "4",
                                    "(No column name)": "52"
                                },
                                {
                                    "SZALLAS_ID": "12",
                                    "(No column name)": "131"
                                },
                                {
                                    "SZALLAS_ID": "1",
                                    "(No column name)": "3"
                                },
                                {
                                    "SZALLAS_ID": "4",
                                    "(No column name)": "4"
                                },
                                {
                                    "SZALLAS_ID": "8",
                                    "(No column name)": "105"
                                },
                                {
                                    "SZALLAS_ID": "10",
                                    "(No column name)": "20"
                                },
                                {
                                    "SZALLAS_ID": "6",
                                    "(No column name)": "22"
                                },
                                {
                                    "SZALLAS_ID": "9",
                                    "(No column name)": "19"
                                },
                                {
                                    "SZALLAS_ID": "8",
                                    "(No column name)": "30"
                                },
                                {
                                    "SZALLAS_ID": "10",
                                    "(No column name)": "89"
                                },
                                {
                                    "SZALLAS_ID": "3",
                                    "(No column name)": "35"
                                },
                                {
                                    "SZALLAS_ID": "6",
                                    "(No column name)": "94"
                                },
                                {
                                    "SZALLAS_ID": "1",
                                    "(No column name)": "37"
                                },
                                {
                                    "SZALLAS_ID": "3",
                                    "(No column name)": "12"
                                },
                                {
                                    "SZALLAS_ID": "5",
                                    "(No column name)": "28"
                                },
                                {
                                    "SZALLAS_ID": "6",
                                    "(No column name)": "40"
                                },
                                {
                                    "SZALLAS_ID": "8",
                                    "(No column name)": "76"
                                },
                                {
                                    "SZALLAS_ID": "8",
                                    "(No column name)": "153"
                                },
                                {
                                    "SZALLAS_ID": "10",
                                    "(No column name)": "43"
                                },
                                {
                                    "SZALLAS_ID": "1",
                                    "(No column name)": "60"
                                },
                                {
                                    "SZALLAS_ID": "5",
                                    "(No column name)": "5"
                                },
                                {
                                    "SZALLAS_ID": "6",
                                    "(No column name)": "17"
                                },
                                {
                                    "SZALLAS_ID": "6",
                                    "(No column name)": "140"
                                },
                                {
                                    "SZALLAS_ID": "7",
                                    "(No column name)": "2"
                                },
                                {
                                    "SZALLAS_ID": "8",
                                    "(No column name)": "53"
                                },
                                {
                                    "SZALLAS_ID": "10",
                                    "(No column name)": "66"
                                },
                                {
                                    "SZALLAS_ID": "11",
                                    "(No column name)": "2"
                                },
                                {
                                    "SZALLAS_ID": "12",
                                    "(No column name)": "22"
                                },
                                {
                                    "SZALLAS_ID": "4",
                                    "(No column name)": "58"
                                },
                                {
                                    "SZALLAS_ID": "8",
                                    "(No column name)": "122"
                                },
                                {
                                    "SZALLAS_ID": "8",
                                    "(No column name)": "8"
                                },
                                {
                                    "SZALLAS_ID": "10",
                                    "(No column name)": "74"
                                },
                                {
                                    "SZALLAS_ID": "12",
                                    "(No column name)": "125"
                                },
                                {
                                    "SZALLAS_ID": "12",
                                    "(No column name)": "137"
                                },
                                {
                                    "SZALLAS_ID": "1",
                                    "(No column name)": "8"
                                },
                                {
                                    "SZALLAS_ID": "6",
                                    "(No column name)": "63"
                                },
                                {
                                    "SZALLAS_ID": "10",
                                    "(No column name)": "26"
                                },
                                {
                                    "SZALLAS_ID": "1",
                                    "(No column name)": "43"
                                },
                                {
                                    "SZALLAS_ID": "5",
                                    "(No column name)": "34"
                                },
                                {
                                    "SZALLAS_ID": "6",
                                    "(No column name)": "111"
                                },
                                {
                                    "SZALLAS_ID": "10",
                                    "(No column name)": "37"
                                },
                                {
                                    "SZALLAS_ID": "12",
                                    "(No column name)": "91"
                                },
                                {
                                    "SZALLAS_ID": "1",
                                    "(No column name)": "54"
                                },
                                {
                                    "SZALLAS_ID": "4",
                                    "(No column name)": "44"
                                },
                                {
                                    "SZALLAS_ID": "6",
                                    "(No column name)": "146"
                                },
                                {
                                    "SZALLAS_ID": "9",
                                    "(No column name)": "4"
                                },
                                {
                                    "SZALLAS_ID": "8",
                                    "(No column name)": "17"
                                },
                                {
                                    "SZALLAS_ID": "10",
                                    "(No column name)": "83"
                                },
                                {
                                    "SZALLAS_ID": "12",
                                    "(No column name)": "8"
                                },
                                {
                                    "SZALLAS_ID": "12",
                                    "(No column name)": "14"
                                },
                                {
                                    "SZALLAS_ID": "6",
                                    "(No column name)": "100"
                                },
                                {
                                    "SZALLAS_ID": "8",
                                    "(No column name)": "13"
                                },
                                {
                                    "SZALLAS_ID": "8",
                                    "(No column name)": "19"
                                },
                                {
                                    "SZALLAS_ID": "12",
                                    "(No column name)": "85"
                                },
                                {
                                    "SZALLAS_ID": "2",
                                    "(No column name)": "11"
                                },
                                {
                                    "SZALLAS_ID": "6",
                                    "(No column name)": "54"
                                },
                                {
                                    "SZALLAS_ID": "7",
                                    "(No column name)": "6"
                                },
                                {
                                    "SZALLAS_ID": "8",
                                    "(No column name)": "14"
                                },
                                {
                                    "SZALLAS_ID": "12",
                                    "(No column name)": "48"
                                },
                                {
                                    "SZALLAS_ID": "12",
                                    "(No column name)": "5"
                                },
                                {
                                    "SZALLAS_ID": "1",
                                    "(No column name)": "51"
                                },
                                {
                                    "SZALLAS_ID": "5",
                                    "(No column name)": "10"
                                },
                                {
                                    "SZALLAS_ID": "6",
                                    "(No column name)": "8"
                                },
                                {
                                    "SZALLAS_ID": "8",
                                    "(No column name)": "93"
                                },
                                {
                                    "SZALLAS_ID": "12",
                                    "(No column name)": "25"
                                },
                                {
                                    "SZALLAS_ID": "1",
                                    "(No column name)": "28"
                                },
                                {
                                    "SZALLAS_ID": "3",
                                    "(No column name)": "18"
                                },
                                {
                                    "SZALLAS_ID": "4",
                                    "(No column name)": "18"
                                },
                                {
                                    "SZALLAS_ID": "10",
                                    "(No column name)": "34"
                                },
                                {
                                    "SZALLAS_ID": "11",
                                    "(No column name)": "1"
                                },
                                {
                                    "SZALLAS_ID": "8",
                                    "(No column name)": "22"
                                },
                                {
                                    "SZALLAS_ID": "4",
                                    "(No column name)": "61"
                                },
                                {
                                    "SZALLAS_ID": "12",
                                    "(No column name)": "74"
                                },
                                {
                                    "SZALLAS_ID": "12",
                                    "(No column name)": "117"
                                },
                                {
                                    "SZALLAS_ID": "10",
                                    "(No column name)": "19"
                                },
                                {
                                    "SZALLAS_ID": "4",
                                    "(No column name)": "38"
                                },
                                {
                                    "SZALLAS_ID": "4",
                                    "(No column name)": "1"
                                },
                                {
                                    "SZALLAS_ID": "10",
                                    "(No column name)": "3"
                                },
                                {
                                    "SZALLAS_ID": "12",
                                    "(No column name)": "54"
                                },
                                {
                                    "SZALLAS_ID": "1",
                                    "(No column name)": "20"
                                },
                                {
                                    "SZALLAS_ID": "8",
                                    "(No column name)": "50"
                                },
                                {
                                    "SZALLAS_ID": "8",
                                    "(No column name)": "99"
                                },
                                {
                                    "SZALLAS_ID": "8",
                                    "(No column name)": "31"
                                },
                                {
                                    "SZALLAS_ID": "9",
                                    "(No column name)": "2"
                                },
                                {
                                    "SZALLAS_ID": "10",
                                    "(No column name)": "5"
                                },
                                {
                                    "SZALLAS_ID": "12",
                                    "(No column name)": "148"
                                },
                                {
                                    "SZALLAS_ID": "5",
                                    "(No column name)": "25"
                                },
                                {
                                    "SZALLAS_ID": "6",
                                    "(No column name)": "120"
                                },
                                {
                                    "SZALLAS_ID": "8",
                                    "(No column name)": "85"
                                },
                                {
                                    "SZALLAS_ID": "9",
                                    "(No column name)": "16"
                                },
                                {
                                    "SZALLAS_ID": "12",
                                    "(No column name)": "5"
                                },
                                {
                                    "SZALLAS_ID": "4",
                                    "(No column name)": "32"
                                },
                                {
                                    "SZALLAS_ID": "5",
                                    "(No column name)": "11"
                                },
                                {
                                    "SZALLAS_ID": "6",
                                    "(No column name)": "134"
                                },
                                {
                                    "SZALLAS_ID": "10",
                                    "(No column name)": "60"
                                },
                                {
                                    "SZALLAS_ID": "10",
                                    "(No column name)": "97"
                                },
                                {
                                    "SZALLAS_ID": "6",
                                    "(No column name)": "77"
                                },
                                {
                                    "SZALLAS_ID": "6",
                                    "(No column name)": "83"
                                },
                                {
                                    "SZALLAS_ID": "7",
                                    "(No column name)": "10"
                                },
                                {
                                    "SZALLAS_ID": "7",
                                    "(No column name)": "16"
                                },
                                {
                                    "SZALLAS_ID": "8",
                                    "(No column name)": "36"
                                },
                                {
                                    "SZALLAS_ID": "8",
                                    "(No column name)": "42"
                                },
                                {
                                    "SZALLAS_ID": "8",
                                    "(No column name)": "136"
                                },
                                {
                                    "SZALLAS_ID": "8",
                                    "(No column name)": "142"
                                },
                                {
                                    "SZALLAS_ID": "11",
                                    "(No column name)": "15"
                                },
                                {
                                    "SZALLAS_ID": "11",
                                    "(No column name)": "21"
                                },
                                {
                                    "SZALLAS_ID": "4",
                                    "(No column name)": "24"
                                },
                                {
                                    "SZALLAS_ID": "6",
                                    "(No column name)": "126"
                                },
                                {
                                    "SZALLAS_ID": "12",
                                    "(No column name)": "11"
                                },
                                {
                                    "SZALLAS_ID": "10",
                                    "(No column name)": "54"
                                },
                                {
                                    "SZALLAS_ID": "10",
                                    "(No column name)": "103"
                                },
                                {
                                    "SZALLAS_ID": "1",
                                    "(No column name)": "63"
                                },
                                {
                                    "SZALLAS_ID": "6",
                                    "(No column name)": "20"
                                },
                                {
                                    "SZALLAS_ID": "8",
                                    "(No column name)": "56"
                                },
                                {
                                    "SZALLAS_ID": "1",
                                    "(No column name)": "40"
                                },
                                {
                                    "SZALLAS_ID": "6",
                                    "(No column name)": "19"
                                },
                                {
                                    "SZALLAS_ID": "1",
                                    "(No column name)": "17"
                                },
                                {
                                    "SZALLAS_ID": "3",
                                    "(No column name)": "32"
                                },
                                {
                                    "SZALLAS_ID": "8",
                                    "(No column name)": "10"
                                },
                                {
                                    "SZALLAS_ID": "10",
                                    "(No column name)": "23"
                                },
                                {
                                    "SZALLAS_ID": "8",
                                    "(No column name)": "125"
                                },
                                {
                                    "SZALLAS_ID": "5",
                                    "(No column name)": "8"
                                },
                                {
                                    "SZALLAS_ID": "6",
                                    "(No column name)": "137"
                                },
                                {
                                    "SZALLAS_ID": "6",
                                    "(No column name)": "143"
                                },
                                {
                                    "SZALLAS_ID": "1",
                                    "(No column name)": "34"
                                },
                                {
                                    "SZALLAS_ID": "6",
                                    "(No column name)": "43"
                                },
                                {
                                    "SZALLAS_ID": "6",
                                    "(No column name)": "114"
                                },
                                {
                                    "SZALLAS_ID": "8",
                                    "(No column name)": "79"
                                },
                                {
                                    "SZALLAS_ID": "10",
                                    "(No column name)": "40"
                                },
                                {
                                    "SZALLAS_ID": "11",
                                    "(No column name)": "7"
                                },
                                {
                                    "SZALLAS_ID": "1",
                                    "(No column name)": "11"
                                },
                                {
                                    "SZALLAS_ID": "6",
                                    "(No column name)": "91"
                                },
                                {
                                    "SZALLAS_ID": "6",
                                    "(No column name)": "2"
                                },
                                {
                                    "SZALLAS_ID": "8",
                                    "(No column name)": "28"
                                },
                                {
                                    "SZALLAS_ID": "10",
                                    "(No column name)": "17"
                                },
                                {
                                    "SZALLAS_ID": "1",
                                    "(No column name)": "57"
                                },
                                {
                                    "SZALLAS_ID": "6",
                                    "(No column name)": "14"
                                },
                                {
                                    "SZALLAS_ID": "6",
                                    "(No column name)": "51"
                                },
                                {
                                    "SZALLAS_ID": "7",
                                    "(No column name)": "3"
                                },
                                {
                                    "SZALLAS_ID": "9",
                                    "(No column name)": "1"
                                },
                                {
                                    "SZALLAS_ID": "8",
                                    "(No column name)": "73"
                                },
                                {
                                    "SZALLAS_ID": "8",
                                    "(No column name)": "156"
                                },
                                {
                                    "SZALLAS_ID": "12",
                                    "(No column name)": "88"
                                },
                                {
                                    "SZALLAS_ID": "6",
                                    "(No column name)": "60"
                                },
                                {
                                    "SZALLAS_ID": "6",
                                    "(No column name)": "97"
                                },
                                {
                                    "SZALLAS_ID": "4",
                                    "(No column name)": "55"
                                },
                                {
                                    "SZALLAS_ID": "4",
                                    "(No column name)": "12"
                                },
                                {
                                    "SZALLAS_ID": "8",
                                    "(No column name)": "119"
                                },
                                {
                                    "SZALLAS_ID": "8",
                                    "(No column name)": "11"
                                },
                                {
                                    "SZALLAS_ID": "12",
                                    "(No column name)": "128"
                                },
                                {
                                    "SZALLAS_ID": "12",
                                    "(No column name)": "134"
                                },
                                {
                                    "SZALLAS_ID": "2",
                                    "(No column name)": "8"
                                },
                                {
                                    "SZALLAS_ID": "3",
                                    "(No column name)": "1"
                                },
                                {
                                    "SZALLAS_ID": "4",
                                    "(No column name)": "1"
                                },
                                {
                                    "SZALLAS_ID": "5",
                                    "(No column name)": "42"
                                },
                                {
                                    "SZALLAS_ID": "6",
                                    "(No column name)": "103"
                                },
                                {
                                    "SZALLAS_ID": "12",
                                    "(No column name)": "34"
                                },
                                {
                                    "SZALLAS_ID": "6",
                                    "(No column name)": "80"
                                },
                                {
                                    "SZALLAS_ID": "4",
                                    "(No column name)": "41"
                                },
                                {
                                    "SZALLAS_ID": "4",
                                    "(No column name)": "4"
                                },
                                {
                                    "SZALLAS_ID": "10",
                                    "(No column name)": "57"
                                },
                                {
                                    "SZALLAS_ID": "3",
                                    "(No column name)": "21"
                                },
                                {
                                    "SZALLAS_ID": "6",
                                    "(No column name)": "10"
                                },
                                {
                                    "SZALLAS_ID": "8",
                                    "(No column name)": "70"
                                },
                                {
                                    "SZALLAS_ID": "6",
                                    "(No column name)": "11"
                                },
                                {
                                    "SZALLAS_ID": "10",
                                    "(No column name)": "2"
                                },
                                {
                                    "SZALLAS_ID": "12",
                                    "(No column name)": "45"
                                },
                                {
                                    "SZALLAS_ID": "12",
                                    "(No column name)": "51"
                                },
                                {
                                    "SZALLAS_ID": "12",
                                    "(No column name)": "2"
                                },
                                {
                                    "SZALLAS_ID": "3",
                                    "(No column name)": "15"
                                },
                                {
                                    "SZALLAS_ID": "4",
                                    "(No column name)": "15"
                                },
                                {
                                    "SZALLAS_ID": "11",
                                    "(No column name)": "4"
                                },
                                {
                                    "SZALLAS_ID": "12",
                                    "(No column name)": "94"
                                },
                                {
                                    "SZALLAS_ID": "5",
                                    "(No column name)": "7"
                                },
                                {
                                    "SZALLAS_ID": "12",
                                    "(No column name)": "71"
                                },
                                {
                                    "SZALLAS_ID": "12",
                                    "(No column name)": "145"
                                },
                                {
                                    "SZALLAS_ID": "7",
                                    "(No column name)": "19"
                                },
                                {
                                    "SZALLAS_ID": "4",
                                    "(No column name)": "35"
                                },
                                {
                                    "SZALLAS_ID": "10",
                                    "(No column name)": "14"
                                },
                                {
                                    "SZALLAS_ID": "1",
                                    "(No column name)": "31"
                                },
                                {
                                    "SZALLAS_ID": "4",
                                    "(No column name)": "21"
                                },
                                {
                                    "SZALLAS_ID": "5",
                                    "(No column name)": "22"
                                },
                                {
                                    "SZALLAS_ID": "6",
                                    "(No column name)": "37"
                                },
                                {
                                    "SZALLAS_ID": "6",
                                    "(No column name)": "123"
                                },
                                {
                                    "SZALLAS_ID": "10",
                                    "(No column name)": "16"
                                },
                                {
                                    "SZALLAS_ID": "8",
                                    "(No column name)": "96"
                                },
                                {
                                    "SZALLAS_ID": "8",
                                    "(No column name)": "133"
                                },
                                {
                                    "SZALLAS_ID": "9",
                                    "(No column name)": "5"
                                },
                                {
                                    "SZALLAS_ID": "12",
                                    "(No column name)": "102"
                                },
                                {
                                    "SZALLAS_ID": "12",
                                    "(No column name)": "151"
                                },
                                {
                                    "SZALLAS_ID": "10",
                                    "(No column name)": "6"
                                },
                                {
                                    "SZALLAS_ID": "6",
                                    "(No column name)": "31"
                                },
                                {
                                    "SZALLAS_ID": "6",
                                    "(No column name)": "16"
                                },
                                {
                                    "SZALLAS_ID": "9",
                                    "(No column name)": "13"
                                },
                                {
                                    "SZALLAS_ID": "12",
                                    "(No column name)": "8"
                                },
                                {
                                    "SZALLAS_ID": "8",
                                    "(No column name)": "139"
                                },
                                {
                                    "SZALLAS_ID": "8",
                                    "(No column name)": "40"
                                },
                                {
                                    "SZALLAS_ID": "10",
                                    "(No column name)": "8"
                                },
                                {
                                    "SZALLAS_ID": "11",
                                    "(No column name)": "18"
                                },
                                {
                                    "SZALLAS_ID": "12",
                                    "(No column name)": "108"
                                },
                                {
                                    "SZALLAS_ID": "1",
                                    "(No column name)": "62"
                                },
                                {
                                    "SZALLAS_ID": "10",
                                    "(No column name)": "68"
                                },
                                {
                                    "SZALLAS_ID": "1",
                                    "(No column name)": "39"
                                },
                                {
                                    "SZALLAS_ID": "4",
                                    "(No column name)": "29"
                                },
                                {
                                    "SZALLAS_ID": "9",
                                    "(No column name)": "21"
                                },
                                {
                                    "SZALLAS_ID": "10",
                                    "(No column name)": "45"
                                },
                                {
                                    "SZALLAS_ID": "1",
                                    "(No column name)": "16"
                                },
                                {
                                    "SZALLAS_ID": "3",
                                    "(No column name)": "6"
                                },
                                {
                                    "SZALLAS_ID": "10",
                                    "(No column name)": "22"
                                },
                                {
                                    "SZALLAS_ID": "2",
                                    "(No column name)": "5"
                                },
                                {
                                    "SZALLAS_ID": "10",
                                    "(No column name)": "14"
                                },
                                {
                                    "SZALLAS_ID": "11",
                                    "(No column name)": "12"
                                },
                                {
                                    "SZALLAS_ID": "6",
                                    "(No column name)": "65"
                                },
                                {
                                    "SZALLAS_ID": "7",
                                    "(No column name)": "4"
                                },
                                {
                                    "SZALLAS_ID": "8",
                                    "(No column name)": "101"
                                },
                                {
                                    "SZALLAS_ID": "8",
                                    "(No column name)": "107"
                                },
                                {
                                    "SZALLAS_ID": "12",
                                    "(No column name)": "20"
                                },
                                {
                                    "SZALLAS_ID": "6",
                                    "(No column name)": "88"
                                },
                                {
                                    "SZALLAS_ID": "6",
                                    "(No column name)": "119"
                                },
                                {
                                    "SZALLAS_ID": "8",
                                    "(No column name)": "7"
                                },
                                {
                                    "SZALLAS_ID": "8",
                                    "(No column name)": "124"
                                },
                                {
                                    "SZALLAS_ID": "8",
                                    "(No column name)": "130"
                                },
                                {
                                    "SZALLAS_ID": "8",
                                    "(No column name)": "6"
                                },
                                {
                                    "SZALLAS_ID": "5",
                                    "(No column name)": "7"
                                },
                                {
                                    "SZALLAS_ID": "6",
                                    "(No column name)": "19"
                                },
                                {
                                    "SZALLAS_ID": "8",
                                    "(No column name)": "55"
                                },
                                {
                                    "SZALLAS_ID": "5",
                                    "(No column name)": "30"
                                },
                                {
                                    "SZALLAS_ID": "6",
                                    "(No column name)": "42"
                                },
                                {
                                    "SZALLAS_ID": "7",
                                    "(No column name)": "27"
                                },
                                {
                                    "SZALLAS_ID": "1",
                                    "(No column name)": "56"
                                },
                                {
                                    "SZALLAS_ID": "4",
                                    "(No column name)": "46"
                                },
                                {
                                    "SZALLAS_ID": "8",
                                    "(No column name)": "15"
                                },
                                {
                                    "SZALLAS_ID": "5",
                                    "(No column name)": "2"
                                },
                                {
                                    "SZALLAS_ID": "6",
                                    "(No column name)": "13"
                                },
                                {
                                    "SZALLAS_ID": "6",
                                    "(No column name)": "96"
                                },
                                {
                                    "SZALLAS_ID": "12",
                                    "(No column name)": "79"
                                },
                                {
                                    "SZALLAS_ID": "4",
                                    "(No column name)": "7"
                                },
                                {
                                    "SZALLAS_ID": "6",
                                    "(No column name)": "48"
                                },
                                {
                                    "SZALLAS_ID": "10",
                                    "(No column name)": "85"
                                },
                                {
                                    "SZALLAS_ID": "12",
                                    "(No column name)": "139"
                                },
                                {
                                    "SZALLAS_ID": "8",
                                    "(No column name)": "118"
                                },
                                {
                                    "SZALLAS_ID": "8",
                                    "(No column name)": "12"
                                },
                                {
                                    "SZALLAS_ID": "12",
                                    "(No column name)": "87"
                                },
                                {
                                    "SZALLAS_ID": "2",
                                    "(No column name)": "13"
                                },
                                {
                                    "SZALLAS_ID": "6",
                                    "(No column name)": "102"
                                },
                                {
                                    "SZALLAS_ID": "6",
                                    "(No column name)": "105"
                                },
                                {
                                    "SZALLAS_ID": "8",
                                    "(No column name)": "67"
                                },
                                {
                                    "SZALLAS_ID": "10",
                                    "(No column name)": "28"
                                },
                                {
                                    "SZALLAS_ID": "4",
                                    "(No column name)": "40"
                                },
                                {
                                    "SZALLAS_ID": "11",
                                    "(No column name)": "23"
                                },
                                {
                                    "SZALLAS_ID": "12",
                                    "(No column name)": "119"
                                },
                                {
                                    "SZALLAS_ID": "1",
                                    "(No column name)": "2"
                                },
                                {
                                    "SZALLAS_ID": "8",
                                    "(No column name)": "44"
                                },
                                {
                                    "SZALLAS_ID": "3",
                                    "(No column name)": "20"
                                },
                                {
                                    "SZALLAS_ID": "10",
                                    "(No column name)": "11"
                                },
                                {
                                    "SZALLAS_ID": "2",
                                    "(No column name)": "1"
                                },
                                {
                                    "SZALLAS_ID": "8",
                                    "(No column name)": "24"
                                },
                                {
                                    "SZALLAS_ID": "12",
                                    "(No column name)": "27"
                                },
                                {
                                    "SZALLAS_ID": "12",
                                    "(No column name)": "26"
                                },
                                {
                                    "SZALLAS_ID": "8",
                                    "(No column name)": "1"
                                },
                                {
                                    "SZALLAS_ID": "11",
                                    "(No column name)": "3"
                                },
                                {
                                    "SZALLAS_ID": "12",
                                    "(No column name)": "50"
                                },
                                {
                                    "SZALLAS_ID": "12",
                                    "(No column name)": "93"
                                },
                                {
                                    "SZALLAS_ID": "12",
                                    "(No column name)": "70"
                                },
                                {
                                    "SZALLAS_ID": "3",
                                    "(No column name)": "14"
                                },
                                {
                                    "SZALLAS_ID": "10",
                                    "(No column name)": "62"
                                },
                                {
                                    "SZALLAS_ID": "12",
                                    "(No column name)": "113"
                                },
                                {
                                    "SZALLAS_ID": "7",
                                    "(No column name)": "18"
                                },
                                {
                                    "SZALLAS_ID": "8",
                                    "(No column name)": "87"
                                },
                                {
                                    "SZALLAS_ID": "10",
                                    "(No column name)": "17"
                                },
                                {
                                    "SZALLAS_ID": "12",
                                    "(No column name)": "7"
                                },
                                {
                                    "SZALLAS_ID": "5",
                                    "(No column name)": "13"
                                },
                                {
                                    "SZALLAS_ID": "9",
                                    "(No column name)": "4"
                                },
                                {
                                    "SZALLAS_ID": "12",
                                    "(No column name)": "150"
                                },
                                {
                                    "SZALLAS_ID": "4",
                                    "(No column name)": "20"
                                },
                                {
                                    "SZALLAS_ID": "6",
                                    "(No column name)": "36"
                                },
                                {
                                    "SZALLAS_ID": "6",
                                    "(No column name)": "85"
                                },
                                {
                                    "SZALLAS_ID": "6",
                                    "(No column name)": "122"
                                },
                                {
                                    "SZALLAS_ID": "10",
                                    "(No column name)": "48"
                                },
                                {
                                    "SZALLAS_ID": "8",
                                    "(No column name)": "35"
                                },
                                {
                                    "SZALLAS_ID": "10",
                                    "(No column name)": "3"
                                },
                                {
                                    "SZALLAS_ID": "1",
                                    "(No column name)": "22"
                                },
                                {
                                    "SZALLAS_ID": "5",
                                    "(No column name)": "19"
                                },
                                {
                                    "SZALLAS_ID": "9",
                                    "(No column name)": "10"
                                },
                                {
                                    "SZALLAS_ID": "3",
                                    "(No column name)": "26"
                                },
                                {
                                    "SZALLAS_ID": "4",
                                    "(No column name)": "26"
                                },
                                {
                                    "SZALLAS_ID": "6",
                                    "(No column name)": "79"
                                },
                                {
                                    "SZALLAS_ID": "6",
                                    "(No column name)": "128"
                                },
                                {
                                    "SZALLAS_ID": "10",
                                    "(No column name)": "5"
                                },
                                {
                                    "SZALLAS_ID": "6",
                                    "(No column name)": "139"
                                },
                                {
                                    "SZALLAS_ID": "7",
                                    "(No column name)": "1"
                                },
                                {
                                    "SZALLAS_ID": "8",
                                    "(No column name)": "104"
                                },
                                {
                                    "SZALLAS_ID": "12",
                                    "(No column name)": "36"
                                },
                                {
                                    "SZALLAS_ID": "12",
                                    "(No column name)": "107"
                                },
                                {
                                    "SZALLAS_ID": "7",
                                    "(No column name)": "24"
                                },
                                {
                                    "SZALLAS_ID": "8",
                                    "(No column name)": "81"
                                },
                                {
                                    "SZALLAS_ID": "10",
                                    "(No column name)": "11"
                                },
                                {
                                    "SZALLAS_ID": "12",
                                    "(No column name)": "13"
                                },
                                {
                                    "SZALLAS_ID": "12",
                                    "(No column name)": "130"
                                },
                                {
                                    "SZALLAS_ID": "8",
                                    "(No column name)": "58"
                                },
                                {
                                    "SZALLAS_ID": "8",
                                    "(No column name)": "35"
                                },
                                {
                                    "SZALLAS_ID": "9",
                                    "(No column name)": "18"
                                },
                                {
                                    "SZALLAS_ID": "1",
                                    "(No column name)": "59"
                                },
                                {
                                    "SZALLAS_ID": "3",
                                    "(No column name)": "34"
                                },
                                {
                                    "SZALLAS_ID": "10",
                                    "(No column name)": "71"
                                },
                                {
                                    "SZALLAS_ID": "2",
                                    "(No column name)": "2"
                                },
                                {
                                    "SZALLAS_ID": "5",
                                    "(No column name)": "27"
                                },
                                {
                                    "SZALLAS_ID": "5",
                                    "(No column name)": "33"
                                },
                                {
                                    "SZALLAS_ID": "10",
                                    "(No column name)": "88"
                                },
                                {
                                    "SZALLAS_ID": "10",
                                    "(No column name)": "94"
                                },
                                {
                                    "SZALLAS_ID": "11",
                                    "(No column name)": "9"
                                },
                                {
                                    "SZALLAS_ID": "5",
                                    "(No column name)": "4"
                                },
                                {
                                    "SZALLAS_ID": "6",
                                    "(No column name)": "25"
                                },
                                {
                                    "SZALLAS_ID": "9",
                                    "(No column name)": "1"
                                },
                                {
                                    "SZALLAS_ID": "1",
                                    "(No column name)": "36"
                                },
                                {
                                    "SZALLAS_ID": "8",
                                    "(No column name)": "127"
                                },
                                {
                                    "SZALLAS_ID": "8",
                                    "(No column name)": "3"
                                },
                                {
                                    "SZALLAS_ID": "9",
                                    "(No column name)": "24"
                                },
                                {
                                    "SZALLAS_ID": "6",
                                    "(No column name)": "62"
                                },
                                {
                                    "SZALLAS_ID": "8",
                                    "(No column name)": "27"
                                },
                                {
                                    "SZALLAS_ID": "12",
                                    "(No column name)": "30"
                                },
                                {
                                    "SZALLAS_ID": "4",
                                    "(No column name)": "10"
                                },
                                {
                                    "SZALLAS_ID": "8",
                                    "(No column name)": "75"
                                },
                                {
                                    "SZALLAS_ID": "12",
                                    "(No column name)": "136"
                                },
                                {
                                    "SZALLAS_ID": "4",
                                    "(No column name)": "9"
                                },
                                {
                                    "SZALLAS_ID": "6",
                                    "(No column name)": "99"
                                },
                                {
                                    "SZALLAS_ID": "10",
                                    "(No column name)": "25"
                                },
                                {
                                    "SZALLAS_ID": "12",
                                    "(No column name)": "76"
                                },
                                {
                                    "SZALLAS_ID": "1",
                                    "(No column name)": "42"
                                },
                                {
                                    "SZALLAS_ID": "4",
                                    "(No column name)": "57"
                                },
                                {
                                    "SZALLAS_ID": "8",
                                    "(No column name)": "121"
                                },
                                {
                                    "SZALLAS_ID": "8",
                                    "(No column name)": "9"
                                },
                                {
                                    "SZALLAS_ID": "12",
                                    "(No column name)": "90"
                                },
                                {
                                    "SZALLAS_ID": "4",
                                    "(No column name)": "49"
                                },
                                {
                                    "SZALLAS_ID": "7",
                                    "(No column name)": "1"
                                },
                                {
                                    "SZALLAS_ID": "5",
                                    "(No column name)": "39"
                                },
                                {
                                    "SZALLAS_ID": "10",
                                    "(No column name)": "82"
                                },
                                {
                                    "SZALLAS_ID": "3",
                                    "(No column name)": "3"
                                },
                                {
                                    "SZALLAS_ID": "10",
                                    "(No column name)": "31"
                                },
                                {
                                    "SZALLAS_ID": "1",
                                    "(No column name)": "48"
                                },
                                {
                                    "SZALLAS_ID": "6",
                                    "(No column name)": "5"
                                },
                                {
                                    "SZALLAS_ID": "6",
                                    "(No column name)": "56"
                                },
                                {
                                    "SZALLAS_ID": "8",
                                    "(No column name)": "21"
                                },
                                {
                                    "SZALLAS_ID": "8",
                                    "(No column name)": "38"
                                },
                                {
                                    "SZALLAS_ID": "4",
                                    "(No column name)": "17"
                                },
                                {
                                    "SZALLAS_ID": "6",
                                    "(No column name)": "33"
                                },
                                {
                                    "SZALLAS_ID": "10",
                                    "(No column name)": "8"
                                },
                                {
                                    "SZALLAS_ID": "1",
                                    "(No column name)": "5"
                                },
                                {
                                    "SZALLAS_ID": "6",
                                    "(No column name)": "8"
                                },
                                {
                                    "SZALLAS_ID": "8",
                                    "(No column name)": "47"
                                },
                                {
                                    "SZALLAS_ID": "4",
                                    "(No column name)": "43"
                                },
                                {
                                    "SZALLAS_ID": "12",
                                    "(No column name)": "116"
                                },
                                {
                                    "SZALLAS_ID": "3",
                                    "(No column name)": "17"
                                },
                                {
                                    "SZALLAS_ID": "4",
                                    "(No column name)": "60"
                                },
                                {
                                    "SZALLAS_ID": "5",
                                    "(No column name)": "5"
                                },
                                {
                                    "SZALLAS_ID": "6",
                                    "(No column name)": "28"
                                },
                                {
                                    "SZALLAS_ID": "12",
                                    "(No column name)": "73"
                                },
                                {
                                    "SZALLAS_ID": "10",
                                    "(No column name)": "20"
                                },
                                {
                                    "SZALLAS_ID": "12",
                                    "(No column name)": "47"
                                },
                                {
                                    "SZALLAS_ID": "12",
                                    "(No column name)": "96"
                                },
                                {
                                    "SZALLAS_ID": "2",
                                    "(No column name)": "4"
                                },
                                {
                                    "SZALLAS_ID": "3",
                                    "(No column name)": "3"
                                },
                                {
                                    "SZALLAS_ID": "7",
                                    "(No column name)": "7"
                                },
                                {
                                    "SZALLAS_ID": "12",
                                    "(No column name)": "23"
                                },
                                {
                                    "SZALLAS_ID": "1",
                                    "(No column name)": "33"
                                },
                                {
                                    "SZALLAS_ID": "4",
                                    "(No column name)": "23"
                                },
                                {
                                    "SZALLAS_ID": "6",
                                    "(No column name)": "39"
                                },
                                {
                                    "SZALLAS_ID": "10",
                                    "(No column name)": "2"
                                },
                                {
                                    "SZALLAS_ID": "10",
                                    "(No column name)": "51"
                                },
                                {
                                    "SZALLAS_ID": "1",
                                    "(No column name)": "19"
                                },
                                {
                                    "SZALLAS_ID": "6",
                                    "(No column name)": "25"
                                },
                                {
                                    "SZALLAS_ID": "8",
                                    "(No column name)": "147"
                                },
                                {
                                    "SZALLAS_ID": "12",
                                    "(No column name)": "67"
                                },
                                {
                                    "SZALLAS_ID": "7",
                                    "(No column name)": "21"
                                },
                                {
                                    "SZALLAS_ID": "8",
                                    "(No column name)": "84"
                                },
                                {
                                    "SZALLAS_ID": "8",
                                    "(No column name)": "46"
                                },
                                {
                                    "SZALLAS_ID": "12",
                                    "(No column name)": "4"
                                },
                                {
                                    "SZALLAS_ID": "12",
                                    "(No column name)": "16"
                                },
                                {
                                    "SZALLAS_ID": "12",
                                    "(No column name)": "53"
                                },
                                {
                                    "SZALLAS_ID": "10",
                                    "(No column name)": "59"
                                },
                                {
                                    "SZALLAS_ID": "11",
                                    "(No column name)": "20"
                                },
                                {
                                    "SZALLAS_ID": "12",
                                    "(No column name)": "110"
                                },
                                {
                                    "SZALLAS_ID": "6",
                                    "(No column name)": "76"
                                },
                                {
                                    "SZALLAS_ID": "6",
                                    "(No column name)": "82"
                                },
                                {
                                    "SZALLAS_ID": "6",
                                    "(No column name)": "125"
                                },
                                {
                                    "SZALLAS_ID": "1",
                                    "(No column name)": "25"
                                },
                                {
                                    "SZALLAS_ID": "5",
                                    "(No column name)": "16"
                                },
                                {
                                    "SZALLAS_ID": "8",
                                    "(No column name)": "141"
                                },
                                {
                                    "SZALLAS_ID": "10",
                                    "(No column name)": "102"
                                },
                                {
                                    "SZALLAS_ID": "6",
                                    "(No column name)": "14"
                                },
                                {
                                    "SZALLAS_ID": "7",
                                    "(No column name)": "15"
                                },
                                {
                                    "SZALLAS_ID": "8",
                                    "(No column name)": "41"
                                },
                                {
                                    "SZALLAS_ID": "12",
                                    "(No column name)": "59"
                                }
                            ]
                        },
                        "text/html": [
                            "<table>",
                            "<tr><th>SZALLAS_ID</th><th>(No column name)</th><th>(No column name)</th><th>(No column name)</th></tr>",
                            "<tr><td>3</td><td>2016</td><td>35</td><td>31</td></tr>",
                            "<tr><td>6</td><td>2016</td><td>150</td><td>44</td></tr>",
                            "<tr><td>6</td><td>2017</td><td>29</td><td>20</td></tr>",
                            "<tr><td>8</td><td>2016</td><td>157</td><td>80</td></tr>",
                            "<tr><td>12</td><td>2016</td><td>152</td><td>12</td></tr>",
                            "<tr><td>8</td><td>2016</td><td>157</td><td>32</td></tr>",
                            "<tr><td>10</td><td>2017</td><td>20</td><td>12</td></tr>",
                            "<tr><td>2</td><td>2016</td><td>13</td><td>7</td></tr>",
                            "<tr><td>7</td><td>2016</td><td>28</td><td>23</td></tr>",
                            "<tr><td>12</td><td>2017</td><td>27</td><td>18</td></tr>",
                            "<tr><td>1</td><td>2017</td><td>7</td><td>1</td></tr>",
                            "<tr><td>3</td><td>2016</td><td>35</td><td>8</td></tr>",
                            "<tr><td>5</td><td>2016</td><td>43</td><td>32</td></tr>",
                            "<tr><td>6</td><td>2016</td><td>150</td><td>136</td></tr>",
                            "<tr><td>9</td><td>2016</td><td>24</td><td>23</td></tr>",
                            "<tr><td>10</td><td>2016</td><td>103</td><td>47</td></tr>",
                            "<tr><td>5</td><td>2016</td><td>43</td><td>9</td></tr>",
                            "<tr><td>6</td><td>2016</td><td>150</td><td>113</td></tr>",
                            "<tr><td>8</td><td>2016</td><td>157</td><td>155</td></tr>",
                            "<tr><td>10</td><td>2016</td><td>103</td><td>70</td></tr>",
                            "<tr><td>2</td><td>2016</td><td>13</td><td>1</td></tr>",
                            "<tr><td>8</td><td>2017</td><td>47</td><td>27</td></tr>",
                            "<tr><td>10</td><td>2016</td><td>103</td><td>16</td></tr>",
                            "<tr><td>6</td><td>2016</td><td>150</td><td>67</td></tr>",
                            "<tr><td>8</td><td>2016</td><td>157</td><td>103</td></tr>",
                            "<tr><td>8</td><td>2017</td><td>47</td><td>4</td></tr>",
                            "<tr><td>6</td><td>2016</td><td>150</td><td>50</td></tr>",
                            "<tr><td>6</td><td>2016</td><td>150</td><td>144</td></tr>",
                            "<tr><td>7</td><td>2017</td><td>6</td><td>4</td></tr>",
                            "<tr><td>8</td><td>2016</td><td>157</td><td>26</td></tr>",
                            "<tr><td>9</td><td>2017</td><td>5</td><td>2</td></tr>",
                            "<tr><td>5</td><td>2016</td><td>43</td><td>1</td></tr>",
                            "<tr><td>10</td><td>2016</td><td>103</td><td>87</td></tr>",
                            "<tr><td>4</td><td>2016</td><td>61</td><td>8</td></tr>",
                            "<tr><td>6</td><td>2016</td><td>150</td><td>61</td></tr>",
                            "<tr><td>8</td><td>2016</td><td>157</td><td>72</td></tr>",
                            "<tr><td>8</td><td>2016</td><td>157</td><td>109</td></tr>",
                            "<tr><td>8</td><td>2017</td><td>47</td><td>10</td></tr>",
                            "<tr><td>10</td><td>2016</td><td>103</td><td>24</td></tr>",
                            "<tr><td>12</td><td>2016</td><td>152</td><td>41</td></tr>",
                            "<tr><td>5</td><td>2016</td><td>43</td><td>38</td></tr>",
                            "<tr><td>4</td><td>2016</td><td>61</td><td>48</td></tr>",
                            "<tr><td>4</td><td>2016</td><td>61</td><td>54</td></tr>",
                            "<tr><td>4</td><td>2017</td><td>12</td><td>11</td></tr>",
                            "<tr><td>6</td><td>2016</td><td>150</td><td>107</td></tr>",
                            "<tr><td>10</td><td>2016</td><td>103</td><td>76</td></tr>",
                            "<tr><td>12</td><td>2016</td><td>152</td><td>81</td></tr>",
                            "<tr><td>6</td><td>2016</td><td>150</td><td>4</td></tr>",
                            "<tr><td>12</td><td>2017</td><td>27</td><td>12</td></tr>",
                            "<tr><td>1</td><td>2017</td><td>7</td><td>7</td></tr>",
                            "<tr><td>3</td><td>2016</td><td>35</td><td>2</td></tr>",
                            "<tr><td>4</td><td>2016</td><td>61</td><td>2</td></tr>",
                            "<tr><td>10</td><td>2016</td><td>103</td><td>30</td></tr>",
                            "<tr><td>12</td><td>2016</td><td>152</td><td>35</td></tr>",
                            "<tr><td>5</td><td>2016</td><td>43</td><td>41</td></tr>",
                            "<tr><td>10</td><td>2016</td><td>103</td><td>56</td></tr>",
                            "<tr><td>12</td><td>2016</td><td>152</td><td>95</td></tr>",
                            "<tr><td>6</td><td>2016</td><td>150</td><td>150</td></tr>",
                            "<tr><td>7</td><td>2016</td><td>28</td><td>12</td></tr>",
                            "<tr><td>8</td><td>2016</td><td>157</td><td>20</td></tr>",
                            "<tr><td>1</td><td>2016</td><td>63</td><td>4</td></tr>",
                            "<tr><td>6</td><td>2016</td><td>150</td><td>10</td></tr>",
                            "<tr><td>8</td><td>2016</td><td>157</td><td>46</td></tr>",
                            "<tr><td>9</td><td>2016</td><td>24</td><td>6</td></tr>",
                            "<tr><td>5</td><td>2017</td><td>10</td><td>6</td></tr>",
                            "<tr><td>6</td><td>2017</td><td>29</td><td>29</td></tr>",
                            "<tr><td>12</td><td>2016</td><td>152</td><td>21</td></tr>",
                            "<tr><td>4</td><td>2017</td><td>12</td><td>5</td></tr>",
                            "<tr><td>12</td><td>2016</td><td>152</td><td>44</td></tr>",
                            "<tr><td>12</td><td>2017</td><td>27</td><td>1</td></tr>",
                            "<tr><td>12</td><td>2016</td><td>152</td><td>144</td></tr>",
                            "<tr><td>12</td><td>2017</td><td>27</td><td>24</td></tr>",
                            "<tr><td>6</td><td>2017</td><td>29</td><td>3</td></tr>",
                            "<tr><td>12</td><td>2016</td><td>152</td><td>72</td></tr>",
                            "<tr><td>12</td><td>2016</td><td>152</td><td>121</td></tr>",
                            "<tr><td>4</td><td>2016</td><td>61</td><td>22</td></tr>",
                            "<tr><td>4</td><td>2016</td><td>61</td><td>34</td></tr>",
                            "<tr><td>8</td><td>2016</td><td>157</td><td>3</td></tr>",
                            "<tr><td>10</td><td>2016</td><td>103</td><td>50</td></tr>",
                            "<tr><td>11</td><td>2016</td><td>23</td><td>17</td></tr>",
                            "<tr><td>12</td><td>2016</td><td>152</td><td>101</td></tr>",
                            "<tr><td>7</td><td>2016</td><td>28</td><td>6</td></tr>",
                            "<tr><td>2</td><td>2017</td><td>5</td><td>5</td></tr>",
                            "<tr><td>3</td><td>2017</td><td>4</td><td>4</td></tr>",
                            "<tr><td>7</td><td>2016</td><td>28</td><td>20</td></tr>",
                            "<tr><td>10</td><td>2016</td><td>103</td><td>1</td></tr>",
                            "<tr><td>10</td><td>2016</td><td>103</td><td>13</td></tr>",
                            "<tr><td>12</td><td>2016</td><td>152</td><td>52</td></tr>",
                            "<tr><td>12</td><td>2016</td><td>152</td><td>64</td></tr>",
                            "<tr><td>1</td><td>2016</td><td>63</td><td>18</td></tr>",
                            "<tr><td>1</td><td>2016</td><td>63</td><td>30</td></tr>",
                            "<tr><td>6</td><td>2016</td><td>150</td><td>73</td></tr>",
                            "<tr><td>8</td><td>2016</td><td>157</td><td>146</td></tr>",
                            "<tr><td>10</td><td>2017</td><td>20</td><td>15</td></tr>",
                            "<tr><td>3</td><td>2016</td><td>35</td><td>22</td></tr>",
                            "<tr><td>3</td><td>2016</td><td>35</td><td>28</td></tr>",
                            "<tr><td>6</td><td>2016</td><td>150</td><td>124</td></tr>",
                            "<tr><td>6</td><td>2016</td><td>150</td><td>130</td></tr>",
                            "<tr><td>8</td><td>2016</td><td>157</td><td>95</td></tr>",
                            "<tr><td>12</td><td>2016</td><td>152</td><td>9</td></tr>",
                            "<tr><td>12</td><td>2016</td><td>152</td><td>15</td></tr>",
                            "<tr><td>8</td><td>2016</td><td>157</td><td>40</td></tr>",
                            "<tr><td>10</td><td>2016</td><td>103</td><td>7</td></tr>",
                            "<tr><td>12</td><td>2016</td><td>152</td><td>58</td></tr>",
                            "<tr><td>1</td><td>2016</td><td>63</td><td>24</td></tr>",
                            "<tr><td>6</td><td>2016</td><td>150</td><td>30</td></tr>",
                            "<tr><td>9</td><td>2016</td><td>24</td><td>12</td></tr>",
                            "<tr><td>10</td><td>2017</td><td>20</td><td>9</td></tr>",
                            "<tr><td>1</td><td>2016</td><td>63</td><td>38</td></tr>",
                            "<tr><td>10</td><td>2016</td><td>103</td><td>44</td></tr>",
                            "<tr><td>11</td><td>2016</td><td>23</td><td>11</td></tr>",
                            "<tr><td>1</td><td>2017</td><td>7</td><td>4</td></tr>",
                            "<tr><td>4</td><td>2016</td><td>61</td><td>5</td></tr>",
                            "<tr><td>8</td><td>2017</td><td>47</td><td>1</td></tr>",
                            "<tr><td>2</td><td>2016</td><td>13</td><td>4</td></tr>",
                            "<tr><td>12</td><td>2017</td><td>27</td><td>15</td></tr>",
                            "<tr><td>8</td><td>2017</td><td>47</td><td>47</td></tr>",
                            "<tr><td>9</td><td>2017</td><td>5</td><td>5</td></tr>",
                            "<tr><td>6</td><td>2016</td><td>150</td><td>47</td></tr>",
                            "<tr><td>6</td><td>2017</td><td>29</td><td>23</td></tr>",
                            "<tr><td>8</td><td>2016</td><td>157</td><td>6</td></tr>",
                            "<tr><td>8</td><td>2016</td><td>157</td><td>83</td></tr>",
                            "<tr><td>3</td><td>2016</td><td>35</td><td>11</td></tr>",
                            "<tr><td>6</td><td>2016</td><td>150</td><td>64</td></tr>",
                            "<tr><td>6</td><td>2016</td><td>150</td><td>70</td></tr>",
                            "<tr><td>8</td><td>2016</td><td>157</td><td>106</td></tr>",
                            "<tr><td>6</td><td>2016</td><td>150</td><td>93</td></tr>",
                            "<tr><td>7</td><td>2016</td><td>28</td><td>26</td></tr>",
                            "<tr><td>8</td><td>2016</td><td>157</td><td>52</td></tr>",
                            "<tr><td>8</td><td>2016</td><td>157</td><td>129</td></tr>",
                            "<tr><td>10</td><td>2016</td><td>103</td><td>90</td></tr>",
                            "<tr><td>12</td><td>2017</td><td>27</td><td>21</td></tr>",
                            "<tr><td>1</td><td>2016</td><td>63</td><td>61</td></tr>",
                            "<tr><td>6</td><td>2016</td><td>150</td><td>116</td></tr>",
                            "<tr><td>7</td><td>2016</td><td>28</td><td>3</td></tr>",
                            "<tr><td>8</td><td>2016</td><td>157</td><td>29</td></tr>",
                            "<tr><td>10</td><td>2016</td><td>103</td><td>67</td></tr>",
                            "<tr><td>11</td><td>2017</td><td>3</td><td>3</td></tr>",
                            "<tr><td>1</td><td>2016</td><td>63</td><td>44</td></tr>",
                            "<tr><td>5</td><td>2016</td><td>43</td><td>35</td></tr>",
                            "<tr><td>5</td><td>2017</td><td>10</td><td>3</td></tr>",
                            "<tr><td>11</td><td>2016</td><td>23</td><td>5</td></tr>",
                            "<tr><td>8</td><td>2017</td><td>47</td><td>7</td></tr>",
                            "<tr><td>10</td><td>2016</td><td>103</td><td>27</td></tr>",
                            "<tr><td>1</td><td>2016</td><td>63</td><td>7</td></tr>",
                            "<tr><td>6</td><td>2016</td><td>150</td><td>1</td></tr>",
                            "<tr><td>8</td><td>2016</td><td>157</td><td>123</td></tr>",
                            "<tr><td>12</td><td>2016</td><td>152</td><td>138</td></tr>",
                            "<tr><td>4</td><td>2016</td><td>61</td><td>45</td></tr>",
                            "<tr><td>4</td><td>2017</td><td>12</td><td>8</td></tr>",
                            "<tr><td>6</td><td>2016</td><td>150</td><td>147</td></tr>",
                            "<tr><td>8</td><td>2016</td><td>157</td><td>60</td></tr>",
                            "<tr><td>10</td><td>2016</td><td>103</td><td>36</td></tr>",
                            "<tr><td>10</td><td>2016</td><td>103</td><td>73</td></tr>",
                            "<tr><td>12</td><td>2016</td><td>152</td><td>78</td></tr>",
                            "<tr><td>1</td><td>2016</td><td>63</td><td>53</td></tr>",
                            "<tr><td>6</td><td>2016</td><td>150</td><td>53</td></tr>",
                            "<tr><td>8</td><td>2016</td><td>157</td><td>12</td></tr>",
                            "<tr><td>3</td><td>2016</td><td>35</td><td>5</td></tr>",
                            "<tr><td>6</td><td>2016</td><td>150</td><td>101</td></tr>",
                            "<tr><td>8</td><td>2016</td><td>157</td><td>112</td></tr>",
                            "<tr><td>12</td><td>2016</td><td>152</td><td>38</td></tr>",
                            "<tr><td>2</td><td>2016</td><td>13</td><td>10</td></tr>",
                            "<tr><td>6</td><td>2016</td><td>150</td><td>7</td></tr>",
                            "<tr><td>8</td><td>2017</td><td>47</td><td>18</td></tr>",
                            "<tr><td>12</td><td>2017</td><td>27</td><td>9</td></tr>",
                            "<tr><td>4</td><td>2016</td><td>61</td><td>51</td></tr>",
                            "<tr><td>6</td><td>2016</td><td>150</td><td>104</td></tr>",
                            "<tr><td>12</td><td>2016</td><td>152</td><td>84</td></tr>",
                            "<tr><td>3</td><td>2016</td><td>35</td><td>19</td></tr>",
                            "<tr><td>5</td><td>2017</td><td>10</td><td>9</td></tr>",
                            "<tr><td>6</td><td>2016</td><td>150</td><td>127</td></tr>",
                            "<tr><td>8</td><td>2016</td><td>157</td><td>92</td></tr>",
                            "<tr><td>1</td><td>2016</td><td>63</td><td>27</td></tr>",
                            "<tr><td>9</td><td>2016</td><td>24</td><td>9</td></tr>",
                            "<tr><td>12</td><td>2016</td><td>152</td><td>118</td></tr>",
                            "<tr><td>10</td><td>2016</td><td>103</td><td>10</td></tr>",
                            "<tr><td>12</td><td>2016</td><td>152</td><td>141</td></tr>",
                            "<tr><td>8</td><td>2016</td><td>157</td><td>23</td></tr>",
                            "<tr><td>12</td><td>2016</td><td>152</td><td>92</td></tr>",
                            "<tr><td>2</td><td>2017</td><td>5</td><td>2</td></tr>",
                            "<tr><td>12</td><td>2016</td><td>152</td><td>147</td></tr>",
                            "<tr><td>4</td><td>2017</td><td>12</td><td>2</td></tr>",
                            "<tr><td>3</td><td>2016</td><td>35</td><td>25</td></tr>",
                            "<tr><td>6</td><td>2017</td><td>29</td><td>26</td></tr>",
                            "<tr><td>8</td><td>2016</td><td>157</td><td>86</td></tr>",
                            "<tr><td>1</td><td>2016</td><td>63</td><td>21</td></tr>",
                            "<tr><td>6</td><td>2016</td><td>150</td><td>27</td></tr>",
                            "<tr><td>8</td><td>2017</td><td>47</td><td>44</td></tr>",
                            "<tr><td>9</td><td>2016</td><td>24</td><td>3</td></tr>",
                            "<tr><td>9</td><td>2016</td><td>24</td><td>15</td></tr>",
                            "<tr><td>10</td><td>2017</td><td>20</td><td>6</td></tr>",
                            "<tr><td>10</td><td>2017</td><td>20</td><td>18</td></tr>",
                            "<tr><td>3</td><td>2017</td><td>4</td><td>1</td></tr>",
                            "<tr><td>6</td><td>2016</td><td>150</td><td>84</td></tr>",
                            "<tr><td>8</td><td>2016</td><td>157</td><td>49</td></tr>",
                            "<tr><td>8</td><td>2016</td><td>157</td><td>135</td></tr>",
                            "<tr><td>10</td><td>2016</td><td>103</td><td>96</td></tr>",
                            "<tr><td>5</td><td>2016</td><td>43</td><td>12</td></tr>",
                            "<tr><td>5</td><td>2016</td><td>43</td><td>24</td></tr>",
                            "<tr><td>7</td><td>2016</td><td>28</td><td>9</td></tr>",
                            "<tr><td>4</td><td>2016</td><td>61</td><td>25</td></tr>",
                            "<tr><td>4</td><td>2016</td><td>61</td><td>31</td></tr>",
                            "<tr><td>11</td><td>2016</td><td>23</td><td>14</td></tr>",
                            "<tr><td>8</td><td>2016</td><td>157</td><td>43</td></tr>",
                            "<tr><td>10</td><td>2016</td><td>103</td><td>4</td></tr>",
                            "<tr><td>12</td><td>2016</td><td>152</td><td>61</td></tr>",
                            "<tr><td>5</td><td>2016</td><td>43</td><td>18</td></tr>",
                            "<tr><td>6</td><td>2016</td><td>150</td><td>115</td></tr>",
                            "<tr><td>8</td><td>2017</td><td>47</td><td>2</td></tr>",
                            "<tr><td>6</td><td>2016</td><td>150</td><td>138</td></tr>",
                            "<tr><td>7</td><td>2016</td><td>28</td><td>25</td></tr>",
                            "<tr><td>8</td><td>2016</td><td>157</td><td>57</td></tr>",
                            "<tr><td>8</td><td>2017</td><td>47</td><td>25</td></tr>",
                            "<tr><td>11</td><td>2016</td><td>23</td><td>10</td></tr>",
                            "<tr><td>8</td><td>2016</td><td>157</td><td>34</td></tr>",
                            "<tr><td>12</td><td>2016</td><td>152</td><td>129</td></tr>",
                            "<tr><td>3</td><td>2016</td><td>35</td><td>33</td></tr>",
                            "<tr><td>12</td><td>2016</td><td>152</td><td>152</td></tr>",
                            "<tr><td>12</td><td>2017</td><td>27</td><td>16</td></tr>",
                            "<tr><td>1</td><td>2016</td><td>63</td><td>35</td></tr>",
                            "<tr><td>3</td><td>2016</td><td>35</td><td>10</td></tr>",
                            "<tr><td>5</td><td>2016</td><td>43</td><td>26</td></tr>",
                            "<tr><td>2</td><td>2016</td><td>13</td><td>3</td></tr>",
                            "<tr><td>5</td><td>2016</td><td>43</td><td>3</td></tr>",
                            "<tr><td>6</td><td>2016</td><td>150</td><td>46</td></tr>",
                            "<tr><td>6</td><td>2017</td><td>29</td><td>24</td></tr>",
                            "<tr><td>10</td><td>2016</td><td>103</td><td>95</td></tr>",
                            "<tr><td>6</td><td>2016</td><td>150</td><td>69</td></tr>",
                            "<tr><td>6</td><td>2017</td><td>29</td><td>1</td></tr>",
                            "<tr><td>1</td><td>2016</td><td>63</td><td>12</td></tr>",
                            "<tr><td>8</td><td>2016</td><td>157</td><td>5</td></tr>",
                            "<tr><td>8</td><td>2016</td><td>157</td><td>128</td></tr>",
                            "<tr><td>10</td><td>2016</td><td>103</td><td>18</td></tr>",
                            "<tr><td>4</td><td>2016</td><td>61</td><td>10</td></tr>",
                            "<tr><td>4</td><td>2017</td><td>12</td><td>9</td></tr>",
                            "<tr><td>8</td><td>2016</td><td>157</td><td>74</td></tr>",
                            "<tr><td>8</td><td>2016</td><td>157</td><td>157</td></tr>",
                            "<tr><td>12</td><td>2016</td><td>152</td><td>77</td></tr>",
                            "<tr><td>5</td><td>2017</td><td>10</td><td>4</td></tr>",
                            "<tr><td>6</td><td>2016</td><td>150</td><td>15</td></tr>",
                            "<tr><td>8</td><td>2017</td><td>47</td><td>19</td></tr>",
                            "<tr><td>4</td><td>2016</td><td>61</td><td>56</td></tr>",
                            "<tr><td>7</td><td>2017</td><td>6</td><td>2</td></tr>",
                            "<tr><td>12</td><td>2016</td><td>152</td><td>43</td></tr>",
                            "<tr><td>1</td><td>2016</td><td>63</td><td>6</td></tr>",
                            "<tr><td>6</td><td>2016</td><td>150</td><td>98</td></tr>",
                            "<tr><td>3</td><td>2016</td><td>35</td><td>4</td></tr>",
                            "<tr><td>8</td><td>2016</td><td>157</td><td>65</td></tr>",
                            "<tr><td>10</td><td>2016</td><td>103</td><td>35</td></tr>",
                            "<tr><td>1</td><td>2016</td><td>63</td><td>52</td></tr>",
                            "<tr><td>2</td><td>2016</td><td>13</td><td>9</td></tr>",
                            "<tr><td>6</td><td>2016</td><td>150</td><td>52</td></tr>",
                            "<tr><td>1</td><td>2017</td><td>7</td><td>5</td></tr>",
                            "<tr><td>4</td><td>2016</td><td>61</td><td>50</td></tr>",
                            "<tr><td>10</td><td>2016</td><td>103</td><td>81</td></tr>",
                            "<tr><td>12</td><td>2016</td><td>152</td><td>37</td></tr>",
                            "<tr><td>1</td><td>2016</td><td>63</td><td>49</td></tr>",
                            "<tr><td>5</td><td>2016</td><td>43</td><td>43</td></tr>",
                            "<tr><td>6</td><td>2016</td><td>150</td><td>6</td></tr>",
                            "<tr><td>8</td><td>2016</td><td>157</td><td>17</td></tr>",
                            "<tr><td>12</td><td>2017</td><td>27</td><td>10</td></tr>",
                            "<tr><td>1</td><td>2016</td><td>63</td><td>26</td></tr>",
                            "<tr><td>4</td><td>2017</td><td>12</td><td>3</td></tr>",
                            "<tr><td>5</td><td>2016</td><td>43</td><td>17</td></tr>",
                            "<tr><td>9</td><td>2016</td><td>24</td><td>8</td></tr>",
                            "<tr><td>10</td><td>2016</td><td>103</td><td>32</td></tr>",
                            "<tr><td>10</td><td>2016</td><td>103</td><td>9</td></tr>",
                            "<tr><td>6</td><td>2017</td><td>29</td><td>7</td></tr>",
                            "<tr><td>10</td><td>2017</td><td>20</td><td>1</td></tr>",
                            "<tr><td>12</td><td>2016</td><td>152</td><td>140</td></tr>",
                            "<tr><td>3</td><td>2016</td><td>35</td><td>16</td></tr>",
                            "<tr><td>4</td><td>2016</td><td>61</td><td>36</td></tr>",
                            "<tr><td>12</td><td>2016</td><td>152</td><td>46</td></tr>",
                            "<tr><td>12</td><td>2016</td><td>152</td><td>123</td></tr>",
                            "<tr><td>6</td><td>2017</td><td>29</td><td>27</td></tr>",
                            "<tr><td>12</td><td>2016</td><td>152</td><td>97</td></tr>",
                            "<tr><td>12</td><td>2016</td><td>152</td><td>146</td></tr>",
                            "<tr><td>1</td><td>2016</td><td>63</td><td>32</td></tr>",
                            "<tr><td>6</td><td>2016</td><td>150</td><td>26</td></tr>",
                            "<tr><td>9</td><td>2016</td><td>24</td><td>14</td></tr>",
                            "<tr><td>2</td><td>2017</td><td>5</td><td>3</td></tr>",
                            "<tr><td>3</td><td>2016</td><td>35</td><td>24</td></tr>",
                            "<tr><td>6</td><td>2016</td><td>150</td><td>132</td></tr>",
                            "<tr><td>10</td><td>2016</td><td>103</td><td>15</td></tr>",
                            "<tr><td>7</td><td>2016</td><td>28</td><td>8</td></tr>",
                            "<tr><td>8</td><td>2017</td><td>47</td><td>45</td></tr>",
                            "<tr><td>3</td><td>2017</td><td>4</td><td>2</td></tr>",
                            "<tr><td>8</td><td>2016</td><td>157</td><td>48</td></tr>",
                            "<tr><td>8</td><td>2016</td><td>157</td><td>134</td></tr>",
                            "<tr><td>12</td><td>2016</td><td>152</td><td>17</td></tr>",
                            "<tr><td>12</td><td>2016</td><td>152</td><td>103</td></tr>",
                            "<tr><td>4</td><td>2016</td><td>61</td><td>30</td></tr>",
                            "<tr><td>10</td><td>2016</td><td>103</td><td>52</td></tr>",
                            "<tr><td>10</td><td>2016</td><td>103</td><td>58</td></tr>",
                            "<tr><td>10</td><td>2016</td><td>103</td><td>101</td></tr>",
                            "<tr><td>6</td><td>2017</td><td>29</td><td>15</td></tr>",
                            "<tr><td>8</td><td>2016</td><td>157</td><td>91</td></tr>",
                            "<tr><td>8</td><td>2016</td><td>157</td><td>140</td></tr>",
                            "<tr><td>11</td><td>2016</td><td>23</td><td>19</td></tr>",
                            "<tr><td>12</td><td>2016</td><td>152</td><td>109</td></tr>",
                            "<tr><td>3</td><td>2016</td><td>35</td><td>7</td></tr>",
                            "<tr><td>5</td><td>2016</td><td>43</td><td>29</td></tr>",
                            "<tr><td>9</td><td>2016</td><td>24</td><td>20</td></tr>",
                            "<tr><td>1</td><td>2016</td><td>63</td><td>15</td></tr>",
                            "<tr><td>3</td><td>2016</td><td>35</td><td>30</td></tr>",
                            "<tr><td>8</td><td>2016</td><td>157</td><td>8</td></tr>",
                            "<tr><td>10</td><td>2016</td><td>103</td><td>21</td></tr>",
                            "<tr><td>1</td><td>2017</td><td>7</td><td>2</td></tr>",
                            "<tr><td>2</td><td>2016</td><td>13</td><td>6</td></tr>",
                            "<tr><td>6</td><td>2017</td><td>29</td><td>21</td></tr>",
                            "<tr><td>11</td><td>2016</td><td>23</td><td>13</td></tr>",
                            "<tr><td>6</td><td>2016</td><td>150</td><td>112</td></tr>",
                            "<tr><td>6</td><td>2016</td><td>150</td><td>118</td></tr>",
                            "<tr><td>8</td><td>2016</td><td>157</td><td>77</td></tr>",
                            "<tr><td>8</td><td>2016</td><td>157</td><td>148</td></tr>",
                            "<tr><td>8</td><td>2016</td><td>157</td><td>154</td></tr>",
                            "<tr><td>8</td><td>2017</td><td>47</td><td>5</td></tr>",
                            "<tr><td>6</td><td>2016</td><td>150</td><td>95</td></tr>",
                            "<tr><td>8</td><td>2016</td><td>157</td><td>100</td></tr>",
                            "<tr><td>8</td><td>2016</td><td>157</td><td>131</td></tr>",
                            "<tr><td>6</td><td>2016</td><td>150</td><td>66</td></tr>",
                            "<tr><td>7</td><td>2016</td><td>28</td><td>5</td></tr>",
                            "<tr><td>10</td><td>2016</td><td>103</td><td>69</td></tr>",
                            "<tr><td>11</td><td>2017</td><td>3</td><td>1</td></tr>",
                            "<tr><td>5</td><td>2016</td><td>43</td><td>6</td></tr>",
                            "<tr><td>6</td><td>2016</td><td>150</td><td>141</td></tr>",
                            "<tr><td>7</td><td>2016</td><td>28</td><td>28</td></tr>",
                            "<tr><td>8</td><td>2016</td><td>157</td><td>54</td></tr>",
                            "<tr><td>10</td><td>2016</td><td>103</td><td>92</td></tr>",
                            "<tr><td>3</td><td>2016</td><td>35</td><td>13</td></tr>",
                            "<tr><td>10</td><td>2016</td><td>103</td><td>38</td></tr>",
                            "<tr><td>1</td><td>2016</td><td>63</td><td>9</td></tr>",
                            "<tr><td>6</td><td>2016</td><td>150</td><td>3</td></tr>",
                            "<tr><td>8</td><td>2016</td><td>157</td><td>14</td></tr>",
                            "<tr><td>4</td><td>2016</td><td>61</td><td>47</td></tr>",
                            "<tr><td>4</td><td>2016</td><td>61</td><td>59</td></tr>",
                            "<tr><td>8</td><td>2016</td><td>157</td><td>25</td></tr>",
                            "<tr><td>8</td><td>2016</td><td>157</td><td>108</td></tr>",
                            "<tr><td>9</td><td>2017</td><td>5</td><td>3</td></tr>",
                            "<tr><td>10</td><td>2016</td><td>103</td><td>75</td></tr>",
                            "<tr><td>12</td><td>2016</td><td>152</td><td>40</td></tr>",
                            "<tr><td>1</td><td>2016</td><td>63</td><td>55</td></tr>",
                            "<tr><td>5</td><td>2016</td><td>43</td><td>37</td></tr>",
                            "<tr><td>5</td><td>2017</td><td>10</td><td>1</td></tr>",
                            "<tr><td>6</td><td>2016</td><td>150</td><td>49</td></tr>",
                            "<tr><td>8</td><td>2017</td><td>47</td><td>22</td></tr>",
                            "<tr><td>4</td><td>2016</td><td>61</td><td>7</td></tr>",
                            "<tr><td>6</td><td>2016</td><td>150</td><td>106</td></tr>",
                            "<tr><td>8</td><td>2016</td><td>157</td><td>71</td></tr>",
                            "<tr><td>10</td><td>2016</td><td>103</td><td>29</td></tr>",
                            "<tr><td>12</td><td>2016</td><td>152</td><td>80</td></tr>",
                            "<tr><td>12</td><td>2016</td><td>152</td><td>86</td></tr>",
                            "<tr><td>1</td><td>2016</td><td>63</td><td>46</td></tr>",
                            "<tr><td>6</td><td>2016</td><td>150</td><td>58</td></tr>",
                            "<tr><td>12</td><td>2017</td><td>27</td><td>7</td></tr>",
                            "<tr><td>12</td><td>2017</td><td>27</td><td>13</td></tr>",
                            "<tr><td>4</td><td>2016</td><td>61</td><td>53</td></tr>",
                            "<tr><td>7</td><td>2017</td><td>6</td><td>5</td></tr>",
                            "<tr><td>8</td><td>2016</td><td>157</td><td>114</td></tr>",
                            "<tr><td>8</td><td>2016</td><td>157</td><td>117</td></tr>",
                            "<tr><td>12</td><td>2016</td><td>152</td><td>132</td></tr>",
                            "<tr><td>2</td><td>2016</td><td>13</td><td>12</td></tr>",
                            "<tr><td>8</td><td>2017</td><td>47</td><td>16</td></tr>",
                            "<tr><td>8</td><td>2016</td><td>157</td><td>68</td></tr>",
                            "<tr><td>1</td><td>2016</td><td>63</td><td>3</td></tr>",
                            "<tr><td>6</td><td>2016</td><td>150</td><td>9</td></tr>",
                            "<tr><td>11</td><td>2016</td><td>23</td><td>22</td></tr>",
                            "<tr><td>12</td><td>2016</td><td>152</td><td>143</td></tr>",
                            "<tr><td>6</td><td>2016</td><td>150</td><td>149</td></tr>",
                            "<tr><td>7</td><td>2016</td><td>28</td><td>11</td></tr>",
                            "<tr><td>8</td><td>2017</td><td>47</td><td>36</td></tr>",
                            "<tr><td>12</td><td>2017</td><td>27</td><td>27</td></tr>",
                            "<tr><td>12</td><td>2017</td><td>27</td><td>4</td></tr>",
                            "<tr><td>4</td><td>2016</td><td>61</td><td>13</td></tr>",
                            "<tr><td>4</td><td>2016</td><td>61</td><td>19</td></tr>",
                            "<tr><td>4</td><td>2017</td><td>12</td><td>6</td></tr>",
                            "<tr><td>11</td><td>2016</td><td>23</td><td>2</td></tr>",
                            "<tr><td>12</td><td>2016</td><td>152</td><td>20</td></tr>",
                            "<tr><td>6</td><td>2017</td><td>29</td><td>4</td></tr>",
                            "<tr><td>12</td><td>2016</td><td>152</td><td>120</td></tr>",
                            "<tr><td>4</td><td>2016</td><td>61</td><td>39</td></tr>",
                            "<tr><td>6</td><td>2016</td><td>150</td><td>121</td></tr>",
                            "<tr><td>12</td><td>2016</td><td>152</td><td>6</td></tr>",
                            "<tr><td>8</td><td>2016</td><td>157</td><td>2</td></tr>",
                            "<tr><td>8</td><td>2016</td><td>157</td><td>51</td></tr>",
                            "<tr><td>11</td><td>2016</td><td>23</td><td>16</td></tr>",
                            "<tr><td>12</td><td>2016</td><td>152</td><td>100</td></tr>",
                            "<tr><td>12</td><td>2016</td><td>152</td><td>112</td></tr>",
                            "<tr><td>12</td><td>2016</td><td>152</td><td>149</td></tr>",
                            "<tr><td>6</td><td>2016</td><td>150</td><td>72</td></tr>",
                            "<tr><td>10</td><td>2017</td><td>20</td><td>4</td></tr>",
                            "<tr><td>4</td><td>2016</td><td>61</td><td>33</td></tr>",
                            "<tr><td>6</td><td>2016</td><td>150</td><td>86</td></tr>",
                            "<tr><td>6</td><td>2016</td><td>150</td><td>135</td></tr>",
                            "<tr><td>10</td><td>2016</td><td>103</td><td>12</td></tr>",
                            "<tr><td>10</td><td>2016</td><td>103</td><td>49</td></tr>",
                            "<tr><td>10</td><td>2016</td><td>103</td><td>61</td></tr>",
                            "<tr><td>10</td><td>2016</td><td>103</td><td>98</td></tr>",
                            "<tr><td>5</td><td>2016</td><td>43</td><td>14</td></tr>",
                            "<tr><td>5</td><td>2016</td><td>43</td><td>20</td></tr>",
                            "<tr><td>6</td><td>2016</td><td>150</td><td>29</td></tr>",
                            "<tr><td>6</td><td>2016</td><td>150</td><td>35</td></tr>",
                            "<tr><td>9</td><td>2016</td><td>24</td><td>11</td></tr>",
                            "<tr><td>9</td><td>2016</td><td>24</td><td>17</td></tr>",
                            "<tr><td>6</td><td>2017</td><td>29</td><td>18</td></tr>",
                            "<tr><td>8</td><td>2016</td><td>157</td><td>88</td></tr>",
                            "<tr><td>8</td><td>2016</td><td>157</td><td>94</td></tr>",
                            "<tr><td>12</td><td>2016</td><td>152</td><td>57</td></tr>",
                            "<tr><td>12</td><td>2016</td><td>152</td><td>63</td></tr>",
                            "<tr><td>6</td><td>2016</td><td>150</td><td>78</td></tr>",
                            "<tr><td>7</td><td>2016</td><td>28</td><td>17</td></tr>",
                            "<tr><td>8</td><td>2017</td><td>47</td><td>42</td></tr>",
                            "<tr><td>10</td><td>2017</td><td>20</td><td>10</td></tr>",
                            "<tr><td>3</td><td>2016</td><td>35</td><td>27</td></tr>",
                            "<tr><td>4</td><td>2016</td><td>61</td><td>27</td></tr>",
                            "<tr><td>6</td><td>2016</td><td>150</td><td>129</td></tr>",
                            "<tr><td>10</td><td>2016</td><td>103</td><td>55</td></tr>",
                            "<tr><td>4</td><td>2016</td><td>61</td><td>52</td></tr>",
                            "<tr><td>12</td><td>2016</td><td>152</td><td>131</td></tr>",
                            "<tr><td>1</td><td>2017</td><td>7</td><td>3</td></tr>",
                            "<tr><td>4</td><td>2016</td><td>61</td><td>4</td></tr>",
                            "<tr><td>8</td><td>2016</td><td>157</td><td>105</td></tr>",
                            "<tr><td>10</td><td>2016</td><td>103</td><td>20</td></tr>",
                            "<tr><td>6</td><td>2017</td><td>29</td><td>22</td></tr>",
                            "<tr><td>9</td><td>2016</td><td>24</td><td>19</td></tr>",
                            "<tr><td>8</td><td>2016</td><td>157</td><td>30</td></tr>",
                            "<tr><td>10</td><td>2016</td><td>103</td><td>89</td></tr>",
                            "<tr><td>3</td><td>2016</td><td>35</td><td>35</td></tr>",
                            "<tr><td>6</td><td>2016</td><td>150</td><td>94</td></tr>",
                            "<tr><td>1</td><td>2016</td><td>63</td><td>37</td></tr>",
                            "<tr><td>3</td><td>2016</td><td>35</td><td>12</td></tr>",
                            "<tr><td>5</td><td>2016</td><td>43</td><td>28</td></tr>",
                            "<tr><td>6</td><td>2016</td><td>150</td><td>40</td></tr>",
                            "<tr><td>8</td><td>2016</td><td>157</td><td>76</td></tr>",
                            "<tr><td>8</td><td>2016</td><td>157</td><td>153</td></tr>",
                            "<tr><td>10</td><td>2016</td><td>103</td><td>43</td></tr>",
                            "<tr><td>1</td><td>2016</td><td>63</td><td>60</td></tr>",
                            "<tr><td>5</td><td>2016</td><td>43</td><td>5</td></tr>",
                            "<tr><td>6</td><td>2016</td><td>150</td><td>17</td></tr>",
                            "<tr><td>6</td><td>2016</td><td>150</td><td>140</td></tr>",
                            "<tr><td>7</td><td>2016</td><td>28</td><td>2</td></tr>",
                            "<tr><td>8</td><td>2016</td><td>157</td><td>53</td></tr>",
                            "<tr><td>10</td><td>2016</td><td>103</td><td>66</td></tr>",
                            "<tr><td>11</td><td>2017</td><td>3</td><td>2</td></tr>",
                            "<tr><td>12</td><td>2017</td><td>27</td><td>22</td></tr>",
                            "<tr><td>4</td><td>2016</td><td>61</td><td>58</td></tr>",
                            "<tr><td>8</td><td>2016</td><td>157</td><td>122</td></tr>",
                            "<tr><td>8</td><td>2017</td><td>47</td><td>8</td></tr>",
                            "<tr><td>10</td><td>2016</td><td>103</td><td>74</td></tr>",
                            "<tr><td>12</td><td>2016</td><td>152</td><td>125</td></tr>",
                            "<tr><td>12</td><td>2016</td><td>152</td><td>137</td></tr>",
                            "<tr><td>1</td><td>2016</td><td>63</td><td>8</td></tr>",
                            "<tr><td>6</td><td>2016</td><td>150</td><td>63</td></tr>",
                            "<tr><td>10</td><td>2016</td><td>103</td><td>26</td></tr>",
                            "<tr><td>1</td><td>2016</td><td>63</td><td>43</td></tr>",
                            "<tr><td>5</td><td>2016</td><td>43</td><td>34</td></tr>",
                            "<tr><td>6</td><td>2016</td><td>150</td><td>111</td></tr>",
                            "<tr><td>10</td><td>2016</td><td>103</td><td>37</td></tr>",
                            "<tr><td>12</td><td>2016</td><td>152</td><td>91</td></tr>",
                            "<tr><td>1</td><td>2016</td><td>63</td><td>54</td></tr>",
                            "<tr><td>4</td><td>2016</td><td>61</td><td>44</td></tr>",
                            "<tr><td>6</td><td>2016</td><td>150</td><td>146</td></tr>",
                            "<tr><td>9</td><td>2017</td><td>5</td><td>4</td></tr>",
                            "<tr><td>8</td><td>2017</td><td>47</td><td>17</td></tr>",
                            "<tr><td>10</td><td>2016</td><td>103</td><td>83</td></tr>",
                            "<tr><td>12</td><td>2017</td><td>27</td><td>8</td></tr>",
                            "<tr><td>12</td><td>2017</td><td>27</td><td>14</td></tr>",
                            "<tr><td>6</td><td>2016</td><td>150</td><td>100</td></tr>",
                            "<tr><td>8</td><td>2016</td><td>157</td><td>13</td></tr>",
                            "<tr><td>8</td><td>2016</td><td>157</td><td>19</td></tr>",
                            "<tr><td>12</td><td>2016</td><td>152</td><td>85</td></tr>",
                            "<tr><td>2</td><td>2016</td><td>13</td><td>11</td></tr>",
                            "<tr><td>6</td><td>2016</td><td>150</td><td>54</td></tr>",
                            "<tr><td>7</td><td>2017</td><td>6</td><td>6</td></tr>",
                            "<tr><td>8</td><td>2017</td><td>47</td><td>14</td></tr>",
                            "<tr><td>12</td><td>2016</td><td>152</td><td>48</td></tr>",
                            "<tr><td>12</td><td>2017</td><td>27</td><td>5</td></tr>",
                            "<tr><td>1</td><td>2016</td><td>63</td><td>51</td></tr>",
                            "<tr><td>5</td><td>2017</td><td>10</td><td>10</td></tr>",
                            "<tr><td>6</td><td>2016</td><td>150</td><td>8</td></tr>",
                            "<tr><td>8</td><td>2016</td><td>157</td><td>93</td></tr>",
                            "<tr><td>12</td><td>2016</td><td>152</td><td>25</td></tr>",
                            "<tr><td>1</td><td>2016</td><td>63</td><td>28</td></tr>",
                            "<tr><td>3</td><td>2016</td><td>35</td><td>18</td></tr>",
                            "<tr><td>4</td><td>2016</td><td>61</td><td>18</td></tr>",
                            "<tr><td>10</td><td>2016</td><td>103</td><td>34</td></tr>",
                            "<tr><td>11</td><td>2016</td><td>23</td><td>1</td></tr>",
                            "<tr><td>8</td><td>2016</td><td>157</td><td>22</td></tr>",
                            "<tr><td>4</td><td>2016</td><td>61</td><td>61</td></tr>",
                            "<tr><td>12</td><td>2016</td><td>152</td><td>74</td></tr>",
                            "<tr><td>12</td><td>2016</td><td>152</td><td>117</td></tr>",
                            "<tr><td>10</td><td>2017</td><td>20</td><td>19</td></tr>",
                            "<tr><td>4</td><td>2016</td><td>61</td><td>38</td></tr>",
                            "<tr><td>4</td><td>2017</td><td>12</td><td>1</td></tr>",
                            "<tr><td>10</td><td>2016</td><td>103</td><td>3</td></tr>",
                            "<tr><td>12</td><td>2016</td><td>152</td><td>54</td></tr>",
                            "<tr><td>1</td><td>2016</td><td>63</td><td>20</td></tr>",
                            "<tr><td>8</td><td>2016</td><td>157</td><td>50</td></tr>",
                            "<tr><td>8</td><td>2016</td><td>157</td><td>99</td></tr>",
                            "<tr><td>8</td><td>2017</td><td>47</td><td>31</td></tr>",
                            "<tr><td>9</td><td>2016</td><td>24</td><td>2</td></tr>",
                            "<tr><td>10</td><td>2017</td><td>20</td><td>5</td></tr>",
                            "<tr><td>12</td><td>2016</td><td>152</td><td>148</td></tr>",
                            "<tr><td>5</td><td>2016</td><td>43</td><td>25</td></tr>",
                            "<tr><td>6</td><td>2016</td><td>150</td><td>120</td></tr>",
                            "<tr><td>8</td><td>2016</td><td>157</td><td>85</td></tr>",
                            "<tr><td>9</td><td>2016</td><td>24</td><td>16</td></tr>",
                            "<tr><td>12</td><td>2016</td><td>152</td><td>5</td></tr>",
                            "<tr><td>4</td><td>2016</td><td>61</td><td>32</td></tr>",
                            "<tr><td>5</td><td>2016</td><td>43</td><td>11</td></tr>",
                            "<tr><td>6</td><td>2016</td><td>150</td><td>134</td></tr>",
                            "<tr><td>10</td><td>2016</td><td>103</td><td>60</td></tr>",
                            "<tr><td>10</td><td>2016</td><td>103</td><td>97</td></tr>",
                            "<tr><td>6</td><td>2016</td><td>150</td><td>77</td></tr>",
                            "<tr><td>6</td><td>2016</td><td>150</td><td>83</td></tr>",
                            "<tr><td>7</td><td>2016</td><td>28</td><td>10</td></tr>",
                            "<tr><td>7</td><td>2016</td><td>28</td><td>16</td></tr>",
                            "<tr><td>8</td><td>2016</td><td>157</td><td>36</td></tr>",
                            "<tr><td>8</td><td>2016</td><td>157</td><td>42</td></tr>",
                            "<tr><td>8</td><td>2016</td><td>157</td><td>136</td></tr>",
                            "<tr><td>8</td><td>2016</td><td>157</td><td>142</td></tr>",
                            "<tr><td>11</td><td>2016</td><td>23</td><td>15</td></tr>",
                            "<tr><td>11</td><td>2016</td><td>23</td><td>21</td></tr>",
                            "<tr><td>4</td><td>2016</td><td>61</td><td>24</td></tr>",
                            "<tr><td>6</td><td>2016</td><td>150</td><td>126</td></tr>",
                            "<tr><td>12</td><td>2016</td><td>152</td><td>11</td></tr>",
                            "<tr><td>10</td><td>2016</td><td>103</td><td>54</td></tr>",
                            "<tr><td>10</td><td>2016</td><td>103</td><td>103</td></tr>",
                            "<tr><td>1</td><td>2016</td><td>63</td><td>63</td></tr>",
                            "<tr><td>6</td><td>2016</td><td>150</td><td>20</td></tr>",
                            "<tr><td>8</td><td>2016</td><td>157</td><td>56</td></tr>",
                            "<tr><td>1</td><td>2016</td><td>63</td><td>40</td></tr>",
                            "<tr><td>6</td><td>2017</td><td>29</td><td>19</td></tr>",
                            "<tr><td>1</td><td>2016</td><td>63</td><td>17</td></tr>",
                            "<tr><td>3</td><td>2016</td><td>35</td><td>32</td></tr>",
                            "<tr><td>8</td><td>2016</td><td>157</td><td>10</td></tr>",
                            "<tr><td>10</td><td>2016</td><td>103</td><td>23</td></tr>",
                            "<tr><td>8</td><td>2016</td><td>157</td><td>125</td></tr>",
                            "<tr><td>5</td><td>2016</td><td>43</td><td>8</td></tr>",
                            "<tr><td>6</td><td>2016</td><td>150</td><td>137</td></tr>",
                            "<tr><td>6</td><td>2016</td><td>150</td><td>143</td></tr>",
                            "<tr><td>1</td><td>2016</td><td>63</td><td>34</td></tr>",
                            "<tr><td>6</td><td>2016</td><td>150</td><td>43</td></tr>",
                            "<tr><td>6</td><td>2016</td><td>150</td><td>114</td></tr>",
                            "<tr><td>8</td><td>2016</td><td>157</td><td>79</td></tr>",
                            "<tr><td>10</td><td>2016</td><td>103</td><td>40</td></tr>",
                            "<tr><td>11</td><td>2016</td><td>23</td><td>7</td></tr>",
                            "<tr><td>1</td><td>2016</td><td>63</td><td>11</td></tr>",
                            "<tr><td>6</td><td>2016</td><td>150</td><td>91</td></tr>",
                            "<tr><td>6</td><td>2017</td><td>29</td><td>2</td></tr>",
                            "<tr><td>8</td><td>2017</td><td>47</td><td>28</td></tr>",
                            "<tr><td>10</td><td>2016</td><td>103</td><td>17</td></tr>",
                            "<tr><td>1</td><td>2016</td><td>63</td><td>57</td></tr>",
                            "<tr><td>6</td><td>2016</td><td>150</td><td>14</td></tr>",
                            "<tr><td>6</td><td>2016</td><td>150</td><td>51</td></tr>",
                            "<tr><td>7</td><td>2017</td><td>6</td><td>3</td></tr>",
                            "<tr><td>9</td><td>2017</td><td>5</td><td>1</td></tr>",
                            "<tr><td>8</td><td>2016</td><td>157</td><td>73</td></tr>",
                            "<tr><td>8</td><td>2016</td><td>157</td><td>156</td></tr>",
                            "<tr><td>12</td><td>2016</td><td>152</td><td>88</td></tr>",
                            "<tr><td>6</td><td>2016</td><td>150</td><td>60</td></tr>",
                            "<tr><td>6</td><td>2016</td><td>150</td><td>97</td></tr>",
                            "<tr><td>4</td><td>2016</td><td>61</td><td>55</td></tr>",
                            "<tr><td>4</td><td>2017</td><td>12</td><td>12</td></tr>",
                            "<tr><td>8</td><td>2016</td><td>157</td><td>119</td></tr>",
                            "<tr><td>8</td><td>2017</td><td>47</td><td>11</td></tr>",
                            "<tr><td>12</td><td>2016</td><td>152</td><td>128</td></tr>",
                            "<tr><td>12</td><td>2016</td><td>152</td><td>134</td></tr>",
                            "<tr><td>2</td><td>2016</td><td>13</td><td>8</td></tr>",
                            "<tr><td>3</td><td>2016</td><td>35</td><td>1</td></tr>",
                            "<tr><td>4</td><td>2016</td><td>61</td><td>1</td></tr>",
                            "<tr><td>5</td><td>2016</td><td>43</td><td>42</td></tr>",
                            "<tr><td>6</td><td>2016</td><td>150</td><td>103</td></tr>",
                            "<tr><td>12</td><td>2016</td><td>152</td><td>34</td></tr>",
                            "<tr><td>6</td><td>2016</td><td>150</td><td>80</td></tr>",
                            "<tr><td>4</td><td>2016</td><td>61</td><td>41</td></tr>",
                            "<tr><td>4</td><td>2017</td><td>12</td><td>4</td></tr>",
                            "<tr><td>10</td><td>2016</td><td>103</td><td>57</td></tr>",
                            "<tr><td>3</td><td>2016</td><td>35</td><td>21</td></tr>",
                            "<tr><td>6</td><td>2017</td><td>29</td><td>10</td></tr>",
                            "<tr><td>8</td><td>2016</td><td>157</td><td>70</td></tr>",
                            "<tr><td>6</td><td>2016</td><td>150</td><td>11</td></tr>",
                            "<tr><td>10</td><td>2017</td><td>20</td><td>2</td></tr>",
                            "<tr><td>12</td><td>2016</td><td>152</td><td>45</td></tr>",
                            "<tr><td>12</td><td>2016</td><td>152</td><td>51</td></tr>",
                            "<tr><td>12</td><td>2017</td><td>27</td><td>2</td></tr>",
                            "<tr><td>3</td><td>2016</td><td>35</td><td>15</td></tr>",
                            "<tr><td>4</td><td>2016</td><td>61</td><td>15</td></tr>",
                            "<tr><td>11</td><td>2016</td><td>23</td><td>4</td></tr>",
                            "<tr><td>12</td><td>2016</td><td>152</td><td>94</td></tr>",
                            "<tr><td>5</td><td>2017</td><td>10</td><td>7</td></tr>",
                            "<tr><td>12</td><td>2016</td><td>152</td><td>71</td></tr>",
                            "<tr><td>12</td><td>2016</td><td>152</td><td>145</td></tr>",
                            "<tr><td>7</td><td>2016</td><td>28</td><td>19</td></tr>",
                            "<tr><td>4</td><td>2016</td><td>61</td><td>35</td></tr>",
                            "<tr><td>10</td><td>2016</td><td>103</td><td>14</td></tr>",
                            "<tr><td>1</td><td>2016</td><td>63</td><td>31</td></tr>",
                            "<tr><td>4</td><td>2016</td><td>61</td><td>21</td></tr>",
                            "<tr><td>5</td><td>2016</td><td>43</td><td>22</td></tr>",
                            "<tr><td>6</td><td>2016</td><td>150</td><td>37</td></tr>",
                            "<tr><td>6</td><td>2016</td><td>150</td><td>123</td></tr>",
                            "<tr><td>10</td><td>2017</td><td>20</td><td>16</td></tr>",
                            "<tr><td>8</td><td>2016</td><td>157</td><td>96</td></tr>",
                            "<tr><td>8</td><td>2016</td><td>157</td><td>133</td></tr>",
                            "<tr><td>9</td><td>2016</td><td>24</td><td>5</td></tr>",
                            "<tr><td>12</td><td>2016</td><td>152</td><td>102</td></tr>",
                            "<tr><td>12</td><td>2016</td><td>152</td><td>151</td></tr>",
                            "<tr><td>10</td><td>2016</td><td>103</td><td>6</td></tr>",
                            "<tr><td>6</td><td>2016</td><td>150</td><td>31</td></tr>",
                            "<tr><td>6</td><td>2017</td><td>29</td><td>16</td></tr>",
                            "<tr><td>9</td><td>2016</td><td>24</td><td>13</td></tr>",
                            "<tr><td>12</td><td>2016</td><td>152</td><td>8</td></tr>",
                            "<tr><td>8</td><td>2016</td><td>157</td><td>139</td></tr>",
                            "<tr><td>8</td><td>2017</td><td>47</td><td>40</td></tr>",
                            "<tr><td>10</td><td>2017</td><td>20</td><td>8</td></tr>",
                            "<tr><td>11</td><td>2016</td><td>23</td><td>18</td></tr>",
                            "<tr><td>12</td><td>2016</td><td>152</td><td>108</td></tr>",
                            "<tr><td>1</td><td>2016</td><td>63</td><td>62</td></tr>",
                            "<tr><td>10</td><td>2016</td><td>103</td><td>68</td></tr>",
                            "<tr><td>1</td><td>2016</td><td>63</td><td>39</td></tr>",
                            "<tr><td>4</td><td>2016</td><td>61</td><td>29</td></tr>",
                            "<tr><td>9</td><td>2016</td><td>24</td><td>21</td></tr>",
                            "<tr><td>10</td><td>2016</td><td>103</td><td>45</td></tr>",
                            "<tr><td>1</td><td>2016</td><td>63</td><td>16</td></tr>",
                            "<tr><td>3</td><td>2016</td><td>35</td><td>6</td></tr>",
                            "<tr><td>10</td><td>2016</td><td>103</td><td>22</td></tr>",
                            "<tr><td>2</td><td>2016</td><td>13</td><td>5</td></tr>",
                            "<tr><td>10</td><td>2017</td><td>20</td><td>14</td></tr>",
                            "<tr><td>11</td><td>2016</td><td>23</td><td>12</td></tr>",
                            "<tr><td>6</td><td>2016</td><td>150</td><td>65</td></tr>",
                            "<tr><td>7</td><td>2016</td><td>28</td><td>4</td></tr>",
                            "<tr><td>8</td><td>2016</td><td>157</td><td>101</td></tr>",
                            "<tr><td>8</td><td>2016</td><td>157</td><td>107</td></tr>",
                            "<tr><td>12</td><td>2017</td><td>27</td><td>20</td></tr>",
                            "<tr><td>6</td><td>2016</td><td>150</td><td>88</td></tr>",
                            "<tr><td>6</td><td>2016</td><td>150</td><td>119</td></tr>",
                            "<tr><td>8</td><td>2016</td><td>157</td><td>7</td></tr>",
                            "<tr><td>8</td><td>2016</td><td>157</td><td>124</td></tr>",
                            "<tr><td>8</td><td>2016</td><td>157</td><td>130</td></tr>",
                            "<tr><td>8</td><td>2017</td><td>47</td><td>6</td></tr>",
                            "<tr><td>5</td><td>2016</td><td>43</td><td>7</td></tr>",
                            "<tr><td>6</td><td>2016</td><td>150</td><td>19</td></tr>",
                            "<tr><td>8</td><td>2016</td><td>157</td><td>55</td></tr>",
                            "<tr><td>5</td><td>2016</td><td>43</td><td>30</td></tr>",
                            "<tr><td>6</td><td>2016</td><td>150</td><td>42</td></tr>",
                            "<tr><td>7</td><td>2016</td><td>28</td><td>27</td></tr>",
                            "<tr><td>1</td><td>2016</td><td>63</td><td>56</td></tr>",
                            "<tr><td>4</td><td>2016</td><td>61</td><td>46</td></tr>",
                            "<tr><td>8</td><td>2016</td><td>157</td><td>15</td></tr>",
                            "<tr><td>5</td><td>2017</td><td>10</td><td>2</td></tr>",
                            "<tr><td>6</td><td>2016</td><td>150</td><td>13</td></tr>",
                            "<tr><td>6</td><td>2016</td><td>150</td><td>96</td></tr>",
                            "<tr><td>12</td><td>2016</td><td>152</td><td>79</td></tr>",
                            "<tr><td>4</td><td>2017</td><td>12</td><td>7</td></tr>",
                            "<tr><td>6</td><td>2016</td><td>150</td><td>48</td></tr>",
                            "<tr><td>10</td><td>2016</td><td>103</td><td>85</td></tr>",
                            "<tr><td>12</td><td>2016</td><td>152</td><td>139</td></tr>",
                            "<tr><td>8</td><td>2016</td><td>157</td><td>118</td></tr>",
                            "<tr><td>8</td><td>2017</td><td>47</td><td>12</td></tr>",
                            "<tr><td>12</td><td>2016</td><td>152</td><td>87</td></tr>",
                            "<tr><td>2</td><td>2016</td><td>13</td><td>13</td></tr>",
                            "<tr><td>6</td><td>2016</td><td>150</td><td>102</td></tr>",
                            "<tr><td>6</td><td>2016</td><td>150</td><td>105</td></tr>",
                            "<tr><td>8</td><td>2016</td><td>157</td><td>67</td></tr>",
                            "<tr><td>10</td><td>2016</td><td>103</td><td>28</td></tr>",
                            "<tr><td>4</td><td>2016</td><td>61</td><td>40</td></tr>",
                            "<tr><td>11</td><td>2016</td><td>23</td><td>23</td></tr>",
                            "<tr><td>12</td><td>2016</td><td>152</td><td>119</td></tr>",
                            "<tr><td>1</td><td>2016</td><td>63</td><td>2</td></tr>",
                            "<tr><td>8</td><td>2016</td><td>157</td><td>44</td></tr>",
                            "<tr><td>3</td><td>2016</td><td>35</td><td>20</td></tr>",
                            "<tr><td>10</td><td>2016</td><td>103</td><td>11</td></tr>",
                            "<tr><td>2</td><td>2017</td><td>5</td><td>1</td></tr>",
                            "<tr><td>8</td><td>2016</td><td>157</td><td>24</td></tr>",
                            "<tr><td>12</td><td>2016</td><td>152</td><td>27</td></tr>",
                            "<tr><td>12</td><td>2017</td><td>27</td><td>26</td></tr>",
                            "<tr><td>8</td><td>2016</td><td>157</td><td>1</td></tr>",
                            "<tr><td>11</td><td>2016</td><td>23</td><td>3</td></tr>",
                            "<tr><td>12</td><td>2016</td><td>152</td><td>50</td></tr>",
                            "<tr><td>12</td><td>2016</td><td>152</td><td>93</td></tr>",
                            "<tr><td>12</td><td>2016</td><td>152</td><td>70</td></tr>",
                            "<tr><td>3</td><td>2016</td><td>35</td><td>14</td></tr>",
                            "<tr><td>10</td><td>2016</td><td>103</td><td>62</td></tr>",
                            "<tr><td>12</td><td>2016</td><td>152</td><td>113</td></tr>",
                            "<tr><td>7</td><td>2016</td><td>28</td><td>18</td></tr>",
                            "<tr><td>8</td><td>2016</td><td>157</td><td>87</td></tr>",
                            "<tr><td>10</td><td>2017</td><td>20</td><td>17</td></tr>",
                            "<tr><td>12</td><td>2016</td><td>152</td><td>7</td></tr>",
                            "<tr><td>5</td><td>2016</td><td>43</td><td>13</td></tr>",
                            "<tr><td>9</td><td>2016</td><td>24</td><td>4</td></tr>",
                            "<tr><td>12</td><td>2016</td><td>152</td><td>150</td></tr>",
                            "<tr><td>4</td><td>2016</td><td>61</td><td>20</td></tr>",
                            "<tr><td>6</td><td>2016</td><td>150</td><td>36</td></tr>",
                            "<tr><td>6</td><td>2016</td><td>150</td><td>85</td></tr>",
                            "<tr><td>6</td><td>2016</td><td>150</td><td>122</td></tr>",
                            "<tr><td>10</td><td>2016</td><td>103</td><td>48</td></tr>",
                            "<tr><td>8</td><td>2017</td><td>47</td><td>35</td></tr>",
                            "<tr><td>10</td><td>2017</td><td>20</td><td>3</td></tr>",
                            "<tr><td>1</td><td>2016</td><td>63</td><td>22</td></tr>",
                            "<tr><td>5</td><td>2016</td><td>43</td><td>19</td></tr>",
                            "<tr><td>9</td><td>2016</td><td>24</td><td>10</td></tr>",
                            "<tr><td>3</td><td>2016</td><td>35</td><td>26</td></tr>",
                            "<tr><td>4</td><td>2016</td><td>61</td><td>26</td></tr>",
                            "<tr><td>6</td><td>2016</td><td>150</td><td>79</td></tr>",
                            "<tr><td>6</td><td>2016</td><td>150</td><td>128</td></tr>",
                            "<tr><td>10</td><td>2016</td><td>103</td><td>5</td></tr>",
                            "<tr><td>6</td><td>2016</td><td>150</td><td>139</td></tr>",
                            "<tr><td>7</td><td>2016</td><td>28</td><td>1</td></tr>",
                            "<tr><td>8</td><td>2016</td><td>157</td><td>104</td></tr>",
                            "<tr><td>12</td><td>2016</td><td>152</td><td>36</td></tr>",
                            "<tr><td>12</td><td>2016</td><td>152</td><td>107</td></tr>",
                            "<tr><td>7</td><td>2016</td><td>28</td><td>24</td></tr>",
                            "<tr><td>8</td><td>2016</td><td>157</td><td>81</td></tr>",
                            "<tr><td>10</td><td>2017</td><td>20</td><td>11</td></tr>",
                            "<tr><td>12</td><td>2016</td><td>152</td><td>13</td></tr>",
                            "<tr><td>12</td><td>2016</td><td>152</td><td>130</td></tr>",
                            "<tr><td>8</td><td>2016</td><td>157</td><td>58</td></tr>",
                            "<tr><td>8</td><td>2016</td><td>157</td><td>35</td></tr>",
                            "<tr><td>9</td><td>2016</td><td>24</td><td>18</td></tr>",
                            "<tr><td>1</td><td>2016</td><td>63</td><td>59</td></tr>",
                            "<tr><td>3</td><td>2016</td><td>35</td><td>34</td></tr>",
                            "<tr><td>10</td><td>2016</td><td>103</td><td>71</td></tr>",
                            "<tr><td>2</td><td>2016</td><td>13</td><td>2</td></tr>",
                            "<tr><td>5</td><td>2016</td><td>43</td><td>27</td></tr>",
                            "<tr><td>5</td><td>2016</td><td>43</td><td>33</td></tr>",
                            "<tr><td>10</td><td>2016</td><td>103</td><td>88</td></tr>",
                            "<tr><td>10</td><td>2016</td><td>103</td><td>94</td></tr>",
                            "<tr><td>11</td><td>2016</td><td>23</td><td>9</td></tr>",
                            "<tr><td>5</td><td>2016</td><td>43</td><td>4</td></tr>",
                            "<tr><td>6</td><td>2017</td><td>29</td><td>25</td></tr>",
                            "<tr><td>9</td><td>2016</td><td>24</td><td>1</td></tr>",
                            "<tr><td>1</td><td>2016</td><td>63</td><td>36</td></tr>",
                            "<tr><td>8</td><td>2016</td><td>157</td><td>127</td></tr>",
                            "<tr><td>8</td><td>2017</td><td>47</td><td>3</td></tr>",
                            "<tr><td>9</td><td>2016</td><td>24</td><td>24</td></tr>",
                            "<tr><td>6</td><td>2016</td><td>150</td><td>62</td></tr>",
                            "<tr><td>8</td><td>2016</td><td>157</td><td>27</td></tr>",
                            "<tr><td>12</td><td>2016</td><td>152</td><td>30</td></tr>",
                            "<tr><td>4</td><td>2017</td><td>12</td><td>10</td></tr>",
                            "<tr><td>8</td><td>2016</td><td>157</td><td>75</td></tr>",
                            "<tr><td>12</td><td>2016</td><td>152</td><td>136</td></tr>",
                            "<tr><td>4</td><td>2016</td><td>61</td><td>9</td></tr>",
                            "<tr><td>6</td><td>2016</td><td>150</td><td>99</td></tr>",
                            "<tr><td>10</td><td>2016</td><td>103</td><td>25</td></tr>",
                            "<tr><td>12</td><td>2016</td><td>152</td><td>76</td></tr>",
                            "<tr><td>1</td><td>2016</td><td>63</td><td>42</td></tr>",
                            "<tr><td>4</td><td>2016</td><td>61</td><td>57</td></tr>",
                            "<tr><td>8</td><td>2016</td><td>157</td><td>121</td></tr>",
                            "<tr><td>8</td><td>2017</td><td>47</td><td>9</td></tr>",
                            "<tr><td>12</td><td>2016</td><td>152</td><td>90</td></tr>",
                            "<tr><td>4</td><td>2016</td><td>61</td><td>49</td></tr>",
                            "<tr><td>7</td><td>2017</td><td>6</td><td>1</td></tr>",
                            "<tr><td>5</td><td>2016</td><td>43</td><td>39</td></tr>",
                            "<tr><td>10</td><td>2016</td><td>103</td><td>82</td></tr>",
                            "<tr><td>3</td><td>2016</td><td>35</td><td>3</td></tr>",
                            "<tr><td>10</td><td>2016</td><td>103</td><td>31</td></tr>",
                            "<tr><td>1</td><td>2016</td><td>63</td><td>48</td></tr>",
                            "<tr><td>6</td><td>2016</td><td>150</td><td>5</td></tr>",
                            "<tr><td>6</td><td>2016</td><td>150</td><td>56</td></tr>",
                            "<tr><td>8</td><td>2016</td><td>157</td><td>21</td></tr>",
                            "<tr><td>8</td><td>2017</td><td>47</td><td>38</td></tr>",
                            "<tr><td>4</td><td>2016</td><td>61</td><td>17</td></tr>",
                            "<tr><td>6</td><td>2016</td><td>150</td><td>33</td></tr>",
                            "<tr><td>10</td><td>2016</td><td>103</td><td>8</td></tr>",
                            "<tr><td>1</td><td>2016</td><td>63</td><td>5</td></tr>",
                            "<tr><td>6</td><td>2017</td><td>29</td><td>8</td></tr>",
                            "<tr><td>8</td><td>2016</td><td>157</td><td>47</td></tr>",
                            "<tr><td>4</td><td>2016</td><td>61</td><td>43</td></tr>",
                            "<tr><td>12</td><td>2016</td><td>152</td><td>116</td></tr>",
                            "<tr><td>3</td><td>2016</td><td>35</td><td>17</td></tr>",
                            "<tr><td>4</td><td>2016</td><td>61</td><td>60</td></tr>",
                            "<tr><td>5</td><td>2017</td><td>10</td><td>5</td></tr>",
                            "<tr><td>6</td><td>2017</td><td>29</td><td>28</td></tr>",
                            "<tr><td>12</td><td>2016</td><td>152</td><td>73</td></tr>",
                            "<tr><td>10</td><td>2017</td><td>20</td><td>20</td></tr>",
                            "<tr><td>12</td><td>2016</td><td>152</td><td>47</td></tr>",
                            "<tr><td>12</td><td>2016</td><td>152</td><td>96</td></tr>",
                            "<tr><td>2</td><td>2017</td><td>5</td><td>4</td></tr>",
                            "<tr><td>3</td><td>2017</td><td>4</td><td>3</td></tr>",
                            "<tr><td>7</td><td>2016</td><td>28</td><td>7</td></tr>",
                            "<tr><td>12</td><td>2017</td><td>27</td><td>23</td></tr>",
                            "<tr><td>1</td><td>2016</td><td>63</td><td>33</td></tr>",
                            "<tr><td>4</td><td>2016</td><td>61</td><td>23</td></tr>",
                            "<tr><td>6</td><td>2016</td><td>150</td><td>39</td></tr>",
                            "<tr><td>10</td><td>2016</td><td>103</td><td>2</td></tr>",
                            "<tr><td>10</td><td>2016</td><td>103</td><td>51</td></tr>",
                            "<tr><td>1</td><td>2016</td><td>63</td><td>19</td></tr>",
                            "<tr><td>6</td><td>2016</td><td>150</td><td>25</td></tr>",
                            "<tr><td>8</td><td>2016</td><td>157</td><td>147</td></tr>",
                            "<tr><td>12</td><td>2016</td><td>152</td><td>67</td></tr>",
                            "<tr><td>7</td><td>2016</td><td>28</td><td>21</td></tr>",
                            "<tr><td>8</td><td>2016</td><td>157</td><td>84</td></tr>",
                            "<tr><td>8</td><td>2017</td><td>47</td><td>46</td></tr>",
                            "<tr><td>12</td><td>2016</td><td>152</td><td>4</td></tr>",
                            "<tr><td>12</td><td>2016</td><td>152</td><td>16</td></tr>",
                            "<tr><td>12</td><td>2016</td><td>152</td><td>53</td></tr>",
                            "<tr><td>10</td><td>2016</td><td>103</td><td>59</td></tr>",
                            "<tr><td>11</td><td>2016</td><td>23</td><td>20</td></tr>",
                            "<tr><td>12</td><td>2016</td><td>152</td><td>110</td></tr>",
                            "<tr><td>6</td><td>2016</td><td>150</td><td>76</td></tr>",
                            "<tr><td>6</td><td>2016</td><td>150</td><td>82</td></tr>",
                            "<tr><td>6</td><td>2016</td><td>150</td><td>125</td></tr>",
                            "<tr><td>1</td><td>2016</td><td>63</td><td>25</td></tr>",
                            "<tr><td>5</td><td>2016</td><td>43</td><td>16</td></tr>",
                            "<tr><td>8</td><td>2016</td><td>157</td><td>141</td></tr>",
                            "<tr><td>10</td><td>2016</td><td>103</td><td>102</td></tr>",
                            "<tr><td>6</td><td>2017</td><td>29</td><td>14</td></tr>",
                            "<tr><td>7</td><td>2016</td><td>28</td><td>15</td></tr>",
                            "<tr><td>8</td><td>2016</td><td>157</td><td>41</td></tr>",
                            "<tr><td>12</td><td>2016</td><td>152</td><td>59</td></tr>",
                            "</table>"
                        ]
                    }
                }
            ],
            "execution_count": 2
        },
        {
            "cell_type": "markdown",
            "source": [
                "5. <span style=\"background-color: rgb(255, 255, 255); color: rgb(0, 0, 0); font-family: &quot;Open Sans&quot;, sans-serif; font-size: 14.44px;\">Készítsük listát a szálláshelyekről! A lista tartalmazza a szálláshely azonosítóját, nevét, és a csillagok számát csillagszám szerint csökkenő, azon belül szállásnév szerint növekvő sorrendben!&nbsp;</span> \n",
                "\n",
                "a. Vegyünk fel két új oszlopot, amely a sorrend szerint előző szálláshely nevét, illetve azonosítóját is megjeleníti!"
            ],
            "metadata": {
                "azdata_cell_guid": "84239ca2-6b5e-49f5-9860-d44c11d6de32"
            },
            "attachments": {}
        },
        {
            "cell_type": "code",
            "source": [
                ""
            ],
            "metadata": {
                "azdata_cell_guid": "06d9a62b-9430-424b-a135-d80e675f0eb3",
                "language": "sql"
            },
            "outputs": [],
            "execution_count": null
        },
        {
            "cell_type": "markdown",
            "source": [
                "6. <span style=\"background-color: rgb(255, 255, 255); color: rgb(0, 0, 0); font-family: &quot;Open Sans&quot;, sans-serif; font-size: 14.44px;\">Listázzuk azon termékeket, amelyekből az átlagosnál kevesebb van raktáron!&nbsp;</span> \n",
                "\n",
                "a. Csak a termék kódja és megnevezése jelenjen meg!"
            ],
            "metadata": {
                "azdata_cell_guid": "b0d15045-3c43-4f3a-b8d4-76b4f24e5546"
            },
            "attachments": {}
        },
        {
            "cell_type": "code",
            "source": [
                "SELECT TERMEKKOD, MEGYS\r\n",
                "From Termek\r\n",
                "WHERE KESZLET < (\r\n",
                "    Select avg(KESZLET)\r\n",
                "    from Termek\r\n",
                ")"
            ],
            "metadata": {
                "azdata_cell_guid": "f2b7400d-1255-40ac-9250-4d57f9da5357",
                "language": "sql"
            },
            "outputs": [
                {
                    "output_type": "display_data",
                    "data": {
                        "text/html": "(437 rows affected)"
                    },
                    "metadata": {}
                },
                {
                    "output_type": "display_data",
                    "data": {
                        "text/html": "Total execution time: 00:00:00.007"
                    },
                    "metadata": {}
                },
                {
                    "output_type": "execute_result",
                    "metadata": {},
                    "execution_count": 5,
                    "data": {
                        "application/vnd.dataresource+json": {
                            "schema": {
                                "fields": [
                                    {
                                        "name": "TERMEKKOD"
                                    },
                                    {
                                        "name": "MEGYS"
                                    }
                                ]
                            },
                            "data": [
                                {
                                    "TERMEKKOD": "01010110T",
                                    "MEGYS": "db"
                                },
                                {
                                    "TERMEKKOD": "01010304T",
                                    "MEGYS": "db"
                                },
                                {
                                    "TERMEKKOD": "01020300T",
                                    "MEGYS": "db"
                                },
                                {
                                    "TERMEKKOD": "01030091T",
                                    "MEGYS": "db"
                                },
                                {
                                    "TERMEKKOD": "01030092T",
                                    "MEGYS": "db"
                                },
                                {
                                    "TERMEKKOD": "01040307T",
                                    "MEGYS": "ív"
                                },
                                {
                                    "TERMEKKOD": "01040502T",
                                    "MEGYS": "db"
                                },
                                {
                                    "TERMEKKOD": "01080093T",
                                    "MEGYS": "db"
                                },
                                {
                                    "TERMEKKOD": "01080512T",
                                    "MEGYS": "doboz"
                                },
                                {
                                    "TERMEKKOD": "01080513T",
                                    "MEGYS": "ív"
                                },
                                {
                                    "TERMEKKOD": "01090499T",
                                    "MEGYS": "Ív"
                                },
                                {
                                    "TERMEKKOD": "01090500T",
                                    "MEGYS": "Ív"
                                },
                                {
                                    "TERMEKKOD": "01090501T",
                                    "MEGYS": "Ív"
                                },
                                {
                                    "TERMEKKOD": "01090515T",
                                    "MEGYS": "ív"
                                },
                                {
                                    "TERMEKKOD": "01090516T",
                                    "MEGYS": "ív"
                                },
                                {
                                    "TERMEKKOD": "01090517T",
                                    "MEGYS": "ív"
                                },
                                {
                                    "TERMEKKOD": "01100070T",
                                    "MEGYS": "ív"
                                },
                                {
                                    "TERMEKKOD": "01100072T",
                                    "MEGYS": "ív"
                                },
                                {
                                    "TERMEKKOD": "01100094T",
                                    "MEGYS": "csomag"
                                },
                                {
                                    "TERMEKKOD": "01100095T",
                                    "MEGYS": "csomag"
                                },
                                {
                                    "TERMEKKOD": "01100096T",
                                    "MEGYS": "csomag"
                                },
                                {
                                    "TERMEKKOD": "01100496T",
                                    "MEGYS": "csomag"
                                },
                                {
                                    "TERMEKKOD": "01100497T",
                                    "MEGYS": "ív"
                                },
                                {
                                    "TERMEKKOD": "01100503T",
                                    "MEGYS": "ív"
                                },
                                {
                                    "TERMEKKOD": "01100504T",
                                    "MEGYS": "csomag"
                                },
                                {
                                    "TERMEKKOD": "01100505T",
                                    "MEGYS": "csomag"
                                },
                                {
                                    "TERMEKKOD": "01100509T",
                                    "MEGYS": "ív"
                                },
                                {
                                    "TERMEKKOD": "01100510T",
                                    "MEGYS": "ív"
                                },
                                {
                                    "TERMEKKOD": "02010028T",
                                    "MEGYS": "db"
                                },
                                {
                                    "TERMEKKOD": "02020029T",
                                    "MEGYS": "db"
                                },
                                {
                                    "TERMEKKOD": "02020032T",
                                    "MEGYS": "db"
                                },
                                {
                                    "TERMEKKOD": "02020033T",
                                    "MEGYS": "db"
                                },
                                {
                                    "TERMEKKOD": "02020037T",
                                    "MEGYS": "db"
                                },
                                {
                                    "TERMEKKOD": "02020245T",
                                    "MEGYS": "db"
                                },
                                {
                                    "TERMEKKOD": "02030040T",
                                    "MEGYS": "db"
                                },
                                {
                                    "TERMEKKOD": "02040025T",
                                    "MEGYS": "db"
                                },
                                {
                                    "TERMEKKOD": "02040145T",
                                    "MEGYS": "db"
                                },
                                {
                                    "TERMEKKOD": "02040147T",
                                    "MEGYS": "db"
                                },
                                {
                                    "TERMEKKOD": "02040148T",
                                    "MEGYS": "csomag"
                                },
                                {
                                    "TERMEKKOD": "02040176T",
                                    "MEGYS": "db"
                                },
                                {
                                    "TERMEKKOD": "02040177T",
                                    "MEGYS": "db"
                                },
                                {
                                    "TERMEKKOD": "02040178T",
                                    "MEGYS": "db"
                                },
                                {
                                    "TERMEKKOD": "02040194T",
                                    "MEGYS": "db"
                                },
                                {
                                    "TERMEKKOD": "02040195T",
                                    "MEGYS": "db"
                                },
                                {
                                    "TERMEKKOD": "02040196T",
                                    "MEGYS": "db"
                                },
                                {
                                    "TERMEKKOD": "02040197T",
                                    "MEGYS": "db"
                                },
                                {
                                    "TERMEKKOD": "02040198T",
                                    "MEGYS": "db"
                                },
                                {
                                    "TERMEKKOD": "02040199T",
                                    "MEGYS": "db"
                                },
                                {
                                    "TERMEKKOD": "02040200T",
                                    "MEGYS": "db"
                                },
                                {
                                    "TERMEKKOD": "02040206T",
                                    "MEGYS": "db"
                                },
                                {
                                    "TERMEKKOD": "02040207T",
                                    "MEGYS": "db"
                                },
                                {
                                    "TERMEKKOD": "02040208T",
                                    "MEGYS": "db"
                                },
                                {
                                    "TERMEKKOD": "02040209T",
                                    "MEGYS": "db"
                                },
                                {
                                    "TERMEKKOD": "02040211T",
                                    "MEGYS": "db"
                                },
                                {
                                    "TERMEKKOD": "02040214T",
                                    "MEGYS": "db"
                                },
                                {
                                    "TERMEKKOD": "02040290T",
                                    "MEGYS": "db"
                                },
                                {
                                    "TERMEKKOD": "02040291T",
                                    "MEGYS": "db"
                                },
                                {
                                    "TERMEKKOD": "02040294T",
                                    "MEGYS": "db"
                                },
                                {
                                    "TERMEKKOD": "02040298T",
                                    "MEGYS": "db"
                                },
                                {
                                    "TERMEKKOD": "02040308T",
                                    "MEGYS": "db"
                                },
                                {
                                    "TERMEKKOD": "02040309T",
                                    "MEGYS": "db"
                                },
                                {
                                    "TERMEKKOD": "02040401T",
                                    "MEGYS": "db"
                                },
                                {
                                    "TERMEKKOD": "02040402T",
                                    "MEGYS": "db"
                                },
                                {
                                    "TERMEKKOD": "02040403T",
                                    "MEGYS": "db"
                                },
                                {
                                    "TERMEKKOD": "02040404T",
                                    "MEGYS": "db"
                                },
                                {
                                    "TERMEKKOD": "02040405T",
                                    "MEGYS": "csomag"
                                },
                                {
                                    "TERMEKKOD": "02040506T",
                                    "MEGYS": "ív"
                                },
                                {
                                    "TERMEKKOD": "02040507T",
                                    "MEGYS": "ív"
                                },
                                {
                                    "TERMEKKOD": "02040508T",
                                    "MEGYS": "ív"
                                },
                                {
                                    "TERMEKKOD": "02050460T",
                                    "MEGYS": "db"
                                },
                                {
                                    "TERMEKKOD": "02050461T",
                                    "MEGYS": "db"
                                },
                                {
                                    "TERMEKKOD": "02060034T",
                                    "MEGYS": "db"
                                },
                                {
                                    "TERMEKKOD": "02060038T",
                                    "MEGYS": "db"
                                },
                                {
                                    "TERMEKKOD": "02060039T",
                                    "MEGYS": "db"
                                },
                                {
                                    "TERMEKKOD": "02060447T",
                                    "MEGYS": "db"
                                },
                                {
                                    "TERMEKKOD": "02060448T",
                                    "MEGYS": "db"
                                },
                                {
                                    "TERMEKKOD": "02080069T",
                                    "MEGYS": "db"
                                },
                                {
                                    "TERMEKKOD": "02080081T",
                                    "MEGYS": "db"
                                },
                                {
                                    "TERMEKKOD": "02080109T",
                                    "MEGYS": "db"
                                },
                                {
                                    "TERMEKKOD": "02080226T",
                                    "MEGYS": "db"
                                },
                                {
                                    "TERMEKKOD": "02080431T",
                                    "MEGYS": "db"
                                },
                                {
                                    "TERMEKKOD": "02080432T",
                                    "MEGYS": "db"
                                },
                                {
                                    "TERMEKKOD": "02080433T",
                                    "MEGYS": "db"
                                },
                                {
                                    "TERMEKKOD": "02080434T",
                                    "MEGYS": "db"
                                },
                                {
                                    "TERMEKKOD": "02080436T",
                                    "MEGYS": "db"
                                },
                                {
                                    "TERMEKKOD": "02080449T",
                                    "MEGYS": "csomag"
                                },
                                {
                                    "TERMEKKOD": "02080450T",
                                    "MEGYS": "csomag"
                                },
                                {
                                    "TERMEKKOD": "02080451T",
                                    "MEGYS": "csomag"
                                },
                                {
                                    "TERMEKKOD": "02080452T",
                                    "MEGYS": "db"
                                },
                                {
                                    "TERMEKKOD": "02080453T",
                                    "MEGYS": "db"
                                },
                                {
                                    "TERMEKKOD": "02080454T",
                                    "MEGYS": "db"
                                },
                                {
                                    "TERMEKKOD": "02080455T",
                                    "MEGYS": "db"
                                },
                                {
                                    "TERMEKKOD": "02080456T",
                                    "MEGYS": "csomag"
                                },
                                {
                                    "TERMEKKOD": "02080511T",
                                    "MEGYS": "db"
                                },
                                {
                                    "TERMEKKOD": "02080514T",
                                    "MEGYS": "db"
                                },
                                {
                                    "TERMEKKOD": "03010342T",
                                    "MEGYS": "db"
                                },
                                {
                                    "TERMEKKOD": "03010344T",
                                    "MEGYS": "db"
                                },
                                {
                                    "TERMEKKOD": "03010345T",
                                    "MEGYS": "db"
                                },
                                {
                                    "TERMEKKOD": "03050076T",
                                    "MEGYS": "db"
                                },
                                {
                                    "TERMEKKOD": "03050077T",
                                    "MEGYS": "db"
                                },
                                {
                                    "TERMEKKOD": "03050078T",
                                    "MEGYS": "db"
                                },
                                {
                                    "TERMEKKOD": "03080003T",
                                    "MEGYS": "db"
                                },
                                {
                                    "TERMEKKOD": "03080004T",
                                    "MEGYS": "db"
                                },
                                {
                                    "TERMEKKOD": "03080006T",
                                    "MEGYS": "db"
                                },
                                {
                                    "TERMEKKOD": "03080009T",
                                    "MEGYS": "db"
                                },
                                {
                                    "TERMEKKOD": "03080012T",
                                    "MEGYS": "db"
                                },
                                {
                                    "TERMEKKOD": "03080013T",
                                    "MEGYS": "db"
                                },
                                {
                                    "TERMEKKOD": "03080014T",
                                    "MEGYS": "db"
                                },
                                {
                                    "TERMEKKOD": "03080015T",
                                    "MEGYS": "db"
                                },
                                {
                                    "TERMEKKOD": "03080016T",
                                    "MEGYS": "csomag"
                                },
                                {
                                    "TERMEKKOD": "03080017T",
                                    "MEGYS": "db"
                                },
                                {
                                    "TERMEKKOD": "03080019T",
                                    "MEGYS": "db"
                                },
                                {
                                    "TERMEKKOD": "03080020T",
                                    "MEGYS": "ív"
                                },
                                {
                                    "TERMEKKOD": "03080021T",
                                    "MEGYS": "db"
                                },
                                {
                                    "TERMEKKOD": "03080030T",
                                    "MEGYS": "db"
                                },
                                {
                                    "TERMEKKOD": "03080439T",
                                    "MEGYS": "db"
                                },
                                {
                                    "TERMEKKOD": "04020445T",
                                    "MEGYS": "db"
                                },
                                {
                                    "TERMEKKOD": "04030235T",
                                    "MEGYS": "db"
                                },
                                {
                                    "TERMEKKOD": "04030237T",
                                    "MEGYS": "db"
                                },
                                {
                                    "TERMEKKOD": "04030238T",
                                    "MEGYS": "db"
                                },
                                {
                                    "TERMEKKOD": "04030239T",
                                    "MEGYS": "db"
                                },
                                {
                                    "TERMEKKOD": "04030243T",
                                    "MEGYS": "db"
                                },
                                {
                                    "TERMEKKOD": "04030261T",
                                    "MEGYS": "csomag"
                                },
                                {
                                    "TERMEKKOD": "04030262T",
                                    "MEGYS": "csomag"
                                },
                                {
                                    "TERMEKKOD": "04030263T",
                                    "MEGYS": "db"
                                },
                                {
                                    "TERMEKKOD": "04030264T",
                                    "MEGYS": "db"
                                },
                                {
                                    "TERMEKKOD": "04030265T",
                                    "MEGYS": "db"
                                },
                                {
                                    "TERMEKKOD": "04030266T",
                                    "MEGYS": "db"
                                },
                                {
                                    "TERMEKKOD": "04030285T",
                                    "MEGYS": "db"
                                },
                                {
                                    "TERMEKKOD": "04030286T",
                                    "MEGYS": "db"
                                },
                                {
                                    "TERMEKKOD": "04030288T",
                                    "MEGYS": "db"
                                },
                                {
                                    "TERMEKKOD": "04040387T",
                                    "MEGYS": "db"
                                },
                                {
                                    "TERMEKKOD": "04050022T",
                                    "MEGYS": "db"
                                },
                                {
                                    "TERMEKKOD": "04050023T",
                                    "MEGYS": "db"
                                },
                                {
                                    "TERMEKKOD": "04050024T",
                                    "MEGYS": "db"
                                },
                                {
                                    "TERMEKKOD": "04050035T",
                                    "MEGYS": "db"
                                },
                                {
                                    "TERMEKKOD": "04050073T",
                                    "MEGYS": "db"
                                },
                                {
                                    "TERMEKKOD": "04050074T",
                                    "MEGYS": "db"
                                },
                                {
                                    "TERMEKKOD": "04050075T",
                                    "MEGYS": "db"
                                },
                                {
                                    "TERMEKKOD": "04050171T",
                                    "MEGYS": "db"
                                },
                                {
                                    "TERMEKKOD": "04050187T",
                                    "MEGYS": "db"
                                },
                                {
                                    "TERMEKKOD": "04050203T",
                                    "MEGYS": "db"
                                },
                                {
                                    "TERMEKKOD": "04050204T",
                                    "MEGYS": "db"
                                },
                                {
                                    "TERMEKKOD": "04050220T",
                                    "MEGYS": "db"
                                },
                                {
                                    "TERMEKKOD": "04050221T",
                                    "MEGYS": "db"
                                },
                                {
                                    "TERMEKKOD": "04050222T",
                                    "MEGYS": "db"
                                },
                                {
                                    "TERMEKKOD": "04050223T",
                                    "MEGYS": "db"
                                },
                                {
                                    "TERMEKKOD": "04050224T",
                                    "MEGYS": "db"
                                },
                                {
                                    "TERMEKKOD": "04050252T",
                                    "MEGYS": "db"
                                },
                                {
                                    "TERMEKKOD": "04050253T",
                                    "MEGYS": "db"
                                },
                                {
                                    "TERMEKKOD": "04050254T",
                                    "MEGYS": "db"
                                },
                                {
                                    "TERMEKKOD": "04050269T",
                                    "MEGYS": "db"
                                },
                                {
                                    "TERMEKKOD": "04050320T",
                                    "MEGYS": "db"
                                },
                                {
                                    "TERMEKKOD": "04050322T",
                                    "MEGYS": "db"
                                },
                                {
                                    "TERMEKKOD": "04050358T",
                                    "MEGYS": "db"
                                },
                                {
                                    "TERMEKKOD": "04080270T",
                                    "MEGYS": "db"
                                },
                                {
                                    "TERMEKKOD": "04080271T",
                                    "MEGYS": "db"
                                },
                                {
                                    "TERMEKKOD": "04080272T",
                                    "MEGYS": "db"
                                },
                                {
                                    "TERMEKKOD": "04080443T",
                                    "MEGYS": "db"
                                },
                                {
                                    "TERMEKKOD": "04110066T",
                                    "MEGYS": "db"
                                },
                                {
                                    "TERMEKKOD": "04110067T",
                                    "MEGYS": "db"
                                },
                                {
                                    "TERMEKKOD": "04110068T",
                                    "MEGYS": "db"
                                },
                                {
                                    "TERMEKKOD": "04110227T",
                                    "MEGYS": "db"
                                },
                                {
                                    "TERMEKKOD": "04110228T",
                                    "MEGYS": "db"
                                },
                                {
                                    "TERMEKKOD": "04110229T",
                                    "MEGYS": "db"
                                },
                                {
                                    "TERMEKKOD": "04110230T",
                                    "MEGYS": "db"
                                },
                                {
                                    "TERMEKKOD": "04110231T",
                                    "MEGYS": "db"
                                },
                                {
                                    "TERMEKKOD": "04110232T",
                                    "MEGYS": "db"
                                },
                                {
                                    "TERMEKKOD": "04110233T",
                                    "MEGYS": "db"
                                },
                                {
                                    "TERMEKKOD": "04110258T",
                                    "MEGYS": "db"
                                },
                                {
                                    "TERMEKKOD": "04110274T",
                                    "MEGYS": "db"
                                },
                                {
                                    "TERMEKKOD": "04110275T",
                                    "MEGYS": "db"
                                },
                                {
                                    "TERMEKKOD": "04110276T",
                                    "MEGYS": "db"
                                },
                                {
                                    "TERMEKKOD": "04110277T",
                                    "MEGYS": "db"
                                },
                                {
                                    "TERMEKKOD": "04110278T",
                                    "MEGYS": "db"
                                },
                                {
                                    "TERMEKKOD": "04110279T",
                                    "MEGYS": "db"
                                },
                                {
                                    "TERMEKKOD": "04110280T",
                                    "MEGYS": "db"
                                },
                                {
                                    "TERMEKKOD": "04110281T",
                                    "MEGYS": "db"
                                },
                                {
                                    "TERMEKKOD": "04110282T",
                                    "MEGYS": "db"
                                },
                                {
                                    "TERMEKKOD": "04110283T",
                                    "MEGYS": "db"
                                },
                                {
                                    "TERMEKKOD": "04110284T",
                                    "MEGYS": "db"
                                },
                                {
                                    "TERMEKKOD": "04110362T",
                                    "MEGYS": "csomag"
                                },
                                {
                                    "TERMEKKOD": "05010026T",
                                    "MEGYS": "db"
                                },
                                {
                                    "TERMEKKOD": "05010369T",
                                    "MEGYS": "csomag"
                                },
                                {
                                    "TERMEKKOD": "05010370T",
                                    "MEGYS": "db"
                                },
                                {
                                    "TERMEKKOD": "05040310T",
                                    "MEGYS": "db"
                                },
                                {
                                    "TERMEKKOD": "05040348T",
                                    "MEGYS": "csomag"
                                },
                                {
                                    "TERMEKKOD": "05040349T",
                                    "MEGYS": "db"
                                },
                                {
                                    "TERMEKKOD": "05050045T",
                                    "MEGYS": "csomag"
                                },
                                {
                                    "TERMEKKOD": "05050046T",
                                    "MEGYS": "db"
                                },
                                {
                                    "TERMEKKOD": "05050170T",
                                    "MEGYS": "csomag"
                                },
                                {
                                    "TERMEKKOD": "05050346T",
                                    "MEGYS": "csomag"
                                },
                                {
                                    "TERMEKKOD": "05080340T",
                                    "MEGYS": "db"
                                },
                                {
                                    "TERMEKKOD": "05080341T",
                                    "MEGYS": "db"
                                },
                                {
                                    "TERMEKKOD": "05110359T",
                                    "MEGYS": "csomag"
                                },
                                {
                                    "TERMEKKOD": "05110360T",
                                    "MEGYS": "csomag"
                                },
                                {
                                    "TERMEKKOD": "05110361T",
                                    "MEGYS": "csomag"
                                },
                                {
                                    "TERMEKKOD": "05110363T",
                                    "MEGYS": "csomag"
                                },
                                {
                                    "TERMEKKOD": "05110364T",
                                    "MEGYS": "csomag"
                                },
                                {
                                    "TERMEKKOD": "06010036T",
                                    "MEGYS": "db"
                                },
                                {
                                    "TERMEKKOD": "06010082T",
                                    "MEGYS": "db"
                                },
                                {
                                    "TERMEKKOD": "06010083T",
                                    "MEGYS": "db"
                                },
                                {
                                    "TERMEKKOD": "06010084T",
                                    "MEGYS": "db"
                                },
                                {
                                    "TERMEKKOD": "06010085T",
                                    "MEGYS": "db"
                                },
                                {
                                    "TERMEKKOD": "06010111T",
                                    "MEGYS": "db"
                                },
                                {
                                    "TERMEKKOD": "06010112T",
                                    "MEGYS": "db"
                                },
                                {
                                    "TERMEKKOD": "06010114T",
                                    "MEGYS": "db"
                                },
                                {
                                    "TERMEKKOD": "06010115T",
                                    "MEGYS": "db"
                                },
                                {
                                    "TERMEKKOD": "06010201T",
                                    "MEGYS": "db"
                                },
                                {
                                    "TERMEKKOD": "06010202T",
                                    "MEGYS": "csomag"
                                },
                                {
                                    "TERMEKKOD": "06010305T",
                                    "MEGYS": "db"
                                },
                                {
                                    "TERMEKKOD": "06010365T",
                                    "MEGYS": "db"
                                },
                                {
                                    "TERMEKKOD": "06010366T",
                                    "MEGYS": "db"
                                },
                                {
                                    "TERMEKKOD": "06010367T",
                                    "MEGYS": "csomag"
                                },
                                {
                                    "TERMEKKOD": "06010368T",
                                    "MEGYS": "csomag"
                                },
                                {
                                    "TERMEKKOD": "06010375T",
                                    "MEGYS": "db"
                                },
                                {
                                    "TERMEKKOD": "06010376T",
                                    "MEGYS": "db"
                                },
                                {
                                    "TERMEKKOD": "06010377T",
                                    "MEGYS": "db"
                                },
                                {
                                    "TERMEKKOD": "06040089T",
                                    "MEGYS": "db"
                                },
                                {
                                    "TERMEKKOD": "06040175T",
                                    "MEGYS": "db"
                                },
                                {
                                    "TERMEKKOD": "06040179T",
                                    "MEGYS": "db"
                                },
                                {
                                    "TERMEKKOD": "06040180T",
                                    "MEGYS": "db"
                                },
                                {
                                    "TERMEKKOD": "06040183T",
                                    "MEGYS": "db"
                                },
                                {
                                    "TERMEKKOD": "06040184T",
                                    "MEGYS": "db"
                                },
                                {
                                    "TERMEKKOD": "06040186T",
                                    "MEGYS": "db"
                                },
                                {
                                    "TERMEKKOD": "06040205T",
                                    "MEGYS": "db"
                                },
                                {
                                    "TERMEKKOD": "06040206T",
                                    "MEGYS": "db"
                                },
                                {
                                    "TERMEKKOD": "06040212T",
                                    "MEGYS": "db"
                                },
                                {
                                    "TERMEKKOD": "06040213T",
                                    "MEGYS": "db"
                                },
                                {
                                    "TERMEKKOD": "06040246T",
                                    "MEGYS": "db"
                                },
                                {
                                    "TERMEKKOD": "06040248T",
                                    "MEGYS": "db"
                                },
                                {
                                    "TERMEKKOD": "06040323T",
                                    "MEGYS": "db"
                                },
                                {
                                    "TERMEKKOD": "06040324T",
                                    "MEGYS": "db"
                                },
                                {
                                    "TERMEKKOD": "06040326T",
                                    "MEGYS": "db"
                                },
                                {
                                    "TERMEKKOD": "06040330T",
                                    "MEGYS": "db"
                                },
                                {
                                    "TERMEKKOD": "06040331T",
                                    "MEGYS": "db"
                                },
                                {
                                    "TERMEKKOD": "06040347T",
                                    "MEGYS": "csomag"
                                },
                                {
                                    "TERMEKKOD": "06040350T",
                                    "MEGYS": "db"
                                },
                                {
                                    "TERMEKKOD": "06040351T",
                                    "MEGYS": "db"
                                },
                                {
                                    "TERMEKKOD": "06040352T",
                                    "MEGYS": "db"
                                },
                                {
                                    "TERMEKKOD": "06040353T",
                                    "MEGYS": "db"
                                },
                                {
                                    "TERMEKKOD": "06040354T",
                                    "MEGYS": "db"
                                },
                                {
                                    "TERMEKKOD": "06040355T",
                                    "MEGYS": "db"
                                },
                                {
                                    "TERMEKKOD": "06040356T",
                                    "MEGYS": "db"
                                },
                                {
                                    "TERMEKKOD": "06040378T",
                                    "MEGYS": "db"
                                },
                                {
                                    "TERMEKKOD": "06040379T",
                                    "MEGYS": "db"
                                },
                                {
                                    "TERMEKKOD": "06040380T",
                                    "MEGYS": "db"
                                },
                                {
                                    "TERMEKKOD": "06040381T",
                                    "MEGYS": "csomag"
                                },
                                {
                                    "TERMEKKOD": "06040382T",
                                    "MEGYS": "csomag"
                                },
                                {
                                    "TERMEKKOD": "06040383T",
                                    "MEGYS": "db"
                                },
                                {
                                    "TERMEKKOD": "06040384T",
                                    "MEGYS": "db"
                                },
                                {
                                    "TERMEKKOD": "06040385T",
                                    "MEGYS": "db"
                                },
                                {
                                    "TERMEKKOD": "06040386T",
                                    "MEGYS": "db"
                                },
                                {
                                    "TERMEKKOD": "06040392T",
                                    "MEGYS": "db"
                                },
                                {
                                    "TERMEKKOD": "06040393T",
                                    "MEGYS": "db"
                                },
                                {
                                    "TERMEKKOD": "06040394T",
                                    "MEGYS": "db"
                                },
                                {
                                    "TERMEKKOD": "06040395T",
                                    "MEGYS": "db"
                                },
                                {
                                    "TERMEKKOD": "06040397T",
                                    "MEGYS": "csomag"
                                },
                                {
                                    "TERMEKKOD": "06040398T",
                                    "MEGYS": "db"
                                },
                                {
                                    "TERMEKKOD": "06040399T",
                                    "MEGYS": "db"
                                },
                                {
                                    "TERMEKKOD": "06040400T",
                                    "MEGYS": "db"
                                },
                                {
                                    "TERMEKKOD": "06040446T",
                                    "MEGYS": "db"
                                },
                                {
                                    "TERMEKKOD": "06050249T",
                                    "MEGYS": "db"
                                },
                                {
                                    "TERMEKKOD": "06050301T",
                                    "MEGYS": "db"
                                },
                                {
                                    "TERMEKKOD": "06050302T",
                                    "MEGYS": "db"
                                },
                                {
                                    "TERMEKKOD": "06050303T",
                                    "MEGYS": "db"
                                },
                                {
                                    "TERMEKKOD": "06080116T",
                                    "MEGYS": "db"
                                },
                                {
                                    "TERMEKKOD": "06080117T",
                                    "MEGYS": "db"
                                },
                                {
                                    "TERMEKKOD": "06080118T",
                                    "MEGYS": "db"
                                },
                                {
                                    "TERMEKKOD": "06080119T",
                                    "MEGYS": "db"
                                },
                                {
                                    "TERMEKKOD": "06080120T",
                                    "MEGYS": "db"
                                },
                                {
                                    "TERMEKKOD": "06080121T",
                                    "MEGYS": "csomag"
                                },
                                {
                                    "TERMEKKOD": "06080122T",
                                    "MEGYS": "db"
                                },
                                {
                                    "TERMEKKOD": "06080124T",
                                    "MEGYS": "db"
                                },
                                {
                                    "TERMEKKOD": "06080125T",
                                    "MEGYS": "db"
                                },
                                {
                                    "TERMEKKOD": "06080126T",
                                    "MEGYS": "db"
                                },
                                {
                                    "TERMEKKOD": "06080188T",
                                    "MEGYS": "db"
                                },
                                {
                                    "TERMEKKOD": "06080189T",
                                    "MEGYS": "db"
                                },
                                {
                                    "TERMEKKOD": "06080190T",
                                    "MEGYS": "db"
                                },
                                {
                                    "TERMEKKOD": "06080191T",
                                    "MEGYS": "db"
                                },
                                {
                                    "TERMEKKOD": "06080192T",
                                    "MEGYS": "db"
                                },
                                {
                                    "TERMEKKOD": "06080193T",
                                    "MEGYS": "db"
                                },
                                {
                                    "TERMEKKOD": "06080259T",
                                    "MEGYS": "db"
                                },
                                {
                                    "TERMEKKOD": "06080332T",
                                    "MEGYS": "db"
                                },
                                {
                                    "TERMEKKOD": "06080333T",
                                    "MEGYS": "db"
                                },
                                {
                                    "TERMEKKOD": "06080335T",
                                    "MEGYS": "db"
                                },
                                {
                                    "TERMEKKOD": "06080337T",
                                    "MEGYS": "db"
                                },
                                {
                                    "TERMEKKOD": "06080339T",
                                    "MEGYS": "db"
                                },
                                {
                                    "TERMEKKOD": "06080407T",
                                    "MEGYS": "db"
                                },
                                {
                                    "TERMEKKOD": "06080408T",
                                    "MEGYS": "db"
                                },
                                {
                                    "TERMEKKOD": "06080409T",
                                    "MEGYS": "db"
                                },
                                {
                                    "TERMEKKOD": "06080410T",
                                    "MEGYS": "db"
                                },
                                {
                                    "TERMEKKOD": "06080411T",
                                    "MEGYS": "db"
                                },
                                {
                                    "TERMEKKOD": "06080412T",
                                    "MEGYS": "db"
                                },
                                {
                                    "TERMEKKOD": "06080413T",
                                    "MEGYS": "db"
                                },
                                {
                                    "TERMEKKOD": "06080415T",
                                    "MEGYS": "db"
                                },
                                {
                                    "TERMEKKOD": "06080416T",
                                    "MEGYS": "db"
                                },
                                {
                                    "TERMEKKOD": "06080417T",
                                    "MEGYS": "db"
                                },
                                {
                                    "TERMEKKOD": "06080422T",
                                    "MEGYS": "db"
                                },
                                {
                                    "TERMEKKOD": "06080423T",
                                    "MEGYS": "db"
                                },
                                {
                                    "TERMEKKOD": "06080424T",
                                    "MEGYS": "db"
                                },
                                {
                                    "TERMEKKOD": "06080425T",
                                    "MEGYS": "db"
                                },
                                {
                                    "TERMEKKOD": "06080426T",
                                    "MEGYS": "db"
                                },
                                {
                                    "TERMEKKOD": "06080427T",
                                    "MEGYS": "db"
                                },
                                {
                                    "TERMEKKOD": "06080428T",
                                    "MEGYS": "db"
                                },
                                {
                                    "TERMEKKOD": "06080429T",
                                    "MEGYS": "db"
                                },
                                {
                                    "TERMEKKOD": "06080430T",
                                    "MEGYS": "csomag"
                                },
                                {
                                    "TERMEKKOD": "06080441T",
                                    "MEGYS": "csomag"
                                },
                                {
                                    "TERMEKKOD": "07010137T",
                                    "MEGYS": "db"
                                },
                                {
                                    "TERMEKKOD": "07010139T",
                                    "MEGYS": "db"
                                },
                                {
                                    "TERMEKKOD": "07010140T",
                                    "MEGYS": "db"
                                },
                                {
                                    "TERMEKKOD": "07010141T",
                                    "MEGYS": "db"
                                },
                                {
                                    "TERMEKKOD": "07010142T",
                                    "MEGYS": "db"
                                },
                                {
                                    "TERMEKKOD": "07010143T",
                                    "MEGYS": "db"
                                },
                                {
                                    "TERMEKKOD": "07010144T",
                                    "MEGYS": "db"
                                },
                                {
                                    "TERMEKKOD": "07010244T",
                                    "MEGYS": "db"
                                },
                                {
                                    "TERMEKKOD": "07030103T",
                                    "MEGYS": "db"
                                },
                                {
                                    "TERMEKKOD": "07030104T",
                                    "MEGYS": "db"
                                },
                                {
                                    "TERMEKKOD": "07030105T",
                                    "MEGYS": "db"
                                },
                                {
                                    "TERMEKKOD": "07030106T",
                                    "MEGYS": "db"
                                },
                                {
                                    "TERMEKKOD": "07030107T",
                                    "MEGYS": "db"
                                },
                                {
                                    "TERMEKKOD": "07030108T",
                                    "MEGYS": "db"
                                },
                                {
                                    "TERMEKKOD": "07040047T",
                                    "MEGYS": "db"
                                },
                                {
                                    "TERMEKKOD": "07040049T",
                                    "MEGYS": "db"
                                },
                                {
                                    "TERMEKKOD": "07040050T",
                                    "MEGYS": "db"
                                },
                                {
                                    "TERMEKKOD": "07040051T",
                                    "MEGYS": "db"
                                },
                                {
                                    "TERMEKKOD": "07040052T",
                                    "MEGYS": "db"
                                },
                                {
                                    "TERMEKKOD": "07040053T",
                                    "MEGYS": "db"
                                },
                                {
                                    "TERMEKKOD": "07040054T",
                                    "MEGYS": "db"
                                },
                                {
                                    "TERMEKKOD": "07040055T",
                                    "MEGYS": "db"
                                },
                                {
                                    "TERMEKKOD": "07040056T",
                                    "MEGYS": "db"
                                },
                                {
                                    "TERMEKKOD": "07040057T",
                                    "MEGYS": "db"
                                },
                                {
                                    "TERMEKKOD": "07040058T",
                                    "MEGYS": "db"
                                },
                                {
                                    "TERMEKKOD": "07040059T",
                                    "MEGYS": "db"
                                },
                                {
                                    "TERMEKKOD": "07040060T",
                                    "MEGYS": "db"
                                },
                                {
                                    "TERMEKKOD": "07040061T",
                                    "MEGYS": "db"
                                },
                                {
                                    "TERMEKKOD": "07040097T",
                                    "MEGYS": "db"
                                },
                                {
                                    "TERMEKKOD": "07040098T",
                                    "MEGYS": "db"
                                },
                                {
                                    "TERMEKKOD": "07040099T",
                                    "MEGYS": "csomag"
                                },
                                {
                                    "TERMEKKOD": "07040100T",
                                    "MEGYS": "db"
                                },
                                {
                                    "TERMEKKOD": "07040101T",
                                    "MEGYS": "db"
                                },
                                {
                                    "TERMEKKOD": "07040102T",
                                    "MEGYS": "db"
                                },
                                {
                                    "TERMEKKOD": "07040127T",
                                    "MEGYS": "db"
                                },
                                {
                                    "TERMEKKOD": "07040128T",
                                    "MEGYS": "db"
                                },
                                {
                                    "TERMEKKOD": "07040129T",
                                    "MEGYS": "db"
                                },
                                {
                                    "TERMEKKOD": "07040130T",
                                    "MEGYS": "db"
                                },
                                {
                                    "TERMEKKOD": "07040132T",
                                    "MEGYS": "db"
                                },
                                {
                                    "TERMEKKOD": "07040133T",
                                    "MEGYS": "db"
                                },
                                {
                                    "TERMEKKOD": "07040165T",
                                    "MEGYS": "db"
                                },
                                {
                                    "TERMEKKOD": "07040166T",
                                    "MEGYS": "db"
                                },
                                {
                                    "TERMEKKOD": "07040167T",
                                    "MEGYS": "db"
                                },
                                {
                                    "TERMEKKOD": "07040168T",
                                    "MEGYS": "db"
                                },
                                {
                                    "TERMEKKOD": "07040169T",
                                    "MEGYS": "db"
                                },
                                {
                                    "TERMEKKOD": "07040215T",
                                    "MEGYS": "db"
                                },
                                {
                                    "TERMEKKOD": "07040216T",
                                    "MEGYS": "db"
                                },
                                {
                                    "TERMEKKOD": "07040217T",
                                    "MEGYS": "db"
                                },
                                {
                                    "TERMEKKOD": "07040218T",
                                    "MEGYS": "db"
                                },
                                {
                                    "TERMEKKOD": "07040219T",
                                    "MEGYS": "db"
                                },
                                {
                                    "TERMEKKOD": "07040257T",
                                    "MEGYS": "db"
                                },
                                {
                                    "TERMEKKOD": "07040388T",
                                    "MEGYS": "csomag"
                                },
                                {
                                    "TERMEKKOD": "07040389T",
                                    "MEGYS": "db"
                                },
                                {
                                    "TERMEKKOD": "07040390T",
                                    "MEGYS": "db"
                                },
                                {
                                    "TERMEKKOD": "07040391T",
                                    "MEGYS": "db"
                                },
                                {
                                    "TERMEKKOD": "07050462T",
                                    "MEGYS": "üveg"
                                },
                                {
                                    "TERMEKKOD": "07050463T",
                                    "MEGYS": "db"
                                },
                                {
                                    "TERMEKKOD": "07050464T",
                                    "MEGYS": "db"
                                },
                                {
                                    "TERMEKKOD": "07080062T",
                                    "MEGYS": "db"
                                },
                                {
                                    "TERMEKKOD": "07080063T",
                                    "MEGYS": "db"
                                },
                                {
                                    "TERMEKKOD": "07080064T",
                                    "MEGYS": "db"
                                },
                                {
                                    "TERMEKKOD": "07080065T",
                                    "MEGYS": "db"
                                },
                                {
                                    "TERMEKKOD": "07080150T",
                                    "MEGYS": "db"
                                },
                                {
                                    "TERMEKKOD": "07080151T",
                                    "MEGYS": "db"
                                },
                                {
                                    "TERMEKKOD": "07080152T",
                                    "MEGYS": "db"
                                },
                                {
                                    "TERMEKKOD": "07080153T",
                                    "MEGYS": "db"
                                },
                                {
                                    "TERMEKKOD": "07080154T",
                                    "MEGYS": "db"
                                },
                                {
                                    "TERMEKKOD": "07080155T",
                                    "MEGYS": "db"
                                },
                                {
                                    "TERMEKKOD": "07080156T",
                                    "MEGYS": "db"
                                },
                                {
                                    "TERMEKKOD": "07080157T",
                                    "MEGYS": "db"
                                },
                                {
                                    "TERMEKKOD": "07080159T",
                                    "MEGYS": "db"
                                },
                                {
                                    "TERMEKKOD": "07080160T",
                                    "MEGYS": "db"
                                },
                                {
                                    "TERMEKKOD": "07080161T",
                                    "MEGYS": "db"
                                },
                                {
                                    "TERMEKKOD": "07080162T",
                                    "MEGYS": "db"
                                },
                                {
                                    "TERMEKKOD": "07080316T",
                                    "MEGYS": "db"
                                },
                                {
                                    "TERMEKKOD": "07080421T",
                                    "MEGYS": "csomag"
                                },
                                {
                                    "TERMEKKOD": "07080466T",
                                    "MEGYS": "db"
                                },
                                {
                                    "TERMEKKOD": "08070472T",
                                    "MEGYS": "db"
                                },
                                {
                                    "TERMEKKOD": "08070473T",
                                    "MEGYS": "db"
                                },
                                {
                                    "TERMEKKOD": "08070474T",
                                    "MEGYS": "db"
                                },
                                {
                                    "TERMEKKOD": "08070477T",
                                    "MEGYS": "db"
                                },
                                {
                                    "TERMEKKOD": "08070478T",
                                    "MEGYS": "db"
                                },
                                {
                                    "TERMEKKOD": "08070479T",
                                    "MEGYS": "db"
                                },
                                {
                                    "TERMEKKOD": "08070481T",
                                    "MEGYS": "db"
                                },
                                {
                                    "TERMEKKOD": "08070482T",
                                    "MEGYS": "db"
                                },
                                {
                                    "TERMEKKOD": "08070483T",
                                    "MEGYS": "db"
                                },
                                {
                                    "TERMEKKOD": "08070484T",
                                    "MEGYS": "db"
                                },
                                {
                                    "TERMEKKOD": "08070485T",
                                    "MEGYS": "db"
                                },
                                {
                                    "TERMEKKOD": "08070486T",
                                    "MEGYS": "db"
                                },
                                {
                                    "TERMEKKOD": "08070487T",
                                    "MEGYS": "db"
                                },
                                {
                                    "TERMEKKOD": "08070490T",
                                    "MEGYS": "db"
                                },
                                {
                                    "TERMEKKOD": "08070491T",
                                    "MEGYS": "db"
                                },
                                {
                                    "TERMEKKOD": "08070492T",
                                    "MEGYS": "db"
                                },
                                {
                                    "TERMEKKOD": "08070493T",
                                    "MEGYS": "db"
                                },
                                {
                                    "TERMEKKOD": "08070494T",
                                    "MEGYS": "db"
                                },
                                {
                                    "TERMEKKOD": "08070495T",
                                    "MEGYS": "db"
                                },
                                {
                                    "TERMEKKOD": "F001-KB101",
                                    "MEGYS": "db"
                                },
                                {
                                    "TERMEKKOD": "F007-NA201",
                                    "MEGYS": "db"
                                },
                                {
                                    "TERMEKKOD": "F013-NA207",
                                    "MEGYS": "db"
                                },
                                {
                                    "TERMEKKOD": "F021-IN215",
                                    "MEGYS": "db"
                                },
                                {
                                    "TERMEKKOD": "G001-KB101",
                                    "MEGYS": "db"
                                },
                                {
                                    "TERMEKKOD": "G013-NA201",
                                    "MEGYS": "db"
                                },
                                {
                                    "TERMEKKOD": "G019-NA207",
                                    "MEGYS": "db"
                                },
                                {
                                    "TERMEKKOD": "G023-FE301",
                                    "MEGYS": "db"
                                },
                                {
                                    "TERMEKKOD": "G029-FE307",
                                    "MEGYS": "db"
                                },
                                {
                                    "TERMEKKOD": "G038-FE316",
                                    "MEGYS": "db"
                                },
                                {
                                    "TERMEKKOD": "G041-AL211",
                                    "MEGYS": "db"
                                },
                                {
                                    "TERMEKKOD": "G048-PO218",
                                    "MEGYS": "db"
                                },
                                {
                                    "TERMEKKOD": "G064-CI401",
                                    "MEGYS": "db"
                                },
                                {
                                    "TERMEKKOD": "G073-CI410",
                                    "MEGYS": "db"
                                },
                                {
                                    "TERMEKKOD": "G082-CI419",
                                    "MEGYS": "db"
                                },
                                {
                                    "TERMEKKOD": "L001-KB101",
                                    "MEGYS": "db"
                                },
                                {
                                    "TERMEKKOD": "L013-NA201",
                                    "MEGYS": "db"
                                },
                                {
                                    "TERMEKKOD": "L019-NA207",
                                    "MEGYS": "db"
                                },
                                {
                                    "TERMEKKOD": "L023-FE301",
                                    "MEGYS": "db"
                                },
                                {
                                    "TERMEKKOD": "L029-FE307",
                                    "MEGYS": "db"
                                },
                                {
                                    "TERMEKKOD": "L033-FE311",
                                    "MEGYS": "db"
                                },
                                {
                                    "TERMEKKOD": "L041-AL211",
                                    "MEGYS": "db"
                                },
                                {
                                    "TERMEKKOD": "L048-PO218",
                                    "MEGYS": "db"
                                },
                                {
                                    "TERMEKKOD": "L064-CI401",
                                    "MEGYS": "db"
                                },
                                {
                                    "TERMEKKOD": "L073-CI410",
                                    "MEGYS": "db"
                                },
                                {
                                    "TERMEKKOD": "L082-CI419",
                                    "MEGYS": "db"
                                },
                                {
                                    "TERMEKKOD": "N001-KB101",
                                    "MEGYS": "db"
                                },
                                {
                                    "TERMEKKOD": "N008-NA201",
                                    "MEGYS": "db"
                                },
                                {
                                    "TERMEKKOD": "N019-FE301",
                                    "MEGYS": "db"
                                },
                                {
                                    "TERMEKKOD": "N029-AL212",
                                    "MEGYS": "db"
                                },
                                {
                                    "TERMEKKOD": "N035-AL218",
                                    "MEGYS": "db"
                                },
                                {
                                    "TERMEKKOD": "N039-AL222",
                                    "MEGYS": "db"
                                },
                                {
                                    "TERMEKKOD": "U001-KI501",
                                    "MEGYS": "db"
                                }
                            ]
                        },
                        "text/html": [
                            "<table>",
                            "<tr><th>TERMEKKOD</th><th>MEGYS</th></tr>",
                            "<tr><td>01010110T</td><td>db</td></tr>",
                            "<tr><td>01010304T</td><td>db</td></tr>",
                            "<tr><td>01020300T</td><td>db</td></tr>",
                            "<tr><td>01030091T</td><td>db</td></tr>",
                            "<tr><td>01030092T</td><td>db</td></tr>",
                            "<tr><td>01040307T</td><td>ív</td></tr>",
                            "<tr><td>01040502T</td><td>db</td></tr>",
                            "<tr><td>01080093T</td><td>db</td></tr>",
                            "<tr><td>01080512T</td><td>doboz</td></tr>",
                            "<tr><td>01080513T</td><td>ív</td></tr>",
                            "<tr><td>01090499T</td><td>Ív</td></tr>",
                            "<tr><td>01090500T</td><td>Ív</td></tr>",
                            "<tr><td>01090501T</td><td>Ív</td></tr>",
                            "<tr><td>01090515T</td><td>ív</td></tr>",
                            "<tr><td>01090516T</td><td>ív</td></tr>",
                            "<tr><td>01090517T</td><td>ív</td></tr>",
                            "<tr><td>01100070T</td><td>ív</td></tr>",
                            "<tr><td>01100072T</td><td>ív</td></tr>",
                            "<tr><td>01100094T</td><td>csomag</td></tr>",
                            "<tr><td>01100095T</td><td>csomag</td></tr>",
                            "<tr><td>01100096T</td><td>csomag</td></tr>",
                            "<tr><td>01100496T</td><td>csomag</td></tr>",
                            "<tr><td>01100497T</td><td>ív</td></tr>",
                            "<tr><td>01100503T</td><td>ív</td></tr>",
                            "<tr><td>01100504T</td><td>csomag</td></tr>",
                            "<tr><td>01100505T</td><td>csomag</td></tr>",
                            "<tr><td>01100509T</td><td>ív</td></tr>",
                            "<tr><td>01100510T</td><td>ív</td></tr>",
                            "<tr><td>02010028T</td><td>db</td></tr>",
                            "<tr><td>02020029T</td><td>db</td></tr>",
                            "<tr><td>02020032T</td><td>db</td></tr>",
                            "<tr><td>02020033T</td><td>db</td></tr>",
                            "<tr><td>02020037T</td><td>db</td></tr>",
                            "<tr><td>02020245T</td><td>db</td></tr>",
                            "<tr><td>02030040T</td><td>db</td></tr>",
                            "<tr><td>02040025T</td><td>db</td></tr>",
                            "<tr><td>02040145T</td><td>db</td></tr>",
                            "<tr><td>02040147T</td><td>db</td></tr>",
                            "<tr><td>02040148T</td><td>csomag</td></tr>",
                            "<tr><td>02040176T</td><td>db</td></tr>",
                            "<tr><td>02040177T</td><td>db</td></tr>",
                            "<tr><td>02040178T</td><td>db</td></tr>",
                            "<tr><td>02040194T</td><td>db</td></tr>",
                            "<tr><td>02040195T</td><td>db</td></tr>",
                            "<tr><td>02040196T</td><td>db</td></tr>",
                            "<tr><td>02040197T</td><td>db</td></tr>",
                            "<tr><td>02040198T</td><td>db</td></tr>",
                            "<tr><td>02040199T</td><td>db</td></tr>",
                            "<tr><td>02040200T</td><td>db</td></tr>",
                            "<tr><td>02040206T</td><td>db</td></tr>",
                            "<tr><td>02040207T</td><td>db</td></tr>",
                            "<tr><td>02040208T</td><td>db</td></tr>",
                            "<tr><td>02040209T</td><td>db</td></tr>",
                            "<tr><td>02040211T</td><td>db</td></tr>",
                            "<tr><td>02040214T</td><td>db</td></tr>",
                            "<tr><td>02040290T</td><td>db</td></tr>",
                            "<tr><td>02040291T</td><td>db</td></tr>",
                            "<tr><td>02040294T</td><td>db</td></tr>",
                            "<tr><td>02040298T</td><td>db</td></tr>",
                            "<tr><td>02040308T</td><td>db</td></tr>",
                            "<tr><td>02040309T</td><td>db</td></tr>",
                            "<tr><td>02040401T</td><td>db</td></tr>",
                            "<tr><td>02040402T</td><td>db</td></tr>",
                            "<tr><td>02040403T</td><td>db</td></tr>",
                            "<tr><td>02040404T</td><td>db</td></tr>",
                            "<tr><td>02040405T</td><td>csomag</td></tr>",
                            "<tr><td>02040506T</td><td>ív</td></tr>",
                            "<tr><td>02040507T</td><td>ív</td></tr>",
                            "<tr><td>02040508T</td><td>ív</td></tr>",
                            "<tr><td>02050460T</td><td>db</td></tr>",
                            "<tr><td>02050461T</td><td>db</td></tr>",
                            "<tr><td>02060034T</td><td>db</td></tr>",
                            "<tr><td>02060038T</td><td>db</td></tr>",
                            "<tr><td>02060039T</td><td>db</td></tr>",
                            "<tr><td>02060447T</td><td>db</td></tr>",
                            "<tr><td>02060448T</td><td>db</td></tr>",
                            "<tr><td>02080069T</td><td>db</td></tr>",
                            "<tr><td>02080081T</td><td>db</td></tr>",
                            "<tr><td>02080109T</td><td>db</td></tr>",
                            "<tr><td>02080226T</td><td>db</td></tr>",
                            "<tr><td>02080431T</td><td>db</td></tr>",
                            "<tr><td>02080432T</td><td>db</td></tr>",
                            "<tr><td>02080433T</td><td>db</td></tr>",
                            "<tr><td>02080434T</td><td>db</td></tr>",
                            "<tr><td>02080436T</td><td>db</td></tr>",
                            "<tr><td>02080449T</td><td>csomag</td></tr>",
                            "<tr><td>02080450T</td><td>csomag</td></tr>",
                            "<tr><td>02080451T</td><td>csomag</td></tr>",
                            "<tr><td>02080452T</td><td>db</td></tr>",
                            "<tr><td>02080453T</td><td>db</td></tr>",
                            "<tr><td>02080454T</td><td>db</td></tr>",
                            "<tr><td>02080455T</td><td>db</td></tr>",
                            "<tr><td>02080456T</td><td>csomag</td></tr>",
                            "<tr><td>02080511T</td><td>db</td></tr>",
                            "<tr><td>02080514T</td><td>db</td></tr>",
                            "<tr><td>03010342T</td><td>db</td></tr>",
                            "<tr><td>03010344T</td><td>db</td></tr>",
                            "<tr><td>03010345T</td><td>db</td></tr>",
                            "<tr><td>03050076T</td><td>db</td></tr>",
                            "<tr><td>03050077T</td><td>db</td></tr>",
                            "<tr><td>03050078T</td><td>db</td></tr>",
                            "<tr><td>03080003T</td><td>db</td></tr>",
                            "<tr><td>03080004T</td><td>db</td></tr>",
                            "<tr><td>03080006T</td><td>db</td></tr>",
                            "<tr><td>03080009T</td><td>db</td></tr>",
                            "<tr><td>03080012T</td><td>db</td></tr>",
                            "<tr><td>03080013T</td><td>db</td></tr>",
                            "<tr><td>03080014T</td><td>db</td></tr>",
                            "<tr><td>03080015T</td><td>db</td></tr>",
                            "<tr><td>03080016T</td><td>csomag</td></tr>",
                            "<tr><td>03080017T</td><td>db</td></tr>",
                            "<tr><td>03080019T</td><td>db</td></tr>",
                            "<tr><td>03080020T</td><td>ív</td></tr>",
                            "<tr><td>03080021T</td><td>db</td></tr>",
                            "<tr><td>03080030T</td><td>db</td></tr>",
                            "<tr><td>03080439T</td><td>db</td></tr>",
                            "<tr><td>04020445T</td><td>db</td></tr>",
                            "<tr><td>04030235T</td><td>db</td></tr>",
                            "<tr><td>04030237T</td><td>db</td></tr>",
                            "<tr><td>04030238T</td><td>db</td></tr>",
                            "<tr><td>04030239T</td><td>db</td></tr>",
                            "<tr><td>04030243T</td><td>db</td></tr>",
                            "<tr><td>04030261T</td><td>csomag</td></tr>",
                            "<tr><td>04030262T</td><td>csomag</td></tr>",
                            "<tr><td>04030263T</td><td>db</td></tr>",
                            "<tr><td>04030264T</td><td>db</td></tr>",
                            "<tr><td>04030265T</td><td>db</td></tr>",
                            "<tr><td>04030266T</td><td>db</td></tr>",
                            "<tr><td>04030285T</td><td>db</td></tr>",
                            "<tr><td>04030286T</td><td>db</td></tr>",
                            "<tr><td>04030288T</td><td>db</td></tr>",
                            "<tr><td>04040387T</td><td>db</td></tr>",
                            "<tr><td>04050022T</td><td>db</td></tr>",
                            "<tr><td>04050023T</td><td>db</td></tr>",
                            "<tr><td>04050024T</td><td>db</td></tr>",
                            "<tr><td>04050035T</td><td>db</td></tr>",
                            "<tr><td>04050073T</td><td>db</td></tr>",
                            "<tr><td>04050074T</td><td>db</td></tr>",
                            "<tr><td>04050075T</td><td>db</td></tr>",
                            "<tr><td>04050171T</td><td>db</td></tr>",
                            "<tr><td>04050187T</td><td>db</td></tr>",
                            "<tr><td>04050203T</td><td>db</td></tr>",
                            "<tr><td>04050204T</td><td>db</td></tr>",
                            "<tr><td>04050220T</td><td>db</td></tr>",
                            "<tr><td>04050221T</td><td>db</td></tr>",
                            "<tr><td>04050222T</td><td>db</td></tr>",
                            "<tr><td>04050223T</td><td>db</td></tr>",
                            "<tr><td>04050224T</td><td>db</td></tr>",
                            "<tr><td>04050252T</td><td>db</td></tr>",
                            "<tr><td>04050253T</td><td>db</td></tr>",
                            "<tr><td>04050254T</td><td>db</td></tr>",
                            "<tr><td>04050269T</td><td>db</td></tr>",
                            "<tr><td>04050320T</td><td>db</td></tr>",
                            "<tr><td>04050322T</td><td>db</td></tr>",
                            "<tr><td>04050358T</td><td>db</td></tr>",
                            "<tr><td>04080270T</td><td>db</td></tr>",
                            "<tr><td>04080271T</td><td>db</td></tr>",
                            "<tr><td>04080272T</td><td>db</td></tr>",
                            "<tr><td>04080443T</td><td>db</td></tr>",
                            "<tr><td>04110066T</td><td>db</td></tr>",
                            "<tr><td>04110067T</td><td>db</td></tr>",
                            "<tr><td>04110068T</td><td>db</td></tr>",
                            "<tr><td>04110227T</td><td>db</td></tr>",
                            "<tr><td>04110228T</td><td>db</td></tr>",
                            "<tr><td>04110229T</td><td>db</td></tr>",
                            "<tr><td>04110230T</td><td>db</td></tr>",
                            "<tr><td>04110231T</td><td>db</td></tr>",
                            "<tr><td>04110232T</td><td>db</td></tr>",
                            "<tr><td>04110233T</td><td>db</td></tr>",
                            "<tr><td>04110258T</td><td>db</td></tr>",
                            "<tr><td>04110274T</td><td>db</td></tr>",
                            "<tr><td>04110275T</td><td>db</td></tr>",
                            "<tr><td>04110276T</td><td>db</td></tr>",
                            "<tr><td>04110277T</td><td>db</td></tr>",
                            "<tr><td>04110278T</td><td>db</td></tr>",
                            "<tr><td>04110279T</td><td>db</td></tr>",
                            "<tr><td>04110280T</td><td>db</td></tr>",
                            "<tr><td>04110281T</td><td>db</td></tr>",
                            "<tr><td>04110282T</td><td>db</td></tr>",
                            "<tr><td>04110283T</td><td>db</td></tr>",
                            "<tr><td>04110284T</td><td>db</td></tr>",
                            "<tr><td>04110362T</td><td>csomag</td></tr>",
                            "<tr><td>05010026T</td><td>db</td></tr>",
                            "<tr><td>05010369T</td><td>csomag</td></tr>",
                            "<tr><td>05010370T</td><td>db</td></tr>",
                            "<tr><td>05040310T</td><td>db</td></tr>",
                            "<tr><td>05040348T</td><td>csomag</td></tr>",
                            "<tr><td>05040349T</td><td>db</td></tr>",
                            "<tr><td>05050045T</td><td>csomag</td></tr>",
                            "<tr><td>05050046T</td><td>db</td></tr>",
                            "<tr><td>05050170T</td><td>csomag</td></tr>",
                            "<tr><td>05050346T</td><td>csomag</td></tr>",
                            "<tr><td>05080340T</td><td>db</td></tr>",
                            "<tr><td>05080341T</td><td>db</td></tr>",
                            "<tr><td>05110359T</td><td>csomag</td></tr>",
                            "<tr><td>05110360T</td><td>csomag</td></tr>",
                            "<tr><td>05110361T</td><td>csomag</td></tr>",
                            "<tr><td>05110363T</td><td>csomag</td></tr>",
                            "<tr><td>05110364T</td><td>csomag</td></tr>",
                            "<tr><td>06010036T</td><td>db</td></tr>",
                            "<tr><td>06010082T</td><td>db</td></tr>",
                            "<tr><td>06010083T</td><td>db</td></tr>",
                            "<tr><td>06010084T</td><td>db</td></tr>",
                            "<tr><td>06010085T</td><td>db</td></tr>",
                            "<tr><td>06010111T</td><td>db</td></tr>",
                            "<tr><td>06010112T</td><td>db</td></tr>",
                            "<tr><td>06010114T</td><td>db</td></tr>",
                            "<tr><td>06010115T</td><td>db</td></tr>",
                            "<tr><td>06010201T</td><td>db</td></tr>",
                            "<tr><td>06010202T</td><td>csomag</td></tr>",
                            "<tr><td>06010305T</td><td>db</td></tr>",
                            "<tr><td>06010365T</td><td>db</td></tr>",
                            "<tr><td>06010366T</td><td>db</td></tr>",
                            "<tr><td>06010367T</td><td>csomag</td></tr>",
                            "<tr><td>06010368T</td><td>csomag</td></tr>",
                            "<tr><td>06010375T</td><td>db</td></tr>",
                            "<tr><td>06010376T</td><td>db</td></tr>",
                            "<tr><td>06010377T</td><td>db</td></tr>",
                            "<tr><td>06040089T</td><td>db</td></tr>",
                            "<tr><td>06040175T</td><td>db</td></tr>",
                            "<tr><td>06040179T</td><td>db</td></tr>",
                            "<tr><td>06040180T</td><td>db</td></tr>",
                            "<tr><td>06040183T</td><td>db</td></tr>",
                            "<tr><td>06040184T</td><td>db</td></tr>",
                            "<tr><td>06040186T</td><td>db</td></tr>",
                            "<tr><td>06040205T</td><td>db</td></tr>",
                            "<tr><td>06040206T</td><td>db</td></tr>",
                            "<tr><td>06040212T</td><td>db</td></tr>",
                            "<tr><td>06040213T</td><td>db</td></tr>",
                            "<tr><td>06040246T</td><td>db</td></tr>",
                            "<tr><td>06040248T</td><td>db</td></tr>",
                            "<tr><td>06040323T</td><td>db</td></tr>",
                            "<tr><td>06040324T</td><td>db</td></tr>",
                            "<tr><td>06040326T</td><td>db</td></tr>",
                            "<tr><td>06040330T</td><td>db</td></tr>",
                            "<tr><td>06040331T</td><td>db</td></tr>",
                            "<tr><td>06040347T</td><td>csomag</td></tr>",
                            "<tr><td>06040350T</td><td>db</td></tr>",
                            "<tr><td>06040351T</td><td>db</td></tr>",
                            "<tr><td>06040352T</td><td>db</td></tr>",
                            "<tr><td>06040353T</td><td>db</td></tr>",
                            "<tr><td>06040354T</td><td>db</td></tr>",
                            "<tr><td>06040355T</td><td>db</td></tr>",
                            "<tr><td>06040356T</td><td>db</td></tr>",
                            "<tr><td>06040378T</td><td>db</td></tr>",
                            "<tr><td>06040379T</td><td>db</td></tr>",
                            "<tr><td>06040380T</td><td>db</td></tr>",
                            "<tr><td>06040381T</td><td>csomag</td></tr>",
                            "<tr><td>06040382T</td><td>csomag</td></tr>",
                            "<tr><td>06040383T</td><td>db</td></tr>",
                            "<tr><td>06040384T</td><td>db</td></tr>",
                            "<tr><td>06040385T</td><td>db</td></tr>",
                            "<tr><td>06040386T</td><td>db</td></tr>",
                            "<tr><td>06040392T</td><td>db</td></tr>",
                            "<tr><td>06040393T</td><td>db</td></tr>",
                            "<tr><td>06040394T</td><td>db</td></tr>",
                            "<tr><td>06040395T</td><td>db</td></tr>",
                            "<tr><td>06040397T</td><td>csomag</td></tr>",
                            "<tr><td>06040398T</td><td>db</td></tr>",
                            "<tr><td>06040399T</td><td>db</td></tr>",
                            "<tr><td>06040400T</td><td>db</td></tr>",
                            "<tr><td>06040446T</td><td>db</td></tr>",
                            "<tr><td>06050249T</td><td>db</td></tr>",
                            "<tr><td>06050301T</td><td>db</td></tr>",
                            "<tr><td>06050302T</td><td>db</td></tr>",
                            "<tr><td>06050303T</td><td>db</td></tr>",
                            "<tr><td>06080116T</td><td>db</td></tr>",
                            "<tr><td>06080117T</td><td>db</td></tr>",
                            "<tr><td>06080118T</td><td>db</td></tr>",
                            "<tr><td>06080119T</td><td>db</td></tr>",
                            "<tr><td>06080120T</td><td>db</td></tr>",
                            "<tr><td>06080121T</td><td>csomag</td></tr>",
                            "<tr><td>06080122T</td><td>db</td></tr>",
                            "<tr><td>06080124T</td><td>db</td></tr>",
                            "<tr><td>06080125T</td><td>db</td></tr>",
                            "<tr><td>06080126T</td><td>db</td></tr>",
                            "<tr><td>06080188T</td><td>db</td></tr>",
                            "<tr><td>06080189T</td><td>db</td></tr>",
                            "<tr><td>06080190T</td><td>db</td></tr>",
                            "<tr><td>06080191T</td><td>db</td></tr>",
                            "<tr><td>06080192T</td><td>db</td></tr>",
                            "<tr><td>06080193T</td><td>db</td></tr>",
                            "<tr><td>06080259T</td><td>db</td></tr>",
                            "<tr><td>06080332T</td><td>db</td></tr>",
                            "<tr><td>06080333T</td><td>db</td></tr>",
                            "<tr><td>06080335T</td><td>db</td></tr>",
                            "<tr><td>06080337T</td><td>db</td></tr>",
                            "<tr><td>06080339T</td><td>db</td></tr>",
                            "<tr><td>06080407T</td><td>db</td></tr>",
                            "<tr><td>06080408T</td><td>db</td></tr>",
                            "<tr><td>06080409T</td><td>db</td></tr>",
                            "<tr><td>06080410T</td><td>db</td></tr>",
                            "<tr><td>06080411T</td><td>db</td></tr>",
                            "<tr><td>06080412T</td><td>db</td></tr>",
                            "<tr><td>06080413T</td><td>db</td></tr>",
                            "<tr><td>06080415T</td><td>db</td></tr>",
                            "<tr><td>06080416T</td><td>db</td></tr>",
                            "<tr><td>06080417T</td><td>db</td></tr>",
                            "<tr><td>06080422T</td><td>db</td></tr>",
                            "<tr><td>06080423T</td><td>db</td></tr>",
                            "<tr><td>06080424T</td><td>db</td></tr>",
                            "<tr><td>06080425T</td><td>db</td></tr>",
                            "<tr><td>06080426T</td><td>db</td></tr>",
                            "<tr><td>06080427T</td><td>db</td></tr>",
                            "<tr><td>06080428T</td><td>db</td></tr>",
                            "<tr><td>06080429T</td><td>db</td></tr>",
                            "<tr><td>06080430T</td><td>csomag</td></tr>",
                            "<tr><td>06080441T</td><td>csomag</td></tr>",
                            "<tr><td>07010137T</td><td>db</td></tr>",
                            "<tr><td>07010139T</td><td>db</td></tr>",
                            "<tr><td>07010140T</td><td>db</td></tr>",
                            "<tr><td>07010141T</td><td>db</td></tr>",
                            "<tr><td>07010142T</td><td>db</td></tr>",
                            "<tr><td>07010143T</td><td>db</td></tr>",
                            "<tr><td>07010144T</td><td>db</td></tr>",
                            "<tr><td>07010244T</td><td>db</td></tr>",
                            "<tr><td>07030103T</td><td>db</td></tr>",
                            "<tr><td>07030104T</td><td>db</td></tr>",
                            "<tr><td>07030105T</td><td>db</td></tr>",
                            "<tr><td>07030106T</td><td>db</td></tr>",
                            "<tr><td>07030107T</td><td>db</td></tr>",
                            "<tr><td>07030108T</td><td>db</td></tr>",
                            "<tr><td>07040047T</td><td>db</td></tr>",
                            "<tr><td>07040049T</td><td>db</td></tr>",
                            "<tr><td>07040050T</td><td>db</td></tr>",
                            "<tr><td>07040051T</td><td>db</td></tr>",
                            "<tr><td>07040052T</td><td>db</td></tr>",
                            "<tr><td>07040053T</td><td>db</td></tr>",
                            "<tr><td>07040054T</td><td>db</td></tr>",
                            "<tr><td>07040055T</td><td>db</td></tr>",
                            "<tr><td>07040056T</td><td>db</td></tr>",
                            "<tr><td>07040057T</td><td>db</td></tr>",
                            "<tr><td>07040058T</td><td>db</td></tr>",
                            "<tr><td>07040059T</td><td>db</td></tr>",
                            "<tr><td>07040060T</td><td>db</td></tr>",
                            "<tr><td>07040061T</td><td>db</td></tr>",
                            "<tr><td>07040097T</td><td>db</td></tr>",
                            "<tr><td>07040098T</td><td>db</td></tr>",
                            "<tr><td>07040099T</td><td>csomag</td></tr>",
                            "<tr><td>07040100T</td><td>db</td></tr>",
                            "<tr><td>07040101T</td><td>db</td></tr>",
                            "<tr><td>07040102T</td><td>db</td></tr>",
                            "<tr><td>07040127T</td><td>db</td></tr>",
                            "<tr><td>07040128T</td><td>db</td></tr>",
                            "<tr><td>07040129T</td><td>db</td></tr>",
                            "<tr><td>07040130T</td><td>db</td></tr>",
                            "<tr><td>07040132T</td><td>db</td></tr>",
                            "<tr><td>07040133T</td><td>db</td></tr>",
                            "<tr><td>07040165T</td><td>db</td></tr>",
                            "<tr><td>07040166T</td><td>db</td></tr>",
                            "<tr><td>07040167T</td><td>db</td></tr>",
                            "<tr><td>07040168T</td><td>db</td></tr>",
                            "<tr><td>07040169T</td><td>db</td></tr>",
                            "<tr><td>07040215T</td><td>db</td></tr>",
                            "<tr><td>07040216T</td><td>db</td></tr>",
                            "<tr><td>07040217T</td><td>db</td></tr>",
                            "<tr><td>07040218T</td><td>db</td></tr>",
                            "<tr><td>07040219T</td><td>db</td></tr>",
                            "<tr><td>07040257T</td><td>db</td></tr>",
                            "<tr><td>07040388T</td><td>csomag</td></tr>",
                            "<tr><td>07040389T</td><td>db</td></tr>",
                            "<tr><td>07040390T</td><td>db</td></tr>",
                            "<tr><td>07040391T</td><td>db</td></tr>",
                            "<tr><td>07050462T</td><td>üveg</td></tr>",
                            "<tr><td>07050463T</td><td>db</td></tr>",
                            "<tr><td>07050464T</td><td>db</td></tr>",
                            "<tr><td>07080062T</td><td>db</td></tr>",
                            "<tr><td>07080063T</td><td>db</td></tr>",
                            "<tr><td>07080064T</td><td>db</td></tr>",
                            "<tr><td>07080065T</td><td>db</td></tr>",
                            "<tr><td>07080150T</td><td>db</td></tr>",
                            "<tr><td>07080151T</td><td>db</td></tr>",
                            "<tr><td>07080152T</td><td>db</td></tr>",
                            "<tr><td>07080153T</td><td>db</td></tr>",
                            "<tr><td>07080154T</td><td>db</td></tr>",
                            "<tr><td>07080155T</td><td>db</td></tr>",
                            "<tr><td>07080156T</td><td>db</td></tr>",
                            "<tr><td>07080157T</td><td>db</td></tr>",
                            "<tr><td>07080159T</td><td>db</td></tr>",
                            "<tr><td>07080160T</td><td>db</td></tr>",
                            "<tr><td>07080161T</td><td>db</td></tr>",
                            "<tr><td>07080162T</td><td>db</td></tr>",
                            "<tr><td>07080316T</td><td>db</td></tr>",
                            "<tr><td>07080421T</td><td>csomag</td></tr>",
                            "<tr><td>07080466T</td><td>db</td></tr>",
                            "<tr><td>08070472T</td><td>db</td></tr>",
                            "<tr><td>08070473T</td><td>db</td></tr>",
                            "<tr><td>08070474T</td><td>db</td></tr>",
                            "<tr><td>08070477T</td><td>db</td></tr>",
                            "<tr><td>08070478T</td><td>db</td></tr>",
                            "<tr><td>08070479T</td><td>db</td></tr>",
                            "<tr><td>08070481T</td><td>db</td></tr>",
                            "<tr><td>08070482T</td><td>db</td></tr>",
                            "<tr><td>08070483T</td><td>db</td></tr>",
                            "<tr><td>08070484T</td><td>db</td></tr>",
                            "<tr><td>08070485T</td><td>db</td></tr>",
                            "<tr><td>08070486T</td><td>db</td></tr>",
                            "<tr><td>08070487T</td><td>db</td></tr>",
                            "<tr><td>08070490T</td><td>db</td></tr>",
                            "<tr><td>08070491T</td><td>db</td></tr>",
                            "<tr><td>08070492T</td><td>db</td></tr>",
                            "<tr><td>08070493T</td><td>db</td></tr>",
                            "<tr><td>08070494T</td><td>db</td></tr>",
                            "<tr><td>08070495T</td><td>db</td></tr>",
                            "<tr><td>F001-KB101</td><td>db</td></tr>",
                            "<tr><td>F007-NA201</td><td>db</td></tr>",
                            "<tr><td>F013-NA207</td><td>db</td></tr>",
                            "<tr><td>F021-IN215</td><td>db</td></tr>",
                            "<tr><td>G001-KB101</td><td>db</td></tr>",
                            "<tr><td>G013-NA201</td><td>db</td></tr>",
                            "<tr><td>G019-NA207</td><td>db</td></tr>",
                            "<tr><td>G023-FE301</td><td>db</td></tr>",
                            "<tr><td>G029-FE307</td><td>db</td></tr>",
                            "<tr><td>G038-FE316</td><td>db</td></tr>",
                            "<tr><td>G041-AL211</td><td>db</td></tr>",
                            "<tr><td>G048-PO218</td><td>db</td></tr>",
                            "<tr><td>G064-CI401</td><td>db</td></tr>",
                            "<tr><td>G073-CI410</td><td>db</td></tr>",
                            "<tr><td>G082-CI419</td><td>db</td></tr>",
                            "<tr><td>L001-KB101</td><td>db</td></tr>",
                            "<tr><td>L013-NA201</td><td>db</td></tr>",
                            "<tr><td>L019-NA207</td><td>db</td></tr>",
                            "<tr><td>L023-FE301</td><td>db</td></tr>",
                            "<tr><td>L029-FE307</td><td>db</td></tr>",
                            "<tr><td>L033-FE311</td><td>db</td></tr>",
                            "<tr><td>L041-AL211</td><td>db</td></tr>",
                            "<tr><td>L048-PO218</td><td>db</td></tr>",
                            "<tr><td>L064-CI401</td><td>db</td></tr>",
                            "<tr><td>L073-CI410</td><td>db</td></tr>",
                            "<tr><td>L082-CI419</td><td>db</td></tr>",
                            "<tr><td>N001-KB101</td><td>db</td></tr>",
                            "<tr><td>N008-NA201</td><td>db</td></tr>",
                            "<tr><td>N019-FE301</td><td>db</td></tr>",
                            "<tr><td>N029-AL212</td><td>db</td></tr>",
                            "<tr><td>N035-AL218</td><td>db</td></tr>",
                            "<tr><td>N039-AL222</td><td>db</td></tr>",
                            "<tr><td>U001-KI501</td><td>db</td></tr>",
                            "</table>"
                        ]
                    }
                }
            ],
            "execution_count": 5
        },
        {
            "cell_type": "markdown",
            "source": [
                "7. <span style=\"background-color: rgb(255, 255, 255); color: rgb(0, 0, 0); font-family: &quot;Open Sans&quot;, sans-serif; font-size: 14.44px;\">Listázzuk azon ügyfeleket, akik még nem fizettek bankkártyával!&nbsp;</span> \n",
                "\n",
                "a. Csak az ügyfelek neve jelenjen meg!"
            ],
            "metadata": {
                "azdata_cell_guid": "7ebf7ddd-1bd2-4246-815a-be8ae37e3b5b"
            },
            "attachments": {}
        },
        {
            "cell_type": "code",
            "source": [
                ""
            ],
            "metadata": {
                "azdata_cell_guid": "84b7e896-f36e-4985-88f5-e0f706494fef",
                "language": "sql",
                "tags": []
            },
            "outputs": [
                {
                    "output_type": "error",
                    "evalue": "Msg 208, Level 16, State 1, Line 1\r\nInvalid object name 'Ugyfel'.",
                    "ename": "",
                    "traceback": []
                },
                {
                    "output_type": "display_data",
                    "data": {
                        "text/html": "Total execution time: 00:00:00.003"
                    },
                    "metadata": {}
                }
            ],
            "execution_count": 3
        },
        {
            "cell_type": "markdown",
            "source": [
                "8. <span style=\"background-color: rgb(255, 255, 255); color: rgb(0, 0, 0); font-family: &quot;Open Sans&quot;, sans-serif; font-size: 14.44px;\">Mennyibe kerül a második legnagyobb listaárú termék?</span>"
            ],
            "metadata": {
                "azdata_cell_guid": "27a3d3dc-eafb-4a5e-b103-9f465b9eda8f"
            },
            "attachments": {}
        },
        {
            "cell_type": "code",
            "source": [
                ""
            ],
            "metadata": {
                "azdata_cell_guid": "f09edb3f-649b-4a96-958e-9e12774ae8b7",
                "language": "sql"
            },
            "outputs": [],
            "execution_count": null
        },
        {
            "cell_type": "markdown",
            "source": [
                "9. <span style=\"background-color: rgb(255, 255, 255); color: rgb(0, 0, 0); font-family: &quot;Open Sans&quot;, sans-serif; font-size: 14.44px;\">Melyik raktár(ak)ban van az a termék, amelyből a legnagyobb készlet van?&nbsp;</span> \n",
                "\n",
                "a. Csak a raktár(ak) neve jelenjen meg!"
            ],
            "metadata": {
                "azdata_cell_guid": "f12a331a-0e26-4d3d-9c68-812316286577"
            },
            "attachments": {}
        },
        {
            "cell_type": "code",
            "source": [
                ""
            ],
            "metadata": {
                "azdata_cell_guid": "10a77fc9-e61a-46fc-a401-59720d82bc50",
                "language": "sql"
            },
            "outputs": [],
            "execution_count": null
        },
        {
            "cell_type": "markdown",
            "source": [
                "10. <span style=\"background-color: rgb(255, 255, 255); color: rgb(0, 0, 0); font-family: &quot;Open Sans&quot;, sans-serif; font-size: 14.44px;\">Melyek azok a termékek, amelyek listaára nagyobb, mint bármelyik olyan terméké, amelynek nevében az Ajándék szó szerepel?&nbsp;</span> \n",
                "\n",
                "a. A termékek kódját és nevét is jelenítsük meg!"
            ],
            "metadata": {
                "azdata_cell_guid": "9229e2b6-e200-4499-b95b-2d0222149831"
            },
            "attachments": {}
        },
        {
            "cell_type": "code",
            "source": [
                ""
            ],
            "metadata": {
                "azdata_cell_guid": "8b49ed67-28c6-4880-82a8-cd369e5bba99",
                "language": "sql"
            },
            "outputs": [],
            "execution_count": null
        },
        {
            "cell_type": "markdown",
            "source": [
                "11. <span style=\"background-color: rgb(255, 255, 255); color: rgb(0, 0, 0); font-family: &quot;Open Sans&quot;, sans-serif; font-size: 14.44px;\">Melyik hónapokban adtak le az ügyfelek több rendelést, mint januárban?&nbsp;</span> \n",
                "\n",
                "a. Elég a hónapok sorszámait megjeleníteni. \n",
                "\n",
                "b. A listát rendezzük a hónapok száma szerint növekvő sorrendbe!"
            ],
            "metadata": {
                "azdata_cell_guid": "7f5fc7a7-3b6a-4d89-b292-490830afb0c6"
            },
            "attachments": {}
        },
        {
            "cell_type": "code",
            "source": [
                ""
            ],
            "metadata": {
                "azdata_cell_guid": "4a9ece40-f782-4c0d-92cd-9c21969067ed",
                "language": "sql"
            },
            "outputs": [],
            "execution_count": null
        },
        {
            "cell_type": "markdown",
            "source": [
                "12. <span style=\"background-color: rgb(255, 255, 255); color: rgb(0, 0, 0); font-family: &quot;Open Sans&quot;, sans-serif; font-size: 14.44px;\">Melyek azok a termékek, amelyek listaára az átlagostól max. 20%-kal tér el?&nbsp;</span> \n",
                "\n",
                "a. A termék kódját és nevét is jelenítsük meg!"
            ],
            "metadata": {
                "azdata_cell_guid": "5a483c52-bb98-44bb-bd03-1146d4b0abfa"
            },
            "attachments": {}
        },
        {
            "cell_type": "code",
            "source": [
                ""
            ],
            "metadata": {
                "azdata_cell_guid": "dd6e89bd-08f9-4b18-8460-03c45b503df0",
                "language": "sql"
            },
            "outputs": [],
            "execution_count": null
        },
        {
            "cell_type": "markdown",
            "source": [
                "13. <span style=\"background-color: rgb(255, 255, 255); color: rgb(0, 0, 0); font-family: &quot;Open Sans&quot;, sans-serif; font-size: 14.44px;\">Készítsünk listát (sorszámonként) az egyes rendelések teljes összegéről!&nbsp;</span> \n",
                "\n",
                "a. Szűrjünk azon tételekre, ahol ez az érték nagyobb, mint Viktor Éva rendeléseinek teljes összege! \n",
                "\n",
                "b. A teljes összeg oszlopot nevezzük el értelemszerűen!"
            ],
            "metadata": {
                "azdata_cell_guid": "85d5cb66-96c6-42de-99cf-85ab22d08548"
            },
            "attachments": {}
        },
        {
            "cell_type": "code",
            "source": [
                ""
            ],
            "metadata": {
                "azdata_cell_guid": "cb07d64b-0eaa-498b-b4d2-0b46971e95ce",
                "language": "sql"
            },
            "outputs": [],
            "execution_count": null
        },
        {
            "cell_type": "markdown",
            "source": [
                "14. <span style=\"background-color: rgb(255, 255, 255); color: rgb(0, 0, 0); font-family: &quot;Open Sans&quot;, sans-serif; font-size: 14.44px;\">Listázzuk azokat a termékkategóriákat, amelyből 2017 januárban nem történt rendelés!&nbsp;</span> \n",
                "\n",
                "a. Elég a kategóriák nevét megjeleníteni!"
            ],
            "metadata": {
                "azdata_cell_guid": "f95ad665-a807-4099-bf06-64ed974f866f"
            },
            "attachments": {}
        },
        {
            "cell_type": "code",
            "source": [
                ""
            ],
            "metadata": {
                "azdata_cell_guid": "74c7ec8a-ae4a-4d03-b1c4-e8f6bb1be12c",
                "language": "sql"
            },
            "outputs": [],
            "execution_count": null
        },
        {
            "cell_type": "markdown",
            "source": [
                "15. <span style=\"background-color: rgb(255, 255, 255); color: rgb(0, 0, 0); font-family: &quot;Open Sans&quot;, sans-serif; font-size: 14.44px;\">Listázzuk azon rendelési tételeket, amelynek értéke nagyobb, mint a legdrágább termék listaára azon termékek közül, amelyek szülő kategóriája a ruha!</span>"
            ],
            "metadata": {
                "azdata_cell_guid": "93552388-ffec-49ff-99e5-ae8dc8072601"
            },
            "attachments": {}
        },
        {
            "cell_type": "code",
            "source": [
                ""
            ],
            "metadata": {
                "azdata_cell_guid": "0e7f547f-7d96-4611-b1c2-0fa84a581e79",
                "language": "sql"
            },
            "outputs": [],
            "execution_count": null
        }
    ]
}