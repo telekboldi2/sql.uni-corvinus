{
    "metadata": {
        "kernelspec": {
            "name": "SQL",
            "display_name": "SQL",
            "language": "sql"
        },
        "language_info": {
            "name": "sql",
            "version": ""
        }
    },
    "nbformat_minor": 2,
    "nbformat": 4,
    "cells": [
        {
            "cell_type": "markdown",
            "source": [
                "1. <span style=\"background-color: rgb(255, 255, 255); color: rgb(0, 0, 0); font-family: &quot;Open Sans&quot;, sans-serif; font-size: 14.44px;\">Készítsünk sorszámozott listát a szálláshelyek adatairól!&nbsp;</span> \n",
                "\n",
                "a. A lista legyen a szálláshely típusa szerint, azon belül hely szerint, majd a neve szerint növekvően rendezve! \n",
                "\n",
                "b. A számozás típusonként kezdődjön újra!"
            ],
            "metadata": {
                "azdata_cell_guid": "363cd270-6577-449b-9c89-d4b7c7972d52"
            },
            "attachments": {}
        },
        {
            "cell_type": "code",
            "source": [
                "Select  row_number() over(\r\n",
                "            PARTITION BY tipus\r\n",
                ") as 'sorszám',\r\n",
                "        *\r\n",
                "from szallashely"
            ],
            "metadata": {
                "azdata_cell_guid": "6ab9f633-a3b5-48c9-a1dc-4fb8235ae85b",
                "language": "sql",
                "tags": []
            },
            "outputs": [],
            "execution_count": null
        },
        {
            "cell_type": "markdown",
            "source": [
                "2. <span style=\"background-color: rgb(255, 255, 255); color: rgb(0, 0, 0); font-family: &quot;Open Sans&quot;, sans-serif; font-size: 14.44px;\">Készítsünk lekérdezést, amely a foglalások adatait jeleníti meg!&nbsp;</span> \n",
                "\n",
                "a. A lista tartalmazzon két új oszlopot, amelyek az adott ügyfél legrövidebb, illetve leghosszabb foglalásának hosszát (a foglalt napok számát) mutatják meg! \n",
                "\n",
                "b. Az oszlopokat nevezzük el értelemszerűen!"
            ],
            "metadata": {
                "azdata_cell_guid": "ea75c103-911f-41a3-a32c-3d40fb3e4e4a"
            },
            "attachments": {}
        },
        {
            "cell_type": "code",
            "source": [
                "select  *,\r\n",
                "        MAX(DATEDIFF(DAY, METTOL, MEDDIG)) over (PARTITION by UGYFEL_FK) as 'Leghosszabb foglalás',\r\n",
                "        MIN(DATEDIFF(DAY, METTOL, MEDDIG)) over (PARTITION by UGYFEL_FK) as 'Legrövidebb foglalás'\r\n",
                "from Foglalas"
            ],
            "metadata": {
                "azdata_cell_guid": "222b9618-a8e8-42b4-a8e8-d002257122b7",
                "language": "sql",
                "tags": [
                    "hide_input"
                ]
            },
            "outputs": [],
            "execution_count": null
        },
        {
            "cell_type": "markdown",
            "source": [
                "```\n",
                "3. Készítsük listát, amely megjeleníti az ügyfelek azonosítóját, nevét és a foglalásainak kezdő- és befejező dátumát, valamint azt, hogy a foglalás összesen hány főre történt! \n",
                "```\n",
                "\n",
                "a. Egy új oszlopban jelenítsük meg azt is, hogy az ügyfél előző három foglalása összesen hány főre történt!\n",
                "\n",
                "![](https://moodle.uni-corvinus.hu/theme/image.php/adaptable/atto_h5p/1709548862/icon)"
            ],
            "metadata": {
                "azdata_cell_guid": "d7876bb9-76d0-4d07-baed-3cb17b2f96c3"
            },
            "attachments": {}
        },
        {
            "cell_type": "code",
            "source": [
                "select  UGYFEL_FK, METTOL, MEDDIG,\r\n",
                "        (FELNOTT_SZAM + GYERMEK_SZAM) as 'Össz fő',\r\n",
                "        SUM((FELNOTT_SZAM + GYERMEK_SZAM)) over (PARTITION by UGYFEL_FK order by FOGLALAS_PK\r\n",
                "        rows between 3 preceding and 1 preceding) as 'foglalasok össz fő'\r\n",
                "from foglalas"
            ],
            "metadata": {
                "azdata_cell_guid": "56ec19ce-e249-4551-b2a8-f17569765acc",
                "language": "sql"
            },
            "outputs": [],
            "execution_count": null
        },
        {
            "cell_type": "markdown",
            "source": [
                "4. <span style=\"background-color: rgb(255, 255, 255); color: rgb(0, 0, 0); font-family: &quot;Open Sans&quot;, sans-serif; font-size: 14.44px;\">Készítsünk listát arról, hogy az egyes szálláshelyeken évente hány foglalás történt!&nbsp;</span> \n",
                "\n",
                "a. A lista jelenítse meg a szálláshely azonosítóját, nevét, az évet, és a foglalások számát!\n",
                "\n",
                "b. Egy új oszlopban jelenítsük meg a szálláshely eddigi éves foglalásainak számát is (az aktuálisat is beleértve). \n",
                "\n",
                "c. Az évnél a METTOL dátumot vegyük figyelembe! \n",
                "\n",
                "d. A lista ne tartalmazzon duplikált sorokat!"
            ],
            "metadata": {
                "azdata_cell_guid": "8e7fef82-8022-49a0-8255-fc2846c2134b"
            },
            "attachments": {}
        },
        {
            "cell_type": "code",
            "source": [
                "SELECT distinct szh.SZALLAS_ID,YEAR(f.METTOL), count(*) over(partition by szh.SZALLAS_ID, YEAR(f.METTOL)),    \r\n",
                "                -- eddigi foglalásk száma\r\n",
                "                COUNT(*) over(partition by szh.szallas_id, year(f.METTOL)\r\n",
                "                                order by f.mettol\r\n",
                "                                range between unbounded preceding AND current ROW)\r\n",
                "FROM Szallashely szh join szoba sz on szh.SZALLAS_ID=sz.SZALLAS_FK\r\n",
                "                    join Foglalas f on sz.SZOBA_ID=f.SZOBA_FK"
            ],
            "metadata": {
                "azdata_cell_guid": "36f7b396-4a1f-45e5-8720-2302537c91bc",
                "language": "sql"
            },
            "outputs": [],
            "execution_count": null
        },
        {
            "cell_type": "markdown",
            "source": [
                "5. <span style=\"background-color: rgb(255, 255, 255); color: rgb(0, 0, 0); font-family: &quot;Open Sans&quot;, sans-serif; font-size: 14.44px;\">Készítsük listát a szálláshelyekről! A lista tartalmazza a szálláshely azonosítóját, nevét, és a csillagok számát csillagszám szerint csökkenő, azon belül szállásnév szerint növekvő sorrendben!&nbsp;</span> \n",
                "\n",
                "a. Vegyünk fel két új oszlopot, amely a sorrend szerint előző szálláshely nevét, illetve azonosítóját is megjeleníti!"
            ],
            "metadata": {
                "azdata_cell_guid": "84239ca2-6b5e-49f5-9860-d44c11d6de32"
            },
            "attachments": {}
        },
        {
            "cell_type": "code",
            "source": [
                "SELECT  szh.SZALLAS_ID,szh.SZALLAS_NEV,szh.CSILLAGOK_SZAMA,\r\n",
                "        LAG(szh.SZALLAS_ID) over(order by szh.CSILLAGOK_SZAMA DESC,szh.szallas_nev ASC),\r\n",
                "        LAG(szh.SZALLAS_NEV) over(order by szh.CSILLAGOK_SZAMA DESC,szh.szallas_nev ASC)\r\n",
                "from szallashely szh\r\n",
                "order by szh.CSILLAGOK_SZAMA DESC,szh.szallas_nev ASC"
            ],
            "metadata": {
                "azdata_cell_guid": "06d9a62b-9430-424b-a135-d80e675f0eb3",
                "language": "sql"
            },
            "outputs": [],
            "execution_count": null
        },
        {
            "cell_type": "markdown",
            "source": [
                "6. <span style=\"background-color: rgb(255, 255, 255); color: rgb(0, 0, 0); font-family: &quot;Open Sans&quot;, sans-serif; font-size: 14.44px;\">Listázzuk azon termékeket, amelyekből az átlagosnál kevesebb van raktáron!&nbsp;</span> \n",
                "\n",
                "a. Csak a termék kódja és megnevezése jelenjen meg!"
            ],
            "metadata": {
                "azdata_cell_guid": "b0d15045-3c43-4f3a-b8d4-76b4f24e5546"
            },
            "attachments": {}
        },
        {
            "cell_type": "code",
            "source": [
                "SELECT TERMEKKOD, MEGYS\r\n",
                "From Termek\r\n",
                "WHERE KESZLET < (\r\n",
                "    Select avg(KESZLET)\r\n",
                "    from Termek\r\n",
                ")"
            ],
            "metadata": {
                "azdata_cell_guid": "f2b7400d-1255-40ac-9250-4d57f9da5357",
                "language": "sql"
            },
            "outputs": [],
            "execution_count": null
        },
        {
            "cell_type": "markdown",
            "source": [
                "7. <span style=\"background-color: rgb(255, 255, 255); color: rgb(0, 0, 0); font-family: &quot;Open Sans&quot;, sans-serif; font-size: 14.44px;\">Listázzuk azon ügyfeleket, akik még nem fizettek bankkártyával!&nbsp;</span> \n",
                "\n",
                "a. Csak az ügyfelek neve jelenjen meg!"
            ],
            "metadata": {
                "azdata_cell_guid": "7ebf7ddd-1bd2-4246-815a-be8ae37e3b5b"
            },
            "attachments": {}
        },
        {
            "cell_type": "code",
            "source": [
                "-- akiknek a kódja nincs benne a bankkártyával fiztők kódjaink halmazában\r\n",
                "-- nem létezik olan rendelés, ahol az adott ügyfélkóddal foglalatak\r\n",
                "-- és bakkártyával fizettek\r\n",
                "Select nev\r\n",
                "from Ugyfel u\r\n",
                "where not exists(\r\n",
                "    select *\r\n",
                "    from Rendeles r\r\n",
                "    where u.[LOGIN] = r.[LOGIN]\r\n",
                "          and r.FIZ_MOD = 'Bankkártya'  \r\n",
                ")"
            ],
            "metadata": {
                "azdata_cell_guid": "84b7e896-f36e-4985-88f5-e0f706494fef",
                "language": "sql",
                "tags": []
            },
            "outputs": [],
            "execution_count": null
        },
        {
            "cell_type": "markdown",
            "source": [
                "8. <span style=\"background-color: rgb(255, 255, 255); color: rgb(0, 0, 0); font-family: &quot;Open Sans&quot;, sans-serif; font-size: 14.44px;\">Mennyibe kerül a második legnagyobb listaárú termék?</span>"
            ],
            "metadata": {
                "azdata_cell_guid": "27a3d3dc-eafb-4a5e-b103-9f465b9eda8f"
            },
            "attachments": {}
        },
        {
            "cell_type": "code",
            "source": [
                "select top 1 listaar\r\n",
                "from Termek\r\n",
                "where listaar < (\r\n",
                "    select top 1 listaar\r\n",
                "    from Termek\r\n",
                "    ORDER by listaar DESC\r\n",
                ")\r\n",
                "order by listaar DESC\r\n",
                ""
            ],
            "metadata": {
                "azdata_cell_guid": "f09edb3f-649b-4a96-958e-9e12774ae8b7",
                "language": "sql",
                "tags": []
            },
            "outputs": [
                {
                    "output_type": "display_data",
                    "data": {
                        "text/html": "(1 row affected)"
                    },
                    "metadata": {}
                },
                {
                    "output_type": "display_data",
                    "data": {
                        "text/html": "Total execution time: 00:00:00.019"
                    },
                    "metadata": {}
                },
                {
                    "output_type": "execute_result",
                    "execution_count": 9,
                    "data": {
                        "application/vnd.dataresource+json": {
                            "schema": {
                                "fields": [
                                    {
                                        "name": "listaar"
                                    }
                                ]
                            },
                            "data": [
                                {
                                    "listaar": "39000"
                                }
                            ]
                        },
                        "text/html": "<table><tr><th>listaar</th></tr><tr><td>39000</td></tr></table>"
                    },
                    "metadata": {}
                }
            ],
            "execution_count": 9
        },
        {
            "cell_type": "markdown",
            "source": [
                "9. <span style=\"background-color: rgb(255, 255, 255); color: rgb(0, 0, 0); font-family: &quot;Open Sans&quot;, sans-serif; font-size: 14.44px;\">Melyik raktár(ak)ban van az a termék, amelyből a legnagyobb készlet van?&nbsp;</span> \n",
                "\n",
                "a. Csak a raktár(ak) neve jelenjen meg!"
            ],
            "metadata": {
                "azdata_cell_guid": "f12a331a-0e26-4d3d-9c68-812316286577"
            },
            "attachments": {}
        },
        {
            "cell_type": "code",
            "source": [
                "select r.RAKTAR_NEV\r\n",
                "from Raktar r join termek t on r.RAKTAR_KOD = t.RAKTAR_KOD\r\n",
                "where t.KESZLET = ALL(\r\n",
                "    select MAX(t2.KESZLET)\r\n",
                "    from termek t2\r\n",
                ")"
            ],
            "metadata": {
                "azdata_cell_guid": "10a77fc9-e61a-46fc-a401-59720d82bc50",
                "language": "sql"
            },
            "outputs": [
                {
                    "output_type": "display_data",
                    "data": {
                        "text/html": "(2 rows affected)"
                    },
                    "metadata": {}
                },
                {
                    "output_type": "display_data",
                    "data": {
                        "text/html": "Total execution time: 00:00:00.018"
                    },
                    "metadata": {}
                },
                {
                    "output_type": "execute_result",
                    "execution_count": 11,
                    "data": {
                        "application/vnd.dataresource+json": {
                            "schema": {
                                "fields": [
                                    {
                                        "name": "RAKTAR_NEV"
                                    }
                                ]
                            },
                            "data": [
                                {
                                    "RAKTAR_NEV": "Veresegyházi"
                                },
                                {
                                    "RAKTAR_NEV": "Báthory"
                                }
                            ]
                        },
                        "text/html": "<table><tr><th>RAKTAR_NEV</th></tr><tr><td>Veresegyházi</td></tr><tr><td>Báthory</td></tr></table>"
                    },
                    "metadata": {}
                }
            ],
            "execution_count": 11
        },
        {
            "cell_type": "markdown",
            "source": [
                "10. <span style=\"background-color: rgb(255, 255, 255); color: rgb(0, 0, 0); font-family: &quot;Open Sans&quot;, sans-serif; font-size: 14.44px;\">Melyek azok a termékek, amelyek listaára nagyobb, mint bármelyik olyan terméké, amelynek nevében az Ajándék szó szerepel?&nbsp;</span> \n",
                "\n",
                "a. A termékek kódját és nevét is jelenítsük meg!"
            ],
            "metadata": {
                "azdata_cell_guid": "9229e2b6-e200-4499-b95b-2d0222149831"
            },
            "attachments": {}
        },
        {
            "cell_type": "code",
            "source": [
                "select megnevezes\r\n",
                "from Termek\r\n",
                "where listaar > ALL(\r\n",
                "    select listaar\r\n",
                "    from Termek\r\n",
                "    where charindex('ajándék', megnevezes) > 0\r\n",
                ")\r\n",
                ""
            ],
            "metadata": {
                "azdata_cell_guid": "8b49ed67-28c6-4880-82a8-cd369e5bba99",
                "language": "sql",
                "tags": []
            },
            "outputs": [
                {
                    "output_type": "display_data",
                    "data": {
                        "text/html": "(122 rows affected)"
                    },
                    "metadata": {}
                },
                {
                    "output_type": "display_data",
                    "data": {
                        "text/html": "Total execution time: 00:00:00.209"
                    },
                    "metadata": {}
                },
                {
                    "output_type": "execute_result",
                    "execution_count": 7,
                    "data": {
                        "application/vnd.dataresource+json": {
                            "schema": {
                                "fields": [
                                    {
                                        "name": "megnevezes"
                                    }
                                ]
                            },
                            "data": [
                                {
                                    "megnevezes": "félfamentes rajzlap A4 (10 lap)"
                                },
                                {
                                    "megnevezes": "Öntapadó A/4"
                                },
                                {
                                    "megnevezes": "Fénymásoló papír DataCopy"
                                },
                                {
                                    "megnevezes": "Fénymásoló papír GetCopy"
                                },
                                {
                                    "megnevezes": "Fénymásoló papír Qconnect"
                                },
                                {
                                    "megnevezes": "Színes másoló a/4 80g"
                                },
                                {
                                    "megnevezes": "Fehér másoló A/3"
                                },
                                {
                                    "megnevezes": "Fehér másoló A/4"
                                },
                                {
                                    "megnevezes": "Beírókönyv A4"
                                },
                                {
                                    "megnevezes": "Határidő napló A/6"
                                },
                                {
                                    "megnevezes": "irodai tűzőgép"
                                },
                                {
                                    "megnevezes": "Hibajav.roll.Pritt 4,2mm"
                                },
                                {
                                    "megnevezes": "Névjegytartó kicsi"
                                },
                                {
                                    "megnevezes": "Tűzőgép Boxer 10"
                                },
                                {
                                    "megnevezes": "Tűzőgép SAX 239"
                                },
                                {
                                    "megnevezes": "Tűzőgép EAGLE"
                                },
                                {
                                    "megnevezes": "Bélyegzőfesték "
                                },
                                {
                                    "megnevezes": "Bélyegző IDEAL 50"
                                },
                                {
                                    "megnevezes": "Bélyegző párna"
                                },
                                {
                                    "megnevezes": "Bélyegző pocket"
                                },
                                {
                                    "megnevezes": "Bélyegző RP 18-47"
                                },
                                {
                                    "megnevezes": "Tűzőgép mini"
                                },
                                {
                                    "megnevezes": "Lyukasztó EAGLE"
                                },
                                {
                                    "megnevezes": "Lyukasztó BOXER"
                                },
                                {
                                    "megnevezes": "Festékpatron BCI-3BK"
                                },
                                {
                                    "megnevezes": "Oki toner C"
                                },
                                {
                                    "megnevezes": "Határidő napló 2010-s"
                                },
                                {
                                    "megnevezes": "Emlékkönyv"
                                },
                                {
                                    "megnevezes": "Plüss sárkány"
                                },
                                {
                                    "megnevezes": "Strandlabda "
                                },
                                {
                                    "megnevezes": "Mappa bőr A5"
                                },
                                {
                                    "megnevezes": "Mappa PVC villámzáras  képes"
                                },
                                {
                                    "megnevezes": "Emlékkönyv"
                                },
                                {
                                    "megnevezes": "Emlékkönyv lakatos"
                                },
                                {
                                    "megnevezes": "Ragasztószalag 19 mm-es SCOTCH+ tépő"
                                },
                                {
                                    "megnevezes": "Számológép Roxin"
                                },
                                {
                                    "megnevezes": "Gyűrűskönyv"
                                },
                                {
                                    "megnevezes": "Gyűrűskönyv színes"
                                },
                                {
                                    "megnevezes": "Táblafilc"
                                },
                                {
                                    "megnevezes": "Tolltartó 1 zipzáros"
                                },
                                {
                                    "megnevezes": "Tolltartó 2 részes NG."
                                },
                                {
                                    "megnevezes": "Tolltartó zipzáras"
                                },
                                {
                                    "megnevezes": "Tolltartó 2 zipzáros töltött"
                                },
                                {
                                    "megnevezes": "Tolltartó Garfield"
                                },
                                {
                                    "megnevezes": "Tolltartó asztali"
                                },
                                {
                                    "megnevezes": "Tolltartó hengeres "
                                },
                                {
                                    "megnevezes": "Tornazsák"
                                },
                                {
                                    "megnevezes": "Számológép tudományos"
                                },
                                {
                                    "megnevezes": "Füzettartó A/4 keménytáblás"
                                },
                                {
                                    "megnevezes": "Füzettartó A/4 keménytáblás"
                                },
                                {
                                    "megnevezes": "Füzettartó A/5 vastag"
                                },
                                {
                                    "megnevezes": "Hegyező gép"
                                },
                                {
                                    "megnevezes": "Ragasztó Gyurma"
                                },
                                {
                                    "megnevezes": "Füzettartó A/4"
                                },
                                {
                                    "megnevezes": "Filctoll Edding 750"
                                },
                                {
                                    "megnevezes": "Filctoll Marvy alkoholos"
                                },
                                {
                                    "megnevezes": "G.toll betét Parker "
                                },
                                {
                                    "megnevezes": "Golyóstoll Zebra 301"
                                },
                                {
                                    "megnevezes": "Golyóstoll Zebra mini"
                                },
                                {
                                    "megnevezes": "Lakk filc Edding 750"
                                },
                                {
                                    "megnevezes": "Tintapatron 30 db-os kék"
                                },
                                {
                                    "megnevezes": "Töltőtoll tinta "
                                },
                                {
                                    "megnevezes": "Golyóstoll + ceruza Twister 2in1"
                                },
                                {
                                    "megnevezes": "Golyóstoll 3 funkciós "
                                },
                                {
                                    "megnevezes": "Golyóstoll INOXCROM"
                                },
                                {
                                    "megnevezes": "Golyóstoll Parker tokban"
                                },
                                {
                                    "megnevezes": "Pixiron KOH-I-NOOR"
                                },
                                {
                                    "megnevezes": "Pixiron Pentel színes"
                                },
                                {
                                    "megnevezes": "Golyóstoll UNIBALL 07"
                                },
                                {
                                    "megnevezes": "Golyóstoll levélbontós"
                                },
                                {
                                    "megnevezes": "A föld amelyen élünk - Európa földrajza"
                                },
                                {
                                    "megnevezes": "A föld amelyen élünk - Távoli földrészek"
                                },
                                {
                                    "megnevezes": "A föld amelyen élünk - Hazánk földrajza"
                                },
                                {
                                    "megnevezes": "A föld amelyen élünk - munkafüzet"
                                },
                                {
                                    "megnevezes": "Anyanyelvi gyakorló 2"
                                },
                                {
                                    "megnevezes": "Anyanyelvi gyakorló 3"
                                },
                                {
                                    "megnevezes": "Összefoglaló feladatgyüjtemény számtech."
                                },
                                {
                                    "megnevezes": "Fizika"
                                },
                                {
                                    "megnevezes": "Fizika 13 éveseknek"
                                },
                                {
                                    "megnevezes": "Fizikai feladatok és tévedések"
                                },
                                {
                                    "megnevezes": "Fogalmazás lépésről lépésre"
                                },
                                {
                                    "megnevezes": "Jól felkészültem-e - Fizika"
                                },
                                {
                                    "megnevezes": "Matematika gyakorló 2"
                                },
                                {
                                    "megnevezes": "Matematika gyakorló 3"
                                },
                                {
                                    "megnevezes": "Matematika gyakorló 4"
                                },
                                {
                                    "megnevezes": "RAMba zárt világ"
                                },
                                {
                                    "megnevezes": "Szövegszerkesztés"
                                },
                                {
                                    "megnevezes": "Informatika"
                                },
                                {
                                    "megnevezes": "Érettségi felv. fel. Matematika"
                                },
                                {
                                    "megnevezes": "Érettségi felv. fel. Fizika"
                                },
                                {
                                    "megnevezes": "Érettségi felv. fel. Biológia"
                                },
                                {
                                    "megnevezes": "férfi szövet kabát"
                                },
                                {
                                    "megnevezes": "férfi farmer nadrág"
                                },
                                {
                                    "megnevezes": "férfi szövet nadrág"
                                },
                                {
                                    "megnevezes": "férfi ing"
                                },
                                {
                                    "megnevezes": "gyermek kabát (fiú)"
                                },
                                {
                                    "megnevezes": "gyermek farmer nadrág (fiú)"
                                },
                                {
                                    "megnevezes": "gyermek pamut nadrág (fiú)"
                                },
                                {
                                    "megnevezes": "fiú alsó"
                                },
                                {
                                    "megnevezes": "fiú harisnya"
                                },
                                {
                                    "megnevezes": "fiú ünneplős ruha"
                                },
                                {
                                    "megnevezes": "gyermek póló (fiú)"
                                },
                                {
                                    "megnevezes": "gyermek szandál (fiú)"
                                },
                                {
                                    "megnevezes": "gyermek cipő (fiú)"
                                },
                                {
                                    "megnevezes": "gyermek csizma (fiú)"
                                },
                                {
                                    "megnevezes": "gyermek kabát (lány)"
                                },
                                {
                                    "megnevezes": "gyermek farmer nadrág (lány)"
                                },
                                {
                                    "megnevezes": "gyermek pamut nadrág (lány)"
                                },
                                {
                                    "megnevezes": "lány alsó"
                                },
                                {
                                    "megnevezes": "lány harisnya"
                                },
                                {
                                    "megnevezes": "lány ünneplős ruha"
                                },
                                {
                                    "megnevezes": "gyermek póló (lány)"
                                },
                                {
                                    "megnevezes": "gyermek szandál (lány)"
                                },
                                {
                                    "megnevezes": "gyermek cipő (lány)"
                                },
                                {
                                    "megnevezes": "gyermek csizma (lány)"
                                },
                                {
                                    "megnevezes": "női szövet kabát"
                                },
                                {
                                    "megnevezes": "női farmer nadrág"
                                },
                                {
                                    "megnevezes": "női alsó"
                                },
                                {
                                    "megnevezes": "női koktélruha"
                                },
                                {
                                    "megnevezes": "kosztüm (rövid)"
                                },
                                {
                                    "megnevezes": "kosztüm (hosszú)"
                                },
                                {
                                    "megnevezes": "sál"
                                }
                            ]
                        },
                        "text/html": "<table><tr><th>megnevezes</th></tr><tr><td>félfamentes rajzlap A4 (10 lap)</td></tr><tr><td>Öntapadó A/4</td></tr><tr><td>Fénymásoló papír DataCopy</td></tr><tr><td>Fénymásoló papír GetCopy</td></tr><tr><td>Fénymásoló papír Qconnect</td></tr><tr><td>Színes másoló a/4 80g</td></tr><tr><td>Fehér másoló A/3</td></tr><tr><td>Fehér másoló A/4</td></tr><tr><td>Beírókönyv A4</td></tr><tr><td>Határidő napló A/6</td></tr><tr><td>irodai tűzőgép</td></tr><tr><td>Hibajav.roll.Pritt 4,2mm</td></tr><tr><td>Névjegytartó kicsi</td></tr><tr><td>Tűzőgép Boxer 10</td></tr><tr><td>Tűzőgép SAX 239</td></tr><tr><td>Tűzőgép EAGLE</td></tr><tr><td>Bélyegzőfesték </td></tr><tr><td>Bélyegző IDEAL 50</td></tr><tr><td>Bélyegző párna</td></tr><tr><td>Bélyegző pocket</td></tr><tr><td>Bélyegző RP 18-47</td></tr><tr><td>Tűzőgép mini</td></tr><tr><td>Lyukasztó EAGLE</td></tr><tr><td>Lyukasztó BOXER</td></tr><tr><td>Festékpatron BCI-3BK</td></tr><tr><td>Oki toner C</td></tr><tr><td>Határidő napló 2010-s</td></tr><tr><td>Emlékkönyv</td></tr><tr><td>Plüss sárkány</td></tr><tr><td>Strandlabda </td></tr><tr><td>Mappa bőr A5</td></tr><tr><td>Mappa PVC villámzáras  képes</td></tr><tr><td>Emlékkönyv</td></tr><tr><td>Emlékkönyv lakatos</td></tr><tr><td>Ragasztószalag 19 mm-es SCOTCH+ tépő</td></tr><tr><td>Számológép Roxin</td></tr><tr><td>Gyűrűskönyv</td></tr><tr><td>Gyűrűskönyv színes</td></tr><tr><td>Táblafilc</td></tr><tr><td>Tolltartó 1 zipzáros</td></tr><tr><td>Tolltartó 2 részes NG.</td></tr><tr><td>Tolltartó zipzáras</td></tr><tr><td>Tolltartó 2 zipzáros töltött</td></tr><tr><td>Tolltartó Garfield</td></tr><tr><td>Tolltartó asztali</td></tr><tr><td>Tolltartó hengeres </td></tr><tr><td>Tornazsák</td></tr><tr><td>Számológép tudományos</td></tr><tr><td>Füzettartó A/4 keménytáblás</td></tr><tr><td>Füzettartó A/4 keménytáblás</td></tr><tr><td>Füzettartó A/5 vastag</td></tr><tr><td>Hegyező gép</td></tr><tr><td>Ragasztó Gyurma</td></tr><tr><td>Füzettartó A/4</td></tr><tr><td>Filctoll Edding 750</td></tr><tr><td>Filctoll Marvy alkoholos</td></tr><tr><td>G.toll betét Parker </td></tr><tr><td>Golyóstoll Zebra 301</td></tr><tr><td>Golyóstoll Zebra mini</td></tr><tr><td>Lakk filc Edding 750</td></tr><tr><td>Tintapatron 30 db-os kék</td></tr><tr><td>Töltőtoll tinta </td></tr><tr><td>Golyóstoll + ceruza Twister 2in1</td></tr><tr><td>Golyóstoll 3 funkciós </td></tr><tr><td>Golyóstoll INOXCROM</td></tr><tr><td>Golyóstoll Parker tokban</td></tr><tr><td>Pixiron KOH-I-NOOR</td></tr><tr><td>Pixiron Pentel színes</td></tr><tr><td>Golyóstoll UNIBALL 07</td></tr><tr><td>Golyóstoll levélbontós</td></tr><tr><td>A föld amelyen élünk - Európa földrajza</td></tr><tr><td>A föld amelyen élünk - Távoli földrészek</td></tr><tr><td>A föld amelyen élünk - Hazánk földrajza</td></tr><tr><td>A föld amelyen élünk - munkafüzet</td></tr><tr><td>Anyanyelvi gyakorló 2</td></tr><tr><td>Anyanyelvi gyakorló 3</td></tr><tr><td>Összefoglaló feladatgyüjtemény számtech.</td></tr><tr><td>Fizika</td></tr><tr><td>Fizika 13 éveseknek</td></tr><tr><td>Fizikai feladatok és tévedések</td></tr><tr><td>Fogalmazás lépésről lépésre</td></tr><tr><td>Jól felkészültem-e - Fizika</td></tr><tr><td>Matematika gyakorló 2</td></tr><tr><td>Matematika gyakorló 3</td></tr><tr><td>Matematika gyakorló 4</td></tr><tr><td>RAMba zárt világ</td></tr><tr><td>Szövegszerkesztés</td></tr><tr><td>Informatika</td></tr><tr><td>Érettségi felv. fel. Matematika</td></tr><tr><td>Érettségi felv. fel. Fizika</td></tr><tr><td>Érettségi felv. fel. Biológia</td></tr><tr><td>férfi szövet kabát</td></tr><tr><td>férfi farmer nadrág</td></tr><tr><td>férfi szövet nadrág</td></tr><tr><td>férfi ing</td></tr><tr><td>gyermek kabát (fiú)</td></tr><tr><td>gyermek farmer nadrág (fiú)</td></tr><tr><td>gyermek pamut nadrág (fiú)</td></tr><tr><td>fiú alsó</td></tr><tr><td>fiú harisnya</td></tr><tr><td>fiú ünneplős ruha</td></tr><tr><td>gyermek póló (fiú)</td></tr><tr><td>gyermek szandál (fiú)</td></tr><tr><td>gyermek cipő (fiú)</td></tr><tr><td>gyermek csizma (fiú)</td></tr><tr><td>gyermek kabát (lány)</td></tr><tr><td>gyermek farmer nadrág (lány)</td></tr><tr><td>gyermek pamut nadrág (lány)</td></tr><tr><td>lány alsó</td></tr><tr><td>lány harisnya</td></tr><tr><td>lány ünneplős ruha</td></tr><tr><td>gyermek póló (lány)</td></tr><tr><td>gyermek szandál (lány)</td></tr><tr><td>gyermek cipő (lány)</td></tr><tr><td>gyermek csizma (lány)</td></tr><tr><td>női szövet kabát</td></tr><tr><td>női farmer nadrág</td></tr><tr><td>női alsó</td></tr><tr><td>női koktélruha</td></tr><tr><td>kosztüm (rövid)</td></tr><tr><td>kosztüm (hosszú)</td></tr><tr><td>sál</td></tr></table>"
                    },
                    "metadata": {}
                }
            ],
            "execution_count": 7
        },
        {
            "cell_type": "markdown",
            "source": [
                "11. <span style=\"background-color: rgb(255, 255, 255); color: rgb(0, 0, 0); font-family: &quot;Open Sans&quot;, sans-serif; font-size: 14.44px;\">Melyik hónapokban adtak le az ügyfelek több rendelést, mint januárban?&nbsp;</span> \n",
                "\n",
                "a. Elég a hónapok sorszámait megjeleníteni. \n",
                "\n",
                "b. A listát rendezzük a hónapok száma szerint növekvő sorrendbe!"
            ],
            "metadata": {
                "azdata_cell_guid": "7f5fc7a7-3b6a-4d89-b292-490830afb0c6"
            },
            "attachments": {}
        },
        {
            "cell_type": "code",
            "source": [
                "select MONTH(rend_datum)\r\n",
                "from rendeles\r\n",
                "group by MONTH(rend_datum)\r\n",
                "having count(*) > all(\r\n",
                "    select COUNT(*)\r\n",
                "    from Rendeles\r\n",
                "    where MONTH(rend_datum) = 1\r\n",
                ")\r\n",
                "order by MONTH(rend_datum)\r\n",
                ""
            ],
            "metadata": {
                "azdata_cell_guid": "4a9ece40-f782-4c0d-92cd-9c21969067ed",
                "language": "sql"
            },
            "outputs": [
                {
                    "output_type": "display_data",
                    "data": {
                        "text/html": "(5 rows affected)"
                    },
                    "metadata": {}
                },
                {
                    "output_type": "display_data",
                    "data": {
                        "text/html": "Total execution time: 00:00:00.033"
                    },
                    "metadata": {}
                },
                {
                    "output_type": "execute_result",
                    "execution_count": 22,
                    "data": {
                        "application/vnd.dataresource+json": {
                            "schema": {
                                "fields": [
                                    {
                                        "name": "(No column name)"
                                    }
                                ]
                            },
                            "data": [
                                {
                                    "(No column name)": "3"
                                },
                                {
                                    "(No column name)": "7"
                                },
                                {
                                    "(No column name)": "8"
                                },
                                {
                                    "(No column name)": "10"
                                },
                                {
                                    "(No column name)": "12"
                                }
                            ]
                        },
                        "text/html": "<table><tr><th>(No column name)</th></tr><tr><td>3</td></tr><tr><td>7</td></tr><tr><td>8</td></tr><tr><td>10</td></tr><tr><td>12</td></tr></table>"
                    },
                    "metadata": {}
                }
            ],
            "execution_count": 22
        },
        {
            "cell_type": "markdown",
            "source": [
                "12. <span style=\"background-color: rgb(255, 255, 255); color: rgb(0, 0, 0); font-family: &quot;Open Sans&quot;, sans-serif; font-size: 14.44px;\">Melyek azok a termékek, amelyek listaára az átlagostól max. 20%-kal tér el?&nbsp;</span> \n",
                "\n",
                "a. A termék kódját és nevét is jelenítsük meg!"
            ],
            "metadata": {
                "azdata_cell_guid": "5a483c52-bb98-44bb-bd03-1146d4b0abfa"
            },
            "attachments": {}
        },
        {
            "cell_type": "code",
            "source": [
                "select termekkod, MEGNEVEZES\r\n",
                "from Termek\r\n",
                "where LISTAAR <=(\r\n",
                "    select AVG(listaar)*1.2\r\n",
                "    from Termek\r\n",
                ") \r\n",
                "and LISTAAR >= (\r\n",
                "    select AVG(listaar)*0.8\r\n",
                "    from Termek\r\n",
                ")"
            ],
            "metadata": {
                "azdata_cell_guid": "dd6e89bd-08f9-4b18-8460-03c45b503df0",
                "language": "sql"
            },
            "outputs": [],
            "execution_count": null
        },
        {
            "cell_type": "markdown",
            "source": [
                "13. <span style=\"background-color: rgb(255, 255, 255); color: rgb(0, 0, 0); font-family: &quot;Open Sans&quot;, sans-serif; font-size: 14.44px;\">Készítsünk listát (sorszámonként) az egyes rendelések teljes összegéről!&nbsp;</span> \n",
                "\n",
                "a. Szűrjünk azon tételekre, ahol ez az érték nagyobb, mint Viktor Éva rendeléseinek teljes összege! \n",
                "\n",
                "b. A teljes összeg oszlopot nevezzük el értelemszerűen!"
            ],
            "metadata": {
                "azdata_cell_guid": "85d5cb66-96c6-42de-99cf-85ab22d08548"
            },
            "attachments": {}
        },
        {
            "cell_type": "code",
            "source": [
                "select  rt.SORSZAM as 'Sorszám',\r\n",
                "        sum(egysegar*mennyiseg) as 'Teljes összeg' \r\n",
                "from Rendeles_tetel rt  join Rendeles r on rt.SORSZAM = r.SORSZAM\r\n",
                "group by rt.SORSZAM\r\n",
                "HAVING sum(egysegar*mennyiseg) > (\r\n",
                "    select sum(egysegar*mennyiseg)\r\n",
                "    from Rendeles_tetel rt  join Rendeles r on rt.SORSZAM = r.SORSZAM\r\n",
                "                            join Ugyfel u on r.[LOGIN] = u.[LOGIN]\r\n",
                "    where u.NEV = 'Viktor Éva'\r\n",
                ")\r\n",
                ""
            ],
            "metadata": {
                "azdata_cell_guid": "cb07d64b-0eaa-498b-b4d2-0b46971e95ce",
                "language": "sql"
            },
            "outputs": [
                {
                    "output_type": "display_data",
                    "data": {
                        "text/html": "Warning: Null value is eliminated by an aggregate or other SET operation."
                    },
                    "metadata": {}
                },
                {
                    "output_type": "display_data",
                    "data": {
                        "text/html": "(3205 rows affected)"
                    },
                    "metadata": {}
                },
                {
                    "output_type": "display_data",
                    "data": {
                        "text/html": "Total execution time: 00:00:00.217"
                    },
                    "metadata": {}
                },
                {
                    "output_type": "execute_result",
                    "metadata": {},
                    "execution_count": 11,
                    "data": {
                        "application/vnd.dataresource+json": {
                            "schema": {
                                "fields": [
                                    {
                                        "name": "Sorszám"
                                    },
                                    {
                                        "name": "Teljes összeg"
                                    }
                                ]
                            },
                            "data": [
                                {
                                    "Sorszám": "7",
                                    "Teljes összeg": "267994"
                                },
                                {
                                    "Sorszám": "21",
                                    "Teljes összeg": "535712"
                                },
                                {
                                    "Sorszám": "45",
                                    "Teljes összeg": "276762"
                                },
                                {
                                    "Sorszám": "53",
                                    "Teljes összeg": "306770"
                                },
                                {
                                    "Sorszám": "71",
                                    "Teljes összeg": "797340"
                                },
                                {
                                    "Sorszám": "72",
                                    "Teljes összeg": "213556"
                                },
                                {
                                    "Sorszám": "94",
                                    "Teljes összeg": "450222"
                                },
                                {
                                    "Sorszám": "107",
                                    "Teljes összeg": "211980"
                                },
                                {
                                    "Sorszám": "115",
                                    "Teljes összeg": "252810"
                                },
                                {
                                    "Sorszám": "130",
                                    "Teljes összeg": "242745"
                                },
                                {
                                    "Sorszám": "134",
                                    "Teljes összeg": "300355"
                                },
                                {
                                    "Sorszám": "140",
                                    "Teljes összeg": "384010"
                                },
                                {
                                    "Sorszám": "147",
                                    "Teljes összeg": "262539"
                                },
                                {
                                    "Sorszám": "172",
                                    "Teljes összeg": "271434"
                                },
                                {
                                    "Sorszám": "175",
                                    "Teljes összeg": "466208"
                                },
                                {
                                    "Sorszám": "186",
                                    "Teljes összeg": "360050"
                                },
                                {
                                    "Sorszám": "187",
                                    "Teljes összeg": "219626"
                                },
                                {
                                    "Sorszám": "194",
                                    "Teljes összeg": "373667"
                                },
                                {
                                    "Sorszám": "207",
                                    "Teljes összeg": "254144"
                                },
                                {
                                    "Sorszám": "210",
                                    "Teljes összeg": "408608"
                                },
                                {
                                    "Sorszám": "213",
                                    "Teljes összeg": "258487"
                                },
                                {
                                    "Sorszám": "225",
                                    "Teljes összeg": "494214"
                                },
                                {
                                    "Sorszám": "233",
                                    "Teljes összeg": "214700"
                                },
                                {
                                    "Sorszám": "254",
                                    "Teljes összeg": "267229"
                                },
                                {
                                    "Sorszám": "256",
                                    "Teljes összeg": "348662"
                                },
                                {
                                    "Sorszám": "259",
                                    "Teljes összeg": "401528"
                                },
                                {
                                    "Sorszám": "264",
                                    "Teljes összeg": "214180"
                                },
                                {
                                    "Sorszám": "278",
                                    "Teljes összeg": "282117"
                                },
                                {
                                    "Sorszám": "287",
                                    "Teljes összeg": "670300"
                                },
                                {
                                    "Sorszám": "301",
                                    "Teljes összeg": "620624"
                                },
                                {
                                    "Sorszám": "309",
                                    "Teljes összeg": "319485"
                                },
                                {
                                    "Sorszám": "313",
                                    "Teljes összeg": "640646"
                                },
                                {
                                    "Sorszám": "333",
                                    "Teljes összeg": "352561"
                                },
                                {
                                    "Sorszám": "335",
                                    "Teljes összeg": "482138"
                                },
                                {
                                    "Sorszám": "338",
                                    "Teljes összeg": "289228"
                                },
                                {
                                    "Sorszám": "343",
                                    "Teljes összeg": "244296"
                                },
                                {
                                    "Sorszám": "344",
                                    "Teljes összeg": "260306"
                                },
                                {
                                    "Sorszám": "359",
                                    "Teljes összeg": "213338"
                                },
                                {
                                    "Sorszám": "366",
                                    "Teljes összeg": "1620970"
                                },
                                {
                                    "Sorszám": "369",
                                    "Teljes összeg": "250778"
                                },
                                {
                                    "Sorszám": "397",
                                    "Teljes összeg": "283308"
                                },
                                {
                                    "Sorszám": "406",
                                    "Teljes összeg": "335183"
                                },
                                {
                                    "Sorszám": "412",
                                    "Teljes összeg": "253848"
                                },
                                {
                                    "Sorszám": "453",
                                    "Teljes összeg": "269163"
                                },
                                {
                                    "Sorszám": "461",
                                    "Teljes összeg": "230212"
                                },
                                {
                                    "Sorszám": "462",
                                    "Teljes összeg": "1416700"
                                },
                                {
                                    "Sorszám": "466",
                                    "Teljes összeg": "284850"
                                },
                                {
                                    "Sorszám": "475",
                                    "Teljes összeg": "542920"
                                },
                                {
                                    "Sorszám": "481",
                                    "Teljes összeg": "1249270"
                                },
                                {
                                    "Sorszám": "505",
                                    "Teljes összeg": "262140"
                                },
                                {
                                    "Sorszám": "507",
                                    "Teljes összeg": "922350"
                                },
                                {
                                    "Sorszám": "508",
                                    "Teljes összeg": "397939"
                                },
                                {
                                    "Sorszám": "528",
                                    "Teljes összeg": "322995"
                                },
                                {
                                    "Sorszám": "533",
                                    "Teljes összeg": "283522"
                                },
                                {
                                    "Sorszám": "559",
                                    "Teljes összeg": "238253"
                                },
                                {
                                    "Sorszám": "575",
                                    "Teljes összeg": "745914"
                                },
                                {
                                    "Sorszám": "588",
                                    "Teljes összeg": "412191"
                                },
                                {
                                    "Sorszám": "594",
                                    "Teljes összeg": "380815"
                                },
                                {
                                    "Sorszám": "633",
                                    "Teljes összeg": "447542"
                                },
                                {
                                    "Sorszám": "639",
                                    "Teljes összeg": "240443"
                                },
                                {
                                    "Sorszám": "641",
                                    "Teljes összeg": "353826"
                                },
                                {
                                    "Sorszám": "667",
                                    "Teljes összeg": "210143"
                                },
                                {
                                    "Sorszám": "678",
                                    "Teljes összeg": "206210"
                                },
                                {
                                    "Sorszám": "680",
                                    "Teljes összeg": "244642"
                                },
                                {
                                    "Sorszám": "687",
                                    "Teljes összeg": "366104"
                                },
                                {
                                    "Sorszám": "695",
                                    "Teljes összeg": "395681"
                                },
                                {
                                    "Sorszám": "697",
                                    "Teljes összeg": "268868"
                                },
                                {
                                    "Sorszám": "701",
                                    "Teljes összeg": "205011"
                                },
                                {
                                    "Sorszám": "704",
                                    "Teljes összeg": "609017"
                                },
                                {
                                    "Sorszám": "706",
                                    "Teljes összeg": "344502"
                                },
                                {
                                    "Sorszám": "711",
                                    "Teljes összeg": "314829"
                                },
                                {
                                    "Sorszám": "719",
                                    "Teljes összeg": "345125"
                                },
                                {
                                    "Sorszám": "725",
                                    "Teljes összeg": "391416"
                                },
                                {
                                    "Sorszám": "732",
                                    "Teljes összeg": "344391"
                                },
                                {
                                    "Sorszám": "736",
                                    "Teljes összeg": "216678"
                                },
                                {
                                    "Sorszám": "749",
                                    "Teljes összeg": "944490"
                                },
                                {
                                    "Sorszám": "751",
                                    "Teljes összeg": "336045"
                                },
                                {
                                    "Sorszám": "760",
                                    "Teljes összeg": "1428320"
                                },
                                {
                                    "Sorszám": "766",
                                    "Teljes összeg": "473880"
                                },
                                {
                                    "Sorszám": "790",
                                    "Teljes összeg": "289950"
                                },
                                {
                                    "Sorszám": "793",
                                    "Teljes összeg": "230198"
                                },
                                {
                                    "Sorszám": "799",
                                    "Teljes összeg": "251558"
                                },
                                {
                                    "Sorszám": "805",
                                    "Teljes összeg": "385077"
                                },
                                {
                                    "Sorszám": "810",
                                    "Teljes összeg": "531768"
                                },
                                {
                                    "Sorszám": "811",
                                    "Teljes összeg": "291288"
                                },
                                {
                                    "Sorszám": "816",
                                    "Teljes összeg": "224274"
                                },
                                {
                                    "Sorszám": "826",
                                    "Teljes összeg": "230282"
                                },
                                {
                                    "Sorszám": "842",
                                    "Teljes összeg": "205711"
                                },
                                {
                                    "Sorszám": "850",
                                    "Teljes összeg": "364168"
                                },
                                {
                                    "Sorszám": "860",
                                    "Teljes összeg": "307855"
                                },
                                {
                                    "Sorszám": "863",
                                    "Teljes összeg": "388867"
                                },
                                {
                                    "Sorszám": "879",
                                    "Teljes összeg": "1057440"
                                },
                                {
                                    "Sorszám": "882",
                                    "Teljes összeg": "1069390"
                                },
                                {
                                    "Sorszám": "884",
                                    "Teljes összeg": "408887"
                                },
                                {
                                    "Sorszám": "891",
                                    "Teljes összeg": "410888"
                                },
                                {
                                    "Sorszám": "895",
                                    "Teljes összeg": "208470"
                                },
                                {
                                    "Sorszám": "900",
                                    "Teljes összeg": "268490"
                                },
                                {
                                    "Sorszám": "919",
                                    "Teljes összeg": "316033"
                                },
                                {
                                    "Sorszám": "928",
                                    "Teljes összeg": "536242"
                                },
                                {
                                    "Sorszám": "934",
                                    "Teljes összeg": "408632"
                                },
                                {
                                    "Sorszám": "940",
                                    "Teljes összeg": "346392"
                                },
                                {
                                    "Sorszám": "944",
                                    "Teljes összeg": "216549"
                                },
                                {
                                    "Sorszám": "949",
                                    "Teljes összeg": "361433"
                                },
                                {
                                    "Sorszám": "951",
                                    "Teljes összeg": "702950"
                                },
                                {
                                    "Sorszám": "953",
                                    "Teljes összeg": "214166"
                                },
                                {
                                    "Sorszám": "954",
                                    "Teljes összeg": "253450"
                                },
                                {
                                    "Sorszám": "957",
                                    "Teljes összeg": "411610"
                                },
                                {
                                    "Sorszám": "959",
                                    "Teljes összeg": "287809"
                                },
                                {
                                    "Sorszám": "963",
                                    "Teljes összeg": "358865"
                                },
                                {
                                    "Sorszám": "970",
                                    "Teljes összeg": "320572"
                                },
                                {
                                    "Sorszám": "975",
                                    "Teljes összeg": "229340"
                                },
                                {
                                    "Sorszám": "981",
                                    "Teljes összeg": "666080"
                                },
                                {
                                    "Sorszám": "990",
                                    "Teljes összeg": "324403"
                                },
                                {
                                    "Sorszám": "1027",
                                    "Teljes összeg": "323960"
                                },
                                {
                                    "Sorszám": "1045",
                                    "Teljes összeg": "1202620"
                                },
                                {
                                    "Sorszám": "1058",
                                    "Teljes összeg": "312451"
                                },
                                {
                                    "Sorszám": "1059",
                                    "Teljes összeg": "463449"
                                },
                                {
                                    "Sorszám": "1060",
                                    "Teljes összeg": "655673"
                                },
                                {
                                    "Sorszám": "1062",
                                    "Teljes összeg": "436782"
                                },
                                {
                                    "Sorszám": "1069",
                                    "Teljes összeg": "345257"
                                },
                                {
                                    "Sorszám": "1076",
                                    "Teljes összeg": "234774"
                                },
                                {
                                    "Sorszám": "1079",
                                    "Teljes összeg": "277430"
                                },
                                {
                                    "Sorszám": "1105",
                                    "Teljes összeg": "445813"
                                },
                                {
                                    "Sorszám": "1110",
                                    "Teljes összeg": "715380"
                                },
                                {
                                    "Sorszám": "1113",
                                    "Teljes összeg": "413433"
                                },
                                {
                                    "Sorszám": "1120",
                                    "Teljes összeg": "292413"
                                },
                                {
                                    "Sorszám": "1122",
                                    "Teljes összeg": "390206"
                                },
                                {
                                    "Sorszám": "1131",
                                    "Teljes összeg": "447580"
                                },
                                {
                                    "Sorszám": "1133",
                                    "Teljes összeg": "277977"
                                },
                                {
                                    "Sorszám": "1139",
                                    "Teljes összeg": "285329"
                                },
                                {
                                    "Sorszám": "1146",
                                    "Teljes összeg": "1179940"
                                },
                                {
                                    "Sorszám": "1153",
                                    "Teljes összeg": "229254"
                                },
                                {
                                    "Sorszám": "1172",
                                    "Teljes összeg": "351830"
                                },
                                {
                                    "Sorszám": "1174",
                                    "Teljes összeg": "232093"
                                },
                                {
                                    "Sorszám": "1178",
                                    "Teljes összeg": "218340"
                                },
                                {
                                    "Sorszám": "1184",
                                    "Teljes összeg": "301921"
                                },
                                {
                                    "Sorszám": "1189",
                                    "Teljes összeg": "415590"
                                },
                                {
                                    "Sorszám": "1197",
                                    "Teljes összeg": "254423"
                                },
                                {
                                    "Sorszám": "1204",
                                    "Teljes összeg": "1443370"
                                },
                                {
                                    "Sorszám": "1212",
                                    "Teljes összeg": "238336"
                                },
                                {
                                    "Sorszám": "1213",
                                    "Teljes összeg": "371437"
                                },
                                {
                                    "Sorszám": "1218",
                                    "Teljes összeg": "232879"
                                },
                                {
                                    "Sorszám": "1232",
                                    "Teljes összeg": "328388"
                                },
                                {
                                    "Sorszám": "1238",
                                    "Teljes összeg": "285556"
                                },
                                {
                                    "Sorszám": "1242",
                                    "Teljes összeg": "232296"
                                },
                                {
                                    "Sorszám": "1249",
                                    "Teljes összeg": "344146"
                                },
                                {
                                    "Sorszám": "1252",
                                    "Teljes összeg": "468933"
                                },
                                {
                                    "Sorszám": "1261",
                                    "Teljes összeg": "243809"
                                },
                                {
                                    "Sorszám": "1268",
                                    "Teljes összeg": "336460"
                                },
                                {
                                    "Sorszám": "1291",
                                    "Teljes összeg": "233199"
                                },
                                {
                                    "Sorszám": "1296",
                                    "Teljes összeg": "220896"
                                },
                                {
                                    "Sorszám": "1306",
                                    "Teljes összeg": "266927"
                                },
                                {
                                    "Sorszám": "1332",
                                    "Teljes összeg": "224474"
                                },
                                {
                                    "Sorszám": "1334",
                                    "Teljes összeg": "265705"
                                },
                                {
                                    "Sorszám": "1338",
                                    "Teljes összeg": "559300"
                                },
                                {
                                    "Sorszám": "1339",
                                    "Teljes összeg": "640419"
                                },
                                {
                                    "Sorszám": "1349",
                                    "Teljes összeg": "424160"
                                },
                                {
                                    "Sorszám": "1353",
                                    "Teljes összeg": "307419"
                                },
                                {
                                    "Sorszám": "1365",
                                    "Teljes összeg": "645934"
                                },
                                {
                                    "Sorszám": "1377",
                                    "Teljes összeg": "214759"
                                },
                                {
                                    "Sorszám": "1391",
                                    "Teljes összeg": "269679"
                                },
                                {
                                    "Sorszám": "1393",
                                    "Teljes összeg": "242044"
                                },
                                {
                                    "Sorszám": "1403",
                                    "Teljes összeg": "384530"
                                },
                                {
                                    "Sorszám": "1422",
                                    "Teljes összeg": "246636"
                                },
                                {
                                    "Sorszám": "1424",
                                    "Teljes összeg": "1245600"
                                },
                                {
                                    "Sorszám": "1430",
                                    "Teljes összeg": "320460"
                                },
                                {
                                    "Sorszám": "1433",
                                    "Teljes összeg": "302028"
                                },
                                {
                                    "Sorszám": "1436",
                                    "Teljes összeg": "582264"
                                },
                                {
                                    "Sorszám": "1453",
                                    "Teljes összeg": "514028"
                                },
                                {
                                    "Sorszám": "1456",
                                    "Teljes összeg": "597344"
                                },
                                {
                                    "Sorszám": "1464",
                                    "Teljes összeg": "433092"
                                },
                                {
                                    "Sorszám": "1481",
                                    "Teljes összeg": "589956"
                                },
                                {
                                    "Sorszám": "1521",
                                    "Teljes összeg": "230804"
                                },
                                {
                                    "Sorszám": "1556",
                                    "Teljes összeg": "273039"
                                },
                                {
                                    "Sorszám": "1563",
                                    "Teljes összeg": "1296890"
                                },
                                {
                                    "Sorszám": "1570",
                                    "Teljes összeg": "410922"
                                },
                                {
                                    "Sorszám": "1573",
                                    "Teljes összeg": "330202"
                                },
                                {
                                    "Sorszám": "1576",
                                    "Teljes összeg": "1570510"
                                },
                                {
                                    "Sorszám": "1579",
                                    "Teljes összeg": "484217"
                                },
                                {
                                    "Sorszám": "1585",
                                    "Teljes összeg": "243992"
                                },
                                {
                                    "Sorszám": "1600",
                                    "Teljes összeg": "463611"
                                },
                                {
                                    "Sorszám": "1601",
                                    "Teljes összeg": "216447"
                                },
                                {
                                    "Sorszám": "1620",
                                    "Teljes összeg": "274064"
                                },
                                {
                                    "Sorszám": "1633",
                                    "Teljes összeg": "225683"
                                },
                                {
                                    "Sorszám": "1638",
                                    "Teljes összeg": "226900"
                                },
                                {
                                    "Sorszám": "1658",
                                    "Teljes összeg": "303177"
                                },
                                {
                                    "Sorszám": "1659",
                                    "Teljes összeg": "397473"
                                },
                                {
                                    "Sorszám": "1670",
                                    "Teljes összeg": "299069"
                                },
                                {
                                    "Sorszám": "1684",
                                    "Teljes összeg": "788770"
                                },
                                {
                                    "Sorszám": "1689",
                                    "Teljes összeg": "262405"
                                },
                                {
                                    "Sorszám": "1691",
                                    "Teljes összeg": "272812"
                                },
                                {
                                    "Sorszám": "1698",
                                    "Teljes összeg": "332574"
                                },
                                {
                                    "Sorszám": "1699",
                                    "Teljes összeg": "218556"
                                },
                                {
                                    "Sorszám": "1713",
                                    "Teljes összeg": "446124"
                                },
                                {
                                    "Sorszám": "1721",
                                    "Teljes összeg": "223703"
                                },
                                {
                                    "Sorszám": "1727",
                                    "Teljes összeg": "272335"
                                },
                                {
                                    "Sorszám": "1731",
                                    "Teljes összeg": "340327"
                                },
                                {
                                    "Sorszám": "1739",
                                    "Teljes összeg": "334864"
                                },
                                {
                                    "Sorszám": "1751",
                                    "Teljes összeg": "316555"
                                },
                                {
                                    "Sorszám": "1756",
                                    "Teljes összeg": "221148"
                                },
                                {
                                    "Sorszám": "1772",
                                    "Teljes összeg": "278645"
                                },
                                {
                                    "Sorszám": "1777",
                                    "Teljes összeg": "341898"
                                },
                                {
                                    "Sorszám": "1786",
                                    "Teljes összeg": "416154"
                                },
                                {
                                    "Sorszám": "1794",
                                    "Teljes összeg": "305352"
                                },
                                {
                                    "Sorszám": "1808",
                                    "Teljes összeg": "213168"
                                },
                                {
                                    "Sorszám": "1810",
                                    "Teljes összeg": "397310"
                                },
                                {
                                    "Sorszám": "1820",
                                    "Teljes összeg": "332386"
                                },
                                {
                                    "Sorszám": "1822",
                                    "Teljes összeg": "390930"
                                },
                                {
                                    "Sorszám": "1825",
                                    "Teljes összeg": "233699"
                                },
                                {
                                    "Sorszám": "1840",
                                    "Teljes összeg": "290599"
                                },
                                {
                                    "Sorszám": "1875",
                                    "Teljes összeg": "602260"
                                },
                                {
                                    "Sorszám": "1879",
                                    "Teljes összeg": "338027"
                                },
                                {
                                    "Sorszám": "1881",
                                    "Teljes összeg": "416705"
                                },
                                {
                                    "Sorszám": "1900",
                                    "Teljes összeg": "249536"
                                },
                                {
                                    "Sorszám": "1905",
                                    "Teljes összeg": "364280"
                                },
                                {
                                    "Sorszám": "1919",
                                    "Teljes összeg": "267862"
                                },
                                {
                                    "Sorszám": "1923",
                                    "Teljes összeg": "336069"
                                },
                                {
                                    "Sorszám": "1937",
                                    "Teljes összeg": "354216"
                                },
                                {
                                    "Sorszám": "1955",
                                    "Teljes összeg": "303562"
                                },
                                {
                                    "Sorszám": "1960",
                                    "Teljes összeg": "259346"
                                },
                                {
                                    "Sorszám": "1970",
                                    "Teljes összeg": "1205520"
                                },
                                {
                                    "Sorszám": "2001",
                                    "Teljes összeg": "523075"
                                },
                                {
                                    "Sorszám": "2003",
                                    "Teljes összeg": "430983"
                                },
                                {
                                    "Sorszám": "2004",
                                    "Teljes összeg": "224000"
                                },
                                {
                                    "Sorszám": "2005",
                                    "Teljes összeg": "301105"
                                },
                                {
                                    "Sorszám": "2013",
                                    "Teljes összeg": "241368"
                                },
                                {
                                    "Sorszám": "2031",
                                    "Teljes összeg": "237845"
                                },
                                {
                                    "Sorszám": "2043",
                                    "Teljes összeg": "354030"
                                },
                                {
                                    "Sorszám": "2049",
                                    "Teljes összeg": "481370"
                                },
                                {
                                    "Sorszám": "2060",
                                    "Teljes összeg": "1688110"
                                },
                                {
                                    "Sorszám": "2067",
                                    "Teljes összeg": "209876"
                                },
                                {
                                    "Sorszám": "2070",
                                    "Teljes összeg": "343253"
                                },
                                {
                                    "Sorszám": "2080",
                                    "Teljes összeg": "207075"
                                },
                                {
                                    "Sorszám": "2081",
                                    "Teljes összeg": "421504"
                                },
                                {
                                    "Sorszám": "2117",
                                    "Teljes összeg": "633580"
                                },
                                {
                                    "Sorszám": "2122",
                                    "Teljes összeg": "556221"
                                },
                                {
                                    "Sorszám": "2126",
                                    "Teljes összeg": "269648"
                                },
                                {
                                    "Sorszám": "2130",
                                    "Teljes összeg": "218303"
                                },
                                {
                                    "Sorszám": "2135",
                                    "Teljes összeg": "229610"
                                },
                                {
                                    "Sorszám": "2156",
                                    "Teljes összeg": "342940"
                                },
                                {
                                    "Sorszám": "2172",
                                    "Teljes összeg": "227050"
                                },
                                {
                                    "Sorszám": "2186",
                                    "Teljes összeg": "333083"
                                },
                                {
                                    "Sorszám": "2191",
                                    "Teljes összeg": "410430"
                                },
                                {
                                    "Sorszám": "2205",
                                    "Teljes összeg": "472879"
                                },
                                {
                                    "Sorszám": "2207",
                                    "Teljes összeg": "386911"
                                },
                                {
                                    "Sorszám": "2216",
                                    "Teljes összeg": "310489"
                                },
                                {
                                    "Sorszám": "2217",
                                    "Teljes összeg": "269497"
                                },
                                {
                                    "Sorszám": "2218",
                                    "Teljes összeg": "250904"
                                },
                                {
                                    "Sorszám": "2235",
                                    "Teljes összeg": "314361"
                                },
                                {
                                    "Sorszám": "2247",
                                    "Teljes összeg": "230432"
                                },
                                {
                                    "Sorszám": "2259",
                                    "Teljes összeg": "417896"
                                },
                                {
                                    "Sorszám": "2291",
                                    "Teljes összeg": "484801"
                                },
                                {
                                    "Sorszám": "2296",
                                    "Teljes összeg": "223907"
                                },
                                {
                                    "Sorszám": "2303",
                                    "Teljes összeg": "251288"
                                },
                                {
                                    "Sorszám": "2323",
                                    "Teljes összeg": "847881"
                                },
                                {
                                    "Sorszám": "2331",
                                    "Teljes összeg": "544803"
                                },
                                {
                                    "Sorszám": "2336",
                                    "Teljes összeg": "273862"
                                },
                                {
                                    "Sorszám": "2346",
                                    "Teljes összeg": "283225"
                                },
                                {
                                    "Sorszám": "2347",
                                    "Teljes összeg": "357031"
                                },
                                {
                                    "Sorszám": "2353",
                                    "Teljes összeg": "307438"
                                },
                                {
                                    "Sorszám": "2376",
                                    "Teljes összeg": "262260"
                                },
                                {
                                    "Sorszám": "2379",
                                    "Teljes összeg": "597595"
                                },
                                {
                                    "Sorszám": "2394",
                                    "Teljes összeg": "314178"
                                },
                                {
                                    "Sorszám": "2408",
                                    "Teljes összeg": "257987"
                                },
                                {
                                    "Sorszám": "2409",
                                    "Teljes összeg": "396660"
                                },
                                {
                                    "Sorszám": "2417",
                                    "Teljes összeg": "210191"
                                },
                                {
                                    "Sorszám": "2419",
                                    "Teljes összeg": "271800"
                                },
                                {
                                    "Sorszám": "2428",
                                    "Teljes összeg": "242452"
                                },
                                {
                                    "Sorszám": "2429",
                                    "Teljes összeg": "225794"
                                },
                                {
                                    "Sorszám": "2441",
                                    "Teljes összeg": "239917"
                                },
                                {
                                    "Sorszám": "2457",
                                    "Teljes összeg": "223545"
                                },
                                {
                                    "Sorszám": "2464",
                                    "Teljes összeg": "239510"
                                },
                                {
                                    "Sorszám": "2470",
                                    "Teljes összeg": "449680"
                                },
                                {
                                    "Sorszám": "2487",
                                    "Teljes összeg": "395703"
                                },
                                {
                                    "Sorszám": "2491",
                                    "Teljes összeg": "525650"
                                },
                                {
                                    "Sorszám": "2521",
                                    "Teljes összeg": "342582"
                                },
                                {
                                    "Sorszám": "2529",
                                    "Teljes összeg": "368887"
                                },
                                {
                                    "Sorszám": "2537",
                                    "Teljes összeg": "406780"
                                },
                                {
                                    "Sorszám": "2541",
                                    "Teljes összeg": "354075"
                                },
                                {
                                    "Sorszám": "2542",
                                    "Teljes összeg": "368223"
                                },
                                {
                                    "Sorszám": "2543",
                                    "Teljes összeg": "333720"
                                },
                                {
                                    "Sorszám": "2573",
                                    "Teljes összeg": "290700"
                                },
                                {
                                    "Sorszám": "2576",
                                    "Teljes összeg": "365636"
                                },
                                {
                                    "Sorszám": "2633",
                                    "Teljes összeg": "806390"
                                },
                                {
                                    "Sorszám": "2636",
                                    "Teljes összeg": "287462"
                                },
                                {
                                    "Sorszám": "2650",
                                    "Teljes összeg": "280766"
                                },
                                {
                                    "Sorszám": "2654",
                                    "Teljes összeg": "333105"
                                },
                                {
                                    "Sorszám": "2663",
                                    "Teljes összeg": "228783"
                                },
                                {
                                    "Sorszám": "2673",
                                    "Teljes összeg": "446532"
                                },
                                {
                                    "Sorszám": "2674",
                                    "Teljes összeg": "337180"
                                },
                                {
                                    "Sorszám": "2685",
                                    "Teljes összeg": "250224"
                                },
                                {
                                    "Sorszám": "2690",
                                    "Teljes összeg": "311524"
                                },
                                {
                                    "Sorszám": "2714",
                                    "Teljes összeg": "282700"
                                },
                                {
                                    "Sorszám": "2725",
                                    "Teljes összeg": "214970"
                                },
                                {
                                    "Sorszám": "2732",
                                    "Teljes összeg": "293896"
                                },
                                {
                                    "Sorszám": "2733",
                                    "Teljes összeg": "370764"
                                },
                                {
                                    "Sorszám": "2740",
                                    "Teljes összeg": "333812"
                                },
                                {
                                    "Sorszám": "2771",
                                    "Teljes összeg": "371489"
                                },
                                {
                                    "Sorszám": "2776",
                                    "Teljes összeg": "232519"
                                },
                                {
                                    "Sorszám": "2778",
                                    "Teljes összeg": "228939"
                                },
                                {
                                    "Sorszám": "2787",
                                    "Teljes összeg": "486860"
                                },
                                {
                                    "Sorszám": "2797",
                                    "Teljes összeg": "295632"
                                },
                                {
                                    "Sorszám": "2804",
                                    "Teljes összeg": "404001"
                                },
                                {
                                    "Sorszám": "2815",
                                    "Teljes összeg": "667919"
                                },
                                {
                                    "Sorszám": "2818",
                                    "Teljes összeg": "401320"
                                },
                                {
                                    "Sorszám": "2821",
                                    "Teljes összeg": "327203"
                                },
                                {
                                    "Sorszám": "2846",
                                    "Teljes összeg": "323110"
                                },
                                {
                                    "Sorszám": "2852",
                                    "Teljes összeg": "291280"
                                },
                                {
                                    "Sorszám": "2855",
                                    "Teljes összeg": "1070360"
                                },
                                {
                                    "Sorszám": "2862",
                                    "Teljes összeg": "339662"
                                },
                                {
                                    "Sorszám": "2863",
                                    "Teljes összeg": "584151"
                                },
                                {
                                    "Sorszám": "2879",
                                    "Teljes összeg": "375264"
                                },
                                {
                                    "Sorszám": "2913",
                                    "Teljes összeg": "205123"
                                },
                                {
                                    "Sorszám": "2926",
                                    "Teljes összeg": "261758"
                                },
                                {
                                    "Sorszám": "2927",
                                    "Teljes összeg": "218414"
                                },
                                {
                                    "Sorszám": "2937",
                                    "Teljes összeg": "236401"
                                },
                                {
                                    "Sorszám": "2938",
                                    "Teljes összeg": "386194"
                                },
                                {
                                    "Sorszám": "2943",
                                    "Teljes összeg": "1808740"
                                },
                                {
                                    "Sorszám": "2956",
                                    "Teljes összeg": "230382"
                                },
                                {
                                    "Sorszám": "2962",
                                    "Teljes összeg": "256918"
                                },
                                {
                                    "Sorszám": "2963",
                                    "Teljes összeg": "349884"
                                },
                                {
                                    "Sorszám": "2997",
                                    "Teljes összeg": "354799"
                                },
                                {
                                    "Sorszám": "3006",
                                    "Teljes összeg": "206545"
                                },
                                {
                                    "Sorszám": "3010",
                                    "Teljes összeg": "236866"
                                },
                                {
                                    "Sorszám": "3015",
                                    "Teljes összeg": "207349"
                                },
                                {
                                    "Sorszám": "3071",
                                    "Teljes összeg": "804940"
                                },
                                {
                                    "Sorszám": "3073",
                                    "Teljes összeg": "245137"
                                },
                                {
                                    "Sorszám": "3090",
                                    "Teljes összeg": "643961"
                                },
                                {
                                    "Sorszám": "3103",
                                    "Teljes összeg": "315792"
                                },
                                {
                                    "Sorszám": "3104",
                                    "Teljes összeg": "527814"
                                },
                                {
                                    "Sorszám": "3109",
                                    "Teljes összeg": "657770"
                                },
                                {
                                    "Sorszám": "3129",
                                    "Teljes összeg": "373002"
                                },
                                {
                                    "Sorszám": "3130",
                                    "Teljes összeg": "521500"
                                },
                                {
                                    "Sorszám": "3132",
                                    "Teljes összeg": "322785"
                                },
                                {
                                    "Sorszám": "3145",
                                    "Teljes összeg": "438848"
                                },
                                {
                                    "Sorszám": "3146",
                                    "Teljes összeg": "343956"
                                },
                                {
                                    "Sorszám": "3151",
                                    "Teljes összeg": "259421"
                                },
                                {
                                    "Sorszám": "3154",
                                    "Teljes összeg": "1084600"
                                },
                                {
                                    "Sorszám": "3175",
                                    "Teljes összeg": "350372"
                                },
                                {
                                    "Sorszám": "3178",
                                    "Teljes összeg": "247621"
                                },
                                {
                                    "Sorszám": "3182",
                                    "Teljes összeg": "420373"
                                },
                                {
                                    "Sorszám": "3183",
                                    "Teljes összeg": "925880"
                                },
                                {
                                    "Sorszám": "3202",
                                    "Teljes összeg": "292108"
                                },
                                {
                                    "Sorszám": "3212",
                                    "Teljes összeg": "277242"
                                },
                                {
                                    "Sorszám": "3243",
                                    "Teljes összeg": "230180"
                                },
                                {
                                    "Sorszám": "3248",
                                    "Teljes összeg": "231400"
                                },
                                {
                                    "Sorszám": "3281",
                                    "Teljes összeg": "322063"
                                },
                                {
                                    "Sorszám": "3298",
                                    "Teljes összeg": "407680"
                                },
                                {
                                    "Sorszám": "3300",
                                    "Teljes összeg": "309134"
                                },
                                {
                                    "Sorszám": "3308",
                                    "Teljes összeg": "237053"
                                },
                                {
                                    "Sorszám": "3312",
                                    "Teljes összeg": "255032"
                                },
                                {
                                    "Sorszám": "3342",
                                    "Teljes összeg": "333384"
                                },
                                {
                                    "Sorszám": "3364",
                                    "Teljes összeg": "238359"
                                },
                                {
                                    "Sorszám": "3368",
                                    "Teljes összeg": "346364"
                                },
                                {
                                    "Sorszám": "3371",
                                    "Teljes összeg": "261746"
                                },
                                {
                                    "Sorszám": "3373",
                                    "Teljes összeg": "207170"
                                },
                                {
                                    "Sorszám": "3375",
                                    "Teljes összeg": "489195"
                                },
                                {
                                    "Sorszám": "3376",
                                    "Teljes összeg": "212540"
                                },
                                {
                                    "Sorszám": "3389",
                                    "Teljes összeg": "268284"
                                },
                                {
                                    "Sorszám": "3394",
                                    "Teljes összeg": "377562"
                                },
                                {
                                    "Sorszám": "3399",
                                    "Teljes összeg": "338804"
                                },
                                {
                                    "Sorszám": "3410",
                                    "Teljes összeg": "294503"
                                },
                                {
                                    "Sorszám": "3411",
                                    "Teljes összeg": "271072"
                                },
                                {
                                    "Sorszám": "3414",
                                    "Teljes összeg": "223447"
                                },
                                {
                                    "Sorszám": "3417",
                                    "Teljes összeg": "414681"
                                },
                                {
                                    "Sorszám": "3419",
                                    "Teljes összeg": "282821"
                                },
                                {
                                    "Sorszám": "3431",
                                    "Teljes összeg": "550890"
                                },
                                {
                                    "Sorszám": "3436",
                                    "Teljes összeg": "267638"
                                },
                                {
                                    "Sorszám": "3438",
                                    "Teljes összeg": "247246"
                                },
                                {
                                    "Sorszám": "3491",
                                    "Teljes összeg": "261489"
                                },
                                {
                                    "Sorszám": "3504",
                                    "Teljes összeg": "966490"
                                },
                                {
                                    "Sorszám": "3511",
                                    "Teljes összeg": "222253"
                                },
                                {
                                    "Sorszám": "3518",
                                    "Teljes összeg": "584718"
                                },
                                {
                                    "Sorszám": "3522",
                                    "Teljes összeg": "448196"
                                },
                                {
                                    "Sorszám": "3532",
                                    "Teljes összeg": "286120"
                                },
                                {
                                    "Sorszám": "3536",
                                    "Teljes összeg": "345541"
                                },
                                {
                                    "Sorszám": "3540",
                                    "Teljes összeg": "254602"
                                },
                                {
                                    "Sorszám": "3548",
                                    "Teljes összeg": "271518"
                                },
                                {
                                    "Sorszám": "3554",
                                    "Teljes összeg": "436580"
                                },
                                {
                                    "Sorszám": "3556",
                                    "Teljes összeg": "436784"
                                },
                                {
                                    "Sorszám": "3576",
                                    "Teljes összeg": "478205"
                                },
                                {
                                    "Sorszám": "3588",
                                    "Teljes összeg": "282270"
                                },
                                {
                                    "Sorszám": "3589",
                                    "Teljes összeg": "223033"
                                },
                                {
                                    "Sorszám": "3590",
                                    "Teljes összeg": "270670"
                                },
                                {
                                    "Sorszám": "3603",
                                    "Teljes összeg": "206277"
                                },
                                {
                                    "Sorszám": "3611",
                                    "Teljes összeg": "492081"
                                },
                                {
                                    "Sorszám": "3627",
                                    "Teljes összeg": "247592"
                                },
                                {
                                    "Sorszám": "3635",
                                    "Teljes összeg": "220824"
                                },
                                {
                                    "Sorszám": "3667",
                                    "Teljes összeg": "205833"
                                },
                                {
                                    "Sorszám": "3688",
                                    "Teljes összeg": "342772"
                                },
                                {
                                    "Sorszám": "3702",
                                    "Teljes összeg": "382014"
                                },
                                {
                                    "Sorszám": "3711",
                                    "Teljes összeg": "229936"
                                },
                                {
                                    "Sorszám": "3716",
                                    "Teljes összeg": "232753"
                                },
                                {
                                    "Sorszám": "3717",
                                    "Teljes összeg": "264680"
                                },
                                {
                                    "Sorszám": "3719",
                                    "Teljes összeg": "585527"
                                },
                                {
                                    "Sorszám": "3721",
                                    "Teljes összeg": "329891"
                                },
                                {
                                    "Sorszám": "3724",
                                    "Teljes összeg": "373000"
                                },
                                {
                                    "Sorszám": "3725",
                                    "Teljes összeg": "381174"
                                },
                                {
                                    "Sorszám": "3726",
                                    "Teljes összeg": "266971"
                                },
                                {
                                    "Sorszám": "3739",
                                    "Teljes összeg": "486447"
                                },
                                {
                                    "Sorszám": "3746",
                                    "Teljes összeg": "370980"
                                },
                                {
                                    "Sorszám": "3753",
                                    "Teljes összeg": "559890"
                                },
                                {
                                    "Sorszám": "3755",
                                    "Teljes összeg": "487839"
                                },
                                {
                                    "Sorszám": "3757",
                                    "Teljes összeg": "277146"
                                },
                                {
                                    "Sorszám": "3768",
                                    "Teljes összeg": "649391"
                                },
                                {
                                    "Sorszám": "3771",
                                    "Teljes összeg": "835440"
                                },
                                {
                                    "Sorszám": "3777",
                                    "Teljes összeg": "782980"
                                },
                                {
                                    "Sorszám": "3793",
                                    "Teljes összeg": "268158"
                                },
                                {
                                    "Sorszám": "3803",
                                    "Teljes összeg": "248023"
                                },
                                {
                                    "Sorszám": "3804",
                                    "Teljes összeg": "585452"
                                },
                                {
                                    "Sorszám": "3807",
                                    "Teljes összeg": "236769"
                                },
                                {
                                    "Sorszám": "3810",
                                    "Teljes összeg": "349966"
                                },
                                {
                                    "Sorszám": "3813",
                                    "Teljes összeg": "796250"
                                },
                                {
                                    "Sorszám": "3814",
                                    "Teljes összeg": "224070"
                                },
                                {
                                    "Sorszám": "3815",
                                    "Teljes összeg": "1179370"
                                },
                                {
                                    "Sorszám": "3818",
                                    "Teljes összeg": "1838200"
                                },
                                {
                                    "Sorszám": "3849",
                                    "Teljes összeg": "422738"
                                },
                                {
                                    "Sorszám": "3857",
                                    "Teljes összeg": "573890"
                                },
                                {
                                    "Sorszám": "3860",
                                    "Teljes összeg": "278992"
                                },
                                {
                                    "Sorszám": "3894",
                                    "Teljes összeg": "225725"
                                },
                                {
                                    "Sorszám": "3898",
                                    "Teljes összeg": "213071"
                                },
                                {
                                    "Sorszám": "3901",
                                    "Teljes összeg": "1015750"
                                },
                                {
                                    "Sorszám": "3908",
                                    "Teljes összeg": "1039010"
                                },
                                {
                                    "Sorszám": "3910",
                                    "Teljes összeg": "256314"
                                },
                                {
                                    "Sorszám": "3911",
                                    "Teljes összeg": "210560"
                                },
                                {
                                    "Sorszám": "3923",
                                    "Teljes összeg": "609816"
                                },
                                {
                                    "Sorszám": "3927",
                                    "Teljes összeg": "719360"
                                },
                                {
                                    "Sorszám": "3941",
                                    "Teljes összeg": "221819"
                                },
                                {
                                    "Sorszám": "3943",
                                    "Teljes összeg": "243614"
                                },
                                {
                                    "Sorszám": "3945",
                                    "Teljes összeg": "254773"
                                },
                                {
                                    "Sorszám": "3946",
                                    "Teljes összeg": "835050"
                                },
                                {
                                    "Sorszám": "3947",
                                    "Teljes összeg": "1113920"
                                },
                                {
                                    "Sorszám": "3953",
                                    "Teljes összeg": "551216"
                                },
                                {
                                    "Sorszám": "3961",
                                    "Teljes összeg": "225631"
                                },
                                {
                                    "Sorszám": "3974",
                                    "Teljes összeg": "212170"
                                },
                                {
                                    "Sorszám": "3997",
                                    "Teljes összeg": "215567"
                                },
                                {
                                    "Sorszám": "4003",
                                    "Teljes összeg": "383033"
                                },
                                {
                                    "Sorszám": "4012",
                                    "Teljes összeg": "221630"
                                },
                                {
                                    "Sorszám": "4023",
                                    "Teljes összeg": "286826"
                                },
                                {
                                    "Sorszám": "4024",
                                    "Teljes összeg": "341894"
                                },
                                {
                                    "Sorszám": "4027",
                                    "Teljes összeg": "399114"
                                },
                                {
                                    "Sorszám": "4040",
                                    "Teljes összeg": "908740"
                                },
                                {
                                    "Sorszám": "4041",
                                    "Teljes összeg": "272630"
                                },
                                {
                                    "Sorszám": "4044",
                                    "Teljes összeg": "327682"
                                },
                                {
                                    "Sorszám": "4047",
                                    "Teljes összeg": "255342"
                                },
                                {
                                    "Sorszám": "4062",
                                    "Teljes összeg": "552250"
                                },
                                {
                                    "Sorszám": "4063",
                                    "Teljes összeg": "1831380"
                                },
                                {
                                    "Sorszám": "4112",
                                    "Teljes összeg": "316070"
                                },
                                {
                                    "Sorszám": "4113",
                                    "Teljes összeg": "208900"
                                },
                                {
                                    "Sorszám": "4114",
                                    "Teljes összeg": "221940"
                                },
                                {
                                    "Sorszám": "4129",
                                    "Teljes összeg": "576918"
                                },
                                {
                                    "Sorszám": "4144",
                                    "Teljes összeg": "527313"
                                },
                                {
                                    "Sorszám": "4150",
                                    "Teljes összeg": "258902"
                                },
                                {
                                    "Sorszám": "4163",
                                    "Teljes összeg": "222207"
                                },
                                {
                                    "Sorszám": "4169",
                                    "Teljes összeg": "230579"
                                },
                                {
                                    "Sorszám": "4174",
                                    "Teljes összeg": "257508"
                                },
                                {
                                    "Sorszám": "4210",
                                    "Teljes összeg": "372470"
                                },
                                {
                                    "Sorszám": "4222",
                                    "Teljes összeg": "269054"
                                },
                                {
                                    "Sorszám": "4225",
                                    "Teljes összeg": "498626"
                                },
                                {
                                    "Sorszám": "4248",
                                    "Teljes összeg": "240432"
                                },
                                {
                                    "Sorszám": "4255",
                                    "Teljes összeg": "500848"
                                },
                                {
                                    "Sorszám": "4263",
                                    "Teljes összeg": "357826"
                                },
                                {
                                    "Sorszám": "4264",
                                    "Teljes összeg": "228070"
                                },
                                {
                                    "Sorszám": "4274",
                                    "Teljes összeg": "1437620"
                                },
                                {
                                    "Sorszám": "4287",
                                    "Teljes összeg": "228749"
                                },
                                {
                                    "Sorszám": "4288",
                                    "Teljes összeg": "407533"
                                },
                                {
                                    "Sorszám": "4303",
                                    "Teljes összeg": "301629"
                                },
                                {
                                    "Sorszám": "4304",
                                    "Teljes összeg": "326160"
                                },
                                {
                                    "Sorszám": "4316",
                                    "Teljes összeg": "1200400"
                                },
                                {
                                    "Sorszám": "4330",
                                    "Teljes összeg": "233031"
                                },
                                {
                                    "Sorszám": "4335",
                                    "Teljes összeg": "280071"
                                },
                                {
                                    "Sorszám": "4388",
                                    "Teljes összeg": "347179"
                                },
                                {
                                    "Sorszám": "4400",
                                    "Teljes összeg": "494259"
                                },
                                {
                                    "Sorszám": "4410",
                                    "Teljes összeg": "1878330"
                                },
                                {
                                    "Sorszám": "4421",
                                    "Teljes összeg": "660850"
                                },
                                {
                                    "Sorszám": "4447",
                                    "Teljes összeg": "1092600"
                                },
                                {
                                    "Sorszám": "4448",
                                    "Teljes összeg": "248796"
                                },
                                {
                                    "Sorszám": "4477",
                                    "Teljes összeg": "274220"
                                },
                                {
                                    "Sorszám": "4478",
                                    "Teljes összeg": "282607"
                                },
                                {
                                    "Sorszám": "4484",
                                    "Teljes összeg": "233837"
                                },
                                {
                                    "Sorszám": "4498",
                                    "Teljes összeg": "301692"
                                },
                                {
                                    "Sorszám": "4506",
                                    "Teljes összeg": "339417"
                                },
                                {
                                    "Sorszám": "4516",
                                    "Teljes összeg": "266404"
                                },
                                {
                                    "Sorszám": "4541",
                                    "Teljes összeg": "334801"
                                },
                                {
                                    "Sorszám": "4548",
                                    "Teljes összeg": "1197600"
                                },
                                {
                                    "Sorszám": "4582",
                                    "Teljes összeg": "328833"
                                },
                                {
                                    "Sorszám": "4584",
                                    "Teljes összeg": "271038"
                                },
                                {
                                    "Sorszám": "4607",
                                    "Teljes összeg": "523035"
                                },
                                {
                                    "Sorszám": "4610",
                                    "Teljes összeg": "244724"
                                },
                                {
                                    "Sorszám": "4612",
                                    "Teljes összeg": "563881"
                                },
                                {
                                    "Sorszám": "4615",
                                    "Teljes összeg": "272654"
                                },
                                {
                                    "Sorszám": "4623",
                                    "Teljes összeg": "636741"
                                },
                                {
                                    "Sorszám": "4629",
                                    "Teljes összeg": "220552"
                                },
                                {
                                    "Sorszám": "4631",
                                    "Teljes összeg": "316192"
                                },
                                {
                                    "Sorszám": "4632",
                                    "Teljes összeg": "318144"
                                },
                                {
                                    "Sorszám": "4634",
                                    "Teljes összeg": "307380"
                                },
                                {
                                    "Sorszám": "4640",
                                    "Teljes összeg": "382752"
                                },
                                {
                                    "Sorszám": "4646",
                                    "Teljes összeg": "586240"
                                },
                                {
                                    "Sorszám": "4650",
                                    "Teljes összeg": "210990"
                                },
                                {
                                    "Sorszám": "4660",
                                    "Teljes összeg": "248162"
                                },
                                {
                                    "Sorszám": "4689",
                                    "Teljes összeg": "334745"
                                },
                                {
                                    "Sorszám": "4703",
                                    "Teljes összeg": "399542"
                                },
                                {
                                    "Sorszám": "4738",
                                    "Teljes összeg": "219956"
                                },
                                {
                                    "Sorszám": "4743",
                                    "Teljes összeg": "329151"
                                },
                                {
                                    "Sorszám": "4744",
                                    "Teljes összeg": "282024"
                                },
                                {
                                    "Sorszám": "4749",
                                    "Teljes összeg": "341603"
                                },
                                {
                                    "Sorszám": "4757",
                                    "Teljes összeg": "302478"
                                },
                                {
                                    "Sorszám": "4760",
                                    "Teljes összeg": "323062"
                                },
                                {
                                    "Sorszám": "4762",
                                    "Teljes összeg": "218510"
                                },
                                {
                                    "Sorszám": "4767",
                                    "Teljes összeg": "430275"
                                },
                                {
                                    "Sorszám": "4775",
                                    "Teljes összeg": "287456"
                                },
                                {
                                    "Sorszám": "4778",
                                    "Teljes összeg": "1626420"
                                },
                                {
                                    "Sorszám": "4779",
                                    "Teljes összeg": "288537"
                                },
                                {
                                    "Sorszám": "4783",
                                    "Teljes összeg": "219435"
                                },
                                {
                                    "Sorszám": "4792",
                                    "Teljes összeg": "374049"
                                },
                                {
                                    "Sorszám": "4799",
                                    "Teljes összeg": "260480"
                                },
                                {
                                    "Sorszám": "4809",
                                    "Teljes összeg": "1635120"
                                },
                                {
                                    "Sorszám": "4818",
                                    "Teljes összeg": "858610"
                                },
                                {
                                    "Sorszám": "4828",
                                    "Teljes összeg": "209234"
                                },
                                {
                                    "Sorszám": "4832",
                                    "Teljes összeg": "1897440"
                                },
                                {
                                    "Sorszám": "4851",
                                    "Teljes összeg": "516141"
                                },
                                {
                                    "Sorszám": "4870",
                                    "Teljes összeg": "424458"
                                },
                                {
                                    "Sorszám": "4902",
                                    "Teljes összeg": "575420"
                                },
                                {
                                    "Sorszám": "4903",
                                    "Teljes összeg": "233173"
                                },
                                {
                                    "Sorszám": "4911",
                                    "Teljes összeg": "913310"
                                },
                                {
                                    "Sorszám": "4915",
                                    "Teljes összeg": "315240"
                                },
                                {
                                    "Sorszám": "4922",
                                    "Teljes összeg": "377542"
                                },
                                {
                                    "Sorszám": "4926",
                                    "Teljes összeg": "361202"
                                },
                                {
                                    "Sorszám": "4934",
                                    "Teljes összeg": "965600"
                                },
                                {
                                    "Sorszám": "4942",
                                    "Teljes összeg": "703700"
                                },
                                {
                                    "Sorszám": "4951",
                                    "Teljes összeg": "564536"
                                },
                                {
                                    "Sorszám": "4962",
                                    "Teljes összeg": "1039240"
                                },
                                {
                                    "Sorszám": "4963",
                                    "Teljes összeg": "350634"
                                },
                                {
                                    "Sorszám": "4964",
                                    "Teljes összeg": "231579"
                                },
                                {
                                    "Sorszám": "4990",
                                    "Teljes összeg": "254055"
                                },
                                {
                                    "Sorszám": "4995",
                                    "Teljes összeg": "1073560"
                                },
                                {
                                    "Sorszám": "5002",
                                    "Teljes összeg": "319260"
                                },
                                {
                                    "Sorszám": "5003",
                                    "Teljes összeg": "299200"
                                },
                                {
                                    "Sorszám": "5010",
                                    "Teljes összeg": "340335"
                                },
                                {
                                    "Sorszám": "5026",
                                    "Teljes összeg": "233194"
                                },
                                {
                                    "Sorszám": "5034",
                                    "Teljes összeg": "607661"
                                },
                                {
                                    "Sorszám": "5037",
                                    "Teljes összeg": "547367"
                                },
                                {
                                    "Sorszám": "5039",
                                    "Teljes összeg": "212598"
                                },
                                {
                                    "Sorszám": "5061",
                                    "Teljes összeg": "293707"
                                },
                                {
                                    "Sorszám": "5079",
                                    "Teljes összeg": "398250"
                                },
                                {
                                    "Sorszám": "5080",
                                    "Teljes összeg": "221728"
                                },
                                {
                                    "Sorszám": "5083",
                                    "Teljes összeg": "264520"
                                },
                                {
                                    "Sorszám": "5084",
                                    "Teljes összeg": "291279"
                                },
                                {
                                    "Sorszám": "5089",
                                    "Teljes összeg": "387126"
                                },
                                {
                                    "Sorszám": "5093",
                                    "Teljes összeg": "614000"
                                },
                                {
                                    "Sorszám": "5094",
                                    "Teljes összeg": "634600"
                                },
                                {
                                    "Sorszám": "5096",
                                    "Teljes összeg": "1813680"
                                },
                                {
                                    "Sorszám": "5097",
                                    "Teljes összeg": "425519"
                                },
                                {
                                    "Sorszám": "5121",
                                    "Teljes összeg": "411118"
                                },
                                {
                                    "Sorszám": "5130",
                                    "Teljes összeg": "708260"
                                },
                                {
                                    "Sorszám": "5132",
                                    "Teljes összeg": "332657"
                                },
                                {
                                    "Sorszám": "5134",
                                    "Teljes összeg": "423332"
                                },
                                {
                                    "Sorszám": "5136",
                                    "Teljes összeg": "297687"
                                },
                                {
                                    "Sorszám": "5139",
                                    "Teljes összeg": "269816"
                                },
                                {
                                    "Sorszám": "5148",
                                    "Teljes összeg": "291586"
                                },
                                {
                                    "Sorszám": "5150",
                                    "Teljes összeg": "1624350"
                                },
                                {
                                    "Sorszám": "5171",
                                    "Teljes összeg": "407658"
                                },
                                {
                                    "Sorszám": "5197",
                                    "Teljes összeg": "417240"
                                },
                                {
                                    "Sorszám": "5212",
                                    "Teljes összeg": "205994"
                                },
                                {
                                    "Sorszám": "5220",
                                    "Teljes összeg": "413734"
                                },
                                {
                                    "Sorszám": "5221",
                                    "Teljes összeg": "205273"
                                },
                                {
                                    "Sorszám": "5242",
                                    "Teljes összeg": "1064720"
                                },
                                {
                                    "Sorszám": "5245",
                                    "Teljes összeg": "461477"
                                },
                                {
                                    "Sorszám": "5278",
                                    "Teljes összeg": "1530510"
                                },
                                {
                                    "Sorszám": "5286",
                                    "Teljes összeg": "598460"
                                },
                                {
                                    "Sorszám": "5299",
                                    "Teljes összeg": "275961"
                                },
                                {
                                    "Sorszám": "5310",
                                    "Teljes összeg": "1662080"
                                },
                                {
                                    "Sorszám": "5312",
                                    "Teljes összeg": "431530"
                                },
                                {
                                    "Sorszám": "5318",
                                    "Teljes összeg": "264736"
                                },
                                {
                                    "Sorszám": "5324",
                                    "Teljes összeg": "236965"
                                },
                                {
                                    "Sorszám": "5325",
                                    "Teljes összeg": "455136"
                                },
                                {
                                    "Sorszám": "5335",
                                    "Teljes összeg": "497453"
                                },
                                {
                                    "Sorszám": "5350",
                                    "Teljes összeg": "260722"
                                },
                                {
                                    "Sorszám": "5367",
                                    "Teljes összeg": "601345"
                                },
                                {
                                    "Sorszám": "5375",
                                    "Teljes összeg": "524153"
                                },
                                {
                                    "Sorszám": "5376",
                                    "Teljes összeg": "315993"
                                },
                                {
                                    "Sorszám": "5400",
                                    "Teljes összeg": "303945"
                                },
                                {
                                    "Sorszám": "5409",
                                    "Teljes összeg": "284110"
                                },
                                {
                                    "Sorszám": "5414",
                                    "Teljes összeg": "318402"
                                },
                                {
                                    "Sorszám": "5422",
                                    "Teljes összeg": "240923"
                                },
                                {
                                    "Sorszám": "5428",
                                    "Teljes összeg": "335081"
                                },
                                {
                                    "Sorszám": "5436",
                                    "Teljes összeg": "261320"
                                },
                                {
                                    "Sorszám": "5452",
                                    "Teljes összeg": "540620"
                                },
                                {
                                    "Sorszám": "5465",
                                    "Teljes összeg": "881750"
                                },
                                {
                                    "Sorszám": "5468",
                                    "Teljes összeg": "1219240"
                                },
                                {
                                    "Sorszám": "5492",
                                    "Teljes összeg": "1083610"
                                },
                                {
                                    "Sorszám": "5494",
                                    "Teljes összeg": "318520"
                                },
                                {
                                    "Sorszám": "5510",
                                    "Teljes összeg": "1173350"
                                },
                                {
                                    "Sorszám": "5511",
                                    "Teljes összeg": "1017210"
                                },
                                {
                                    "Sorszám": "5514",
                                    "Teljes összeg": "248845"
                                },
                                {
                                    "Sorszám": "5516",
                                    "Teljes összeg": "431610"
                                },
                                {
                                    "Sorszám": "5526",
                                    "Teljes összeg": "527603"
                                },
                                {
                                    "Sorszám": "5543",
                                    "Teljes összeg": "339733"
                                },
                                {
                                    "Sorszám": "5547",
                                    "Teljes összeg": "348976"
                                },
                                {
                                    "Sorszám": "5585",
                                    "Teljes összeg": "452300"
                                },
                                {
                                    "Sorszám": "5599",
                                    "Teljes összeg": "220285"
                                },
                                {
                                    "Sorszám": "5622",
                                    "Teljes összeg": "217924"
                                },
                                {
                                    "Sorszám": "5634",
                                    "Teljes összeg": "209113"
                                },
                                {
                                    "Sorszám": "5640",
                                    "Teljes összeg": "801370"
                                },
                                {
                                    "Sorszám": "5684",
                                    "Teljes összeg": "817370"
                                },
                                {
                                    "Sorszám": "5695",
                                    "Teljes összeg": "419840"
                                },
                                {
                                    "Sorszám": "5698",
                                    "Teljes összeg": "475157"
                                },
                                {
                                    "Sorszám": "5740",
                                    "Teljes összeg": "538170"
                                },
                                {
                                    "Sorszám": "5745",
                                    "Teljes összeg": "250277"
                                },
                                {
                                    "Sorszám": "5746",
                                    "Teljes összeg": "353395"
                                },
                                {
                                    "Sorszám": "5750",
                                    "Teljes összeg": "313495"
                                },
                                {
                                    "Sorszám": "5756",
                                    "Teljes összeg": "220070"
                                },
                                {
                                    "Sorszám": "5772",
                                    "Teljes összeg": "324138"
                                },
                                {
                                    "Sorszám": "5805",
                                    "Teljes összeg": "240042"
                                },
                                {
                                    "Sorszám": "5808",
                                    "Teljes összeg": "296408"
                                },
                                {
                                    "Sorszám": "5817",
                                    "Teljes összeg": "344994"
                                },
                                {
                                    "Sorszám": "5830",
                                    "Teljes összeg": "375831"
                                },
                                {
                                    "Sorszám": "5836",
                                    "Teljes összeg": "323845"
                                },
                                {
                                    "Sorszám": "5850",
                                    "Teljes összeg": "1473210"
                                },
                                {
                                    "Sorszám": "5851",
                                    "Teljes összeg": "257319"
                                },
                                {
                                    "Sorszám": "5856",
                                    "Teljes összeg": "447306"
                                },
                                {
                                    "Sorszám": "5882",
                                    "Teljes összeg": "269845"
                                },
                                {
                                    "Sorszám": "5917",
                                    "Teljes összeg": "225732"
                                },
                                {
                                    "Sorszám": "5923",
                                    "Teljes összeg": "344694"
                                },
                                {
                                    "Sorszám": "5935",
                                    "Teljes összeg": "431083"
                                },
                                {
                                    "Sorszám": "5938",
                                    "Teljes összeg": "248602"
                                },
                                {
                                    "Sorszám": "5958",
                                    "Teljes összeg": "416367"
                                },
                                {
                                    "Sorszám": "5970",
                                    "Teljes összeg": "413900"
                                },
                                {
                                    "Sorszám": "5995",
                                    "Teljes összeg": "261040"
                                },
                                {
                                    "Sorszám": "6008",
                                    "Teljes összeg": "212168"
                                },
                                {
                                    "Sorszám": "6014",
                                    "Teljes összeg": "317569"
                                },
                                {
                                    "Sorszám": "6027",
                                    "Teljes összeg": "261368"
                                },
                                {
                                    "Sorszám": "6028",
                                    "Teljes összeg": "473660"
                                },
                                {
                                    "Sorszám": "6039",
                                    "Teljes összeg": "219530"
                                },
                                {
                                    "Sorszám": "6041",
                                    "Teljes összeg": "316036"
                                },
                                {
                                    "Sorszám": "6046",
                                    "Teljes összeg": "513642"
                                },
                                {
                                    "Sorszám": "6050",
                                    "Teljes összeg": "251212"
                                },
                                {
                                    "Sorszám": "6053",
                                    "Teljes összeg": "355775"
                                },
                                {
                                    "Sorszám": "6067",
                                    "Teljes összeg": "311314"
                                },
                                {
                                    "Sorszám": "6106",
                                    "Teljes összeg": "402968"
                                },
                                {
                                    "Sorszám": "6124",
                                    "Teljes összeg": "547730"
                                },
                                {
                                    "Sorszám": "6127",
                                    "Teljes összeg": "1848020"
                                },
                                {
                                    "Sorszám": "6131",
                                    "Teljes összeg": "231272"
                                },
                                {
                                    "Sorszám": "6133",
                                    "Teljes összeg": "1085070"
                                },
                                {
                                    "Sorszám": "6148",
                                    "Teljes összeg": "643996"
                                },
                                {
                                    "Sorszám": "6157",
                                    "Teljes összeg": "242390"
                                },
                                {
                                    "Sorszám": "6158",
                                    "Teljes összeg": "545268"
                                },
                                {
                                    "Sorszám": "6168",
                                    "Teljes összeg": "489434"
                                },
                                {
                                    "Sorszám": "6179",
                                    "Teljes összeg": "260360"
                                },
                                {
                                    "Sorszám": "6192",
                                    "Teljes összeg": "813280"
                                },
                                {
                                    "Sorszám": "6194",
                                    "Teljes összeg": "251261"
                                },
                                {
                                    "Sorszám": "6216",
                                    "Teljes összeg": "214734"
                                },
                                {
                                    "Sorszám": "6218",
                                    "Teljes összeg": "258573"
                                },
                                {
                                    "Sorszám": "6220",
                                    "Teljes összeg": "367891"
                                },
                                {
                                    "Sorszám": "6225",
                                    "Teljes összeg": "290499"
                                },
                                {
                                    "Sorszám": "6237",
                                    "Teljes összeg": "345652"
                                },
                                {
                                    "Sorszám": "6242",
                                    "Teljes összeg": "396572"
                                },
                                {
                                    "Sorszám": "6257",
                                    "Teljes összeg": "1442210"
                                },
                                {
                                    "Sorszám": "6271",
                                    "Teljes összeg": "952250"
                                },
                                {
                                    "Sorszám": "6295",
                                    "Teljes összeg": "569183"
                                },
                                {
                                    "Sorszám": "6307",
                                    "Teljes összeg": "659011"
                                },
                                {
                                    "Sorszám": "6309",
                                    "Teljes összeg": "261429"
                                },
                                {
                                    "Sorszám": "6310",
                                    "Teljes összeg": "300055"
                                },
                                {
                                    "Sorszám": "6323",
                                    "Teljes összeg": "266480"
                                },
                                {
                                    "Sorszám": "6348",
                                    "Teljes összeg": "320470"
                                },
                                {
                                    "Sorszám": "6356",
                                    "Teljes összeg": "220001"
                                },
                                {
                                    "Sorszám": "6358",
                                    "Teljes összeg": "353205"
                                },
                                {
                                    "Sorszám": "6369",
                                    "Teljes összeg": "219090"
                                },
                                {
                                    "Sorszám": "6406",
                                    "Teljes összeg": "257548"
                                },
                                {
                                    "Sorszám": "6421",
                                    "Teljes összeg": "820500"
                                },
                                {
                                    "Sorszám": "6431",
                                    "Teljes összeg": "347916"
                                },
                                {
                                    "Sorszám": "6438",
                                    "Teljes összeg": "286810"
                                },
                                {
                                    "Sorszám": "6465",
                                    "Teljes összeg": "464944"
                                },
                                {
                                    "Sorszám": "6467",
                                    "Teljes összeg": "372283"
                                },
                                {
                                    "Sorszám": "6476",
                                    "Teljes összeg": "214887"
                                },
                                {
                                    "Sorszám": "6483",
                                    "Teljes összeg": "218304"
                                },
                                {
                                    "Sorszám": "6486",
                                    "Teljes összeg": "606616"
                                },
                                {
                                    "Sorszám": "6496",
                                    "Teljes összeg": "287659"
                                },
                                {
                                    "Sorszám": "6503",
                                    "Teljes összeg": "653095"
                                },
                                {
                                    "Sorszám": "6509",
                                    "Teljes összeg": "362902"
                                },
                                {
                                    "Sorszám": "6517",
                                    "Teljes összeg": "308933"
                                },
                                {
                                    "Sorszám": "6530",
                                    "Teljes összeg": "220396"
                                },
                                {
                                    "Sorszám": "6533",
                                    "Teljes összeg": "224326"
                                },
                                {
                                    "Sorszám": "6541",
                                    "Teljes összeg": "379040"
                                },
                                {
                                    "Sorszám": "6554",
                                    "Teljes összeg": "329048"
                                },
                                {
                                    "Sorszám": "6562",
                                    "Teljes összeg": "701150"
                                },
                                {
                                    "Sorszám": "6568",
                                    "Teljes összeg": "277705"
                                },
                                {
                                    "Sorszám": "6571",
                                    "Teljes összeg": "267140"
                                },
                                {
                                    "Sorszám": "6587",
                                    "Teljes összeg": "421315"
                                },
                                {
                                    "Sorszám": "6617",
                                    "Teljes összeg": "1050690"
                                },
                                {
                                    "Sorszám": "6626",
                                    "Teljes összeg": "557643"
                                },
                                {
                                    "Sorszám": "6627",
                                    "Teljes összeg": "620420"
                                },
                                {
                                    "Sorszám": "6628",
                                    "Teljes összeg": "1552290"
                                },
                                {
                                    "Sorszám": "6633",
                                    "Teljes összeg": "252567"
                                },
                                {
                                    "Sorszám": "6639",
                                    "Teljes összeg": "267569"
                                },
                                {
                                    "Sorszám": "6645",
                                    "Teljes összeg": "214046"
                                },
                                {
                                    "Sorszám": "6665",
                                    "Teljes összeg": "222176"
                                },
                                {
                                    "Sorszám": "6712",
                                    "Teljes összeg": "274084"
                                },
                                {
                                    "Sorszám": "6716",
                                    "Teljes összeg": "223160"
                                },
                                {
                                    "Sorszám": "6730",
                                    "Teljes összeg": "665660"
                                },
                                {
                                    "Sorszám": "6750",
                                    "Teljes összeg": "373460"
                                },
                                {
                                    "Sorszám": "6759",
                                    "Teljes összeg": "581778"
                                },
                                {
                                    "Sorszám": "6769",
                                    "Teljes összeg": "273330"
                                },
                                {
                                    "Sorszám": "6773",
                                    "Teljes összeg": "422948"
                                },
                                {
                                    "Sorszám": "6780",
                                    "Teljes összeg": "1253490"
                                },
                                {
                                    "Sorszám": "6786",
                                    "Teljes összeg": "445668"
                                },
                                {
                                    "Sorszám": "6792",
                                    "Teljes összeg": "287971"
                                },
                                {
                                    "Sorszám": "6804",
                                    "Teljes összeg": "583840"
                                },
                                {
                                    "Sorszám": "6814",
                                    "Teljes összeg": "506290"
                                },
                                {
                                    "Sorszám": "6815",
                                    "Teljes összeg": "345579"
                                },
                                {
                                    "Sorszám": "6834",
                                    "Teljes összeg": "531990"
                                },
                                {
                                    "Sorszám": "6843",
                                    "Teljes összeg": "339118"
                                },
                                {
                                    "Sorszám": "6859",
                                    "Teljes összeg": "308733"
                                },
                                {
                                    "Sorszám": "6861",
                                    "Teljes összeg": "220737"
                                },
                                {
                                    "Sorszám": "6884",
                                    "Teljes összeg": "224151"
                                },
                                {
                                    "Sorszám": "6905",
                                    "Teljes összeg": "359391"
                                },
                                {
                                    "Sorszám": "6907",
                                    "Teljes összeg": "661505"
                                },
                                {
                                    "Sorszám": "6911",
                                    "Teljes összeg": "242930"
                                },
                                {
                                    "Sorszám": "6914",
                                    "Teljes összeg": "224273"
                                },
                                {
                                    "Sorszám": "6918",
                                    "Teljes összeg": "923060"
                                },
                                {
                                    "Sorszám": "6931",
                                    "Teljes összeg": "1643100"
                                },
                                {
                                    "Sorszám": "6932",
                                    "Teljes összeg": "229603"
                                },
                                {
                                    "Sorszám": "6935",
                                    "Teljes összeg": "251786"
                                },
                                {
                                    "Sorszám": "6946",
                                    "Teljes összeg": "299680"
                                },
                                {
                                    "Sorszám": "6948",
                                    "Teljes összeg": "282168"
                                },
                                {
                                    "Sorszám": "6967",
                                    "Teljes összeg": "321911"
                                },
                                {
                                    "Sorszám": "6972",
                                    "Teljes összeg": "514757"
                                },
                                {
                                    "Sorszám": "6988",
                                    "Teljes összeg": "348356"
                                },
                                {
                                    "Sorszám": "7002",
                                    "Teljes összeg": "340613"
                                },
                                {
                                    "Sorszám": "7033",
                                    "Teljes összeg": "225049"
                                },
                                {
                                    "Sorszám": "7035",
                                    "Teljes összeg": "643396"
                                },
                                {
                                    "Sorszám": "7043",
                                    "Teljes összeg": "455490"
                                },
                                {
                                    "Sorszám": "7059",
                                    "Teljes összeg": "429277"
                                },
                                {
                                    "Sorszám": "7066",
                                    "Teljes összeg": "623895"
                                },
                                {
                                    "Sorszám": "7067",
                                    "Teljes összeg": "743606"
                                },
                                {
                                    "Sorszám": "7068",
                                    "Teljes összeg": "269062"
                                },
                                {
                                    "Sorszám": "7082",
                                    "Teljes összeg": "259561"
                                },
                                {
                                    "Sorszám": "7083",
                                    "Teljes összeg": "409052"
                                },
                                {
                                    "Sorszám": "7086",
                                    "Teljes összeg": "508756"
                                },
                                {
                                    "Sorszám": "7094",
                                    "Teljes összeg": "397233"
                                },
                                {
                                    "Sorszám": "7096",
                                    "Teljes összeg": "348069"
                                },
                                {
                                    "Sorszám": "7098",
                                    "Teljes összeg": "424800"
                                },
                                {
                                    "Sorszám": "7108",
                                    "Teljes összeg": "240889"
                                },
                                {
                                    "Sorszám": "7151",
                                    "Teljes összeg": "396734"
                                },
                                {
                                    "Sorszám": "7166",
                                    "Teljes összeg": "455058"
                                },
                                {
                                    "Sorszám": "7167",
                                    "Teljes összeg": "318170"
                                },
                                {
                                    "Sorszám": "7182",
                                    "Teljes összeg": "266039"
                                },
                                {
                                    "Sorszám": "7191",
                                    "Teljes összeg": "1604880"
                                },
                                {
                                    "Sorszám": "7197",
                                    "Teljes összeg": "1405920"
                                },
                                {
                                    "Sorszám": "7204",
                                    "Teljes összeg": "240200"
                                },
                                {
                                    "Sorszám": "7206",
                                    "Teljes összeg": "293094"
                                },
                                {
                                    "Sorszám": "7207",
                                    "Teljes összeg": "394006"
                                },
                                {
                                    "Sorszám": "7214",
                                    "Teljes összeg": "291393"
                                },
                                {
                                    "Sorszám": "7220",
                                    "Teljes összeg": "555325"
                                },
                                {
                                    "Sorszám": "7255",
                                    "Teljes összeg": "310336"
                                },
                                {
                                    "Sorszám": "7258",
                                    "Teljes összeg": "276602"
                                },
                                {
                                    "Sorszám": "7264",
                                    "Teljes összeg": "1041320"
                                },
                                {
                                    "Sorszám": "7277",
                                    "Teljes összeg": "380990"
                                },
                                {
                                    "Sorszám": "7278",
                                    "Teljes összeg": "333154"
                                },
                                {
                                    "Sorszám": "7283",
                                    "Teljes összeg": "470581"
                                },
                                {
                                    "Sorszám": "7301",
                                    "Teljes összeg": "331252"
                                },
                                {
                                    "Sorszám": "7305",
                                    "Teljes összeg": "1639330"
                                },
                                {
                                    "Sorszám": "7307",
                                    "Teljes összeg": "552303"
                                },
                                {
                                    "Sorszám": "7333",
                                    "Teljes összeg": "310066"
                                },
                                {
                                    "Sorszám": "7340",
                                    "Teljes összeg": "264610"
                                },
                                {
                                    "Sorszám": "7341",
                                    "Teljes összeg": "298930"
                                },
                                {
                                    "Sorszám": "7354",
                                    "Teljes összeg": "234449"
                                },
                                {
                                    "Sorszám": "7387",
                                    "Teljes összeg": "235547"
                                },
                                {
                                    "Sorszám": "7390",
                                    "Teljes összeg": "248499"
                                },
                                {
                                    "Sorszám": "7392",
                                    "Teljes összeg": "558981"
                                },
                                {
                                    "Sorszám": "7410",
                                    "Teljes összeg": "263384"
                                },
                                {
                                    "Sorszám": "7412",
                                    "Teljes összeg": "584892"
                                },
                                {
                                    "Sorszám": "7446",
                                    "Teljes összeg": "414080"
                                },
                                {
                                    "Sorszám": "7448",
                                    "Teljes összeg": "375942"
                                },
                                {
                                    "Sorszám": "7455",
                                    "Teljes összeg": "209097"
                                },
                                {
                                    "Sorszám": "7460",
                                    "Teljes összeg": "274028"
                                },
                                {
                                    "Sorszám": "7465",
                                    "Teljes összeg": "427860"
                                },
                                {
                                    "Sorszám": "7468",
                                    "Teljes összeg": "308205"
                                },
                                {
                                    "Sorszám": "7471",
                                    "Teljes összeg": "253827"
                                },
                                {
                                    "Sorszám": "7472",
                                    "Teljes összeg": "374716"
                                },
                                {
                                    "Sorszám": "7484",
                                    "Teljes összeg": "272038"
                                },
                                {
                                    "Sorszám": "7496",
                                    "Teljes összeg": "272950"
                                },
                                {
                                    "Sorszám": "7507",
                                    "Teljes összeg": "353414"
                                },
                                {
                                    "Sorszám": "7513",
                                    "Teljes összeg": "366416"
                                },
                                {
                                    "Sorszám": "7533",
                                    "Teljes összeg": "215276"
                                },
                                {
                                    "Sorszám": "7541",
                                    "Teljes összeg": "229480"
                                },
                                {
                                    "Sorszám": "7550",
                                    "Teljes összeg": "1849950"
                                },
                                {
                                    "Sorszám": "7561",
                                    "Teljes összeg": "223250"
                                },
                                {
                                    "Sorszám": "7564",
                                    "Teljes összeg": "376534"
                                },
                                {
                                    "Sorszám": "7565",
                                    "Teljes összeg": "277739"
                                },
                                {
                                    "Sorszám": "7589",
                                    "Teljes összeg": "288790"
                                },
                                {
                                    "Sorszám": "7592",
                                    "Teljes összeg": "334943"
                                },
                                {
                                    "Sorszám": "7611",
                                    "Teljes összeg": "688890"
                                },
                                {
                                    "Sorszám": "7612",
                                    "Teljes összeg": "241238"
                                },
                                {
                                    "Sorszám": "7641",
                                    "Teljes összeg": "400024"
                                },
                                {
                                    "Sorszám": "7645",
                                    "Teljes összeg": "1070480"
                                },
                                {
                                    "Sorszám": "7646",
                                    "Teljes összeg": "1276560"
                                },
                                {
                                    "Sorszám": "7673",
                                    "Teljes összeg": "288548"
                                },
                                {
                                    "Sorszám": "7675",
                                    "Teljes összeg": "1223220"
                                },
                                {
                                    "Sorszám": "7676",
                                    "Teljes összeg": "364300"
                                },
                                {
                                    "Sorszám": "7688",
                                    "Teljes összeg": "334716"
                                },
                                {
                                    "Sorszám": "7694",
                                    "Teljes összeg": "387523"
                                },
                                {
                                    "Sorszám": "7696",
                                    "Teljes összeg": "558736"
                                },
                                {
                                    "Sorszám": "7697",
                                    "Teljes összeg": "573158"
                                },
                                {
                                    "Sorszám": "7699",
                                    "Teljes összeg": "411922"
                                },
                                {
                                    "Sorszám": "7702",
                                    "Teljes összeg": "289954"
                                },
                                {
                                    "Sorszám": "7703",
                                    "Teljes összeg": "214800"
                                },
                                {
                                    "Sorszám": "7708",
                                    "Teljes összeg": "255190"
                                },
                                {
                                    "Sorszám": "7716",
                                    "Teljes összeg": "321178"
                                },
                                {
                                    "Sorszám": "7725",
                                    "Teljes összeg": "240550"
                                },
                                {
                                    "Sorszám": "7735",
                                    "Teljes összeg": "262412"
                                },
                                {
                                    "Sorszám": "7736",
                                    "Teljes összeg": "290382"
                                },
                                {
                                    "Sorszám": "7746",
                                    "Teljes összeg": "236388"
                                },
                                {
                                    "Sorszám": "7754",
                                    "Teljes összeg": "236693"
                                },
                                {
                                    "Sorszám": "7767",
                                    "Teljes összeg": "254080"
                                },
                                {
                                    "Sorszám": "7775",
                                    "Teljes összeg": "357172"
                                },
                                {
                                    "Sorszám": "7780",
                                    "Teljes összeg": "431413"
                                },
                                {
                                    "Sorszám": "7782",
                                    "Teljes összeg": "253888"
                                },
                                {
                                    "Sorszám": "7815",
                                    "Teljes összeg": "308618"
                                },
                                {
                                    "Sorszám": "7829",
                                    "Teljes összeg": "240918"
                                },
                                {
                                    "Sorszám": "7842",
                                    "Teljes összeg": "662540"
                                },
                                {
                                    "Sorszám": "7844",
                                    "Teljes összeg": "389444"
                                },
                                {
                                    "Sorszám": "7846",
                                    "Teljes összeg": "285667"
                                },
                                {
                                    "Sorszám": "7861",
                                    "Teljes összeg": "221510"
                                },
                                {
                                    "Sorszám": "7871",
                                    "Teljes összeg": "375699"
                                },
                                {
                                    "Sorszám": "7878",
                                    "Teljes összeg": "444767"
                                },
                                {
                                    "Sorszám": "7897",
                                    "Teljes összeg": "469442"
                                },
                                {
                                    "Sorszám": "7915",
                                    "Teljes összeg": "231322"
                                },
                                {
                                    "Sorszám": "7923",
                                    "Teljes összeg": "277296"
                                },
                                {
                                    "Sorszám": "7932",
                                    "Teljes összeg": "234607"
                                },
                                {
                                    "Sorszám": "7933",
                                    "Teljes összeg": "455701"
                                },
                                {
                                    "Sorszám": "7935",
                                    "Teljes összeg": "593089"
                                },
                                {
                                    "Sorszám": "7939",
                                    "Teljes összeg": "233189"
                                },
                                {
                                    "Sorszám": "7950",
                                    "Teljes összeg": "667700"
                                },
                                {
                                    "Sorszám": "7963",
                                    "Teljes összeg": "302340"
                                },
                                {
                                    "Sorszám": "7969",
                                    "Teljes összeg": "318796"
                                },
                                {
                                    "Sorszám": "7975",
                                    "Teljes összeg": "245105"
                                },
                                {
                                    "Sorszám": "7982",
                                    "Teljes összeg": "263968"
                                },
                                {
                                    "Sorszám": "7995",
                                    "Teljes összeg": "998980"
                                },
                                {
                                    "Sorszám": "8001",
                                    "Teljes összeg": "332315"
                                },
                                {
                                    "Sorszám": "8003",
                                    "Teljes összeg": "305474"
                                },
                                {
                                    "Sorszám": "8015",
                                    "Teljes összeg": "606322"
                                },
                                {
                                    "Sorszám": "8019",
                                    "Teljes összeg": "207315"
                                },
                                {
                                    "Sorszám": "8022",
                                    "Teljes összeg": "276018"
                                },
                                {
                                    "Sorszám": "8025",
                                    "Teljes összeg": "214980"
                                },
                                {
                                    "Sorszám": "8027",
                                    "Teljes összeg": "220843"
                                },
                                {
                                    "Sorszám": "8028",
                                    "Teljes összeg": "275892"
                                },
                                {
                                    "Sorszám": "8032",
                                    "Teljes összeg": "255345"
                                },
                                {
                                    "Sorszám": "8037",
                                    "Teljes összeg": "474524"
                                },
                                {
                                    "Sorszám": "8043",
                                    "Teljes összeg": "237700"
                                },
                                {
                                    "Sorszám": "8050",
                                    "Teljes összeg": "250795"
                                },
                                {
                                    "Sorszám": "8080",
                                    "Teljes összeg": "1635910"
                                },
                                {
                                    "Sorszám": "8082",
                                    "Teljes összeg": "354352"
                                },
                                {
                                    "Sorszám": "8090",
                                    "Teljes összeg": "296762"
                                },
                                {
                                    "Sorszám": "8093",
                                    "Teljes összeg": "215410"
                                },
                                {
                                    "Sorszám": "8127",
                                    "Teljes összeg": "275397"
                                },
                                {
                                    "Sorszám": "8128",
                                    "Teljes összeg": "218776"
                                },
                                {
                                    "Sorszám": "8136",
                                    "Teljes összeg": "212020"
                                },
                                {
                                    "Sorszám": "8138",
                                    "Teljes összeg": "476480"
                                },
                                {
                                    "Sorszám": "8191",
                                    "Teljes összeg": "210237"
                                },
                                {
                                    "Sorszám": "8193",
                                    "Teljes összeg": "1439400"
                                },
                                {
                                    "Sorszám": "8208",
                                    "Teljes összeg": "231318"
                                },
                                {
                                    "Sorszám": "8210",
                                    "Teljes összeg": "2381070"
                                },
                                {
                                    "Sorszám": "8211",
                                    "Teljes összeg": "427365"
                                },
                                {
                                    "Sorszám": "8217",
                                    "Teljes összeg": "217870"
                                },
                                {
                                    "Sorszám": "8224",
                                    "Teljes összeg": "373624"
                                },
                                {
                                    "Sorszám": "8233",
                                    "Teljes összeg": "496134"
                                },
                                {
                                    "Sorszám": "8248",
                                    "Teljes összeg": "289921"
                                },
                                {
                                    "Sorszám": "8269",
                                    "Teljes összeg": "503504"
                                },
                                {
                                    "Sorszám": "8272",
                                    "Teljes összeg": "217331"
                                },
                                {
                                    "Sorszám": "8288",
                                    "Teljes összeg": "263501"
                                },
                                {
                                    "Sorszám": "8292",
                                    "Teljes összeg": "405550"
                                },
                                {
                                    "Sorszám": "8310",
                                    "Teljes összeg": "359074"
                                },
                                {
                                    "Sorszám": "8316",
                                    "Teljes összeg": "208492"
                                },
                                {
                                    "Sorszám": "8324",
                                    "Teljes összeg": "288641"
                                },
                                {
                                    "Sorszám": "8345",
                                    "Teljes összeg": "251756"
                                },
                                {
                                    "Sorszám": "8373",
                                    "Teljes összeg": "423636"
                                },
                                {
                                    "Sorszám": "8380",
                                    "Teljes összeg": "1891690"
                                },
                                {
                                    "Sorszám": "8407",
                                    "Teljes összeg": "208241"
                                },
                                {
                                    "Sorszám": "8423",
                                    "Teljes összeg": "223764"
                                },
                                {
                                    "Sorszám": "8431",
                                    "Teljes összeg": "214180"
                                },
                                {
                                    "Sorszám": "8452",
                                    "Teljes összeg": "1632770"
                                },
                                {
                                    "Sorszám": "8468",
                                    "Teljes összeg": "348230"
                                },
                                {
                                    "Sorszám": "8477",
                                    "Teljes összeg": "228867"
                                },
                                {
                                    "Sorszám": "8500",
                                    "Teljes összeg": "817740"
                                },
                                {
                                    "Sorszám": "8501",
                                    "Teljes összeg": "216610"
                                },
                                {
                                    "Sorszám": "8504",
                                    "Teljes összeg": "214309"
                                },
                                {
                                    "Sorszám": "8507",
                                    "Teljes összeg": "939220"
                                },
                                {
                                    "Sorszám": "8513",
                                    "Teljes összeg": "522993"
                                },
                                {
                                    "Sorszám": "8522",
                                    "Teljes összeg": "679360"
                                },
                                {
                                    "Sorszám": "8535",
                                    "Teljes összeg": "400851"
                                },
                                {
                                    "Sorszám": "8541",
                                    "Teljes összeg": "544703"
                                },
                                {
                                    "Sorszám": "8561",
                                    "Teljes összeg": "269826"
                                },
                                {
                                    "Sorszám": "8570",
                                    "Teljes összeg": "504403"
                                },
                                {
                                    "Sorszám": "8571",
                                    "Teljes összeg": "250011"
                                },
                                {
                                    "Sorszám": "8595",
                                    "Teljes összeg": "293640"
                                },
                                {
                                    "Sorszám": "8600",
                                    "Teljes összeg": "425975"
                                },
                                {
                                    "Sorszám": "8641",
                                    "Teljes összeg": "392700"
                                },
                                {
                                    "Sorszám": "8645",
                                    "Teljes összeg": "254990"
                                },
                                {
                                    "Sorszám": "8647",
                                    "Teljes összeg": "1216100"
                                },
                                {
                                    "Sorszám": "8657",
                                    "Teljes összeg": "272169"
                                },
                                {
                                    "Sorszám": "8664",
                                    "Teljes összeg": "252250"
                                },
                                {
                                    "Sorszám": "8687",
                                    "Teljes összeg": "701570"
                                },
                                {
                                    "Sorszám": "8692",
                                    "Teljes összeg": "256456"
                                },
                                {
                                    "Sorszám": "8694",
                                    "Teljes összeg": "302036"
                                },
                                {
                                    "Sorszám": "8700",
                                    "Teljes összeg": "470815"
                                },
                                {
                                    "Sorszám": "8709",
                                    "Teljes összeg": "478692"
                                },
                                {
                                    "Sorszám": "8712",
                                    "Teljes összeg": "1056800"
                                },
                                {
                                    "Sorszám": "8717",
                                    "Teljes összeg": "1631000"
                                },
                                {
                                    "Sorszám": "8722",
                                    "Teljes összeg": "271952"
                                },
                                {
                                    "Sorszám": "8725",
                                    "Teljes összeg": "204980"
                                },
                                {
                                    "Sorszám": "8729",
                                    "Teljes összeg": "248850"
                                },
                                {
                                    "Sorszám": "8737",
                                    "Teljes összeg": "887400"
                                },
                                {
                                    "Sorszám": "8792",
                                    "Teljes összeg": "341736"
                                },
                                {
                                    "Sorszám": "8829",
                                    "Teljes összeg": "255244"
                                },
                                {
                                    "Sorszám": "8837",
                                    "Teljes összeg": "372996"
                                },
                                {
                                    "Sorszám": "8854",
                                    "Teljes összeg": "703988"
                                },
                                {
                                    "Sorszám": "8860",
                                    "Teljes összeg": "229461"
                                },
                                {
                                    "Sorszám": "8879",
                                    "Teljes összeg": "387504"
                                },
                                {
                                    "Sorszám": "8891",
                                    "Teljes összeg": "625140"
                                },
                                {
                                    "Sorszám": "8901",
                                    "Teljes összeg": "623780"
                                },
                                {
                                    "Sorszám": "8905",
                                    "Teljes összeg": "319864"
                                },
                                {
                                    "Sorszám": "8922",
                                    "Teljes összeg": "398611"
                                },
                                {
                                    "Sorszám": "8937",
                                    "Teljes összeg": "261331"
                                },
                                {
                                    "Sorszám": "8938",
                                    "Teljes összeg": "260775"
                                },
                                {
                                    "Sorszám": "8945",
                                    "Teljes összeg": "392875"
                                },
                                {
                                    "Sorszám": "8947",
                                    "Teljes összeg": "246753"
                                },
                                {
                                    "Sorszám": "8972",
                                    "Teljes összeg": "215515"
                                },
                                {
                                    "Sorszám": "8998",
                                    "Teljes összeg": "255202"
                                },
                                {
                                    "Sorszám": "9024",
                                    "Teljes összeg": "1179980"
                                },
                                {
                                    "Sorszám": "9044",
                                    "Teljes összeg": "210477"
                                },
                                {
                                    "Sorszám": "9048",
                                    "Teljes összeg": "419575"
                                },
                                {
                                    "Sorszám": "9051",
                                    "Teljes összeg": "393830"
                                },
                                {
                                    "Sorszám": "9054",
                                    "Teljes összeg": "295984"
                                },
                                {
                                    "Sorszám": "9057",
                                    "Teljes összeg": "335386"
                                },
                                {
                                    "Sorszám": "9081",
                                    "Teljes összeg": "445660"
                                },
                                {
                                    "Sorszám": "9087",
                                    "Teljes összeg": "326769"
                                },
                                {
                                    "Sorszám": "9098",
                                    "Teljes összeg": "424704"
                                },
                                {
                                    "Sorszám": "9104",
                                    "Teljes összeg": "228283"
                                },
                                {
                                    "Sorszám": "9114",
                                    "Teljes összeg": "318104"
                                },
                                {
                                    "Sorszám": "9115",
                                    "Teljes összeg": "299068"
                                },
                                {
                                    "Sorszám": "9119",
                                    "Teljes összeg": "243975"
                                },
                                {
                                    "Sorszám": "9132",
                                    "Teljes összeg": "437050"
                                },
                                {
                                    "Sorszám": "9137",
                                    "Teljes összeg": "491217"
                                },
                                {
                                    "Sorszám": "9148",
                                    "Teljes összeg": "645266"
                                },
                                {
                                    "Sorszám": "9160",
                                    "Teljes összeg": "419791"
                                },
                                {
                                    "Sorszám": "9165",
                                    "Teljes összeg": "298007"
                                },
                                {
                                    "Sorszám": "9166",
                                    "Teljes összeg": "475573"
                                },
                                {
                                    "Sorszám": "9202",
                                    "Teljes összeg": "260997"
                                },
                                {
                                    "Sorszám": "9207",
                                    "Teljes összeg": "291185"
                                },
                                {
                                    "Sorszám": "9208",
                                    "Teljes összeg": "224532"
                                },
                                {
                                    "Sorszám": "9228",
                                    "Teljes összeg": "205824"
                                },
                                {
                                    "Sorszám": "9233",
                                    "Teljes összeg": "321528"
                                },
                                {
                                    "Sorszám": "9251",
                                    "Teljes összeg": "223548"
                                },
                                {
                                    "Sorszám": "9262",
                                    "Teljes összeg": "264500"
                                },
                                {
                                    "Sorszám": "9267",
                                    "Teljes összeg": "318001"
                                },
                                {
                                    "Sorszám": "9275",
                                    "Teljes összeg": "534710"
                                },
                                {
                                    "Sorszám": "9279",
                                    "Teljes összeg": "347409"
                                },
                                {
                                    "Sorszám": "9280",
                                    "Teljes összeg": "217267"
                                },
                                {
                                    "Sorszám": "9287",
                                    "Teljes összeg": "230770"
                                },
                                {
                                    "Sorszám": "9288",
                                    "Teljes összeg": "566564"
                                },
                                {
                                    "Sorszám": "9289",
                                    "Teljes összeg": "266666"
                                },
                                {
                                    "Sorszám": "9312",
                                    "Teljes összeg": "345754"
                                },
                                {
                                    "Sorszám": "9320",
                                    "Teljes összeg": "679988"
                                },
                                {
                                    "Sorszám": "9339",
                                    "Teljes összeg": "621009"
                                },
                                {
                                    "Sorszám": "9345",
                                    "Teljes összeg": "235932"
                                },
                                {
                                    "Sorszám": "9350",
                                    "Teljes összeg": "404807"
                                },
                                {
                                    "Sorszám": "9359",
                                    "Teljes összeg": "219149"
                                },
                                {
                                    "Sorszám": "9363",
                                    "Teljes összeg": "407267"
                                },
                                {
                                    "Sorszám": "9373",
                                    "Teljes összeg": "435680"
                                },
                                {
                                    "Sorszám": "9399",
                                    "Teljes összeg": "263963"
                                },
                                {
                                    "Sorszám": "9429",
                                    "Teljes összeg": "209994"
                                },
                                {
                                    "Sorszám": "9449",
                                    "Teljes összeg": "356910"
                                },
                                {
                                    "Sorszám": "9456",
                                    "Teljes összeg": "454624"
                                },
                                {
                                    "Sorszám": "9476",
                                    "Teljes összeg": "286232"
                                },
                                {
                                    "Sorszám": "9478",
                                    "Teljes összeg": "336482"
                                },
                                {
                                    "Sorszám": "9479",
                                    "Teljes összeg": "275989"
                                },
                                {
                                    "Sorszám": "9481",
                                    "Teljes összeg": "537212"
                                },
                                {
                                    "Sorszám": "9484",
                                    "Teljes összeg": "339916"
                                },
                                {
                                    "Sorszám": "9531",
                                    "Teljes összeg": "334725"
                                },
                                {
                                    "Sorszám": "9537",
                                    "Teljes összeg": "379952"
                                },
                                {
                                    "Sorszám": "9551",
                                    "Teljes összeg": "298315"
                                },
                                {
                                    "Sorszám": "9563",
                                    "Teljes összeg": "451324"
                                },
                                {
                                    "Sorszám": "9588",
                                    "Teljes összeg": "218302"
                                },
                                {
                                    "Sorszám": "9590",
                                    "Teljes összeg": "235981"
                                },
                                {
                                    "Sorszám": "9613",
                                    "Teljes összeg": "245448"
                                },
                                {
                                    "Sorszám": "9619",
                                    "Teljes összeg": "255470"
                                },
                                {
                                    "Sorszám": "9630",
                                    "Teljes összeg": "496034"
                                },
                                {
                                    "Sorszám": "9635",
                                    "Teljes összeg": "1039270"
                                },
                                {
                                    "Sorszám": "9641",
                                    "Teljes összeg": "390080"
                                },
                                {
                                    "Sorszám": "9659",
                                    "Teljes összeg": "253185"
                                },
                                {
                                    "Sorszám": "9664",
                                    "Teljes összeg": "385155"
                                },
                                {
                                    "Sorszám": "9667",
                                    "Teljes összeg": "287849"
                                },
                                {
                                    "Sorszám": "9668",
                                    "Teljes összeg": "279736"
                                },
                                {
                                    "Sorszám": "9669",
                                    "Teljes összeg": "221506"
                                },
                                {
                                    "Sorszám": "9671",
                                    "Teljes összeg": "311523"
                                },
                                {
                                    "Sorszám": "9689",
                                    "Teljes összeg": "237796"
                                },
                                {
                                    "Sorszám": "9695",
                                    "Teljes összeg": "491910"
                                },
                                {
                                    "Sorszám": "9712",
                                    "Teljes összeg": "323850"
                                },
                                {
                                    "Sorszám": "9714",
                                    "Teljes összeg": "500162"
                                },
                                {
                                    "Sorszám": "9722",
                                    "Teljes összeg": "373697"
                                },
                                {
                                    "Sorszám": "9733",
                                    "Teljes összeg": "717990"
                                },
                                {
                                    "Sorszám": "9752",
                                    "Teljes összeg": "412540"
                                },
                                {
                                    "Sorszám": "9755",
                                    "Teljes összeg": "774470"
                                },
                                {
                                    "Sorszám": "9766",
                                    "Teljes összeg": "302040"
                                },
                                {
                                    "Sorszám": "9772",
                                    "Teljes összeg": "1019070"
                                },
                                {
                                    "Sorszám": "9775",
                                    "Teljes összeg": "529250"
                                },
                                {
                                    "Sorszám": "9792",
                                    "Teljes összeg": "447090"
                                },
                                {
                                    "Sorszám": "9795",
                                    "Teljes összeg": "214100"
                                },
                                {
                                    "Sorszám": "9797",
                                    "Teljes összeg": "234830"
                                },
                                {
                                    "Sorszám": "9802",
                                    "Teljes összeg": "518580"
                                },
                                {
                                    "Sorszám": "9812",
                                    "Teljes összeg": "242250"
                                },
                                {
                                    "Sorszám": "9842",
                                    "Teljes összeg": "374740"
                                },
                                {
                                    "Sorszám": "9847",
                                    "Teljes összeg": "645890"
                                },
                                {
                                    "Sorszám": "9855",
                                    "Teljes összeg": "256360"
                                },
                                {
                                    "Sorszám": "9857",
                                    "Teljes összeg": "354830"
                                },
                                {
                                    "Sorszám": "9859",
                                    "Teljes összeg": "291510"
                                },
                                {
                                    "Sorszám": "9865",
                                    "Teljes összeg": "543480"
                                },
                                {
                                    "Sorszám": "9869",
                                    "Teljes összeg": "287660"
                                },
                                {
                                    "Sorszám": "9887",
                                    "Teljes összeg": "311100"
                                },
                                {
                                    "Sorszám": "9895",
                                    "Teljes összeg": "269520"
                                },
                                {
                                    "Sorszám": "9906",
                                    "Teljes összeg": "438090"
                                },
                                {
                                    "Sorszám": "9908",
                                    "Teljes összeg": "286200"
                                },
                                {
                                    "Sorszám": "9909",
                                    "Teljes összeg": "343910"
                                },
                                {
                                    "Sorszám": "9910",
                                    "Teljes összeg": "519590"
                                },
                                {
                                    "Sorszám": "9912",
                                    "Teljes összeg": "1557300"
                                },
                                {
                                    "Sorszám": "9914",
                                    "Teljes összeg": "210080"
                                },
                                {
                                    "Sorszám": "9919",
                                    "Teljes összeg": "326000"
                                },
                                {
                                    "Sorszám": "9922",
                                    "Teljes összeg": "403650"
                                },
                                {
                                    "Sorszám": "9952",
                                    "Teljes összeg": "219450"
                                },
                                {
                                    "Sorszám": "9953",
                                    "Teljes összeg": "334080"
                                },
                                {
                                    "Sorszám": "9961",
                                    "Teljes összeg": "383080"
                                },
                                {
                                    "Sorszám": "9963",
                                    "Teljes összeg": "393100"
                                },
                                {
                                    "Sorszám": "9975",
                                    "Teljes összeg": "253270"
                                },
                                {
                                    "Sorszám": "9978",
                                    "Teljes összeg": "251900"
                                },
                                {
                                    "Sorszám": "10000",
                                    "Teljes összeg": "410050"
                                },
                                {
                                    "Sorszám": "10015",
                                    "Teljes összeg": "690180"
                                },
                                {
                                    "Sorszám": "10018",
                                    "Teljes összeg": "323310"
                                },
                                {
                                    "Sorszám": "10029",
                                    "Teljes összeg": "622060"
                                },
                                {
                                    "Sorszám": "10031",
                                    "Teljes összeg": "283580"
                                },
                                {
                                    "Sorszám": "10045",
                                    "Teljes összeg": "1835650"
                                },
                                {
                                    "Sorszám": "10049",
                                    "Teljes összeg": "298910"
                                },
                                {
                                    "Sorszám": "10056",
                                    "Teljes összeg": "470460"
                                },
                                {
                                    "Sorszám": "10058",
                                    "Teljes összeg": "210440"
                                },
                                {
                                    "Sorszám": "10062",
                                    "Teljes összeg": "343730"
                                },
                                {
                                    "Sorszám": "10083",
                                    "Teljes összeg": "328190"
                                },
                                {
                                    "Sorszám": "10085",
                                    "Teljes összeg": "245670"
                                },
                                {
                                    "Sorszám": "10093",
                                    "Teljes összeg": "215130"
                                },
                                {
                                    "Sorszám": "10103",
                                    "Teljes összeg": "389290"
                                },
                                {
                                    "Sorszám": "10110",
                                    "Teljes összeg": "255790"
                                },
                                {
                                    "Sorszám": "10119",
                                    "Teljes összeg": "730680"
                                },
                                {
                                    "Sorszám": "10137",
                                    "Teljes összeg": "358780"
                                },
                                {
                                    "Sorszám": "10141",
                                    "Teljes összeg": "293480"
                                },
                                {
                                    "Sorszám": "10151",
                                    "Teljes összeg": "256840"
                                },
                                {
                                    "Sorszám": "10171",
                                    "Teljes összeg": "218860"
                                },
                                {
                                    "Sorszám": "10173",
                                    "Teljes összeg": "452440"
                                },
                                {
                                    "Sorszám": "10207",
                                    "Teljes összeg": "688850"
                                },
                                {
                                    "Sorszám": "10212",
                                    "Teljes összeg": "495530"
                                },
                                {
                                    "Sorszám": "10223",
                                    "Teljes összeg": "321200"
                                },
                                {
                                    "Sorszám": "10228",
                                    "Teljes összeg": "1149640"
                                },
                                {
                                    "Sorszám": "10233",
                                    "Teljes összeg": "349170"
                                },
                                {
                                    "Sorszám": "10242",
                                    "Teljes összeg": "446150"
                                },
                                {
                                    "Sorszám": "10244",
                                    "Teljes összeg": "345690"
                                },
                                {
                                    "Sorszám": "10256",
                                    "Teljes összeg": "282790"
                                },
                                {
                                    "Sorszám": "10268",
                                    "Teljes összeg": "926010"
                                },
                                {
                                    "Sorszám": "10279",
                                    "Teljes összeg": "472480"
                                },
                                {
                                    "Sorszám": "10283",
                                    "Teljes összeg": "341280"
                                },
                                {
                                    "Sorszám": "10288",
                                    "Teljes összeg": "285770"
                                },
                                {
                                    "Sorszám": "10313",
                                    "Teljes összeg": "257130"
                                },
                                {
                                    "Sorszám": "10316",
                                    "Teljes összeg": "289300"
                                },
                                {
                                    "Sorszám": "10327",
                                    "Teljes összeg": "224010"
                                },
                                {
                                    "Sorszám": "10339",
                                    "Teljes összeg": "380730"
                                },
                                {
                                    "Sorszám": "10353",
                                    "Teljes összeg": "223170"
                                },
                                {
                                    "Sorszám": "10358",
                                    "Teljes összeg": "210680"
                                },
                                {
                                    "Sorszám": "10372",
                                    "Teljes összeg": "334700"
                                },
                                {
                                    "Sorszám": "10382",
                                    "Teljes összeg": "472260"
                                },
                                {
                                    "Sorszám": "10390",
                                    "Teljes összeg": "252890"
                                },
                                {
                                    "Sorszám": "10392",
                                    "Teljes összeg": "222420"
                                },
                                {
                                    "Sorszám": "10396",
                                    "Teljes összeg": "654770"
                                },
                                {
                                    "Sorszám": "10424",
                                    "Teljes összeg": "1338270"
                                },
                                {
                                    "Sorszám": "10430",
                                    "Teljes összeg": "299030"
                                },
                                {
                                    "Sorszám": "10454",
                                    "Teljes összeg": "258000"
                                },
                                {
                                    "Sorszám": "10457",
                                    "Teljes összeg": "1584900"
                                },
                                {
                                    "Sorszám": "10460",
                                    "Teljes összeg": "223040"
                                },
                                {
                                    "Sorszám": "10466",
                                    "Teljes összeg": "495220"
                                },
                                {
                                    "Sorszám": "10470",
                                    "Teljes összeg": "901090"
                                },
                                {
                                    "Sorszám": "10474",
                                    "Teljes összeg": "373740"
                                },
                                {
                                    "Sorszám": "10476",
                                    "Teljes összeg": "243490"
                                },
                                {
                                    "Sorszám": "10483",
                                    "Teljes összeg": "273710"
                                },
                                {
                                    "Sorszám": "10513",
                                    "Teljes összeg": "326730"
                                },
                                {
                                    "Sorszám": "10519",
                                    "Teljes összeg": "2015610"
                                },
                                {
                                    "Sorszám": "10526",
                                    "Teljes összeg": "298890"
                                },
                                {
                                    "Sorszám": "10529",
                                    "Teljes összeg": "494780"
                                },
                                {
                                    "Sorszám": "10530",
                                    "Teljes összeg": "300520"
                                },
                                {
                                    "Sorszám": "10531",
                                    "Teljes összeg": "332850"
                                },
                                {
                                    "Sorszám": "10533",
                                    "Teljes összeg": "526800"
                                },
                                {
                                    "Sorszám": "10538",
                                    "Teljes összeg": "220080"
                                },
                                {
                                    "Sorszám": "10541",
                                    "Teljes összeg": "348050"
                                },
                                {
                                    "Sorszám": "10547",
                                    "Teljes összeg": "265400"
                                },
                                {
                                    "Sorszám": "10551",
                                    "Teljes összeg": "317920"
                                },
                                {
                                    "Sorszám": "10552",
                                    "Teljes összeg": "515610"
                                },
                                {
                                    "Sorszám": "10561",
                                    "Teljes összeg": "411220"
                                },
                                {
                                    "Sorszám": "10573",
                                    "Teljes összeg": "1991000"
                                },
                                {
                                    "Sorszám": "10576",
                                    "Teljes összeg": "276890"
                                },
                                {
                                    "Sorszám": "10577",
                                    "Teljes összeg": "295670"
                                },
                                {
                                    "Sorszám": "10586",
                                    "Teljes összeg": "239220"
                                },
                                {
                                    "Sorszám": "10594",
                                    "Teljes összeg": "490970"
                                },
                                {
                                    "Sorszám": "10606",
                                    "Teljes összeg": "656900"
                                },
                                {
                                    "Sorszám": "10614",
                                    "Teljes összeg": "1316390"
                                },
                                {
                                    "Sorszám": "10620",
                                    "Teljes összeg": "252540"
                                },
                                {
                                    "Sorszám": "10623",
                                    "Teljes összeg": "465300"
                                },
                                {
                                    "Sorszám": "10637",
                                    "Teljes összeg": "276190"
                                },
                                {
                                    "Sorszám": "10642",
                                    "Teljes összeg": "338300"
                                },
                                {
                                    "Sorszám": "10665",
                                    "Teljes összeg": "709900"
                                },
                                {
                                    "Sorszám": "10666",
                                    "Teljes összeg": "218560"
                                },
                                {
                                    "Sorszám": "10668",
                                    "Teljes összeg": "474480"
                                },
                                {
                                    "Sorszám": "10670",
                                    "Teljes összeg": "480270"
                                },
                                {
                                    "Sorszám": "10671",
                                    "Teljes összeg": "239040"
                                },
                                {
                                    "Sorszám": "10685",
                                    "Teljes összeg": "462060"
                                },
                                {
                                    "Sorszám": "10688",
                                    "Teljes összeg": "257880"
                                },
                                {
                                    "Sorszám": "10711",
                                    "Teljes összeg": "385930"
                                },
                                {
                                    "Sorszám": "10712",
                                    "Teljes összeg": "487880"
                                },
                                {
                                    "Sorszám": "10715",
                                    "Teljes összeg": "258120"
                                },
                                {
                                    "Sorszám": "10720",
                                    "Teljes összeg": "224930"
                                },
                                {
                                    "Sorszám": "10729",
                                    "Teljes összeg": "220430"
                                },
                                {
                                    "Sorszám": "10734",
                                    "Teljes összeg": "295570"
                                },
                                {
                                    "Sorszám": "10735",
                                    "Teljes összeg": "317330"
                                },
                                {
                                    "Sorszám": "10738",
                                    "Teljes összeg": "432650"
                                },
                                {
                                    "Sorszám": "10743",
                                    "Teljes összeg": "428380"
                                },
                                {
                                    "Sorszám": "10747",
                                    "Teljes összeg": "224550"
                                },
                                {
                                    "Sorszám": "10763",
                                    "Teljes összeg": "250980"
                                },
                                {
                                    "Sorszám": "10765",
                                    "Teljes összeg": "437880"
                                },
                                {
                                    "Sorszám": "10766",
                                    "Teljes összeg": "441680"
                                },
                                {
                                    "Sorszám": "10786",
                                    "Teljes összeg": "912550"
                                },
                                {
                                    "Sorszám": "10789",
                                    "Teljes összeg": "497290"
                                },
                                {
                                    "Sorszám": "10793",
                                    "Teljes összeg": "254990"
                                },
                                {
                                    "Sorszám": "10799",
                                    "Teljes összeg": "334220"
                                },
                                {
                                    "Sorszám": "10800",
                                    "Teljes összeg": "441620"
                                },
                                {
                                    "Sorszám": "10812",
                                    "Teljes összeg": "227410"
                                },
                                {
                                    "Sorszám": "10819",
                                    "Teljes összeg": "456200"
                                },
                                {
                                    "Sorszám": "10835",
                                    "Teljes összeg": "827920"
                                },
                                {
                                    "Sorszám": "10848",
                                    "Teljes összeg": "292800"
                                },
                                {
                                    "Sorszám": "10862",
                                    "Teljes összeg": "1170880"
                                },
                                {
                                    "Sorszám": "10872",
                                    "Teljes összeg": "457260"
                                },
                                {
                                    "Sorszám": "10883",
                                    "Teljes összeg": "228770"
                                },
                                {
                                    "Sorszám": "10887",
                                    "Teljes összeg": "248980"
                                },
                                {
                                    "Sorszám": "10894",
                                    "Teljes összeg": "212690"
                                },
                                {
                                    "Sorszám": "10897",
                                    "Teljes összeg": "2051150"
                                },
                                {
                                    "Sorszám": "10908",
                                    "Teljes összeg": "305080"
                                },
                                {
                                    "Sorszám": "10931",
                                    "Teljes összeg": "378000"
                                },
                                {
                                    "Sorszám": "10942",
                                    "Teljes összeg": "214370"
                                },
                                {
                                    "Sorszám": "10971",
                                    "Teljes összeg": "327590"
                                },
                                {
                                    "Sorszám": "10975",
                                    "Teljes összeg": "311600"
                                },
                                {
                                    "Sorszám": "10976",
                                    "Teljes összeg": "213060"
                                },
                                {
                                    "Sorszám": "10982",
                                    "Teljes összeg": "813800"
                                },
                                {
                                    "Sorszám": "10986",
                                    "Teljes összeg": "257490"
                                },
                                {
                                    "Sorszám": "10990",
                                    "Teljes összeg": "408030"
                                },
                                {
                                    "Sorszám": "10999",
                                    "Teljes összeg": "232480"
                                },
                                {
                                    "Sorszám": "11019",
                                    "Teljes összeg": "339000"
                                },
                                {
                                    "Sorszám": "11021",
                                    "Teljes összeg": "209930"
                                },
                                {
                                    "Sorszám": "11030",
                                    "Teljes összeg": "209940"
                                },
                                {
                                    "Sorszám": "11050",
                                    "Teljes összeg": "263460"
                                },
                                {
                                    "Sorszám": "11056",
                                    "Teljes összeg": "465390"
                                },
                                {
                                    "Sorszám": "11063",
                                    "Teljes összeg": "321650"
                                },
                                {
                                    "Sorszám": "11074",
                                    "Teljes összeg": "1020810"
                                },
                                {
                                    "Sorszám": "11076",
                                    "Teljes összeg": "247430"
                                },
                                {
                                    "Sorszám": "11078",
                                    "Teljes összeg": "468860"
                                },
                                {
                                    "Sorszám": "11085",
                                    "Teljes összeg": "282180"
                                },
                                {
                                    "Sorszám": "11088",
                                    "Teljes összeg": "566290"
                                },
                                {
                                    "Sorszám": "11092",
                                    "Teljes összeg": "317420"
                                },
                                {
                                    "Sorszám": "11098",
                                    "Teljes összeg": "524780"
                                },
                                {
                                    "Sorszám": "11106",
                                    "Teljes összeg": "401460"
                                },
                                {
                                    "Sorszám": "11112",
                                    "Teljes összeg": "267240"
                                },
                                {
                                    "Sorszám": "11114",
                                    "Teljes összeg": "248590"
                                },
                                {
                                    "Sorszám": "11131",
                                    "Teljes összeg": "1460250"
                                },
                                {
                                    "Sorszám": "11147",
                                    "Teljes összeg": "322440"
                                },
                                {
                                    "Sorszám": "11150",
                                    "Teljes összeg": "217470"
                                },
                                {
                                    "Sorszám": "11158",
                                    "Teljes összeg": "408470"
                                },
                                {
                                    "Sorszám": "11166",
                                    "Teljes összeg": "1159720"
                                },
                                {
                                    "Sorszám": "11183",
                                    "Teljes összeg": "397400"
                                },
                                {
                                    "Sorszám": "11186",
                                    "Teljes összeg": "249270"
                                },
                                {
                                    "Sorszám": "11196",
                                    "Teljes összeg": "282360"
                                },
                                {
                                    "Sorszám": "11224",
                                    "Teljes összeg": "258600"
                                },
                                {
                                    "Sorszám": "11233",
                                    "Teljes összeg": "380160"
                                },
                                {
                                    "Sorszám": "11244",
                                    "Teljes összeg": "448130"
                                },
                                {
                                    "Sorszám": "11248",
                                    "Teljes összeg": "205510"
                                },
                                {
                                    "Sorszám": "11250",
                                    "Teljes összeg": "399470"
                                },
                                {
                                    "Sorszám": "11253",
                                    "Teljes összeg": "775480"
                                },
                                {
                                    "Sorszám": "11259",
                                    "Teljes összeg": "236760"
                                },
                                {
                                    "Sorszám": "11264",
                                    "Teljes összeg": "371580"
                                },
                                {
                                    "Sorszám": "11280",
                                    "Teljes összeg": "229570"
                                },
                                {
                                    "Sorszám": "11288",
                                    "Teljes összeg": "1149840"
                                },
                                {
                                    "Sorszám": "11293",
                                    "Teljes összeg": "592480"
                                },
                                {
                                    "Sorszám": "11297",
                                    "Teljes összeg": "1584180"
                                },
                                {
                                    "Sorszám": "11312",
                                    "Teljes összeg": "269700"
                                },
                                {
                                    "Sorszám": "11314",
                                    "Teljes összeg": "242930"
                                },
                                {
                                    "Sorszám": "11317",
                                    "Teljes összeg": "407170"
                                },
                                {
                                    "Sorszám": "11320",
                                    "Teljes összeg": "347950"
                                },
                                {
                                    "Sorszám": "11324",
                                    "Teljes összeg": "370520"
                                },
                                {
                                    "Sorszám": "11330",
                                    "Teljes összeg": "273790"
                                },
                                {
                                    "Sorszám": "11336",
                                    "Teljes összeg": "315200"
                                },
                                {
                                    "Sorszám": "11342",
                                    "Teljes összeg": "421470"
                                },
                                {
                                    "Sorszám": "11347",
                                    "Teljes összeg": "233380"
                                },
                                {
                                    "Sorszám": "11383",
                                    "Teljes összeg": "234460"
                                },
                                {
                                    "Sorszám": "11387",
                                    "Teljes összeg": "327750"
                                },
                                {
                                    "Sorszám": "11391",
                                    "Teljes összeg": "256600"
                                },
                                {
                                    "Sorszám": "11402",
                                    "Teljes összeg": "1816790"
                                },
                                {
                                    "Sorszám": "11406",
                                    "Teljes összeg": "422050"
                                },
                                {
                                    "Sorszám": "11413",
                                    "Teljes összeg": "441530"
                                },
                                {
                                    "Sorszám": "11423",
                                    "Teljes összeg": "587510"
                                },
                                {
                                    "Sorszám": "11426",
                                    "Teljes összeg": "435390"
                                },
                                {
                                    "Sorszám": "11431",
                                    "Teljes összeg": "356760"
                                },
                                {
                                    "Sorszám": "11442",
                                    "Teljes összeg": "390770"
                                },
                                {
                                    "Sorszám": "11445",
                                    "Teljes összeg": "268075"
                                },
                                {
                                    "Sorszám": "11448",
                                    "Teljes összeg": "405290"
                                },
                                {
                                    "Sorszám": "11452",
                                    "Teljes összeg": "660350"
                                },
                                {
                                    "Sorszám": "11459",
                                    "Teljes összeg": "235030"
                                },
                                {
                                    "Sorszám": "11462",
                                    "Teljes összeg": "219620"
                                },
                                {
                                    "Sorszám": "11469",
                                    "Teljes összeg": "434450"
                                },
                                {
                                    "Sorszám": "11474",
                                    "Teljes összeg": "243790"
                                },
                                {
                                    "Sorszám": "11487",
                                    "Teljes összeg": "643180"
                                },
                                {
                                    "Sorszám": "11499",
                                    "Teljes összeg": "660250"
                                },
                                {
                                    "Sorszám": "11500",
                                    "Teljes összeg": "726600"
                                },
                                {
                                    "Sorszám": "11503",
                                    "Teljes összeg": "1192460"
                                },
                                {
                                    "Sorszám": "11508",
                                    "Teljes összeg": "484770"
                                },
                                {
                                    "Sorszám": "11513",
                                    "Teljes összeg": "1666580"
                                },
                                {
                                    "Sorszám": "11523",
                                    "Teljes összeg": "330420"
                                },
                                {
                                    "Sorszám": "11528",
                                    "Teljes összeg": "1410610"
                                },
                                {
                                    "Sorszám": "11537",
                                    "Teljes összeg": "257330"
                                },
                                {
                                    "Sorszám": "11543",
                                    "Teljes összeg": "495840"
                                },
                                {
                                    "Sorszám": "11546",
                                    "Teljes összeg": "448250"
                                },
                                {
                                    "Sorszám": "11549",
                                    "Teljes összeg": "436170"
                                },
                                {
                                    "Sorszám": "11553",
                                    "Teljes összeg": "449440"
                                },
                                {
                                    "Sorszám": "11564",
                                    "Teljes összeg": "440770"
                                },
                                {
                                    "Sorszám": "11567",
                                    "Teljes összeg": "255900"
                                },
                                {
                                    "Sorszám": "11571",
                                    "Teljes összeg": "234790"
                                },
                                {
                                    "Sorszám": "11580",
                                    "Teljes összeg": "211270"
                                },
                                {
                                    "Sorszám": "11598",
                                    "Teljes összeg": "241440"
                                },
                                {
                                    "Sorszám": "11629",
                                    "Teljes összeg": "426480"
                                },
                                {
                                    "Sorszám": "11632",
                                    "Teljes összeg": "388920"
                                },
                                {
                                    "Sorszám": "11633",
                                    "Teljes összeg": "1883700"
                                },
                                {
                                    "Sorszám": "11636",
                                    "Teljes összeg": "303130"
                                },
                                {
                                    "Sorszám": "11639",
                                    "Teljes összeg": "1173910"
                                },
                                {
                                    "Sorszám": "11647",
                                    "Teljes összeg": "376750"
                                },
                                {
                                    "Sorszám": "11651",
                                    "Teljes összeg": "490670"
                                },
                                {
                                    "Sorszám": "11657",
                                    "Teljes összeg": "325640"
                                },
                                {
                                    "Sorszám": "11661",
                                    "Teljes összeg": "721770"
                                },
                                {
                                    "Sorszám": "11664",
                                    "Teljes összeg": "330420"
                                },
                                {
                                    "Sorszám": "11673",
                                    "Teljes összeg": "307310"
                                },
                                {
                                    "Sorszám": "11680",
                                    "Teljes összeg": "257370"
                                },
                                {
                                    "Sorszám": "11692",
                                    "Teljes összeg": "414870"
                                },
                                {
                                    "Sorszám": "11698",
                                    "Teljes összeg": "463920"
                                },
                                {
                                    "Sorszám": "11700",
                                    "Teljes összeg": "823510"
                                },
                                {
                                    "Sorszám": "11708",
                                    "Teljes összeg": "284510"
                                },
                                {
                                    "Sorszám": "11711",
                                    "Teljes összeg": "268580"
                                },
                                {
                                    "Sorszám": "11723",
                                    "Teljes összeg": "289310"
                                },
                                {
                                    "Sorszám": "11738",
                                    "Teljes összeg": "754290"
                                },
                                {
                                    "Sorszám": "11742",
                                    "Teljes összeg": "562800"
                                },
                                {
                                    "Sorszám": "11760",
                                    "Teljes összeg": "457950"
                                },
                                {
                                    "Sorszám": "11774",
                                    "Teljes összeg": "463610"
                                },
                                {
                                    "Sorszám": "11778",
                                    "Teljes összeg": "308110"
                                },
                                {
                                    "Sorszám": "11779",
                                    "Teljes összeg": "462720"
                                },
                                {
                                    "Sorszám": "11780",
                                    "Teljes összeg": "209380"
                                },
                                {
                                    "Sorszám": "11797",
                                    "Teljes összeg": "1079390"
                                },
                                {
                                    "Sorszám": "11806",
                                    "Teljes összeg": "486460"
                                },
                                {
                                    "Sorszám": "11820",
                                    "Teljes összeg": "283720"
                                },
                                {
                                    "Sorszám": "11824",
                                    "Teljes összeg": "1351600"
                                },
                                {
                                    "Sorszám": "11839",
                                    "Teljes összeg": "1349630"
                                },
                                {
                                    "Sorszám": "11844",
                                    "Teljes összeg": "542160"
                                },
                                {
                                    "Sorszám": "11845",
                                    "Teljes összeg": "229530"
                                },
                                {
                                    "Sorszám": "11850",
                                    "Teljes összeg": "210150"
                                },
                                {
                                    "Sorszám": "11851",
                                    "Teljes összeg": "410070"
                                },
                                {
                                    "Sorszám": "11854",
                                    "Teljes összeg": "330710"
                                },
                                {
                                    "Sorszám": "11872",
                                    "Teljes összeg": "243310"
                                },
                                {
                                    "Sorszám": "11882",
                                    "Teljes összeg": "245870"
                                },
                                {
                                    "Sorszám": "11893",
                                    "Teljes összeg": "385790"
                                },
                                {
                                    "Sorszám": "11896",
                                    "Teljes összeg": "406350"
                                },
                                {
                                    "Sorszám": "11901",
                                    "Teljes összeg": "478300"
                                },
                                {
                                    "Sorszám": "11906",
                                    "Teljes összeg": "207600"
                                },
                                {
                                    "Sorszám": "11914",
                                    "Teljes összeg": "431800"
                                },
                                {
                                    "Sorszám": "11915",
                                    "Teljes összeg": "447930"
                                },
                                {
                                    "Sorszám": "11916",
                                    "Teljes összeg": "528560"
                                },
                                {
                                    "Sorszám": "11919",
                                    "Teljes összeg": "307410"
                                },
                                {
                                    "Sorszám": "11923",
                                    "Teljes összeg": "301700"
                                },
                                {
                                    "Sorszám": "11924",
                                    "Teljes összeg": "246810"
                                },
                                {
                                    "Sorszám": "11927",
                                    "Teljes összeg": "303500"
                                },
                                {
                                    "Sorszám": "11940",
                                    "Teljes összeg": "352950"
                                },
                                {
                                    "Sorszám": "11941",
                                    "Teljes összeg": "451990"
                                },
                                {
                                    "Sorszám": "11946",
                                    "Teljes összeg": "492620"
                                },
                                {
                                    "Sorszám": "11964",
                                    "Teljes összeg": "282530"
                                },
                                {
                                    "Sorszám": "12004",
                                    "Teljes összeg": "322110"
                                },
                                {
                                    "Sorszám": "12009",
                                    "Teljes összeg": "510980"
                                },
                                {
                                    "Sorszám": "12022",
                                    "Teljes összeg": "383070"
                                },
                                {
                                    "Sorszám": "12030",
                                    "Teljes összeg": "273570"
                                },
                                {
                                    "Sorszám": "12032",
                                    "Teljes összeg": "592570"
                                },
                                {
                                    "Sorszám": "12033",
                                    "Teljes összeg": "244390"
                                },
                                {
                                    "Sorszám": "12036",
                                    "Teljes összeg": "451930"
                                },
                                {
                                    "Sorszám": "12037",
                                    "Teljes összeg": "439870"
                                },
                                {
                                    "Sorszám": "12041",
                                    "Teljes összeg": "557150"
                                },
                                {
                                    "Sorszám": "12056",
                                    "Teljes összeg": "455550"
                                },
                                {
                                    "Sorszám": "12057",
                                    "Teljes összeg": "2168810"
                                },
                                {
                                    "Sorszám": "12065",
                                    "Teljes összeg": "388370"
                                },
                                {
                                    "Sorszám": "12088",
                                    "Teljes összeg": "337820"
                                },
                                {
                                    "Sorszám": "12101",
                                    "Teljes összeg": "678920"
                                },
                                {
                                    "Sorszám": "12103",
                                    "Teljes összeg": "212380"
                                },
                                {
                                    "Sorszám": "12113",
                                    "Teljes összeg": "273610"
                                },
                                {
                                    "Sorszám": "12114",
                                    "Teljes összeg": "252830"
                                },
                                {
                                    "Sorszám": "12115",
                                    "Teljes összeg": "240190"
                                },
                                {
                                    "Sorszám": "12128",
                                    "Teljes összeg": "377800"
                                },
                                {
                                    "Sorszám": "12131",
                                    "Teljes összeg": "1811230"
                                },
                                {
                                    "Sorszám": "12134",
                                    "Teljes összeg": "318610"
                                },
                                {
                                    "Sorszám": "12137",
                                    "Teljes összeg": "408330"
                                },
                                {
                                    "Sorszám": "12139",
                                    "Teljes összeg": "262940"
                                },
                                {
                                    "Sorszám": "12142",
                                    "Teljes összeg": "233800"
                                },
                                {
                                    "Sorszám": "12144",
                                    "Teljes összeg": "329650"
                                },
                                {
                                    "Sorszám": "12145",
                                    "Teljes összeg": "230650"
                                },
                                {
                                    "Sorszám": "12151",
                                    "Teljes összeg": "315890"
                                },
                                {
                                    "Sorszám": "12164",
                                    "Teljes összeg": "357620"
                                },
                                {
                                    "Sorszám": "12166",
                                    "Teljes összeg": "540470"
                                },
                                {
                                    "Sorszám": "12186",
                                    "Teljes összeg": "272570"
                                },
                                {
                                    "Sorszám": "12187",
                                    "Teljes összeg": "246410"
                                },
                                {
                                    "Sorszám": "12210",
                                    "Teljes összeg": "546210"
                                },
                                {
                                    "Sorszám": "12216",
                                    "Teljes összeg": "287360"
                                },
                                {
                                    "Sorszám": "12251",
                                    "Teljes összeg": "218770"
                                },
                                {
                                    "Sorszám": "12256",
                                    "Teljes összeg": "239060"
                                },
                                {
                                    "Sorszám": "12263",
                                    "Teljes összeg": "230280"
                                },
                                {
                                    "Sorszám": "12268",
                                    "Teljes összeg": "258990"
                                },
                                {
                                    "Sorszám": "12275",
                                    "Teljes összeg": "405090"
                                },
                                {
                                    "Sorszám": "12276",
                                    "Teljes összeg": "412490"
                                },
                                {
                                    "Sorszám": "12278",
                                    "Teljes összeg": "463150"
                                },
                                {
                                    "Sorszám": "12285",
                                    "Teljes összeg": "527340"
                                },
                                {
                                    "Sorszám": "12293",
                                    "Teljes összeg": "220560"
                                },
                                {
                                    "Sorszám": "12319",
                                    "Teljes összeg": "270880"
                                },
                                {
                                    "Sorszám": "12350",
                                    "Teljes összeg": "335510"
                                },
                                {
                                    "Sorszám": "12369",
                                    "Teljes összeg": "372490"
                                },
                                {
                                    "Sorszám": "12380",
                                    "Teljes összeg": "472860"
                                },
                                {
                                    "Sorszám": "12404",
                                    "Teljes összeg": "265890"
                                },
                                {
                                    "Sorszám": "12411",
                                    "Teljes összeg": "311890"
                                },
                                {
                                    "Sorszám": "12413",
                                    "Teljes összeg": "256860"
                                },
                                {
                                    "Sorszám": "12426",
                                    "Teljes összeg": "1557320"
                                },
                                {
                                    "Sorszám": "12430",
                                    "Teljes összeg": "369160"
                                },
                                {
                                    "Sorszám": "12431",
                                    "Teljes összeg": "273860"
                                },
                                {
                                    "Sorszám": "12434",
                                    "Teljes összeg": "1103180"
                                },
                                {
                                    "Sorszám": "12445",
                                    "Teljes összeg": "210400"
                                },
                                {
                                    "Sorszám": "12450",
                                    "Teljes összeg": "1020570"
                                },
                                {
                                    "Sorszám": "12453",
                                    "Teljes összeg": "325110"
                                },
                                {
                                    "Sorszám": "12464",
                                    "Teljes összeg": "264700"
                                },
                                {
                                    "Sorszám": "12491",
                                    "Teljes összeg": "263920"
                                },
                                {
                                    "Sorszám": "12503",
                                    "Teljes összeg": "283890"
                                },
                                {
                                    "Sorszám": "12526",
                                    "Teljes összeg": "219050"
                                },
                                {
                                    "Sorszám": "12532",
                                    "Teljes összeg": "299720"
                                },
                                {
                                    "Sorszám": "12536",
                                    "Teljes összeg": "411240"
                                },
                                {
                                    "Sorszám": "12540",
                                    "Teljes összeg": "307540"
                                },
                                {
                                    "Sorszám": "12550",
                                    "Teljes összeg": "634330"
                                },
                                {
                                    "Sorszám": "12555",
                                    "Teljes összeg": "225290"
                                },
                                {
                                    "Sorszám": "12563",
                                    "Teljes összeg": "290760"
                                },
                                {
                                    "Sorszám": "12565",
                                    "Teljes összeg": "679800"
                                },
                                {
                                    "Sorszám": "12584",
                                    "Teljes összeg": "509600"
                                },
                                {
                                    "Sorszám": "12599",
                                    "Teljes összeg": "715620"
                                },
                                {
                                    "Sorszám": "12600",
                                    "Teljes összeg": "248850"
                                },
                                {
                                    "Sorszám": "12612",
                                    "Teljes összeg": "238900"
                                },
                                {
                                    "Sorszám": "12626",
                                    "Teljes összeg": "669340"
                                },
                                {
                                    "Sorszám": "12630",
                                    "Teljes összeg": "298360"
                                },
                                {
                                    "Sorszám": "12636",
                                    "Teljes összeg": "248370"
                                },
                                {
                                    "Sorszám": "12644",
                                    "Teljes összeg": "284340"
                                },
                                {
                                    "Sorszám": "12657",
                                    "Teljes összeg": "463310"
                                },
                                {
                                    "Sorszám": "12671",
                                    "Teljes összeg": "456830"
                                },
                                {
                                    "Sorszám": "12673",
                                    "Teljes összeg": "615670"
                                },
                                {
                                    "Sorszám": "12677",
                                    "Teljes összeg": "587710"
                                },
                                {
                                    "Sorszám": "12678",
                                    "Teljes összeg": "369710"
                                },
                                {
                                    "Sorszám": "12682",
                                    "Teljes összeg": "437540"
                                },
                                {
                                    "Sorszám": "12686",
                                    "Teljes összeg": "254530"
                                },
                                {
                                    "Sorszám": "12701",
                                    "Teljes összeg": "368630"
                                },
                                {
                                    "Sorszám": "12710",
                                    "Teljes összeg": "888150"
                                },
                                {
                                    "Sorszám": "12716",
                                    "Teljes összeg": "336480"
                                },
                                {
                                    "Sorszám": "12717",
                                    "Teljes összeg": "227300"
                                },
                                {
                                    "Sorszám": "12738",
                                    "Teljes összeg": "262680"
                                },
                                {
                                    "Sorszám": "12741",
                                    "Teljes összeg": "264620"
                                },
                                {
                                    "Sorszám": "12752",
                                    "Teljes összeg": "241870"
                                },
                                {
                                    "Sorszám": "12766",
                                    "Teljes összeg": "283650"
                                },
                                {
                                    "Sorszám": "12768",
                                    "Teljes összeg": "249100"
                                },
                                {
                                    "Sorszám": "12772",
                                    "Teljes összeg": "298090"
                                },
                                {
                                    "Sorszám": "12779",
                                    "Teljes összeg": "426250"
                                },
                                {
                                    "Sorszám": "12781",
                                    "Teljes összeg": "227900"
                                },
                                {
                                    "Sorszám": "12786",
                                    "Teljes összeg": "378760"
                                },
                                {
                                    "Sorszám": "12787",
                                    "Teljes összeg": "247090"
                                },
                                {
                                    "Sorszám": "12791",
                                    "Teljes összeg": "238020"
                                },
                                {
                                    "Sorszám": "12798",
                                    "Teljes összeg": "303270"
                                },
                                {
                                    "Sorszám": "12801",
                                    "Teljes összeg": "316020"
                                },
                                {
                                    "Sorszám": "12822",
                                    "Teljes összeg": "392500"
                                },
                                {
                                    "Sorszám": "12823",
                                    "Teljes összeg": "1587090"
                                },
                                {
                                    "Sorszám": "12837",
                                    "Teljes összeg": "301280"
                                },
                                {
                                    "Sorszám": "12839",
                                    "Teljes összeg": "309250"
                                },
                                {
                                    "Sorszám": "12842",
                                    "Teljes összeg": "236350"
                                },
                                {
                                    "Sorszám": "12861",
                                    "Teljes összeg": "294870"
                                },
                                {
                                    "Sorszám": "12868",
                                    "Teljes összeg": "274760"
                                },
                                {
                                    "Sorszám": "12880",
                                    "Teljes összeg": "256470"
                                },
                                {
                                    "Sorszám": "12891",
                                    "Teljes összeg": "431340"
                                },
                                {
                                    "Sorszám": "12900",
                                    "Teljes összeg": "448140"
                                },
                                {
                                    "Sorszám": "12908",
                                    "Teljes összeg": "289120"
                                },
                                {
                                    "Sorszám": "12920",
                                    "Teljes összeg": "1794900"
                                },
                                {
                                    "Sorszám": "12941",
                                    "Teljes összeg": "337090"
                                },
                                {
                                    "Sorszám": "12949",
                                    "Teljes összeg": "207990"
                                },
                                {
                                    "Sorszám": "12951",
                                    "Teljes összeg": "483380"
                                },
                                {
                                    "Sorszám": "12955",
                                    "Teljes összeg": "226130"
                                },
                                {
                                    "Sorszám": "12968",
                                    "Teljes összeg": "255840"
                                },
                                {
                                    "Sorszám": "12976",
                                    "Teljes összeg": "441460"
                                },
                                {
                                    "Sorszám": "12981",
                                    "Teljes összeg": "405130"
                                },
                                {
                                    "Sorszám": "12992",
                                    "Teljes összeg": "381730"
                                },
                                {
                                    "Sorszám": "12996",
                                    "Teljes összeg": "244290"
                                },
                                {
                                    "Sorszám": "13002",
                                    "Teljes összeg": "592900"
                                },
                                {
                                    "Sorszám": "13007",
                                    "Teljes összeg": "404740"
                                },
                                {
                                    "Sorszám": "13011",
                                    "Teljes összeg": "215770"
                                },
                                {
                                    "Sorszám": "13019",
                                    "Teljes összeg": "321390"
                                },
                                {
                                    "Sorszám": "13023",
                                    "Teljes összeg": "267230"
                                },
                                {
                                    "Sorszám": "13028",
                                    "Teljes összeg": "269920"
                                },
                                {
                                    "Sorszám": "13049",
                                    "Teljes összeg": "486380"
                                },
                                {
                                    "Sorszám": "13061",
                                    "Teljes összeg": "238400"
                                },
                                {
                                    "Sorszám": "13074",
                                    "Teljes összeg": "300850"
                                },
                                {
                                    "Sorszám": "13116",
                                    "Teljes összeg": "426050"
                                },
                                {
                                    "Sorszám": "13120",
                                    "Teljes összeg": "294310"
                                },
                                {
                                    "Sorszám": "13129",
                                    "Teljes összeg": "382620"
                                },
                                {
                                    "Sorszám": "13130",
                                    "Teljes összeg": "375020"
                                },
                                {
                                    "Sorszám": "13132",
                                    "Teljes összeg": "280910"
                                },
                                {
                                    "Sorszám": "13135",
                                    "Teljes összeg": "205330"
                                },
                                {
                                    "Sorszám": "13136",
                                    "Teljes összeg": "208800"
                                },
                                {
                                    "Sorszám": "13137",
                                    "Teljes összeg": "477760"
                                },
                                {
                                    "Sorszám": "13157",
                                    "Teljes összeg": "216680"
                                },
                                {
                                    "Sorszám": "13169",
                                    "Teljes összeg": "574050"
                                },
                                {
                                    "Sorszám": "13171",
                                    "Teljes összeg": "291240"
                                },
                                {
                                    "Sorszám": "13190",
                                    "Teljes összeg": "234030"
                                },
                                {
                                    "Sorszám": "13197",
                                    "Teljes összeg": "316260"
                                },
                                {
                                    "Sorszám": "13198",
                                    "Teljes összeg": "466810"
                                },
                                {
                                    "Sorszám": "13215",
                                    "Teljes összeg": "431110"
                                },
                                {
                                    "Sorszám": "13232",
                                    "Teljes összeg": "236840"
                                },
                                {
                                    "Sorszám": "13243",
                                    "Teljes összeg": "559540"
                                },
                                {
                                    "Sorszám": "13249",
                                    "Teljes összeg": "559330"
                                },
                                {
                                    "Sorszám": "13260",
                                    "Teljes összeg": "1043130"
                                },
                                {
                                    "Sorszám": "13262",
                                    "Teljes összeg": "270300"
                                },
                                {
                                    "Sorszám": "13267",
                                    "Teljes összeg": "998230"
                                },
                                {
                                    "Sorszám": "13272",
                                    "Teljes összeg": "399930"
                                },
                                {
                                    "Sorszám": "13284",
                                    "Teljes összeg": "346050"
                                },
                                {
                                    "Sorszám": "13287",
                                    "Teljes összeg": "721920"
                                },
                                {
                                    "Sorszám": "13293",
                                    "Teljes összeg": "335200"
                                },
                                {
                                    "Sorszám": "13303",
                                    "Teljes összeg": "500380"
                                },
                                {
                                    "Sorszám": "13314",
                                    "Teljes összeg": "471120"
                                },
                                {
                                    "Sorszám": "13315",
                                    "Teljes összeg": "457680"
                                },
                                {
                                    "Sorszám": "13318",
                                    "Teljes összeg": "394870"
                                },
                                {
                                    "Sorszám": "13321",
                                    "Teljes összeg": "348860"
                                },
                                {
                                    "Sorszám": "13333",
                                    "Teljes összeg": "408580"
                                },
                                {
                                    "Sorszám": "13353",
                                    "Teljes összeg": "411620"
                                },
                                {
                                    "Sorszám": "13360",
                                    "Teljes összeg": "1327310"
                                },
                                {
                                    "Sorszám": "13362",
                                    "Teljes összeg": "205990"
                                },
                                {
                                    "Sorszám": "13374",
                                    "Teljes összeg": "522480"
                                },
                                {
                                    "Sorszám": "13375",
                                    "Teljes összeg": "524340"
                                },
                                {
                                    "Sorszám": "13379",
                                    "Teljes összeg": "421510"
                                },
                                {
                                    "Sorszám": "13396",
                                    "Teljes összeg": "219450"
                                },
                                {
                                    "Sorszám": "13403",
                                    "Teljes összeg": "593440"
                                },
                                {
                                    "Sorszám": "13408",
                                    "Teljes összeg": "240900"
                                },
                                {
                                    "Sorszám": "13414",
                                    "Teljes összeg": "304500"
                                },
                                {
                                    "Sorszám": "13417",
                                    "Teljes összeg": "247670"
                                },
                                {
                                    "Sorszám": "13444",
                                    "Teljes összeg": "268230"
                                },
                                {
                                    "Sorszám": "13449",
                                    "Teljes összeg": "273410"
                                },
                                {
                                    "Sorszám": "13460",
                                    "Teljes összeg": "352890"
                                },
                                {
                                    "Sorszám": "13486",
                                    "Teljes összeg": "439360"
                                },
                                {
                                    "Sorszám": "13487",
                                    "Teljes összeg": "360960"
                                },
                                {
                                    "Sorszám": "13516",
                                    "Teljes összeg": "241630"
                                },
                                {
                                    "Sorszám": "13522",
                                    "Teljes összeg": "246210"
                                },
                                {
                                    "Sorszám": "13528",
                                    "Teljes összeg": "319050"
                                },
                                {
                                    "Sorszám": "13533",
                                    "Teljes összeg": "222940"
                                },
                                {
                                    "Sorszám": "13553",
                                    "Teljes összeg": "465840"
                                },
                                {
                                    "Sorszám": "13569",
                                    "Teljes összeg": "337320"
                                },
                                {
                                    "Sorszám": "13572",
                                    "Teljes összeg": "285550"
                                },
                                {
                                    "Sorszám": "13576",
                                    "Teljes összeg": "415840"
                                },
                                {
                                    "Sorszám": "13581",
                                    "Teljes összeg": "488060"
                                },
                                {
                                    "Sorszám": "13594",
                                    "Teljes összeg": "385900"
                                },
                                {
                                    "Sorszám": "13595",
                                    "Teljes összeg": "402130"
                                },
                                {
                                    "Sorszám": "13604",
                                    "Teljes összeg": "1340170"
                                },
                                {
                                    "Sorszám": "13605",
                                    "Teljes összeg": "236600"
                                },
                                {
                                    "Sorszám": "13610",
                                    "Teljes összeg": "2029730"
                                },
                                {
                                    "Sorszám": "13613",
                                    "Teljes összeg": "247590"
                                },
                                {
                                    "Sorszám": "13628",
                                    "Teljes összeg": "512300"
                                },
                                {
                                    "Sorszám": "13636",
                                    "Teljes összeg": "292510"
                                },
                                {
                                    "Sorszám": "13647",
                                    "Teljes összeg": "208920"
                                },
                                {
                                    "Sorszám": "13658",
                                    "Teljes összeg": "311230"
                                },
                                {
                                    "Sorszám": "13663",
                                    "Teljes összeg": "241750"
                                },
                                {
                                    "Sorszám": "13673",
                                    "Teljes összeg": "371730"
                                },
                                {
                                    "Sorszám": "13674",
                                    "Teljes összeg": "1807270"
                                },
                                {
                                    "Sorszám": "13680",
                                    "Teljes összeg": "236730"
                                },
                                {
                                    "Sorszám": "13687",
                                    "Teljes összeg": "365490"
                                },
                                {
                                    "Sorszám": "13698",
                                    "Teljes összeg": "234780"
                                },
                                {
                                    "Sorszám": "13709",
                                    "Teljes összeg": "223060"
                                },
                                {
                                    "Sorszám": "13712",
                                    "Teljes összeg": "222110"
                                },
                                {
                                    "Sorszám": "13718",
                                    "Teljes összeg": "506710"
                                },
                                {
                                    "Sorszám": "13725",
                                    "Teljes összeg": "291230"
                                },
                                {
                                    "Sorszám": "13733",
                                    "Teljes összeg": "917010"
                                },
                                {
                                    "Sorszám": "13740",
                                    "Teljes összeg": "469810"
                                },
                                {
                                    "Sorszám": "13750",
                                    "Teljes összeg": "334680"
                                },
                                {
                                    "Sorszám": "13752",
                                    "Teljes összeg": "1181870"
                                },
                                {
                                    "Sorszám": "13764",
                                    "Teljes összeg": "294260"
                                },
                                {
                                    "Sorszám": "13774",
                                    "Teljes összeg": "288420"
                                },
                                {
                                    "Sorszám": "13781",
                                    "Teljes összeg": "600890"
                                },
                                {
                                    "Sorszám": "13793",
                                    "Teljes összeg": "257770"
                                },
                                {
                                    "Sorszám": "13817",
                                    "Teljes összeg": "584980"
                                },
                                {
                                    "Sorszám": "13821",
                                    "Teljes összeg": "448590"
                                },
                                {
                                    "Sorszám": "13831",
                                    "Teljes összeg": "428770"
                                },
                                {
                                    "Sorszám": "13835",
                                    "Teljes összeg": "288420"
                                },
                                {
                                    "Sorszám": "13843",
                                    "Teljes összeg": "228380"
                                },
                                {
                                    "Sorszám": "13844",
                                    "Teljes összeg": "330660"
                                },
                                {
                                    "Sorszám": "13848",
                                    "Teljes összeg": "258640"
                                },
                                {
                                    "Sorszám": "13868",
                                    "Teljes összeg": "254570"
                                },
                                {
                                    "Sorszám": "13875",
                                    "Teljes összeg": "243590"
                                },
                                {
                                    "Sorszám": "13899",
                                    "Teljes összeg": "1152640"
                                },
                                {
                                    "Sorszám": "13906",
                                    "Teljes összeg": "1164590"
                                },
                                {
                                    "Sorszám": "13916",
                                    "Teljes összeg": "213270"
                                },
                                {
                                    "Sorszám": "13923",
                                    "Teljes összeg": "336610"
                                },
                                {
                                    "Sorszám": "13929",
                                    "Teljes összeg": "420870"
                                },
                                {
                                    "Sorszám": "13932",
                                    "Teljes összeg": "472540"
                                },
                                {
                                    "Sorszám": "13944",
                                    "Teljes összeg": "240590"
                                },
                                {
                                    "Sorszám": "13957",
                                    "Teljes összeg": "632700"
                                },
                                {
                                    "Sorszám": "13969",
                                    "Teljes összeg": "451820"
                                },
                                {
                                    "Sorszám": "13992",
                                    "Teljes összeg": "420000"
                                },
                                {
                                    "Sorszám": "13993",
                                    "Teljes összeg": "399790"
                                },
                                {
                                    "Sorszám": "13996",
                                    "Teljes összeg": "217110"
                                },
                                {
                                    "Sorszám": "13997",
                                    "Teljes összeg": "322590"
                                },
                                {
                                    "Sorszám": "14005",
                                    "Teljes összeg": "211890"
                                },
                                {
                                    "Sorszám": "14007",
                                    "Teljes összeg": "206210"
                                },
                                {
                                    "Sorszám": "14013",
                                    "Teljes összeg": "372520"
                                },
                                {
                                    "Sorszám": "14027",
                                    "Teljes összeg": "393850"
                                },
                                {
                                    "Sorszám": "14030",
                                    "Teljes összeg": "420840"
                                },
                                {
                                    "Sorszám": "14067",
                                    "Teljes összeg": "525820"
                                },
                                {
                                    "Sorszám": "14073",
                                    "Teljes összeg": "320380"
                                },
                                {
                                    "Sorszám": "14076",
                                    "Teljes összeg": "425940"
                                },
                                {
                                    "Sorszám": "14084",
                                    "Teljes összeg": "548200"
                                },
                                {
                                    "Sorszám": "14085",
                                    "Teljes összeg": "211640"
                                },
                                {
                                    "Sorszám": "14088",
                                    "Teljes összeg": "232210"
                                },
                                {
                                    "Sorszám": "14097",
                                    "Teljes összeg": "1113150"
                                },
                                {
                                    "Sorszám": "14109",
                                    "Teljes összeg": "1121540"
                                },
                                {
                                    "Sorszám": "14112",
                                    "Teljes összeg": "266190"
                                },
                                {
                                    "Sorszám": "14143",
                                    "Teljes összeg": "520090"
                                },
                                {
                                    "Sorszám": "14151",
                                    "Teljes összeg": "385700"
                                },
                                {
                                    "Sorszám": "14167",
                                    "Teljes összeg": "257890"
                                },
                                {
                                    "Sorszám": "14168",
                                    "Teljes összeg": "225930"
                                },
                                {
                                    "Sorszám": "14170",
                                    "Teljes összeg": "225150"
                                },
                                {
                                    "Sorszám": "14171",
                                    "Teljes összeg": "267210"
                                },
                                {
                                    "Sorszám": "14174",
                                    "Teljes összeg": "1340650"
                                },
                                {
                                    "Sorszám": "14176",
                                    "Teljes összeg": "265960"
                                },
                                {
                                    "Sorszám": "14186",
                                    "Teljes összeg": "210070"
                                },
                                {
                                    "Sorszám": "14189",
                                    "Teljes összeg": "263770"
                                },
                                {
                                    "Sorszám": "14192",
                                    "Teljes összeg": "288620"
                                },
                                {
                                    "Sorszám": "14201",
                                    "Teljes összeg": "306240"
                                },
                                {
                                    "Sorszám": "14210",
                                    "Teljes összeg": "311360"
                                },
                                {
                                    "Sorszám": "14212",
                                    "Teljes összeg": "246400"
                                },
                                {
                                    "Sorszám": "14217",
                                    "Teljes összeg": "503090"
                                },
                                {
                                    "Sorszám": "14233",
                                    "Teljes összeg": "396210"
                                },
                                {
                                    "Sorszám": "14235",
                                    "Teljes összeg": "208560"
                                },
                                {
                                    "Sorszám": "14241",
                                    "Teljes összeg": "464860"
                                },
                                {
                                    "Sorszám": "14242",
                                    "Teljes összeg": "510680"
                                },
                                {
                                    "Sorszám": "14248",
                                    "Teljes összeg": "442920"
                                },
                                {
                                    "Sorszám": "14250",
                                    "Teljes összeg": "253710"
                                },
                                {
                                    "Sorszám": "14275",
                                    "Teljes összeg": "343350"
                                },
                                {
                                    "Sorszám": "14278",
                                    "Teljes összeg": "288300"
                                },
                                {
                                    "Sorszám": "14280",
                                    "Teljes összeg": "480220"
                                },
                                {
                                    "Sorszám": "14289",
                                    "Teljes összeg": "294290"
                                },
                                {
                                    "Sorszám": "14320",
                                    "Teljes összeg": "299650"
                                },
                                {
                                    "Sorszám": "14342",
                                    "Teljes összeg": "2047540"
                                },
                                {
                                    "Sorszám": "14352",
                                    "Teljes összeg": "377600"
                                },
                                {
                                    "Sorszám": "14373",
                                    "Teljes összeg": "387990"
                                },
                                {
                                    "Sorszám": "14377",
                                    "Teljes összeg": "215750"
                                },
                                {
                                    "Sorszám": "14381",
                                    "Teljes összeg": "277990"
                                },
                                {
                                    "Sorszám": "14389",
                                    "Teljes összeg": "240000"
                                },
                                {
                                    "Sorszám": "14400",
                                    "Teljes összeg": "455740"
                                },
                                {
                                    "Sorszám": "14404",
                                    "Teljes összeg": "384230"
                                },
                                {
                                    "Sorszám": "14409",
                                    "Teljes összeg": "240210"
                                },
                                {
                                    "Sorszám": "14414",
                                    "Teljes összeg": "618400"
                                },
                                {
                                    "Sorszám": "14422",
                                    "Teljes összeg": "685480"
                                },
                                {
                                    "Sorszám": "14424",
                                    "Teljes összeg": "435540"
                                },
                                {
                                    "Sorszám": "14429",
                                    "Teljes összeg": "1341040"
                                },
                                {
                                    "Sorszám": "14430",
                                    "Teljes összeg": "267970"
                                },
                                {
                                    "Sorszám": "14432",
                                    "Teljes összeg": "360700"
                                },
                                {
                                    "Sorszám": "14441",
                                    "Teljes összeg": "274960"
                                },
                                {
                                    "Sorszám": "14461",
                                    "Teljes összeg": "236350"
                                },
                                {
                                    "Sorszám": "14465",
                                    "Teljes összeg": "565920"
                                },
                                {
                                    "Sorszám": "14468",
                                    "Teljes összeg": "911300"
                                },
                                {
                                    "Sorszám": "14470",
                                    "Teljes összeg": "360110"
                                },
                                {
                                    "Sorszám": "14476",
                                    "Teljes összeg": "234950"
                                },
                                {
                                    "Sorszám": "14483",
                                    "Teljes összeg": "217460"
                                },
                                {
                                    "Sorszám": "14487",
                                    "Teljes összeg": "492010"
                                },
                                {
                                    "Sorszám": "14488",
                                    "Teljes összeg": "213810"
                                },
                                {
                                    "Sorszám": "14489",
                                    "Teljes összeg": "424910"
                                },
                                {
                                    "Sorszám": "14492",
                                    "Teljes összeg": "293690"
                                },
                                {
                                    "Sorszám": "14496",
                                    "Teljes összeg": "1027140"
                                },
                                {
                                    "Sorszám": "14505",
                                    "Teljes összeg": "463240"
                                },
                                {
                                    "Sorszám": "14514",
                                    "Teljes összeg": "229080"
                                },
                                {
                                    "Sorszám": "14515",
                                    "Teljes összeg": "328660"
                                },
                                {
                                    "Sorszám": "14535",
                                    "Teljes összeg": "444030"
                                },
                                {
                                    "Sorszám": "14536",
                                    "Teljes összeg": "2037200"
                                },
                                {
                                    "Sorszám": "14540",
                                    "Teljes összeg": "442970"
                                },
                                {
                                    "Sorszám": "14541",
                                    "Teljes összeg": "301400"
                                },
                                {
                                    "Sorszám": "14542",
                                    "Teljes összeg": "254060"
                                },
                                {
                                    "Sorszám": "14546",
                                    "Teljes összeg": "447150"
                                },
                                {
                                    "Sorszám": "14547",
                                    "Teljes összeg": "219390"
                                },
                                {
                                    "Sorszám": "14570",
                                    "Teljes összeg": "272230"
                                },
                                {
                                    "Sorszám": "14572",
                                    "Teljes összeg": "633040"
                                },
                                {
                                    "Sorszám": "14575",
                                    "Teljes összeg": "456680"
                                },
                                {
                                    "Sorszám": "14600",
                                    "Teljes összeg": "338850"
                                },
                                {
                                    "Sorszám": "14606",
                                    "Teljes összeg": "229110"
                                },
                                {
                                    "Sorszám": "14611",
                                    "Teljes összeg": "293890"
                                },
                                {
                                    "Sorszám": "14612",
                                    "Teljes összeg": "333870"
                                },
                                {
                                    "Sorszám": "14613",
                                    "Teljes összeg": "321310"
                                },
                                {
                                    "Sorszám": "14614",
                                    "Teljes összeg": "210460"
                                },
                                {
                                    "Sorszám": "14627",
                                    "Teljes összeg": "549090"
                                },
                                {
                                    "Sorszám": "14634",
                                    "Teljes összeg": "223610"
                                },
                                {
                                    "Sorszám": "14640",
                                    "Teljes összeg": "231260"
                                },
                                {
                                    "Sorszám": "14642",
                                    "Teljes összeg": "1140550"
                                },
                                {
                                    "Sorszám": "14646",
                                    "Teljes összeg": "337160"
                                },
                                {
                                    "Sorszám": "14655",
                                    "Teljes összeg": "217610"
                                },
                                {
                                    "Sorszám": "14656",
                                    "Teljes összeg": "394850"
                                },
                                {
                                    "Sorszám": "14667",
                                    "Teljes összeg": "461100"
                                },
                                {
                                    "Sorszám": "14669",
                                    "Teljes összeg": "365880"
                                },
                                {
                                    "Sorszám": "14675",
                                    "Teljes összeg": "216800"
                                },
                                {
                                    "Sorszám": "14678",
                                    "Teljes összeg": "457980"
                                },
                                {
                                    "Sorszám": "14714",
                                    "Teljes összeg": "232620"
                                },
                                {
                                    "Sorszám": "14748",
                                    "Teljes összeg": "240890"
                                },
                                {
                                    "Sorszám": "14750",
                                    "Teljes összeg": "637290"
                                },
                                {
                                    "Sorszám": "14753",
                                    "Teljes összeg": "377040"
                                },
                                {
                                    "Sorszám": "14760",
                                    "Teljes összeg": "750040"
                                },
                                {
                                    "Sorszám": "14775",
                                    "Teljes összeg": "427630"
                                },
                                {
                                    "Sorszám": "14782",
                                    "Teljes összeg": "1309560"
                                },
                                {
                                    "Sorszám": "14805",
                                    "Teljes összeg": "269540"
                                },
                                {
                                    "Sorszám": "14807",
                                    "Teljes összeg": "237810"
                                },
                                {
                                    "Sorszám": "14818",
                                    "Teljes összeg": "455060"
                                },
                                {
                                    "Sorszám": "14821",
                                    "Teljes összeg": "215380"
                                },
                                {
                                    "Sorszám": "14830",
                                    "Teljes összeg": "427770"
                                },
                                {
                                    "Sorszám": "14848",
                                    "Teljes összeg": "692070"
                                },
                                {
                                    "Sorszám": "14850",
                                    "Teljes összeg": "291380"
                                },
                                {
                                    "Sorszám": "14854",
                                    "Teljes összeg": "387940"
                                },
                                {
                                    "Sorszám": "14859",
                                    "Teljes összeg": "306550"
                                },
                                {
                                    "Sorszám": "14872",
                                    "Teljes összeg": "746180"
                                },
                                {
                                    "Sorszám": "14908",
                                    "Teljes összeg": "222930"
                                },
                                {
                                    "Sorszám": "14913",
                                    "Teljes összeg": "314170"
                                },
                                {
                                    "Sorszám": "14923",
                                    "Teljes összeg": "220580"
                                },
                                {
                                    "Sorszám": "14930",
                                    "Teljes összeg": "293800"
                                },
                                {
                                    "Sorszám": "14932",
                                    "Teljes összeg": "314940"
                                },
                                {
                                    "Sorszám": "14933",
                                    "Teljes összeg": "212390"
                                },
                                {
                                    "Sorszám": "14940",
                                    "Teljes összeg": "797490"
                                },
                                {
                                    "Sorszám": "14944",
                                    "Teljes összeg": "328780"
                                },
                                {
                                    "Sorszám": "14953",
                                    "Teljes összeg": "438650"
                                },
                                {
                                    "Sorszám": "14955",
                                    "Teljes összeg": "284960"
                                },
                                {
                                    "Sorszám": "14959",
                                    "Teljes összeg": "439060"
                                },
                                {
                                    "Sorszám": "14965",
                                    "Teljes összeg": "216160"
                                },
                                {
                                    "Sorszám": "14986",
                                    "Teljes összeg": "297400"
                                },
                                {
                                    "Sorszám": "14989",
                                    "Teljes összeg": "619590"
                                },
                                {
                                    "Sorszám": "14992",
                                    "Teljes összeg": "339460"
                                },
                                {
                                    "Sorszám": "15001",
                                    "Teljes összeg": "492410"
                                },
                                {
                                    "Sorszám": "15008",
                                    "Teljes összeg": "415650"
                                },
                                {
                                    "Sorszám": "15011",
                                    "Teljes összeg": "366120"
                                },
                                {
                                    "Sorszám": "15024",
                                    "Teljes összeg": "267400"
                                },
                                {
                                    "Sorszám": "15025",
                                    "Teljes összeg": "462550"
                                },
                                {
                                    "Sorszám": "15039",
                                    "Teljes összeg": "307090"
                                },
                                {
                                    "Sorszám": "15043",
                                    "Teljes összeg": "231910"
                                },
                                {
                                    "Sorszám": "15047",
                                    "Teljes összeg": "324730"
                                },
                                {
                                    "Sorszám": "15053",
                                    "Teljes összeg": "289760"
                                },
                                {
                                    "Sorszám": "15059",
                                    "Teljes összeg": "534300"
                                },
                                {
                                    "Sorszám": "15068",
                                    "Teljes összeg": "412820"
                                },
                                {
                                    "Sorszám": "15069",
                                    "Teljes összeg": "306850"
                                },
                                {
                                    "Sorszám": "15084",
                                    "Teljes összeg": "336560"
                                },
                                {
                                    "Sorszám": "15090",
                                    "Teljes összeg": "586370"
                                },
                                {
                                    "Sorszám": "15101",
                                    "Teljes összeg": "1021620"
                                },
                                {
                                    "Sorszám": "15116",
                                    "Teljes összeg": "862370"
                                },
                                {
                                    "Sorszám": "15129",
                                    "Teljes összeg": "1605660"
                                },
                                {
                                    "Sorszám": "15131",
                                    "Teljes összeg": "240270"
                                },
                                {
                                    "Sorszám": "15141",
                                    "Teljes összeg": "268770"
                                },
                                {
                                    "Sorszám": "15148",
                                    "Teljes összeg": "260000"
                                },
                                {
                                    "Sorszám": "15150",
                                    "Teljes összeg": "748130"
                                },
                                {
                                    "Sorszám": "15155",
                                    "Teljes összeg": "677070"
                                },
                                {
                                    "Sorszám": "15157",
                                    "Teljes összeg": "872300"
                                },
                                {
                                    "Sorszám": "15164",
                                    "Teljes összeg": "497010"
                                },
                                {
                                    "Sorszám": "15165",
                                    "Teljes összeg": "292650"
                                },
                                {
                                    "Sorszám": "15166",
                                    "Teljes összeg": "557860"
                                },
                                {
                                    "Sorszám": "15170",
                                    "Teljes összeg": "238490"
                                },
                                {
                                    "Sorszám": "15179",
                                    "Teljes összeg": "302650"
                                },
                                {
                                    "Sorszám": "15183",
                                    "Teljes összeg": "341140"
                                },
                                {
                                    "Sorszám": "15201",
                                    "Teljes összeg": "262720"
                                },
                                {
                                    "Sorszám": "15204",
                                    "Teljes összeg": "699360"
                                },
                                {
                                    "Sorszám": "15208",
                                    "Teljes összeg": "384880"
                                },
                                {
                                    "Sorszám": "15219",
                                    "Teljes összeg": "286050"
                                },
                                {
                                    "Sorszám": "15227",
                                    "Teljes összeg": "262540"
                                },
                                {
                                    "Sorszám": "15240",
                                    "Teljes összeg": "416750"
                                },
                                {
                                    "Sorszám": "15260",
                                    "Teljes összeg": "405090"
                                },
                                {
                                    "Sorszám": "15264",
                                    "Teljes összeg": "411400"
                                },
                                {
                                    "Sorszám": "15288",
                                    "Teljes összeg": "236050"
                                },
                                {
                                    "Sorszám": "15293",
                                    "Teljes összeg": "1111450"
                                },
                                {
                                    "Sorszám": "15314",
                                    "Teljes összeg": "267450"
                                },
                                {
                                    "Sorszám": "15327",
                                    "Teljes összeg": "1303520"
                                },
                                {
                                    "Sorszám": "15345",
                                    "Teljes összeg": "338890"
                                },
                                {
                                    "Sorszám": "15347",
                                    "Teljes összeg": "237340"
                                },
                                {
                                    "Sorszám": "15349",
                                    "Teljes összeg": "449040"
                                },
                                {
                                    "Sorszám": "15360",
                                    "Teljes összeg": "1288750"
                                },
                                {
                                    "Sorszám": "15364",
                                    "Teljes összeg": "418940"
                                },
                                {
                                    "Sorszám": "15384",
                                    "Teljes összeg": "362430"
                                },
                                {
                                    "Sorszám": "15392",
                                    "Teljes összeg": "528200"
                                },
                                {
                                    "Sorszám": "15423",
                                    "Teljes összeg": "227560"
                                },
                                {
                                    "Sorszám": "15440",
                                    "Teljes összeg": "575500"
                                },
                                {
                                    "Sorszám": "15458",
                                    "Teljes összeg": "473730"
                                },
                                {
                                    "Sorszám": "15460",
                                    "Teljes összeg": "471230"
                                },
                                {
                                    "Sorszám": "15461",
                                    "Teljes összeg": "252890"
                                },
                                {
                                    "Sorszám": "15498",
                                    "Teljes összeg": "482350"
                                },
                                {
                                    "Sorszám": "15510",
                                    "Teljes összeg": "221300"
                                },
                                {
                                    "Sorszám": "15517",
                                    "Teljes összeg": "402150"
                                },
                                {
                                    "Sorszám": "15535",
                                    "Teljes összeg": "557730"
                                },
                                {
                                    "Sorszám": "15536",
                                    "Teljes összeg": "229900"
                                },
                                {
                                    "Sorszám": "15544",
                                    "Teljes összeg": "374930"
                                },
                                {
                                    "Sorszám": "15555",
                                    "Teljes összeg": "494530"
                                },
                                {
                                    "Sorszám": "15559",
                                    "Teljes összeg": "391210"
                                },
                                {
                                    "Sorszám": "15570",
                                    "Teljes összeg": "330430"
                                },
                                {
                                    "Sorszám": "15571",
                                    "Teljes összeg": "265950"
                                },
                                {
                                    "Sorszám": "15573",
                                    "Teljes összeg": "538210"
                                },
                                {
                                    "Sorszám": "15577",
                                    "Teljes összeg": "388190"
                                },
                                {
                                    "Sorszám": "15584",
                                    "Teljes összeg": "1178880"
                                },
                                {
                                    "Sorszám": "15588",
                                    "Teljes összeg": "270075"
                                },
                                {
                                    "Sorszám": "15589",
                                    "Teljes összeg": "244620"
                                },
                                {
                                    "Sorszám": "15592",
                                    "Teljes összeg": "217850"
                                },
                                {
                                    "Sorszám": "15602",
                                    "Teljes összeg": "222630"
                                },
                                {
                                    "Sorszám": "15644",
                                    "Teljes összeg": "208370"
                                },
                                {
                                    "Sorszám": "15678",
                                    "Teljes összeg": "333110"
                                },
                                {
                                    "Sorszám": "15708",
                                    "Teljes összeg": "272050"
                                },
                                {
                                    "Sorszám": "15714",
                                    "Teljes összeg": "335710"
                                },
                                {
                                    "Sorszám": "15724",
                                    "Teljes összeg": "237420"
                                },
                                {
                                    "Sorszám": "15725",
                                    "Teljes összeg": "216550"
                                },
                                {
                                    "Sorszám": "15730",
                                    "Teljes összeg": "253880"
                                },
                                {
                                    "Sorszám": "15743",
                                    "Teljes összeg": "714650"
                                },
                                {
                                    "Sorszám": "15756",
                                    "Teljes összeg": "460970"
                                },
                                {
                                    "Sorszám": "15779",
                                    "Teljes összeg": "394060"
                                },
                                {
                                    "Sorszám": "15782",
                                    "Teljes összeg": "242920"
                                },
                                {
                                    "Sorszám": "15806",
                                    "Teljes összeg": "418830"
                                },
                                {
                                    "Sorszám": "15816",
                                    "Teljes összeg": "269420"
                                },
                                {
                                    "Sorszám": "15835",
                                    "Teljes összeg": "290210"
                                },
                                {
                                    "Sorszám": "15842",
                                    "Teljes összeg": "328270"
                                },
                                {
                                    "Sorszám": "15849",
                                    "Teljes összeg": "260450"
                                },
                                {
                                    "Sorszám": "15850",
                                    "Teljes összeg": "351110"
                                },
                                {
                                    "Sorszám": "15857",
                                    "Teljes összeg": "255700"
                                },
                                {
                                    "Sorszám": "15861",
                                    "Teljes összeg": "319100"
                                },
                                {
                                    "Sorszám": "15870",
                                    "Teljes összeg": "501900"
                                },
                                {
                                    "Sorszám": "15879",
                                    "Teljes összeg": "218840"
                                },
                                {
                                    "Sorszám": "15882",
                                    "Teljes összeg": "391940"
                                },
                                {
                                    "Sorszám": "15893",
                                    "Teljes összeg": "249900"
                                },
                                {
                                    "Sorszám": "15902",
                                    "Teljes összeg": "222510"
                                },
                                {
                                    "Sorszám": "15903",
                                    "Teljes összeg": "460780"
                                },
                                {
                                    "Sorszám": "15907",
                                    "Teljes összeg": "259590"
                                },
                                {
                                    "Sorszám": "15923",
                                    "Teljes összeg": "218130"
                                },
                                {
                                    "Sorszám": "15925",
                                    "Teljes összeg": "340370"
                                },
                                {
                                    "Sorszám": "15928",
                                    "Teljes összeg": "683850"
                                },
                                {
                                    "Sorszám": "15936",
                                    "Teljes összeg": "416430"
                                },
                                {
                                    "Sorszám": "15937",
                                    "Teljes összeg": "235570"
                                },
                                {
                                    "Sorszám": "15941",
                                    "Teljes összeg": "268970"
                                },
                                {
                                    "Sorszám": "15949",
                                    "Teljes összeg": "217040"
                                },
                                {
                                    "Sorszám": "15950",
                                    "Teljes összeg": "334390"
                                },
                                {
                                    "Sorszám": "15955",
                                    "Teljes összeg": "245030"
                                },
                                {
                                    "Sorszám": "15956",
                                    "Teljes összeg": "376100"
                                },
                                {
                                    "Sorszám": "15985",
                                    "Teljes összeg": "258110"
                                },
                                {
                                    "Sorszám": "15986",
                                    "Teljes összeg": "546120"
                                },
                                {
                                    "Sorszám": "15987",
                                    "Teljes összeg": "350260"
                                },
                                {
                                    "Sorszám": "15993",
                                    "Teljes összeg": "229460"
                                },
                                {
                                    "Sorszám": "16018",
                                    "Teljes összeg": "436760"
                                },
                                {
                                    "Sorszám": "16043",
                                    "Teljes összeg": "293790"
                                },
                                {
                                    "Sorszám": "16044",
                                    "Teljes összeg": "252380"
                                },
                                {
                                    "Sorszám": "16047",
                                    "Teljes összeg": "213310"
                                },
                                {
                                    "Sorszám": "16057",
                                    "Teljes összeg": "450940"
                                },
                                {
                                    "Sorszám": "16070",
                                    "Teljes összeg": "1780600"
                                },
                                {
                                    "Sorszám": "16077",
                                    "Teljes összeg": "209110"
                                },
                                {
                                    "Sorszám": "16082",
                                    "Teljes összeg": "527060"
                                },
                                {
                                    "Sorszám": "16083",
                                    "Teljes összeg": "326730"
                                },
                                {
                                    "Sorszám": "16084",
                                    "Teljes összeg": "215170"
                                },
                                {
                                    "Sorszám": "16090",
                                    "Teljes összeg": "439980"
                                },
                                {
                                    "Sorszám": "16095",
                                    "Teljes összeg": "276310"
                                },
                                {
                                    "Sorszám": "16117",
                                    "Teljes összeg": "361830"
                                },
                                {
                                    "Sorszám": "16165",
                                    "Teljes összeg": "244190"
                                },
                                {
                                    "Sorszám": "16170",
                                    "Teljes összeg": "219070"
                                },
                                {
                                    "Sorszám": "16181",
                                    "Teljes összeg": "268820"
                                },
                                {
                                    "Sorszám": "16182",
                                    "Teljes összeg": "379180"
                                },
                                {
                                    "Sorszám": "16189",
                                    "Teljes összeg": "617210"
                                },
                                {
                                    "Sorszám": "16195",
                                    "Teljes összeg": "215940"
                                },
                                {
                                    "Sorszám": "16200",
                                    "Teljes összeg": "280980"
                                },
                                {
                                    "Sorszám": "16206",
                                    "Teljes összeg": "314710"
                                },
                                {
                                    "Sorszám": "16216",
                                    "Teljes összeg": "390120"
                                },
                                {
                                    "Sorszám": "16220",
                                    "Teljes összeg": "343740"
                                },
                                {
                                    "Sorszám": "16224",
                                    "Teljes összeg": "387980"
                                },
                                {
                                    "Sorszám": "16230",
                                    "Teljes összeg": "450700"
                                },
                                {
                                    "Sorszám": "16251",
                                    "Teljes összeg": "1336530"
                                },
                                {
                                    "Sorszám": "16254",
                                    "Teljes összeg": "518100"
                                },
                                {
                                    "Sorszám": "16256",
                                    "Teljes összeg": "372890"
                                },
                                {
                                    "Sorszám": "16259",
                                    "Teljes összeg": "233210"
                                },
                                {
                                    "Sorszám": "16260",
                                    "Teljes összeg": "210420"
                                },
                                {
                                    "Sorszám": "16271",
                                    "Teljes összeg": "432110"
                                },
                                {
                                    "Sorszám": "16276",
                                    "Teljes összeg": "560960"
                                },
                                {
                                    "Sorszám": "16280",
                                    "Teljes összeg": "315460"
                                },
                                {
                                    "Sorszám": "16282",
                                    "Teljes összeg": "232400"
                                },
                                {
                                    "Sorszám": "16283",
                                    "Teljes összeg": "235470"
                                },
                                {
                                    "Sorszám": "16286",
                                    "Teljes összeg": "242260"
                                },
                                {
                                    "Sorszám": "16296",
                                    "Teljes összeg": "391020"
                                },
                                {
                                    "Sorszám": "16298",
                                    "Teljes összeg": "897670"
                                },
                                {
                                    "Sorszám": "16303",
                                    "Teljes összeg": "384050"
                                },
                                {
                                    "Sorszám": "16309",
                                    "Teljes összeg": "212610"
                                },
                                {
                                    "Sorszám": "16322",
                                    "Teljes összeg": "349010"
                                },
                                {
                                    "Sorszám": "16345",
                                    "Teljes összeg": "253630"
                                },
                                {
                                    "Sorszám": "16361",
                                    "Teljes összeg": "206140"
                                },
                                {
                                    "Sorszám": "16373",
                                    "Teljes összeg": "1294860"
                                },
                                {
                                    "Sorszám": "16375",
                                    "Teljes összeg": "270400"
                                },
                                {
                                    "Sorszám": "16379",
                                    "Teljes összeg": "237450"
                                },
                                {
                                    "Sorszám": "16383",
                                    "Teljes összeg": "367100"
                                },
                                {
                                    "Sorszám": "16387",
                                    "Teljes összeg": "221840"
                                },
                                {
                                    "Sorszám": "16411",
                                    "Teljes összeg": "364130"
                                },
                                {
                                    "Sorszám": "16414",
                                    "Teljes összeg": "1031700"
                                },
                                {
                                    "Sorszám": "16415",
                                    "Teljes összeg": "307930"
                                },
                                {
                                    "Sorszám": "16437",
                                    "Teljes összeg": "219270"
                                },
                                {
                                    "Sorszám": "16441",
                                    "Teljes összeg": "914990"
                                },
                                {
                                    "Sorszám": "16450",
                                    "Teljes összeg": "262450"
                                },
                                {
                                    "Sorszám": "16459",
                                    "Teljes összeg": "268950"
                                },
                                {
                                    "Sorszám": "16469",
                                    "Teljes összeg": "241070"
                                },
                                {
                                    "Sorszám": "16482",
                                    "Teljes összeg": "703050"
                                },
                                {
                                    "Sorszám": "16534",
                                    "Teljes összeg": "580160"
                                },
                                {
                                    "Sorszám": "16535",
                                    "Teljes összeg": "311400"
                                },
                                {
                                    "Sorszám": "16540",
                                    "Teljes összeg": "248770"
                                },
                                {
                                    "Sorszám": "16569",
                                    "Teljes összeg": "419330"
                                },
                                {
                                    "Sorszám": "16572",
                                    "Teljes összeg": "287960"
                                },
                                {
                                    "Sorszám": "16576",
                                    "Teljes összeg": "664580"
                                },
                                {
                                    "Sorszám": "16589",
                                    "Teljes összeg": "551330"
                                },
                                {
                                    "Sorszám": "16590",
                                    "Teljes összeg": "243300"
                                },
                                {
                                    "Sorszám": "16601",
                                    "Teljes összeg": "208820"
                                },
                                {
                                    "Sorszám": "16613",
                                    "Teljes összeg": "323110"
                                },
                                {
                                    "Sorszám": "16620",
                                    "Teljes összeg": "683150"
                                },
                                {
                                    "Sorszám": "16628",
                                    "Teljes összeg": "290870"
                                },
                                {
                                    "Sorszám": "16629",
                                    "Teljes összeg": "286170"
                                },
                                {
                                    "Sorszám": "16631",
                                    "Teljes összeg": "278280"
                                },
                                {
                                    "Sorszám": "16645",
                                    "Teljes összeg": "227220"
                                },
                                {
                                    "Sorszám": "16647",
                                    "Teljes összeg": "397160"
                                },
                                {
                                    "Sorszám": "16648",
                                    "Teljes összeg": "346790"
                                },
                                {
                                    "Sorszám": "16650",
                                    "Teljes összeg": "354210"
                                },
                                {
                                    "Sorszám": "16674",
                                    "Teljes összeg": "456570"
                                },
                                {
                                    "Sorszám": "16680",
                                    "Teljes összeg": "415025"
                                },
                                {
                                    "Sorszám": "16700",
                                    "Teljes összeg": "405300"
                                },
                                {
                                    "Sorszám": "16716",
                                    "Teljes összeg": "722860"
                                },
                                {
                                    "Sorszám": "16738",
                                    "Teljes összeg": "330780"
                                },
                                {
                                    "Sorszám": "16741",
                                    "Teljes összeg": "544060"
                                },
                                {
                                    "Sorszám": "16742",
                                    "Teljes összeg": "456790"
                                },
                                {
                                    "Sorszám": "16745",
                                    "Teljes összeg": "451090"
                                },
                                {
                                    "Sorszám": "16773",
                                    "Teljes összeg": "254850"
                                },
                                {
                                    "Sorszám": "16782",
                                    "Teljes összeg": "235110"
                                },
                                {
                                    "Sorszám": "16792",
                                    "Teljes összeg": "405350"
                                },
                                {
                                    "Sorszám": "16805",
                                    "Teljes összeg": "290390"
                                },
                                {
                                    "Sorszám": "16811",
                                    "Teljes összeg": "707790"
                                },
                                {
                                    "Sorszám": "16822",
                                    "Teljes összeg": "236430"
                                },
                                {
                                    "Sorszám": "16823",
                                    "Teljes összeg": "274670"
                                },
                                {
                                    "Sorszám": "16834",
                                    "Teljes összeg": "273750"
                                },
                                {
                                    "Sorszám": "16840",
                                    "Teljes összeg": "509510"
                                },
                                {
                                    "Sorszám": "16850",
                                    "Teljes összeg": "247860"
                                },
                                {
                                    "Sorszám": "16852",
                                    "Teljes összeg": "261990"
                                },
                                {
                                    "Sorszám": "16862",
                                    "Teljes összeg": "1603760"
                                },
                                {
                                    "Sorszám": "16871",
                                    "Teljes összeg": "533420"
                                },
                                {
                                    "Sorszám": "16872",
                                    "Teljes összeg": "566390"
                                },
                                {
                                    "Sorszám": "16879",
                                    "Teljes összeg": "299590"
                                },
                                {
                                    "Sorszám": "16888",
                                    "Teljes összeg": "280480"
                                },
                                {
                                    "Sorszám": "16889",
                                    "Teljes összeg": "491020"
                                },
                                {
                                    "Sorszám": "16897",
                                    "Teljes összeg": "557340"
                                },
                                {
                                    "Sorszám": "16918",
                                    "Teljes összeg": "484840"
                                },
                                {
                                    "Sorszám": "16926",
                                    "Teljes összeg": "519840"
                                },
                                {
                                    "Sorszám": "16932",
                                    "Teljes összeg": "334080"
                                },
                                {
                                    "Sorszám": "16935",
                                    "Teljes összeg": "415860"
                                },
                                {
                                    "Sorszám": "16946",
                                    "Teljes összeg": "1125510"
                                },
                                {
                                    "Sorszám": "16969",
                                    "Teljes összeg": "363000"
                                },
                                {
                                    "Sorszám": "16982",
                                    "Teljes összeg": "260620"
                                },
                                {
                                    "Sorszám": "16988",
                                    "Teljes összeg": "361510"
                                },
                                {
                                    "Sorszám": "16992",
                                    "Teljes összeg": "214550"
                                },
                                {
                                    "Sorszám": "16993",
                                    "Teljes összeg": "263770"
                                },
                                {
                                    "Sorszám": "16997",
                                    "Teljes összeg": "350500"
                                },
                                {
                                    "Sorszám": "17003",
                                    "Teljes összeg": "258160"
                                },
                                {
                                    "Sorszám": "17004",
                                    "Teljes összeg": "408410"
                                },
                                {
                                    "Sorszám": "17006",
                                    "Teljes összeg": "441510"
                                },
                                {
                                    "Sorszám": "17012",
                                    "Teljes összeg": "278830"
                                },
                                {
                                    "Sorszám": "17014",
                                    "Teljes összeg": "236580"
                                },
                                {
                                    "Sorszám": "17016",
                                    "Teljes összeg": "340870"
                                },
                                {
                                    "Sorszám": "17017",
                                    "Teljes összeg": "435050"
                                },
                                {
                                    "Sorszám": "17032",
                                    "Teljes összeg": "263210"
                                },
                                {
                                    "Sorszám": "17033",
                                    "Teljes összeg": "629650"
                                },
                                {
                                    "Sorszám": "17045",
                                    "Teljes összeg": "515980"
                                },
                                {
                                    "Sorszám": "17054",
                                    "Teljes összeg": "226000"
                                },
                                {
                                    "Sorszám": "17064",
                                    "Teljes összeg": "263780"
                                },
                                {
                                    "Sorszám": "17078",
                                    "Teljes összeg": "297170"
                                },
                                {
                                    "Sorszám": "17079",
                                    "Teljes összeg": "756170"
                                },
                                {
                                    "Sorszám": "17087",
                                    "Teljes összeg": "473260"
                                },
                                {
                                    "Sorszám": "17113",
                                    "Teljes összeg": "2048440"
                                },
                                {
                                    "Sorszám": "17132",
                                    "Teljes összeg": "619050"
                                },
                                {
                                    "Sorszám": "17159",
                                    "Teljes összeg": "440300"
                                },
                                {
                                    "Sorszám": "17173",
                                    "Teljes összeg": "308160"
                                },
                                {
                                    "Sorszám": "17179",
                                    "Teljes összeg": "337180"
                                },
                                {
                                    "Sorszám": "17202",
                                    "Teljes összeg": "1995650"
                                },
                                {
                                    "Sorszám": "17211",
                                    "Teljes összeg": "511460"
                                },
                                {
                                    "Sorszám": "17221",
                                    "Teljes összeg": "242400"
                                },
                                {
                                    "Sorszám": "17227",
                                    "Teljes összeg": "373220"
                                },
                                {
                                    "Sorszám": "17234",
                                    "Teljes összeg": "445870"
                                },
                                {
                                    "Sorszám": "17244",
                                    "Teljes összeg": "321430"
                                },
                                {
                                    "Sorszám": "17252",
                                    "Teljes összeg": "1156700"
                                },
                                {
                                    "Sorszám": "17257",
                                    "Teljes összeg": "349570"
                                },
                                {
                                    "Sorszám": "17265",
                                    "Teljes összeg": "215380"
                                },
                                {
                                    "Sorszám": "17271",
                                    "Teljes összeg": "316730"
                                },
                                {
                                    "Sorszám": "17274",
                                    "Teljes összeg": "450930"
                                },
                                {
                                    "Sorszám": "17278",
                                    "Teljes összeg": "484670"
                                },
                                {
                                    "Sorszám": "17285",
                                    "Teljes összeg": "1770770"
                                },
                                {
                                    "Sorszám": "17287",
                                    "Teljes összeg": "233790"
                                },
                                {
                                    "Sorszám": "17311",
                                    "Teljes összeg": "269530"
                                },
                                {
                                    "Sorszám": "17322",
                                    "Teljes összeg": "357240"
                                },
                                {
                                    "Sorszám": "17323",
                                    "Teljes összeg": "469960"
                                },
                                {
                                    "Sorszám": "17324",
                                    "Teljes összeg": "487960"
                                },
                                {
                                    "Sorszám": "17328",
                                    "Teljes összeg": "229350"
                                },
                                {
                                    "Sorszám": "17331",
                                    "Teljes összeg": "942810"
                                },
                                {
                                    "Sorszám": "17332",
                                    "Teljes összeg": "247470"
                                },
                                {
                                    "Sorszám": "17334",
                                    "Teljes összeg": "473730"
                                },
                                {
                                    "Sorszám": "17339",
                                    "Teljes összeg": "301130"
                                },
                                {
                                    "Sorszám": "17348",
                                    "Teljes összeg": "345140"
                                },
                                {
                                    "Sorszám": "17352",
                                    "Teljes összeg": "246840"
                                },
                                {
                                    "Sorszám": "17371",
                                    "Teljes összeg": "239930"
                                },
                                {
                                    "Sorszám": "17384",
                                    "Teljes összeg": "287410"
                                },
                                {
                                    "Sorszám": "17393",
                                    "Teljes összeg": "242750"
                                },
                                {
                                    "Sorszám": "17416",
                                    "Teljes összeg": "418800"
                                },
                                {
                                    "Sorszám": "17424",
                                    "Teljes összeg": "729150"
                                },
                                {
                                    "Sorszám": "17434",
                                    "Teljes összeg": "291170"
                                },
                                {
                                    "Sorszám": "17438",
                                    "Teljes összeg": "438820"
                                },
                                {
                                    "Sorszám": "17440",
                                    "Teljes összeg": "910480"
                                },
                                {
                                    "Sorszám": "17442",
                                    "Teljes összeg": "232200"
                                },
                                {
                                    "Sorszám": "17452",
                                    "Teljes összeg": "277700"
                                },
                                {
                                    "Sorszám": "17455",
                                    "Teljes összeg": "266330"
                                },
                                {
                                    "Sorszám": "17475",
                                    "Teljes összeg": "221780"
                                },
                                {
                                    "Sorszám": "17476",
                                    "Teljes összeg": "297950"
                                },
                                {
                                    "Sorszám": "17478",
                                    "Teljes összeg": "268230"
                                },
                                {
                                    "Sorszám": "17484",
                                    "Teljes összeg": "366760"
                                },
                                {
                                    "Sorszám": "17504",
                                    "Teljes összeg": "444500"
                                },
                                {
                                    "Sorszám": "17520",
                                    "Teljes összeg": "962950"
                                },
                                {
                                    "Sorszám": "17525",
                                    "Teljes összeg": "330030"
                                },
                                {
                                    "Sorszám": "17533",
                                    "Teljes összeg": "394240"
                                },
                                {
                                    "Sorszám": "17540",
                                    "Teljes összeg": "336780"
                                },
                                {
                                    "Sorszám": "17551",
                                    "Teljes összeg": "495050"
                                },
                                {
                                    "Sorszám": "17564",
                                    "Teljes összeg": "254800"
                                },
                                {
                                    "Sorszám": "17565",
                                    "Teljes összeg": "376790"
                                },
                                {
                                    "Sorszám": "17579",
                                    "Teljes összeg": "410400"
                                },
                                {
                                    "Sorszám": "17581",
                                    "Teljes összeg": "567990"
                                },
                                {
                                    "Sorszám": "17596",
                                    "Teljes összeg": "259000"
                                },
                                {
                                    "Sorszám": "17597",
                                    "Teljes összeg": "257790"
                                },
                                {
                                    "Sorszám": "17606",
                                    "Teljes összeg": "513460"
                                },
                                {
                                    "Sorszám": "17609",
                                    "Teljes összeg": "422860"
                                },
                                {
                                    "Sorszám": "17611",
                                    "Teljes összeg": "257330"
                                },
                                {
                                    "Sorszám": "17617",
                                    "Teljes összeg": "240610"
                                },
                                {
                                    "Sorszám": "17637",
                                    "Teljes összeg": "246900"
                                },
                                {
                                    "Sorszám": "17639",
                                    "Teljes összeg": "269760"
                                },
                                {
                                    "Sorszám": "17646",
                                    "Teljes összeg": "506440"
                                },
                                {
                                    "Sorszám": "17649",
                                    "Teljes összeg": "395410"
                                },
                                {
                                    "Sorszám": "17654",
                                    "Teljes összeg": "379080"
                                },
                                {
                                    "Sorszám": "17662",
                                    "Teljes összeg": "533610"
                                },
                                {
                                    "Sorszám": "17666",
                                    "Teljes összeg": "233290"
                                },
                                {
                                    "Sorszám": "17676",
                                    "Teljes összeg": "421190"
                                },
                                {
                                    "Sorszám": "17677",
                                    "Teljes összeg": "596540"
                                },
                                {
                                    "Sorszám": "17681",
                                    "Teljes összeg": "226140"
                                },
                                {
                                    "Sorszám": "17690",
                                    "Teljes összeg": "467740"
                                },
                                {
                                    "Sorszám": "17691",
                                    "Teljes összeg": "429500"
                                },
                                {
                                    "Sorszám": "17695",
                                    "Teljes összeg": "251020"
                                },
                                {
                                    "Sorszám": "17709",
                                    "Teljes összeg": "342660"
                                },
                                {
                                    "Sorszám": "17717",
                                    "Teljes összeg": "523740"
                                },
                                {
                                    "Sorszám": "17734",
                                    "Teljes összeg": "273930"
                                },
                                {
                                    "Sorszám": "17741",
                                    "Teljes összeg": "1307240"
                                },
                                {
                                    "Sorszám": "17746",
                                    "Teljes összeg": "358980"
                                },
                                {
                                    "Sorszám": "17747",
                                    "Teljes összeg": "296540"
                                },
                                {
                                    "Sorszám": "17749",
                                    "Teljes összeg": "1767230"
                                },
                                {
                                    "Sorszám": "17750",
                                    "Teljes összeg": "383500"
                                },
                                {
                                    "Sorszám": "17779",
                                    "Teljes összeg": "608980"
                                },
                                {
                                    "Sorszám": "17799",
                                    "Teljes összeg": "223190"
                                },
                                {
                                    "Sorszám": "17800",
                                    "Teljes összeg": "1148660"
                                },
                                {
                                    "Sorszám": "17829",
                                    "Teljes összeg": "581010"
                                },
                                {
                                    "Sorszám": "17838",
                                    "Teljes összeg": "634580"
                                },
                                {
                                    "Sorszám": "17840",
                                    "Teljes összeg": "914300"
                                },
                                {
                                    "Sorszám": "17842",
                                    "Teljes összeg": "520700"
                                },
                                {
                                    "Sorszám": "17845",
                                    "Teljes összeg": "261810"
                                },
                                {
                                    "Sorszám": "17853",
                                    "Teljes összeg": "446910"
                                },
                                {
                                    "Sorszám": "17861",
                                    "Teljes összeg": "266900"
                                },
                                {
                                    "Sorszám": "17862",
                                    "Teljes összeg": "1377080"
                                },
                                {
                                    "Sorszám": "17869",
                                    "Teljes összeg": "327610"
                                },
                                {
                                    "Sorszám": "17889",
                                    "Teljes összeg": "525580"
                                },
                                {
                                    "Sorszám": "17898",
                                    "Teljes összeg": "561650"
                                },
                                {
                                    "Sorszám": "17902",
                                    "Teljes összeg": "534650"
                                },
                                {
                                    "Sorszám": "17907",
                                    "Teljes összeg": "460500"
                                },
                                {
                                    "Sorszám": "17919",
                                    "Teljes összeg": "214960"
                                },
                                {
                                    "Sorszám": "17921",
                                    "Teljes összeg": "269040"
                                },
                                {
                                    "Sorszám": "17923",
                                    "Teljes összeg": "295600"
                                },
                                {
                                    "Sorszám": "17928",
                                    "Teljes összeg": "237660"
                                },
                                {
                                    "Sorszám": "17934",
                                    "Teljes összeg": "569850"
                                },
                                {
                                    "Sorszám": "17937",
                                    "Teljes összeg": "243220"
                                },
                                {
                                    "Sorszám": "17945",
                                    "Teljes összeg": "507800"
                                },
                                {
                                    "Sorszám": "17946",
                                    "Teljes összeg": "211600"
                                },
                                {
                                    "Sorszám": "17972",
                                    "Teljes összeg": "209570"
                                },
                                {
                                    "Sorszám": "17976",
                                    "Teljes összeg": "506940"
                                },
                                {
                                    "Sorszám": "17982",
                                    "Teljes összeg": "244880"
                                },
                                {
                                    "Sorszám": "18015",
                                    "Teljes összeg": "205400"
                                },
                                {
                                    "Sorszám": "18037",
                                    "Teljes összeg": "323780"
                                },
                                {
                                    "Sorszám": "18043",
                                    "Teljes összeg": "328810"
                                },
                                {
                                    "Sorszám": "18044",
                                    "Teljes összeg": "414210"
                                },
                                {
                                    "Sorszám": "18048",
                                    "Teljes összeg": "301530"
                                },
                                {
                                    "Sorszám": "18060",
                                    "Teljes összeg": "494260"
                                },
                                {
                                    "Sorszám": "18073",
                                    "Teljes összeg": "250430"
                                },
                                {
                                    "Sorszám": "18078",
                                    "Teljes összeg": "521620"
                                },
                                {
                                    "Sorszám": "18081",
                                    "Teljes összeg": "294170"
                                },
                                {
                                    "Sorszám": "18100",
                                    "Teljes összeg": "219320"
                                },
                                {
                                    "Sorszám": "18101",
                                    "Teljes összeg": "268210"
                                },
                                {
                                    "Sorszám": "18109",
                                    "Teljes összeg": "346100"
                                },
                                {
                                    "Sorszám": "18110",
                                    "Teljes összeg": "462830"
                                },
                                {
                                    "Sorszám": "18115",
                                    "Teljes összeg": "212520"
                                },
                                {
                                    "Sorszám": "18144",
                                    "Teljes összeg": "214800"
                                },
                                {
                                    "Sorszám": "18149",
                                    "Teljes összeg": "220950"
                                },
                                {
                                    "Sorszám": "18151",
                                    "Teljes összeg": "263440"
                                },
                                {
                                    "Sorszám": "18166",
                                    "Teljes összeg": "456540"
                                },
                                {
                                    "Sorszám": "18171",
                                    "Teljes összeg": "470340"
                                },
                                {
                                    "Sorszám": "18173",
                                    "Teljes összeg": "455900"
                                },
                                {
                                    "Sorszám": "18188",
                                    "Teljes összeg": "378790"
                                },
                                {
                                    "Sorszám": "18193",
                                    "Teljes összeg": "223110"
                                },
                                {
                                    "Sorszám": "18196",
                                    "Teljes összeg": "244440"
                                },
                                {
                                    "Sorszám": "18199",
                                    "Teljes összeg": "389790"
                                },
                                {
                                    "Sorszám": "18204",
                                    "Teljes összeg": "275640"
                                },
                                {
                                    "Sorszám": "18208",
                                    "Teljes összeg": "343200"
                                },
                                {
                                    "Sorszám": "18214",
                                    "Teljes összeg": "205760"
                                },
                                {
                                    "Sorszám": "18224",
                                    "Teljes összeg": "217250"
                                },
                                {
                                    "Sorszám": "18241",
                                    "Teljes összeg": "319050"
                                },
                                {
                                    "Sorszám": "18244",
                                    "Teljes összeg": "678420"
                                },
                                {
                                    "Sorszám": "18245",
                                    "Teljes összeg": "213260"
                                },
                                {
                                    "Sorszám": "18249",
                                    "Teljes összeg": "208550"
                                },
                                {
                                    "Sorszám": "18264",
                                    "Teljes összeg": "460250"
                                },
                                {
                                    "Sorszám": "18274",
                                    "Teljes összeg": "238520"
                                },
                                {
                                    "Sorszám": "18275",
                                    "Teljes összeg": "291290"
                                },
                                {
                                    "Sorszám": "18292",
                                    "Teljes összeg": "251590"
                                },
                                {
                                    "Sorszám": "18294",
                                    "Teljes összeg": "330980"
                                },
                                {
                                    "Sorszám": "18306",
                                    "Teljes összeg": "438030"
                                },
                                {
                                    "Sorszám": "18307",
                                    "Teljes összeg": "310260"
                                },
                                {
                                    "Sorszám": "18310",
                                    "Teljes összeg": "227150"
                                },
                                {
                                    "Sorszám": "18312",
                                    "Teljes összeg": "393470"
                                },
                                {
                                    "Sorszám": "18319",
                                    "Teljes összeg": "652230"
                                },
                                {
                                    "Sorszám": "18326",
                                    "Teljes összeg": "461320"
                                },
                                {
                                    "Sorszám": "18338",
                                    "Teljes összeg": "363950"
                                },
                                {
                                    "Sorszám": "18348",
                                    "Teljes összeg": "426970"
                                },
                                {
                                    "Sorszám": "18355",
                                    "Teljes összeg": "392000"
                                },
                                {
                                    "Sorszám": "18363",
                                    "Teljes összeg": "215110"
                                },
                                {
                                    "Sorszám": "18366",
                                    "Teljes összeg": "366670"
                                },
                                {
                                    "Sorszám": "18378",
                                    "Teljes összeg": "235530"
                                },
                                {
                                    "Sorszám": "18397",
                                    "Teljes összeg": "236230"
                                },
                                {
                                    "Sorszám": "18398",
                                    "Teljes összeg": "418310"
                                },
                                {
                                    "Sorszám": "18413",
                                    "Teljes összeg": "603110"
                                },
                                {
                                    "Sorszám": "18417",
                                    "Teljes összeg": "403150"
                                },
                                {
                                    "Sorszám": "18418",
                                    "Teljes összeg": "262380"
                                },
                                {
                                    "Sorszám": "18427",
                                    "Teljes összeg": "394690"
                                },
                                {
                                    "Sorszám": "18428",
                                    "Teljes összeg": "211650"
                                },
                                {
                                    "Sorszám": "18431",
                                    "Teljes összeg": "273500"
                                },
                                {
                                    "Sorszám": "18437",
                                    "Teljes összeg": "206340"
                                },
                                {
                                    "Sorszám": "18440",
                                    "Teljes összeg": "505400"
                                },
                                {
                                    "Sorszám": "18461",
                                    "Teljes összeg": "271330"
                                },
                                {
                                    "Sorszám": "18469",
                                    "Teljes összeg": "264570"
                                },
                                {
                                    "Sorszám": "18471",
                                    "Teljes összeg": "258700"
                                },
                                {
                                    "Sorszám": "18473",
                                    "Teljes összeg": "231290"
                                },
                                {
                                    "Sorszám": "18474",
                                    "Teljes összeg": "1330590"
                                },
                                {
                                    "Sorszám": "18478",
                                    "Teljes összeg": "284430"
                                },
                                {
                                    "Sorszám": "18487",
                                    "Teljes összeg": "928370"
                                },
                                {
                                    "Sorszám": "18491",
                                    "Teljes összeg": "231460"
                                },
                                {
                                    "Sorszám": "18498",
                                    "Teljes összeg": "339240"
                                },
                                {
                                    "Sorszám": "18514",
                                    "Teljes összeg": "240180"
                                },
                                {
                                    "Sorszám": "18519",
                                    "Teljes összeg": "211580"
                                },
                                {
                                    "Sorszám": "18521",
                                    "Teljes összeg": "220320"
                                },
                                {
                                    "Sorszám": "18522",
                                    "Teljes összeg": "224490"
                                },
                                {
                                    "Sorszám": "18523",
                                    "Teljes összeg": "247000"
                                },
                                {
                                    "Sorszám": "18540",
                                    "Teljes összeg": "1567910"
                                },
                                {
                                    "Sorszám": "18542",
                                    "Teljes összeg": "1803540"
                                },
                                {
                                    "Sorszám": "18582",
                                    "Teljes összeg": "2095850"
                                },
                                {
                                    "Sorszám": "18596",
                                    "Teljes összeg": "255140"
                                },
                                {
                                    "Sorszám": "18600",
                                    "Teljes összeg": "359410"
                                },
                                {
                                    "Sorszám": "18601",
                                    "Teljes összeg": "409200"
                                },
                                {
                                    "Sorszám": "18608",
                                    "Teljes összeg": "268620"
                                },
                                {
                                    "Sorszám": "18611",
                                    "Teljes összeg": "232380"
                                },
                                {
                                    "Sorszám": "18615",
                                    "Teljes összeg": "263620"
                                },
                                {
                                    "Sorszám": "18619",
                                    "Teljes összeg": "232200"
                                },
                                {
                                    "Sorszám": "18629",
                                    "Teljes összeg": "330770"
                                },
                                {
                                    "Sorszám": "18631",
                                    "Teljes összeg": "280450"
                                },
                                {
                                    "Sorszám": "18638",
                                    "Teljes összeg": "303560"
                                },
                                {
                                    "Sorszám": "18639",
                                    "Teljes összeg": "1016430"
                                },
                                {
                                    "Sorszám": "18645",
                                    "Teljes összeg": "456790"
                                },
                                {
                                    "Sorszám": "18648",
                                    "Teljes összeg": "735880"
                                },
                                {
                                    "Sorszám": "18649",
                                    "Teljes összeg": "1293250"
                                },
                                {
                                    "Sorszám": "18651",
                                    "Teljes összeg": "340390"
                                },
                                {
                                    "Sorszám": "18666",
                                    "Teljes összeg": "892200"
                                },
                                {
                                    "Sorszám": "18674",
                                    "Teljes összeg": "382710"
                                },
                                {
                                    "Sorszám": "18677",
                                    "Teljes összeg": "447350"
                                },
                                {
                                    "Sorszám": "18688",
                                    "Teljes összeg": "378000"
                                },
                                {
                                    "Sorszám": "18700",
                                    "Teljes összeg": "474070"
                                },
                                {
                                    "Sorszám": "18706",
                                    "Teljes összeg": "347270"
                                },
                                {
                                    "Sorszám": "18707",
                                    "Teljes összeg": "1038580"
                                },
                                {
                                    "Sorszám": "18719",
                                    "Teljes összeg": "259430"
                                },
                                {
                                    "Sorszám": "18723",
                                    "Teljes összeg": "276660"
                                },
                                {
                                    "Sorszám": "18728",
                                    "Teljes összeg": "401630"
                                },
                                {
                                    "Sorszám": "18729",
                                    "Teljes összeg": "353380"
                                },
                                {
                                    "Sorszám": "18735",
                                    "Teljes összeg": "256470"
                                },
                                {
                                    "Sorszám": "18758",
                                    "Teljes összeg": "269410"
                                },
                                {
                                    "Sorszám": "18759",
                                    "Teljes összeg": "469780"
                                },
                                {
                                    "Sorszám": "18777",
                                    "Teljes összeg": "215950"
                                },
                                {
                                    "Sorszám": "18788",
                                    "Teljes összeg": "266750"
                                },
                                {
                                    "Sorszám": "18812",
                                    "Teljes összeg": "334890"
                                },
                                {
                                    "Sorszám": "18817",
                                    "Teljes összeg": "264700"
                                },
                                {
                                    "Sorszám": "18834",
                                    "Teljes összeg": "346450"
                                },
                                {
                                    "Sorszám": "18842",
                                    "Teljes összeg": "302770"
                                },
                                {
                                    "Sorszám": "18867",
                                    "Teljes összeg": "243160"
                                },
                                {
                                    "Sorszám": "18885",
                                    "Teljes összeg": "225020"
                                },
                                {
                                    "Sorszám": "18893",
                                    "Teljes összeg": "2061070"
                                },
                                {
                                    "Sorszám": "18899",
                                    "Teljes összeg": "335170"
                                },
                                {
                                    "Sorszám": "18900",
                                    "Teljes összeg": "289120"
                                },
                                {
                                    "Sorszám": "18919",
                                    "Teljes összeg": "903980"
                                },
                                {
                                    "Sorszám": "18929",
                                    "Teljes összeg": "215780"
                                },
                                {
                                    "Sorszám": "18938",
                                    "Teljes összeg": "300120"
                                },
                                {
                                    "Sorszám": "18950",
                                    "Teljes összeg": "286910"
                                },
                                {
                                    "Sorszám": "18960",
                                    "Teljes összeg": "396670"
                                },
                                {
                                    "Sorszám": "18964",
                                    "Teljes összeg": "592660"
                                },
                                {
                                    "Sorszám": "18968",
                                    "Teljes összeg": "265365"
                                },
                                {
                                    "Sorszám": "18993",
                                    "Teljes összeg": "501940"
                                },
                                {
                                    "Sorszám": "19005",
                                    "Teljes összeg": "261850"
                                },
                                {
                                    "Sorszám": "19039",
                                    "Teljes összeg": "1572630"
                                },
                                {
                                    "Sorszám": "19057",
                                    "Teljes összeg": "541200"
                                },
                                {
                                    "Sorszám": "19076",
                                    "Teljes összeg": "285990"
                                },
                                {
                                    "Sorszám": "19082",
                                    "Teljes összeg": "500250"
                                },
                                {
                                    "Sorszám": "19087",
                                    "Teljes összeg": "327040"
                                },
                                {
                                    "Sorszám": "19094",
                                    "Teljes összeg": "224670"
                                },
                                {
                                    "Sorszám": "19109",
                                    "Teljes összeg": "528870"
                                },
                                {
                                    "Sorszám": "19117",
                                    "Teljes összeg": "1337240"
                                },
                                {
                                    "Sorszám": "19122",
                                    "Teljes összeg": "411890"
                                },
                                {
                                    "Sorszám": "19126",
                                    "Teljes összeg": "269180"
                                },
                                {
                                    "Sorszám": "19135",
                                    "Teljes összeg": "542460"
                                },
                                {
                                    "Sorszám": "19143",
                                    "Teljes összeg": "214200"
                                },
                                {
                                    "Sorszám": "19151",
                                    "Teljes összeg": "206930"
                                },
                                {
                                    "Sorszám": "19156",
                                    "Teljes összeg": "207600"
                                },
                                {
                                    "Sorszám": "19162",
                                    "Teljes összeg": "494960"
                                },
                                {
                                    "Sorszám": "19163",
                                    "Teljes összeg": "565840"
                                },
                                {
                                    "Sorszám": "19182",
                                    "Teljes összeg": "471150"
                                },
                                {
                                    "Sorszám": "19193",
                                    "Teljes összeg": "301990"
                                },
                                {
                                    "Sorszám": "19204",
                                    "Teljes összeg": "386470"
                                },
                                {
                                    "Sorszám": "19215",
                                    "Teljes összeg": "291130"
                                },
                                {
                                    "Sorszám": "19216",
                                    "Teljes összeg": "280910"
                                },
                                {
                                    "Sorszám": "19222",
                                    "Teljes összeg": "546690"
                                },
                                {
                                    "Sorszám": "19229",
                                    "Teljes összeg": "561080"
                                },
                                {
                                    "Sorszám": "19244",
                                    "Teljes összeg": "896370"
                                },
                                {
                                    "Sorszám": "19250",
                                    "Teljes összeg": "240760"
                                },
                                {
                                    "Sorszám": "19256",
                                    "Teljes összeg": "659510"
                                },
                                {
                                    "Sorszám": "19265",
                                    "Teljes összeg": "268730"
                                },
                                {
                                    "Sorszám": "19281",
                                    "Teljes összeg": "419850"
                                },
                                {
                                    "Sorszám": "19282",
                                    "Teljes összeg": "293750"
                                },
                                {
                                    "Sorszám": "19284",
                                    "Teljes összeg": "470080"
                                },
                                {
                                    "Sorszám": "19286",
                                    "Teljes összeg": "252940"
                                },
                                {
                                    "Sorszám": "19291",
                                    "Teljes összeg": "282560"
                                },
                                {
                                    "Sorszám": "19303",
                                    "Teljes összeg": "224880"
                                },
                                {
                                    "Sorszám": "19307",
                                    "Teljes összeg": "607380"
                                },
                                {
                                    "Sorszám": "19311",
                                    "Teljes összeg": "238830"
                                },
                                {
                                    "Sorszám": "19318",
                                    "Teljes összeg": "399510"
                                },
                                {
                                    "Sorszám": "19344",
                                    "Teljes összeg": "643130"
                                },
                                {
                                    "Sorszám": "19363",
                                    "Teljes összeg": "207280"
                                },
                                {
                                    "Sorszám": "19369",
                                    "Teljes összeg": "286130"
                                },
                                {
                                    "Sorszám": "19372",
                                    "Teljes összeg": "1996810"
                                },
                                {
                                    "Sorszám": "19392",
                                    "Teljes összeg": "457930"
                                },
                                {
                                    "Sorszám": "19408",
                                    "Teljes összeg": "391090"
                                },
                                {
                                    "Sorszám": "19433",
                                    "Teljes összeg": "312810"
                                },
                                {
                                    "Sorszám": "19448",
                                    "Teljes összeg": "230810"
                                },
                                {
                                    "Sorszám": "19458",
                                    "Teljes összeg": "244500"
                                },
                                {
                                    "Sorszám": "19467",
                                    "Teljes összeg": "368800"
                                },
                                {
                                    "Sorszám": "19471",
                                    "Teljes összeg": "422080"
                                },
                                {
                                    "Sorszám": "19475",
                                    "Teljes összeg": "509620"
                                },
                                {
                                    "Sorszám": "19476",
                                    "Teljes összeg": "353170"
                                },
                                {
                                    "Sorszám": "19479",
                                    "Teljes összeg": "394430"
                                },
                                {
                                    "Sorszám": "19490",
                                    "Teljes összeg": "469810"
                                },
                                {
                                    "Sorszám": "19494",
                                    "Teljes összeg": "676450"
                                },
                                {
                                    "Sorszám": "19498",
                                    "Teljes összeg": "442270"
                                },
                                {
                                    "Sorszám": "19500",
                                    "Teljes összeg": "455760"
                                },
                                {
                                    "Sorszám": "19508",
                                    "Teljes összeg": "295470"
                                },
                                {
                                    "Sorszám": "19517",
                                    "Teljes összeg": "1020420"
                                },
                                {
                                    "Sorszám": "19519",
                                    "Teljes összeg": "251880"
                                },
                                {
                                    "Sorszám": "19526",
                                    "Teljes összeg": "1165740"
                                },
                                {
                                    "Sorszám": "19531",
                                    "Teljes összeg": "502790"
                                },
                                {
                                    "Sorszám": "19532",
                                    "Teljes összeg": "259290"
                                },
                                {
                                    "Sorszám": "19534",
                                    "Teljes összeg": "1327830"
                                },
                                {
                                    "Sorszám": "19552",
                                    "Teljes összeg": "463630"
                                },
                                {
                                    "Sorszám": "19557",
                                    "Teljes összeg": "426630"
                                },
                                {
                                    "Sorszám": "19567",
                                    "Teljes összeg": "257550"
                                },
                                {
                                    "Sorszám": "19570",
                                    "Teljes összeg": "755270"
                                },
                                {
                                    "Sorszám": "19591",
                                    "Teljes összeg": "1565020"
                                },
                                {
                                    "Sorszám": "19612",
                                    "Teljes összeg": "481130"
                                },
                                {
                                    "Sorszám": "19615",
                                    "Teljes összeg": "380230"
                                },
                                {
                                    "Sorszám": "19617",
                                    "Teljes összeg": "236380"
                                },
                                {
                                    "Sorszám": "19623",
                                    "Teljes összeg": "237870"
                                },
                                {
                                    "Sorszám": "19624",
                                    "Teljes összeg": "256270"
                                },
                                {
                                    "Sorszám": "19641",
                                    "Teljes összeg": "461020"
                                },
                                {
                                    "Sorszám": "19666",
                                    "Teljes összeg": "1219480"
                                },
                                {
                                    "Sorszám": "19685",
                                    "Teljes összeg": "524170"
                                },
                                {
                                    "Sorszám": "19692",
                                    "Teljes összeg": "208110"
                                },
                                {
                                    "Sorszám": "19697",
                                    "Teljes összeg": "596760"
                                },
                                {
                                    "Sorszám": "19714",
                                    "Teljes összeg": "326510"
                                },
                                {
                                    "Sorszám": "19727",
                                    "Teljes összeg": "217240"
                                },
                                {
                                    "Sorszám": "19732",
                                    "Teljes összeg": "636490"
                                },
                                {
                                    "Sorszám": "19741",
                                    "Teljes összeg": "438320"
                                },
                                {
                                    "Sorszám": "19744",
                                    "Teljes összeg": "223560"
                                },
                                {
                                    "Sorszám": "19763",
                                    "Teljes összeg": "227460"
                                },
                                {
                                    "Sorszám": "19776",
                                    "Teljes összeg": "867440"
                                },
                                {
                                    "Sorszám": "19777",
                                    "Teljes összeg": "355710"
                                },
                                {
                                    "Sorszám": "19779",
                                    "Teljes összeg": "693450"
                                },
                                {
                                    "Sorszám": "19788",
                                    "Teljes összeg": "553840"
                                },
                                {
                                    "Sorszám": "19801",
                                    "Teljes összeg": "208400"
                                },
                                {
                                    "Sorszám": "19803",
                                    "Teljes összeg": "227340"
                                },
                                {
                                    "Sorszám": "19823",
                                    "Teljes összeg": "457060"
                                },
                                {
                                    "Sorszám": "19829",
                                    "Teljes összeg": "268090"
                                },
                                {
                                    "Sorszám": "19832",
                                    "Teljes összeg": "272800"
                                },
                                {
                                    "Sorszám": "19834",
                                    "Teljes összeg": "479900"
                                },
                                {
                                    "Sorszám": "19849",
                                    "Teljes összeg": "1795780"
                                },
                                {
                                    "Sorszám": "19850",
                                    "Teljes összeg": "352650"
                                },
                                {
                                    "Sorszám": "19861",
                                    "Teljes összeg": "415810"
                                },
                                {
                                    "Sorszám": "19869",
                                    "Teljes összeg": "217030"
                                },
                                {
                                    "Sorszám": "19879",
                                    "Teljes összeg": "253770"
                                },
                                {
                                    "Sorszám": "19883",
                                    "Teljes összeg": "248000"
                                },
                                {
                                    "Sorszám": "19885",
                                    "Teljes összeg": "238360"
                                },
                                {
                                    "Sorszám": "19887",
                                    "Teljes összeg": "287100"
                                },
                                {
                                    "Sorszám": "19895",
                                    "Teljes összeg": "257080"
                                },
                                {
                                    "Sorszám": "19904",
                                    "Teljes összeg": "249580"
                                },
                                {
                                    "Sorszám": "19926",
                                    "Teljes összeg": "206320"
                                },
                                {
                                    "Sorszám": "19927",
                                    "Teljes összeg": "870660"
                                },
                                {
                                    "Sorszám": "19928",
                                    "Teljes összeg": "539580"
                                },
                                {
                                    "Sorszám": "19940",
                                    "Teljes összeg": "276320"
                                },
                                {
                                    "Sorszám": "19953",
                                    "Teljes összeg": "529290"
                                },
                                {
                                    "Sorszám": "19956",
                                    "Teljes összeg": "621600"
                                },
                                {
                                    "Sorszám": "19957",
                                    "Teljes összeg": "407380"
                                },
                                {
                                    "Sorszám": "19968",
                                    "Teljes összeg": "342560"
                                },
                                {
                                    "Sorszám": "19969",
                                    "Teljes összeg": "337960"
                                },
                                {
                                    "Sorszám": "19973",
                                    "Teljes összeg": "240440"
                                },
                                {
                                    "Sorszám": "19975",
                                    "Teljes összeg": "234720"
                                },
                                {
                                    "Sorszám": "19985",
                                    "Teljes összeg": "360730"
                                },
                                {
                                    "Sorszám": "20024",
                                    "Teljes összeg": "903480"
                                },
                                {
                                    "Sorszám": "20026",
                                    "Teljes összeg": "395640"
                                },
                                {
                                    "Sorszám": "20028",
                                    "Teljes összeg": "233350"
                                },
                                {
                                    "Sorszám": "20034",
                                    "Teljes összeg": "536930"
                                },
                                {
                                    "Sorszám": "20042",
                                    "Teljes összeg": "379230"
                                },
                                {
                                    "Sorszám": "20052",
                                    "Teljes összeg": "507230"
                                },
                                {
                                    "Sorszám": "20063",
                                    "Teljes összeg": "1579930"
                                },
                                {
                                    "Sorszám": "20088",
                                    "Teljes összeg": "211700"
                                },
                                {
                                    "Sorszám": "20099",
                                    "Teljes összeg": "215610"
                                },
                                {
                                    "Sorszám": "20109",
                                    "Teljes összeg": "455290"
                                },
                                {
                                    "Sorszám": "20112",
                                    "Teljes összeg": "431610"
                                },
                                {
                                    "Sorszám": "20119",
                                    "Teljes összeg": "268280"
                                },
                                {
                                    "Sorszám": "20130",
                                    "Teljes összeg": "263480"
                                },
                                {
                                    "Sorszám": "20131",
                                    "Teljes összeg": "393780"
                                },
                                {
                                    "Sorszám": "20133",
                                    "Teljes összeg": "341620"
                                },
                                {
                                    "Sorszám": "20152",
                                    "Teljes összeg": "280420"
                                },
                                {
                                    "Sorszám": "20161",
                                    "Teljes összeg": "246890"
                                },
                                {
                                    "Sorszám": "20162",
                                    "Teljes összeg": "318300"
                                },
                                {
                                    "Sorszám": "20167",
                                    "Teljes összeg": "464490"
                                },
                                {
                                    "Sorszám": "20174",
                                    "Teljes összeg": "315350"
                                },
                                {
                                    "Sorszám": "20186",
                                    "Teljes összeg": "211900"
                                },
                                {
                                    "Sorszám": "20187",
                                    "Teljes összeg": "240490"
                                },
                                {
                                    "Sorszám": "20205",
                                    "Teljes összeg": "413760"
                                },
                                {
                                    "Sorszám": "20213",
                                    "Teljes összeg": "215840"
                                },
                                {
                                    "Sorszám": "20218",
                                    "Teljes összeg": "374850"
                                },
                                {
                                    "Sorszám": "20226",
                                    "Teljes összeg": "273130"
                                },
                                {
                                    "Sorszám": "20234",
                                    "Teljes összeg": "303580"
                                },
                                {
                                    "Sorszám": "20246",
                                    "Teljes összeg": "224050"
                                },
                                {
                                    "Sorszám": "20247",
                                    "Teljes összeg": "446030"
                                },
                                {
                                    "Sorszám": "20257",
                                    "Teljes összeg": "289430"
                                },
                                {
                                    "Sorszám": "20260",
                                    "Teljes összeg": "373440"
                                },
                                {
                                    "Sorszám": "20264",
                                    "Teljes összeg": "230000"
                                },
                                {
                                    "Sorszám": "20265",
                                    "Teljes összeg": "495070"
                                },
                                {
                                    "Sorszám": "20271",
                                    "Teljes összeg": "330260"
                                },
                                {
                                    "Sorszám": "20273",
                                    "Teljes összeg": "212850"
                                },
                                {
                                    "Sorszám": "20284",
                                    "Teljes összeg": "303180"
                                },
                                {
                                    "Sorszám": "20304",
                                    "Teljes összeg": "381820"
                                },
                                {
                                    "Sorszám": "20308",
                                    "Teljes összeg": "354230"
                                },
                                {
                                    "Sorszám": "20309",
                                    "Teljes összeg": "463200"
                                },
                                {
                                    "Sorszám": "20310",
                                    "Teljes összeg": "301640"
                                },
                                {
                                    "Sorszám": "20313",
                                    "Teljes összeg": "326350"
                                },
                                {
                                    "Sorszám": "20324",
                                    "Teljes összeg": "245160"
                                },
                                {
                                    "Sorszám": "20330",
                                    "Teljes összeg": "493960"
                                },
                                {
                                    "Sorszám": "20336",
                                    "Teljes összeg": "550490"
                                },
                                {
                                    "Sorszám": "20343",
                                    "Teljes összeg": "665340"
                                },
                                {
                                    "Sorszám": "20373",
                                    "Teljes összeg": "248250"
                                },
                                {
                                    "Sorszám": "20377",
                                    "Teljes összeg": "485900"
                                },
                                {
                                    "Sorszám": "20390",
                                    "Teljes összeg": "254870"
                                },
                                {
                                    "Sorszám": "20397",
                                    "Teljes összeg": "505220"
                                },
                                {
                                    "Sorszám": "20399",
                                    "Teljes összeg": "359680"
                                },
                                {
                                    "Sorszám": "20406",
                                    "Teljes összeg": "204980"
                                },
                                {
                                    "Sorszám": "20421",
                                    "Teljes összeg": "507650"
                                },
                                {
                                    "Sorszám": "20433",
                                    "Teljes összeg": "235000"
                                },
                                {
                                    "Sorszám": "20434",
                                    "Teljes összeg": "741910"
                                },
                                {
                                    "Sorszám": "20461",
                                    "Teljes összeg": "476240"
                                },
                                {
                                    "Sorszám": "20474",
                                    "Teljes összeg": "317000"
                                },
                                {
                                    "Sorszám": "20479",
                                    "Teljes összeg": "241110"
                                },
                                {
                                    "Sorszám": "20487",
                                    "Teljes összeg": "354570"
                                },
                                {
                                    "Sorszám": "20488",
                                    "Teljes összeg": "444390"
                                },
                                {
                                    "Sorszám": "20491",
                                    "Teljes összeg": "1181140"
                                },
                                {
                                    "Sorszám": "20501",
                                    "Teljes összeg": "360300"
                                },
                                {
                                    "Sorszám": "20504",
                                    "Teljes összeg": "543880"
                                },
                                {
                                    "Sorszám": "20516",
                                    "Teljes összeg": "464600"
                                },
                                {
                                    "Sorszám": "20518",
                                    "Teljes összeg": "477160"
                                },
                                {
                                    "Sorszám": "20531",
                                    "Teljes összeg": "287470"
                                },
                                {
                                    "Sorszám": "20532",
                                    "Teljes összeg": "242770"
                                },
                                {
                                    "Sorszám": "20537",
                                    "Teljes összeg": "335520"
                                },
                                {
                                    "Sorszám": "20542",
                                    "Teljes összeg": "306100"
                                },
                                {
                                    "Sorszám": "20543",
                                    "Teljes összeg": "455120"
                                },
                                {
                                    "Sorszám": "20547",
                                    "Teljes összeg": "454640"
                                },
                                {
                                    "Sorszám": "20553",
                                    "Teljes összeg": "301340"
                                },
                                {
                                    "Sorszám": "20555",
                                    "Teljes összeg": "365080"
                                },
                                {
                                    "Sorszám": "20557",
                                    "Teljes összeg": "303740"
                                },
                                {
                                    "Sorszám": "20560",
                                    "Teljes összeg": "235370"
                                },
                                {
                                    "Sorszám": "20589",
                                    "Teljes összeg": "250250"
                                },
                                {
                                    "Sorszám": "20596",
                                    "Teljes összeg": "207130"
                                },
                                {
                                    "Sorszám": "20599",
                                    "Teljes összeg": "256290"
                                },
                                {
                                    "Sorszám": "20609",
                                    "Teljes összeg": "224250"
                                },
                                {
                                    "Sorszám": "20613",
                                    "Teljes összeg": "442560"
                                },
                                {
                                    "Sorszám": "20614",
                                    "Teljes összeg": "432650"
                                },
                                {
                                    "Sorszám": "20626",
                                    "Teljes összeg": "302300"
                                },
                                {
                                    "Sorszám": "20639",
                                    "Teljes összeg": "335230"
                                },
                                {
                                    "Sorszám": "20650",
                                    "Teljes összeg": "879610"
                                },
                                {
                                    "Sorszám": "20655",
                                    "Teljes összeg": "567430"
                                },
                                {
                                    "Sorszám": "20671",
                                    "Teljes összeg": "446550"
                                },
                                {
                                    "Sorszám": "20675",
                                    "Teljes összeg": "483420"
                                },
                                {
                                    "Sorszám": "20689",
                                    "Teljes összeg": "293500"
                                },
                                {
                                    "Sorszám": "20696",
                                    "Teljes összeg": "277710"
                                },
                                {
                                    "Sorszám": "20697",
                                    "Teljes összeg": "216140"
                                },
                                {
                                    "Sorszám": "20700",
                                    "Teljes összeg": "336150"
                                },
                                {
                                    "Sorszám": "20705",
                                    "Teljes összeg": "230690"
                                },
                                {
                                    "Sorszám": "20718",
                                    "Teljes összeg": "316880"
                                },
                                {
                                    "Sorszám": "20722",
                                    "Teljes összeg": "246430"
                                },
                                {
                                    "Sorszám": "20723",
                                    "Teljes összeg": "316740"
                                },
                                {
                                    "Sorszám": "20726",
                                    "Teljes összeg": "320270"
                                },
                                {
                                    "Sorszám": "20733",
                                    "Teljes összeg": "212280"
                                },
                                {
                                    "Sorszám": "20734",
                                    "Teljes összeg": "440030"
                                },
                                {
                                    "Sorszám": "20740",
                                    "Teljes összeg": "246960"
                                },
                                {
                                    "Sorszám": "20765",
                                    "Teljes összeg": "623510"
                                },
                                {
                                    "Sorszám": "20766",
                                    "Teljes összeg": "245250"
                                },
                                {
                                    "Sorszám": "20778",
                                    "Teljes összeg": "307690"
                                },
                                {
                                    "Sorszám": "20779",
                                    "Teljes összeg": "339010"
                                },
                                {
                                    "Sorszám": "20788",
                                    "Teljes összeg": "337200"
                                },
                                {
                                    "Sorszám": "20798",
                                    "Teljes összeg": "237370"
                                },
                                {
                                    "Sorszám": "20805",
                                    "Teljes összeg": "455990"
                                },
                                {
                                    "Sorszám": "20809",
                                    "Teljes összeg": "441920"
                                },
                                {
                                    "Sorszám": "20821",
                                    "Teljes összeg": "396600"
                                },
                                {
                                    "Sorszám": "20822",
                                    "Teljes összeg": "366490"
                                },
                                {
                                    "Sorszám": "20825",
                                    "Teljes összeg": "317950"
                                },
                                {
                                    "Sorszám": "20834",
                                    "Teljes összeg": "227610"
                                },
                                {
                                    "Sorszám": "20837",
                                    "Teljes összeg": "381000"
                                },
                                {
                                    "Sorszám": "20842",
                                    "Teljes összeg": "406970"
                                },
                                {
                                    "Sorszám": "20856",
                                    "Teljes összeg": "508540"
                                },
                                {
                                    "Sorszám": "20860",
                                    "Teljes összeg": "433470"
                                },
                                {
                                    "Sorszám": "20861",
                                    "Teljes összeg": "276210"
                                },
                                {
                                    "Sorszám": "20865",
                                    "Teljes összeg": "1142200"
                                },
                                {
                                    "Sorszám": "20871",
                                    "Teljes összeg": "268080"
                                },
                                {
                                    "Sorszám": "20874",
                                    "Teljes összeg": "332490"
                                },
                                {
                                    "Sorszám": "20876",
                                    "Teljes összeg": "408070"
                                },
                                {
                                    "Sorszám": "20880",
                                    "Teljes összeg": "1318030"
                                },
                                {
                                    "Sorszám": "20883",
                                    "Teljes összeg": "264530"
                                },
                                {
                                    "Sorszám": "20884",
                                    "Teljes összeg": "339560"
                                },
                                {
                                    "Sorszám": "20887",
                                    "Teljes összeg": "434270"
                                },
                                {
                                    "Sorszám": "20892",
                                    "Teljes összeg": "234030"
                                },
                                {
                                    "Sorszám": "20910",
                                    "Teljes összeg": "280180"
                                },
                                {
                                    "Sorszám": "20913",
                                    "Teljes összeg": "233080"
                                },
                                {
                                    "Sorszám": "20923",
                                    "Teljes összeg": "235480"
                                },
                                {
                                    "Sorszám": "20943",
                                    "Teljes összeg": "389720"
                                },
                                {
                                    "Sorszám": "20945",
                                    "Teljes összeg": "271140"
                                },
                                {
                                    "Sorszám": "20947",
                                    "Teljes összeg": "238760"
                                },
                                {
                                    "Sorszám": "20952",
                                    "Teljes összeg": "545150"
                                },
                                {
                                    "Sorszám": "20955",
                                    "Teljes összeg": "345970"
                                },
                                {
                                    "Sorszám": "20972",
                                    "Teljes összeg": "277700"
                                },
                                {
                                    "Sorszám": "20977",
                                    "Teljes összeg": "500500"
                                },
                                {
                                    "Sorszám": "20994",
                                    "Teljes összeg": "523590"
                                },
                                {
                                    "Sorszám": "20997",
                                    "Teljes összeg": "306290"
                                },
                                {
                                    "Sorszám": "21014",
                                    "Teljes összeg": "468150"
                                },
                                {
                                    "Sorszám": "21035",
                                    "Teljes összeg": "222220"
                                },
                                {
                                    "Sorszám": "21038",
                                    "Teljes összeg": "231400"
                                },
                                {
                                    "Sorszám": "21044",
                                    "Teljes összeg": "581110"
                                },
                                {
                                    "Sorszám": "21046",
                                    "Teljes összeg": "293940"
                                },
                                {
                                    "Sorszám": "21051",
                                    "Teljes összeg": "561840"
                                },
                                {
                                    "Sorszám": "21055",
                                    "Teljes összeg": "367890"
                                },
                                {
                                    "Sorszám": "21058",
                                    "Teljes összeg": "390750"
                                },
                                {
                                    "Sorszám": "21080",
                                    "Teljes összeg": "320110"
                                },
                                {
                                    "Sorszám": "21086",
                                    "Teljes összeg": "370400"
                                },
                                {
                                    "Sorszám": "21089",
                                    "Teljes összeg": "314070"
                                },
                                {
                                    "Sorszám": "21110",
                                    "Teljes összeg": "301570"
                                },
                                {
                                    "Sorszám": "21117",
                                    "Teljes összeg": "487320"
                                },
                                {
                                    "Sorszám": "21132",
                                    "Teljes összeg": "228780"
                                },
                                {
                                    "Sorszám": "21147",
                                    "Teljes összeg": "371340"
                                },
                                {
                                    "Sorszám": "21157",
                                    "Teljes összeg": "208480"
                                },
                                {
                                    "Sorszám": "21158",
                                    "Teljes összeg": "448620"
                                },
                                {
                                    "Sorszám": "21166",
                                    "Teljes összeg": "221740"
                                },
                                {
                                    "Sorszám": "21176",
                                    "Teljes összeg": "359300"
                                },
                                {
                                    "Sorszám": "21179",
                                    "Teljes összeg": "241620"
                                },
                                {
                                    "Sorszám": "21182",
                                    "Teljes összeg": "270210"
                                },
                                {
                                    "Sorszám": "21194",
                                    "Teljes összeg": "254080"
                                },
                                {
                                    "Sorszám": "21195",
                                    "Teljes összeg": "210100"
                                },
                                {
                                    "Sorszám": "21200",
                                    "Teljes összeg": "697080"
                                },
                                {
                                    "Sorszám": "21204",
                                    "Teljes összeg": "318140"
                                },
                                {
                                    "Sorszám": "21234",
                                    "Teljes összeg": "227150"
                                },
                                {
                                    "Sorszám": "21258",
                                    "Teljes összeg": "214280"
                                },
                                {
                                    "Sorszám": "21265",
                                    "Teljes összeg": "222860"
                                },
                                {
                                    "Sorszám": "21280",
                                    "Teljes összeg": "451130"
                                },
                                {
                                    "Sorszám": "21291",
                                    "Teljes összeg": "325820"
                                },
                                {
                                    "Sorszám": "21294",
                                    "Teljes összeg": "280090"
                                },
                                {
                                    "Sorszám": "21296",
                                    "Teljes összeg": "342100"
                                },
                                {
                                    "Sorszám": "21316",
                                    "Teljes összeg": "747600"
                                },
                                {
                                    "Sorszám": "21319",
                                    "Teljes összeg": "302480"
                                },
                                {
                                    "Sorszám": "21320",
                                    "Teljes összeg": "226590"
                                },
                                {
                                    "Sorszám": "21335",
                                    "Teljes összeg": "446480"
                                },
                                {
                                    "Sorszám": "21343",
                                    "Teljes összeg": "601460"
                                },
                                {
                                    "Sorszám": "21359",
                                    "Teljes összeg": "246910"
                                },
                                {
                                    "Sorszám": "21360",
                                    "Teljes összeg": "365270"
                                },
                                {
                                    "Sorszám": "21384",
                                    "Teljes összeg": "330720"
                                },
                                {
                                    "Sorszám": "21406",
                                    "Teljes összeg": "251170"
                                },
                                {
                                    "Sorszám": "21407",
                                    "Teljes összeg": "292540"
                                },
                                {
                                    "Sorszám": "21433",
                                    "Teljes összeg": "324040"
                                },
                                {
                                    "Sorszám": "21443",
                                    "Teljes összeg": "629010"
                                },
                                {
                                    "Sorszám": "21452",
                                    "Teljes összeg": "1022730"
                                },
                                {
                                    "Sorszám": "21453",
                                    "Teljes összeg": "364350"
                                },
                                {
                                    "Sorszám": "21470",
                                    "Teljes összeg": "206820"
                                },
                                {
                                    "Sorszám": "21482",
                                    "Teljes összeg": "448370"
                                },
                                {
                                    "Sorszám": "21485",
                                    "Teljes összeg": "649210"
                                },
                                {
                                    "Sorszám": "21497",
                                    "Teljes összeg": "218520"
                                },
                                {
                                    "Sorszám": "21499",
                                    "Teljes összeg": "380580"
                                },
                                {
                                    "Sorszám": "21513",
                                    "Teljes összeg": "291380"
                                },
                                {
                                    "Sorszám": "21518",
                                    "Teljes összeg": "311490"
                                },
                                {
                                    "Sorszám": "21531",
                                    "Teljes összeg": "452340"
                                },
                                {
                                    "Sorszám": "21543",
                                    "Teljes összeg": "462850"
                                },
                                {
                                    "Sorszám": "21550",
                                    "Teljes összeg": "452950"
                                },
                                {
                                    "Sorszám": "21551",
                                    "Teljes összeg": "512570"
                                },
                                {
                                    "Sorszám": "21552",
                                    "Teljes összeg": "270690"
                                },
                                {
                                    "Sorszám": "21553",
                                    "Teljes összeg": "373520"
                                },
                                {
                                    "Sorszám": "21557",
                                    "Teljes összeg": "230490"
                                },
                                {
                                    "Sorszám": "21563",
                                    "Teljes összeg": "233080"
                                },
                                {
                                    "Sorszám": "21566",
                                    "Teljes összeg": "467420"
                                },
                                {
                                    "Sorszám": "21568",
                                    "Teljes összeg": "286710"
                                },
                                {
                                    "Sorszám": "21575",
                                    "Teljes összeg": "418100"
                                },
                                {
                                    "Sorszám": "21577",
                                    "Teljes összeg": "481670"
                                },
                                {
                                    "Sorszám": "21595",
                                    "Teljes összeg": "226790"
                                },
                                {
                                    "Sorszám": "21596",
                                    "Teljes összeg": "290120"
                                },
                                {
                                    "Sorszám": "21597",
                                    "Teljes összeg": "598920"
                                },
                                {
                                    "Sorszám": "21603",
                                    "Teljes összeg": "358570"
                                },
                                {
                                    "Sorszám": "21606",
                                    "Teljes összeg": "318380"
                                },
                                {
                                    "Sorszám": "21621",
                                    "Teljes összeg": "323190"
                                },
                                {
                                    "Sorszám": "21646",
                                    "Teljes összeg": "473330"
                                },
                                {
                                    "Sorszám": "21647",
                                    "Teljes összeg": "903470"
                                },
                                {
                                    "Sorszám": "21648",
                                    "Teljes összeg": "667670"
                                },
                                {
                                    "Sorszám": "21652",
                                    "Teljes összeg": "539090"
                                },
                                {
                                    "Sorszám": "21659",
                                    "Teljes összeg": "369960"
                                },
                                {
                                    "Sorszám": "21667",
                                    "Teljes összeg": "296640"
                                },
                                {
                                    "Sorszám": "21678",
                                    "Teljes összeg": "246190"
                                },
                                {
                                    "Sorszám": "21679",
                                    "Teljes összeg": "217860"
                                },
                                {
                                    "Sorszám": "21680",
                                    "Teljes összeg": "378170"
                                },
                                {
                                    "Sorszám": "21698",
                                    "Teljes összeg": "652910"
                                },
                                {
                                    "Sorszám": "21699",
                                    "Teljes összeg": "231630"
                                },
                                {
                                    "Sorszám": "21701",
                                    "Teljes összeg": "442320"
                                },
                                {
                                    "Sorszám": "21702",
                                    "Teljes összeg": "728510"
                                },
                                {
                                    "Sorszám": "21720",
                                    "Teljes összeg": "628860"
                                },
                                {
                                    "Sorszám": "21722",
                                    "Teljes összeg": "269420"
                                },
                                {
                                    "Sorszám": "21727",
                                    "Teljes összeg": "214480"
                                },
                                {
                                    "Sorszám": "21736",
                                    "Teljes összeg": "313860"
                                },
                                {
                                    "Sorszám": "21751",
                                    "Teljes összeg": "478610"
                                },
                                {
                                    "Sorszám": "21752",
                                    "Teljes összeg": "578220"
                                },
                                {
                                    "Sorszám": "21754",
                                    "Teljes összeg": "412430"
                                },
                                {
                                    "Sorszám": "21766",
                                    "Teljes összeg": "284160"
                                },
                                {
                                    "Sorszám": "21784",
                                    "Teljes összeg": "220530"
                                },
                                {
                                    "Sorszám": "21787",
                                    "Teljes összeg": "247290"
                                },
                                {
                                    "Sorszám": "21794",
                                    "Teljes összeg": "462320"
                                },
                                {
                                    "Sorszám": "21807",
                                    "Teljes összeg": "1447330"
                                },
                                {
                                    "Sorszám": "21815",
                                    "Teljes összeg": "1340090"
                                },
                                {
                                    "Sorszám": "21825",
                                    "Teljes összeg": "318450"
                                },
                                {
                                    "Sorszám": "21836",
                                    "Teljes összeg": "503430"
                                },
                                {
                                    "Sorszám": "21846",
                                    "Teljes összeg": "212560"
                                },
                                {
                                    "Sorszám": "21860",
                                    "Teljes összeg": "360080"
                                },
                                {
                                    "Sorszám": "21865",
                                    "Teljes összeg": "286060"
                                },
                                {
                                    "Sorszám": "21876",
                                    "Teljes összeg": "408860"
                                },
                                {
                                    "Sorszám": "21883",
                                    "Teljes összeg": "219870"
                                },
                                {
                                    "Sorszám": "21886",
                                    "Teljes összeg": "488460"
                                },
                                {
                                    "Sorszám": "21889",
                                    "Teljes összeg": "533230"
                                },
                                {
                                    "Sorszám": "21899",
                                    "Teljes összeg": "1110440"
                                },
                                {
                                    "Sorszám": "21901",
                                    "Teljes összeg": "262610"
                                },
                                {
                                    "Sorszám": "21907",
                                    "Teljes összeg": "413820"
                                },
                                {
                                    "Sorszám": "21919",
                                    "Teljes összeg": "266660"
                                },
                                {
                                    "Sorszám": "21921",
                                    "Teljes összeg": "340710"
                                },
                                {
                                    "Sorszám": "21923",
                                    "Teljes összeg": "240590"
                                },
                                {
                                    "Sorszám": "21937",
                                    "Teljes összeg": "207150"
                                },
                                {
                                    "Sorszám": "21942",
                                    "Teljes összeg": "486440"
                                },
                                {
                                    "Sorszám": "21949",
                                    "Teljes összeg": "252700"
                                },
                                {
                                    "Sorszám": "21951",
                                    "Teljes összeg": "360980"
                                },
                                {
                                    "Sorszám": "21973",
                                    "Teljes összeg": "337190"
                                },
                                {
                                    "Sorszám": "21975",
                                    "Teljes összeg": "314720"
                                },
                                {
                                    "Sorszám": "21995",
                                    "Teljes összeg": "223730"
                                },
                                {
                                    "Sorszám": "22017",
                                    "Teljes összeg": "260040"
                                },
                                {
                                    "Sorszám": "22018",
                                    "Teljes összeg": "327030"
                                },
                                {
                                    "Sorszám": "22040",
                                    "Teljes összeg": "333380"
                                },
                                {
                                    "Sorszám": "22042",
                                    "Teljes összeg": "228510"
                                },
                                {
                                    "Sorszám": "22063",
                                    "Teljes összeg": "222540"
                                },
                                {
                                    "Sorszám": "22110",
                                    "Teljes összeg": "217550"
                                },
                                {
                                    "Sorszám": "22124",
                                    "Teljes összeg": "497800"
                                },
                                {
                                    "Sorszám": "22131",
                                    "Teljes összeg": "1129640"
                                },
                                {
                                    "Sorszám": "22135",
                                    "Teljes összeg": "304350"
                                },
                                {
                                    "Sorszám": "22165",
                                    "Teljes összeg": "303550"
                                },
                                {
                                    "Sorszám": "22166",
                                    "Teljes összeg": "410710"
                                },
                                {
                                    "Sorszám": "22168",
                                    "Teljes összeg": "338500"
                                },
                                {
                                    "Sorszám": "22175",
                                    "Teljes összeg": "244860"
                                },
                                {
                                    "Sorszám": "22186",
                                    "Teljes összeg": "378300"
                                },
                                {
                                    "Sorszám": "22190",
                                    "Teljes összeg": "453830"
                                },
                                {
                                    "Sorszám": "22198",
                                    "Teljes összeg": "290490"
                                },
                                {
                                    "Sorszám": "22199",
                                    "Teljes összeg": "233090"
                                },
                                {
                                    "Sorszám": "22212",
                                    "Teljes összeg": "366960"
                                },
                                {
                                    "Sorszám": "22215",
                                    "Teljes összeg": "435300"
                                },
                                {
                                    "Sorszám": "22219",
                                    "Teljes összeg": "222810"
                                },
                                {
                                    "Sorszám": "22247",
                                    "Teljes összeg": "355410"
                                },
                                {
                                    "Sorszám": "22255",
                                    "Teljes összeg": "351360"
                                },
                                {
                                    "Sorszám": "22268",
                                    "Teljes összeg": "541720"
                                },
                                {
                                    "Sorszám": "22274",
                                    "Teljes összeg": "221770"
                                },
                                {
                                    "Sorszám": "22275",
                                    "Teljes összeg": "324090"
                                },
                                {
                                    "Sorszám": "22292",
                                    "Teljes összeg": "457480"
                                },
                                {
                                    "Sorszám": "22293",
                                    "Teljes összeg": "429190"
                                },
                                {
                                    "Sorszám": "22296",
                                    "Teljes összeg": "229640"
                                },
                                {
                                    "Sorszám": "22297",
                                    "Teljes összeg": "335590"
                                },
                                {
                                    "Sorszám": "22306",
                                    "Teljes összeg": "333590"
                                },
                                {
                                    "Sorszám": "22328",
                                    "Teljes összeg": "230960"
                                },
                                {
                                    "Sorszám": "22330",
                                    "Teljes összeg": "717740"
                                },
                                {
                                    "Sorszám": "22332",
                                    "Teljes összeg": "299720"
                                },
                                {
                                    "Sorszám": "22340",
                                    "Teljes összeg": "517250"
                                },
                                {
                                    "Sorszám": "22367",
                                    "Teljes összeg": "300630"
                                },
                                {
                                    "Sorszám": "22386",
                                    "Teljes összeg": "205040"
                                },
                                {
                                    "Sorszám": "22396",
                                    "Teljes összeg": "313200"
                                },
                                {
                                    "Sorszám": "22427",
                                    "Teljes összeg": "301740"
                                },
                                {
                                    "Sorszám": "22429",
                                    "Teljes összeg": "275890"
                                },
                                {
                                    "Sorszám": "22439",
                                    "Teljes összeg": "404380"
                                },
                                {
                                    "Sorszám": "22457",
                                    "Teljes összeg": "260190"
                                },
                                {
                                    "Sorszám": "22459",
                                    "Teljes összeg": "240500"
                                },
                                {
                                    "Sorszám": "22466",
                                    "Teljes összeg": "297570"
                                },
                                {
                                    "Sorszám": "22471",
                                    "Teljes összeg": "341020"
                                },
                                {
                                    "Sorszám": "22473",
                                    "Teljes összeg": "228510"
                                },
                                {
                                    "Sorszám": "22482",
                                    "Teljes összeg": "399450"
                                },
                                {
                                    "Sorszám": "22485",
                                    "Teljes összeg": "283080"
                                },
                                {
                                    "Sorszám": "22516",
                                    "Teljes összeg": "269110"
                                },
                                {
                                    "Sorszám": "22527",
                                    "Teljes összeg": "250150"
                                },
                                {
                                    "Sorszám": "22530",
                                    "Teljes összeg": "331030"
                                },
                                {
                                    "Sorszám": "22532",
                                    "Teljes összeg": "530210"
                                },
                                {
                                    "Sorszám": "22546",
                                    "Teljes összeg": "546140"
                                },
                                {
                                    "Sorszám": "22548",
                                    "Teljes összeg": "229820"
                                },
                                {
                                    "Sorszám": "22562",
                                    "Teljes összeg": "478830"
                                },
                                {
                                    "Sorszám": "22566",
                                    "Teljes összeg": "207980"
                                },
                                {
                                    "Sorszám": "22569",
                                    "Teljes összeg": "525010"
                                },
                                {
                                    "Sorszám": "22570",
                                    "Teljes összeg": "1816200"
                                },
                                {
                                    "Sorszám": "22588",
                                    "Teljes összeg": "223450"
                                },
                                {
                                    "Sorszám": "22590",
                                    "Teljes összeg": "701450"
                                },
                                {
                                    "Sorszám": "22596",
                                    "Teljes összeg": "215890"
                                },
                                {
                                    "Sorszám": "22616",
                                    "Teljes összeg": "394200"
                                },
                                {
                                    "Sorszám": "22618",
                                    "Teljes összeg": "454010"
                                },
                                {
                                    "Sorszám": "22621",
                                    "Teljes összeg": "369210"
                                },
                                {
                                    "Sorszám": "22642",
                                    "Teljes összeg": "219800"
                                },
                                {
                                    "Sorszám": "22645",
                                    "Teljes összeg": "319070"
                                },
                                {
                                    "Sorszám": "22650",
                                    "Teljes összeg": "500530"
                                },
                                {
                                    "Sorszám": "22651",
                                    "Teljes összeg": "246870"
                                },
                                {
                                    "Sorszám": "22654",
                                    "Teljes összeg": "371670"
                                },
                                {
                                    "Sorszám": "22660",
                                    "Teljes összeg": "387170"
                                },
                                {
                                    "Sorszám": "22667",
                                    "Teljes összeg": "248450"
                                },
                                {
                                    "Sorszám": "22693",
                                    "Teljes összeg": "205240"
                                },
                                {
                                    "Sorszám": "22696",
                                    "Teljes összeg": "587880"
                                },
                                {
                                    "Sorszám": "22698",
                                    "Teljes összeg": "427270"
                                },
                                {
                                    "Sorszám": "22708",
                                    "Teljes összeg": "252400"
                                },
                                {
                                    "Sorszám": "22710",
                                    "Teljes összeg": "292400"
                                },
                                {
                                    "Sorszám": "22716",
                                    "Teljes összeg": "486680"
                                },
                                {
                                    "Sorszám": "22722",
                                    "Teljes összeg": "265270"
                                },
                                {
                                    "Sorszám": "22726",
                                    "Teljes összeg": "253110"
                                },
                                {
                                    "Sorszám": "22732",
                                    "Teljes összeg": "215720"
                                },
                                {
                                    "Sorszám": "22733",
                                    "Teljes összeg": "209080"
                                },
                                {
                                    "Sorszám": "22734",
                                    "Teljes összeg": "892930"
                                },
                                {
                                    "Sorszám": "22739",
                                    "Teljes összeg": "341120"
                                },
                                {
                                    "Sorszám": "22754",
                                    "Teljes összeg": "232460"
                                },
                                {
                                    "Sorszám": "22755",
                                    "Teljes összeg": "334650"
                                },
                                {
                                    "Sorszám": "22785",
                                    "Teljes összeg": "351250"
                                },
                                {
                                    "Sorszám": "22787",
                                    "Teljes összeg": "558070"
                                },
                                {
                                    "Sorszám": "22791",
                                    "Teljes összeg": "495660"
                                },
                                {
                                    "Sorszám": "22793",
                                    "Teljes összeg": "488700"
                                },
                                {
                                    "Sorszám": "22800",
                                    "Teljes összeg": "540030"
                                },
                                {
                                    "Sorszám": "22801",
                                    "Teljes összeg": "302600"
                                },
                                {
                                    "Sorszám": "22803",
                                    "Teljes összeg": "253640"
                                },
                                {
                                    "Sorszám": "22821",
                                    "Teljes összeg": "362040"
                                },
                                {
                                    "Sorszám": "22842",
                                    "Teljes összeg": "1038800"
                                },
                                {
                                    "Sorszám": "22843",
                                    "Teljes összeg": "245640"
                                },
                                {
                                    "Sorszám": "22850",
                                    "Teljes összeg": "231150"
                                },
                                {
                                    "Sorszám": "22851",
                                    "Teljes összeg": "503150"
                                },
                                {
                                    "Sorszám": "22853",
                                    "Teljes összeg": "312600"
                                },
                                {
                                    "Sorszám": "22859",
                                    "Teljes összeg": "292180"
                                },
                                {
                                    "Sorszám": "22860",
                                    "Teljes összeg": "302820"
                                },
                                {
                                    "Sorszám": "22868",
                                    "Teljes összeg": "376230"
                                },
                                {
                                    "Sorszám": "22878",
                                    "Teljes összeg": "1023640"
                                },
                                {
                                    "Sorszám": "22879",
                                    "Teljes összeg": "580330"
                                },
                                {
                                    "Sorszám": "22901",
                                    "Teljes összeg": "220570"
                                },
                                {
                                    "Sorszám": "22903",
                                    "Teljes összeg": "268230"
                                },
                                {
                                    "Sorszám": "22911",
                                    "Teljes összeg": "265960"
                                },
                                {
                                    "Sorszám": "22919",
                                    "Teljes összeg": "329270"
                                },
                                {
                                    "Sorszám": "22926",
                                    "Teljes összeg": "455980"
                                },
                                {
                                    "Sorszám": "22933",
                                    "Teljes összeg": "340940"
                                },
                                {
                                    "Sorszám": "22937",
                                    "Teljes összeg": "238630"
                                },
                                {
                                    "Sorszám": "22943",
                                    "Teljes összeg": "333550"
                                },
                                {
                                    "Sorszám": "22958",
                                    "Teljes összeg": "899130"
                                },
                                {
                                    "Sorszám": "22962",
                                    "Teljes összeg": "371400"
                                },
                                {
                                    "Sorszám": "22964",
                                    "Teljes összeg": "304520"
                                },
                                {
                                    "Sorszám": "22971",
                                    "Teljes összeg": "276510"
                                },
                                {
                                    "Sorszám": "22981",
                                    "Teljes összeg": "882230"
                                },
                                {
                                    "Sorszám": "22987",
                                    "Teljes összeg": "359820"
                                },
                                {
                                    "Sorszám": "22994",
                                    "Teljes összeg": "628890"
                                },
                                {
                                    "Sorszám": "22996",
                                    "Teljes összeg": "220740"
                                },
                                {
                                    "Sorszám": "23007",
                                    "Teljes összeg": "485030"
                                },
                                {
                                    "Sorszám": "23013",
                                    "Teljes összeg": "393170"
                                },
                                {
                                    "Sorszám": "23017",
                                    "Teljes összeg": "419190"
                                },
                                {
                                    "Sorszám": "23021",
                                    "Teljes összeg": "222910"
                                },
                                {
                                    "Sorszám": "23025",
                                    "Teljes összeg": "307870"
                                },
                                {
                                    "Sorszám": "23028",
                                    "Teljes összeg": "222290"
                                },
                                {
                                    "Sorszám": "23039",
                                    "Teljes összeg": "719800"
                                },
                                {
                                    "Sorszám": "23050",
                                    "Teljes összeg": "297090"
                                },
                                {
                                    "Sorszám": "23055",
                                    "Teljes összeg": "1574510"
                                },
                                {
                                    "Sorszám": "23074",
                                    "Teljes összeg": "736610"
                                },
                                {
                                    "Sorszám": "23086",
                                    "Teljes összeg": "205540"
                                },
                                {
                                    "Sorszám": "23103",
                                    "Teljes összeg": "273860"
                                },
                                {
                                    "Sorszám": "23125",
                                    "Teljes összeg": "444550"
                                },
                                {
                                    "Sorszám": "23127",
                                    "Teljes összeg": "335190"
                                },
                                {
                                    "Sorszám": "23157",
                                    "Teljes összeg": "837170"
                                },
                                {
                                    "Sorszám": "23158",
                                    "Teljes összeg": "383600"
                                },
                                {
                                    "Sorszám": "23166",
                                    "Teljes összeg": "345480"
                                },
                                {
                                    "Sorszám": "23177",
                                    "Teljes összeg": "286250"
                                },
                                {
                                    "Sorszám": "23186",
                                    "Teljes összeg": "460850"
                                },
                                {
                                    "Sorszám": "23189",
                                    "Teljes összeg": "485890"
                                },
                                {
                                    "Sorszám": "23196",
                                    "Teljes összeg": "351300"
                                },
                                {
                                    "Sorszám": "23207",
                                    "Teljes összeg": "353750"
                                },
                                {
                                    "Sorszám": "23213",
                                    "Teljes összeg": "477700"
                                },
                                {
                                    "Sorszám": "23238",
                                    "Teljes összeg": "247900"
                                },
                                {
                                    "Sorszám": "23247",
                                    "Teljes összeg": "316910"
                                },
                                {
                                    "Sorszám": "23253",
                                    "Teljes összeg": "270710"
                                },
                                {
                                    "Sorszám": "23261",
                                    "Teljes összeg": "226620"
                                },
                                {
                                    "Sorszám": "23262",
                                    "Teljes összeg": "219250"
                                },
                                {
                                    "Sorszám": "23264",
                                    "Teljes összeg": "459820"
                                },
                                {
                                    "Sorszám": "23269",
                                    "Teljes összeg": "252240"
                                },
                                {
                                    "Sorszám": "23274",
                                    "Teljes összeg": "244440"
                                },
                                {
                                    "Sorszám": "23275",
                                    "Teljes összeg": "372670"
                                },
                                {
                                    "Sorszám": "23277",
                                    "Teljes összeg": "254490"
                                },
                                {
                                    "Sorszám": "23281",
                                    "Teljes összeg": "214050"
                                },
                                {
                                    "Sorszám": "23289",
                                    "Teljes összeg": "242870"
                                },
                                {
                                    "Sorszám": "23296",
                                    "Teljes összeg": "429770"
                                },
                                {
                                    "Sorszám": "23306",
                                    "Teljes összeg": "251070"
                                },
                                {
                                    "Sorszám": "23319",
                                    "Teljes összeg": "402030"
                                },
                                {
                                    "Sorszám": "23329",
                                    "Teljes összeg": "1216770"
                                },
                                {
                                    "Sorszám": "23337",
                                    "Teljes összeg": "468200"
                                },
                                {
                                    "Sorszám": "23338",
                                    "Teljes összeg": "516660"
                                },
                                {
                                    "Sorszám": "23358",
                                    "Teljes összeg": "246000"
                                },
                                {
                                    "Sorszám": "23371",
                                    "Teljes összeg": "260140"
                                },
                                {
                                    "Sorszám": "23372",
                                    "Teljes összeg": "329500"
                                },
                                {
                                    "Sorszám": "23378",
                                    "Teljes összeg": "424490"
                                },
                                {
                                    "Sorszám": "23390",
                                    "Teljes összeg": "270070"
                                },
                                {
                                    "Sorszám": "23394",
                                    "Teljes összeg": "275200"
                                },
                                {
                                    "Sorszám": "23396",
                                    "Teljes összeg": "220030"
                                },
                                {
                                    "Sorszám": "23400",
                                    "Teljes összeg": "283500"
                                },
                                {
                                    "Sorszám": "23414",
                                    "Teljes összeg": "450590"
                                },
                                {
                                    "Sorszám": "23416",
                                    "Teljes összeg": "579590"
                                },
                                {
                                    "Sorszám": "23429",
                                    "Teljes összeg": "225810"
                                },
                                {
                                    "Sorszám": "23443",
                                    "Teljes összeg": "506400"
                                },
                                {
                                    "Sorszám": "23445",
                                    "Teljes összeg": "390130"
                                },
                                {
                                    "Sorszám": "23446",
                                    "Teljes összeg": "620390"
                                },
                                {
                                    "Sorszám": "23449",
                                    "Teljes összeg": "469140"
                                },
                                {
                                    "Sorszám": "23458",
                                    "Teljes összeg": "207680"
                                },
                                {
                                    "Sorszám": "23465",
                                    "Teljes összeg": "309990"
                                },
                                {
                                    "Sorszám": "23476",
                                    "Teljes összeg": "830000"
                                },
                                {
                                    "Sorszám": "23481",
                                    "Teljes összeg": "281640"
                                },
                                {
                                    "Sorszám": "23499",
                                    "Teljes összeg": "350510"
                                },
                                {
                                    "Sorszám": "23503",
                                    "Teljes összeg": "210340"
                                },
                                {
                                    "Sorszám": "23510",
                                    "Teljes összeg": "321100"
                                },
                                {
                                    "Sorszám": "23512",
                                    "Teljes összeg": "459310"
                                },
                                {
                                    "Sorszám": "23530",
                                    "Teljes összeg": "348350"
                                },
                                {
                                    "Sorszám": "23532",
                                    "Teljes összeg": "227050"
                                },
                                {
                                    "Sorszám": "23533",
                                    "Teljes összeg": "276020"
                                },
                                {
                                    "Sorszám": "23540",
                                    "Teljes összeg": "227100"
                                },
                                {
                                    "Sorszám": "23553",
                                    "Teljes összeg": "362710"
                                },
                                {
                                    "Sorszám": "23557",
                                    "Teljes összeg": "215680"
                                },
                                {
                                    "Sorszám": "23561",
                                    "Teljes összeg": "361500"
                                },
                                {
                                    "Sorszám": "23566",
                                    "Teljes összeg": "213790"
                                },
                                {
                                    "Sorszám": "23570",
                                    "Teljes összeg": "212070"
                                },
                                {
                                    "Sorszám": "23588",
                                    "Teljes összeg": "603000"
                                },
                                {
                                    "Sorszám": "23589",
                                    "Teljes összeg": "223570"
                                },
                                {
                                    "Sorszám": "23590",
                                    "Teljes összeg": "437070"
                                },
                                {
                                    "Sorszám": "23596",
                                    "Teljes összeg": "211010"
                                },
                                {
                                    "Sorszám": "23598",
                                    "Teljes összeg": "529630"
                                },
                                {
                                    "Sorszám": "23620",
                                    "Teljes összeg": "209770"
                                },
                                {
                                    "Sorszám": "23638",
                                    "Teljes összeg": "215340"
                                },
                                {
                                    "Sorszám": "23643",
                                    "Teljes összeg": "348760"
                                },
                                {
                                    "Sorszám": "23666",
                                    "Teljes összeg": "1552660"
                                },
                                {
                                    "Sorszám": "23680",
                                    "Teljes összeg": "228760"
                                },
                                {
                                    "Sorszám": "23726",
                                    "Teljes összeg": "735150"
                                },
                                {
                                    "Sorszám": "23728",
                                    "Teljes összeg": "282410"
                                },
                                {
                                    "Sorszám": "23735",
                                    "Teljes összeg": "270060"
                                },
                                {
                                    "Sorszám": "23736",
                                    "Teljes összeg": "225340"
                                },
                                {
                                    "Sorszám": "23764",
                                    "Teljes összeg": "335480"
                                },
                                {
                                    "Sorszám": "23801",
                                    "Teljes összeg": "383600"
                                },
                                {
                                    "Sorszám": "23809",
                                    "Teljes összeg": "215540"
                                },
                                {
                                    "Sorszám": "23815",
                                    "Teljes összeg": "486200"
                                },
                                {
                                    "Sorszám": "23823",
                                    "Teljes összeg": "626870"
                                },
                                {
                                    "Sorszám": "23837",
                                    "Teljes összeg": "453470"
                                },
                                {
                                    "Sorszám": "23838",
                                    "Teljes összeg": "289870"
                                },
                                {
                                    "Sorszám": "23857",
                                    "Teljes összeg": "364710"
                                },
                                {
                                    "Sorszám": "23858",
                                    "Teljes összeg": "1317260"
                                },
                                {
                                    "Sorszám": "23866",
                                    "Teljes összeg": "427600"
                                },
                                {
                                    "Sorszám": "23868",
                                    "Teljes összeg": "249230"
                                },
                                {
                                    "Sorszám": "23869",
                                    "Teljes összeg": "402770"
                                },
                                {
                                    "Sorszám": "23874",
                                    "Teljes összeg": "479900"
                                },
                                {
                                    "Sorszám": "23884",
                                    "Teljes összeg": "248070"
                                },
                                {
                                    "Sorszám": "23889",
                                    "Teljes összeg": "341940"
                                },
                                {
                                    "Sorszám": "23890",
                                    "Teljes összeg": "1061240"
                                },
                                {
                                    "Sorszám": "23895",
                                    "Teljes összeg": "300400"
                                },
                                {
                                    "Sorszám": "23903",
                                    "Teljes összeg": "1555630"
                                },
                                {
                                    "Sorszám": "23904",
                                    "Teljes összeg": "278040"
                                },
                                {
                                    "Sorszám": "23923",
                                    "Teljes összeg": "526470"
                                },
                                {
                                    "Sorszám": "23927",
                                    "Teljes összeg": "288290"
                                },
                                {
                                    "Sorszám": "23931",
                                    "Teljes összeg": "339460"
                                },
                                {
                                    "Sorszám": "23936",
                                    "Teljes összeg": "207970"
                                },
                                {
                                    "Sorszám": "23938",
                                    "Teljes összeg": "630150"
                                },
                                {
                                    "Sorszám": "23939",
                                    "Teljes összeg": "244280"
                                },
                                {
                                    "Sorszám": "23946",
                                    "Teljes összeg": "310140"
                                },
                                {
                                    "Sorszám": "23966",
                                    "Teljes összeg": "1982740"
                                },
                                {
                                    "Sorszám": "23971",
                                    "Teljes összeg": "246350"
                                },
                                {
                                    "Sorszám": "23987",
                                    "Teljes összeg": "432830"
                                },
                                {
                                    "Sorszám": "23996",
                                    "Teljes összeg": "365600"
                                },
                                {
                                    "Sorszám": "24010",
                                    "Teljes összeg": "213990"
                                },
                                {
                                    "Sorszám": "24020",
                                    "Teljes összeg": "301270"
                                },
                                {
                                    "Sorszám": "24026",
                                    "Teljes összeg": "208450"
                                },
                                {
                                    "Sorszám": "24029",
                                    "Teljes összeg": "215200"
                                },
                                {
                                    "Sorszám": "24031",
                                    "Teljes összeg": "434850"
                                },
                                {
                                    "Sorszám": "24059",
                                    "Teljes összeg": "313220"
                                },
                                {
                                    "Sorszám": "24066",
                                    "Teljes összeg": "905920"
                                },
                                {
                                    "Sorszám": "24071",
                                    "Teljes összeg": "503210"
                                },
                                {
                                    "Sorszám": "24072",
                                    "Teljes összeg": "259650"
                                },
                                {
                                    "Sorszám": "24074",
                                    "Teljes összeg": "215300"
                                },
                                {
                                    "Sorszám": "24076",
                                    "Teljes összeg": "474220"
                                },
                                {
                                    "Sorszám": "24080",
                                    "Teljes összeg": "316370"
                                },
                                {
                                    "Sorszám": "24084",
                                    "Teljes összeg": "503860"
                                },
                                {
                                    "Sorszám": "24092",
                                    "Teljes összeg": "329780"
                                },
                                {
                                    "Sorszám": "24103",
                                    "Teljes összeg": "353450"
                                },
                                {
                                    "Sorszám": "24112",
                                    "Teljes összeg": "350500"
                                },
                                {
                                    "Sorszám": "24127",
                                    "Teljes összeg": "564630"
                                },
                                {
                                    "Sorszám": "24132",
                                    "Teljes összeg": "218970"
                                },
                                {
                                    "Sorszám": "24135",
                                    "Teljes összeg": "386990"
                                },
                                {
                                    "Sorszám": "24141",
                                    "Teljes összeg": "496470"
                                },
                                {
                                    "Sorszám": "24144",
                                    "Teljes összeg": "326410"
                                },
                                {
                                    "Sorszám": "24150",
                                    "Teljes összeg": "485460"
                                },
                                {
                                    "Sorszám": "24155",
                                    "Teljes összeg": "255460"
                                },
                                {
                                    "Sorszám": "24158",
                                    "Teljes összeg": "556200"
                                },
                                {
                                    "Sorszám": "24161",
                                    "Teljes összeg": "240860"
                                },
                                {
                                    "Sorszám": "24174",
                                    "Teljes összeg": "272810"
                                },
                                {
                                    "Sorszám": "24179",
                                    "Teljes összeg": "215830"
                                },
                                {
                                    "Sorszám": "24185",
                                    "Teljes összeg": "463230"
                                },
                                {
                                    "Sorszám": "24196",
                                    "Teljes összeg": "427630"
                                },
                                {
                                    "Sorszám": "24209",
                                    "Teljes összeg": "471120"
                                },
                                {
                                    "Sorszám": "24215",
                                    "Teljes összeg": "294110"
                                },
                                {
                                    "Sorszám": "24237",
                                    "Teljes összeg": "367680"
                                },
                                {
                                    "Sorszám": "24255",
                                    "Teljes összeg": "291950"
                                },
                                {
                                    "Sorszám": "24265",
                                    "Teljes összeg": "1145660"
                                },
                                {
                                    "Sorszám": "24270",
                                    "Teljes összeg": "278700"
                                },
                                {
                                    "Sorszám": "24272",
                                    "Teljes összeg": "206530"
                                },
                                {
                                    "Sorszám": "24277",
                                    "Teljes összeg": "425320"
                                },
                                {
                                    "Sorszám": "24278",
                                    "Teljes összeg": "205350"
                                },
                                {
                                    "Sorszám": "24279",
                                    "Teljes összeg": "233050"
                                },
                                {
                                    "Sorszám": "24286",
                                    "Teljes összeg": "241500"
                                },
                                {
                                    "Sorszám": "24295",
                                    "Teljes összeg": "274730"
                                },
                                {
                                    "Sorszám": "24297",
                                    "Teljes összeg": "631590"
                                },
                                {
                                    "Sorszám": "24302",
                                    "Teljes összeg": "447990"
                                },
                                {
                                    "Sorszám": "24306",
                                    "Teljes összeg": "279130"
                                },
                                {
                                    "Sorszám": "24314",
                                    "Teljes összeg": "322000"
                                },
                                {
                                    "Sorszám": "24326",
                                    "Teljes összeg": "546570"
                                },
                                {
                                    "Sorszám": "24328",
                                    "Teljes összeg": "259080"
                                },
                                {
                                    "Sorszám": "24332",
                                    "Teljes összeg": "507000"
                                },
                                {
                                    "Sorszám": "24337",
                                    "Teljes összeg": "275830"
                                },
                                {
                                    "Sorszám": "24338",
                                    "Teljes összeg": "232290"
                                },
                                {
                                    "Sorszám": "24339",
                                    "Teljes összeg": "323800"
                                },
                                {
                                    "Sorszám": "24354",
                                    "Teljes összeg": "286980"
                                },
                                {
                                    "Sorszám": "24369",
                                    "Teljes összeg": "348270"
                                },
                                {
                                    "Sorszám": "24389",
                                    "Teljes összeg": "405320"
                                },
                                {
                                    "Sorszám": "24397",
                                    "Teljes összeg": "462690"
                                },
                                {
                                    "Sorszám": "24409",
                                    "Teljes összeg": "359860"
                                },
                                {
                                    "Sorszám": "24443",
                                    "Teljes összeg": "294390"
                                },
                                {
                                    "Sorszám": "24457",
                                    "Teljes összeg": "247820"
                                },
                                {
                                    "Sorszám": "24465",
                                    "Teljes összeg": "215120"
                                },
                                {
                                    "Sorszám": "24473",
                                    "Teljes összeg": "324150"
                                },
                                {
                                    "Sorszám": "24482",
                                    "Teljes összeg": "1298170"
                                },
                                {
                                    "Sorszám": "24485",
                                    "Teljes összeg": "807580"
                                },
                                {
                                    "Sorszám": "24489",
                                    "Teljes összeg": "353930"
                                },
                                {
                                    "Sorszám": "24492",
                                    "Teljes összeg": "280400"
                                },
                                {
                                    "Sorszám": "24494",
                                    "Teljes összeg": "237830"
                                },
                                {
                                    "Sorszám": "24497",
                                    "Teljes összeg": "338980"
                                },
                                {
                                    "Sorszám": "24546",
                                    "Teljes összeg": "488190"
                                },
                                {
                                    "Sorszám": "24552",
                                    "Teljes összeg": "205570"
                                },
                                {
                                    "Sorszám": "24557",
                                    "Teljes összeg": "604680"
                                },
                                {
                                    "Sorszám": "24560",
                                    "Teljes összeg": "1105580"
                                },
                                {
                                    "Sorszám": "24567",
                                    "Teljes összeg": "265870"
                                },
                                {
                                    "Sorszám": "24568",
                                    "Teljes összeg": "508910"
                                },
                                {
                                    "Sorszám": "24588",
                                    "Teljes összeg": "373310"
                                },
                                {
                                    "Sorszám": "24589",
                                    "Teljes összeg": "777060"
                                },
                                {
                                    "Sorszám": "24597",
                                    "Teljes összeg": "393220"
                                },
                                {
                                    "Sorszám": "24603",
                                    "Teljes összeg": "420490"
                                },
                                {
                                    "Sorszám": "24618",
                                    "Teljes összeg": "215060"
                                },
                                {
                                    "Sorszám": "24628",
                                    "Teljes összeg": "472330"
                                },
                                {
                                    "Sorszám": "24634",
                                    "Teljes összeg": "258200"
                                },
                                {
                                    "Sorszám": "24638",
                                    "Teljes összeg": "805990"
                                },
                                {
                                    "Sorszám": "24654",
                                    "Teljes összeg": "328490"
                                },
                                {
                                    "Sorszám": "24665",
                                    "Teljes összeg": "425300"
                                },
                                {
                                    "Sorszám": "24669",
                                    "Teljes összeg": "1797720"
                                },
                                {
                                    "Sorszám": "24672",
                                    "Teljes összeg": "367520"
                                },
                                {
                                    "Sorszám": "24679",
                                    "Teljes összeg": "713200"
                                },
                                {
                                    "Sorszám": "24681",
                                    "Teljes összeg": "268040"
                                },
                                {
                                    "Sorszám": "24684",
                                    "Teljes összeg": "764670"
                                },
                                {
                                    "Sorszám": "24701",
                                    "Teljes összeg": "268120"
                                },
                                {
                                    "Sorszám": "24717",
                                    "Teljes összeg": "320360"
                                },
                                {
                                    "Sorszám": "24719",
                                    "Teljes összeg": "325420"
                                },
                                {
                                    "Sorszám": "24739",
                                    "Teljes összeg": "236790"
                                },
                                {
                                    "Sorszám": "24743",
                                    "Teljes összeg": "321440"
                                },
                                {
                                    "Sorszám": "24747",
                                    "Teljes összeg": "259560"
                                },
                                {
                                    "Sorszám": "24771",
                                    "Teljes összeg": "1026800"
                                },
                                {
                                    "Sorszám": "24778",
                                    "Teljes összeg": "263830"
                                },
                                {
                                    "Sorszám": "24782",
                                    "Teljes összeg": "281390"
                                },
                                {
                                    "Sorszám": "24806",
                                    "Teljes összeg": "1333670"
                                },
                                {
                                    "Sorszám": "24808",
                                    "Teljes összeg": "308560"
                                },
                                {
                                    "Sorszám": "24810",
                                    "Teljes összeg": "250300"
                                },
                                {
                                    "Sorszám": "24817",
                                    "Teljes összeg": "351480"
                                },
                                {
                                    "Sorszám": "24829",
                                    "Teljes összeg": "258700"
                                },
                                {
                                    "Sorszám": "24835",
                                    "Teljes összeg": "311490"
                                },
                                {
                                    "Sorszám": "24838",
                                    "Teljes összeg": "380280"
                                },
                                {
                                    "Sorszám": "24840",
                                    "Teljes összeg": "610510"
                                },
                                {
                                    "Sorszám": "24841",
                                    "Teljes összeg": "384910"
                                },
                                {
                                    "Sorszám": "24845",
                                    "Teljes összeg": "527730"
                                },
                                {
                                    "Sorszám": "24847",
                                    "Teljes összeg": "298870"
                                },
                                {
                                    "Sorszám": "24858",
                                    "Teljes összeg": "288130"
                                },
                                {
                                    "Sorszám": "24864",
                                    "Teljes összeg": "1115520"
                                },
                                {
                                    "Sorszám": "24868",
                                    "Teljes összeg": "244210"
                                },
                                {
                                    "Sorszám": "24875",
                                    "Teljes összeg": "228140"
                                },
                                {
                                    "Sorszám": "24882",
                                    "Teljes összeg": "281710"
                                },
                                {
                                    "Sorszám": "24887",
                                    "Teljes összeg": "217240"
                                },
                                {
                                    "Sorszám": "24888",
                                    "Teljes összeg": "301700"
                                },
                                {
                                    "Sorszám": "24890",
                                    "Teljes összeg": "225840"
                                },
                                {
                                    "Sorszám": "24903",
                                    "Teljes összeg": "308850"
                                },
                                {
                                    "Sorszám": "24912",
                                    "Teljes összeg": "477110"
                                },
                                {
                                    "Sorszám": "24928",
                                    "Teljes összeg": "225660"
                                },
                                {
                                    "Sorszám": "24930",
                                    "Teljes összeg": "384720"
                                },
                                {
                                    "Sorszám": "24952",
                                    "Teljes összeg": "303750"
                                },
                                {
                                    "Sorszám": "24959",
                                    "Teljes összeg": "281630"
                                },
                                {
                                    "Sorszám": "24971",
                                    "Teljes összeg": "273740"
                                },
                                {
                                    "Sorszám": "24985",
                                    "Teljes összeg": "322190"
                                },
                                {
                                    "Sorszám": "24986",
                                    "Teljes összeg": "757460"
                                },
                                {
                                    "Sorszám": "24992",
                                    "Teljes összeg": "251490"
                                },
                                {
                                    "Sorszám": "25005",
                                    "Teljes összeg": "207170"
                                },
                                {
                                    "Sorszám": "25007",
                                    "Teljes összeg": "358230"
                                },
                                {
                                    "Sorszám": "25014",
                                    "Teljes összeg": "222470"
                                },
                                {
                                    "Sorszám": "25018",
                                    "Teljes összeg": "220780"
                                },
                                {
                                    "Sorszám": "25020",
                                    "Teljes összeg": "342680"
                                },
                                {
                                    "Sorszám": "25023",
                                    "Teljes összeg": "226880"
                                },
                                {
                                    "Sorszám": "25026",
                                    "Teljes összeg": "401610"
                                },
                                {
                                    "Sorszám": "25031",
                                    "Teljes összeg": "213460"
                                },
                                {
                                    "Sorszám": "25039",
                                    "Teljes összeg": "280670"
                                },
                                {
                                    "Sorszám": "25040",
                                    "Teljes összeg": "340060"
                                },
                                {
                                    "Sorszám": "25045",
                                    "Teljes összeg": "235930"
                                },
                                {
                                    "Sorszám": "25049",
                                    "Teljes összeg": "207880"
                                },
                                {
                                    "Sorszám": "25061",
                                    "Teljes összeg": "322850"
                                },
                                {
                                    "Sorszám": "25070",
                                    "Teljes összeg": "379260"
                                },
                                {
                                    "Sorszám": "25077",
                                    "Teljes összeg": "378740"
                                },
                                {
                                    "Sorszám": "25090",
                                    "Teljes összeg": "294240"
                                },
                                {
                                    "Sorszám": "25104",
                                    "Teljes összeg": "476330"
                                },
                                {
                                    "Sorszám": "25106",
                                    "Teljes összeg": "400210"
                                },
                                {
                                    "Sorszám": "25110",
                                    "Teljes összeg": "441110"
                                },
                                {
                                    "Sorszám": "25112",
                                    "Teljes összeg": "368390"
                                },
                                {
                                    "Sorszám": "25114",
                                    "Teljes összeg": "414610"
                                },
                                {
                                    "Sorszám": "25117",
                                    "Teljes összeg": "254650"
                                },
                                {
                                    "Sorszám": "25123",
                                    "Teljes összeg": "573040"
                                },
                                {
                                    "Sorszám": "25127",
                                    "Teljes összeg": "287570"
                                },
                                {
                                    "Sorszám": "25134",
                                    "Teljes összeg": "323160"
                                },
                                {
                                    "Sorszám": "25154",
                                    "Teljes összeg": "283270"
                                },
                                {
                                    "Sorszám": "25175",
                                    "Teljes összeg": "395960"
                                },
                                {
                                    "Sorszám": "25186",
                                    "Teljes összeg": "1564860"
                                },
                                {
                                    "Sorszám": "25206",
                                    "Teljes összeg": "1143180"
                                },
                                {
                                    "Sorszám": "25208",
                                    "Teljes összeg": "226170"
                                },
                                {
                                    "Sorszám": "25219",
                                    "Teljes összeg": "717100"
                                },
                                {
                                    "Sorszám": "25243",
                                    "Teljes összeg": "320370"
                                },
                                {
                                    "Sorszám": "25280",
                                    "Teljes összeg": "313930"
                                },
                                {
                                    "Sorszám": "25284",
                                    "Teljes összeg": "381680"
                                },
                                {
                                    "Sorszám": "25304",
                                    "Teljes összeg": "417760"
                                },
                                {
                                    "Sorszám": "25305",
                                    "Teljes összeg": "230490"
                                },
                                {
                                    "Sorszám": "25309",
                                    "Teljes összeg": "249940"
                                },
                                {
                                    "Sorszám": "25313",
                                    "Teljes összeg": "280370"
                                },
                                {
                                    "Sorszám": "25329",
                                    "Teljes összeg": "218810"
                                },
                                {
                                    "Sorszám": "25360",
                                    "Teljes összeg": "354640"
                                },
                                {
                                    "Sorszám": "25366",
                                    "Teljes összeg": "606270"
                                },
                                {
                                    "Sorszám": "25372",
                                    "Teljes összeg": "213220"
                                },
                                {
                                    "Sorszám": "25420",
                                    "Teljes összeg": "216480"
                                },
                                {
                                    "Sorszám": "25421",
                                    "Teljes összeg": "609810"
                                },
                                {
                                    "Sorszám": "25426",
                                    "Teljes összeg": "244040"
                                },
                                {
                                    "Sorszám": "25428",
                                    "Teljes összeg": "275400"
                                },
                                {
                                    "Sorszám": "25429",
                                    "Teljes összeg": "255240"
                                },
                                {
                                    "Sorszám": "25436",
                                    "Teljes összeg": "294800"
                                },
                                {
                                    "Sorszám": "25446",
                                    "Teljes összeg": "358480"
                                },
                                {
                                    "Sorszám": "25450",
                                    "Teljes összeg": "421150"
                                },
                                {
                                    "Sorszám": "25465",
                                    "Teljes összeg": "293370"
                                },
                                {
                                    "Sorszám": "25471",
                                    "Teljes összeg": "262300"
                                },
                                {
                                    "Sorszám": "25477",
                                    "Teljes összeg": "252900"
                                },
                                {
                                    "Sorszám": "25479",
                                    "Teljes összeg": "217590"
                                },
                                {
                                    "Sorszám": "25490",
                                    "Teljes összeg": "362880"
                                },
                                {
                                    "Sorszám": "25496",
                                    "Teljes összeg": "1113570"
                                },
                                {
                                    "Sorszám": "25501",
                                    "Teljes összeg": "253320"
                                },
                                {
                                    "Sorszám": "25502",
                                    "Teljes összeg": "454060"
                                },
                                {
                                    "Sorszám": "25516",
                                    "Teljes összeg": "667270"
                                },
                                {
                                    "Sorszám": "25520",
                                    "Teljes összeg": "210280"
                                },
                                {
                                    "Sorszám": "25527",
                                    "Teljes összeg": "249710"
                                },
                                {
                                    "Sorszám": "25536",
                                    "Teljes összeg": "218110"
                                },
                                {
                                    "Sorszám": "25540",
                                    "Teljes összeg": "430150"
                                },
                                {
                                    "Sorszám": "25544",
                                    "Teljes összeg": "340060"
                                },
                                {
                                    "Sorszám": "25547",
                                    "Teljes összeg": "299190"
                                },
                                {
                                    "Sorszám": "25568",
                                    "Teljes összeg": "377840"
                                },
                                {
                                    "Sorszám": "25574",
                                    "Teljes összeg": "612340"
                                },
                                {
                                    "Sorszám": "25579",
                                    "Teljes összeg": "421410"
                                },
                                {
                                    "Sorszám": "25585",
                                    "Teljes összeg": "243800"
                                },
                                {
                                    "Sorszám": "25589",
                                    "Teljes összeg": "359410"
                                },
                                {
                                    "Sorszám": "25599",
                                    "Teljes összeg": "311390"
                                },
                                {
                                    "Sorszám": "25600",
                                    "Teljes összeg": "238900"
                                },
                                {
                                    "Sorszám": "25601",
                                    "Teljes összeg": "310500"
                                },
                                {
                                    "Sorszám": "25606",
                                    "Teljes összeg": "462480"
                                },
                                {
                                    "Sorszám": "25609",
                                    "Teljes összeg": "210040"
                                },
                                {
                                    "Sorszám": "25614",
                                    "Teljes összeg": "210610"
                                },
                                {
                                    "Sorszám": "25615",
                                    "Teljes összeg": "221440"
                                },
                                {
                                    "Sorszám": "25621",
                                    "Teljes összeg": "488540"
                                },
                                {
                                    "Sorszám": "25635",
                                    "Teljes összeg": "221880"
                                },
                                {
                                    "Sorszám": "25640",
                                    "Teljes összeg": "210170"
                                },
                                {
                                    "Sorszám": "25644",
                                    "Teljes összeg": "738160"
                                },
                                {
                                    "Sorszám": "25649",
                                    "Teljes összeg": "218840"
                                },
                                {
                                    "Sorszám": "25650",
                                    "Teljes összeg": "1016130"
                                },
                                {
                                    "Sorszám": "25658",
                                    "Teljes összeg": "469430"
                                },
                                {
                                    "Sorszám": "25662",
                                    "Teljes összeg": "280980"
                                },
                                {
                                    "Sorszám": "25669",
                                    "Teljes összeg": "274730"
                                },
                                {
                                    "Sorszám": "25682",
                                    "Teljes összeg": "521940"
                                },
                                {
                                    "Sorszám": "25684",
                                    "Teljes összeg": "239720"
                                },
                                {
                                    "Sorszám": "25688",
                                    "Teljes összeg": "1007250"
                                },
                                {
                                    "Sorszám": "25690",
                                    "Teljes összeg": "306370"
                                },
                                {
                                    "Sorszám": "25691",
                                    "Teljes összeg": "281260"
                                },
                                {
                                    "Sorszám": "25697",
                                    "Teljes összeg": "232900"
                                },
                                {
                                    "Sorszám": "25701",
                                    "Teljes összeg": "285570"
                                },
                                {
                                    "Sorszám": "25723",
                                    "Teljes összeg": "371880"
                                },
                                {
                                    "Sorszám": "25732",
                                    "Teljes összeg": "376760"
                                },
                                {
                                    "Sorszám": "25738",
                                    "Teljes összeg": "434900"
                                },
                                {
                                    "Sorszám": "25744",
                                    "Teljes összeg": "400160"
                                },
                                {
                                    "Sorszám": "25752",
                                    "Teljes összeg": "339560"
                                },
                                {
                                    "Sorszám": "25760",
                                    "Teljes összeg": "410560"
                                },
                                {
                                    "Sorszám": "25770",
                                    "Teljes összeg": "227930"
                                },
                                {
                                    "Sorszám": "25773",
                                    "Teljes összeg": "317400"
                                },
                                {
                                    "Sorszám": "25787",
                                    "Teljes összeg": "491680"
                                },
                                {
                                    "Sorszám": "25797",
                                    "Teljes összeg": "207980"
                                },
                                {
                                    "Sorszám": "25802",
                                    "Teljes összeg": "249650"
                                },
                                {
                                    "Sorszám": "25823",
                                    "Teljes összeg": "362020"
                                },
                                {
                                    "Sorszám": "25829",
                                    "Teljes összeg": "294030"
                                },
                                {
                                    "Sorszám": "25846",
                                    "Teljes összeg": "247900"
                                },
                                {
                                    "Sorszám": "25847",
                                    "Teljes összeg": "299100"
                                },
                                {
                                    "Sorszám": "25851",
                                    "Teljes összeg": "263500"
                                },
                                {
                                    "Sorszám": "25858",
                                    "Teljes összeg": "460620"
                                },
                                {
                                    "Sorszám": "25862",
                                    "Teljes összeg": "377390"
                                },
                                {
                                    "Sorszám": "25868",
                                    "Teljes összeg": "2081810"
                                },
                                {
                                    "Sorszám": "25884",
                                    "Teljes összeg": "358500"
                                },
                                {
                                    "Sorszám": "25904",
                                    "Teljes összeg": "802780"
                                },
                                {
                                    "Sorszám": "25917",
                                    "Teljes összeg": "393890"
                                },
                                {
                                    "Sorszám": "25935",
                                    "Teljes összeg": "434030"
                                },
                                {
                                    "Sorszám": "25947",
                                    "Teljes összeg": "355500"
                                },
                                {
                                    "Sorszám": "25953",
                                    "Teljes összeg": "231200"
                                },
                                {
                                    "Sorszám": "25967",
                                    "Teljes összeg": "289050"
                                },
                                {
                                    "Sorszám": "25973",
                                    "Teljes összeg": "286810"
                                },
                                {
                                    "Sorszám": "25982",
                                    "Teljes összeg": "228560"
                                },
                                {
                                    "Sorszám": "25985",
                                    "Teljes összeg": "266030"
                                },
                                {
                                    "Sorszám": "25993",
                                    "Teljes összeg": "726440"
                                },
                                {
                                    "Sorszám": "26000",
                                    "Teljes összeg": "344020"
                                },
                                {
                                    "Sorszám": "26009",
                                    "Teljes összeg": "397540"
                                },
                                {
                                    "Sorszám": "26022",
                                    "Teljes összeg": "245480"
                                },
                                {
                                    "Sorszám": "26027",
                                    "Teljes összeg": "430660"
                                },
                                {
                                    "Sorszám": "26038",
                                    "Teljes összeg": "334950"
                                },
                                {
                                    "Sorszám": "26039",
                                    "Teljes összeg": "243970"
                                },
                                {
                                    "Sorszám": "26043",
                                    "Teljes összeg": "1130960"
                                },
                                {
                                    "Sorszám": "26048",
                                    "Teljes összeg": "363750"
                                },
                                {
                                    "Sorszám": "26062",
                                    "Teljes összeg": "235780"
                                },
                                {
                                    "Sorszám": "26074",
                                    "Teljes összeg": "266110"
                                },
                                {
                                    "Sorszám": "26078",
                                    "Teljes összeg": "246310"
                                },
                                {
                                    "Sorszám": "26082",
                                    "Teljes összeg": "299160"
                                },
                                {
                                    "Sorszám": "26083",
                                    "Teljes összeg": "378600"
                                },
                                {
                                    "Sorszám": "26087",
                                    "Teljes összeg": "210170"
                                },
                                {
                                    "Sorszám": "26102",
                                    "Teljes összeg": "325750"
                                },
                                {
                                    "Sorszám": "26104",
                                    "Teljes összeg": "1547800"
                                },
                                {
                                    "Sorszám": "26106",
                                    "Teljes összeg": "423860"
                                },
                                {
                                    "Sorszám": "26114",
                                    "Teljes összeg": "284000"
                                },
                                {
                                    "Sorszám": "26119",
                                    "Teljes összeg": "526160"
                                },
                                {
                                    "Sorszám": "26127",
                                    "Teljes összeg": "549380"
                                },
                                {
                                    "Sorszám": "26128",
                                    "Teljes összeg": "419190"
                                },
                                {
                                    "Sorszám": "26135",
                                    "Teljes összeg": "640010"
                                },
                                {
                                    "Sorszám": "26149",
                                    "Teljes összeg": "318800"
                                },
                                {
                                    "Sorszám": "26154",
                                    "Teljes összeg": "215710"
                                },
                                {
                                    "Sorszám": "26156",
                                    "Teljes összeg": "254830"
                                },
                                {
                                    "Sorszám": "26172",
                                    "Teljes összeg": "210130"
                                },
                                {
                                    "Sorszám": "26178",
                                    "Teljes összeg": "301020"
                                },
                                {
                                    "Sorszám": "26186",
                                    "Teljes összeg": "343460"
                                },
                                {
                                    "Sorszám": "26213",
                                    "Teljes összeg": "409640"
                                },
                                {
                                    "Sorszám": "26228",
                                    "Teljes összeg": "213890"
                                },
                                {
                                    "Sorszám": "26230",
                                    "Teljes összeg": "309040"
                                },
                                {
                                    "Sorszám": "26247",
                                    "Teljes összeg": "223450"
                                },
                                {
                                    "Sorszám": "26256",
                                    "Teljes összeg": "1060000"
                                },
                                {
                                    "Sorszám": "26261",
                                    "Teljes összeg": "294490"
                                },
                                {
                                    "Sorszám": "26266",
                                    "Teljes összeg": "304160"
                                },
                                {
                                    "Sorszám": "26290",
                                    "Teljes összeg": "274260"
                                },
                                {
                                    "Sorszám": "26326",
                                    "Teljes összeg": "272100"
                                },
                                {
                                    "Sorszám": "26332",
                                    "Teljes összeg": "459610"
                                },
                                {
                                    "Sorszám": "26341",
                                    "Teljes összeg": "435170"
                                },
                                {
                                    "Sorszám": "26368",
                                    "Teljes összeg": "209200"
                                },
                                {
                                    "Sorszám": "26392",
                                    "Teljes összeg": "424710"
                                },
                                {
                                    "Sorszám": "26397",
                                    "Teljes összeg": "432000"
                                },
                                {
                                    "Sorszám": "26415",
                                    "Teljes összeg": "238440"
                                },
                                {
                                    "Sorszám": "26426",
                                    "Teljes összeg": "432940"
                                },
                                {
                                    "Sorszám": "26430",
                                    "Teljes összeg": "327770"
                                },
                                {
                                    "Sorszám": "26437",
                                    "Teljes összeg": "652480"
                                },
                                {
                                    "Sorszám": "26461",
                                    "Teljes összeg": "588550"
                                },
                                {
                                    "Sorszám": "26473",
                                    "Teljes összeg": "354450"
                                },
                                {
                                    "Sorszám": "26478",
                                    "Teljes összeg": "303150"
                                },
                                {
                                    "Sorszám": "26496",
                                    "Teljes összeg": "476140"
                                },
                                {
                                    "Sorszám": "26497",
                                    "Teljes összeg": "518930"
                                },
                                {
                                    "Sorszám": "26508",
                                    "Teljes összeg": "311190"
                                },
                                {
                                    "Sorszám": "26515",
                                    "Teljes összeg": "429260"
                                },
                                {
                                    "Sorszám": "26530",
                                    "Teljes összeg": "296420"
                                },
                                {
                                    "Sorszám": "26536",
                                    "Teljes összeg": "212700"
                                },
                                {
                                    "Sorszám": "26538",
                                    "Teljes összeg": "352230"
                                },
                                {
                                    "Sorszám": "26539",
                                    "Teljes összeg": "298060"
                                },
                                {
                                    "Sorszám": "26540",
                                    "Teljes összeg": "224580"
                                },
                                {
                                    "Sorszám": "26547",
                                    "Teljes összeg": "293100"
                                },
                                {
                                    "Sorszám": "26554",
                                    "Teljes összeg": "334090"
                                },
                                {
                                    "Sorszám": "26560",
                                    "Teljes összeg": "294190"
                                },
                                {
                                    "Sorszám": "26569",
                                    "Teljes összeg": "378930"
                                },
                                {
                                    "Sorszám": "26571",
                                    "Teljes összeg": "724920"
                                },
                                {
                                    "Sorszám": "26582",
                                    "Teljes összeg": "292700"
                                },
                                {
                                    "Sorszám": "26588",
                                    "Teljes összeg": "495970"
                                },
                                {
                                    "Sorszám": "26593",
                                    "Teljes összeg": "756360"
                                },
                                {
                                    "Sorszám": "26608",
                                    "Teljes összeg": "252940"
                                },
                                {
                                    "Sorszám": "26620",
                                    "Teljes összeg": "217960"
                                },
                                {
                                    "Sorszám": "26622",
                                    "Teljes összeg": "1995090"
                                },
                                {
                                    "Sorszám": "26626",
                                    "Teljes összeg": "241790"
                                },
                                {
                                    "Sorszám": "26629",
                                    "Teljes összeg": "395300"
                                },
                                {
                                    "Sorszám": "26647",
                                    "Teljes összeg": "220290"
                                },
                                {
                                    "Sorszám": "26679",
                                    "Teljes összeg": "279300"
                                },
                                {
                                    "Sorszám": "26686",
                                    "Teljes összeg": "1423890"
                                },
                                {
                                    "Sorszám": "26687",
                                    "Teljes összeg": "304770"
                                },
                                {
                                    "Sorszám": "26691",
                                    "Teljes összeg": "469420"
                                },
                                {
                                    "Sorszám": "26693",
                                    "Teljes összeg": "502810"
                                },
                                {
                                    "Sorszám": "26723",
                                    "Teljes összeg": "230350"
                                },
                                {
                                    "Sorszám": "26724",
                                    "Teljes összeg": "499850"
                                },
                                {
                                    "Sorszám": "26735",
                                    "Teljes összeg": "323690"
                                },
                                {
                                    "Sorszám": "26764",
                                    "Teljes összeg": "226370"
                                },
                                {
                                    "Sorszám": "26773",
                                    "Teljes összeg": "228340"
                                },
                                {
                                    "Sorszám": "26780",
                                    "Teljes összeg": "378670"
                                },
                                {
                                    "Sorszám": "26786",
                                    "Teljes összeg": "422900"
                                },
                                {
                                    "Sorszám": "26795",
                                    "Teljes összeg": "302360"
                                },
                                {
                                    "Sorszám": "26802",
                                    "Teljes összeg": "326480"
                                },
                                {
                                    "Sorszám": "26814",
                                    "Teljes összeg": "329380"
                                },
                                {
                                    "Sorszám": "26833",
                                    "Teljes összeg": "293620"
                                },
                                {
                                    "Sorszám": "26834",
                                    "Teljes összeg": "894900"
                                },
                                {
                                    "Sorszám": "26844",
                                    "Teljes összeg": "349420"
                                },
                                {
                                    "Sorszám": "26855",
                                    "Teljes összeg": "292200"
                                },
                                {
                                    "Sorszám": "26860",
                                    "Teljes összeg": "255300"
                                },
                                {
                                    "Sorszám": "26862",
                                    "Teljes összeg": "1588540"
                                },
                                {
                                    "Sorszám": "26873",
                                    "Teljes összeg": "401280"
                                },
                                {
                                    "Sorszám": "26890",
                                    "Teljes összeg": "433930"
                                },
                                {
                                    "Sorszám": "26899",
                                    "Teljes összeg": "309990"
                                },
                                {
                                    "Sorszám": "26904",
                                    "Teljes összeg": "452530"
                                },
                                {
                                    "Sorszám": "26909",
                                    "Teljes összeg": "206920"
                                },
                                {
                                    "Sorszám": "26923",
                                    "Teljes összeg": "332180"
                                },
                                {
                                    "Sorszám": "26924",
                                    "Teljes összeg": "1169940"
                                },
                                {
                                    "Sorszám": "26927",
                                    "Teljes összeg": "348840"
                                },
                                {
                                    "Sorszám": "26929",
                                    "Teljes összeg": "257830"
                                },
                                {
                                    "Sorszám": "26933",
                                    "Teljes összeg": "1284700"
                                },
                                {
                                    "Sorszám": "26940",
                                    "Teljes összeg": "238090"
                                },
                                {
                                    "Sorszám": "26945",
                                    "Teljes összeg": "491110"
                                },
                                {
                                    "Sorszám": "26969",
                                    "Teljes összeg": "218900"
                                },
                                {
                                    "Sorszám": "26970",
                                    "Teljes összeg": "216400"
                                },
                                {
                                    "Sorszám": "26976",
                                    "Teljes összeg": "315300"
                                },
                                {
                                    "Sorszám": "26977",
                                    "Teljes összeg": "349420"
                                },
                                {
                                    "Sorszám": "26983",
                                    "Teljes összeg": "502890"
                                },
                                {
                                    "Sorszám": "26995",
                                    "Teljes összeg": "320370"
                                },
                                {
                                    "Sorszám": "26996",
                                    "Teljes összeg": "212350"
                                },
                                {
                                    "Sorszám": "27011",
                                    "Teljes összeg": "314040"
                                },
                                {
                                    "Sorszám": "27014",
                                    "Teljes összeg": "222850"
                                },
                                {
                                    "Sorszám": "27024",
                                    "Teljes összeg": "333140"
                                },
                                {
                                    "Sorszám": "27031",
                                    "Teljes összeg": "682680"
                                },
                                {
                                    "Sorszám": "27044",
                                    "Teljes összeg": "217360"
                                },
                                {
                                    "Sorszám": "27060",
                                    "Teljes összeg": "251550"
                                },
                                {
                                    "Sorszám": "27089",
                                    "Teljes összeg": "332820"
                                },
                                {
                                    "Sorszám": "27096",
                                    "Teljes összeg": "287600"
                                },
                                {
                                    "Sorszám": "27103",
                                    "Teljes összeg": "337490"
                                },
                                {
                                    "Sorszám": "27105",
                                    "Teljes összeg": "224420"
                                },
                                {
                                    "Sorszám": "27106",
                                    "Teljes összeg": "228470"
                                },
                                {
                                    "Sorszám": "27118",
                                    "Teljes összeg": "256630"
                                },
                                {
                                    "Sorszám": "27121",
                                    "Teljes összeg": "411330"
                                },
                                {
                                    "Sorszám": "27122",
                                    "Teljes összeg": "425270"
                                },
                                {
                                    "Sorszám": "27124",
                                    "Teljes összeg": "212480"
                                },
                                {
                                    "Sorszám": "27132",
                                    "Teljes összeg": "427860"
                                },
                                {
                                    "Sorszám": "27133",
                                    "Teljes összeg": "447300"
                                },
                                {
                                    "Sorszám": "27136",
                                    "Teljes összeg": "205810"
                                },
                                {
                                    "Sorszám": "27142",
                                    "Teljes összeg": "412900"
                                },
                                {
                                    "Sorszám": "27146",
                                    "Teljes összeg": "449920"
                                },
                                {
                                    "Sorszám": "27171",
                                    "Teljes összeg": "624360"
                                },
                                {
                                    "Sorszám": "27172",
                                    "Teljes összeg": "332930"
                                },
                                {
                                    "Sorszám": "27178",
                                    "Teljes összeg": "937190"
                                },
                                {
                                    "Sorszám": "27179",
                                    "Teljes összeg": "373590"
                                },
                                {
                                    "Sorszám": "27187",
                                    "Teljes összeg": "709610"
                                },
                                {
                                    "Sorszám": "27214",
                                    "Teljes összeg": "258620"
                                },
                                {
                                    "Sorszám": "27215",
                                    "Teljes összeg": "234310"
                                },
                                {
                                    "Sorszám": "27228",
                                    "Teljes összeg": "425220"
                                },
                                {
                                    "Sorszám": "27239",
                                    "Teljes összeg": "316180"
                                },
                                {
                                    "Sorszám": "27250",
                                    "Teljes összeg": "290700"
                                },
                                {
                                    "Sorszám": "27278",
                                    "Teljes összeg": "433790"
                                },
                                {
                                    "Sorszám": "27279",
                                    "Teljes összeg": "212370"
                                },
                                {
                                    "Sorszám": "27288",
                                    "Teljes összeg": "248350"
                                },
                                {
                                    "Sorszám": "27293",
                                    "Teljes összeg": "253030"
                                },
                                {
                                    "Sorszám": "27313",
                                    "Teljes összeg": "501040"
                                },
                                {
                                    "Sorszám": "27326",
                                    "Teljes összeg": "208080"
                                },
                                {
                                    "Sorszám": "27332",
                                    "Teljes összeg": "597780"
                                },
                                {
                                    "Sorszám": "27346",
                                    "Teljes összeg": "241120"
                                },
                                {
                                    "Sorszám": "27353",
                                    "Teljes összeg": "398230"
                                },
                                {
                                    "Sorszám": "27359",
                                    "Teljes összeg": "385380"
                                },
                                {
                                    "Sorszám": "27362",
                                    "Teljes összeg": "605590"
                                },
                                {
                                    "Sorszám": "27372",
                                    "Teljes összeg": "205790"
                                },
                                {
                                    "Sorszám": "27376",
                                    "Teljes összeg": "395790"
                                },
                                {
                                    "Sorszám": "27386",
                                    "Teljes összeg": "561830"
                                },
                                {
                                    "Sorszám": "27409",
                                    "Teljes összeg": "387140"
                                },
                                {
                                    "Sorszám": "27412",
                                    "Teljes összeg": "354110"
                                },
                                {
                                    "Sorszám": "27413",
                                    "Teljes összeg": "395670"
                                },
                                {
                                    "Sorszám": "27414",
                                    "Teljes összeg": "293260"
                                },
                                {
                                    "Sorszám": "27415",
                                    "Teljes összeg": "219580"
                                },
                                {
                                    "Sorszám": "27430",
                                    "Teljes összeg": "344680"
                                },
                                {
                                    "Sorszám": "27449",
                                    "Teljes összeg": "1546800"
                                },
                                {
                                    "Sorszám": "27463",
                                    "Teljes összeg": "233000"
                                },
                                {
                                    "Sorszám": "27468",
                                    "Teljes összeg": "227100"
                                },
                                {
                                    "Sorszám": "27488",
                                    "Teljes összeg": "581470"
                                },
                                {
                                    "Sorszám": "27493",
                                    "Teljes összeg": "285180"
                                },
                                {
                                    "Sorszám": "27513",
                                    "Teljes összeg": "256690"
                                },
                                {
                                    "Sorszám": "27522",
                                    "Teljes összeg": "1010830"
                                },
                                {
                                    "Sorszám": "27538",
                                    "Teljes összeg": "221340"
                                },
                                {
                                    "Sorszám": "27546",
                                    "Teljes összeg": "379140"
                                },
                                {
                                    "Sorszám": "27553",
                                    "Teljes összeg": "742400"
                                },
                                {
                                    "Sorszám": "27555",
                                    "Teljes összeg": "259760"
                                },
                                {
                                    "Sorszám": "27566",
                                    "Teljes összeg": "416430"
                                },
                                {
                                    "Sorszám": "27568",
                                    "Teljes összeg": "492070"
                                },
                                {
                                    "Sorszám": "27578",
                                    "Teljes összeg": "585950"
                                },
                                {
                                    "Sorszám": "27582",
                                    "Teljes összeg": "386710"
                                },
                                {
                                    "Sorszám": "27584",
                                    "Teljes összeg": "482380"
                                },
                                {
                                    "Sorszám": "27589",
                                    "Teljes összeg": "434410"
                                },
                                {
                                    "Sorszám": "27591",
                                    "Teljes összeg": "326760"
                                },
                                {
                                    "Sorszám": "27602",
                                    "Teljes összeg": "205910"
                                },
                                {
                                    "Sorszám": "27607",
                                    "Teljes összeg": "315340"
                                },
                                {
                                    "Sorszám": "27610",
                                    "Teljes összeg": "508750"
                                },
                                {
                                    "Sorszám": "27616",
                                    "Teljes összeg": "367310"
                                },
                                {
                                    "Sorszám": "27636",
                                    "Teljes összeg": "248520"
                                },
                                {
                                    "Sorszám": "27646",
                                    "Teljes összeg": "266150"
                                },
                                {
                                    "Sorszám": "27648",
                                    "Teljes összeg": "245960"
                                },
                                {
                                    "Sorszám": "27654",
                                    "Teljes összeg": "229780"
                                },
                                {
                                    "Sorszám": "27655",
                                    "Teljes összeg": "536600"
                                },
                                {
                                    "Sorszám": "27660",
                                    "Teljes összeg": "345030"
                                },
                                {
                                    "Sorszám": "27664",
                                    "Teljes összeg": "407860"
                                },
                                {
                                    "Sorszám": "27668",
                                    "Teljes összeg": "734440"
                                },
                                {
                                    "Sorszám": "27683",
                                    "Teljes összeg": "351520"
                                },
                                {
                                    "Sorszám": "27694",
                                    "Teljes összeg": "362180"
                                },
                                {
                                    "Sorszám": "27703",
                                    "Teljes összeg": "268080"
                                },
                                {
                                    "Sorszám": "27718",
                                    "Teljes összeg": "1790770"
                                },
                                {
                                    "Sorszám": "27720",
                                    "Teljes összeg": "670140"
                                },
                                {
                                    "Sorszám": "27730",
                                    "Teljes összeg": "484400"
                                },
                                {
                                    "Sorszám": "27738",
                                    "Teljes összeg": "396580"
                                },
                                {
                                    "Sorszám": "27754",
                                    "Teljes összeg": "701400"
                                },
                                {
                                    "Sorszám": "27761",
                                    "Teljes összeg": "434730"
                                },
                                {
                                    "Sorszám": "27763",
                                    "Teljes összeg": "622430"
                                },
                                {
                                    "Sorszám": "27764",
                                    "Teljes összeg": "220570"
                                },
                                {
                                    "Sorszám": "27780",
                                    "Teljes összeg": "254060"
                                },
                                {
                                    "Sorszám": "27800",
                                    "Teljes összeg": "396310"
                                },
                                {
                                    "Sorszám": "27803",
                                    "Teljes összeg": "600040"
                                },
                                {
                                    "Sorszám": "27830",
                                    "Teljes összeg": "377640"
                                },
                                {
                                    "Sorszám": "27872",
                                    "Teljes összeg": "405950"
                                },
                                {
                                    "Sorszám": "27878",
                                    "Teljes összeg": "260440"
                                },
                                {
                                    "Sorszám": "27884",
                                    "Teljes összeg": "331700"
                                },
                                {
                                    "Sorszám": "27885",
                                    "Teljes összeg": "376380"
                                },
                                {
                                    "Sorszám": "27896",
                                    "Teljes összeg": "268910"
                                },
                                {
                                    "Sorszám": "27907",
                                    "Teljes összeg": "366890"
                                },
                                {
                                    "Sorszám": "27921",
                                    "Teljes összeg": "438280"
                                },
                                {
                                    "Sorszám": "27938",
                                    "Teljes összeg": "320120"
                                },
                                {
                                    "Sorszám": "27949",
                                    "Teljes összeg": "294350"
                                },
                                {
                                    "Sorszám": "27963",
                                    "Teljes összeg": "273180"
                                },
                                {
                                    "Sorszám": "27971",
                                    "Teljes összeg": "940760"
                                },
                                {
                                    "Sorszám": "27973",
                                    "Teljes összeg": "466070"
                                },
                                {
                                    "Sorszám": "27991",
                                    "Teljes összeg": "336300"
                                },
                                {
                                    "Sorszám": "27993",
                                    "Teljes összeg": "586920"
                                },
                                {
                                    "Sorszám": "27998",
                                    "Teljes összeg": "383820"
                                },
                                {
                                    "Sorszám": "28018",
                                    "Teljes összeg": "366570"
                                },
                                {
                                    "Sorszám": "28043",
                                    "Teljes összeg": "321630"
                                },
                                {
                                    "Sorszám": "28060",
                                    "Teljes összeg": "219820"
                                },
                                {
                                    "Sorszám": "28065",
                                    "Teljes összeg": "443450"
                                },
                                {
                                    "Sorszám": "28066",
                                    "Teljes összeg": "277150"
                                },
                                {
                                    "Sorszám": "28080",
                                    "Teljes összeg": "636370"
                                }
                            ]
                        },
                        "text/html": [
                            "<table>",
                            "<tr><th>Sorszám</th><th>Teljes összeg</th></tr>",
                            "<tr><td>7</td><td>267994</td></tr>",
                            "<tr><td>21</td><td>535712</td></tr>",
                            "<tr><td>45</td><td>276762</td></tr>",
                            "<tr><td>53</td><td>306770</td></tr>",
                            "<tr><td>71</td><td>797340</td></tr>",
                            "<tr><td>72</td><td>213556</td></tr>",
                            "<tr><td>94</td><td>450222</td></tr>",
                            "<tr><td>107</td><td>211980</td></tr>",
                            "<tr><td>115</td><td>252810</td></tr>",
                            "<tr><td>130</td><td>242745</td></tr>",
                            "<tr><td>134</td><td>300355</td></tr>",
                            "<tr><td>140</td><td>384010</td></tr>",
                            "<tr><td>147</td><td>262539</td></tr>",
                            "<tr><td>172</td><td>271434</td></tr>",
                            "<tr><td>175</td><td>466208</td></tr>",
                            "<tr><td>186</td><td>360050</td></tr>",
                            "<tr><td>187</td><td>219626</td></tr>",
                            "<tr><td>194</td><td>373667</td></tr>",
                            "<tr><td>207</td><td>254144</td></tr>",
                            "<tr><td>210</td><td>408608</td></tr>",
                            "<tr><td>213</td><td>258487</td></tr>",
                            "<tr><td>225</td><td>494214</td></tr>",
                            "<tr><td>233</td><td>214700</td></tr>",
                            "<tr><td>254</td><td>267229</td></tr>",
                            "<tr><td>256</td><td>348662</td></tr>",
                            "<tr><td>259</td><td>401528</td></tr>",
                            "<tr><td>264</td><td>214180</td></tr>",
                            "<tr><td>278</td><td>282117</td></tr>",
                            "<tr><td>287</td><td>670300</td></tr>",
                            "<tr><td>301</td><td>620624</td></tr>",
                            "<tr><td>309</td><td>319485</td></tr>",
                            "<tr><td>313</td><td>640646</td></tr>",
                            "<tr><td>333</td><td>352561</td></tr>",
                            "<tr><td>335</td><td>482138</td></tr>",
                            "<tr><td>338</td><td>289228</td></tr>",
                            "<tr><td>343</td><td>244296</td></tr>",
                            "<tr><td>344</td><td>260306</td></tr>",
                            "<tr><td>359</td><td>213338</td></tr>",
                            "<tr><td>366</td><td>1620970</td></tr>",
                            "<tr><td>369</td><td>250778</td></tr>",
                            "<tr><td>397</td><td>283308</td></tr>",
                            "<tr><td>406</td><td>335183</td></tr>",
                            "<tr><td>412</td><td>253848</td></tr>",
                            "<tr><td>453</td><td>269163</td></tr>",
                            "<tr><td>461</td><td>230212</td></tr>",
                            "<tr><td>462</td><td>1416700</td></tr>",
                            "<tr><td>466</td><td>284850</td></tr>",
                            "<tr><td>475</td><td>542920</td></tr>",
                            "<tr><td>481</td><td>1249270</td></tr>",
                            "<tr><td>505</td><td>262140</td></tr>",
                            "<tr><td>507</td><td>922350</td></tr>",
                            "<tr><td>508</td><td>397939</td></tr>",
                            "<tr><td>528</td><td>322995</td></tr>",
                            "<tr><td>533</td><td>283522</td></tr>",
                            "<tr><td>559</td><td>238253</td></tr>",
                            "<tr><td>575</td><td>745914</td></tr>",
                            "<tr><td>588</td><td>412191</td></tr>",
                            "<tr><td>594</td><td>380815</td></tr>",
                            "<tr><td>633</td><td>447542</td></tr>",
                            "<tr><td>639</td><td>240443</td></tr>",
                            "<tr><td>641</td><td>353826</td></tr>",
                            "<tr><td>667</td><td>210143</td></tr>",
                            "<tr><td>678</td><td>206210</td></tr>",
                            "<tr><td>680</td><td>244642</td></tr>",
                            "<tr><td>687</td><td>366104</td></tr>",
                            "<tr><td>695</td><td>395681</td></tr>",
                            "<tr><td>697</td><td>268868</td></tr>",
                            "<tr><td>701</td><td>205011</td></tr>",
                            "<tr><td>704</td><td>609017</td></tr>",
                            "<tr><td>706</td><td>344502</td></tr>",
                            "<tr><td>711</td><td>314829</td></tr>",
                            "<tr><td>719</td><td>345125</td></tr>",
                            "<tr><td>725</td><td>391416</td></tr>",
                            "<tr><td>732</td><td>344391</td></tr>",
                            "<tr><td>736</td><td>216678</td></tr>",
                            "<tr><td>749</td><td>944490</td></tr>",
                            "<tr><td>751</td><td>336045</td></tr>",
                            "<tr><td>760</td><td>1428320</td></tr>",
                            "<tr><td>766</td><td>473880</td></tr>",
                            "<tr><td>790</td><td>289950</td></tr>",
                            "<tr><td>793</td><td>230198</td></tr>",
                            "<tr><td>799</td><td>251558</td></tr>",
                            "<tr><td>805</td><td>385077</td></tr>",
                            "<tr><td>810</td><td>531768</td></tr>",
                            "<tr><td>811</td><td>291288</td></tr>",
                            "<tr><td>816</td><td>224274</td></tr>",
                            "<tr><td>826</td><td>230282</td></tr>",
                            "<tr><td>842</td><td>205711</td></tr>",
                            "<tr><td>850</td><td>364168</td></tr>",
                            "<tr><td>860</td><td>307855</td></tr>",
                            "<tr><td>863</td><td>388867</td></tr>",
                            "<tr><td>879</td><td>1057440</td></tr>",
                            "<tr><td>882</td><td>1069390</td></tr>",
                            "<tr><td>884</td><td>408887</td></tr>",
                            "<tr><td>891</td><td>410888</td></tr>",
                            "<tr><td>895</td><td>208470</td></tr>",
                            "<tr><td>900</td><td>268490</td></tr>",
                            "<tr><td>919</td><td>316033</td></tr>",
                            "<tr><td>928</td><td>536242</td></tr>",
                            "<tr><td>934</td><td>408632</td></tr>",
                            "<tr><td>940</td><td>346392</td></tr>",
                            "<tr><td>944</td><td>216549</td></tr>",
                            "<tr><td>949</td><td>361433</td></tr>",
                            "<tr><td>951</td><td>702950</td></tr>",
                            "<tr><td>953</td><td>214166</td></tr>",
                            "<tr><td>954</td><td>253450</td></tr>",
                            "<tr><td>957</td><td>411610</td></tr>",
                            "<tr><td>959</td><td>287809</td></tr>",
                            "<tr><td>963</td><td>358865</td></tr>",
                            "<tr><td>970</td><td>320572</td></tr>",
                            "<tr><td>975</td><td>229340</td></tr>",
                            "<tr><td>981</td><td>666080</td></tr>",
                            "<tr><td>990</td><td>324403</td></tr>",
                            "<tr><td>1027</td><td>323960</td></tr>",
                            "<tr><td>1045</td><td>1202620</td></tr>",
                            "<tr><td>1058</td><td>312451</td></tr>",
                            "<tr><td>1059</td><td>463449</td></tr>",
                            "<tr><td>1060</td><td>655673</td></tr>",
                            "<tr><td>1062</td><td>436782</td></tr>",
                            "<tr><td>1069</td><td>345257</td></tr>",
                            "<tr><td>1076</td><td>234774</td></tr>",
                            "<tr><td>1079</td><td>277430</td></tr>",
                            "<tr><td>1105</td><td>445813</td></tr>",
                            "<tr><td>1110</td><td>715380</td></tr>",
                            "<tr><td>1113</td><td>413433</td></tr>",
                            "<tr><td>1120</td><td>292413</td></tr>",
                            "<tr><td>1122</td><td>390206</td></tr>",
                            "<tr><td>1131</td><td>447580</td></tr>",
                            "<tr><td>1133</td><td>277977</td></tr>",
                            "<tr><td>1139</td><td>285329</td></tr>",
                            "<tr><td>1146</td><td>1179940</td></tr>",
                            "<tr><td>1153</td><td>229254</td></tr>",
                            "<tr><td>1172</td><td>351830</td></tr>",
                            "<tr><td>1174</td><td>232093</td></tr>",
                            "<tr><td>1178</td><td>218340</td></tr>",
                            "<tr><td>1184</td><td>301921</td></tr>",
                            "<tr><td>1189</td><td>415590</td></tr>",
                            "<tr><td>1197</td><td>254423</td></tr>",
                            "<tr><td>1204</td><td>1443370</td></tr>",
                            "<tr><td>1212</td><td>238336</td></tr>",
                            "<tr><td>1213</td><td>371437</td></tr>",
                            "<tr><td>1218</td><td>232879</td></tr>",
                            "<tr><td>1232</td><td>328388</td></tr>",
                            "<tr><td>1238</td><td>285556</td></tr>",
                            "<tr><td>1242</td><td>232296</td></tr>",
                            "<tr><td>1249</td><td>344146</td></tr>",
                            "<tr><td>1252</td><td>468933</td></tr>",
                            "<tr><td>1261</td><td>243809</td></tr>",
                            "<tr><td>1268</td><td>336460</td></tr>",
                            "<tr><td>1291</td><td>233199</td></tr>",
                            "<tr><td>1296</td><td>220896</td></tr>",
                            "<tr><td>1306</td><td>266927</td></tr>",
                            "<tr><td>1332</td><td>224474</td></tr>",
                            "<tr><td>1334</td><td>265705</td></tr>",
                            "<tr><td>1338</td><td>559300</td></tr>",
                            "<tr><td>1339</td><td>640419</td></tr>",
                            "<tr><td>1349</td><td>424160</td></tr>",
                            "<tr><td>1353</td><td>307419</td></tr>",
                            "<tr><td>1365</td><td>645934</td></tr>",
                            "<tr><td>1377</td><td>214759</td></tr>",
                            "<tr><td>1391</td><td>269679</td></tr>",
                            "<tr><td>1393</td><td>242044</td></tr>",
                            "<tr><td>1403</td><td>384530</td></tr>",
                            "<tr><td>1422</td><td>246636</td></tr>",
                            "<tr><td>1424</td><td>1245600</td></tr>",
                            "<tr><td>1430</td><td>320460</td></tr>",
                            "<tr><td>1433</td><td>302028</td></tr>",
                            "<tr><td>1436</td><td>582264</td></tr>",
                            "<tr><td>1453</td><td>514028</td></tr>",
                            "<tr><td>1456</td><td>597344</td></tr>",
                            "<tr><td>1464</td><td>433092</td></tr>",
                            "<tr><td>1481</td><td>589956</td></tr>",
                            "<tr><td>1521</td><td>230804</td></tr>",
                            "<tr><td>1556</td><td>273039</td></tr>",
                            "<tr><td>1563</td><td>1296890</td></tr>",
                            "<tr><td>1570</td><td>410922</td></tr>",
                            "<tr><td>1573</td><td>330202</td></tr>",
                            "<tr><td>1576</td><td>1570510</td></tr>",
                            "<tr><td>1579</td><td>484217</td></tr>",
                            "<tr><td>1585</td><td>243992</td></tr>",
                            "<tr><td>1600</td><td>463611</td></tr>",
                            "<tr><td>1601</td><td>216447</td></tr>",
                            "<tr><td>1620</td><td>274064</td></tr>",
                            "<tr><td>1633</td><td>225683</td></tr>",
                            "<tr><td>1638</td><td>226900</td></tr>",
                            "<tr><td>1658</td><td>303177</td></tr>",
                            "<tr><td>1659</td><td>397473</td></tr>",
                            "<tr><td>1670</td><td>299069</td></tr>",
                            "<tr><td>1684</td><td>788770</td></tr>",
                            "<tr><td>1689</td><td>262405</td></tr>",
                            "<tr><td>1691</td><td>272812</td></tr>",
                            "<tr><td>1698</td><td>332574</td></tr>",
                            "<tr><td>1699</td><td>218556</td></tr>",
                            "<tr><td>1713</td><td>446124</td></tr>",
                            "<tr><td>1721</td><td>223703</td></tr>",
                            "<tr><td>1727</td><td>272335</td></tr>",
                            "<tr><td>1731</td><td>340327</td></tr>",
                            "<tr><td>1739</td><td>334864</td></tr>",
                            "<tr><td>1751</td><td>316555</td></tr>",
                            "<tr><td>1756</td><td>221148</td></tr>",
                            "<tr><td>1772</td><td>278645</td></tr>",
                            "<tr><td>1777</td><td>341898</td></tr>",
                            "<tr><td>1786</td><td>416154</td></tr>",
                            "<tr><td>1794</td><td>305352</td></tr>",
                            "<tr><td>1808</td><td>213168</td></tr>",
                            "<tr><td>1810</td><td>397310</td></tr>",
                            "<tr><td>1820</td><td>332386</td></tr>",
                            "<tr><td>1822</td><td>390930</td></tr>",
                            "<tr><td>1825</td><td>233699</td></tr>",
                            "<tr><td>1840</td><td>290599</td></tr>",
                            "<tr><td>1875</td><td>602260</td></tr>",
                            "<tr><td>1879</td><td>338027</td></tr>",
                            "<tr><td>1881</td><td>416705</td></tr>",
                            "<tr><td>1900</td><td>249536</td></tr>",
                            "<tr><td>1905</td><td>364280</td></tr>",
                            "<tr><td>1919</td><td>267862</td></tr>",
                            "<tr><td>1923</td><td>336069</td></tr>",
                            "<tr><td>1937</td><td>354216</td></tr>",
                            "<tr><td>1955</td><td>303562</td></tr>",
                            "<tr><td>1960</td><td>259346</td></tr>",
                            "<tr><td>1970</td><td>1205520</td></tr>",
                            "<tr><td>2001</td><td>523075</td></tr>",
                            "<tr><td>2003</td><td>430983</td></tr>",
                            "<tr><td>2004</td><td>224000</td></tr>",
                            "<tr><td>2005</td><td>301105</td></tr>",
                            "<tr><td>2013</td><td>241368</td></tr>",
                            "<tr><td>2031</td><td>237845</td></tr>",
                            "<tr><td>2043</td><td>354030</td></tr>",
                            "<tr><td>2049</td><td>481370</td></tr>",
                            "<tr><td>2060</td><td>1688110</td></tr>",
                            "<tr><td>2067</td><td>209876</td></tr>",
                            "<tr><td>2070</td><td>343253</td></tr>",
                            "<tr><td>2080</td><td>207075</td></tr>",
                            "<tr><td>2081</td><td>421504</td></tr>",
                            "<tr><td>2117</td><td>633580</td></tr>",
                            "<tr><td>2122</td><td>556221</td></tr>",
                            "<tr><td>2126</td><td>269648</td></tr>",
                            "<tr><td>2130</td><td>218303</td></tr>",
                            "<tr><td>2135</td><td>229610</td></tr>",
                            "<tr><td>2156</td><td>342940</td></tr>",
                            "<tr><td>2172</td><td>227050</td></tr>",
                            "<tr><td>2186</td><td>333083</td></tr>",
                            "<tr><td>2191</td><td>410430</td></tr>",
                            "<tr><td>2205</td><td>472879</td></tr>",
                            "<tr><td>2207</td><td>386911</td></tr>",
                            "<tr><td>2216</td><td>310489</td></tr>",
                            "<tr><td>2217</td><td>269497</td></tr>",
                            "<tr><td>2218</td><td>250904</td></tr>",
                            "<tr><td>2235</td><td>314361</td></tr>",
                            "<tr><td>2247</td><td>230432</td></tr>",
                            "<tr><td>2259</td><td>417896</td></tr>",
                            "<tr><td>2291</td><td>484801</td></tr>",
                            "<tr><td>2296</td><td>223907</td></tr>",
                            "<tr><td>2303</td><td>251288</td></tr>",
                            "<tr><td>2323</td><td>847881</td></tr>",
                            "<tr><td>2331</td><td>544803</td></tr>",
                            "<tr><td>2336</td><td>273862</td></tr>",
                            "<tr><td>2346</td><td>283225</td></tr>",
                            "<tr><td>2347</td><td>357031</td></tr>",
                            "<tr><td>2353</td><td>307438</td></tr>",
                            "<tr><td>2376</td><td>262260</td></tr>",
                            "<tr><td>2379</td><td>597595</td></tr>",
                            "<tr><td>2394</td><td>314178</td></tr>",
                            "<tr><td>2408</td><td>257987</td></tr>",
                            "<tr><td>2409</td><td>396660</td></tr>",
                            "<tr><td>2417</td><td>210191</td></tr>",
                            "<tr><td>2419</td><td>271800</td></tr>",
                            "<tr><td>2428</td><td>242452</td></tr>",
                            "<tr><td>2429</td><td>225794</td></tr>",
                            "<tr><td>2441</td><td>239917</td></tr>",
                            "<tr><td>2457</td><td>223545</td></tr>",
                            "<tr><td>2464</td><td>239510</td></tr>",
                            "<tr><td>2470</td><td>449680</td></tr>",
                            "<tr><td>2487</td><td>395703</td></tr>",
                            "<tr><td>2491</td><td>525650</td></tr>",
                            "<tr><td>2521</td><td>342582</td></tr>",
                            "<tr><td>2529</td><td>368887</td></tr>",
                            "<tr><td>2537</td><td>406780</td></tr>",
                            "<tr><td>2541</td><td>354075</td></tr>",
                            "<tr><td>2542</td><td>368223</td></tr>",
                            "<tr><td>2543</td><td>333720</td></tr>",
                            "<tr><td>2573</td><td>290700</td></tr>",
                            "<tr><td>2576</td><td>365636</td></tr>",
                            "<tr><td>2633</td><td>806390</td></tr>",
                            "<tr><td>2636</td><td>287462</td></tr>",
                            "<tr><td>2650</td><td>280766</td></tr>",
                            "<tr><td>2654</td><td>333105</td></tr>",
                            "<tr><td>2663</td><td>228783</td></tr>",
                            "<tr><td>2673</td><td>446532</td></tr>",
                            "<tr><td>2674</td><td>337180</td></tr>",
                            "<tr><td>2685</td><td>250224</td></tr>",
                            "<tr><td>2690</td><td>311524</td></tr>",
                            "<tr><td>2714</td><td>282700</td></tr>",
                            "<tr><td>2725</td><td>214970</td></tr>",
                            "<tr><td>2732</td><td>293896</td></tr>",
                            "<tr><td>2733</td><td>370764</td></tr>",
                            "<tr><td>2740</td><td>333812</td></tr>",
                            "<tr><td>2771</td><td>371489</td></tr>",
                            "<tr><td>2776</td><td>232519</td></tr>",
                            "<tr><td>2778</td><td>228939</td></tr>",
                            "<tr><td>2787</td><td>486860</td></tr>",
                            "<tr><td>2797</td><td>295632</td></tr>",
                            "<tr><td>2804</td><td>404001</td></tr>",
                            "<tr><td>2815</td><td>667919</td></tr>",
                            "<tr><td>2818</td><td>401320</td></tr>",
                            "<tr><td>2821</td><td>327203</td></tr>",
                            "<tr><td>2846</td><td>323110</td></tr>",
                            "<tr><td>2852</td><td>291280</td></tr>",
                            "<tr><td>2855</td><td>1070360</td></tr>",
                            "<tr><td>2862</td><td>339662</td></tr>",
                            "<tr><td>2863</td><td>584151</td></tr>",
                            "<tr><td>2879</td><td>375264</td></tr>",
                            "<tr><td>2913</td><td>205123</td></tr>",
                            "<tr><td>2926</td><td>261758</td></tr>",
                            "<tr><td>2927</td><td>218414</td></tr>",
                            "<tr><td>2937</td><td>236401</td></tr>",
                            "<tr><td>2938</td><td>386194</td></tr>",
                            "<tr><td>2943</td><td>1808740</td></tr>",
                            "<tr><td>2956</td><td>230382</td></tr>",
                            "<tr><td>2962</td><td>256918</td></tr>",
                            "<tr><td>2963</td><td>349884</td></tr>",
                            "<tr><td>2997</td><td>354799</td></tr>",
                            "<tr><td>3006</td><td>206545</td></tr>",
                            "<tr><td>3010</td><td>236866</td></tr>",
                            "<tr><td>3015</td><td>207349</td></tr>",
                            "<tr><td>3071</td><td>804940</td></tr>",
                            "<tr><td>3073</td><td>245137</td></tr>",
                            "<tr><td>3090</td><td>643961</td></tr>",
                            "<tr><td>3103</td><td>315792</td></tr>",
                            "<tr><td>3104</td><td>527814</td></tr>",
                            "<tr><td>3109</td><td>657770</td></tr>",
                            "<tr><td>3129</td><td>373002</td></tr>",
                            "<tr><td>3130</td><td>521500</td></tr>",
                            "<tr><td>3132</td><td>322785</td></tr>",
                            "<tr><td>3145</td><td>438848</td></tr>",
                            "<tr><td>3146</td><td>343956</td></tr>",
                            "<tr><td>3151</td><td>259421</td></tr>",
                            "<tr><td>3154</td><td>1084600</td></tr>",
                            "<tr><td>3175</td><td>350372</td></tr>",
                            "<tr><td>3178</td><td>247621</td></tr>",
                            "<tr><td>3182</td><td>420373</td></tr>",
                            "<tr><td>3183</td><td>925880</td></tr>",
                            "<tr><td>3202</td><td>292108</td></tr>",
                            "<tr><td>3212</td><td>277242</td></tr>",
                            "<tr><td>3243</td><td>230180</td></tr>",
                            "<tr><td>3248</td><td>231400</td></tr>",
                            "<tr><td>3281</td><td>322063</td></tr>",
                            "<tr><td>3298</td><td>407680</td></tr>",
                            "<tr><td>3300</td><td>309134</td></tr>",
                            "<tr><td>3308</td><td>237053</td></tr>",
                            "<tr><td>3312</td><td>255032</td></tr>",
                            "<tr><td>3342</td><td>333384</td></tr>",
                            "<tr><td>3364</td><td>238359</td></tr>",
                            "<tr><td>3368</td><td>346364</td></tr>",
                            "<tr><td>3371</td><td>261746</td></tr>",
                            "<tr><td>3373</td><td>207170</td></tr>",
                            "<tr><td>3375</td><td>489195</td></tr>",
                            "<tr><td>3376</td><td>212540</td></tr>",
                            "<tr><td>3389</td><td>268284</td></tr>",
                            "<tr><td>3394</td><td>377562</td></tr>",
                            "<tr><td>3399</td><td>338804</td></tr>",
                            "<tr><td>3410</td><td>294503</td></tr>",
                            "<tr><td>3411</td><td>271072</td></tr>",
                            "<tr><td>3414</td><td>223447</td></tr>",
                            "<tr><td>3417</td><td>414681</td></tr>",
                            "<tr><td>3419</td><td>282821</td></tr>",
                            "<tr><td>3431</td><td>550890</td></tr>",
                            "<tr><td>3436</td><td>267638</td></tr>",
                            "<tr><td>3438</td><td>247246</td></tr>",
                            "<tr><td>3491</td><td>261489</td></tr>",
                            "<tr><td>3504</td><td>966490</td></tr>",
                            "<tr><td>3511</td><td>222253</td></tr>",
                            "<tr><td>3518</td><td>584718</td></tr>",
                            "<tr><td>3522</td><td>448196</td></tr>",
                            "<tr><td>3532</td><td>286120</td></tr>",
                            "<tr><td>3536</td><td>345541</td></tr>",
                            "<tr><td>3540</td><td>254602</td></tr>",
                            "<tr><td>3548</td><td>271518</td></tr>",
                            "<tr><td>3554</td><td>436580</td></tr>",
                            "<tr><td>3556</td><td>436784</td></tr>",
                            "<tr><td>3576</td><td>478205</td></tr>",
                            "<tr><td>3588</td><td>282270</td></tr>",
                            "<tr><td>3589</td><td>223033</td></tr>",
                            "<tr><td>3590</td><td>270670</td></tr>",
                            "<tr><td>3603</td><td>206277</td></tr>",
                            "<tr><td>3611</td><td>492081</td></tr>",
                            "<tr><td>3627</td><td>247592</td></tr>",
                            "<tr><td>3635</td><td>220824</td></tr>",
                            "<tr><td>3667</td><td>205833</td></tr>",
                            "<tr><td>3688</td><td>342772</td></tr>",
                            "<tr><td>3702</td><td>382014</td></tr>",
                            "<tr><td>3711</td><td>229936</td></tr>",
                            "<tr><td>3716</td><td>232753</td></tr>",
                            "<tr><td>3717</td><td>264680</td></tr>",
                            "<tr><td>3719</td><td>585527</td></tr>",
                            "<tr><td>3721</td><td>329891</td></tr>",
                            "<tr><td>3724</td><td>373000</td></tr>",
                            "<tr><td>3725</td><td>381174</td></tr>",
                            "<tr><td>3726</td><td>266971</td></tr>",
                            "<tr><td>3739</td><td>486447</td></tr>",
                            "<tr><td>3746</td><td>370980</td></tr>",
                            "<tr><td>3753</td><td>559890</td></tr>",
                            "<tr><td>3755</td><td>487839</td></tr>",
                            "<tr><td>3757</td><td>277146</td></tr>",
                            "<tr><td>3768</td><td>649391</td></tr>",
                            "<tr><td>3771</td><td>835440</td></tr>",
                            "<tr><td>3777</td><td>782980</td></tr>",
                            "<tr><td>3793</td><td>268158</td></tr>",
                            "<tr><td>3803</td><td>248023</td></tr>",
                            "<tr><td>3804</td><td>585452</td></tr>",
                            "<tr><td>3807</td><td>236769</td></tr>",
                            "<tr><td>3810</td><td>349966</td></tr>",
                            "<tr><td>3813</td><td>796250</td></tr>",
                            "<tr><td>3814</td><td>224070</td></tr>",
                            "<tr><td>3815</td><td>1179370</td></tr>",
                            "<tr><td>3818</td><td>1838200</td></tr>",
                            "<tr><td>3849</td><td>422738</td></tr>",
                            "<tr><td>3857</td><td>573890</td></tr>",
                            "<tr><td>3860</td><td>278992</td></tr>",
                            "<tr><td>3894</td><td>225725</td></tr>",
                            "<tr><td>3898</td><td>213071</td></tr>",
                            "<tr><td>3901</td><td>1015750</td></tr>",
                            "<tr><td>3908</td><td>1039010</td></tr>",
                            "<tr><td>3910</td><td>256314</td></tr>",
                            "<tr><td>3911</td><td>210560</td></tr>",
                            "<tr><td>3923</td><td>609816</td></tr>",
                            "<tr><td>3927</td><td>719360</td></tr>",
                            "<tr><td>3941</td><td>221819</td></tr>",
                            "<tr><td>3943</td><td>243614</td></tr>",
                            "<tr><td>3945</td><td>254773</td></tr>",
                            "<tr><td>3946</td><td>835050</td></tr>",
                            "<tr><td>3947</td><td>1113920</td></tr>",
                            "<tr><td>3953</td><td>551216</td></tr>",
                            "<tr><td>3961</td><td>225631</td></tr>",
                            "<tr><td>3974</td><td>212170</td></tr>",
                            "<tr><td>3997</td><td>215567</td></tr>",
                            "<tr><td>4003</td><td>383033</td></tr>",
                            "<tr><td>4012</td><td>221630</td></tr>",
                            "<tr><td>4023</td><td>286826</td></tr>",
                            "<tr><td>4024</td><td>341894</td></tr>",
                            "<tr><td>4027</td><td>399114</td></tr>",
                            "<tr><td>4040</td><td>908740</td></tr>",
                            "<tr><td>4041</td><td>272630</td></tr>",
                            "<tr><td>4044</td><td>327682</td></tr>",
                            "<tr><td>4047</td><td>255342</td></tr>",
                            "<tr><td>4062</td><td>552250</td></tr>",
                            "<tr><td>4063</td><td>1831380</td></tr>",
                            "<tr><td>4112</td><td>316070</td></tr>",
                            "<tr><td>4113</td><td>208900</td></tr>",
                            "<tr><td>4114</td><td>221940</td></tr>",
                            "<tr><td>4129</td><td>576918</td></tr>",
                            "<tr><td>4144</td><td>527313</td></tr>",
                            "<tr><td>4150</td><td>258902</td></tr>",
                            "<tr><td>4163</td><td>222207</td></tr>",
                            "<tr><td>4169</td><td>230579</td></tr>",
                            "<tr><td>4174</td><td>257508</td></tr>",
                            "<tr><td>4210</td><td>372470</td></tr>",
                            "<tr><td>4222</td><td>269054</td></tr>",
                            "<tr><td>4225</td><td>498626</td></tr>",
                            "<tr><td>4248</td><td>240432</td></tr>",
                            "<tr><td>4255</td><td>500848</td></tr>",
                            "<tr><td>4263</td><td>357826</td></tr>",
                            "<tr><td>4264</td><td>228070</td></tr>",
                            "<tr><td>4274</td><td>1437620</td></tr>",
                            "<tr><td>4287</td><td>228749</td></tr>",
                            "<tr><td>4288</td><td>407533</td></tr>",
                            "<tr><td>4303</td><td>301629</td></tr>",
                            "<tr><td>4304</td><td>326160</td></tr>",
                            "<tr><td>4316</td><td>1200400</td></tr>",
                            "<tr><td>4330</td><td>233031</td></tr>",
                            "<tr><td>4335</td><td>280071</td></tr>",
                            "<tr><td>4388</td><td>347179</td></tr>",
                            "<tr><td>4400</td><td>494259</td></tr>",
                            "<tr><td>4410</td><td>1878330</td></tr>",
                            "<tr><td>4421</td><td>660850</td></tr>",
                            "<tr><td>4447</td><td>1092600</td></tr>",
                            "<tr><td>4448</td><td>248796</td></tr>",
                            "<tr><td>4477</td><td>274220</td></tr>",
                            "<tr><td>4478</td><td>282607</td></tr>",
                            "<tr><td>4484</td><td>233837</td></tr>",
                            "<tr><td>4498</td><td>301692</td></tr>",
                            "<tr><td>4506</td><td>339417</td></tr>",
                            "<tr><td>4516</td><td>266404</td></tr>",
                            "<tr><td>4541</td><td>334801</td></tr>",
                            "<tr><td>4548</td><td>1197600</td></tr>",
                            "<tr><td>4582</td><td>328833</td></tr>",
                            "<tr><td>4584</td><td>271038</td></tr>",
                            "<tr><td>4607</td><td>523035</td></tr>",
                            "<tr><td>4610</td><td>244724</td></tr>",
                            "<tr><td>4612</td><td>563881</td></tr>",
                            "<tr><td>4615</td><td>272654</td></tr>",
                            "<tr><td>4623</td><td>636741</td></tr>",
                            "<tr><td>4629</td><td>220552</td></tr>",
                            "<tr><td>4631</td><td>316192</td></tr>",
                            "<tr><td>4632</td><td>318144</td></tr>",
                            "<tr><td>4634</td><td>307380</td></tr>",
                            "<tr><td>4640</td><td>382752</td></tr>",
                            "<tr><td>4646</td><td>586240</td></tr>",
                            "<tr><td>4650</td><td>210990</td></tr>",
                            "<tr><td>4660</td><td>248162</td></tr>",
                            "<tr><td>4689</td><td>334745</td></tr>",
                            "<tr><td>4703</td><td>399542</td></tr>",
                            "<tr><td>4738</td><td>219956</td></tr>",
                            "<tr><td>4743</td><td>329151</td></tr>",
                            "<tr><td>4744</td><td>282024</td></tr>",
                            "<tr><td>4749</td><td>341603</td></tr>",
                            "<tr><td>4757</td><td>302478</td></tr>",
                            "<tr><td>4760</td><td>323062</td></tr>",
                            "<tr><td>4762</td><td>218510</td></tr>",
                            "<tr><td>4767</td><td>430275</td></tr>",
                            "<tr><td>4775</td><td>287456</td></tr>",
                            "<tr><td>4778</td><td>1626420</td></tr>",
                            "<tr><td>4779</td><td>288537</td></tr>",
                            "<tr><td>4783</td><td>219435</td></tr>",
                            "<tr><td>4792</td><td>374049</td></tr>",
                            "<tr><td>4799</td><td>260480</td></tr>",
                            "<tr><td>4809</td><td>1635120</td></tr>",
                            "<tr><td>4818</td><td>858610</td></tr>",
                            "<tr><td>4828</td><td>209234</td></tr>",
                            "<tr><td>4832</td><td>1897440</td></tr>",
                            "<tr><td>4851</td><td>516141</td></tr>",
                            "<tr><td>4870</td><td>424458</td></tr>",
                            "<tr><td>4902</td><td>575420</td></tr>",
                            "<tr><td>4903</td><td>233173</td></tr>",
                            "<tr><td>4911</td><td>913310</td></tr>",
                            "<tr><td>4915</td><td>315240</td></tr>",
                            "<tr><td>4922</td><td>377542</td></tr>",
                            "<tr><td>4926</td><td>361202</td></tr>",
                            "<tr><td>4934</td><td>965600</td></tr>",
                            "<tr><td>4942</td><td>703700</td></tr>",
                            "<tr><td>4951</td><td>564536</td></tr>",
                            "<tr><td>4962</td><td>1039240</td></tr>",
                            "<tr><td>4963</td><td>350634</td></tr>",
                            "<tr><td>4964</td><td>231579</td></tr>",
                            "<tr><td>4990</td><td>254055</td></tr>",
                            "<tr><td>4995</td><td>1073560</td></tr>",
                            "<tr><td>5002</td><td>319260</td></tr>",
                            "<tr><td>5003</td><td>299200</td></tr>",
                            "<tr><td>5010</td><td>340335</td></tr>",
                            "<tr><td>5026</td><td>233194</td></tr>",
                            "<tr><td>5034</td><td>607661</td></tr>",
                            "<tr><td>5037</td><td>547367</td></tr>",
                            "<tr><td>5039</td><td>212598</td></tr>",
                            "<tr><td>5061</td><td>293707</td></tr>",
                            "<tr><td>5079</td><td>398250</td></tr>",
                            "<tr><td>5080</td><td>221728</td></tr>",
                            "<tr><td>5083</td><td>264520</td></tr>",
                            "<tr><td>5084</td><td>291279</td></tr>",
                            "<tr><td>5089</td><td>387126</td></tr>",
                            "<tr><td>5093</td><td>614000</td></tr>",
                            "<tr><td>5094</td><td>634600</td></tr>",
                            "<tr><td>5096</td><td>1813680</td></tr>",
                            "<tr><td>5097</td><td>425519</td></tr>",
                            "<tr><td>5121</td><td>411118</td></tr>",
                            "<tr><td>5130</td><td>708260</td></tr>",
                            "<tr><td>5132</td><td>332657</td></tr>",
                            "<tr><td>5134</td><td>423332</td></tr>",
                            "<tr><td>5136</td><td>297687</td></tr>",
                            "<tr><td>5139</td><td>269816</td></tr>",
                            "<tr><td>5148</td><td>291586</td></tr>",
                            "<tr><td>5150</td><td>1624350</td></tr>",
                            "<tr><td>5171</td><td>407658</td></tr>",
                            "<tr><td>5197</td><td>417240</td></tr>",
                            "<tr><td>5212</td><td>205994</td></tr>",
                            "<tr><td>5220</td><td>413734</td></tr>",
                            "<tr><td>5221</td><td>205273</td></tr>",
                            "<tr><td>5242</td><td>1064720</td></tr>",
                            "<tr><td>5245</td><td>461477</td></tr>",
                            "<tr><td>5278</td><td>1530510</td></tr>",
                            "<tr><td>5286</td><td>598460</td></tr>",
                            "<tr><td>5299</td><td>275961</td></tr>",
                            "<tr><td>5310</td><td>1662080</td></tr>",
                            "<tr><td>5312</td><td>431530</td></tr>",
                            "<tr><td>5318</td><td>264736</td></tr>",
                            "<tr><td>5324</td><td>236965</td></tr>",
                            "<tr><td>5325</td><td>455136</td></tr>",
                            "<tr><td>5335</td><td>497453</td></tr>",
                            "<tr><td>5350</td><td>260722</td></tr>",
                            "<tr><td>5367</td><td>601345</td></tr>",
                            "<tr><td>5375</td><td>524153</td></tr>",
                            "<tr><td>5376</td><td>315993</td></tr>",
                            "<tr><td>5400</td><td>303945</td></tr>",
                            "<tr><td>5409</td><td>284110</td></tr>",
                            "<tr><td>5414</td><td>318402</td></tr>",
                            "<tr><td>5422</td><td>240923</td></tr>",
                            "<tr><td>5428</td><td>335081</td></tr>",
                            "<tr><td>5436</td><td>261320</td></tr>",
                            "<tr><td>5452</td><td>540620</td></tr>",
                            "<tr><td>5465</td><td>881750</td></tr>",
                            "<tr><td>5468</td><td>1219240</td></tr>",
                            "<tr><td>5492</td><td>1083610</td></tr>",
                            "<tr><td>5494</td><td>318520</td></tr>",
                            "<tr><td>5510</td><td>1173350</td></tr>",
                            "<tr><td>5511</td><td>1017210</td></tr>",
                            "<tr><td>5514</td><td>248845</td></tr>",
                            "<tr><td>5516</td><td>431610</td></tr>",
                            "<tr><td>5526</td><td>527603</td></tr>",
                            "<tr><td>5543</td><td>339733</td></tr>",
                            "<tr><td>5547</td><td>348976</td></tr>",
                            "<tr><td>5585</td><td>452300</td></tr>",
                            "<tr><td>5599</td><td>220285</td></tr>",
                            "<tr><td>5622</td><td>217924</td></tr>",
                            "<tr><td>5634</td><td>209113</td></tr>",
                            "<tr><td>5640</td><td>801370</td></tr>",
                            "<tr><td>5684</td><td>817370</td></tr>",
                            "<tr><td>5695</td><td>419840</td></tr>",
                            "<tr><td>5698</td><td>475157</td></tr>",
                            "<tr><td>5740</td><td>538170</td></tr>",
                            "<tr><td>5745</td><td>250277</td></tr>",
                            "<tr><td>5746</td><td>353395</td></tr>",
                            "<tr><td>5750</td><td>313495</td></tr>",
                            "<tr><td>5756</td><td>220070</td></tr>",
                            "<tr><td>5772</td><td>324138</td></tr>",
                            "<tr><td>5805</td><td>240042</td></tr>",
                            "<tr><td>5808</td><td>296408</td></tr>",
                            "<tr><td>5817</td><td>344994</td></tr>",
                            "<tr><td>5830</td><td>375831</td></tr>",
                            "<tr><td>5836</td><td>323845</td></tr>",
                            "<tr><td>5850</td><td>1473210</td></tr>",
                            "<tr><td>5851</td><td>257319</td></tr>",
                            "<tr><td>5856</td><td>447306</td></tr>",
                            "<tr><td>5882</td><td>269845</td></tr>",
                            "<tr><td>5917</td><td>225732</td></tr>",
                            "<tr><td>5923</td><td>344694</td></tr>",
                            "<tr><td>5935</td><td>431083</td></tr>",
                            "<tr><td>5938</td><td>248602</td></tr>",
                            "<tr><td>5958</td><td>416367</td></tr>",
                            "<tr><td>5970</td><td>413900</td></tr>",
                            "<tr><td>5995</td><td>261040</td></tr>",
                            "<tr><td>6008</td><td>212168</td></tr>",
                            "<tr><td>6014</td><td>317569</td></tr>",
                            "<tr><td>6027</td><td>261368</td></tr>",
                            "<tr><td>6028</td><td>473660</td></tr>",
                            "<tr><td>6039</td><td>219530</td></tr>",
                            "<tr><td>6041</td><td>316036</td></tr>",
                            "<tr><td>6046</td><td>513642</td></tr>",
                            "<tr><td>6050</td><td>251212</td></tr>",
                            "<tr><td>6053</td><td>355775</td></tr>",
                            "<tr><td>6067</td><td>311314</td></tr>",
                            "<tr><td>6106</td><td>402968</td></tr>",
                            "<tr><td>6124</td><td>547730</td></tr>",
                            "<tr><td>6127</td><td>1848020</td></tr>",
                            "<tr><td>6131</td><td>231272</td></tr>",
                            "<tr><td>6133</td><td>1085070</td></tr>",
                            "<tr><td>6148</td><td>643996</td></tr>",
                            "<tr><td>6157</td><td>242390</td></tr>",
                            "<tr><td>6158</td><td>545268</td></tr>",
                            "<tr><td>6168</td><td>489434</td></tr>",
                            "<tr><td>6179</td><td>260360</td></tr>",
                            "<tr><td>6192</td><td>813280</td></tr>",
                            "<tr><td>6194</td><td>251261</td></tr>",
                            "<tr><td>6216</td><td>214734</td></tr>",
                            "<tr><td>6218</td><td>258573</td></tr>",
                            "<tr><td>6220</td><td>367891</td></tr>",
                            "<tr><td>6225</td><td>290499</td></tr>",
                            "<tr><td>6237</td><td>345652</td></tr>",
                            "<tr><td>6242</td><td>396572</td></tr>",
                            "<tr><td>6257</td><td>1442210</td></tr>",
                            "<tr><td>6271</td><td>952250</td></tr>",
                            "<tr><td>6295</td><td>569183</td></tr>",
                            "<tr><td>6307</td><td>659011</td></tr>",
                            "<tr><td>6309</td><td>261429</td></tr>",
                            "<tr><td>6310</td><td>300055</td></tr>",
                            "<tr><td>6323</td><td>266480</td></tr>",
                            "<tr><td>6348</td><td>320470</td></tr>",
                            "<tr><td>6356</td><td>220001</td></tr>",
                            "<tr><td>6358</td><td>353205</td></tr>",
                            "<tr><td>6369</td><td>219090</td></tr>",
                            "<tr><td>6406</td><td>257548</td></tr>",
                            "<tr><td>6421</td><td>820500</td></tr>",
                            "<tr><td>6431</td><td>347916</td></tr>",
                            "<tr><td>6438</td><td>286810</td></tr>",
                            "<tr><td>6465</td><td>464944</td></tr>",
                            "<tr><td>6467</td><td>372283</td></tr>",
                            "<tr><td>6476</td><td>214887</td></tr>",
                            "<tr><td>6483</td><td>218304</td></tr>",
                            "<tr><td>6486</td><td>606616</td></tr>",
                            "<tr><td>6496</td><td>287659</td></tr>",
                            "<tr><td>6503</td><td>653095</td></tr>",
                            "<tr><td>6509</td><td>362902</td></tr>",
                            "<tr><td>6517</td><td>308933</td></tr>",
                            "<tr><td>6530</td><td>220396</td></tr>",
                            "<tr><td>6533</td><td>224326</td></tr>",
                            "<tr><td>6541</td><td>379040</td></tr>",
                            "<tr><td>6554</td><td>329048</td></tr>",
                            "<tr><td>6562</td><td>701150</td></tr>",
                            "<tr><td>6568</td><td>277705</td></tr>",
                            "<tr><td>6571</td><td>267140</td></tr>",
                            "<tr><td>6587</td><td>421315</td></tr>",
                            "<tr><td>6617</td><td>1050690</td></tr>",
                            "<tr><td>6626</td><td>557643</td></tr>",
                            "<tr><td>6627</td><td>620420</td></tr>",
                            "<tr><td>6628</td><td>1552290</td></tr>",
                            "<tr><td>6633</td><td>252567</td></tr>",
                            "<tr><td>6639</td><td>267569</td></tr>",
                            "<tr><td>6645</td><td>214046</td></tr>",
                            "<tr><td>6665</td><td>222176</td></tr>",
                            "<tr><td>6712</td><td>274084</td></tr>",
                            "<tr><td>6716</td><td>223160</td></tr>",
                            "<tr><td>6730</td><td>665660</td></tr>",
                            "<tr><td>6750</td><td>373460</td></tr>",
                            "<tr><td>6759</td><td>581778</td></tr>",
                            "<tr><td>6769</td><td>273330</td></tr>",
                            "<tr><td>6773</td><td>422948</td></tr>",
                            "<tr><td>6780</td><td>1253490</td></tr>",
                            "<tr><td>6786</td><td>445668</td></tr>",
                            "<tr><td>6792</td><td>287971</td></tr>",
                            "<tr><td>6804</td><td>583840</td></tr>",
                            "<tr><td>6814</td><td>506290</td></tr>",
                            "<tr><td>6815</td><td>345579</td></tr>",
                            "<tr><td>6834</td><td>531990</td></tr>",
                            "<tr><td>6843</td><td>339118</td></tr>",
                            "<tr><td>6859</td><td>308733</td></tr>",
                            "<tr><td>6861</td><td>220737</td></tr>",
                            "<tr><td>6884</td><td>224151</td></tr>",
                            "<tr><td>6905</td><td>359391</td></tr>",
                            "<tr><td>6907</td><td>661505</td></tr>",
                            "<tr><td>6911</td><td>242930</td></tr>",
                            "<tr><td>6914</td><td>224273</td></tr>",
                            "<tr><td>6918</td><td>923060</td></tr>",
                            "<tr><td>6931</td><td>1643100</td></tr>",
                            "<tr><td>6932</td><td>229603</td></tr>",
                            "<tr><td>6935</td><td>251786</td></tr>",
                            "<tr><td>6946</td><td>299680</td></tr>",
                            "<tr><td>6948</td><td>282168</td></tr>",
                            "<tr><td>6967</td><td>321911</td></tr>",
                            "<tr><td>6972</td><td>514757</td></tr>",
                            "<tr><td>6988</td><td>348356</td></tr>",
                            "<tr><td>7002</td><td>340613</td></tr>",
                            "<tr><td>7033</td><td>225049</td></tr>",
                            "<tr><td>7035</td><td>643396</td></tr>",
                            "<tr><td>7043</td><td>455490</td></tr>",
                            "<tr><td>7059</td><td>429277</td></tr>",
                            "<tr><td>7066</td><td>623895</td></tr>",
                            "<tr><td>7067</td><td>743606</td></tr>",
                            "<tr><td>7068</td><td>269062</td></tr>",
                            "<tr><td>7082</td><td>259561</td></tr>",
                            "<tr><td>7083</td><td>409052</td></tr>",
                            "<tr><td>7086</td><td>508756</td></tr>",
                            "<tr><td>7094</td><td>397233</td></tr>",
                            "<tr><td>7096</td><td>348069</td></tr>",
                            "<tr><td>7098</td><td>424800</td></tr>",
                            "<tr><td>7108</td><td>240889</td></tr>",
                            "<tr><td>7151</td><td>396734</td></tr>",
                            "<tr><td>7166</td><td>455058</td></tr>",
                            "<tr><td>7167</td><td>318170</td></tr>",
                            "<tr><td>7182</td><td>266039</td></tr>",
                            "<tr><td>7191</td><td>1604880</td></tr>",
                            "<tr><td>7197</td><td>1405920</td></tr>",
                            "<tr><td>7204</td><td>240200</td></tr>",
                            "<tr><td>7206</td><td>293094</td></tr>",
                            "<tr><td>7207</td><td>394006</td></tr>",
                            "<tr><td>7214</td><td>291393</td></tr>",
                            "<tr><td>7220</td><td>555325</td></tr>",
                            "<tr><td>7255</td><td>310336</td></tr>",
                            "<tr><td>7258</td><td>276602</td></tr>",
                            "<tr><td>7264</td><td>1041320</td></tr>",
                            "<tr><td>7277</td><td>380990</td></tr>",
                            "<tr><td>7278</td><td>333154</td></tr>",
                            "<tr><td>7283</td><td>470581</td></tr>",
                            "<tr><td>7301</td><td>331252</td></tr>",
                            "<tr><td>7305</td><td>1639330</td></tr>",
                            "<tr><td>7307</td><td>552303</td></tr>",
                            "<tr><td>7333</td><td>310066</td></tr>",
                            "<tr><td>7340</td><td>264610</td></tr>",
                            "<tr><td>7341</td><td>298930</td></tr>",
                            "<tr><td>7354</td><td>234449</td></tr>",
                            "<tr><td>7387</td><td>235547</td></tr>",
                            "<tr><td>7390</td><td>248499</td></tr>",
                            "<tr><td>7392</td><td>558981</td></tr>",
                            "<tr><td>7410</td><td>263384</td></tr>",
                            "<tr><td>7412</td><td>584892</td></tr>",
                            "<tr><td>7446</td><td>414080</td></tr>",
                            "<tr><td>7448</td><td>375942</td></tr>",
                            "<tr><td>7455</td><td>209097</td></tr>",
                            "<tr><td>7460</td><td>274028</td></tr>",
                            "<tr><td>7465</td><td>427860</td></tr>",
                            "<tr><td>7468</td><td>308205</td></tr>",
                            "<tr><td>7471</td><td>253827</td></tr>",
                            "<tr><td>7472</td><td>374716</td></tr>",
                            "<tr><td>7484</td><td>272038</td></tr>",
                            "<tr><td>7496</td><td>272950</td></tr>",
                            "<tr><td>7507</td><td>353414</td></tr>",
                            "<tr><td>7513</td><td>366416</td></tr>",
                            "<tr><td>7533</td><td>215276</td></tr>",
                            "<tr><td>7541</td><td>229480</td></tr>",
                            "<tr><td>7550</td><td>1849950</td></tr>",
                            "<tr><td>7561</td><td>223250</td></tr>",
                            "<tr><td>7564</td><td>376534</td></tr>",
                            "<tr><td>7565</td><td>277739</td></tr>",
                            "<tr><td>7589</td><td>288790</td></tr>",
                            "<tr><td>7592</td><td>334943</td></tr>",
                            "<tr><td>7611</td><td>688890</td></tr>",
                            "<tr><td>7612</td><td>241238</td></tr>",
                            "<tr><td>7641</td><td>400024</td></tr>",
                            "<tr><td>7645</td><td>1070480</td></tr>",
                            "<tr><td>7646</td><td>1276560</td></tr>",
                            "<tr><td>7673</td><td>288548</td></tr>",
                            "<tr><td>7675</td><td>1223220</td></tr>",
                            "<tr><td>7676</td><td>364300</td></tr>",
                            "<tr><td>7688</td><td>334716</td></tr>",
                            "<tr><td>7694</td><td>387523</td></tr>",
                            "<tr><td>7696</td><td>558736</td></tr>",
                            "<tr><td>7697</td><td>573158</td></tr>",
                            "<tr><td>7699</td><td>411922</td></tr>",
                            "<tr><td>7702</td><td>289954</td></tr>",
                            "<tr><td>7703</td><td>214800</td></tr>",
                            "<tr><td>7708</td><td>255190</td></tr>",
                            "<tr><td>7716</td><td>321178</td></tr>",
                            "<tr><td>7725</td><td>240550</td></tr>",
                            "<tr><td>7735</td><td>262412</td></tr>",
                            "<tr><td>7736</td><td>290382</td></tr>",
                            "<tr><td>7746</td><td>236388</td></tr>",
                            "<tr><td>7754</td><td>236693</td></tr>",
                            "<tr><td>7767</td><td>254080</td></tr>",
                            "<tr><td>7775</td><td>357172</td></tr>",
                            "<tr><td>7780</td><td>431413</td></tr>",
                            "<tr><td>7782</td><td>253888</td></tr>",
                            "<tr><td>7815</td><td>308618</td></tr>",
                            "<tr><td>7829</td><td>240918</td></tr>",
                            "<tr><td>7842</td><td>662540</td></tr>",
                            "<tr><td>7844</td><td>389444</td></tr>",
                            "<tr><td>7846</td><td>285667</td></tr>",
                            "<tr><td>7861</td><td>221510</td></tr>",
                            "<tr><td>7871</td><td>375699</td></tr>",
                            "<tr><td>7878</td><td>444767</td></tr>",
                            "<tr><td>7897</td><td>469442</td></tr>",
                            "<tr><td>7915</td><td>231322</td></tr>",
                            "<tr><td>7923</td><td>277296</td></tr>",
                            "<tr><td>7932</td><td>234607</td></tr>",
                            "<tr><td>7933</td><td>455701</td></tr>",
                            "<tr><td>7935</td><td>593089</td></tr>",
                            "<tr><td>7939</td><td>233189</td></tr>",
                            "<tr><td>7950</td><td>667700</td></tr>",
                            "<tr><td>7963</td><td>302340</td></tr>",
                            "<tr><td>7969</td><td>318796</td></tr>",
                            "<tr><td>7975</td><td>245105</td></tr>",
                            "<tr><td>7982</td><td>263968</td></tr>",
                            "<tr><td>7995</td><td>998980</td></tr>",
                            "<tr><td>8001</td><td>332315</td></tr>",
                            "<tr><td>8003</td><td>305474</td></tr>",
                            "<tr><td>8015</td><td>606322</td></tr>",
                            "<tr><td>8019</td><td>207315</td></tr>",
                            "<tr><td>8022</td><td>276018</td></tr>",
                            "<tr><td>8025</td><td>214980</td></tr>",
                            "<tr><td>8027</td><td>220843</td></tr>",
                            "<tr><td>8028</td><td>275892</td></tr>",
                            "<tr><td>8032</td><td>255345</td></tr>",
                            "<tr><td>8037</td><td>474524</td></tr>",
                            "<tr><td>8043</td><td>237700</td></tr>",
                            "<tr><td>8050</td><td>250795</td></tr>",
                            "<tr><td>8080</td><td>1635910</td></tr>",
                            "<tr><td>8082</td><td>354352</td></tr>",
                            "<tr><td>8090</td><td>296762</td></tr>",
                            "<tr><td>8093</td><td>215410</td></tr>",
                            "<tr><td>8127</td><td>275397</td></tr>",
                            "<tr><td>8128</td><td>218776</td></tr>",
                            "<tr><td>8136</td><td>212020</td></tr>",
                            "<tr><td>8138</td><td>476480</td></tr>",
                            "<tr><td>8191</td><td>210237</td></tr>",
                            "<tr><td>8193</td><td>1439400</td></tr>",
                            "<tr><td>8208</td><td>231318</td></tr>",
                            "<tr><td>8210</td><td>2381070</td></tr>",
                            "<tr><td>8211</td><td>427365</td></tr>",
                            "<tr><td>8217</td><td>217870</td></tr>",
                            "<tr><td>8224</td><td>373624</td></tr>",
                            "<tr><td>8233</td><td>496134</td></tr>",
                            "<tr><td>8248</td><td>289921</td></tr>",
                            "<tr><td>8269</td><td>503504</td></tr>",
                            "<tr><td>8272</td><td>217331</td></tr>",
                            "<tr><td>8288</td><td>263501</td></tr>",
                            "<tr><td>8292</td><td>405550</td></tr>",
                            "<tr><td>8310</td><td>359074</td></tr>",
                            "<tr><td>8316</td><td>208492</td></tr>",
                            "<tr><td>8324</td><td>288641</td></tr>",
                            "<tr><td>8345</td><td>251756</td></tr>",
                            "<tr><td>8373</td><td>423636</td></tr>",
                            "<tr><td>8380</td><td>1891690</td></tr>",
                            "<tr><td>8407</td><td>208241</td></tr>",
                            "<tr><td>8423</td><td>223764</td></tr>",
                            "<tr><td>8431</td><td>214180</td></tr>",
                            "<tr><td>8452</td><td>1632770</td></tr>",
                            "<tr><td>8468</td><td>348230</td></tr>",
                            "<tr><td>8477</td><td>228867</td></tr>",
                            "<tr><td>8500</td><td>817740</td></tr>",
                            "<tr><td>8501</td><td>216610</td></tr>",
                            "<tr><td>8504</td><td>214309</td></tr>",
                            "<tr><td>8507</td><td>939220</td></tr>",
                            "<tr><td>8513</td><td>522993</td></tr>",
                            "<tr><td>8522</td><td>679360</td></tr>",
                            "<tr><td>8535</td><td>400851</td></tr>",
                            "<tr><td>8541</td><td>544703</td></tr>",
                            "<tr><td>8561</td><td>269826</td></tr>",
                            "<tr><td>8570</td><td>504403</td></tr>",
                            "<tr><td>8571</td><td>250011</td></tr>",
                            "<tr><td>8595</td><td>293640</td></tr>",
                            "<tr><td>8600</td><td>425975</td></tr>",
                            "<tr><td>8641</td><td>392700</td></tr>",
                            "<tr><td>8645</td><td>254990</td></tr>",
                            "<tr><td>8647</td><td>1216100</td></tr>",
                            "<tr><td>8657</td><td>272169</td></tr>",
                            "<tr><td>8664</td><td>252250</td></tr>",
                            "<tr><td>8687</td><td>701570</td></tr>",
                            "<tr><td>8692</td><td>256456</td></tr>",
                            "<tr><td>8694</td><td>302036</td></tr>",
                            "<tr><td>8700</td><td>470815</td></tr>",
                            "<tr><td>8709</td><td>478692</td></tr>",
                            "<tr><td>8712</td><td>1056800</td></tr>",
                            "<tr><td>8717</td><td>1631000</td></tr>",
                            "<tr><td>8722</td><td>271952</td></tr>",
                            "<tr><td>8725</td><td>204980</td></tr>",
                            "<tr><td>8729</td><td>248850</td></tr>",
                            "<tr><td>8737</td><td>887400</td></tr>",
                            "<tr><td>8792</td><td>341736</td></tr>",
                            "<tr><td>8829</td><td>255244</td></tr>",
                            "<tr><td>8837</td><td>372996</td></tr>",
                            "<tr><td>8854</td><td>703988</td></tr>",
                            "<tr><td>8860</td><td>229461</td></tr>",
                            "<tr><td>8879</td><td>387504</td></tr>",
                            "<tr><td>8891</td><td>625140</td></tr>",
                            "<tr><td>8901</td><td>623780</td></tr>",
                            "<tr><td>8905</td><td>319864</td></tr>",
                            "<tr><td>8922</td><td>398611</td></tr>",
                            "<tr><td>8937</td><td>261331</td></tr>",
                            "<tr><td>8938</td><td>260775</td></tr>",
                            "<tr><td>8945</td><td>392875</td></tr>",
                            "<tr><td>8947</td><td>246753</td></tr>",
                            "<tr><td>8972</td><td>215515</td></tr>",
                            "<tr><td>8998</td><td>255202</td></tr>",
                            "<tr><td>9024</td><td>1179980</td></tr>",
                            "<tr><td>9044</td><td>210477</td></tr>",
                            "<tr><td>9048</td><td>419575</td></tr>",
                            "<tr><td>9051</td><td>393830</td></tr>",
                            "<tr><td>9054</td><td>295984</td></tr>",
                            "<tr><td>9057</td><td>335386</td></tr>",
                            "<tr><td>9081</td><td>445660</td></tr>",
                            "<tr><td>9087</td><td>326769</td></tr>",
                            "<tr><td>9098</td><td>424704</td></tr>",
                            "<tr><td>9104</td><td>228283</td></tr>",
                            "<tr><td>9114</td><td>318104</td></tr>",
                            "<tr><td>9115</td><td>299068</td></tr>",
                            "<tr><td>9119</td><td>243975</td></tr>",
                            "<tr><td>9132</td><td>437050</td></tr>",
                            "<tr><td>9137</td><td>491217</td></tr>",
                            "<tr><td>9148</td><td>645266</td></tr>",
                            "<tr><td>9160</td><td>419791</td></tr>",
                            "<tr><td>9165</td><td>298007</td></tr>",
                            "<tr><td>9166</td><td>475573</td></tr>",
                            "<tr><td>9202</td><td>260997</td></tr>",
                            "<tr><td>9207</td><td>291185</td></tr>",
                            "<tr><td>9208</td><td>224532</td></tr>",
                            "<tr><td>9228</td><td>205824</td></tr>",
                            "<tr><td>9233</td><td>321528</td></tr>",
                            "<tr><td>9251</td><td>223548</td></tr>",
                            "<tr><td>9262</td><td>264500</td></tr>",
                            "<tr><td>9267</td><td>318001</td></tr>",
                            "<tr><td>9275</td><td>534710</td></tr>",
                            "<tr><td>9279</td><td>347409</td></tr>",
                            "<tr><td>9280</td><td>217267</td></tr>",
                            "<tr><td>9287</td><td>230770</td></tr>",
                            "<tr><td>9288</td><td>566564</td></tr>",
                            "<tr><td>9289</td><td>266666</td></tr>",
                            "<tr><td>9312</td><td>345754</td></tr>",
                            "<tr><td>9320</td><td>679988</td></tr>",
                            "<tr><td>9339</td><td>621009</td></tr>",
                            "<tr><td>9345</td><td>235932</td></tr>",
                            "<tr><td>9350</td><td>404807</td></tr>",
                            "<tr><td>9359</td><td>219149</td></tr>",
                            "<tr><td>9363</td><td>407267</td></tr>",
                            "<tr><td>9373</td><td>435680</td></tr>",
                            "<tr><td>9399</td><td>263963</td></tr>",
                            "<tr><td>9429</td><td>209994</td></tr>",
                            "<tr><td>9449</td><td>356910</td></tr>",
                            "<tr><td>9456</td><td>454624</td></tr>",
                            "<tr><td>9476</td><td>286232</td></tr>",
                            "<tr><td>9478</td><td>336482</td></tr>",
                            "<tr><td>9479</td><td>275989</td></tr>",
                            "<tr><td>9481</td><td>537212</td></tr>",
                            "<tr><td>9484</td><td>339916</td></tr>",
                            "<tr><td>9531</td><td>334725</td></tr>",
                            "<tr><td>9537</td><td>379952</td></tr>",
                            "<tr><td>9551</td><td>298315</td></tr>",
                            "<tr><td>9563</td><td>451324</td></tr>",
                            "<tr><td>9588</td><td>218302</td></tr>",
                            "<tr><td>9590</td><td>235981</td></tr>",
                            "<tr><td>9613</td><td>245448</td></tr>",
                            "<tr><td>9619</td><td>255470</td></tr>",
                            "<tr><td>9630</td><td>496034</td></tr>",
                            "<tr><td>9635</td><td>1039270</td></tr>",
                            "<tr><td>9641</td><td>390080</td></tr>",
                            "<tr><td>9659</td><td>253185</td></tr>",
                            "<tr><td>9664</td><td>385155</td></tr>",
                            "<tr><td>9667</td><td>287849</td></tr>",
                            "<tr><td>9668</td><td>279736</td></tr>",
                            "<tr><td>9669</td><td>221506</td></tr>",
                            "<tr><td>9671</td><td>311523</td></tr>",
                            "<tr><td>9689</td><td>237796</td></tr>",
                            "<tr><td>9695</td><td>491910</td></tr>",
                            "<tr><td>9712</td><td>323850</td></tr>",
                            "<tr><td>9714</td><td>500162</td></tr>",
                            "<tr><td>9722</td><td>373697</td></tr>",
                            "<tr><td>9733</td><td>717990</td></tr>",
                            "<tr><td>9752</td><td>412540</td></tr>",
                            "<tr><td>9755</td><td>774470</td></tr>",
                            "<tr><td>9766</td><td>302040</td></tr>",
                            "<tr><td>9772</td><td>1019070</td></tr>",
                            "<tr><td>9775</td><td>529250</td></tr>",
                            "<tr><td>9792</td><td>447090</td></tr>",
                            "<tr><td>9795</td><td>214100</td></tr>",
                            "<tr><td>9797</td><td>234830</td></tr>",
                            "<tr><td>9802</td><td>518580</td></tr>",
                            "<tr><td>9812</td><td>242250</td></tr>",
                            "<tr><td>9842</td><td>374740</td></tr>",
                            "<tr><td>9847</td><td>645890</td></tr>",
                            "<tr><td>9855</td><td>256360</td></tr>",
                            "<tr><td>9857</td><td>354830</td></tr>",
                            "<tr><td>9859</td><td>291510</td></tr>",
                            "<tr><td>9865</td><td>543480</td></tr>",
                            "<tr><td>9869</td><td>287660</td></tr>",
                            "<tr><td>9887</td><td>311100</td></tr>",
                            "<tr><td>9895</td><td>269520</td></tr>",
                            "<tr><td>9906</td><td>438090</td></tr>",
                            "<tr><td>9908</td><td>286200</td></tr>",
                            "<tr><td>9909</td><td>343910</td></tr>",
                            "<tr><td>9910</td><td>519590</td></tr>",
                            "<tr><td>9912</td><td>1557300</td></tr>",
                            "<tr><td>9914</td><td>210080</td></tr>",
                            "<tr><td>9919</td><td>326000</td></tr>",
                            "<tr><td>9922</td><td>403650</td></tr>",
                            "<tr><td>9952</td><td>219450</td></tr>",
                            "<tr><td>9953</td><td>334080</td></tr>",
                            "<tr><td>9961</td><td>383080</td></tr>",
                            "<tr><td>9963</td><td>393100</td></tr>",
                            "<tr><td>9975</td><td>253270</td></tr>",
                            "<tr><td>9978</td><td>251900</td></tr>",
                            "<tr><td>10000</td><td>410050</td></tr>",
                            "<tr><td>10015</td><td>690180</td></tr>",
                            "<tr><td>10018</td><td>323310</td></tr>",
                            "<tr><td>10029</td><td>622060</td></tr>",
                            "<tr><td>10031</td><td>283580</td></tr>",
                            "<tr><td>10045</td><td>1835650</td></tr>",
                            "<tr><td>10049</td><td>298910</td></tr>",
                            "<tr><td>10056</td><td>470460</td></tr>",
                            "<tr><td>10058</td><td>210440</td></tr>",
                            "<tr><td>10062</td><td>343730</td></tr>",
                            "<tr><td>10083</td><td>328190</td></tr>",
                            "<tr><td>10085</td><td>245670</td></tr>",
                            "<tr><td>10093</td><td>215130</td></tr>",
                            "<tr><td>10103</td><td>389290</td></tr>",
                            "<tr><td>10110</td><td>255790</td></tr>",
                            "<tr><td>10119</td><td>730680</td></tr>",
                            "<tr><td>10137</td><td>358780</td></tr>",
                            "<tr><td>10141</td><td>293480</td></tr>",
                            "<tr><td>10151</td><td>256840</td></tr>",
                            "<tr><td>10171</td><td>218860</td></tr>",
                            "<tr><td>10173</td><td>452440</td></tr>",
                            "<tr><td>10207</td><td>688850</td></tr>",
                            "<tr><td>10212</td><td>495530</td></tr>",
                            "<tr><td>10223</td><td>321200</td></tr>",
                            "<tr><td>10228</td><td>1149640</td></tr>",
                            "<tr><td>10233</td><td>349170</td></tr>",
                            "<tr><td>10242</td><td>446150</td></tr>",
                            "<tr><td>10244</td><td>345690</td></tr>",
                            "<tr><td>10256</td><td>282790</td></tr>",
                            "<tr><td>10268</td><td>926010</td></tr>",
                            "<tr><td>10279</td><td>472480</td></tr>",
                            "<tr><td>10283</td><td>341280</td></tr>",
                            "<tr><td>10288</td><td>285770</td></tr>",
                            "<tr><td>10313</td><td>257130</td></tr>",
                            "<tr><td>10316</td><td>289300</td></tr>",
                            "<tr><td>10327</td><td>224010</td></tr>",
                            "<tr><td>10339</td><td>380730</td></tr>",
                            "<tr><td>10353</td><td>223170</td></tr>",
                            "<tr><td>10358</td><td>210680</td></tr>",
                            "<tr><td>10372</td><td>334700</td></tr>",
                            "<tr><td>10382</td><td>472260</td></tr>",
                            "<tr><td>10390</td><td>252890</td></tr>",
                            "<tr><td>10392</td><td>222420</td></tr>",
                            "<tr><td>10396</td><td>654770</td></tr>",
                            "<tr><td>10424</td><td>1338270</td></tr>",
                            "<tr><td>10430</td><td>299030</td></tr>",
                            "<tr><td>10454</td><td>258000</td></tr>",
                            "<tr><td>10457</td><td>1584900</td></tr>",
                            "<tr><td>10460</td><td>223040</td></tr>",
                            "<tr><td>10466</td><td>495220</td></tr>",
                            "<tr><td>10470</td><td>901090</td></tr>",
                            "<tr><td>10474</td><td>373740</td></tr>",
                            "<tr><td>10476</td><td>243490</td></tr>",
                            "<tr><td>10483</td><td>273710</td></tr>",
                            "<tr><td>10513</td><td>326730</td></tr>",
                            "<tr><td>10519</td><td>2015610</td></tr>",
                            "<tr><td>10526</td><td>298890</td></tr>",
                            "<tr><td>10529</td><td>494780</td></tr>",
                            "<tr><td>10530</td><td>300520</td></tr>",
                            "<tr><td>10531</td><td>332850</td></tr>",
                            "<tr><td>10533</td><td>526800</td></tr>",
                            "<tr><td>10538</td><td>220080</td></tr>",
                            "<tr><td>10541</td><td>348050</td></tr>",
                            "<tr><td>10547</td><td>265400</td></tr>",
                            "<tr><td>10551</td><td>317920</td></tr>",
                            "<tr><td>10552</td><td>515610</td></tr>",
                            "<tr><td>10561</td><td>411220</td></tr>",
                            "<tr><td>10573</td><td>1991000</td></tr>",
                            "<tr><td>10576</td><td>276890</td></tr>",
                            "<tr><td>10577</td><td>295670</td></tr>",
                            "<tr><td>10586</td><td>239220</td></tr>",
                            "<tr><td>10594</td><td>490970</td></tr>",
                            "<tr><td>10606</td><td>656900</td></tr>",
                            "<tr><td>10614</td><td>1316390</td></tr>",
                            "<tr><td>10620</td><td>252540</td></tr>",
                            "<tr><td>10623</td><td>465300</td></tr>",
                            "<tr><td>10637</td><td>276190</td></tr>",
                            "<tr><td>10642</td><td>338300</td></tr>",
                            "<tr><td>10665</td><td>709900</td></tr>",
                            "<tr><td>10666</td><td>218560</td></tr>",
                            "<tr><td>10668</td><td>474480</td></tr>",
                            "<tr><td>10670</td><td>480270</td></tr>",
                            "<tr><td>10671</td><td>239040</td></tr>",
                            "<tr><td>10685</td><td>462060</td></tr>",
                            "<tr><td>10688</td><td>257880</td></tr>",
                            "<tr><td>10711</td><td>385930</td></tr>",
                            "<tr><td>10712</td><td>487880</td></tr>",
                            "<tr><td>10715</td><td>258120</td></tr>",
                            "<tr><td>10720</td><td>224930</td></tr>",
                            "<tr><td>10729</td><td>220430</td></tr>",
                            "<tr><td>10734</td><td>295570</td></tr>",
                            "<tr><td>10735</td><td>317330</td></tr>",
                            "<tr><td>10738</td><td>432650</td></tr>",
                            "<tr><td>10743</td><td>428380</td></tr>",
                            "<tr><td>10747</td><td>224550</td></tr>",
                            "<tr><td>10763</td><td>250980</td></tr>",
                            "<tr><td>10765</td><td>437880</td></tr>",
                            "<tr><td>10766</td><td>441680</td></tr>",
                            "<tr><td>10786</td><td>912550</td></tr>",
                            "<tr><td>10789</td><td>497290</td></tr>",
                            "<tr><td>10793</td><td>254990</td></tr>",
                            "<tr><td>10799</td><td>334220</td></tr>",
                            "<tr><td>10800</td><td>441620</td></tr>",
                            "<tr><td>10812</td><td>227410</td></tr>",
                            "<tr><td>10819</td><td>456200</td></tr>",
                            "<tr><td>10835</td><td>827920</td></tr>",
                            "<tr><td>10848</td><td>292800</td></tr>",
                            "<tr><td>10862</td><td>1170880</td></tr>",
                            "<tr><td>10872</td><td>457260</td></tr>",
                            "<tr><td>10883</td><td>228770</td></tr>",
                            "<tr><td>10887</td><td>248980</td></tr>",
                            "<tr><td>10894</td><td>212690</td></tr>",
                            "<tr><td>10897</td><td>2051150</td></tr>",
                            "<tr><td>10908</td><td>305080</td></tr>",
                            "<tr><td>10931</td><td>378000</td></tr>",
                            "<tr><td>10942</td><td>214370</td></tr>",
                            "<tr><td>10971</td><td>327590</td></tr>",
                            "<tr><td>10975</td><td>311600</td></tr>",
                            "<tr><td>10976</td><td>213060</td></tr>",
                            "<tr><td>10982</td><td>813800</td></tr>",
                            "<tr><td>10986</td><td>257490</td></tr>",
                            "<tr><td>10990</td><td>408030</td></tr>",
                            "<tr><td>10999</td><td>232480</td></tr>",
                            "<tr><td>11019</td><td>339000</td></tr>",
                            "<tr><td>11021</td><td>209930</td></tr>",
                            "<tr><td>11030</td><td>209940</td></tr>",
                            "<tr><td>11050</td><td>263460</td></tr>",
                            "<tr><td>11056</td><td>465390</td></tr>",
                            "<tr><td>11063</td><td>321650</td></tr>",
                            "<tr><td>11074</td><td>1020810</td></tr>",
                            "<tr><td>11076</td><td>247430</td></tr>",
                            "<tr><td>11078</td><td>468860</td></tr>",
                            "<tr><td>11085</td><td>282180</td></tr>",
                            "<tr><td>11088</td><td>566290</td></tr>",
                            "<tr><td>11092</td><td>317420</td></tr>",
                            "<tr><td>11098</td><td>524780</td></tr>",
                            "<tr><td>11106</td><td>401460</td></tr>",
                            "<tr><td>11112</td><td>267240</td></tr>",
                            "<tr><td>11114</td><td>248590</td></tr>",
                            "<tr><td>11131</td><td>1460250</td></tr>",
                            "<tr><td>11147</td><td>322440</td></tr>",
                            "<tr><td>11150</td><td>217470</td></tr>",
                            "<tr><td>11158</td><td>408470</td></tr>",
                            "<tr><td>11166</td><td>1159720</td></tr>",
                            "<tr><td>11183</td><td>397400</td></tr>",
                            "<tr><td>11186</td><td>249270</td></tr>",
                            "<tr><td>11196</td><td>282360</td></tr>",
                            "<tr><td>11224</td><td>258600</td></tr>",
                            "<tr><td>11233</td><td>380160</td></tr>",
                            "<tr><td>11244</td><td>448130</td></tr>",
                            "<tr><td>11248</td><td>205510</td></tr>",
                            "<tr><td>11250</td><td>399470</td></tr>",
                            "<tr><td>11253</td><td>775480</td></tr>",
                            "<tr><td>11259</td><td>236760</td></tr>",
                            "<tr><td>11264</td><td>371580</td></tr>",
                            "<tr><td>11280</td><td>229570</td></tr>",
                            "<tr><td>11288</td><td>1149840</td></tr>",
                            "<tr><td>11293</td><td>592480</td></tr>",
                            "<tr><td>11297</td><td>1584180</td></tr>",
                            "<tr><td>11312</td><td>269700</td></tr>",
                            "<tr><td>11314</td><td>242930</td></tr>",
                            "<tr><td>11317</td><td>407170</td></tr>",
                            "<tr><td>11320</td><td>347950</td></tr>",
                            "<tr><td>11324</td><td>370520</td></tr>",
                            "<tr><td>11330</td><td>273790</td></tr>",
                            "<tr><td>11336</td><td>315200</td></tr>",
                            "<tr><td>11342</td><td>421470</td></tr>",
                            "<tr><td>11347</td><td>233380</td></tr>",
                            "<tr><td>11383</td><td>234460</td></tr>",
                            "<tr><td>11387</td><td>327750</td></tr>",
                            "<tr><td>11391</td><td>256600</td></tr>",
                            "<tr><td>11402</td><td>1816790</td></tr>",
                            "<tr><td>11406</td><td>422050</td></tr>",
                            "<tr><td>11413</td><td>441530</td></tr>",
                            "<tr><td>11423</td><td>587510</td></tr>",
                            "<tr><td>11426</td><td>435390</td></tr>",
                            "<tr><td>11431</td><td>356760</td></tr>",
                            "<tr><td>11442</td><td>390770</td></tr>",
                            "<tr><td>11445</td><td>268075</td></tr>",
                            "<tr><td>11448</td><td>405290</td></tr>",
                            "<tr><td>11452</td><td>660350</td></tr>",
                            "<tr><td>11459</td><td>235030</td></tr>",
                            "<tr><td>11462</td><td>219620</td></tr>",
                            "<tr><td>11469</td><td>434450</td></tr>",
                            "<tr><td>11474</td><td>243790</td></tr>",
                            "<tr><td>11487</td><td>643180</td></tr>",
                            "<tr><td>11499</td><td>660250</td></tr>",
                            "<tr><td>11500</td><td>726600</td></tr>",
                            "<tr><td>11503</td><td>1192460</td></tr>",
                            "<tr><td>11508</td><td>484770</td></tr>",
                            "<tr><td>11513</td><td>1666580</td></tr>",
                            "<tr><td>11523</td><td>330420</td></tr>",
                            "<tr><td>11528</td><td>1410610</td></tr>",
                            "<tr><td>11537</td><td>257330</td></tr>",
                            "<tr><td>11543</td><td>495840</td></tr>",
                            "<tr><td>11546</td><td>448250</td></tr>",
                            "<tr><td>11549</td><td>436170</td></tr>",
                            "<tr><td>11553</td><td>449440</td></tr>",
                            "<tr><td>11564</td><td>440770</td></tr>",
                            "<tr><td>11567</td><td>255900</td></tr>",
                            "<tr><td>11571</td><td>234790</td></tr>",
                            "<tr><td>11580</td><td>211270</td></tr>",
                            "<tr><td>11598</td><td>241440</td></tr>",
                            "<tr><td>11629</td><td>426480</td></tr>",
                            "<tr><td>11632</td><td>388920</td></tr>",
                            "<tr><td>11633</td><td>1883700</td></tr>",
                            "<tr><td>11636</td><td>303130</td></tr>",
                            "<tr><td>11639</td><td>1173910</td></tr>",
                            "<tr><td>11647</td><td>376750</td></tr>",
                            "<tr><td>11651</td><td>490670</td></tr>",
                            "<tr><td>11657</td><td>325640</td></tr>",
                            "<tr><td>11661</td><td>721770</td></tr>",
                            "<tr><td>11664</td><td>330420</td></tr>",
                            "<tr><td>11673</td><td>307310</td></tr>",
                            "<tr><td>11680</td><td>257370</td></tr>",
                            "<tr><td>11692</td><td>414870</td></tr>",
                            "<tr><td>11698</td><td>463920</td></tr>",
                            "<tr><td>11700</td><td>823510</td></tr>",
                            "<tr><td>11708</td><td>284510</td></tr>",
                            "<tr><td>11711</td><td>268580</td></tr>",
                            "<tr><td>11723</td><td>289310</td></tr>",
                            "<tr><td>11738</td><td>754290</td></tr>",
                            "<tr><td>11742</td><td>562800</td></tr>",
                            "<tr><td>11760</td><td>457950</td></tr>",
                            "<tr><td>11774</td><td>463610</td></tr>",
                            "<tr><td>11778</td><td>308110</td></tr>",
                            "<tr><td>11779</td><td>462720</td></tr>",
                            "<tr><td>11780</td><td>209380</td></tr>",
                            "<tr><td>11797</td><td>1079390</td></tr>",
                            "<tr><td>11806</td><td>486460</td></tr>",
                            "<tr><td>11820</td><td>283720</td></tr>",
                            "<tr><td>11824</td><td>1351600</td></tr>",
                            "<tr><td>11839</td><td>1349630</td></tr>",
                            "<tr><td>11844</td><td>542160</td></tr>",
                            "<tr><td>11845</td><td>229530</td></tr>",
                            "<tr><td>11850</td><td>210150</td></tr>",
                            "<tr><td>11851</td><td>410070</td></tr>",
                            "<tr><td>11854</td><td>330710</td></tr>",
                            "<tr><td>11872</td><td>243310</td></tr>",
                            "<tr><td>11882</td><td>245870</td></tr>",
                            "<tr><td>11893</td><td>385790</td></tr>",
                            "<tr><td>11896</td><td>406350</td></tr>",
                            "<tr><td>11901</td><td>478300</td></tr>",
                            "<tr><td>11906</td><td>207600</td></tr>",
                            "<tr><td>11914</td><td>431800</td></tr>",
                            "<tr><td>11915</td><td>447930</td></tr>",
                            "<tr><td>11916</td><td>528560</td></tr>",
                            "<tr><td>11919</td><td>307410</td></tr>",
                            "<tr><td>11923</td><td>301700</td></tr>",
                            "<tr><td>11924</td><td>246810</td></tr>",
                            "<tr><td>11927</td><td>303500</td></tr>",
                            "<tr><td>11940</td><td>352950</td></tr>",
                            "<tr><td>11941</td><td>451990</td></tr>",
                            "<tr><td>11946</td><td>492620</td></tr>",
                            "<tr><td>11964</td><td>282530</td></tr>",
                            "<tr><td>12004</td><td>322110</td></tr>",
                            "<tr><td>12009</td><td>510980</td></tr>",
                            "<tr><td>12022</td><td>383070</td></tr>",
                            "<tr><td>12030</td><td>273570</td></tr>",
                            "<tr><td>12032</td><td>592570</td></tr>",
                            "<tr><td>12033</td><td>244390</td></tr>",
                            "<tr><td>12036</td><td>451930</td></tr>",
                            "<tr><td>12037</td><td>439870</td></tr>",
                            "<tr><td>12041</td><td>557150</td></tr>",
                            "<tr><td>12056</td><td>455550</td></tr>",
                            "<tr><td>12057</td><td>2168810</td></tr>",
                            "<tr><td>12065</td><td>388370</td></tr>",
                            "<tr><td>12088</td><td>337820</td></tr>",
                            "<tr><td>12101</td><td>678920</td></tr>",
                            "<tr><td>12103</td><td>212380</td></tr>",
                            "<tr><td>12113</td><td>273610</td></tr>",
                            "<tr><td>12114</td><td>252830</td></tr>",
                            "<tr><td>12115</td><td>240190</td></tr>",
                            "<tr><td>12128</td><td>377800</td></tr>",
                            "<tr><td>12131</td><td>1811230</td></tr>",
                            "<tr><td>12134</td><td>318610</td></tr>",
                            "<tr><td>12137</td><td>408330</td></tr>",
                            "<tr><td>12139</td><td>262940</td></tr>",
                            "<tr><td>12142</td><td>233800</td></tr>",
                            "<tr><td>12144</td><td>329650</td></tr>",
                            "<tr><td>12145</td><td>230650</td></tr>",
                            "<tr><td>12151</td><td>315890</td></tr>",
                            "<tr><td>12164</td><td>357620</td></tr>",
                            "<tr><td>12166</td><td>540470</td></tr>",
                            "<tr><td>12186</td><td>272570</td></tr>",
                            "<tr><td>12187</td><td>246410</td></tr>",
                            "<tr><td>12210</td><td>546210</td></tr>",
                            "<tr><td>12216</td><td>287360</td></tr>",
                            "<tr><td>12251</td><td>218770</td></tr>",
                            "<tr><td>12256</td><td>239060</td></tr>",
                            "<tr><td>12263</td><td>230280</td></tr>",
                            "<tr><td>12268</td><td>258990</td></tr>",
                            "<tr><td>12275</td><td>405090</td></tr>",
                            "<tr><td>12276</td><td>412490</td></tr>",
                            "<tr><td>12278</td><td>463150</td></tr>",
                            "<tr><td>12285</td><td>527340</td></tr>",
                            "<tr><td>12293</td><td>220560</td></tr>",
                            "<tr><td>12319</td><td>270880</td></tr>",
                            "<tr><td>12350</td><td>335510</td></tr>",
                            "<tr><td>12369</td><td>372490</td></tr>",
                            "<tr><td>12380</td><td>472860</td></tr>",
                            "<tr><td>12404</td><td>265890</td></tr>",
                            "<tr><td>12411</td><td>311890</td></tr>",
                            "<tr><td>12413</td><td>256860</td></tr>",
                            "<tr><td>12426</td><td>1557320</td></tr>",
                            "<tr><td>12430</td><td>369160</td></tr>",
                            "<tr><td>12431</td><td>273860</td></tr>",
                            "<tr><td>12434</td><td>1103180</td></tr>",
                            "<tr><td>12445</td><td>210400</td></tr>",
                            "<tr><td>12450</td><td>1020570</td></tr>",
                            "<tr><td>12453</td><td>325110</td></tr>",
                            "<tr><td>12464</td><td>264700</td></tr>",
                            "<tr><td>12491</td><td>263920</td></tr>",
                            "<tr><td>12503</td><td>283890</td></tr>",
                            "<tr><td>12526</td><td>219050</td></tr>",
                            "<tr><td>12532</td><td>299720</td></tr>",
                            "<tr><td>12536</td><td>411240</td></tr>",
                            "<tr><td>12540</td><td>307540</td></tr>",
                            "<tr><td>12550</td><td>634330</td></tr>",
                            "<tr><td>12555</td><td>225290</td></tr>",
                            "<tr><td>12563</td><td>290760</td></tr>",
                            "<tr><td>12565</td><td>679800</td></tr>",
                            "<tr><td>12584</td><td>509600</td></tr>",
                            "<tr><td>12599</td><td>715620</td></tr>",
                            "<tr><td>12600</td><td>248850</td></tr>",
                            "<tr><td>12612</td><td>238900</td></tr>",
                            "<tr><td>12626</td><td>669340</td></tr>",
                            "<tr><td>12630</td><td>298360</td></tr>",
                            "<tr><td>12636</td><td>248370</td></tr>",
                            "<tr><td>12644</td><td>284340</td></tr>",
                            "<tr><td>12657</td><td>463310</td></tr>",
                            "<tr><td>12671</td><td>456830</td></tr>",
                            "<tr><td>12673</td><td>615670</td></tr>",
                            "<tr><td>12677</td><td>587710</td></tr>",
                            "<tr><td>12678</td><td>369710</td></tr>",
                            "<tr><td>12682</td><td>437540</td></tr>",
                            "<tr><td>12686</td><td>254530</td></tr>",
                            "<tr><td>12701</td><td>368630</td></tr>",
                            "<tr><td>12710</td><td>888150</td></tr>",
                            "<tr><td>12716</td><td>336480</td></tr>",
                            "<tr><td>12717</td><td>227300</td></tr>",
                            "<tr><td>12738</td><td>262680</td></tr>",
                            "<tr><td>12741</td><td>264620</td></tr>",
                            "<tr><td>12752</td><td>241870</td></tr>",
                            "<tr><td>12766</td><td>283650</td></tr>",
                            "<tr><td>12768</td><td>249100</td></tr>",
                            "<tr><td>12772</td><td>298090</td></tr>",
                            "<tr><td>12779</td><td>426250</td></tr>",
                            "<tr><td>12781</td><td>227900</td></tr>",
                            "<tr><td>12786</td><td>378760</td></tr>",
                            "<tr><td>12787</td><td>247090</td></tr>",
                            "<tr><td>12791</td><td>238020</td></tr>",
                            "<tr><td>12798</td><td>303270</td></tr>",
                            "<tr><td>12801</td><td>316020</td></tr>",
                            "<tr><td>12822</td><td>392500</td></tr>",
                            "<tr><td>12823</td><td>1587090</td></tr>",
                            "<tr><td>12837</td><td>301280</td></tr>",
                            "<tr><td>12839</td><td>309250</td></tr>",
                            "<tr><td>12842</td><td>236350</td></tr>",
                            "<tr><td>12861</td><td>294870</td></tr>",
                            "<tr><td>12868</td><td>274760</td></tr>",
                            "<tr><td>12880</td><td>256470</td></tr>",
                            "<tr><td>12891</td><td>431340</td></tr>",
                            "<tr><td>12900</td><td>448140</td></tr>",
                            "<tr><td>12908</td><td>289120</td></tr>",
                            "<tr><td>12920</td><td>1794900</td></tr>",
                            "<tr><td>12941</td><td>337090</td></tr>",
                            "<tr><td>12949</td><td>207990</td></tr>",
                            "<tr><td>12951</td><td>483380</td></tr>",
                            "<tr><td>12955</td><td>226130</td></tr>",
                            "<tr><td>12968</td><td>255840</td></tr>",
                            "<tr><td>12976</td><td>441460</td></tr>",
                            "<tr><td>12981</td><td>405130</td></tr>",
                            "<tr><td>12992</td><td>381730</td></tr>",
                            "<tr><td>12996</td><td>244290</td></tr>",
                            "<tr><td>13002</td><td>592900</td></tr>",
                            "<tr><td>13007</td><td>404740</td></tr>",
                            "<tr><td>13011</td><td>215770</td></tr>",
                            "<tr><td>13019</td><td>321390</td></tr>",
                            "<tr><td>13023</td><td>267230</td></tr>",
                            "<tr><td>13028</td><td>269920</td></tr>",
                            "<tr><td>13049</td><td>486380</td></tr>",
                            "<tr><td>13061</td><td>238400</td></tr>",
                            "<tr><td>13074</td><td>300850</td></tr>",
                            "<tr><td>13116</td><td>426050</td></tr>",
                            "<tr><td>13120</td><td>294310</td></tr>",
                            "<tr><td>13129</td><td>382620</td></tr>",
                            "<tr><td>13130</td><td>375020</td></tr>",
                            "<tr><td>13132</td><td>280910</td></tr>",
                            "<tr><td>13135</td><td>205330</td></tr>",
                            "<tr><td>13136</td><td>208800</td></tr>",
                            "<tr><td>13137</td><td>477760</td></tr>",
                            "<tr><td>13157</td><td>216680</td></tr>",
                            "<tr><td>13169</td><td>574050</td></tr>",
                            "<tr><td>13171</td><td>291240</td></tr>",
                            "<tr><td>13190</td><td>234030</td></tr>",
                            "<tr><td>13197</td><td>316260</td></tr>",
                            "<tr><td>13198</td><td>466810</td></tr>",
                            "<tr><td>13215</td><td>431110</td></tr>",
                            "<tr><td>13232</td><td>236840</td></tr>",
                            "<tr><td>13243</td><td>559540</td></tr>",
                            "<tr><td>13249</td><td>559330</td></tr>",
                            "<tr><td>13260</td><td>1043130</td></tr>",
                            "<tr><td>13262</td><td>270300</td></tr>",
                            "<tr><td>13267</td><td>998230</td></tr>",
                            "<tr><td>13272</td><td>399930</td></tr>",
                            "<tr><td>13284</td><td>346050</td></tr>",
                            "<tr><td>13287</td><td>721920</td></tr>",
                            "<tr><td>13293</td><td>335200</td></tr>",
                            "<tr><td>13303</td><td>500380</td></tr>",
                            "<tr><td>13314</td><td>471120</td></tr>",
                            "<tr><td>13315</td><td>457680</td></tr>",
                            "<tr><td>13318</td><td>394870</td></tr>",
                            "<tr><td>13321</td><td>348860</td></tr>",
                            "<tr><td>13333</td><td>408580</td></tr>",
                            "<tr><td>13353</td><td>411620</td></tr>",
                            "<tr><td>13360</td><td>1327310</td></tr>",
                            "<tr><td>13362</td><td>205990</td></tr>",
                            "<tr><td>13374</td><td>522480</td></tr>",
                            "<tr><td>13375</td><td>524340</td></tr>",
                            "<tr><td>13379</td><td>421510</td></tr>",
                            "<tr><td>13396</td><td>219450</td></tr>",
                            "<tr><td>13403</td><td>593440</td></tr>",
                            "<tr><td>13408</td><td>240900</td></tr>",
                            "<tr><td>13414</td><td>304500</td></tr>",
                            "<tr><td>13417</td><td>247670</td></tr>",
                            "<tr><td>13444</td><td>268230</td></tr>",
                            "<tr><td>13449</td><td>273410</td></tr>",
                            "<tr><td>13460</td><td>352890</td></tr>",
                            "<tr><td>13486</td><td>439360</td></tr>",
                            "<tr><td>13487</td><td>360960</td></tr>",
                            "<tr><td>13516</td><td>241630</td></tr>",
                            "<tr><td>13522</td><td>246210</td></tr>",
                            "<tr><td>13528</td><td>319050</td></tr>",
                            "<tr><td>13533</td><td>222940</td></tr>",
                            "<tr><td>13553</td><td>465840</td></tr>",
                            "<tr><td>13569</td><td>337320</td></tr>",
                            "<tr><td>13572</td><td>285550</td></tr>",
                            "<tr><td>13576</td><td>415840</td></tr>",
                            "<tr><td>13581</td><td>488060</td></tr>",
                            "<tr><td>13594</td><td>385900</td></tr>",
                            "<tr><td>13595</td><td>402130</td></tr>",
                            "<tr><td>13604</td><td>1340170</td></tr>",
                            "<tr><td>13605</td><td>236600</td></tr>",
                            "<tr><td>13610</td><td>2029730</td></tr>",
                            "<tr><td>13613</td><td>247590</td></tr>",
                            "<tr><td>13628</td><td>512300</td></tr>",
                            "<tr><td>13636</td><td>292510</td></tr>",
                            "<tr><td>13647</td><td>208920</td></tr>",
                            "<tr><td>13658</td><td>311230</td></tr>",
                            "<tr><td>13663</td><td>241750</td></tr>",
                            "<tr><td>13673</td><td>371730</td></tr>",
                            "<tr><td>13674</td><td>1807270</td></tr>",
                            "<tr><td>13680</td><td>236730</td></tr>",
                            "<tr><td>13687</td><td>365490</td></tr>",
                            "<tr><td>13698</td><td>234780</td></tr>",
                            "<tr><td>13709</td><td>223060</td></tr>",
                            "<tr><td>13712</td><td>222110</td></tr>",
                            "<tr><td>13718</td><td>506710</td></tr>",
                            "<tr><td>13725</td><td>291230</td></tr>",
                            "<tr><td>13733</td><td>917010</td></tr>",
                            "<tr><td>13740</td><td>469810</td></tr>",
                            "<tr><td>13750</td><td>334680</td></tr>",
                            "<tr><td>13752</td><td>1181870</td></tr>",
                            "<tr><td>13764</td><td>294260</td></tr>",
                            "<tr><td>13774</td><td>288420</td></tr>",
                            "<tr><td>13781</td><td>600890</td></tr>",
                            "<tr><td>13793</td><td>257770</td></tr>",
                            "<tr><td>13817</td><td>584980</td></tr>",
                            "<tr><td>13821</td><td>448590</td></tr>",
                            "<tr><td>13831</td><td>428770</td></tr>",
                            "<tr><td>13835</td><td>288420</td></tr>",
                            "<tr><td>13843</td><td>228380</td></tr>",
                            "<tr><td>13844</td><td>330660</td></tr>",
                            "<tr><td>13848</td><td>258640</td></tr>",
                            "<tr><td>13868</td><td>254570</td></tr>",
                            "<tr><td>13875</td><td>243590</td></tr>",
                            "<tr><td>13899</td><td>1152640</td></tr>",
                            "<tr><td>13906</td><td>1164590</td></tr>",
                            "<tr><td>13916</td><td>213270</td></tr>",
                            "<tr><td>13923</td><td>336610</td></tr>",
                            "<tr><td>13929</td><td>420870</td></tr>",
                            "<tr><td>13932</td><td>472540</td></tr>",
                            "<tr><td>13944</td><td>240590</td></tr>",
                            "<tr><td>13957</td><td>632700</td></tr>",
                            "<tr><td>13969</td><td>451820</td></tr>",
                            "<tr><td>13992</td><td>420000</td></tr>",
                            "<tr><td>13993</td><td>399790</td></tr>",
                            "<tr><td>13996</td><td>217110</td></tr>",
                            "<tr><td>13997</td><td>322590</td></tr>",
                            "<tr><td>14005</td><td>211890</td></tr>",
                            "<tr><td>14007</td><td>206210</td></tr>",
                            "<tr><td>14013</td><td>372520</td></tr>",
                            "<tr><td>14027</td><td>393850</td></tr>",
                            "<tr><td>14030</td><td>420840</td></tr>",
                            "<tr><td>14067</td><td>525820</td></tr>",
                            "<tr><td>14073</td><td>320380</td></tr>",
                            "<tr><td>14076</td><td>425940</td></tr>",
                            "<tr><td>14084</td><td>548200</td></tr>",
                            "<tr><td>14085</td><td>211640</td></tr>",
                            "<tr><td>14088</td><td>232210</td></tr>",
                            "<tr><td>14097</td><td>1113150</td></tr>",
                            "<tr><td>14109</td><td>1121540</td></tr>",
                            "<tr><td>14112</td><td>266190</td></tr>",
                            "<tr><td>14143</td><td>520090</td></tr>",
                            "<tr><td>14151</td><td>385700</td></tr>",
                            "<tr><td>14167</td><td>257890</td></tr>",
                            "<tr><td>14168</td><td>225930</td></tr>",
                            "<tr><td>14170</td><td>225150</td></tr>",
                            "<tr><td>14171</td><td>267210</td></tr>",
                            "<tr><td>14174</td><td>1340650</td></tr>",
                            "<tr><td>14176</td><td>265960</td></tr>",
                            "<tr><td>14186</td><td>210070</td></tr>",
                            "<tr><td>14189</td><td>263770</td></tr>",
                            "<tr><td>14192</td><td>288620</td></tr>",
                            "<tr><td>14201</td><td>306240</td></tr>",
                            "<tr><td>14210</td><td>311360</td></tr>",
                            "<tr><td>14212</td><td>246400</td></tr>",
                            "<tr><td>14217</td><td>503090</td></tr>",
                            "<tr><td>14233</td><td>396210</td></tr>",
                            "<tr><td>14235</td><td>208560</td></tr>",
                            "<tr><td>14241</td><td>464860</td></tr>",
                            "<tr><td>14242</td><td>510680</td></tr>",
                            "<tr><td>14248</td><td>442920</td></tr>",
                            "<tr><td>14250</td><td>253710</td></tr>",
                            "<tr><td>14275</td><td>343350</td></tr>",
                            "<tr><td>14278</td><td>288300</td></tr>",
                            "<tr><td>14280</td><td>480220</td></tr>",
                            "<tr><td>14289</td><td>294290</td></tr>",
                            "<tr><td>14320</td><td>299650</td></tr>",
                            "<tr><td>14342</td><td>2047540</td></tr>",
                            "<tr><td>14352</td><td>377600</td></tr>",
                            "<tr><td>14373</td><td>387990</td></tr>",
                            "<tr><td>14377</td><td>215750</td></tr>",
                            "<tr><td>14381</td><td>277990</td></tr>",
                            "<tr><td>14389</td><td>240000</td></tr>",
                            "<tr><td>14400</td><td>455740</td></tr>",
                            "<tr><td>14404</td><td>384230</td></tr>",
                            "<tr><td>14409</td><td>240210</td></tr>",
                            "<tr><td>14414</td><td>618400</td></tr>",
                            "<tr><td>14422</td><td>685480</td></tr>",
                            "<tr><td>14424</td><td>435540</td></tr>",
                            "<tr><td>14429</td><td>1341040</td></tr>",
                            "<tr><td>14430</td><td>267970</td></tr>",
                            "<tr><td>14432</td><td>360700</td></tr>",
                            "<tr><td>14441</td><td>274960</td></tr>",
                            "<tr><td>14461</td><td>236350</td></tr>",
                            "<tr><td>14465</td><td>565920</td></tr>",
                            "<tr><td>14468</td><td>911300</td></tr>",
                            "<tr><td>14470</td><td>360110</td></tr>",
                            "<tr><td>14476</td><td>234950</td></tr>",
                            "<tr><td>14483</td><td>217460</td></tr>",
                            "<tr><td>14487</td><td>492010</td></tr>",
                            "<tr><td>14488</td><td>213810</td></tr>",
                            "<tr><td>14489</td><td>424910</td></tr>",
                            "<tr><td>14492</td><td>293690</td></tr>",
                            "<tr><td>14496</td><td>1027140</td></tr>",
                            "<tr><td>14505</td><td>463240</td></tr>",
                            "<tr><td>14514</td><td>229080</td></tr>",
                            "<tr><td>14515</td><td>328660</td></tr>",
                            "<tr><td>14535</td><td>444030</td></tr>",
                            "<tr><td>14536</td><td>2037200</td></tr>",
                            "<tr><td>14540</td><td>442970</td></tr>",
                            "<tr><td>14541</td><td>301400</td></tr>",
                            "<tr><td>14542</td><td>254060</td></tr>",
                            "<tr><td>14546</td><td>447150</td></tr>",
                            "<tr><td>14547</td><td>219390</td></tr>",
                            "<tr><td>14570</td><td>272230</td></tr>",
                            "<tr><td>14572</td><td>633040</td></tr>",
                            "<tr><td>14575</td><td>456680</td></tr>",
                            "<tr><td>14600</td><td>338850</td></tr>",
                            "<tr><td>14606</td><td>229110</td></tr>",
                            "<tr><td>14611</td><td>293890</td></tr>",
                            "<tr><td>14612</td><td>333870</td></tr>",
                            "<tr><td>14613</td><td>321310</td></tr>",
                            "<tr><td>14614</td><td>210460</td></tr>",
                            "<tr><td>14627</td><td>549090</td></tr>",
                            "<tr><td>14634</td><td>223610</td></tr>",
                            "<tr><td>14640</td><td>231260</td></tr>",
                            "<tr><td>14642</td><td>1140550</td></tr>",
                            "<tr><td>14646</td><td>337160</td></tr>",
                            "<tr><td>14655</td><td>217610</td></tr>",
                            "<tr><td>14656</td><td>394850</td></tr>",
                            "<tr><td>14667</td><td>461100</td></tr>",
                            "<tr><td>14669</td><td>365880</td></tr>",
                            "<tr><td>14675</td><td>216800</td></tr>",
                            "<tr><td>14678</td><td>457980</td></tr>",
                            "<tr><td>14714</td><td>232620</td></tr>",
                            "<tr><td>14748</td><td>240890</td></tr>",
                            "<tr><td>14750</td><td>637290</td></tr>",
                            "<tr><td>14753</td><td>377040</td></tr>",
                            "<tr><td>14760</td><td>750040</td></tr>",
                            "<tr><td>14775</td><td>427630</td></tr>",
                            "<tr><td>14782</td><td>1309560</td></tr>",
                            "<tr><td>14805</td><td>269540</td></tr>",
                            "<tr><td>14807</td><td>237810</td></tr>",
                            "<tr><td>14818</td><td>455060</td></tr>",
                            "<tr><td>14821</td><td>215380</td></tr>",
                            "<tr><td>14830</td><td>427770</td></tr>",
                            "<tr><td>14848</td><td>692070</td></tr>",
                            "<tr><td>14850</td><td>291380</td></tr>",
                            "<tr><td>14854</td><td>387940</td></tr>",
                            "<tr><td>14859</td><td>306550</td></tr>",
                            "<tr><td>14872</td><td>746180</td></tr>",
                            "<tr><td>14908</td><td>222930</td></tr>",
                            "<tr><td>14913</td><td>314170</td></tr>",
                            "<tr><td>14923</td><td>220580</td></tr>",
                            "<tr><td>14930</td><td>293800</td></tr>",
                            "<tr><td>14932</td><td>314940</td></tr>",
                            "<tr><td>14933</td><td>212390</td></tr>",
                            "<tr><td>14940</td><td>797490</td></tr>",
                            "<tr><td>14944</td><td>328780</td></tr>",
                            "<tr><td>14953</td><td>438650</td></tr>",
                            "<tr><td>14955</td><td>284960</td></tr>",
                            "<tr><td>14959</td><td>439060</td></tr>",
                            "<tr><td>14965</td><td>216160</td></tr>",
                            "<tr><td>14986</td><td>297400</td></tr>",
                            "<tr><td>14989</td><td>619590</td></tr>",
                            "<tr><td>14992</td><td>339460</td></tr>",
                            "<tr><td>15001</td><td>492410</td></tr>",
                            "<tr><td>15008</td><td>415650</td></tr>",
                            "<tr><td>15011</td><td>366120</td></tr>",
                            "<tr><td>15024</td><td>267400</td></tr>",
                            "<tr><td>15025</td><td>462550</td></tr>",
                            "<tr><td>15039</td><td>307090</td></tr>",
                            "<tr><td>15043</td><td>231910</td></tr>",
                            "<tr><td>15047</td><td>324730</td></tr>",
                            "<tr><td>15053</td><td>289760</td></tr>",
                            "<tr><td>15059</td><td>534300</td></tr>",
                            "<tr><td>15068</td><td>412820</td></tr>",
                            "<tr><td>15069</td><td>306850</td></tr>",
                            "<tr><td>15084</td><td>336560</td></tr>",
                            "<tr><td>15090</td><td>586370</td></tr>",
                            "<tr><td>15101</td><td>1021620</td></tr>",
                            "<tr><td>15116</td><td>862370</td></tr>",
                            "<tr><td>15129</td><td>1605660</td></tr>",
                            "<tr><td>15131</td><td>240270</td></tr>",
                            "<tr><td>15141</td><td>268770</td></tr>",
                            "<tr><td>15148</td><td>260000</td></tr>",
                            "<tr><td>15150</td><td>748130</td></tr>",
                            "<tr><td>15155</td><td>677070</td></tr>",
                            "<tr><td>15157</td><td>872300</td></tr>",
                            "<tr><td>15164</td><td>497010</td></tr>",
                            "<tr><td>15165</td><td>292650</td></tr>",
                            "<tr><td>15166</td><td>557860</td></tr>",
                            "<tr><td>15170</td><td>238490</td></tr>",
                            "<tr><td>15179</td><td>302650</td></tr>",
                            "<tr><td>15183</td><td>341140</td></tr>",
                            "<tr><td>15201</td><td>262720</td></tr>",
                            "<tr><td>15204</td><td>699360</td></tr>",
                            "<tr><td>15208</td><td>384880</td></tr>",
                            "<tr><td>15219</td><td>286050</td></tr>",
                            "<tr><td>15227</td><td>262540</td></tr>",
                            "<tr><td>15240</td><td>416750</td></tr>",
                            "<tr><td>15260</td><td>405090</td></tr>",
                            "<tr><td>15264</td><td>411400</td></tr>",
                            "<tr><td>15288</td><td>236050</td></tr>",
                            "<tr><td>15293</td><td>1111450</td></tr>",
                            "<tr><td>15314</td><td>267450</td></tr>",
                            "<tr><td>15327</td><td>1303520</td></tr>",
                            "<tr><td>15345</td><td>338890</td></tr>",
                            "<tr><td>15347</td><td>237340</td></tr>",
                            "<tr><td>15349</td><td>449040</td></tr>",
                            "<tr><td>15360</td><td>1288750</td></tr>",
                            "<tr><td>15364</td><td>418940</td></tr>",
                            "<tr><td>15384</td><td>362430</td></tr>",
                            "<tr><td>15392</td><td>528200</td></tr>",
                            "<tr><td>15423</td><td>227560</td></tr>",
                            "<tr><td>15440</td><td>575500</td></tr>",
                            "<tr><td>15458</td><td>473730</td></tr>",
                            "<tr><td>15460</td><td>471230</td></tr>",
                            "<tr><td>15461</td><td>252890</td></tr>",
                            "<tr><td>15498</td><td>482350</td></tr>",
                            "<tr><td>15510</td><td>221300</td></tr>",
                            "<tr><td>15517</td><td>402150</td></tr>",
                            "<tr><td>15535</td><td>557730</td></tr>",
                            "<tr><td>15536</td><td>229900</td></tr>",
                            "<tr><td>15544</td><td>374930</td></tr>",
                            "<tr><td>15555</td><td>494530</td></tr>",
                            "<tr><td>15559</td><td>391210</td></tr>",
                            "<tr><td>15570</td><td>330430</td></tr>",
                            "<tr><td>15571</td><td>265950</td></tr>",
                            "<tr><td>15573</td><td>538210</td></tr>",
                            "<tr><td>15577</td><td>388190</td></tr>",
                            "<tr><td>15584</td><td>1178880</td></tr>",
                            "<tr><td>15588</td><td>270075</td></tr>",
                            "<tr><td>15589</td><td>244620</td></tr>",
                            "<tr><td>15592</td><td>217850</td></tr>",
                            "<tr><td>15602</td><td>222630</td></tr>",
                            "<tr><td>15644</td><td>208370</td></tr>",
                            "<tr><td>15678</td><td>333110</td></tr>",
                            "<tr><td>15708</td><td>272050</td></tr>",
                            "<tr><td>15714</td><td>335710</td></tr>",
                            "<tr><td>15724</td><td>237420</td></tr>",
                            "<tr><td>15725</td><td>216550</td></tr>",
                            "<tr><td>15730</td><td>253880</td></tr>",
                            "<tr><td>15743</td><td>714650</td></tr>",
                            "<tr><td>15756</td><td>460970</td></tr>",
                            "<tr><td>15779</td><td>394060</td></tr>",
                            "<tr><td>15782</td><td>242920</td></tr>",
                            "<tr><td>15806</td><td>418830</td></tr>",
                            "<tr><td>15816</td><td>269420</td></tr>",
                            "<tr><td>15835</td><td>290210</td></tr>",
                            "<tr><td>15842</td><td>328270</td></tr>",
                            "<tr><td>15849</td><td>260450</td></tr>",
                            "<tr><td>15850</td><td>351110</td></tr>",
                            "<tr><td>15857</td><td>255700</td></tr>",
                            "<tr><td>15861</td><td>319100</td></tr>",
                            "<tr><td>15870</td><td>501900</td></tr>",
                            "<tr><td>15879</td><td>218840</td></tr>",
                            "<tr><td>15882</td><td>391940</td></tr>",
                            "<tr><td>15893</td><td>249900</td></tr>",
                            "<tr><td>15902</td><td>222510</td></tr>",
                            "<tr><td>15903</td><td>460780</td></tr>",
                            "<tr><td>15907</td><td>259590</td></tr>",
                            "<tr><td>15923</td><td>218130</td></tr>",
                            "<tr><td>15925</td><td>340370</td></tr>",
                            "<tr><td>15928</td><td>683850</td></tr>",
                            "<tr><td>15936</td><td>416430</td></tr>",
                            "<tr><td>15937</td><td>235570</td></tr>",
                            "<tr><td>15941</td><td>268970</td></tr>",
                            "<tr><td>15949</td><td>217040</td></tr>",
                            "<tr><td>15950</td><td>334390</td></tr>",
                            "<tr><td>15955</td><td>245030</td></tr>",
                            "<tr><td>15956</td><td>376100</td></tr>",
                            "<tr><td>15985</td><td>258110</td></tr>",
                            "<tr><td>15986</td><td>546120</td></tr>",
                            "<tr><td>15987</td><td>350260</td></tr>",
                            "<tr><td>15993</td><td>229460</td></tr>",
                            "<tr><td>16018</td><td>436760</td></tr>",
                            "<tr><td>16043</td><td>293790</td></tr>",
                            "<tr><td>16044</td><td>252380</td></tr>",
                            "<tr><td>16047</td><td>213310</td></tr>",
                            "<tr><td>16057</td><td>450940</td></tr>",
                            "<tr><td>16070</td><td>1780600</td></tr>",
                            "<tr><td>16077</td><td>209110</td></tr>",
                            "<tr><td>16082</td><td>527060</td></tr>",
                            "<tr><td>16083</td><td>326730</td></tr>",
                            "<tr><td>16084</td><td>215170</td></tr>",
                            "<tr><td>16090</td><td>439980</td></tr>",
                            "<tr><td>16095</td><td>276310</td></tr>",
                            "<tr><td>16117</td><td>361830</td></tr>",
                            "<tr><td>16165</td><td>244190</td></tr>",
                            "<tr><td>16170</td><td>219070</td></tr>",
                            "<tr><td>16181</td><td>268820</td></tr>",
                            "<tr><td>16182</td><td>379180</td></tr>",
                            "<tr><td>16189</td><td>617210</td></tr>",
                            "<tr><td>16195</td><td>215940</td></tr>",
                            "<tr><td>16200</td><td>280980</td></tr>",
                            "<tr><td>16206</td><td>314710</td></tr>",
                            "<tr><td>16216</td><td>390120</td></tr>",
                            "<tr><td>16220</td><td>343740</td></tr>",
                            "<tr><td>16224</td><td>387980</td></tr>",
                            "<tr><td>16230</td><td>450700</td></tr>",
                            "<tr><td>16251</td><td>1336530</td></tr>",
                            "<tr><td>16254</td><td>518100</td></tr>",
                            "<tr><td>16256</td><td>372890</td></tr>",
                            "<tr><td>16259</td><td>233210</td></tr>",
                            "<tr><td>16260</td><td>210420</td></tr>",
                            "<tr><td>16271</td><td>432110</td></tr>",
                            "<tr><td>16276</td><td>560960</td></tr>",
                            "<tr><td>16280</td><td>315460</td></tr>",
                            "<tr><td>16282</td><td>232400</td></tr>",
                            "<tr><td>16283</td><td>235470</td></tr>",
                            "<tr><td>16286</td><td>242260</td></tr>",
                            "<tr><td>16296</td><td>391020</td></tr>",
                            "<tr><td>16298</td><td>897670</td></tr>",
                            "<tr><td>16303</td><td>384050</td></tr>",
                            "<tr><td>16309</td><td>212610</td></tr>",
                            "<tr><td>16322</td><td>349010</td></tr>",
                            "<tr><td>16345</td><td>253630</td></tr>",
                            "<tr><td>16361</td><td>206140</td></tr>",
                            "<tr><td>16373</td><td>1294860</td></tr>",
                            "<tr><td>16375</td><td>270400</td></tr>",
                            "<tr><td>16379</td><td>237450</td></tr>",
                            "<tr><td>16383</td><td>367100</td></tr>",
                            "<tr><td>16387</td><td>221840</td></tr>",
                            "<tr><td>16411</td><td>364130</td></tr>",
                            "<tr><td>16414</td><td>1031700</td></tr>",
                            "<tr><td>16415</td><td>307930</td></tr>",
                            "<tr><td>16437</td><td>219270</td></tr>",
                            "<tr><td>16441</td><td>914990</td></tr>",
                            "<tr><td>16450</td><td>262450</td></tr>",
                            "<tr><td>16459</td><td>268950</td></tr>",
                            "<tr><td>16469</td><td>241070</td></tr>",
                            "<tr><td>16482</td><td>703050</td></tr>",
                            "<tr><td>16534</td><td>580160</td></tr>",
                            "<tr><td>16535</td><td>311400</td></tr>",
                            "<tr><td>16540</td><td>248770</td></tr>",
                            "<tr><td>16569</td><td>419330</td></tr>",
                            "<tr><td>16572</td><td>287960</td></tr>",
                            "<tr><td>16576</td><td>664580</td></tr>",
                            "<tr><td>16589</td><td>551330</td></tr>",
                            "<tr><td>16590</td><td>243300</td></tr>",
                            "<tr><td>16601</td><td>208820</td></tr>",
                            "<tr><td>16613</td><td>323110</td></tr>",
                            "<tr><td>16620</td><td>683150</td></tr>",
                            "<tr><td>16628</td><td>290870</td></tr>",
                            "<tr><td>16629</td><td>286170</td></tr>",
                            "<tr><td>16631</td><td>278280</td></tr>",
                            "<tr><td>16645</td><td>227220</td></tr>",
                            "<tr><td>16647</td><td>397160</td></tr>",
                            "<tr><td>16648</td><td>346790</td></tr>",
                            "<tr><td>16650</td><td>354210</td></tr>",
                            "<tr><td>16674</td><td>456570</td></tr>",
                            "<tr><td>16680</td><td>415025</td></tr>",
                            "<tr><td>16700</td><td>405300</td></tr>",
                            "<tr><td>16716</td><td>722860</td></tr>",
                            "<tr><td>16738</td><td>330780</td></tr>",
                            "<tr><td>16741</td><td>544060</td></tr>",
                            "<tr><td>16742</td><td>456790</td></tr>",
                            "<tr><td>16745</td><td>451090</td></tr>",
                            "<tr><td>16773</td><td>254850</td></tr>",
                            "<tr><td>16782</td><td>235110</td></tr>",
                            "<tr><td>16792</td><td>405350</td></tr>",
                            "<tr><td>16805</td><td>290390</td></tr>",
                            "<tr><td>16811</td><td>707790</td></tr>",
                            "<tr><td>16822</td><td>236430</td></tr>",
                            "<tr><td>16823</td><td>274670</td></tr>",
                            "<tr><td>16834</td><td>273750</td></tr>",
                            "<tr><td>16840</td><td>509510</td></tr>",
                            "<tr><td>16850</td><td>247860</td></tr>",
                            "<tr><td>16852</td><td>261990</td></tr>",
                            "<tr><td>16862</td><td>1603760</td></tr>",
                            "<tr><td>16871</td><td>533420</td></tr>",
                            "<tr><td>16872</td><td>566390</td></tr>",
                            "<tr><td>16879</td><td>299590</td></tr>",
                            "<tr><td>16888</td><td>280480</td></tr>",
                            "<tr><td>16889</td><td>491020</td></tr>",
                            "<tr><td>16897</td><td>557340</td></tr>",
                            "<tr><td>16918</td><td>484840</td></tr>",
                            "<tr><td>16926</td><td>519840</td></tr>",
                            "<tr><td>16932</td><td>334080</td></tr>",
                            "<tr><td>16935</td><td>415860</td></tr>",
                            "<tr><td>16946</td><td>1125510</td></tr>",
                            "<tr><td>16969</td><td>363000</td></tr>",
                            "<tr><td>16982</td><td>260620</td></tr>",
                            "<tr><td>16988</td><td>361510</td></tr>",
                            "<tr><td>16992</td><td>214550</td></tr>",
                            "<tr><td>16993</td><td>263770</td></tr>",
                            "<tr><td>16997</td><td>350500</td></tr>",
                            "<tr><td>17003</td><td>258160</td></tr>",
                            "<tr><td>17004</td><td>408410</td></tr>",
                            "<tr><td>17006</td><td>441510</td></tr>",
                            "<tr><td>17012</td><td>278830</td></tr>",
                            "<tr><td>17014</td><td>236580</td></tr>",
                            "<tr><td>17016</td><td>340870</td></tr>",
                            "<tr><td>17017</td><td>435050</td></tr>",
                            "<tr><td>17032</td><td>263210</td></tr>",
                            "<tr><td>17033</td><td>629650</td></tr>",
                            "<tr><td>17045</td><td>515980</td></tr>",
                            "<tr><td>17054</td><td>226000</td></tr>",
                            "<tr><td>17064</td><td>263780</td></tr>",
                            "<tr><td>17078</td><td>297170</td></tr>",
                            "<tr><td>17079</td><td>756170</td></tr>",
                            "<tr><td>17087</td><td>473260</td></tr>",
                            "<tr><td>17113</td><td>2048440</td></tr>",
                            "<tr><td>17132</td><td>619050</td></tr>",
                            "<tr><td>17159</td><td>440300</td></tr>",
                            "<tr><td>17173</td><td>308160</td></tr>",
                            "<tr><td>17179</td><td>337180</td></tr>",
                            "<tr><td>17202</td><td>1995650</td></tr>",
                            "<tr><td>17211</td><td>511460</td></tr>",
                            "<tr><td>17221</td><td>242400</td></tr>",
                            "<tr><td>17227</td><td>373220</td></tr>",
                            "<tr><td>17234</td><td>445870</td></tr>",
                            "<tr><td>17244</td><td>321430</td></tr>",
                            "<tr><td>17252</td><td>1156700</td></tr>",
                            "<tr><td>17257</td><td>349570</td></tr>",
                            "<tr><td>17265</td><td>215380</td></tr>",
                            "<tr><td>17271</td><td>316730</td></tr>",
                            "<tr><td>17274</td><td>450930</td></tr>",
                            "<tr><td>17278</td><td>484670</td></tr>",
                            "<tr><td>17285</td><td>1770770</td></tr>",
                            "<tr><td>17287</td><td>233790</td></tr>",
                            "<tr><td>17311</td><td>269530</td></tr>",
                            "<tr><td>17322</td><td>357240</td></tr>",
                            "<tr><td>17323</td><td>469960</td></tr>",
                            "<tr><td>17324</td><td>487960</td></tr>",
                            "<tr><td>17328</td><td>229350</td></tr>",
                            "<tr><td>17331</td><td>942810</td></tr>",
                            "<tr><td>17332</td><td>247470</td></tr>",
                            "<tr><td>17334</td><td>473730</td></tr>",
                            "<tr><td>17339</td><td>301130</td></tr>",
                            "<tr><td>17348</td><td>345140</td></tr>",
                            "<tr><td>17352</td><td>246840</td></tr>",
                            "<tr><td>17371</td><td>239930</td></tr>",
                            "<tr><td>17384</td><td>287410</td></tr>",
                            "<tr><td>17393</td><td>242750</td></tr>",
                            "<tr><td>17416</td><td>418800</td></tr>",
                            "<tr><td>17424</td><td>729150</td></tr>",
                            "<tr><td>17434</td><td>291170</td></tr>",
                            "<tr><td>17438</td><td>438820</td></tr>",
                            "<tr><td>17440</td><td>910480</td></tr>",
                            "<tr><td>17442</td><td>232200</td></tr>",
                            "<tr><td>17452</td><td>277700</td></tr>",
                            "<tr><td>17455</td><td>266330</td></tr>",
                            "<tr><td>17475</td><td>221780</td></tr>",
                            "<tr><td>17476</td><td>297950</td></tr>",
                            "<tr><td>17478</td><td>268230</td></tr>",
                            "<tr><td>17484</td><td>366760</td></tr>",
                            "<tr><td>17504</td><td>444500</td></tr>",
                            "<tr><td>17520</td><td>962950</td></tr>",
                            "<tr><td>17525</td><td>330030</td></tr>",
                            "<tr><td>17533</td><td>394240</td></tr>",
                            "<tr><td>17540</td><td>336780</td></tr>",
                            "<tr><td>17551</td><td>495050</td></tr>",
                            "<tr><td>17564</td><td>254800</td></tr>",
                            "<tr><td>17565</td><td>376790</td></tr>",
                            "<tr><td>17579</td><td>410400</td></tr>",
                            "<tr><td>17581</td><td>567990</td></tr>",
                            "<tr><td>17596</td><td>259000</td></tr>",
                            "<tr><td>17597</td><td>257790</td></tr>",
                            "<tr><td>17606</td><td>513460</td></tr>",
                            "<tr><td>17609</td><td>422860</td></tr>",
                            "<tr><td>17611</td><td>257330</td></tr>",
                            "<tr><td>17617</td><td>240610</td></tr>",
                            "<tr><td>17637</td><td>246900</td></tr>",
                            "<tr><td>17639</td><td>269760</td></tr>",
                            "<tr><td>17646</td><td>506440</td></tr>",
                            "<tr><td>17649</td><td>395410</td></tr>",
                            "<tr><td>17654</td><td>379080</td></tr>",
                            "<tr><td>17662</td><td>533610</td></tr>",
                            "<tr><td>17666</td><td>233290</td></tr>",
                            "<tr><td>17676</td><td>421190</td></tr>",
                            "<tr><td>17677</td><td>596540</td></tr>",
                            "<tr><td>17681</td><td>226140</td></tr>",
                            "<tr><td>17690</td><td>467740</td></tr>",
                            "<tr><td>17691</td><td>429500</td></tr>",
                            "<tr><td>17695</td><td>251020</td></tr>",
                            "<tr><td>17709</td><td>342660</td></tr>",
                            "<tr><td>17717</td><td>523740</td></tr>",
                            "<tr><td>17734</td><td>273930</td></tr>",
                            "<tr><td>17741</td><td>1307240</td></tr>",
                            "<tr><td>17746</td><td>358980</td></tr>",
                            "<tr><td>17747</td><td>296540</td></tr>",
                            "<tr><td>17749</td><td>1767230</td></tr>",
                            "<tr><td>17750</td><td>383500</td></tr>",
                            "<tr><td>17779</td><td>608980</td></tr>",
                            "<tr><td>17799</td><td>223190</td></tr>",
                            "<tr><td>17800</td><td>1148660</td></tr>",
                            "<tr><td>17829</td><td>581010</td></tr>",
                            "<tr><td>17838</td><td>634580</td></tr>",
                            "<tr><td>17840</td><td>914300</td></tr>",
                            "<tr><td>17842</td><td>520700</td></tr>",
                            "<tr><td>17845</td><td>261810</td></tr>",
                            "<tr><td>17853</td><td>446910</td></tr>",
                            "<tr><td>17861</td><td>266900</td></tr>",
                            "<tr><td>17862</td><td>1377080</td></tr>",
                            "<tr><td>17869</td><td>327610</td></tr>",
                            "<tr><td>17889</td><td>525580</td></tr>",
                            "<tr><td>17898</td><td>561650</td></tr>",
                            "<tr><td>17902</td><td>534650</td></tr>",
                            "<tr><td>17907</td><td>460500</td></tr>",
                            "<tr><td>17919</td><td>214960</td></tr>",
                            "<tr><td>17921</td><td>269040</td></tr>",
                            "<tr><td>17923</td><td>295600</td></tr>",
                            "<tr><td>17928</td><td>237660</td></tr>",
                            "<tr><td>17934</td><td>569850</td></tr>",
                            "<tr><td>17937</td><td>243220</td></tr>",
                            "<tr><td>17945</td><td>507800</td></tr>",
                            "<tr><td>17946</td><td>211600</td></tr>",
                            "<tr><td>17972</td><td>209570</td></tr>",
                            "<tr><td>17976</td><td>506940</td></tr>",
                            "<tr><td>17982</td><td>244880</td></tr>",
                            "<tr><td>18015</td><td>205400</td></tr>",
                            "<tr><td>18037</td><td>323780</td></tr>",
                            "<tr><td>18043</td><td>328810</td></tr>",
                            "<tr><td>18044</td><td>414210</td></tr>",
                            "<tr><td>18048</td><td>301530</td></tr>",
                            "<tr><td>18060</td><td>494260</td></tr>",
                            "<tr><td>18073</td><td>250430</td></tr>",
                            "<tr><td>18078</td><td>521620</td></tr>",
                            "<tr><td>18081</td><td>294170</td></tr>",
                            "<tr><td>18100</td><td>219320</td></tr>",
                            "<tr><td>18101</td><td>268210</td></tr>",
                            "<tr><td>18109</td><td>346100</td></tr>",
                            "<tr><td>18110</td><td>462830</td></tr>",
                            "<tr><td>18115</td><td>212520</td></tr>",
                            "<tr><td>18144</td><td>214800</td></tr>",
                            "<tr><td>18149</td><td>220950</td></tr>",
                            "<tr><td>18151</td><td>263440</td></tr>",
                            "<tr><td>18166</td><td>456540</td></tr>",
                            "<tr><td>18171</td><td>470340</td></tr>",
                            "<tr><td>18173</td><td>455900</td></tr>",
                            "<tr><td>18188</td><td>378790</td></tr>",
                            "<tr><td>18193</td><td>223110</td></tr>",
                            "<tr><td>18196</td><td>244440</td></tr>",
                            "<tr><td>18199</td><td>389790</td></tr>",
                            "<tr><td>18204</td><td>275640</td></tr>",
                            "<tr><td>18208</td><td>343200</td></tr>",
                            "<tr><td>18214</td><td>205760</td></tr>",
                            "<tr><td>18224</td><td>217250</td></tr>",
                            "<tr><td>18241</td><td>319050</td></tr>",
                            "<tr><td>18244</td><td>678420</td></tr>",
                            "<tr><td>18245</td><td>213260</td></tr>",
                            "<tr><td>18249</td><td>208550</td></tr>",
                            "<tr><td>18264</td><td>460250</td></tr>",
                            "<tr><td>18274</td><td>238520</td></tr>",
                            "<tr><td>18275</td><td>291290</td></tr>",
                            "<tr><td>18292</td><td>251590</td></tr>",
                            "<tr><td>18294</td><td>330980</td></tr>",
                            "<tr><td>18306</td><td>438030</td></tr>",
                            "<tr><td>18307</td><td>310260</td></tr>",
                            "<tr><td>18310</td><td>227150</td></tr>",
                            "<tr><td>18312</td><td>393470</td></tr>",
                            "<tr><td>18319</td><td>652230</td></tr>",
                            "<tr><td>18326</td><td>461320</td></tr>",
                            "<tr><td>18338</td><td>363950</td></tr>",
                            "<tr><td>18348</td><td>426970</td></tr>",
                            "<tr><td>18355</td><td>392000</td></tr>",
                            "<tr><td>18363</td><td>215110</td></tr>",
                            "<tr><td>18366</td><td>366670</td></tr>",
                            "<tr><td>18378</td><td>235530</td></tr>",
                            "<tr><td>18397</td><td>236230</td></tr>",
                            "<tr><td>18398</td><td>418310</td></tr>",
                            "<tr><td>18413</td><td>603110</td></tr>",
                            "<tr><td>18417</td><td>403150</td></tr>",
                            "<tr><td>18418</td><td>262380</td></tr>",
                            "<tr><td>18427</td><td>394690</td></tr>",
                            "<tr><td>18428</td><td>211650</td></tr>",
                            "<tr><td>18431</td><td>273500</td></tr>",
                            "<tr><td>18437</td><td>206340</td></tr>",
                            "<tr><td>18440</td><td>505400</td></tr>",
                            "<tr><td>18461</td><td>271330</td></tr>",
                            "<tr><td>18469</td><td>264570</td></tr>",
                            "<tr><td>18471</td><td>258700</td></tr>",
                            "<tr><td>18473</td><td>231290</td></tr>",
                            "<tr><td>18474</td><td>1330590</td></tr>",
                            "<tr><td>18478</td><td>284430</td></tr>",
                            "<tr><td>18487</td><td>928370</td></tr>",
                            "<tr><td>18491</td><td>231460</td></tr>",
                            "<tr><td>18498</td><td>339240</td></tr>",
                            "<tr><td>18514</td><td>240180</td></tr>",
                            "<tr><td>18519</td><td>211580</td></tr>",
                            "<tr><td>18521</td><td>220320</td></tr>",
                            "<tr><td>18522</td><td>224490</td></tr>",
                            "<tr><td>18523</td><td>247000</td></tr>",
                            "<tr><td>18540</td><td>1567910</td></tr>",
                            "<tr><td>18542</td><td>1803540</td></tr>",
                            "<tr><td>18582</td><td>2095850</td></tr>",
                            "<tr><td>18596</td><td>255140</td></tr>",
                            "<tr><td>18600</td><td>359410</td></tr>",
                            "<tr><td>18601</td><td>409200</td></tr>",
                            "<tr><td>18608</td><td>268620</td></tr>",
                            "<tr><td>18611</td><td>232380</td></tr>",
                            "<tr><td>18615</td><td>263620</td></tr>",
                            "<tr><td>18619</td><td>232200</td></tr>",
                            "<tr><td>18629</td><td>330770</td></tr>",
                            "<tr><td>18631</td><td>280450</td></tr>",
                            "<tr><td>18638</td><td>303560</td></tr>",
                            "<tr><td>18639</td><td>1016430</td></tr>",
                            "<tr><td>18645</td><td>456790</td></tr>",
                            "<tr><td>18648</td><td>735880</td></tr>",
                            "<tr><td>18649</td><td>1293250</td></tr>",
                            "<tr><td>18651</td><td>340390</td></tr>",
                            "<tr><td>18666</td><td>892200</td></tr>",
                            "<tr><td>18674</td><td>382710</td></tr>",
                            "<tr><td>18677</td><td>447350</td></tr>",
                            "<tr><td>18688</td><td>378000</td></tr>",
                            "<tr><td>18700</td><td>474070</td></tr>",
                            "<tr><td>18706</td><td>347270</td></tr>",
                            "<tr><td>18707</td><td>1038580</td></tr>",
                            "<tr><td>18719</td><td>259430</td></tr>",
                            "<tr><td>18723</td><td>276660</td></tr>",
                            "<tr><td>18728</td><td>401630</td></tr>",
                            "<tr><td>18729</td><td>353380</td></tr>",
                            "<tr><td>18735</td><td>256470</td></tr>",
                            "<tr><td>18758</td><td>269410</td></tr>",
                            "<tr><td>18759</td><td>469780</td></tr>",
                            "<tr><td>18777</td><td>215950</td></tr>",
                            "<tr><td>18788</td><td>266750</td></tr>",
                            "<tr><td>18812</td><td>334890</td></tr>",
                            "<tr><td>18817</td><td>264700</td></tr>",
                            "<tr><td>18834</td><td>346450</td></tr>",
                            "<tr><td>18842</td><td>302770</td></tr>",
                            "<tr><td>18867</td><td>243160</td></tr>",
                            "<tr><td>18885</td><td>225020</td></tr>",
                            "<tr><td>18893</td><td>2061070</td></tr>",
                            "<tr><td>18899</td><td>335170</td></tr>",
                            "<tr><td>18900</td><td>289120</td></tr>",
                            "<tr><td>18919</td><td>903980</td></tr>",
                            "<tr><td>18929</td><td>215780</td></tr>",
                            "<tr><td>18938</td><td>300120</td></tr>",
                            "<tr><td>18950</td><td>286910</td></tr>",
                            "<tr><td>18960</td><td>396670</td></tr>",
                            "<tr><td>18964</td><td>592660</td></tr>",
                            "<tr><td>18968</td><td>265365</td></tr>",
                            "<tr><td>18993</td><td>501940</td></tr>",
                            "<tr><td>19005</td><td>261850</td></tr>",
                            "<tr><td>19039</td><td>1572630</td></tr>",
                            "<tr><td>19057</td><td>541200</td></tr>",
                            "<tr><td>19076</td><td>285990</td></tr>",
                            "<tr><td>19082</td><td>500250</td></tr>",
                            "<tr><td>19087</td><td>327040</td></tr>",
                            "<tr><td>19094</td><td>224670</td></tr>",
                            "<tr><td>19109</td><td>528870</td></tr>",
                            "<tr><td>19117</td><td>1337240</td></tr>",
                            "<tr><td>19122</td><td>411890</td></tr>",
                            "<tr><td>19126</td><td>269180</td></tr>",
                            "<tr><td>19135</td><td>542460</td></tr>",
                            "<tr><td>19143</td><td>214200</td></tr>",
                            "<tr><td>19151</td><td>206930</td></tr>",
                            "<tr><td>19156</td><td>207600</td></tr>",
                            "<tr><td>19162</td><td>494960</td></tr>",
                            "<tr><td>19163</td><td>565840</td></tr>",
                            "<tr><td>19182</td><td>471150</td></tr>",
                            "<tr><td>19193</td><td>301990</td></tr>",
                            "<tr><td>19204</td><td>386470</td></tr>",
                            "<tr><td>19215</td><td>291130</td></tr>",
                            "<tr><td>19216</td><td>280910</td></tr>",
                            "<tr><td>19222</td><td>546690</td></tr>",
                            "<tr><td>19229</td><td>561080</td></tr>",
                            "<tr><td>19244</td><td>896370</td></tr>",
                            "<tr><td>19250</td><td>240760</td></tr>",
                            "<tr><td>19256</td><td>659510</td></tr>",
                            "<tr><td>19265</td><td>268730</td></tr>",
                            "<tr><td>19281</td><td>419850</td></tr>",
                            "<tr><td>19282</td><td>293750</td></tr>",
                            "<tr><td>19284</td><td>470080</td></tr>",
                            "<tr><td>19286</td><td>252940</td></tr>",
                            "<tr><td>19291</td><td>282560</td></tr>",
                            "<tr><td>19303</td><td>224880</td></tr>",
                            "<tr><td>19307</td><td>607380</td></tr>",
                            "<tr><td>19311</td><td>238830</td></tr>",
                            "<tr><td>19318</td><td>399510</td></tr>",
                            "<tr><td>19344</td><td>643130</td></tr>",
                            "<tr><td>19363</td><td>207280</td></tr>",
                            "<tr><td>19369</td><td>286130</td></tr>",
                            "<tr><td>19372</td><td>1996810</td></tr>",
                            "<tr><td>19392</td><td>457930</td></tr>",
                            "<tr><td>19408</td><td>391090</td></tr>",
                            "<tr><td>19433</td><td>312810</td></tr>",
                            "<tr><td>19448</td><td>230810</td></tr>",
                            "<tr><td>19458</td><td>244500</td></tr>",
                            "<tr><td>19467</td><td>368800</td></tr>",
                            "<tr><td>19471</td><td>422080</td></tr>",
                            "<tr><td>19475</td><td>509620</td></tr>",
                            "<tr><td>19476</td><td>353170</td></tr>",
                            "<tr><td>19479</td><td>394430</td></tr>",
                            "<tr><td>19490</td><td>469810</td></tr>",
                            "<tr><td>19494</td><td>676450</td></tr>",
                            "<tr><td>19498</td><td>442270</td></tr>",
                            "<tr><td>19500</td><td>455760</td></tr>",
                            "<tr><td>19508</td><td>295470</td></tr>",
                            "<tr><td>19517</td><td>1020420</td></tr>",
                            "<tr><td>19519</td><td>251880</td></tr>",
                            "<tr><td>19526</td><td>1165740</td></tr>",
                            "<tr><td>19531</td><td>502790</td></tr>",
                            "<tr><td>19532</td><td>259290</td></tr>",
                            "<tr><td>19534</td><td>1327830</td></tr>",
                            "<tr><td>19552</td><td>463630</td></tr>",
                            "<tr><td>19557</td><td>426630</td></tr>",
                            "<tr><td>19567</td><td>257550</td></tr>",
                            "<tr><td>19570</td><td>755270</td></tr>",
                            "<tr><td>19591</td><td>1565020</td></tr>",
                            "<tr><td>19612</td><td>481130</td></tr>",
                            "<tr><td>19615</td><td>380230</td></tr>",
                            "<tr><td>19617</td><td>236380</td></tr>",
                            "<tr><td>19623</td><td>237870</td></tr>",
                            "<tr><td>19624</td><td>256270</td></tr>",
                            "<tr><td>19641</td><td>461020</td></tr>",
                            "<tr><td>19666</td><td>1219480</td></tr>",
                            "<tr><td>19685</td><td>524170</td></tr>",
                            "<tr><td>19692</td><td>208110</td></tr>",
                            "<tr><td>19697</td><td>596760</td></tr>",
                            "<tr><td>19714</td><td>326510</td></tr>",
                            "<tr><td>19727</td><td>217240</td></tr>",
                            "<tr><td>19732</td><td>636490</td></tr>",
                            "<tr><td>19741</td><td>438320</td></tr>",
                            "<tr><td>19744</td><td>223560</td></tr>",
                            "<tr><td>19763</td><td>227460</td></tr>",
                            "<tr><td>19776</td><td>867440</td></tr>",
                            "<tr><td>19777</td><td>355710</td></tr>",
                            "<tr><td>19779</td><td>693450</td></tr>",
                            "<tr><td>19788</td><td>553840</td></tr>",
                            "<tr><td>19801</td><td>208400</td></tr>",
                            "<tr><td>19803</td><td>227340</td></tr>",
                            "<tr><td>19823</td><td>457060</td></tr>",
                            "<tr><td>19829</td><td>268090</td></tr>",
                            "<tr><td>19832</td><td>272800</td></tr>",
                            "<tr><td>19834</td><td>479900</td></tr>",
                            "<tr><td>19849</td><td>1795780</td></tr>",
                            "<tr><td>19850</td><td>352650</td></tr>",
                            "<tr><td>19861</td><td>415810</td></tr>",
                            "<tr><td>19869</td><td>217030</td></tr>",
                            "<tr><td>19879</td><td>253770</td></tr>",
                            "<tr><td>19883</td><td>248000</td></tr>",
                            "<tr><td>19885</td><td>238360</td></tr>",
                            "<tr><td>19887</td><td>287100</td></tr>",
                            "<tr><td>19895</td><td>257080</td></tr>",
                            "<tr><td>19904</td><td>249580</td></tr>",
                            "<tr><td>19926</td><td>206320</td></tr>",
                            "<tr><td>19927</td><td>870660</td></tr>",
                            "<tr><td>19928</td><td>539580</td></tr>",
                            "<tr><td>19940</td><td>276320</td></tr>",
                            "<tr><td>19953</td><td>529290</td></tr>",
                            "<tr><td>19956</td><td>621600</td></tr>",
                            "<tr><td>19957</td><td>407380</td></tr>",
                            "<tr><td>19968</td><td>342560</td></tr>",
                            "<tr><td>19969</td><td>337960</td></tr>",
                            "<tr><td>19973</td><td>240440</td></tr>",
                            "<tr><td>19975</td><td>234720</td></tr>",
                            "<tr><td>19985</td><td>360730</td></tr>",
                            "<tr><td>20024</td><td>903480</td></tr>",
                            "<tr><td>20026</td><td>395640</td></tr>",
                            "<tr><td>20028</td><td>233350</td></tr>",
                            "<tr><td>20034</td><td>536930</td></tr>",
                            "<tr><td>20042</td><td>379230</td></tr>",
                            "<tr><td>20052</td><td>507230</td></tr>",
                            "<tr><td>20063</td><td>1579930</td></tr>",
                            "<tr><td>20088</td><td>211700</td></tr>",
                            "<tr><td>20099</td><td>215610</td></tr>",
                            "<tr><td>20109</td><td>455290</td></tr>",
                            "<tr><td>20112</td><td>431610</td></tr>",
                            "<tr><td>20119</td><td>268280</td></tr>",
                            "<tr><td>20130</td><td>263480</td></tr>",
                            "<tr><td>20131</td><td>393780</td></tr>",
                            "<tr><td>20133</td><td>341620</td></tr>",
                            "<tr><td>20152</td><td>280420</td></tr>",
                            "<tr><td>20161</td><td>246890</td></tr>",
                            "<tr><td>20162</td><td>318300</td></tr>",
                            "<tr><td>20167</td><td>464490</td></tr>",
                            "<tr><td>20174</td><td>315350</td></tr>",
                            "<tr><td>20186</td><td>211900</td></tr>",
                            "<tr><td>20187</td><td>240490</td></tr>",
                            "<tr><td>20205</td><td>413760</td></tr>",
                            "<tr><td>20213</td><td>215840</td></tr>",
                            "<tr><td>20218</td><td>374850</td></tr>",
                            "<tr><td>20226</td><td>273130</td></tr>",
                            "<tr><td>20234</td><td>303580</td></tr>",
                            "<tr><td>20246</td><td>224050</td></tr>",
                            "<tr><td>20247</td><td>446030</td></tr>",
                            "<tr><td>20257</td><td>289430</td></tr>",
                            "<tr><td>20260</td><td>373440</td></tr>",
                            "<tr><td>20264</td><td>230000</td></tr>",
                            "<tr><td>20265</td><td>495070</td></tr>",
                            "<tr><td>20271</td><td>330260</td></tr>",
                            "<tr><td>20273</td><td>212850</td></tr>",
                            "<tr><td>20284</td><td>303180</td></tr>",
                            "<tr><td>20304</td><td>381820</td></tr>",
                            "<tr><td>20308</td><td>354230</td></tr>",
                            "<tr><td>20309</td><td>463200</td></tr>",
                            "<tr><td>20310</td><td>301640</td></tr>",
                            "<tr><td>20313</td><td>326350</td></tr>",
                            "<tr><td>20324</td><td>245160</td></tr>",
                            "<tr><td>20330</td><td>493960</td></tr>",
                            "<tr><td>20336</td><td>550490</td></tr>",
                            "<tr><td>20343</td><td>665340</td></tr>",
                            "<tr><td>20373</td><td>248250</td></tr>",
                            "<tr><td>20377</td><td>485900</td></tr>",
                            "<tr><td>20390</td><td>254870</td></tr>",
                            "<tr><td>20397</td><td>505220</td></tr>",
                            "<tr><td>20399</td><td>359680</td></tr>",
                            "<tr><td>20406</td><td>204980</td></tr>",
                            "<tr><td>20421</td><td>507650</td></tr>",
                            "<tr><td>20433</td><td>235000</td></tr>",
                            "<tr><td>20434</td><td>741910</td></tr>",
                            "<tr><td>20461</td><td>476240</td></tr>",
                            "<tr><td>20474</td><td>317000</td></tr>",
                            "<tr><td>20479</td><td>241110</td></tr>",
                            "<tr><td>20487</td><td>354570</td></tr>",
                            "<tr><td>20488</td><td>444390</td></tr>",
                            "<tr><td>20491</td><td>1181140</td></tr>",
                            "<tr><td>20501</td><td>360300</td></tr>",
                            "<tr><td>20504</td><td>543880</td></tr>",
                            "<tr><td>20516</td><td>464600</td></tr>",
                            "<tr><td>20518</td><td>477160</td></tr>",
                            "<tr><td>20531</td><td>287470</td></tr>",
                            "<tr><td>20532</td><td>242770</td></tr>",
                            "<tr><td>20537</td><td>335520</td></tr>",
                            "<tr><td>20542</td><td>306100</td></tr>",
                            "<tr><td>20543</td><td>455120</td></tr>",
                            "<tr><td>20547</td><td>454640</td></tr>",
                            "<tr><td>20553</td><td>301340</td></tr>",
                            "<tr><td>20555</td><td>365080</td></tr>",
                            "<tr><td>20557</td><td>303740</td></tr>",
                            "<tr><td>20560</td><td>235370</td></tr>",
                            "<tr><td>20589</td><td>250250</td></tr>",
                            "<tr><td>20596</td><td>207130</td></tr>",
                            "<tr><td>20599</td><td>256290</td></tr>",
                            "<tr><td>20609</td><td>224250</td></tr>",
                            "<tr><td>20613</td><td>442560</td></tr>",
                            "<tr><td>20614</td><td>432650</td></tr>",
                            "<tr><td>20626</td><td>302300</td></tr>",
                            "<tr><td>20639</td><td>335230</td></tr>",
                            "<tr><td>20650</td><td>879610</td></tr>",
                            "<tr><td>20655</td><td>567430</td></tr>",
                            "<tr><td>20671</td><td>446550</td></tr>",
                            "<tr><td>20675</td><td>483420</td></tr>",
                            "<tr><td>20689</td><td>293500</td></tr>",
                            "<tr><td>20696</td><td>277710</td></tr>",
                            "<tr><td>20697</td><td>216140</td></tr>",
                            "<tr><td>20700</td><td>336150</td></tr>",
                            "<tr><td>20705</td><td>230690</td></tr>",
                            "<tr><td>20718</td><td>316880</td></tr>",
                            "<tr><td>20722</td><td>246430</td></tr>",
                            "<tr><td>20723</td><td>316740</td></tr>",
                            "<tr><td>20726</td><td>320270</td></tr>",
                            "<tr><td>20733</td><td>212280</td></tr>",
                            "<tr><td>20734</td><td>440030</td></tr>",
                            "<tr><td>20740</td><td>246960</td></tr>",
                            "<tr><td>20765</td><td>623510</td></tr>",
                            "<tr><td>20766</td><td>245250</td></tr>",
                            "<tr><td>20778</td><td>307690</td></tr>",
                            "<tr><td>20779</td><td>339010</td></tr>",
                            "<tr><td>20788</td><td>337200</td></tr>",
                            "<tr><td>20798</td><td>237370</td></tr>",
                            "<tr><td>20805</td><td>455990</td></tr>",
                            "<tr><td>20809</td><td>441920</td></tr>",
                            "<tr><td>20821</td><td>396600</td></tr>",
                            "<tr><td>20822</td><td>366490</td></tr>",
                            "<tr><td>20825</td><td>317950</td></tr>",
                            "<tr><td>20834</td><td>227610</td></tr>",
                            "<tr><td>20837</td><td>381000</td></tr>",
                            "<tr><td>20842</td><td>406970</td></tr>",
                            "<tr><td>20856</td><td>508540</td></tr>",
                            "<tr><td>20860</td><td>433470</td></tr>",
                            "<tr><td>20861</td><td>276210</td></tr>",
                            "<tr><td>20865</td><td>1142200</td></tr>",
                            "<tr><td>20871</td><td>268080</td></tr>",
                            "<tr><td>20874</td><td>332490</td></tr>",
                            "<tr><td>20876</td><td>408070</td></tr>",
                            "<tr><td>20880</td><td>1318030</td></tr>",
                            "<tr><td>20883</td><td>264530</td></tr>",
                            "<tr><td>20884</td><td>339560</td></tr>",
                            "<tr><td>20887</td><td>434270</td></tr>",
                            "<tr><td>20892</td><td>234030</td></tr>",
                            "<tr><td>20910</td><td>280180</td></tr>",
                            "<tr><td>20913</td><td>233080</td></tr>",
                            "<tr><td>20923</td><td>235480</td></tr>",
                            "<tr><td>20943</td><td>389720</td></tr>",
                            "<tr><td>20945</td><td>271140</td></tr>",
                            "<tr><td>20947</td><td>238760</td></tr>",
                            "<tr><td>20952</td><td>545150</td></tr>",
                            "<tr><td>20955</td><td>345970</td></tr>",
                            "<tr><td>20972</td><td>277700</td></tr>",
                            "<tr><td>20977</td><td>500500</td></tr>",
                            "<tr><td>20994</td><td>523590</td></tr>",
                            "<tr><td>20997</td><td>306290</td></tr>",
                            "<tr><td>21014</td><td>468150</td></tr>",
                            "<tr><td>21035</td><td>222220</td></tr>",
                            "<tr><td>21038</td><td>231400</td></tr>",
                            "<tr><td>21044</td><td>581110</td></tr>",
                            "<tr><td>21046</td><td>293940</td></tr>",
                            "<tr><td>21051</td><td>561840</td></tr>",
                            "<tr><td>21055</td><td>367890</td></tr>",
                            "<tr><td>21058</td><td>390750</td></tr>",
                            "<tr><td>21080</td><td>320110</td></tr>",
                            "<tr><td>21086</td><td>370400</td></tr>",
                            "<tr><td>21089</td><td>314070</td></tr>",
                            "<tr><td>21110</td><td>301570</td></tr>",
                            "<tr><td>21117</td><td>487320</td></tr>",
                            "<tr><td>21132</td><td>228780</td></tr>",
                            "<tr><td>21147</td><td>371340</td></tr>",
                            "<tr><td>21157</td><td>208480</td></tr>",
                            "<tr><td>21158</td><td>448620</td></tr>",
                            "<tr><td>21166</td><td>221740</td></tr>",
                            "<tr><td>21176</td><td>359300</td></tr>",
                            "<tr><td>21179</td><td>241620</td></tr>",
                            "<tr><td>21182</td><td>270210</td></tr>",
                            "<tr><td>21194</td><td>254080</td></tr>",
                            "<tr><td>21195</td><td>210100</td></tr>",
                            "<tr><td>21200</td><td>697080</td></tr>",
                            "<tr><td>21204</td><td>318140</td></tr>",
                            "<tr><td>21234</td><td>227150</td></tr>",
                            "<tr><td>21258</td><td>214280</td></tr>",
                            "<tr><td>21265</td><td>222860</td></tr>",
                            "<tr><td>21280</td><td>451130</td></tr>",
                            "<tr><td>21291</td><td>325820</td></tr>",
                            "<tr><td>21294</td><td>280090</td></tr>",
                            "<tr><td>21296</td><td>342100</td></tr>",
                            "<tr><td>21316</td><td>747600</td></tr>",
                            "<tr><td>21319</td><td>302480</td></tr>",
                            "<tr><td>21320</td><td>226590</td></tr>",
                            "<tr><td>21335</td><td>446480</td></tr>",
                            "<tr><td>21343</td><td>601460</td></tr>",
                            "<tr><td>21359</td><td>246910</td></tr>",
                            "<tr><td>21360</td><td>365270</td></tr>",
                            "<tr><td>21384</td><td>330720</td></tr>",
                            "<tr><td>21406</td><td>251170</td></tr>",
                            "<tr><td>21407</td><td>292540</td></tr>",
                            "<tr><td>21433</td><td>324040</td></tr>",
                            "<tr><td>21443</td><td>629010</td></tr>",
                            "<tr><td>21452</td><td>1022730</td></tr>",
                            "<tr><td>21453</td><td>364350</td></tr>",
                            "<tr><td>21470</td><td>206820</td></tr>",
                            "<tr><td>21482</td><td>448370</td></tr>",
                            "<tr><td>21485</td><td>649210</td></tr>",
                            "<tr><td>21497</td><td>218520</td></tr>",
                            "<tr><td>21499</td><td>380580</td></tr>",
                            "<tr><td>21513</td><td>291380</td></tr>",
                            "<tr><td>21518</td><td>311490</td></tr>",
                            "<tr><td>21531</td><td>452340</td></tr>",
                            "<tr><td>21543</td><td>462850</td></tr>",
                            "<tr><td>21550</td><td>452950</td></tr>",
                            "<tr><td>21551</td><td>512570</td></tr>",
                            "<tr><td>21552</td><td>270690</td></tr>",
                            "<tr><td>21553</td><td>373520</td></tr>",
                            "<tr><td>21557</td><td>230490</td></tr>",
                            "<tr><td>21563</td><td>233080</td></tr>",
                            "<tr><td>21566</td><td>467420</td></tr>",
                            "<tr><td>21568</td><td>286710</td></tr>",
                            "<tr><td>21575</td><td>418100</td></tr>",
                            "<tr><td>21577</td><td>481670</td></tr>",
                            "<tr><td>21595</td><td>226790</td></tr>",
                            "<tr><td>21596</td><td>290120</td></tr>",
                            "<tr><td>21597</td><td>598920</td></tr>",
                            "<tr><td>21603</td><td>358570</td></tr>",
                            "<tr><td>21606</td><td>318380</td></tr>",
                            "<tr><td>21621</td><td>323190</td></tr>",
                            "<tr><td>21646</td><td>473330</td></tr>",
                            "<tr><td>21647</td><td>903470</td></tr>",
                            "<tr><td>21648</td><td>667670</td></tr>",
                            "<tr><td>21652</td><td>539090</td></tr>",
                            "<tr><td>21659</td><td>369960</td></tr>",
                            "<tr><td>21667</td><td>296640</td></tr>",
                            "<tr><td>21678</td><td>246190</td></tr>",
                            "<tr><td>21679</td><td>217860</td></tr>",
                            "<tr><td>21680</td><td>378170</td></tr>",
                            "<tr><td>21698</td><td>652910</td></tr>",
                            "<tr><td>21699</td><td>231630</td></tr>",
                            "<tr><td>21701</td><td>442320</td></tr>",
                            "<tr><td>21702</td><td>728510</td></tr>",
                            "<tr><td>21720</td><td>628860</td></tr>",
                            "<tr><td>21722</td><td>269420</td></tr>",
                            "<tr><td>21727</td><td>214480</td></tr>",
                            "<tr><td>21736</td><td>313860</td></tr>",
                            "<tr><td>21751</td><td>478610</td></tr>",
                            "<tr><td>21752</td><td>578220</td></tr>",
                            "<tr><td>21754</td><td>412430</td></tr>",
                            "<tr><td>21766</td><td>284160</td></tr>",
                            "<tr><td>21784</td><td>220530</td></tr>",
                            "<tr><td>21787</td><td>247290</td></tr>",
                            "<tr><td>21794</td><td>462320</td></tr>",
                            "<tr><td>21807</td><td>1447330</td></tr>",
                            "<tr><td>21815</td><td>1340090</td></tr>",
                            "<tr><td>21825</td><td>318450</td></tr>",
                            "<tr><td>21836</td><td>503430</td></tr>",
                            "<tr><td>21846</td><td>212560</td></tr>",
                            "<tr><td>21860</td><td>360080</td></tr>",
                            "<tr><td>21865</td><td>286060</td></tr>",
                            "<tr><td>21876</td><td>408860</td></tr>",
                            "<tr><td>21883</td><td>219870</td></tr>",
                            "<tr><td>21886</td><td>488460</td></tr>",
                            "<tr><td>21889</td><td>533230</td></tr>",
                            "<tr><td>21899</td><td>1110440</td></tr>",
                            "<tr><td>21901</td><td>262610</td></tr>",
                            "<tr><td>21907</td><td>413820</td></tr>",
                            "<tr><td>21919</td><td>266660</td></tr>",
                            "<tr><td>21921</td><td>340710</td></tr>",
                            "<tr><td>21923</td><td>240590</td></tr>",
                            "<tr><td>21937</td><td>207150</td></tr>",
                            "<tr><td>21942</td><td>486440</td></tr>",
                            "<tr><td>21949</td><td>252700</td></tr>",
                            "<tr><td>21951</td><td>360980</td></tr>",
                            "<tr><td>21973</td><td>337190</td></tr>",
                            "<tr><td>21975</td><td>314720</td></tr>",
                            "<tr><td>21995</td><td>223730</td></tr>",
                            "<tr><td>22017</td><td>260040</td></tr>",
                            "<tr><td>22018</td><td>327030</td></tr>",
                            "<tr><td>22040</td><td>333380</td></tr>",
                            "<tr><td>22042</td><td>228510</td></tr>",
                            "<tr><td>22063</td><td>222540</td></tr>",
                            "<tr><td>22110</td><td>217550</td></tr>",
                            "<tr><td>22124</td><td>497800</td></tr>",
                            "<tr><td>22131</td><td>1129640</td></tr>",
                            "<tr><td>22135</td><td>304350</td></tr>",
                            "<tr><td>22165</td><td>303550</td></tr>",
                            "<tr><td>22166</td><td>410710</td></tr>",
                            "<tr><td>22168</td><td>338500</td></tr>",
                            "<tr><td>22175</td><td>244860</td></tr>",
                            "<tr><td>22186</td><td>378300</td></tr>",
                            "<tr><td>22190</td><td>453830</td></tr>",
                            "<tr><td>22198</td><td>290490</td></tr>",
                            "<tr><td>22199</td><td>233090</td></tr>",
                            "<tr><td>22212</td><td>366960</td></tr>",
                            "<tr><td>22215</td><td>435300</td></tr>",
                            "<tr><td>22219</td><td>222810</td></tr>",
                            "<tr><td>22247</td><td>355410</td></tr>",
                            "<tr><td>22255</td><td>351360</td></tr>",
                            "<tr><td>22268</td><td>541720</td></tr>",
                            "<tr><td>22274</td><td>221770</td></tr>",
                            "<tr><td>22275</td><td>324090</td></tr>",
                            "<tr><td>22292</td><td>457480</td></tr>",
                            "<tr><td>22293</td><td>429190</td></tr>",
                            "<tr><td>22296</td><td>229640</td></tr>",
                            "<tr><td>22297</td><td>335590</td></tr>",
                            "<tr><td>22306</td><td>333590</td></tr>",
                            "<tr><td>22328</td><td>230960</td></tr>",
                            "<tr><td>22330</td><td>717740</td></tr>",
                            "<tr><td>22332</td><td>299720</td></tr>",
                            "<tr><td>22340</td><td>517250</td></tr>",
                            "<tr><td>22367</td><td>300630</td></tr>",
                            "<tr><td>22386</td><td>205040</td></tr>",
                            "<tr><td>22396</td><td>313200</td></tr>",
                            "<tr><td>22427</td><td>301740</td></tr>",
                            "<tr><td>22429</td><td>275890</td></tr>",
                            "<tr><td>22439</td><td>404380</td></tr>",
                            "<tr><td>22457</td><td>260190</td></tr>",
                            "<tr><td>22459</td><td>240500</td></tr>",
                            "<tr><td>22466</td><td>297570</td></tr>",
                            "<tr><td>22471</td><td>341020</td></tr>",
                            "<tr><td>22473</td><td>228510</td></tr>",
                            "<tr><td>22482</td><td>399450</td></tr>",
                            "<tr><td>22485</td><td>283080</td></tr>",
                            "<tr><td>22516</td><td>269110</td></tr>",
                            "<tr><td>22527</td><td>250150</td></tr>",
                            "<tr><td>22530</td><td>331030</td></tr>",
                            "<tr><td>22532</td><td>530210</td></tr>",
                            "<tr><td>22546</td><td>546140</td></tr>",
                            "<tr><td>22548</td><td>229820</td></tr>",
                            "<tr><td>22562</td><td>478830</td></tr>",
                            "<tr><td>22566</td><td>207980</td></tr>",
                            "<tr><td>22569</td><td>525010</td></tr>",
                            "<tr><td>22570</td><td>1816200</td></tr>",
                            "<tr><td>22588</td><td>223450</td></tr>",
                            "<tr><td>22590</td><td>701450</td></tr>",
                            "<tr><td>22596</td><td>215890</td></tr>",
                            "<tr><td>22616</td><td>394200</td></tr>",
                            "<tr><td>22618</td><td>454010</td></tr>",
                            "<tr><td>22621</td><td>369210</td></tr>",
                            "<tr><td>22642</td><td>219800</td></tr>",
                            "<tr><td>22645</td><td>319070</td></tr>",
                            "<tr><td>22650</td><td>500530</td></tr>",
                            "<tr><td>22651</td><td>246870</td></tr>",
                            "<tr><td>22654</td><td>371670</td></tr>",
                            "<tr><td>22660</td><td>387170</td></tr>",
                            "<tr><td>22667</td><td>248450</td></tr>",
                            "<tr><td>22693</td><td>205240</td></tr>",
                            "<tr><td>22696</td><td>587880</td></tr>",
                            "<tr><td>22698</td><td>427270</td></tr>",
                            "<tr><td>22708</td><td>252400</td></tr>",
                            "<tr><td>22710</td><td>292400</td></tr>",
                            "<tr><td>22716</td><td>486680</td></tr>",
                            "<tr><td>22722</td><td>265270</td></tr>",
                            "<tr><td>22726</td><td>253110</td></tr>",
                            "<tr><td>22732</td><td>215720</td></tr>",
                            "<tr><td>22733</td><td>209080</td></tr>",
                            "<tr><td>22734</td><td>892930</td></tr>",
                            "<tr><td>22739</td><td>341120</td></tr>",
                            "<tr><td>22754</td><td>232460</td></tr>",
                            "<tr><td>22755</td><td>334650</td></tr>",
                            "<tr><td>22785</td><td>351250</td></tr>",
                            "<tr><td>22787</td><td>558070</td></tr>",
                            "<tr><td>22791</td><td>495660</td></tr>",
                            "<tr><td>22793</td><td>488700</td></tr>",
                            "<tr><td>22800</td><td>540030</td></tr>",
                            "<tr><td>22801</td><td>302600</td></tr>",
                            "<tr><td>22803</td><td>253640</td></tr>",
                            "<tr><td>22821</td><td>362040</td></tr>",
                            "<tr><td>22842</td><td>1038800</td></tr>",
                            "<tr><td>22843</td><td>245640</td></tr>",
                            "<tr><td>22850</td><td>231150</td></tr>",
                            "<tr><td>22851</td><td>503150</td></tr>",
                            "<tr><td>22853</td><td>312600</td></tr>",
                            "<tr><td>22859</td><td>292180</td></tr>",
                            "<tr><td>22860</td><td>302820</td></tr>",
                            "<tr><td>22868</td><td>376230</td></tr>",
                            "<tr><td>22878</td><td>1023640</td></tr>",
                            "<tr><td>22879</td><td>580330</td></tr>",
                            "<tr><td>22901</td><td>220570</td></tr>",
                            "<tr><td>22903</td><td>268230</td></tr>",
                            "<tr><td>22911</td><td>265960</td></tr>",
                            "<tr><td>22919</td><td>329270</td></tr>",
                            "<tr><td>22926</td><td>455980</td></tr>",
                            "<tr><td>22933</td><td>340940</td></tr>",
                            "<tr><td>22937</td><td>238630</td></tr>",
                            "<tr><td>22943</td><td>333550</td></tr>",
                            "<tr><td>22958</td><td>899130</td></tr>",
                            "<tr><td>22962</td><td>371400</td></tr>",
                            "<tr><td>22964</td><td>304520</td></tr>",
                            "<tr><td>22971</td><td>276510</td></tr>",
                            "<tr><td>22981</td><td>882230</td></tr>",
                            "<tr><td>22987</td><td>359820</td></tr>",
                            "<tr><td>22994</td><td>628890</td></tr>",
                            "<tr><td>22996</td><td>220740</td></tr>",
                            "<tr><td>23007</td><td>485030</td></tr>",
                            "<tr><td>23013</td><td>393170</td></tr>",
                            "<tr><td>23017</td><td>419190</td></tr>",
                            "<tr><td>23021</td><td>222910</td></tr>",
                            "<tr><td>23025</td><td>307870</td></tr>",
                            "<tr><td>23028</td><td>222290</td></tr>",
                            "<tr><td>23039</td><td>719800</td></tr>",
                            "<tr><td>23050</td><td>297090</td></tr>",
                            "<tr><td>23055</td><td>1574510</td></tr>",
                            "<tr><td>23074</td><td>736610</td></tr>",
                            "<tr><td>23086</td><td>205540</td></tr>",
                            "<tr><td>23103</td><td>273860</td></tr>",
                            "<tr><td>23125</td><td>444550</td></tr>",
                            "<tr><td>23127</td><td>335190</td></tr>",
                            "<tr><td>23157</td><td>837170</td></tr>",
                            "<tr><td>23158</td><td>383600</td></tr>",
                            "<tr><td>23166</td><td>345480</td></tr>",
                            "<tr><td>23177</td><td>286250</td></tr>",
                            "<tr><td>23186</td><td>460850</td></tr>",
                            "<tr><td>23189</td><td>485890</td></tr>",
                            "<tr><td>23196</td><td>351300</td></tr>",
                            "<tr><td>23207</td><td>353750</td></tr>",
                            "<tr><td>23213</td><td>477700</td></tr>",
                            "<tr><td>23238</td><td>247900</td></tr>",
                            "<tr><td>23247</td><td>316910</td></tr>",
                            "<tr><td>23253</td><td>270710</td></tr>",
                            "<tr><td>23261</td><td>226620</td></tr>",
                            "<tr><td>23262</td><td>219250</td></tr>",
                            "<tr><td>23264</td><td>459820</td></tr>",
                            "<tr><td>23269</td><td>252240</td></tr>",
                            "<tr><td>23274</td><td>244440</td></tr>",
                            "<tr><td>23275</td><td>372670</td></tr>",
                            "<tr><td>23277</td><td>254490</td></tr>",
                            "<tr><td>23281</td><td>214050</td></tr>",
                            "<tr><td>23289</td><td>242870</td></tr>",
                            "<tr><td>23296</td><td>429770</td></tr>",
                            "<tr><td>23306</td><td>251070</td></tr>",
                            "<tr><td>23319</td><td>402030</td></tr>",
                            "<tr><td>23329</td><td>1216770</td></tr>",
                            "<tr><td>23337</td><td>468200</td></tr>",
                            "<tr><td>23338</td><td>516660</td></tr>",
                            "<tr><td>23358</td><td>246000</td></tr>",
                            "<tr><td>23371</td><td>260140</td></tr>",
                            "<tr><td>23372</td><td>329500</td></tr>",
                            "<tr><td>23378</td><td>424490</td></tr>",
                            "<tr><td>23390</td><td>270070</td></tr>",
                            "<tr><td>23394</td><td>275200</td></tr>",
                            "<tr><td>23396</td><td>220030</td></tr>",
                            "<tr><td>23400</td><td>283500</td></tr>",
                            "<tr><td>23414</td><td>450590</td></tr>",
                            "<tr><td>23416</td><td>579590</td></tr>",
                            "<tr><td>23429</td><td>225810</td></tr>",
                            "<tr><td>23443</td><td>506400</td></tr>",
                            "<tr><td>23445</td><td>390130</td></tr>",
                            "<tr><td>23446</td><td>620390</td></tr>",
                            "<tr><td>23449</td><td>469140</td></tr>",
                            "<tr><td>23458</td><td>207680</td></tr>",
                            "<tr><td>23465</td><td>309990</td></tr>",
                            "<tr><td>23476</td><td>830000</td></tr>",
                            "<tr><td>23481</td><td>281640</td></tr>",
                            "<tr><td>23499</td><td>350510</td></tr>",
                            "<tr><td>23503</td><td>210340</td></tr>",
                            "<tr><td>23510</td><td>321100</td></tr>",
                            "<tr><td>23512</td><td>459310</td></tr>",
                            "<tr><td>23530</td><td>348350</td></tr>",
                            "<tr><td>23532</td><td>227050</td></tr>",
                            "<tr><td>23533</td><td>276020</td></tr>",
                            "<tr><td>23540</td><td>227100</td></tr>",
                            "<tr><td>23553</td><td>362710</td></tr>",
                            "<tr><td>23557</td><td>215680</td></tr>",
                            "<tr><td>23561</td><td>361500</td></tr>",
                            "<tr><td>23566</td><td>213790</td></tr>",
                            "<tr><td>23570</td><td>212070</td></tr>",
                            "<tr><td>23588</td><td>603000</td></tr>",
                            "<tr><td>23589</td><td>223570</td></tr>",
                            "<tr><td>23590</td><td>437070</td></tr>",
                            "<tr><td>23596</td><td>211010</td></tr>",
                            "<tr><td>23598</td><td>529630</td></tr>",
                            "<tr><td>23620</td><td>209770</td></tr>",
                            "<tr><td>23638</td><td>215340</td></tr>",
                            "<tr><td>23643</td><td>348760</td></tr>",
                            "<tr><td>23666</td><td>1552660</td></tr>",
                            "<tr><td>23680</td><td>228760</td></tr>",
                            "<tr><td>23726</td><td>735150</td></tr>",
                            "<tr><td>23728</td><td>282410</td></tr>",
                            "<tr><td>23735</td><td>270060</td></tr>",
                            "<tr><td>23736</td><td>225340</td></tr>",
                            "<tr><td>23764</td><td>335480</td></tr>",
                            "<tr><td>23801</td><td>383600</td></tr>",
                            "<tr><td>23809</td><td>215540</td></tr>",
                            "<tr><td>23815</td><td>486200</td></tr>",
                            "<tr><td>23823</td><td>626870</td></tr>",
                            "<tr><td>23837</td><td>453470</td></tr>",
                            "<tr><td>23838</td><td>289870</td></tr>",
                            "<tr><td>23857</td><td>364710</td></tr>",
                            "<tr><td>23858</td><td>1317260</td></tr>",
                            "<tr><td>23866</td><td>427600</td></tr>",
                            "<tr><td>23868</td><td>249230</td></tr>",
                            "<tr><td>23869</td><td>402770</td></tr>",
                            "<tr><td>23874</td><td>479900</td></tr>",
                            "<tr><td>23884</td><td>248070</td></tr>",
                            "<tr><td>23889</td><td>341940</td></tr>",
                            "<tr><td>23890</td><td>1061240</td></tr>",
                            "<tr><td>23895</td><td>300400</td></tr>",
                            "<tr><td>23903</td><td>1555630</td></tr>",
                            "<tr><td>23904</td><td>278040</td></tr>",
                            "<tr><td>23923</td><td>526470</td></tr>",
                            "<tr><td>23927</td><td>288290</td></tr>",
                            "<tr><td>23931</td><td>339460</td></tr>",
                            "<tr><td>23936</td><td>207970</td></tr>",
                            "<tr><td>23938</td><td>630150</td></tr>",
                            "<tr><td>23939</td><td>244280</td></tr>",
                            "<tr><td>23946</td><td>310140</td></tr>",
                            "<tr><td>23966</td><td>1982740</td></tr>",
                            "<tr><td>23971</td><td>246350</td></tr>",
                            "<tr><td>23987</td><td>432830</td></tr>",
                            "<tr><td>23996</td><td>365600</td></tr>",
                            "<tr><td>24010</td><td>213990</td></tr>",
                            "<tr><td>24020</td><td>301270</td></tr>",
                            "<tr><td>24026</td><td>208450</td></tr>",
                            "<tr><td>24029</td><td>215200</td></tr>",
                            "<tr><td>24031</td><td>434850</td></tr>",
                            "<tr><td>24059</td><td>313220</td></tr>",
                            "<tr><td>24066</td><td>905920</td></tr>",
                            "<tr><td>24071</td><td>503210</td></tr>",
                            "<tr><td>24072</td><td>259650</td></tr>",
                            "<tr><td>24074</td><td>215300</td></tr>",
                            "<tr><td>24076</td><td>474220</td></tr>",
                            "<tr><td>24080</td><td>316370</td></tr>",
                            "<tr><td>24084</td><td>503860</td></tr>",
                            "<tr><td>24092</td><td>329780</td></tr>",
                            "<tr><td>24103</td><td>353450</td></tr>",
                            "<tr><td>24112</td><td>350500</td></tr>",
                            "<tr><td>24127</td><td>564630</td></tr>",
                            "<tr><td>24132</td><td>218970</td></tr>",
                            "<tr><td>24135</td><td>386990</td></tr>",
                            "<tr><td>24141</td><td>496470</td></tr>",
                            "<tr><td>24144</td><td>326410</td></tr>",
                            "<tr><td>24150</td><td>485460</td></tr>",
                            "<tr><td>24155</td><td>255460</td></tr>",
                            "<tr><td>24158</td><td>556200</td></tr>",
                            "<tr><td>24161</td><td>240860</td></tr>",
                            "<tr><td>24174</td><td>272810</td></tr>",
                            "<tr><td>24179</td><td>215830</td></tr>",
                            "<tr><td>24185</td><td>463230</td></tr>",
                            "<tr><td>24196</td><td>427630</td></tr>",
                            "<tr><td>24209</td><td>471120</td></tr>",
                            "<tr><td>24215</td><td>294110</td></tr>",
                            "<tr><td>24237</td><td>367680</td></tr>",
                            "<tr><td>24255</td><td>291950</td></tr>",
                            "<tr><td>24265</td><td>1145660</td></tr>",
                            "<tr><td>24270</td><td>278700</td></tr>",
                            "<tr><td>24272</td><td>206530</td></tr>",
                            "<tr><td>24277</td><td>425320</td></tr>",
                            "<tr><td>24278</td><td>205350</td></tr>",
                            "<tr><td>24279</td><td>233050</td></tr>",
                            "<tr><td>24286</td><td>241500</td></tr>",
                            "<tr><td>24295</td><td>274730</td></tr>",
                            "<tr><td>24297</td><td>631590</td></tr>",
                            "<tr><td>24302</td><td>447990</td></tr>",
                            "<tr><td>24306</td><td>279130</td></tr>",
                            "<tr><td>24314</td><td>322000</td></tr>",
                            "<tr><td>24326</td><td>546570</td></tr>",
                            "<tr><td>24328</td><td>259080</td></tr>",
                            "<tr><td>24332</td><td>507000</td></tr>",
                            "<tr><td>24337</td><td>275830</td></tr>",
                            "<tr><td>24338</td><td>232290</td></tr>",
                            "<tr><td>24339</td><td>323800</td></tr>",
                            "<tr><td>24354</td><td>286980</td></tr>",
                            "<tr><td>24369</td><td>348270</td></tr>",
                            "<tr><td>24389</td><td>405320</td></tr>",
                            "<tr><td>24397</td><td>462690</td></tr>",
                            "<tr><td>24409</td><td>359860</td></tr>",
                            "<tr><td>24443</td><td>294390</td></tr>",
                            "<tr><td>24457</td><td>247820</td></tr>",
                            "<tr><td>24465</td><td>215120</td></tr>",
                            "<tr><td>24473</td><td>324150</td></tr>",
                            "<tr><td>24482</td><td>1298170</td></tr>",
                            "<tr><td>24485</td><td>807580</td></tr>",
                            "<tr><td>24489</td><td>353930</td></tr>",
                            "<tr><td>24492</td><td>280400</td></tr>",
                            "<tr><td>24494</td><td>237830</td></tr>",
                            "<tr><td>24497</td><td>338980</td></tr>",
                            "<tr><td>24546</td><td>488190</td></tr>",
                            "<tr><td>24552</td><td>205570</td></tr>",
                            "<tr><td>24557</td><td>604680</td></tr>",
                            "<tr><td>24560</td><td>1105580</td></tr>",
                            "<tr><td>24567</td><td>265870</td></tr>",
                            "<tr><td>24568</td><td>508910</td></tr>",
                            "<tr><td>24588</td><td>373310</td></tr>",
                            "<tr><td>24589</td><td>777060</td></tr>",
                            "<tr><td>24597</td><td>393220</td></tr>",
                            "<tr><td>24603</td><td>420490</td></tr>",
                            "<tr><td>24618</td><td>215060</td></tr>",
                            "<tr><td>24628</td><td>472330</td></tr>",
                            "<tr><td>24634</td><td>258200</td></tr>",
                            "<tr><td>24638</td><td>805990</td></tr>",
                            "<tr><td>24654</td><td>328490</td></tr>",
                            "<tr><td>24665</td><td>425300</td></tr>",
                            "<tr><td>24669</td><td>1797720</td></tr>",
                            "<tr><td>24672</td><td>367520</td></tr>",
                            "<tr><td>24679</td><td>713200</td></tr>",
                            "<tr><td>24681</td><td>268040</td></tr>",
                            "<tr><td>24684</td><td>764670</td></tr>",
                            "<tr><td>24701</td><td>268120</td></tr>",
                            "<tr><td>24717</td><td>320360</td></tr>",
                            "<tr><td>24719</td><td>325420</td></tr>",
                            "<tr><td>24739</td><td>236790</td></tr>",
                            "<tr><td>24743</td><td>321440</td></tr>",
                            "<tr><td>24747</td><td>259560</td></tr>",
                            "<tr><td>24771</td><td>1026800</td></tr>",
                            "<tr><td>24778</td><td>263830</td></tr>",
                            "<tr><td>24782</td><td>281390</td></tr>",
                            "<tr><td>24806</td><td>1333670</td></tr>",
                            "<tr><td>24808</td><td>308560</td></tr>",
                            "<tr><td>24810</td><td>250300</td></tr>",
                            "<tr><td>24817</td><td>351480</td></tr>",
                            "<tr><td>24829</td><td>258700</td></tr>",
                            "<tr><td>24835</td><td>311490</td></tr>",
                            "<tr><td>24838</td><td>380280</td></tr>",
                            "<tr><td>24840</td><td>610510</td></tr>",
                            "<tr><td>24841</td><td>384910</td></tr>",
                            "<tr><td>24845</td><td>527730</td></tr>",
                            "<tr><td>24847</td><td>298870</td></tr>",
                            "<tr><td>24858</td><td>288130</td></tr>",
                            "<tr><td>24864</td><td>1115520</td></tr>",
                            "<tr><td>24868</td><td>244210</td></tr>",
                            "<tr><td>24875</td><td>228140</td></tr>",
                            "<tr><td>24882</td><td>281710</td></tr>",
                            "<tr><td>24887</td><td>217240</td></tr>",
                            "<tr><td>24888</td><td>301700</td></tr>",
                            "<tr><td>24890</td><td>225840</td></tr>",
                            "<tr><td>24903</td><td>308850</td></tr>",
                            "<tr><td>24912</td><td>477110</td></tr>",
                            "<tr><td>24928</td><td>225660</td></tr>",
                            "<tr><td>24930</td><td>384720</td></tr>",
                            "<tr><td>24952</td><td>303750</td></tr>",
                            "<tr><td>24959</td><td>281630</td></tr>",
                            "<tr><td>24971</td><td>273740</td></tr>",
                            "<tr><td>24985</td><td>322190</td></tr>",
                            "<tr><td>24986</td><td>757460</td></tr>",
                            "<tr><td>24992</td><td>251490</td></tr>",
                            "<tr><td>25005</td><td>207170</td></tr>",
                            "<tr><td>25007</td><td>358230</td></tr>",
                            "<tr><td>25014</td><td>222470</td></tr>",
                            "<tr><td>25018</td><td>220780</td></tr>",
                            "<tr><td>25020</td><td>342680</td></tr>",
                            "<tr><td>25023</td><td>226880</td></tr>",
                            "<tr><td>25026</td><td>401610</td></tr>",
                            "<tr><td>25031</td><td>213460</td></tr>",
                            "<tr><td>25039</td><td>280670</td></tr>",
                            "<tr><td>25040</td><td>340060</td></tr>",
                            "<tr><td>25045</td><td>235930</td></tr>",
                            "<tr><td>25049</td><td>207880</td></tr>",
                            "<tr><td>25061</td><td>322850</td></tr>",
                            "<tr><td>25070</td><td>379260</td></tr>",
                            "<tr><td>25077</td><td>378740</td></tr>",
                            "<tr><td>25090</td><td>294240</td></tr>",
                            "<tr><td>25104</td><td>476330</td></tr>",
                            "<tr><td>25106</td><td>400210</td></tr>",
                            "<tr><td>25110</td><td>441110</td></tr>",
                            "<tr><td>25112</td><td>368390</td></tr>",
                            "<tr><td>25114</td><td>414610</td></tr>",
                            "<tr><td>25117</td><td>254650</td></tr>",
                            "<tr><td>25123</td><td>573040</td></tr>",
                            "<tr><td>25127</td><td>287570</td></tr>",
                            "<tr><td>25134</td><td>323160</td></tr>",
                            "<tr><td>25154</td><td>283270</td></tr>",
                            "<tr><td>25175</td><td>395960</td></tr>",
                            "<tr><td>25186</td><td>1564860</td></tr>",
                            "<tr><td>25206</td><td>1143180</td></tr>",
                            "<tr><td>25208</td><td>226170</td></tr>",
                            "<tr><td>25219</td><td>717100</td></tr>",
                            "<tr><td>25243</td><td>320370</td></tr>",
                            "<tr><td>25280</td><td>313930</td></tr>",
                            "<tr><td>25284</td><td>381680</td></tr>",
                            "<tr><td>25304</td><td>417760</td></tr>",
                            "<tr><td>25305</td><td>230490</td></tr>",
                            "<tr><td>25309</td><td>249940</td></tr>",
                            "<tr><td>25313</td><td>280370</td></tr>",
                            "<tr><td>25329</td><td>218810</td></tr>",
                            "<tr><td>25360</td><td>354640</td></tr>",
                            "<tr><td>25366</td><td>606270</td></tr>",
                            "<tr><td>25372</td><td>213220</td></tr>",
                            "<tr><td>25420</td><td>216480</td></tr>",
                            "<tr><td>25421</td><td>609810</td></tr>",
                            "<tr><td>25426</td><td>244040</td></tr>",
                            "<tr><td>25428</td><td>275400</td></tr>",
                            "<tr><td>25429</td><td>255240</td></tr>",
                            "<tr><td>25436</td><td>294800</td></tr>",
                            "<tr><td>25446</td><td>358480</td></tr>",
                            "<tr><td>25450</td><td>421150</td></tr>",
                            "<tr><td>25465</td><td>293370</td></tr>",
                            "<tr><td>25471</td><td>262300</td></tr>",
                            "<tr><td>25477</td><td>252900</td></tr>",
                            "<tr><td>25479</td><td>217590</td></tr>",
                            "<tr><td>25490</td><td>362880</td></tr>",
                            "<tr><td>25496</td><td>1113570</td></tr>",
                            "<tr><td>25501</td><td>253320</td></tr>",
                            "<tr><td>25502</td><td>454060</td></tr>",
                            "<tr><td>25516</td><td>667270</td></tr>",
                            "<tr><td>25520</td><td>210280</td></tr>",
                            "<tr><td>25527</td><td>249710</td></tr>",
                            "<tr><td>25536</td><td>218110</td></tr>",
                            "<tr><td>25540</td><td>430150</td></tr>",
                            "<tr><td>25544</td><td>340060</td></tr>",
                            "<tr><td>25547</td><td>299190</td></tr>",
                            "<tr><td>25568</td><td>377840</td></tr>",
                            "<tr><td>25574</td><td>612340</td></tr>",
                            "<tr><td>25579</td><td>421410</td></tr>",
                            "<tr><td>25585</td><td>243800</td></tr>",
                            "<tr><td>25589</td><td>359410</td></tr>",
                            "<tr><td>25599</td><td>311390</td></tr>",
                            "<tr><td>25600</td><td>238900</td></tr>",
                            "<tr><td>25601</td><td>310500</td></tr>",
                            "<tr><td>25606</td><td>462480</td></tr>",
                            "<tr><td>25609</td><td>210040</td></tr>",
                            "<tr><td>25614</td><td>210610</td></tr>",
                            "<tr><td>25615</td><td>221440</td></tr>",
                            "<tr><td>25621</td><td>488540</td></tr>",
                            "<tr><td>25635</td><td>221880</td></tr>",
                            "<tr><td>25640</td><td>210170</td></tr>",
                            "<tr><td>25644</td><td>738160</td></tr>",
                            "<tr><td>25649</td><td>218840</td></tr>",
                            "<tr><td>25650</td><td>1016130</td></tr>",
                            "<tr><td>25658</td><td>469430</td></tr>",
                            "<tr><td>25662</td><td>280980</td></tr>",
                            "<tr><td>25669</td><td>274730</td></tr>",
                            "<tr><td>25682</td><td>521940</td></tr>",
                            "<tr><td>25684</td><td>239720</td></tr>",
                            "<tr><td>25688</td><td>1007250</td></tr>",
                            "<tr><td>25690</td><td>306370</td></tr>",
                            "<tr><td>25691</td><td>281260</td></tr>",
                            "<tr><td>25697</td><td>232900</td></tr>",
                            "<tr><td>25701</td><td>285570</td></tr>",
                            "<tr><td>25723</td><td>371880</td></tr>",
                            "<tr><td>25732</td><td>376760</td></tr>",
                            "<tr><td>25738</td><td>434900</td></tr>",
                            "<tr><td>25744</td><td>400160</td></tr>",
                            "<tr><td>25752</td><td>339560</td></tr>",
                            "<tr><td>25760</td><td>410560</td></tr>",
                            "<tr><td>25770</td><td>227930</td></tr>",
                            "<tr><td>25773</td><td>317400</td></tr>",
                            "<tr><td>25787</td><td>491680</td></tr>",
                            "<tr><td>25797</td><td>207980</td></tr>",
                            "<tr><td>25802</td><td>249650</td></tr>",
                            "<tr><td>25823</td><td>362020</td></tr>",
                            "<tr><td>25829</td><td>294030</td></tr>",
                            "<tr><td>25846</td><td>247900</td></tr>",
                            "<tr><td>25847</td><td>299100</td></tr>",
                            "<tr><td>25851</td><td>263500</td></tr>",
                            "<tr><td>25858</td><td>460620</td></tr>",
                            "<tr><td>25862</td><td>377390</td></tr>",
                            "<tr><td>25868</td><td>2081810</td></tr>",
                            "<tr><td>25884</td><td>358500</td></tr>",
                            "<tr><td>25904</td><td>802780</td></tr>",
                            "<tr><td>25917</td><td>393890</td></tr>",
                            "<tr><td>25935</td><td>434030</td></tr>",
                            "<tr><td>25947</td><td>355500</td></tr>",
                            "<tr><td>25953</td><td>231200</td></tr>",
                            "<tr><td>25967</td><td>289050</td></tr>",
                            "<tr><td>25973</td><td>286810</td></tr>",
                            "<tr><td>25982</td><td>228560</td></tr>",
                            "<tr><td>25985</td><td>266030</td></tr>",
                            "<tr><td>25993</td><td>726440</td></tr>",
                            "<tr><td>26000</td><td>344020</td></tr>",
                            "<tr><td>26009</td><td>397540</td></tr>",
                            "<tr><td>26022</td><td>245480</td></tr>",
                            "<tr><td>26027</td><td>430660</td></tr>",
                            "<tr><td>26038</td><td>334950</td></tr>",
                            "<tr><td>26039</td><td>243970</td></tr>",
                            "<tr><td>26043</td><td>1130960</td></tr>",
                            "<tr><td>26048</td><td>363750</td></tr>",
                            "<tr><td>26062</td><td>235780</td></tr>",
                            "<tr><td>26074</td><td>266110</td></tr>",
                            "<tr><td>26078</td><td>246310</td></tr>",
                            "<tr><td>26082</td><td>299160</td></tr>",
                            "<tr><td>26083</td><td>378600</td></tr>",
                            "<tr><td>26087</td><td>210170</td></tr>",
                            "<tr><td>26102</td><td>325750</td></tr>",
                            "<tr><td>26104</td><td>1547800</td></tr>",
                            "<tr><td>26106</td><td>423860</td></tr>",
                            "<tr><td>26114</td><td>284000</td></tr>",
                            "<tr><td>26119</td><td>526160</td></tr>",
                            "<tr><td>26127</td><td>549380</td></tr>",
                            "<tr><td>26128</td><td>419190</td></tr>",
                            "<tr><td>26135</td><td>640010</td></tr>",
                            "<tr><td>26149</td><td>318800</td></tr>",
                            "<tr><td>26154</td><td>215710</td></tr>",
                            "<tr><td>26156</td><td>254830</td></tr>",
                            "<tr><td>26172</td><td>210130</td></tr>",
                            "<tr><td>26178</td><td>301020</td></tr>",
                            "<tr><td>26186</td><td>343460</td></tr>",
                            "<tr><td>26213</td><td>409640</td></tr>",
                            "<tr><td>26228</td><td>213890</td></tr>",
                            "<tr><td>26230</td><td>309040</td></tr>",
                            "<tr><td>26247</td><td>223450</td></tr>",
                            "<tr><td>26256</td><td>1060000</td></tr>",
                            "<tr><td>26261</td><td>294490</td></tr>",
                            "<tr><td>26266</td><td>304160</td></tr>",
                            "<tr><td>26290</td><td>274260</td></tr>",
                            "<tr><td>26326</td><td>272100</td></tr>",
                            "<tr><td>26332</td><td>459610</td></tr>",
                            "<tr><td>26341</td><td>435170</td></tr>",
                            "<tr><td>26368</td><td>209200</td></tr>",
                            "<tr><td>26392</td><td>424710</td></tr>",
                            "<tr><td>26397</td><td>432000</td></tr>",
                            "<tr><td>26415</td><td>238440</td></tr>",
                            "<tr><td>26426</td><td>432940</td></tr>",
                            "<tr><td>26430</td><td>327770</td></tr>",
                            "<tr><td>26437</td><td>652480</td></tr>",
                            "<tr><td>26461</td><td>588550</td></tr>",
                            "<tr><td>26473</td><td>354450</td></tr>",
                            "<tr><td>26478</td><td>303150</td></tr>",
                            "<tr><td>26496</td><td>476140</td></tr>",
                            "<tr><td>26497</td><td>518930</td></tr>",
                            "<tr><td>26508</td><td>311190</td></tr>",
                            "<tr><td>26515</td><td>429260</td></tr>",
                            "<tr><td>26530</td><td>296420</td></tr>",
                            "<tr><td>26536</td><td>212700</td></tr>",
                            "<tr><td>26538</td><td>352230</td></tr>",
                            "<tr><td>26539</td><td>298060</td></tr>",
                            "<tr><td>26540</td><td>224580</td></tr>",
                            "<tr><td>26547</td><td>293100</td></tr>",
                            "<tr><td>26554</td><td>334090</td></tr>",
                            "<tr><td>26560</td><td>294190</td></tr>",
                            "<tr><td>26569</td><td>378930</td></tr>",
                            "<tr><td>26571</td><td>724920</td></tr>",
                            "<tr><td>26582</td><td>292700</td></tr>",
                            "<tr><td>26588</td><td>495970</td></tr>",
                            "<tr><td>26593</td><td>756360</td></tr>",
                            "<tr><td>26608</td><td>252940</td></tr>",
                            "<tr><td>26620</td><td>217960</td></tr>",
                            "<tr><td>26622</td><td>1995090</td></tr>",
                            "<tr><td>26626</td><td>241790</td></tr>",
                            "<tr><td>26629</td><td>395300</td></tr>",
                            "<tr><td>26647</td><td>220290</td></tr>",
                            "<tr><td>26679</td><td>279300</td></tr>",
                            "<tr><td>26686</td><td>1423890</td></tr>",
                            "<tr><td>26687</td><td>304770</td></tr>",
                            "<tr><td>26691</td><td>469420</td></tr>",
                            "<tr><td>26693</td><td>502810</td></tr>",
                            "<tr><td>26723</td><td>230350</td></tr>",
                            "<tr><td>26724</td><td>499850</td></tr>",
                            "<tr><td>26735</td><td>323690</td></tr>",
                            "<tr><td>26764</td><td>226370</td></tr>",
                            "<tr><td>26773</td><td>228340</td></tr>",
                            "<tr><td>26780</td><td>378670</td></tr>",
                            "<tr><td>26786</td><td>422900</td></tr>",
                            "<tr><td>26795</td><td>302360</td></tr>",
                            "<tr><td>26802</td><td>326480</td></tr>",
                            "<tr><td>26814</td><td>329380</td></tr>",
                            "<tr><td>26833</td><td>293620</td></tr>",
                            "<tr><td>26834</td><td>894900</td></tr>",
                            "<tr><td>26844</td><td>349420</td></tr>",
                            "<tr><td>26855</td><td>292200</td></tr>",
                            "<tr><td>26860</td><td>255300</td></tr>",
                            "<tr><td>26862</td><td>1588540</td></tr>",
                            "<tr><td>26873</td><td>401280</td></tr>",
                            "<tr><td>26890</td><td>433930</td></tr>",
                            "<tr><td>26899</td><td>309990</td></tr>",
                            "<tr><td>26904</td><td>452530</td></tr>",
                            "<tr><td>26909</td><td>206920</td></tr>",
                            "<tr><td>26923</td><td>332180</td></tr>",
                            "<tr><td>26924</td><td>1169940</td></tr>",
                            "<tr><td>26927</td><td>348840</td></tr>",
                            "<tr><td>26929</td><td>257830</td></tr>",
                            "<tr><td>26933</td><td>1284700</td></tr>",
                            "<tr><td>26940</td><td>238090</td></tr>",
                            "<tr><td>26945</td><td>491110</td></tr>",
                            "<tr><td>26969</td><td>218900</td></tr>",
                            "<tr><td>26970</td><td>216400</td></tr>",
                            "<tr><td>26976</td><td>315300</td></tr>",
                            "<tr><td>26977</td><td>349420</td></tr>",
                            "<tr><td>26983</td><td>502890</td></tr>",
                            "<tr><td>26995</td><td>320370</td></tr>",
                            "<tr><td>26996</td><td>212350</td></tr>",
                            "<tr><td>27011</td><td>314040</td></tr>",
                            "<tr><td>27014</td><td>222850</td></tr>",
                            "<tr><td>27024</td><td>333140</td></tr>",
                            "<tr><td>27031</td><td>682680</td></tr>",
                            "<tr><td>27044</td><td>217360</td></tr>",
                            "<tr><td>27060</td><td>251550</td></tr>",
                            "<tr><td>27089</td><td>332820</td></tr>",
                            "<tr><td>27096</td><td>287600</td></tr>",
                            "<tr><td>27103</td><td>337490</td></tr>",
                            "<tr><td>27105</td><td>224420</td></tr>",
                            "<tr><td>27106</td><td>228470</td></tr>",
                            "<tr><td>27118</td><td>256630</td></tr>",
                            "<tr><td>27121</td><td>411330</td></tr>",
                            "<tr><td>27122</td><td>425270</td></tr>",
                            "<tr><td>27124</td><td>212480</td></tr>",
                            "<tr><td>27132</td><td>427860</td></tr>",
                            "<tr><td>27133</td><td>447300</td></tr>",
                            "<tr><td>27136</td><td>205810</td></tr>",
                            "<tr><td>27142</td><td>412900</td></tr>",
                            "<tr><td>27146</td><td>449920</td></tr>",
                            "<tr><td>27171</td><td>624360</td></tr>",
                            "<tr><td>27172</td><td>332930</td></tr>",
                            "<tr><td>27178</td><td>937190</td></tr>",
                            "<tr><td>27179</td><td>373590</td></tr>",
                            "<tr><td>27187</td><td>709610</td></tr>",
                            "<tr><td>27214</td><td>258620</td></tr>",
                            "<tr><td>27215</td><td>234310</td></tr>",
                            "<tr><td>27228</td><td>425220</td></tr>",
                            "<tr><td>27239</td><td>316180</td></tr>",
                            "<tr><td>27250</td><td>290700</td></tr>",
                            "<tr><td>27278</td><td>433790</td></tr>",
                            "<tr><td>27279</td><td>212370</td></tr>",
                            "<tr><td>27288</td><td>248350</td></tr>",
                            "<tr><td>27293</td><td>253030</td></tr>",
                            "<tr><td>27313</td><td>501040</td></tr>",
                            "<tr><td>27326</td><td>208080</td></tr>",
                            "<tr><td>27332</td><td>597780</td></tr>",
                            "<tr><td>27346</td><td>241120</td></tr>",
                            "<tr><td>27353</td><td>398230</td></tr>",
                            "<tr><td>27359</td><td>385380</td></tr>",
                            "<tr><td>27362</td><td>605590</td></tr>",
                            "<tr><td>27372</td><td>205790</td></tr>",
                            "<tr><td>27376</td><td>395790</td></tr>",
                            "<tr><td>27386</td><td>561830</td></tr>",
                            "<tr><td>27409</td><td>387140</td></tr>",
                            "<tr><td>27412</td><td>354110</td></tr>",
                            "<tr><td>27413</td><td>395670</td></tr>",
                            "<tr><td>27414</td><td>293260</td></tr>",
                            "<tr><td>27415</td><td>219580</td></tr>",
                            "<tr><td>27430</td><td>344680</td></tr>",
                            "<tr><td>27449</td><td>1546800</td></tr>",
                            "<tr><td>27463</td><td>233000</td></tr>",
                            "<tr><td>27468</td><td>227100</td></tr>",
                            "<tr><td>27488</td><td>581470</td></tr>",
                            "<tr><td>27493</td><td>285180</td></tr>",
                            "<tr><td>27513</td><td>256690</td></tr>",
                            "<tr><td>27522</td><td>1010830</td></tr>",
                            "<tr><td>27538</td><td>221340</td></tr>",
                            "<tr><td>27546</td><td>379140</td></tr>",
                            "<tr><td>27553</td><td>742400</td></tr>",
                            "<tr><td>27555</td><td>259760</td></tr>",
                            "<tr><td>27566</td><td>416430</td></tr>",
                            "<tr><td>27568</td><td>492070</td></tr>",
                            "<tr><td>27578</td><td>585950</td></tr>",
                            "<tr><td>27582</td><td>386710</td></tr>",
                            "<tr><td>27584</td><td>482380</td></tr>",
                            "<tr><td>27589</td><td>434410</td></tr>",
                            "<tr><td>27591</td><td>326760</td></tr>",
                            "<tr><td>27602</td><td>205910</td></tr>",
                            "<tr><td>27607</td><td>315340</td></tr>",
                            "<tr><td>27610</td><td>508750</td></tr>",
                            "<tr><td>27616</td><td>367310</td></tr>",
                            "<tr><td>27636</td><td>248520</td></tr>",
                            "<tr><td>27646</td><td>266150</td></tr>",
                            "<tr><td>27648</td><td>245960</td></tr>",
                            "<tr><td>27654</td><td>229780</td></tr>",
                            "<tr><td>27655</td><td>536600</td></tr>",
                            "<tr><td>27660</td><td>345030</td></tr>",
                            "<tr><td>27664</td><td>407860</td></tr>",
                            "<tr><td>27668</td><td>734440</td></tr>",
                            "<tr><td>27683</td><td>351520</td></tr>",
                            "<tr><td>27694</td><td>362180</td></tr>",
                            "<tr><td>27703</td><td>268080</td></tr>",
                            "<tr><td>27718</td><td>1790770</td></tr>",
                            "<tr><td>27720</td><td>670140</td></tr>",
                            "<tr><td>27730</td><td>484400</td></tr>",
                            "<tr><td>27738</td><td>396580</td></tr>",
                            "<tr><td>27754</td><td>701400</td></tr>",
                            "<tr><td>27761</td><td>434730</td></tr>",
                            "<tr><td>27763</td><td>622430</td></tr>",
                            "<tr><td>27764</td><td>220570</td></tr>",
                            "<tr><td>27780</td><td>254060</td></tr>",
                            "<tr><td>27800</td><td>396310</td></tr>",
                            "<tr><td>27803</td><td>600040</td></tr>",
                            "<tr><td>27830</td><td>377640</td></tr>",
                            "<tr><td>27872</td><td>405950</td></tr>",
                            "<tr><td>27878</td><td>260440</td></tr>",
                            "<tr><td>27884</td><td>331700</td></tr>",
                            "<tr><td>27885</td><td>376380</td></tr>",
                            "<tr><td>27896</td><td>268910</td></tr>",
                            "<tr><td>27907</td><td>366890</td></tr>",
                            "<tr><td>27921</td><td>438280</td></tr>",
                            "<tr><td>27938</td><td>320120</td></tr>",
                            "<tr><td>27949</td><td>294350</td></tr>",
                            "<tr><td>27963</td><td>273180</td></tr>",
                            "<tr><td>27971</td><td>940760</td></tr>",
                            "<tr><td>27973</td><td>466070</td></tr>",
                            "<tr><td>27991</td><td>336300</td></tr>",
                            "<tr><td>27993</td><td>586920</td></tr>",
                            "<tr><td>27998</td><td>383820</td></tr>",
                            "<tr><td>28018</td><td>366570</td></tr>",
                            "<tr><td>28043</td><td>321630</td></tr>",
                            "<tr><td>28060</td><td>219820</td></tr>",
                            "<tr><td>28065</td><td>443450</td></tr>",
                            "<tr><td>28066</td><td>277150</td></tr>",
                            "<tr><td>28080</td><td>636370</td></tr>",
                            "</table>"
                        ]
                    }
                }
            ],
            "execution_count": 11
        },
        {
            "cell_type": "markdown",
            "source": [
                "14. <span style=\"background-color: rgb(255, 255, 255); color: rgb(0, 0, 0); font-family: &quot;Open Sans&quot;, sans-serif; font-size: 14.44px;\">Listázzuk azokat a termékkategóriákat, amelyből 2017 januárban nem történt rendelés!&nbsp;</span> \n",
                "\n",
                "a. Elég a kategóriák nevét megjeleníteni!"
            ],
            "metadata": {
                "azdata_cell_guid": "f95ad665-a807-4099-bf06-64ed974f866f"
            },
            "attachments": {}
        },
        {
            "cell_type": "code",
            "source": [
                ""
            ],
            "metadata": {
                "azdata_cell_guid": "74c7ec8a-ae4a-4d03-b1c4-e8f6bb1be12c",
                "language": "sql"
            },
            "outputs": [],
            "execution_count": null
        },
        {
            "cell_type": "markdown",
            "source": [
                "15. <span style=\"background-color: rgb(255, 255, 255); color: rgb(0, 0, 0); font-family: &quot;Open Sans&quot;, sans-serif; font-size: 14.44px;\">Listázzuk azon rendelési tételeket, amelynek értéke nagyobb, mint a legdrágább termék listaára azon termékek közül, amelyek szülő kategóriája a ruha!</span>"
            ],
            "metadata": {
                "azdata_cell_guid": "93552388-ffec-49ff-99e5-ae8dc8072601"
            },
            "attachments": {}
        },
        {
            "cell_type": "code",
            "source": [
                ""
            ],
            "metadata": {
                "azdata_cell_guid": "0e7f547f-7d96-4611-b1c2-0fa84a581e79",
                "language": "sql"
            },
            "outputs": [],
            "execution_count": null
        },
        {
            "cell_type": "markdown",
            "source": [
                "Készítsünk listát, amely megjeleníti a vendégek adatait!\n",
                "\n",
                "- Egy új oszlopban számoljuk ki a vendég életkorát (években)\n",
                "- Egy másik új oszlopban határozzuk meg, hogy születési dátum szerint növekvő rendezésnél mennyi az adott ügyfél. az előtte lévő 2 ügyfél és az utána lévő 2 ügyfél átlagos életkora! Az oszlopot nevezzük el értelemszerűen!"
            ],
            "metadata": {
                "language": "sql",
                "azdata_cell_guid": "46763dc2-2613-4846-b922-db700758999f"
            },
            "attachments": {}
        },
        {
            "cell_type": "code",
            "source": [
                "\r\n",
                "\r\n",
                ""
            ],
            "metadata": {
                "language": "sql",
                "azdata_cell_guid": "d8792954-cf22-4942-9923-c18d2e15a483"
            },
            "outputs": [],
            "execution_count": null
        },
        {
            "cell_type": "markdown",
            "source": [
                "Egészítsük ki a megkezdett lekérdezést, amely listázza azon vendégek azonosítóját és nevét, akik már legalább egyszer foglaltak, és MINDEN ESETBEN összesen két fő számára (felnőtt + gyermek szám összege)! \n",
                "\n",
                " a. A lista ne tartalmazzon ismétlődő sorokat!"
            ],
            "metadata": {
                "language": "sql",
                "azdata_cell_guid": "2f8c4a8d-a67a-4d32-a47f-8f5060b857fb"
            },
            "attachments": {}
        },
        {
            "cell_type": "code",
            "source": [
                ""
            ],
            "metadata": {
                "language": "sql",
                "azdata_cell_guid": "d7266639-dded-4443-a562-c4d5e8860dff"
            },
            "outputs": [],
            "execution_count": null
        }
    ]
}