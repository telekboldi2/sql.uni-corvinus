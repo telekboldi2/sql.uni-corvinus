{
    "metadata": {
        "kernelspec": {
            "name": "SQL",
            "display_name": "SQL",
            "language": "sql"
        },
        "language_info": {
            "name": "sql",
            "version": ""
        }
    },
    "nbformat_minor": 2,
    "nbformat": 4,
    "cells": [
        {
            "cell_type": "markdown",
            "source": [
                "1. <span style=\"background-color: rgb(255, 255, 255); color: rgb(0, 0, 0); font-family: &quot;Open Sans&quot;, sans-serif; font-size: 14.44px;\">Készítsünk sorszámozott listát a szálláshelyek adatairól!&nbsp;</span> \n",
                "\n",
                "a. A lista legyen a szálláshely típusa szerint, azon belül hely szerint, majd a neve szerint növekvően rendezve! \n",
                "\n",
                "b. A számozás típusonként kezdődjön újra!"
            ],
            "metadata": {
                "azdata_cell_guid": "363cd270-6577-449b-9c89-d4b7c7972d52"
            },
            "attachments": {}
        },
        {
            "cell_type": "code",
            "source": [
                "Select  row_number() over(\r\n",
                "            PARTITION BY tipus\r\n",
                ") as 'sorszám',\r\n",
                "        *\r\n",
                "from szallashely"
            ],
            "metadata": {
                "azdata_cell_guid": "6ab9f633-a3b5-48c9-a1dc-4fb8235ae85b",
                "language": "sql",
                "tags": []
            },
            "outputs": [],
            "execution_count": null
        },
        {
            "cell_type": "markdown",
            "source": [
                "2. <span style=\"background-color: rgb(255, 255, 255); color: rgb(0, 0, 0); font-family: &quot;Open Sans&quot;, sans-serif; font-size: 14.44px;\">Készítsünk lekérdezést, amely a foglalások adatait jeleníti meg!&nbsp;</span> \n",
                "\n",
                "a. A lista tartalmazzon két új oszlopot, amelyek az adott ügyfél legrövidebb, illetve leghosszabb foglalásának hosszát (a foglalt napok számát) mutatják meg! \n",
                "\n",
                "b. Az oszlopokat nevezzük el értelemszerűen!"
            ],
            "metadata": {
                "azdata_cell_guid": "ea75c103-911f-41a3-a32c-3d40fb3e4e4a"
            },
            "attachments": {}
        },
        {
            "cell_type": "code",
            "source": [
                "select  *,\r\n",
                "        MAX(DATEDIFF(DAY, METTOL, MEDDIG)) over (PARTITION by UGYFEL_FK) as 'Leghosszabb foglalás',\r\n",
                "        MIN(DATEDIFF(DAY, METTOL, MEDDIG)) over (PARTITION by UGYFEL_FK) as 'Legrövidebb foglalás'\r\n",
                "from Foglalas"
            ],
            "metadata": {
                "azdata_cell_guid": "222b9618-a8e8-42b4-a8e8-d002257122b7",
                "language": "sql",
                "tags": [
                    "hide_input"
                ]
            },
            "outputs": [],
            "execution_count": null
        },
        {
            "cell_type": "markdown",
            "source": [
                "```\n",
                "3. Készítsük listát, amely megjeleníti az ügyfelek azonosítóját, nevét és a foglalásainak kezdő- és befejező dátumát, valamint azt, hogy a foglalás összesen hány főre történt! \n",
                "```\n",
                "\n",
                "a. Egy új oszlopban jelenítsük meg azt is, hogy az ügyfél előző három foglalása összesen hány főre történt!\n",
                "\n",
                "![](https://moodle.uni-corvinus.hu/theme/image.php/adaptable/atto_h5p/1709548862/icon)"
            ],
            "metadata": {
                "azdata_cell_guid": "d7876bb9-76d0-4d07-baed-3cb17b2f96c3"
            },
            "attachments": {}
        },
        {
            "cell_type": "code",
            "source": [
                "select  UGYFEL_FK, METTOL, MEDDIG,\r\n",
                "        (FELNOTT_SZAM + GYERMEK_SZAM) as 'Össz fő',\r\n",
                "        SUM((FELNOTT_SZAM + GYERMEK_SZAM)) over (PARTITION by UGYFEL_FK order by FOGLALAS_PK\r\n",
                "        rows between 3 preceding and 1 preceding) as 'foglalasok össz fő'\r\n",
                "from foglalas"
            ],
            "metadata": {
                "azdata_cell_guid": "56ec19ce-e249-4551-b2a8-f17569765acc",
                "language": "sql"
            },
            "outputs": [],
            "execution_count": null
        },
        {
            "cell_type": "markdown",
            "source": [
                "4. <span style=\"background-color: rgb(255, 255, 255); color: rgb(0, 0, 0); font-family: &quot;Open Sans&quot;, sans-serif; font-size: 14.44px;\">Készítsünk listát arról, hogy az egyes szálláshelyeken évente hány foglalás történt!&nbsp;</span> \n",
                "\n",
                "a. A lista jelenítse meg a szálláshely azonosítóját, nevét, az évet, és a foglalások számát!\n",
                "\n",
                "b. Egy új oszlopban jelenítsük meg a szálláshely eddigi éves foglalásainak számát is (az aktuálisat is beleértve). \n",
                "\n",
                "c. Az évnél a METTOL dátumot vegyük figyelembe! \n",
                "\n",
                "d. A lista ne tartalmazzon duplikált sorokat!"
            ],
            "metadata": {
                "azdata_cell_guid": "8e7fef82-8022-49a0-8255-fc2846c2134b"
            },
            "attachments": {}
        },
        {
            "cell_type": "code",
            "source": [
                "SELECT distinct szh.SZALLAS_ID,YEAR(f.METTOL), count(*) over(partition by szh.SZALLAS_ID, YEAR(f.METTOL)),    \r\n",
                "                -- eddigi foglalásk száma\r\n",
                "                COUNT(*) over(partition by szh.szallas_id, year(f.METTOL)\r\n",
                "                                order by f.mettol\r\n",
                "                                range between unbounded preceding AND current ROW)\r\n",
                "FROM Szallashely szh join szoba sz on szh.SZALLAS_ID=sz.SZALLAS_FK\r\n",
                "                    join Foglalas f on sz.SZOBA_ID=f.SZOBA_FK"
            ],
            "metadata": {
                "azdata_cell_guid": "36f7b396-4a1f-45e5-8720-2302537c91bc",
                "language": "sql"
            },
            "outputs": [],
            "execution_count": null
        },
        {
            "cell_type": "markdown",
            "source": [
                "5. <span style=\"background-color: rgb(255, 255, 255); color: rgb(0, 0, 0); font-family: &quot;Open Sans&quot;, sans-serif; font-size: 14.44px;\">Készítsük listát a szálláshelyekről! A lista tartalmazza a szálláshely azonosítóját, nevét, és a csillagok számát csillagszám szerint csökkenő, azon belül szállásnév szerint növekvő sorrendben!&nbsp;</span> \n",
                "\n",
                "a. Vegyünk fel két új oszlopot, amely a sorrend szerint előző szálláshely nevét, illetve azonosítóját is megjeleníti!"
            ],
            "metadata": {
                "azdata_cell_guid": "84239ca2-6b5e-49f5-9860-d44c11d6de32"
            },
            "attachments": {}
        },
        {
            "cell_type": "code",
            "source": [
                "SELECT  szh.SZALLAS_ID,szh.SZALLAS_NEV,szh.CSILLAGOK_SZAMA,\r\n",
                "        LAG(szh.SZALLAS_ID) over(order by szh.CSILLAGOK_SZAMA DESC,szh.szallas_nev ASC),\r\n",
                "        LAG(szh.SZALLAS_NEV) over(order by szh.CSILLAGOK_SZAMA DESC,szh.szallas_nev ASC)\r\n",
                "from szallashely szh\r\n",
                "order by szh.CSILLAGOK_SZAMA DESC,szh.szallas_nev ASC"
            ],
            "metadata": {
                "azdata_cell_guid": "06d9a62b-9430-424b-a135-d80e675f0eb3",
                "language": "sql"
            },
            "outputs": [],
            "execution_count": null
        },
        {
            "cell_type": "markdown",
            "source": [
                "6. <span style=\"background-color: rgb(255, 255, 255); color: rgb(0, 0, 0); font-family: &quot;Open Sans&quot;, sans-serif; font-size: 14.44px;\">Listázzuk azon termékeket, amelyekből az átlagosnál kevesebb van raktáron!&nbsp;</span> \n",
                "\n",
                "a. Csak a termék kódja és megnevezése jelenjen meg!"
            ],
            "metadata": {
                "azdata_cell_guid": "b0d15045-3c43-4f3a-b8d4-76b4f24e5546"
            },
            "attachments": {}
        },
        {
            "cell_type": "code",
            "source": [
                "SELECT TERMEKKOD, MEGYS\r\n",
                "From Termek\r\n",
                "WHERE KESZLET < (\r\n",
                "    Select avg(KESZLET)\r\n",
                "    from Termek\r\n",
                ")"
            ],
            "metadata": {
                "azdata_cell_guid": "f2b7400d-1255-40ac-9250-4d57f9da5357",
                "language": "sql"
            },
            "outputs": [],
            "execution_count": null
        },
        {
            "cell_type": "markdown",
            "source": [
                "7. <span style=\"background-color: rgb(255, 255, 255); color: rgb(0, 0, 0); font-family: &quot;Open Sans&quot;, sans-serif; font-size: 14.44px;\">Listázzuk azon ügyfeleket, akik még nem fizettek bankkártyával!&nbsp;</span> \n",
                "\n",
                "a. Csak az ügyfelek neve jelenjen meg!"
            ],
            "metadata": {
                "azdata_cell_guid": "7ebf7ddd-1bd2-4246-815a-be8ae37e3b5b"
            },
            "attachments": {}
        },
        {
            "cell_type": "code",
            "source": [
                "-- akiknek a kódja nincs benne a bankkártyával fiztők kódjaink halmazában\r\n",
                "-- nem létezik olan rendelés, ahol az adott ügyfélkóddal foglalatak\r\n",
                "-- és bakkártyával fizettek\r\n",
                "Select nev\r\n",
                "from Ugyfel u\r\n",
                "where not exists(\r\n",
                "    select *\r\n",
                "    from Rendeles r\r\n",
                "    where u.[LOGIN] = r.[LOGIN]\r\n",
                "          and r.FIZ_MOD = 'Bankkártya'  \r\n",
                ")"
            ],
            "metadata": {
                "azdata_cell_guid": "84b7e896-f36e-4985-88f5-e0f706494fef",
                "language": "sql",
                "tags": []
            },
            "outputs": [],
            "execution_count": null
        },
        {
            "cell_type": "markdown",
            "source": [
                "8. <span style=\"background-color: rgb(255, 255, 255); color: rgb(0, 0, 0); font-family: &quot;Open Sans&quot;, sans-serif; font-size: 14.44px;\">Mennyibe kerül a második legnagyobb listaárú termék?</span>"
            ],
            "metadata": {
                "azdata_cell_guid": "27a3d3dc-eafb-4a5e-b103-9f465b9eda8f"
            },
            "attachments": {}
        },
        {
            "cell_type": "code",
            "source": [
                "select top 1 listaar\r\n",
                "from Termek\r\n",
                "where listaar < (\r\n",
                "    select top 1 listaar\r\n",
                "    from Termek\r\n",
                "    ORDER by listaar DESC\r\n",
                ")\r\n",
                "order by listaar DESC\r\n",
                ""
            ],
            "metadata": {
                "azdata_cell_guid": "f09edb3f-649b-4a96-958e-9e12774ae8b7",
                "language": "sql",
                "tags": []
            },
            "outputs": [
                {
                    "output_type": "display_data",
                    "data": {
                        "text/html": "(1 row affected)"
                    },
                    "metadata": {}
                },
                {
                    "output_type": "display_data",
                    "data": {
                        "text/html": "Total execution time: 00:00:00.019"
                    },
                    "metadata": {}
                },
                {
                    "output_type": "execute_result",
                    "execution_count": 9,
                    "data": {
                        "application/vnd.dataresource+json": {
                            "schema": {
                                "fields": [
                                    {
                                        "name": "listaar"
                                    }
                                ]
                            },
                            "data": [
                                {
                                    "listaar": "39000"
                                }
                            ]
                        },
                        "text/html": "<table><tr><th>listaar</th></tr><tr><td>39000</td></tr></table>"
                    },
                    "metadata": {}
                }
            ],
            "execution_count": 9
        },
        {
            "cell_type": "markdown",
            "source": [
                "9. <span style=\"background-color: rgb(255, 255, 255); color: rgb(0, 0, 0); font-family: &quot;Open Sans&quot;, sans-serif; font-size: 14.44px;\">Melyik raktár(ak)ban van az a termék, amelyből a legnagyobb készlet van?&nbsp;</span> \n",
                "\n",
                "a. Csak a raktár(ak) neve jelenjen meg!"
            ],
            "metadata": {
                "azdata_cell_guid": "f12a331a-0e26-4d3d-9c68-812316286577"
            },
            "attachments": {}
        },
        {
            "cell_type": "code",
            "source": [
                "select r.RAKTAR_NEV\r\n",
                "from Raktar r join termek t on r.RAKTAR_KOD = t.RAKTAR_KOD\r\n",
                "where t.KESZLET = ALL(\r\n",
                "    select MAX(t2.KESZLET)\r\n",
                "    from termek t2\r\n",
                ")"
            ],
            "metadata": {
                "azdata_cell_guid": "10a77fc9-e61a-46fc-a401-59720d82bc50",
                "language": "sql"
            },
            "outputs": [
                {
                    "output_type": "display_data",
                    "data": {
                        "text/html": "(2 rows affected)"
                    },
                    "metadata": {}
                },
                {
                    "output_type": "display_data",
                    "data": {
                        "text/html": "Total execution time: 00:00:00.018"
                    },
                    "metadata": {}
                },
                {
                    "output_type": "execute_result",
                    "execution_count": 11,
                    "data": {
                        "application/vnd.dataresource+json": {
                            "schema": {
                                "fields": [
                                    {
                                        "name": "RAKTAR_NEV"
                                    }
                                ]
                            },
                            "data": [
                                {
                                    "RAKTAR_NEV": "Veresegyházi"
                                },
                                {
                                    "RAKTAR_NEV": "Báthory"
                                }
                            ]
                        },
                        "text/html": "<table><tr><th>RAKTAR_NEV</th></tr><tr><td>Veresegyházi</td></tr><tr><td>Báthory</td></tr></table>"
                    },
                    "metadata": {}
                }
            ],
            "execution_count": 11
        },
        {
            "cell_type": "markdown",
            "source": [
                "10. <span style=\"background-color: rgb(255, 255, 255); color: rgb(0, 0, 0); font-family: &quot;Open Sans&quot;, sans-serif; font-size: 14.44px;\">Melyek azok a termékek, amelyek listaára nagyobb, mint bármelyik olyan terméké, amelynek nevében az Ajándék szó szerepel?&nbsp;</span> \n",
                "\n",
                "a. A termékek kódját és nevét is jelenítsük meg!"
            ],
            "metadata": {
                "azdata_cell_guid": "9229e2b6-e200-4499-b95b-2d0222149831"
            },
            "attachments": {}
        },
        {
            "cell_type": "code",
            "source": [
                "select megnevezes\r\n",
                "from Termek\r\n",
                "where listaar > ALL(\r\n",
                "    select listaar\r\n",
                "    from Termek\r\n",
                "    where charindex('ajándék', megnevezes) > 0\r\n",
                ")\r\n",
                ""
            ],
            "metadata": {
                "azdata_cell_guid": "8b49ed67-28c6-4880-82a8-cd369e5bba99",
                "language": "sql",
                "tags": []
            },
            "outputs": [
                {
                    "output_type": "display_data",
                    "data": {
                        "text/html": "(122 rows affected)"
                    },
                    "metadata": {}
                },
                {
                    "output_type": "display_data",
                    "data": {
                        "text/html": "Total execution time: 00:00:00.209"
                    },
                    "metadata": {}
                },
                {
                    "output_type": "execute_result",
                    "metadata": {},
                    "execution_count": 7,
                    "data": {
                        "application/vnd.dataresource+json": {
                            "schema": {
                                "fields": [
                                    {
                                        "name": "megnevezes"
                                    }
                                ]
                            },
                            "data": [
                                {
                                    "megnevezes": "félfamentes rajzlap A4 (10 lap)"
                                },
                                {
                                    "megnevezes": "Öntapadó A/4"
                                },
                                {
                                    "megnevezes": "Fénymásoló papír DataCopy"
                                },
                                {
                                    "megnevezes": "Fénymásoló papír GetCopy"
                                },
                                {
                                    "megnevezes": "Fénymásoló papír Qconnect"
                                },
                                {
                                    "megnevezes": "Színes másoló a/4 80g"
                                },
                                {
                                    "megnevezes": "Fehér másoló A/3"
                                },
                                {
                                    "megnevezes": "Fehér másoló A/4"
                                },
                                {
                                    "megnevezes": "Beírókönyv A4"
                                },
                                {
                                    "megnevezes": "Határidő napló A/6"
                                },
                                {
                                    "megnevezes": "irodai tűzőgép"
                                },
                                {
                                    "megnevezes": "Hibajav.roll.Pritt 4,2mm"
                                },
                                {
                                    "megnevezes": "Névjegytartó kicsi"
                                },
                                {
                                    "megnevezes": "Tűzőgép Boxer 10"
                                },
                                {
                                    "megnevezes": "Tűzőgép SAX 239"
                                },
                                {
                                    "megnevezes": "Tűzőgép EAGLE"
                                },
                                {
                                    "megnevezes": "Bélyegzőfesték "
                                },
                                {
                                    "megnevezes": "Bélyegző IDEAL 50"
                                },
                                {
                                    "megnevezes": "Bélyegző párna"
                                },
                                {
                                    "megnevezes": "Bélyegző pocket"
                                },
                                {
                                    "megnevezes": "Bélyegző RP 18-47"
                                },
                                {
                                    "megnevezes": "Tűzőgép mini"
                                },
                                {
                                    "megnevezes": "Lyukasztó EAGLE"
                                },
                                {
                                    "megnevezes": "Lyukasztó BOXER"
                                },
                                {
                                    "megnevezes": "Festékpatron BCI-3BK"
                                },
                                {
                                    "megnevezes": "Oki toner C"
                                },
                                {
                                    "megnevezes": "Határidő napló 2010-s"
                                },
                                {
                                    "megnevezes": "Emlékkönyv"
                                },
                                {
                                    "megnevezes": "Plüss sárkány"
                                },
                                {
                                    "megnevezes": "Strandlabda "
                                },
                                {
                                    "megnevezes": "Mappa bőr A5"
                                },
                                {
                                    "megnevezes": "Mappa PVC villámzáras  képes"
                                },
                                {
                                    "megnevezes": "Emlékkönyv"
                                },
                                {
                                    "megnevezes": "Emlékkönyv lakatos"
                                },
                                {
                                    "megnevezes": "Ragasztószalag 19 mm-es SCOTCH+ tépő"
                                },
                                {
                                    "megnevezes": "Számológép Roxin"
                                },
                                {
                                    "megnevezes": "Gyűrűskönyv"
                                },
                                {
                                    "megnevezes": "Gyűrűskönyv színes"
                                },
                                {
                                    "megnevezes": "Táblafilc"
                                },
                                {
                                    "megnevezes": "Tolltartó 1 zipzáros"
                                },
                                {
                                    "megnevezes": "Tolltartó 2 részes NG."
                                },
                                {
                                    "megnevezes": "Tolltartó zipzáras"
                                },
                                {
                                    "megnevezes": "Tolltartó 2 zipzáros töltött"
                                },
                                {
                                    "megnevezes": "Tolltartó Garfield"
                                },
                                {
                                    "megnevezes": "Tolltartó asztali"
                                },
                                {
                                    "megnevezes": "Tolltartó hengeres "
                                },
                                {
                                    "megnevezes": "Tornazsák"
                                },
                                {
                                    "megnevezes": "Számológép tudományos"
                                },
                                {
                                    "megnevezes": "Füzettartó A/4 keménytáblás"
                                },
                                {
                                    "megnevezes": "Füzettartó A/4 keménytáblás"
                                },
                                {
                                    "megnevezes": "Füzettartó A/5 vastag"
                                },
                                {
                                    "megnevezes": "Hegyező gép"
                                },
                                {
                                    "megnevezes": "Ragasztó Gyurma"
                                },
                                {
                                    "megnevezes": "Füzettartó A/4"
                                },
                                {
                                    "megnevezes": "Filctoll Edding 750"
                                },
                                {
                                    "megnevezes": "Filctoll Marvy alkoholos"
                                },
                                {
                                    "megnevezes": "G.toll betét Parker "
                                },
                                {
                                    "megnevezes": "Golyóstoll Zebra 301"
                                },
                                {
                                    "megnevezes": "Golyóstoll Zebra mini"
                                },
                                {
                                    "megnevezes": "Lakk filc Edding 750"
                                },
                                {
                                    "megnevezes": "Tintapatron 30 db-os kék"
                                },
                                {
                                    "megnevezes": "Töltőtoll tinta "
                                },
                                {
                                    "megnevezes": "Golyóstoll + ceruza Twister 2in1"
                                },
                                {
                                    "megnevezes": "Golyóstoll 3 funkciós "
                                },
                                {
                                    "megnevezes": "Golyóstoll INOXCROM"
                                },
                                {
                                    "megnevezes": "Golyóstoll Parker tokban"
                                },
                                {
                                    "megnevezes": "Pixiron KOH-I-NOOR"
                                },
                                {
                                    "megnevezes": "Pixiron Pentel színes"
                                },
                                {
                                    "megnevezes": "Golyóstoll UNIBALL 07"
                                },
                                {
                                    "megnevezes": "Golyóstoll levélbontós"
                                },
                                {
                                    "megnevezes": "A föld amelyen élünk - Európa földrajza"
                                },
                                {
                                    "megnevezes": "A föld amelyen élünk - Távoli földrészek"
                                },
                                {
                                    "megnevezes": "A föld amelyen élünk - Hazánk földrajza"
                                },
                                {
                                    "megnevezes": "A föld amelyen élünk - munkafüzet"
                                },
                                {
                                    "megnevezes": "Anyanyelvi gyakorló 2"
                                },
                                {
                                    "megnevezes": "Anyanyelvi gyakorló 3"
                                },
                                {
                                    "megnevezes": "Összefoglaló feladatgyüjtemény számtech."
                                },
                                {
                                    "megnevezes": "Fizika"
                                },
                                {
                                    "megnevezes": "Fizika 13 éveseknek"
                                },
                                {
                                    "megnevezes": "Fizikai feladatok és tévedések"
                                },
                                {
                                    "megnevezes": "Fogalmazás lépésről lépésre"
                                },
                                {
                                    "megnevezes": "Jól felkészültem-e - Fizika"
                                },
                                {
                                    "megnevezes": "Matematika gyakorló 2"
                                },
                                {
                                    "megnevezes": "Matematika gyakorló 3"
                                },
                                {
                                    "megnevezes": "Matematika gyakorló 4"
                                },
                                {
                                    "megnevezes": "RAMba zárt világ"
                                },
                                {
                                    "megnevezes": "Szövegszerkesztés"
                                },
                                {
                                    "megnevezes": "Informatika"
                                },
                                {
                                    "megnevezes": "Érettségi felv. fel. Matematika"
                                },
                                {
                                    "megnevezes": "Érettségi felv. fel. Fizika"
                                },
                                {
                                    "megnevezes": "Érettségi felv. fel. Biológia"
                                },
                                {
                                    "megnevezes": "férfi szövet kabát"
                                },
                                {
                                    "megnevezes": "férfi farmer nadrág"
                                },
                                {
                                    "megnevezes": "férfi szövet nadrág"
                                },
                                {
                                    "megnevezes": "férfi ing"
                                },
                                {
                                    "megnevezes": "gyermek kabát (fiú)"
                                },
                                {
                                    "megnevezes": "gyermek farmer nadrág (fiú)"
                                },
                                {
                                    "megnevezes": "gyermek pamut nadrág (fiú)"
                                },
                                {
                                    "megnevezes": "fiú alsó"
                                },
                                {
                                    "megnevezes": "fiú harisnya"
                                },
                                {
                                    "megnevezes": "fiú ünneplős ruha"
                                },
                                {
                                    "megnevezes": "gyermek póló (fiú)"
                                },
                                {
                                    "megnevezes": "gyermek szandál (fiú)"
                                },
                                {
                                    "megnevezes": "gyermek cipő (fiú)"
                                },
                                {
                                    "megnevezes": "gyermek csizma (fiú)"
                                },
                                {
                                    "megnevezes": "gyermek kabát (lány)"
                                },
                                {
                                    "megnevezes": "gyermek farmer nadrág (lány)"
                                },
                                {
                                    "megnevezes": "gyermek pamut nadrág (lány)"
                                },
                                {
                                    "megnevezes": "lány alsó"
                                },
                                {
                                    "megnevezes": "lány harisnya"
                                },
                                {
                                    "megnevezes": "lány ünneplős ruha"
                                },
                                {
                                    "megnevezes": "gyermek póló (lány)"
                                },
                                {
                                    "megnevezes": "gyermek szandál (lány)"
                                },
                                {
                                    "megnevezes": "gyermek cipő (lány)"
                                },
                                {
                                    "megnevezes": "gyermek csizma (lány)"
                                },
                                {
                                    "megnevezes": "női szövet kabát"
                                },
                                {
                                    "megnevezes": "női farmer nadrág"
                                },
                                {
                                    "megnevezes": "női alsó"
                                },
                                {
                                    "megnevezes": "női koktélruha"
                                },
                                {
                                    "megnevezes": "kosztüm (rövid)"
                                },
                                {
                                    "megnevezes": "kosztüm (hosszú)"
                                },
                                {
                                    "megnevezes": "sál"
                                }
                            ]
                        },
                        "text/html": [
                            "<table>",
                            "<tr><th>megnevezes</th></tr>",
                            "<tr><td>félfamentes rajzlap A4 (10 lap)</td></tr>",
                            "<tr><td>Öntapadó A/4</td></tr>",
                            "<tr><td>Fénymásoló papír DataCopy</td></tr>",
                            "<tr><td>Fénymásoló papír GetCopy</td></tr>",
                            "<tr><td>Fénymásoló papír Qconnect</td></tr>",
                            "<tr><td>Színes másoló a/4 80g</td></tr>",
                            "<tr><td>Fehér másoló A/3</td></tr>",
                            "<tr><td>Fehér másoló A/4</td></tr>",
                            "<tr><td>Beírókönyv A4</td></tr>",
                            "<tr><td>Határidő napló A/6</td></tr>",
                            "<tr><td>irodai tűzőgép</td></tr>",
                            "<tr><td>Hibajav.roll.Pritt 4,2mm</td></tr>",
                            "<tr><td>Névjegytartó kicsi</td></tr>",
                            "<tr><td>Tűzőgép Boxer 10</td></tr>",
                            "<tr><td>Tűzőgép SAX 239</td></tr>",
                            "<tr><td>Tűzőgép EAGLE</td></tr>",
                            "<tr><td>Bélyegzőfesték </td></tr>",
                            "<tr><td>Bélyegző IDEAL 50</td></tr>",
                            "<tr><td>Bélyegző párna</td></tr>",
                            "<tr><td>Bélyegző pocket</td></tr>",
                            "<tr><td>Bélyegző RP 18-47</td></tr>",
                            "<tr><td>Tűzőgép mini</td></tr>",
                            "<tr><td>Lyukasztó EAGLE</td></tr>",
                            "<tr><td>Lyukasztó BOXER</td></tr>",
                            "<tr><td>Festékpatron BCI-3BK</td></tr>",
                            "<tr><td>Oki toner C</td></tr>",
                            "<tr><td>Határidő napló 2010-s</td></tr>",
                            "<tr><td>Emlékkönyv</td></tr>",
                            "<tr><td>Plüss sárkány</td></tr>",
                            "<tr><td>Strandlabda </td></tr>",
                            "<tr><td>Mappa bőr A5</td></tr>",
                            "<tr><td>Mappa PVC villámzáras  képes</td></tr>",
                            "<tr><td>Emlékkönyv</td></tr>",
                            "<tr><td>Emlékkönyv lakatos</td></tr>",
                            "<tr><td>Ragasztószalag 19 mm-es SCOTCH+ tépő</td></tr>",
                            "<tr><td>Számológép Roxin</td></tr>",
                            "<tr><td>Gyűrűskönyv</td></tr>",
                            "<tr><td>Gyűrűskönyv színes</td></tr>",
                            "<tr><td>Táblafilc</td></tr>",
                            "<tr><td>Tolltartó 1 zipzáros</td></tr>",
                            "<tr><td>Tolltartó 2 részes NG.</td></tr>",
                            "<tr><td>Tolltartó zipzáras</td></tr>",
                            "<tr><td>Tolltartó 2 zipzáros töltött</td></tr>",
                            "<tr><td>Tolltartó Garfield</td></tr>",
                            "<tr><td>Tolltartó asztali</td></tr>",
                            "<tr><td>Tolltartó hengeres </td></tr>",
                            "<tr><td>Tornazsák</td></tr>",
                            "<tr><td>Számológép tudományos</td></tr>",
                            "<tr><td>Füzettartó A/4 keménytáblás</td></tr>",
                            "<tr><td>Füzettartó A/4 keménytáblás</td></tr>",
                            "<tr><td>Füzettartó A/5 vastag</td></tr>",
                            "<tr><td>Hegyező gép</td></tr>",
                            "<tr><td>Ragasztó Gyurma</td></tr>",
                            "<tr><td>Füzettartó A/4</td></tr>",
                            "<tr><td>Filctoll Edding 750</td></tr>",
                            "<tr><td>Filctoll Marvy alkoholos</td></tr>",
                            "<tr><td>G.toll betét Parker </td></tr>",
                            "<tr><td>Golyóstoll Zebra 301</td></tr>",
                            "<tr><td>Golyóstoll Zebra mini</td></tr>",
                            "<tr><td>Lakk filc Edding 750</td></tr>",
                            "<tr><td>Tintapatron 30 db-os kék</td></tr>",
                            "<tr><td>Töltőtoll tinta </td></tr>",
                            "<tr><td>Golyóstoll + ceruza Twister 2in1</td></tr>",
                            "<tr><td>Golyóstoll 3 funkciós </td></tr>",
                            "<tr><td>Golyóstoll INOXCROM</td></tr>",
                            "<tr><td>Golyóstoll Parker tokban</td></tr>",
                            "<tr><td>Pixiron KOH-I-NOOR</td></tr>",
                            "<tr><td>Pixiron Pentel színes</td></tr>",
                            "<tr><td>Golyóstoll UNIBALL 07</td></tr>",
                            "<tr><td>Golyóstoll levélbontós</td></tr>",
                            "<tr><td>A föld amelyen élünk - Európa földrajza</td></tr>",
                            "<tr><td>A föld amelyen élünk - Távoli földrészek</td></tr>",
                            "<tr><td>A föld amelyen élünk - Hazánk földrajza</td></tr>",
                            "<tr><td>A föld amelyen élünk - munkafüzet</td></tr>",
                            "<tr><td>Anyanyelvi gyakorló 2</td></tr>",
                            "<tr><td>Anyanyelvi gyakorló 3</td></tr>",
                            "<tr><td>Összefoglaló feladatgyüjtemény számtech.</td></tr>",
                            "<tr><td>Fizika</td></tr>",
                            "<tr><td>Fizika 13 éveseknek</td></tr>",
                            "<tr><td>Fizikai feladatok és tévedések</td></tr>",
                            "<tr><td>Fogalmazás lépésről lépésre</td></tr>",
                            "<tr><td>Jól felkészültem-e - Fizika</td></tr>",
                            "<tr><td>Matematika gyakorló 2</td></tr>",
                            "<tr><td>Matematika gyakorló 3</td></tr>",
                            "<tr><td>Matematika gyakorló 4</td></tr>",
                            "<tr><td>RAMba zárt világ</td></tr>",
                            "<tr><td>Szövegszerkesztés</td></tr>",
                            "<tr><td>Informatika</td></tr>",
                            "<tr><td>Érettségi felv. fel. Matematika</td></tr>",
                            "<tr><td>Érettségi felv. fel. Fizika</td></tr>",
                            "<tr><td>Érettségi felv. fel. Biológia</td></tr>",
                            "<tr><td>férfi szövet kabát</td></tr>",
                            "<tr><td>férfi farmer nadrág</td></tr>",
                            "<tr><td>férfi szövet nadrág</td></tr>",
                            "<tr><td>férfi ing</td></tr>",
                            "<tr><td>gyermek kabát (fiú)</td></tr>",
                            "<tr><td>gyermek farmer nadrág (fiú)</td></tr>",
                            "<tr><td>gyermek pamut nadrág (fiú)</td></tr>",
                            "<tr><td>fiú alsó</td></tr>",
                            "<tr><td>fiú harisnya</td></tr>",
                            "<tr><td>fiú ünneplős ruha</td></tr>",
                            "<tr><td>gyermek póló (fiú)</td></tr>",
                            "<tr><td>gyermek szandál (fiú)</td></tr>",
                            "<tr><td>gyermek cipő (fiú)</td></tr>",
                            "<tr><td>gyermek csizma (fiú)</td></tr>",
                            "<tr><td>gyermek kabát (lány)</td></tr>",
                            "<tr><td>gyermek farmer nadrág (lány)</td></tr>",
                            "<tr><td>gyermek pamut nadrág (lány)</td></tr>",
                            "<tr><td>lány alsó</td></tr>",
                            "<tr><td>lány harisnya</td></tr>",
                            "<tr><td>lány ünneplős ruha</td></tr>",
                            "<tr><td>gyermek póló (lány)</td></tr>",
                            "<tr><td>gyermek szandál (lány)</td></tr>",
                            "<tr><td>gyermek cipő (lány)</td></tr>",
                            "<tr><td>gyermek csizma (lány)</td></tr>",
                            "<tr><td>női szövet kabát</td></tr>",
                            "<tr><td>női farmer nadrág</td></tr>",
                            "<tr><td>női alsó</td></tr>",
                            "<tr><td>női koktélruha</td></tr>",
                            "<tr><td>kosztüm (rövid)</td></tr>",
                            "<tr><td>kosztüm (hosszú)</td></tr>",
                            "<tr><td>sál</td></tr>",
                            "</table>"
                        ]
                    }
                }
            ],
            "execution_count": 7
        },
        {
            "cell_type": "markdown",
            "source": [
                "11. <span style=\"background-color: rgb(255, 255, 255); color: rgb(0, 0, 0); font-family: &quot;Open Sans&quot;, sans-serif; font-size: 14.44px;\">Melyik hónapokban adtak le az ügyfelek több rendelést, mint januárban?&nbsp;</span> \n",
                "\n",
                "a. Elég a hónapok sorszámait megjeleníteni. \n",
                "\n",
                "b. A listát rendezzük a hónapok száma szerint növekvő sorrendbe!"
            ],
            "metadata": {
                "azdata_cell_guid": "7f5fc7a7-3b6a-4d89-b292-490830afb0c6"
            },
            "attachments": {}
        },
        {
            "cell_type": "code",
            "source": [
                "select MONTH(rend_datum)\r\n",
                "from rendeles\r\n",
                "group by MONTH(rend_datum)\r\n",
                "having count(*) > all(\r\n",
                "    select COUNT(*)\r\n",
                "    from Rendeles\r\n",
                "    where MONTH(rend_datum) = 1\r\n",
                ")\r\n",
                "order by MONTH(rend_datum)\r\n",
                ""
            ],
            "metadata": {
                "azdata_cell_guid": "4a9ece40-f782-4c0d-92cd-9c21969067ed",
                "language": "sql"
            },
            "outputs": [
                {
                    "output_type": "display_data",
                    "data": {
                        "text/html": "(5 rows affected)"
                    },
                    "metadata": {}
                },
                {
                    "output_type": "display_data",
                    "data": {
                        "text/html": "Total execution time: 00:00:00.033"
                    },
                    "metadata": {}
                },
                {
                    "output_type": "execute_result",
                    "metadata": {},
                    "execution_count": 22,
                    "data": {
                        "application/vnd.dataresource+json": {
                            "schema": {
                                "fields": [
                                    {
                                        "name": "(No column name)"
                                    }
                                ]
                            },
                            "data": [
                                {
                                    "(No column name)": "3"
                                },
                                {
                                    "(No column name)": "7"
                                },
                                {
                                    "(No column name)": "8"
                                },
                                {
                                    "(No column name)": "10"
                                },
                                {
                                    "(No column name)": "12"
                                }
                            ]
                        },
                        "text/html": [
                            "<table>",
                            "<tr><th>(No column name)</th></tr>",
                            "<tr><td>3</td></tr>",
                            "<tr><td>7</td></tr>",
                            "<tr><td>8</td></tr>",
                            "<tr><td>10</td></tr>",
                            "<tr><td>12</td></tr>",
                            "</table>"
                        ]
                    }
                }
            ],
            "execution_count": 22
        },
        {
            "cell_type": "markdown",
            "source": [
                "12. <span style=\"background-color: rgb(255, 255, 255); color: rgb(0, 0, 0); font-family: &quot;Open Sans&quot;, sans-serif; font-size: 14.44px;\">Melyek azok a termékek, amelyek listaára az átlagostól max. 20%-kal tér el?&nbsp;</span> \n",
                "\n",
                "a. A termék kódját és nevét is jelenítsük meg!"
            ],
            "metadata": {
                "azdata_cell_guid": "5a483c52-bb98-44bb-bd03-1146d4b0abfa"
            },
            "attachments": {}
        },
        {
            "cell_type": "code",
            "source": [
                ""
            ],
            "metadata": {
                "azdata_cell_guid": "dd6e89bd-08f9-4b18-8460-03c45b503df0",
                "language": "sql"
            },
            "outputs": [],
            "execution_count": null
        },
        {
            "cell_type": "markdown",
            "source": [
                "13. <span style=\"background-color: rgb(255, 255, 255); color: rgb(0, 0, 0); font-family: &quot;Open Sans&quot;, sans-serif; font-size: 14.44px;\">Készítsünk listát (sorszámonként) az egyes rendelések teljes összegéről!&nbsp;</span> \n",
                "\n",
                "a. Szűrjünk azon tételekre, ahol ez az érték nagyobb, mint Viktor Éva rendeléseinek teljes összege! \n",
                "\n",
                "b. A teljes összeg oszlopot nevezzük el értelemszerűen!"
            ],
            "metadata": {
                "azdata_cell_guid": "85d5cb66-96c6-42de-99cf-85ab22d08548"
            },
            "attachments": {}
        },
        {
            "cell_type": "code",
            "source": [
                ""
            ],
            "metadata": {
                "azdata_cell_guid": "cb07d64b-0eaa-498b-b4d2-0b46971e95ce",
                "language": "sql"
            },
            "outputs": [],
            "execution_count": null
        },
        {
            "cell_type": "markdown",
            "source": [
                "14. <span style=\"background-color: rgb(255, 255, 255); color: rgb(0, 0, 0); font-family: &quot;Open Sans&quot;, sans-serif; font-size: 14.44px;\">Listázzuk azokat a termékkategóriákat, amelyből 2017 januárban nem történt rendelés!&nbsp;</span> \n",
                "\n",
                "a. Elég a kategóriák nevét megjeleníteni!"
            ],
            "metadata": {
                "azdata_cell_guid": "f95ad665-a807-4099-bf06-64ed974f866f"
            },
            "attachments": {}
        },
        {
            "cell_type": "code",
            "source": [
                ""
            ],
            "metadata": {
                "azdata_cell_guid": "74c7ec8a-ae4a-4d03-b1c4-e8f6bb1be12c",
                "language": "sql"
            },
            "outputs": [],
            "execution_count": null
        },
        {
            "cell_type": "markdown",
            "source": [
                "15. <span style=\"background-color: rgb(255, 255, 255); color: rgb(0, 0, 0); font-family: &quot;Open Sans&quot;, sans-serif; font-size: 14.44px;\">Listázzuk azon rendelési tételeket, amelynek értéke nagyobb, mint a legdrágább termék listaára azon termékek közül, amelyek szülő kategóriája a ruha!</span>"
            ],
            "metadata": {
                "azdata_cell_guid": "93552388-ffec-49ff-99e5-ae8dc8072601"
            },
            "attachments": {}
        },
        {
            "cell_type": "code",
            "source": [
                ""
            ],
            "metadata": {
                "azdata_cell_guid": "0e7f547f-7d96-4611-b1c2-0fa84a581e79",
                "language": "sql"
            },
            "outputs": [],
            "execution_count": null
        },
        {
            "cell_type": "markdown",
            "source": [
                "Készítsünk listát, amely megjeleníti a vendégek adatait!\n",
                "\n",
                "- Egy új oszlopban számoljuk ki a vendég életkorát (években)\n",
                "- Egy másik új oszlopban határozzuk meg, hogy születési dátum szerint növekvő rendezésnél mennyi az adott ügyfél. az előtte lévő 2 ügyfél és az utána lévő 2 ügyfél átlagos életkora! Az oszlopot nevezzük el értelemszerűen!"
            ],
            "metadata": {
                "language": "sql",
                "azdata_cell_guid": "46763dc2-2613-4846-b922-db700758999f"
            },
            "attachments": {}
        },
        {
            "cell_type": "code",
            "source": [
                "\r\n",
                "\r\n",
                ""
            ],
            "metadata": {
                "language": "sql",
                "azdata_cell_guid": "d8792954-cf22-4942-9923-c18d2e15a483"
            },
            "outputs": [],
            "execution_count": null
        },
        {
            "cell_type": "markdown",
            "source": [
                "Egészítsük ki a megkezdett lekérdezést, amely listázza azon vendégek azonosítóját és nevét, akik már legalább egyszer foglaltak, és MINDEN ESETBEN összesen két fő számára (felnőtt + gyermek szám összege)! \n",
                "\n",
                " a. A lista ne tartalmazzon ismétlődő sorokat!"
            ],
            "metadata": {
                "language": "sql",
                "azdata_cell_guid": "2f8c4a8d-a67a-4d32-a47f-8f5060b857fb"
            },
            "attachments": {}
        },
        {
            "cell_type": "code",
            "source": [
                ""
            ],
            "metadata": {
                "language": "sql",
                "azdata_cell_guid": "d7266639-dded-4443-a562-c4d5e8860dff"
            },
            "outputs": [],
            "execution_count": null
        }
    ]
}