{
    "metadata": {
        "kernelspec": {
            "name": "SQL",
            "display_name": "SQL",
            "language": "sql"
        },
        "language_info": {
            "name": "sql",
            "version": ""
        }
    },
    "nbformat_minor": 2,
    "nbformat": 4,
    "cells": [
        {
            "cell_type": "code",
            "source": [
                "SELECT  Count(*) AS 'Vásárlók száma',\r\n",
                "        MIN(alLekerdezes) as 'Minimum',\r\n",
                "        MAX(alLekerdezes) as 'Maximum',\r\n",
                "        AVG(alLekerdezes) as 'Átlag',\r\n",
                "        STDEV(alLekerdezes) as 'Szórás'\r\n",
                "from (\r\n",
                "    Select LOGIN, Count(LOGIN) as alLekerdezes\r\n",
                "    from Rendeles\r\n",
                "    Group by [LOGIN]\r\n",
                ") AS alLekerdezes\r\n",
                "\r\n",
                ""
            ],
            "metadata": {
                "language": "sql",
                "azdata_cell_guid": "5216c0eb-b763-4c02-82fb-f90dfdcc9d09"
            },
            "outputs": [
                {
                    "output_type": "error",
                    "ename": "",
                    "evalue": "Msg 8120, Level 16, State 1, Line 6\r\nColumn 'alLekerdezes.LOGIN' is invalid in the select list because it is not contained in either an aggregate function or the GROUP BY clause.",
                    "traceback": []
                },
                {
                    "output_type": "display_data",
                    "data": {
                        "text/html": "Total execution time: 00:00:00.004"
                    },
                    "metadata": {}
                }
            ],
            "execution_count": 12
        },
        {
            "cell_type": "code",
            "source": [
                "select  MIN(LEN(LOGIN)) as 'Legrövidebb felhasználónév',\r\n",
                "        MAX(LEN(LOGIN)) as 'Leghosszabb felhasználónév',\r\n",
                "        AVG(LEN(LOGIN)) as 'Átlagos felhasz.név'\r\n",
                "from Rendeles\r\n",
                ""
            ],
            "metadata": {
                "azdata_cell_guid": "d0e69769-b20e-4a76-8ed8-c16b2cbb24d6",
                "language": "sql"
            },
            "outputs": [
                {
                    "output_type": "display_data",
                    "data": {
                        "text/html": "(1 row affected)"
                    },
                    "metadata": {}
                },
                {
                    "output_type": "display_data",
                    "data": {
                        "text/html": "Total execution time: 00:00:00.021"
                    },
                    "metadata": {}
                },
                {
                    "output_type": "execute_result",
                    "execution_count": 7,
                    "data": {
                        "application/vnd.dataresource+json": {
                            "schema": {
                                "fields": [
                                    {
                                        "name": "Legrövidebb felhasználónév"
                                    },
                                    {
                                        "name": "Leghosszabb felhasználónév"
                                    },
                                    {
                                        "name": "Átlagos felhasz.név"
                                    }
                                ]
                            },
                            "data": [
                                {
                                    "Legrövidebb felhasználónév": "3",
                                    "Leghosszabb felhasználónév": "11",
                                    "Átlagos felhasz.név": "6"
                                }
                            ]
                        },
                        "text/html": "<table><tr><th>Legrövidebb felhasználónév</th><th>Leghosszabb felhasználónév</th><th>Átlagos felhasz.név</th></tr><tr><td>3</td><td>11</td><td>6</td></tr></table>"
                    },
                    "metadata": {}
                }
            ],
            "execution_count": 7
        },
        {
            "cell_type": "code",
            "source": [
                "SELECT Count(LOGIN)\r\n",
                "from Rendeles\r\n",
                "Group by [LOGIN]"
            ],
            "metadata": {
                "language": "sql",
                "azdata_cell_guid": "408e1383-7ecd-49cb-b8e4-fdfcc35a00bc"
            },
            "outputs": [
                {
                    "output_type": "display_data",
                    "data": {
                        "text/html": "(191 rows affected)"
                    },
                    "metadata": {}
                },
                {
                    "output_type": "display_data",
                    "data": {
                        "text/html": "Total execution time: 00:00:00.040"
                    },
                    "metadata": {}
                },
                {
                    "output_type": "execute_result",
                    "execution_count": 15,
                    "data": {
                        "application/vnd.dataresource+json": {
                            "schema": {
                                "fields": [
                                    {
                                        "name": "(No column name)"
                                    }
                                ]
                            },
                            "data": [
                                {
                                    "(No column name)": "21"
                                },
                                {
                                    "(No column name)": "374"
                                },
                                {
                                    "(No column name)": "21"
                                },
                                {
                                    "(No column name)": "408"
                                },
                                {
                                    "(No column name)": "386"
                                },
                                {
                                    "(No column name)": "26"
                                },
                                {
                                    "(No column name)": "25"
                                },
                                {
                                    "(No column name)": "16"
                                },
                                {
                                    "(No column name)": "14"
                                },
                                {
                                    "(No column name)": "438"
                                },
                                {
                                    "(No column name)": "13"
                                },
                                {
                                    "(No column name)": "18"
                                },
                                {
                                    "(No column name)": "432"
                                },
                                {
                                    "(No column name)": "16"
                                },
                                {
                                    "(No column name)": "420"
                                },
                                {
                                    "(No column name)": "393"
                                },
                                {
                                    "(No column name)": "450"
                                },
                                {
                                    "(No column name)": "13"
                                },
                                {
                                    "(No column name)": "403"
                                },
                                {
                                    "(No column name)": "18"
                                },
                                {
                                    "(No column name)": "22"
                                },
                                {
                                    "(No column name)": "15"
                                },
                                {
                                    "(No column name)": "16"
                                },
                                {
                                    "(No column name)": "16"
                                },
                                {
                                    "(No column name)": "12"
                                },
                                {
                                    "(No column name)": "22"
                                },
                                {
                                    "(No column name)": "462"
                                },
                                {
                                    "(No column name)": "16"
                                },
                                {
                                    "(No column name)": "13"
                                },
                                {
                                    "(No column name)": "17"
                                },
                                {
                                    "(No column name)": "27"
                                },
                                {
                                    "(No column name)": "10"
                                },
                                {
                                    "(No column name)": "19"
                                },
                                {
                                    "(No column name)": "12"
                                },
                                {
                                    "(No column name)": "14"
                                },
                                {
                                    "(No column name)": "17"
                                },
                                {
                                    "(No column name)": "15"
                                },
                                {
                                    "(No column name)": "21"
                                },
                                {
                                    "(No column name)": "433"
                                },
                                {
                                    "(No column name)": "852"
                                },
                                {
                                    "(No column name)": "421"
                                },
                                {
                                    "(No column name)": "17"
                                },
                                {
                                    "(No column name)": "413"
                                },
                                {
                                    "(No column name)": "422"
                                },
                                {
                                    "(No column name)": "436"
                                },
                                {
                                    "(No column name)": "430"
                                },
                                {
                                    "(No column name)": "15"
                                },
                                {
                                    "(No column name)": "25"
                                },
                                {
                                    "(No column name)": "13"
                                },
                                {
                                    "(No column name)": "17"
                                },
                                {
                                    "(No column name)": "429"
                                },
                                {
                                    "(No column name)": "29"
                                },
                                {
                                    "(No column name)": "456"
                                },
                                {
                                    "(No column name)": "20"
                                },
                                {
                                    "(No column name)": "412"
                                },
                                {
                                    "(No column name)": "16"
                                },
                                {
                                    "(No column name)": "15"
                                },
                                {
                                    "(No column name)": "12"
                                },
                                {
                                    "(No column name)": "435"
                                },
                                {
                                    "(No column name)": "401"
                                },
                                {
                                    "(No column name)": "15"
                                },
                                {
                                    "(No column name)": "22"
                                },
                                {
                                    "(No column name)": "11"
                                },
                                {
                                    "(No column name)": "18"
                                },
                                {
                                    "(No column name)": "12"
                                },
                                {
                                    "(No column name)": "17"
                                },
                                {
                                    "(No column name)": "432"
                                },
                                {
                                    "(No column name)": "15"
                                },
                                {
                                    "(No column name)": "418"
                                },
                                {
                                    "(No column name)": "24"
                                },
                                {
                                    "(No column name)": "16"
                                },
                                {
                                    "(No column name)": "471"
                                },
                                {
                                    "(No column name)": "19"
                                },
                                {
                                    "(No column name)": "15"
                                },
                                {
                                    "(No column name)": "394"
                                },
                                {
                                    "(No column name)": "19"
                                },
                                {
                                    "(No column name)": "18"
                                },
                                {
                                    "(No column name)": "14"
                                },
                                {
                                    "(No column name)": "433"
                                },
                                {
                                    "(No column name)": "15"
                                },
                                {
                                    "(No column name)": "17"
                                },
                                {
                                    "(No column name)": "13"
                                },
                                {
                                    "(No column name)": "13"
                                },
                                {
                                    "(No column name)": "404"
                                },
                                {
                                    "(No column name)": "19"
                                },
                                {
                                    "(No column name)": "20"
                                },
                                {
                                    "(No column name)": "13"
                                },
                                {
                                    "(No column name)": "419"
                                },
                                {
                                    "(No column name)": "7"
                                },
                                {
                                    "(No column name)": "392"
                                },
                                {
                                    "(No column name)": "415"
                                },
                                {
                                    "(No column name)": "414"
                                },
                                {
                                    "(No column name)": "18"
                                },
                                {
                                    "(No column name)": "353"
                                },
                                {
                                    "(No column name)": "409"
                                },
                                {
                                    "(No column name)": "384"
                                },
                                {
                                    "(No column name)": "15"
                                },
                                {
                                    "(No column name)": "462"
                                },
                                {
                                    "(No column name)": "382"
                                },
                                {
                                    "(No column name)": "13"
                                },
                                {
                                    "(No column name)": "13"
                                },
                                {
                                    "(No column name)": "11"
                                },
                                {
                                    "(No column name)": "22"
                                },
                                {
                                    "(No column name)": "10"
                                },
                                {
                                    "(No column name)": "16"
                                },
                                {
                                    "(No column name)": "16"
                                },
                                {
                                    "(No column name)": "25"
                                },
                                {
                                    "(No column name)": "17"
                                },
                                {
                                    "(No column name)": "13"
                                },
                                {
                                    "(No column name)": "15"
                                },
                                {
                                    "(No column name)": "20"
                                },
                                {
                                    "(No column name)": "21"
                                },
                                {
                                    "(No column name)": "17"
                                },
                                {
                                    "(No column name)": "25"
                                },
                                {
                                    "(No column name)": "18"
                                },
                                {
                                    "(No column name)": "16"
                                },
                                {
                                    "(No column name)": "16"
                                },
                                {
                                    "(No column name)": "420"
                                },
                                {
                                    "(No column name)": "20"
                                },
                                {
                                    "(No column name)": "13"
                                },
                                {
                                    "(No column name)": "14"
                                },
                                {
                                    "(No column name)": "18"
                                },
                                {
                                    "(No column name)": "16"
                                },
                                {
                                    "(No column name)": "13"
                                },
                                {
                                    "(No column name)": "18"
                                },
                                {
                                    "(No column name)": "13"
                                },
                                {
                                    "(No column name)": "11"
                                },
                                {
                                    "(No column name)": "14"
                                },
                                {
                                    "(No column name)": "24"
                                },
                                {
                                    "(No column name)": "8"
                                },
                                {
                                    "(No column name)": "20"
                                },
                                {
                                    "(No column name)": "17"
                                },
                                {
                                    "(No column name)": "20"
                                },
                                {
                                    "(No column name)": "17"
                                },
                                {
                                    "(No column name)": "424"
                                },
                                {
                                    "(No column name)": "14"
                                },
                                {
                                    "(No column name)": "16"
                                },
                                {
                                    "(No column name)": "19"
                                },
                                {
                                    "(No column name)": "14"
                                },
                                {
                                    "(No column name)": "15"
                                },
                                {
                                    "(No column name)": "451"
                                },
                                {
                                    "(No column name)": "404"
                                },
                                {
                                    "(No column name)": "18"
                                },
                                {
                                    "(No column name)": "9"
                                },
                                {
                                    "(No column name)": "419"
                                },
                                {
                                    "(No column name)": "424"
                                },
                                {
                                    "(No column name)": "387"
                                },
                                {
                                    "(No column name)": "408"
                                },
                                {
                                    "(No column name)": "23"
                                },
                                {
                                    "(No column name)": "13"
                                },
                                {
                                    "(No column name)": "419"
                                },
                                {
                                    "(No column name)": "18"
                                },
                                {
                                    "(No column name)": "55"
                                },
                                {
                                    "(No column name)": "9"
                                },
                                {
                                    "(No column name)": "414"
                                },
                                {
                                    "(No column name)": "15"
                                },
                                {
                                    "(No column name)": "400"
                                },
                                {
                                    "(No column name)": "11"
                                },
                                {
                                    "(No column name)": "390"
                                },
                                {
                                    "(No column name)": "16"
                                },
                                {
                                    "(No column name)": "11"
                                },
                                {
                                    "(No column name)": "22"
                                },
                                {
                                    "(No column name)": "18"
                                },
                                {
                                    "(No column name)": "17"
                                },
                                {
                                    "(No column name)": "430"
                                },
                                {
                                    "(No column name)": "14"
                                },
                                {
                                    "(No column name)": "17"
                                },
                                {
                                    "(No column name)": "437"
                                },
                                {
                                    "(No column name)": "20"
                                },
                                {
                                    "(No column name)": "413"
                                },
                                {
                                    "(No column name)": "357"
                                },
                                {
                                    "(No column name)": "15"
                                },
                                {
                                    "(No column name)": "13"
                                },
                                {
                                    "(No column name)": "15"
                                },
                                {
                                    "(No column name)": "445"
                                },
                                {
                                    "(No column name)": "412"
                                },
                                {
                                    "(No column name)": "15"
                                },
                                {
                                    "(No column name)": "21"
                                },
                                {
                                    "(No column name)": "22"
                                },
                                {
                                    "(No column name)": "21"
                                },
                                {
                                    "(No column name)": "16"
                                },
                                {
                                    "(No column name)": "406"
                                },
                                {
                                    "(No column name)": "422"
                                },
                                {
                                    "(No column name)": "13"
                                },
                                {
                                    "(No column name)": "407"
                                },
                                {
                                    "(No column name)": "22"
                                },
                                {
                                    "(No column name)": "16"
                                },
                                {
                                    "(No column name)": "446"
                                },
                                {
                                    "(No column name)": "435"
                                },
                                {
                                    "(No column name)": "25"
                                },
                                {
                                    "(No column name)": "420"
                                }
                            ]
                        },
                        "text/html": "<table><tr><th>(No column name)</th></tr><tr><td>21</td></tr><tr><td>374</td></tr><tr><td>21</td></tr><tr><td>408</td></tr><tr><td>386</td></tr><tr><td>26</td></tr><tr><td>25</td></tr><tr><td>16</td></tr><tr><td>14</td></tr><tr><td>438</td></tr><tr><td>13</td></tr><tr><td>18</td></tr><tr><td>432</td></tr><tr><td>16</td></tr><tr><td>420</td></tr><tr><td>393</td></tr><tr><td>450</td></tr><tr><td>13</td></tr><tr><td>403</td></tr><tr><td>18</td></tr><tr><td>22</td></tr><tr><td>15</td></tr><tr><td>16</td></tr><tr><td>16</td></tr><tr><td>12</td></tr><tr><td>22</td></tr><tr><td>462</td></tr><tr><td>16</td></tr><tr><td>13</td></tr><tr><td>17</td></tr><tr><td>27</td></tr><tr><td>10</td></tr><tr><td>19</td></tr><tr><td>12</td></tr><tr><td>14</td></tr><tr><td>17</td></tr><tr><td>15</td></tr><tr><td>21</td></tr><tr><td>433</td></tr><tr><td>852</td></tr><tr><td>421</td></tr><tr><td>17</td></tr><tr><td>413</td></tr><tr><td>422</td></tr><tr><td>436</td></tr><tr><td>430</td></tr><tr><td>15</td></tr><tr><td>25</td></tr><tr><td>13</td></tr><tr><td>17</td></tr><tr><td>429</td></tr><tr><td>29</td></tr><tr><td>456</td></tr><tr><td>20</td></tr><tr><td>412</td></tr><tr><td>16</td></tr><tr><td>15</td></tr><tr><td>12</td></tr><tr><td>435</td></tr><tr><td>401</td></tr><tr><td>15</td></tr><tr><td>22</td></tr><tr><td>11</td></tr><tr><td>18</td></tr><tr><td>12</td></tr><tr><td>17</td></tr><tr><td>432</td></tr><tr><td>15</td></tr><tr><td>418</td></tr><tr><td>24</td></tr><tr><td>16</td></tr><tr><td>471</td></tr><tr><td>19</td></tr><tr><td>15</td></tr><tr><td>394</td></tr><tr><td>19</td></tr><tr><td>18</td></tr><tr><td>14</td></tr><tr><td>433</td></tr><tr><td>15</td></tr><tr><td>17</td></tr><tr><td>13</td></tr><tr><td>13</td></tr><tr><td>404</td></tr><tr><td>19</td></tr><tr><td>20</td></tr><tr><td>13</td></tr><tr><td>419</td></tr><tr><td>7</td></tr><tr><td>392</td></tr><tr><td>415</td></tr><tr><td>414</td></tr><tr><td>18</td></tr><tr><td>353</td></tr><tr><td>409</td></tr><tr><td>384</td></tr><tr><td>15</td></tr><tr><td>462</td></tr><tr><td>382</td></tr><tr><td>13</td></tr><tr><td>13</td></tr><tr><td>11</td></tr><tr><td>22</td></tr><tr><td>10</td></tr><tr><td>16</td></tr><tr><td>16</td></tr><tr><td>25</td></tr><tr><td>17</td></tr><tr><td>13</td></tr><tr><td>15</td></tr><tr><td>20</td></tr><tr><td>21</td></tr><tr><td>17</td></tr><tr><td>25</td></tr><tr><td>18</td></tr><tr><td>16</td></tr><tr><td>16</td></tr><tr><td>420</td></tr><tr><td>20</td></tr><tr><td>13</td></tr><tr><td>14</td></tr><tr><td>18</td></tr><tr><td>16</td></tr><tr><td>13</td></tr><tr><td>18</td></tr><tr><td>13</td></tr><tr><td>11</td></tr><tr><td>14</td></tr><tr><td>24</td></tr><tr><td>8</td></tr><tr><td>20</td></tr><tr><td>17</td></tr><tr><td>20</td></tr><tr><td>17</td></tr><tr><td>424</td></tr><tr><td>14</td></tr><tr><td>16</td></tr><tr><td>19</td></tr><tr><td>14</td></tr><tr><td>15</td></tr><tr><td>451</td></tr><tr><td>404</td></tr><tr><td>18</td></tr><tr><td>9</td></tr><tr><td>419</td></tr><tr><td>424</td></tr><tr><td>387</td></tr><tr><td>408</td></tr><tr><td>23</td></tr><tr><td>13</td></tr><tr><td>419</td></tr><tr><td>18</td></tr><tr><td>55</td></tr><tr><td>9</td></tr><tr><td>414</td></tr><tr><td>15</td></tr><tr><td>400</td></tr><tr><td>11</td></tr><tr><td>390</td></tr><tr><td>16</td></tr><tr><td>11</td></tr><tr><td>22</td></tr><tr><td>18</td></tr><tr><td>17</td></tr><tr><td>430</td></tr><tr><td>14</td></tr><tr><td>17</td></tr><tr><td>437</td></tr><tr><td>20</td></tr><tr><td>413</td></tr><tr><td>357</td></tr><tr><td>15</td></tr><tr><td>13</td></tr><tr><td>15</td></tr><tr><td>445</td></tr><tr><td>412</td></tr><tr><td>15</td></tr><tr><td>21</td></tr><tr><td>22</td></tr><tr><td>21</td></tr><tr><td>16</td></tr><tr><td>406</td></tr><tr><td>422</td></tr><tr><td>13</td></tr><tr><td>407</td></tr><tr><td>22</td></tr><tr><td>16</td></tr><tr><td>446</td></tr><tr><td>435</td></tr><tr><td>25</td></tr><tr><td>420</td></tr></table>"
                    },
                    "metadata": {
                        "azdata_chartOptions": {
                            "type": "bar",
                            "dataDirection": "horizontal",
                            "columnsAsLabels": true,
                            "labelFirstColumn": false,
                            "legendPosition": "none",
                            "xAxisLabel": ""
                        }
                    }
                }
            ],
            "execution_count": 15
        },
        {
            "cell_type": "markdown",
            "source": [
                "Diagram az előző lekérdezés alapján:\n",
                "\n",
                "![](data:image/png;base64,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)"
            ],
            "metadata": {
                "azdata_cell_guid": "2d794ccb-39c2-44dd-bbbd-ac72053b1a88"
            },
            "attachments": {}
        },
        {
            "cell_type": "code",
            "source": [
                "--Megnézem hogy az oszlopban van-e hibás vagy hiányos (nem kitültött vagy NULL) adat\r\n",
                "\r\n",
                "WITH SortTipusok AS (\r\n",
                "    SELECT 'NULL érték' AS sortípus\r\n",
                "    UNION ALL\r\n",
                "    SELECT 'Üres'\r\n",
                "    UNION ALL\r\n",
                "    SELECT 'Jó adat'\r\n",
                "),\r\n",
                "Eredmény AS (\r\n",
                "    SELECT CASE \r\n",
                "        WHEN [LOGIN] IS NULL THEN 'NULL érték'\r\n",
                "        WHEN LEN([LOGIN]) = 0 THEN 'Üres'\r\n",
                "        ELSE 'Jó adat' \r\n",
                "        END AS sortípus\r\n",
                "    FROM Rendeles\r\n",
                ")\r\n",
                "\r\n",
                "SELECT s.sortípus,\r\n",
                "       COUNT(e.sortípus) as Darab\r\n",
                "FROM SortTipusok s\r\n",
                "LEFT JOIN Eredmény e ON s.sortípus = e.sortípus\r\n",
                "GROUP BY s.sortípus"
            ],
            "metadata": {
                "language": "sql",
                "azdata_cell_guid": "1aab2ccc-1b80-4d15-81c3-f2abca37aa74"
            },
            "outputs": [
                {
                    "output_type": "display_data",
                    "data": {
                        "text/html": "(3 rows affected)"
                    },
                    "metadata": {}
                },
                {
                    "output_type": "display_data",
                    "data": {
                        "text/html": "Total execution time: 00:00:00.050"
                    },
                    "metadata": {}
                },
                {
                    "output_type": "execute_result",
                    "execution_count": 19,
                    "data": {
                        "application/vnd.dataresource+json": {
                            "schema": {
                                "fields": [
                                    {
                                        "name": "sortípus"
                                    },
                                    {
                                        "name": "Darab"
                                    }
                                ]
                            },
                            "data": [
                                {
                                    "sortípus": "NULL érték",
                                    "Darab": "0"
                                },
                                {
                                    "sortípus": "Üres",
                                    "Darab": "0"
                                },
                                {
                                    "sortípus": "Jó adat",
                                    "Darab": "28085"
                                }
                            ]
                        },
                        "text/html": "<table><tr><th>sortípus</th><th>Darab</th></tr><tr><td>NULL érték</td><td>0</td></tr><tr><td>Üres</td><td>0</td></tr><tr><td>Jó adat</td><td>28085</td></tr></table>"
                    },
                    "metadata": {}
                }
            ],
            "execution_count": 19
        },
        {
            "cell_type": "code",
            "source": [
                "--leghosszabb és legrövidebb (nem null) szállítási cím\r\n",
                "select TOP 1 SZALL_CIM, LEN(SZALL_CIM) as 'Hossz'\r\n",
                "from Rendeles\r\n",
                "where SZALL_CIM Is not NULL\r\n",
                "order by LEN(SZALL_CIM) ASC\r\n",
                "\r\n",
                "select TOP 1 SZALL_CIM, LEN(SZALL_CIM) as 'Hossz'\r\n",
                "from Rendeles\r\n",
                "where SZALL_CIM Is not NULL\r\n",
                "order by LEN(SZALL_CIM) DESC\r\n",
                "\r\n",
                ""
            ],
            "metadata": {
                "azdata_cell_guid": "d5417970-e4f5-415e-85cb-d2a1cdd68268",
                "language": "sql",
                "tags": [
                    "hide_input"
                ]
            },
            "outputs": [
                {
                    "output_type": "display_data",
                    "data": {
                        "text/html": "(1 row affected)"
                    },
                    "metadata": {}
                },
                {
                    "output_type": "display_data",
                    "data": {
                        "text/html": "(1 row affected)"
                    },
                    "metadata": {}
                },
                {
                    "output_type": "display_data",
                    "data": {
                        "text/html": "Total execution time: 00:00:00.060"
                    },
                    "metadata": {}
                },
                {
                    "output_type": "execute_result",
                    "execution_count": 33,
                    "data": {
                        "application/vnd.dataresource+json": {
                            "schema": {
                                "fields": [
                                    {
                                        "name": "SZALL_CIM"
                                    },
                                    {
                                        "name": "Hossz"
                                    }
                                ]
                            },
                            "data": [
                                {
                                    "SZALL_CIM": "Vác, Fő u. 2.",
                                    "Hossz": "13"
                                }
                            ]
                        },
                        "text/html": "<table><tr><th>SZALL_CIM</th><th>Hossz</th></tr><tr><td>Vác, Fő u. 2.</td><td>13</td></tr></table>"
                    },
                    "metadata": {}
                },
                {
                    "output_type": "execute_result",
                    "execution_count": 33,
                    "data": {
                        "application/vnd.dataresource+json": {
                            "schema": {
                                "fields": [
                                    {
                                        "name": "SZALL_CIM"
                                    },
                                    {
                                        "name": "Hossz"
                                    }
                                ]
                            },
                            "data": [
                                {
                                    "SZALL_CIM": "Törökszentmiklós, Kiss u. 32.",
                                    "Hossz": "29"
                                }
                            ]
                        },
                        "text/html": "<table><tr><th>SZALL_CIM</th><th>Hossz</th></tr><tr><td>Törökszentmiklós, Kiss u. 32.</td><td>29</td></tr></table>"
                    },
                    "metadata": {}
                }
            ],
            "execution_count": 33
        },
        {
            "cell_type": "code",
            "source": [
                "--Városok ismétlődése ott ahol meg van adva a szállítási cím\r\n",
                "\r\n",
                "Select Városok, COUNT(*) as 'Darabszám'\r\n",
                "from (\r\n",
                "    Select LEFT(SZALL_CIM,CHARINDEX(',',SZALL_CIM)-1) as Városok\r\n",
                "    from Rendeles\r\n",
                "    where SZALL_CIM is not null\r\n",
                ") as Városok\r\n",
                "group by Városok\r\n",
                "order by Count(*) DESC\r\n",
                ""
            ],
            "metadata": {
                "language": "sql",
                "azdata_cell_guid": "88b2ea76-f9a0-4aab-a2c2-7757ee356c22",
                "tags": [
                    "hide_input"
                ]
            },
            "outputs": [
                {
                    "output_type": "display_data",
                    "data": {
                        "text/html": "(115 rows affected)"
                    },
                    "metadata": {}
                },
                {
                    "output_type": "display_data",
                    "data": {
                        "text/html": "Total execution time: 00:00:00.039"
                    },
                    "metadata": {}
                },
                {
                    "output_type": "execute_result",
                    "execution_count": 44,
                    "data": {
                        "application/vnd.dataresource+json": {
                            "schema": {
                                "fields": [
                                    {
                                        "name": "Városok"
                                    },
                                    {
                                        "name": "Darabszám"
                                    }
                                ]
                            },
                            "data": [
                                {
                                    "Városok": "Budapest",
                                    "Darabszám": "649"
                                },
                                {
                                    "Városok": "Győr",
                                    "Darabszám": "294"
                                },
                                {
                                    "Városok": "Jászkisér",
                                    "Darabszám": "266"
                                },
                                {
                                    "Városok": "Ruzsa",
                                    "Darabszám": "200"
                                },
                                {
                                    "Városok": "Törökszentmiklós",
                                    "Darabszám": "174"
                                },
                                {
                                    "Városok": "Tömörkény",
                                    "Darabszám": "125"
                                },
                                {
                                    "Városok": "Albertirsa",
                                    "Darabszám": "119"
                                },
                                {
                                    "Városok": "Besenyszög",
                                    "Darabszám": "118"
                                },
                                {
                                    "Városok": "Agárd",
                                    "Darabszám": "116"
                                },
                                {
                                    "Városok": "Gödöllő",
                                    "Darabszám": "115"
                                },
                                {
                                    "Városok": "Nyíregyháza",
                                    "Darabszám": "112"
                                },
                                {
                                    "Városok": "Cegléd",
                                    "Darabszám": "110"
                                },
                                {
                                    "Városok": "Csorvás",
                                    "Darabszám": "110"
                                },
                                {
                                    "Városok": "Kimle",
                                    "Darabszám": "108"
                                },
                                {
                                    "Városok": "Lébény",
                                    "Darabszám": "108"
                                },
                                {
                                    "Városok": "Zsadány",
                                    "Darabszám": "107"
                                },
                                {
                                    "Városok": "Répcelak",
                                    "Darabszám": "106"
                                },
                                {
                                    "Városok": "Nagyszénás",
                                    "Darabszám": "104"
                                },
                                {
                                    "Városok": "Bokod",
                                    "Darabszám": "103"
                                },
                                {
                                    "Városok": "Ozora",
                                    "Darabszám": "103"
                                },
                                {
                                    "Városok": "Kisújszállás",
                                    "Darabszám": "102"
                                },
                                {
                                    "Városok": "Szabadszállás",
                                    "Darabszám": "102"
                                },
                                {
                                    "Városok": "Előszállás",
                                    "Darabszám": "102"
                                },
                                {
                                    "Városok": "Szigetvár",
                                    "Darabszám": "101"
                                },
                                {
                                    "Városok": "Kistelek",
                                    "Darabszám": "101"
                                },
                                {
                                    "Városok": "Dédestapolcsány",
                                    "Darabszám": "100"
                                },
                                {
                                    "Városok": "Ráckeve",
                                    "Darabszám": "100"
                                },
                                {
                                    "Városok": "Balatongyörök",
                                    "Darabszám": "99"
                                },
                                {
                                    "Városok": "Tiszavasvári",
                                    "Darabszám": "98"
                                },
                                {
                                    "Városok": "Szeged",
                                    "Darabszám": "98"
                                },
                                {
                                    "Városok": "Veszprém",
                                    "Darabszám": "96"
                                },
                                {
                                    "Városok": "Balmazújváros",
                                    "Darabszám": "96"
                                },
                                {
                                    "Városok": "Lajosmizse",
                                    "Darabszám": "95"
                                },
                                {
                                    "Városok": "Csanádpalota",
                                    "Darabszám": "94"
                                },
                                {
                                    "Városok": "Pilisvörösvár",
                                    "Darabszám": "92"
                                },
                                {
                                    "Városok": "Bácsalmás",
                                    "Darabszám": "92"
                                },
                                {
                                    "Városok": "Tiszasüly",
                                    "Darabszám": "92"
                                },
                                {
                                    "Városok": "Nagykörű",
                                    "Darabszám": "91"
                                },
                                {
                                    "Városok": "Sellye",
                                    "Darabszám": "91"
                                },
                                {
                                    "Városok": "Cigánd",
                                    "Darabszám": "91"
                                },
                                {
                                    "Városok": "Báta",
                                    "Darabszám": "91"
                                },
                                {
                                    "Városok": "Magyarszék",
                                    "Darabszám": "90"
                                },
                                {
                                    "Városok": "Bököny",
                                    "Darabszám": "87"
                                },
                                {
                                    "Városok": "Szentendre",
                                    "Darabszám": "86"
                                },
                                {
                                    "Városok": "Békés",
                                    "Darabszám": "85"
                                },
                                {
                                    "Városok": "Martonvásár",
                                    "Darabszám": "84"
                                },
                                {
                                    "Városok": "Tiszaújváros",
                                    "Darabszám": "83"
                                },
                                {
                                    "Városok": "Fadd",
                                    "Darabszám": "83"
                                },
                                {
                                    "Városok": "Sülysáp",
                                    "Darabszám": "80"
                                },
                                {
                                    "Városok": "Újfehértó",
                                    "Darabszám": "73"
                                },
                                {
                                    "Városok": "Szekszárd",
                                    "Darabszám": "59"
                                },
                                {
                                    "Városok": "Sármellék",
                                    "Darabszám": "20"
                                },
                                {
                                    "Városok": "Kővágóörs",
                                    "Darabszám": "15"
                                },
                                {
                                    "Városok": "Vácszentlászló",
                                    "Darabszám": "10"
                                },
                                {
                                    "Városok": "Tokaj",
                                    "Darabszám": "9"
                                },
                                {
                                    "Városok": "Dabas",
                                    "Darabszám": "9"
                                },
                                {
                                    "Városok": "Egyek",
                                    "Darabszám": "9"
                                },
                                {
                                    "Városok": "Herceghalom",
                                    "Darabszám": "9"
                                },
                                {
                                    "Városok": "Tolna",
                                    "Darabszám": "9"
                                },
                                {
                                    "Városok": "Sarkad",
                                    "Darabszám": "8"
                                },
                                {
                                    "Városok": "Balotaszállás",
                                    "Darabszám": "8"
                                },
                                {
                                    "Városok": "Sándorfalva",
                                    "Darabszám": "8"
                                },
                                {
                                    "Városok": "Káptalantóti",
                                    "Darabszám": "8"
                                },
                                {
                                    "Városok": "Vésztő",
                                    "Darabszám": "7"
                                },
                                {
                                    "Városok": "Vác",
                                    "Darabszám": "7"
                                },
                                {
                                    "Városok": "Isaszeg",
                                    "Darabszám": "6"
                                },
                                {
                                    "Városok": "Vásárosnamény",
                                    "Darabszám": "6"
                                },
                                {
                                    "Városok": "Fonyód",
                                    "Darabszám": "6"
                                },
                                {
                                    "Városok": "Balatonboglár",
                                    "Darabszám": "5"
                                },
                                {
                                    "Városok": "Tatabánya",
                                    "Darabszám": "5"
                                },
                                {
                                    "Városok": "Görbeháza",
                                    "Darabszám": "5"
                                },
                                {
                                    "Városok": "Tótkomlós",
                                    "Darabszám": "5"
                                },
                                {
                                    "Városok": "Szászvár",
                                    "Darabszám": "5"
                                },
                                {
                                    "Városok": "Biharnagybajom",
                                    "Darabszám": "5"
                                },
                                {
                                    "Városok": "Dunaharaszti",
                                    "Darabszám": "5"
                                },
                                {
                                    "Városok": "Ötvöskónyi",
                                    "Darabszám": "5"
                                },
                                {
                                    "Városok": "Tiszakécske",
                                    "Darabszám": "5"
                                },
                                {
                                    "Városok": "Szentgotthárd",
                                    "Darabszám": "5"
                                },
                                {
                                    "Városok": "Göd",
                                    "Darabszám": "5"
                                },
                                {
                                    "Városok": "Szank",
                                    "Darabszám": "5"
                                },
                                {
                                    "Városok": "Örkény",
                                    "Darabszám": "5"
                                },
                                {
                                    "Városok": "Balatonlelle",
                                    "Darabszám": "5"
                                },
                                {
                                    "Városok": "Sárbogárd",
                                    "Darabszám": "4"
                                },
                                {
                                    "Városok": "Miskolc",
                                    "Darabszám": "4"
                                },
                                {
                                    "Városok": "Putnok",
                                    "Darabszám": "4"
                                },
                                {
                                    "Városok": "Hajdúszoboszló",
                                    "Darabszám": "4"
                                },
                                {
                                    "Városok": "Solt",
                                    "Darabszám": "4"
                                },
                                {
                                    "Városok": "Tokodaltáró",
                                    "Darabszám": "4"
                                },
                                {
                                    "Városok": "Edelény",
                                    "Darabszám": "4"
                                },
                                {
                                    "Városok": "Baja",
                                    "Darabszám": "4"
                                },
                                {
                                    "Városok": "Balatonalmádi",
                                    "Darabszám": "4"
                                },
                                {
                                    "Városok": "Táborfalva",
                                    "Darabszám": "3"
                                },
                                {
                                    "Városok": "Pusztamérges",
                                    "Darabszám": "3"
                                },
                                {
                                    "Városok": "Gönc",
                                    "Darabszám": "3"
                                },
                                {
                                    "Városok": "Sátoraljaújhely",
                                    "Darabszám": "3"
                                },
                                {
                                    "Városok": "Encs",
                                    "Darabszám": "3"
                                },
                                {
                                    "Városok": "Újkígyós",
                                    "Darabszám": "3"
                                },
                                {
                                    "Városok": "Cserkeszőlő",
                                    "Darabszám": "3"
                                },
                                {
                                    "Városok": "Balassagyarmat",
                                    "Darabszám": "3"
                                },
                                {
                                    "Városok": "Kisvárda",
                                    "Darabszám": "3"
                                },
                                {
                                    "Városok": "Bonyhád",
                                    "Darabszám": "3"
                                },
                                {
                                    "Városok": "Tihany",
                                    "Darabszám": "3"
                                },
                                {
                                    "Városok": "Eger",
                                    "Darabszám": "3"
                                },
                                {
                                    "Városok": "Mezőkeresztes",
                                    "Darabszám": "2"
                                },
                                {
                                    "Városok": "Kengyel",
                                    "Darabszám": "2"
                                },
                                {
                                    "Városok": "Nagykanizsa",
                                    "Darabszám": "2"
                                },
                                {
                                    "Városok": "Gyenesdiás",
                                    "Darabszám": "2"
                                },
                                {
                                    "Városok": "Abaújszántó",
                                    "Darabszám": "2"
                                },
                                {
                                    "Városok": "Makó",
                                    "Darabszám": "2"
                                },
                                {
                                    "Városok": "Szécsény",
                                    "Darabszám": "2"
                                },
                                {
                                    "Városok": "Szombathely",
                                    "Darabszám": "1"
                                },
                                {
                                    "Városok": "Rákóczifalva",
                                    "Darabszám": "1"
                                },
                                {
                                    "Városok": "Piliscsaba",
                                    "Darabszám": "1"
                                },
                                {
                                    "Városok": "Ásotthalom",
                                    "Darabszám": "1"
                                },
                                {
                                    "Városok": "Gárdony",
                                    "Darabszám": "1"
                                }
                            ]
                        },
                        "text/html": "<table><tr><th>Városok</th><th>Darabszám</th></tr><tr><td>Budapest</td><td>649</td></tr><tr><td>Győr</td><td>294</td></tr><tr><td>Jászkisér</td><td>266</td></tr><tr><td>Ruzsa</td><td>200</td></tr><tr><td>Törökszentmiklós</td><td>174</td></tr><tr><td>Tömörkény</td><td>125</td></tr><tr><td>Albertirsa</td><td>119</td></tr><tr><td>Besenyszög</td><td>118</td></tr><tr><td>Agárd</td><td>116</td></tr><tr><td>Gödöllő</td><td>115</td></tr><tr><td>Nyíregyháza</td><td>112</td></tr><tr><td>Cegléd</td><td>110</td></tr><tr><td>Csorvás</td><td>110</td></tr><tr><td>Kimle</td><td>108</td></tr><tr><td>Lébény</td><td>108</td></tr><tr><td>Zsadány</td><td>107</td></tr><tr><td>Répcelak</td><td>106</td></tr><tr><td>Nagyszénás</td><td>104</td></tr><tr><td>Bokod</td><td>103</td></tr><tr><td>Ozora</td><td>103</td></tr><tr><td>Kisújszállás</td><td>102</td></tr><tr><td>Szabadszállás</td><td>102</td></tr><tr><td>Előszállás</td><td>102</td></tr><tr><td>Szigetvár</td><td>101</td></tr><tr><td>Kistelek</td><td>101</td></tr><tr><td>Dédestapolcsány</td><td>100</td></tr><tr><td>Ráckeve</td><td>100</td></tr><tr><td>Balatongyörök</td><td>99</td></tr><tr><td>Tiszavasvári</td><td>98</td></tr><tr><td>Szeged</td><td>98</td></tr><tr><td>Veszprém</td><td>96</td></tr><tr><td>Balmazújváros</td><td>96</td></tr><tr><td>Lajosmizse</td><td>95</td></tr><tr><td>Csanádpalota</td><td>94</td></tr><tr><td>Pilisvörösvár</td><td>92</td></tr><tr><td>Bácsalmás</td><td>92</td></tr><tr><td>Tiszasüly</td><td>92</td></tr><tr><td>Nagykörű</td><td>91</td></tr><tr><td>Sellye</td><td>91</td></tr><tr><td>Cigánd</td><td>91</td></tr><tr><td>Báta</td><td>91</td></tr><tr><td>Magyarszék</td><td>90</td></tr><tr><td>Bököny</td><td>87</td></tr><tr><td>Szentendre</td><td>86</td></tr><tr><td>Békés</td><td>85</td></tr><tr><td>Martonvásár</td><td>84</td></tr><tr><td>Tiszaújváros</td><td>83</td></tr><tr><td>Fadd</td><td>83</td></tr><tr><td>Sülysáp</td><td>80</td></tr><tr><td>Újfehértó</td><td>73</td></tr><tr><td>Szekszárd</td><td>59</td></tr><tr><td>Sármellék</td><td>20</td></tr><tr><td>Kővágóörs</td><td>15</td></tr><tr><td>Vácszentlászló</td><td>10</td></tr><tr><td>Tokaj</td><td>9</td></tr><tr><td>Dabas</td><td>9</td></tr><tr><td>Egyek</td><td>9</td></tr><tr><td>Herceghalom</td><td>9</td></tr><tr><td>Tolna</td><td>9</td></tr><tr><td>Sarkad</td><td>8</td></tr><tr><td>Balotaszállás</td><td>8</td></tr><tr><td>Sándorfalva</td><td>8</td></tr><tr><td>Káptalantóti</td><td>8</td></tr><tr><td>Vésztő</td><td>7</td></tr><tr><td>Vác</td><td>7</td></tr><tr><td>Isaszeg</td><td>6</td></tr><tr><td>Vásárosnamény</td><td>6</td></tr><tr><td>Fonyód</td><td>6</td></tr><tr><td>Balatonboglár</td><td>5</td></tr><tr><td>Tatabánya</td><td>5</td></tr><tr><td>Görbeháza</td><td>5</td></tr><tr><td>Tótkomlós</td><td>5</td></tr><tr><td>Szászvár</td><td>5</td></tr><tr><td>Biharnagybajom</td><td>5</td></tr><tr><td>Dunaharaszti</td><td>5</td></tr><tr><td>Ötvöskónyi</td><td>5</td></tr><tr><td>Tiszakécske</td><td>5</td></tr><tr><td>Szentgotthárd</td><td>5</td></tr><tr><td>Göd</td><td>5</td></tr><tr><td>Szank</td><td>5</td></tr><tr><td>Örkény</td><td>5</td></tr><tr><td>Balatonlelle</td><td>5</td></tr><tr><td>Sárbogárd</td><td>4</td></tr><tr><td>Miskolc</td><td>4</td></tr><tr><td>Putnok</td><td>4</td></tr><tr><td>Hajdúszoboszló</td><td>4</td></tr><tr><td>Solt</td><td>4</td></tr><tr><td>Tokodaltáró</td><td>4</td></tr><tr><td>Edelény</td><td>4</td></tr><tr><td>Baja</td><td>4</td></tr><tr><td>Balatonalmádi</td><td>4</td></tr><tr><td>Táborfalva</td><td>3</td></tr><tr><td>Pusztamérges</td><td>3</td></tr><tr><td>Gönc</td><td>3</td></tr><tr><td>Sátoraljaújhely</td><td>3</td></tr><tr><td>Encs</td><td>3</td></tr><tr><td>Újkígyós</td><td>3</td></tr><tr><td>Cserkeszőlő</td><td>3</td></tr><tr><td>Balassagyarmat</td><td>3</td></tr><tr><td>Kisvárda</td><td>3</td></tr><tr><td>Bonyhád</td><td>3</td></tr><tr><td>Tihany</td><td>3</td></tr><tr><td>Eger</td><td>3</td></tr><tr><td>Mezőkeresztes</td><td>2</td></tr><tr><td>Kengyel</td><td>2</td></tr><tr><td>Nagykanizsa</td><td>2</td></tr><tr><td>Gyenesdiás</td><td>2</td></tr><tr><td>Abaújszántó</td><td>2</td></tr><tr><td>Makó</td><td>2</td></tr><tr><td>Szécsény</td><td>2</td></tr><tr><td>Szombathely</td><td>1</td></tr><tr><td>Rákóczifalva</td><td>1</td></tr><tr><td>Piliscsaba</td><td>1</td></tr><tr><td>Ásotthalom</td><td>1</td></tr><tr><td>Gárdony</td><td>1</td></tr></table>"
                    },
                    "metadata": {}
                }
            ],
            "execution_count": 44
        },
        {
            "cell_type": "code",
            "source": [
                "Select  Count(*) - Count(SZALL_CIM) as 'NULL adat',\r\n",
                "        Count(SZALL_CIM) as 'Kitöltött adat',\r\n",
                "        100 * Count(SZALL_CIM) / (Count(*) - Count(SZALL_CIM)) as 'Százalékos arány' -- az adatok nagyjából 29%-a van kitöltve, a többi NULL\r\n",
                "from Rendeles"
            ],
            "metadata": {
                "language": "sql",
                "azdata_cell_guid": "912d16e3-0b80-4d2a-8977-f652e78d7e81"
            },
            "outputs": [
                {
                    "output_type": "display_data",
                    "data": {
                        "text/html": "Warning: Null value is eliminated by an aggregate or other SET operation."
                    },
                    "metadata": {}
                },
                {
                    "output_type": "display_data",
                    "data": {
                        "text/html": "(1 row affected)"
                    },
                    "metadata": {}
                },
                {
                    "output_type": "display_data",
                    "data": {
                        "text/html": "Total execution time: 00:00:00.035"
                    },
                    "metadata": {}
                },
                {
                    "output_type": "execute_result",
                    "execution_count": 50,
                    "data": {
                        "application/vnd.dataresource+json": {
                            "schema": {
                                "fields": [
                                    {
                                        "name": "NULL adat"
                                    },
                                    {
                                        "name": "Kitöltött adat"
                                    },
                                    {
                                        "name": "Százalékos arány"
                                    }
                                ]
                            },
                            "data": [
                                {
                                    "NULL adat": "21689",
                                    "Kitöltött adat": "6396",
                                    "Százalékos arány": "29"
                                }
                            ]
                        },
                        "text/html": "<table><tr><th>NULL adat</th><th>Kitöltött adat</th><th>Százalékos arány</th></tr><tr><td>21689</td><td>6396</td><td>29</td></tr></table>"
                    },
                    "metadata": {}
                }
            ],
            "execution_count": 50
        },
        {
            "cell_type": "code",
            "source": [
                "Select  Count(*) - Count(SZALL_CIM) as 'NULL adat',\r\n",
                "        Count(SZALL_CIM) as 'Kitöltött adat'\r\n",
                "from Rendeles"
            ],
            "metadata": {
                "language": "sql",
                "azdata_cell_guid": "a9f32bf2-426e-4627-a1af-c91643b149a8",
                "tags": [
                    "hide_input"
                ]
            },
            "outputs": [
                {
                    "output_type": "display_data",
                    "data": {
                        "text/html": "Warning: Null value is eliminated by an aggregate or other SET operation."
                    },
                    "metadata": {}
                },
                {
                    "output_type": "display_data",
                    "data": {
                        "text/html": "(1 row affected)"
                    },
                    "metadata": {}
                },
                {
                    "output_type": "display_data",
                    "data": {
                        "text/html": "Total execution time: 00:00:00.021"
                    },
                    "metadata": {}
                },
                {
                    "output_type": "execute_result",
                    "execution_count": 51,
                    "data": {
                        "application/vnd.dataresource+json": {
                            "schema": {
                                "fields": [
                                    {
                                        "name": "NULL adat"
                                    },
                                    {
                                        "name": "Kitöltött adat"
                                    }
                                ]
                            },
                            "data": [
                                {
                                    "NULL adat": "21689",
                                    "Kitöltött adat": "6396"
                                }
                            ]
                        },
                        "text/html": "<table><tr><th>NULL adat</th><th>Kitöltött adat</th></tr><tr><td>21689</td><td>6396</td></tr></table>"
                    },
                    "metadata": {
                        "azdata_chartOptions": {
                            "type": "pie",
                            "dataDirection": "horizontal",
                            "columnsAsLabels": true,
                            "labelFirstColumn": false,
                            "legendPosition": "top"
                        }
                    }
                }
            ],
            "execution_count": 51
        },
        {
            "cell_type": "markdown",
            "source": [
                "Diagram az előző lekérdezés alapján:\n",
                "\n",
                "![](data:image/png;base64,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)"
            ],
            "metadata": {
                "language": "sql",
                "azdata_cell_guid": "e481d920-65db-4a62-ad71-c6bf214dd37e"
            },
            "attachments": {}
        }
    ]
}