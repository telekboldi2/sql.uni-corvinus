{
    "metadata": {
        "kernelspec": {
            "name": "SQL",
            "display_name": "SQL",
            "language": "sql"
        },
        "language_info": {
            "name": "sql",
            "version": ""
        }
    },
    "nbformat_minor": 2,
    "nbformat": 4,
    "cells": [
        {
            "cell_type": "code",
            "source": [
                "SELECT  Count(*) AS 'Vásárlók száma',\r\n",
                "        MIN(alLekerdezes) as 'Minimum',\r\n",
                "        MAX(alLekerdezes) as 'Maximum',\r\n",
                "        AVG(alLekerdezes) as 'Átlag',\r\n",
                "        STDEV(alLekerdezes) as 'Szórás'\r\n",
                "from (\r\n",
                "    Select LOGIN, Count(LOGIN) as alLekerdezes\r\n",
                "    from Rendeles\r\n",
                "    Group by [LOGIN]\r\n",
                ") AS alLekerdezes\r\n",
                "\r\n",
                ""
            ],
            "metadata": {
                "language": "sql",
                "azdata_cell_guid": "5216c0eb-b763-4c02-82fb-f90dfdcc9d09"
            },
            "outputs": [
                {
                    "output_type": "error",
                    "evalue": "Msg 8120, Level 16, State 1, Line 6\r\nColumn 'alLekerdezes.LOGIN' is invalid in the select list because it is not contained in either an aggregate function or the GROUP BY clause.",
                    "ename": "",
                    "traceback": []
                },
                {
                    "output_type": "display_data",
                    "data": {
                        "text/html": "Total execution time: 00:00:00.004"
                    },
                    "metadata": {}
                }
            ],
            "execution_count": 12
        },
        {
            "cell_type": "code",
            "source": [
                "select  MIN(LEN(LOGIN)) as 'Legrövidebb felhasználónév',\r\n",
                "        MAX(LEN(LOGIN)) as 'Leghosszabb felhasználónév',\r\n",
                "        AVG(LEN(LOGIN)) as 'Átlagos felhasz.név'\r\n",
                "from Rendeles\r\n",
                ""
            ],
            "metadata": {
                "azdata_cell_guid": "d0e69769-b20e-4a76-8ed8-c16b2cbb24d6",
                "language": "sql"
            },
            "outputs": [
                {
                    "output_type": "display_data",
                    "data": {
                        "text/html": "(1 row affected)"
                    },
                    "metadata": {}
                },
                {
                    "output_type": "display_data",
                    "data": {
                        "text/html": "Total execution time: 00:00:00.021"
                    },
                    "metadata": {}
                },
                {
                    "output_type": "execute_result",
                    "metadata": {},
                    "execution_count": 7,
                    "data": {
                        "application/vnd.dataresource+json": {
                            "schema": {
                                "fields": [
                                    {
                                        "name": "Legrövidebb felhasználónév"
                                    },
                                    {
                                        "name": "Leghosszabb felhasználónév"
                                    },
                                    {
                                        "name": "Átlagos felhasz.név"
                                    }
                                ]
                            },
                            "data": [
                                {
                                    "Legrövidebb felhasználónév": "3",
                                    "Leghosszabb felhasználónév": "11",
                                    "Átlagos felhasz.név": "6"
                                }
                            ]
                        },
                        "text/html": [
                            "<table>",
                            "<tr><th>Legrövidebb felhasználónév</th><th>Leghosszabb felhasználónév</th><th>Átlagos felhasz.név</th></tr>",
                            "<tr><td>3</td><td>11</td><td>6</td></tr>",
                            "</table>"
                        ]
                    }
                }
            ],
            "execution_count": 7
        },
        {
            "cell_type": "code",
            "source": [
                "SELECT Count(LOGIN)\r\n",
                "from Rendeles\r\n",
                "Group by [LOGIN]"
            ],
            "metadata": {
                "language": "sql",
                "azdata_cell_guid": "408e1383-7ecd-49cb-b8e4-fdfcc35a00bc"
            },
            "outputs": [
                {
                    "output_type": "display_data",
                    "data": {
                        "text/html": "(191 rows affected)"
                    },
                    "metadata": {}
                },
                {
                    "output_type": "display_data",
                    "data": {
                        "text/html": "Total execution time: 00:00:00.040"
                    },
                    "metadata": {}
                },
                {
                    "output_type": "execute_result",
                    "metadata": {
                        "azdata_chartOptions": {
                            "type": "bar",
                            "dataDirection": "horizontal",
                            "columnsAsLabels": true,
                            "labelFirstColumn": false,
                            "legendPosition": "none"
                        }
                    },
                    "execution_count": 15,
                    "data": {
                        "application/vnd.dataresource+json": {
                            "schema": {
                                "fields": [
                                    {
                                        "name": "(No column name)"
                                    }
                                ]
                            },
                            "data": [
                                {
                                    "(No column name)": "21"
                                },
                                {
                                    "(No column name)": "374"
                                },
                                {
                                    "(No column name)": "21"
                                },
                                {
                                    "(No column name)": "408"
                                },
                                {
                                    "(No column name)": "386"
                                },
                                {
                                    "(No column name)": "26"
                                },
                                {
                                    "(No column name)": "25"
                                },
                                {
                                    "(No column name)": "16"
                                },
                                {
                                    "(No column name)": "14"
                                },
                                {
                                    "(No column name)": "438"
                                },
                                {
                                    "(No column name)": "13"
                                },
                                {
                                    "(No column name)": "18"
                                },
                                {
                                    "(No column name)": "432"
                                },
                                {
                                    "(No column name)": "16"
                                },
                                {
                                    "(No column name)": "420"
                                },
                                {
                                    "(No column name)": "393"
                                },
                                {
                                    "(No column name)": "450"
                                },
                                {
                                    "(No column name)": "13"
                                },
                                {
                                    "(No column name)": "403"
                                },
                                {
                                    "(No column name)": "18"
                                },
                                {
                                    "(No column name)": "22"
                                },
                                {
                                    "(No column name)": "15"
                                },
                                {
                                    "(No column name)": "16"
                                },
                                {
                                    "(No column name)": "16"
                                },
                                {
                                    "(No column name)": "12"
                                },
                                {
                                    "(No column name)": "22"
                                },
                                {
                                    "(No column name)": "462"
                                },
                                {
                                    "(No column name)": "16"
                                },
                                {
                                    "(No column name)": "13"
                                },
                                {
                                    "(No column name)": "17"
                                },
                                {
                                    "(No column name)": "27"
                                },
                                {
                                    "(No column name)": "10"
                                },
                                {
                                    "(No column name)": "19"
                                },
                                {
                                    "(No column name)": "12"
                                },
                                {
                                    "(No column name)": "14"
                                },
                                {
                                    "(No column name)": "17"
                                },
                                {
                                    "(No column name)": "15"
                                },
                                {
                                    "(No column name)": "21"
                                },
                                {
                                    "(No column name)": "433"
                                },
                                {
                                    "(No column name)": "852"
                                },
                                {
                                    "(No column name)": "421"
                                },
                                {
                                    "(No column name)": "17"
                                },
                                {
                                    "(No column name)": "413"
                                },
                                {
                                    "(No column name)": "422"
                                },
                                {
                                    "(No column name)": "436"
                                },
                                {
                                    "(No column name)": "430"
                                },
                                {
                                    "(No column name)": "15"
                                },
                                {
                                    "(No column name)": "25"
                                },
                                {
                                    "(No column name)": "13"
                                },
                                {
                                    "(No column name)": "17"
                                },
                                {
                                    "(No column name)": "429"
                                },
                                {
                                    "(No column name)": "29"
                                },
                                {
                                    "(No column name)": "456"
                                },
                                {
                                    "(No column name)": "20"
                                },
                                {
                                    "(No column name)": "412"
                                },
                                {
                                    "(No column name)": "16"
                                },
                                {
                                    "(No column name)": "15"
                                },
                                {
                                    "(No column name)": "12"
                                },
                                {
                                    "(No column name)": "435"
                                },
                                {
                                    "(No column name)": "401"
                                },
                                {
                                    "(No column name)": "15"
                                },
                                {
                                    "(No column name)": "22"
                                },
                                {
                                    "(No column name)": "11"
                                },
                                {
                                    "(No column name)": "18"
                                },
                                {
                                    "(No column name)": "12"
                                },
                                {
                                    "(No column name)": "17"
                                },
                                {
                                    "(No column name)": "432"
                                },
                                {
                                    "(No column name)": "15"
                                },
                                {
                                    "(No column name)": "418"
                                },
                                {
                                    "(No column name)": "24"
                                },
                                {
                                    "(No column name)": "16"
                                },
                                {
                                    "(No column name)": "471"
                                },
                                {
                                    "(No column name)": "19"
                                },
                                {
                                    "(No column name)": "15"
                                },
                                {
                                    "(No column name)": "394"
                                },
                                {
                                    "(No column name)": "19"
                                },
                                {
                                    "(No column name)": "18"
                                },
                                {
                                    "(No column name)": "14"
                                },
                                {
                                    "(No column name)": "433"
                                },
                                {
                                    "(No column name)": "15"
                                },
                                {
                                    "(No column name)": "17"
                                },
                                {
                                    "(No column name)": "13"
                                },
                                {
                                    "(No column name)": "13"
                                },
                                {
                                    "(No column name)": "404"
                                },
                                {
                                    "(No column name)": "19"
                                },
                                {
                                    "(No column name)": "20"
                                },
                                {
                                    "(No column name)": "13"
                                },
                                {
                                    "(No column name)": "419"
                                },
                                {
                                    "(No column name)": "7"
                                },
                                {
                                    "(No column name)": "392"
                                },
                                {
                                    "(No column name)": "415"
                                },
                                {
                                    "(No column name)": "414"
                                },
                                {
                                    "(No column name)": "18"
                                },
                                {
                                    "(No column name)": "353"
                                },
                                {
                                    "(No column name)": "409"
                                },
                                {
                                    "(No column name)": "384"
                                },
                                {
                                    "(No column name)": "15"
                                },
                                {
                                    "(No column name)": "462"
                                },
                                {
                                    "(No column name)": "382"
                                },
                                {
                                    "(No column name)": "13"
                                },
                                {
                                    "(No column name)": "13"
                                },
                                {
                                    "(No column name)": "11"
                                },
                                {
                                    "(No column name)": "22"
                                },
                                {
                                    "(No column name)": "10"
                                },
                                {
                                    "(No column name)": "16"
                                },
                                {
                                    "(No column name)": "16"
                                },
                                {
                                    "(No column name)": "25"
                                },
                                {
                                    "(No column name)": "17"
                                },
                                {
                                    "(No column name)": "13"
                                },
                                {
                                    "(No column name)": "15"
                                },
                                {
                                    "(No column name)": "20"
                                },
                                {
                                    "(No column name)": "21"
                                },
                                {
                                    "(No column name)": "17"
                                },
                                {
                                    "(No column name)": "25"
                                },
                                {
                                    "(No column name)": "18"
                                },
                                {
                                    "(No column name)": "16"
                                },
                                {
                                    "(No column name)": "16"
                                },
                                {
                                    "(No column name)": "420"
                                },
                                {
                                    "(No column name)": "20"
                                },
                                {
                                    "(No column name)": "13"
                                },
                                {
                                    "(No column name)": "14"
                                },
                                {
                                    "(No column name)": "18"
                                },
                                {
                                    "(No column name)": "16"
                                },
                                {
                                    "(No column name)": "13"
                                },
                                {
                                    "(No column name)": "18"
                                },
                                {
                                    "(No column name)": "13"
                                },
                                {
                                    "(No column name)": "11"
                                },
                                {
                                    "(No column name)": "14"
                                },
                                {
                                    "(No column name)": "24"
                                },
                                {
                                    "(No column name)": "8"
                                },
                                {
                                    "(No column name)": "20"
                                },
                                {
                                    "(No column name)": "17"
                                },
                                {
                                    "(No column name)": "20"
                                },
                                {
                                    "(No column name)": "17"
                                },
                                {
                                    "(No column name)": "424"
                                },
                                {
                                    "(No column name)": "14"
                                },
                                {
                                    "(No column name)": "16"
                                },
                                {
                                    "(No column name)": "19"
                                },
                                {
                                    "(No column name)": "14"
                                },
                                {
                                    "(No column name)": "15"
                                },
                                {
                                    "(No column name)": "451"
                                },
                                {
                                    "(No column name)": "404"
                                },
                                {
                                    "(No column name)": "18"
                                },
                                {
                                    "(No column name)": "9"
                                },
                                {
                                    "(No column name)": "419"
                                },
                                {
                                    "(No column name)": "424"
                                },
                                {
                                    "(No column name)": "387"
                                },
                                {
                                    "(No column name)": "408"
                                },
                                {
                                    "(No column name)": "23"
                                },
                                {
                                    "(No column name)": "13"
                                },
                                {
                                    "(No column name)": "419"
                                },
                                {
                                    "(No column name)": "18"
                                },
                                {
                                    "(No column name)": "55"
                                },
                                {
                                    "(No column name)": "9"
                                },
                                {
                                    "(No column name)": "414"
                                },
                                {
                                    "(No column name)": "15"
                                },
                                {
                                    "(No column name)": "400"
                                },
                                {
                                    "(No column name)": "11"
                                },
                                {
                                    "(No column name)": "390"
                                },
                                {
                                    "(No column name)": "16"
                                },
                                {
                                    "(No column name)": "11"
                                },
                                {
                                    "(No column name)": "22"
                                },
                                {
                                    "(No column name)": "18"
                                },
                                {
                                    "(No column name)": "17"
                                },
                                {
                                    "(No column name)": "430"
                                },
                                {
                                    "(No column name)": "14"
                                },
                                {
                                    "(No column name)": "17"
                                },
                                {
                                    "(No column name)": "437"
                                },
                                {
                                    "(No column name)": "20"
                                },
                                {
                                    "(No column name)": "413"
                                },
                                {
                                    "(No column name)": "357"
                                },
                                {
                                    "(No column name)": "15"
                                },
                                {
                                    "(No column name)": "13"
                                },
                                {
                                    "(No column name)": "15"
                                },
                                {
                                    "(No column name)": "445"
                                },
                                {
                                    "(No column name)": "412"
                                },
                                {
                                    "(No column name)": "15"
                                },
                                {
                                    "(No column name)": "21"
                                },
                                {
                                    "(No column name)": "22"
                                },
                                {
                                    "(No column name)": "21"
                                },
                                {
                                    "(No column name)": "16"
                                },
                                {
                                    "(No column name)": "406"
                                },
                                {
                                    "(No column name)": "422"
                                },
                                {
                                    "(No column name)": "13"
                                },
                                {
                                    "(No column name)": "407"
                                },
                                {
                                    "(No column name)": "22"
                                },
                                {
                                    "(No column name)": "16"
                                },
                                {
                                    "(No column name)": "446"
                                },
                                {
                                    "(No column name)": "435"
                                },
                                {
                                    "(No column name)": "25"
                                },
                                {
                                    "(No column name)": "420"
                                }
                            ]
                        },
                        "text/html": [
                            "<table>",
                            "<tr><th>(No column name)</th></tr>",
                            "<tr><td>21</td></tr>",
                            "<tr><td>374</td></tr>",
                            "<tr><td>21</td></tr>",
                            "<tr><td>408</td></tr>",
                            "<tr><td>386</td></tr>",
                            "<tr><td>26</td></tr>",
                            "<tr><td>25</td></tr>",
                            "<tr><td>16</td></tr>",
                            "<tr><td>14</td></tr>",
                            "<tr><td>438</td></tr>",
                            "<tr><td>13</td></tr>",
                            "<tr><td>18</td></tr>",
                            "<tr><td>432</td></tr>",
                            "<tr><td>16</td></tr>",
                            "<tr><td>420</td></tr>",
                            "<tr><td>393</td></tr>",
                            "<tr><td>450</td></tr>",
                            "<tr><td>13</td></tr>",
                            "<tr><td>403</td></tr>",
                            "<tr><td>18</td></tr>",
                            "<tr><td>22</td></tr>",
                            "<tr><td>15</td></tr>",
                            "<tr><td>16</td></tr>",
                            "<tr><td>16</td></tr>",
                            "<tr><td>12</td></tr>",
                            "<tr><td>22</td></tr>",
                            "<tr><td>462</td></tr>",
                            "<tr><td>16</td></tr>",
                            "<tr><td>13</td></tr>",
                            "<tr><td>17</td></tr>",
                            "<tr><td>27</td></tr>",
                            "<tr><td>10</td></tr>",
                            "<tr><td>19</td></tr>",
                            "<tr><td>12</td></tr>",
                            "<tr><td>14</td></tr>",
                            "<tr><td>17</td></tr>",
                            "<tr><td>15</td></tr>",
                            "<tr><td>21</td></tr>",
                            "<tr><td>433</td></tr>",
                            "<tr><td>852</td></tr>",
                            "<tr><td>421</td></tr>",
                            "<tr><td>17</td></tr>",
                            "<tr><td>413</td></tr>",
                            "<tr><td>422</td></tr>",
                            "<tr><td>436</td></tr>",
                            "<tr><td>430</td></tr>",
                            "<tr><td>15</td></tr>",
                            "<tr><td>25</td></tr>",
                            "<tr><td>13</td></tr>",
                            "<tr><td>17</td></tr>",
                            "<tr><td>429</td></tr>",
                            "<tr><td>29</td></tr>",
                            "<tr><td>456</td></tr>",
                            "<tr><td>20</td></tr>",
                            "<tr><td>412</td></tr>",
                            "<tr><td>16</td></tr>",
                            "<tr><td>15</td></tr>",
                            "<tr><td>12</td></tr>",
                            "<tr><td>435</td></tr>",
                            "<tr><td>401</td></tr>",
                            "<tr><td>15</td></tr>",
                            "<tr><td>22</td></tr>",
                            "<tr><td>11</td></tr>",
                            "<tr><td>18</td></tr>",
                            "<tr><td>12</td></tr>",
                            "<tr><td>17</td></tr>",
                            "<tr><td>432</td></tr>",
                            "<tr><td>15</td></tr>",
                            "<tr><td>418</td></tr>",
                            "<tr><td>24</td></tr>",
                            "<tr><td>16</td></tr>",
                            "<tr><td>471</td></tr>",
                            "<tr><td>19</td></tr>",
                            "<tr><td>15</td></tr>",
                            "<tr><td>394</td></tr>",
                            "<tr><td>19</td></tr>",
                            "<tr><td>18</td></tr>",
                            "<tr><td>14</td></tr>",
                            "<tr><td>433</td></tr>",
                            "<tr><td>15</td></tr>",
                            "<tr><td>17</td></tr>",
                            "<tr><td>13</td></tr>",
                            "<tr><td>13</td></tr>",
                            "<tr><td>404</td></tr>",
                            "<tr><td>19</td></tr>",
                            "<tr><td>20</td></tr>",
                            "<tr><td>13</td></tr>",
                            "<tr><td>419</td></tr>",
                            "<tr><td>7</td></tr>",
                            "<tr><td>392</td></tr>",
                            "<tr><td>415</td></tr>",
                            "<tr><td>414</td></tr>",
                            "<tr><td>18</td></tr>",
                            "<tr><td>353</td></tr>",
                            "<tr><td>409</td></tr>",
                            "<tr><td>384</td></tr>",
                            "<tr><td>15</td></tr>",
                            "<tr><td>462</td></tr>",
                            "<tr><td>382</td></tr>",
                            "<tr><td>13</td></tr>",
                            "<tr><td>13</td></tr>",
                            "<tr><td>11</td></tr>",
                            "<tr><td>22</td></tr>",
                            "<tr><td>10</td></tr>",
                            "<tr><td>16</td></tr>",
                            "<tr><td>16</td></tr>",
                            "<tr><td>25</td></tr>",
                            "<tr><td>17</td></tr>",
                            "<tr><td>13</td></tr>",
                            "<tr><td>15</td></tr>",
                            "<tr><td>20</td></tr>",
                            "<tr><td>21</td></tr>",
                            "<tr><td>17</td></tr>",
                            "<tr><td>25</td></tr>",
                            "<tr><td>18</td></tr>",
                            "<tr><td>16</td></tr>",
                            "<tr><td>16</td></tr>",
                            "<tr><td>420</td></tr>",
                            "<tr><td>20</td></tr>",
                            "<tr><td>13</td></tr>",
                            "<tr><td>14</td></tr>",
                            "<tr><td>18</td></tr>",
                            "<tr><td>16</td></tr>",
                            "<tr><td>13</td></tr>",
                            "<tr><td>18</td></tr>",
                            "<tr><td>13</td></tr>",
                            "<tr><td>11</td></tr>",
                            "<tr><td>14</td></tr>",
                            "<tr><td>24</td></tr>",
                            "<tr><td>8</td></tr>",
                            "<tr><td>20</td></tr>",
                            "<tr><td>17</td></tr>",
                            "<tr><td>20</td></tr>",
                            "<tr><td>17</td></tr>",
                            "<tr><td>424</td></tr>",
                            "<tr><td>14</td></tr>",
                            "<tr><td>16</td></tr>",
                            "<tr><td>19</td></tr>",
                            "<tr><td>14</td></tr>",
                            "<tr><td>15</td></tr>",
                            "<tr><td>451</td></tr>",
                            "<tr><td>404</td></tr>",
                            "<tr><td>18</td></tr>",
                            "<tr><td>9</td></tr>",
                            "<tr><td>419</td></tr>",
                            "<tr><td>424</td></tr>",
                            "<tr><td>387</td></tr>",
                            "<tr><td>408</td></tr>",
                            "<tr><td>23</td></tr>",
                            "<tr><td>13</td></tr>",
                            "<tr><td>419</td></tr>",
                            "<tr><td>18</td></tr>",
                            "<tr><td>55</td></tr>",
                            "<tr><td>9</td></tr>",
                            "<tr><td>414</td></tr>",
                            "<tr><td>15</td></tr>",
                            "<tr><td>400</td></tr>",
                            "<tr><td>11</td></tr>",
                            "<tr><td>390</td></tr>",
                            "<tr><td>16</td></tr>",
                            "<tr><td>11</td></tr>",
                            "<tr><td>22</td></tr>",
                            "<tr><td>18</td></tr>",
                            "<tr><td>17</td></tr>",
                            "<tr><td>430</td></tr>",
                            "<tr><td>14</td></tr>",
                            "<tr><td>17</td></tr>",
                            "<tr><td>437</td></tr>",
                            "<tr><td>20</td></tr>",
                            "<tr><td>413</td></tr>",
                            "<tr><td>357</td></tr>",
                            "<tr><td>15</td></tr>",
                            "<tr><td>13</td></tr>",
                            "<tr><td>15</td></tr>",
                            "<tr><td>445</td></tr>",
                            "<tr><td>412</td></tr>",
                            "<tr><td>15</td></tr>",
                            "<tr><td>21</td></tr>",
                            "<tr><td>22</td></tr>",
                            "<tr><td>21</td></tr>",
                            "<tr><td>16</td></tr>",
                            "<tr><td>406</td></tr>",
                            "<tr><td>422</td></tr>",
                            "<tr><td>13</td></tr>",
                            "<tr><td>407</td></tr>",
                            "<tr><td>22</td></tr>",
                            "<tr><td>16</td></tr>",
                            "<tr><td>446</td></tr>",
                            "<tr><td>435</td></tr>",
                            "<tr><td>25</td></tr>",
                            "<tr><td>420</td></tr>",
                            "</table>"
                        ]
                    }
                }
            ],
            "execution_count": 15
        },
        {
            "cell_type": "code",
            "source": [
                ""
            ],
            "metadata": {
                "language": "sql",
                "azdata_cell_guid": "1aab2ccc-1b80-4d15-81c3-f2abca37aa74"
            },
            "outputs": [],
            "execution_count": null
        }
    ]
}