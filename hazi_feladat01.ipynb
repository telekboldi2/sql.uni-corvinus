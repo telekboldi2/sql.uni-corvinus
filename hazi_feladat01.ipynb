{
    "metadata": {
        "kernelspec": {
            "name": "SQL",
            "display_name": "SQL",
            "language": "sql"
        },
        "language_info": {
            "name": "sql",
            "version": ""
        }
    },
    "nbformat_minor": 2,
    "nbformat": 4,
    "cells": [
        {
            "cell_type": "code",
            "source": [
                "SELECT  Count(*) AS 'Vásárlók száma',\r\n",
                "        MIN(alLekerdezes) as 'Minimum',\r\n",
                "        MAX(alLekerdezes) as 'Maximum',\r\n",
                "        AVG(alLekerdezes) as 'Átlag',\r\n",
                "        STDEV(alLekerdezes) as 'Szórás'\r\n",
                "from (\r\n",
                "    Select LOGIN, Count(LOGIN) as alLekerdezes\r\n",
                "    from Rendeles\r\n",
                "    Group by [LOGIN]\r\n",
                ") AS alLekerdezes\r\n",
                "\r\n",
                ""
            ],
            "metadata": {
                "language": "sql",
                "azdata_cell_guid": "5216c0eb-b763-4c02-82fb-f90dfdcc9d09"
            },
            "outputs": [
                {
                    "output_type": "error",
                    "evalue": "Msg 8120, Level 16, State 1, Line 6\r\nColumn 'alLekerdezes.LOGIN' is invalid in the select list because it is not contained in either an aggregate function or the GROUP BY clause.",
                    "ename": "",
                    "traceback": []
                },
                {
                    "output_type": "display_data",
                    "data": {
                        "text/html": "Total execution time: 00:00:00.004"
                    },
                    "metadata": {}
                }
            ],
            "execution_count": 12
        },
        {
            "cell_type": "code",
            "source": [
                "select  MIN(LEN(LOGIN)) as 'Legrövidebb felhasználónév',\r\n",
                "        MAX(LEN(LOGIN)) as 'Leghosszabb felhasználónév',\r\n",
                "        AVG(LEN(LOGIN)) as 'Átlagos felhasz.név'\r\n",
                "from Rendeles\r\n",
                ""
            ],
            "metadata": {
                "azdata_cell_guid": "d0e69769-b20e-4a76-8ed8-c16b2cbb24d6",
                "language": "sql"
            },
            "outputs": [
                {
                    "output_type": "display_data",
                    "data": {
                        "text/html": "(1 row affected)"
                    },
                    "metadata": {}
                },
                {
                    "output_type": "display_data",
                    "data": {
                        "text/html": "Total execution time: 00:00:00.021"
                    },
                    "metadata": {}
                },
                {
                    "output_type": "execute_result",
                    "metadata": {},
                    "execution_count": 7,
                    "data": {
                        "application/vnd.dataresource+json": {
                            "schema": {
                                "fields": [
                                    {
                                        "name": "Legrövidebb felhasználónév"
                                    },
                                    {
                                        "name": "Leghosszabb felhasználónév"
                                    },
                                    {
                                        "name": "Átlagos felhasz.név"
                                    }
                                ]
                            },
                            "data": [
                                {
                                    "Legrövidebb felhasználónév": "3",
                                    "Leghosszabb felhasználónév": "11",
                                    "Átlagos felhasz.név": "6"
                                }
                            ]
                        },
                        "text/html": [
                            "<table>",
                            "<tr><th>Legrövidebb felhasználónév</th><th>Leghosszabb felhasználónév</th><th>Átlagos felhasz.név</th></tr>",
                            "<tr><td>3</td><td>11</td><td>6</td></tr>",
                            "</table>"
                        ]
                    }
                }
            ],
            "execution_count": 7
        },
        {
            "cell_type": "code",
            "source": [
                "SELECT Count(LOGIN)\r\n",
                "from Rendeles\r\n",
                "Group by [LOGIN]"
            ],
            "metadata": {
                "language": "sql",
                "azdata_cell_guid": "408e1383-7ecd-49cb-b8e4-fdfcc35a00bc"
            },
            "outputs": [
                {
                    "output_type": "display_data",
                    "data": {
                        "text/html": "(191 rows affected)"
                    },
                    "metadata": {}
                },
                {
                    "output_type": "display_data",
                    "data": {
                        "text/html": "Total execution time: 00:00:00.040"
                    },
                    "metadata": {}
                },
                {
                    "output_type": "execute_result",
                    "metadata": {
                        "azdata_chartOptions": {
                            "type": "bar",
                            "dataDirection": "horizontal",
                            "columnsAsLabels": true,
                            "labelFirstColumn": false,
                            "legendPosition": "none"
                        }
                    },
                    "execution_count": 15,
                    "data": {
                        "application/vnd.dataresource+json": {
                            "schema": {
                                "fields": [
                                    {
                                        "name": "(No column name)"
                                    }
                                ]
                            },
                            "data": [
                                {
                                    "(No column name)": "21"
                                },
                                {
                                    "(No column name)": "374"
                                },
                                {
                                    "(No column name)": "21"
                                },
                                {
                                    "(No column name)": "408"
                                },
                                {
                                    "(No column name)": "386"
                                },
                                {
                                    "(No column name)": "26"
                                },
                                {
                                    "(No column name)": "25"
                                },
                                {
                                    "(No column name)": "16"
                                },
                                {
                                    "(No column name)": "14"
                                },
                                {
                                    "(No column name)": "438"
                                },
                                {
                                    "(No column name)": "13"
                                },
                                {
                                    "(No column name)": "18"
                                },
                                {
                                    "(No column name)": "432"
                                },
                                {
                                    "(No column name)": "16"
                                },
                                {
                                    "(No column name)": "420"
                                },
                                {
                                    "(No column name)": "393"
                                },
                                {
                                    "(No column name)": "450"
                                },
                                {
                                    "(No column name)": "13"
                                },
                                {
                                    "(No column name)": "403"
                                },
                                {
                                    "(No column name)": "18"
                                },
                                {
                                    "(No column name)": "22"
                                },
                                {
                                    "(No column name)": "15"
                                },
                                {
                                    "(No column name)": "16"
                                },
                                {
                                    "(No column name)": "16"
                                },
                                {
                                    "(No column name)": "12"
                                },
                                {
                                    "(No column name)": "22"
                                },
                                {
                                    "(No column name)": "462"
                                },
                                {
                                    "(No column name)": "16"
                                },
                                {
                                    "(No column name)": "13"
                                },
                                {
                                    "(No column name)": "17"
                                },
                                {
                                    "(No column name)": "27"
                                },
                                {
                                    "(No column name)": "10"
                                },
                                {
                                    "(No column name)": "19"
                                },
                                {
                                    "(No column name)": "12"
                                },
                                {
                                    "(No column name)": "14"
                                },
                                {
                                    "(No column name)": "17"
                                },
                                {
                                    "(No column name)": "15"
                                },
                                {
                                    "(No column name)": "21"
                                },
                                {
                                    "(No column name)": "433"
                                },
                                {
                                    "(No column name)": "852"
                                },
                                {
                                    "(No column name)": "421"
                                },
                                {
                                    "(No column name)": "17"
                                },
                                {
                                    "(No column name)": "413"
                                },
                                {
                                    "(No column name)": "422"
                                },
                                {
                                    "(No column name)": "436"
                                },
                                {
                                    "(No column name)": "430"
                                },
                                {
                                    "(No column name)": "15"
                                },
                                {
                                    "(No column name)": "25"
                                },
                                {
                                    "(No column name)": "13"
                                },
                                {
                                    "(No column name)": "17"
                                },
                                {
                                    "(No column name)": "429"
                                },
                                {
                                    "(No column name)": "29"
                                },
                                {
                                    "(No column name)": "456"
                                },
                                {
                                    "(No column name)": "20"
                                },
                                {
                                    "(No column name)": "412"
                                },
                                {
                                    "(No column name)": "16"
                                },
                                {
                                    "(No column name)": "15"
                                },
                                {
                                    "(No column name)": "12"
                                },
                                {
                                    "(No column name)": "435"
                                },
                                {
                                    "(No column name)": "401"
                                },
                                {
                                    "(No column name)": "15"
                                },
                                {
                                    "(No column name)": "22"
                                },
                                {
                                    "(No column name)": "11"
                                },
                                {
                                    "(No column name)": "18"
                                },
                                {
                                    "(No column name)": "12"
                                },
                                {
                                    "(No column name)": "17"
                                },
                                {
                                    "(No column name)": "432"
                                },
                                {
                                    "(No column name)": "15"
                                },
                                {
                                    "(No column name)": "418"
                                },
                                {
                                    "(No column name)": "24"
                                },
                                {
                                    "(No column name)": "16"
                                },
                                {
                                    "(No column name)": "471"
                                },
                                {
                                    "(No column name)": "19"
                                },
                                {
                                    "(No column name)": "15"
                                },
                                {
                                    "(No column name)": "394"
                                },
                                {
                                    "(No column name)": "19"
                                },
                                {
                                    "(No column name)": "18"
                                },
                                {
                                    "(No column name)": "14"
                                },
                                {
                                    "(No column name)": "433"
                                },
                                {
                                    "(No column name)": "15"
                                },
                                {
                                    "(No column name)": "17"
                                },
                                {
                                    "(No column name)": "13"
                                },
                                {
                                    "(No column name)": "13"
                                },
                                {
                                    "(No column name)": "404"
                                },
                                {
                                    "(No column name)": "19"
                                },
                                {
                                    "(No column name)": "20"
                                },
                                {
                                    "(No column name)": "13"
                                },
                                {
                                    "(No column name)": "419"
                                },
                                {
                                    "(No column name)": "7"
                                },
                                {
                                    "(No column name)": "392"
                                },
                                {
                                    "(No column name)": "415"
                                },
                                {
                                    "(No column name)": "414"
                                },
                                {
                                    "(No column name)": "18"
                                },
                                {
                                    "(No column name)": "353"
                                },
                                {
                                    "(No column name)": "409"
                                },
                                {
                                    "(No column name)": "384"
                                },
                                {
                                    "(No column name)": "15"
                                },
                                {
                                    "(No column name)": "462"
                                },
                                {
                                    "(No column name)": "382"
                                },
                                {
                                    "(No column name)": "13"
                                },
                                {
                                    "(No column name)": "13"
                                },
                                {
                                    "(No column name)": "11"
                                },
                                {
                                    "(No column name)": "22"
                                },
                                {
                                    "(No column name)": "10"
                                },
                                {
                                    "(No column name)": "16"
                                },
                                {
                                    "(No column name)": "16"
                                },
                                {
                                    "(No column name)": "25"
                                },
                                {
                                    "(No column name)": "17"
                                },
                                {
                                    "(No column name)": "13"
                                },
                                {
                                    "(No column name)": "15"
                                },
                                {
                                    "(No column name)": "20"
                                },
                                {
                                    "(No column name)": "21"
                                },
                                {
                                    "(No column name)": "17"
                                },
                                {
                                    "(No column name)": "25"
                                },
                                {
                                    "(No column name)": "18"
                                },
                                {
                                    "(No column name)": "16"
                                },
                                {
                                    "(No column name)": "16"
                                },
                                {
                                    "(No column name)": "420"
                                },
                                {
                                    "(No column name)": "20"
                                },
                                {
                                    "(No column name)": "13"
                                },
                                {
                                    "(No column name)": "14"
                                },
                                {
                                    "(No column name)": "18"
                                },
                                {
                                    "(No column name)": "16"
                                },
                                {
                                    "(No column name)": "13"
                                },
                                {
                                    "(No column name)": "18"
                                },
                                {
                                    "(No column name)": "13"
                                },
                                {
                                    "(No column name)": "11"
                                },
                                {
                                    "(No column name)": "14"
                                },
                                {
                                    "(No column name)": "24"
                                },
                                {
                                    "(No column name)": "8"
                                },
                                {
                                    "(No column name)": "20"
                                },
                                {
                                    "(No column name)": "17"
                                },
                                {
                                    "(No column name)": "20"
                                },
                                {
                                    "(No column name)": "17"
                                },
                                {
                                    "(No column name)": "424"
                                },
                                {
                                    "(No column name)": "14"
                                },
                                {
                                    "(No column name)": "16"
                                },
                                {
                                    "(No column name)": "19"
                                },
                                {
                                    "(No column name)": "14"
                                },
                                {
                                    "(No column name)": "15"
                                },
                                {
                                    "(No column name)": "451"
                                },
                                {
                                    "(No column name)": "404"
                                },
                                {
                                    "(No column name)": "18"
                                },
                                {
                                    "(No column name)": "9"
                                },
                                {
                                    "(No column name)": "419"
                                },
                                {
                                    "(No column name)": "424"
                                },
                                {
                                    "(No column name)": "387"
                                },
                                {
                                    "(No column name)": "408"
                                },
                                {
                                    "(No column name)": "23"
                                },
                                {
                                    "(No column name)": "13"
                                },
                                {
                                    "(No column name)": "419"
                                },
                                {
                                    "(No column name)": "18"
                                },
                                {
                                    "(No column name)": "55"
                                },
                                {
                                    "(No column name)": "9"
                                },
                                {
                                    "(No column name)": "414"
                                },
                                {
                                    "(No column name)": "15"
                                },
                                {
                                    "(No column name)": "400"
                                },
                                {
                                    "(No column name)": "11"
                                },
                                {
                                    "(No column name)": "390"
                                },
                                {
                                    "(No column name)": "16"
                                },
                                {
                                    "(No column name)": "11"
                                },
                                {
                                    "(No column name)": "22"
                                },
                                {
                                    "(No column name)": "18"
                                },
                                {
                                    "(No column name)": "17"
                                },
                                {
                                    "(No column name)": "430"
                                },
                                {
                                    "(No column name)": "14"
                                },
                                {
                                    "(No column name)": "17"
                                },
                                {
                                    "(No column name)": "437"
                                },
                                {
                                    "(No column name)": "20"
                                },
                                {
                                    "(No column name)": "413"
                                },
                                {
                                    "(No column name)": "357"
                                },
                                {
                                    "(No column name)": "15"
                                },
                                {
                                    "(No column name)": "13"
                                },
                                {
                                    "(No column name)": "15"
                                },
                                {
                                    "(No column name)": "445"
                                },
                                {
                                    "(No column name)": "412"
                                },
                                {
                                    "(No column name)": "15"
                                },
                                {
                                    "(No column name)": "21"
                                },
                                {
                                    "(No column name)": "22"
                                },
                                {
                                    "(No column name)": "21"
                                },
                                {
                                    "(No column name)": "16"
                                },
                                {
                                    "(No column name)": "406"
                                },
                                {
                                    "(No column name)": "422"
                                },
                                {
                                    "(No column name)": "13"
                                },
                                {
                                    "(No column name)": "407"
                                },
                                {
                                    "(No column name)": "22"
                                },
                                {
                                    "(No column name)": "16"
                                },
                                {
                                    "(No column name)": "446"
                                },
                                {
                                    "(No column name)": "435"
                                },
                                {
                                    "(No column name)": "25"
                                },
                                {
                                    "(No column name)": "420"
                                }
                            ]
                        },
                        "text/html": [
                            "<table>",
                            "<tr><th>(No column name)</th></tr>",
                            "<tr><td>21</td></tr>",
                            "<tr><td>374</td></tr>",
                            "<tr><td>21</td></tr>",
                            "<tr><td>408</td></tr>",
                            "<tr><td>386</td></tr>",
                            "<tr><td>26</td></tr>",
                            "<tr><td>25</td></tr>",
                            "<tr><td>16</td></tr>",
                            "<tr><td>14</td></tr>",
                            "<tr><td>438</td></tr>",
                            "<tr><td>13</td></tr>",
                            "<tr><td>18</td></tr>",
                            "<tr><td>432</td></tr>",
                            "<tr><td>16</td></tr>",
                            "<tr><td>420</td></tr>",
                            "<tr><td>393</td></tr>",
                            "<tr><td>450</td></tr>",
                            "<tr><td>13</td></tr>",
                            "<tr><td>403</td></tr>",
                            "<tr><td>18</td></tr>",
                            "<tr><td>22</td></tr>",
                            "<tr><td>15</td></tr>",
                            "<tr><td>16</td></tr>",
                            "<tr><td>16</td></tr>",
                            "<tr><td>12</td></tr>",
                            "<tr><td>22</td></tr>",
                            "<tr><td>462</td></tr>",
                            "<tr><td>16</td></tr>",
                            "<tr><td>13</td></tr>",
                            "<tr><td>17</td></tr>",
                            "<tr><td>27</td></tr>",
                            "<tr><td>10</td></tr>",
                            "<tr><td>19</td></tr>",
                            "<tr><td>12</td></tr>",
                            "<tr><td>14</td></tr>",
                            "<tr><td>17</td></tr>",
                            "<tr><td>15</td></tr>",
                            "<tr><td>21</td></tr>",
                            "<tr><td>433</td></tr>",
                            "<tr><td>852</td></tr>",
                            "<tr><td>421</td></tr>",
                            "<tr><td>17</td></tr>",
                            "<tr><td>413</td></tr>",
                            "<tr><td>422</td></tr>",
                            "<tr><td>436</td></tr>",
                            "<tr><td>430</td></tr>",
                            "<tr><td>15</td></tr>",
                            "<tr><td>25</td></tr>",
                            "<tr><td>13</td></tr>",
                            "<tr><td>17</td></tr>",
                            "<tr><td>429</td></tr>",
                            "<tr><td>29</td></tr>",
                            "<tr><td>456</td></tr>",
                            "<tr><td>20</td></tr>",
                            "<tr><td>412</td></tr>",
                            "<tr><td>16</td></tr>",
                            "<tr><td>15</td></tr>",
                            "<tr><td>12</td></tr>",
                            "<tr><td>435</td></tr>",
                            "<tr><td>401</td></tr>",
                            "<tr><td>15</td></tr>",
                            "<tr><td>22</td></tr>",
                            "<tr><td>11</td></tr>",
                            "<tr><td>18</td></tr>",
                            "<tr><td>12</td></tr>",
                            "<tr><td>17</td></tr>",
                            "<tr><td>432</td></tr>",
                            "<tr><td>15</td></tr>",
                            "<tr><td>418</td></tr>",
                            "<tr><td>24</td></tr>",
                            "<tr><td>16</td></tr>",
                            "<tr><td>471</td></tr>",
                            "<tr><td>19</td></tr>",
                            "<tr><td>15</td></tr>",
                            "<tr><td>394</td></tr>",
                            "<tr><td>19</td></tr>",
                            "<tr><td>18</td></tr>",
                            "<tr><td>14</td></tr>",
                            "<tr><td>433</td></tr>",
                            "<tr><td>15</td></tr>",
                            "<tr><td>17</td></tr>",
                            "<tr><td>13</td></tr>",
                            "<tr><td>13</td></tr>",
                            "<tr><td>404</td></tr>",
                            "<tr><td>19</td></tr>",
                            "<tr><td>20</td></tr>",
                            "<tr><td>13</td></tr>",
                            "<tr><td>419</td></tr>",
                            "<tr><td>7</td></tr>",
                            "<tr><td>392</td></tr>",
                            "<tr><td>415</td></tr>",
                            "<tr><td>414</td></tr>",
                            "<tr><td>18</td></tr>",
                            "<tr><td>353</td></tr>",
                            "<tr><td>409</td></tr>",
                            "<tr><td>384</td></tr>",
                            "<tr><td>15</td></tr>",
                            "<tr><td>462</td></tr>",
                            "<tr><td>382</td></tr>",
                            "<tr><td>13</td></tr>",
                            "<tr><td>13</td></tr>",
                            "<tr><td>11</td></tr>",
                            "<tr><td>22</td></tr>",
                            "<tr><td>10</td></tr>",
                            "<tr><td>16</td></tr>",
                            "<tr><td>16</td></tr>",
                            "<tr><td>25</td></tr>",
                            "<tr><td>17</td></tr>",
                            "<tr><td>13</td></tr>",
                            "<tr><td>15</td></tr>",
                            "<tr><td>20</td></tr>",
                            "<tr><td>21</td></tr>",
                            "<tr><td>17</td></tr>",
                            "<tr><td>25</td></tr>",
                            "<tr><td>18</td></tr>",
                            "<tr><td>16</td></tr>",
                            "<tr><td>16</td></tr>",
                            "<tr><td>420</td></tr>",
                            "<tr><td>20</td></tr>",
                            "<tr><td>13</td></tr>",
                            "<tr><td>14</td></tr>",
                            "<tr><td>18</td></tr>",
                            "<tr><td>16</td></tr>",
                            "<tr><td>13</td></tr>",
                            "<tr><td>18</td></tr>",
                            "<tr><td>13</td></tr>",
                            "<tr><td>11</td></tr>",
                            "<tr><td>14</td></tr>",
                            "<tr><td>24</td></tr>",
                            "<tr><td>8</td></tr>",
                            "<tr><td>20</td></tr>",
                            "<tr><td>17</td></tr>",
                            "<tr><td>20</td></tr>",
                            "<tr><td>17</td></tr>",
                            "<tr><td>424</td></tr>",
                            "<tr><td>14</td></tr>",
                            "<tr><td>16</td></tr>",
                            "<tr><td>19</td></tr>",
                            "<tr><td>14</td></tr>",
                            "<tr><td>15</td></tr>",
                            "<tr><td>451</td></tr>",
                            "<tr><td>404</td></tr>",
                            "<tr><td>18</td></tr>",
                            "<tr><td>9</td></tr>",
                            "<tr><td>419</td></tr>",
                            "<tr><td>424</td></tr>",
                            "<tr><td>387</td></tr>",
                            "<tr><td>408</td></tr>",
                            "<tr><td>23</td></tr>",
                            "<tr><td>13</td></tr>",
                            "<tr><td>419</td></tr>",
                            "<tr><td>18</td></tr>",
                            "<tr><td>55</td></tr>",
                            "<tr><td>9</td></tr>",
                            "<tr><td>414</td></tr>",
                            "<tr><td>15</td></tr>",
                            "<tr><td>400</td></tr>",
                            "<tr><td>11</td></tr>",
                            "<tr><td>390</td></tr>",
                            "<tr><td>16</td></tr>",
                            "<tr><td>11</td></tr>",
                            "<tr><td>22</td></tr>",
                            "<tr><td>18</td></tr>",
                            "<tr><td>17</td></tr>",
                            "<tr><td>430</td></tr>",
                            "<tr><td>14</td></tr>",
                            "<tr><td>17</td></tr>",
                            "<tr><td>437</td></tr>",
                            "<tr><td>20</td></tr>",
                            "<tr><td>413</td></tr>",
                            "<tr><td>357</td></tr>",
                            "<tr><td>15</td></tr>",
                            "<tr><td>13</td></tr>",
                            "<tr><td>15</td></tr>",
                            "<tr><td>445</td></tr>",
                            "<tr><td>412</td></tr>",
                            "<tr><td>15</td></tr>",
                            "<tr><td>21</td></tr>",
                            "<tr><td>22</td></tr>",
                            "<tr><td>21</td></tr>",
                            "<tr><td>16</td></tr>",
                            "<tr><td>406</td></tr>",
                            "<tr><td>422</td></tr>",
                            "<tr><td>13</td></tr>",
                            "<tr><td>407</td></tr>",
                            "<tr><td>22</td></tr>",
                            "<tr><td>16</td></tr>",
                            "<tr><td>446</td></tr>",
                            "<tr><td>435</td></tr>",
                            "<tr><td>25</td></tr>",
                            "<tr><td>420</td></tr>",
                            "</table>"
                        ]
                    }
                }
            ],
            "execution_count": 15
        },
        {
            "cell_type": "code",
            "source": [
                "--Megnézem hogy az oszlopban van-e hibás vagy hiányos (nem kitültött vagy NULL) adat\r\n",
                "\r\n",
                "WITH SortTipusok AS (\r\n",
                "    SELECT 'NULL érték' AS sortípus\r\n",
                "    UNION ALL\r\n",
                "    SELECT 'Üres'\r\n",
                "    UNION ALL\r\n",
                "    SELECT 'Jó adat'\r\n",
                "),\r\n",
                "Eredmény AS (\r\n",
                "    SELECT CASE \r\n",
                "        WHEN [LOGIN] IS NULL THEN 'NULL érték'\r\n",
                "        WHEN LEN([LOGIN]) = 0 THEN 'Üres'\r\n",
                "        ELSE 'Jó adat' \r\n",
                "        END AS sortípus\r\n",
                "    FROM Rendeles\r\n",
                ")\r\n",
                "\r\n",
                "SELECT s.sortípus,\r\n",
                "       COUNT(e.sortípus) as Darab\r\n",
                "FROM SortTipusok s\r\n",
                "LEFT JOIN Eredmény e ON s.sortípus = e.sortípus\r\n",
                "GROUP BY s.sortípus"
            ],
            "metadata": {
                "language": "sql",
                "azdata_cell_guid": "1aab2ccc-1b80-4d15-81c3-f2abca37aa74"
            },
            "outputs": [
                {
                    "output_type": "display_data",
                    "data": {
                        "text/html": "(3 rows affected)"
                    },
                    "metadata": {}
                },
                {
                    "output_type": "display_data",
                    "data": {
                        "text/html": "Total execution time: 00:00:00.050"
                    },
                    "metadata": {}
                },
                {
                    "output_type": "execute_result",
                    "metadata": {},
                    "execution_count": 19,
                    "data": {
                        "application/vnd.dataresource+json": {
                            "schema": {
                                "fields": [
                                    {
                                        "name": "sortípus"
                                    },
                                    {
                                        "name": "Darab"
                                    }
                                ]
                            },
                            "data": [
                                {
                                    "sortípus": "NULL érték",
                                    "Darab": "0"
                                },
                                {
                                    "sortípus": "Üres",
                                    "Darab": "0"
                                },
                                {
                                    "sortípus": "Jó adat",
                                    "Darab": "28085"
                                }
                            ]
                        },
                        "text/html": [
                            "<table>",
                            "<tr><th>sortípus</th><th>Darab</th></tr>",
                            "<tr><td>NULL érték</td><td>0</td></tr>",
                            "<tr><td>Üres</td><td>0</td></tr>",
                            "<tr><td>Jó adat</td><td>28085</td></tr>",
                            "</table>"
                        ]
                    }
                }
            ],
            "execution_count": 19
        },
        {
            "cell_type": "code",
            "source": [
                "--leghosszabb és legrövidebb (nem null) szállítási cím\r\n",
                "select TOP 1 SZALL_CIM, LEN(SZALL_CIM) as 'Hossz'\r\n",
                "from Rendeles\r\n",
                "where SZALL_CIM Is not NULL\r\n",
                "order by LEN(SZALL_CIM) ASC\r\n",
                "\r\n",
                "select TOP 1 SZALL_CIM, LEN(SZALL_CIM) as 'Hossz'\r\n",
                "from Rendeles\r\n",
                "where SZALL_CIM Is not NULL\r\n",
                "order by LEN(SZALL_CIM) DESC\r\n",
                "\r\n",
                ""
            ],
            "metadata": {
                "azdata_cell_guid": "d5417970-e4f5-415e-85cb-d2a1cdd68268",
                "language": "sql",
                "tags": [
                    "hide_input"
                ]
            },
            "outputs": [
                {
                    "output_type": "display_data",
                    "data": {
                        "text/html": "(1 row affected)"
                    },
                    "metadata": {}
                },
                {
                    "output_type": "display_data",
                    "data": {
                        "text/html": "(1 row affected)"
                    },
                    "metadata": {}
                },
                {
                    "output_type": "display_data",
                    "data": {
                        "text/html": "Total execution time: 00:00:00.060"
                    },
                    "metadata": {}
                },
                {
                    "output_type": "execute_result",
                    "metadata": {},
                    "execution_count": 33,
                    "data": {
                        "application/vnd.dataresource+json": {
                            "schema": {
                                "fields": [
                                    {
                                        "name": "SZALL_CIM"
                                    },
                                    {
                                        "name": "Hossz"
                                    }
                                ]
                            },
                            "data": [
                                {
                                    "SZALL_CIM": "Vác, Fő u. 2.",
                                    "Hossz": "13"
                                }
                            ]
                        },
                        "text/html": [
                            "<table>",
                            "<tr><th>SZALL_CIM</th><th>Hossz</th></tr>",
                            "<tr><td>Vác, Fő u. 2.</td><td>13</td></tr>",
                            "</table>"
                        ]
                    }
                },
                {
                    "output_type": "execute_result",
                    "metadata": {},
                    "execution_count": 33,
                    "data": {
                        "application/vnd.dataresource+json": {
                            "schema": {
                                "fields": [
                                    {
                                        "name": "SZALL_CIM"
                                    },
                                    {
                                        "name": "Hossz"
                                    }
                                ]
                            },
                            "data": [
                                {
                                    "SZALL_CIM": "Törökszentmiklós, Kiss u. 32.",
                                    "Hossz": "29"
                                }
                            ]
                        },
                        "text/html": [
                            "<table>",
                            "<tr><th>SZALL_CIM</th><th>Hossz</th></tr>",
                            "<tr><td>Törökszentmiklós, Kiss u. 32.</td><td>29</td></tr>",
                            "</table>"
                        ]
                    }
                }
            ],
            "execution_count": 33
        },
        {
            "cell_type": "code",
            "source": [
                "--Városok ismétlődése ott ahol meg van adva a szállítási cím\r\n",
                "\r\n",
                "Select Városok, COUNT(*) as 'Darabszám'\r\n",
                "from (\r\n",
                "    Select LEFT(SZALL_CIM,CHARINDEX(',',SZALL_CIM)-1) as Városok\r\n",
                "    from Rendeles\r\n",
                "    where SZALL_CIM is not null\r\n",
                ") as Városok\r\n",
                "group by Városok\r\n",
                "order by Count(*) DESC\r\n",
                ""
            ],
            "metadata": {
                "language": "sql",
                "azdata_cell_guid": "88b2ea76-f9a0-4aab-a2c2-7757ee356c22",
                "tags": [
                    "hide_input"
                ]
            },
            "outputs": [
                {
                    "output_type": "display_data",
                    "data": {
                        "text/html": "(115 rows affected)"
                    },
                    "metadata": {}
                },
                {
                    "output_type": "display_data",
                    "data": {
                        "text/html": "Total execution time: 00:00:00.039"
                    },
                    "metadata": {}
                },
                {
                    "output_type": "execute_result",
                    "metadata": {},
                    "execution_count": 44,
                    "data": {
                        "application/vnd.dataresource+json": {
                            "schema": {
                                "fields": [
                                    {
                                        "name": "Városok"
                                    },
                                    {
                                        "name": "Darabszám"
                                    }
                                ]
                            },
                            "data": [
                                {
                                    "Városok": "Budapest",
                                    "Darabszám": "649"
                                },
                                {
                                    "Városok": "Győr",
                                    "Darabszám": "294"
                                },
                                {
                                    "Városok": "Jászkisér",
                                    "Darabszám": "266"
                                },
                                {
                                    "Városok": "Ruzsa",
                                    "Darabszám": "200"
                                },
                                {
                                    "Városok": "Törökszentmiklós",
                                    "Darabszám": "174"
                                },
                                {
                                    "Városok": "Tömörkény",
                                    "Darabszám": "125"
                                },
                                {
                                    "Városok": "Albertirsa",
                                    "Darabszám": "119"
                                },
                                {
                                    "Városok": "Besenyszög",
                                    "Darabszám": "118"
                                },
                                {
                                    "Városok": "Agárd",
                                    "Darabszám": "116"
                                },
                                {
                                    "Városok": "Gödöllő",
                                    "Darabszám": "115"
                                },
                                {
                                    "Városok": "Nyíregyháza",
                                    "Darabszám": "112"
                                },
                                {
                                    "Városok": "Cegléd",
                                    "Darabszám": "110"
                                },
                                {
                                    "Városok": "Csorvás",
                                    "Darabszám": "110"
                                },
                                {
                                    "Városok": "Kimle",
                                    "Darabszám": "108"
                                },
                                {
                                    "Városok": "Lébény",
                                    "Darabszám": "108"
                                },
                                {
                                    "Városok": "Zsadány",
                                    "Darabszám": "107"
                                },
                                {
                                    "Városok": "Répcelak",
                                    "Darabszám": "106"
                                },
                                {
                                    "Városok": "Nagyszénás",
                                    "Darabszám": "104"
                                },
                                {
                                    "Városok": "Bokod",
                                    "Darabszám": "103"
                                },
                                {
                                    "Városok": "Ozora",
                                    "Darabszám": "103"
                                },
                                {
                                    "Városok": "Kisújszállás",
                                    "Darabszám": "102"
                                },
                                {
                                    "Városok": "Szabadszállás",
                                    "Darabszám": "102"
                                },
                                {
                                    "Városok": "Előszállás",
                                    "Darabszám": "102"
                                },
                                {
                                    "Városok": "Szigetvár",
                                    "Darabszám": "101"
                                },
                                {
                                    "Városok": "Kistelek",
                                    "Darabszám": "101"
                                },
                                {
                                    "Városok": "Dédestapolcsány",
                                    "Darabszám": "100"
                                },
                                {
                                    "Városok": "Ráckeve",
                                    "Darabszám": "100"
                                },
                                {
                                    "Városok": "Balatongyörök",
                                    "Darabszám": "99"
                                },
                                {
                                    "Városok": "Tiszavasvári",
                                    "Darabszám": "98"
                                },
                                {
                                    "Városok": "Szeged",
                                    "Darabszám": "98"
                                },
                                {
                                    "Városok": "Veszprém",
                                    "Darabszám": "96"
                                },
                                {
                                    "Városok": "Balmazújváros",
                                    "Darabszám": "96"
                                },
                                {
                                    "Városok": "Lajosmizse",
                                    "Darabszám": "95"
                                },
                                {
                                    "Városok": "Csanádpalota",
                                    "Darabszám": "94"
                                },
                                {
                                    "Városok": "Pilisvörösvár",
                                    "Darabszám": "92"
                                },
                                {
                                    "Városok": "Bácsalmás",
                                    "Darabszám": "92"
                                },
                                {
                                    "Városok": "Tiszasüly",
                                    "Darabszám": "92"
                                },
                                {
                                    "Városok": "Nagykörű",
                                    "Darabszám": "91"
                                },
                                {
                                    "Városok": "Sellye",
                                    "Darabszám": "91"
                                },
                                {
                                    "Városok": "Cigánd",
                                    "Darabszám": "91"
                                },
                                {
                                    "Városok": "Báta",
                                    "Darabszám": "91"
                                },
                                {
                                    "Városok": "Magyarszék",
                                    "Darabszám": "90"
                                },
                                {
                                    "Városok": "Bököny",
                                    "Darabszám": "87"
                                },
                                {
                                    "Városok": "Szentendre",
                                    "Darabszám": "86"
                                },
                                {
                                    "Városok": "Békés",
                                    "Darabszám": "85"
                                },
                                {
                                    "Városok": "Martonvásár",
                                    "Darabszám": "84"
                                },
                                {
                                    "Városok": "Tiszaújváros",
                                    "Darabszám": "83"
                                },
                                {
                                    "Városok": "Fadd",
                                    "Darabszám": "83"
                                },
                                {
                                    "Városok": "Sülysáp",
                                    "Darabszám": "80"
                                },
                                {
                                    "Városok": "Újfehértó",
                                    "Darabszám": "73"
                                },
                                {
                                    "Városok": "Szekszárd",
                                    "Darabszám": "59"
                                },
                                {
                                    "Városok": "Sármellék",
                                    "Darabszám": "20"
                                },
                                {
                                    "Városok": "Kővágóörs",
                                    "Darabszám": "15"
                                },
                                {
                                    "Városok": "Vácszentlászló",
                                    "Darabszám": "10"
                                },
                                {
                                    "Városok": "Tokaj",
                                    "Darabszám": "9"
                                },
                                {
                                    "Városok": "Dabas",
                                    "Darabszám": "9"
                                },
                                {
                                    "Városok": "Egyek",
                                    "Darabszám": "9"
                                },
                                {
                                    "Városok": "Herceghalom",
                                    "Darabszám": "9"
                                },
                                {
                                    "Városok": "Tolna",
                                    "Darabszám": "9"
                                },
                                {
                                    "Városok": "Sarkad",
                                    "Darabszám": "8"
                                },
                                {
                                    "Városok": "Balotaszállás",
                                    "Darabszám": "8"
                                },
                                {
                                    "Városok": "Sándorfalva",
                                    "Darabszám": "8"
                                },
                                {
                                    "Városok": "Káptalantóti",
                                    "Darabszám": "8"
                                },
                                {
                                    "Városok": "Vésztő",
                                    "Darabszám": "7"
                                },
                                {
                                    "Városok": "Vác",
                                    "Darabszám": "7"
                                },
                                {
                                    "Városok": "Isaszeg",
                                    "Darabszám": "6"
                                },
                                {
                                    "Városok": "Vásárosnamény",
                                    "Darabszám": "6"
                                },
                                {
                                    "Városok": "Fonyód",
                                    "Darabszám": "6"
                                },
                                {
                                    "Városok": "Balatonboglár",
                                    "Darabszám": "5"
                                },
                                {
                                    "Városok": "Tatabánya",
                                    "Darabszám": "5"
                                },
                                {
                                    "Városok": "Görbeháza",
                                    "Darabszám": "5"
                                },
                                {
                                    "Városok": "Tótkomlós",
                                    "Darabszám": "5"
                                },
                                {
                                    "Városok": "Szászvár",
                                    "Darabszám": "5"
                                },
                                {
                                    "Városok": "Biharnagybajom",
                                    "Darabszám": "5"
                                },
                                {
                                    "Városok": "Dunaharaszti",
                                    "Darabszám": "5"
                                },
                                {
                                    "Városok": "Ötvöskónyi",
                                    "Darabszám": "5"
                                },
                                {
                                    "Városok": "Tiszakécske",
                                    "Darabszám": "5"
                                },
                                {
                                    "Városok": "Szentgotthárd",
                                    "Darabszám": "5"
                                },
                                {
                                    "Városok": "Göd",
                                    "Darabszám": "5"
                                },
                                {
                                    "Városok": "Szank",
                                    "Darabszám": "5"
                                },
                                {
                                    "Városok": "Örkény",
                                    "Darabszám": "5"
                                },
                                {
                                    "Városok": "Balatonlelle",
                                    "Darabszám": "5"
                                },
                                {
                                    "Városok": "Sárbogárd",
                                    "Darabszám": "4"
                                },
                                {
                                    "Városok": "Miskolc",
                                    "Darabszám": "4"
                                },
                                {
                                    "Városok": "Putnok",
                                    "Darabszám": "4"
                                },
                                {
                                    "Városok": "Hajdúszoboszló",
                                    "Darabszám": "4"
                                },
                                {
                                    "Városok": "Solt",
                                    "Darabszám": "4"
                                },
                                {
                                    "Városok": "Tokodaltáró",
                                    "Darabszám": "4"
                                },
                                {
                                    "Városok": "Edelény",
                                    "Darabszám": "4"
                                },
                                {
                                    "Városok": "Baja",
                                    "Darabszám": "4"
                                },
                                {
                                    "Városok": "Balatonalmádi",
                                    "Darabszám": "4"
                                },
                                {
                                    "Városok": "Táborfalva",
                                    "Darabszám": "3"
                                },
                                {
                                    "Városok": "Pusztamérges",
                                    "Darabszám": "3"
                                },
                                {
                                    "Városok": "Gönc",
                                    "Darabszám": "3"
                                },
                                {
                                    "Városok": "Sátoraljaújhely",
                                    "Darabszám": "3"
                                },
                                {
                                    "Városok": "Encs",
                                    "Darabszám": "3"
                                },
                                {
                                    "Városok": "Újkígyós",
                                    "Darabszám": "3"
                                },
                                {
                                    "Városok": "Cserkeszőlő",
                                    "Darabszám": "3"
                                },
                                {
                                    "Városok": "Balassagyarmat",
                                    "Darabszám": "3"
                                },
                                {
                                    "Városok": "Kisvárda",
                                    "Darabszám": "3"
                                },
                                {
                                    "Városok": "Bonyhád",
                                    "Darabszám": "3"
                                },
                                {
                                    "Városok": "Tihany",
                                    "Darabszám": "3"
                                },
                                {
                                    "Városok": "Eger",
                                    "Darabszám": "3"
                                },
                                {
                                    "Városok": "Mezőkeresztes",
                                    "Darabszám": "2"
                                },
                                {
                                    "Városok": "Kengyel",
                                    "Darabszám": "2"
                                },
                                {
                                    "Városok": "Nagykanizsa",
                                    "Darabszám": "2"
                                },
                                {
                                    "Városok": "Gyenesdiás",
                                    "Darabszám": "2"
                                },
                                {
                                    "Városok": "Abaújszántó",
                                    "Darabszám": "2"
                                },
                                {
                                    "Városok": "Makó",
                                    "Darabszám": "2"
                                },
                                {
                                    "Városok": "Szécsény",
                                    "Darabszám": "2"
                                },
                                {
                                    "Városok": "Szombathely",
                                    "Darabszám": "1"
                                },
                                {
                                    "Városok": "Rákóczifalva",
                                    "Darabszám": "1"
                                },
                                {
                                    "Városok": "Piliscsaba",
                                    "Darabszám": "1"
                                },
                                {
                                    "Városok": "Ásotthalom",
                                    "Darabszám": "1"
                                },
                                {
                                    "Városok": "Gárdony",
                                    "Darabszám": "1"
                                }
                            ]
                        },
                        "text/html": [
                            "<table>",
                            "<tr><th>Városok</th><th>Darabszám</th></tr>",
                            "<tr><td>Budapest</td><td>649</td></tr>",
                            "<tr><td>Győr</td><td>294</td></tr>",
                            "<tr><td>Jászkisér</td><td>266</td></tr>",
                            "<tr><td>Ruzsa</td><td>200</td></tr>",
                            "<tr><td>Törökszentmiklós</td><td>174</td></tr>",
                            "<tr><td>Tömörkény</td><td>125</td></tr>",
                            "<tr><td>Albertirsa</td><td>119</td></tr>",
                            "<tr><td>Besenyszög</td><td>118</td></tr>",
                            "<tr><td>Agárd</td><td>116</td></tr>",
                            "<tr><td>Gödöllő</td><td>115</td></tr>",
                            "<tr><td>Nyíregyháza</td><td>112</td></tr>",
                            "<tr><td>Cegléd</td><td>110</td></tr>",
                            "<tr><td>Csorvás</td><td>110</td></tr>",
                            "<tr><td>Kimle</td><td>108</td></tr>",
                            "<tr><td>Lébény</td><td>108</td></tr>",
                            "<tr><td>Zsadány</td><td>107</td></tr>",
                            "<tr><td>Répcelak</td><td>106</td></tr>",
                            "<tr><td>Nagyszénás</td><td>104</td></tr>",
                            "<tr><td>Bokod</td><td>103</td></tr>",
                            "<tr><td>Ozora</td><td>103</td></tr>",
                            "<tr><td>Kisújszállás</td><td>102</td></tr>",
                            "<tr><td>Szabadszállás</td><td>102</td></tr>",
                            "<tr><td>Előszállás</td><td>102</td></tr>",
                            "<tr><td>Szigetvár</td><td>101</td></tr>",
                            "<tr><td>Kistelek</td><td>101</td></tr>",
                            "<tr><td>Dédestapolcsány</td><td>100</td></tr>",
                            "<tr><td>Ráckeve</td><td>100</td></tr>",
                            "<tr><td>Balatongyörök</td><td>99</td></tr>",
                            "<tr><td>Tiszavasvári</td><td>98</td></tr>",
                            "<tr><td>Szeged</td><td>98</td></tr>",
                            "<tr><td>Veszprém</td><td>96</td></tr>",
                            "<tr><td>Balmazújváros</td><td>96</td></tr>",
                            "<tr><td>Lajosmizse</td><td>95</td></tr>",
                            "<tr><td>Csanádpalota</td><td>94</td></tr>",
                            "<tr><td>Pilisvörösvár</td><td>92</td></tr>",
                            "<tr><td>Bácsalmás</td><td>92</td></tr>",
                            "<tr><td>Tiszasüly</td><td>92</td></tr>",
                            "<tr><td>Nagykörű</td><td>91</td></tr>",
                            "<tr><td>Sellye</td><td>91</td></tr>",
                            "<tr><td>Cigánd</td><td>91</td></tr>",
                            "<tr><td>Báta</td><td>91</td></tr>",
                            "<tr><td>Magyarszék</td><td>90</td></tr>",
                            "<tr><td>Bököny</td><td>87</td></tr>",
                            "<tr><td>Szentendre</td><td>86</td></tr>",
                            "<tr><td>Békés</td><td>85</td></tr>",
                            "<tr><td>Martonvásár</td><td>84</td></tr>",
                            "<tr><td>Tiszaújváros</td><td>83</td></tr>",
                            "<tr><td>Fadd</td><td>83</td></tr>",
                            "<tr><td>Sülysáp</td><td>80</td></tr>",
                            "<tr><td>Újfehértó</td><td>73</td></tr>",
                            "<tr><td>Szekszárd</td><td>59</td></tr>",
                            "<tr><td>Sármellék</td><td>20</td></tr>",
                            "<tr><td>Kővágóörs</td><td>15</td></tr>",
                            "<tr><td>Vácszentlászló</td><td>10</td></tr>",
                            "<tr><td>Tokaj</td><td>9</td></tr>",
                            "<tr><td>Dabas</td><td>9</td></tr>",
                            "<tr><td>Egyek</td><td>9</td></tr>",
                            "<tr><td>Herceghalom</td><td>9</td></tr>",
                            "<tr><td>Tolna</td><td>9</td></tr>",
                            "<tr><td>Sarkad</td><td>8</td></tr>",
                            "<tr><td>Balotaszállás</td><td>8</td></tr>",
                            "<tr><td>Sándorfalva</td><td>8</td></tr>",
                            "<tr><td>Káptalantóti</td><td>8</td></tr>",
                            "<tr><td>Vésztő</td><td>7</td></tr>",
                            "<tr><td>Vác</td><td>7</td></tr>",
                            "<tr><td>Isaszeg</td><td>6</td></tr>",
                            "<tr><td>Vásárosnamény</td><td>6</td></tr>",
                            "<tr><td>Fonyód</td><td>6</td></tr>",
                            "<tr><td>Balatonboglár</td><td>5</td></tr>",
                            "<tr><td>Tatabánya</td><td>5</td></tr>",
                            "<tr><td>Görbeháza</td><td>5</td></tr>",
                            "<tr><td>Tótkomlós</td><td>5</td></tr>",
                            "<tr><td>Szászvár</td><td>5</td></tr>",
                            "<tr><td>Biharnagybajom</td><td>5</td></tr>",
                            "<tr><td>Dunaharaszti</td><td>5</td></tr>",
                            "<tr><td>Ötvöskónyi</td><td>5</td></tr>",
                            "<tr><td>Tiszakécske</td><td>5</td></tr>",
                            "<tr><td>Szentgotthárd</td><td>5</td></tr>",
                            "<tr><td>Göd</td><td>5</td></tr>",
                            "<tr><td>Szank</td><td>5</td></tr>",
                            "<tr><td>Örkény</td><td>5</td></tr>",
                            "<tr><td>Balatonlelle</td><td>5</td></tr>",
                            "<tr><td>Sárbogárd</td><td>4</td></tr>",
                            "<tr><td>Miskolc</td><td>4</td></tr>",
                            "<tr><td>Putnok</td><td>4</td></tr>",
                            "<tr><td>Hajdúszoboszló</td><td>4</td></tr>",
                            "<tr><td>Solt</td><td>4</td></tr>",
                            "<tr><td>Tokodaltáró</td><td>4</td></tr>",
                            "<tr><td>Edelény</td><td>4</td></tr>",
                            "<tr><td>Baja</td><td>4</td></tr>",
                            "<tr><td>Balatonalmádi</td><td>4</td></tr>",
                            "<tr><td>Táborfalva</td><td>3</td></tr>",
                            "<tr><td>Pusztamérges</td><td>3</td></tr>",
                            "<tr><td>Gönc</td><td>3</td></tr>",
                            "<tr><td>Sátoraljaújhely</td><td>3</td></tr>",
                            "<tr><td>Encs</td><td>3</td></tr>",
                            "<tr><td>Újkígyós</td><td>3</td></tr>",
                            "<tr><td>Cserkeszőlő</td><td>3</td></tr>",
                            "<tr><td>Balassagyarmat</td><td>3</td></tr>",
                            "<tr><td>Kisvárda</td><td>3</td></tr>",
                            "<tr><td>Bonyhád</td><td>3</td></tr>",
                            "<tr><td>Tihany</td><td>3</td></tr>",
                            "<tr><td>Eger</td><td>3</td></tr>",
                            "<tr><td>Mezőkeresztes</td><td>2</td></tr>",
                            "<tr><td>Kengyel</td><td>2</td></tr>",
                            "<tr><td>Nagykanizsa</td><td>2</td></tr>",
                            "<tr><td>Gyenesdiás</td><td>2</td></tr>",
                            "<tr><td>Abaújszántó</td><td>2</td></tr>",
                            "<tr><td>Makó</td><td>2</td></tr>",
                            "<tr><td>Szécsény</td><td>2</td></tr>",
                            "<tr><td>Szombathely</td><td>1</td></tr>",
                            "<tr><td>Rákóczifalva</td><td>1</td></tr>",
                            "<tr><td>Piliscsaba</td><td>1</td></tr>",
                            "<tr><td>Ásotthalom</td><td>1</td></tr>",
                            "<tr><td>Gárdony</td><td>1</td></tr>",
                            "</table>"
                        ]
                    }
                }
            ],
            "execution_count": 44
        },
        {
            "cell_type": "code",
            "source": [
                "Select  Count(*) - Count(SZALL_CIM) as 'NULL adat',\r\n",
                "        Count(SZALL_CIM) as 'Kitöltött adat',\r\n",
                "        100 * Count(SZALL_CIM) / (Count(*) - Count(SZALL_CIM)) as 'Százalékos arány' -- az adatok nagyjából 29%-a van kitöltve, a többi NULL\r\n",
                "from Rendeles"
            ],
            "metadata": {
                "language": "sql",
                "azdata_cell_guid": "912d16e3-0b80-4d2a-8977-f652e78d7e81"
            },
            "outputs": [
                {
                    "output_type": "display_data",
                    "data": {
                        "text/html": "Warning: Null value is eliminated by an aggregate or other SET operation."
                    },
                    "metadata": {}
                },
                {
                    "output_type": "display_data",
                    "data": {
                        "text/html": "(1 row affected)"
                    },
                    "metadata": {}
                },
                {
                    "output_type": "display_data",
                    "data": {
                        "text/html": "Total execution time: 00:00:00.035"
                    },
                    "metadata": {}
                },
                {
                    "output_type": "execute_result",
                    "metadata": {},
                    "execution_count": 50,
                    "data": {
                        "application/vnd.dataresource+json": {
                            "schema": {
                                "fields": [
                                    {
                                        "name": "NULL adat"
                                    },
                                    {
                                        "name": "Kitöltött adat"
                                    },
                                    {
                                        "name": "Százalékos arány"
                                    }
                                ]
                            },
                            "data": [
                                {
                                    "NULL adat": "21689",
                                    "Kitöltött adat": "6396",
                                    "Százalékos arány": "29"
                                }
                            ]
                        },
                        "text/html": [
                            "<table>",
                            "<tr><th>NULL adat</th><th>Kitöltött adat</th><th>Százalékos arány</th></tr>",
                            "<tr><td>21689</td><td>6396</td><td>29</td></tr>",
                            "</table>"
                        ]
                    }
                }
            ],
            "execution_count": 50
        },
        {
            "cell_type": "code",
            "source": [
                "Select  Count(*) - Count(SZALL_CIM) as 'NULL adat',\r\n",
                "        Count(SZALL_CIM) as 'Kitöltött adat'\r\n",
                "from Rendeles"
            ],
            "metadata": {
                "language": "sql",
                "azdata_cell_guid": "a9f32bf2-426e-4627-a1af-c91643b149a8"
            },
            "outputs": [
                {
                    "output_type": "display_data",
                    "data": {
                        "text/html": "Warning: Null value is eliminated by an aggregate or other SET operation."
                    },
                    "metadata": {}
                },
                {
                    "output_type": "display_data",
                    "data": {
                        "text/html": "(1 row affected)"
                    },
                    "metadata": {}
                },
                {
                    "output_type": "display_data",
                    "data": {
                        "text/html": "Total execution time: 00:00:00.021"
                    },
                    "metadata": {}
                },
                {
                    "output_type": "execute_result",
                    "metadata": {
                        "azdata_chartOptions": {
                            "type": "pie",
                            "dataDirection": "horizontal",
                            "columnsAsLabels": true,
                            "labelFirstColumn": false,
                            "legendPosition": "top"
                        }
                    },
                    "execution_count": 51,
                    "data": {
                        "application/vnd.dataresource+json": {
                            "schema": {
                                "fields": [
                                    {
                                        "name": "NULL adat"
                                    },
                                    {
                                        "name": "Kitöltött adat"
                                    }
                                ]
                            },
                            "data": [
                                {
                                    "NULL adat": "21689",
                                    "Kitöltött adat": "6396"
                                }
                            ]
                        },
                        "text/html": [
                            "<table>",
                            "<tr><th>NULL adat</th><th>Kitöltött adat</th></tr>",
                            "<tr><td>21689</td><td>6396</td></tr>",
                            "</table>"
                        ]
                    }
                }
            ],
            "execution_count": 51
        }
    ]
}