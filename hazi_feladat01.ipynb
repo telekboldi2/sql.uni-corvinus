{
    "metadata": {
        "kernelspec": {
            "name": "SQL",
            "display_name": "SQL",
            "language": "sql"
        },
        "language_info": {
            "name": "sql",
            "version": ""
        }
    },
    "nbformat_minor": 2,
    "nbformat": 4,
    "cells": [
        {
            "cell_type": "code",
            "source": [
                "SELECT  Count(*) AS 'Vásárlók száma',\r\n",
                "        MIN(alLekerdezes) as 'Minimum',\r\n",
                "        MAX(alLekerdezes) as 'Maximum',\r\n",
                "        AVG(alLekerdezes) as 'Átlag',\r\n",
                "        STDEV(alLekerdezes) as 'Szórás'\r\n",
                "from (\r\n",
                "    Select LOGIN, Count(LOGIN) as alLekerdezes\r\n",
                "    from Rendeles\r\n",
                "    Group by [LOGIN]\r\n",
                ") AS alLekerdezes\r\n",
                "\r\n",
                ""
            ],
            "metadata": {
                "language": "sql",
                "azdata_cell_guid": "5216c0eb-b763-4c02-82fb-f90dfdcc9d09"
            },
            "outputs": [
                {
                    "output_type": "display_data",
                    "data": {
                        "text/html": "(1 row affected)"
                    },
                    "metadata": {}
                },
                {
                    "output_type": "display_data",
                    "data": {
                        "text/html": "Total execution time: 00:00:00.041"
                    },
                    "metadata": {}
                },
                {
                    "output_type": "execute_result",
                    "metadata": {},
                    "execution_count": 40,
                    "data": {
                        "application/vnd.dataresource+json": {
                            "schema": {
                                "fields": [
                                    {
                                        "name": "Adatok száma"
                                    },
                                    {
                                        "name": "Minimum"
                                    },
                                    {
                                        "name": "Maximum"
                                    },
                                    {
                                        "name": "Átlag"
                                    },
                                    {
                                        "name": "Szórás"
                                    }
                                ]
                            },
                            "data": [
                                {
                                    "Adatok száma": "191",
                                    "Minimum": "7",
                                    "Maximum": "852",
                                    "Átlag": "147",
                                    "Szórás": "193,43688845557907"
                                }
                            ]
                        },
                        "text/html": [
                            "<table>",
                            "<tr><th>Adatok száma</th><th>Minimum</th><th>Maximum</th><th>Átlag</th><th>Szórás</th></tr>",
                            "<tr><td>191</td><td>7</td><td>852</td><td>147</td><td>193,43688845557907</td></tr>",
                            "</table>"
                        ]
                    }
                }
            ],
            "execution_count": 40
        },
        {
            "cell_type": "code",
            "source": [
                "select MIN(Length(LOGIN))\r\n",
                "from Rendeles\r\n",
                ""
            ],
            "metadata": {
                "azdata_cell_guid": "d0e69769-b20e-4a76-8ed8-c16b2cbb24d6",
                "language": "sql"
            },
            "outputs": [],
            "execution_count": null
        }
    ]
}