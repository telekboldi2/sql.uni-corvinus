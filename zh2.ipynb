{
    "metadata": {
        "kernelspec": {
            "name": "SQL",
            "display_name": "SQL",
            "language": "sql"
        },
        "language_info": {
            "name": "sql",
            "version": ""
        }
    },
    "nbformat_minor": 2,
    "nbformat": 4,
    "cells": [
        {
            "cell_type": "markdown",
            "source": [
                "Készítsen lekérdezést, amely megjeleníti, hogy szobánként (SZOBA\\_FK) hány olyan foglalás történt, ahol a felnőttek száma nagyobb volt a gyermekek számánál!\n",
                "\n",
                "a. A lekérdezés jelenítse meg a végösszeget is megfelelően jelölve!"
            ],
            "metadata": {
                "language": "sql",
                "azdata_cell_guid": "7a48fedd-c7e8-4c9d-9666-cab47ad3ee1b"
            },
            "attachments": {}
        },
        {
            "cell_type": "code",
            "source": [
                "select  IIF(szoba_fk is null, 'Összesen', cast(szoba_fk as nvarchar(8))) as 'Szobaszám:',\r\n",
                "        count(*) as 'Foglalások száma:'\r\n",
                "from Foglalas\r\n",
                "where FELNOTT_SZAM>GYERMEK_SZAM\r\n",
                "group by rollup(szoba_fk)"
            ],
            "metadata": {
                "azdata_cell_guid": "967f06fd-f54e-4b51-99f2-52e9bd6b65a5",
                "language": "sql"
            },
            "outputs": [
{
    "output_type": "display_data",
    "data": {
        "text/html": "(190 rows affected)"
    },
    "metadata": {}
}, {
    "output_type": "display_data",
    "data": {
        "text/html": "Total execution time: 00:00:00.006"
    },
    "metadata": {}
}, {
    "output_type": "execute_result",
    "metadata": {},
    "execution_count": 28,
    "data": {
        "application/vnd.dataresource+json": {
            "schema": {
                "fields": [
                    {
                        "name": "Szobaszám:"
                    },
                    {
                        "name": "Foglalások száma:"
                    }
                ]
            },
            "data": [
                {
                    "Szobaszám:": "1",
                    "Foglalások száma:": "7"
                },
                {
                    "Szobaszám:": "2",
                    "Foglalások száma:": "2"
                },
                {
                    "Szobaszám:": "3",
                    "Foglalások száma:": "3"
                },
                {
                    "Szobaszám:": "4",
                    "Foglalások száma:": "5"
                },
                {
                    "Szobaszám:": "5",
                    "Foglalások száma:": "2"
                },
                {
                    "Szobaszám:": "6",
                    "Foglalások száma:": "5"
                },
                {
                    "Szobaszám:": "7",
                    "Foglalások száma:": "6"
                },
                {
                    "Szobaszám:": "8",
                    "Foglalások száma:": "5"
                },
                {
                    "Szobaszám:": "9",
                    "Foglalások száma:": "4"
                },
                {
                    "Szobaszám:": "10",
                    "Foglalások száma:": "4"
                },
                {
                    "Szobaszám:": "11",
                    "Foglalások száma:": "4"
                },
                {
                    "Szobaszám:": "12",
                    "Foglalások száma:": "7"
                },
                {
                    "Szobaszám:": "13",
                    "Foglalások száma:": "4"
                },
                {
                    "Szobaszám:": "14",
                    "Foglalások száma:": "3"
                },
                {
                    "Szobaszám:": "15",
                    "Foglalások száma:": "4"
                },
                {
                    "Szobaszám:": "16",
                    "Foglalások száma:": "1"
                },
                {
                    "Szobaszám:": "17",
                    "Foglalások száma:": "2"
                },
                {
                    "Szobaszám:": "18",
                    "Foglalások száma:": "3"
                },
                {
                    "Szobaszám:": "19",
                    "Foglalások száma:": "4"
                },
                {
                    "Szobaszám:": "20",
                    "Foglalások száma:": "5"
                },
                {
                    "Szobaszám:": "21",
                    "Foglalások száma:": "1"
                },
                {
                    "Szobaszám:": "22",
                    "Foglalások száma:": "2"
                },
                {
                    "Szobaszám:": "23",
                    "Foglalások száma:": "3"
                },
                {
                    "Szobaszám:": "24",
                    "Foglalások száma:": "3"
                },
                {
                    "Szobaszám:": "25",
                    "Foglalások száma:": "1"
                },
                {
                    "Szobaszám:": "27",
                    "Foglalások száma:": "5"
                },
                {
                    "Szobaszám:": "28",
                    "Foglalások száma:": "5"
                },
                {
                    "Szobaszám:": "29",
                    "Foglalások száma:": "3"
                },
                {
                    "Szobaszám:": "30",
                    "Foglalások száma:": "2"
                },
                {
                    "Szobaszám:": "31",
                    "Foglalások száma:": "1"
                },
                {
                    "Szobaszám:": "32",
                    "Foglalások száma:": "1"
                },
                {
                    "Szobaszám:": "33",
                    "Foglalások száma:": "3"
                },
                {
                    "Szobaszám:": "34",
                    "Foglalások száma:": "3"
                },
                {
                    "Szobaszám:": "35",
                    "Foglalások száma:": "6"
                },
                {
                    "Szobaszám:": "36",
                    "Foglalások száma:": "4"
                },
                {
                    "Szobaszám:": "37",
                    "Foglalások száma:": "2"
                },
                {
                    "Szobaszám:": "38",
                    "Foglalások száma:": "5"
                },
                {
                    "Szobaszám:": "39",
                    "Foglalások száma:": "4"
                },
                {
                    "Szobaszám:": "40",
                    "Foglalások száma:": "3"
                },
                {
                    "Szobaszám:": "41",
                    "Foglalások száma:": "1"
                },
                {
                    "Szobaszám:": "42",
                    "Foglalások száma:": "5"
                },
                {
                    "Szobaszám:": "43",
                    "Foglalások száma:": "4"
                },
                {
                    "Szobaszám:": "44",
                    "Foglalások száma:": "6"
                },
                {
                    "Szobaszám:": "45",
                    "Foglalások száma:": "4"
                },
                {
                    "Szobaszám:": "46",
                    "Foglalások száma:": "3"
                },
                {
                    "Szobaszám:": "47",
                    "Foglalások száma:": "2"
                },
                {
                    "Szobaszám:": "48",
                    "Foglalások száma:": "6"
                },
                {
                    "Szobaszám:": "49",
                    "Foglalások száma:": "5"
                },
                {
                    "Szobaszám:": "50",
                    "Foglalások száma:": "3"
                },
                {
                    "Szobaszám:": "51",
                    "Foglalások száma:": "3"
                },
                {
                    "Szobaszám:": "52",
                    "Foglalások száma:": "5"
                },
                {
                    "Szobaszám:": "54",
                    "Foglalások száma:": "4"
                },
                {
                    "Szobaszám:": "55",
                    "Foglalások száma:": "3"
                },
                {
                    "Szobaszám:": "56",
                    "Foglalások száma:": "1"
                },
                {
                    "Szobaszám:": "57",
                    "Foglalások száma:": "3"
                },
                {
                    "Szobaszám:": "58",
                    "Foglalások száma:": "8"
                },
                {
                    "Szobaszám:": "59",
                    "Foglalások száma:": "4"
                },
                {
                    "Szobaszám:": "60",
                    "Foglalások száma:": "1"
                },
                {
                    "Szobaszám:": "61",
                    "Foglalások száma:": "4"
                },
                {
                    "Szobaszám:": "62",
                    "Foglalások száma:": "3"
                },
                {
                    "Szobaszám:": "63",
                    "Foglalások száma:": "3"
                },
                {
                    "Szobaszám:": "64",
                    "Foglalások száma:": "5"
                },
                {
                    "Szobaszám:": "66",
                    "Foglalások száma:": "3"
                },
                {
                    "Szobaszám:": "67",
                    "Foglalások száma:": "2"
                },
                {
                    "Szobaszám:": "69",
                    "Foglalások száma:": "2"
                },
                {
                    "Szobaszám:": "70",
                    "Foglalások száma:": "8"
                },
                {
                    "Szobaszám:": "71",
                    "Foglalások száma:": "2"
                },
                {
                    "Szobaszám:": "72",
                    "Foglalások száma:": "2"
                },
                {
                    "Szobaszám:": "73",
                    "Foglalások száma:": "4"
                },
                {
                    "Szobaszám:": "74",
                    "Foglalások száma:": "8"
                },
                {
                    "Szobaszám:": "75",
                    "Foglalások száma:": "2"
                },
                {
                    "Szobaszám:": "76",
                    "Foglalások száma:": "2"
                },
                {
                    "Szobaszám:": "77",
                    "Foglalások száma:": "3"
                },
                {
                    "Szobaszám:": "78",
                    "Foglalások száma:": "3"
                },
                {
                    "Szobaszám:": "79",
                    "Foglalások száma:": "4"
                },
                {
                    "Szobaszám:": "80",
                    "Foglalások száma:": "5"
                },
                {
                    "Szobaszám:": "81",
                    "Foglalások száma:": "3"
                },
                {
                    "Szobaszám:": "82",
                    "Foglalások száma:": "5"
                },
                {
                    "Szobaszám:": "83",
                    "Foglalások száma:": "5"
                },
                {
                    "Szobaszám:": "84",
                    "Foglalások száma:": "3"
                },
                {
                    "Szobaszám:": "85",
                    "Foglalások száma:": "2"
                },
                {
                    "Szobaszám:": "86",
                    "Foglalások száma:": "4"
                },
                {
                    "Szobaszám:": "87",
                    "Foglalások száma:": "5"
                },
                {
                    "Szobaszám:": "88",
                    "Foglalások száma:": "5"
                },
                {
                    "Szobaszám:": "89",
                    "Foglalások száma:": "8"
                },
                {
                    "Szobaszám:": "90",
                    "Foglalások száma:": "3"
                },
                {
                    "Szobaszám:": "91",
                    "Foglalások száma:": "2"
                },
                {
                    "Szobaszám:": "92",
                    "Foglalások száma:": "5"
                },
                {
                    "Szobaszám:": "93",
                    "Foglalások száma:": "3"
                },
                {
                    "Szobaszám:": "94",
                    "Foglalások száma:": "6"
                },
                {
                    "Szobaszám:": "95",
                    "Foglalások száma:": "3"
                },
                {
                    "Szobaszám:": "96",
                    "Foglalások száma:": "6"
                },
                {
                    "Szobaszám:": "97",
                    "Foglalások száma:": "5"
                },
                {
                    "Szobaszám:": "98",
                    "Foglalások száma:": "4"
                },
                {
                    "Szobaszám:": "99",
                    "Foglalások száma:": "4"
                },
                {
                    "Szobaszám:": "100",
                    "Foglalások száma:": "2"
                },
                {
                    "Szobaszám:": "101",
                    "Foglalások száma:": "1"
                },
                {
                    "Szobaszám:": "102",
                    "Foglalások száma:": "1"
                },
                {
                    "Szobaszám:": "103",
                    "Foglalások száma:": "1"
                },
                {
                    "Szobaszám:": "104",
                    "Foglalások száma:": "3"
                },
                {
                    "Szobaszám:": "106",
                    "Foglalások száma:": "4"
                },
                {
                    "Szobaszám:": "107",
                    "Foglalások száma:": "4"
                },
                {
                    "Szobaszám:": "108",
                    "Foglalások száma:": "1"
                },
                {
                    "Szobaszám:": "109",
                    "Foglalások száma:": "2"
                },
                {
                    "Szobaszám:": "110",
                    "Foglalások száma:": "5"
                },
                {
                    "Szobaszám:": "111",
                    "Foglalások száma:": "1"
                },
                {
                    "Szobaszám:": "112",
                    "Foglalások száma:": "4"
                },
                {
                    "Szobaszám:": "113",
                    "Foglalások száma:": "2"
                },
                {
                    "Szobaszám:": "114",
                    "Foglalások száma:": "1"
                },
                {
                    "Szobaszám:": "115",
                    "Foglalások száma:": "5"
                },
                {
                    "Szobaszám:": "117",
                    "Foglalások száma:": "4"
                },
                {
                    "Szobaszám:": "118",
                    "Foglalások száma:": "2"
                },
                {
                    "Szobaszám:": "119",
                    "Foglalások száma:": "4"
                },
                {
                    "Szobaszám:": "120",
                    "Foglalások száma:": "2"
                },
                {
                    "Szobaszám:": "121",
                    "Foglalások száma:": "5"
                },
                {
                    "Szobaszám:": "122",
                    "Foglalások száma:": "3"
                },
                {
                    "Szobaszám:": "123",
                    "Foglalások száma:": "5"
                },
                {
                    "Szobaszám:": "124",
                    "Foglalások száma:": "4"
                },
                {
                    "Szobaszám:": "126",
                    "Foglalások száma:": "4"
                },
                {
                    "Szobaszám:": "127",
                    "Foglalások száma:": "5"
                },
                {
                    "Szobaszám:": "129",
                    "Foglalások száma:": "3"
                },
                {
                    "Szobaszám:": "130",
                    "Foglalások száma:": "5"
                },
                {
                    "Szobaszám:": "131",
                    "Foglalások száma:": "4"
                },
                {
                    "Szobaszám:": "132",
                    "Foglalások száma:": "4"
                },
                {
                    "Szobaszám:": "133",
                    "Foglalások száma:": "4"
                },
                {
                    "Szobaszám:": "134",
                    "Foglalások száma:": "4"
                },
                {
                    "Szobaszám:": "135",
                    "Foglalások száma:": "3"
                },
                {
                    "Szobaszám:": "136",
                    "Foglalások száma:": "2"
                },
                {
                    "Szobaszám:": "137",
                    "Foglalások száma:": "2"
                },
                {
                    "Szobaszám:": "138",
                    "Foglalások száma:": "5"
                },
                {
                    "Szobaszám:": "139",
                    "Foglalások száma:": "6"
                },
                {
                    "Szobaszám:": "140",
                    "Foglalások száma:": "5"
                },
                {
                    "Szobaszám:": "141",
                    "Foglalások száma:": "4"
                },
                {
                    "Szobaszám:": "142",
                    "Foglalások száma:": "1"
                },
                {
                    "Szobaszám:": "143",
                    "Foglalások száma:": "5"
                },
                {
                    "Szobaszám:": "144",
                    "Foglalások száma:": "2"
                },
                {
                    "Szobaszám:": "145",
                    "Foglalások száma:": "2"
                },
                {
                    "Szobaszám:": "146",
                    "Foglalások száma:": "3"
                },
                {
                    "Szobaszám:": "147",
                    "Foglalások száma:": "1"
                },
                {
                    "Szobaszám:": "148",
                    "Foglalások száma:": "5"
                },
                {
                    "Szobaszám:": "149",
                    "Foglalások száma:": "5"
                },
                {
                    "Szobaszám:": "150",
                    "Foglalások száma:": "6"
                },
                {
                    "Szobaszám:": "151",
                    "Foglalások száma:": "2"
                },
                {
                    "Szobaszám:": "152",
                    "Foglalások száma:": "3"
                },
                {
                    "Szobaszám:": "153",
                    "Foglalások száma:": "4"
                },
                {
                    "Szobaszám:": "154",
                    "Foglalások száma:": "3"
                },
                {
                    "Szobaszám:": "155",
                    "Foglalások száma:": "3"
                },
                {
                    "Szobaszám:": "156",
                    "Foglalások száma:": "2"
                },
                {
                    "Szobaszám:": "157",
                    "Foglalások száma:": "2"
                },
                {
                    "Szobaszám:": "158",
                    "Foglalások száma:": "3"
                },
                {
                    "Szobaszám:": "160",
                    "Foglalások száma:": "2"
                },
                {
                    "Szobaszám:": "161",
                    "Foglalások száma:": "3"
                },
                {
                    "Szobaszám:": "162",
                    "Foglalások száma:": "2"
                },
                {
                    "Szobaszám:": "163",
                    "Foglalások száma:": "5"
                },
                {
                    "Szobaszám:": "164",
                    "Foglalások száma:": "4"
                },
                {
                    "Szobaszám:": "165",
                    "Foglalások száma:": "5"
                },
                {
                    "Szobaszám:": "166",
                    "Foglalások száma:": "3"
                },
                {
                    "Szobaszám:": "167",
                    "Foglalások száma:": "2"
                },
                {
                    "Szobaszám:": "168",
                    "Foglalások száma:": "1"
                },
                {
                    "Szobaszám:": "169",
                    "Foglalások száma:": "3"
                },
                {
                    "Szobaszám:": "170",
                    "Foglalások száma:": "3"
                },
                {
                    "Szobaszám:": "171",
                    "Foglalások száma:": "5"
                },
                {
                    "Szobaszám:": "172",
                    "Foglalások száma:": "6"
                },
                {
                    "Szobaszám:": "173",
                    "Foglalások száma:": "3"
                },
                {
                    "Szobaszám:": "174",
                    "Foglalások száma:": "4"
                },
                {
                    "Szobaszám:": "175",
                    "Foglalások száma:": "3"
                },
                {
                    "Szobaszám:": "176",
                    "Foglalások száma:": "2"
                },
                {
                    "Szobaszám:": "177",
                    "Foglalások száma:": "1"
                },
                {
                    "Szobaszám:": "178",
                    "Foglalások száma:": "1"
                },
                {
                    "Szobaszám:": "179",
                    "Foglalások száma:": "2"
                },
                {
                    "Szobaszám:": "180",
                    "Foglalások száma:": "1"
                },
                {
                    "Szobaszám:": "181",
                    "Foglalások száma:": "5"
                },
                {
                    "Szobaszám:": "182",
                    "Foglalások száma:": "11"
                },
                {
                    "Szobaszám:": "183",
                    "Foglalások száma:": "3"
                },
                {
                    "Szobaszám:": "184",
                    "Foglalások száma:": "4"
                },
                {
                    "Szobaszám:": "185",
                    "Foglalások száma:": "10"
                },
                {
                    "Szobaszám:": "186",
                    "Foglalások száma:": "1"
                },
                {
                    "Szobaszám:": "187",
                    "Foglalások száma:": "6"
                },
                {
                    "Szobaszám:": "188",
                    "Foglalások száma:": "2"
                },
                {
                    "Szobaszám:": "189",
                    "Foglalások száma:": "1"
                },
                {
                    "Szobaszám:": "190",
                    "Foglalások száma:": "5"
                },
                {
                    "Szobaszám:": "191",
                    "Foglalások száma:": "3"
                },
                {
                    "Szobaszám:": "192",
                    "Foglalások száma:": "1"
                },
                {
                    "Szobaszám:": "193",
                    "Foglalások száma:": "2"
                },
                {
                    "Szobaszám:": "194",
                    "Foglalások száma:": "1"
                },
                {
                    "Szobaszám:": "195",
                    "Foglalások száma:": "5"
                },
                {
                    "Szobaszám:": "196",
                    "Foglalások száma:": "2"
                },
                {
                    "Szobaszám:": "197",
                    "Foglalások száma:": "6"
                },
                {
                    "Szobaszám:": "198",
                    "Foglalások száma:": "7"
                },
                {
                    "Szobaszám:": "Összesen",
                    "Foglalások száma:": "668"
                }
            ]
        },
        "text/html": [
            "<table>",
            "<tr><th>Szobaszám:</th><th>Foglalások száma:</th></tr>",
            "<tr><td>1</td><td>7</td></tr>",
            "<tr><td>2</td><td>2</td></tr>",
            "<tr><td>3</td><td>3</td></tr>",
            "<tr><td>4</td><td>5</td></tr>",
            "<tr><td>5</td><td>2</td></tr>",
            "<tr><td>6</td><td>5</td></tr>",
            "<tr><td>7</td><td>6</td></tr>",
            "<tr><td>8</td><td>5</td></tr>",
            "<tr><td>9</td><td>4</td></tr>",
            "<tr><td>10</td><td>4</td></tr>",
            "<tr><td>11</td><td>4</td></tr>",
            "<tr><td>12</td><td>7</td></tr>",
            "<tr><td>13</td><td>4</td></tr>",
            "<tr><td>14</td><td>3</td></tr>",
            "<tr><td>15</td><td>4</td></tr>",
            "<tr><td>16</td><td>1</td></tr>",
            "<tr><td>17</td><td>2</td></tr>",
            "<tr><td>18</td><td>3</td></tr>",
            "<tr><td>19</td><td>4</td></tr>",
            "<tr><td>20</td><td>5</td></tr>",
            "<tr><td>21</td><td>1</td></tr>",
            "<tr><td>22</td><td>2</td></tr>",
            "<tr><td>23</td><td>3</td></tr>",
            "<tr><td>24</td><td>3</td></tr>",
            "<tr><td>25</td><td>1</td></tr>",
            "<tr><td>27</td><td>5</td></tr>",
            "<tr><td>28</td><td>5</td></tr>",
            "<tr><td>29</td><td>3</td></tr>",
            "<tr><td>30</td><td>2</td></tr>",
            "<tr><td>31</td><td>1</td></tr>",
            "<tr><td>32</td><td>1</td></tr>",
            "<tr><td>33</td><td>3</td></tr>",
            "<tr><td>34</td><td>3</td></tr>",
            "<tr><td>35</td><td>6</td></tr>",
            "<tr><td>36</td><td>4</td></tr>",
            "<tr><td>37</td><td>2</td></tr>",
            "<tr><td>38</td><td>5</td></tr>",
            "<tr><td>39</td><td>4</td></tr>",
            "<tr><td>40</td><td>3</td></tr>",
            "<tr><td>41</td><td>1</td></tr>",
            "<tr><td>42</td><td>5</td></tr>",
            "<tr><td>43</td><td>4</td></tr>",
            "<tr><td>44</td><td>6</td></tr>",
            "<tr><td>45</td><td>4</td></tr>",
            "<tr><td>46</td><td>3</td></tr>",
            "<tr><td>47</td><td>2</td></tr>",
            "<tr><td>48</td><td>6</td></tr>",
            "<tr><td>49</td><td>5</td></tr>",
            "<tr><td>50</td><td>3</td></tr>",
            "<tr><td>51</td><td>3</td></tr>",
            "<tr><td>52</td><td>5</td></tr>",
            "<tr><td>54</td><td>4</td></tr>",
            "<tr><td>55</td><td>3</td></tr>",
            "<tr><td>56</td><td>1</td></tr>",
            "<tr><td>57</td><td>3</td></tr>",
            "<tr><td>58</td><td>8</td></tr>",
            "<tr><td>59</td><td>4</td></tr>",
            "<tr><td>60</td><td>1</td></tr>",
            "<tr><td>61</td><td>4</td></tr>",
            "<tr><td>62</td><td>3</td></tr>",
            "<tr><td>63</td><td>3</td></tr>",
            "<tr><td>64</td><td>5</td></tr>",
            "<tr><td>66</td><td>3</td></tr>",
            "<tr><td>67</td><td>2</td></tr>",
            "<tr><td>69</td><td>2</td></tr>",
            "<tr><td>70</td><td>8</td></tr>",
            "<tr><td>71</td><td>2</td></tr>",
            "<tr><td>72</td><td>2</td></tr>",
            "<tr><td>73</td><td>4</td></tr>",
            "<tr><td>74</td><td>8</td></tr>",
            "<tr><td>75</td><td>2</td></tr>",
            "<tr><td>76</td><td>2</td></tr>",
            "<tr><td>77</td><td>3</td></tr>",
            "<tr><td>78</td><td>3</td></tr>",
            "<tr><td>79</td><td>4</td></tr>",
            "<tr><td>80</td><td>5</td></tr>",
            "<tr><td>81</td><td>3</td></tr>",
            "<tr><td>82</td><td>5</td></tr>",
            "<tr><td>83</td><td>5</td></tr>",
            "<tr><td>84</td><td>3</td></tr>",
            "<tr><td>85</td><td>2</td></tr>",
            "<tr><td>86</td><td>4</td></tr>",
            "<tr><td>87</td><td>5</td></tr>",
            "<tr><td>88</td><td>5</td></tr>",
            "<tr><td>89</td><td>8</td></tr>",
            "<tr><td>90</td><td>3</td></tr>",
            "<tr><td>91</td><td>2</td></tr>",
            "<tr><td>92</td><td>5</td></tr>",
            "<tr><td>93</td><td>3</td></tr>",
            "<tr><td>94</td><td>6</td></tr>",
            "<tr><td>95</td><td>3</td></tr>",
            "<tr><td>96</td><td>6</td></tr>",
            "<tr><td>97</td><td>5</td></tr>",
            "<tr><td>98</td><td>4</td></tr>",
            "<tr><td>99</td><td>4</td></tr>",
            "<tr><td>100</td><td>2</td></tr>",
            "<tr><td>101</td><td>1</td></tr>",
            "<tr><td>102</td><td>1</td></tr>",
            "<tr><td>103</td><td>1</td></tr>",
            "<tr><td>104</td><td>3</td></tr>",
            "<tr><td>106</td><td>4</td></tr>",
            "<tr><td>107</td><td>4</td></tr>",
            "<tr><td>108</td><td>1</td></tr>",
            "<tr><td>109</td><td>2</td></tr>",
            "<tr><td>110</td><td>5</td></tr>",
            "<tr><td>111</td><td>1</td></tr>",
            "<tr><td>112</td><td>4</td></tr>",
            "<tr><td>113</td><td>2</td></tr>",
            "<tr><td>114</td><td>1</td></tr>",
            "<tr><td>115</td><td>5</td></tr>",
            "<tr><td>117</td><td>4</td></tr>",
            "<tr><td>118</td><td>2</td></tr>",
            "<tr><td>119</td><td>4</td></tr>",
            "<tr><td>120</td><td>2</td></tr>",
            "<tr><td>121</td><td>5</td></tr>",
            "<tr><td>122</td><td>3</td></tr>",
            "<tr><td>123</td><td>5</td></tr>",
            "<tr><td>124</td><td>4</td></tr>",
            "<tr><td>126</td><td>4</td></tr>",
            "<tr><td>127</td><td>5</td></tr>",
            "<tr><td>129</td><td>3</td></tr>",
            "<tr><td>130</td><td>5</td></tr>",
            "<tr><td>131</td><td>4</td></tr>",
            "<tr><td>132</td><td>4</td></tr>",
            "<tr><td>133</td><td>4</td></tr>",
            "<tr><td>134</td><td>4</td></tr>",
            "<tr><td>135</td><td>3</td></tr>",
            "<tr><td>136</td><td>2</td></tr>",
            "<tr><td>137</td><td>2</td></tr>",
            "<tr><td>138</td><td>5</td></tr>",
            "<tr><td>139</td><td>6</td></tr>",
            "<tr><td>140</td><td>5</td></tr>",
            "<tr><td>141</td><td>4</td></tr>",
            "<tr><td>142</td><td>1</td></tr>",
            "<tr><td>143</td><td>5</td></tr>",
            "<tr><td>144</td><td>2</td></tr>",
            "<tr><td>145</td><td>2</td></tr>",
            "<tr><td>146</td><td>3</td></tr>",
            "<tr><td>147</td><td>1</td></tr>",
            "<tr><td>148</td><td>5</td></tr>",
            "<tr><td>149</td><td>5</td></tr>",
            "<tr><td>150</td><td>6</td></tr>",
            "<tr><td>151</td><td>2</td></tr>",
            "<tr><td>152</td><td>3</td></tr>",
            "<tr><td>153</td><td>4</td></tr>",
            "<tr><td>154</td><td>3</td></tr>",
            "<tr><td>155</td><td>3</td></tr>",
            "<tr><td>156</td><td>2</td></tr>",
            "<tr><td>157</td><td>2</td></tr>",
            "<tr><td>158</td><td>3</td></tr>",
            "<tr><td>160</td><td>2</td></tr>",
            "<tr><td>161</td><td>3</td></tr>",
            "<tr><td>162</td><td>2</td></tr>",
            "<tr><td>163</td><td>5</td></tr>",
            "<tr><td>164</td><td>4</td></tr>",
            "<tr><td>165</td><td>5</td></tr>",
            "<tr><td>166</td><td>3</td></tr>",
            "<tr><td>167</td><td>2</td></tr>",
            "<tr><td>168</td><td>1</td></tr>",
            "<tr><td>169</td><td>3</td></tr>",
            "<tr><td>170</td><td>3</td></tr>",
            "<tr><td>171</td><td>5</td></tr>",
            "<tr><td>172</td><td>6</td></tr>",
            "<tr><td>173</td><td>3</td></tr>",
            "<tr><td>174</td><td>4</td></tr>",
            "<tr><td>175</td><td>3</td></tr>",
            "<tr><td>176</td><td>2</td></tr>",
            "<tr><td>177</td><td>1</td></tr>",
            "<tr><td>178</td><td>1</td></tr>",
            "<tr><td>179</td><td>2</td></tr>",
            "<tr><td>180</td><td>1</td></tr>",
            "<tr><td>181</td><td>5</td></tr>",
            "<tr><td>182</td><td>11</td></tr>",
            "<tr><td>183</td><td>3</td></tr>",
            "<tr><td>184</td><td>4</td></tr>",
            "<tr><td>185</td><td>10</td></tr>",
            "<tr><td>186</td><td>1</td></tr>",
            "<tr><td>187</td><td>6</td></tr>",
            "<tr><td>188</td><td>2</td></tr>",
            "<tr><td>189</td><td>1</td></tr>",
            "<tr><td>190</td><td>5</td></tr>",
            "<tr><td>191</td><td>3</td></tr>",
            "<tr><td>192</td><td>1</td></tr>",
            "<tr><td>193</td><td>2</td></tr>",
            "<tr><td>194</td><td>1</td></tr>",
            "<tr><td>195</td><td>5</td></tr>",
            "<tr><td>196</td><td>2</td></tr>",
            "<tr><td>197</td><td>6</td></tr>",
            "<tr><td>198</td><td>7</td></tr>",
            "<tr><td>Összesen</td><td>668</td></tr>",
            "</table>"
        ]
    }
}
],
            "execution_count": 28
        },
        {
            "cell_type": "markdown",
            "source": [
                "Rangsoroljuk az egyes szobákat a foglalások száma, azon belül férőhely szerint!\n",
                "\n",
                "- Holtverseny esetén a sorszámok sűrűn kövessék egymást\n",
                "- Az 1-es számot a legtöbbet foglalt, azon belül legkevesebb férőhelyű szoba kapja\n",
                "- Csak a szoba azonosítója, a férőhely és a helyezés jelenjen meg"
            ],
            "metadata": {
                "azdata_cell_guid": "1f1ca110-da37-40e5-9f6e-4a23fb4ce472"
            },
            "attachments": {}
        },
        {
            "cell_type": "code",
            "source": [
                "SELECT  sz.szoba_id, sz.ferohely,\r\n",
                "        DENSE_RANK() over (order by count(f.foglalas_pk) desc, sz.ferohely) as 'Helyezés'\r\n",
                "from szoba sz join foglalas f on sz.SZOBA_ID=f.SZOBA_FK\r\n",
                "group by sz.szoba_id, sz.ferohely\r\n",
                ""
            ],
            "metadata": {
                "azdata_cell_guid": "4f9b9a3b-29c2-4614-b1ea-aa45ed840d1f",
                "language": "sql"
            },
            "outputs": [
                {
                    "output_type": "display_data",
                    "data": {
                        "text/html": "(197 rows affected)"
                    },
                    "metadata": {}
                },
                {
                    "output_type": "display_data",
                    "data": {
                        "text/html": "Total execution time: 00:00:00.042"
                    },
                    "metadata": {}
                },
                {
                    "output_type": "execute_result",
                    "metadata": {},
                    "execution_count": 27,
                    "data": {
                        "application/vnd.dataresource+json": {
                            "schema": {
                                "fields": [
                                    {
                                        "name": "szoba_id"
                                    },
                                    {
                                        "name": "ferohely"
                                    },
                                    {
                                        "name": "Helyezés"
                                    }
                                ]
                            },
                            "data": [
                                {
                                    "szoba_id": "58",
                                    "ferohely": "2",
                                    "Helyezés": "1"
                                },
                                {
                                    "szoba_id": "182",
                                    "ferohely": "2",
                                    "Helyezés": "2"
                                },
                                {
                                    "szoba_id": "185",
                                    "ferohely": "3",
                                    "Helyezés": "3"
                                },
                                {
                                    "szoba_id": "70",
                                    "ferohely": "2",
                                    "Helyezés": "4"
                                },
                                {
                                    "szoba_id": "94",
                                    "ferohely": "2",
                                    "Helyezés": "5"
                                },
                                {
                                    "szoba_id": "12",
                                    "ferohely": "2",
                                    "Helyezés": "6"
                                },
                                {
                                    "szoba_id": "172",
                                    "ferohely": "2",
                                    "Helyezés": "6"
                                },
                                {
                                    "szoba_id": "35",
                                    "ferohely": "3",
                                    "Helyezés": "7"
                                },
                                {
                                    "szoba_id": "48",
                                    "ferohely": "3",
                                    "Helyezés": "7"
                                },
                                {
                                    "szoba_id": "74",
                                    "ferohely": "3",
                                    "Helyezés": "7"
                                },
                                {
                                    "szoba_id": "122",
                                    "ferohely": "3",
                                    "Helyezés": "7"
                                },
                                {
                                    "szoba_id": "121",
                                    "ferohely": "2",
                                    "Helyezés": "8"
                                },
                                {
                                    "szoba_id": "140",
                                    "ferohely": "2",
                                    "Helyezés": "8"
                                },
                                {
                                    "szoba_id": "110",
                                    "ferohely": "2",
                                    "Helyezés": "8"
                                },
                                {
                                    "szoba_id": "55",
                                    "ferohely": "2",
                                    "Helyezés": "8"
                                },
                                {
                                    "szoba_id": "38",
                                    "ferohely": "2",
                                    "Helyezés": "8"
                                },
                                {
                                    "szoba_id": "1",
                                    "ferohely": "3",
                                    "Helyezés": "9"
                                },
                                {
                                    "szoba_id": "3",
                                    "ferohely": "3",
                                    "Helyezés": "9"
                                },
                                {
                                    "szoba_id": "43",
                                    "ferohely": "3",
                                    "Helyezés": "9"
                                },
                                {
                                    "szoba_id": "83",
                                    "ferohely": "3",
                                    "Helyezés": "9"
                                },
                                {
                                    "szoba_id": "88",
                                    "ferohely": "3",
                                    "Helyezés": "9"
                                },
                                {
                                    "szoba_id": "89",
                                    "ferohely": "3",
                                    "Helyezés": "9"
                                },
                                {
                                    "szoba_id": "117",
                                    "ferohely": "3",
                                    "Helyezés": "9"
                                },
                                {
                                    "szoba_id": "198",
                                    "ferohely": "3",
                                    "Helyezés": "9"
                                },
                                {
                                    "szoba_id": "149",
                                    "ferohely": "2",
                                    "Helyezés": "10"
                                },
                                {
                                    "szoba_id": "156",
                                    "ferohely": "2",
                                    "Helyezés": "10"
                                },
                                {
                                    "szoba_id": "163",
                                    "ferohely": "2",
                                    "Helyezés": "10"
                                },
                                {
                                    "szoba_id": "165",
                                    "ferohely": "2",
                                    "Helyezés": "10"
                                },
                                {
                                    "szoba_id": "118",
                                    "ferohely": "2",
                                    "Helyezés": "10"
                                },
                                {
                                    "szoba_id": "109",
                                    "ferohely": "2",
                                    "Helyezés": "10"
                                },
                                {
                                    "szoba_id": "127",
                                    "ferohely": "2",
                                    "Helyezés": "10"
                                },
                                {
                                    "szoba_id": "139",
                                    "ferohely": "2",
                                    "Helyezés": "10"
                                },
                                {
                                    "szoba_id": "80",
                                    "ferohely": "2",
                                    "Helyezés": "10"
                                },
                                {
                                    "szoba_id": "59",
                                    "ferohely": "2",
                                    "Helyezés": "10"
                                },
                                {
                                    "szoba_id": "39",
                                    "ferohely": "2",
                                    "Helyezés": "10"
                                },
                                {
                                    "szoba_id": "27",
                                    "ferohely": "3",
                                    "Helyezés": "11"
                                },
                                {
                                    "szoba_id": "49",
                                    "ferohely": "3",
                                    "Helyezés": "11"
                                },
                                {
                                    "szoba_id": "96",
                                    "ferohely": "3",
                                    "Helyezés": "11"
                                },
                                {
                                    "szoba_id": "97",
                                    "ferohely": "3",
                                    "Helyezés": "11"
                                },
                                {
                                    "szoba_id": "138",
                                    "ferohely": "3",
                                    "Helyezés": "11"
                                },
                                {
                                    "szoba_id": "143",
                                    "ferohely": "3",
                                    "Helyezés": "11"
                                },
                                {
                                    "szoba_id": "115",
                                    "ferohely": "3",
                                    "Helyezés": "11"
                                },
                                {
                                    "szoba_id": "187",
                                    "ferohely": "3",
                                    "Helyezés": "11"
                                },
                                {
                                    "szoba_id": "193",
                                    "ferohely": "3",
                                    "Helyezés": "11"
                                },
                                {
                                    "szoba_id": "195",
                                    "ferohely": "2",
                                    "Helyezés": "12"
                                },
                                {
                                    "szoba_id": "161",
                                    "ferohely": "2",
                                    "Helyezés": "12"
                                },
                                {
                                    "szoba_id": "150",
                                    "ferohely": "2",
                                    "Helyezés": "12"
                                },
                                {
                                    "szoba_id": "148",
                                    "ferohely": "2",
                                    "Helyezés": "12"
                                },
                                {
                                    "szoba_id": "169",
                                    "ferohely": "2",
                                    "Helyezés": "12"
                                },
                                {
                                    "szoba_id": "106",
                                    "ferohely": "2",
                                    "Helyezés": "12"
                                },
                                {
                                    "szoba_id": "126",
                                    "ferohely": "2",
                                    "Helyezés": "12"
                                },
                                {
                                    "szoba_id": "145",
                                    "ferohely": "2",
                                    "Helyezés": "12"
                                },
                                {
                                    "szoba_id": "141",
                                    "ferohely": "2",
                                    "Helyezés": "12"
                                },
                                {
                                    "szoba_id": "130",
                                    "ferohely": "2",
                                    "Helyezés": "12"
                                },
                                {
                                    "szoba_id": "137",
                                    "ferohely": "2",
                                    "Helyezés": "12"
                                },
                                {
                                    "szoba_id": "78",
                                    "ferohely": "2",
                                    "Helyezés": "12"
                                },
                                {
                                    "szoba_id": "42",
                                    "ferohely": "2",
                                    "Helyezés": "12"
                                },
                                {
                                    "szoba_id": "64",
                                    "ferohely": "2",
                                    "Helyezés": "12"
                                },
                                {
                                    "szoba_id": "67",
                                    "ferohely": "2",
                                    "Helyezés": "12"
                                },
                                {
                                    "szoba_id": "28",
                                    "ferohely": "2",
                                    "Helyezés": "12"
                                },
                                {
                                    "szoba_id": "29",
                                    "ferohely": "2",
                                    "Helyezés": "12"
                                },
                                {
                                    "szoba_id": "19",
                                    "ferohely": "2",
                                    "Helyezés": "12"
                                },
                                {
                                    "szoba_id": "33",
                                    "ferohely": "2",
                                    "Helyezés": "12"
                                },
                                {
                                    "szoba_id": "4",
                                    "ferohely": "2",
                                    "Helyezés": "12"
                                },
                                {
                                    "szoba_id": "7",
                                    "ferohely": "2",
                                    "Helyezés": "12"
                                },
                                {
                                    "szoba_id": "15",
                                    "ferohely": "2",
                                    "Helyezés": "12"
                                },
                                {
                                    "szoba_id": "17",
                                    "ferohely": "3",
                                    "Helyezés": "13"
                                },
                                {
                                    "szoba_id": "18",
                                    "ferohely": "3",
                                    "Helyezés": "13"
                                },
                                {
                                    "szoba_id": "6",
                                    "ferohely": "3",
                                    "Helyezés": "13"
                                },
                                {
                                    "szoba_id": "9",
                                    "ferohely": "3",
                                    "Helyezés": "13"
                                },
                                {
                                    "szoba_id": "22",
                                    "ferohely": "3",
                                    "Helyezés": "13"
                                },
                                {
                                    "szoba_id": "36",
                                    "ferohely": "3",
                                    "Helyezés": "13"
                                },
                                {
                                    "szoba_id": "44",
                                    "ferohely": "3",
                                    "Helyezés": "13"
                                },
                                {
                                    "szoba_id": "54",
                                    "ferohely": "3",
                                    "Helyezés": "13"
                                },
                                {
                                    "szoba_id": "77",
                                    "ferohely": "3",
                                    "Helyezés": "13"
                                },
                                {
                                    "szoba_id": "82",
                                    "ferohely": "3",
                                    "Helyezés": "13"
                                },
                                {
                                    "szoba_id": "92",
                                    "ferohely": "3",
                                    "Helyezés": "13"
                                },
                                {
                                    "szoba_id": "132",
                                    "ferohely": "3",
                                    "Helyezés": "13"
                                },
                                {
                                    "szoba_id": "133",
                                    "ferohely": "3",
                                    "Helyezés": "13"
                                },
                                {
                                    "szoba_id": "134",
                                    "ferohely": "3",
                                    "Helyezés": "13"
                                },
                                {
                                    "szoba_id": "146",
                                    "ferohely": "3",
                                    "Helyezés": "13"
                                },
                                {
                                    "szoba_id": "124",
                                    "ferohely": "3",
                                    "Helyezés": "13"
                                },
                                {
                                    "szoba_id": "120",
                                    "ferohely": "3",
                                    "Helyezés": "13"
                                },
                                {
                                    "szoba_id": "176",
                                    "ferohely": "3",
                                    "Helyezés": "13"
                                },
                                {
                                    "szoba_id": "181",
                                    "ferohely": "3",
                                    "Helyezés": "13"
                                },
                                {
                                    "szoba_id": "188",
                                    "ferohely": "3",
                                    "Helyezés": "13"
                                },
                                {
                                    "szoba_id": "197",
                                    "ferohely": "3",
                                    "Helyezés": "13"
                                },
                                {
                                    "szoba_id": "189",
                                    "ferohely": "2",
                                    "Helyezés": "14"
                                },
                                {
                                    "szoba_id": "190",
                                    "ferohely": "2",
                                    "Helyezés": "14"
                                },
                                {
                                    "szoba_id": "191",
                                    "ferohely": "2",
                                    "Helyezés": "14"
                                },
                                {
                                    "szoba_id": "168",
                                    "ferohely": "2",
                                    "Helyezés": "14"
                                },
                                {
                                    "szoba_id": "175",
                                    "ferohely": "2",
                                    "Helyezés": "14"
                                },
                                {
                                    "szoba_id": "170",
                                    "ferohely": "2",
                                    "Helyezés": "14"
                                },
                                {
                                    "szoba_id": "171",
                                    "ferohely": "2",
                                    "Helyezés": "14"
                                },
                                {
                                    "szoba_id": "157",
                                    "ferohely": "2",
                                    "Helyezés": "14"
                                },
                                {
                                    "szoba_id": "154",
                                    "ferohely": "2",
                                    "Helyezés": "14"
                                },
                                {
                                    "szoba_id": "164",
                                    "ferohely": "2",
                                    "Helyezés": "14"
                                },
                                {
                                    "szoba_id": "119",
                                    "ferohely": "2",
                                    "Helyezés": "14"
                                },
                                {
                                    "szoba_id": "107",
                                    "ferohely": "2",
                                    "Helyezés": "14"
                                },
                                {
                                    "szoba_id": "128",
                                    "ferohely": "2",
                                    "Helyezés": "14"
                                },
                                {
                                    "szoba_id": "131",
                                    "ferohely": "2",
                                    "Helyezés": "14"
                                },
                                {
                                    "szoba_id": "99",
                                    "ferohely": "2",
                                    "Helyezés": "14"
                                },
                                {
                                    "szoba_id": "111",
                                    "ferohely": "2",
                                    "Helyezés": "14"
                                },
                                {
                                    "szoba_id": "81",
                                    "ferohely": "2",
                                    "Helyezés": "14"
                                },
                                {
                                    "szoba_id": "86",
                                    "ferohely": "2",
                                    "Helyezés": "14"
                                },
                                {
                                    "szoba_id": "52",
                                    "ferohely": "2",
                                    "Helyezés": "14"
                                },
                                {
                                    "szoba_id": "45",
                                    "ferohely": "2",
                                    "Helyezés": "14"
                                },
                                {
                                    "szoba_id": "62",
                                    "ferohely": "2",
                                    "Helyezés": "14"
                                },
                                {
                                    "szoba_id": "61",
                                    "ferohely": "3",
                                    "Helyezés": "15"
                                },
                                {
                                    "szoba_id": "51",
                                    "ferohely": "3",
                                    "Helyezés": "15"
                                },
                                {
                                    "szoba_id": "20",
                                    "ferohely": "3",
                                    "Helyezés": "15"
                                },
                                {
                                    "szoba_id": "8",
                                    "ferohely": "3",
                                    "Helyezés": "15"
                                },
                                {
                                    "szoba_id": "16",
                                    "ferohely": "3",
                                    "Helyezés": "15"
                                },
                                {
                                    "szoba_id": "87",
                                    "ferohely": "3",
                                    "Helyezés": "15"
                                },
                                {
                                    "szoba_id": "79",
                                    "ferohely": "3",
                                    "Helyezés": "15"
                                },
                                {
                                    "szoba_id": "112",
                                    "ferohely": "3",
                                    "Helyezés": "15"
                                },
                                {
                                    "szoba_id": "113",
                                    "ferohely": "3",
                                    "Helyezés": "15"
                                },
                                {
                                    "szoba_id": "93",
                                    "ferohely": "3",
                                    "Helyezés": "15"
                                },
                                {
                                    "szoba_id": "144",
                                    "ferohely": "3",
                                    "Helyezés": "15"
                                },
                                {
                                    "szoba_id": "123",
                                    "ferohely": "3",
                                    "Helyezés": "15"
                                },
                                {
                                    "szoba_id": "153",
                                    "ferohely": "3",
                                    "Helyezés": "15"
                                },
                                {
                                    "szoba_id": "160",
                                    "ferohely": "3",
                                    "Helyezés": "15"
                                },
                                {
                                    "szoba_id": "155",
                                    "ferohely": "3",
                                    "Helyezés": "15"
                                },
                                {
                                    "szoba_id": "152",
                                    "ferohely": "2",
                                    "Helyezés": "16"
                                },
                                {
                                    "szoba_id": "173",
                                    "ferohely": "2",
                                    "Helyezés": "16"
                                },
                                {
                                    "szoba_id": "174",
                                    "ferohely": "2",
                                    "Helyezés": "16"
                                },
                                {
                                    "szoba_id": "186",
                                    "ferohely": "2",
                                    "Helyezés": "16"
                                },
                                {
                                    "szoba_id": "196",
                                    "ferohely": "2",
                                    "Helyezés": "16"
                                },
                                {
                                    "szoba_id": "184",
                                    "ferohely": "2",
                                    "Helyezés": "16"
                                },
                                {
                                    "szoba_id": "129",
                                    "ferohely": "2",
                                    "Helyezés": "16"
                                },
                                {
                                    "szoba_id": "100",
                                    "ferohely": "2",
                                    "Helyezés": "16"
                                },
                                {
                                    "szoba_id": "114",
                                    "ferohely": "2",
                                    "Helyezés": "16"
                                },
                                {
                                    "szoba_id": "98",
                                    "ferohely": "2",
                                    "Helyezés": "16"
                                },
                                {
                                    "szoba_id": "103",
                                    "ferohely": "2",
                                    "Helyezés": "16"
                                },
                                {
                                    "szoba_id": "85",
                                    "ferohely": "2",
                                    "Helyezés": "16"
                                },
                                {
                                    "szoba_id": "91",
                                    "ferohely": "2",
                                    "Helyezés": "16"
                                },
                                {
                                    "szoba_id": "11",
                                    "ferohely": "2",
                                    "Helyezés": "16"
                                },
                                {
                                    "szoba_id": "5",
                                    "ferohely": "2",
                                    "Helyezés": "16"
                                },
                                {
                                    "szoba_id": "21",
                                    "ferohely": "2",
                                    "Helyezés": "16"
                                },
                                {
                                    "szoba_id": "50",
                                    "ferohely": "2",
                                    "Helyezés": "16"
                                },
                                {
                                    "szoba_id": "57",
                                    "ferohely": "2",
                                    "Helyezés": "16"
                                },
                                {
                                    "szoba_id": "63",
                                    "ferohely": "2",
                                    "Helyezés": "16"
                                },
                                {
                                    "szoba_id": "72",
                                    "ferohely": "2",
                                    "Helyezés": "16"
                                },
                                {
                                    "szoba_id": "73",
                                    "ferohely": "2",
                                    "Helyezés": "16"
                                },
                                {
                                    "szoba_id": "66",
                                    "ferohely": "3",
                                    "Helyezés": "17"
                                },
                                {
                                    "szoba_id": "69",
                                    "ferohely": "3",
                                    "Helyezés": "17"
                                },
                                {
                                    "szoba_id": "46",
                                    "ferohely": "3",
                                    "Helyezés": "17"
                                },
                                {
                                    "szoba_id": "34",
                                    "ferohely": "3",
                                    "Helyezés": "17"
                                },
                                {
                                    "szoba_id": "40",
                                    "ferohely": "3",
                                    "Helyezés": "17"
                                },
                                {
                                    "szoba_id": "2",
                                    "ferohely": "3",
                                    "Helyezés": "17"
                                },
                                {
                                    "szoba_id": "10",
                                    "ferohely": "3",
                                    "Helyezés": "17"
                                },
                                {
                                    "szoba_id": "13",
                                    "ferohely": "3",
                                    "Helyezés": "17"
                                },
                                {
                                    "szoba_id": "90",
                                    "ferohely": "3",
                                    "Helyezés": "17"
                                },
                                {
                                    "szoba_id": "84",
                                    "ferohely": "3",
                                    "Helyezés": "17"
                                },
                                {
                                    "szoba_id": "104",
                                    "ferohely": "3",
                                    "Helyezés": "17"
                                },
                                {
                                    "szoba_id": "95",
                                    "ferohely": "3",
                                    "Helyezés": "17"
                                },
                                {
                                    "szoba_id": "183",
                                    "ferohely": "3",
                                    "Helyezés": "17"
                                },
                                {
                                    "szoba_id": "177",
                                    "ferohely": "3",
                                    "Helyezés": "17"
                                },
                                {
                                    "szoba_id": "178",
                                    "ferohely": "3",
                                    "Helyezés": "17"
                                },
                                {
                                    "szoba_id": "180",
                                    "ferohely": "2",
                                    "Helyezés": "18"
                                },
                                {
                                    "szoba_id": "151",
                                    "ferohely": "2",
                                    "Helyezés": "18"
                                },
                                {
                                    "szoba_id": "158",
                                    "ferohely": "2",
                                    "Helyezés": "18"
                                },
                                {
                                    "szoba_id": "166",
                                    "ferohely": "2",
                                    "Helyezés": "18"
                                },
                                {
                                    "szoba_id": "101",
                                    "ferohely": "2",
                                    "Helyezés": "18"
                                },
                                {
                                    "szoba_id": "75",
                                    "ferohely": "2",
                                    "Helyezés": "18"
                                },
                                {
                                    "szoba_id": "76",
                                    "ferohely": "2",
                                    "Helyezés": "18"
                                },
                                {
                                    "szoba_id": "136",
                                    "ferohely": "2",
                                    "Helyezés": "18"
                                },
                                {
                                    "szoba_id": "23",
                                    "ferohely": "2",
                                    "Helyezés": "18"
                                },
                                {
                                    "szoba_id": "37",
                                    "ferohely": "2",
                                    "Helyezés": "18"
                                },
                                {
                                    "szoba_id": "68",
                                    "ferohely": "2",
                                    "Helyezés": "18"
                                },
                                {
                                    "szoba_id": "71",
                                    "ferohely": "3",
                                    "Helyezés": "19"
                                },
                                {
                                    "szoba_id": "30",
                                    "ferohely": "3",
                                    "Helyezés": "19"
                                },
                                {
                                    "szoba_id": "31",
                                    "ferohely": "3",
                                    "Helyezés": "19"
                                },
                                {
                                    "szoba_id": "14",
                                    "ferohely": "3",
                                    "Helyezés": "19"
                                },
                                {
                                    "szoba_id": "135",
                                    "ferohely": "3",
                                    "Helyezés": "19"
                                },
                                {
                                    "szoba_id": "162",
                                    "ferohely": "3",
                                    "Helyezés": "19"
                                },
                                {
                                    "szoba_id": "179",
                                    "ferohely": "3",
                                    "Helyezés": "19"
                                },
                                {
                                    "szoba_id": "24",
                                    "ferohely": "4",
                                    "Helyezés": "20"
                                },
                                {
                                    "szoba_id": "26",
                                    "ferohely": "2",
                                    "Helyezés": "21"
                                },
                                {
                                    "szoba_id": "47",
                                    "ferohely": "2",
                                    "Helyezés": "21"
                                },
                                {
                                    "szoba_id": "53",
                                    "ferohely": "2",
                                    "Helyezés": "21"
                                },
                                {
                                    "szoba_id": "56",
                                    "ferohely": "2",
                                    "Helyezés": "21"
                                },
                                {
                                    "szoba_id": "108",
                                    "ferohely": "2",
                                    "Helyezés": "21"
                                },
                                {
                                    "szoba_id": "102",
                                    "ferohely": "2",
                                    "Helyezés": "21"
                                },
                                {
                                    "szoba_id": "105",
                                    "ferohely": "2",
                                    "Helyezés": "21"
                                },
                                {
                                    "szoba_id": "192",
                                    "ferohely": "2",
                                    "Helyezés": "21"
                                },
                                {
                                    "szoba_id": "167",
                                    "ferohely": "3",
                                    "Helyezés": "22"
                                },
                                {
                                    "szoba_id": "116",
                                    "ferohely": "3",
                                    "Helyezés": "22"
                                },
                                {
                                    "szoba_id": "142",
                                    "ferohely": "3",
                                    "Helyezés": "22"
                                },
                                {
                                    "szoba_id": "25",
                                    "ferohely": "3",
                                    "Helyezés": "22"
                                },
                                {
                                    "szoba_id": "41",
                                    "ferohely": "3",
                                    "Helyezés": "22"
                                },
                                {
                                    "szoba_id": "32",
                                    "ferohely": "2",
                                    "Helyezés": "23"
                                },
                                {
                                    "szoba_id": "65",
                                    "ferohely": "2",
                                    "Helyezés": "23"
                                },
                                {
                                    "szoba_id": "147",
                                    "ferohely": "2",
                                    "Helyezés": "23"
                                },
                                {
                                    "szoba_id": "125",
                                    "ferohely": "2",
                                    "Helyezés": "23"
                                },
                                {
                                    "szoba_id": "194",
                                    "ferohely": "2",
                                    "Helyezés": "23"
                                },
                                {
                                    "szoba_id": "60",
                                    "ferohely": "3",
                                    "Helyezés": "24"
                                }
                            ]
                        },
                        "text/html": [
                            "<table>",
                            "<tr><th>szoba_id</th><th>ferohely</th><th>Helyezés</th></tr>",
                            "<tr><td>58</td><td>2</td><td>1</td></tr>",
                            "<tr><td>182</td><td>2</td><td>2</td></tr>",
                            "<tr><td>185</td><td>3</td><td>3</td></tr>",
                            "<tr><td>70</td><td>2</td><td>4</td></tr>",
                            "<tr><td>94</td><td>2</td><td>5</td></tr>",
                            "<tr><td>12</td><td>2</td><td>6</td></tr>",
                            "<tr><td>172</td><td>2</td><td>6</td></tr>",
                            "<tr><td>35</td><td>3</td><td>7</td></tr>",
                            "<tr><td>48</td><td>3</td><td>7</td></tr>",
                            "<tr><td>74</td><td>3</td><td>7</td></tr>",
                            "<tr><td>122</td><td>3</td><td>7</td></tr>",
                            "<tr><td>121</td><td>2</td><td>8</td></tr>",
                            "<tr><td>140</td><td>2</td><td>8</td></tr>",
                            "<tr><td>110</td><td>2</td><td>8</td></tr>",
                            "<tr><td>55</td><td>2</td><td>8</td></tr>",
                            "<tr><td>38</td><td>2</td><td>8</td></tr>",
                            "<tr><td>1</td><td>3</td><td>9</td></tr>",
                            "<tr><td>3</td><td>3</td><td>9</td></tr>",
                            "<tr><td>43</td><td>3</td><td>9</td></tr>",
                            "<tr><td>83</td><td>3</td><td>9</td></tr>",
                            "<tr><td>88</td><td>3</td><td>9</td></tr>",
                            "<tr><td>89</td><td>3</td><td>9</td></tr>",
                            "<tr><td>117</td><td>3</td><td>9</td></tr>",
                            "<tr><td>198</td><td>3</td><td>9</td></tr>",
                            "<tr><td>149</td><td>2</td><td>10</td></tr>",
                            "<tr><td>156</td><td>2</td><td>10</td></tr>",
                            "<tr><td>163</td><td>2</td><td>10</td></tr>",
                            "<tr><td>165</td><td>2</td><td>10</td></tr>",
                            "<tr><td>118</td><td>2</td><td>10</td></tr>",
                            "<tr><td>109</td><td>2</td><td>10</td></tr>",
                            "<tr><td>127</td><td>2</td><td>10</td></tr>",
                            "<tr><td>139</td><td>2</td><td>10</td></tr>",
                            "<tr><td>80</td><td>2</td><td>10</td></tr>",
                            "<tr><td>59</td><td>2</td><td>10</td></tr>",
                            "<tr><td>39</td><td>2</td><td>10</td></tr>",
                            "<tr><td>27</td><td>3</td><td>11</td></tr>",
                            "<tr><td>49</td><td>3</td><td>11</td></tr>",
                            "<tr><td>96</td><td>3</td><td>11</td></tr>",
                            "<tr><td>97</td><td>3</td><td>11</td></tr>",
                            "<tr><td>138</td><td>3</td><td>11</td></tr>",
                            "<tr><td>143</td><td>3</td><td>11</td></tr>",
                            "<tr><td>115</td><td>3</td><td>11</td></tr>",
                            "<tr><td>187</td><td>3</td><td>11</td></tr>",
                            "<tr><td>193</td><td>3</td><td>11</td></tr>",
                            "<tr><td>195</td><td>2</td><td>12</td></tr>",
                            "<tr><td>161</td><td>2</td><td>12</td></tr>",
                            "<tr><td>150</td><td>2</td><td>12</td></tr>",
                            "<tr><td>148</td><td>2</td><td>12</td></tr>",
                            "<tr><td>169</td><td>2</td><td>12</td></tr>",
                            "<tr><td>106</td><td>2</td><td>12</td></tr>",
                            "<tr><td>126</td><td>2</td><td>12</td></tr>",
                            "<tr><td>145</td><td>2</td><td>12</td></tr>",
                            "<tr><td>141</td><td>2</td><td>12</td></tr>",
                            "<tr><td>130</td><td>2</td><td>12</td></tr>",
                            "<tr><td>137</td><td>2</td><td>12</td></tr>",
                            "<tr><td>78</td><td>2</td><td>12</td></tr>",
                            "<tr><td>42</td><td>2</td><td>12</td></tr>",
                            "<tr><td>64</td><td>2</td><td>12</td></tr>",
                            "<tr><td>67</td><td>2</td><td>12</td></tr>",
                            "<tr><td>28</td><td>2</td><td>12</td></tr>",
                            "<tr><td>29</td><td>2</td><td>12</td></tr>",
                            "<tr><td>19</td><td>2</td><td>12</td></tr>",
                            "<tr><td>33</td><td>2</td><td>12</td></tr>",
                            "<tr><td>4</td><td>2</td><td>12</td></tr>",
                            "<tr><td>7</td><td>2</td><td>12</td></tr>",
                            "<tr><td>15</td><td>2</td><td>12</td></tr>",
                            "<tr><td>17</td><td>3</td><td>13</td></tr>",
                            "<tr><td>18</td><td>3</td><td>13</td></tr>",
                            "<tr><td>6</td><td>3</td><td>13</td></tr>",
                            "<tr><td>9</td><td>3</td><td>13</td></tr>",
                            "<tr><td>22</td><td>3</td><td>13</td></tr>",
                            "<tr><td>36</td><td>3</td><td>13</td></tr>",
                            "<tr><td>44</td><td>3</td><td>13</td></tr>",
                            "<tr><td>54</td><td>3</td><td>13</td></tr>",
                            "<tr><td>77</td><td>3</td><td>13</td></tr>",
                            "<tr><td>82</td><td>3</td><td>13</td></tr>",
                            "<tr><td>92</td><td>3</td><td>13</td></tr>",
                            "<tr><td>132</td><td>3</td><td>13</td></tr>",
                            "<tr><td>133</td><td>3</td><td>13</td></tr>",
                            "<tr><td>134</td><td>3</td><td>13</td></tr>",
                            "<tr><td>146</td><td>3</td><td>13</td></tr>",
                            "<tr><td>124</td><td>3</td><td>13</td></tr>",
                            "<tr><td>120</td><td>3</td><td>13</td></tr>",
                            "<tr><td>176</td><td>3</td><td>13</td></tr>",
                            "<tr><td>181</td><td>3</td><td>13</td></tr>",
                            "<tr><td>188</td><td>3</td><td>13</td></tr>",
                            "<tr><td>197</td><td>3</td><td>13</td></tr>",
                            "<tr><td>189</td><td>2</td><td>14</td></tr>",
                            "<tr><td>190</td><td>2</td><td>14</td></tr>",
                            "<tr><td>191</td><td>2</td><td>14</td></tr>",
                            "<tr><td>168</td><td>2</td><td>14</td></tr>",
                            "<tr><td>175</td><td>2</td><td>14</td></tr>",
                            "<tr><td>170</td><td>2</td><td>14</td></tr>",
                            "<tr><td>171</td><td>2</td><td>14</td></tr>",
                            "<tr><td>157</td><td>2</td><td>14</td></tr>",
                            "<tr><td>154</td><td>2</td><td>14</td></tr>",
                            "<tr><td>164</td><td>2</td><td>14</td></tr>",
                            "<tr><td>119</td><td>2</td><td>14</td></tr>",
                            "<tr><td>107</td><td>2</td><td>14</td></tr>",
                            "<tr><td>128</td><td>2</td><td>14</td></tr>",
                            "<tr><td>131</td><td>2</td><td>14</td></tr>",
                            "<tr><td>99</td><td>2</td><td>14</td></tr>",
                            "<tr><td>111</td><td>2</td><td>14</td></tr>",
                            "<tr><td>81</td><td>2</td><td>14</td></tr>",
                            "<tr><td>86</td><td>2</td><td>14</td></tr>",
                            "<tr><td>52</td><td>2</td><td>14</td></tr>",
                            "<tr><td>45</td><td>2</td><td>14</td></tr>",
                            "<tr><td>62</td><td>2</td><td>14</td></tr>",
                            "<tr><td>61</td><td>3</td><td>15</td></tr>",
                            "<tr><td>51</td><td>3</td><td>15</td></tr>",
                            "<tr><td>20</td><td>3</td><td>15</td></tr>",
                            "<tr><td>8</td><td>3</td><td>15</td></tr>",
                            "<tr><td>16</td><td>3</td><td>15</td></tr>",
                            "<tr><td>87</td><td>3</td><td>15</td></tr>",
                            "<tr><td>79</td><td>3</td><td>15</td></tr>",
                            "<tr><td>112</td><td>3</td><td>15</td></tr>",
                            "<tr><td>113</td><td>3</td><td>15</td></tr>",
                            "<tr><td>93</td><td>3</td><td>15</td></tr>",
                            "<tr><td>144</td><td>3</td><td>15</td></tr>",
                            "<tr><td>123</td><td>3</td><td>15</td></tr>",
                            "<tr><td>153</td><td>3</td><td>15</td></tr>",
                            "<tr><td>160</td><td>3</td><td>15</td></tr>",
                            "<tr><td>155</td><td>3</td><td>15</td></tr>",
                            "<tr><td>152</td><td>2</td><td>16</td></tr>",
                            "<tr><td>173</td><td>2</td><td>16</td></tr>",
                            "<tr><td>174</td><td>2</td><td>16</td></tr>",
                            "<tr><td>186</td><td>2</td><td>16</td></tr>",
                            "<tr><td>196</td><td>2</td><td>16</td></tr>",
                            "<tr><td>184</td><td>2</td><td>16</td></tr>",
                            "<tr><td>129</td><td>2</td><td>16</td></tr>",
                            "<tr><td>100</td><td>2</td><td>16</td></tr>",
                            "<tr><td>114</td><td>2</td><td>16</td></tr>",
                            "<tr><td>98</td><td>2</td><td>16</td></tr>",
                            "<tr><td>103</td><td>2</td><td>16</td></tr>",
                            "<tr><td>85</td><td>2</td><td>16</td></tr>",
                            "<tr><td>91</td><td>2</td><td>16</td></tr>",
                            "<tr><td>11</td><td>2</td><td>16</td></tr>",
                            "<tr><td>5</td><td>2</td><td>16</td></tr>",
                            "<tr><td>21</td><td>2</td><td>16</td></tr>",
                            "<tr><td>50</td><td>2</td><td>16</td></tr>",
                            "<tr><td>57</td><td>2</td><td>16</td></tr>",
                            "<tr><td>63</td><td>2</td><td>16</td></tr>",
                            "<tr><td>72</td><td>2</td><td>16</td></tr>",
                            "<tr><td>73</td><td>2</td><td>16</td></tr>",
                            "<tr><td>66</td><td>3</td><td>17</td></tr>",
                            "<tr><td>69</td><td>3</td><td>17</td></tr>",
                            "<tr><td>46</td><td>3</td><td>17</td></tr>",
                            "<tr><td>34</td><td>3</td><td>17</td></tr>",
                            "<tr><td>40</td><td>3</td><td>17</td></tr>",
                            "<tr><td>2</td><td>3</td><td>17</td></tr>",
                            "<tr><td>10</td><td>3</td><td>17</td></tr>",
                            "<tr><td>13</td><td>3</td><td>17</td></tr>",
                            "<tr><td>90</td><td>3</td><td>17</td></tr>",
                            "<tr><td>84</td><td>3</td><td>17</td></tr>",
                            "<tr><td>104</td><td>3</td><td>17</td></tr>",
                            "<tr><td>95</td><td>3</td><td>17</td></tr>",
                            "<tr><td>183</td><td>3</td><td>17</td></tr>",
                            "<tr><td>177</td><td>3</td><td>17</td></tr>",
                            "<tr><td>178</td><td>3</td><td>17</td></tr>",
                            "<tr><td>180</td><td>2</td><td>18</td></tr>",
                            "<tr><td>151</td><td>2</td><td>18</td></tr>",
                            "<tr><td>158</td><td>2</td><td>18</td></tr>",
                            "<tr><td>166</td><td>2</td><td>18</td></tr>",
                            "<tr><td>101</td><td>2</td><td>18</td></tr>",
                            "<tr><td>75</td><td>2</td><td>18</td></tr>",
                            "<tr><td>76</td><td>2</td><td>18</td></tr>",
                            "<tr><td>136</td><td>2</td><td>18</td></tr>",
                            "<tr><td>23</td><td>2</td><td>18</td></tr>",
                            "<tr><td>37</td><td>2</td><td>18</td></tr>",
                            "<tr><td>68</td><td>2</td><td>18</td></tr>",
                            "<tr><td>71</td><td>3</td><td>19</td></tr>",
                            "<tr><td>30</td><td>3</td><td>19</td></tr>",
                            "<tr><td>31</td><td>3</td><td>19</td></tr>",
                            "<tr><td>14</td><td>3</td><td>19</td></tr>",
                            "<tr><td>135</td><td>3</td><td>19</td></tr>",
                            "<tr><td>162</td><td>3</td><td>19</td></tr>",
                            "<tr><td>179</td><td>3</td><td>19</td></tr>",
                            "<tr><td>24</td><td>4</td><td>20</td></tr>",
                            "<tr><td>26</td><td>2</td><td>21</td></tr>",
                            "<tr><td>47</td><td>2</td><td>21</td></tr>",
                            "<tr><td>53</td><td>2</td><td>21</td></tr>",
                            "<tr><td>56</td><td>2</td><td>21</td></tr>",
                            "<tr><td>108</td><td>2</td><td>21</td></tr>",
                            "<tr><td>102</td><td>2</td><td>21</td></tr>",
                            "<tr><td>105</td><td>2</td><td>21</td></tr>",
                            "<tr><td>192</td><td>2</td><td>21</td></tr>",
                            "<tr><td>167</td><td>3</td><td>22</td></tr>",
                            "<tr><td>116</td><td>3</td><td>22</td></tr>",
                            "<tr><td>142</td><td>3</td><td>22</td></tr>",
                            "<tr><td>25</td><td>3</td><td>22</td></tr>",
                            "<tr><td>41</td><td>3</td><td>22</td></tr>",
                            "<tr><td>32</td><td>2</td><td>23</td></tr>",
                            "<tr><td>65</td><td>2</td><td>23</td></tr>",
                            "<tr><td>147</td><td>2</td><td>23</td></tr>",
                            "<tr><td>125</td><td>2</td><td>23</td></tr>",
                            "<tr><td>194</td><td>2</td><td>23</td></tr>",
                            "<tr><td>60</td><td>3</td><td>24</td></tr>",
                            "</table>"
                        ]
                    }
                }
            ],
            "execution_count": 27
        },
        {
            "cell_type": "markdown",
            "source": [
                "<span style=\"color: rgb(0, 0, 0); font-family: &quot;Open Sans&quot;, sans-serif; font-size: 14.44px; background-color: rgb(255, 255, 255);\">Jelenítsük meg azon ügyfelek nevét, akik még sohasem foglaltak VAGY volt foglalásuk, de nem volt közöttük 2 napnál hosszabb!</span>"
            ],
            "metadata": {
                "azdata_cell_guid": "2301651d-0a1c-4210-aadb-efa42111d365"
            },
            "attachments": {}
        },
        {
            "cell_type": "code",
            "source": [
                "Select v.nev\r\n",
                "from vendeg v\r\n",
                "where v.USERNEV not in(\r\n",
                "    select ugyfel_fk\r\n",
                "    from Foglalas\r\n",
                ") OR\r\n",
                "\r\n",
                "v.USERNEV not in (\r\n",
                "    select DISTINCT ugyfel_fk\r\n",
                "    from Foglalas\r\n",
                "    where datediff(day,mettol,meddig) <=2  \r\n",
                ")\r\n",
                ""
            ],
            "metadata": {
                "azdata_cell_guid": "e6e78429-a7c1-45ad-a86b-659a866d77f5",
                "language": "sql"
            },
            "outputs": [
                {
                    "output_type": "display_data",
                    "data": {
                        "text/html": "(45 rows affected)"
                    },
                    "metadata": {}
                },
                {
                    "output_type": "display_data",
                    "data": {
                        "text/html": "Total execution time: 00:00:00.019"
                    },
                    "metadata": {}
                },
                {
                    "output_type": "execute_result",
                    "metadata": {},
                    "execution_count": 26,
                    "data": {
                        "application/vnd.dataresource+json": {
                            "schema": {
                                "fields": [
                                    {
                                        "name": "nev"
                                    }
                                ]
                            },
                            "data": [
                                {
                                    "nev": "Kiss Ádám"
                                },
                                {
                                    "nev": "Barkóci Ádám"
                                },
                                {
                                    "nev": "Nagy András"
                                },
                                {
                                    "nev": "Hamvay-Kovács Anita"
                                },
                                {
                                    "nev": "Csóti Attila"
                                },
                                {
                                    "nev": "Opra Attila"
                                },
                                {
                                    "nev": "Pataki Brigitta"
                                },
                                {
                                    "nev": "Berta Dávid"
                                },
                                {
                                    "nev": "Tömböly Dénes"
                                },
                                {
                                    "nev": "Sarodi Dóra"
                                },
                                {
                                    "nev": "Molnár Eszter"
                                },
                                {
                                    "nev": "Viktor Éva"
                                },
                                {
                                    "nev": "Telek Gábor"
                                },
                                {
                                    "nev": "Szöllősi Gábor"
                                },
                                {
                                    "nev": "Vida Gabriella"
                                },
                                {
                                    "nev": "Nyíri Georgij"
                                },
                                {
                                    "nev": "Kornseé Gyöngyi"
                                },
                                {
                                    "nev": "Vizi István"
                                },
                                {
                                    "nev": "Vajda József"
                                },
                                {
                                    "nev": "Nagy Júlia"
                                },
                                {
                                    "nev": "Poprádi Kristóf"
                                },
                                {
                                    "nev": "Mogyródi Krisztián"
                                },
                                {
                                    "nev": "Farkas László"
                                },
                                {
                                    "nev": "Antal László"
                                },
                                {
                                    "nev": "Kispál Márk"
                                },
                                {
                                    "nev": "Horváth Márk"
                                },
                                {
                                    "nev": "Koza Máté"
                                },
                                {
                                    "nev": "Botka Mátyás"
                                },
                                {
                                    "nev": "Balla Miklós"
                                },
                                {
                                    "nev": "Kozma Péter"
                                },
                                {
                                    "nev": "Szalai Péter"
                                },
                                {
                                    "nev": "Palágyi Polla"
                                },
                                {
                                    "nev": "Szirmai Renáta"
                                },
                                {
                                    "nev": "Patay Róbert"
                                },
                                {
                                    "nev": "Pásztor Róbert"
                                },
                                {
                                    "nev": "Bucskó Róza"
                                },
                                {
                                    "nev": "Nagy Sándor"
                                },
                                {
                                    "nev": "Rab Sebestyén"
                                },
                                {
                                    "nev": "Miklós Tamara"
                                },
                                {
                                    "nev": "Antal Tamás"
                                },
                                {
                                    "nev": "Gombos Tibor"
                                },
                                {
                                    "nev": "Dániel Tibor"
                                },
                                {
                                    "nev": "Feró Valentin"
                                },
                                {
                                    "nev": "Fodor Zoltán"
                                },
                                {
                                    "nev": "Barta Zsuzsanna"
                                }
                            ]
                        },
                        "text/html": [
                            "<table>",
                            "<tr><th>nev</th></tr>",
                            "<tr><td>Kiss Ádám</td></tr>",
                            "<tr><td>Barkóci Ádám</td></tr>",
                            "<tr><td>Nagy András</td></tr>",
                            "<tr><td>Hamvay-Kovács Anita</td></tr>",
                            "<tr><td>Csóti Attila</td></tr>",
                            "<tr><td>Opra Attila</td></tr>",
                            "<tr><td>Pataki Brigitta</td></tr>",
                            "<tr><td>Berta Dávid</td></tr>",
                            "<tr><td>Tömböly Dénes</td></tr>",
                            "<tr><td>Sarodi Dóra</td></tr>",
                            "<tr><td>Molnár Eszter</td></tr>",
                            "<tr><td>Viktor Éva</td></tr>",
                            "<tr><td>Telek Gábor</td></tr>",
                            "<tr><td>Szöllősi Gábor</td></tr>",
                            "<tr><td>Vida Gabriella</td></tr>",
                            "<tr><td>Nyíri Georgij</td></tr>",
                            "<tr><td>Kornseé Gyöngyi</td></tr>",
                            "<tr><td>Vizi István</td></tr>",
                            "<tr><td>Vajda József</td></tr>",
                            "<tr><td>Nagy Júlia</td></tr>",
                            "<tr><td>Poprádi Kristóf</td></tr>",
                            "<tr><td>Mogyródi Krisztián</td></tr>",
                            "<tr><td>Farkas László</td></tr>",
                            "<tr><td>Antal László</td></tr>",
                            "<tr><td>Kispál Márk</td></tr>",
                            "<tr><td>Horváth Márk</td></tr>",
                            "<tr><td>Koza Máté</td></tr>",
                            "<tr><td>Botka Mátyás</td></tr>",
                            "<tr><td>Balla Miklós</td></tr>",
                            "<tr><td>Kozma Péter</td></tr>",
                            "<tr><td>Szalai Péter</td></tr>",
                            "<tr><td>Palágyi Polla</td></tr>",
                            "<tr><td>Szirmai Renáta</td></tr>",
                            "<tr><td>Patay Róbert</td></tr>",
                            "<tr><td>Pásztor Róbert</td></tr>",
                            "<tr><td>Bucskó Róza</td></tr>",
                            "<tr><td>Nagy Sándor</td></tr>",
                            "<tr><td>Rab Sebestyén</td></tr>",
                            "<tr><td>Miklós Tamara</td></tr>",
                            "<tr><td>Antal Tamás</td></tr>",
                            "<tr><td>Gombos Tibor</td></tr>",
                            "<tr><td>Dániel Tibor</td></tr>",
                            "<tr><td>Feró Valentin</td></tr>",
                            "<tr><td>Fodor Zoltán</td></tr>",
                            "<tr><td>Barta Zsuzsanna</td></tr>",
                            "</table>"
                        ]
                    }
                }
            ],
            "execution_count": 26
        }
    ]
}