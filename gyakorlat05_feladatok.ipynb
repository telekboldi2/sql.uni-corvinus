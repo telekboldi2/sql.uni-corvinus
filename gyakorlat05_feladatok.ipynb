{
    "metadata": {
        "kernelspec": {
            "name": "SQL",
            "display_name": "SQL",
            "language": "sql"
        },
        "language_info": {
            "name": "sql",
            "version": ""
        }
    },
    "nbformat_minor": 2,
    "nbformat": 4,
    "cells": [
        {
            "cell_type": "markdown",
            "source": [
                "1. <span style=\"color: rgb(36, 41, 47); font-family: -apple-system, BlinkMacSystemFont, &quot;Segoe UI&quot;, Helvetica, Arial, sans-serif, &quot;Apple Color Emoji&quot;, &quot;Segoe UI Emoji&quot;; font-size: 16px;\">Készítsünk listát éves bontásban norbert2 azonosítójú ügyfél rendeléseinek értékéről!</span>\n",
                "\n",
                "1. A lista megfelelően jelölve tartalmazza a végösszeget is!"
            ],
            "metadata": {
                "azdata_cell_guid": "363cd270-6577-449b-9c89-d4b7c7972d52"
            },
            "attachments": {}
        },
        {
            "cell_type": "code",
            "source": [
                "-- rendelés és rendelés_tétel táblák\r\n",
                "-- érték: SUM(mennyiseg*egysegar)\r\n",
                "SELECT IIF(YEAR(r.REND_DATUM) is null, 'Összesen',Cast(Year(r.REND_DATUM) as nvarchar(4))),\r\n",
                "    SUM(rt.MENNYISEG)\r\n",
                "    from Rendeles r join Rendeles_tetel rt on r.SORSZAM = rt.SORSZAM\r\n",
                "    where r.[LOGIN]='norbert2'\r\n",
                "    group by rollup(year(r.REND_DATUM))"
            ],
            "metadata": {
                "azdata_cell_guid": "6ab9f633-a3b5-48c9-a1dc-4fb8235ae85b",
                "language": "sql"
            },
            "outputs": [
                {
                    "output_type": "display_data",
                    "data": {
                        "text/html": "(3 rows affected)"
                    },
                    "metadata": {}
                },
                {
                    "output_type": "display_data",
                    "data": {
                        "text/html": "Total execution time: 00:00:00.030"
                    },
                    "metadata": {}
                },
                {
                    "output_type": "execute_result",
                    "metadata": {},
                    "execution_count": 4,
                    "data": {
                        "application/vnd.dataresource+json": {
                            "schema": {
                                "fields": [
                                    {
                                        "name": "(No column name)"
                                    },
                                    {
                                        "name": "(No column name)"
                                    }
                                ]
                            },
                            "data": [
                                {
                                    "(No column name)": "871"
                                },
                                {
                                    "(No column name)": "1150"
                                },
                                {
                                    "(No column name)": "2021"
                                }
                            ]
                        },
                        "text/html": [
                            "<table>",
                            "<tr><th>(No column name)</th><th>(No column name)</th></tr>",
                            "<tr><td>2015</td><td>871</td></tr>",
                            "<tr><td>2017</td><td>1150</td></tr>",
                            "<tr><td>Összesen</td><td>2021</td></tr>",
                            "</table>"
                        ]
                    }
                }
            ],
            "execution_count": 4
        },
        {
            "cell_type": "markdown",
            "source": [
                "2. <span style=\"color: rgb(36, 41, 47); font-family: -apple-system, BlinkMacSystemFont, &quot;Segoe UI&quot;, Helvetica, Arial, sans-serif, &quot;Apple Color Emoji&quot;, &quot;Segoe UI Emoji&quot;; font-size: 16px;\">Készítsünk listát szállítási dátumonként, azon belül szállítási módonként az egyes rendelések összmennyiségéről!</span>\n",
                "\n",
                "1. Csak azokat a termékeket vegyük figyelembe, amelyek mennyiségi egysége db!\n",
                "2. A listát szűrjük úgy, hogy az csak a részösszeg sorokat és a végösszeget tartalmazza!"
            ],
            "metadata": {
                "azdata_cell_guid": "ea75c103-911f-41a3-a32c-3d40fb3e4e4a"
            },
            "attachments": {}
        },
        {
            "cell_type": "code",
            "source": [
                "-- rendeles, rendeles_tetel, termék táblák\r\n",
                "-- SUM(mennyiseg)\r\n",
                "SELECT r.SZALL_DATUM,r.SZALL_MOD, SUM(rt.MENNYISEG)\r\n",
                "    from    Rendeles r  join Rendeles_tetel rt on r.SORSZAM = rt.SORSZAM\r\n",
                "                        join Termek t on rt.TERMEKKOD = t.TERMEKKOD\r\n",
                "    where t.MEGYS ='db'\r\n",
                "    group by rollup(r.SZALL_DATUM,r.SZALL_MOD)\r\n",
                "    HAVING r.SZALL_MOD is null or r.SZALL_DATUM is NULL"
            ],
            "metadata": {
                "azdata_cell_guid": "222b9618-a8e8-42b4-a8e8-d002257122b7",
                "language": "sql"
            },
            "outputs": [
                {
                    "output_type": "display_data",
                    "data": {
                        "text/html": "(711 rows affected)"
                    },
                    "metadata": {}
                },
                {
                    "output_type": "display_data",
                    "data": {
                        "text/html": "Total execution time: 00:00:00.218"
                    },
                    "metadata": {}
                },
                {
                    "output_type": "execute_result",
                    "metadata": {},
                    "execution_count": 8,
                    "data": {
                        "application/vnd.dataresource+json": {
                            "schema": {
                                "fields": [
                                    {
                                        "name": "SZALL_DATUM"
                                    },
                                    {
                                        "name": "SZALL_MOD"
                                    },
                                    {
                                        "name": "(No column name)"
                                    }
                                ]
                            },
                            "data": [
                                {
                                    "SZALL_DATUM": "2015-05-03",
                                    "SZALL_MOD": "NULL",
                                    "(No column name)": "100"
                                },
                                {
                                    "SZALL_DATUM": "2015-05-04",
                                    "SZALL_MOD": "NULL",
                                    "(No column name)": "996"
                                },
                                {
                                    "SZALL_DATUM": "2015-05-05",
                                    "SZALL_MOD": "NULL",
                                    "(No column name)": "3152"
                                },
                                {
                                    "SZALL_DATUM": "2015-05-06",
                                    "SZALL_MOD": "NULL",
                                    "(No column name)": "5030"
                                },
                                {
                                    "SZALL_DATUM": "2015-05-07",
                                    "SZALL_MOD": "NULL",
                                    "(No column name)": "3828"
                                },
                                {
                                    "SZALL_DATUM": "2015-05-08",
                                    "SZALL_MOD": "NULL",
                                    "(No column name)": "3213"
                                },
                                {
                                    "SZALL_DATUM": "2015-05-09",
                                    "SZALL_MOD": "NULL",
                                    "(No column name)": "6665"
                                },
                                {
                                    "SZALL_DATUM": "2015-05-10",
                                    "SZALL_MOD": "NULL",
                                    "(No column name)": "6909"
                                },
                                {
                                    "SZALL_DATUM": "2015-05-11",
                                    "SZALL_MOD": "NULL",
                                    "(No column name)": "6224"
                                },
                                {
                                    "SZALL_DATUM": "2015-05-12",
                                    "SZALL_MOD": "NULL",
                                    "(No column name)": "7568"
                                },
                                {
                                    "SZALL_DATUM": "2015-05-13",
                                    "SZALL_MOD": "NULL",
                                    "(No column name)": "7985"
                                },
                                {
                                    "SZALL_DATUM": "2015-05-14",
                                    "SZALL_MOD": "NULL",
                                    "(No column name)": "9706"
                                },
                                {
                                    "SZALL_DATUM": "2015-05-15",
                                    "SZALL_MOD": "NULL",
                                    "(No column name)": "7400"
                                },
                                {
                                    "SZALL_DATUM": "2015-05-16",
                                    "SZALL_MOD": "NULL",
                                    "(No column name)": "7897"
                                },
                                {
                                    "SZALL_DATUM": "2015-05-17",
                                    "SZALL_MOD": "NULL",
                                    "(No column name)": "4572"
                                },
                                {
                                    "SZALL_DATUM": "2015-05-18",
                                    "SZALL_MOD": "NULL",
                                    "(No column name)": "8190"
                                },
                                {
                                    "SZALL_DATUM": "2015-05-19",
                                    "SZALL_MOD": "NULL",
                                    "(No column name)": "7248"
                                },
                                {
                                    "SZALL_DATUM": "2015-05-20",
                                    "SZALL_MOD": "NULL",
                                    "(No column name)": "9859"
                                },
                                {
                                    "SZALL_DATUM": "2015-05-21",
                                    "SZALL_MOD": "NULL",
                                    "(No column name)": "8041"
                                },
                                {
                                    "SZALL_DATUM": "2015-05-22",
                                    "SZALL_MOD": "NULL",
                                    "(No column name)": "8338"
                                },
                                {
                                    "SZALL_DATUM": "2015-05-23",
                                    "SZALL_MOD": "NULL",
                                    "(No column name)": "5616"
                                },
                                {
                                    "SZALL_DATUM": "2015-05-24",
                                    "SZALL_MOD": "NULL",
                                    "(No column name)": "5001"
                                },
                                {
                                    "SZALL_DATUM": "2015-05-25",
                                    "SZALL_MOD": "NULL",
                                    "(No column name)": "7611"
                                },
                                {
                                    "SZALL_DATUM": "2015-05-26",
                                    "SZALL_MOD": "NULL",
                                    "(No column name)": "7153"
                                },
                                {
                                    "SZALL_DATUM": "2015-05-27",
                                    "SZALL_MOD": "NULL",
                                    "(No column name)": "8300"
                                },
                                {
                                    "SZALL_DATUM": "2015-05-28",
                                    "SZALL_MOD": "NULL",
                                    "(No column name)": "9340"
                                },
                                {
                                    "SZALL_DATUM": "2015-05-29",
                                    "SZALL_MOD": "NULL",
                                    "(No column name)": "10784"
                                },
                                {
                                    "SZALL_DATUM": "2015-05-30",
                                    "SZALL_MOD": "NULL",
                                    "(No column name)": "7763"
                                },
                                {
                                    "SZALL_DATUM": "2015-05-31",
                                    "SZALL_MOD": "NULL",
                                    "(No column name)": "4364"
                                },
                                {
                                    "SZALL_DATUM": "2015-06-01",
                                    "SZALL_MOD": "NULL",
                                    "(No column name)": "6947"
                                },
                                {
                                    "SZALL_DATUM": "2015-06-02",
                                    "SZALL_MOD": "NULL",
                                    "(No column name)": "6241"
                                },
                                {
                                    "SZALL_DATUM": "2015-06-03",
                                    "SZALL_MOD": "NULL",
                                    "(No column name)": "9359"
                                },
                                {
                                    "SZALL_DATUM": "2015-06-04",
                                    "SZALL_MOD": "NULL",
                                    "(No column name)": "8474"
                                },
                                {
                                    "SZALL_DATUM": "2015-06-05",
                                    "SZALL_MOD": "NULL",
                                    "(No column name)": "8961"
                                },
                                {
                                    "SZALL_DATUM": "2015-06-06",
                                    "SZALL_MOD": "NULL",
                                    "(No column name)": "9510"
                                },
                                {
                                    "SZALL_DATUM": "2015-06-07",
                                    "SZALL_MOD": "NULL",
                                    "(No column name)": "7956"
                                },
                                {
                                    "SZALL_DATUM": "2015-06-08",
                                    "SZALL_MOD": "NULL",
                                    "(No column name)": "4277"
                                },
                                {
                                    "SZALL_DATUM": "2015-06-09",
                                    "SZALL_MOD": "NULL",
                                    "(No column name)": "7132"
                                },
                                {
                                    "SZALL_DATUM": "2015-06-10",
                                    "SZALL_MOD": "NULL",
                                    "(No column name)": "9346"
                                },
                                {
                                    "SZALL_DATUM": "2015-06-11",
                                    "SZALL_MOD": "NULL",
                                    "(No column name)": "5191"
                                },
                                {
                                    "SZALL_DATUM": "2015-06-12",
                                    "SZALL_MOD": "NULL",
                                    "(No column name)": "7336"
                                },
                                {
                                    "SZALL_DATUM": "2015-06-13",
                                    "SZALL_MOD": "NULL",
                                    "(No column name)": "7818"
                                },
                                {
                                    "SZALL_DATUM": "2015-06-14",
                                    "SZALL_MOD": "NULL",
                                    "(No column name)": "6484"
                                },
                                {
                                    "SZALL_DATUM": "2015-06-15",
                                    "SZALL_MOD": "NULL",
                                    "(No column name)": "7796"
                                },
                                {
                                    "SZALL_DATUM": "2015-06-16",
                                    "SZALL_MOD": "NULL",
                                    "(No column name)": "4307"
                                },
                                {
                                    "SZALL_DATUM": "2015-06-17",
                                    "SZALL_MOD": "NULL",
                                    "(No column name)": "8645"
                                },
                                {
                                    "SZALL_DATUM": "2015-06-18",
                                    "SZALL_MOD": "NULL",
                                    "(No column name)": "10077"
                                },
                                {
                                    "SZALL_DATUM": "2015-06-19",
                                    "SZALL_MOD": "NULL",
                                    "(No column name)": "5675"
                                },
                                {
                                    "SZALL_DATUM": "2015-06-20",
                                    "SZALL_MOD": "NULL",
                                    "(No column name)": "7859"
                                },
                                {
                                    "SZALL_DATUM": "2015-06-21",
                                    "SZALL_MOD": "NULL",
                                    "(No column name)": "6627"
                                },
                                {
                                    "SZALL_DATUM": "2015-06-22",
                                    "SZALL_MOD": "NULL",
                                    "(No column name)": "9084"
                                },
                                {
                                    "SZALL_DATUM": "2015-06-23",
                                    "SZALL_MOD": "NULL",
                                    "(No column name)": "8869"
                                },
                                {
                                    "SZALL_DATUM": "2015-06-24",
                                    "SZALL_MOD": "NULL",
                                    "(No column name)": "4993"
                                },
                                {
                                    "SZALL_DATUM": "2015-06-25",
                                    "SZALL_MOD": "NULL",
                                    "(No column name)": "8165"
                                },
                                {
                                    "SZALL_DATUM": "2015-06-26",
                                    "SZALL_MOD": "NULL",
                                    "(No column name)": "10834"
                                },
                                {
                                    "SZALL_DATUM": "2015-06-27",
                                    "SZALL_MOD": "NULL",
                                    "(No column name)": "6396"
                                },
                                {
                                    "SZALL_DATUM": "2015-06-28",
                                    "SZALL_MOD": "NULL",
                                    "(No column name)": "6803"
                                },
                                {
                                    "SZALL_DATUM": "2015-06-29",
                                    "SZALL_MOD": "NULL",
                                    "(No column name)": "7435"
                                },
                                {
                                    "SZALL_DATUM": "2015-06-30",
                                    "SZALL_MOD": "NULL",
                                    "(No column name)": "8526"
                                },
                                {
                                    "SZALL_DATUM": "2015-07-01",
                                    "SZALL_MOD": "NULL",
                                    "(No column name)": "6032"
                                },
                                {
                                    "SZALL_DATUM": "2015-07-02",
                                    "SZALL_MOD": "NULL",
                                    "(No column name)": "7066"
                                },
                                {
                                    "SZALL_DATUM": "2015-07-03",
                                    "SZALL_MOD": "NULL",
                                    "(No column name)": "6359"
                                },
                                {
                                    "SZALL_DATUM": "2015-07-04",
                                    "SZALL_MOD": "NULL",
                                    "(No column name)": "8739"
                                },
                                {
                                    "SZALL_DATUM": "2015-07-05",
                                    "SZALL_MOD": "NULL",
                                    "(No column name)": "8558"
                                },
                                {
                                    "SZALL_DATUM": "2015-07-06",
                                    "SZALL_MOD": "NULL",
                                    "(No column name)": "8389"
                                },
                                {
                                    "SZALL_DATUM": "2015-07-07",
                                    "SZALL_MOD": "NULL",
                                    "(No column name)": "9522"
                                },
                                {
                                    "SZALL_DATUM": "2015-07-08",
                                    "SZALL_MOD": "NULL",
                                    "(No column name)": "6395"
                                },
                                {
                                    "SZALL_DATUM": "2015-07-09",
                                    "SZALL_MOD": "NULL",
                                    "(No column name)": "7375"
                                },
                                {
                                    "SZALL_DATUM": "2015-07-10",
                                    "SZALL_MOD": "NULL",
                                    "(No column name)": "7676"
                                },
                                {
                                    "SZALL_DATUM": "2015-07-11",
                                    "SZALL_MOD": "NULL",
                                    "(No column name)": "7366"
                                },
                                {
                                    "SZALL_DATUM": "2015-07-12",
                                    "SZALL_MOD": "NULL",
                                    "(No column name)": "8638"
                                },
                                {
                                    "SZALL_DATUM": "2015-07-13",
                                    "SZALL_MOD": "NULL",
                                    "(No column name)": "8300"
                                },
                                {
                                    "SZALL_DATUM": "2015-07-14",
                                    "SZALL_MOD": "NULL",
                                    "(No column name)": "6340"
                                },
                                {
                                    "SZALL_DATUM": "2015-07-15",
                                    "SZALL_MOD": "NULL",
                                    "(No column name)": "8615"
                                },
                                {
                                    "SZALL_DATUM": "2015-07-16",
                                    "SZALL_MOD": "NULL",
                                    "(No column name)": "7041"
                                },
                                {
                                    "SZALL_DATUM": "2015-07-17",
                                    "SZALL_MOD": "NULL",
                                    "(No column name)": "7327"
                                },
                                {
                                    "SZALL_DATUM": "2015-07-18",
                                    "SZALL_MOD": "NULL",
                                    "(No column name)": "6762"
                                },
                                {
                                    "SZALL_DATUM": "2015-07-19",
                                    "SZALL_MOD": "NULL",
                                    "(No column name)": "6776"
                                },
                                {
                                    "SZALL_DATUM": "2015-07-20",
                                    "SZALL_MOD": "NULL",
                                    "(No column name)": "9748"
                                },
                                {
                                    "SZALL_DATUM": "2015-07-21",
                                    "SZALL_MOD": "NULL",
                                    "(No column name)": "9805"
                                },
                                {
                                    "SZALL_DATUM": "2015-07-22",
                                    "SZALL_MOD": "NULL",
                                    "(No column name)": "5140"
                                },
                                {
                                    "SZALL_DATUM": "2015-07-23",
                                    "SZALL_MOD": "NULL",
                                    "(No column name)": "7258"
                                },
                                {
                                    "SZALL_DATUM": "2015-07-24",
                                    "SZALL_MOD": "NULL",
                                    "(No column name)": "8697"
                                },
                                {
                                    "SZALL_DATUM": "2015-07-25",
                                    "SZALL_MOD": "NULL",
                                    "(No column name)": "8180"
                                },
                                {
                                    "SZALL_DATUM": "2015-07-26",
                                    "SZALL_MOD": "NULL",
                                    "(No column name)": "9323"
                                },
                                {
                                    "SZALL_DATUM": "2015-07-27",
                                    "SZALL_MOD": "NULL",
                                    "(No column name)": "5417"
                                },
                                {
                                    "SZALL_DATUM": "2015-07-28",
                                    "SZALL_MOD": "NULL",
                                    "(No column name)": "7825"
                                },
                                {
                                    "SZALL_DATUM": "2015-07-29",
                                    "SZALL_MOD": "NULL",
                                    "(No column name)": "6405"
                                },
                                {
                                    "SZALL_DATUM": "2015-07-30",
                                    "SZALL_MOD": "NULL",
                                    "(No column name)": "10029"
                                },
                                {
                                    "SZALL_DATUM": "2015-07-31",
                                    "SZALL_MOD": "NULL",
                                    "(No column name)": "8673"
                                },
                                {
                                    "SZALL_DATUM": "2015-08-01",
                                    "SZALL_MOD": "NULL",
                                    "(No column name)": "9957"
                                },
                                {
                                    "SZALL_DATUM": "2015-08-02",
                                    "SZALL_MOD": "NULL",
                                    "(No column name)": "7599"
                                },
                                {
                                    "SZALL_DATUM": "2015-08-03",
                                    "SZALL_MOD": "NULL",
                                    "(No column name)": "9208"
                                },
                                {
                                    "SZALL_DATUM": "2015-08-04",
                                    "SZALL_MOD": "NULL",
                                    "(No column name)": "9353"
                                },
                                {
                                    "SZALL_DATUM": "2015-08-05",
                                    "SZALL_MOD": "NULL",
                                    "(No column name)": "10342"
                                },
                                {
                                    "SZALL_DATUM": "2015-08-06",
                                    "SZALL_MOD": "NULL",
                                    "(No column name)": "5124"
                                },
                                {
                                    "SZALL_DATUM": "2015-08-07",
                                    "SZALL_MOD": "NULL",
                                    "(No column name)": "8960"
                                },
                                {
                                    "SZALL_DATUM": "2015-08-08",
                                    "SZALL_MOD": "NULL",
                                    "(No column name)": "10296"
                                },
                                {
                                    "SZALL_DATUM": "2015-08-09",
                                    "SZALL_MOD": "NULL",
                                    "(No column name)": "6026"
                                },
                                {
                                    "SZALL_DATUM": "2015-08-10",
                                    "SZALL_MOD": "NULL",
                                    "(No column name)": "7896"
                                },
                                {
                                    "SZALL_DATUM": "2015-08-11",
                                    "SZALL_MOD": "NULL",
                                    "(No column name)": "9008"
                                },
                                {
                                    "SZALL_DATUM": "2015-08-12",
                                    "SZALL_MOD": "NULL",
                                    "(No column name)": "7605"
                                },
                                {
                                    "SZALL_DATUM": "2015-08-13",
                                    "SZALL_MOD": "NULL",
                                    "(No column name)": "9380"
                                },
                                {
                                    "SZALL_DATUM": "2015-08-14",
                                    "SZALL_MOD": "NULL",
                                    "(No column name)": "9780"
                                },
                                {
                                    "SZALL_DATUM": "2015-08-15",
                                    "SZALL_MOD": "NULL",
                                    "(No column name)": "7514"
                                },
                                {
                                    "SZALL_DATUM": "2015-08-16",
                                    "SZALL_MOD": "NULL",
                                    "(No column name)": "5341"
                                },
                                {
                                    "SZALL_DATUM": "2015-08-17",
                                    "SZALL_MOD": "NULL",
                                    "(No column name)": "7162"
                                },
                                {
                                    "SZALL_DATUM": "2015-08-18",
                                    "SZALL_MOD": "NULL",
                                    "(No column name)": "6271"
                                },
                                {
                                    "SZALL_DATUM": "2015-08-19",
                                    "SZALL_MOD": "NULL",
                                    "(No column name)": "6650"
                                },
                                {
                                    "SZALL_DATUM": "2015-08-20",
                                    "SZALL_MOD": "NULL",
                                    "(No column name)": "9005"
                                },
                                {
                                    "SZALL_DATUM": "2015-08-21",
                                    "SZALL_MOD": "NULL",
                                    "(No column name)": "6874"
                                },
                                {
                                    "SZALL_DATUM": "2015-08-22",
                                    "SZALL_MOD": "NULL",
                                    "(No column name)": "10138"
                                },
                                {
                                    "SZALL_DATUM": "2015-08-23",
                                    "SZALL_MOD": "NULL",
                                    "(No column name)": "6734"
                                },
                                {
                                    "SZALL_DATUM": "2015-08-24",
                                    "SZALL_MOD": "NULL",
                                    "(No column name)": "7767"
                                },
                                {
                                    "SZALL_DATUM": "2015-08-25",
                                    "SZALL_MOD": "NULL",
                                    "(No column name)": "9206"
                                },
                                {
                                    "SZALL_DATUM": "2015-08-26",
                                    "SZALL_MOD": "NULL",
                                    "(No column name)": "11006"
                                },
                                {
                                    "SZALL_DATUM": "2015-08-27",
                                    "SZALL_MOD": "NULL",
                                    "(No column name)": "6244"
                                },
                                {
                                    "SZALL_DATUM": "2015-08-28",
                                    "SZALL_MOD": "NULL",
                                    "(No column name)": "8145"
                                },
                                {
                                    "SZALL_DATUM": "2015-08-29",
                                    "SZALL_MOD": "NULL",
                                    "(No column name)": "7380"
                                },
                                {
                                    "SZALL_DATUM": "2015-08-30",
                                    "SZALL_MOD": "NULL",
                                    "(No column name)": "9727"
                                },
                                {
                                    "SZALL_DATUM": "2015-08-31",
                                    "SZALL_MOD": "NULL",
                                    "(No column name)": "7226"
                                },
                                {
                                    "SZALL_DATUM": "2015-09-01",
                                    "SZALL_MOD": "NULL",
                                    "(No column name)": "9466"
                                },
                                {
                                    "SZALL_DATUM": "2015-09-02",
                                    "SZALL_MOD": "NULL",
                                    "(No column name)": "6179"
                                },
                                {
                                    "SZALL_DATUM": "2015-09-03",
                                    "SZALL_MOD": "NULL",
                                    "(No column name)": "9949"
                                },
                                {
                                    "SZALL_DATUM": "2015-09-04",
                                    "SZALL_MOD": "NULL",
                                    "(No column name)": "10432"
                                },
                                {
                                    "SZALL_DATUM": "2015-09-05",
                                    "SZALL_MOD": "NULL",
                                    "(No column name)": "7083"
                                },
                                {
                                    "SZALL_DATUM": "2015-09-06",
                                    "SZALL_MOD": "NULL",
                                    "(No column name)": "8378"
                                },
                                {
                                    "SZALL_DATUM": "2015-09-07",
                                    "SZALL_MOD": "NULL",
                                    "(No column name)": "8303"
                                },
                                {
                                    "SZALL_DATUM": "2015-09-08",
                                    "SZALL_MOD": "NULL",
                                    "(No column name)": "8349"
                                },
                                {
                                    "SZALL_DATUM": "2015-09-09",
                                    "SZALL_MOD": "NULL",
                                    "(No column name)": "7985"
                                },
                                {
                                    "SZALL_DATUM": "2015-09-10",
                                    "SZALL_MOD": "NULL",
                                    "(No column name)": "10353"
                                },
                                {
                                    "SZALL_DATUM": "2015-09-11",
                                    "SZALL_MOD": "NULL",
                                    "(No column name)": "9284"
                                },
                                {
                                    "SZALL_DATUM": "2015-09-12",
                                    "SZALL_MOD": "NULL",
                                    "(No column name)": "8553"
                                },
                                {
                                    "SZALL_DATUM": "2015-09-13",
                                    "SZALL_MOD": "NULL",
                                    "(No column name)": "7435"
                                },
                                {
                                    "SZALL_DATUM": "2015-09-14",
                                    "SZALL_MOD": "NULL",
                                    "(No column name)": "8232"
                                },
                                {
                                    "SZALL_DATUM": "2015-09-15",
                                    "SZALL_MOD": "NULL",
                                    "(No column name)": "4776"
                                },
                                {
                                    "SZALL_DATUM": "2015-09-16",
                                    "SZALL_MOD": "NULL",
                                    "(No column name)": "7416"
                                },
                                {
                                    "SZALL_DATUM": "2015-09-17",
                                    "SZALL_MOD": "NULL",
                                    "(No column name)": "8358"
                                },
                                {
                                    "SZALL_DATUM": "2015-09-18",
                                    "SZALL_MOD": "NULL",
                                    "(No column name)": "7210"
                                },
                                {
                                    "SZALL_DATUM": "2015-09-19",
                                    "SZALL_MOD": "NULL",
                                    "(No column name)": "8267"
                                },
                                {
                                    "SZALL_DATUM": "2015-09-20",
                                    "SZALL_MOD": "NULL",
                                    "(No column name)": "10001"
                                },
                                {
                                    "SZALL_DATUM": "2015-09-21",
                                    "SZALL_MOD": "NULL",
                                    "(No column name)": "7086"
                                },
                                {
                                    "SZALL_DATUM": "2015-09-22",
                                    "SZALL_MOD": "NULL",
                                    "(No column name)": "7424"
                                },
                                {
                                    "SZALL_DATUM": "2015-09-23",
                                    "SZALL_MOD": "NULL",
                                    "(No column name)": "8183"
                                },
                                {
                                    "SZALL_DATUM": "2015-09-24",
                                    "SZALL_MOD": "NULL",
                                    "(No column name)": "10252"
                                },
                                {
                                    "SZALL_DATUM": "2015-09-25",
                                    "SZALL_MOD": "NULL",
                                    "(No column name)": "8106"
                                },
                                {
                                    "SZALL_DATUM": "2015-09-26",
                                    "SZALL_MOD": "NULL",
                                    "(No column name)": "9451"
                                },
                                {
                                    "SZALL_DATUM": "2015-09-27",
                                    "SZALL_MOD": "NULL",
                                    "(No column name)": "8692"
                                },
                                {
                                    "SZALL_DATUM": "2015-09-28",
                                    "SZALL_MOD": "NULL",
                                    "(No column name)": "10281"
                                },
                                {
                                    "SZALL_DATUM": "2015-09-29",
                                    "SZALL_MOD": "NULL",
                                    "(No column name)": "9481"
                                },
                                {
                                    "SZALL_DATUM": "2015-09-30",
                                    "SZALL_MOD": "NULL",
                                    "(No column name)": "5900"
                                },
                                {
                                    "SZALL_DATUM": "2015-10-01",
                                    "SZALL_MOD": "NULL",
                                    "(No column name)": "9384"
                                },
                                {
                                    "SZALL_DATUM": "2015-10-02",
                                    "SZALL_MOD": "NULL",
                                    "(No column name)": "5674"
                                },
                                {
                                    "SZALL_DATUM": "2015-10-03",
                                    "SZALL_MOD": "NULL",
                                    "(No column name)": "8509"
                                },
                                {
                                    "SZALL_DATUM": "2015-10-04",
                                    "SZALL_MOD": "NULL",
                                    "(No column name)": "7645"
                                },
                                {
                                    "SZALL_DATUM": "2015-10-05",
                                    "SZALL_MOD": "NULL",
                                    "(No column name)": "8535"
                                },
                                {
                                    "SZALL_DATUM": "2015-10-06",
                                    "SZALL_MOD": "NULL",
                                    "(No column name)": "7529"
                                },
                                {
                                    "SZALL_DATUM": "2015-10-07",
                                    "SZALL_MOD": "NULL",
                                    "(No column name)": "9435"
                                },
                                {
                                    "SZALL_DATUM": "2015-10-08",
                                    "SZALL_MOD": "NULL",
                                    "(No column name)": "7319"
                                },
                                {
                                    "SZALL_DATUM": "2015-10-09",
                                    "SZALL_MOD": "NULL",
                                    "(No column name)": "8931"
                                },
                                {
                                    "SZALL_DATUM": "2015-10-10",
                                    "SZALL_MOD": "NULL",
                                    "(No column name)": "7928"
                                },
                                {
                                    "SZALL_DATUM": "2015-10-11",
                                    "SZALL_MOD": "NULL",
                                    "(No column name)": "7516"
                                },
                                {
                                    "SZALL_DATUM": "2015-10-12",
                                    "SZALL_MOD": "NULL",
                                    "(No column name)": "9355"
                                },
                                {
                                    "SZALL_DATUM": "2015-10-13",
                                    "SZALL_MOD": "NULL",
                                    "(No column name)": "6564"
                                },
                                {
                                    "SZALL_DATUM": "2015-10-14",
                                    "SZALL_MOD": "NULL",
                                    "(No column name)": "7035"
                                },
                                {
                                    "SZALL_DATUM": "2015-10-15",
                                    "SZALL_MOD": "NULL",
                                    "(No column name)": "9269"
                                },
                                {
                                    "SZALL_DATUM": "2015-10-16",
                                    "SZALL_MOD": "NULL",
                                    "(No column name)": "8427"
                                },
                                {
                                    "SZALL_DATUM": "2015-10-17",
                                    "SZALL_MOD": "NULL",
                                    "(No column name)": "6936"
                                },
                                {
                                    "SZALL_DATUM": "2015-10-18",
                                    "SZALL_MOD": "NULL",
                                    "(No column name)": "8671"
                                },
                                {
                                    "SZALL_DATUM": "2015-10-19",
                                    "SZALL_MOD": "NULL",
                                    "(No column name)": "7207"
                                },
                                {
                                    "SZALL_DATUM": "2015-10-20",
                                    "SZALL_MOD": "NULL",
                                    "(No column name)": "8613"
                                },
                                {
                                    "SZALL_DATUM": "2015-10-21",
                                    "SZALL_MOD": "NULL",
                                    "(No column name)": "7366"
                                },
                                {
                                    "SZALL_DATUM": "2015-10-22",
                                    "SZALL_MOD": "NULL",
                                    "(No column name)": "6678"
                                },
                                {
                                    "SZALL_DATUM": "2015-10-23",
                                    "SZALL_MOD": "NULL",
                                    "(No column name)": "8056"
                                },
                                {
                                    "SZALL_DATUM": "2015-10-24",
                                    "SZALL_MOD": "NULL",
                                    "(No column name)": "7233"
                                },
                                {
                                    "SZALL_DATUM": "2015-10-25",
                                    "SZALL_MOD": "NULL",
                                    "(No column name)": "9107"
                                },
                                {
                                    "SZALL_DATUM": "2015-10-26",
                                    "SZALL_MOD": "NULL",
                                    "(No column name)": "9776"
                                },
                                {
                                    "SZALL_DATUM": "2015-10-27",
                                    "SZALL_MOD": "NULL",
                                    "(No column name)": "7669"
                                },
                                {
                                    "SZALL_DATUM": "2015-10-28",
                                    "SZALL_MOD": "NULL",
                                    "(No column name)": "7522"
                                },
                                {
                                    "SZALL_DATUM": "2015-10-29",
                                    "SZALL_MOD": "NULL",
                                    "(No column name)": "6971"
                                },
                                {
                                    "SZALL_DATUM": "2015-10-30",
                                    "SZALL_MOD": "NULL",
                                    "(No column name)": "8999"
                                },
                                {
                                    "SZALL_DATUM": "2015-10-31",
                                    "SZALL_MOD": "NULL",
                                    "(No column name)": "7046"
                                },
                                {
                                    "SZALL_DATUM": "2015-11-01",
                                    "SZALL_MOD": "NULL",
                                    "(No column name)": "6171"
                                },
                                {
                                    "SZALL_DATUM": "2015-11-02",
                                    "SZALL_MOD": "NULL",
                                    "(No column name)": "7612"
                                },
                                {
                                    "SZALL_DATUM": "2015-11-03",
                                    "SZALL_MOD": "NULL",
                                    "(No column name)": "11533"
                                },
                                {
                                    "SZALL_DATUM": "2015-11-04",
                                    "SZALL_MOD": "NULL",
                                    "(No column name)": "5352"
                                },
                                {
                                    "SZALL_DATUM": "2015-11-05",
                                    "SZALL_MOD": "NULL",
                                    "(No column name)": "7183"
                                },
                                {
                                    "SZALL_DATUM": "2015-11-06",
                                    "SZALL_MOD": "NULL",
                                    "(No column name)": "8606"
                                },
                                {
                                    "SZALL_DATUM": "2015-11-07",
                                    "SZALL_MOD": "NULL",
                                    "(No column name)": "7260"
                                },
                                {
                                    "SZALL_DATUM": "2015-11-08",
                                    "SZALL_MOD": "NULL",
                                    "(No column name)": "8177"
                                },
                                {
                                    "SZALL_DATUM": "2015-11-09",
                                    "SZALL_MOD": "NULL",
                                    "(No column name)": "8431"
                                },
                                {
                                    "SZALL_DATUM": "2015-11-10",
                                    "SZALL_MOD": "NULL",
                                    "(No column name)": "8329"
                                },
                                {
                                    "SZALL_DATUM": "2015-11-11",
                                    "SZALL_MOD": "NULL",
                                    "(No column name)": "8191"
                                },
                                {
                                    "SZALL_DATUM": "2015-11-12",
                                    "SZALL_MOD": "NULL",
                                    "(No column name)": "5884"
                                },
                                {
                                    "SZALL_DATUM": "2015-11-13",
                                    "SZALL_MOD": "NULL",
                                    "(No column name)": "7359"
                                },
                                {
                                    "SZALL_DATUM": "2015-11-14",
                                    "SZALL_MOD": "NULL",
                                    "(No column name)": "7730"
                                },
                                {
                                    "SZALL_DATUM": "2015-11-15",
                                    "SZALL_MOD": "NULL",
                                    "(No column name)": "6881"
                                },
                                {
                                    "SZALL_DATUM": "2015-11-16",
                                    "SZALL_MOD": "NULL",
                                    "(No column name)": "7721"
                                },
                                {
                                    "SZALL_DATUM": "2015-11-17",
                                    "SZALL_MOD": "NULL",
                                    "(No column name)": "7234"
                                },
                                {
                                    "SZALL_DATUM": "2015-11-18",
                                    "SZALL_MOD": "NULL",
                                    "(No column name)": "8321"
                                },
                                {
                                    "SZALL_DATUM": "2015-11-19",
                                    "SZALL_MOD": "NULL",
                                    "(No column name)": "7582"
                                },
                                {
                                    "SZALL_DATUM": "2015-11-20",
                                    "SZALL_MOD": "NULL",
                                    "(No column name)": "6288"
                                },
                                {
                                    "SZALL_DATUM": "2015-11-21",
                                    "SZALL_MOD": "NULL",
                                    "(No column name)": "6657"
                                },
                                {
                                    "SZALL_DATUM": "2015-11-22",
                                    "SZALL_MOD": "NULL",
                                    "(No column name)": "8640"
                                },
                                {
                                    "SZALL_DATUM": "2015-11-23",
                                    "SZALL_MOD": "NULL",
                                    "(No column name)": "7363"
                                },
                                {
                                    "SZALL_DATUM": "2015-11-24",
                                    "SZALL_MOD": "NULL",
                                    "(No column name)": "7556"
                                },
                                {
                                    "SZALL_DATUM": "2015-11-25",
                                    "SZALL_MOD": "NULL",
                                    "(No column name)": "7103"
                                },
                                {
                                    "SZALL_DATUM": "2015-11-26",
                                    "SZALL_MOD": "NULL",
                                    "(No column name)": "8368"
                                },
                                {
                                    "SZALL_DATUM": "2015-11-27",
                                    "SZALL_MOD": "NULL",
                                    "(No column name)": "6865"
                                },
                                {
                                    "SZALL_DATUM": "2015-11-28",
                                    "SZALL_MOD": "NULL",
                                    "(No column name)": "10098"
                                },
                                {
                                    "SZALL_DATUM": "2015-11-29",
                                    "SZALL_MOD": "NULL",
                                    "(No column name)": "7636"
                                },
                                {
                                    "SZALL_DATUM": "2015-11-30",
                                    "SZALL_MOD": "NULL",
                                    "(No column name)": "7182"
                                },
                                {
                                    "SZALL_DATUM": "2015-12-01",
                                    "SZALL_MOD": "NULL",
                                    "(No column name)": "7314"
                                },
                                {
                                    "SZALL_DATUM": "2015-12-02",
                                    "SZALL_MOD": "NULL",
                                    "(No column name)": "9592"
                                },
                                {
                                    "SZALL_DATUM": "2015-12-03",
                                    "SZALL_MOD": "NULL",
                                    "(No column name)": "8829"
                                },
                                {
                                    "SZALL_DATUM": "2015-12-04",
                                    "SZALL_MOD": "NULL",
                                    "(No column name)": "8013"
                                },
                                {
                                    "SZALL_DATUM": "2015-12-05",
                                    "SZALL_MOD": "NULL",
                                    "(No column name)": "8887"
                                },
                                {
                                    "SZALL_DATUM": "2015-12-06",
                                    "SZALL_MOD": "NULL",
                                    "(No column name)": "5596"
                                },
                                {
                                    "SZALL_DATUM": "2015-12-07",
                                    "SZALL_MOD": "NULL",
                                    "(No column name)": "8825"
                                },
                                {
                                    "SZALL_DATUM": "2015-12-08",
                                    "SZALL_MOD": "NULL",
                                    "(No column name)": "7819"
                                },
                                {
                                    "SZALL_DATUM": "2015-12-09",
                                    "SZALL_MOD": "NULL",
                                    "(No column name)": "7897"
                                },
                                {
                                    "SZALL_DATUM": "2015-12-10",
                                    "SZALL_MOD": "NULL",
                                    "(No column name)": "9644"
                                },
                                {
                                    "SZALL_DATUM": "2015-12-11",
                                    "SZALL_MOD": "NULL",
                                    "(No column name)": "8093"
                                },
                                {
                                    "SZALL_DATUM": "2015-12-12",
                                    "SZALL_MOD": "NULL",
                                    "(No column name)": "8957"
                                },
                                {
                                    "SZALL_DATUM": "2015-12-13",
                                    "SZALL_MOD": "NULL",
                                    "(No column name)": "7399"
                                },
                                {
                                    "SZALL_DATUM": "2015-12-14",
                                    "SZALL_MOD": "NULL",
                                    "(No column name)": "7676"
                                },
                                {
                                    "SZALL_DATUM": "2015-12-15",
                                    "SZALL_MOD": "NULL",
                                    "(No column name)": "6863"
                                },
                                {
                                    "SZALL_DATUM": "2015-12-16",
                                    "SZALL_MOD": "NULL",
                                    "(No column name)": "7886"
                                },
                                {
                                    "SZALL_DATUM": "2015-12-17",
                                    "SZALL_MOD": "NULL",
                                    "(No column name)": "6894"
                                },
                                {
                                    "SZALL_DATUM": "2015-12-18",
                                    "SZALL_MOD": "NULL",
                                    "(No column name)": "12260"
                                },
                                {
                                    "SZALL_DATUM": "2015-12-19",
                                    "SZALL_MOD": "NULL",
                                    "(No column name)": "5788"
                                },
                                {
                                    "SZALL_DATUM": "2015-12-20",
                                    "SZALL_MOD": "NULL",
                                    "(No column name)": "8699"
                                },
                                {
                                    "SZALL_DATUM": "2015-12-21",
                                    "SZALL_MOD": "NULL",
                                    "(No column name)": "6630"
                                },
                                {
                                    "SZALL_DATUM": "2015-12-22",
                                    "SZALL_MOD": "NULL",
                                    "(No column name)": "9212"
                                },
                                {
                                    "SZALL_DATUM": "2015-12-23",
                                    "SZALL_MOD": "NULL",
                                    "(No column name)": "6676"
                                },
                                {
                                    "SZALL_DATUM": "2015-12-24",
                                    "SZALL_MOD": "NULL",
                                    "(No column name)": "8869"
                                },
                                {
                                    "SZALL_DATUM": "2015-12-25",
                                    "SZALL_MOD": "NULL",
                                    "(No column name)": "6944"
                                },
                                {
                                    "SZALL_DATUM": "2015-12-26",
                                    "SZALL_MOD": "NULL",
                                    "(No column name)": "8921"
                                },
                                {
                                    "SZALL_DATUM": "2015-12-27",
                                    "SZALL_MOD": "NULL",
                                    "(No column name)": "7648"
                                },
                                {
                                    "SZALL_DATUM": "2015-12-28",
                                    "SZALL_MOD": "NULL",
                                    "(No column name)": "8042"
                                },
                                {
                                    "SZALL_DATUM": "2015-12-29",
                                    "SZALL_MOD": "NULL",
                                    "(No column name)": "7923"
                                },
                                {
                                    "SZALL_DATUM": "2015-12-30",
                                    "SZALL_MOD": "NULL",
                                    "(No column name)": "6562"
                                },
                                {
                                    "SZALL_DATUM": "2015-12-31",
                                    "SZALL_MOD": "NULL",
                                    "(No column name)": "7021"
                                },
                                {
                                    "SZALL_DATUM": "2016-01-01",
                                    "SZALL_MOD": "NULL",
                                    "(No column name)": "8837"
                                },
                                {
                                    "SZALL_DATUM": "2016-01-02",
                                    "SZALL_MOD": "NULL",
                                    "(No column name)": "7518"
                                },
                                {
                                    "SZALL_DATUM": "2016-01-03",
                                    "SZALL_MOD": "NULL",
                                    "(No column name)": "8422"
                                },
                                {
                                    "SZALL_DATUM": "2016-01-04",
                                    "SZALL_MOD": "NULL",
                                    "(No column name)": "8813"
                                },
                                {
                                    "SZALL_DATUM": "2016-01-05",
                                    "SZALL_MOD": "NULL",
                                    "(No column name)": "6895"
                                },
                                {
                                    "SZALL_DATUM": "2016-01-06",
                                    "SZALL_MOD": "NULL",
                                    "(No column name)": "6716"
                                },
                                {
                                    "SZALL_DATUM": "2016-01-07",
                                    "SZALL_MOD": "NULL",
                                    "(No column name)": "5593"
                                },
                                {
                                    "SZALL_DATUM": "2016-01-08",
                                    "SZALL_MOD": "NULL",
                                    "(No column name)": "9534"
                                },
                                {
                                    "SZALL_DATUM": "2016-01-09",
                                    "SZALL_MOD": "NULL",
                                    "(No column name)": "7056"
                                },
                                {
                                    "SZALL_DATUM": "2016-01-10",
                                    "SZALL_MOD": "NULL",
                                    "(No column name)": "8057"
                                },
                                {
                                    "SZALL_DATUM": "2016-01-11",
                                    "SZALL_MOD": "NULL",
                                    "(No column name)": "6734"
                                },
                                {
                                    "SZALL_DATUM": "2016-01-12",
                                    "SZALL_MOD": "NULL",
                                    "(No column name)": "6949"
                                },
                                {
                                    "SZALL_DATUM": "2016-01-13",
                                    "SZALL_MOD": "NULL",
                                    "(No column name)": "7487"
                                },
                                {
                                    "SZALL_DATUM": "2016-01-14",
                                    "SZALL_MOD": "NULL",
                                    "(No column name)": "8998"
                                },
                                {
                                    "SZALL_DATUM": "2016-01-15",
                                    "SZALL_MOD": "NULL",
                                    "(No column name)": "9345"
                                },
                                {
                                    "SZALL_DATUM": "2016-01-16",
                                    "SZALL_MOD": "NULL",
                                    "(No column name)": "8068"
                                },
                                {
                                    "SZALL_DATUM": "2016-01-17",
                                    "SZALL_MOD": "NULL",
                                    "(No column name)": "6954"
                                },
                                {
                                    "SZALL_DATUM": "2016-01-18",
                                    "SZALL_MOD": "NULL",
                                    "(No column name)": "4416"
                                },
                                {
                                    "SZALL_DATUM": "2016-01-19",
                                    "SZALL_MOD": "NULL",
                                    "(No column name)": "7124"
                                },
                                {
                                    "SZALL_DATUM": "2016-01-20",
                                    "SZALL_MOD": "NULL",
                                    "(No column name)": "8568"
                                },
                                {
                                    "SZALL_DATUM": "2016-01-21",
                                    "SZALL_MOD": "NULL",
                                    "(No column name)": "10953"
                                },
                                {
                                    "SZALL_DATUM": "2016-01-22",
                                    "SZALL_MOD": "NULL",
                                    "(No column name)": "8588"
                                },
                                {
                                    "SZALL_DATUM": "2016-01-23",
                                    "SZALL_MOD": "NULL",
                                    "(No column name)": "6512"
                                },
                                {
                                    "SZALL_DATUM": "2016-01-24",
                                    "SZALL_MOD": "NULL",
                                    "(No column name)": "8898"
                                },
                                {
                                    "SZALL_DATUM": "2016-01-25",
                                    "SZALL_MOD": "NULL",
                                    "(No column name)": "5191"
                                },
                                {
                                    "SZALL_DATUM": "2016-01-26",
                                    "SZALL_MOD": "NULL",
                                    "(No column name)": "5293"
                                },
                                {
                                    "SZALL_DATUM": "2016-01-27",
                                    "SZALL_MOD": "NULL",
                                    "(No column name)": "6513"
                                },
                                {
                                    "SZALL_DATUM": "2016-01-28",
                                    "SZALL_MOD": "NULL",
                                    "(No column name)": "8119"
                                },
                                {
                                    "SZALL_DATUM": "2016-01-29",
                                    "SZALL_MOD": "NULL",
                                    "(No column name)": "6658"
                                },
                                {
                                    "SZALL_DATUM": "2016-01-30",
                                    "SZALL_MOD": "NULL",
                                    "(No column name)": "8727"
                                },
                                {
                                    "SZALL_DATUM": "2016-01-31",
                                    "SZALL_MOD": "NULL",
                                    "(No column name)": "7527"
                                },
                                {
                                    "SZALL_DATUM": "2016-02-01",
                                    "SZALL_MOD": "NULL",
                                    "(No column name)": "9120"
                                },
                                {
                                    "SZALL_DATUM": "2016-02-02",
                                    "SZALL_MOD": "NULL",
                                    "(No column name)": "8088"
                                },
                                {
                                    "SZALL_DATUM": "2016-02-03",
                                    "SZALL_MOD": "NULL",
                                    "(No column name)": "9306"
                                },
                                {
                                    "SZALL_DATUM": "2016-02-04",
                                    "SZALL_MOD": "NULL",
                                    "(No column name)": "7994"
                                },
                                {
                                    "SZALL_DATUM": "2016-02-05",
                                    "SZALL_MOD": "NULL",
                                    "(No column name)": "9703"
                                },
                                {
                                    "SZALL_DATUM": "2016-02-06",
                                    "SZALL_MOD": "NULL",
                                    "(No column name)": "9860"
                                },
                                {
                                    "SZALL_DATUM": "2016-02-07",
                                    "SZALL_MOD": "NULL",
                                    "(No column name)": "6630"
                                },
                                {
                                    "SZALL_DATUM": "2016-02-08",
                                    "SZALL_MOD": "NULL",
                                    "(No column name)": "10093"
                                },
                                {
                                    "SZALL_DATUM": "2016-02-09",
                                    "SZALL_MOD": "NULL",
                                    "(No column name)": "9706"
                                },
                                {
                                    "SZALL_DATUM": "2016-02-10",
                                    "SZALL_MOD": "NULL",
                                    "(No column name)": "8520"
                                },
                                {
                                    "SZALL_DATUM": "2016-02-11",
                                    "SZALL_MOD": "NULL",
                                    "(No column name)": "7094"
                                },
                                {
                                    "SZALL_DATUM": "2016-02-12",
                                    "SZALL_MOD": "NULL",
                                    "(No column name)": "7789"
                                },
                                {
                                    "SZALL_DATUM": "2016-02-13",
                                    "SZALL_MOD": "NULL",
                                    "(No column name)": "7991"
                                },
                                {
                                    "SZALL_DATUM": "2016-02-14",
                                    "SZALL_MOD": "NULL",
                                    "(No column name)": "8049"
                                },
                                {
                                    "SZALL_DATUM": "2016-02-15",
                                    "SZALL_MOD": "NULL",
                                    "(No column name)": "10033"
                                },
                                {
                                    "SZALL_DATUM": "2016-02-16",
                                    "SZALL_MOD": "NULL",
                                    "(No column name)": "8049"
                                },
                                {
                                    "SZALL_DATUM": "2016-02-17",
                                    "SZALL_MOD": "NULL",
                                    "(No column name)": "9586"
                                },
                                {
                                    "SZALL_DATUM": "2016-02-18",
                                    "SZALL_MOD": "NULL",
                                    "(No column name)": "5922"
                                },
                                {
                                    "SZALL_DATUM": "2016-02-19",
                                    "SZALL_MOD": "NULL",
                                    "(No column name)": "8898"
                                },
                                {
                                    "SZALL_DATUM": "2016-02-20",
                                    "SZALL_MOD": "NULL",
                                    "(No column name)": "7549"
                                },
                                {
                                    "SZALL_DATUM": "2016-02-21",
                                    "SZALL_MOD": "NULL",
                                    "(No column name)": "6531"
                                },
                                {
                                    "SZALL_DATUM": "2016-02-22",
                                    "SZALL_MOD": "NULL",
                                    "(No column name)": "8724"
                                },
                                {
                                    "SZALL_DATUM": "2016-02-23",
                                    "SZALL_MOD": "NULL",
                                    "(No column name)": "6959"
                                },
                                {
                                    "SZALL_DATUM": "2016-02-24",
                                    "SZALL_MOD": "NULL",
                                    "(No column name)": "6314"
                                },
                                {
                                    "SZALL_DATUM": "2016-02-25",
                                    "SZALL_MOD": "NULL",
                                    "(No column name)": "7324"
                                },
                                {
                                    "SZALL_DATUM": "2016-02-26",
                                    "SZALL_MOD": "NULL",
                                    "(No column name)": "8466"
                                },
                                {
                                    "SZALL_DATUM": "2016-02-27",
                                    "SZALL_MOD": "NULL",
                                    "(No column name)": "7122"
                                },
                                {
                                    "SZALL_DATUM": "2016-02-28",
                                    "SZALL_MOD": "NULL",
                                    "(No column name)": "8447"
                                },
                                {
                                    "SZALL_DATUM": "2016-02-29",
                                    "SZALL_MOD": "NULL",
                                    "(No column name)": "8516"
                                },
                                {
                                    "SZALL_DATUM": "2016-03-01",
                                    "SZALL_MOD": "NULL",
                                    "(No column name)": "9654"
                                },
                                {
                                    "SZALL_DATUM": "2016-03-02",
                                    "SZALL_MOD": "NULL",
                                    "(No column name)": "7282"
                                },
                                {
                                    "SZALL_DATUM": "2016-03-03",
                                    "SZALL_MOD": "NULL",
                                    "(No column name)": "8853"
                                },
                                {
                                    "SZALL_DATUM": "2016-03-04",
                                    "SZALL_MOD": "NULL",
                                    "(No column name)": "8549"
                                },
                                {
                                    "SZALL_DATUM": "2016-03-05",
                                    "SZALL_MOD": "NULL",
                                    "(No column name)": "9463"
                                },
                                {
                                    "SZALL_DATUM": "2016-03-06",
                                    "SZALL_MOD": "NULL",
                                    "(No column name)": "7740"
                                },
                                {
                                    "SZALL_DATUM": "2016-03-07",
                                    "SZALL_MOD": "NULL",
                                    "(No column name)": "7680"
                                },
                                {
                                    "SZALL_DATUM": "2016-03-08",
                                    "SZALL_MOD": "NULL",
                                    "(No column name)": "5849"
                                },
                                {
                                    "SZALL_DATUM": "2016-03-09",
                                    "SZALL_MOD": "NULL",
                                    "(No column name)": "9412"
                                },
                                {
                                    "SZALL_DATUM": "2016-03-10",
                                    "SZALL_MOD": "NULL",
                                    "(No column name)": "8848"
                                },
                                {
                                    "SZALL_DATUM": "2016-03-11",
                                    "SZALL_MOD": "NULL",
                                    "(No column name)": "6193"
                                },
                                {
                                    "SZALL_DATUM": "2016-03-12",
                                    "SZALL_MOD": "NULL",
                                    "(No column name)": "10487"
                                },
                                {
                                    "SZALL_DATUM": "2016-03-13",
                                    "SZALL_MOD": "NULL",
                                    "(No column name)": "5913"
                                },
                                {
                                    "SZALL_DATUM": "2016-03-14",
                                    "SZALL_MOD": "NULL",
                                    "(No column name)": "9336"
                                },
                                {
                                    "SZALL_DATUM": "2016-03-15",
                                    "SZALL_MOD": "NULL",
                                    "(No column name)": "8180"
                                },
                                {
                                    "SZALL_DATUM": "2016-03-16",
                                    "SZALL_MOD": "NULL",
                                    "(No column name)": "7448"
                                },
                                {
                                    "SZALL_DATUM": "2016-03-17",
                                    "SZALL_MOD": "NULL",
                                    "(No column name)": "7770"
                                },
                                {
                                    "SZALL_DATUM": "2016-03-18",
                                    "SZALL_MOD": "NULL",
                                    "(No column name)": "6927"
                                },
                                {
                                    "SZALL_DATUM": "2016-03-19",
                                    "SZALL_MOD": "NULL",
                                    "(No column name)": "7827"
                                },
                                {
                                    "SZALL_DATUM": "2016-03-20",
                                    "SZALL_MOD": "NULL",
                                    "(No column name)": "12190"
                                },
                                {
                                    "SZALL_DATUM": "2016-03-21",
                                    "SZALL_MOD": "NULL",
                                    "(No column name)": "11075"
                                },
                                {
                                    "SZALL_DATUM": "2016-03-22",
                                    "SZALL_MOD": "NULL",
                                    "(No column name)": "7770"
                                },
                                {
                                    "SZALL_DATUM": "2016-03-23",
                                    "SZALL_MOD": "NULL",
                                    "(No column name)": "6397"
                                },
                                {
                                    "SZALL_DATUM": "2016-03-24",
                                    "SZALL_MOD": "NULL",
                                    "(No column name)": "7220"
                                },
                                {
                                    "SZALL_DATUM": "2016-03-25",
                                    "SZALL_MOD": "NULL",
                                    "(No column name)": "8763"
                                },
                                {
                                    "SZALL_DATUM": "2016-03-26",
                                    "SZALL_MOD": "NULL",
                                    "(No column name)": "9893"
                                },
                                {
                                    "SZALL_DATUM": "2016-03-27",
                                    "SZALL_MOD": "NULL",
                                    "(No column name)": "8950"
                                },
                                {
                                    "SZALL_DATUM": "2016-03-28",
                                    "SZALL_MOD": "NULL",
                                    "(No column name)": "7552"
                                },
                                {
                                    "SZALL_DATUM": "2016-03-29",
                                    "SZALL_MOD": "NULL",
                                    "(No column name)": "7416"
                                },
                                {
                                    "SZALL_DATUM": "2016-03-30",
                                    "SZALL_MOD": "NULL",
                                    "(No column name)": "8631"
                                },
                                {
                                    "SZALL_DATUM": "2016-03-31",
                                    "SZALL_MOD": "NULL",
                                    "(No column name)": "6885"
                                },
                                {
                                    "SZALL_DATUM": "2016-04-01",
                                    "SZALL_MOD": "NULL",
                                    "(No column name)": "8756"
                                },
                                {
                                    "SZALL_DATUM": "2016-04-02",
                                    "SZALL_MOD": "NULL",
                                    "(No column name)": "8073"
                                },
                                {
                                    "SZALL_DATUM": "2016-04-03",
                                    "SZALL_MOD": "NULL",
                                    "(No column name)": "5897"
                                },
                                {
                                    "SZALL_DATUM": "2016-04-04",
                                    "SZALL_MOD": "NULL",
                                    "(No column name)": "7405"
                                },
                                {
                                    "SZALL_DATUM": "2016-04-05",
                                    "SZALL_MOD": "NULL",
                                    "(No column name)": "8092"
                                },
                                {
                                    "SZALL_DATUM": "2016-04-06",
                                    "SZALL_MOD": "NULL",
                                    "(No column name)": "7458"
                                },
                                {
                                    "SZALL_DATUM": "2016-04-07",
                                    "SZALL_MOD": "NULL",
                                    "(No column name)": "9216"
                                },
                                {
                                    "SZALL_DATUM": "2016-04-08",
                                    "SZALL_MOD": "NULL",
                                    "(No column name)": "10889"
                                },
                                {
                                    "SZALL_DATUM": "2016-04-09",
                                    "SZALL_MOD": "NULL",
                                    "(No column name)": "9754"
                                },
                                {
                                    "SZALL_DATUM": "2016-04-10",
                                    "SZALL_MOD": "NULL",
                                    "(No column name)": "9878"
                                },
                                {
                                    "SZALL_DATUM": "2016-04-11",
                                    "SZALL_MOD": "NULL",
                                    "(No column name)": "8948"
                                },
                                {
                                    "SZALL_DATUM": "2016-04-12",
                                    "SZALL_MOD": "NULL",
                                    "(No column name)": "7144"
                                },
                                {
                                    "SZALL_DATUM": "2016-04-13",
                                    "SZALL_MOD": "NULL",
                                    "(No column name)": "7728"
                                },
                                {
                                    "SZALL_DATUM": "2016-04-14",
                                    "SZALL_MOD": "NULL",
                                    "(No column name)": "8805"
                                },
                                {
                                    "SZALL_DATUM": "2016-04-15",
                                    "SZALL_MOD": "NULL",
                                    "(No column name)": "8331"
                                },
                                {
                                    "SZALL_DATUM": "2016-04-16",
                                    "SZALL_MOD": "NULL",
                                    "(No column name)": "8755"
                                },
                                {
                                    "SZALL_DATUM": "2016-04-17",
                                    "SZALL_MOD": "NULL",
                                    "(No column name)": "10267"
                                },
                                {
                                    "SZALL_DATUM": "2016-04-18",
                                    "SZALL_MOD": "NULL",
                                    "(No column name)": "7586"
                                },
                                {
                                    "SZALL_DATUM": "2016-04-19",
                                    "SZALL_MOD": "NULL",
                                    "(No column name)": "9190"
                                },
                                {
                                    "SZALL_DATUM": "2016-04-20",
                                    "SZALL_MOD": "NULL",
                                    "(No column name)": "6584"
                                },
                                {
                                    "SZALL_DATUM": "2016-04-21",
                                    "SZALL_MOD": "NULL",
                                    "(No column name)": "6628"
                                },
                                {
                                    "SZALL_DATUM": "2016-04-22",
                                    "SZALL_MOD": "NULL",
                                    "(No column name)": "6502"
                                },
                                {
                                    "SZALL_DATUM": "2016-04-23",
                                    "SZALL_MOD": "NULL",
                                    "(No column name)": "6588"
                                },
                                {
                                    "SZALL_DATUM": "2016-04-24",
                                    "SZALL_MOD": "NULL",
                                    "(No column name)": "9512"
                                },
                                {
                                    "SZALL_DATUM": "2016-04-25",
                                    "SZALL_MOD": "NULL",
                                    "(No column name)": "10177"
                                },
                                {
                                    "SZALL_DATUM": "2016-04-26",
                                    "SZALL_MOD": "NULL",
                                    "(No column name)": "7946"
                                },
                                {
                                    "SZALL_DATUM": "2016-04-27",
                                    "SZALL_MOD": "NULL",
                                    "(No column name)": "8344"
                                },
                                {
                                    "SZALL_DATUM": "2016-04-28",
                                    "SZALL_MOD": "NULL",
                                    "(No column name)": "7732"
                                },
                                {
                                    "SZALL_DATUM": "2016-04-29",
                                    "SZALL_MOD": "NULL",
                                    "(No column name)": "7870"
                                },
                                {
                                    "SZALL_DATUM": "2016-04-30",
                                    "SZALL_MOD": "NULL",
                                    "(No column name)": "7898"
                                },
                                {
                                    "SZALL_DATUM": "2016-05-01",
                                    "SZALL_MOD": "NULL",
                                    "(No column name)": "6600"
                                },
                                {
                                    "SZALL_DATUM": "2016-05-02",
                                    "SZALL_MOD": "NULL",
                                    "(No column name)": "8142"
                                },
                                {
                                    "SZALL_DATUM": "2016-05-03",
                                    "SZALL_MOD": "NULL",
                                    "(No column name)": "5084"
                                },
                                {
                                    "SZALL_DATUM": "2016-05-04",
                                    "SZALL_MOD": "NULL",
                                    "(No column name)": "9125"
                                },
                                {
                                    "SZALL_DATUM": "2016-05-05",
                                    "SZALL_MOD": "NULL",
                                    "(No column name)": "7845"
                                },
                                {
                                    "SZALL_DATUM": "2016-05-06",
                                    "SZALL_MOD": "NULL",
                                    "(No column name)": "7969"
                                },
                                {
                                    "SZALL_DATUM": "2016-05-07",
                                    "SZALL_MOD": "NULL",
                                    "(No column name)": "8896"
                                },
                                {
                                    "SZALL_DATUM": "2016-05-08",
                                    "SZALL_MOD": "NULL",
                                    "(No column name)": "7858"
                                },
                                {
                                    "SZALL_DATUM": "2016-05-09",
                                    "SZALL_MOD": "NULL",
                                    "(No column name)": "11178"
                                },
                                {
                                    "SZALL_DATUM": "2016-05-10",
                                    "SZALL_MOD": "NULL",
                                    "(No column name)": "8968"
                                },
                                {
                                    "SZALL_DATUM": "2016-05-11",
                                    "SZALL_MOD": "NULL",
                                    "(No column name)": "8132"
                                },
                                {
                                    "SZALL_DATUM": "2016-05-12",
                                    "SZALL_MOD": "NULL",
                                    "(No column name)": "8095"
                                },
                                {
                                    "SZALL_DATUM": "2016-05-13",
                                    "SZALL_MOD": "NULL",
                                    "(No column name)": "8089"
                                },
                                {
                                    "SZALL_DATUM": "2016-05-14",
                                    "SZALL_MOD": "NULL",
                                    "(No column name)": "7722"
                                },
                                {
                                    "SZALL_DATUM": "2016-05-15",
                                    "SZALL_MOD": "NULL",
                                    "(No column name)": "5490"
                                },
                                {
                                    "SZALL_DATUM": "2016-05-16",
                                    "SZALL_MOD": "NULL",
                                    "(No column name)": "7944"
                                },
                                {
                                    "SZALL_DATUM": "2016-05-17",
                                    "SZALL_MOD": "NULL",
                                    "(No column name)": "8888"
                                },
                                {
                                    "SZALL_DATUM": "2016-05-18",
                                    "SZALL_MOD": "NULL",
                                    "(No column name)": "5720"
                                },
                                {
                                    "SZALL_DATUM": "2016-05-19",
                                    "SZALL_MOD": "NULL",
                                    "(No column name)": "7578"
                                },
                                {
                                    "SZALL_DATUM": "2016-05-20",
                                    "SZALL_MOD": "NULL",
                                    "(No column name)": "8879"
                                },
                                {
                                    "SZALL_DATUM": "2016-05-21",
                                    "SZALL_MOD": "NULL",
                                    "(No column name)": "9030"
                                },
                                {
                                    "SZALL_DATUM": "2016-05-22",
                                    "SZALL_MOD": "NULL",
                                    "(No column name)": "4914"
                                },
                                {
                                    "SZALL_DATUM": "2016-05-23",
                                    "SZALL_MOD": "NULL",
                                    "(No column name)": "8577"
                                },
                                {
                                    "SZALL_DATUM": "2016-05-24",
                                    "SZALL_MOD": "NULL",
                                    "(No column name)": "8816"
                                },
                                {
                                    "SZALL_DATUM": "2016-05-25",
                                    "SZALL_MOD": "NULL",
                                    "(No column name)": "9296"
                                },
                                {
                                    "SZALL_DATUM": "2016-05-26",
                                    "SZALL_MOD": "NULL",
                                    "(No column name)": "5287"
                                },
                                {
                                    "SZALL_DATUM": "2016-05-27",
                                    "SZALL_MOD": "NULL",
                                    "(No column name)": "9701"
                                },
                                {
                                    "SZALL_DATUM": "2016-05-28",
                                    "SZALL_MOD": "NULL",
                                    "(No column name)": "6509"
                                },
                                {
                                    "SZALL_DATUM": "2016-05-29",
                                    "SZALL_MOD": "NULL",
                                    "(No column name)": "9450"
                                },
                                {
                                    "SZALL_DATUM": "2016-05-30",
                                    "SZALL_MOD": "NULL",
                                    "(No column name)": "6884"
                                },
                                {
                                    "SZALL_DATUM": "2016-05-31",
                                    "SZALL_MOD": "NULL",
                                    "(No column name)": "10007"
                                },
                                {
                                    "SZALL_DATUM": "2016-06-01",
                                    "SZALL_MOD": "NULL",
                                    "(No column name)": "8484"
                                },
                                {
                                    "SZALL_DATUM": "2016-06-02",
                                    "SZALL_MOD": "NULL",
                                    "(No column name)": "6928"
                                },
                                {
                                    "SZALL_DATUM": "2016-06-03",
                                    "SZALL_MOD": "NULL",
                                    "(No column name)": "6567"
                                },
                                {
                                    "SZALL_DATUM": "2016-06-04",
                                    "SZALL_MOD": "NULL",
                                    "(No column name)": "7904"
                                },
                                {
                                    "SZALL_DATUM": "2016-06-05",
                                    "SZALL_MOD": "NULL",
                                    "(No column name)": "5802"
                                },
                                {
                                    "SZALL_DATUM": "2016-06-06",
                                    "SZALL_MOD": "NULL",
                                    "(No column name)": "9474"
                                },
                                {
                                    "SZALL_DATUM": "2016-06-07",
                                    "SZALL_MOD": "NULL",
                                    "(No column name)": "8722"
                                },
                                {
                                    "SZALL_DATUM": "2016-06-08",
                                    "SZALL_MOD": "NULL",
                                    "(No column name)": "7019"
                                },
                                {
                                    "SZALL_DATUM": "2016-06-09",
                                    "SZALL_MOD": "NULL",
                                    "(No column name)": "7354"
                                },
                                {
                                    "SZALL_DATUM": "2016-06-10",
                                    "SZALL_MOD": "NULL",
                                    "(No column name)": "8873"
                                },
                                {
                                    "SZALL_DATUM": "2016-06-11",
                                    "SZALL_MOD": "NULL",
                                    "(No column name)": "9217"
                                },
                                {
                                    "SZALL_DATUM": "2016-06-12",
                                    "SZALL_MOD": "NULL",
                                    "(No column name)": "9418"
                                },
                                {
                                    "SZALL_DATUM": "2016-06-13",
                                    "SZALL_MOD": "NULL",
                                    "(No column name)": "6407"
                                },
                                {
                                    "SZALL_DATUM": "2016-06-14",
                                    "SZALL_MOD": "NULL",
                                    "(No column name)": "7968"
                                },
                                {
                                    "SZALL_DATUM": "2016-06-15",
                                    "SZALL_MOD": "NULL",
                                    "(No column name)": "8830"
                                },
                                {
                                    "SZALL_DATUM": "2016-06-16",
                                    "SZALL_MOD": "NULL",
                                    "(No column name)": "6462"
                                },
                                {
                                    "SZALL_DATUM": "2016-06-17",
                                    "SZALL_MOD": "NULL",
                                    "(No column name)": "9189"
                                },
                                {
                                    "SZALL_DATUM": "2016-06-18",
                                    "SZALL_MOD": "NULL",
                                    "(No column name)": "6311"
                                },
                                {
                                    "SZALL_DATUM": "2016-06-19",
                                    "SZALL_MOD": "NULL",
                                    "(No column name)": "8834"
                                },
                                {
                                    "SZALL_DATUM": "2016-06-20",
                                    "SZALL_MOD": "NULL",
                                    "(No column name)": "8005"
                                },
                                {
                                    "SZALL_DATUM": "2016-06-21",
                                    "SZALL_MOD": "NULL",
                                    "(No column name)": "6482"
                                },
                                {
                                    "SZALL_DATUM": "2016-06-22",
                                    "SZALL_MOD": "NULL",
                                    "(No column name)": "6541"
                                },
                                {
                                    "SZALL_DATUM": "2016-06-23",
                                    "SZALL_MOD": "NULL",
                                    "(No column name)": "6662"
                                },
                                {
                                    "SZALL_DATUM": "2016-06-24",
                                    "SZALL_MOD": "NULL",
                                    "(No column name)": "8530"
                                },
                                {
                                    "SZALL_DATUM": "2016-06-25",
                                    "SZALL_MOD": "NULL",
                                    "(No column name)": "8262"
                                },
                                {
                                    "SZALL_DATUM": "2016-06-26",
                                    "SZALL_MOD": "NULL",
                                    "(No column name)": "10488"
                                },
                                {
                                    "SZALL_DATUM": "2016-06-27",
                                    "SZALL_MOD": "NULL",
                                    "(No column name)": "5541"
                                },
                                {
                                    "SZALL_DATUM": "2016-06-28",
                                    "SZALL_MOD": "NULL",
                                    "(No column name)": "10267"
                                },
                                {
                                    "SZALL_DATUM": "2016-06-29",
                                    "SZALL_MOD": "NULL",
                                    "(No column name)": "9869"
                                },
                                {
                                    "SZALL_DATUM": "2016-06-30",
                                    "SZALL_MOD": "NULL",
                                    "(No column name)": "9437"
                                },
                                {
                                    "SZALL_DATUM": "2016-07-01",
                                    "SZALL_MOD": "NULL",
                                    "(No column name)": "5916"
                                },
                                {
                                    "SZALL_DATUM": "2016-07-02",
                                    "SZALL_MOD": "NULL",
                                    "(No column name)": "6710"
                                },
                                {
                                    "SZALL_DATUM": "2016-07-03",
                                    "SZALL_MOD": "NULL",
                                    "(No column name)": "9081"
                                },
                                {
                                    "SZALL_DATUM": "2016-07-04",
                                    "SZALL_MOD": "NULL",
                                    "(No column name)": "10816"
                                },
                                {
                                    "SZALL_DATUM": "2016-07-05",
                                    "SZALL_MOD": "NULL",
                                    "(No column name)": "8863"
                                },
                                {
                                    "SZALL_DATUM": "2016-07-06",
                                    "SZALL_MOD": "NULL",
                                    "(No column name)": "7283"
                                },
                                {
                                    "SZALL_DATUM": "2016-07-07",
                                    "SZALL_MOD": "NULL",
                                    "(No column name)": "5922"
                                },
                                {
                                    "SZALL_DATUM": "2016-07-08",
                                    "SZALL_MOD": "NULL",
                                    "(No column name)": "7968"
                                },
                                {
                                    "SZALL_DATUM": "2016-07-09",
                                    "SZALL_MOD": "NULL",
                                    "(No column name)": "9112"
                                },
                                {
                                    "SZALL_DATUM": "2016-07-10",
                                    "SZALL_MOD": "NULL",
                                    "(No column name)": "7494"
                                },
                                {
                                    "SZALL_DATUM": "2016-07-11",
                                    "SZALL_MOD": "NULL",
                                    "(No column name)": "10358"
                                },
                                {
                                    "SZALL_DATUM": "2016-07-12",
                                    "SZALL_MOD": "NULL",
                                    "(No column name)": "8519"
                                },
                                {
                                    "SZALL_DATUM": "2016-07-13",
                                    "SZALL_MOD": "NULL",
                                    "(No column name)": "8721"
                                },
                                {
                                    "SZALL_DATUM": "2016-07-14",
                                    "SZALL_MOD": "NULL",
                                    "(No column name)": "7363"
                                },
                                {
                                    "SZALL_DATUM": "2016-07-15",
                                    "SZALL_MOD": "NULL",
                                    "(No column name)": "7066"
                                },
                                {
                                    "SZALL_DATUM": "2016-07-16",
                                    "SZALL_MOD": "NULL",
                                    "(No column name)": "8298"
                                },
                                {
                                    "SZALL_DATUM": "2016-07-17",
                                    "SZALL_MOD": "NULL",
                                    "(No column name)": "6320"
                                },
                                {
                                    "SZALL_DATUM": "2016-07-18",
                                    "SZALL_MOD": "NULL",
                                    "(No column name)": "8573"
                                },
                                {
                                    "SZALL_DATUM": "2016-07-19",
                                    "SZALL_MOD": "NULL",
                                    "(No column name)": "9023"
                                },
                                {
                                    "SZALL_DATUM": "2016-07-20",
                                    "SZALL_MOD": "NULL",
                                    "(No column name)": "7415"
                                },
                                {
                                    "SZALL_DATUM": "2016-07-21",
                                    "SZALL_MOD": "NULL",
                                    "(No column name)": "7484"
                                },
                                {
                                    "SZALL_DATUM": "2016-07-22",
                                    "SZALL_MOD": "NULL",
                                    "(No column name)": "7412"
                                },
                                {
                                    "SZALL_DATUM": "2016-07-23",
                                    "SZALL_MOD": "NULL",
                                    "(No column name)": "6895"
                                },
                                {
                                    "SZALL_DATUM": "2016-07-24",
                                    "SZALL_MOD": "NULL",
                                    "(No column name)": "6958"
                                },
                                {
                                    "SZALL_DATUM": "2016-07-25",
                                    "SZALL_MOD": "NULL",
                                    "(No column name)": "7559"
                                },
                                {
                                    "SZALL_DATUM": "2016-07-26",
                                    "SZALL_MOD": "NULL",
                                    "(No column name)": "7020"
                                },
                                {
                                    "SZALL_DATUM": "2016-07-27",
                                    "SZALL_MOD": "NULL",
                                    "(No column name)": "9352"
                                },
                                {
                                    "SZALL_DATUM": "2016-07-28",
                                    "SZALL_MOD": "NULL",
                                    "(No column name)": "7155"
                                },
                                {
                                    "SZALL_DATUM": "2016-07-29",
                                    "SZALL_MOD": "NULL",
                                    "(No column name)": "9038"
                                },
                                {
                                    "SZALL_DATUM": "2016-07-30",
                                    "SZALL_MOD": "NULL",
                                    "(No column name)": "6288"
                                },
                                {
                                    "SZALL_DATUM": "2016-07-31",
                                    "SZALL_MOD": "NULL",
                                    "(No column name)": "9007"
                                },
                                {
                                    "SZALL_DATUM": "2016-08-01",
                                    "SZALL_MOD": "NULL",
                                    "(No column name)": "7588"
                                },
                                {
                                    "SZALL_DATUM": "2016-08-02",
                                    "SZALL_MOD": "NULL",
                                    "(No column name)": "6686"
                                },
                                {
                                    "SZALL_DATUM": "2016-08-03",
                                    "SZALL_MOD": "NULL",
                                    "(No column name)": "7884"
                                },
                                {
                                    "SZALL_DATUM": "2016-08-04",
                                    "SZALL_MOD": "NULL",
                                    "(No column name)": "6900"
                                },
                                {
                                    "SZALL_DATUM": "2016-08-05",
                                    "SZALL_MOD": "NULL",
                                    "(No column name)": "7610"
                                },
                                {
                                    "SZALL_DATUM": "2016-08-06",
                                    "SZALL_MOD": "NULL",
                                    "(No column name)": "8498"
                                },
                                {
                                    "SZALL_DATUM": "2016-08-07",
                                    "SZALL_MOD": "NULL",
                                    "(No column name)": "5511"
                                },
                                {
                                    "SZALL_DATUM": "2016-08-08",
                                    "SZALL_MOD": "NULL",
                                    "(No column name)": "5829"
                                },
                                {
                                    "SZALL_DATUM": "2016-08-09",
                                    "SZALL_MOD": "NULL",
                                    "(No column name)": "10307"
                                },
                                {
                                    "SZALL_DATUM": "2016-08-10",
                                    "SZALL_MOD": "NULL",
                                    "(No column name)": "8311"
                                },
                                {
                                    "SZALL_DATUM": "2016-08-11",
                                    "SZALL_MOD": "NULL",
                                    "(No column name)": "8232"
                                },
                                {
                                    "SZALL_DATUM": "2016-08-12",
                                    "SZALL_MOD": "NULL",
                                    "(No column name)": "8761"
                                },
                                {
                                    "SZALL_DATUM": "2016-08-13",
                                    "SZALL_MOD": "NULL",
                                    "(No column name)": "9571"
                                },
                                {
                                    "SZALL_DATUM": "2016-08-14",
                                    "SZALL_MOD": "NULL",
                                    "(No column name)": "8263"
                                },
                                {
                                    "SZALL_DATUM": "2016-08-15",
                                    "SZALL_MOD": "NULL",
                                    "(No column name)": "10966"
                                },
                                {
                                    "SZALL_DATUM": "2016-08-16",
                                    "SZALL_MOD": "NULL",
                                    "(No column name)": "7435"
                                },
                                {
                                    "SZALL_DATUM": "2016-08-17",
                                    "SZALL_MOD": "NULL",
                                    "(No column name)": "7576"
                                },
                                {
                                    "SZALL_DATUM": "2016-08-18",
                                    "SZALL_MOD": "NULL",
                                    "(No column name)": "7689"
                                },
                                {
                                    "SZALL_DATUM": "2016-08-19",
                                    "SZALL_MOD": "NULL",
                                    "(No column name)": "6974"
                                },
                                {
                                    "SZALL_DATUM": "2016-08-20",
                                    "SZALL_MOD": "NULL",
                                    "(No column name)": "9117"
                                },
                                {
                                    "SZALL_DATUM": "2016-08-21",
                                    "SZALL_MOD": "NULL",
                                    "(No column name)": "5864"
                                },
                                {
                                    "SZALL_DATUM": "2016-08-22",
                                    "SZALL_MOD": "NULL",
                                    "(No column name)": "7082"
                                },
                                {
                                    "SZALL_DATUM": "2016-08-23",
                                    "SZALL_MOD": "NULL",
                                    "(No column name)": "6153"
                                },
                                {
                                    "SZALL_DATUM": "2016-08-24",
                                    "SZALL_MOD": "NULL",
                                    "(No column name)": "8822"
                                },
                                {
                                    "SZALL_DATUM": "2016-08-25",
                                    "SZALL_MOD": "NULL",
                                    "(No column name)": "9398"
                                },
                                {
                                    "SZALL_DATUM": "2016-08-26",
                                    "SZALL_MOD": "NULL",
                                    "(No column name)": "8695"
                                },
                                {
                                    "SZALL_DATUM": "2016-08-27",
                                    "SZALL_MOD": "NULL",
                                    "(No column name)": "8120"
                                },
                                {
                                    "SZALL_DATUM": "2016-08-28",
                                    "SZALL_MOD": "NULL",
                                    "(No column name)": "8937"
                                },
                                {
                                    "SZALL_DATUM": "2016-08-29",
                                    "SZALL_MOD": "NULL",
                                    "(No column name)": "7542"
                                },
                                {
                                    "SZALL_DATUM": "2016-08-30",
                                    "SZALL_MOD": "NULL",
                                    "(No column name)": "5527"
                                },
                                {
                                    "SZALL_DATUM": "2016-08-31",
                                    "SZALL_MOD": "NULL",
                                    "(No column name)": "6069"
                                },
                                {
                                    "SZALL_DATUM": "2016-09-01",
                                    "SZALL_MOD": "NULL",
                                    "(No column name)": "6626"
                                },
                                {
                                    "SZALL_DATUM": "2016-09-02",
                                    "SZALL_MOD": "NULL",
                                    "(No column name)": "7775"
                                },
                                {
                                    "SZALL_DATUM": "2016-09-03",
                                    "SZALL_MOD": "NULL",
                                    "(No column name)": "11043"
                                },
                                {
                                    "SZALL_DATUM": "2016-09-04",
                                    "SZALL_MOD": "NULL",
                                    "(No column name)": "11369"
                                },
                                {
                                    "SZALL_DATUM": "2016-09-05",
                                    "SZALL_MOD": "NULL",
                                    "(No column name)": "6206"
                                },
                                {
                                    "SZALL_DATUM": "2016-09-06",
                                    "SZALL_MOD": "NULL",
                                    "(No column name)": "8736"
                                },
                                {
                                    "SZALL_DATUM": "2016-09-07",
                                    "SZALL_MOD": "NULL",
                                    "(No column name)": "8579"
                                },
                                {
                                    "SZALL_DATUM": "2016-09-08",
                                    "SZALL_MOD": "NULL",
                                    "(No column name)": "8561"
                                },
                                {
                                    "SZALL_DATUM": "2016-09-09",
                                    "SZALL_MOD": "NULL",
                                    "(No column name)": "8470"
                                },
                                {
                                    "SZALL_DATUM": "2016-09-10",
                                    "SZALL_MOD": "NULL",
                                    "(No column name)": "9203"
                                },
                                {
                                    "SZALL_DATUM": "2016-09-11",
                                    "SZALL_MOD": "NULL",
                                    "(No column name)": "8573"
                                },
                                {
                                    "SZALL_DATUM": "2016-09-12",
                                    "SZALL_MOD": "NULL",
                                    "(No column name)": "6264"
                                },
                                {
                                    "SZALL_DATUM": "2016-09-13",
                                    "SZALL_MOD": "NULL",
                                    "(No column name)": "8200"
                                },
                                {
                                    "SZALL_DATUM": "2016-09-14",
                                    "SZALL_MOD": "NULL",
                                    "(No column name)": "10576"
                                },
                                {
                                    "SZALL_DATUM": "2016-09-15",
                                    "SZALL_MOD": "NULL",
                                    "(No column name)": "10530"
                                },
                                {
                                    "SZALL_DATUM": "2016-09-16",
                                    "SZALL_MOD": "NULL",
                                    "(No column name)": "5621"
                                },
                                {
                                    "SZALL_DATUM": "2016-09-17",
                                    "SZALL_MOD": "NULL",
                                    "(No column name)": "7379"
                                },
                                {
                                    "SZALL_DATUM": "2016-09-18",
                                    "SZALL_MOD": "NULL",
                                    "(No column name)": "10790"
                                },
                                {
                                    "SZALL_DATUM": "2016-09-19",
                                    "SZALL_MOD": "NULL",
                                    "(No column name)": "7019"
                                },
                                {
                                    "SZALL_DATUM": "2016-09-20",
                                    "SZALL_MOD": "NULL",
                                    "(No column name)": "8544"
                                },
                                {
                                    "SZALL_DATUM": "2016-09-21",
                                    "SZALL_MOD": "NULL",
                                    "(No column name)": "5504"
                                },
                                {
                                    "SZALL_DATUM": "2016-09-22",
                                    "SZALL_MOD": "NULL",
                                    "(No column name)": "6691"
                                },
                                {
                                    "SZALL_DATUM": "2016-09-23",
                                    "SZALL_MOD": "NULL",
                                    "(No column name)": "6574"
                                },
                                {
                                    "SZALL_DATUM": "2016-09-24",
                                    "SZALL_MOD": "NULL",
                                    "(No column name)": "6220"
                                },
                                {
                                    "SZALL_DATUM": "2016-09-25",
                                    "SZALL_MOD": "NULL",
                                    "(No column name)": "6759"
                                },
                                {
                                    "SZALL_DATUM": "2016-09-26",
                                    "SZALL_MOD": "NULL",
                                    "(No column name)": "7073"
                                },
                                {
                                    "SZALL_DATUM": "2016-09-27",
                                    "SZALL_MOD": "NULL",
                                    "(No column name)": "9214"
                                },
                                {
                                    "SZALL_DATUM": "2016-09-28",
                                    "SZALL_MOD": "NULL",
                                    "(No column name)": "7948"
                                },
                                {
                                    "SZALL_DATUM": "2016-09-29",
                                    "SZALL_MOD": "NULL",
                                    "(No column name)": "5840"
                                },
                                {
                                    "SZALL_DATUM": "2016-09-30",
                                    "SZALL_MOD": "NULL",
                                    "(No column name)": "8410"
                                },
                                {
                                    "SZALL_DATUM": "2016-10-01",
                                    "SZALL_MOD": "NULL",
                                    "(No column name)": "8122"
                                },
                                {
                                    "SZALL_DATUM": "2016-10-02",
                                    "SZALL_MOD": "NULL",
                                    "(No column name)": "7206"
                                },
                                {
                                    "SZALL_DATUM": "2016-10-03",
                                    "SZALL_MOD": "NULL",
                                    "(No column name)": "6357"
                                },
                                {
                                    "SZALL_DATUM": "2016-10-04",
                                    "SZALL_MOD": "NULL",
                                    "(No column name)": "7203"
                                },
                                {
                                    "SZALL_DATUM": "2016-10-05",
                                    "SZALL_MOD": "NULL",
                                    "(No column name)": "7856"
                                },
                                {
                                    "SZALL_DATUM": "2016-10-06",
                                    "SZALL_MOD": "NULL",
                                    "(No column name)": "6682"
                                },
                                {
                                    "SZALL_DATUM": "2016-10-07",
                                    "SZALL_MOD": "NULL",
                                    "(No column name)": "6607"
                                },
                                {
                                    "SZALL_DATUM": "2016-10-08",
                                    "SZALL_MOD": "NULL",
                                    "(No column name)": "8515"
                                },
                                {
                                    "SZALL_DATUM": "2016-10-09",
                                    "SZALL_MOD": "NULL",
                                    "(No column name)": "10396"
                                },
                                {
                                    "SZALL_DATUM": "2016-10-10",
                                    "SZALL_MOD": "NULL",
                                    "(No column name)": "7117"
                                },
                                {
                                    "SZALL_DATUM": "2016-10-11",
                                    "SZALL_MOD": "NULL",
                                    "(No column name)": "9192"
                                },
                                {
                                    "SZALL_DATUM": "2016-10-12",
                                    "SZALL_MOD": "NULL",
                                    "(No column name)": "10889"
                                },
                                {
                                    "SZALL_DATUM": "2016-10-13",
                                    "SZALL_MOD": "NULL",
                                    "(No column name)": "10192"
                                },
                                {
                                    "SZALL_DATUM": "2016-10-14",
                                    "SZALL_MOD": "NULL",
                                    "(No column name)": "7397"
                                },
                                {
                                    "SZALL_DATUM": "2016-10-15",
                                    "SZALL_MOD": "NULL",
                                    "(No column name)": "7459"
                                },
                                {
                                    "SZALL_DATUM": "2016-10-16",
                                    "SZALL_MOD": "NULL",
                                    "(No column name)": "7198"
                                },
                                {
                                    "SZALL_DATUM": "2016-10-17",
                                    "SZALL_MOD": "NULL",
                                    "(No column name)": "11045"
                                },
                                {
                                    "SZALL_DATUM": "2016-10-18",
                                    "SZALL_MOD": "NULL",
                                    "(No column name)": "7033"
                                },
                                {
                                    "SZALL_DATUM": "2016-10-19",
                                    "SZALL_MOD": "NULL",
                                    "(No column name)": "9307"
                                },
                                {
                                    "SZALL_DATUM": "2016-10-20",
                                    "SZALL_MOD": "NULL",
                                    "(No column name)": "6856"
                                },
                                {
                                    "SZALL_DATUM": "2016-10-21",
                                    "SZALL_MOD": "NULL",
                                    "(No column name)": "9403"
                                },
                                {
                                    "SZALL_DATUM": "2016-10-22",
                                    "SZALL_MOD": "NULL",
                                    "(No column name)": "8356"
                                },
                                {
                                    "SZALL_DATUM": "2016-10-23",
                                    "SZALL_MOD": "NULL",
                                    "(No column name)": "9634"
                                },
                                {
                                    "SZALL_DATUM": "2016-10-24",
                                    "SZALL_MOD": "NULL",
                                    "(No column name)": "4888"
                                },
                                {
                                    "SZALL_DATUM": "2016-10-25",
                                    "SZALL_MOD": "NULL",
                                    "(No column name)": "11978"
                                },
                                {
                                    "SZALL_DATUM": "2016-10-26",
                                    "SZALL_MOD": "NULL",
                                    "(No column name)": "8070"
                                },
                                {
                                    "SZALL_DATUM": "2016-10-27",
                                    "SZALL_MOD": "NULL",
                                    "(No column name)": "7617"
                                },
                                {
                                    "SZALL_DATUM": "2016-10-28",
                                    "SZALL_MOD": "NULL",
                                    "(No column name)": "7766"
                                },
                                {
                                    "SZALL_DATUM": "2016-10-29",
                                    "SZALL_MOD": "NULL",
                                    "(No column name)": "6854"
                                },
                                {
                                    "SZALL_DATUM": "2016-10-30",
                                    "SZALL_MOD": "NULL",
                                    "(No column name)": "11718"
                                },
                                {
                                    "SZALL_DATUM": "2016-10-31",
                                    "SZALL_MOD": "NULL",
                                    "(No column name)": "8714"
                                },
                                {
                                    "SZALL_DATUM": "2016-11-01",
                                    "SZALL_MOD": "NULL",
                                    "(No column name)": "7238"
                                },
                                {
                                    "SZALL_DATUM": "2016-11-02",
                                    "SZALL_MOD": "NULL",
                                    "(No column name)": "5472"
                                },
                                {
                                    "SZALL_DATUM": "2016-11-03",
                                    "SZALL_MOD": "NULL",
                                    "(No column name)": "7739"
                                },
                                {
                                    "SZALL_DATUM": "2016-11-04",
                                    "SZALL_MOD": "NULL",
                                    "(No column name)": "6667"
                                },
                                {
                                    "SZALL_DATUM": "2016-11-05",
                                    "SZALL_MOD": "NULL",
                                    "(No column name)": "9157"
                                },
                                {
                                    "SZALL_DATUM": "2016-11-06",
                                    "SZALL_MOD": "NULL",
                                    "(No column name)": "8517"
                                },
                                {
                                    "SZALL_DATUM": "2016-11-07",
                                    "SZALL_MOD": "NULL",
                                    "(No column name)": "6691"
                                },
                                {
                                    "SZALL_DATUM": "2016-11-08",
                                    "SZALL_MOD": "NULL",
                                    "(No column name)": "8431"
                                },
                                {
                                    "SZALL_DATUM": "2016-11-09",
                                    "SZALL_MOD": "NULL",
                                    "(No column name)": "5911"
                                },
                                {
                                    "SZALL_DATUM": "2016-11-10",
                                    "SZALL_MOD": "NULL",
                                    "(No column name)": "6795"
                                },
                                {
                                    "SZALL_DATUM": "2016-11-11",
                                    "SZALL_MOD": "NULL",
                                    "(No column name)": "6940"
                                },
                                {
                                    "SZALL_DATUM": "2016-11-12",
                                    "SZALL_MOD": "NULL",
                                    "(No column name)": "10959"
                                },
                                {
                                    "SZALL_DATUM": "2016-11-13",
                                    "SZALL_MOD": "NULL",
                                    "(No column name)": "10751"
                                },
                                {
                                    "SZALL_DATUM": "2016-11-14",
                                    "SZALL_MOD": "NULL",
                                    "(No column name)": "11881"
                                },
                                {
                                    "SZALL_DATUM": "2016-11-15",
                                    "SZALL_MOD": "NULL",
                                    "(No column name)": "6736"
                                },
                                {
                                    "SZALL_DATUM": "2016-11-16",
                                    "SZALL_MOD": "NULL",
                                    "(No column name)": "8969"
                                },
                                {
                                    "SZALL_DATUM": "2016-11-17",
                                    "SZALL_MOD": "NULL",
                                    "(No column name)": "6852"
                                },
                                {
                                    "SZALL_DATUM": "2016-11-18",
                                    "SZALL_MOD": "NULL",
                                    "(No column name)": "6770"
                                },
                                {
                                    "SZALL_DATUM": "2016-11-19",
                                    "SZALL_MOD": "NULL",
                                    "(No column name)": "7451"
                                },
                                {
                                    "SZALL_DATUM": "2016-11-20",
                                    "SZALL_MOD": "NULL",
                                    "(No column name)": "7946"
                                },
                                {
                                    "SZALL_DATUM": "2016-11-21",
                                    "SZALL_MOD": "NULL",
                                    "(No column name)": "6727"
                                },
                                {
                                    "SZALL_DATUM": "2016-11-22",
                                    "SZALL_MOD": "NULL",
                                    "(No column name)": "7801"
                                },
                                {
                                    "SZALL_DATUM": "2016-11-23",
                                    "SZALL_MOD": "NULL",
                                    "(No column name)": "7435"
                                },
                                {
                                    "SZALL_DATUM": "2016-11-24",
                                    "SZALL_MOD": "NULL",
                                    "(No column name)": "5981"
                                },
                                {
                                    "SZALL_DATUM": "2016-11-25",
                                    "SZALL_MOD": "NULL",
                                    "(No column name)": "6915"
                                },
                                {
                                    "SZALL_DATUM": "2016-11-26",
                                    "SZALL_MOD": "NULL",
                                    "(No column name)": "9216"
                                },
                                {
                                    "SZALL_DATUM": "2016-11-27",
                                    "SZALL_MOD": "NULL",
                                    "(No column name)": "9893"
                                },
                                {
                                    "SZALL_DATUM": "2016-11-28",
                                    "SZALL_MOD": "NULL",
                                    "(No column name)": "9770"
                                },
                                {
                                    "SZALL_DATUM": "2016-11-29",
                                    "SZALL_MOD": "NULL",
                                    "(No column name)": "8722"
                                },
                                {
                                    "SZALL_DATUM": "2016-11-30",
                                    "SZALL_MOD": "NULL",
                                    "(No column name)": "6419"
                                },
                                {
                                    "SZALL_DATUM": "2016-12-01",
                                    "SZALL_MOD": "NULL",
                                    "(No column name)": "9940"
                                },
                                {
                                    "SZALL_DATUM": "2016-12-02",
                                    "SZALL_MOD": "NULL",
                                    "(No column name)": "4748"
                                },
                                {
                                    "SZALL_DATUM": "2016-12-03",
                                    "SZALL_MOD": "NULL",
                                    "(No column name)": "6745"
                                },
                                {
                                    "SZALL_DATUM": "2016-12-04",
                                    "SZALL_MOD": "NULL",
                                    "(No column name)": "9959"
                                },
                                {
                                    "SZALL_DATUM": "2016-12-05",
                                    "SZALL_MOD": "NULL",
                                    "(No column name)": "8225"
                                },
                                {
                                    "SZALL_DATUM": "2016-12-06",
                                    "SZALL_MOD": "NULL",
                                    "(No column name)": "7762"
                                },
                                {
                                    "SZALL_DATUM": "2016-12-07",
                                    "SZALL_MOD": "NULL",
                                    "(No column name)": "7380"
                                },
                                {
                                    "SZALL_DATUM": "2016-12-08",
                                    "SZALL_MOD": "NULL",
                                    "(No column name)": "7200"
                                },
                                {
                                    "SZALL_DATUM": "2016-12-09",
                                    "SZALL_MOD": "NULL",
                                    "(No column name)": "9724"
                                },
                                {
                                    "SZALL_DATUM": "2016-12-10",
                                    "SZALL_MOD": "NULL",
                                    "(No column name)": "7083"
                                },
                                {
                                    "SZALL_DATUM": "2016-12-11",
                                    "SZALL_MOD": "NULL",
                                    "(No column name)": "7576"
                                },
                                {
                                    "SZALL_DATUM": "2016-12-12",
                                    "SZALL_MOD": "NULL",
                                    "(No column name)": "8580"
                                },
                                {
                                    "SZALL_DATUM": "2016-12-13",
                                    "SZALL_MOD": "NULL",
                                    "(No column name)": "8233"
                                },
                                {
                                    "SZALL_DATUM": "2016-12-14",
                                    "SZALL_MOD": "NULL",
                                    "(No column name)": "6268"
                                },
                                {
                                    "SZALL_DATUM": "2016-12-15",
                                    "SZALL_MOD": "NULL",
                                    "(No column name)": "7392"
                                },
                                {
                                    "SZALL_DATUM": "2016-12-16",
                                    "SZALL_MOD": "NULL",
                                    "(No column name)": "6407"
                                },
                                {
                                    "SZALL_DATUM": "2016-12-17",
                                    "SZALL_MOD": "NULL",
                                    "(No column name)": "7555"
                                },
                                {
                                    "SZALL_DATUM": "2016-12-18",
                                    "SZALL_MOD": "NULL",
                                    "(No column name)": "6070"
                                },
                                {
                                    "SZALL_DATUM": "2016-12-19",
                                    "SZALL_MOD": "NULL",
                                    "(No column name)": "5390"
                                },
                                {
                                    "SZALL_DATUM": "2016-12-20",
                                    "SZALL_MOD": "NULL",
                                    "(No column name)": "7735"
                                },
                                {
                                    "SZALL_DATUM": "2016-12-21",
                                    "SZALL_MOD": "NULL",
                                    "(No column name)": "10434"
                                },
                                {
                                    "SZALL_DATUM": "2016-12-22",
                                    "SZALL_MOD": "NULL",
                                    "(No column name)": "5465"
                                },
                                {
                                    "SZALL_DATUM": "2016-12-23",
                                    "SZALL_MOD": "NULL",
                                    "(No column name)": "8338"
                                },
                                {
                                    "SZALL_DATUM": "2016-12-24",
                                    "SZALL_MOD": "NULL",
                                    "(No column name)": "5916"
                                },
                                {
                                    "SZALL_DATUM": "2016-12-25",
                                    "SZALL_MOD": "NULL",
                                    "(No column name)": "7345"
                                },
                                {
                                    "SZALL_DATUM": "2016-12-26",
                                    "SZALL_MOD": "NULL",
                                    "(No column name)": "9875"
                                },
                                {
                                    "SZALL_DATUM": "2016-12-27",
                                    "SZALL_MOD": "NULL",
                                    "(No column name)": "10216"
                                },
                                {
                                    "SZALL_DATUM": "2016-12-28",
                                    "SZALL_MOD": "NULL",
                                    "(No column name)": "6222"
                                },
                                {
                                    "SZALL_DATUM": "2016-12-29",
                                    "SZALL_MOD": "NULL",
                                    "(No column name)": "10046"
                                },
                                {
                                    "SZALL_DATUM": "2016-12-30",
                                    "SZALL_MOD": "NULL",
                                    "(No column name)": "7113"
                                },
                                {
                                    "SZALL_DATUM": "2016-12-31",
                                    "SZALL_MOD": "NULL",
                                    "(No column name)": "7188"
                                },
                                {
                                    "SZALL_DATUM": "2017-01-01",
                                    "SZALL_MOD": "NULL",
                                    "(No column name)": "7200"
                                },
                                {
                                    "SZALL_DATUM": "2017-01-02",
                                    "SZALL_MOD": "NULL",
                                    "(No column name)": "7425"
                                },
                                {
                                    "SZALL_DATUM": "2017-01-03",
                                    "SZALL_MOD": "NULL",
                                    "(No column name)": "6783"
                                },
                                {
                                    "SZALL_DATUM": "2017-01-04",
                                    "SZALL_MOD": "NULL",
                                    "(No column name)": "7465"
                                },
                                {
                                    "SZALL_DATUM": "2017-01-05",
                                    "SZALL_MOD": "NULL",
                                    "(No column name)": "7591"
                                },
                                {
                                    "SZALL_DATUM": "2017-01-06",
                                    "SZALL_MOD": "NULL",
                                    "(No column name)": "8298"
                                },
                                {
                                    "SZALL_DATUM": "2017-01-07",
                                    "SZALL_MOD": "NULL",
                                    "(No column name)": "8976"
                                },
                                {
                                    "SZALL_DATUM": "2017-01-08",
                                    "SZALL_MOD": "NULL",
                                    "(No column name)": "7179"
                                },
                                {
                                    "SZALL_DATUM": "2017-01-09",
                                    "SZALL_MOD": "NULL",
                                    "(No column name)": "9465"
                                },
                                {
                                    "SZALL_DATUM": "2017-01-10",
                                    "SZALL_MOD": "NULL",
                                    "(No column name)": "8667"
                                },
                                {
                                    "SZALL_DATUM": "2017-01-11",
                                    "SZALL_MOD": "NULL",
                                    "(No column name)": "9472"
                                },
                                {
                                    "SZALL_DATUM": "2017-01-12",
                                    "SZALL_MOD": "NULL",
                                    "(No column name)": "7636"
                                },
                                {
                                    "SZALL_DATUM": "2017-01-13",
                                    "SZALL_MOD": "NULL",
                                    "(No column name)": "7538"
                                },
                                {
                                    "SZALL_DATUM": "2017-01-14",
                                    "SZALL_MOD": "NULL",
                                    "(No column name)": "8920"
                                },
                                {
                                    "SZALL_DATUM": "2017-01-15",
                                    "SZALL_MOD": "NULL",
                                    "(No column name)": "7611"
                                },
                                {
                                    "SZALL_DATUM": "2017-01-16",
                                    "SZALL_MOD": "NULL",
                                    "(No column name)": "7369"
                                },
                                {
                                    "SZALL_DATUM": "2017-01-17",
                                    "SZALL_MOD": "NULL",
                                    "(No column name)": "8658"
                                },
                                {
                                    "SZALL_DATUM": "2017-01-18",
                                    "SZALL_MOD": "NULL",
                                    "(No column name)": "6558"
                                },
                                {
                                    "SZALL_DATUM": "2017-01-19",
                                    "SZALL_MOD": "NULL",
                                    "(No column name)": "6422"
                                },
                                {
                                    "SZALL_DATUM": "2017-01-20",
                                    "SZALL_MOD": "NULL",
                                    "(No column name)": "6450"
                                },
                                {
                                    "SZALL_DATUM": "2017-01-21",
                                    "SZALL_MOD": "NULL",
                                    "(No column name)": "7150"
                                },
                                {
                                    "SZALL_DATUM": "2017-01-22",
                                    "SZALL_MOD": "NULL",
                                    "(No column name)": "8199"
                                },
                                {
                                    "SZALL_DATUM": "2017-01-23",
                                    "SZALL_MOD": "NULL",
                                    "(No column name)": "8394"
                                },
                                {
                                    "SZALL_DATUM": "2017-01-24",
                                    "SZALL_MOD": "NULL",
                                    "(No column name)": "8615"
                                },
                                {
                                    "SZALL_DATUM": "2017-01-25",
                                    "SZALL_MOD": "NULL",
                                    "(No column name)": "6484"
                                },
                                {
                                    "SZALL_DATUM": "2017-01-26",
                                    "SZALL_MOD": "NULL",
                                    "(No column name)": "9426"
                                },
                                {
                                    "SZALL_DATUM": "2017-01-27",
                                    "SZALL_MOD": "NULL",
                                    "(No column name)": "5418"
                                },
                                {
                                    "SZALL_DATUM": "2017-01-28",
                                    "SZALL_MOD": "NULL",
                                    "(No column name)": "8401"
                                },
                                {
                                    "SZALL_DATUM": "2017-01-29",
                                    "SZALL_MOD": "NULL",
                                    "(No column name)": "8997"
                                },
                                {
                                    "SZALL_DATUM": "2017-01-30",
                                    "SZALL_MOD": "NULL",
                                    "(No column name)": "9661"
                                },
                                {
                                    "SZALL_DATUM": "2017-01-31",
                                    "SZALL_MOD": "NULL",
                                    "(No column name)": "6253"
                                },
                                {
                                    "SZALL_DATUM": "2017-02-01",
                                    "SZALL_MOD": "NULL",
                                    "(No column name)": "5703"
                                },
                                {
                                    "SZALL_DATUM": "2017-02-02",
                                    "SZALL_MOD": "NULL",
                                    "(No column name)": "8746"
                                },
                                {
                                    "SZALL_DATUM": "2017-02-03",
                                    "SZALL_MOD": "NULL",
                                    "(No column name)": "7840"
                                },
                                {
                                    "SZALL_DATUM": "2017-02-04",
                                    "SZALL_MOD": "NULL",
                                    "(No column name)": "6220"
                                },
                                {
                                    "SZALL_DATUM": "2017-02-05",
                                    "SZALL_MOD": "NULL",
                                    "(No column name)": "5138"
                                },
                                {
                                    "SZALL_DATUM": "2017-02-06",
                                    "SZALL_MOD": "NULL",
                                    "(No column name)": "8206"
                                },
                                {
                                    "SZALL_DATUM": "2017-02-07",
                                    "SZALL_MOD": "NULL",
                                    "(No column name)": "6846"
                                },
                                {
                                    "SZALL_DATUM": "2017-02-08",
                                    "SZALL_MOD": "NULL",
                                    "(No column name)": "10057"
                                },
                                {
                                    "SZALL_DATUM": "2017-02-09",
                                    "SZALL_MOD": "NULL",
                                    "(No column name)": "8302"
                                },
                                {
                                    "SZALL_DATUM": "2017-02-10",
                                    "SZALL_MOD": "NULL",
                                    "(No column name)": "8964"
                                },
                                {
                                    "SZALL_DATUM": "2017-02-11",
                                    "SZALL_MOD": "NULL",
                                    "(No column name)": "8790"
                                },
                                {
                                    "SZALL_DATUM": "2017-02-12",
                                    "SZALL_MOD": "NULL",
                                    "(No column name)": "6268"
                                },
                                {
                                    "SZALL_DATUM": "2017-02-13",
                                    "SZALL_MOD": "NULL",
                                    "(No column name)": "8176"
                                },
                                {
                                    "SZALL_DATUM": "2017-02-14",
                                    "SZALL_MOD": "NULL",
                                    "(No column name)": "10029"
                                },
                                {
                                    "SZALL_DATUM": "2017-02-15",
                                    "SZALL_MOD": "NULL",
                                    "(No column name)": "6443"
                                },
                                {
                                    "SZALL_DATUM": "2017-02-16",
                                    "SZALL_MOD": "NULL",
                                    "(No column name)": "8794"
                                },
                                {
                                    "SZALL_DATUM": "2017-02-17",
                                    "SZALL_MOD": "NULL",
                                    "(No column name)": "9808"
                                },
                                {
                                    "SZALL_DATUM": "2017-02-18",
                                    "SZALL_MOD": "NULL",
                                    "(No column name)": "10757"
                                },
                                {
                                    "SZALL_DATUM": "2017-02-19",
                                    "SZALL_MOD": "NULL",
                                    "(No column name)": "8284"
                                },
                                {
                                    "SZALL_DATUM": "2017-02-20",
                                    "SZALL_MOD": "NULL",
                                    "(No column name)": "5660"
                                },
                                {
                                    "SZALL_DATUM": "2017-02-21",
                                    "SZALL_MOD": "NULL",
                                    "(No column name)": "8878"
                                },
                                {
                                    "SZALL_DATUM": "2017-02-22",
                                    "SZALL_MOD": "NULL",
                                    "(No column name)": "9034"
                                },
                                {
                                    "SZALL_DATUM": "2017-02-23",
                                    "SZALL_MOD": "NULL",
                                    "(No column name)": "7574"
                                },
                                {
                                    "SZALL_DATUM": "2017-02-24",
                                    "SZALL_MOD": "NULL",
                                    "(No column name)": "6814"
                                },
                                {
                                    "SZALL_DATUM": "2017-02-25",
                                    "SZALL_MOD": "NULL",
                                    "(No column name)": "6820"
                                },
                                {
                                    "SZALL_DATUM": "2017-02-26",
                                    "SZALL_MOD": "NULL",
                                    "(No column name)": "8578"
                                },
                                {
                                    "SZALL_DATUM": "2017-02-27",
                                    "SZALL_MOD": "NULL",
                                    "(No column name)": "9185"
                                },
                                {
                                    "SZALL_DATUM": "2017-02-28",
                                    "SZALL_MOD": "NULL",
                                    "(No column name)": "11649"
                                },
                                {
                                    "SZALL_DATUM": "2017-03-01",
                                    "SZALL_MOD": "NULL",
                                    "(No column name)": "5037"
                                },
                                {
                                    "SZALL_DATUM": "2017-03-02",
                                    "SZALL_MOD": "NULL",
                                    "(No column name)": "4861"
                                },
                                {
                                    "SZALL_DATUM": "2017-03-03",
                                    "SZALL_MOD": "NULL",
                                    "(No column name)": "7585"
                                },
                                {
                                    "SZALL_DATUM": "2017-03-04",
                                    "SZALL_MOD": "NULL",
                                    "(No column name)": "5977"
                                },
                                {
                                    "SZALL_DATUM": "2017-03-05",
                                    "SZALL_MOD": "NULL",
                                    "(No column name)": "10338"
                                },
                                {
                                    "SZALL_DATUM": "2017-03-06",
                                    "SZALL_MOD": "NULL",
                                    "(No column name)": "10916"
                                },
                                {
                                    "SZALL_DATUM": "2017-03-07",
                                    "SZALL_MOD": "NULL",
                                    "(No column name)": "8747"
                                },
                                {
                                    "SZALL_DATUM": "2017-03-08",
                                    "SZALL_MOD": "NULL",
                                    "(No column name)": "6837"
                                },
                                {
                                    "SZALL_DATUM": "2017-03-09",
                                    "SZALL_MOD": "NULL",
                                    "(No column name)": "6964"
                                },
                                {
                                    "SZALL_DATUM": "2017-03-10",
                                    "SZALL_MOD": "NULL",
                                    "(No column name)": "6846"
                                },
                                {
                                    "SZALL_DATUM": "2017-03-11",
                                    "SZALL_MOD": "NULL",
                                    "(No column name)": "6885"
                                },
                                {
                                    "SZALL_DATUM": "2017-03-12",
                                    "SZALL_MOD": "NULL",
                                    "(No column name)": "5941"
                                },
                                {
                                    "SZALL_DATUM": "2017-03-13",
                                    "SZALL_MOD": "NULL",
                                    "(No column name)": "6950"
                                },
                                {
                                    "SZALL_DATUM": "2017-03-14",
                                    "SZALL_MOD": "NULL",
                                    "(No column name)": "7224"
                                },
                                {
                                    "SZALL_DATUM": "2017-03-15",
                                    "SZALL_MOD": "NULL",
                                    "(No column name)": "9718"
                                },
                                {
                                    "SZALL_DATUM": "2017-03-16",
                                    "SZALL_MOD": "NULL",
                                    "(No column name)": "9763"
                                },
                                {
                                    "SZALL_DATUM": "2017-03-17",
                                    "SZALL_MOD": "NULL",
                                    "(No column name)": "8908"
                                },
                                {
                                    "SZALL_DATUM": "2017-03-18",
                                    "SZALL_MOD": "NULL",
                                    "(No column name)": "9344"
                                },
                                {
                                    "SZALL_DATUM": "2017-03-19",
                                    "SZALL_MOD": "NULL",
                                    "(No column name)": "9937"
                                },
                                {
                                    "SZALL_DATUM": "2017-03-20",
                                    "SZALL_MOD": "NULL",
                                    "(No column name)": "7683"
                                },
                                {
                                    "SZALL_DATUM": "2017-03-21",
                                    "SZALL_MOD": "NULL",
                                    "(No column name)": "8639"
                                },
                                {
                                    "SZALL_DATUM": "2017-03-22",
                                    "SZALL_MOD": "NULL",
                                    "(No column name)": "6526"
                                },
                                {
                                    "SZALL_DATUM": "2017-03-23",
                                    "SZALL_MOD": "NULL",
                                    "(No column name)": "8799"
                                },
                                {
                                    "SZALL_DATUM": "2017-03-24",
                                    "SZALL_MOD": "NULL",
                                    "(No column name)": "7416"
                                },
                                {
                                    "SZALL_DATUM": "2017-03-25",
                                    "SZALL_MOD": "NULL",
                                    "(No column name)": "6272"
                                },
                                {
                                    "SZALL_DATUM": "2017-03-26",
                                    "SZALL_MOD": "NULL",
                                    "(No column name)": "7786"
                                },
                                {
                                    "SZALL_DATUM": "2017-03-27",
                                    "SZALL_MOD": "NULL",
                                    "(No column name)": "7715"
                                },
                                {
                                    "SZALL_DATUM": "2017-03-28",
                                    "SZALL_MOD": "NULL",
                                    "(No column name)": "8568"
                                },
                                {
                                    "SZALL_DATUM": "2017-03-29",
                                    "SZALL_MOD": "NULL",
                                    "(No column name)": "8346"
                                },
                                {
                                    "SZALL_DATUM": "2017-03-30",
                                    "SZALL_MOD": "NULL",
                                    "(No column name)": "8513"
                                },
                                {
                                    "SZALL_DATUM": "2017-03-31",
                                    "SZALL_MOD": "NULL",
                                    "(No column name)": "8598"
                                },
                                {
                                    "SZALL_DATUM": "2017-04-01",
                                    "SZALL_MOD": "NULL",
                                    "(No column name)": "7307"
                                },
                                {
                                    "SZALL_DATUM": "2017-04-02",
                                    "SZALL_MOD": "NULL",
                                    "(No column name)": "9477"
                                },
                                {
                                    "SZALL_DATUM": "2017-04-03",
                                    "SZALL_MOD": "NULL",
                                    "(No column name)": "6042"
                                },
                                {
                                    "SZALL_DATUM": "2017-04-04",
                                    "SZALL_MOD": "NULL",
                                    "(No column name)": "7493"
                                },
                                {
                                    "SZALL_DATUM": "2017-04-05",
                                    "SZALL_MOD": "NULL",
                                    "(No column name)": "7562"
                                },
                                {
                                    "SZALL_DATUM": "2017-04-06",
                                    "SZALL_MOD": "NULL",
                                    "(No column name)": "4646"
                                },
                                {
                                    "SZALL_DATUM": "2017-04-07",
                                    "SZALL_MOD": "NULL",
                                    "(No column name)": "5197"
                                },
                                {
                                    "SZALL_DATUM": "2017-04-08",
                                    "SZALL_MOD": "NULL",
                                    "(No column name)": "3057"
                                },
                                {
                                    "SZALL_DATUM": "2017-04-09",
                                    "SZALL_MOD": "NULL",
                                    "(No column name)": "3870"
                                },
                                {
                                    "SZALL_DATUM": "2017-04-10",
                                    "SZALL_MOD": "NULL",
                                    "(No column name)": "1640"
                                },
                                {
                                    "SZALL_DATUM": "2017-04-11",
                                    "SZALL_MOD": "NULL",
                                    "(No column name)": "1220"
                                },
                                {
                                    "SZALL_DATUM": "NULL",
                                    "SZALL_MOD": "NULL",
                                    "(No column name)": "5578316"
                                }
                            ]
                        },
                        "text/html": [
                            "<table>",
                            "<tr><th>SZALL_DATUM</th><th>SZALL_MOD</th><th>(No column name)</th></tr>",
                            "<tr><td>2015-05-03</td><td>NULL</td><td>100</td></tr>",
                            "<tr><td>2015-05-04</td><td>NULL</td><td>996</td></tr>",
                            "<tr><td>2015-05-05</td><td>NULL</td><td>3152</td></tr>",
                            "<tr><td>2015-05-06</td><td>NULL</td><td>5030</td></tr>",
                            "<tr><td>2015-05-07</td><td>NULL</td><td>3828</td></tr>",
                            "<tr><td>2015-05-08</td><td>NULL</td><td>3213</td></tr>",
                            "<tr><td>2015-05-09</td><td>NULL</td><td>6665</td></tr>",
                            "<tr><td>2015-05-10</td><td>NULL</td><td>6909</td></tr>",
                            "<tr><td>2015-05-11</td><td>NULL</td><td>6224</td></tr>",
                            "<tr><td>2015-05-12</td><td>NULL</td><td>7568</td></tr>",
                            "<tr><td>2015-05-13</td><td>NULL</td><td>7985</td></tr>",
                            "<tr><td>2015-05-14</td><td>NULL</td><td>9706</td></tr>",
                            "<tr><td>2015-05-15</td><td>NULL</td><td>7400</td></tr>",
                            "<tr><td>2015-05-16</td><td>NULL</td><td>7897</td></tr>",
                            "<tr><td>2015-05-17</td><td>NULL</td><td>4572</td></tr>",
                            "<tr><td>2015-05-18</td><td>NULL</td><td>8190</td></tr>",
                            "<tr><td>2015-05-19</td><td>NULL</td><td>7248</td></tr>",
                            "<tr><td>2015-05-20</td><td>NULL</td><td>9859</td></tr>",
                            "<tr><td>2015-05-21</td><td>NULL</td><td>8041</td></tr>",
                            "<tr><td>2015-05-22</td><td>NULL</td><td>8338</td></tr>",
                            "<tr><td>2015-05-23</td><td>NULL</td><td>5616</td></tr>",
                            "<tr><td>2015-05-24</td><td>NULL</td><td>5001</td></tr>",
                            "<tr><td>2015-05-25</td><td>NULL</td><td>7611</td></tr>",
                            "<tr><td>2015-05-26</td><td>NULL</td><td>7153</td></tr>",
                            "<tr><td>2015-05-27</td><td>NULL</td><td>8300</td></tr>",
                            "<tr><td>2015-05-28</td><td>NULL</td><td>9340</td></tr>",
                            "<tr><td>2015-05-29</td><td>NULL</td><td>10784</td></tr>",
                            "<tr><td>2015-05-30</td><td>NULL</td><td>7763</td></tr>",
                            "<tr><td>2015-05-31</td><td>NULL</td><td>4364</td></tr>",
                            "<tr><td>2015-06-01</td><td>NULL</td><td>6947</td></tr>",
                            "<tr><td>2015-06-02</td><td>NULL</td><td>6241</td></tr>",
                            "<tr><td>2015-06-03</td><td>NULL</td><td>9359</td></tr>",
                            "<tr><td>2015-06-04</td><td>NULL</td><td>8474</td></tr>",
                            "<tr><td>2015-06-05</td><td>NULL</td><td>8961</td></tr>",
                            "<tr><td>2015-06-06</td><td>NULL</td><td>9510</td></tr>",
                            "<tr><td>2015-06-07</td><td>NULL</td><td>7956</td></tr>",
                            "<tr><td>2015-06-08</td><td>NULL</td><td>4277</td></tr>",
                            "<tr><td>2015-06-09</td><td>NULL</td><td>7132</td></tr>",
                            "<tr><td>2015-06-10</td><td>NULL</td><td>9346</td></tr>",
                            "<tr><td>2015-06-11</td><td>NULL</td><td>5191</td></tr>",
                            "<tr><td>2015-06-12</td><td>NULL</td><td>7336</td></tr>",
                            "<tr><td>2015-06-13</td><td>NULL</td><td>7818</td></tr>",
                            "<tr><td>2015-06-14</td><td>NULL</td><td>6484</td></tr>",
                            "<tr><td>2015-06-15</td><td>NULL</td><td>7796</td></tr>",
                            "<tr><td>2015-06-16</td><td>NULL</td><td>4307</td></tr>",
                            "<tr><td>2015-06-17</td><td>NULL</td><td>8645</td></tr>",
                            "<tr><td>2015-06-18</td><td>NULL</td><td>10077</td></tr>",
                            "<tr><td>2015-06-19</td><td>NULL</td><td>5675</td></tr>",
                            "<tr><td>2015-06-20</td><td>NULL</td><td>7859</td></tr>",
                            "<tr><td>2015-06-21</td><td>NULL</td><td>6627</td></tr>",
                            "<tr><td>2015-06-22</td><td>NULL</td><td>9084</td></tr>",
                            "<tr><td>2015-06-23</td><td>NULL</td><td>8869</td></tr>",
                            "<tr><td>2015-06-24</td><td>NULL</td><td>4993</td></tr>",
                            "<tr><td>2015-06-25</td><td>NULL</td><td>8165</td></tr>",
                            "<tr><td>2015-06-26</td><td>NULL</td><td>10834</td></tr>",
                            "<tr><td>2015-06-27</td><td>NULL</td><td>6396</td></tr>",
                            "<tr><td>2015-06-28</td><td>NULL</td><td>6803</td></tr>",
                            "<tr><td>2015-06-29</td><td>NULL</td><td>7435</td></tr>",
                            "<tr><td>2015-06-30</td><td>NULL</td><td>8526</td></tr>",
                            "<tr><td>2015-07-01</td><td>NULL</td><td>6032</td></tr>",
                            "<tr><td>2015-07-02</td><td>NULL</td><td>7066</td></tr>",
                            "<tr><td>2015-07-03</td><td>NULL</td><td>6359</td></tr>",
                            "<tr><td>2015-07-04</td><td>NULL</td><td>8739</td></tr>",
                            "<tr><td>2015-07-05</td><td>NULL</td><td>8558</td></tr>",
                            "<tr><td>2015-07-06</td><td>NULL</td><td>8389</td></tr>",
                            "<tr><td>2015-07-07</td><td>NULL</td><td>9522</td></tr>",
                            "<tr><td>2015-07-08</td><td>NULL</td><td>6395</td></tr>",
                            "<tr><td>2015-07-09</td><td>NULL</td><td>7375</td></tr>",
                            "<tr><td>2015-07-10</td><td>NULL</td><td>7676</td></tr>",
                            "<tr><td>2015-07-11</td><td>NULL</td><td>7366</td></tr>",
                            "<tr><td>2015-07-12</td><td>NULL</td><td>8638</td></tr>",
                            "<tr><td>2015-07-13</td><td>NULL</td><td>8300</td></tr>",
                            "<tr><td>2015-07-14</td><td>NULL</td><td>6340</td></tr>",
                            "<tr><td>2015-07-15</td><td>NULL</td><td>8615</td></tr>",
                            "<tr><td>2015-07-16</td><td>NULL</td><td>7041</td></tr>",
                            "<tr><td>2015-07-17</td><td>NULL</td><td>7327</td></tr>",
                            "<tr><td>2015-07-18</td><td>NULL</td><td>6762</td></tr>",
                            "<tr><td>2015-07-19</td><td>NULL</td><td>6776</td></tr>",
                            "<tr><td>2015-07-20</td><td>NULL</td><td>9748</td></tr>",
                            "<tr><td>2015-07-21</td><td>NULL</td><td>9805</td></tr>",
                            "<tr><td>2015-07-22</td><td>NULL</td><td>5140</td></tr>",
                            "<tr><td>2015-07-23</td><td>NULL</td><td>7258</td></tr>",
                            "<tr><td>2015-07-24</td><td>NULL</td><td>8697</td></tr>",
                            "<tr><td>2015-07-25</td><td>NULL</td><td>8180</td></tr>",
                            "<tr><td>2015-07-26</td><td>NULL</td><td>9323</td></tr>",
                            "<tr><td>2015-07-27</td><td>NULL</td><td>5417</td></tr>",
                            "<tr><td>2015-07-28</td><td>NULL</td><td>7825</td></tr>",
                            "<tr><td>2015-07-29</td><td>NULL</td><td>6405</td></tr>",
                            "<tr><td>2015-07-30</td><td>NULL</td><td>10029</td></tr>",
                            "<tr><td>2015-07-31</td><td>NULL</td><td>8673</td></tr>",
                            "<tr><td>2015-08-01</td><td>NULL</td><td>9957</td></tr>",
                            "<tr><td>2015-08-02</td><td>NULL</td><td>7599</td></tr>",
                            "<tr><td>2015-08-03</td><td>NULL</td><td>9208</td></tr>",
                            "<tr><td>2015-08-04</td><td>NULL</td><td>9353</td></tr>",
                            "<tr><td>2015-08-05</td><td>NULL</td><td>10342</td></tr>",
                            "<tr><td>2015-08-06</td><td>NULL</td><td>5124</td></tr>",
                            "<tr><td>2015-08-07</td><td>NULL</td><td>8960</td></tr>",
                            "<tr><td>2015-08-08</td><td>NULL</td><td>10296</td></tr>",
                            "<tr><td>2015-08-09</td><td>NULL</td><td>6026</td></tr>",
                            "<tr><td>2015-08-10</td><td>NULL</td><td>7896</td></tr>",
                            "<tr><td>2015-08-11</td><td>NULL</td><td>9008</td></tr>",
                            "<tr><td>2015-08-12</td><td>NULL</td><td>7605</td></tr>",
                            "<tr><td>2015-08-13</td><td>NULL</td><td>9380</td></tr>",
                            "<tr><td>2015-08-14</td><td>NULL</td><td>9780</td></tr>",
                            "<tr><td>2015-08-15</td><td>NULL</td><td>7514</td></tr>",
                            "<tr><td>2015-08-16</td><td>NULL</td><td>5341</td></tr>",
                            "<tr><td>2015-08-17</td><td>NULL</td><td>7162</td></tr>",
                            "<tr><td>2015-08-18</td><td>NULL</td><td>6271</td></tr>",
                            "<tr><td>2015-08-19</td><td>NULL</td><td>6650</td></tr>",
                            "<tr><td>2015-08-20</td><td>NULL</td><td>9005</td></tr>",
                            "<tr><td>2015-08-21</td><td>NULL</td><td>6874</td></tr>",
                            "<tr><td>2015-08-22</td><td>NULL</td><td>10138</td></tr>",
                            "<tr><td>2015-08-23</td><td>NULL</td><td>6734</td></tr>",
                            "<tr><td>2015-08-24</td><td>NULL</td><td>7767</td></tr>",
                            "<tr><td>2015-08-25</td><td>NULL</td><td>9206</td></tr>",
                            "<tr><td>2015-08-26</td><td>NULL</td><td>11006</td></tr>",
                            "<tr><td>2015-08-27</td><td>NULL</td><td>6244</td></tr>",
                            "<tr><td>2015-08-28</td><td>NULL</td><td>8145</td></tr>",
                            "<tr><td>2015-08-29</td><td>NULL</td><td>7380</td></tr>",
                            "<tr><td>2015-08-30</td><td>NULL</td><td>9727</td></tr>",
                            "<tr><td>2015-08-31</td><td>NULL</td><td>7226</td></tr>",
                            "<tr><td>2015-09-01</td><td>NULL</td><td>9466</td></tr>",
                            "<tr><td>2015-09-02</td><td>NULL</td><td>6179</td></tr>",
                            "<tr><td>2015-09-03</td><td>NULL</td><td>9949</td></tr>",
                            "<tr><td>2015-09-04</td><td>NULL</td><td>10432</td></tr>",
                            "<tr><td>2015-09-05</td><td>NULL</td><td>7083</td></tr>",
                            "<tr><td>2015-09-06</td><td>NULL</td><td>8378</td></tr>",
                            "<tr><td>2015-09-07</td><td>NULL</td><td>8303</td></tr>",
                            "<tr><td>2015-09-08</td><td>NULL</td><td>8349</td></tr>",
                            "<tr><td>2015-09-09</td><td>NULL</td><td>7985</td></tr>",
                            "<tr><td>2015-09-10</td><td>NULL</td><td>10353</td></tr>",
                            "<tr><td>2015-09-11</td><td>NULL</td><td>9284</td></tr>",
                            "<tr><td>2015-09-12</td><td>NULL</td><td>8553</td></tr>",
                            "<tr><td>2015-09-13</td><td>NULL</td><td>7435</td></tr>",
                            "<tr><td>2015-09-14</td><td>NULL</td><td>8232</td></tr>",
                            "<tr><td>2015-09-15</td><td>NULL</td><td>4776</td></tr>",
                            "<tr><td>2015-09-16</td><td>NULL</td><td>7416</td></tr>",
                            "<tr><td>2015-09-17</td><td>NULL</td><td>8358</td></tr>",
                            "<tr><td>2015-09-18</td><td>NULL</td><td>7210</td></tr>",
                            "<tr><td>2015-09-19</td><td>NULL</td><td>8267</td></tr>",
                            "<tr><td>2015-09-20</td><td>NULL</td><td>10001</td></tr>",
                            "<tr><td>2015-09-21</td><td>NULL</td><td>7086</td></tr>",
                            "<tr><td>2015-09-22</td><td>NULL</td><td>7424</td></tr>",
                            "<tr><td>2015-09-23</td><td>NULL</td><td>8183</td></tr>",
                            "<tr><td>2015-09-24</td><td>NULL</td><td>10252</td></tr>",
                            "<tr><td>2015-09-25</td><td>NULL</td><td>8106</td></tr>",
                            "<tr><td>2015-09-26</td><td>NULL</td><td>9451</td></tr>",
                            "<tr><td>2015-09-27</td><td>NULL</td><td>8692</td></tr>",
                            "<tr><td>2015-09-28</td><td>NULL</td><td>10281</td></tr>",
                            "<tr><td>2015-09-29</td><td>NULL</td><td>9481</td></tr>",
                            "<tr><td>2015-09-30</td><td>NULL</td><td>5900</td></tr>",
                            "<tr><td>2015-10-01</td><td>NULL</td><td>9384</td></tr>",
                            "<tr><td>2015-10-02</td><td>NULL</td><td>5674</td></tr>",
                            "<tr><td>2015-10-03</td><td>NULL</td><td>8509</td></tr>",
                            "<tr><td>2015-10-04</td><td>NULL</td><td>7645</td></tr>",
                            "<tr><td>2015-10-05</td><td>NULL</td><td>8535</td></tr>",
                            "<tr><td>2015-10-06</td><td>NULL</td><td>7529</td></tr>",
                            "<tr><td>2015-10-07</td><td>NULL</td><td>9435</td></tr>",
                            "<tr><td>2015-10-08</td><td>NULL</td><td>7319</td></tr>",
                            "<tr><td>2015-10-09</td><td>NULL</td><td>8931</td></tr>",
                            "<tr><td>2015-10-10</td><td>NULL</td><td>7928</td></tr>",
                            "<tr><td>2015-10-11</td><td>NULL</td><td>7516</td></tr>",
                            "<tr><td>2015-10-12</td><td>NULL</td><td>9355</td></tr>",
                            "<tr><td>2015-10-13</td><td>NULL</td><td>6564</td></tr>",
                            "<tr><td>2015-10-14</td><td>NULL</td><td>7035</td></tr>",
                            "<tr><td>2015-10-15</td><td>NULL</td><td>9269</td></tr>",
                            "<tr><td>2015-10-16</td><td>NULL</td><td>8427</td></tr>",
                            "<tr><td>2015-10-17</td><td>NULL</td><td>6936</td></tr>",
                            "<tr><td>2015-10-18</td><td>NULL</td><td>8671</td></tr>",
                            "<tr><td>2015-10-19</td><td>NULL</td><td>7207</td></tr>",
                            "<tr><td>2015-10-20</td><td>NULL</td><td>8613</td></tr>",
                            "<tr><td>2015-10-21</td><td>NULL</td><td>7366</td></tr>",
                            "<tr><td>2015-10-22</td><td>NULL</td><td>6678</td></tr>",
                            "<tr><td>2015-10-23</td><td>NULL</td><td>8056</td></tr>",
                            "<tr><td>2015-10-24</td><td>NULL</td><td>7233</td></tr>",
                            "<tr><td>2015-10-25</td><td>NULL</td><td>9107</td></tr>",
                            "<tr><td>2015-10-26</td><td>NULL</td><td>9776</td></tr>",
                            "<tr><td>2015-10-27</td><td>NULL</td><td>7669</td></tr>",
                            "<tr><td>2015-10-28</td><td>NULL</td><td>7522</td></tr>",
                            "<tr><td>2015-10-29</td><td>NULL</td><td>6971</td></tr>",
                            "<tr><td>2015-10-30</td><td>NULL</td><td>8999</td></tr>",
                            "<tr><td>2015-10-31</td><td>NULL</td><td>7046</td></tr>",
                            "<tr><td>2015-11-01</td><td>NULL</td><td>6171</td></tr>",
                            "<tr><td>2015-11-02</td><td>NULL</td><td>7612</td></tr>",
                            "<tr><td>2015-11-03</td><td>NULL</td><td>11533</td></tr>",
                            "<tr><td>2015-11-04</td><td>NULL</td><td>5352</td></tr>",
                            "<tr><td>2015-11-05</td><td>NULL</td><td>7183</td></tr>",
                            "<tr><td>2015-11-06</td><td>NULL</td><td>8606</td></tr>",
                            "<tr><td>2015-11-07</td><td>NULL</td><td>7260</td></tr>",
                            "<tr><td>2015-11-08</td><td>NULL</td><td>8177</td></tr>",
                            "<tr><td>2015-11-09</td><td>NULL</td><td>8431</td></tr>",
                            "<tr><td>2015-11-10</td><td>NULL</td><td>8329</td></tr>",
                            "<tr><td>2015-11-11</td><td>NULL</td><td>8191</td></tr>",
                            "<tr><td>2015-11-12</td><td>NULL</td><td>5884</td></tr>",
                            "<tr><td>2015-11-13</td><td>NULL</td><td>7359</td></tr>",
                            "<tr><td>2015-11-14</td><td>NULL</td><td>7730</td></tr>",
                            "<tr><td>2015-11-15</td><td>NULL</td><td>6881</td></tr>",
                            "<tr><td>2015-11-16</td><td>NULL</td><td>7721</td></tr>",
                            "<tr><td>2015-11-17</td><td>NULL</td><td>7234</td></tr>",
                            "<tr><td>2015-11-18</td><td>NULL</td><td>8321</td></tr>",
                            "<tr><td>2015-11-19</td><td>NULL</td><td>7582</td></tr>",
                            "<tr><td>2015-11-20</td><td>NULL</td><td>6288</td></tr>",
                            "<tr><td>2015-11-21</td><td>NULL</td><td>6657</td></tr>",
                            "<tr><td>2015-11-22</td><td>NULL</td><td>8640</td></tr>",
                            "<tr><td>2015-11-23</td><td>NULL</td><td>7363</td></tr>",
                            "<tr><td>2015-11-24</td><td>NULL</td><td>7556</td></tr>",
                            "<tr><td>2015-11-25</td><td>NULL</td><td>7103</td></tr>",
                            "<tr><td>2015-11-26</td><td>NULL</td><td>8368</td></tr>",
                            "<tr><td>2015-11-27</td><td>NULL</td><td>6865</td></tr>",
                            "<tr><td>2015-11-28</td><td>NULL</td><td>10098</td></tr>",
                            "<tr><td>2015-11-29</td><td>NULL</td><td>7636</td></tr>",
                            "<tr><td>2015-11-30</td><td>NULL</td><td>7182</td></tr>",
                            "<tr><td>2015-12-01</td><td>NULL</td><td>7314</td></tr>",
                            "<tr><td>2015-12-02</td><td>NULL</td><td>9592</td></tr>",
                            "<tr><td>2015-12-03</td><td>NULL</td><td>8829</td></tr>",
                            "<tr><td>2015-12-04</td><td>NULL</td><td>8013</td></tr>",
                            "<tr><td>2015-12-05</td><td>NULL</td><td>8887</td></tr>",
                            "<tr><td>2015-12-06</td><td>NULL</td><td>5596</td></tr>",
                            "<tr><td>2015-12-07</td><td>NULL</td><td>8825</td></tr>",
                            "<tr><td>2015-12-08</td><td>NULL</td><td>7819</td></tr>",
                            "<tr><td>2015-12-09</td><td>NULL</td><td>7897</td></tr>",
                            "<tr><td>2015-12-10</td><td>NULL</td><td>9644</td></tr>",
                            "<tr><td>2015-12-11</td><td>NULL</td><td>8093</td></tr>",
                            "<tr><td>2015-12-12</td><td>NULL</td><td>8957</td></tr>",
                            "<tr><td>2015-12-13</td><td>NULL</td><td>7399</td></tr>",
                            "<tr><td>2015-12-14</td><td>NULL</td><td>7676</td></tr>",
                            "<tr><td>2015-12-15</td><td>NULL</td><td>6863</td></tr>",
                            "<tr><td>2015-12-16</td><td>NULL</td><td>7886</td></tr>",
                            "<tr><td>2015-12-17</td><td>NULL</td><td>6894</td></tr>",
                            "<tr><td>2015-12-18</td><td>NULL</td><td>12260</td></tr>",
                            "<tr><td>2015-12-19</td><td>NULL</td><td>5788</td></tr>",
                            "<tr><td>2015-12-20</td><td>NULL</td><td>8699</td></tr>",
                            "<tr><td>2015-12-21</td><td>NULL</td><td>6630</td></tr>",
                            "<tr><td>2015-12-22</td><td>NULL</td><td>9212</td></tr>",
                            "<tr><td>2015-12-23</td><td>NULL</td><td>6676</td></tr>",
                            "<tr><td>2015-12-24</td><td>NULL</td><td>8869</td></tr>",
                            "<tr><td>2015-12-25</td><td>NULL</td><td>6944</td></tr>",
                            "<tr><td>2015-12-26</td><td>NULL</td><td>8921</td></tr>",
                            "<tr><td>2015-12-27</td><td>NULL</td><td>7648</td></tr>",
                            "<tr><td>2015-12-28</td><td>NULL</td><td>8042</td></tr>",
                            "<tr><td>2015-12-29</td><td>NULL</td><td>7923</td></tr>",
                            "<tr><td>2015-12-30</td><td>NULL</td><td>6562</td></tr>",
                            "<tr><td>2015-12-31</td><td>NULL</td><td>7021</td></tr>",
                            "<tr><td>2016-01-01</td><td>NULL</td><td>8837</td></tr>",
                            "<tr><td>2016-01-02</td><td>NULL</td><td>7518</td></tr>",
                            "<tr><td>2016-01-03</td><td>NULL</td><td>8422</td></tr>",
                            "<tr><td>2016-01-04</td><td>NULL</td><td>8813</td></tr>",
                            "<tr><td>2016-01-05</td><td>NULL</td><td>6895</td></tr>",
                            "<tr><td>2016-01-06</td><td>NULL</td><td>6716</td></tr>",
                            "<tr><td>2016-01-07</td><td>NULL</td><td>5593</td></tr>",
                            "<tr><td>2016-01-08</td><td>NULL</td><td>9534</td></tr>",
                            "<tr><td>2016-01-09</td><td>NULL</td><td>7056</td></tr>",
                            "<tr><td>2016-01-10</td><td>NULL</td><td>8057</td></tr>",
                            "<tr><td>2016-01-11</td><td>NULL</td><td>6734</td></tr>",
                            "<tr><td>2016-01-12</td><td>NULL</td><td>6949</td></tr>",
                            "<tr><td>2016-01-13</td><td>NULL</td><td>7487</td></tr>",
                            "<tr><td>2016-01-14</td><td>NULL</td><td>8998</td></tr>",
                            "<tr><td>2016-01-15</td><td>NULL</td><td>9345</td></tr>",
                            "<tr><td>2016-01-16</td><td>NULL</td><td>8068</td></tr>",
                            "<tr><td>2016-01-17</td><td>NULL</td><td>6954</td></tr>",
                            "<tr><td>2016-01-18</td><td>NULL</td><td>4416</td></tr>",
                            "<tr><td>2016-01-19</td><td>NULL</td><td>7124</td></tr>",
                            "<tr><td>2016-01-20</td><td>NULL</td><td>8568</td></tr>",
                            "<tr><td>2016-01-21</td><td>NULL</td><td>10953</td></tr>",
                            "<tr><td>2016-01-22</td><td>NULL</td><td>8588</td></tr>",
                            "<tr><td>2016-01-23</td><td>NULL</td><td>6512</td></tr>",
                            "<tr><td>2016-01-24</td><td>NULL</td><td>8898</td></tr>",
                            "<tr><td>2016-01-25</td><td>NULL</td><td>5191</td></tr>",
                            "<tr><td>2016-01-26</td><td>NULL</td><td>5293</td></tr>",
                            "<tr><td>2016-01-27</td><td>NULL</td><td>6513</td></tr>",
                            "<tr><td>2016-01-28</td><td>NULL</td><td>8119</td></tr>",
                            "<tr><td>2016-01-29</td><td>NULL</td><td>6658</td></tr>",
                            "<tr><td>2016-01-30</td><td>NULL</td><td>8727</td></tr>",
                            "<tr><td>2016-01-31</td><td>NULL</td><td>7527</td></tr>",
                            "<tr><td>2016-02-01</td><td>NULL</td><td>9120</td></tr>",
                            "<tr><td>2016-02-02</td><td>NULL</td><td>8088</td></tr>",
                            "<tr><td>2016-02-03</td><td>NULL</td><td>9306</td></tr>",
                            "<tr><td>2016-02-04</td><td>NULL</td><td>7994</td></tr>",
                            "<tr><td>2016-02-05</td><td>NULL</td><td>9703</td></tr>",
                            "<tr><td>2016-02-06</td><td>NULL</td><td>9860</td></tr>",
                            "<tr><td>2016-02-07</td><td>NULL</td><td>6630</td></tr>",
                            "<tr><td>2016-02-08</td><td>NULL</td><td>10093</td></tr>",
                            "<tr><td>2016-02-09</td><td>NULL</td><td>9706</td></tr>",
                            "<tr><td>2016-02-10</td><td>NULL</td><td>8520</td></tr>",
                            "<tr><td>2016-02-11</td><td>NULL</td><td>7094</td></tr>",
                            "<tr><td>2016-02-12</td><td>NULL</td><td>7789</td></tr>",
                            "<tr><td>2016-02-13</td><td>NULL</td><td>7991</td></tr>",
                            "<tr><td>2016-02-14</td><td>NULL</td><td>8049</td></tr>",
                            "<tr><td>2016-02-15</td><td>NULL</td><td>10033</td></tr>",
                            "<tr><td>2016-02-16</td><td>NULL</td><td>8049</td></tr>",
                            "<tr><td>2016-02-17</td><td>NULL</td><td>9586</td></tr>",
                            "<tr><td>2016-02-18</td><td>NULL</td><td>5922</td></tr>",
                            "<tr><td>2016-02-19</td><td>NULL</td><td>8898</td></tr>",
                            "<tr><td>2016-02-20</td><td>NULL</td><td>7549</td></tr>",
                            "<tr><td>2016-02-21</td><td>NULL</td><td>6531</td></tr>",
                            "<tr><td>2016-02-22</td><td>NULL</td><td>8724</td></tr>",
                            "<tr><td>2016-02-23</td><td>NULL</td><td>6959</td></tr>",
                            "<tr><td>2016-02-24</td><td>NULL</td><td>6314</td></tr>",
                            "<tr><td>2016-02-25</td><td>NULL</td><td>7324</td></tr>",
                            "<tr><td>2016-02-26</td><td>NULL</td><td>8466</td></tr>",
                            "<tr><td>2016-02-27</td><td>NULL</td><td>7122</td></tr>",
                            "<tr><td>2016-02-28</td><td>NULL</td><td>8447</td></tr>",
                            "<tr><td>2016-02-29</td><td>NULL</td><td>8516</td></tr>",
                            "<tr><td>2016-03-01</td><td>NULL</td><td>9654</td></tr>",
                            "<tr><td>2016-03-02</td><td>NULL</td><td>7282</td></tr>",
                            "<tr><td>2016-03-03</td><td>NULL</td><td>8853</td></tr>",
                            "<tr><td>2016-03-04</td><td>NULL</td><td>8549</td></tr>",
                            "<tr><td>2016-03-05</td><td>NULL</td><td>9463</td></tr>",
                            "<tr><td>2016-03-06</td><td>NULL</td><td>7740</td></tr>",
                            "<tr><td>2016-03-07</td><td>NULL</td><td>7680</td></tr>",
                            "<tr><td>2016-03-08</td><td>NULL</td><td>5849</td></tr>",
                            "<tr><td>2016-03-09</td><td>NULL</td><td>9412</td></tr>",
                            "<tr><td>2016-03-10</td><td>NULL</td><td>8848</td></tr>",
                            "<tr><td>2016-03-11</td><td>NULL</td><td>6193</td></tr>",
                            "<tr><td>2016-03-12</td><td>NULL</td><td>10487</td></tr>",
                            "<tr><td>2016-03-13</td><td>NULL</td><td>5913</td></tr>",
                            "<tr><td>2016-03-14</td><td>NULL</td><td>9336</td></tr>",
                            "<tr><td>2016-03-15</td><td>NULL</td><td>8180</td></tr>",
                            "<tr><td>2016-03-16</td><td>NULL</td><td>7448</td></tr>",
                            "<tr><td>2016-03-17</td><td>NULL</td><td>7770</td></tr>",
                            "<tr><td>2016-03-18</td><td>NULL</td><td>6927</td></tr>",
                            "<tr><td>2016-03-19</td><td>NULL</td><td>7827</td></tr>",
                            "<tr><td>2016-03-20</td><td>NULL</td><td>12190</td></tr>",
                            "<tr><td>2016-03-21</td><td>NULL</td><td>11075</td></tr>",
                            "<tr><td>2016-03-22</td><td>NULL</td><td>7770</td></tr>",
                            "<tr><td>2016-03-23</td><td>NULL</td><td>6397</td></tr>",
                            "<tr><td>2016-03-24</td><td>NULL</td><td>7220</td></tr>",
                            "<tr><td>2016-03-25</td><td>NULL</td><td>8763</td></tr>",
                            "<tr><td>2016-03-26</td><td>NULL</td><td>9893</td></tr>",
                            "<tr><td>2016-03-27</td><td>NULL</td><td>8950</td></tr>",
                            "<tr><td>2016-03-28</td><td>NULL</td><td>7552</td></tr>",
                            "<tr><td>2016-03-29</td><td>NULL</td><td>7416</td></tr>",
                            "<tr><td>2016-03-30</td><td>NULL</td><td>8631</td></tr>",
                            "<tr><td>2016-03-31</td><td>NULL</td><td>6885</td></tr>",
                            "<tr><td>2016-04-01</td><td>NULL</td><td>8756</td></tr>",
                            "<tr><td>2016-04-02</td><td>NULL</td><td>8073</td></tr>",
                            "<tr><td>2016-04-03</td><td>NULL</td><td>5897</td></tr>",
                            "<tr><td>2016-04-04</td><td>NULL</td><td>7405</td></tr>",
                            "<tr><td>2016-04-05</td><td>NULL</td><td>8092</td></tr>",
                            "<tr><td>2016-04-06</td><td>NULL</td><td>7458</td></tr>",
                            "<tr><td>2016-04-07</td><td>NULL</td><td>9216</td></tr>",
                            "<tr><td>2016-04-08</td><td>NULL</td><td>10889</td></tr>",
                            "<tr><td>2016-04-09</td><td>NULL</td><td>9754</td></tr>",
                            "<tr><td>2016-04-10</td><td>NULL</td><td>9878</td></tr>",
                            "<tr><td>2016-04-11</td><td>NULL</td><td>8948</td></tr>",
                            "<tr><td>2016-04-12</td><td>NULL</td><td>7144</td></tr>",
                            "<tr><td>2016-04-13</td><td>NULL</td><td>7728</td></tr>",
                            "<tr><td>2016-04-14</td><td>NULL</td><td>8805</td></tr>",
                            "<tr><td>2016-04-15</td><td>NULL</td><td>8331</td></tr>",
                            "<tr><td>2016-04-16</td><td>NULL</td><td>8755</td></tr>",
                            "<tr><td>2016-04-17</td><td>NULL</td><td>10267</td></tr>",
                            "<tr><td>2016-04-18</td><td>NULL</td><td>7586</td></tr>",
                            "<tr><td>2016-04-19</td><td>NULL</td><td>9190</td></tr>",
                            "<tr><td>2016-04-20</td><td>NULL</td><td>6584</td></tr>",
                            "<tr><td>2016-04-21</td><td>NULL</td><td>6628</td></tr>",
                            "<tr><td>2016-04-22</td><td>NULL</td><td>6502</td></tr>",
                            "<tr><td>2016-04-23</td><td>NULL</td><td>6588</td></tr>",
                            "<tr><td>2016-04-24</td><td>NULL</td><td>9512</td></tr>",
                            "<tr><td>2016-04-25</td><td>NULL</td><td>10177</td></tr>",
                            "<tr><td>2016-04-26</td><td>NULL</td><td>7946</td></tr>",
                            "<tr><td>2016-04-27</td><td>NULL</td><td>8344</td></tr>",
                            "<tr><td>2016-04-28</td><td>NULL</td><td>7732</td></tr>",
                            "<tr><td>2016-04-29</td><td>NULL</td><td>7870</td></tr>",
                            "<tr><td>2016-04-30</td><td>NULL</td><td>7898</td></tr>",
                            "<tr><td>2016-05-01</td><td>NULL</td><td>6600</td></tr>",
                            "<tr><td>2016-05-02</td><td>NULL</td><td>8142</td></tr>",
                            "<tr><td>2016-05-03</td><td>NULL</td><td>5084</td></tr>",
                            "<tr><td>2016-05-04</td><td>NULL</td><td>9125</td></tr>",
                            "<tr><td>2016-05-05</td><td>NULL</td><td>7845</td></tr>",
                            "<tr><td>2016-05-06</td><td>NULL</td><td>7969</td></tr>",
                            "<tr><td>2016-05-07</td><td>NULL</td><td>8896</td></tr>",
                            "<tr><td>2016-05-08</td><td>NULL</td><td>7858</td></tr>",
                            "<tr><td>2016-05-09</td><td>NULL</td><td>11178</td></tr>",
                            "<tr><td>2016-05-10</td><td>NULL</td><td>8968</td></tr>",
                            "<tr><td>2016-05-11</td><td>NULL</td><td>8132</td></tr>",
                            "<tr><td>2016-05-12</td><td>NULL</td><td>8095</td></tr>",
                            "<tr><td>2016-05-13</td><td>NULL</td><td>8089</td></tr>",
                            "<tr><td>2016-05-14</td><td>NULL</td><td>7722</td></tr>",
                            "<tr><td>2016-05-15</td><td>NULL</td><td>5490</td></tr>",
                            "<tr><td>2016-05-16</td><td>NULL</td><td>7944</td></tr>",
                            "<tr><td>2016-05-17</td><td>NULL</td><td>8888</td></tr>",
                            "<tr><td>2016-05-18</td><td>NULL</td><td>5720</td></tr>",
                            "<tr><td>2016-05-19</td><td>NULL</td><td>7578</td></tr>",
                            "<tr><td>2016-05-20</td><td>NULL</td><td>8879</td></tr>",
                            "<tr><td>2016-05-21</td><td>NULL</td><td>9030</td></tr>",
                            "<tr><td>2016-05-22</td><td>NULL</td><td>4914</td></tr>",
                            "<tr><td>2016-05-23</td><td>NULL</td><td>8577</td></tr>",
                            "<tr><td>2016-05-24</td><td>NULL</td><td>8816</td></tr>",
                            "<tr><td>2016-05-25</td><td>NULL</td><td>9296</td></tr>",
                            "<tr><td>2016-05-26</td><td>NULL</td><td>5287</td></tr>",
                            "<tr><td>2016-05-27</td><td>NULL</td><td>9701</td></tr>",
                            "<tr><td>2016-05-28</td><td>NULL</td><td>6509</td></tr>",
                            "<tr><td>2016-05-29</td><td>NULL</td><td>9450</td></tr>",
                            "<tr><td>2016-05-30</td><td>NULL</td><td>6884</td></tr>",
                            "<tr><td>2016-05-31</td><td>NULL</td><td>10007</td></tr>",
                            "<tr><td>2016-06-01</td><td>NULL</td><td>8484</td></tr>",
                            "<tr><td>2016-06-02</td><td>NULL</td><td>6928</td></tr>",
                            "<tr><td>2016-06-03</td><td>NULL</td><td>6567</td></tr>",
                            "<tr><td>2016-06-04</td><td>NULL</td><td>7904</td></tr>",
                            "<tr><td>2016-06-05</td><td>NULL</td><td>5802</td></tr>",
                            "<tr><td>2016-06-06</td><td>NULL</td><td>9474</td></tr>",
                            "<tr><td>2016-06-07</td><td>NULL</td><td>8722</td></tr>",
                            "<tr><td>2016-06-08</td><td>NULL</td><td>7019</td></tr>",
                            "<tr><td>2016-06-09</td><td>NULL</td><td>7354</td></tr>",
                            "<tr><td>2016-06-10</td><td>NULL</td><td>8873</td></tr>",
                            "<tr><td>2016-06-11</td><td>NULL</td><td>9217</td></tr>",
                            "<tr><td>2016-06-12</td><td>NULL</td><td>9418</td></tr>",
                            "<tr><td>2016-06-13</td><td>NULL</td><td>6407</td></tr>",
                            "<tr><td>2016-06-14</td><td>NULL</td><td>7968</td></tr>",
                            "<tr><td>2016-06-15</td><td>NULL</td><td>8830</td></tr>",
                            "<tr><td>2016-06-16</td><td>NULL</td><td>6462</td></tr>",
                            "<tr><td>2016-06-17</td><td>NULL</td><td>9189</td></tr>",
                            "<tr><td>2016-06-18</td><td>NULL</td><td>6311</td></tr>",
                            "<tr><td>2016-06-19</td><td>NULL</td><td>8834</td></tr>",
                            "<tr><td>2016-06-20</td><td>NULL</td><td>8005</td></tr>",
                            "<tr><td>2016-06-21</td><td>NULL</td><td>6482</td></tr>",
                            "<tr><td>2016-06-22</td><td>NULL</td><td>6541</td></tr>",
                            "<tr><td>2016-06-23</td><td>NULL</td><td>6662</td></tr>",
                            "<tr><td>2016-06-24</td><td>NULL</td><td>8530</td></tr>",
                            "<tr><td>2016-06-25</td><td>NULL</td><td>8262</td></tr>",
                            "<tr><td>2016-06-26</td><td>NULL</td><td>10488</td></tr>",
                            "<tr><td>2016-06-27</td><td>NULL</td><td>5541</td></tr>",
                            "<tr><td>2016-06-28</td><td>NULL</td><td>10267</td></tr>",
                            "<tr><td>2016-06-29</td><td>NULL</td><td>9869</td></tr>",
                            "<tr><td>2016-06-30</td><td>NULL</td><td>9437</td></tr>",
                            "<tr><td>2016-07-01</td><td>NULL</td><td>5916</td></tr>",
                            "<tr><td>2016-07-02</td><td>NULL</td><td>6710</td></tr>",
                            "<tr><td>2016-07-03</td><td>NULL</td><td>9081</td></tr>",
                            "<tr><td>2016-07-04</td><td>NULL</td><td>10816</td></tr>",
                            "<tr><td>2016-07-05</td><td>NULL</td><td>8863</td></tr>",
                            "<tr><td>2016-07-06</td><td>NULL</td><td>7283</td></tr>",
                            "<tr><td>2016-07-07</td><td>NULL</td><td>5922</td></tr>",
                            "<tr><td>2016-07-08</td><td>NULL</td><td>7968</td></tr>",
                            "<tr><td>2016-07-09</td><td>NULL</td><td>9112</td></tr>",
                            "<tr><td>2016-07-10</td><td>NULL</td><td>7494</td></tr>",
                            "<tr><td>2016-07-11</td><td>NULL</td><td>10358</td></tr>",
                            "<tr><td>2016-07-12</td><td>NULL</td><td>8519</td></tr>",
                            "<tr><td>2016-07-13</td><td>NULL</td><td>8721</td></tr>",
                            "<tr><td>2016-07-14</td><td>NULL</td><td>7363</td></tr>",
                            "<tr><td>2016-07-15</td><td>NULL</td><td>7066</td></tr>",
                            "<tr><td>2016-07-16</td><td>NULL</td><td>8298</td></tr>",
                            "<tr><td>2016-07-17</td><td>NULL</td><td>6320</td></tr>",
                            "<tr><td>2016-07-18</td><td>NULL</td><td>8573</td></tr>",
                            "<tr><td>2016-07-19</td><td>NULL</td><td>9023</td></tr>",
                            "<tr><td>2016-07-20</td><td>NULL</td><td>7415</td></tr>",
                            "<tr><td>2016-07-21</td><td>NULL</td><td>7484</td></tr>",
                            "<tr><td>2016-07-22</td><td>NULL</td><td>7412</td></tr>",
                            "<tr><td>2016-07-23</td><td>NULL</td><td>6895</td></tr>",
                            "<tr><td>2016-07-24</td><td>NULL</td><td>6958</td></tr>",
                            "<tr><td>2016-07-25</td><td>NULL</td><td>7559</td></tr>",
                            "<tr><td>2016-07-26</td><td>NULL</td><td>7020</td></tr>",
                            "<tr><td>2016-07-27</td><td>NULL</td><td>9352</td></tr>",
                            "<tr><td>2016-07-28</td><td>NULL</td><td>7155</td></tr>",
                            "<tr><td>2016-07-29</td><td>NULL</td><td>9038</td></tr>",
                            "<tr><td>2016-07-30</td><td>NULL</td><td>6288</td></tr>",
                            "<tr><td>2016-07-31</td><td>NULL</td><td>9007</td></tr>",
                            "<tr><td>2016-08-01</td><td>NULL</td><td>7588</td></tr>",
                            "<tr><td>2016-08-02</td><td>NULL</td><td>6686</td></tr>",
                            "<tr><td>2016-08-03</td><td>NULL</td><td>7884</td></tr>",
                            "<tr><td>2016-08-04</td><td>NULL</td><td>6900</td></tr>",
                            "<tr><td>2016-08-05</td><td>NULL</td><td>7610</td></tr>",
                            "<tr><td>2016-08-06</td><td>NULL</td><td>8498</td></tr>",
                            "<tr><td>2016-08-07</td><td>NULL</td><td>5511</td></tr>",
                            "<tr><td>2016-08-08</td><td>NULL</td><td>5829</td></tr>",
                            "<tr><td>2016-08-09</td><td>NULL</td><td>10307</td></tr>",
                            "<tr><td>2016-08-10</td><td>NULL</td><td>8311</td></tr>",
                            "<tr><td>2016-08-11</td><td>NULL</td><td>8232</td></tr>",
                            "<tr><td>2016-08-12</td><td>NULL</td><td>8761</td></tr>",
                            "<tr><td>2016-08-13</td><td>NULL</td><td>9571</td></tr>",
                            "<tr><td>2016-08-14</td><td>NULL</td><td>8263</td></tr>",
                            "<tr><td>2016-08-15</td><td>NULL</td><td>10966</td></tr>",
                            "<tr><td>2016-08-16</td><td>NULL</td><td>7435</td></tr>",
                            "<tr><td>2016-08-17</td><td>NULL</td><td>7576</td></tr>",
                            "<tr><td>2016-08-18</td><td>NULL</td><td>7689</td></tr>",
                            "<tr><td>2016-08-19</td><td>NULL</td><td>6974</td></tr>",
                            "<tr><td>2016-08-20</td><td>NULL</td><td>9117</td></tr>",
                            "<tr><td>2016-08-21</td><td>NULL</td><td>5864</td></tr>",
                            "<tr><td>2016-08-22</td><td>NULL</td><td>7082</td></tr>",
                            "<tr><td>2016-08-23</td><td>NULL</td><td>6153</td></tr>",
                            "<tr><td>2016-08-24</td><td>NULL</td><td>8822</td></tr>",
                            "<tr><td>2016-08-25</td><td>NULL</td><td>9398</td></tr>",
                            "<tr><td>2016-08-26</td><td>NULL</td><td>8695</td></tr>",
                            "<tr><td>2016-08-27</td><td>NULL</td><td>8120</td></tr>",
                            "<tr><td>2016-08-28</td><td>NULL</td><td>8937</td></tr>",
                            "<tr><td>2016-08-29</td><td>NULL</td><td>7542</td></tr>",
                            "<tr><td>2016-08-30</td><td>NULL</td><td>5527</td></tr>",
                            "<tr><td>2016-08-31</td><td>NULL</td><td>6069</td></tr>",
                            "<tr><td>2016-09-01</td><td>NULL</td><td>6626</td></tr>",
                            "<tr><td>2016-09-02</td><td>NULL</td><td>7775</td></tr>",
                            "<tr><td>2016-09-03</td><td>NULL</td><td>11043</td></tr>",
                            "<tr><td>2016-09-04</td><td>NULL</td><td>11369</td></tr>",
                            "<tr><td>2016-09-05</td><td>NULL</td><td>6206</td></tr>",
                            "<tr><td>2016-09-06</td><td>NULL</td><td>8736</td></tr>",
                            "<tr><td>2016-09-07</td><td>NULL</td><td>8579</td></tr>",
                            "<tr><td>2016-09-08</td><td>NULL</td><td>8561</td></tr>",
                            "<tr><td>2016-09-09</td><td>NULL</td><td>8470</td></tr>",
                            "<tr><td>2016-09-10</td><td>NULL</td><td>9203</td></tr>",
                            "<tr><td>2016-09-11</td><td>NULL</td><td>8573</td></tr>",
                            "<tr><td>2016-09-12</td><td>NULL</td><td>6264</td></tr>",
                            "<tr><td>2016-09-13</td><td>NULL</td><td>8200</td></tr>",
                            "<tr><td>2016-09-14</td><td>NULL</td><td>10576</td></tr>",
                            "<tr><td>2016-09-15</td><td>NULL</td><td>10530</td></tr>",
                            "<tr><td>2016-09-16</td><td>NULL</td><td>5621</td></tr>",
                            "<tr><td>2016-09-17</td><td>NULL</td><td>7379</td></tr>",
                            "<tr><td>2016-09-18</td><td>NULL</td><td>10790</td></tr>",
                            "<tr><td>2016-09-19</td><td>NULL</td><td>7019</td></tr>",
                            "<tr><td>2016-09-20</td><td>NULL</td><td>8544</td></tr>",
                            "<tr><td>2016-09-21</td><td>NULL</td><td>5504</td></tr>",
                            "<tr><td>2016-09-22</td><td>NULL</td><td>6691</td></tr>",
                            "<tr><td>2016-09-23</td><td>NULL</td><td>6574</td></tr>",
                            "<tr><td>2016-09-24</td><td>NULL</td><td>6220</td></tr>",
                            "<tr><td>2016-09-25</td><td>NULL</td><td>6759</td></tr>",
                            "<tr><td>2016-09-26</td><td>NULL</td><td>7073</td></tr>",
                            "<tr><td>2016-09-27</td><td>NULL</td><td>9214</td></tr>",
                            "<tr><td>2016-09-28</td><td>NULL</td><td>7948</td></tr>",
                            "<tr><td>2016-09-29</td><td>NULL</td><td>5840</td></tr>",
                            "<tr><td>2016-09-30</td><td>NULL</td><td>8410</td></tr>",
                            "<tr><td>2016-10-01</td><td>NULL</td><td>8122</td></tr>",
                            "<tr><td>2016-10-02</td><td>NULL</td><td>7206</td></tr>",
                            "<tr><td>2016-10-03</td><td>NULL</td><td>6357</td></tr>",
                            "<tr><td>2016-10-04</td><td>NULL</td><td>7203</td></tr>",
                            "<tr><td>2016-10-05</td><td>NULL</td><td>7856</td></tr>",
                            "<tr><td>2016-10-06</td><td>NULL</td><td>6682</td></tr>",
                            "<tr><td>2016-10-07</td><td>NULL</td><td>6607</td></tr>",
                            "<tr><td>2016-10-08</td><td>NULL</td><td>8515</td></tr>",
                            "<tr><td>2016-10-09</td><td>NULL</td><td>10396</td></tr>",
                            "<tr><td>2016-10-10</td><td>NULL</td><td>7117</td></tr>",
                            "<tr><td>2016-10-11</td><td>NULL</td><td>9192</td></tr>",
                            "<tr><td>2016-10-12</td><td>NULL</td><td>10889</td></tr>",
                            "<tr><td>2016-10-13</td><td>NULL</td><td>10192</td></tr>",
                            "<tr><td>2016-10-14</td><td>NULL</td><td>7397</td></tr>",
                            "<tr><td>2016-10-15</td><td>NULL</td><td>7459</td></tr>",
                            "<tr><td>2016-10-16</td><td>NULL</td><td>7198</td></tr>",
                            "<tr><td>2016-10-17</td><td>NULL</td><td>11045</td></tr>",
                            "<tr><td>2016-10-18</td><td>NULL</td><td>7033</td></tr>",
                            "<tr><td>2016-10-19</td><td>NULL</td><td>9307</td></tr>",
                            "<tr><td>2016-10-20</td><td>NULL</td><td>6856</td></tr>",
                            "<tr><td>2016-10-21</td><td>NULL</td><td>9403</td></tr>",
                            "<tr><td>2016-10-22</td><td>NULL</td><td>8356</td></tr>",
                            "<tr><td>2016-10-23</td><td>NULL</td><td>9634</td></tr>",
                            "<tr><td>2016-10-24</td><td>NULL</td><td>4888</td></tr>",
                            "<tr><td>2016-10-25</td><td>NULL</td><td>11978</td></tr>",
                            "<tr><td>2016-10-26</td><td>NULL</td><td>8070</td></tr>",
                            "<tr><td>2016-10-27</td><td>NULL</td><td>7617</td></tr>",
                            "<tr><td>2016-10-28</td><td>NULL</td><td>7766</td></tr>",
                            "<tr><td>2016-10-29</td><td>NULL</td><td>6854</td></tr>",
                            "<tr><td>2016-10-30</td><td>NULL</td><td>11718</td></tr>",
                            "<tr><td>2016-10-31</td><td>NULL</td><td>8714</td></tr>",
                            "<tr><td>2016-11-01</td><td>NULL</td><td>7238</td></tr>",
                            "<tr><td>2016-11-02</td><td>NULL</td><td>5472</td></tr>",
                            "<tr><td>2016-11-03</td><td>NULL</td><td>7739</td></tr>",
                            "<tr><td>2016-11-04</td><td>NULL</td><td>6667</td></tr>",
                            "<tr><td>2016-11-05</td><td>NULL</td><td>9157</td></tr>",
                            "<tr><td>2016-11-06</td><td>NULL</td><td>8517</td></tr>",
                            "<tr><td>2016-11-07</td><td>NULL</td><td>6691</td></tr>",
                            "<tr><td>2016-11-08</td><td>NULL</td><td>8431</td></tr>",
                            "<tr><td>2016-11-09</td><td>NULL</td><td>5911</td></tr>",
                            "<tr><td>2016-11-10</td><td>NULL</td><td>6795</td></tr>",
                            "<tr><td>2016-11-11</td><td>NULL</td><td>6940</td></tr>",
                            "<tr><td>2016-11-12</td><td>NULL</td><td>10959</td></tr>",
                            "<tr><td>2016-11-13</td><td>NULL</td><td>10751</td></tr>",
                            "<tr><td>2016-11-14</td><td>NULL</td><td>11881</td></tr>",
                            "<tr><td>2016-11-15</td><td>NULL</td><td>6736</td></tr>",
                            "<tr><td>2016-11-16</td><td>NULL</td><td>8969</td></tr>",
                            "<tr><td>2016-11-17</td><td>NULL</td><td>6852</td></tr>",
                            "<tr><td>2016-11-18</td><td>NULL</td><td>6770</td></tr>",
                            "<tr><td>2016-11-19</td><td>NULL</td><td>7451</td></tr>",
                            "<tr><td>2016-11-20</td><td>NULL</td><td>7946</td></tr>",
                            "<tr><td>2016-11-21</td><td>NULL</td><td>6727</td></tr>",
                            "<tr><td>2016-11-22</td><td>NULL</td><td>7801</td></tr>",
                            "<tr><td>2016-11-23</td><td>NULL</td><td>7435</td></tr>",
                            "<tr><td>2016-11-24</td><td>NULL</td><td>5981</td></tr>",
                            "<tr><td>2016-11-25</td><td>NULL</td><td>6915</td></tr>",
                            "<tr><td>2016-11-26</td><td>NULL</td><td>9216</td></tr>",
                            "<tr><td>2016-11-27</td><td>NULL</td><td>9893</td></tr>",
                            "<tr><td>2016-11-28</td><td>NULL</td><td>9770</td></tr>",
                            "<tr><td>2016-11-29</td><td>NULL</td><td>8722</td></tr>",
                            "<tr><td>2016-11-30</td><td>NULL</td><td>6419</td></tr>",
                            "<tr><td>2016-12-01</td><td>NULL</td><td>9940</td></tr>",
                            "<tr><td>2016-12-02</td><td>NULL</td><td>4748</td></tr>",
                            "<tr><td>2016-12-03</td><td>NULL</td><td>6745</td></tr>",
                            "<tr><td>2016-12-04</td><td>NULL</td><td>9959</td></tr>",
                            "<tr><td>2016-12-05</td><td>NULL</td><td>8225</td></tr>",
                            "<tr><td>2016-12-06</td><td>NULL</td><td>7762</td></tr>",
                            "<tr><td>2016-12-07</td><td>NULL</td><td>7380</td></tr>",
                            "<tr><td>2016-12-08</td><td>NULL</td><td>7200</td></tr>",
                            "<tr><td>2016-12-09</td><td>NULL</td><td>9724</td></tr>",
                            "<tr><td>2016-12-10</td><td>NULL</td><td>7083</td></tr>",
                            "<tr><td>2016-12-11</td><td>NULL</td><td>7576</td></tr>",
                            "<tr><td>2016-12-12</td><td>NULL</td><td>8580</td></tr>",
                            "<tr><td>2016-12-13</td><td>NULL</td><td>8233</td></tr>",
                            "<tr><td>2016-12-14</td><td>NULL</td><td>6268</td></tr>",
                            "<tr><td>2016-12-15</td><td>NULL</td><td>7392</td></tr>",
                            "<tr><td>2016-12-16</td><td>NULL</td><td>6407</td></tr>",
                            "<tr><td>2016-12-17</td><td>NULL</td><td>7555</td></tr>",
                            "<tr><td>2016-12-18</td><td>NULL</td><td>6070</td></tr>",
                            "<tr><td>2016-12-19</td><td>NULL</td><td>5390</td></tr>",
                            "<tr><td>2016-12-20</td><td>NULL</td><td>7735</td></tr>",
                            "<tr><td>2016-12-21</td><td>NULL</td><td>10434</td></tr>",
                            "<tr><td>2016-12-22</td><td>NULL</td><td>5465</td></tr>",
                            "<tr><td>2016-12-23</td><td>NULL</td><td>8338</td></tr>",
                            "<tr><td>2016-12-24</td><td>NULL</td><td>5916</td></tr>",
                            "<tr><td>2016-12-25</td><td>NULL</td><td>7345</td></tr>",
                            "<tr><td>2016-12-26</td><td>NULL</td><td>9875</td></tr>",
                            "<tr><td>2016-12-27</td><td>NULL</td><td>10216</td></tr>",
                            "<tr><td>2016-12-28</td><td>NULL</td><td>6222</td></tr>",
                            "<tr><td>2016-12-29</td><td>NULL</td><td>10046</td></tr>",
                            "<tr><td>2016-12-30</td><td>NULL</td><td>7113</td></tr>",
                            "<tr><td>2016-12-31</td><td>NULL</td><td>7188</td></tr>",
                            "<tr><td>2017-01-01</td><td>NULL</td><td>7200</td></tr>",
                            "<tr><td>2017-01-02</td><td>NULL</td><td>7425</td></tr>",
                            "<tr><td>2017-01-03</td><td>NULL</td><td>6783</td></tr>",
                            "<tr><td>2017-01-04</td><td>NULL</td><td>7465</td></tr>",
                            "<tr><td>2017-01-05</td><td>NULL</td><td>7591</td></tr>",
                            "<tr><td>2017-01-06</td><td>NULL</td><td>8298</td></tr>",
                            "<tr><td>2017-01-07</td><td>NULL</td><td>8976</td></tr>",
                            "<tr><td>2017-01-08</td><td>NULL</td><td>7179</td></tr>",
                            "<tr><td>2017-01-09</td><td>NULL</td><td>9465</td></tr>",
                            "<tr><td>2017-01-10</td><td>NULL</td><td>8667</td></tr>",
                            "<tr><td>2017-01-11</td><td>NULL</td><td>9472</td></tr>",
                            "<tr><td>2017-01-12</td><td>NULL</td><td>7636</td></tr>",
                            "<tr><td>2017-01-13</td><td>NULL</td><td>7538</td></tr>",
                            "<tr><td>2017-01-14</td><td>NULL</td><td>8920</td></tr>",
                            "<tr><td>2017-01-15</td><td>NULL</td><td>7611</td></tr>",
                            "<tr><td>2017-01-16</td><td>NULL</td><td>7369</td></tr>",
                            "<tr><td>2017-01-17</td><td>NULL</td><td>8658</td></tr>",
                            "<tr><td>2017-01-18</td><td>NULL</td><td>6558</td></tr>",
                            "<tr><td>2017-01-19</td><td>NULL</td><td>6422</td></tr>",
                            "<tr><td>2017-01-20</td><td>NULL</td><td>6450</td></tr>",
                            "<tr><td>2017-01-21</td><td>NULL</td><td>7150</td></tr>",
                            "<tr><td>2017-01-22</td><td>NULL</td><td>8199</td></tr>",
                            "<tr><td>2017-01-23</td><td>NULL</td><td>8394</td></tr>",
                            "<tr><td>2017-01-24</td><td>NULL</td><td>8615</td></tr>",
                            "<tr><td>2017-01-25</td><td>NULL</td><td>6484</td></tr>",
                            "<tr><td>2017-01-26</td><td>NULL</td><td>9426</td></tr>",
                            "<tr><td>2017-01-27</td><td>NULL</td><td>5418</td></tr>",
                            "<tr><td>2017-01-28</td><td>NULL</td><td>8401</td></tr>",
                            "<tr><td>2017-01-29</td><td>NULL</td><td>8997</td></tr>",
                            "<tr><td>2017-01-30</td><td>NULL</td><td>9661</td></tr>",
                            "<tr><td>2017-01-31</td><td>NULL</td><td>6253</td></tr>",
                            "<tr><td>2017-02-01</td><td>NULL</td><td>5703</td></tr>",
                            "<tr><td>2017-02-02</td><td>NULL</td><td>8746</td></tr>",
                            "<tr><td>2017-02-03</td><td>NULL</td><td>7840</td></tr>",
                            "<tr><td>2017-02-04</td><td>NULL</td><td>6220</td></tr>",
                            "<tr><td>2017-02-05</td><td>NULL</td><td>5138</td></tr>",
                            "<tr><td>2017-02-06</td><td>NULL</td><td>8206</td></tr>",
                            "<tr><td>2017-02-07</td><td>NULL</td><td>6846</td></tr>",
                            "<tr><td>2017-02-08</td><td>NULL</td><td>10057</td></tr>",
                            "<tr><td>2017-02-09</td><td>NULL</td><td>8302</td></tr>",
                            "<tr><td>2017-02-10</td><td>NULL</td><td>8964</td></tr>",
                            "<tr><td>2017-02-11</td><td>NULL</td><td>8790</td></tr>",
                            "<tr><td>2017-02-12</td><td>NULL</td><td>6268</td></tr>",
                            "<tr><td>2017-02-13</td><td>NULL</td><td>8176</td></tr>",
                            "<tr><td>2017-02-14</td><td>NULL</td><td>10029</td></tr>",
                            "<tr><td>2017-02-15</td><td>NULL</td><td>6443</td></tr>",
                            "<tr><td>2017-02-16</td><td>NULL</td><td>8794</td></tr>",
                            "<tr><td>2017-02-17</td><td>NULL</td><td>9808</td></tr>",
                            "<tr><td>2017-02-18</td><td>NULL</td><td>10757</td></tr>",
                            "<tr><td>2017-02-19</td><td>NULL</td><td>8284</td></tr>",
                            "<tr><td>2017-02-20</td><td>NULL</td><td>5660</td></tr>",
                            "<tr><td>2017-02-21</td><td>NULL</td><td>8878</td></tr>",
                            "<tr><td>2017-02-22</td><td>NULL</td><td>9034</td></tr>",
                            "<tr><td>2017-02-23</td><td>NULL</td><td>7574</td></tr>",
                            "<tr><td>2017-02-24</td><td>NULL</td><td>6814</td></tr>",
                            "<tr><td>2017-02-25</td><td>NULL</td><td>6820</td></tr>",
                            "<tr><td>2017-02-26</td><td>NULL</td><td>8578</td></tr>",
                            "<tr><td>2017-02-27</td><td>NULL</td><td>9185</td></tr>",
                            "<tr><td>2017-02-28</td><td>NULL</td><td>11649</td></tr>",
                            "<tr><td>2017-03-01</td><td>NULL</td><td>5037</td></tr>",
                            "<tr><td>2017-03-02</td><td>NULL</td><td>4861</td></tr>",
                            "<tr><td>2017-03-03</td><td>NULL</td><td>7585</td></tr>",
                            "<tr><td>2017-03-04</td><td>NULL</td><td>5977</td></tr>",
                            "<tr><td>2017-03-05</td><td>NULL</td><td>10338</td></tr>",
                            "<tr><td>2017-03-06</td><td>NULL</td><td>10916</td></tr>",
                            "<tr><td>2017-03-07</td><td>NULL</td><td>8747</td></tr>",
                            "<tr><td>2017-03-08</td><td>NULL</td><td>6837</td></tr>",
                            "<tr><td>2017-03-09</td><td>NULL</td><td>6964</td></tr>",
                            "<tr><td>2017-03-10</td><td>NULL</td><td>6846</td></tr>",
                            "<tr><td>2017-03-11</td><td>NULL</td><td>6885</td></tr>",
                            "<tr><td>2017-03-12</td><td>NULL</td><td>5941</td></tr>",
                            "<tr><td>2017-03-13</td><td>NULL</td><td>6950</td></tr>",
                            "<tr><td>2017-03-14</td><td>NULL</td><td>7224</td></tr>",
                            "<tr><td>2017-03-15</td><td>NULL</td><td>9718</td></tr>",
                            "<tr><td>2017-03-16</td><td>NULL</td><td>9763</td></tr>",
                            "<tr><td>2017-03-17</td><td>NULL</td><td>8908</td></tr>",
                            "<tr><td>2017-03-18</td><td>NULL</td><td>9344</td></tr>",
                            "<tr><td>2017-03-19</td><td>NULL</td><td>9937</td></tr>",
                            "<tr><td>2017-03-20</td><td>NULL</td><td>7683</td></tr>",
                            "<tr><td>2017-03-21</td><td>NULL</td><td>8639</td></tr>",
                            "<tr><td>2017-03-22</td><td>NULL</td><td>6526</td></tr>",
                            "<tr><td>2017-03-23</td><td>NULL</td><td>8799</td></tr>",
                            "<tr><td>2017-03-24</td><td>NULL</td><td>7416</td></tr>",
                            "<tr><td>2017-03-25</td><td>NULL</td><td>6272</td></tr>",
                            "<tr><td>2017-03-26</td><td>NULL</td><td>7786</td></tr>",
                            "<tr><td>2017-03-27</td><td>NULL</td><td>7715</td></tr>",
                            "<tr><td>2017-03-28</td><td>NULL</td><td>8568</td></tr>",
                            "<tr><td>2017-03-29</td><td>NULL</td><td>8346</td></tr>",
                            "<tr><td>2017-03-30</td><td>NULL</td><td>8513</td></tr>",
                            "<tr><td>2017-03-31</td><td>NULL</td><td>8598</td></tr>",
                            "<tr><td>2017-04-01</td><td>NULL</td><td>7307</td></tr>",
                            "<tr><td>2017-04-02</td><td>NULL</td><td>9477</td></tr>",
                            "<tr><td>2017-04-03</td><td>NULL</td><td>6042</td></tr>",
                            "<tr><td>2017-04-04</td><td>NULL</td><td>7493</td></tr>",
                            "<tr><td>2017-04-05</td><td>NULL</td><td>7562</td></tr>",
                            "<tr><td>2017-04-06</td><td>NULL</td><td>4646</td></tr>",
                            "<tr><td>2017-04-07</td><td>NULL</td><td>5197</td></tr>",
                            "<tr><td>2017-04-08</td><td>NULL</td><td>3057</td></tr>",
                            "<tr><td>2017-04-09</td><td>NULL</td><td>3870</td></tr>",
                            "<tr><td>2017-04-10</td><td>NULL</td><td>1640</td></tr>",
                            "<tr><td>2017-04-11</td><td>NULL</td><td>1220</td></tr>",
                            "<tr><td>NULL</td><td>NULL</td><td>5578316</td></tr>",
                            "</table>"
                        ]
                    }
                }
            ],
            "execution_count": 8
        },
        {
            "cell_type": "markdown",
            "source": [
                "```\n",
                "3. Hány olyan ügyfél van, aki még nem rendelt semmit?\n",
                "```\n",
                "\n",
                "1. Csoportosítsuk őket nem szerint, azon belül életkor szerint!\n",
                "2. A lista tartalmazza a részösszegeket és a végösszeget is!\n",
                "\n",
                "![](https://moodle.uni-corvinus.hu/theme/image.php/adaptable/atto_h5p/1709548862/icon)"
            ],
            "metadata": {
                "azdata_cell_guid": "d7876bb9-76d0-4d07-baed-3cb17b2f96c3"
            },
            "attachments": {}
        },
        {
            "cell_type": "code",
            "source": [
                ""
            ],
            "metadata": {
                "azdata_cell_guid": "56ec19ce-e249-4551-b2a8-f17569765acc",
                "language": "sql"
            },
            "outputs": [],
            "execution_count": null
        },
        {
            "cell_type": "markdown",
            "source": [
                "4. <span style=\"color: rgb(36, 41, 47); font-family: -apple-system, BlinkMacSystemFont, &quot;Segoe UI&quot;, Helvetica, Arial, sans-serif, &quot;Apple Color Emoji&quot;, &quot;Segoe UI Emoji&quot;; font-size: 16px;\">Készítsünk listát a megrendelt termékek legkisebb és legnagyobb egységáráról szállítási dátum, azon belül szállítási mód szerinti bontásban!</span>\n",
                "\n",
                "1. A lista csak a 2015 májusi szállításokat tartalmazza!\n",
                "2. Jelenítsük meg a részösszegeket és a végösszeget is!"
            ],
            "metadata": {
                "azdata_cell_guid": "8e7fef82-8022-49a0-8255-fc2846c2134b"
            },
            "attachments": {}
        },
        {
            "cell_type": "code",
            "source": [
                ""
            ],
            "metadata": {
                "azdata_cell_guid": "36f7b396-4a1f-45e5-8720-2302537c91bc",
                "language": "sql"
            },
            "outputs": [],
            "execution_count": null
        },
        {
            "cell_type": "markdown",
            "source": [
                "5. <span style=\"color: rgb(36, 41, 47); font-family: -apple-system, BlinkMacSystemFont, &quot;Segoe UI&quot;, Helvetica, Arial, sans-serif, &quot;Apple Color Emoji&quot;, &quot;Segoe UI Emoji&quot;; font-size: 16px;\">Készítsünk csoportot a termékek listaára alapján a következők szerint:&nbsp;<br></span> <span style=\"color: rgb(36, 41, 47); font-family: -apple-system, BlinkMacSystemFont, &quot;Segoe UI&quot;, Helvetica, Arial, sans-serif, &quot;Apple Color Emoji&quot;, &quot;Segoe UI Emoji&quot;; font-size: 16px;\">Az \"olcsó\" termékek legyenek azok, amelyek listaára 3000 alatt van.<br>&nbsp;A \"drága\" termékek legyenek az 5000 felettiek, a többi legyen \"közepes\".</span>\n",
                "\n",
                "1. Listázzuk az egyes csoportokat, és a csoportokba tartozó termékek darabszámát!\n",
                "2. A lista jelenítse meg a végösszeget is!"
            ],
            "metadata": {
                "azdata_cell_guid": "84239ca2-6b5e-49f5-9860-d44c11d6de32"
            },
            "attachments": {}
        },
        {
            "cell_type": "code",
            "source": [
                ""
            ],
            "metadata": {
                "azdata_cell_guid": "06d9a62b-9430-424b-a135-d80e675f0eb3",
                "language": "sql"
            },
            "outputs": [],
            "execution_count": null
        },
        {
            "cell_type": "markdown",
            "source": [
                "6. <span style=\"font-weight: 600; color: rgb(36, 41, 47); font-family: -apple-system, BlinkMacSystemFont, &quot;Segoe UI&quot;, Helvetica, Arial, sans-serif, &quot;Apple Color Emoji&quot;, &quot;Segoe UI Emoji&quot;; font-size: 16px;\">Készítsünk listát az ügyfelek adatairól név szerinti sorrendben.</span>\n",
                "\n",
                "1. Minden sorban jelenjen meg a sorrend szerint előző, illetve következő ügyfél neve is.\n",
                "2. Ha nincs előző vagy következő ügyfél, akkor a 'Nincs' jelenjen meg!"
            ],
            "metadata": {
                "azdata_cell_guid": "b0d15045-3c43-4f3a-b8d4-76b4f24e5546"
            },
            "attachments": {}
        },
        {
            "cell_type": "code",
            "source": [
                "--lag és lead fv-ek\r\n",
                "select *,\r\n",
                "        --előző ügyfél neve\r\n",
                "        Lag(Nev) over(PARTITION by \r\n",
                "        --következő ügyfél neve\r\n",
                "from Ugyfel"
            ],
            "metadata": {
                "azdata_cell_guid": "f2b7400d-1255-40ac-9250-4d57f9da5357",
                "language": "sql"
            },
            "outputs": [],
            "execution_count": null
        },
        {
            "cell_type": "markdown",
            "source": [
                "7. <span style=\"font-weight: 600; color: rgb(36, 41, 47); font-family: -apple-system, BlinkMacSystemFont, &quot;Segoe UI&quot;, Helvetica, Arial, sans-serif, &quot;Apple Color Emoji&quot;, &quot;Segoe UI Emoji&quot;; font-size: 16px;\">Készítsünk lekérdezést, amely megmutatja, hogy melyik termékkategóriába hány termék tartozik. A lista a kategória nevét és a darabszámot jelenítse meg.</span>\n",
                "\n",
                "1. A lista ne tartalmazzon duplikált sorokat.\n",
                "2. A feladatot partíciók segítségével oldjuk meg!"
            ],
            "metadata": {
                "azdata_cell_guid": "7ebf7ddd-1bd2-4246-815a-be8ae37e3b5b"
            },
            "attachments": {}
        },
        {
            "cell_type": "code",
            "source": [
                "select DISTINCT tk.KAT_NEV,\r\n",
                "        count(*) OVER(PARTITION by tk.KAT_NEV)\r\n",
                "from Termekkategoria tk join termek t on tk.KAT_ID = t.KAT_ID\r\n",
                "--group by tk.KAT_NEV\r\n",
                ""
            ],
            "metadata": {
                "azdata_cell_guid": "84b7e896-f36e-4985-88f5-e0f706494fef",
                "language": "sql"
            },
            "outputs": [
                {
                    "output_type": "display_data",
                    "data": {
                        "text/html": "(143 rows affected)"
                    },
                    "metadata": {}
                },
                {
                    "output_type": "display_data",
                    "data": {
                        "text/html": "Total execution time: 00:00:00.016"
                    },
                    "metadata": {}
                },
                {
                    "output_type": "execute_result",
                    "metadata": {},
                    "execution_count": 12,
                    "data": {
                        "application/vnd.dataresource+json": {
                            "schema": {
                                "fields": [
                                    {
                                        "name": "KAT_NEV"
                                    },
                                    {
                                        "name": "(No column name)"
                                    }
                                ]
                            },
                            "data": [
                                {
                                    "KAT_NEV": "ajándék tárgy",
                                    "(No column name)": "3"
                                },
                                {
                                    "KAT_NEV": "ajándék tasak",
                                    "(No column name)": "20"
                                },
                                {
                                    "KAT_NEV": "álarc",
                                    "(No column name)": "3"
                                },
                                {
                                    "KAT_NEV": "alkalmi",
                                    "(No column name)": "3"
                                },
                                {
                                    "KAT_NEV": "alufólia",
                                    "(No column name)": "2"
                                },
                                {
                                    "KAT_NEV": "árazószalag",
                                    "(No column name)": "1"
                                },
                                {
                                    "KAT_NEV": "átírótömb",
                                    "(No column name)": "1"
                                },
                                {
                                    "KAT_NEV": "beíró",
                                    "(No column name)": "1"
                                },
                                {
                                    "KAT_NEV": "beírókönyv",
                                    "(No column name)": "2"
                                },
                                {
                                    "KAT_NEV": "bélyegző",
                                    "(No column name)": "4"
                                },
                                {
                                    "KAT_NEV": "bélyegzőfesték",
                                    "(No column name)": "1"
                                },
                                {
                                    "KAT_NEV": "boríték",
                                    "(No column name)": "7"
                                },
                                {
                                    "KAT_NEV": "cd tok",
                                    "(No column name)": "1"
                                },
                                {
                                    "KAT_NEV": "celofán",
                                    "(No column name)": "2"
                                },
                                {
                                    "KAT_NEV": "ceruza",
                                    "(No column name)": "19"
                                },
                                {
                                    "KAT_NEV": "címke",
                                    "(No column name)": "3"
                                },
                                {
                                    "KAT_NEV": "color copy",
                                    "(No column name)": "5"
                                },
                                {
                                    "KAT_NEV": "csomagoló",
                                    "(No column name)": "2"
                                },
                                {
                                    "KAT_NEV": "csomagoló papír",
                                    "(No column name)": "7"
                                },
                                {
                                    "KAT_NEV": "dekor",
                                    "(No column name)": "4"
                                },
                                {
                                    "KAT_NEV": "dipa",
                                    "(No column name)": "1"
                                },
                                {
                                    "KAT_NEV": "díszdoboz",
                                    "(No column name)": "3"
                                },
                                {
                                    "KAT_NEV": "díszkötöző",
                                    "(No column name)": "5"
                                },
                                {
                                    "KAT_NEV": "dvd",
                                    "(No column name)": "1"
                                },
                                {
                                    "KAT_NEV": "ecset",
                                    "(No column name)": "7"
                                },
                                {
                                    "KAT_NEV": "előlap",
                                    "(No column name)": "1"
                                },
                                {
                                    "KAT_NEV": "emlékkönyv",
                                    "(No column name)": "3"
                                },
                                {
                                    "KAT_NEV": "emléklap",
                                    "(No column name)": "1"
                                },
                                {
                                    "KAT_NEV": "fax papír",
                                    "(No column name)": "1"
                                },
                                {
                                    "KAT_NEV": "fehérnemű",
                                    "(No column name)": "7"
                                },
                                {
                                    "KAT_NEV": "fénymásoló papír",
                                    "(No column name)": "5"
                                },
                                {
                                    "KAT_NEV": "férfi ing",
                                    "(No column name)": "1"
                                },
                                {
                                    "KAT_NEV": "férfi kabát",
                                    "(No column name)": "1"
                                },
                                {
                                    "KAT_NEV": "férfi nadrág",
                                    "(No column name)": "2"
                                },
                                {
                                    "KAT_NEV": "festékpatron",
                                    "(No column name)": "1"
                                },
                                {
                                    "KAT_NEV": "filctoll",
                                    "(No column name)": "13"
                                },
                                {
                                    "KAT_NEV": "floppy",
                                    "(No column name)": "1"
                                },
                                {
                                    "KAT_NEV": "fólia",
                                    "(No column name)": "3"
                                },
                                {
                                    "KAT_NEV": "fotópapír",
                                    "(No column name)": "1"
                                },
                                {
                                    "KAT_NEV": "füzet",
                                    "(No column name)": "11"
                                },
                                {
                                    "KAT_NEV": "füzetborító",
                                    "(No column name)": "7"
                                },
                                {
                                    "KAT_NEV": "füzettartó",
                                    "(No column name)": "4"
                                },
                                {
                                    "KAT_NEV": "gemkapocs",
                                    "(No column name)": "2"
                                },
                                {
                                    "KAT_NEV": "gémkapocs",
                                    "(No column name)": "2"
                                },
                                {
                                    "KAT_NEV": "genoterm",
                                    "(No column name)": "1"
                                },
                                {
                                    "KAT_NEV": "genotherm",
                                    "(No column name)": "3"
                                },
                                {
                                    "KAT_NEV": "golyóstoll",
                                    "(No column name)": "26"
                                },
                                {
                                    "KAT_NEV": "gumigyűrű",
                                    "(No column name)": "1"
                                },
                                {
                                    "KAT_NEV": "gyermek cipő",
                                    "(No column name)": "6"
                                },
                                {
                                    "KAT_NEV": "gyermek kabát",
                                    "(No column name)": "2"
                                },
                                {
                                    "KAT_NEV": "gyermek nadrág",
                                    "(No column name)": "4"
                                },
                                {
                                    "KAT_NEV": "gyermek póló",
                                    "(No column name)": "2"
                                },
                                {
                                    "KAT_NEV": "gyorsfűző",
                                    "(No column name)": "3"
                                },
                                {
                                    "KAT_NEV": "gyurma",
                                    "(No column name)": "4"
                                },
                                {
                                    "KAT_NEV": "gyűrűskönyv",
                                    "(No column name)": "5"
                                },
                                {
                                    "KAT_NEV": "hajgumi",
                                    "(No column name)": "1"
                                },
                                {
                                    "KAT_NEV": "határidő napló",
                                    "(No column name)": "2"
                                },
                                {
                                    "KAT_NEV": "hegyező",
                                    "(No column name)": "4"
                                },
                                {
                                    "KAT_NEV": "hegyző",
                                    "(No column name)": "2"
                                },
                                {
                                    "KAT_NEV": "hibajavító",
                                    "(No column name)": "7"
                                },
                                {
                                    "KAT_NEV": "hűtőmágnes",
                                    "(No column name)": "2"
                                },
                                {
                                    "KAT_NEV": "indigó",
                                    "(No column name)": "2"
                                },
                                {
                                    "KAT_NEV": "írásvetítő fólia",
                                    "(No column name)": "1"
                                },
                                {
                                    "KAT_NEV": "iratgyűjtő",
                                    "(No column name)": "3"
                                },
                                {
                                    "KAT_NEV": "iratrendező",
                                    "(No column name)": "2"
                                },
                                {
                                    "KAT_NEV": "iratsín",
                                    "(No column name)": "2"
                                },
                                {
                                    "KAT_NEV": "irattartó",
                                    "(No column name)": "2"
                                },
                                {
                                    "KAT_NEV": "irodaszer",
                                    "(No column name)": "1"
                                },
                                {
                                    "KAT_NEV": "írólap",
                                    "(No column name)": "2"
                                },
                                {
                                    "KAT_NEV": "ironbél",
                                    "(No column name)": "5"
                                },
                                {
                                    "KAT_NEV": "iskolaszer",
                                    "(No column name)": "24"
                                },
                                {
                                    "KAT_NEV": "játékautó",
                                    "(No column name)": "4"
                                },
                                {
                                    "KAT_NEV": "jelzőkréta",
                                    "(No column name)": "1"
                                },
                                {
                                    "KAT_NEV": "kapocskiszedő",
                                    "(No column name)": "1"
                                },
                                {
                                    "KAT_NEV": "karton",
                                    "(No column name)": "6"
                                },
                                {
                                    "KAT_NEV": "kártya",
                                    "(No column name)": "1"
                                },
                                {
                                    "KAT_NEV": "képeslap",
                                    "(No column name)": "16"
                                },
                                {
                                    "KAT_NEV": "képkirakó",
                                    "(No column name)": "1"
                                },
                                {
                                    "KAT_NEV": "kosztüm",
                                    "(No column name)": "2"
                                },
                                {
                                    "KAT_NEV": "könyv",
                                    "(No column name)": "15"
                                },
                                {
                                    "KAT_NEV": "körző",
                                    "(No column name)": "3"
                                },
                                {
                                    "KAT_NEV": "kreatív",
                                    "(No column name)": "2"
                                },
                                {
                                    "KAT_NEV": "kulcstartó",
                                    "(No column name)": "7"
                                },
                                {
                                    "KAT_NEV": "labda",
                                    "(No column name)": "2"
                                },
                                {
                                    "KAT_NEV": "levélpapír",
                                    "(No column name)": "7"
                                },
                                {
                                    "KAT_NEV": "lufi",
                                    "(No column name)": "2"
                                },
                                {
                                    "KAT_NEV": "lyukasztó",
                                    "(No column name)": "2"
                                },
                                {
                                    "KAT_NEV": "mappa",
                                    "(No column name)": "9"
                                },
                                {
                                    "KAT_NEV": "matrica",
                                    "(No column name)": "10"
                                },
                                {
                                    "KAT_NEV": "meghívó",
                                    "(No column name)": "4"
                                },
                                {
                                    "KAT_NEV": "miliméterpapír",
                                    "(No column name)": "1"
                                },
                                {
                                    "KAT_NEV": "munkafüzet",
                                    "(No column name)": "9"
                                },
                                {
                                    "KAT_NEV": "műnyomó",
                                    "(No column name)": "1"
                                },
                                {
                                    "KAT_NEV": "naptár",
                                    "(No column name)": "1"
                                },
                                {
                                    "KAT_NEV": "naptárhát",
                                    "(No column name)": "2"
                                },
                                {
                                    "KAT_NEV": "névjegytartó",
                                    "(No column name)": "1"
                                },
                                {
                                    "KAT_NEV": "notesz",
                                    "(No column name)": "5"
                                },
                                {
                                    "KAT_NEV": "női kabát",
                                    "(No column name)": "1"
                                },
                                {
                                    "KAT_NEV": "női nadrág",
                                    "(No column name)": "1"
                                },
                                {
                                    "KAT_NEV": "ofszet",
                                    "(No column name)": "1"
                                },
                                {
                                    "KAT_NEV": "oklevél",
                                    "(No column name)": "2"
                                },
                                {
                                    "KAT_NEV": "olló",
                                    "(No column name)": "3"
                                },
                                {
                                    "KAT_NEV": "öntapadó",
                                    "(No column name)": "2"
                                },
                                {
                                    "KAT_NEV": "papízsebkendő",
                                    "(No column name)": "1"
                                },
                                {
                                    "KAT_NEV": "pausz",
                                    "(No column name)": "1"
                                },
                                {
                                    "KAT_NEV": "pénztárbizonylat",
                                    "(No column name)": "2"
                                },
                                {
                                    "KAT_NEV": "pénztárgépszalag",
                                    "(No column name)": "2"
                                },
                                {
                                    "KAT_NEV": "pixiron",
                                    "(No column name)": "9"
                                },
                                {
                                    "KAT_NEV": "plüss",
                                    "(No column name)": "3"
                                },
                                {
                                    "KAT_NEV": "post-it",
                                    "(No column name)": "2"
                                },
                                {
                                    "KAT_NEV": "radír",
                                    "(No column name)": "7"
                                },
                                {
                                    "KAT_NEV": "radírtoll",
                                    "(No column name)": "2"
                                },
                                {
                                    "KAT_NEV": "ragasztó",
                                    "(No column name)": "10"
                                },
                                {
                                    "KAT_NEV": "ragasztószalag",
                                    "(No column name)": "4"
                                },
                                {
                                    "KAT_NEV": "rágógumi",
                                    "(No column name)": "1"
                                },
                                {
                                    "KAT_NEV": "rajzlap",
                                    "(No column name)": "2"
                                },
                                {
                                    "KAT_NEV": "rajzszeg",
                                    "(No column name)": "2"
                                },
                                {
                                    "KAT_NEV": "regiszteres füzet",
                                    "(No column name)": "2"
                                },
                                {
                                    "KAT_NEV": "sál",
                                    "(No column name)": "1"
                                },
                                {
                                    "KAT_NEV": "spirál",
                                    "(No column name)": "1"
                                },
                                {
                                    "KAT_NEV": "strandlabda",
                                    "(No column name)": "1"
                                },
                                {
                                    "KAT_NEV": "szalvéta",
                                    "(No column name)": "6"
                                },
                                {
                                    "KAT_NEV": "számológép",
                                    "(No column name)": "2"
                                },
                                {
                                    "KAT_NEV": "szemetes",
                                    "(No column name)": "1"
                                },
                                {
                                    "KAT_NEV": "színes",
                                    "(No column name)": "2"
                                },
                                {
                                    "KAT_NEV": "szögmérő",
                                    "(No column name)": "3"
                                },
                                {
                                    "KAT_NEV": "szövegkiemelő",
                                    "(No column name)": "5"
                                },
                                {
                                    "KAT_NEV": "táblafilc",
                                    "(No column name)": "1"
                                },
                                {
                                    "KAT_NEV": "tapétavágó",
                                    "(No column name)": "1"
                                },
                                {
                                    "KAT_NEV": "tempera",
                                    "(No column name)": "2"
                                },
                                {
                                    "KAT_NEV": "térképtű",
                                    "(No column name)": "1"
                                },
                                {
                                    "KAT_NEV": "tintapatron",
                                    "(No column name)": "3"
                                },
                                {
                                    "KAT_NEV": "toll",
                                    "(No column name)": "2"
                                },
                                {
                                    "KAT_NEV": "tollbetét",
                                    "(No column name)": "18"
                                },
                                {
                                    "KAT_NEV": "tolltartó",
                                    "(No column name)": "7"
                                },
                                {
                                    "KAT_NEV": "toner",
                                    "(No column name)": "1"
                                },
                                {
                                    "KAT_NEV": "töltőtoll",
                                    "(No column name)": "1"
                                },
                                {
                                    "KAT_NEV": "tűzőgép",
                                    "(No column name)": "6"
                                },
                                {
                                    "KAT_NEV": "tűzőkapocs",
                                    "(No column name)": "2"
                                },
                                {
                                    "KAT_NEV": "vízfesték",
                                    "(No column name)": "4"
                                },
                                {
                                    "KAT_NEV": "vonalzó",
                                    "(No column name)": "6"
                                },
                                {
                                    "KAT_NEV": "zászló",
                                    "(No column name)": "1"
                                },
                                {
                                    "KAT_NEV": "zseléstoll",
                                    "(No column name)": "4"
                                }
                            ]
                        },
                        "text/html": [
                            "<table>",
                            "<tr><th>KAT_NEV</th><th>(No column name)</th></tr>",
                            "<tr><td>ajándék tárgy</td><td>3</td></tr>",
                            "<tr><td>ajándék tasak</td><td>20</td></tr>",
                            "<tr><td>álarc</td><td>3</td></tr>",
                            "<tr><td>alkalmi</td><td>3</td></tr>",
                            "<tr><td>alufólia</td><td>2</td></tr>",
                            "<tr><td>árazószalag</td><td>1</td></tr>",
                            "<tr><td>átírótömb</td><td>1</td></tr>",
                            "<tr><td>beíró</td><td>1</td></tr>",
                            "<tr><td>beírókönyv</td><td>2</td></tr>",
                            "<tr><td>bélyegző</td><td>4</td></tr>",
                            "<tr><td>bélyegzőfesték</td><td>1</td></tr>",
                            "<tr><td>boríték</td><td>7</td></tr>",
                            "<tr><td>cd tok</td><td>1</td></tr>",
                            "<tr><td>celofán</td><td>2</td></tr>",
                            "<tr><td>ceruza</td><td>19</td></tr>",
                            "<tr><td>címke</td><td>3</td></tr>",
                            "<tr><td>color copy</td><td>5</td></tr>",
                            "<tr><td>csomagoló</td><td>2</td></tr>",
                            "<tr><td>csomagoló papír</td><td>7</td></tr>",
                            "<tr><td>dekor</td><td>4</td></tr>",
                            "<tr><td>dipa</td><td>1</td></tr>",
                            "<tr><td>díszdoboz</td><td>3</td></tr>",
                            "<tr><td>díszkötöző</td><td>5</td></tr>",
                            "<tr><td>dvd</td><td>1</td></tr>",
                            "<tr><td>ecset</td><td>7</td></tr>",
                            "<tr><td>előlap</td><td>1</td></tr>",
                            "<tr><td>emlékkönyv</td><td>3</td></tr>",
                            "<tr><td>emléklap</td><td>1</td></tr>",
                            "<tr><td>fax papír</td><td>1</td></tr>",
                            "<tr><td>fehérnemű</td><td>7</td></tr>",
                            "<tr><td>fénymásoló papír</td><td>5</td></tr>",
                            "<tr><td>férfi ing</td><td>1</td></tr>",
                            "<tr><td>férfi kabát</td><td>1</td></tr>",
                            "<tr><td>férfi nadrág</td><td>2</td></tr>",
                            "<tr><td>festékpatron</td><td>1</td></tr>",
                            "<tr><td>filctoll</td><td>13</td></tr>",
                            "<tr><td>floppy</td><td>1</td></tr>",
                            "<tr><td>fólia</td><td>3</td></tr>",
                            "<tr><td>fotópapír</td><td>1</td></tr>",
                            "<tr><td>füzet</td><td>11</td></tr>",
                            "<tr><td>füzetborító</td><td>7</td></tr>",
                            "<tr><td>füzettartó</td><td>4</td></tr>",
                            "<tr><td>gemkapocs</td><td>2</td></tr>",
                            "<tr><td>gémkapocs</td><td>2</td></tr>",
                            "<tr><td>genoterm</td><td>1</td></tr>",
                            "<tr><td>genotherm</td><td>3</td></tr>",
                            "<tr><td>golyóstoll</td><td>26</td></tr>",
                            "<tr><td>gumigyűrű</td><td>1</td></tr>",
                            "<tr><td>gyermek cipő</td><td>6</td></tr>",
                            "<tr><td>gyermek kabát</td><td>2</td></tr>",
                            "<tr><td>gyermek nadrág</td><td>4</td></tr>",
                            "<tr><td>gyermek póló</td><td>2</td></tr>",
                            "<tr><td>gyorsfűző</td><td>3</td></tr>",
                            "<tr><td>gyurma</td><td>4</td></tr>",
                            "<tr><td>gyűrűskönyv</td><td>5</td></tr>",
                            "<tr><td>hajgumi</td><td>1</td></tr>",
                            "<tr><td>határidő napló</td><td>2</td></tr>",
                            "<tr><td>hegyező</td><td>4</td></tr>",
                            "<tr><td>hegyző</td><td>2</td></tr>",
                            "<tr><td>hibajavító</td><td>7</td></tr>",
                            "<tr><td>hűtőmágnes</td><td>2</td></tr>",
                            "<tr><td>indigó</td><td>2</td></tr>",
                            "<tr><td>írásvetítő fólia</td><td>1</td></tr>",
                            "<tr><td>iratgyűjtő</td><td>3</td></tr>",
                            "<tr><td>iratrendező</td><td>2</td></tr>",
                            "<tr><td>iratsín</td><td>2</td></tr>",
                            "<tr><td>irattartó</td><td>2</td></tr>",
                            "<tr><td>irodaszer</td><td>1</td></tr>",
                            "<tr><td>írólap</td><td>2</td></tr>",
                            "<tr><td>ironbél</td><td>5</td></tr>",
                            "<tr><td>iskolaszer</td><td>24</td></tr>",
                            "<tr><td>játékautó</td><td>4</td></tr>",
                            "<tr><td>jelzőkréta</td><td>1</td></tr>",
                            "<tr><td>kapocskiszedő</td><td>1</td></tr>",
                            "<tr><td>karton</td><td>6</td></tr>",
                            "<tr><td>kártya</td><td>1</td></tr>",
                            "<tr><td>képeslap</td><td>16</td></tr>",
                            "<tr><td>képkirakó</td><td>1</td></tr>",
                            "<tr><td>kosztüm</td><td>2</td></tr>",
                            "<tr><td>könyv</td><td>15</td></tr>",
                            "<tr><td>körző</td><td>3</td></tr>",
                            "<tr><td>kreatív</td><td>2</td></tr>",
                            "<tr><td>kulcstartó</td><td>7</td></tr>",
                            "<tr><td>labda</td><td>2</td></tr>",
                            "<tr><td>levélpapír</td><td>7</td></tr>",
                            "<tr><td>lufi</td><td>2</td></tr>",
                            "<tr><td>lyukasztó</td><td>2</td></tr>",
                            "<tr><td>mappa</td><td>9</td></tr>",
                            "<tr><td>matrica</td><td>10</td></tr>",
                            "<tr><td>meghívó</td><td>4</td></tr>",
                            "<tr><td>miliméterpapír</td><td>1</td></tr>",
                            "<tr><td>munkafüzet</td><td>9</td></tr>",
                            "<tr><td>műnyomó</td><td>1</td></tr>",
                            "<tr><td>naptár</td><td>1</td></tr>",
                            "<tr><td>naptárhát</td><td>2</td></tr>",
                            "<tr><td>névjegytartó</td><td>1</td></tr>",
                            "<tr><td>notesz</td><td>5</td></tr>",
                            "<tr><td>női kabát</td><td>1</td></tr>",
                            "<tr><td>női nadrág</td><td>1</td></tr>",
                            "<tr><td>ofszet</td><td>1</td></tr>",
                            "<tr><td>oklevél</td><td>2</td></tr>",
                            "<tr><td>olló</td><td>3</td></tr>",
                            "<tr><td>öntapadó</td><td>2</td></tr>",
                            "<tr><td>papízsebkendő</td><td>1</td></tr>",
                            "<tr><td>pausz</td><td>1</td></tr>",
                            "<tr><td>pénztárbizonylat</td><td>2</td></tr>",
                            "<tr><td>pénztárgépszalag</td><td>2</td></tr>",
                            "<tr><td>pixiron</td><td>9</td></tr>",
                            "<tr><td>plüss</td><td>3</td></tr>",
                            "<tr><td>post-it</td><td>2</td></tr>",
                            "<tr><td>radír</td><td>7</td></tr>",
                            "<tr><td>radírtoll</td><td>2</td></tr>",
                            "<tr><td>ragasztó</td><td>10</td></tr>",
                            "<tr><td>ragasztószalag</td><td>4</td></tr>",
                            "<tr><td>rágógumi</td><td>1</td></tr>",
                            "<tr><td>rajzlap</td><td>2</td></tr>",
                            "<tr><td>rajzszeg</td><td>2</td></tr>",
                            "<tr><td>regiszteres füzet</td><td>2</td></tr>",
                            "<tr><td>sál</td><td>1</td></tr>",
                            "<tr><td>spirál</td><td>1</td></tr>",
                            "<tr><td>strandlabda</td><td>1</td></tr>",
                            "<tr><td>szalvéta</td><td>6</td></tr>",
                            "<tr><td>számológép</td><td>2</td></tr>",
                            "<tr><td>szemetes</td><td>1</td></tr>",
                            "<tr><td>színes</td><td>2</td></tr>",
                            "<tr><td>szögmérő</td><td>3</td></tr>",
                            "<tr><td>szövegkiemelő</td><td>5</td></tr>",
                            "<tr><td>táblafilc</td><td>1</td></tr>",
                            "<tr><td>tapétavágó</td><td>1</td></tr>",
                            "<tr><td>tempera</td><td>2</td></tr>",
                            "<tr><td>térképtű</td><td>1</td></tr>",
                            "<tr><td>tintapatron</td><td>3</td></tr>",
                            "<tr><td>toll</td><td>2</td></tr>",
                            "<tr><td>tollbetét</td><td>18</td></tr>",
                            "<tr><td>tolltartó</td><td>7</td></tr>",
                            "<tr><td>toner</td><td>1</td></tr>",
                            "<tr><td>töltőtoll</td><td>1</td></tr>",
                            "<tr><td>tűzőgép</td><td>6</td></tr>",
                            "<tr><td>tűzőkapocs</td><td>2</td></tr>",
                            "<tr><td>vízfesték</td><td>4</td></tr>",
                            "<tr><td>vonalzó</td><td>6</td></tr>",
                            "<tr><td>zászló</td><td>1</td></tr>",
                            "<tr><td>zseléstoll</td><td>4</td></tr>",
                            "</table>"
                        ]
                    }
                }
            ],
            "execution_count": 12
        },
        {
            "cell_type": "markdown",
            "source": [
                "8. <span style=\"font-weight: 600; color: rgb(36, 41, 47); font-family: -apple-system, BlinkMacSystemFont, &quot;Segoe UI&quot;, Helvetica, Arial, sans-serif, &quot;Apple Color Emoji&quot;, &quot;Segoe UI Emoji&quot;; font-size: 16px;\">Készítsünk listát a rendelési tételekről. Az egyes rendelési tételeket termékenként soroljuk be 4 osztályba a rendelés mennyisége alapján. Jelenítsük meg ezt az információt is egy új oszlopban, az oszlop neve legyen 'Mennyiségi kategória'.</span>\n",
                "\n",
                "1. A lista csak a 100 Ft feletti egységárú rendelési tételeket vegye figyelembe!"
            ],
            "metadata": {
                "azdata_cell_guid": "27a3d3dc-eafb-4a5e-b103-9f465b9eda8f"
            },
            "attachments": {}
        },
        {
            "cell_type": "code",
            "source": [
                "--ntile()"
            ],
            "metadata": {
                "azdata_cell_guid": "f09edb3f-649b-4a96-958e-9e12774ae8b7",
                "language": "sql"
            },
            "outputs": [],
            "execution_count": null
        },
        {
            "cell_type": "markdown",
            "source": [
                "9. <span style=\"font-weight: 600; color: rgb(36, 41, 47); font-family: -apple-system, BlinkMacSystemFont, &quot;Segoe UI&quot;, Helvetica, Arial, sans-serif, &quot;Apple Color Emoji&quot;, &quot;Segoe UI Emoji&quot;; font-size: 16px;\">Listázzuk a termékek kódját, megnevezését, kategóriájának nevét, és listaárát.</span>\n",
                "\n",
                "1. A listát egészítsük ki két új oszloppal, amelyek a kategória legolcsóbb, illetve legdrágább termékének árát tartalmazzák.\n",
                "2. A két új oszlop létrehozásánál partíciókkal dolgozzunk!"
            ],
            "metadata": {
                "azdata_cell_guid": "f12a331a-0e26-4d3d-9c68-812316286577"
            },
            "attachments": {}
        },
        {
            "cell_type": "code",
            "source": [
                "--min/max vagy first_value/last_value"
            ],
            "metadata": {
                "azdata_cell_guid": "10a77fc9-e61a-46fc-a401-59720d82bc50",
                "language": "sql"
            },
            "outputs": [],
            "execution_count": null
        },
        {
            "cell_type": "markdown",
            "source": [
                "10. <span style=\"font-weight: 600; color: rgb(36, 41, 47); font-family: -apple-system, BlinkMacSystemFont, &quot;Segoe UI&quot;, Helvetica, Arial, sans-serif, &quot;Apple Color Emoji&quot;, &quot;Segoe UI Emoji&quot;; font-size: 16px;\">Készítsünk listát a rendelésekről. A lista legyen rendezve ügyfelenként (LOGIN), azon belül a rendelés dátuma szerint. A listához készítsünk sorszámozást is. A sorszám a következő formában jelenjen meg: sorszám_év_login. Pl: 1_2015_adam1</span>\n",
                "\n",
                "1. A számozás login-onként, azon belül rendelési évenként kezdődjön újra.\n",
                "2. A sorszám oszlop neve legyen Azonosító"
            ],
            "metadata": {
                "azdata_cell_guid": "9229e2b6-e200-4499-b95b-2d0222149831"
            },
            "attachments": {}
        },
        {
            "cell_type": "code",
            "source": [
                ""
            ],
            "metadata": {
                "azdata_cell_guid": "8b49ed67-28c6-4880-82a8-cd369e5bba99",
                "language": "sql"
            },
            "outputs": [],
            "execution_count": null
        },
        {
            "cell_type": "markdown",
            "source": [
                "11. <span style=\"color: rgb(36, 41, 47); font-family: -apple-system, BlinkMacSystemFont, &quot;Segoe UI&quot;, Helvetica, Arial, sans-serif, &quot;Apple Color Emoji&quot;, &quot;Segoe UI Emoji&quot;; font-size: 16px;\">Készítsünk listát a termékek adatairól listaár szerint növekvő sorrendben! A lista jelenítse meg két új oszlopban a sorrend szerint előző, illetve következő termék listaárát is a termék saját kategóriájában és raktárában!</span>\n",
                "\n",
                "1. Ahol nincs előző vagy következő érték, ott 0 jelenjen meg!\n",
                "2. Az oszlopokat nevezzük el értelemszerűen!"
            ],
            "metadata": {
                "azdata_cell_guid": "7f5fc7a7-3b6a-4d89-b292-490830afb0c6"
            },
            "attachments": {}
        },
        {
            "cell_type": "code",
            "source": [
                ""
            ],
            "metadata": {
                "azdata_cell_guid": "4a9ece40-f782-4c0d-92cd-9c21969067ed",
                "language": "sql"
            },
            "outputs": [],
            "execution_count": null
        },
        {
            "cell_type": "markdown",
            "source": [
                "12. <span style=\"color: rgb(36, 41, 47); font-family: -apple-system, BlinkMacSystemFont, &quot;Segoe UI&quot;, Helvetica, Arial, sans-serif, &quot;Apple Color Emoji&quot;, &quot;Segoe UI Emoji&quot;; font-size: 16px;\">Listázzuk a termékek kódját, nevét és listaárát listaár szerinti sorrendben!</span>\n",
                "\n",
                "1. Vegyünk fel egy új oszlopot Mozgóátlag néven, amely minden esetben az aktuális termék, az előző, és a következő termék átlagárát tartalmazza!\n",
                "2. A mozgóátlagot kerekítsük két tizedesre!"
            ],
            "metadata": {
                "azdata_cell_guid": "5a483c52-bb98-44bb-bd03-1146d4b0abfa"
            },
            "attachments": {}
        },
        {
            "cell_type": "code",
            "source": [
                "select termekkod,\r\n",
                "        megnevezes,\r\n",
                "        listaar,\r\n",
                "        --mozgóátlag\r\n",
                "        avg(Listaar) over(order by listaar\r\n",
                "                rows between 1 preceding and 1 following)\r\n",
                "from termek"
            ],
            "metadata": {
                "azdata_cell_guid": "dd6e89bd-08f9-4b18-8460-03c45b503df0",
                "language": "sql"
            },
            "outputs": [
                {
                    "output_type": "display_data",
                    "data": {
                        "text/html": "(551 rows affected)"
                    },
                    "metadata": {}
                },
                {
                    "output_type": "display_data",
                    "data": {
                        "text/html": "Total execution time: 00:00:00.014"
                    },
                    "metadata": {}
                },
                {
                    "output_type": "execute_result",
                    "metadata": {},
                    "execution_count": 13,
                    "data": {
                        "application/vnd.dataresource+json": {
                            "schema": {
                                "fields": [
                                    {
                                        "name": "termekkod"
                                    },
                                    {
                                        "name": "megnevezes"
                                    },
                                    {
                                        "name": "listaar"
                                    },
                                    {
                                        "name": "(No column name)"
                                    }
                                ]
                            },
                            "data": [
                                {
                                    "termekkod": "07030108T",
                                    "megnevezes": "Filctoll CD író",
                                    "listaar": "0",
                                    "(No column name)": "1,5"
                                },
                                {
                                    "termekkod": "01090498T",
                                    "megnevezes": "Műnyomó 300g 17,5*20",
                                    "listaar": "3",
                                    "(No column name)": "2"
                                },
                                {
                                    "termekkod": "02030042T",
                                    "megnevezes": "Boríték LC 6",
                                    "listaar": "3",
                                    "(No column name)": "3"
                                },
                                {
                                    "termekkod": "04030288T",
                                    "megnevezes": "Műanyag pohár 1 dl-es",
                                    "listaar": "3",
                                    "(No column name)": "3,3333333333333335"
                                },
                                {
                                    "termekkod": "01090501T",
                                    "megnevezes": "Kreatív A/4 300g ",
                                    "listaar": "4",
                                    "(No column name)": "3,6666666666666665"
                                },
                                {
                                    "termekkod": "01090517T",
                                    "megnevezes": "Színes ofszet B/4",
                                    "listaar": "4",
                                    "(No column name)": "4,333333333333333"
                                },
                                {
                                    "termekkod": "06040089T",
                                    "megnevezes": "Ellenőrzőborító",
                                    "listaar": "5",
                                    "(No column name)": "5"
                                },
                                {
                                    "termekkod": "02030040T",
                                    "megnevezes": "Boríték LA 4 francia",
                                    "listaar": "6",
                                    "(No column name)": "5,666666666666667"
                                },
                                {
                                    "termekkod": "02030041T",
                                    "megnevezes": "Boríték LC 5",
                                    "listaar": "6",
                                    "(No column name)": "6,666666666666667"
                                },
                                {
                                    "termekkod": "02040147T",
                                    "megnevezes": "Genotherm lefűzhető A/5",
                                    "listaar": "8",
                                    "(No column name)": "7,333333333333333"
                                },
                                {
                                    "termekkod": "06010377T",
                                    "megnevezes": "Szögmérő színes",
                                    "listaar": "8",
                                    "(No column name)": "8"
                                },
                                {
                                    "termekkod": "06080425T",
                                    "megnevezes": "Miliméterpapír",
                                    "listaar": "8",
                                    "(No column name)": "8"
                                },
                                {
                                    "termekkod": "06040181T",
                                    "megnevezes": "Gyűjtőlap A/4",
                                    "listaar": "8",
                                    "(No column name)": "8"
                                },
                                {
                                    "termekkod": "06040353T",
                                    "megnevezes": "Sorvezető",
                                    "listaar": "8",
                                    "(No column name)": "8"
                                },
                                {
                                    "termekkod": "06080118T",
                                    "megnevezes": "Füzetborító átlátszó A5",
                                    "listaar": "8",
                                    "(No column name)": "8,333333333333334"
                                },
                                {
                                    "termekkod": "07040388T",
                                    "megnevezes": "Tintapatron /kék/",
                                    "listaar": "9",
                                    "(No column name)": "8,666666666666666"
                                },
                                {
                                    "termekkod": "06010305T",
                                    "megnevezes": "Papírcenti 100 cm-es",
                                    "listaar": "9",
                                    "(No column name)": "9"
                                },
                                {
                                    "termekkod": "01100072T",
                                    "megnevezes": "Dipa A/4 keretezett",
                                    "listaar": "9",
                                    "(No column name)": "9,333333333333334"
                                },
                                {
                                    "termekkod": "01100503T",
                                    "megnevezes": "Color Copy A4 120 g",
                                    "listaar": "10",
                                    "(No column name)": "9,666666666666666"
                                },
                                {
                                    "termekkod": "06080117T",
                                    "megnevezes": "Füzetborító A/4 átlátszó",
                                    "listaar": "10",
                                    "(No column name)": "10,333333333333334"
                                },
                                {
                                    "termekkod": "07040058T",
                                    "megnevezes": "Ceruza radíros kínai",
                                    "listaar": "11",
                                    "(No column name)": "10,666666666666666"
                                },
                                {
                                    "termekkod": "07040390T",
                                    "megnevezes": "Tintapatron színes",
                                    "listaar": "11",
                                    "(No column name)": "11"
                                },
                                {
                                    "termekkod": "07080065T",
                                    "megnevezes": "Ceruza kínai",
                                    "listaar": "11",
                                    "(No column name)": "11"
                                },
                                {
                                    "termekkod": "01090515T",
                                    "megnevezes": "Színes A/3 160 gr IQ",
                                    "listaar": "11",
                                    "(No column name)": "11"
                                },
                                {
                                    "termekkod": "06010376T",
                                    "megnevezes": "Szögmérő papír",
                                    "listaar": "11",
                                    "(No column name)": "11"
                                },
                                {
                                    "termekkod": "04030285T",
                                    "megnevezes": "Mikulás zacskó",
                                    "listaar": "11",
                                    "(No column name)": "11"
                                },
                                {
                                    "termekkod": "04050269T",
                                    "megnevezes": "Lufi hullámos",
                                    "listaar": "11",
                                    "(No column name)": "11,333333333333334"
                                },
                                {
                                    "termekkod": "06040206T",
                                    "megnevezes": "kék indigó",
                                    "listaar": "12",
                                    "(No column name)": "12"
                                },
                                {
                                    "termekkod": "01100510T",
                                    "megnevezes": "Kreatív A/4 120g ",
                                    "listaar": "13",
                                    "(No column name)": "13"
                                },
                                {
                                    "termekkod": "01090500T",
                                    "megnevezes": "Color Copy A4 200 g",
                                    "listaar": "14",
                                    "(No column name)": "13,666666666666666"
                                },
                                {
                                    "termekkod": "01100497T",
                                    "megnevezes": "Color Copy 160 g-os ",
                                    "listaar": "14",
                                    "(No column name)": "14"
                                },
                                {
                                    "termekkod": "04030240T",
                                    "megnevezes": "Képeslap virágos",
                                    "listaar": "14",
                                    "(No column name)": "14,333333333333334"
                                },
                                {
                                    "termekkod": "04030236T",
                                    "megnevezes": "Képeslap karácsonyi WD",
                                    "listaar": "15",
                                    "(No column name)": "14,666666666666666"
                                },
                                {
                                    "termekkod": "04030289T",
                                    "megnevezes": "Műanyag pohár 5 cl-es",
                                    "listaar": "15",
                                    "(No column name)": "15"
                                },
                                {
                                    "termekkod": "04030260T",
                                    "megnevezes": "Levélpapír A/4",
                                    "listaar": "15",
                                    "(No column name)": "15"
                                },
                                {
                                    "termekkod": "04050268T",
                                    "megnevezes": "Lufi formázható",
                                    "listaar": "15",
                                    "(No column name)": "15"
                                },
                                {
                                    "termekkod": "01090499T",
                                    "megnevezes": "Color Copy A/4 250 g",
                                    "listaar": "15",
                                    "(No column name)": "15"
                                },
                                {
                                    "termekkod": "01040307T",
                                    "megnevezes": "Pausz papír A/4",
                                    "listaar": "15",
                                    "(No column name)": "15"
                                },
                                {
                                    "termekkod": "02040291T",
                                    "megnevezes": "Naptárhát kicsi",
                                    "listaar": "15",
                                    "(No column name)": "15"
                                },
                                {
                                    "termekkod": "02030044T",
                                    "megnevezes": "Boríték mintás",
                                    "listaar": "15",
                                    "(No column name)": "15"
                                },
                                {
                                    "termekkod": "02050460T",
                                    "megnevezes": "Boríték C/4-es",
                                    "listaar": "15",
                                    "(No column name)": "15"
                                },
                                {
                                    "termekkod": "03010342T",
                                    "megnevezes": "Ragasztószalag  TIXO",
                                    "listaar": "15",
                                    "(No column name)": "15"
                                },
                                {
                                    "termekkod": "03050078T",
                                    "megnevezes": "Díszkötöző szalag metál kicsi",
                                    "listaar": "15",
                                    "(No column name)": "15"
                                },
                                {
                                    "termekkod": "03050079T",
                                    "megnevezes": "Díszkötöző szalag vékony",
                                    "listaar": "15",
                                    "(No column name)": "15"
                                },
                                {
                                    "termekkod": "06040205T",
                                    "megnevezes": "Indigó Pelikán",
                                    "listaar": "15",
                                    "(No column name)": "15"
                                },
                                {
                                    "termekkod": "07010141T",
                                    "megnevezes": "G.toll betét X20",
                                    "listaar": "15",
                                    "(No column name)": "16"
                                },
                                {
                                    "termekkod": "02050461T",
                                    "megnevezes": "Boríték B/4-es",
                                    "listaar": "18",
                                    "(No column name)": "17"
                                },
                                {
                                    "termekkod": "02040176T",
                                    "megnevezes": "Gyorsfűző dosszié fehér",
                                    "listaar": "18",
                                    "(No column name)": "18,333333333333332"
                                },
                                {
                                    "termekkod": "02040207T",
                                    "megnevezes": "Iratgyűjtő ESSELTE ablakos",
                                    "listaar": "19",
                                    "(No column name)": "18,666666666666668"
                                },
                                {
                                    "termekkod": "02040208T",
                                    "megnevezes": "Iratgyűjtő fehér",
                                    "listaar": "19",
                                    "(No column name)": "19"
                                },
                                {
                                    "termekkod": "03080004T",
                                    "megnevezes": "Ajándék cs. tasak italos, fólia",
                                    "listaar": "19",
                                    "(No column name)": "19"
                                },
                                {
                                    "termekkod": "05050170T",
                                    "megnevezes": "Gumigyűrű",
                                    "listaar": "19",
                                    "(No column name)": "19"
                                },
                                {
                                    "termekkod": "06040326T",
                                    "megnevezes": "Radír KOH-I-NOR 80",
                                    "listaar": "19",
                                    "(No column name)": "19"
                                },
                                {
                                    "termekkod": "06080122T",
                                    "megnevezes": "Füzetborító öntapadós nagy",
                                    "listaar": "19",
                                    "(No column name)": "19"
                                },
                                {
                                    "termekkod": "06080119T",
                                    "megnevezes": "Füzetborító mesefig.",
                                    "listaar": "19",
                                    "(No column name)": "19"
                                },
                                {
                                    "termekkod": "06040383T",
                                    "megnevezes": "Taffet papír",
                                    "listaar": "19",
                                    "(No column name)": "19,333333333333332"
                                },
                                {
                                    "termekkod": "06080417T",
                                    "megnevezes": "Zászló papír",
                                    "listaar": "20",
                                    "(No column name)": "19,666666666666668"
                                },
                                {
                                    "termekkod": "04110068T",
                                    "megnevezes": "Címke egyszínű",
                                    "listaar": "20",
                                    "(No column name)": "20"
                                },
                                {
                                    "termekkod": "05010306T",
                                    "megnevezes": "Papízsebkendő,10db Szindy",
                                    "listaar": "20",
                                    "(No column name)": "21"
                                },
                                {
                                    "termekkod": "06010202T",
                                    "megnevezes": "Hurkapálca 10 db-os",
                                    "listaar": "23",
                                    "(No column name)": "22"
                                },
                                {
                                    "termekkod": "03080021T",
                                    "megnevezes": "Ajándék csom. vékony",
                                    "listaar": "23",
                                    "(No column name)": "23"
                                },
                                {
                                    "termekkod": "04030287T",
                                    "megnevezes": "Műanyag foszforeszkáló állat",
                                    "listaar": "23",
                                    "(No column name)": "23"
                                },
                                {
                                    "termekkod": "06080190T",
                                    "megnevezes": "Hegyező műanyag egyes",
                                    "listaar": "23",
                                    "(No column name)": "23"
                                },
                                {
                                    "termekkod": "07010140T",
                                    "megnevezes": "G.toll betét Stabilo",
                                    "listaar": "23",
                                    "(No column name)": "23"
                                },
                                {
                                    "termekkod": "07040053T",
                                    "megnevezes": "Ceruza HB radiros",
                                    "listaar": "23",
                                    "(No column name)": "23"
                                },
                                {
                                    "termekkod": "06080120T",
                                    "megnevezes": "Füzetborító öntapadó kicsi",
                                    "listaar": "23",
                                    "(No column name)": "23"
                                },
                                {
                                    "termekkod": "07040218T",
                                    "megnevezes": "Ironbél HB 0,5",
                                    "listaar": "23",
                                    "(No column name)": "23"
                                },
                                {
                                    "termekkod": "07080156T",
                                    "megnevezes": "Golyóstoll kupakos piros",
                                    "listaar": "23",
                                    "(No column name)": "23,333333333333332"
                                },
                                {
                                    "termekkod": "06080424T",
                                    "megnevezes": "Füzetborító A/4 mintás",
                                    "listaar": "24",
                                    "(No column name)": "23,666666666666668"
                                },
                                {
                                    "termekkod": "04050203T",
                                    "megnevezes": "Hűtőmágnes",
                                    "listaar": "24",
                                    "(No column name)": "24"
                                },
                                {
                                    "termekkod": "04050035T",
                                    "megnevezes": "Bérlet tok",
                                    "listaar": "24",
                                    "(No column name)": "24"
                                },
                                {
                                    "termekkod": "06010375T",
                                    "megnevezes": "Szögmérő 180 fokos műa.",
                                    "listaar": "24",
                                    "(No column name)": "24,333333333333332"
                                },
                                {
                                    "termekkod": "01040502T",
                                    "megnevezes": "Előlap spirálhoz",
                                    "listaar": "25",
                                    "(No column name)": "24,666666666666668"
                                },
                                {
                                    "termekkod": "01090516T",
                                    "megnevezes": "Színes karton A4",
                                    "listaar": "25",
                                    "(No column name)": "25,333333333333332"
                                },
                                {
                                    "termekkod": "01030091T",
                                    "megnevezes": "Emléklap A/5",
                                    "listaar": "26",
                                    "(No column name)": "25,666666666666668"
                                },
                                {
                                    "termekkod": "03080006T",
                                    "megnevezes": "Ajándék cs. tasak mintás kicsi",
                                    "listaar": "26",
                                    "(No column name)": "26"
                                },
                                {
                                    "termekkod": "03050457T",
                                    "megnevezes": "Ajándék cs. tasak kicsi",
                                    "listaar": "26",
                                    "(No column name)": "26"
                                },
                                {
                                    "termekkod": "03050076T",
                                    "megnevezes": "Díszkötöző szalag metál nagy",
                                    "listaar": "26",
                                    "(No column name)": "26"
                                },
                                {
                                    "termekkod": "04110066T",
                                    "megnevezes": "Címke 8 db-os",
                                    "listaar": "26",
                                    "(No column name)": "26"
                                },
                                {
                                    "termekkod": "07040097T",
                                    "megnevezes": "Filctoll ",
                                    "listaar": "26",
                                    "(No column name)": "26,666666666666668"
                                },
                                {
                                    "termekkod": "06040347T",
                                    "megnevezes": "Rajzlap A/4 10db ffam.",
                                    "listaar": "28",
                                    "(No column name)": "27,666666666666668"
                                },
                                {
                                    "termekkod": "06040212T",
                                    "megnevezes": "Írólap 10-50 ffam.",
                                    "listaar": "29",
                                    "(No column name)": "29"
                                },
                                {
                                    "termekkod": "06040247T",
                                    "megnevezes": "Körzőhegy grafit",
                                    "listaar": "30",
                                    "(No column name)": "29,666666666666668"
                                },
                                {
                                    "termekkod": "06080189T",
                                    "megnevezes": "Hegyező műanyag dupla",
                                    "listaar": "30",
                                    "(No column name)": "30"
                                },
                                {
                                    "termekkod": "07040050T",
                                    "megnevezes": "Ceruza Cseh",
                                    "listaar": "30",
                                    "(No column name)": "30"
                                },
                                {
                                    "termekkod": "06080191T",
                                    "megnevezes": "Hegyező tartályos egyes",
                                    "listaar": "30",
                                    "(No column name)": "30"
                                },
                                {
                                    "termekkod": "06080412T",
                                    "megnevezes": "Vonalzó 16 cm-es LIZZY",
                                    "listaar": "30",
                                    "(No column name)": "30"
                                },
                                {
                                    "termekkod": "06080413T",
                                    "megnevezes": "Vonalzó 30 cm",
                                    "listaar": "30",
                                    "(No column name)": "30"
                                },
                                {
                                    "termekkod": "06080414T",
                                    "megnevezes": "Vonalzó 20 cm-es ",
                                    "listaar": "30",
                                    "(No column name)": "30"
                                },
                                {
                                    "termekkod": "06080415T",
                                    "megnevezes": "Vonalzó 45 fokos",
                                    "listaar": "30",
                                    "(No column name)": "30"
                                },
                                {
                                    "termekkod": "07040127T",
                                    "megnevezes": "G. toll betét mini",
                                    "listaar": "30",
                                    "(No column name)": "30"
                                },
                                {
                                    "termekkod": "07040129T",
                                    "megnevezes": "G. toll betét réz",
                                    "listaar": "30",
                                    "(No column name)": "30"
                                },
                                {
                                    "termekkod": "04030234T",
                                    "megnevezes": "Képeslap karácsonyi",
                                    "listaar": "30",
                                    "(No column name)": "30"
                                },
                                {
                                    "termekkod": "06010114T",
                                    "megnevezes": "Füzet A/5 hangjegy 36/16",
                                    "listaar": "30",
                                    "(No column name)": "30"
                                },
                                {
                                    "termekkod": "02080069T",
                                    "megnevezes": "CD tartó tok",
                                    "listaar": "30",
                                    "(No column name)": "30"
                                },
                                {
                                    "termekkod": "01010110T",
                                    "megnevezes": "Fotópapír A/4 fényes",
                                    "listaar": "30",
                                    "(No column name)": "30"
                                },
                                {
                                    "termekkod": "02040177T",
                                    "megnevezes": "Gyorsfűző műa.",
                                    "listaar": "30",
                                    "(No column name)": "30"
                                },
                                {
                                    "termekkod": "02040145T",
                                    "megnevezes": "Gemkapocs 28 mm",
                                    "listaar": "30",
                                    "(No column name)": "30,333333333333332"
                                },
                                {
                                    "termekkod": "04110067T",
                                    "megnevezes": "Címke WD. állat",
                                    "listaar": "31",
                                    "(No column name)": "31,333333333333332"
                                },
                                {
                                    "termekkod": "06010083T",
                                    "megnevezes": "Ecset Centrum 7,8,9",
                                    "listaar": "33",
                                    "(No column name)": "32,333333333333336"
                                },
                                {
                                    "termekkod": "06010036T",
                                    "megnevezes": "Betűtartó sin",
                                    "listaar": "33",
                                    "(No column name)": "33"
                                },
                                {
                                    "termekkod": "04110227T",
                                    "megnevezes": "Képeslap  borítékos",
                                    "listaar": "33",
                                    "(No column name)": "33"
                                },
                                {
                                    "termekkod": "04110229T",
                                    "megnevezes": "Képeslap \"Részvét\"",
                                    "listaar": "33",
                                    "(No column name)": "33"
                                },
                                {
                                    "termekkod": "07080155T",
                                    "megnevezes": "Golyóstoll",
                                    "listaar": "33",
                                    "(No column name)": "33"
                                },
                                {
                                    "termekkod": "06080416T",
                                    "megnevezes": "Vonalzó 60 fokos",
                                    "listaar": "33",
                                    "(No column name)": "33"
                                },
                                {
                                    "termekkod": "07010138T",
                                    "megnevezes": "G.toll betét jumbo",
                                    "listaar": "33",
                                    "(No column name)": "33,333333333333336"
                                },
                                {
                                    "termekkod": "06080116T",
                                    "megnevezes": "Füzet A5 1-8 osz.-ig",
                                    "listaar": "34",
                                    "(No column name)": "33,666666666666664"
                                },
                                {
                                    "termekkod": "06040213T",
                                    "megnevezes": "Írólap 20-50 ",
                                    "listaar": "34",
                                    "(No column name)": "34"
                                },
                                {
                                    "termekkod": "06010113T",
                                    "megnevezes": "Füzet 31-32 szótár",
                                    "listaar": "34",
                                    "(No column name)": "34"
                                },
                                {
                                    "termekkod": "02040406T",
                                    "megnevezes": "Tűzőkapocs 24/6",
                                    "listaar": "34",
                                    "(No column name)": "34,333333333333336"
                                },
                                {
                                    "termekkod": "02040178T",
                                    "megnevezes": "Gyorsfűző műa.",
                                    "listaar": "35",
                                    "(No column name)": "34,666666666666664"
                                },
                                {
                                    "termekkod": "06010367T",
                                    "megnevezes": "Számolókorong",
                                    "listaar": "35",
                                    "(No column name)": "35"
                                },
                                {
                                    "termekkod": "07080063T",
                                    "megnevezes": "Ceruza szorzótáblás",
                                    "listaar": "35",
                                    "(No column name)": "35,333333333333336"
                                },
                                {
                                    "termekkod": "07050463T",
                                    "megnevezes": "Ceruzafogó",
                                    "listaar": "36",
                                    "(No column name)": "35,666666666666664"
                                },
                                {
                                    "termekkod": "07040216T",
                                    "megnevezes": "Ironbél B 0,5",
                                    "listaar": "36",
                                    "(No column name)": "36"
                                },
                                {
                                    "termekkod": "06040327T",
                                    "megnevezes": "Radír Koh-i-nor 40",
                                    "listaar": "36",
                                    "(No column name)": "36"
                                },
                                {
                                    "termekkod": "06040323T",
                                    "megnevezes": "Post-it 51×38 100 lapos",
                                    "listaar": "36",
                                    "(No column name)": "36"
                                },
                                {
                                    "termekkod": "07040060T",
                                    "megnevezes": "Ceruza stabilo swano",
                                    "listaar": "36",
                                    "(No column name)": "36"
                                },
                                {
                                    "termekkod": "06010365T",
                                    "megnevezes": "Számegyenes",
                                    "listaar": "36",
                                    "(No column name)": "36"
                                },
                                {
                                    "termekkod": "06010201T",
                                    "megnevezes": "Hőmérő, műa.",
                                    "listaar": "36",
                                    "(No column name)": "36"
                                },
                                {
                                    "termekkod": "06010086T",
                                    "megnevezes": "Ecset Nebulo 4-es",
                                    "listaar": "36",
                                    "(No column name)": "36"
                                },
                                {
                                    "termekkod": "04050255T",
                                    "megnevezes": "Kulcstartó mesefigurás",
                                    "listaar": "36",
                                    "(No column name)": "36"
                                },
                                {
                                    "termekkod": "04030237T",
                                    "megnevezes": "Képeslap kerek",
                                    "listaar": "36",
                                    "(No column name)": "36,666666666666664"
                                },
                                {
                                    "termekkod": "01080513T",
                                    "megnevezes": "Selyemfényű karton A/4",
                                    "listaar": "38",
                                    "(No column name)": "37,666666666666664"
                                },
                                {
                                    "termekkod": "02030043T",
                                    "megnevezes": "Boríték légp. kicsi",
                                    "listaar": "39",
                                    "(No column name)": "38,666666666666664"
                                },
                                {
                                    "termekkod": "07040051T",
                                    "megnevezes": "Ceruza háromszög ",
                                    "listaar": "39",
                                    "(No column name)": "39"
                                },
                                {
                                    "termekkod": "07040047T",
                                    "megnevezes": "Ceruza 2H-4B",
                                    "listaar": "39",
                                    "(No column name)": "39"
                                },
                                {
                                    "termekkod": "07040133T",
                                    "megnevezes": "G.toll betét görbe hegyű",
                                    "listaar": "39",
                                    "(No column name)": "39,333333333333336"
                                },
                                {
                                    "termekkod": "07080064T",
                                    "megnevezes": "Ceruza zöld színű",
                                    "listaar": "40",
                                    "(No column name)": "39,666666666666664"
                                },
                                {
                                    "termekkod": "07040049T",
                                    "megnevezes": "Ceruza Conté zöld",
                                    "listaar": "40",
                                    "(No column name)": "40"
                                },
                                {
                                    "termekkod": "07040056T",
                                    "megnevezes": "Ceruza piros-kék vékony",
                                    "listaar": "40",
                                    "(No column name)": "40"
                                },
                                {
                                    "termekkod": "06040325T",
                                    "megnevezes": "Radír gyümölcsös",
                                    "listaar": "40",
                                    "(No column name)": "40"
                                },
                                {
                                    "termekkod": "01100509T",
                                    "megnevezes": "Márványos A/4",
                                    "listaar": "40",
                                    "(No column name)": "40"
                                },
                                {
                                    "termekkod": "02040507T",
                                    "megnevezes": "Fólia tasakos A4 80 mik.",
                                    "listaar": "40",
                                    "(No column name)": "40"
                                },
                                {
                                    "termekkod": "03050459T",
                                    "megnevezes": "Talpas tasak",
                                    "listaar": "40",
                                    "(No column name)": "40"
                                },
                                {
                                    "termekkod": "06010082T",
                                    "megnevezes": "Ecset Centrum 10,11,12",
                                    "listaar": "40",
                                    "(No column name)": "40"
                                },
                                {
                                    "termekkod": "05050465T",
                                    "megnevezes": "Tapétavágó kés",
                                    "listaar": "40",
                                    "(No column name)": "40,333333333333336"
                                },
                                {
                                    "termekkod": "07080153T",
                                    "megnevezes": "Golyóstoll illatos ICO",
                                    "listaar": "41",
                                    "(No column name)": "41,333333333333336"
                                },
                                {
                                    "termekkod": "06010373T",
                                    "megnevezes": "Színes papír I.II-IV.V-VIII-ig",
                                    "listaar": "43",
                                    "(No column name)": "42,666666666666664"
                                },
                                {
                                    "termekkod": "04030241T",
                                    "megnevezes": "Képeslap virágos +boríték",
                                    "listaar": "44",
                                    "(No column name)": "43,666666666666664"
                                },
                                {
                                    "termekkod": "03080020T",
                                    "megnevezes": "Ajándék csom. nagy  ",
                                    "listaar": "44",
                                    "(No column name)": "44"
                                },
                                {
                                    "termekkod": "04030286T",
                                    "megnevezes": "Műanyag állatok",
                                    "listaar": "44",
                                    "(No column name)": "44"
                                },
                                {
                                    "termekkod": "04050075T",
                                    "megnevezes": "Díszdoboz tollnak 2 db-os keskeny",
                                    "listaar": "44",
                                    "(No column name)": "44"
                                },
                                {
                                    "termekkod": "03050077T",
                                    "megnevezes": "Diszkötöző szalag arany",
                                    "listaar": "44",
                                    "(No column name)": "44"
                                },
                                {
                                    "termekkod": "02080450T",
                                    "megnevezes": "Gémkapocs 28-as színes",
                                    "listaar": "44",
                                    "(No column name)": "44"
                                },
                                {
                                    "termekkod": "02040508T",
                                    "megnevezes": "Fólia tasakos A4100 mik.",
                                    "listaar": "44",
                                    "(No column name)": "44"
                                },
                                {
                                    "termekkod": "02040506T",
                                    "megnevezes": "Fólia tasakos A4 125 mik.",
                                    "listaar": "44",
                                    "(No column name)": "44"
                                },
                                {
                                    "termekkod": "02040405T",
                                    "megnevezes": "Tűzőkapocs 10-es",
                                    "listaar": "44",
                                    "(No column name)": "44"
                                },
                                {
                                    "termekkod": "02040298T",
                                    "megnevezes": "Notesz mintás",
                                    "listaar": "44",
                                    "(No column name)": "44"
                                },
                                {
                                    "termekkod": "02040209T",
                                    "megnevezes": "Iratsín fehér",
                                    "listaar": "44",
                                    "(No column name)": "44"
                                },
                                {
                                    "termekkod": "07040134T",
                                    "megnevezes": "G.toll betét illatos",
                                    "listaar": "44",
                                    "(No column name)": "44"
                                },
                                {
                                    "termekkod": "07080161T",
                                    "megnevezes": "Golyóstoll kétszínű",
                                    "listaar": "44",
                                    "(No column name)": "44"
                                },
                                {
                                    "termekkod": "06040328T",
                                    "megnevezes": "Radír Maped",
                                    "listaar": "44",
                                    "(No column name)": "44"
                                },
                                {
                                    "termekkod": "06040329T",
                                    "megnevezes": "Radír stabilo",
                                    "listaar": "44",
                                    "(No column name)": "44"
                                },
                                {
                                    "termekkod": "07040061T",
                                    "megnevezes": "Ceruza stabilo opera",
                                    "listaar": "44",
                                    "(No column name)": "44,333333333333336"
                                },
                                {
                                    "termekkod": "02080514T",
                                    "megnevezes": "Spirál 1/4 ",
                                    "listaar": "45",
                                    "(No column name)": "44,666666666666664"
                                },
                                {
                                    "termekkod": "06010374T",
                                    "megnevezes": "Szorzótábla műanyag",
                                    "listaar": "45",
                                    "(No column name)": "45,333333333333336"
                                },
                                {
                                    "termekkod": "05050045T",
                                    "megnevezes": "Celofán",
                                    "listaar": "46",
                                    "(No column name)": "45,666666666666664"
                                },
                                {
                                    "termekkod": "07040102T",
                                    "megnevezes": "Filctoll supra fine",
                                    "listaar": "46",
                                    "(No column name)": "46,666666666666664"
                                },
                                {
                                    "termekkod": "07010137T",
                                    "megnevezes": "G.toll betét PAX tip.",
                                    "listaar": "48",
                                    "(No column name)": "47,333333333333336"
                                },
                                {
                                    "termekkod": "06040386T",
                                    "megnevezes": "Tempera szóló színes",
                                    "listaar": "48",
                                    "(No column name)": "48"
                                },
                                {
                                    "termekkod": "06010115T",
                                    "megnevezes": "Füzet A/5, mintás",
                                    "listaar": "48",
                                    "(No column name)": "48"
                                },
                                {
                                    "termekkod": "04050224T",
                                    "megnevezes": "Jelzőkréta",
                                    "listaar": "48",
                                    "(No column name)": "48"
                                },
                                {
                                    "termekkod": "04030239T",
                                    "megnevezes": "Képeslap stancolt szív",
                                    "listaar": "48",
                                    "(No column name)": "48"
                                },
                                {
                                    "termekkod": "02040146T",
                                    "megnevezes": "Gemkapocs ICO",
                                    "listaar": "48",
                                    "(No column name)": "48"
                                },
                                {
                                    "termekkod": "01020299T",
                                    "megnevezes": "Oklevél A/4 egyszínű",
                                    "listaar": "48",
                                    "(No column name)": "48,333333333333336"
                                },
                                {
                                    "termekkod": "04110274T",
                                    "megnevezes": "Matrica autóra H",
                                    "listaar": "49",
                                    "(No column name)": "48,666666666666664"
                                },
                                {
                                    "termekkod": "04110275T",
                                    "megnevezes": "Matrica motoros kicsi",
                                    "listaar": "49",
                                    "(No column name)": "49"
                                },
                                {
                                    "termekkod": "06040331T",
                                    "megnevezes": "Radír Tikky 40 ",
                                    "listaar": "49",
                                    "(No column name)": "49,333333333333336"
                                },
                                {
                                    "termekkod": "06040330T",
                                    "megnevezes": "Radír Tikky 30 ",
                                    "listaar": "50",
                                    "(No column name)": "50"
                                },
                                {
                                    "termekkod": "07080150T",
                                    "megnevezes": "Golyóstoll",
                                    "listaar": "51",
                                    "(No column name)": "50,666666666666664"
                                },
                                {
                                    "termekkod": "04110232T",
                                    "megnevezes": "Képeslap humoros kaparós",
                                    "listaar": "51",
                                    "(No column name)": "51"
                                },
                                {
                                    "termekkod": "06040088T",
                                    "megnevezes": "Egészségügyi könyv",
                                    "listaar": "51",
                                    "(No column name)": "51"
                                },
                                {
                                    "termekkod": "02080109T",
                                    "megnevezes": "Floppy lemez",
                                    "listaar": "51",
                                    "(No column name)": "51,666666666666664"
                                },
                                {
                                    "termekkod": "07030103T",
                                    "megnevezes": "Filctoll TINTEN PEN",
                                    "listaar": "53",
                                    "(No column name)": "52,333333333333336"
                                },
                                {
                                    "termekkod": "07040052T",
                                    "megnevezes": "Ceruza 2H-3B Koh-i-nor",
                                    "listaar": "53",
                                    "(No column name)": "53,666666666666664"
                                },
                                {
                                    "termekkod": "07040054T",
                                    "megnevezes": "Ceruza kártyás",
                                    "listaar": "55",
                                    "(No column name)": "54,333333333333336"
                                },
                                {
                                    "termekkod": "07040048T",
                                    "megnevezes": "Ceruza arany, ezüst",
                                    "listaar": "55",
                                    "(No column name)": "55"
                                },
                                {
                                    "termekkod": "07040132T",
                                    "megnevezes": "G.toll betét csavaros",
                                    "listaar": "55",
                                    "(No column name)": "55"
                                },
                                {
                                    "termekkod": "07040128T",
                                    "megnevezes": "G. toll betét mini fém",
                                    "listaar": "55",
                                    "(No column name)": "55"
                                },
                                {
                                    "termekkod": "02080433T",
                                    "megnevezes": "Ragasztószalag 19 mm-es",
                                    "listaar": "55",
                                    "(No column name)": "55"
                                },
                                {
                                    "termekkod": "01020300T",
                                    "megnevezes": "Oklevél A/4 színes",
                                    "listaar": "55",
                                    "(No column name)": "55"
                                },
                                {
                                    "termekkod": "04110230T",
                                    "megnevezes": "Képeslap humoros ",
                                    "listaar": "55",
                                    "(No column name)": "55"
                                },
                                {
                                    "termekkod": "04110273T",
                                    "megnevezes": "Matrica állatos",
                                    "listaar": "55",
                                    "(No column name)": "55,333333333333336"
                                },
                                {
                                    "termekkod": "04110282T",
                                    "megnevezes": "Matrica WD kicsi",
                                    "listaar": "56",
                                    "(No column name)": "55,666666666666664"
                                },
                                {
                                    "termekkod": "04030262T",
                                    "megnevezes": "Levélpapír sima",
                                    "listaar": "56",
                                    "(No column name)": "56"
                                },
                                {
                                    "termekkod": "03080019T",
                                    "megnevezes": "Ajándék csom. Krepp",
                                    "listaar": "56",
                                    "(No column name)": "56"
                                },
                                {
                                    "termekkod": "02040296T",
                                    "megnevezes": "Notesz A/6 College",
                                    "listaar": "56",
                                    "(No column name)": "56,666666666666664"
                                },
                                {
                                    "termekkod": "07040059T",
                                    "megnevezes": "Ceruza smaragd",
                                    "listaar": "58",
                                    "(No column name)": "57,333333333333336"
                                },
                                {
                                    "termekkod": "06080411T",
                                    "megnevezes": "Vonalzó 15 cm-es ESSELTE",
                                    "listaar": "58",
                                    "(No column name)": "58"
                                },
                                {
                                    "termekkod": "06040384T",
                                    "megnevezes": "Technika cs. I-II-III-IV",
                                    "listaar": "58",
                                    "(No column name)": "58,333333333333336"
                                },
                                {
                                    "termekkod": "07040055T",
                                    "megnevezes": "Ceruza piros-kék",
                                    "listaar": "59",
                                    "(No column name)": "58,666666666666664"
                                },
                                {
                                    "termekkod": "07040217T",
                                    "megnevezes": "Ironbél H 0,5",
                                    "listaar": "59",
                                    "(No column name)": "59"
                                },
                                {
                                    "termekkod": "07080313T",
                                    "megnevezes": "Pixiron Centrum",
                                    "listaar": "59",
                                    "(No column name)": "59"
                                },
                                {
                                    "termekkod": "07080317T",
                                    "megnevezes": "Pixiron mini ",
                                    "listaar": "59",
                                    "(No column name)": "59"
                                },
                                {
                                    "termekkod": "01010304T",
                                    "megnevezes": "Öntapadós hologramos papír A/4",
                                    "listaar": "59",
                                    "(No column name)": "59"
                                },
                                {
                                    "termekkod": "01030092T",
                                    "megnevezes": "Esküvői meghívó",
                                    "listaar": "59",
                                    "(No column name)": "59"
                                },
                                {
                                    "termekkod": "02040214T",
                                    "megnevezes": "Iromány fedél feles",
                                    "listaar": "59",
                                    "(No column name)": "59"
                                },
                                {
                                    "termekkod": "04030238T",
                                    "megnevezes": "Képeslap stancolt",
                                    "listaar": "59",
                                    "(No column name)": "59,333333333333336"
                                },
                                {
                                    "termekkod": "06010084T",
                                    "megnevezes": "Ecset Deák 2-es",
                                    "listaar": "60",
                                    "(No column name)": "60"
                                },
                                {
                                    "termekkod": "06010368T",
                                    "megnevezes": "Számolópálca",
                                    "listaar": "61",
                                    "(No column name)": "60,666666666666664"
                                },
                                {
                                    "termekkod": "04050073T",
                                    "megnevezes": "Díszdoboz kar.",
                                    "listaar": "61",
                                    "(No column name)": "61,666666666666664"
                                },
                                {
                                    "termekkod": "05040349T",
                                    "megnevezes": "Rajzszeg",
                                    "listaar": "63",
                                    "(No column name)": "62,333333333333336"
                                },
                                {
                                    "termekkod": "02040148T",
                                    "megnevezes": "Genotherm lefűzhető A4 10db-os",
                                    "listaar": "63",
                                    "(No column name)": "63"
                                },
                                {
                                    "termekkod": "03010344T",
                                    "megnevezes": "Ragasztószalag nagy 12 mm",
                                    "listaar": "63",
                                    "(No column name)": "63"
                                },
                                {
                                    "termekkod": "07080159T",
                                    "megnevezes": "Golyóstoll Pax tip.",
                                    "listaar": "63",
                                    "(No column name)": "63"
                                },
                                {
                                    "termekkod": "06080429T",
                                    "megnevezes": "Meghívó ballagási",
                                    "listaar": "63",
                                    "(No column name)": "63,333333333333336"
                                },
                                {
                                    "termekkod": "03080013T",
                                    "megnevezes": "Ajándék csom. 50x70 húsvéti",
                                    "listaar": "64",
                                    "(No column name)": "64"
                                },
                                {
                                    "termekkod": "06010085T",
                                    "megnevezes": "Ecset Lizzy 10-es",
                                    "listaar": "65",
                                    "(No column name)": "64,66666666666667"
                                },
                                {
                                    "termekkod": "04050220T",
                                    "megnevezes": "Játék autó",
                                    "listaar": "65",
                                    "(No column name)": "65,33333333333333"
                                },
                                {
                                    "termekkod": "04050074T",
                                    "megnevezes": "Díszdoboz tollnak 2 db-os",
                                    "listaar": "66",
                                    "(No column name)": "65,66666666666667"
                                },
                                {
                                    "termekkod": "04050187T",
                                    "megnevezes": "Hajgumi macis",
                                    "listaar": "66",
                                    "(No column name)": "66"
                                },
                                {
                                    "termekkod": "02080436T",
                                    "megnevezes": "Irattartó müa. boríték A/4",
                                    "listaar": "66",
                                    "(No column name)": "66"
                                },
                                {
                                    "termekkod": "07080419T",
                                    "megnevezes": "Zselés toll MICRO",
                                    "listaar": "66",
                                    "(No column name)": "66,66666666666667"
                                },
                                {
                                    "termekkod": "06010111T",
                                    "megnevezes": "Füzet  A/4 ",
                                    "listaar": "68",
                                    "(No column name)": "68"
                                },
                                {
                                    "termekkod": "06080192T",
                                    "megnevezes": "Hegyző fém 1 lyukú",
                                    "listaar": "70",
                                    "(No column name)": "70,33333333333333"
                                },
                                {
                                    "termekkod": "06050249T",
                                    "megnevezes": "Krepp papír",
                                    "listaar": "73",
                                    "(No column name)": "72"
                                },
                                {
                                    "termekkod": "05050046T",
                                    "megnevezes": "Celofán 50 db-os",
                                    "listaar": "73",
                                    "(No column name)": "73"
                                },
                                {
                                    "termekkod": "04110258T",
                                    "megnevezes": "Lampion",
                                    "listaar": "73",
                                    "(No column name)": "73"
                                },
                                {
                                    "termekkod": "04050223T",
                                    "megnevezes": "Játékautó mini",
                                    "listaar": "73",
                                    "(No column name)": "73"
                                },
                                {
                                    "termekkod": "04030235T",
                                    "megnevezes": "Képeslap karácsonyi borítékos",
                                    "listaar": "73",
                                    "(No column name)": "73"
                                },
                                {
                                    "termekkod": "01100070T",
                                    "megnevezes": "Dekorációs karton",
                                    "listaar": "73",
                                    "(No column name)": "73,33333333333333"
                                },
                                {
                                    "termekkod": "04030264T",
                                    "megnevezes": "Levélpapír szett ",
                                    "listaar": "74",
                                    "(No column name)": "73,66666666666667"
                                },
                                {
                                    "termekkod": "06080332T",
                                    "megnevezes": "Radírtoll betét ER100",
                                    "listaar": "74",
                                    "(No column name)": "74"
                                },
                                {
                                    "termekkod": "06080430T",
                                    "megnevezes": "Öntapadős betűk",
                                    "listaar": "74",
                                    "(No column name)": "74"
                                },
                                {
                                    "termekkod": "07010244T",
                                    "megnevezes": "Kerámiatoll",
                                    "listaar": "74",
                                    "(No column name)": "74"
                                },
                                {
                                    "termekkod": "07040215T",
                                    "megnevezes": "Ironbél  2B ICO",
                                    "listaar": "74",
                                    "(No column name)": "74,66666666666667"
                                },
                                {
                                    "termekkod": "07030104T",
                                    "megnevezes": "Filctoll vastag ARTIP",
                                    "listaar": "76",
                                    "(No column name)": "76"
                                },
                                {
                                    "termekkod": "07010143T",
                                    "megnevezes": "G.toll betét Zebra H-0,7",
                                    "listaar": "78",
                                    "(No column name)": "77,33333333333333"
                                },
                                {
                                    "termekkod": "06040380T",
                                    "megnevezes": "Szövegkiemelő",
                                    "listaar": "78",
                                    "(No column name)": "78"
                                },
                                {
                                    "termekkod": "07040219T",
                                    "megnevezes": "Ironbél HI-POLIMER HB 0,7",
                                    "listaar": "78",
                                    "(No column name)": "78"
                                },
                                {
                                    "termekkod": "06010112T",
                                    "megnevezes": "Füzet  A4 mintás",
                                    "listaar": "78",
                                    "(No column name)": "78"
                                },
                                {
                                    "termekkod": "02040292T",
                                    "megnevezes": "Naptárhát nagy",
                                    "listaar": "78",
                                    "(No column name)": "78,33333333333333"
                                },
                                {
                                    "termekkod": "06040087T",
                                    "megnevezes": "Ecset Nebuló 10-es",
                                    "listaar": "79",
                                    "(No column name)": "79"
                                },
                                {
                                    "termekkod": "07040130T",
                                    "megnevezes": "G. toll betét S7S",
                                    "listaar": "80",
                                    "(No column name)": "79,66666666666667"
                                },
                                {
                                    "termekkod": "07040391T",
                                    "megnevezes": "Toll Centropen roller",
                                    "listaar": "80",
                                    "(No column name)": "80,33333333333333"
                                },
                                {
                                    "termekkod": "07080466T",
                                    "megnevezes": "Golyóstoll Stabiló 308",
                                    "listaar": "81",
                                    "(No column name)": "80,66666666666667"
                                },
                                {
                                    "termekkod": "06080336T",
                                    "megnevezes": "Ragasztó 8 g Pritt",
                                    "listaar": "81",
                                    "(No column name)": "81"
                                },
                                {
                                    "termekkod": "04110231T",
                                    "megnevezes": "Képeslap humoros borítékos",
                                    "listaar": "81",
                                    "(No column name)": "81"
                                },
                                {
                                    "termekkod": "04040387T",
                                    "megnevezes": "Tenisz labda",
                                    "listaar": "81",
                                    "(No column name)": "81"
                                },
                                {
                                    "termekkod": "02040197T",
                                    "megnevezes": "Hibajavító lap ",
                                    "listaar": "81",
                                    "(No column name)": "81"
                                },
                                {
                                    "termekkod": "02040206T",
                                    "megnevezes": "Írásvetítő fólia",
                                    "listaar": "81",
                                    "(No column name)": "81"
                                },
                                {
                                    "termekkod": "03050080T",
                                    "megnevezes": "Diszkötöző széles szalag",
                                    "listaar": "81",
                                    "(No column name)": "81"
                                },
                                {
                                    "termekkod": "03080014T",
                                    "megnevezes": "Ajándék csom. 70x50 metál",
                                    "listaar": "81",
                                    "(No column name)": "81"
                                },
                                {
                                    "termekkod": "02040308T",
                                    "megnevezes": "Pénztárgépsz. 2 pl. nem öníró",
                                    "listaar": "81",
                                    "(No column name)": "82,33333333333333"
                                },
                                {
                                    "termekkod": "07040131T",
                                    "megnevezes": "G. toll betét UNI lachnok Fine SA-7C",
                                    "listaar": "85",
                                    "(No column name)": "85"
                                },
                                {
                                    "termekkod": "06080339T",
                                    "megnevezes": "Ragasztó kores",
                                    "listaar": "89",
                                    "(No column name)": "87,66666666666667"
                                },
                                {
                                    "termekkod": "07010144T",
                                    "megnevezes": "G.toll betét Zebra K-0,7",
                                    "listaar": "89",
                                    "(No column name)": "89"
                                },
                                {
                                    "termekkod": "06040357T",
                                    "megnevezes": "Sp.Füzet A/5 70-es",
                                    "listaar": "89",
                                    "(No column name)": "89"
                                },
                                {
                                    "termekkod": "06040378T",
                                    "megnevezes": "Szövegkiemelő vékony",
                                    "listaar": "89",
                                    "(No column name)": "89"
                                },
                                {
                                    "termekkod": "06040324T",
                                    "megnevezes": "Post-it 75×75 100 lapos",
                                    "listaar": "89",
                                    "(No column name)": "89"
                                },
                                {
                                    "termekkod": "02040295T",
                                    "megnevezes": "Notesz A/5 sima spirál",
                                    "listaar": "89",
                                    "(No column name)": "89"
                                },
                                {
                                    "termekkod": "02080456T",
                                    "megnevezes": "Genoterm HERLITZ 10-es",
                                    "listaar": "89",
                                    "(No column name)": "89"
                                },
                                {
                                    "termekkod": "02040290T",
                                    "megnevezes": "Naptár 24-es",
                                    "listaar": "89",
                                    "(No column name)": "89"
                                },
                                {
                                    "termekkod": "02040210T",
                                    "megnevezes": "Iratsín kék",
                                    "listaar": "89",
                                    "(No column name)": "89"
                                },
                                {
                                    "termekkod": "01100071T",
                                    "megnevezes": "Dekorációs karton arany, ezüst",
                                    "listaar": "89",
                                    "(No column name)": "89"
                                },
                                {
                                    "termekkod": "04050022T",
                                    "megnevezes": "Álarc",
                                    "listaar": "89",
                                    "(No column name)": "89"
                                },
                                {
                                    "termekkod": "04030263T",
                                    "megnevezes": "Levélpapír szett",
                                    "listaar": "89",
                                    "(No column name)": "89"
                                },
                                {
                                    "termekkod": "04110233T",
                                    "megnevezes": "Képeslap humoros",
                                    "listaar": "89",
                                    "(No column name)": "89"
                                },
                                {
                                    "termekkod": "05010370T",
                                    "megnevezes": "Szilvia csomagoló",
                                    "listaar": "89",
                                    "(No column name)": "89"
                                },
                                {
                                    "termekkod": "05050346T",
                                    "megnevezes": "Rágógumi Orbit",
                                    "listaar": "89",
                                    "(No column name)": "89,66666666666667"
                                },
                                {
                                    "termekkod": "07010139T",
                                    "megnevezes": "G.toll betét S7L ",
                                    "listaar": "91",
                                    "(No column name)": "91"
                                },
                                {
                                    "termekkod": "06040379T",
                                    "megnevezes": "Szövegkiemelő ",
                                    "listaar": "93",
                                    "(No column name)": "92,33333333333333"
                                },
                                {
                                    "termekkod": "07080157T",
                                    "megnevezes": "Golyóstoll Montex Hytone",
                                    "listaar": "93",
                                    "(No column name)": "93"
                                },
                                {
                                    "termekkod": "04110277T",
                                    "megnevezes": "Matrica Stickers szíves",
                                    "listaar": "93",
                                    "(No column name)": "93"
                                },
                                {
                                    "termekkod": "02040309T",
                                    "megnevezes": "Pénztárgépszalag 2pl SC 57.5/60",
                                    "listaar": "93",
                                    "(No column name)": "93,33333333333333"
                                },
                                {
                                    "termekkod": "07080315T",
                                    "megnevezes": "Pixiron Handy műanyag",
                                    "listaar": "94",
                                    "(No column name)": "93,66666666666667"
                                },
                                {
                                    "termekkod": "07040169T",
                                    "megnevezes": "Golyóstoll Zodiák",
                                    "listaar": "94",
                                    "(No column name)": "94,33333333333333"
                                },
                                {
                                    "termekkod": "07080418T",
                                    "megnevezes": "Zselés toll ",
                                    "listaar": "95",
                                    "(No column name)": "94,66666666666667"
                                },
                                {
                                    "termekkod": "06040183T",
                                    "megnevezes": "Gyűrűskönyv bet. A/5",
                                    "listaar": "95",
                                    "(No column name)": "95,33333333333333"
                                },
                                {
                                    "termekkod": "06040385T",
                                    "megnevezes": "Tempera szóló ezüst",
                                    "listaar": "96",
                                    "(No column name)": "96,66666666666667"
                                },
                                {
                                    "termekkod": "07010371T",
                                    "megnevezes": "Színes ceruza 6-os",
                                    "listaar": "99",
                                    "(No column name)": "98,66666666666667"
                                },
                                {
                                    "termekkod": "06080338T",
                                    "megnevezes": "Ragasztó kenőfejes Nebuló",
                                    "listaar": "101",
                                    "(No column name)": "100,33333333333333"
                                },
                                {
                                    "termekkod": "07080162T",
                                    "megnevezes": "Golyóstoll Stabilo piros",
                                    "listaar": "101",
                                    "(No column name)": "101,66666666666667"
                                },
                                {
                                    "termekkod": "07030106T",
                                    "megnevezes": "Filctoll, alkoholosOHP F-M-C",
                                    "listaar": "103",
                                    "(No column name)": "102,33333333333333"
                                },
                                {
                                    "termekkod": "06040381T",
                                    "megnevezes": "Szövegkiemelő Videotip",
                                    "listaar": "103",
                                    "(No column name)": "103"
                                },
                                {
                                    "termekkod": "06040352T",
                                    "megnevezes": "Rovatolt papír 20 íves",
                                    "listaar": "103",
                                    "(No column name)": "103"
                                },
                                {
                                    "termekkod": "02040294T",
                                    "megnevezes": "Notesz A/5 sima",
                                    "listaar": "103",
                                    "(No column name)": "103"
                                },
                                {
                                    "termekkod": "02040297T",
                                    "megnevezes": "Notesz sima spirál College",
                                    "listaar": "103",
                                    "(No column name)": "103"
                                },
                                {
                                    "termekkod": "02080449T",
                                    "megnevezes": "Térképtű színes",
                                    "listaar": "103",
                                    "(No column name)": "103"
                                },
                                {
                                    "termekkod": "02080451T",
                                    "megnevezes": "Gémkapocs 50-es",
                                    "listaar": "103",
                                    "(No column name)": "103"
                                },
                                {
                                    "termekkod": "03080008T",
                                    "megnevezes": "Ajándék cs. tasak kicsi",
                                    "listaar": "103",
                                    "(No column name)": "103"
                                },
                                {
                                    "termekkod": "02020245T",
                                    "megnevezes": "Kiadási pénztárbizonylat 2×25",
                                    "listaar": "103",
                                    "(No column name)": "103"
                                },
                                {
                                    "termekkod": "05040310T",
                                    "megnevezes": "Pill.ragasztó",
                                    "listaar": "103",
                                    "(No column name)": "103"
                                },
                                {
                                    "termekkod": "04030265T",
                                    "megnevezes": "Levélpapír szett natur, mintás",
                                    "listaar": "103",
                                    "(No column name)": "103"
                                },
                                {
                                    "termekkod": "04050253T",
                                    "megnevezes": "Kulcstartó figurás",
                                    "listaar": "103",
                                    "(No column name)": "104"
                                },
                                {
                                    "termekkod": "03080031T",
                                    "megnevezes": "Ajándék cs. húsvéti",
                                    "listaar": "106",
                                    "(No column name)": "105"
                                },
                                {
                                    "termekkod": "05040348T",
                                    "megnevezes": "Rajzszeg színes",
                                    "listaar": "106",
                                    "(No column name)": "106"
                                },
                                {
                                    "termekkod": "02010028T",
                                    "megnevezes": "Árazószalag ",
                                    "listaar": "106",
                                    "(No column name)": "106"
                                },
                                {
                                    "termekkod": "02080226T",
                                    "megnevezes": "Kapocskiszedő",
                                    "listaar": "106",
                                    "(No column name)": "106"
                                },
                                {
                                    "termekkod": "07040057T",
                                    "megnevezes": "Ceruza Progresso",
                                    "listaar": "106",
                                    "(No column name)": "107"
                                },
                                {
                                    "termekkod": "04110276T",
                                    "megnevezes": "Matrica Stickers nagy állatos",
                                    "listaar": "109",
                                    "(No column name)": "108,33333333333333"
                                },
                                {
                                    "termekkod": "04050171T",
                                    "megnevezes": "Gumilabda közepes",
                                    "listaar": "110",
                                    "(No column name)": "109,66666666666667"
                                },
                                {
                                    "termekkod": "03080016T",
                                    "megnevezes": "házt.csom.  5 ív",
                                    "listaar": "110",
                                    "(No column name)": "110"
                                },
                                {
                                    "termekkod": "02040149T",
                                    "megnevezes": "Genotherm A4 10db-os",
                                    "listaar": "110",
                                    "(No column name)": "110"
                                },
                                {
                                    "termekkod": "06080335T",
                                    "megnevezes": "Ragasztó 9 g Pax",
                                    "listaar": "110",
                                    "(No column name)": "110"
                                },
                                {
                                    "termekkod": "07080468T",
                                    "megnevezes": "Golyóstoll háromfunkciós",
                                    "listaar": "110",
                                    "(No column name)": "111,33333333333333"
                                },
                                {
                                    "termekkod": "07030105T",
                                    "megnevezes": "Filctoll, alkoholos Centropen",
                                    "listaar": "114",
                                    "(No column name)": "112,66666666666667"
                                },
                                {
                                    "termekkod": "03080439T",
                                    "megnevezes": "Italtartó doboz",
                                    "listaar": "114",
                                    "(No column name)": "114,33333333333333"
                                },
                                {
                                    "termekkod": "04050250T",
                                    "megnevezes": "Kulcstartó autós",
                                    "listaar": "115",
                                    "(No column name)": "114,66666666666667"
                                },
                                {
                                    "termekkod": "02020029T",
                                    "megnevezes": "Átírótömb A/6",
                                    "listaar": "115",
                                    "(No column name)": "116"
                                },
                                {
                                    "termekkod": "04030242T",
                                    "megnevezes": "Képeslap WD +boríték",
                                    "listaar": "118",
                                    "(No column name)": "117"
                                },
                                {
                                    "termekkod": "05010026T",
                                    "megnevezes": "Alufólia 10 m-es",
                                    "listaar": "118",
                                    "(No column name)": "118"
                                },
                                {
                                    "termekkod": "05110360T",
                                    "megnevezes": "Szalvéta egyszínű",
                                    "listaar": "118",
                                    "(No column name)": "118,33333333333333"
                                },
                                {
                                    "termekkod": "06080333T",
                                    "megnevezes": "Radírtoll betét vastag",
                                    "listaar": "119",
                                    "(No column name)": "119,33333333333333"
                                },
                                {
                                    "termekkod": "06080441T",
                                    "megnevezes": "Gyurmakés",
                                    "listaar": "121",
                                    "(No column name)": "120,33333333333333"
                                },
                                {
                                    "termekkod": "03080018T",
                                    "megnevezes": "Ajándék csom. gyűrt 50x70 ",
                                    "listaar": "121",
                                    "(No column name)": "121,66666666666667"
                                },
                                {
                                    "termekkod": "07010136T",
                                    "megnevezes": "G.toll betét PAX",
                                    "listaar": "123",
                                    "(No column name)": "122,66666666666667"
                                },
                                {
                                    "termekkod": "04050252T",
                                    "megnevezes": "Kulcstartó Csőrikés",
                                    "listaar": "124",
                                    "(No column name)": "124"
                                },
                                {
                                    "termekkod": "03080012T",
                                    "megnevezes": "Ajándék csom. 200x70",
                                    "listaar": "125",
                                    "(No column name)": "124,66666666666667"
                                },
                                {
                                    "termekkod": "06040399T",
                                    "megnevezes": "Tombola tömb",
                                    "listaar": "125",
                                    "(No column name)": "125"
                                },
                                {
                                    "termekkod": "07080312T",
                                    "megnevezes": "Pixiron 0,7 Handy",
                                    "listaar": "125",
                                    "(No column name)": "126,33333333333333"
                                },
                                {
                                    "termekkod": "04050256T",
                                    "megnevezes": "Kulcstartó nagyítós",
                                    "listaar": "129",
                                    "(No column name)": "127,66666666666667"
                                },
                                {
                                    "termekkod": "04050267T",
                                    "megnevezes": "Logikai készlet",
                                    "listaar": "129",
                                    "(No column name)": "129"
                                },
                                {
                                    "termekkod": "05010369T",
                                    "megnevezes": "Szemetes zsák 60 literes",
                                    "listaar": "129",
                                    "(No column name)": "129,66666666666666"
                                },
                                {
                                    "termekkod": "04050225T",
                                    "megnevezes": "Kártya mini Magyar",
                                    "listaar": "131",
                                    "(No column name)": "131"
                                },
                                {
                                    "termekkod": "04050221T",
                                    "megnevezes": "Játékautó Blisteres",
                                    "listaar": "133",
                                    "(No column name)": "132,33333333333334"
                                },
                                {
                                    "termekkod": "05110363T",
                                    "megnevezes": "Szalvéta dekor",
                                    "listaar": "133",
                                    "(No column name)": "133"
                                },
                                {
                                    "termekkod": "02080081T",
                                    "megnevezes": "Dvd",
                                    "listaar": "133",
                                    "(No column name)": "133"
                                },
                                {
                                    "termekkod": "02020032T",
                                    "megnevezes": "Beírókönyv A5 ",
                                    "listaar": "133",
                                    "(No column name)": "133"
                                },
                                {
                                    "termekkod": "02040198T",
                                    "megnevezes": "Hibajavító roller 5 mm",
                                    "listaar": "133",
                                    "(No column name)": "133"
                                },
                                {
                                    "termekkod": "02040025T",
                                    "megnevezes": "Álló irattartó karton",
                                    "listaar": "133",
                                    "(No column name)": "133"
                                },
                                {
                                    "termekkod": "07080314T",
                                    "megnevezes": "Pixiron Handy fém",
                                    "listaar": "133",
                                    "(No column name)": "133"
                                },
                                {
                                    "termekkod": "06050301T",
                                    "megnevezes": "Olló gyerek ",
                                    "listaar": "133",
                                    "(No column name)": "133"
                                },
                                {
                                    "termekkod": "06080334T",
                                    "megnevezes": "Ragasztó szalag KORES ",
                                    "listaar": "133",
                                    "(No column name)": "135,33333333333334"
                                },
                                {
                                    "termekkod": "07040101T",
                                    "megnevezes": "Filctoll permanent vastag",
                                    "listaar": "140",
                                    "(No column name)": "137,66666666666666"
                                },
                                {
                                    "termekkod": "07050464T",
                                    "megnevezes": "Szövegkiemelő Staedtler",
                                    "listaar": "140",
                                    "(No column name)": "140"
                                },
                                {
                                    "termekkod": "04030261T",
                                    "megnevezes": "Levélpapír állatos",
                                    "listaar": "140",
                                    "(No column name)": "141,33333333333334"
                                },
                                {
                                    "termekkod": "04050023T",
                                    "megnevezes": "Álarc fejdísz",
                                    "listaar": "144",
                                    "(No column name)": "142,66666666666666"
                                },
                                {
                                    "termekkod": "04050024T",
                                    "megnevezes": "Álarc szemüveg",
                                    "listaar": "144",
                                    "(No column name)": "144"
                                },
                                {
                                    "termekkod": "05080340T",
                                    "megnevezes": "Ragasztó, Technokol 35g kék",
                                    "listaar": "144",
                                    "(No column name)": "144"
                                },
                                {
                                    "termekkod": "05080341T",
                                    "megnevezes": "Ragasztó, Technokol 35g piros",
                                    "listaar": "144",
                                    "(No column name)": "144"
                                },
                                {
                                    "termekkod": "02020037T",
                                    "megnevezes": "Bevételi pénztárbizonylat 3×25",
                                    "listaar": "144",
                                    "(No column name)": "144"
                                },
                                {
                                    "termekkod": "06040356T",
                                    "megnevezes": "Sp.Füzet A/4  70es",
                                    "listaar": "144",
                                    "(No column name)": "144,66666666666666"
                                },
                                {
                                    "termekkod": "07080062T",
                                    "megnevezes": "Ceruza szén",
                                    "listaar": "146",
                                    "(No column name)": "146"
                                },
                                {
                                    "termekkod": "06040174T",
                                    "megnevezes": "Gumis mappa ",
                                    "listaar": "148",
                                    "(No column name)": "147,33333333333334"
                                },
                                {
                                    "termekkod": "03080011T",
                                    "megnevezes": "Ajándék cs. tasak közepes",
                                    "listaar": "148",
                                    "(No column name)": "148"
                                },
                                {
                                    "termekkod": "03080009T",
                                    "megnevezes": "Ajándék csom. 100x70 metál",
                                    "listaar": "148",
                                    "(No column name)": "148"
                                },
                                {
                                    "termekkod": "03080017T",
                                    "megnevezes": "iskolai csomagoló papír",
                                    "listaar": "148",
                                    "(No column name)": "148"
                                },
                                {
                                    "termekkod": "03050458T",
                                    "megnevezes": "Ajándék cs. 2×100×70",
                                    "listaar": "148",
                                    "(No column name)": "148"
                                },
                                {
                                    "termekkod": "04110280T",
                                    "megnevezes": "Matrica tetoválós kicsi",
                                    "listaar": "148",
                                    "(No column name)": "148"
                                },
                                {
                                    "termekkod": "04050251T",
                                    "megnevezes": "Kulcstartó billiárd golyós",
                                    "listaar": "148",
                                    "(No column name)": "150,33333333333334"
                                },
                                {
                                    "termekkod": "04050254T",
                                    "megnevezes": "Kulcstartó intarziás állatos",
                                    "listaar": "155",
                                    "(No column name)": "152,66666666666666"
                                },
                                {
                                    "termekkod": "04110283T",
                                    "megnevezes": "Meghívó állatos",
                                    "listaar": "155",
                                    "(No column name)": "155"
                                },
                                {
                                    "termekkod": "06040355T",
                                    "megnevezes": "Sp.Füzet A/4 70-as",
                                    "listaar": "155",
                                    "(No column name)": "157"
                                },
                                {
                                    "termekkod": "06040246T",
                                    "megnevezes": "Körző",
                                    "listaar": "161",
                                    "(No column name)": "159"
                                },
                                {
                                    "termekkod": "06050303T",
                                    "megnevezes": "Olló, iskolai",
                                    "listaar": "161",
                                    "(No column name)": "161"
                                },
                                {
                                    "termekkod": "07010372T",
                                    "megnevezes": "Színes ceruza 12 szín",
                                    "listaar": "161",
                                    "(No column name)": "161"
                                },
                                {
                                    "termekkod": "06080259T",
                                    "megnevezes": "Leckefüzet",
                                    "listaar": "161",
                                    "(No column name)": "161"
                                },
                                {
                                    "termekkod": "06080440T",
                                    "megnevezes": "Gyurma 12 szinű",
                                    "listaar": "161",
                                    "(No column name)": "161"
                                },
                                {
                                    "termekkod": "06080426T",
                                    "megnevezes": "Szótárfüzet Lizzy",
                                    "listaar": "161",
                                    "(No column name)": "161"
                                },
                                {
                                    "termekkod": "06080427T",
                                    "megnevezes": "Ablakkréta",
                                    "listaar": "161",
                                    "(No column name)": "161"
                                },
                                {
                                    "termekkod": "07080420T",
                                    "megnevezes": "Zselés toll Muhnwa",
                                    "listaar": "161",
                                    "(No column name)": "161"
                                },
                                {
                                    "termekkod": "04110278T",
                                    "megnevezes": "Matrica Test ékszer tattoo",
                                    "listaar": "161",
                                    "(No column name)": "161"
                                },
                                {
                                    "termekkod": "05110364T",
                                    "megnevezes": "Szalvéta kicsi virágos",
                                    "listaar": "161",
                                    "(No column name)": "161"
                                },
                                {
                                    "termekkod": "04050321T",
                                    "megnevezes": "Plüss kicsi",
                                    "listaar": "161",
                                    "(No column name)": "161"
                                },
                                {
                                    "termekkod": "01080093T",
                                    "megnevezes": "Fax papír 15 m",
                                    "listaar": "161",
                                    "(No column name)": "162,33333333333334"
                                },
                                {
                                    "termekkod": "04050222T",
                                    "megnevezes": "Játékautó elemes",
                                    "listaar": "165",
                                    "(No column name)": "164"
                                },
                                {
                                    "termekkod": "03010345T",
                                    "megnevezes": "Ragasztószalag széles barna",
                                    "listaar": "166",
                                    "(No column name)": "166,33333333333334"
                                },
                                {
                                    "termekkod": "04110279T",
                                    "megnevezes": "Matrica tetoválás",
                                    "listaar": "168",
                                    "(No column name)": "167,66666666666666"
                                },
                                {
                                    "termekkod": "04110284T",
                                    "megnevezes": "Meghívó borítékos",
                                    "listaar": "169",
                                    "(No column name)": "168,66666666666666"
                                },
                                {
                                    "termekkod": "04050204T",
                                    "megnevezes": "Hűtőmágnes WD",
                                    "listaar": "169",
                                    "(No column name)": "169"
                                },
                                {
                                    "termekkod": "04030266T",
                                    "megnevezes": "Levélpapír szett virágos",
                                    "listaar": "169",
                                    "(No column name)": "169"
                                },
                                {
                                    "termekkod": "03080015T",
                                    "megnevezes": "Ajándék csom. gyűrt",
                                    "listaar": "169",
                                    "(No column name)": "170,33333333333334"
                                },
                                {
                                    "termekkod": "04050320T",
                                    "megnevezes": "Plüss  QX állatok",
                                    "listaar": "173",
                                    "(No column name)": "172,33333333333334"
                                },
                                {
                                    "termekkod": "04110281T",
                                    "megnevezes": "Matrica világítós ",
                                    "listaar": "175",
                                    "(No column name)": "174,33333333333334"
                                },
                                {
                                    "termekkod": "05110361T",
                                    "megnevezes": "Szalvéta Goma húsvéti",
                                    "listaar": "175",
                                    "(No column name)": "175,33333333333334"
                                },
                                {
                                    "termekkod": "05110359T",
                                    "megnevezes": "Szalvéta ",
                                    "listaar": "176",
                                    "(No column name)": "175,66666666666666"
                                },
                                {
                                    "termekkod": "06080410T",
                                    "megnevezes": "Vízfesték 12db-os kínai",
                                    "listaar": "176",
                                    "(No column name)": "176"
                                },
                                {
                                    "termekkod": "06050302T",
                                    "megnevezes": "Olló Tagit 18 cm-es",
                                    "listaar": "176",
                                    "(No column name)": "177,33333333333334"
                                },
                                {
                                    "termekkod": "06040179T",
                                    "megnevezes": "Gyurma színes 200 g-os",
                                    "listaar": "180",
                                    "(No column name)": "178,66666666666666"
                                },
                                {
                                    "termekkod": "06080409T",
                                    "megnevezes": "Vízfesték 12 színű kerek",
                                    "listaar": "180",
                                    "(No column name)": "180"
                                },
                                {
                                    "termekkod": "06080193T",
                                    "megnevezes": "Hegyző fém 2 lyukú",
                                    "listaar": "180",
                                    "(No column name)": "180"
                                },
                                {
                                    "termekkod": "06080428T",
                                    "megnevezes": "Ecsetkészlet",
                                    "listaar": "180",
                                    "(No column name)": "181"
                                },
                                {
                                    "termekkod": "04110362T",
                                    "megnevezes": "Szalvéta gyűjtőknek",
                                    "listaar": "183",
                                    "(No column name)": "182,33333333333334"
                                },
                                {
                                    "termekkod": "04110228T",
                                    "megnevezes": "Képeslap \"Nászajándék\"",
                                    "listaar": "184",
                                    "(No column name)": "183,66666666666666"
                                },
                                {
                                    "termekkod": "02080435T",
                                    "megnevezes": "Mappa bemutató",
                                    "listaar": "184",
                                    "(No column name)": "184"
                                },
                                {
                                    "termekkod": "06040182T",
                                    "megnevezes": "Gyűrűskönyv bet. A/4",
                                    "listaar": "184",
                                    "(No column name)": "184,33333333333334"
                                },
                                {
                                    "termekkod": "03080003T",
                                    "megnevezes": "Ajándék cs. tasak italos",
                                    "listaar": "185",
                                    "(No column name)": "184,66666666666666"
                                },
                                {
                                    "termekkod": "02040195T",
                                    "megnevezes": "Hibajavító ecsetes Aqua",
                                    "listaar": "185",
                                    "(No column name)": "185"
                                },
                                {
                                    "termekkod": "03080437T",
                                    "megnevezes": "Ajándék csomagoló tasak",
                                    "listaar": "185",
                                    "(No column name)": "186"
                                },
                                {
                                    "termekkod": "07080470T",
                                    "megnevezes": "Golyóstoll háromszög",
                                    "listaar": "188",
                                    "(No column name)": "187,33333333333334"
                                },
                                {
                                    "termekkod": "07040168T",
                                    "megnevezes": "Golyóstoll Zebra new hard",
                                    "listaar": "189",
                                    "(No column name)": "189"
                                },
                                {
                                    "termekkod": "08070482T",
                                    "megnevezes": "Fizika munkafüzet 14 év.",
                                    "listaar": "190",
                                    "(No column name)": "190"
                                },
                                {
                                    "termekkod": "06040175T",
                                    "megnevezes": "Gumis mappa Köbüki",
                                    "listaar": "191",
                                    "(No column name)": "192"
                                },
                                {
                                    "termekkod": "06080121T",
                                    "megnevezes": "Füzetborító öntapadó tekercses",
                                    "listaar": "195",
                                    "(No column name)": "193,66666666666666"
                                },
                                {
                                    "termekkod": "04030243T",
                                    "megnevezes": "Képkirakó Dirib-darab",
                                    "listaar": "195",
                                    "(No column name)": "195"
                                },
                                {
                                    "termekkod": "06040172T",
                                    "megnevezes": "Gumis mappa csomagolt",
                                    "listaar": "195",
                                    "(No column name)": "196"
                                },
                                {
                                    "termekkod": "08070481T",
                                    "megnevezes": "Fizika munkafüzet 13 év.",
                                    "listaar": "198",
                                    "(No column name)": "198,66666666666666"
                                },
                                {
                                    "termekkod": "06080126T",
                                    "megnevezes": "Füzettartó A/5  ",
                                    "listaar": "203",
                                    "(No column name)": "201,33333333333334"
                                },
                                {
                                    "termekkod": "06040351T",
                                    "megnevezes": "Regiszteres füzet A5 Hightech",
                                    "listaar": "203",
                                    "(No column name)": "204"
                                },
                                {
                                    "termekkod": "06040354T",
                                    "megnevezes": "Sp.Füzet A/4  perforált, lyuk.",
                                    "listaar": "206",
                                    "(No column name)": "205"
                                },
                                {
                                    "termekkod": "03080007T",
                                    "megnevezes": "Ajándék cs. tasak mintás nagy",
                                    "listaar": "206",
                                    "(No column name)": "206"
                                },
                                {
                                    "termekkod": "03080010T",
                                    "megnevezes": "Ajándék csom. 150x70",
                                    "listaar": "206",
                                    "(No column name)": "207,33333333333334"
                                },
                                {
                                    "termekkod": "02080434T",
                                    "megnevezes": "Mappa müa A/4",
                                    "listaar": "210",
                                    "(No column name)": "208,66666666666666"
                                },
                                {
                                    "termekkod": "06080408T",
                                    "megnevezes": "Vízfesték 12 db-os ",
                                    "listaar": "210",
                                    "(No column name)": "210,33333333333334"
                                },
                                {
                                    "termekkod": "06040173T",
                                    "megnevezes": "Gumis mappa fóliázott állatos",
                                    "listaar": "211",
                                    "(No column name)": "211,66666666666666"
                                },
                                {
                                    "termekkod": "05010027T",
                                    "megnevezes": "Alufólia 20 m-es",
                                    "listaar": "214",
                                    "(No column name)": "213"
                                },
                                {
                                    "termekkod": "03080438T",
                                    "megnevezes": "Ajándék csomagoló tasak lézeres",
                                    "listaar": "214",
                                    "(No column name)": "214"
                                },
                                {
                                    "termekkod": "02080431T",
                                    "megnevezes": "Álló irattartó",
                                    "listaar": "214",
                                    "(No column name)": "214"
                                },
                                {
                                    "termekkod": "08070491T",
                                    "megnevezes": "Szám.tech. kicsiknek",
                                    "listaar": "214",
                                    "(No column name)": "215,33333333333334"
                                },
                                {
                                    "termekkod": "07040165T",
                                    "megnevezes": "Golyóstoll UNI laknock",
                                    "listaar": "218",
                                    "(No column name)": "216,66666666666666"
                                },
                                {
                                    "termekkod": "06040184T",
                                    "megnevezes": "Gyűrűskönyv betét A/5",
                                    "listaar": "218",
                                    "(No column name)": "218,66666666666666"
                                },
                                {
                                    "termekkod": "03080030T",
                                    "megnevezes": "Ajándék cs. húsvéti 200x70",
                                    "listaar": "220",
                                    "(No column name)": "222"
                                },
                                {
                                    "termekkod": "06040180T",
                                    "megnevezes": "Gyurma színes natúr",
                                    "listaar": "228",
                                    "(No column name)": "225,33333333333334"
                                },
                                {
                                    "termekkod": "06080423T",
                                    "megnevezes": "Beíró A/5 kockás",
                                    "listaar": "228",
                                    "(No column name)": "228"
                                },
                                {
                                    "termekkod": "07010142T",
                                    "megnevezes": "G.toll betét Zebra F-0.7",
                                    "listaar": "228",
                                    "(No column name)": "228"
                                },
                                {
                                    "termekkod": "07080421T",
                                    "megnevezes": "Zseléstoll Lizzy Card",
                                    "listaar": "228",
                                    "(No column name)": "228,66666666666666"
                                },
                                {
                                    "termekkod": "07080163T",
                                    "megnevezes": "Golyóstoll UNI átlátszó",
                                    "listaar": "230",
                                    "(No column name)": "229,66666666666666"
                                },
                                {
                                    "termekkod": "07080164T",
                                    "megnevezes": "Golyóstoll UNI gumis",
                                    "listaar": "231",
                                    "(No column name)": "232"
                                },
                                {
                                    "termekkod": "07080318T",
                                    "megnevezes": "Pixiron Penac",
                                    "listaar": "235",
                                    "(No column name)": "235"
                                },
                                {
                                    "termekkod": "07080160T",
                                    "megnevezes": "Golyóstoll penac",
                                    "listaar": "239",
                                    "(No column name)": "238"
                                },
                                {
                                    "termekkod": "G029-FE307",
                                    "megnevezes": "fiú zokni",
                                    "listaar": "240",
                                    "(No column name)": "239,66666666666666"
                                },
                                {
                                    "termekkod": "L029-FE307",
                                    "megnevezes": "lány zokni",
                                    "listaar": "240",
                                    "(No column name)": "241"
                                },
                                {
                                    "termekkod": "06040248T",
                                    "megnevezes": "Körző maped",
                                    "listaar": "243",
                                    "(No column name)": "242"
                                },
                                {
                                    "termekkod": "02040211T",
                                    "megnevezes": "Iratrendező ESSELTE",
                                    "listaar": "243",
                                    "(No column name)": "245"
                                },
                                {
                                    "termekkod": "06080407T",
                                    "megnevezes": "Vízfesték  12 színű nagy",
                                    "listaar": "249",
                                    "(No column name)": "249,33333333333334"
                                },
                                {
                                    "termekkod": "06040350T",
                                    "megnevezes": "Regiszteres füzet A4",
                                    "listaar": "256",
                                    "(No column name)": "254,66666666666666"
                                },
                                {
                                    "termekkod": "02080432T",
                                    "megnevezes": "Tokos iratrendező",
                                    "listaar": "259",
                                    "(No column name)": "259,6666666666667"
                                },
                                {
                                    "termekkod": "04080271T",
                                    "megnevezes": "Mappa PVC villámzáras",
                                    "listaar": "264",
                                    "(No column name)": "265,3333333333333"
                                },
                                {
                                    "termekkod": "02040196T",
                                    "megnevezes": "Hibajavító készlet Blanco",
                                    "listaar": "273",
                                    "(No column name)": "270"
                                },
                                {
                                    "termekkod": "07080467T",
                                    "megnevezes": "Golyóstoll kétfunkciós ICO",
                                    "listaar": "273",
                                    "(No column name)": "274"
                                },
                                {
                                    "termekkod": "07080311T",
                                    "megnevezes": "Pixiron  UNI",
                                    "listaar": "276",
                                    "(No column name)": "275"
                                },
                                {
                                    "termekkod": "07030107T",
                                    "megnevezes": "Filctoll, textil Edding 4500",
                                    "listaar": "276",
                                    "(No column name)": "276,6666666666667"
                                },
                                {
                                    "termekkod": "07040098T",
                                    "megnevezes": "Filctoll document pen",
                                    "listaar": "278",
                                    "(No column name)": "277,3333333333333"
                                },
                                {
                                    "termekkod": "02040200T",
                                    "megnevezes": "Hibajavító Kores mini pen",
                                    "listaar": "278",
                                    "(No column name)": "280,6666666666667"
                                },
                                {
                                    "termekkod": "02040199T",
                                    "megnevezes": "Hibajavító roller Pax",
                                    "listaar": "286",
                                    "(No column name)": "283,3333333333333"
                                },
                                {
                                    "termekkod": "02040402T",
                                    "megnevezes": "Tűzőgép Boxer ",
                                    "listaar": "286",
                                    "(No column name)": "287,3333333333333"
                                },
                                {
                                    "termekkod": "03080005T",
                                    "megnevezes": "Ajándék cs. tasak virágos nagy",
                                    "listaar": "290",
                                    "(No column name)": "289"
                                },
                                {
                                    "termekkod": "08070485T",
                                    "megnevezes": "Jól felkészültem-e - Fizika",
                                    "listaar": "291",
                                    "(No column name)": "291,3333333333333"
                                },
                                {
                                    "termekkod": "08070476T",
                                    "megnevezes": "Anyanyelvi gyakorló 2",
                                    "listaar": "293",
                                    "(No column name)": "292,3333333333333"
                                },
                                {
                                    "termekkod": "06080337T",
                                    "megnevezes": "Ragasztó Gyurma",
                                    "listaar": "293",
                                    "(No column name)": "293,3333333333333"
                                },
                                {
                                    "termekkod": "07080471T",
                                    "megnevezes": "Golyóstoll levélbontós",
                                    "listaar": "294",
                                    "(No column name)": "294,6666666666667"
                                },
                                {
                                    "termekkod": "02060034T",
                                    "megnevezes": "Bélyegzőfesték ",
                                    "listaar": "297",
                                    "(No column name)": "296,6666666666667"
                                },
                                {
                                    "termekkod": "07080319T",
                                    "megnevezes": "Pixiron Pentel színes",
                                    "listaar": "299",
                                    "(No column name)": "301,3333333333333"
                                },
                                {
                                    "termekkod": "08070480T",
                                    "megnevezes": "Fizika 13 éveseknek",
                                    "listaar": "308",
                                    "(No column name)": "305,6666666666667"
                                },
                                {
                                    "termekkod": "02040293T",
                                    "megnevezes": "Névjegytartó kicsi",
                                    "listaar": "310",
                                    "(No column name)": "310,6666666666667"
                                },
                                {
                                    "termekkod": "04050322T",
                                    "megnevezes": "Plüss sárkány",
                                    "listaar": "314",
                                    "(No column name)": "313,3333333333333"
                                },
                                {
                                    "termekkod": "04080442T",
                                    "megnevezes": "Emlékkönyv",
                                    "listaar": "316",
                                    "(No column name)": "318"
                                },
                                {
                                    "termekkod": "08070483T",
                                    "megnevezes": "Fizikai feladatok és tévedések",
                                    "listaar": "324",
                                    "(No column name)": "321,3333333333333"
                                },
                                {
                                    "termekkod": "06080422T",
                                    "megnevezes": "Füzettartó A/4",
                                    "listaar": "324",
                                    "(No column name)": "324"
                                },
                                {
                                    "termekkod": "06040394T",
                                    "megnevezes": "Tolltartó zipzáras",
                                    "listaar": "324",
                                    "(No column name)": "325,3333333333333"
                                },
                                {
                                    "termekkod": "02020033T",
                                    "megnevezes": "Beírókönyv A4",
                                    "listaar": "328",
                                    "(No column name)": "330,3333333333333"
                                },
                                {
                                    "termekkod": "02040401T",
                                    "megnevezes": "Tűzőgép Boxer 10",
                                    "listaar": "339",
                                    "(No column name)": "336,3333333333333"
                                },
                                {
                                    "termekkod": "01010001T",
                                    "megnevezes": "félfamentes rajzlap A4 (10 lap)",
                                    "listaar": "342",
                                    "(No column name)": "342"
                                },
                                {
                                    "termekkod": "08070484T",
                                    "megnevezes": "Fogalmazás lépésről lépésre",
                                    "listaar": "345",
                                    "(No column name)": "346,6666666666667"
                                },
                                {
                                    "termekkod": "08070477T",
                                    "megnevezes": "Anyanyelvi gyakorló 3",
                                    "listaar": "353",
                                    "(No column name)": "351,3333333333333"
                                },
                                {
                                    "termekkod": "04050358T",
                                    "megnevezes": "Strandlabda ",
                                    "listaar": "356",
                                    "(No column name)": "356,3333333333333"
                                },
                                {
                                    "termekkod": "04080272T",
                                    "megnevezes": "Mappa PVC villámzáras  képes",
                                    "listaar": "360",
                                    "(No column name)": "358,6666666666667"
                                },
                                {
                                    "termekkod": "07040389T",
                                    "megnevezes": "Tintapatron 30 db-os kék",
                                    "listaar": "360",
                                    "(No column name)": "361,3333333333333"
                                },
                                {
                                    "termekkod": "07080469T",
                                    "megnevezes": "Golyóstoll UNIBALL 07",
                                    "listaar": "364",
                                    "(No column name)": "371,3333333333333"
                                },
                                {
                                    "termekkod": "07080151T",
                                    "megnevezes": "Golyóstoll + ceruza Twister 2in1",
                                    "listaar": "390",
                                    "(No column name)": "381,3333333333333"
                                },
                                {
                                    "termekkod": "G023-FE301",
                                    "megnevezes": "fiú alsó",
                                    "listaar": "390",
                                    "(No column name)": "390"
                                },
                                {
                                    "termekkod": "L023-FE301",
                                    "megnevezes": "lány alsó",
                                    "listaar": "390",
                                    "(No column name)": "390"
                                },
                                {
                                    "termekkod": "07040100T",
                                    "megnevezes": "Filctoll Marvy alkoholos",
                                    "listaar": "390",
                                    "(No column name)": "393,6666666666667"
                                },
                                {
                                    "termekkod": "07080154T",
                                    "megnevezes": "Golyóstoll INOXCROM",
                                    "listaar": "401",
                                    "(No column name)": "398"
                                },
                                {
                                    "termekkod": "08070486T",
                                    "megnevezes": "Matematika gyakorló 2",
                                    "listaar": "403",
                                    "(No column name)": "402,3333333333333"
                                },
                                {
                                    "termekkod": "08070487T",
                                    "megnevezes": "Matematika gyakorló 3",
                                    "listaar": "403",
                                    "(No column name)": "403"
                                },
                                {
                                    "termekkod": "08070488T",
                                    "megnevezes": "Matematika gyakorló 4",
                                    "listaar": "403",
                                    "(No column name)": "403,6666666666667"
                                },
                                {
                                    "termekkod": "02040404T",
                                    "megnevezes": "Tűzőgép EAGLE",
                                    "listaar": "405",
                                    "(No column name)": "406"
                                },
                                {
                                    "termekkod": "06040396T",
                                    "megnevezes": "Tolltartó Garfield",
                                    "listaar": "410",
                                    "(No column name)": "408,6666666666667"
                                },
                                {
                                    "termekkod": "06040398T",
                                    "megnevezes": "Tolltartó hengeres ",
                                    "listaar": "411",
                                    "(No column name)": "410,6666666666667"
                                },
                                {
                                    "termekkod": "06080125T",
                                    "megnevezes": "Füzettartó A/5 vastag",
                                    "listaar": "411",
                                    "(No column name)": "416"
                                },
                                {
                                    "termekkod": "06010343T",
                                    "megnevezes": "Ragasztószalag 19 mm-es SCOTCH+ tépő",
                                    "listaar": "426",
                                    "(No column name)": "423,6666666666667"
                                },
                                {
                                    "termekkod": "07040099T",
                                    "megnevezes": "Filctoll Edding 750",
                                    "listaar": "434",
                                    "(No column name)": "431,3333333333333"
                                },
                                {
                                    "termekkod": "07040257T",
                                    "megnevezes": "Lakk filc Edding 750",
                                    "listaar": "434",
                                    "(No column name)": "435,3333333333333"
                                },
                                {
                                    "termekkod": "02080452T",
                                    "megnevezes": "Tűzőgép mini",
                                    "listaar": "438",
                                    "(No column name)": "437,3333333333333"
                                },
                                {
                                    "termekkod": "08070475T",
                                    "megnevezes": "A föld amelyen élünk - munkafüzet",
                                    "listaar": "440",
                                    "(No column name)": "439,3333333333333"
                                },
                                {
                                    "termekkod": "08070494T",
                                    "megnevezes": "Érettségi felv. fel. Fizika",
                                    "listaar": "440",
                                    "(No column name)": "440"
                                },
                                {
                                    "termekkod": "08070495T",
                                    "megnevezes": "Érettségi felv. fel. Biológia",
                                    "listaar": "440",
                                    "(No column name)": "443"
                                },
                                {
                                    "termekkod": "04080443T",
                                    "megnevezes": "Emlékkönyv lakatos",
                                    "listaar": "449",
                                    "(No column name)": "448"
                                },
                                {
                                    "termekkod": "07040166T",
                                    "megnevezes": "Golyóstoll Zebra 301",
                                    "listaar": "455",
                                    "(No column name)": "456"
                                },
                                {
                                    "termekkod": "02020444T",
                                    "megnevezes": "Határidő napló A/6",
                                    "listaar": "464",
                                    "(No column name)": "462,3333333333333"
                                },
                                {
                                    "termekkod": "07080316T",
                                    "megnevezes": "Pixiron KOH-I-NOOR",
                                    "listaar": "468",
                                    "(No column name)": "475"
                                },
                                {
                                    "termekkod": "07050462T",
                                    "megnevezes": "Töltőtoll tinta ",
                                    "listaar": "493",
                                    "(No column name)": "489,6666666666667"
                                },
                                {
                                    "termekkod": "06080124T",
                                    "megnevezes": "Füzettartó A/4 keménytáblás",
                                    "listaar": "508",
                                    "(No column name)": "503"
                                },
                                {
                                    "termekkod": "06010366T",
                                    "megnevezes": "Számológép Roxin",
                                    "listaar": "508",
                                    "(No column name)": "509"
                                },
                                {
                                    "termekkod": "06040400T",
                                    "megnevezes": "Tornazsák",
                                    "listaar": "511",
                                    "(No column name)": "515"
                                },
                                {
                                    "termekkod": "04040090T",
                                    "megnevezes": "Emlékkönyv",
                                    "listaar": "526",
                                    "(No column name)": "521"
                                },
                                {
                                    "termekkod": "02080453T",
                                    "megnevezes": "Lyukasztó EAGLE",
                                    "listaar": "526",
                                    "(No column name)": "534,3333333333334"
                                },
                                {
                                    "termekkod": "06080123T",
                                    "megnevezes": "Füzettartó A/4 keménytáblás",
                                    "listaar": "551",
                                    "(No column name)": "552,6666666666666"
                                },
                                {
                                    "termekkod": "06040185T",
                                    "megnevezes": "Gyűrűskönyv",
                                    "listaar": "581",
                                    "(No column name)": "585,6666666666666"
                                },
                                {
                                    "termekkod": "02080455T",
                                    "megnevezes": "Festékpatron BCI-3BK",
                                    "listaar": "625",
                                    "(No column name)": "613"
                                },
                                {
                                    "termekkod": "06040382T",
                                    "megnevezes": "Táblafilc",
                                    "listaar": "633",
                                    "(No column name)": "636"
                                },
                                {
                                    "termekkod": "02060039T",
                                    "megnevezes": "Bélyegző párna",
                                    "listaar": "650",
                                    "(No column name)": "646"
                                },
                                {
                                    "termekkod": "06040397T",
                                    "megnevezes": "Tolltartó asztali",
                                    "listaar": "655",
                                    "(No column name)": "653,3333333333334"
                                },
                                {
                                    "termekkod": "07040167T",
                                    "megnevezes": "Golyóstoll Zebra mini",
                                    "listaar": "655",
                                    "(No column name)": "661,3333333333334"
                                },
                                {
                                    "termekkod": "08070479T",
                                    "megnevezes": "Fizika",
                                    "listaar": "674",
                                    "(No column name)": "671"
                                },
                                {
                                    "termekkod": "07040135T",
                                    "megnevezes": "G.toll betét Parker ",
                                    "listaar": "684",
                                    "(No column name)": "681,3333333333334"
                                },
                                {
                                    "termekkod": "01100505T",
                                    "megnevezes": "Fehér másoló A/4",
                                    "listaar": "686",
                                    "(No column name)": "686,6666666666666"
                                },
                                {
                                    "termekkod": "N019-FE301",
                                    "megnevezes": "női alsó",
                                    "listaar": "690",
                                    "(No column name)": "689"
                                },
                                {
                                    "termekkod": "08070490T",
                                    "megnevezes": "Szövegszerkesztés",
                                    "listaar": "691",
                                    "(No column name)": "693,3333333333334"
                                },
                                {
                                    "termekkod": "06040186T",
                                    "megnevezes": "Gyűrűskönyv színes",
                                    "listaar": "699",
                                    "(No column name)": "703,3333333333334"
                                },
                                {
                                    "termekkod": "08070493T",
                                    "megnevezes": "Érettségi felv. fel. Matematika",
                                    "listaar": "720",
                                    "(No column name)": "715,6666666666666"
                                },
                                {
                                    "termekkod": "06040395T",
                                    "megnevezes": "Tolltartó 2 zipzáros töltött",
                                    "listaar": "728",
                                    "(No column name)": "725,3333333333334"
                                },
                                {
                                    "termekkod": "06040392T",
                                    "megnevezes": "Tolltartó 1 zipzáros",
                                    "listaar": "728",
                                    "(No column name)": "728"
                                },
                                {
                                    "termekkod": "01100095T",
                                    "megnevezes": "Fénymásoló papír GetCopy",
                                    "listaar": "728",
                                    "(No column name)": "728"
                                },
                                {
                                    "termekkod": "01100096T",
                                    "megnevezes": "Fénymásoló papír Qconnect",
                                    "listaar": "728",
                                    "(No column name)": "728"
                                },
                                {
                                    "termekkod": "04020445T",
                                    "megnevezes": "Határidő napló 2010-s",
                                    "listaar": "728",
                                    "(No column name)": "730,3333333333334"
                                },
                                {
                                    "termekkod": "08070492T",
                                    "megnevezes": "Informatika",
                                    "listaar": "735",
                                    "(No column name)": "742,6666666666666"
                                },
                                {
                                    "termekkod": "06040393T",
                                    "megnevezes": "Tolltartó 2 részes NG.",
                                    "listaar": "765",
                                    "(No column name)": "755"
                                },
                                {
                                    "termekkod": "02080454T",
                                    "megnevezes": "Lyukasztó BOXER",
                                    "listaar": "765",
                                    "(No column name)": "767,6666666666666"
                                },
                                {
                                    "termekkod": "07080158T",
                                    "megnevezes": "Golyóstoll Parker tokban",
                                    "listaar": "773",
                                    "(No column name)": "772,6666666666666"
                                },
                                {
                                    "termekkod": "02060038T",
                                    "megnevezes": "Bélyegző IDEAL 50",
                                    "listaar": "780",
                                    "(No column name)": "779,3333333333334"
                                },
                                {
                                    "termekkod": "08070478T",
                                    "megnevezes": "Összefoglaló feladatgyüjtemény számtech.",
                                    "listaar": "785",
                                    "(No column name)": "786,3333333333334"
                                },
                                {
                                    "termekkod": "02040194T",
                                    "megnevezes": "Hibajav.roll.Pritt 4,2mm",
                                    "listaar": "794",
                                    "(No column name)": "808"
                                },
                                {
                                    "termekkod": "01100094T",
                                    "megnevezes": "Fénymásoló papír DataCopy",
                                    "listaar": "845",
                                    "(No column name)": "835,6666666666666"
                                },
                                {
                                    "termekkod": "08070489T",
                                    "megnevezes": "RAMba zárt világ",
                                    "listaar": "868",
                                    "(No column name)": "862,6666666666666"
                                },
                                {
                                    "termekkod": "06080188T",
                                    "megnevezes": "Hegyező gép",
                                    "listaar": "875",
                                    "(No column name)": "911"
                                },
                                {
                                    "termekkod": "G038-FE316",
                                    "megnevezes": "fiú harisnya",
                                    "listaar": "990",
                                    "(No column name)": "951,6666666666666"
                                },
                                {
                                    "termekkod": "L033-FE311",
                                    "megnevezes": "lány harisnya",
                                    "listaar": "990",
                                    "(No column name)": "999,6666666666666"
                                },
                                {
                                    "termekkod": "07080152T",
                                    "megnevezes": "Golyóstoll 3 funkciós ",
                                    "listaar": "1019",
                                    "(No column name)": "1032,6666666666667"
                                },
                                {
                                    "termekkod": "08070472T",
                                    "megnevezes": "A föld amelyen élünk - Európa földrajza",
                                    "listaar": "1089",
                                    "(No column name)": "1065,6666666666667"
                                },
                                {
                                    "termekkod": "08070473T",
                                    "megnevezes": "A föld amelyen élünk - Távoli földrészek",
                                    "listaar": "1089",
                                    "(No column name)": "1089"
                                },
                                {
                                    "termekkod": "08070474T",
                                    "megnevezes": "A föld amelyen élünk - Hazánk földrajza",
                                    "listaar": "1089",
                                    "(No column name)": "1108,3333333333333"
                                },
                                {
                                    "termekkod": "02060448T",
                                    "megnevezes": "Bélyegző RP 18-47",
                                    "listaar": "1147",
                                    "(No column name)": "1136,3333333333333"
                                },
                                {
                                    "termekkod": "06040446T",
                                    "megnevezes": "Számológép tudományos",
                                    "listaar": "1173",
                                    "(No column name)": "1203,3333333333333"
                                },
                                {
                                    "termekkod": "G019-NA207",
                                    "megnevezes": "gyermek pamut nadrág (fiú)",
                                    "listaar": "1290",
                                    "(No column name)": "1251"
                                },
                                {
                                    "termekkod": "L019-NA207",
                                    "megnevezes": "gyermek pamut nadrág (lány)",
                                    "listaar": "1290",
                                    "(No column name)": "1310,3333333333333"
                                },
                                {
                                    "termekkod": "02040403T",
                                    "megnevezes": "Tűzőgép SAX 239",
                                    "listaar": "1351",
                                    "(No column name)": "1339,3333333333333"
                                },
                                {
                                    "termekkod": "02060447T",
                                    "megnevezes": "Bélyegző pocket",
                                    "listaar": "1377",
                                    "(No column name)": "1405,3333333333333"
                                },
                                {
                                    "termekkod": "01100504T",
                                    "megnevezes": "Fehér másoló A/3",
                                    "listaar": "1488",
                                    "(No column name)": "1455"
                                },
                                {
                                    "termekkod": "01100496T",
                                    "megnevezes": "Színes másoló a/4 80g",
                                    "listaar": "1500",
                                    "(No column name)": "1584,3333333333333"
                                },
                                {
                                    "termekkod": "04080270T",
                                    "megnevezes": "Mappa bőr A5",
                                    "listaar": "1765",
                                    "(No column name)": "1751,6666666666667"
                                },
                                {
                                    "termekkod": "U001-KI501",
                                    "megnevezes": "sál",
                                    "listaar": "1990",
                                    "(No column name)": "1951,6666666666667"
                                },
                                {
                                    "termekkod": "02040002T",
                                    "megnevezes": "irodai tűzőgép",
                                    "listaar": "2100",
                                    "(No column name)": "2663,3333333333335"
                                },
                                {
                                    "termekkod": "L048-PO218",
                                    "megnevezes": "gyermek póló (lány)",
                                    "listaar": "3900",
                                    "(No column name)": "3300"
                                },
                                {
                                    "termekkod": "G048-PO218",
                                    "megnevezes": "gyermek póló (fiú)",
                                    "listaar": "3900",
                                    "(No column name)": "4125"
                                },
                                {
                                    "termekkod": "01080512T",
                                    "megnevezes": "Öntapadó A/4",
                                    "listaar": "4575",
                                    "(No column name)": "4488,333333333333"
                                },
                                {
                                    "termekkod": "G013-NA201",
                                    "megnevezes": "gyermek farmer nadrág (fiú)",
                                    "listaar": "4990",
                                    "(No column name)": "4851,666666666667"
                                },
                                {
                                    "termekkod": "L013-NA201",
                                    "megnevezes": "gyermek farmer nadrág (lány)",
                                    "listaar": "4990",
                                    "(No column name)": "5490"
                                },
                                {
                                    "termekkod": "F021-IN215",
                                    "megnevezes": "férfi ing",
                                    "listaar": "6490",
                                    "(No column name)": "6126,666666666667"
                                },
                                {
                                    "termekkod": "L064-CI401",
                                    "megnevezes": "gyermek szandál (lány)",
                                    "listaar": "6900",
                                    "(No column name)": "6763,333333333333"
                                },
                                {
                                    "termekkod": "G064-CI401",
                                    "megnevezes": "gyermek szandál (fiú)",
                                    "listaar": "6900",
                                    "(No column name)": "7230"
                                },
                                {
                                    "termekkod": "F007-NA201",
                                    "megnevezes": "férfi farmer nadrág",
                                    "listaar": "7890",
                                    "(No column name)": "7563,333333333333"
                                },
                                {
                                    "termekkod": "G073-CI410",
                                    "megnevezes": "gyermek cipő (fiú)",
                                    "listaar": "7900",
                                    "(No column name)": "7896,666666666667"
                                },
                                {
                                    "termekkod": "L073-CI410",
                                    "megnevezes": "gyermek cipő (lány)",
                                    "listaar": "7900",
                                    "(No column name)": "7933,333333333333"
                                },
                                {
                                    "termekkod": "L082-CI419",
                                    "megnevezes": "gyermek csizma (lány)",
                                    "listaar": "8000",
                                    "(No column name)": "7966,666666666667"
                                },
                                {
                                    "termekkod": "G082-CI419",
                                    "megnevezes": "gyermek csizma (fiú)",
                                    "listaar": "8000",
                                    "(No column name)": "8096,666666666667"
                                },
                                {
                                    "termekkod": "N008-NA201",
                                    "megnevezes": "női farmer nadrág",
                                    "listaar": "8290",
                                    "(No column name)": "8396,666666666666"
                                },
                                {
                                    "termekkod": "L001-KB101",
                                    "megnevezes": "gyermek kabát (lány)",
                                    "listaar": "8900",
                                    "(No column name)": "8696,666666666666"
                                },
                                {
                                    "termekkod": "G001-KB101",
                                    "megnevezes": "gyermek kabát (fiú)",
                                    "listaar": "8900",
                                    "(No column name)": "9900"
                                },
                                {
                                    "termekkod": "F013-NA207",
                                    "megnevezes": "férfi szövet nadrág",
                                    "listaar": "11900",
                                    "(No column name)": "11683,333333333334"
                                },
                                {
                                    "termekkod": "02080511T",
                                    "megnevezes": "Oki toner C",
                                    "listaar": "14250",
                                    "(No column name)": "14350"
                                },
                                {
                                    "termekkod": "G041-AL211",
                                    "megnevezes": "fiú ünneplős ruha",
                                    "listaar": "16900",
                                    "(No column name)": "16016,666666666666"
                                },
                                {
                                    "termekkod": "L041-AL211",
                                    "megnevezes": "lány ünneplős ruha",
                                    "listaar": "16900",
                                    "(No column name)": "18600"
                                },
                                {
                                    "termekkod": "F001-KB101",
                                    "megnevezes": "férfi szövet kabát",
                                    "listaar": "22000",
                                    "(No column name)": "20966,666666666668"
                                },
                                {
                                    "termekkod": "N001-KB101",
                                    "megnevezes": "női szövet kabát",
                                    "listaar": "24000",
                                    "(No column name)": "26000"
                                },
                                {
                                    "termekkod": "N029-AL212",
                                    "megnevezes": "női koktélruha",
                                    "listaar": "32000",
                                    "(No column name)": "31666,666666666668"
                                },
                                {
                                    "termekkod": "N035-AL218",
                                    "megnevezes": "kosztüm (rövid)",
                                    "listaar": "39000",
                                    "(No column name)": "39000"
                                },
                                {
                                    "termekkod": "N039-AL222",
                                    "megnevezes": "kosztüm (hosszú)",
                                    "listaar": "46000",
                                    "(No column name)": "42500"
                                }
                            ]
                        },
                        "text/html": [
                            "<table>",
                            "<tr><th>termekkod</th><th>megnevezes</th><th>listaar</th><th>(No column name)</th></tr>",
                            "<tr><td>07030108T</td><td>Filctoll CD író</td><td>0</td><td>1,5</td></tr>",
                            "<tr><td>01090498T</td><td>Műnyomó 300g 17,5*20</td><td>3</td><td>2</td></tr>",
                            "<tr><td>02030042T</td><td>Boríték LC 6</td><td>3</td><td>3</td></tr>",
                            "<tr><td>04030288T</td><td>Műanyag pohár 1 dl-es</td><td>3</td><td>3,3333333333333335</td></tr>",
                            "<tr><td>01090501T</td><td>Kreatív A/4 300g </td><td>4</td><td>3,6666666666666665</td></tr>",
                            "<tr><td>01090517T</td><td>Színes ofszet B/4</td><td>4</td><td>4,333333333333333</td></tr>",
                            "<tr><td>06040089T</td><td>Ellenőrzőborító</td><td>5</td><td>5</td></tr>",
                            "<tr><td>02030040T</td><td>Boríték LA 4 francia</td><td>6</td><td>5,666666666666667</td></tr>",
                            "<tr><td>02030041T</td><td>Boríték LC 5</td><td>6</td><td>6,666666666666667</td></tr>",
                            "<tr><td>02040147T</td><td>Genotherm lefűzhető A/5</td><td>8</td><td>7,333333333333333</td></tr>",
                            "<tr><td>06010377T</td><td>Szögmérő színes</td><td>8</td><td>8</td></tr>",
                            "<tr><td>06080425T</td><td>Miliméterpapír</td><td>8</td><td>8</td></tr>",
                            "<tr><td>06040181T</td><td>Gyűjtőlap A/4</td><td>8</td><td>8</td></tr>",
                            "<tr><td>06040353T</td><td>Sorvezető</td><td>8</td><td>8</td></tr>",
                            "<tr><td>06080118T</td><td>Füzetborító átlátszó A5</td><td>8</td><td>8,333333333333334</td></tr>",
                            "<tr><td>07040388T</td><td>Tintapatron /kék/</td><td>9</td><td>8,666666666666666</td></tr>",
                            "<tr><td>06010305T</td><td>Papírcenti 100 cm-es</td><td>9</td><td>9</td></tr>",
                            "<tr><td>01100072T</td><td>Dipa A/4 keretezett</td><td>9</td><td>9,333333333333334</td></tr>",
                            "<tr><td>01100503T</td><td>Color Copy A4 120 g</td><td>10</td><td>9,666666666666666</td></tr>",
                            "<tr><td>06080117T</td><td>Füzetborító A/4 átlátszó</td><td>10</td><td>10,333333333333334</td></tr>",
                            "<tr><td>07040058T</td><td>Ceruza radíros kínai</td><td>11</td><td>10,666666666666666</td></tr>",
                            "<tr><td>07040390T</td><td>Tintapatron színes</td><td>11</td><td>11</td></tr>",
                            "<tr><td>07080065T</td><td>Ceruza kínai</td><td>11</td><td>11</td></tr>",
                            "<tr><td>01090515T</td><td>Színes A/3 160 gr IQ</td><td>11</td><td>11</td></tr>",
                            "<tr><td>06010376T</td><td>Szögmérő papír</td><td>11</td><td>11</td></tr>",
                            "<tr><td>04030285T</td><td>Mikulás zacskó</td><td>11</td><td>11</td></tr>",
                            "<tr><td>04050269T</td><td>Lufi hullámos</td><td>11</td><td>11,333333333333334</td></tr>",
                            "<tr><td>06040206T</td><td>kék indigó</td><td>12</td><td>12</td></tr>",
                            "<tr><td>01100510T</td><td>Kreatív A/4 120g </td><td>13</td><td>13</td></tr>",
                            "<tr><td>01090500T</td><td>Color Copy A4 200 g</td><td>14</td><td>13,666666666666666</td></tr>",
                            "<tr><td>01100497T</td><td>Color Copy 160 g-os </td><td>14</td><td>14</td></tr>",
                            "<tr><td>04030240T</td><td>Képeslap virágos</td><td>14</td><td>14,333333333333334</td></tr>",
                            "<tr><td>04030236T</td><td>Képeslap karácsonyi WD</td><td>15</td><td>14,666666666666666</td></tr>",
                            "<tr><td>04030289T</td><td>Műanyag pohár 5 cl-es</td><td>15</td><td>15</td></tr>",
                            "<tr><td>04030260T</td><td>Levélpapír A/4</td><td>15</td><td>15</td></tr>",
                            "<tr><td>04050268T</td><td>Lufi formázható</td><td>15</td><td>15</td></tr>",
                            "<tr><td>01090499T</td><td>Color Copy A/4 250 g</td><td>15</td><td>15</td></tr>",
                            "<tr><td>01040307T</td><td>Pausz papír A/4</td><td>15</td><td>15</td></tr>",
                            "<tr><td>02040291T</td><td>Naptárhát kicsi</td><td>15</td><td>15</td></tr>",
                            "<tr><td>02030044T</td><td>Boríték mintás</td><td>15</td><td>15</td></tr>",
                            "<tr><td>02050460T</td><td>Boríték C/4-es</td><td>15</td><td>15</td></tr>",
                            "<tr><td>03010342T</td><td>Ragasztószalag  TIXO</td><td>15</td><td>15</td></tr>",
                            "<tr><td>03050078T</td><td>Díszkötöző szalag metál kicsi</td><td>15</td><td>15</td></tr>",
                            "<tr><td>03050079T</td><td>Díszkötöző szalag vékony</td><td>15</td><td>15</td></tr>",
                            "<tr><td>06040205T</td><td>Indigó Pelikán</td><td>15</td><td>15</td></tr>",
                            "<tr><td>07010141T</td><td>G.toll betét X20</td><td>15</td><td>16</td></tr>",
                            "<tr><td>02050461T</td><td>Boríték B/4-es</td><td>18</td><td>17</td></tr>",
                            "<tr><td>02040176T</td><td>Gyorsfűző dosszié fehér</td><td>18</td><td>18,333333333333332</td></tr>",
                            "<tr><td>02040207T</td><td>Iratgyűjtő ESSELTE ablakos</td><td>19</td><td>18,666666666666668</td></tr>",
                            "<tr><td>02040208T</td><td>Iratgyűjtő fehér</td><td>19</td><td>19</td></tr>",
                            "<tr><td>03080004T</td><td>Ajándék cs. tasak italos, fólia</td><td>19</td><td>19</td></tr>",
                            "<tr><td>05050170T</td><td>Gumigyűrű</td><td>19</td><td>19</td></tr>",
                            "<tr><td>06040326T</td><td>Radír KOH-I-NOR 80</td><td>19</td><td>19</td></tr>",
                            "<tr><td>06080122T</td><td>Füzetborító öntapadós nagy</td><td>19</td><td>19</td></tr>",
                            "<tr><td>06080119T</td><td>Füzetborító mesefig.</td><td>19</td><td>19</td></tr>",
                            "<tr><td>06040383T</td><td>Taffet papír</td><td>19</td><td>19,333333333333332</td></tr>",
                            "<tr><td>06080417T</td><td>Zászló papír</td><td>20</td><td>19,666666666666668</td></tr>",
                            "<tr><td>04110068T</td><td>Címke egyszínű</td><td>20</td><td>20</td></tr>",
                            "<tr><td>05010306T</td><td>Papízsebkendő,10db Szindy</td><td>20</td><td>21</td></tr>",
                            "<tr><td>06010202T</td><td>Hurkapálca 10 db-os</td><td>23</td><td>22</td></tr>",
                            "<tr><td>03080021T</td><td>Ajándék csom. vékony</td><td>23</td><td>23</td></tr>",
                            "<tr><td>04030287T</td><td>Műanyag foszforeszkáló állat</td><td>23</td><td>23</td></tr>",
                            "<tr><td>06080190T</td><td>Hegyező műanyag egyes</td><td>23</td><td>23</td></tr>",
                            "<tr><td>07010140T</td><td>G.toll betét Stabilo</td><td>23</td><td>23</td></tr>",
                            "<tr><td>07040053T</td><td>Ceruza HB radiros</td><td>23</td><td>23</td></tr>",
                            "<tr><td>06080120T</td><td>Füzetborító öntapadó kicsi</td><td>23</td><td>23</td></tr>",
                            "<tr><td>07040218T</td><td>Ironbél HB 0,5</td><td>23</td><td>23</td></tr>",
                            "<tr><td>07080156T</td><td>Golyóstoll kupakos piros</td><td>23</td><td>23,333333333333332</td></tr>",
                            "<tr><td>06080424T</td><td>Füzetborító A/4 mintás</td><td>24</td><td>23,666666666666668</td></tr>",
                            "<tr><td>04050203T</td><td>Hűtőmágnes</td><td>24</td><td>24</td></tr>",
                            "<tr><td>04050035T</td><td>Bérlet tok</td><td>24</td><td>24</td></tr>",
                            "<tr><td>06010375T</td><td>Szögmérő 180 fokos műa.</td><td>24</td><td>24,333333333333332</td></tr>",
                            "<tr><td>01040502T</td><td>Előlap spirálhoz</td><td>25</td><td>24,666666666666668</td></tr>",
                            "<tr><td>01090516T</td><td>Színes karton A4</td><td>25</td><td>25,333333333333332</td></tr>",
                            "<tr><td>01030091T</td><td>Emléklap A/5</td><td>26</td><td>25,666666666666668</td></tr>",
                            "<tr><td>03080006T</td><td>Ajándék cs. tasak mintás kicsi</td><td>26</td><td>26</td></tr>",
                            "<tr><td>03050457T</td><td>Ajándék cs. tasak kicsi</td><td>26</td><td>26</td></tr>",
                            "<tr><td>03050076T</td><td>Díszkötöző szalag metál nagy</td><td>26</td><td>26</td></tr>",
                            "<tr><td>04110066T</td><td>Címke 8 db-os</td><td>26</td><td>26</td></tr>",
                            "<tr><td>07040097T</td><td>Filctoll </td><td>26</td><td>26,666666666666668</td></tr>",
                            "<tr><td>06040347T</td><td>Rajzlap A/4 10db ffam.</td><td>28</td><td>27,666666666666668</td></tr>",
                            "<tr><td>06040212T</td><td>Írólap 10-50 ffam.</td><td>29</td><td>29</td></tr>",
                            "<tr><td>06040247T</td><td>Körzőhegy grafit</td><td>30</td><td>29,666666666666668</td></tr>",
                            "<tr><td>06080189T</td><td>Hegyező műanyag dupla</td><td>30</td><td>30</td></tr>",
                            "<tr><td>07040050T</td><td>Ceruza Cseh</td><td>30</td><td>30</td></tr>",
                            "<tr><td>06080191T</td><td>Hegyező tartályos egyes</td><td>30</td><td>30</td></tr>",
                            "<tr><td>06080412T</td><td>Vonalzó 16 cm-es LIZZY</td><td>30</td><td>30</td></tr>",
                            "<tr><td>06080413T</td><td>Vonalzó 30 cm</td><td>30</td><td>30</td></tr>",
                            "<tr><td>06080414T</td><td>Vonalzó 20 cm-es </td><td>30</td><td>30</td></tr>",
                            "<tr><td>06080415T</td><td>Vonalzó 45 fokos</td><td>30</td><td>30</td></tr>",
                            "<tr><td>07040127T</td><td>G. toll betét mini</td><td>30</td><td>30</td></tr>",
                            "<tr><td>07040129T</td><td>G. toll betét réz</td><td>30</td><td>30</td></tr>",
                            "<tr><td>04030234T</td><td>Képeslap karácsonyi</td><td>30</td><td>30</td></tr>",
                            "<tr><td>06010114T</td><td>Füzet A/5 hangjegy 36/16</td><td>30</td><td>30</td></tr>",
                            "<tr><td>02080069T</td><td>CD tartó tok</td><td>30</td><td>30</td></tr>",
                            "<tr><td>01010110T</td><td>Fotópapír A/4 fényes</td><td>30</td><td>30</td></tr>",
                            "<tr><td>02040177T</td><td>Gyorsfűző műa.</td><td>30</td><td>30</td></tr>",
                            "<tr><td>02040145T</td><td>Gemkapocs 28 mm</td><td>30</td><td>30,333333333333332</td></tr>",
                            "<tr><td>04110067T</td><td>Címke WD. állat</td><td>31</td><td>31,333333333333332</td></tr>",
                            "<tr><td>06010083T</td><td>Ecset Centrum 7,8,9</td><td>33</td><td>32,333333333333336</td></tr>",
                            "<tr><td>06010036T</td><td>Betűtartó sin</td><td>33</td><td>33</td></tr>",
                            "<tr><td>04110227T</td><td>Képeslap  borítékos</td><td>33</td><td>33</td></tr>",
                            "<tr><td>04110229T</td><td>Képeslap &quot;Részvét&quot;</td><td>33</td><td>33</td></tr>",
                            "<tr><td>07080155T</td><td>Golyóstoll</td><td>33</td><td>33</td></tr>",
                            "<tr><td>06080416T</td><td>Vonalzó 60 fokos</td><td>33</td><td>33</td></tr>",
                            "<tr><td>07010138T</td><td>G.toll betét jumbo</td><td>33</td><td>33,333333333333336</td></tr>",
                            "<tr><td>06080116T</td><td>Füzet A5 1-8 osz.-ig</td><td>34</td><td>33,666666666666664</td></tr>",
                            "<tr><td>06040213T</td><td>Írólap 20-50 </td><td>34</td><td>34</td></tr>",
                            "<tr><td>06010113T</td><td>Füzet 31-32 szótár</td><td>34</td><td>34</td></tr>",
                            "<tr><td>02040406T</td><td>Tűzőkapocs 24/6</td><td>34</td><td>34,333333333333336</td></tr>",
                            "<tr><td>02040178T</td><td>Gyorsfűző műa.</td><td>35</td><td>34,666666666666664</td></tr>",
                            "<tr><td>06010367T</td><td>Számolókorong</td><td>35</td><td>35</td></tr>",
                            "<tr><td>07080063T</td><td>Ceruza szorzótáblás</td><td>35</td><td>35,333333333333336</td></tr>",
                            "<tr><td>07050463T</td><td>Ceruzafogó</td><td>36</td><td>35,666666666666664</td></tr>",
                            "<tr><td>07040216T</td><td>Ironbél B 0,5</td><td>36</td><td>36</td></tr>",
                            "<tr><td>06040327T</td><td>Radír Koh-i-nor 40</td><td>36</td><td>36</td></tr>",
                            "<tr><td>06040323T</td><td>Post-it 51×38 100 lapos</td><td>36</td><td>36</td></tr>",
                            "<tr><td>07040060T</td><td>Ceruza stabilo swano</td><td>36</td><td>36</td></tr>",
                            "<tr><td>06010365T</td><td>Számegyenes</td><td>36</td><td>36</td></tr>",
                            "<tr><td>06010201T</td><td>Hőmérő, műa.</td><td>36</td><td>36</td></tr>",
                            "<tr><td>06010086T</td><td>Ecset Nebulo 4-es</td><td>36</td><td>36</td></tr>",
                            "<tr><td>04050255T</td><td>Kulcstartó mesefigurás</td><td>36</td><td>36</td></tr>",
                            "<tr><td>04030237T</td><td>Képeslap kerek</td><td>36</td><td>36,666666666666664</td></tr>",
                            "<tr><td>01080513T</td><td>Selyemfényű karton A/4</td><td>38</td><td>37,666666666666664</td></tr>",
                            "<tr><td>02030043T</td><td>Boríték légp. kicsi</td><td>39</td><td>38,666666666666664</td></tr>",
                            "<tr><td>07040051T</td><td>Ceruza háromszög </td><td>39</td><td>39</td></tr>",
                            "<tr><td>07040047T</td><td>Ceruza 2H-4B</td><td>39</td><td>39</td></tr>",
                            "<tr><td>07040133T</td><td>G.toll betét görbe hegyű</td><td>39</td><td>39,333333333333336</td></tr>",
                            "<tr><td>07080064T</td><td>Ceruza zöld színű</td><td>40</td><td>39,666666666666664</td></tr>",
                            "<tr><td>07040049T</td><td>Ceruza Conté zöld</td><td>40</td><td>40</td></tr>",
                            "<tr><td>07040056T</td><td>Ceruza piros-kék vékony</td><td>40</td><td>40</td></tr>",
                            "<tr><td>06040325T</td><td>Radír gyümölcsös</td><td>40</td><td>40</td></tr>",
                            "<tr><td>01100509T</td><td>Márványos A/4</td><td>40</td><td>40</td></tr>",
                            "<tr><td>02040507T</td><td>Fólia tasakos A4 80 mik.</td><td>40</td><td>40</td></tr>",
                            "<tr><td>03050459T</td><td>Talpas tasak</td><td>40</td><td>40</td></tr>",
                            "<tr><td>06010082T</td><td>Ecset Centrum 10,11,12</td><td>40</td><td>40</td></tr>",
                            "<tr><td>05050465T</td><td>Tapétavágó kés</td><td>40</td><td>40,333333333333336</td></tr>",
                            "<tr><td>07080153T</td><td>Golyóstoll illatos ICO</td><td>41</td><td>41,333333333333336</td></tr>",
                            "<tr><td>06010373T</td><td>Színes papír I.II-IV.V-VIII-ig</td><td>43</td><td>42,666666666666664</td></tr>",
                            "<tr><td>04030241T</td><td>Képeslap virágos +boríték</td><td>44</td><td>43,666666666666664</td></tr>",
                            "<tr><td>03080020T</td><td>Ajándék csom. nagy  </td><td>44</td><td>44</td></tr>",
                            "<tr><td>04030286T</td><td>Műanyag állatok</td><td>44</td><td>44</td></tr>",
                            "<tr><td>04050075T</td><td>Díszdoboz tollnak 2 db-os keskeny</td><td>44</td><td>44</td></tr>",
                            "<tr><td>03050077T</td><td>Diszkötöző szalag arany</td><td>44</td><td>44</td></tr>",
                            "<tr><td>02080450T</td><td>Gémkapocs 28-as színes</td><td>44</td><td>44</td></tr>",
                            "<tr><td>02040508T</td><td>Fólia tasakos A4100 mik.</td><td>44</td><td>44</td></tr>",
                            "<tr><td>02040506T</td><td>Fólia tasakos A4 125 mik.</td><td>44</td><td>44</td></tr>",
                            "<tr><td>02040405T</td><td>Tűzőkapocs 10-es</td><td>44</td><td>44</td></tr>",
                            "<tr><td>02040298T</td><td>Notesz mintás</td><td>44</td><td>44</td></tr>",
                            "<tr><td>02040209T</td><td>Iratsín fehér</td><td>44</td><td>44</td></tr>",
                            "<tr><td>07040134T</td><td>G.toll betét illatos</td><td>44</td><td>44</td></tr>",
                            "<tr><td>07080161T</td><td>Golyóstoll kétszínű</td><td>44</td><td>44</td></tr>",
                            "<tr><td>06040328T</td><td>Radír Maped</td><td>44</td><td>44</td></tr>",
                            "<tr><td>06040329T</td><td>Radír stabilo</td><td>44</td><td>44</td></tr>",
                            "<tr><td>07040061T</td><td>Ceruza stabilo opera</td><td>44</td><td>44,333333333333336</td></tr>",
                            "<tr><td>02080514T</td><td>Spirál 1/4 </td><td>45</td><td>44,666666666666664</td></tr>",
                            "<tr><td>06010374T</td><td>Szorzótábla műanyag</td><td>45</td><td>45,333333333333336</td></tr>",
                            "<tr><td>05050045T</td><td>Celofán</td><td>46</td><td>45,666666666666664</td></tr>",
                            "<tr><td>07040102T</td><td>Filctoll supra fine</td><td>46</td><td>46,666666666666664</td></tr>",
                            "<tr><td>07010137T</td><td>G.toll betét PAX tip.</td><td>48</td><td>47,333333333333336</td></tr>",
                            "<tr><td>06040386T</td><td>Tempera szóló színes</td><td>48</td><td>48</td></tr>",
                            "<tr><td>06010115T</td><td>Füzet A/5, mintás</td><td>48</td><td>48</td></tr>",
                            "<tr><td>04050224T</td><td>Jelzőkréta</td><td>48</td><td>48</td></tr>",
                            "<tr><td>04030239T</td><td>Képeslap stancolt szív</td><td>48</td><td>48</td></tr>",
                            "<tr><td>02040146T</td><td>Gemkapocs ICO</td><td>48</td><td>48</td></tr>",
                            "<tr><td>01020299T</td><td>Oklevél A/4 egyszínű</td><td>48</td><td>48,333333333333336</td></tr>",
                            "<tr><td>04110274T</td><td>Matrica autóra H</td><td>49</td><td>48,666666666666664</td></tr>",
                            "<tr><td>04110275T</td><td>Matrica motoros kicsi</td><td>49</td><td>49</td></tr>",
                            "<tr><td>06040331T</td><td>Radír Tikky 40 </td><td>49</td><td>49,333333333333336</td></tr>",
                            "<tr><td>06040330T</td><td>Radír Tikky 30 </td><td>50</td><td>50</td></tr>",
                            "<tr><td>07080150T</td><td>Golyóstoll</td><td>51</td><td>50,666666666666664</td></tr>",
                            "<tr><td>04110232T</td><td>Képeslap humoros kaparós</td><td>51</td><td>51</td></tr>",
                            "<tr><td>06040088T</td><td>Egészségügyi könyv</td><td>51</td><td>51</td></tr>",
                            "<tr><td>02080109T</td><td>Floppy lemez</td><td>51</td><td>51,666666666666664</td></tr>",
                            "<tr><td>07030103T</td><td>Filctoll TINTEN PEN</td><td>53</td><td>52,333333333333336</td></tr>",
                            "<tr><td>07040052T</td><td>Ceruza 2H-3B Koh-i-nor</td><td>53</td><td>53,666666666666664</td></tr>",
                            "<tr><td>07040054T</td><td>Ceruza kártyás</td><td>55</td><td>54,333333333333336</td></tr>",
                            "<tr><td>07040048T</td><td>Ceruza arany, ezüst</td><td>55</td><td>55</td></tr>",
                            "<tr><td>07040132T</td><td>G.toll betét csavaros</td><td>55</td><td>55</td></tr>",
                            "<tr><td>07040128T</td><td>G. toll betét mini fém</td><td>55</td><td>55</td></tr>",
                            "<tr><td>02080433T</td><td>Ragasztószalag 19 mm-es</td><td>55</td><td>55</td></tr>",
                            "<tr><td>01020300T</td><td>Oklevél A/4 színes</td><td>55</td><td>55</td></tr>",
                            "<tr><td>04110230T</td><td>Képeslap humoros </td><td>55</td><td>55</td></tr>",
                            "<tr><td>04110273T</td><td>Matrica állatos</td><td>55</td><td>55,333333333333336</td></tr>",
                            "<tr><td>04110282T</td><td>Matrica WD kicsi</td><td>56</td><td>55,666666666666664</td></tr>",
                            "<tr><td>04030262T</td><td>Levélpapír sima</td><td>56</td><td>56</td></tr>",
                            "<tr><td>03080019T</td><td>Ajándék csom. Krepp</td><td>56</td><td>56</td></tr>",
                            "<tr><td>02040296T</td><td>Notesz A/6 College</td><td>56</td><td>56,666666666666664</td></tr>",
                            "<tr><td>07040059T</td><td>Ceruza smaragd</td><td>58</td><td>57,333333333333336</td></tr>",
                            "<tr><td>06080411T</td><td>Vonalzó 15 cm-es ESSELTE</td><td>58</td><td>58</td></tr>",
                            "<tr><td>06040384T</td><td>Technika cs. I-II-III-IV</td><td>58</td><td>58,333333333333336</td></tr>",
                            "<tr><td>07040055T</td><td>Ceruza piros-kék</td><td>59</td><td>58,666666666666664</td></tr>",
                            "<tr><td>07040217T</td><td>Ironbél H 0,5</td><td>59</td><td>59</td></tr>",
                            "<tr><td>07080313T</td><td>Pixiron Centrum</td><td>59</td><td>59</td></tr>",
                            "<tr><td>07080317T</td><td>Pixiron mini </td><td>59</td><td>59</td></tr>",
                            "<tr><td>01010304T</td><td>Öntapadós hologramos papír A/4</td><td>59</td><td>59</td></tr>",
                            "<tr><td>01030092T</td><td>Esküvői meghívó</td><td>59</td><td>59</td></tr>",
                            "<tr><td>02040214T</td><td>Iromány fedél feles</td><td>59</td><td>59</td></tr>",
                            "<tr><td>04030238T</td><td>Képeslap stancolt</td><td>59</td><td>59,333333333333336</td></tr>",
                            "<tr><td>06010084T</td><td>Ecset Deák 2-es</td><td>60</td><td>60</td></tr>",
                            "<tr><td>06010368T</td><td>Számolópálca</td><td>61</td><td>60,666666666666664</td></tr>",
                            "<tr><td>04050073T</td><td>Díszdoboz kar.</td><td>61</td><td>61,666666666666664</td></tr>",
                            "<tr><td>05040349T</td><td>Rajzszeg</td><td>63</td><td>62,333333333333336</td></tr>",
                            "<tr><td>02040148T</td><td>Genotherm lefűzhető A4 10db-os</td><td>63</td><td>63</td></tr>",
                            "<tr><td>03010344T</td><td>Ragasztószalag nagy 12 mm</td><td>63</td><td>63</td></tr>",
                            "<tr><td>07080159T</td><td>Golyóstoll Pax tip.</td><td>63</td><td>63</td></tr>",
                            "<tr><td>06080429T</td><td>Meghívó ballagási</td><td>63</td><td>63,333333333333336</td></tr>",
                            "<tr><td>03080013T</td><td>Ajándék csom. 50x70 húsvéti</td><td>64</td><td>64</td></tr>",
                            "<tr><td>06010085T</td><td>Ecset Lizzy 10-es</td><td>65</td><td>64,66666666666667</td></tr>",
                            "<tr><td>04050220T</td><td>Játék autó</td><td>65</td><td>65,33333333333333</td></tr>",
                            "<tr><td>04050074T</td><td>Díszdoboz tollnak 2 db-os</td><td>66</td><td>65,66666666666667</td></tr>",
                            "<tr><td>04050187T</td><td>Hajgumi macis</td><td>66</td><td>66</td></tr>",
                            "<tr><td>02080436T</td><td>Irattartó müa. boríték A/4</td><td>66</td><td>66</td></tr>",
                            "<tr><td>07080419T</td><td>Zselés toll MICRO</td><td>66</td><td>66,66666666666667</td></tr>",
                            "<tr><td>06010111T</td><td>Füzet  A/4 </td><td>68</td><td>68</td></tr>",
                            "<tr><td>06080192T</td><td>Hegyző fém 1 lyukú</td><td>70</td><td>70,33333333333333</td></tr>",
                            "<tr><td>06050249T</td><td>Krepp papír</td><td>73</td><td>72</td></tr>",
                            "<tr><td>05050046T</td><td>Celofán 50 db-os</td><td>73</td><td>73</td></tr>",
                            "<tr><td>04110258T</td><td>Lampion</td><td>73</td><td>73</td></tr>",
                            "<tr><td>04050223T</td><td>Játékautó mini</td><td>73</td><td>73</td></tr>",
                            "<tr><td>04030235T</td><td>Képeslap karácsonyi borítékos</td><td>73</td><td>73</td></tr>",
                            "<tr><td>01100070T</td><td>Dekorációs karton</td><td>73</td><td>73,33333333333333</td></tr>",
                            "<tr><td>04030264T</td><td>Levélpapír szett </td><td>74</td><td>73,66666666666667</td></tr>",
                            "<tr><td>06080332T</td><td>Radírtoll betét ER100</td><td>74</td><td>74</td></tr>",
                            "<tr><td>06080430T</td><td>Öntapadős betűk</td><td>74</td><td>74</td></tr>",
                            "<tr><td>07010244T</td><td>Kerámiatoll</td><td>74</td><td>74</td></tr>",
                            "<tr><td>07040215T</td><td>Ironbél  2B ICO</td><td>74</td><td>74,66666666666667</td></tr>",
                            "<tr><td>07030104T</td><td>Filctoll vastag ARTIP</td><td>76</td><td>76</td></tr>",
                            "<tr><td>07010143T</td><td>G.toll betét Zebra H-0,7</td><td>78</td><td>77,33333333333333</td></tr>",
                            "<tr><td>06040380T</td><td>Szövegkiemelő</td><td>78</td><td>78</td></tr>",
                            "<tr><td>07040219T</td><td>Ironbél HI-POLIMER HB 0,7</td><td>78</td><td>78</td></tr>",
                            "<tr><td>06010112T</td><td>Füzet  A4 mintás</td><td>78</td><td>78</td></tr>",
                            "<tr><td>02040292T</td><td>Naptárhát nagy</td><td>78</td><td>78,33333333333333</td></tr>",
                            "<tr><td>06040087T</td><td>Ecset Nebuló 10-es</td><td>79</td><td>79</td></tr>",
                            "<tr><td>07040130T</td><td>G. toll betét S7S</td><td>80</td><td>79,66666666666667</td></tr>",
                            "<tr><td>07040391T</td><td>Toll Centropen roller</td><td>80</td><td>80,33333333333333</td></tr>",
                            "<tr><td>07080466T</td><td>Golyóstoll Stabiló 308</td><td>81</td><td>80,66666666666667</td></tr>",
                            "<tr><td>06080336T</td><td>Ragasztó 8 g Pritt</td><td>81</td><td>81</td></tr>",
                            "<tr><td>04110231T</td><td>Képeslap humoros borítékos</td><td>81</td><td>81</td></tr>",
                            "<tr><td>04040387T</td><td>Tenisz labda</td><td>81</td><td>81</td></tr>",
                            "<tr><td>02040197T</td><td>Hibajavító lap </td><td>81</td><td>81</td></tr>",
                            "<tr><td>02040206T</td><td>Írásvetítő fólia</td><td>81</td><td>81</td></tr>",
                            "<tr><td>03050080T</td><td>Diszkötöző széles szalag</td><td>81</td><td>81</td></tr>",
                            "<tr><td>03080014T</td><td>Ajándék csom. 70x50 metál</td><td>81</td><td>81</td></tr>",
                            "<tr><td>02040308T</td><td>Pénztárgépsz. 2 pl. nem öníró</td><td>81</td><td>82,33333333333333</td></tr>",
                            "<tr><td>07040131T</td><td>G. toll betét UNI lachnok Fine SA-7C</td><td>85</td><td>85</td></tr>",
                            "<tr><td>06080339T</td><td>Ragasztó kores</td><td>89</td><td>87,66666666666667</td></tr>",
                            "<tr><td>07010144T</td><td>G.toll betét Zebra K-0,7</td><td>89</td><td>89</td></tr>",
                            "<tr><td>06040357T</td><td>Sp.Füzet A/5 70-es</td><td>89</td><td>89</td></tr>",
                            "<tr><td>06040378T</td><td>Szövegkiemelő vékony</td><td>89</td><td>89</td></tr>",
                            "<tr><td>06040324T</td><td>Post-it 75×75 100 lapos</td><td>89</td><td>89</td></tr>",
                            "<tr><td>02040295T</td><td>Notesz A/5 sima spirál</td><td>89</td><td>89</td></tr>",
                            "<tr><td>02080456T</td><td>Genoterm HERLITZ 10-es</td><td>89</td><td>89</td></tr>",
                            "<tr><td>02040290T</td><td>Naptár 24-es</td><td>89</td><td>89</td></tr>",
                            "<tr><td>02040210T</td><td>Iratsín kék</td><td>89</td><td>89</td></tr>",
                            "<tr><td>01100071T</td><td>Dekorációs karton arany, ezüst</td><td>89</td><td>89</td></tr>",
                            "<tr><td>04050022T</td><td>Álarc</td><td>89</td><td>89</td></tr>",
                            "<tr><td>04030263T</td><td>Levélpapír szett</td><td>89</td><td>89</td></tr>",
                            "<tr><td>04110233T</td><td>Képeslap humoros</td><td>89</td><td>89</td></tr>",
                            "<tr><td>05010370T</td><td>Szilvia csomagoló</td><td>89</td><td>89</td></tr>",
                            "<tr><td>05050346T</td><td>Rágógumi Orbit</td><td>89</td><td>89,66666666666667</td></tr>",
                            "<tr><td>07010139T</td><td>G.toll betét S7L </td><td>91</td><td>91</td></tr>",
                            "<tr><td>06040379T</td><td>Szövegkiemelő </td><td>93</td><td>92,33333333333333</td></tr>",
                            "<tr><td>07080157T</td><td>Golyóstoll Montex Hytone</td><td>93</td><td>93</td></tr>",
                            "<tr><td>04110277T</td><td>Matrica Stickers szíves</td><td>93</td><td>93</td></tr>",
                            "<tr><td>02040309T</td><td>Pénztárgépszalag 2pl SC 57.5/60</td><td>93</td><td>93,33333333333333</td></tr>",
                            "<tr><td>07080315T</td><td>Pixiron Handy műanyag</td><td>94</td><td>93,66666666666667</td></tr>",
                            "<tr><td>07040169T</td><td>Golyóstoll Zodiák</td><td>94</td><td>94,33333333333333</td></tr>",
                            "<tr><td>07080418T</td><td>Zselés toll </td><td>95</td><td>94,66666666666667</td></tr>",
                            "<tr><td>06040183T</td><td>Gyűrűskönyv bet. A/5</td><td>95</td><td>95,33333333333333</td></tr>",
                            "<tr><td>06040385T</td><td>Tempera szóló ezüst</td><td>96</td><td>96,66666666666667</td></tr>",
                            "<tr><td>07010371T</td><td>Színes ceruza 6-os</td><td>99</td><td>98,66666666666667</td></tr>",
                            "<tr><td>06080338T</td><td>Ragasztó kenőfejes Nebuló</td><td>101</td><td>100,33333333333333</td></tr>",
                            "<tr><td>07080162T</td><td>Golyóstoll Stabilo piros</td><td>101</td><td>101,66666666666667</td></tr>",
                            "<tr><td>07030106T</td><td>Filctoll, alkoholosOHP F-M-C</td><td>103</td><td>102,33333333333333</td></tr>",
                            "<tr><td>06040381T</td><td>Szövegkiemelő Videotip</td><td>103</td><td>103</td></tr>",
                            "<tr><td>06040352T</td><td>Rovatolt papír 20 íves</td><td>103</td><td>103</td></tr>",
                            "<tr><td>02040294T</td><td>Notesz A/5 sima</td><td>103</td><td>103</td></tr>",
                            "<tr><td>02040297T</td><td>Notesz sima spirál College</td><td>103</td><td>103</td></tr>",
                            "<tr><td>02080449T</td><td>Térképtű színes</td><td>103</td><td>103</td></tr>",
                            "<tr><td>02080451T</td><td>Gémkapocs 50-es</td><td>103</td><td>103</td></tr>",
                            "<tr><td>03080008T</td><td>Ajándék cs. tasak kicsi</td><td>103</td><td>103</td></tr>",
                            "<tr><td>02020245T</td><td>Kiadási pénztárbizonylat 2×25</td><td>103</td><td>103</td></tr>",
                            "<tr><td>05040310T</td><td>Pill.ragasztó</td><td>103</td><td>103</td></tr>",
                            "<tr><td>04030265T</td><td>Levélpapír szett natur, mintás</td><td>103</td><td>103</td></tr>",
                            "<tr><td>04050253T</td><td>Kulcstartó figurás</td><td>103</td><td>104</td></tr>",
                            "<tr><td>03080031T</td><td>Ajándék cs. húsvéti</td><td>106</td><td>105</td></tr>",
                            "<tr><td>05040348T</td><td>Rajzszeg színes</td><td>106</td><td>106</td></tr>",
                            "<tr><td>02010028T</td><td>Árazószalag </td><td>106</td><td>106</td></tr>",
                            "<tr><td>02080226T</td><td>Kapocskiszedő</td><td>106</td><td>106</td></tr>",
                            "<tr><td>07040057T</td><td>Ceruza Progresso</td><td>106</td><td>107</td></tr>",
                            "<tr><td>04110276T</td><td>Matrica Stickers nagy állatos</td><td>109</td><td>108,33333333333333</td></tr>",
                            "<tr><td>04050171T</td><td>Gumilabda közepes</td><td>110</td><td>109,66666666666667</td></tr>",
                            "<tr><td>03080016T</td><td>házt.csom.  5 ív</td><td>110</td><td>110</td></tr>",
                            "<tr><td>02040149T</td><td>Genotherm A4 10db-os</td><td>110</td><td>110</td></tr>",
                            "<tr><td>06080335T</td><td>Ragasztó 9 g Pax</td><td>110</td><td>110</td></tr>",
                            "<tr><td>07080468T</td><td>Golyóstoll háromfunkciós</td><td>110</td><td>111,33333333333333</td></tr>",
                            "<tr><td>07030105T</td><td>Filctoll, alkoholos Centropen</td><td>114</td><td>112,66666666666667</td></tr>",
                            "<tr><td>03080439T</td><td>Italtartó doboz</td><td>114</td><td>114,33333333333333</td></tr>",
                            "<tr><td>04050250T</td><td>Kulcstartó autós</td><td>115</td><td>114,66666666666667</td></tr>",
                            "<tr><td>02020029T</td><td>Átírótömb A/6</td><td>115</td><td>116</td></tr>",
                            "<tr><td>04030242T</td><td>Képeslap WD +boríték</td><td>118</td><td>117</td></tr>",
                            "<tr><td>05010026T</td><td>Alufólia 10 m-es</td><td>118</td><td>118</td></tr>",
                            "<tr><td>05110360T</td><td>Szalvéta egyszínű</td><td>118</td><td>118,33333333333333</td></tr>",
                            "<tr><td>06080333T</td><td>Radírtoll betét vastag</td><td>119</td><td>119,33333333333333</td></tr>",
                            "<tr><td>06080441T</td><td>Gyurmakés</td><td>121</td><td>120,33333333333333</td></tr>",
                            "<tr><td>03080018T</td><td>Ajándék csom. gyűrt 50x70 </td><td>121</td><td>121,66666666666667</td></tr>",
                            "<tr><td>07010136T</td><td>G.toll betét PAX</td><td>123</td><td>122,66666666666667</td></tr>",
                            "<tr><td>04050252T</td><td>Kulcstartó Csőrikés</td><td>124</td><td>124</td></tr>",
                            "<tr><td>03080012T</td><td>Ajándék csom. 200x70</td><td>125</td><td>124,66666666666667</td></tr>",
                            "<tr><td>06040399T</td><td>Tombola tömb</td><td>125</td><td>125</td></tr>",
                            "<tr><td>07080312T</td><td>Pixiron 0,7 Handy</td><td>125</td><td>126,33333333333333</td></tr>",
                            "<tr><td>04050256T</td><td>Kulcstartó nagyítós</td><td>129</td><td>127,66666666666667</td></tr>",
                            "<tr><td>04050267T</td><td>Logikai készlet</td><td>129</td><td>129</td></tr>",
                            "<tr><td>05010369T</td><td>Szemetes zsák 60 literes</td><td>129</td><td>129,66666666666666</td></tr>",
                            "<tr><td>04050225T</td><td>Kártya mini Magyar</td><td>131</td><td>131</td></tr>",
                            "<tr><td>04050221T</td><td>Játékautó Blisteres</td><td>133</td><td>132,33333333333334</td></tr>",
                            "<tr><td>05110363T</td><td>Szalvéta dekor</td><td>133</td><td>133</td></tr>",
                            "<tr><td>02080081T</td><td>Dvd</td><td>133</td><td>133</td></tr>",
                            "<tr><td>02020032T</td><td>Beírókönyv A5 </td><td>133</td><td>133</td></tr>",
                            "<tr><td>02040198T</td><td>Hibajavító roller 5 mm</td><td>133</td><td>133</td></tr>",
                            "<tr><td>02040025T</td><td>Álló irattartó karton</td><td>133</td><td>133</td></tr>",
                            "<tr><td>07080314T</td><td>Pixiron Handy fém</td><td>133</td><td>133</td></tr>",
                            "<tr><td>06050301T</td><td>Olló gyerek </td><td>133</td><td>133</td></tr>",
                            "<tr><td>06080334T</td><td>Ragasztó szalag KORES </td><td>133</td><td>135,33333333333334</td></tr>",
                            "<tr><td>07040101T</td><td>Filctoll permanent vastag</td><td>140</td><td>137,66666666666666</td></tr>",
                            "<tr><td>07050464T</td><td>Szövegkiemelő Staedtler</td><td>140</td><td>140</td></tr>",
                            "<tr><td>04030261T</td><td>Levélpapír állatos</td><td>140</td><td>141,33333333333334</td></tr>",
                            "<tr><td>04050023T</td><td>Álarc fejdísz</td><td>144</td><td>142,66666666666666</td></tr>",
                            "<tr><td>04050024T</td><td>Álarc szemüveg</td><td>144</td><td>144</td></tr>",
                            "<tr><td>05080340T</td><td>Ragasztó, Technokol 35g kék</td><td>144</td><td>144</td></tr>",
                            "<tr><td>05080341T</td><td>Ragasztó, Technokol 35g piros</td><td>144</td><td>144</td></tr>",
                            "<tr><td>02020037T</td><td>Bevételi pénztárbizonylat 3×25</td><td>144</td><td>144</td></tr>",
                            "<tr><td>06040356T</td><td>Sp.Füzet A/4  70es</td><td>144</td><td>144,66666666666666</td></tr>",
                            "<tr><td>07080062T</td><td>Ceruza szén</td><td>146</td><td>146</td></tr>",
                            "<tr><td>06040174T</td><td>Gumis mappa </td><td>148</td><td>147,33333333333334</td></tr>",
                            "<tr><td>03080011T</td><td>Ajándék cs. tasak közepes</td><td>148</td><td>148</td></tr>",
                            "<tr><td>03080009T</td><td>Ajándék csom. 100x70 metál</td><td>148</td><td>148</td></tr>",
                            "<tr><td>03080017T</td><td>iskolai csomagoló papír</td><td>148</td><td>148</td></tr>",
                            "<tr><td>03050458T</td><td>Ajándék cs. 2×100×70</td><td>148</td><td>148</td></tr>",
                            "<tr><td>04110280T</td><td>Matrica tetoválós kicsi</td><td>148</td><td>148</td></tr>",
                            "<tr><td>04050251T</td><td>Kulcstartó billiárd golyós</td><td>148</td><td>150,33333333333334</td></tr>",
                            "<tr><td>04050254T</td><td>Kulcstartó intarziás állatos</td><td>155</td><td>152,66666666666666</td></tr>",
                            "<tr><td>04110283T</td><td>Meghívó állatos</td><td>155</td><td>155</td></tr>",
                            "<tr><td>06040355T</td><td>Sp.Füzet A/4 70-as</td><td>155</td><td>157</td></tr>",
                            "<tr><td>06040246T</td><td>Körző</td><td>161</td><td>159</td></tr>",
                            "<tr><td>06050303T</td><td>Olló, iskolai</td><td>161</td><td>161</td></tr>",
                            "<tr><td>07010372T</td><td>Színes ceruza 12 szín</td><td>161</td><td>161</td></tr>",
                            "<tr><td>06080259T</td><td>Leckefüzet</td><td>161</td><td>161</td></tr>",
                            "<tr><td>06080440T</td><td>Gyurma 12 szinű</td><td>161</td><td>161</td></tr>",
                            "<tr><td>06080426T</td><td>Szótárfüzet Lizzy</td><td>161</td><td>161</td></tr>",
                            "<tr><td>06080427T</td><td>Ablakkréta</td><td>161</td><td>161</td></tr>",
                            "<tr><td>07080420T</td><td>Zselés toll Muhnwa</td><td>161</td><td>161</td></tr>",
                            "<tr><td>04110278T</td><td>Matrica Test ékszer tattoo</td><td>161</td><td>161</td></tr>",
                            "<tr><td>05110364T</td><td>Szalvéta kicsi virágos</td><td>161</td><td>161</td></tr>",
                            "<tr><td>04050321T</td><td>Plüss kicsi</td><td>161</td><td>161</td></tr>",
                            "<tr><td>01080093T</td><td>Fax papír 15 m</td><td>161</td><td>162,33333333333334</td></tr>",
                            "<tr><td>04050222T</td><td>Játékautó elemes</td><td>165</td><td>164</td></tr>",
                            "<tr><td>03010345T</td><td>Ragasztószalag széles barna</td><td>166</td><td>166,33333333333334</td></tr>",
                            "<tr><td>04110279T</td><td>Matrica tetoválás</td><td>168</td><td>167,66666666666666</td></tr>",
                            "<tr><td>04110284T</td><td>Meghívó borítékos</td><td>169</td><td>168,66666666666666</td></tr>",
                            "<tr><td>04050204T</td><td>Hűtőmágnes WD</td><td>169</td><td>169</td></tr>",
                            "<tr><td>04030266T</td><td>Levélpapír szett virágos</td><td>169</td><td>169</td></tr>",
                            "<tr><td>03080015T</td><td>Ajándék csom. gyűrt</td><td>169</td><td>170,33333333333334</td></tr>",
                            "<tr><td>04050320T</td><td>Plüss  QX állatok</td><td>173</td><td>172,33333333333334</td></tr>",
                            "<tr><td>04110281T</td><td>Matrica világítós </td><td>175</td><td>174,33333333333334</td></tr>",
                            "<tr><td>05110361T</td><td>Szalvéta Goma húsvéti</td><td>175</td><td>175,33333333333334</td></tr>",
                            "<tr><td>05110359T</td><td>Szalvéta </td><td>176</td><td>175,66666666666666</td></tr>",
                            "<tr><td>06080410T</td><td>Vízfesték 12db-os kínai</td><td>176</td><td>176</td></tr>",
                            "<tr><td>06050302T</td><td>Olló Tagit 18 cm-es</td><td>176</td><td>177,33333333333334</td></tr>",
                            "<tr><td>06040179T</td><td>Gyurma színes 200 g-os</td><td>180</td><td>178,66666666666666</td></tr>",
                            "<tr><td>06080409T</td><td>Vízfesték 12 színű kerek</td><td>180</td><td>180</td></tr>",
                            "<tr><td>06080193T</td><td>Hegyző fém 2 lyukú</td><td>180</td><td>180</td></tr>",
                            "<tr><td>06080428T</td><td>Ecsetkészlet</td><td>180</td><td>181</td></tr>",
                            "<tr><td>04110362T</td><td>Szalvéta gyűjtőknek</td><td>183</td><td>182,33333333333334</td></tr>",
                            "<tr><td>04110228T</td><td>Képeslap &quot;Nászajándék&quot;</td><td>184</td><td>183,66666666666666</td></tr>",
                            "<tr><td>02080435T</td><td>Mappa bemutató</td><td>184</td><td>184</td></tr>",
                            "<tr><td>06040182T</td><td>Gyűrűskönyv bet. A/4</td><td>184</td><td>184,33333333333334</td></tr>",
                            "<tr><td>03080003T</td><td>Ajándék cs. tasak italos</td><td>185</td><td>184,66666666666666</td></tr>",
                            "<tr><td>02040195T</td><td>Hibajavító ecsetes Aqua</td><td>185</td><td>185</td></tr>",
                            "<tr><td>03080437T</td><td>Ajándék csomagoló tasak</td><td>185</td><td>186</td></tr>",
                            "<tr><td>07080470T</td><td>Golyóstoll háromszög</td><td>188</td><td>187,33333333333334</td></tr>",
                            "<tr><td>07040168T</td><td>Golyóstoll Zebra new hard</td><td>189</td><td>189</td></tr>",
                            "<tr><td>08070482T</td><td>Fizika munkafüzet 14 év.</td><td>190</td><td>190</td></tr>",
                            "<tr><td>06040175T</td><td>Gumis mappa Köbüki</td><td>191</td><td>192</td></tr>",
                            "<tr><td>06080121T</td><td>Füzetborító öntapadó tekercses</td><td>195</td><td>193,66666666666666</td></tr>",
                            "<tr><td>04030243T</td><td>Képkirakó Dirib-darab</td><td>195</td><td>195</td></tr>",
                            "<tr><td>06040172T</td><td>Gumis mappa csomagolt</td><td>195</td><td>196</td></tr>",
                            "<tr><td>08070481T</td><td>Fizika munkafüzet 13 év.</td><td>198</td><td>198,66666666666666</td></tr>",
                            "<tr><td>06080126T</td><td>Füzettartó A/5  </td><td>203</td><td>201,33333333333334</td></tr>",
                            "<tr><td>06040351T</td><td>Regiszteres füzet A5 Hightech</td><td>203</td><td>204</td></tr>",
                            "<tr><td>06040354T</td><td>Sp.Füzet A/4  perforált, lyuk.</td><td>206</td><td>205</td></tr>",
                            "<tr><td>03080007T</td><td>Ajándék cs. tasak mintás nagy</td><td>206</td><td>206</td></tr>",
                            "<tr><td>03080010T</td><td>Ajándék csom. 150x70</td><td>206</td><td>207,33333333333334</td></tr>",
                            "<tr><td>02080434T</td><td>Mappa müa A/4</td><td>210</td><td>208,66666666666666</td></tr>",
                            "<tr><td>06080408T</td><td>Vízfesték 12 db-os </td><td>210</td><td>210,33333333333334</td></tr>",
                            "<tr><td>06040173T</td><td>Gumis mappa fóliázott állatos</td><td>211</td><td>211,66666666666666</td></tr>",
                            "<tr><td>05010027T</td><td>Alufólia 20 m-es</td><td>214</td><td>213</td></tr>",
                            "<tr><td>03080438T</td><td>Ajándék csomagoló tasak lézeres</td><td>214</td><td>214</td></tr>",
                            "<tr><td>02080431T</td><td>Álló irattartó</td><td>214</td><td>214</td></tr>",
                            "<tr><td>08070491T</td><td>Szám.tech. kicsiknek</td><td>214</td><td>215,33333333333334</td></tr>",
                            "<tr><td>07040165T</td><td>Golyóstoll UNI laknock</td><td>218</td><td>216,66666666666666</td></tr>",
                            "<tr><td>06040184T</td><td>Gyűrűskönyv betét A/5</td><td>218</td><td>218,66666666666666</td></tr>",
                            "<tr><td>03080030T</td><td>Ajándék cs. húsvéti 200x70</td><td>220</td><td>222</td></tr>",
                            "<tr><td>06040180T</td><td>Gyurma színes natúr</td><td>228</td><td>225,33333333333334</td></tr>",
                            "<tr><td>06080423T</td><td>Beíró A/5 kockás</td><td>228</td><td>228</td></tr>",
                            "<tr><td>07010142T</td><td>G.toll betét Zebra F-0.7</td><td>228</td><td>228</td></tr>",
                            "<tr><td>07080421T</td><td>Zseléstoll Lizzy Card</td><td>228</td><td>228,66666666666666</td></tr>",
                            "<tr><td>07080163T</td><td>Golyóstoll UNI átlátszó</td><td>230</td><td>229,66666666666666</td></tr>",
                            "<tr><td>07080164T</td><td>Golyóstoll UNI gumis</td><td>231</td><td>232</td></tr>",
                            "<tr><td>07080318T</td><td>Pixiron Penac</td><td>235</td><td>235</td></tr>",
                            "<tr><td>07080160T</td><td>Golyóstoll penac</td><td>239</td><td>238</td></tr>",
                            "<tr><td>G029-FE307</td><td>fiú zokni</td><td>240</td><td>239,66666666666666</td></tr>",
                            "<tr><td>L029-FE307</td><td>lány zokni</td><td>240</td><td>241</td></tr>",
                            "<tr><td>06040248T</td><td>Körző maped</td><td>243</td><td>242</td></tr>",
                            "<tr><td>02040211T</td><td>Iratrendező ESSELTE</td><td>243</td><td>245</td></tr>",
                            "<tr><td>06080407T</td><td>Vízfesték  12 színű nagy</td><td>249</td><td>249,33333333333334</td></tr>",
                            "<tr><td>06040350T</td><td>Regiszteres füzet A4</td><td>256</td><td>254,66666666666666</td></tr>",
                            "<tr><td>02080432T</td><td>Tokos iratrendező</td><td>259</td><td>259,6666666666667</td></tr>",
                            "<tr><td>04080271T</td><td>Mappa PVC villámzáras</td><td>264</td><td>265,3333333333333</td></tr>",
                            "<tr><td>02040196T</td><td>Hibajavító készlet Blanco</td><td>273</td><td>270</td></tr>",
                            "<tr><td>07080467T</td><td>Golyóstoll kétfunkciós ICO</td><td>273</td><td>274</td></tr>",
                            "<tr><td>07080311T</td><td>Pixiron  UNI</td><td>276</td><td>275</td></tr>",
                            "<tr><td>07030107T</td><td>Filctoll, textil Edding 4500</td><td>276</td><td>276,6666666666667</td></tr>",
                            "<tr><td>07040098T</td><td>Filctoll document pen</td><td>278</td><td>277,3333333333333</td></tr>",
                            "<tr><td>02040200T</td><td>Hibajavító Kores mini pen</td><td>278</td><td>280,6666666666667</td></tr>",
                            "<tr><td>02040199T</td><td>Hibajavító roller Pax</td><td>286</td><td>283,3333333333333</td></tr>",
                            "<tr><td>02040402T</td><td>Tűzőgép Boxer </td><td>286</td><td>287,3333333333333</td></tr>",
                            "<tr><td>03080005T</td><td>Ajándék cs. tasak virágos nagy</td><td>290</td><td>289</td></tr>",
                            "<tr><td>08070485T</td><td>Jól felkészültem-e - Fizika</td><td>291</td><td>291,3333333333333</td></tr>",
                            "<tr><td>08070476T</td><td>Anyanyelvi gyakorló 2</td><td>293</td><td>292,3333333333333</td></tr>",
                            "<tr><td>06080337T</td><td>Ragasztó Gyurma</td><td>293</td><td>293,3333333333333</td></tr>",
                            "<tr><td>07080471T</td><td>Golyóstoll levélbontós</td><td>294</td><td>294,6666666666667</td></tr>",
                            "<tr><td>02060034T</td><td>Bélyegzőfesték </td><td>297</td><td>296,6666666666667</td></tr>",
                            "<tr><td>07080319T</td><td>Pixiron Pentel színes</td><td>299</td><td>301,3333333333333</td></tr>",
                            "<tr><td>08070480T</td><td>Fizika 13 éveseknek</td><td>308</td><td>305,6666666666667</td></tr>",
                            "<tr><td>02040293T</td><td>Névjegytartó kicsi</td><td>310</td><td>310,6666666666667</td></tr>",
                            "<tr><td>04050322T</td><td>Plüss sárkány</td><td>314</td><td>313,3333333333333</td></tr>",
                            "<tr><td>04080442T</td><td>Emlékkönyv</td><td>316</td><td>318</td></tr>",
                            "<tr><td>08070483T</td><td>Fizikai feladatok és tévedések</td><td>324</td><td>321,3333333333333</td></tr>",
                            "<tr><td>06080422T</td><td>Füzettartó A/4</td><td>324</td><td>324</td></tr>",
                            "<tr><td>06040394T</td><td>Tolltartó zipzáras</td><td>324</td><td>325,3333333333333</td></tr>",
                            "<tr><td>02020033T</td><td>Beírókönyv A4</td><td>328</td><td>330,3333333333333</td></tr>",
                            "<tr><td>02040401T</td><td>Tűzőgép Boxer 10</td><td>339</td><td>336,3333333333333</td></tr>",
                            "<tr><td>01010001T</td><td>félfamentes rajzlap A4 (10 lap)</td><td>342</td><td>342</td></tr>",
                            "<tr><td>08070484T</td><td>Fogalmazás lépésről lépésre</td><td>345</td><td>346,6666666666667</td></tr>",
                            "<tr><td>08070477T</td><td>Anyanyelvi gyakorló 3</td><td>353</td><td>351,3333333333333</td></tr>",
                            "<tr><td>04050358T</td><td>Strandlabda </td><td>356</td><td>356,3333333333333</td></tr>",
                            "<tr><td>04080272T</td><td>Mappa PVC villámzáras  képes</td><td>360</td><td>358,6666666666667</td></tr>",
                            "<tr><td>07040389T</td><td>Tintapatron 30 db-os kék</td><td>360</td><td>361,3333333333333</td></tr>",
                            "<tr><td>07080469T</td><td>Golyóstoll UNIBALL 07</td><td>364</td><td>371,3333333333333</td></tr>",
                            "<tr><td>07080151T</td><td>Golyóstoll + ceruza Twister 2in1</td><td>390</td><td>381,3333333333333</td></tr>",
                            "<tr><td>G023-FE301</td><td>fiú alsó</td><td>390</td><td>390</td></tr>",
                            "<tr><td>L023-FE301</td><td>lány alsó</td><td>390</td><td>390</td></tr>",
                            "<tr><td>07040100T</td><td>Filctoll Marvy alkoholos</td><td>390</td><td>393,6666666666667</td></tr>",
                            "<tr><td>07080154T</td><td>Golyóstoll INOXCROM</td><td>401</td><td>398</td></tr>",
                            "<tr><td>08070486T</td><td>Matematika gyakorló 2</td><td>403</td><td>402,3333333333333</td></tr>",
                            "<tr><td>08070487T</td><td>Matematika gyakorló 3</td><td>403</td><td>403</td></tr>",
                            "<tr><td>08070488T</td><td>Matematika gyakorló 4</td><td>403</td><td>403,6666666666667</td></tr>",
                            "<tr><td>02040404T</td><td>Tűzőgép EAGLE</td><td>405</td><td>406</td></tr>",
                            "<tr><td>06040396T</td><td>Tolltartó Garfield</td><td>410</td><td>408,6666666666667</td></tr>",
                            "<tr><td>06040398T</td><td>Tolltartó hengeres </td><td>411</td><td>410,6666666666667</td></tr>",
                            "<tr><td>06080125T</td><td>Füzettartó A/5 vastag</td><td>411</td><td>416</td></tr>",
                            "<tr><td>06010343T</td><td>Ragasztószalag 19 mm-es SCOTCH+ tépő</td><td>426</td><td>423,6666666666667</td></tr>",
                            "<tr><td>07040099T</td><td>Filctoll Edding 750</td><td>434</td><td>431,3333333333333</td></tr>",
                            "<tr><td>07040257T</td><td>Lakk filc Edding 750</td><td>434</td><td>435,3333333333333</td></tr>",
                            "<tr><td>02080452T</td><td>Tűzőgép mini</td><td>438</td><td>437,3333333333333</td></tr>",
                            "<tr><td>08070475T</td><td>A föld amelyen élünk - munkafüzet</td><td>440</td><td>439,3333333333333</td></tr>",
                            "<tr><td>08070494T</td><td>Érettségi felv. fel. Fizika</td><td>440</td><td>440</td></tr>",
                            "<tr><td>08070495T</td><td>Érettségi felv. fel. Biológia</td><td>440</td><td>443</td></tr>",
                            "<tr><td>04080443T</td><td>Emlékkönyv lakatos</td><td>449</td><td>448</td></tr>",
                            "<tr><td>07040166T</td><td>Golyóstoll Zebra 301</td><td>455</td><td>456</td></tr>",
                            "<tr><td>02020444T</td><td>Határidő napló A/6</td><td>464</td><td>462,3333333333333</td></tr>",
                            "<tr><td>07080316T</td><td>Pixiron KOH-I-NOOR</td><td>468</td><td>475</td></tr>",
                            "<tr><td>07050462T</td><td>Töltőtoll tinta </td><td>493</td><td>489,6666666666667</td></tr>",
                            "<tr><td>06080124T</td><td>Füzettartó A/4 keménytáblás</td><td>508</td><td>503</td></tr>",
                            "<tr><td>06010366T</td><td>Számológép Roxin</td><td>508</td><td>509</td></tr>",
                            "<tr><td>06040400T</td><td>Tornazsák</td><td>511</td><td>515</td></tr>",
                            "<tr><td>04040090T</td><td>Emlékkönyv</td><td>526</td><td>521</td></tr>",
                            "<tr><td>02080453T</td><td>Lyukasztó EAGLE</td><td>526</td><td>534,3333333333334</td></tr>",
                            "<tr><td>06080123T</td><td>Füzettartó A/4 keménytáblás</td><td>551</td><td>552,6666666666666</td></tr>",
                            "<tr><td>06040185T</td><td>Gyűrűskönyv</td><td>581</td><td>585,6666666666666</td></tr>",
                            "<tr><td>02080455T</td><td>Festékpatron BCI-3BK</td><td>625</td><td>613</td></tr>",
                            "<tr><td>06040382T</td><td>Táblafilc</td><td>633</td><td>636</td></tr>",
                            "<tr><td>02060039T</td><td>Bélyegző párna</td><td>650</td><td>646</td></tr>",
                            "<tr><td>06040397T</td><td>Tolltartó asztali</td><td>655</td><td>653,3333333333334</td></tr>",
                            "<tr><td>07040167T</td><td>Golyóstoll Zebra mini</td><td>655</td><td>661,3333333333334</td></tr>",
                            "<tr><td>08070479T</td><td>Fizika</td><td>674</td><td>671</td></tr>",
                            "<tr><td>07040135T</td><td>G.toll betét Parker </td><td>684</td><td>681,3333333333334</td></tr>",
                            "<tr><td>01100505T</td><td>Fehér másoló A/4</td><td>686</td><td>686,6666666666666</td></tr>",
                            "<tr><td>N019-FE301</td><td>női alsó</td><td>690</td><td>689</td></tr>",
                            "<tr><td>08070490T</td><td>Szövegszerkesztés</td><td>691</td><td>693,3333333333334</td></tr>",
                            "<tr><td>06040186T</td><td>Gyűrűskönyv színes</td><td>699</td><td>703,3333333333334</td></tr>",
                            "<tr><td>08070493T</td><td>Érettségi felv. fel. Matematika</td><td>720</td><td>715,6666666666666</td></tr>",
                            "<tr><td>06040395T</td><td>Tolltartó 2 zipzáros töltött</td><td>728</td><td>725,3333333333334</td></tr>",
                            "<tr><td>06040392T</td><td>Tolltartó 1 zipzáros</td><td>728</td><td>728</td></tr>",
                            "<tr><td>01100095T</td><td>Fénymásoló papír GetCopy</td><td>728</td><td>728</td></tr>",
                            "<tr><td>01100096T</td><td>Fénymásoló papír Qconnect</td><td>728</td><td>728</td></tr>",
                            "<tr><td>04020445T</td><td>Határidő napló 2010-s</td><td>728</td><td>730,3333333333334</td></tr>",
                            "<tr><td>08070492T</td><td>Informatika</td><td>735</td><td>742,6666666666666</td></tr>",
                            "<tr><td>06040393T</td><td>Tolltartó 2 részes NG.</td><td>765</td><td>755</td></tr>",
                            "<tr><td>02080454T</td><td>Lyukasztó BOXER</td><td>765</td><td>767,6666666666666</td></tr>",
                            "<tr><td>07080158T</td><td>Golyóstoll Parker tokban</td><td>773</td><td>772,6666666666666</td></tr>",
                            "<tr><td>02060038T</td><td>Bélyegző IDEAL 50</td><td>780</td><td>779,3333333333334</td></tr>",
                            "<tr><td>08070478T</td><td>Összefoglaló feladatgyüjtemény számtech.</td><td>785</td><td>786,3333333333334</td></tr>",
                            "<tr><td>02040194T</td><td>Hibajav.roll.Pritt 4,2mm</td><td>794</td><td>808</td></tr>",
                            "<tr><td>01100094T</td><td>Fénymásoló papír DataCopy</td><td>845</td><td>835,6666666666666</td></tr>",
                            "<tr><td>08070489T</td><td>RAMba zárt világ</td><td>868</td><td>862,6666666666666</td></tr>",
                            "<tr><td>06080188T</td><td>Hegyező gép</td><td>875</td><td>911</td></tr>",
                            "<tr><td>G038-FE316</td><td>fiú harisnya</td><td>990</td><td>951,6666666666666</td></tr>",
                            "<tr><td>L033-FE311</td><td>lány harisnya</td><td>990</td><td>999,6666666666666</td></tr>",
                            "<tr><td>07080152T</td><td>Golyóstoll 3 funkciós </td><td>1019</td><td>1032,6666666666667</td></tr>",
                            "<tr><td>08070472T</td><td>A föld amelyen élünk - Európa földrajza</td><td>1089</td><td>1065,6666666666667</td></tr>",
                            "<tr><td>08070473T</td><td>A föld amelyen élünk - Távoli földrészek</td><td>1089</td><td>1089</td></tr>",
                            "<tr><td>08070474T</td><td>A föld amelyen élünk - Hazánk földrajza</td><td>1089</td><td>1108,3333333333333</td></tr>",
                            "<tr><td>02060448T</td><td>Bélyegző RP 18-47</td><td>1147</td><td>1136,3333333333333</td></tr>",
                            "<tr><td>06040446T</td><td>Számológép tudományos</td><td>1173</td><td>1203,3333333333333</td></tr>",
                            "<tr><td>G019-NA207</td><td>gyermek pamut nadrág (fiú)</td><td>1290</td><td>1251</td></tr>",
                            "<tr><td>L019-NA207</td><td>gyermek pamut nadrág (lány)</td><td>1290</td><td>1310,3333333333333</td></tr>",
                            "<tr><td>02040403T</td><td>Tűzőgép SAX 239</td><td>1351</td><td>1339,3333333333333</td></tr>",
                            "<tr><td>02060447T</td><td>Bélyegző pocket</td><td>1377</td><td>1405,3333333333333</td></tr>",
                            "<tr><td>01100504T</td><td>Fehér másoló A/3</td><td>1488</td><td>1455</td></tr>",
                            "<tr><td>01100496T</td><td>Színes másoló a/4 80g</td><td>1500</td><td>1584,3333333333333</td></tr>",
                            "<tr><td>04080270T</td><td>Mappa bőr A5</td><td>1765</td><td>1751,6666666666667</td></tr>",
                            "<tr><td>U001-KI501</td><td>sál</td><td>1990</td><td>1951,6666666666667</td></tr>",
                            "<tr><td>02040002T</td><td>irodai tűzőgép</td><td>2100</td><td>2663,3333333333335</td></tr>",
                            "<tr><td>L048-PO218</td><td>gyermek póló (lány)</td><td>3900</td><td>3300</td></tr>",
                            "<tr><td>G048-PO218</td><td>gyermek póló (fiú)</td><td>3900</td><td>4125</td></tr>",
                            "<tr><td>01080512T</td><td>Öntapadó A/4</td><td>4575</td><td>4488,333333333333</td></tr>",
                            "<tr><td>G013-NA201</td><td>gyermek farmer nadrág (fiú)</td><td>4990</td><td>4851,666666666667</td></tr>",
                            "<tr><td>L013-NA201</td><td>gyermek farmer nadrág (lány)</td><td>4990</td><td>5490</td></tr>",
                            "<tr><td>F021-IN215</td><td>férfi ing</td><td>6490</td><td>6126,666666666667</td></tr>",
                            "<tr><td>L064-CI401</td><td>gyermek szandál (lány)</td><td>6900</td><td>6763,333333333333</td></tr>",
                            "<tr><td>G064-CI401</td><td>gyermek szandál (fiú)</td><td>6900</td><td>7230</td></tr>",
                            "<tr><td>F007-NA201</td><td>férfi farmer nadrág</td><td>7890</td><td>7563,333333333333</td></tr>",
                            "<tr><td>G073-CI410</td><td>gyermek cipő (fiú)</td><td>7900</td><td>7896,666666666667</td></tr>",
                            "<tr><td>L073-CI410</td><td>gyermek cipő (lány)</td><td>7900</td><td>7933,333333333333</td></tr>",
                            "<tr><td>L082-CI419</td><td>gyermek csizma (lány)</td><td>8000</td><td>7966,666666666667</td></tr>",
                            "<tr><td>G082-CI419</td><td>gyermek csizma (fiú)</td><td>8000</td><td>8096,666666666667</td></tr>",
                            "<tr><td>N008-NA201</td><td>női farmer nadrág</td><td>8290</td><td>8396,666666666666</td></tr>",
                            "<tr><td>L001-KB101</td><td>gyermek kabát (lány)</td><td>8900</td><td>8696,666666666666</td></tr>",
                            "<tr><td>G001-KB101</td><td>gyermek kabát (fiú)</td><td>8900</td><td>9900</td></tr>",
                            "<tr><td>F013-NA207</td><td>férfi szövet nadrág</td><td>11900</td><td>11683,333333333334</td></tr>",
                            "<tr><td>02080511T</td><td>Oki toner C</td><td>14250</td><td>14350</td></tr>",
                            "<tr><td>G041-AL211</td><td>fiú ünneplős ruha</td><td>16900</td><td>16016,666666666666</td></tr>",
                            "<tr><td>L041-AL211</td><td>lány ünneplős ruha</td><td>16900</td><td>18600</td></tr>",
                            "<tr><td>F001-KB101</td><td>férfi szövet kabát</td><td>22000</td><td>20966,666666666668</td></tr>",
                            "<tr><td>N001-KB101</td><td>női szövet kabát</td><td>24000</td><td>26000</td></tr>",
                            "<tr><td>N029-AL212</td><td>női koktélruha</td><td>32000</td><td>31666,666666666668</td></tr>",
                            "<tr><td>N035-AL218</td><td>kosztüm (rövid)</td><td>39000</td><td>39000</td></tr>",
                            "<tr><td>N039-AL222</td><td>kosztüm (hosszú)</td><td>46000</td><td>42500</td></tr>",
                            "</table>"
                        ]
                    }
                }
            ],
            "execution_count": 13
        },
        {
            "cell_type": "markdown",
            "source": [
                "13. <span style=\"color: rgb(36, 41, 47); font-family: -apple-system, BlinkMacSystemFont, &quot;Segoe UI&quot;, Helvetica, Arial, sans-serif, &quot;Apple Color Emoji&quot;, &quot;Segoe UI Emoji&quot;; font-size: 16px;\">Készítsünk listát, amely a rendelések sorszámát és a rendelés értékét tartalmazza. A listát egészítsük ki egy új oszloppal, amely minden rendelés esetén addigi rendelések összegét tartalmazza (az aktuálisat is beleértve)!</span>\n",
                "\n",
                "1. A listát rendezzük sorszám szerint növekvő sorrendbe.\n",
                "2. A lista ne tartalmazzon duplikált sorokat!"
            ],
            "metadata": {
                "azdata_cell_guid": "85d5cb66-96c6-42de-99cf-85ab22d08548"
            },
            "attachments": {}
        },
        {
            "cell_type": "code",
            "source": [
                ""
            ],
            "metadata": {
                "azdata_cell_guid": "cb07d64b-0eaa-498b-b4d2-0b46971e95ce",
                "language": "sql"
            },
            "outputs": [],
            "execution_count": null
        },
        {
            "cell_type": "markdown",
            "source": [
                "14. <span style=\"color: rgb(36, 41, 47); font-family: -apple-system, BlinkMacSystemFont, &quot;Segoe UI&quot;, Helvetica, Arial, sans-serif, &quot;Apple Color Emoji&quot;, &quot;Segoe UI Emoji&quot;; font-size: 16px;\">Készítsünk listát a termékek kódjáról, nevéről, kategória azonosítójáról, raktár azonosítójáról és listaáráról, valamint a termék adott szempontok szerinti rangsorokban elfoglalt helyezéseiről. (Szempontonként külön oszlopban, a helyezéseknél növekvő sorrendet feltételezve). A szempontok a következők legyenek: listaár, kategória szerinti listaár, és raktárkód szerinti listaár.</span>\n",
                "\n",
                "1. Az oszlopokat nevezzük el értelemszerűen.\n",
                "2. A helyezések egyenlőség esetén \"sűrűn\" kövessék egymást.\n",
                "3. A lista legyen rendezett kategória azonosító, azon belül listaár szerint!"
            ],
            "metadata": {
                "azdata_cell_guid": "f95ad665-a807-4099-bf06-64ed974f866f"
            },
            "attachments": {}
        },
        {
            "cell_type": "code",
            "source": [
                ""
            ],
            "metadata": {
                "azdata_cell_guid": "74c7ec8a-ae4a-4d03-b1c4-e8f6bb1be12c",
                "language": "sql"
            },
            "outputs": [],
            "execution_count": null
        },
        {
            "cell_type": "markdown",
            "source": [
                "15. <span style=\"color: rgb(36, 41, 47); font-family: -apple-system, BlinkMacSystemFont, &quot;Segoe UI&quot;, Helvetica, Arial, sans-serif, &quot;Apple Color Emoji&quot;, &quot;Segoe UI Emoji&quot;; font-size: 16px;\">Készítsünk listát a rendelési tételekről, amely minden sor esetén göngyölítve tartalmazza az ügyfél adott rendelési tételig meglévő rendelési tételeinek összértékét!</span>\n",
                "\n",
                "1. Az új oszlop neve legyen Eddigi rendelési tételek összértéke!\n",
                "2. Az ügyfél neve is jelenjen meg!"
            ],
            "metadata": {
                "azdata_cell_guid": "93552388-ffec-49ff-99e5-ae8dc8072601"
            },
            "attachments": {}
        },
        {
            "cell_type": "code",
            "source": [
                ""
            ],
            "metadata": {
                "azdata_cell_guid": "0e7f547f-7d96-4611-b1c2-0fa84a581e79",
                "language": "sql"
            },
            "outputs": [],
            "execution_count": null
        }
    ]
}