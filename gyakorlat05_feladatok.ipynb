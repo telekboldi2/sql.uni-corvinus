{
    "metadata": {
        "kernelspec": {
            "name": "SQL",
            "display_name": "SQL",
            "language": "sql"
        },
        "language_info": {
            "name": "sql",
            "version": ""
        }
    },
    "nbformat_minor": 2,
    "nbformat": 4,
    "cells": [
        {
            "cell_type": "markdown",
            "source": [
                "1. <span style=\"color: rgb(36, 41, 47); font-family: -apple-system, BlinkMacSystemFont, &quot;Segoe UI&quot;, Helvetica, Arial, sans-serif, &quot;Apple Color Emoji&quot;, &quot;Segoe UI Emoji&quot;; font-size: 16px;\">Készítsünk listát éves bontásban norbert2 azonosítójú ügyfél rendeléseinek értékéről!</span>\n",
                "\n",
                "1. A lista megfelelően jelölve tartalmazza a végösszeget is!"
            ],
            "metadata": {
                "azdata_cell_guid": "363cd270-6577-449b-9c89-d4b7c7972d52"
            },
            "attachments": {}
        },
        {
            "cell_type": "code",
            "source": [
                "-- rendelés és rendelés_tétel táblák\r\n",
                "-- érték: SUM(mennyiseg*egysegar)\r\n",
                "SELECT IIF(YEAR(r.REND_DATUM) is null, 'Összesen',Cast(Year(r.REND_DATUM) as nvarchar(4))),\r\n",
                "    SUM(rt.MENNYISEG)\r\n",
                "    from Rendeles r join Rendeles_tetel rt on r.SORSZAM = rt.SORSZAM\r\n",
                "    where r.[LOGIN]='norbert2'\r\n",
                "    group by rollup(year(r.REND_DATUM))"
            ],
            "metadata": {
                "azdata_cell_guid": "6ab9f633-a3b5-48c9-a1dc-4fb8235ae85b",
                "language": "sql"
            },
            "outputs": [
                {
                    "output_type": "display_data",
                    "data": {
                        "text/html": "(3 rows affected)"
                    },
                    "metadata": {}
                },
                {
                    "output_type": "display_data",
                    "data": {
                        "text/html": "Total execution time: 00:00:00.030"
                    },
                    "metadata": {}
                },
                {
                    "output_type": "execute_result",
                    "execution_count": 4,
                    "data": {
                        "application/vnd.dataresource+json": {
                            "schema": {
                                "fields": [
                                    {
                                        "name": "(No column name)"
                                    },
                                    {
                                        "name": "(No column name)"
                                    }
                                ]
                            },
                            "data": [
                                {
                                    "(No column name)": "871"
                                },
                                {
                                    "(No column name)": "1150"
                                },
                                {
                                    "(No column name)": "2021"
                                }
                            ]
                        },
                        "text/html": "<table><tr><th>(No column name)</th><th>(No column name)</th></tr><tr><td>2015</td><td>871</td></tr><tr><td>2017</td><td>1150</td></tr><tr><td>Összesen</td><td>2021</td></tr></table>"
                    },
                    "metadata": {}
                }
            ],
            "execution_count": 4
        },
        {
            "cell_type": "markdown",
            "source": [
                "2. <span style=\"color: rgb(36, 41, 47); font-family: -apple-system, BlinkMacSystemFont, &quot;Segoe UI&quot;, Helvetica, Arial, sans-serif, &quot;Apple Color Emoji&quot;, &quot;Segoe UI Emoji&quot;; font-size: 16px;\">Készítsünk listát szállítási dátumonként, azon belül szállítási módonként az egyes rendelések összmennyiségéről!</span>\n",
                "\n",
                "1. Csak azokat a termékeket vegyük figyelembe, amelyek mennyiségi egysége db!\n",
                "2. A listát szűrjük úgy, hogy az csak a részösszeg sorokat és a végösszeget tartalmazza!"
            ],
            "metadata": {
                "azdata_cell_guid": "ea75c103-911f-41a3-a32c-3d40fb3e4e4a"
            },
            "attachments": {}
        },
        {
            "cell_type": "code",
            "source": [
                "-- rendeles, rendeles_tetel, termék táblák\r\n",
                "-- SUM(mennyiseg)\r\n",
                "SELECT r.SZALL_DATUM,r.SZALL_MOD, SUM(rt.MENNYISEG)\r\n",
                "    from    Rendeles r  join Rendeles_tetel rt on r.SORSZAM = rt.SORSZAM\r\n",
                "                        join Termek t on rt.TERMEKKOD = t.TERMEKKOD\r\n",
                "    where t.MEGYS ='db'\r\n",
                "    group by rollup(r.SZALL_DATUM,r.SZALL_MOD)\r\n",
                "    HAVING r.SZALL_MOD is null or r.SZALL_DATUM is NULL"
            ],
            "metadata": {
                "azdata_cell_guid": "222b9618-a8e8-42b4-a8e8-d002257122b7",
                "language": "sql",
                "tags": [
                    "hide_input"
                ]
            },
            "outputs": [],
            "execution_count": null
        },
        {
            "cell_type": "markdown",
            "source": [
                "```\n",
                "3. Hány olyan ügyfél van, aki még nem rendelt semmit?\n",
                "```\n",
                "\n",
                "1. Csoportosítsuk őket nem szerint, azon belül életkor szerint!\n",
                "2. A lista tartalmazza a részösszegeket és a végösszeget is!\n",
                "\n",
                "![](https://moodle.uni-corvinus.hu/theme/image.php/adaptable/atto_h5p/1709548862/icon)"
            ],
            "metadata": {
                "azdata_cell_guid": "d7876bb9-76d0-4d07-baed-3cb17b2f96c3"
            },
            "attachments": {}
        },
        {
            "cell_type": "code",
            "source": [
                "SELECT u.nem,\r\n",
                "       YEAR(GETDATE()) - u.SZULEV AS 'életkor',\r\n",
                "       COUNT(*)\r\n",
                "FROM Ugyfel u LEFT join Rendeles r on u.[LOGIN]=r.[LOGIN]\r\n",
                "WHERE r.[LOGIN] is null\r\n",
                "GROUP BY ROLLUP(u.nem, YEAR(GETDATE())- u.SZULEV)\r\n",
                ""
            ],
            "metadata": {
                "azdata_cell_guid": "56ec19ce-e249-4551-b2a8-f17569765acc",
                "language": "sql"
            },
            "outputs": [
                {
                    "output_type": "display_data",
                    "data": {
                        "text/html": "(12 rows affected)"
                    },
                    "metadata": {}
                },
                {
                    "output_type": "display_data",
                    "data": {
                        "text/html": "Total execution time: 00:00:00.037"
                    },
                    "metadata": {}
                },
                {
                    "output_type": "execute_result",
                    "execution_count": 21,
                    "data": {
                        "application/vnd.dataresource+json": {
                            "schema": {
                                "fields": [
                                    {
                                        "name": "nem"
                                    },
                                    {
                                        "name": "életkor"
                                    },
                                    {
                                        "name": "(No column name)"
                                    }
                                ]
                            },
                            "data": [
                                {
                                    "nem": "F",
                                    "életkor": "24",
                                    "(No column name)": "1"
                                },
                                {
                                    "nem": "F",
                                    "életkor": "26",
                                    "(No column name)": "1"
                                },
                                {
                                    "nem": "F",
                                    "életkor": "28",
                                    "(No column name)": "1"
                                },
                                {
                                    "nem": "F",
                                    "életkor": "45",
                                    "(No column name)": "1"
                                },
                                {
                                    "nem": "F",
                                    "életkor": "55",
                                    "(No column name)": "1"
                                },
                                {
                                    "nem": "F",
                                    "életkor": "56",
                                    "(No column name)": "1"
                                },
                                {
                                    "nem": "F",
                                    "életkor": "NULL",
                                    "(No column name)": "6"
                                },
                                {
                                    "nem": "N",
                                    "életkor": "30",
                                    "(No column name)": "1"
                                },
                                {
                                    "nem": "N",
                                    "életkor": "37",
                                    "(No column name)": "1"
                                },
                                {
                                    "nem": "N",
                                    "életkor": "49",
                                    "(No column name)": "1"
                                },
                                {
                                    "nem": "N",
                                    "életkor": "NULL",
                                    "(No column name)": "3"
                                },
                                {
                                    "nem": "NULL",
                                    "életkor": "NULL",
                                    "(No column name)": "9"
                                }
                            ]
                        },
                        "text/html": "<table><tr><th>nem</th><th>életkor</th><th>(No column name)</th></tr><tr><td>F</td><td>24</td><td>1</td></tr><tr><td>F</td><td>26</td><td>1</td></tr><tr><td>F</td><td>28</td><td>1</td></tr><tr><td>F</td><td>45</td><td>1</td></tr><tr><td>F</td><td>55</td><td>1</td></tr><tr><td>F</td><td>56</td><td>1</td></tr><tr><td>F</td><td>NULL</td><td>6</td></tr><tr><td>N</td><td>30</td><td>1</td></tr><tr><td>N</td><td>37</td><td>1</td></tr><tr><td>N</td><td>49</td><td>1</td></tr><tr><td>N</td><td>NULL</td><td>3</td></tr><tr><td>NULL</td><td>NULL</td><td>9</td></tr></table>"
                    },
                    "metadata": {}
                }
            ],
            "execution_count": 21
        },
        {
            "cell_type": "markdown",
            "source": [
                "4. <span style=\"color: rgb(36, 41, 47); font-family: -apple-system, BlinkMacSystemFont, &quot;Segoe UI&quot;, Helvetica, Arial, sans-serif, &quot;Apple Color Emoji&quot;, &quot;Segoe UI Emoji&quot;; font-size: 16px;\">Készítsünk listát a megrendelt termékek legkisebb és legnagyobb egységáráról szállítási dátum, azon belül szállítási mód szerinti bontásban!</span>\n",
                "\n",
                "1. A lista csak a 2015 májusi szállításokat tartalmazza!\n",
                "2. Jelenítsük meg a részösszegeket és a végösszeget is!"
            ],
            "metadata": {
                "azdata_cell_guid": "8e7fef82-8022-49a0-8255-fc2846c2134b"
            },
            "attachments": {}
        },
        {
            "cell_type": "code",
            "source": [
                "SELECT  MIN(rt.EGYSEGAR) as \"Legkisebb egységár\",\r\n",
                "        MAX(rt.EGYSEGAR) as \"Legnagyobb egységár\",\r\n",
                "        r.SZALL_DATUM,\r\n",
                "        r.SZALL_MOD\r\n",
                "from Rendeles r join Rendeles_tetel rt on r.SORSZAM = rt.SORSZAM\r\n",
                "where YEAR(r.SZALL_DATUM)=2015 and MONTH(r.SZALL_DATUM)=05\r\n",
                "group by rollup(r.SZALL_DATUM,r.SZALL_MOD)"
            ],
            "metadata": {
                "azdata_cell_guid": "36f7b396-4a1f-45e5-8720-2302537c91bc",
                "language": "sql"
            },
            "outputs": [],
            "execution_count": null
        },
        {
            "cell_type": "markdown",
            "source": [
                "5. <span style=\"color: rgb(255, 255, 255); font-family: -apple-system, BlinkMacSystemFont, &quot;Segoe UI&quot;, Helvetica, Arial, sans-serif, &quot;Apple Color Emoji&quot;, &quot;Segoe UI Emoji&quot;; font-size: 16px;\">Készítsünk csoportot a termékek listaára alapján a következők szerint:&nbsp;<br></span> <span style=\"color: rgb(255, 255, 255); font-family: -apple-system, BlinkMacSystemFont, &quot;Segoe UI&quot;, Helvetica, Arial, sans-serif, &quot;Apple Color Emoji&quot;, &quot;Segoe UI Emoji&quot;; font-size: 16px;\">Az \"olcsó\" termékek legyenek azok, amelyek listaára 3000 alatt van.<br>&nbsp;A \"drága\" termékek legyenek az 5000 felettiek, a többi legyen \"közepes\".</span>\n",
                "\n",
                "1. Listázzuk az egyes csoportokat, és a csoportokba tartozó termékek darabszámát!\n",
                "2. A lista jelenítse meg a végösszeget is!"
            ],
            "metadata": {
                "azdata_cell_guid": "84239ca2-6b5e-49f5-9860-d44c11d6de32"
            },
            "attachments": {}
        },
        {
            "cell_type": "code",
            "source": [
                "SELECT CASE\r\n",
                "        When LISTAAR > 5000 then 'Drága'\r\n",
                "        When LISTAAR < 3000 then 'Olcsó'\r\n",
                "        Else 'Közepes'\r\n",
                "        END as 'Csoport',\r\n",
                "        COUNT(*) as 'DB'\r\n",
                "FROM Termek\r\n",
                "group by rollup(Case\r\n",
                "        When LISTAAR > 5000 then 'Drága'\r\n",
                "        When LISTAAR < 3000 then 'Olcsó'\r\n",
                "        Else 'Közepes'\r\n",
                "        END)"
            ],
            "metadata": {
                "azdata_cell_guid": "06d9a62b-9430-424b-a135-d80e675f0eb3",
                "language": "sql"
            },
            "outputs": [
                {
                    "output_type": "display_data",
                    "data": {
                        "text/html": "(4 rows affected)"
                    },
                    "metadata": {}
                },
                {
                    "output_type": "display_data",
                    "data": {
                        "text/html": "Total execution time: 00:00:00.021"
                    },
                    "metadata": {}
                },
                {
                    "output_type": "execute_result",
                    "execution_count": 30,
                    "data": {
                        "application/vnd.dataresource+json": {
                            "schema": {
                                "fields": [
                                    {
                                        "name": "Csoport"
                                    },
                                    {
                                        "name": "DB"
                                    }
                                ]
                            },
                            "data": [
                                {
                                    "Csoport": "Drága",
                                    "DB": "20"
                                },
                                {
                                    "Csoport": "Közepes",
                                    "DB": "5"
                                },
                                {
                                    "Csoport": "Olcsó",
                                    "DB": "526"
                                },
                                {
                                    "Csoport": "NULL",
                                    "DB": "551"
                                }
                            ]
                        },
                        "text/html": "<table><tr><th>Csoport</th><th>DB</th></tr><tr><td>Drága</td><td>20</td></tr><tr><td>Közepes</td><td>5</td></tr><tr><td>Olcsó</td><td>526</td></tr><tr><td>NULL</td><td>551</td></tr></table>"
                    },
                    "metadata": {}
                }
            ],
            "execution_count": 30
        },
        {
            "cell_type": "markdown",
            "source": [
                "6. <span style=\"font-weight: 600; color: rgb(36, 41, 47); font-family: -apple-system, BlinkMacSystemFont, &quot;Segoe UI&quot;, Helvetica, Arial, sans-serif, &quot;Apple Color Emoji&quot;, &quot;Segoe UI Emoji&quot;; font-size: 16px;\">Készítsünk listát az ügyfelek adatairól név szerinti sorrendben.</span>\n",
                "\n",
                "1. Minden sorban jelenjen meg a sorrend szerint előző, illetve következő ügyfél neve is.\n",
                "2. Ha nincs előző vagy következő ügyfél, akkor a 'Nincs' jelenjen meg!"
            ],
            "metadata": {
                "azdata_cell_guid": "b0d15045-3c43-4f3a-b8d4-76b4f24e5546"
            },
            "attachments": {}
        },
        {
            "cell_type": "code",
            "source": [
                "--lag és lead fv-ek\r\n",
                "SELECT  *,\r\n",
                "        LAG(u.nev,1, 'Nincs') over(order by nev) as 'Előző ügyfél',\r\n",
                "        Lead(u.nev,1, 'Nincs') over(order by nev) as 'Következő ügyfél'\r\n",
                "from Ugyfel u"
            ],
            "metadata": {
                "azdata_cell_guid": "f2b7400d-1255-40ac-9250-4d57f9da5357",
                "language": "sql",
                "tags": []
            },
            "outputs": [],
            "execution_count": null
        },
        {
            "cell_type": "markdown",
            "source": [
                "<mark>7. <span style=\"font-weight: 600; color: rgb(36, 41, 47); font-family: -apple-system, BlinkMacSystemFont, &quot;Segoe UI&quot;, Helvetica, Arial, sans-serif, &quot;Apple Color Emoji&quot;, &quot;Segoe UI Emoji&quot;; font-size: 16px;\">Készítsünk lekérdezést, amely megmutatja, hogy melyik termékkategóriába hány termék tartozik. A lista a kategória nevét és a darabszámot jelenítse meg.</span></mark>\n",
                "1. A lista ne tartalmazzon duplikált sorokat.\n",
                "2. A feladatot partíciók segítségével oldjuk meg!"
            ],
            "metadata": {
                "azdata_cell_guid": "7ebf7ddd-1bd2-4246-815a-be8ae37e3b5b"
            },
            "attachments": {}
        },
        {
            "cell_type": "code",
            "source": [
                "select DISTINCT tk.kat_nev,\r\n",
                "        COUNT(t.kat_id) over (PARTITION by t.kat_id)\r\n",
                "from Termek t join Termekkategoria tk on t.KAT_ID = tk.KAT_ID\r\n",
                ""
            ],
            "metadata": {
                "azdata_cell_guid": "84b7e896-f36e-4985-88f5-e0f706494fef",
                "language": "sql"
            },
            "outputs": [],
            "execution_count": null
        },
        {
            "cell_type": "markdown",
            "source": [
                "8. <span style=\"font-weight: 600; color: rgb(36, 41, 47); font-family: -apple-system, BlinkMacSystemFont, &quot;Segoe UI&quot;, Helvetica, Arial, sans-serif, &quot;Apple Color Emoji&quot;, &quot;Segoe UI Emoji&quot;; font-size: 16px;\">Készítsünk listát a rendelési tételekről. Az egyes rendelési tételeket termékenként soroljuk be 4 osztályba a rendelés mennyisége alapján. Jelenítsük meg ezt az információt is egy új oszlopban, az oszlop neve legyen 'Mennyiségi kategória'.</span>\n",
                "\n",
                "1. A lista csak a 100 Ft feletti egységárú rendelési tételeket vegye figyelembe!"
            ],
            "metadata": {
                "azdata_cell_guid": "27a3d3dc-eafb-4a5e-b103-9f465b9eda8f"
            },
            "attachments": {}
        },
        {
            "cell_type": "code",
            "source": [
                "--ntile()\r\n",
                "select  *,\r\n",
                "        NTILE(4) over(PARTITION by termekkod order by mennyiseg)\r\n",
                "from Rendeles_tetel\r\n",
                "where EGYSEGAR > 100"
            ],
            "metadata": {
                "azdata_cell_guid": "f09edb3f-649b-4a96-958e-9e12774ae8b7",
                "language": "sql"
            },
            "outputs": [],
            "execution_count": null
        },
        {
            "cell_type": "markdown",
            "source": [
                "9. <span style=\"font-weight: 600; color: rgb(36, 41, 47); font-family: -apple-system, BlinkMacSystemFont, &quot;Segoe UI&quot;, Helvetica, Arial, sans-serif, &quot;Apple Color Emoji&quot;, &quot;Segoe UI Emoji&quot;; font-size: 16px;\">Listázzuk a termékek kódját, megnevezését, kategóriájának nevét, és listaárát.</span>\n",
                "\n",
                "1. A listát egészítsük ki két új oszloppal, amelyek a kategória legolcsóbb, illetve legdrágább termékének árát tartalmazzák.\n",
                "2. A két új oszlop létrehozásánál partíciókkal dolgozzunk!"
            ],
            "metadata": {
                "azdata_cell_guid": "f12a331a-0e26-4d3d-9c68-812316286577"
            },
            "attachments": {}
        },
        {
            "cell_type": "code",
            "source": [
                "--min/max vagy first_value/last_value\r\n",
                "select t.termekkod,\r\n",
                "        t.megnevezes,\r\n",
                "        tk.kat_nev,\r\n",
                "        t.listaar,\r\n",
                "        min(t.listaar) over(partition by t.KAT_ID),\r\n",
                "        max(t.listaar) over(partition by t.KAT_ID)\r\n",
                "from termek t join termekkategoria tk on t.kat_id = tk.KAT_ID"
            ],
            "metadata": {
                "azdata_cell_guid": "10a77fc9-e61a-46fc-a401-59720d82bc50",
                "language": "sql"
            },
            "outputs": [],
            "execution_count": null
        },
        {
            "cell_type": "markdown",
            "source": [
                "10. <span style=\"font-weight: 600; color: rgb(255, 255, 255); font-family: -apple-system, BlinkMacSystemFont, &quot;Segoe UI&quot;, Helvetica, Arial, sans-serif, &quot;Apple Color Emoji&quot;, &quot;Segoe UI Emoji&quot;; font-size: 16px;\">Készítsünk listát a rendelésekről. A lista legyen rendezve ügyfelenként (LOGIN), azon belül a rendelés dátuma szerint. A listához készítsünk sorszámozást is. A sorszám a következő formában jelenjen meg: sorszám_év_login. Pl: 1_2015_adam1</span>\n",
                "\n",
                "1. A számozás login-onként, azon belül rendelési évenként kezdődjön újra.\n",
                "2. A sorszám oszlop neve legyen Azonosító"
            ],
            "metadata": {
                "azdata_cell_guid": "9229e2b6-e200-4499-b95b-2d0222149831"
            },
            "attachments": {}
        },
        {
            "cell_type": "code",
            "source": [
                "select CAST(ROW_NUMBER() over(partition by r.LOGIN, YEAR(R.REND_DATUM) order by r.REND_DATUM) as nvarchar(5))+'_'+\r\n",
                "        CAST(R.REND_DATUM as nvarchar(4)) + '_' + r.[LOGIN] as 'Azonosító',\r\n",
                "        *\r\n",
                "from Rendeles r\r\n",
                ""
            ],
            "metadata": {
                "azdata_cell_guid": "8b49ed67-28c6-4880-82a8-cd369e5bba99",
                "language": "sql",
                "tags": []
            },
            "outputs": [],
            "execution_count": null
        },
        {
            "cell_type": "markdown",
            "source": [
                "11. <span style=\"color: rgb(255, 255, 255); font-family: -apple-system, BlinkMacSystemFont, &quot;Segoe UI&quot;, Helvetica, Arial, sans-serif, &quot;Apple Color Emoji&quot;, &quot;Segoe UI Emoji&quot;; font-size: 16px;\">Készítsünk listát a termékek adatairól listaár szerint növekvő sorrendben! A lista jelenítse meg két új oszlopban a sorrend szerint előző, illetve következő termék listaárát is a termék saját kategóriájában és raktárában!</span>\n",
                "\n",
                "1. Ahol nincs előző vagy következő érték, ott 0 jelenjen meg!\n",
                "2. Az oszlopokat nevezzük el értelemszerűen!"
            ],
            "metadata": {
                "azdata_cell_guid": "7f5fc7a7-3b6a-4d89-b292-490830afb0c6"
            },
            "attachments": {}
        },
        {
            "cell_type": "code",
            "source": [
                "select  *,\r\n",
                "        lag(listaar,1,0) over (partition by kat_id, RAKTAR_KOD order by listaar ) as 'Előző',\r\n",
                "        lead(listaar,1,0) over (partition by kat_id, RAKTAR_KOD order by listaar) as 'Következő'\r\n",
                "from Termek\r\n",
                "order by LISTAAR"
            ],
            "metadata": {
                "azdata_cell_guid": "4a9ece40-f782-4c0d-92cd-9c21969067ed",
                "language": "sql"
            },
            "outputs": [],
            "execution_count": 18
        },
        {
            "cell_type": "markdown",
            "source": [
                "12. <span style=\"color: rgb(255, 255, 255); font-family: -apple-system, BlinkMacSystemFont, &quot;Segoe UI&quot;, Helvetica, Arial, sans-serif, &quot;Apple Color Emoji&quot;, &quot;Segoe UI Emoji&quot;; font-size: 16px;\">Listázzuk a termékek kódját, nevét és listaárát listaár szerinti sorrendben!</span>\n",
                "\n",
                "1. Vegyünk fel egy új oszlopot Mozgóátlag néven, amely minden esetben az aktuális termék, az előző, és a következő termék átlagárát tartalmazza!\n",
                "2. A mozgóátlagot kerekítsük két tizedesre!"
            ],
            "metadata": {
                "azdata_cell_guid": "5a483c52-bb98-44bb-bd03-1146d4b0abfa"
            },
            "attachments": {}
        },
        {
            "cell_type": "code",
            "source": [
                "select termekkod,\r\n",
                "        megnevezes,\r\n",
                "        listaar,\r\n",
                "        --mozgóátlag\r\n",
                "        avg(Listaar) over(order by listaar\r\n",
                "                rows between 1 preceding and 1 following)\r\n",
                "from termek"
            ],
            "metadata": {
                "azdata_cell_guid": "dd6e89bd-08f9-4b18-8460-03c45b503df0",
                "language": "sql",
                "tags": [
                    "hide_input"
                ]
            },
            "outputs": [],
            "execution_count": null
        },
        {
            "cell_type": "markdown",
            "source": [
                "13. <span style=\"color: rgb(255, 255, 255); font-family: -apple-system, BlinkMacSystemFont, &quot;Segoe UI&quot;, Helvetica, Arial, sans-serif, &quot;Apple Color Emoji&quot;, &quot;Segoe UI Emoji&quot;; font-size: 16px;\">Készítsünk listát, amely a rendelések sorszámát és a rendelés értékét tartalmazza. A listát egészítsük ki egy új oszloppal, amely minden rendelés esetén addigi rendelések összegét tartalmazza (az aktuálisat is beleértve)!</span>\n",
                "\n",
                "1. A listát rendezzük sorszám szerint növekvő sorrendbe.\n",
                "2. A lista ne tartalmazzon duplikált sorokat!"
            ],
            "metadata": {
                "azdata_cell_guid": "85d5cb66-96c6-42de-99cf-85ab22d08548"
            },
            "attachments": {}
        },
        {
            "cell_type": "code",
            "source": [
                "select  DISTINCT sorszam,\r\n",
                "        SUM(MENNYISEG*EGYSEGAR) over(partition by sorszam) as 'rendelés érték',\r\n",
                "        SUM(MENNYISEG*EGYSEGAR) over(order by sorszam range between unbounded PRECEDING and CURRENT ROW)\r\n",
                "from Rendeles_tetel\r\n",
                "order by SORSZAM"
            ],
            "metadata": {
                "azdata_cell_guid": "cb07d64b-0eaa-498b-b4d2-0b46971e95ce",
                "language": "sql"
            },
            "outputs": [],
            "execution_count": 36
        },
        {
            "cell_type": "markdown",
            "source": [
                "14. <span style=\"color: rgb(255, 255, 255); font-family: -apple-system, BlinkMacSystemFont, &quot;Segoe UI&quot;, Helvetica, Arial, sans-serif, &quot;Apple Color Emoji&quot;, &quot;Segoe UI Emoji&quot;; font-size: 16px;\">Készítsünk listát a termékek kódjáról, nevéről, kategória azonosítójáról, raktár azonosítójáról és listaáráról, valamint a termék adott szempontok szerinti rangsorokban elfoglalt helyezéseiről. (Szempontonként külön oszlopban, a helyezéseknél növekvő sorrendet feltételezve). A szempontok a következők legyenek: listaár, kategória szerinti listaár, és raktárkód szerinti listaár.</span>\n",
                "\n",
                "1. Az oszlopokat nevezzük el értelemszerűen.\n",
                "2. A helyezések egyenlőség esetén \"sűrűn\" kövessék egymást.\n",
                "3. A lista legyen rendezett kategória azonosító, azon belül listaár szerint!"
            ],
            "metadata": {
                "azdata_cell_guid": "f95ad665-a807-4099-bf06-64ed974f866f"
            },
            "attachments": {}
        },
        {
            "cell_type": "code",
            "source": [
                "select  termekkod,\r\n",
                "        megnevezes,\r\n",
                "        kat_id,\r\n",
                "        raktar_kod,\r\n",
                "        listaar,\r\n",
                "        DENSE_RANK() over (order by listaar) as 'Listaár szerint',\r\n",
                "        dense_rank() over (partition by kat_id order by listaar) 'kat szerinti listaár',\r\n",
                "        dense_rank() over (partition by raktar_kod order by listaar) 'raktárkód szerinti listaár'\r\n",
                "from Termek\r\n",
                "order by KAT_ID,LISTAAR"
            ],
            "metadata": {
                "azdata_cell_guid": "74c7ec8a-ae4a-4d03-b1c4-e8f6bb1be12c",
                "language": "sql"
            },
            "outputs": [
{
    "output_type": "display_data",
    "data": {
        "text/html": "(551 rows affected)"
    },
    "metadata": {}
}, {
    "output_type": "display_data",
    "data": {
        "text/html": "Total execution time: 00:00:00.195"
    },
    "metadata": {}
}, {
    "output_type": "execute_result",
    "metadata": {},
    "execution_count": 25,
    "data": {
        "application/vnd.dataresource+json": {
            "schema": {
                "fields": [
                    {
                        "name": "termekkod"
                    },
                    {
                        "name": "megnevezes"
                    },
                    {
                        "name": "kat_id"
                    },
                    {
                        "name": "raktar_kod"
                    },
                    {
                        "name": "listaar"
                    },
                    {
                        "name": "Listaár szerint"
                    },
                    {
                        "name": "kat szerinti listaár"
                    },
                    {
                        "name": "raktárkód szerinti listaár"
                    }
                ]
            },
            "data": [
                {
                    "termekkod": "08070491T",
                    "megnevezes": "Szám.tech. kicsiknek",
                    "kat_id": "4",
                    "raktar_kod": "8",
                    "listaar": "214",
                    "Listaár szerint": "112",
                    "kat szerinti listaár": "1",
                    "raktárkód szerinti listaár": "60"
                },
                {
                    "termekkod": "08070485T",
                    "megnevezes": "Jól felkészültem-e - Fizika",
                    "kat_id": "4",
                    "raktar_kod": "6",
                    "listaar": "291",
                    "Listaár szerint": "131",
                    "kat szerinti listaár": "2",
                    "raktárkód szerinti listaár": "52"
                },
                {
                    "termekkod": "08070480T",
                    "megnevezes": "Fizika 13 éveseknek",
                    "kat_id": "4",
                    "raktar_kod": "8",
                    "listaar": "308",
                    "Listaár szerint": "136",
                    "kat szerinti listaár": "3",
                    "raktárkód szerinti listaár": "66"
                },
                {
                    "termekkod": "08070483T",
                    "megnevezes": "Fizikai feladatok és tévedések",
                    "kat_id": "4",
                    "raktar_kod": "5",
                    "listaar": "324",
                    "Listaár szerint": "140",
                    "kat szerinti listaár": "4",
                    "raktárkód szerinti listaár": "56"
                },
                {
                    "termekkod": "08070484T",
                    "megnevezes": "Fogalmazás lépésről lépésre",
                    "kat_id": "4",
                    "raktar_kod": "8",
                    "listaar": "345",
                    "Listaár szerint": "144",
                    "kat szerinti listaár": "5",
                    "raktárkód szerinti listaár": "68"
                },
                {
                    "termekkod": "08070495T",
                    "megnevezes": "Érettségi felv. fel. Biológia",
                    "kat_id": "4",
                    "raktar_kod": "9",
                    "listaar": "440",
                    "Listaár szerint": "158",
                    "kat szerinti listaár": "6",
                    "raktárkód szerinti listaár": "65"
                },
                {
                    "termekkod": "08070494T",
                    "megnevezes": "Érettségi felv. fel. Fizika",
                    "kat_id": "4",
                    "raktar_kod": "6",
                    "listaar": "440",
                    "Listaár szerint": "158",
                    "kat szerinti listaár": "6",
                    "raktárkód szerinti listaár": "59"
                },
                {
                    "termekkod": "08070479T",
                    "megnevezes": "Fizika",
                    "kat_id": "4",
                    "raktar_kod": "7",
                    "listaar": "674",
                    "Listaár szerint": "173",
                    "kat szerinti listaár": "7",
                    "raktárkód szerinti listaár": "76"
                },
                {
                    "termekkod": "08070490T",
                    "megnevezes": "Szövegszerkesztés",
                    "kat_id": "4",
                    "raktar_kod": "8",
                    "listaar": "691",
                    "Listaár szerint": "177",
                    "kat szerinti listaár": "8",
                    "raktárkód szerinti listaár": "77"
                },
                {
                    "termekkod": "08070493T",
                    "megnevezes": "Érettségi felv. fel. Matematika",
                    "kat_id": "4",
                    "raktar_kod": "5",
                    "listaar": "720",
                    "Listaár szerint": "179",
                    "kat szerinti listaár": "9",
                    "raktárkód szerinti listaár": "62"
                },
                {
                    "termekkod": "08070492T",
                    "megnevezes": "Informatika",
                    "kat_id": "4",
                    "raktar_kod": "9",
                    "listaar": "735",
                    "Listaár szerint": "181",
                    "kat szerinti listaár": "10",
                    "raktárkód szerinti listaár": "71"
                },
                {
                    "termekkod": "08070489T",
                    "megnevezes": "RAMba zárt világ",
                    "kat_id": "4",
                    "raktar_kod": "8",
                    "listaar": "868",
                    "Listaár szerint": "188",
                    "kat szerinti listaár": "11",
                    "raktárkód szerinti listaár": "81"
                },
                {
                    "termekkod": "08070472T",
                    "megnevezes": "A föld amelyen élünk - Európa földrajza",
                    "kat_id": "4",
                    "raktar_kod": "8",
                    "listaar": "1089",
                    "Listaár szerint": "192",
                    "kat szerinti listaár": "12",
                    "raktárkód szerinti listaár": "83"
                },
                {
                    "termekkod": "08070474T",
                    "megnevezes": "A föld amelyen élünk - Hazánk földrajza",
                    "kat_id": "4",
                    "raktar_kod": "5",
                    "listaar": "1089",
                    "Listaár szerint": "192",
                    "kat szerinti listaár": "12",
                    "raktárkód szerinti listaár": "66"
                },
                {
                    "termekkod": "08070473T",
                    "megnevezes": "A föld amelyen élünk - Távoli földrészek",
                    "kat_id": "4",
                    "raktar_kod": "6",
                    "listaar": "1089",
                    "Listaár szerint": "192",
                    "kat szerinti listaár": "12",
                    "raktárkód szerinti listaár": "68"
                },
                {
                    "termekkod": "04050035T",
                    "megnevezes": "Bérlet tok",
                    "kat_id": "5",
                    "raktar_kod": "5",
                    "listaar": "24",
                    "Listaár szerint": "18",
                    "kat szerinti listaár": "1",
                    "raktárkód szerinti listaár": "10"
                },
                {
                    "termekkod": "04110258T",
                    "megnevezes": "Lampion",
                    "kat_id": "5",
                    "raktar_kod": "9",
                    "listaar": "73",
                    "Listaár szerint": "54",
                    "kat szerinti listaár": "2",
                    "raktárkód szerinti listaár": "29"
                },
                {
                    "termekkod": "04050267T",
                    "megnevezes": "Logikai készlet",
                    "kat_id": "5",
                    "raktar_kod": "5",
                    "listaar": "129",
                    "Listaár szerint": "82",
                    "kat szerinti listaár": "3",
                    "raktárkód szerinti listaár": "36"
                },
                {
                    "termekkod": "04030285T",
                    "megnevezes": "Mikulás zacskó",
                    "kat_id": "6",
                    "raktar_kod": "8",
                    "listaar": "11",
                    "Listaár szerint": "9",
                    "kat szerinti listaár": "1",
                    "raktárkód szerinti listaár": "4"
                },
                {
                    "termekkod": "03080004T",
                    "megnevezes": "Ajándék cs. tasak italos, fólia",
                    "kat_id": "6",
                    "raktar_kod": "6",
                    "listaar": "19",
                    "Listaár szerint": "15",
                    "kat szerinti listaár": "2",
                    "raktárkód szerinti listaár": "8"
                },
                {
                    "termekkod": "03050457T",
                    "megnevezes": "Ajándék cs. tasak kicsi",
                    "kat_id": "6",
                    "raktar_kod": "6",
                    "listaar": "26",
                    "Listaár szerint": "20",
                    "kat szerinti listaár": "3",
                    "raktárkód szerinti listaár": "11"
                },
                {
                    "termekkod": "03080006T",
                    "megnevezes": "Ajándék cs. tasak mintás kicsi",
                    "kat_id": "6",
                    "raktar_kod": "8",
                    "listaar": "26",
                    "Listaár szerint": "20",
                    "kat szerinti listaár": "3",
                    "raktárkód szerinti listaár": "10"
                },
                {
                    "termekkod": "03050459T",
                    "megnevezes": "Talpas tasak",
                    "kat_id": "6",
                    "raktar_kod": "8",
                    "listaar": "40",
                    "Listaár szerint": "31",
                    "kat szerinti listaár": "4",
                    "raktárkód szerinti listaár": "18"
                },
                {
                    "termekkod": "03080013T",
                    "megnevezes": "Ajándék csom. 50x70 húsvéti",
                    "kat_id": "6",
                    "raktar_kod": "6",
                    "listaar": "64",
                    "Listaár szerint": "49",
                    "kat szerinti listaár": "5",
                    "raktárkód szerinti listaár": "25"
                },
                {
                    "termekkod": "03080014T",
                    "megnevezes": "Ajándék csom. 70x50 metál",
                    "kat_id": "6",
                    "raktar_kod": "8",
                    "listaar": "81",
                    "Listaár szerint": "60",
                    "kat szerinti listaár": "6",
                    "raktárkód szerinti listaár": "35"
                },
                {
                    "termekkod": "03080008T",
                    "megnevezes": "Ajándék cs. tasak kicsi",
                    "kat_id": "6",
                    "raktar_kod": "7",
                    "listaar": "103",
                    "Listaár szerint": "70",
                    "kat szerinti listaár": "7",
                    "raktárkód szerinti listaár": "36"
                },
                {
                    "termekkod": "03080439T",
                    "megnevezes": "Italtartó doboz",
                    "kat_id": "6",
                    "raktar_kod": "8",
                    "listaar": "114",
                    "Listaár szerint": "74",
                    "kat szerinti listaár": "8",
                    "raktárkód szerinti listaár": "44"
                },
                {
                    "termekkod": "03080012T",
                    "megnevezes": "Ajándék csom. 200x70",
                    "kat_id": "6",
                    "raktar_kod": "8",
                    "listaar": "125",
                    "Listaár szerint": "81",
                    "kat szerinti listaár": "9",
                    "raktárkód szerinti listaár": "48"
                },
                {
                    "termekkod": "03080009T",
                    "megnevezes": "Ajándék csom. 100x70 metál",
                    "kat_id": "6",
                    "raktar_kod": "8",
                    "listaar": "148",
                    "Listaár szerint": "88",
                    "kat szerinti listaár": "10",
                    "raktárkód szerinti listaár": "51"
                },
                {
                    "termekkod": "03050458T",
                    "megnevezes": "Ajándék cs. 2×100×70",
                    "kat_id": "6",
                    "raktar_kod": "7",
                    "listaar": "148",
                    "Listaár szerint": "88",
                    "kat szerinti listaár": "10",
                    "raktárkód szerinti listaár": "45"
                },
                {
                    "termekkod": "03080011T",
                    "megnevezes": "Ajándék cs. tasak közepes",
                    "kat_id": "6",
                    "raktar_kod": "6",
                    "listaar": "148",
                    "Listaár szerint": "88",
                    "kat szerinti listaár": "10",
                    "raktárkód szerinti listaár": "42"
                },
                {
                    "termekkod": "03080015T",
                    "megnevezes": "Ajándék csom. gyűrt",
                    "kat_id": "6",
                    "raktar_kod": "9",
                    "listaar": "169",
                    "Listaár szerint": "94",
                    "kat szerinti listaár": "11",
                    "raktárkód szerinti listaár": "49"
                },
                {
                    "termekkod": "03080437T",
                    "megnevezes": "Ajándék csomagoló tasak",
                    "kat_id": "6",
                    "raktar_kod": "7",
                    "listaar": "185",
                    "Listaár szerint": "101",
                    "kat szerinti listaár": "12",
                    "raktárkód szerinti listaár": "53"
                },
                {
                    "termekkod": "03080003T",
                    "megnevezes": "Ajándék cs. tasak italos",
                    "kat_id": "6",
                    "raktar_kod": "6",
                    "listaar": "185",
                    "Listaár szerint": "101",
                    "kat szerinti listaár": "12",
                    "raktárkód szerinti listaár": "47"
                },
                {
                    "termekkod": "03080007T",
                    "megnevezes": "Ajándék cs. tasak mintás nagy",
                    "kat_id": "6",
                    "raktar_kod": "9",
                    "listaar": "206",
                    "Listaár szerint": "109",
                    "kat szerinti listaár": "13",
                    "raktárkód szerinti listaár": "54"
                },
                {
                    "termekkod": "03080010T",
                    "megnevezes": "Ajándék csom. 150x70",
                    "kat_id": "6",
                    "raktar_kod": "9",
                    "listaar": "206",
                    "Listaár szerint": "109",
                    "kat szerinti listaár": "13",
                    "raktárkód szerinti listaár": "54"
                },
                {
                    "termekkod": "03080438T",
                    "megnevezes": "Ajándék csomagoló tasak lézeres",
                    "kat_id": "6",
                    "raktar_kod": "7",
                    "listaar": "214",
                    "Listaár szerint": "112",
                    "kat szerinti listaár": "14",
                    "raktárkód szerinti listaár": "59"
                },
                {
                    "termekkod": "03080005T",
                    "megnevezes": "Ajándék cs. tasak virágos nagy",
                    "kat_id": "6",
                    "raktar_kod": "8",
                    "listaar": "290",
                    "Listaár szerint": "130",
                    "kat szerinti listaár": "15",
                    "raktárkód szerinti listaár": "65"
                },
                {
                    "termekkod": "04050022T",
                    "megnevezes": "Álarc",
                    "kat_id": "7",
                    "raktar_kod": "8",
                    "listaar": "89",
                    "Listaár szerint": "62",
                    "kat szerinti listaár": "1",
                    "raktárkód szerinti listaár": "36"
                },
                {
                    "termekkod": "04050023T",
                    "megnevezes": "Álarc fejdísz",
                    "kat_id": "7",
                    "raktar_kod": "8",
                    "listaar": "144",
                    "Listaár szerint": "86",
                    "kat szerinti listaár": "2",
                    "raktárkód szerinti listaár": "50"
                },
                {
                    "termekkod": "04050024T",
                    "megnevezes": "Álarc szemüveg",
                    "kat_id": "7",
                    "raktar_kod": "7",
                    "listaar": "144",
                    "Listaár szerint": "86",
                    "kat szerinti listaár": "2",
                    "raktárkód szerinti listaár": "44"
                },
                {
                    "termekkod": "L041-AL211",
                    "megnevezes": "lány ünneplős ruha",
                    "kat_id": "8",
                    "raktar_kod": "3",
                    "listaar": "16900",
                    "Listaár szerint": "215",
                    "kat szerinti listaár": "1",
                    "raktárkód szerinti listaár": "10"
                },
                {
                    "termekkod": "G041-AL211",
                    "megnevezes": "fiú ünneplős ruha",
                    "kat_id": "8",
                    "raktar_kod": "4",
                    "listaar": "16900",
                    "Listaár szerint": "215",
                    "kat szerinti listaár": "1",
                    "raktárkód szerinti listaár": "2"
                },
                {
                    "termekkod": "N029-AL212",
                    "megnevezes": "női koktélruha",
                    "kat_id": "8",
                    "raktar_kod": "4",
                    "listaar": "32000",
                    "Listaár szerint": "218",
                    "kat szerinti listaár": "2",
                    "raktárkód szerinti listaár": "3"
                },
                {
                    "termekkod": "05010026T",
                    "megnevezes": "Alufólia 10 m-es",
                    "kat_id": "9",
                    "raktar_kod": "9",
                    "listaar": "118",
                    "Listaár szerint": "76",
                    "kat szerinti listaár": "1",
                    "raktárkód szerinti listaár": "41"
                },
                {
                    "termekkod": "05010027T",
                    "megnevezes": "Alufólia 20 m-es",
                    "kat_id": "9",
                    "raktar_kod": "6",
                    "listaar": "214",
                    "Listaár szerint": "112",
                    "kat szerinti listaár": "2",
                    "raktárkód szerinti listaár": "48"
                },
                {
                    "termekkod": "02010028T",
                    "megnevezes": "Árazószalag ",
                    "kat_id": "10",
                    "raktar_kod": "9",
                    "listaar": "106",
                    "Listaár szerint": "71",
                    "kat szerinti listaár": "1",
                    "raktárkód szerinti listaár": "38"
                },
                {
                    "termekkod": "02020029T",
                    "megnevezes": "Átírótömb A/6",
                    "kat_id": "11",
                    "raktar_kod": "8",
                    "listaar": "115",
                    "Listaár szerint": "75",
                    "kat szerinti listaár": "1",
                    "raktárkód szerinti listaár": "45"
                },
                {
                    "termekkod": "06080423T",
                    "megnevezes": "Beíró A/5 kockás",
                    "kat_id": "12",
                    "raktar_kod": "5",
                    "listaar": "228",
                    "Listaár szerint": "115",
                    "kat szerinti listaár": "1",
                    "raktárkód szerinti listaár": "48"
                },
                {
                    "termekkod": "02020032T",
                    "megnevezes": "Beírókönyv A5 ",
                    "kat_id": "13",
                    "raktar_kod": "8",
                    "listaar": "133",
                    "Listaár szerint": "84",
                    "kat szerinti listaár": "1",
                    "raktárkód szerinti listaár": "49"
                },
                {
                    "termekkod": "02020033T",
                    "megnevezes": "Beírókönyv A4",
                    "kat_id": "13",
                    "raktar_kod": "5",
                    "listaar": "328",
                    "Listaár szerint": "141",
                    "kat szerinti listaár": "2",
                    "raktárkód szerinti listaár": "57"
                },
                {
                    "termekkod": "02060039T",
                    "megnevezes": "Bélyegző párna",
                    "kat_id": "14",
                    "raktar_kod": "6",
                    "listaar": "650",
                    "Listaár szerint": "171",
                    "kat szerinti listaár": "1",
                    "raktárkód szerinti listaár": "64"
                },
                {
                    "termekkod": "02060038T",
                    "megnevezes": "Bélyegző IDEAL 50",
                    "kat_id": "14",
                    "raktar_kod": "8",
                    "listaar": "780",
                    "Listaár szerint": "184",
                    "kat szerinti listaár": "2",
                    "raktárkód szerinti listaár": "78"
                },
                {
                    "termekkod": "02060448T",
                    "megnevezes": "Bélyegző RP 18-47",
                    "kat_id": "14",
                    "raktar_kod": "7",
                    "listaar": "1147",
                    "Listaár szerint": "193",
                    "kat szerinti listaár": "3",
                    "raktárkód szerinti listaár": "78"
                },
                {
                    "termekkod": "02060447T",
                    "megnevezes": "Bélyegző pocket",
                    "kat_id": "14",
                    "raktar_kod": "6",
                    "listaar": "1377",
                    "Listaár szerint": "197",
                    "kat szerinti listaár": "4",
                    "raktárkód szerinti listaár": "69"
                },
                {
                    "termekkod": "02060034T",
                    "megnevezes": "Bélyegzőfesték ",
                    "kat_id": "15",
                    "raktar_kod": "9",
                    "listaar": "297",
                    "Listaár szerint": "134",
                    "kat szerinti listaár": "1",
                    "raktárkód szerinti listaár": "58"
                },
                {
                    "termekkod": "02030042T",
                    "megnevezes": "Boríték LC 6",
                    "kat_id": "16",
                    "raktar_kod": "6",
                    "listaar": "3",
                    "Listaár szerint": "2",
                    "kat szerinti listaár": "1",
                    "raktárkód szerinti listaár": "1"
                },
                {
                    "termekkod": "02030040T",
                    "megnevezes": "Boríték LA 4 francia",
                    "kat_id": "16",
                    "raktar_kod": "6",
                    "listaar": "6",
                    "Listaár szerint": "5",
                    "kat szerinti listaár": "2",
                    "raktárkód szerinti listaár": "2"
                },
                {
                    "termekkod": "02030041T",
                    "megnevezes": "Boríték LC 5",
                    "kat_id": "16",
                    "raktar_kod": "9",
                    "listaar": "6",
                    "Listaár szerint": "5",
                    "kat szerinti listaár": "2",
                    "raktárkód szerinti listaár": "1"
                },
                {
                    "termekkod": "02030044T",
                    "megnevezes": "Boríték mintás",
                    "kat_id": "16",
                    "raktar_kod": "6",
                    "listaar": "15",
                    "Listaár szerint": "13",
                    "kat szerinti listaár": "3",
                    "raktárkód szerinti listaár": "7"
                },
                {
                    "termekkod": "02050460T",
                    "megnevezes": "Boríték C/4-es",
                    "kat_id": "16",
                    "raktar_kod": "5",
                    "listaar": "15",
                    "Listaár szerint": "13",
                    "kat szerinti listaár": "3",
                    "raktárkód szerinti listaár": "7"
                },
                {
                    "termekkod": "02050461T",
                    "megnevezes": "Boríték B/4-es",
                    "kat_id": "16",
                    "raktar_kod": "8",
                    "listaar": "18",
                    "Listaár szerint": "14",
                    "kat szerinti listaár": "4",
                    "raktárkód szerinti listaár": "6"
                },
                {
                    "termekkod": "02030043T",
                    "megnevezes": "Boríték légp. kicsi",
                    "kat_id": "16",
                    "raktar_kod": "7",
                    "listaar": "39",
                    "Listaár szerint": "30",
                    "kat szerinti listaár": "5",
                    "raktárkód szerinti listaár": "18"
                },
                {
                    "termekkod": "02080069T",
                    "megnevezes": "CD tartó tok",
                    "kat_id": "17",
                    "raktar_kod": "8",
                    "listaar": "30",
                    "Listaár szerint": "23",
                    "kat szerinti listaár": "1",
                    "raktárkód szerinti listaár": "12"
                },
                {
                    "termekkod": "05050045T",
                    "megnevezes": "Celofán",
                    "kat_id": "18",
                    "raktar_kod": "8",
                    "listaar": "46",
                    "Listaár szerint": "36",
                    "kat szerinti listaár": "1",
                    "raktárkód szerinti listaár": "23"
                },
                {
                    "termekkod": "05050046T",
                    "megnevezes": "Celofán 50 db-os",
                    "kat_id": "18",
                    "raktar_kod": "8",
                    "listaar": "73",
                    "Listaár szerint": "54",
                    "kat szerinti listaár": "2",
                    "raktárkód szerinti listaár": "33"
                },
                {
                    "termekkod": "07080065T",
                    "megnevezes": "Ceruza kínai",
                    "kat_id": "19",
                    "raktar_kod": "8",
                    "listaar": "11",
                    "Listaár szerint": "9",
                    "kat szerinti listaár": "1",
                    "raktárkód szerinti listaár": "4"
                },
                {
                    "termekkod": "07040058T",
                    "megnevezes": "Ceruza radíros kínai",
                    "kat_id": "19",
                    "raktar_kod": "7",
                    "listaar": "11",
                    "Listaár szerint": "9",
                    "kat szerinti listaár": "1",
                    "raktárkód szerinti listaár": "5"
                },
                {
                    "termekkod": "07040053T",
                    "megnevezes": "Ceruza HB radiros",
                    "kat_id": "19",
                    "raktar_kod": "5",
                    "listaar": "23",
                    "Listaár szerint": "17",
                    "kat szerinti listaár": "2",
                    "raktárkód szerinti listaár": "9"
                },
                {
                    "termekkod": "07040050T",
                    "megnevezes": "Ceruza Cseh",
                    "kat_id": "19",
                    "raktar_kod": "6",
                    "listaar": "30",
                    "Listaár szerint": "23",
                    "kat szerinti listaár": "3",
                    "raktárkód szerinti listaár": "12"
                },
                {
                    "termekkod": "07080063T",
                    "megnevezes": "Ceruza szorzótáblás",
                    "kat_id": "19",
                    "raktar_kod": "7",
                    "listaar": "35",
                    "Listaár szerint": "27",
                    "kat szerinti listaár": "4",
                    "raktárkód szerinti listaár": "17"
                },
                {
                    "termekkod": "07040060T",
                    "megnevezes": "Ceruza stabilo swano",
                    "kat_id": "19",
                    "raktar_kod": "6",
                    "listaar": "36",
                    "Listaár szerint": "28",
                    "kat szerinti listaár": "5",
                    "raktárkód szerinti listaár": "15"
                },
                {
                    "termekkod": "07040051T",
                    "megnevezes": "Ceruza háromszög ",
                    "kat_id": "19",
                    "raktar_kod": "6",
                    "listaar": "39",
                    "Listaár szerint": "30",
                    "kat szerinti listaár": "6",
                    "raktárkód szerinti listaár": "16"
                },
                {
                    "termekkod": "07040047T",
                    "megnevezes": "Ceruza 2H-4B",
                    "kat_id": "19",
                    "raktar_kod": "5",
                    "listaar": "39",
                    "Listaár szerint": "30",
                    "kat szerinti listaár": "6",
                    "raktárkód szerinti listaár": "16"
                },
                {
                    "termekkod": "07080064T",
                    "megnevezes": "Ceruza zöld színű",
                    "kat_id": "19",
                    "raktar_kod": "6",
                    "listaar": "40",
                    "Listaár szerint": "31",
                    "kat szerinti listaár": "7",
                    "raktárkód szerinti listaár": "17"
                },
                {
                    "termekkod": "07040056T",
                    "megnevezes": "Ceruza piros-kék vékony",
                    "kat_id": "19",
                    "raktar_kod": "7",
                    "listaar": "40",
                    "Listaár szerint": "31",
                    "kat szerinti listaár": "7",
                    "raktárkód szerinti listaár": "19"
                },
                {
                    "termekkod": "07040049T",
                    "megnevezes": "Ceruza Conté zöld",
                    "kat_id": "19",
                    "raktar_kod": "9",
                    "listaar": "40",
                    "Listaár szerint": "31",
                    "kat szerinti listaár": "7",
                    "raktárkód szerinti listaár": "15"
                },
                {
                    "termekkod": "07040061T",
                    "megnevezes": "Ceruza stabilo opera",
                    "kat_id": "19",
                    "raktar_kod": "9",
                    "listaar": "44",
                    "Listaár szerint": "34",
                    "kat szerinti listaár": "8",
                    "raktárkód szerinti listaár": "16"
                },
                {
                    "termekkod": "07040052T",
                    "megnevezes": "Ceruza 2H-3B Koh-i-nor",
                    "kat_id": "19",
                    "raktar_kod": "5",
                    "listaar": "53",
                    "Listaár szerint": "41",
                    "kat szerinti listaár": "9",
                    "raktárkód szerinti listaár": "20"
                },
                {
                    "termekkod": "07040054T",
                    "megnevezes": "Ceruza kártyás",
                    "kat_id": "19",
                    "raktar_kod": "7",
                    "listaar": "55",
                    "Listaár szerint": "42",
                    "kat szerinti listaár": "10",
                    "raktárkód szerinti listaár": "25"
                },
                {
                    "termekkod": "07040048T",
                    "megnevezes": "Ceruza arany, ezüst",
                    "kat_id": "19",
                    "raktar_kod": "6",
                    "listaar": "55",
                    "Listaár szerint": "42",
                    "kat szerinti listaár": "10",
                    "raktárkód szerinti listaár": "21"
                },
                {
                    "termekkod": "07040059T",
                    "megnevezes": "Ceruza smaragd",
                    "kat_id": "19",
                    "raktar_kod": "9",
                    "listaar": "58",
                    "Listaár szerint": "44",
                    "kat szerinti listaár": "11",
                    "raktárkód szerinti listaár": "21"
                },
                {
                    "termekkod": "07040055T",
                    "megnevezes": "Ceruza piros-kék",
                    "kat_id": "19",
                    "raktar_kod": "9",
                    "listaar": "59",
                    "Listaár szerint": "45",
                    "kat szerinti listaár": "12",
                    "raktárkód szerinti listaár": "22"
                },
                {
                    "termekkod": "07040057T",
                    "megnevezes": "Ceruza Progresso",
                    "kat_id": "19",
                    "raktar_kod": "7",
                    "listaar": "106",
                    "Listaár szerint": "71",
                    "kat szerinti listaár": "13",
                    "raktárkód szerinti listaár": "37"
                },
                {
                    "termekkod": "07080062T",
                    "megnevezes": "Ceruza szén",
                    "kat_id": "19",
                    "raktar_kod": "5",
                    "listaar": "146",
                    "Listaár szerint": "87",
                    "kat szerinti listaár": "14",
                    "raktárkód szerinti listaár": "38"
                },
                {
                    "termekkod": "04110068T",
                    "megnevezes": "Címke egyszínű",
                    "kat_id": "20",
                    "raktar_kod": "9",
                    "listaar": "20",
                    "Listaár szerint": "16",
                    "kat szerinti listaár": "1",
                    "raktárkód szerinti listaár": "8"
                },
                {
                    "termekkod": "04110066T",
                    "megnevezes": "Címke 8 db-os",
                    "kat_id": "20",
                    "raktar_kod": "7",
                    "listaar": "26",
                    "Listaár szerint": "20",
                    "kat szerinti listaár": "2",
                    "raktárkód szerinti listaár": "12"
                },
                {
                    "termekkod": "04110067T",
                    "megnevezes": "Címke WD. állat",
                    "kat_id": "20",
                    "raktar_kod": "7",
                    "listaar": "31",
                    "Listaár szerint": "24",
                    "kat szerinti listaár": "3",
                    "raktárkód szerinti listaár": "14"
                },
                {
                    "termekkod": "01100503T",
                    "megnevezes": "Color Copy A4 120 g",
                    "kat_id": "21",
                    "raktar_kod": "6",
                    "listaar": "10",
                    "Listaár szerint": "8",
                    "kat szerinti listaár": "1",
                    "raktárkód szerinti listaár": "5"
                },
                {
                    "termekkod": "01100497T",
                    "megnevezes": "Color Copy 160 g-os ",
                    "kat_id": "21",
                    "raktar_kod": "5",
                    "listaar": "14",
                    "Listaár szerint": "12",
                    "kat szerinti listaár": "2",
                    "raktárkód szerinti listaár": "6"
                },
                {
                    "termekkod": "01090500T",
                    "megnevezes": "Color Copy A4 200 g",
                    "kat_id": "21",
                    "raktar_kod": "9",
                    "listaar": "14",
                    "Listaár szerint": "12",
                    "kat szerinti listaár": "2",
                    "raktárkód szerinti listaár": "5"
                },
                {
                    "termekkod": "01090499T",
                    "megnevezes": "Color Copy A/4 250 g",
                    "kat_id": "21",
                    "raktar_kod": "6",
                    "listaar": "15",
                    "Listaár szerint": "13",
                    "kat szerinti listaár": "3",
                    "raktárkód szerinti listaár": "7"
                },
                {
                    "termekkod": "01100496T",
                    "megnevezes": "Színes másoló a/4 80g",
                    "kat_id": "21",
                    "raktar_kod": "5",
                    "listaar": "1500",
                    "Listaár szerint": "199",
                    "kat szerinti listaár": "4",
                    "raktárkód szerinti listaár": "69"
                },
                {
                    "termekkod": "05010370T",
                    "megnevezes": "Szilvia csomagoló",
                    "kat_id": "22",
                    "raktar_kod": "7",
                    "listaar": "89",
                    "Listaár szerint": "62",
                    "kat szerinti listaár": "1",
                    "raktárkód szerinti listaár": "33"
                },
                {
                    "termekkod": "03080016T",
                    "megnevezes": "házt.csom.  5 ív",
                    "kat_id": "22",
                    "raktar_kod": "8",
                    "listaar": "110",
                    "Listaár szerint": "73",
                    "kat szerinti listaár": "2",
                    "raktárkód szerinti listaár": "43"
                },
                {
                    "termekkod": "03080021T",
                    "megnevezes": "Ajándék csom. vékony",
                    "kat_id": "24",
                    "raktar_kod": "7",
                    "listaar": "23",
                    "Listaár szerint": "17",
                    "kat szerinti listaár": "1",
                    "raktárkód szerinti listaár": "10"
                },
                {
                    "termekkod": "03080020T",
                    "megnevezes": "Ajándék csom. nagy  ",
                    "kat_id": "24",
                    "raktar_kod": "9",
                    "listaar": "44",
                    "Listaár szerint": "34",
                    "kat szerinti listaár": "2",
                    "raktárkód szerinti listaár": "16"
                },
                {
                    "termekkod": "03080019T",
                    "megnevezes": "Ajándék csom. Krepp",
                    "kat_id": "24",
                    "raktar_kod": "5",
                    "listaar": "56",
                    "Listaár szerint": "43",
                    "kat szerinti listaár": "3",
                    "raktárkód szerinti listaár": "22"
                },
                {
                    "termekkod": "03080031T",
                    "megnevezes": "Ajándék cs. húsvéti",
                    "kat_id": "24",
                    "raktar_kod": "6",
                    "listaar": "106",
                    "Listaár szerint": "71",
                    "kat szerinti listaár": "4",
                    "raktárkód szerinti listaár": "35"
                },
                {
                    "termekkod": "03080018T",
                    "megnevezes": "Ajándék csom. gyűrt 50x70 ",
                    "kat_id": "24",
                    "raktar_kod": "5",
                    "listaar": "121",
                    "Listaár szerint": "78",
                    "kat szerinti listaár": "5",
                    "raktárkód szerinti listaár": "34"
                },
                {
                    "termekkod": "03080017T",
                    "megnevezes": "iskolai csomagoló papír",
                    "kat_id": "24",
                    "raktar_kod": "9",
                    "listaar": "148",
                    "Listaár szerint": "88",
                    "kat szerinti listaár": "6",
                    "raktárkód szerinti listaár": "46"
                },
                {
                    "termekkod": "03080030T",
                    "megnevezes": "Ajándék cs. húsvéti 200x70",
                    "kat_id": "24",
                    "raktar_kod": "7",
                    "listaar": "220",
                    "Listaár szerint": "114",
                    "kat szerinti listaár": "7",
                    "raktárkód szerinti listaár": "60"
                },
                {
                    "termekkod": "04030288T",
                    "megnevezes": "Műanyag pohár 1 dl-es",
                    "kat_id": "25",
                    "raktar_kod": "7",
                    "listaar": "3",
                    "Listaár szerint": "2",
                    "kat szerinti listaár": "1",
                    "raktárkód szerinti listaár": "1"
                },
                {
                    "termekkod": "04030289T",
                    "megnevezes": "Műanyag pohár 5 cl-es",
                    "kat_id": "25",
                    "raktar_kod": "6",
                    "listaar": "15",
                    "Listaár szerint": "13",
                    "kat szerinti listaár": "2",
                    "raktárkód szerinti listaár": "7"
                },
                {
                    "termekkod": "04030287T",
                    "megnevezes": "Műanyag foszforeszkáló állat",
                    "kat_id": "25",
                    "raktar_kod": "8",
                    "listaar": "23",
                    "Listaár szerint": "17",
                    "kat szerinti listaár": "3",
                    "raktárkód szerinti listaár": "9"
                },
                {
                    "termekkod": "04030286T",
                    "megnevezes": "Műanyag állatok",
                    "kat_id": "25",
                    "raktar_kod": "5",
                    "listaar": "44",
                    "Listaár szerint": "34",
                    "kat szerinti listaár": "4",
                    "raktárkód szerinti listaár": "17"
                },
                {
                    "termekkod": "01100072T",
                    "megnevezes": "Dipa A/4 keretezett",
                    "kat_id": "26",
                    "raktar_kod": "9",
                    "listaar": "9",
                    "Listaár szerint": "7",
                    "kat szerinti listaár": "1",
                    "raktárkód szerinti listaár": "3"
                },
                {
                    "termekkod": "04050075T",
                    "megnevezes": "Díszdoboz tollnak 2 db-os keskeny",
                    "kat_id": "27",
                    "raktar_kod": "5",
                    "listaar": "44",
                    "Listaár szerint": "34",
                    "kat szerinti listaár": "1",
                    "raktárkód szerinti listaár": "17"
                },
                {
                    "termekkod": "04050073T",
                    "megnevezes": "Díszdoboz kar.",
                    "kat_id": "27",
                    "raktar_kod": "9",
                    "listaar": "61",
                    "Listaár szerint": "47",
                    "kat szerinti listaár": "2",
                    "raktárkód szerinti listaár": "24"
                },
                {
                    "termekkod": "04050074T",
                    "megnevezes": "Díszdoboz tollnak 2 db-os",
                    "kat_id": "27",
                    "raktar_kod": "7",
                    "listaar": "66",
                    "Listaár szerint": "51",
                    "kat szerinti listaár": "3",
                    "raktárkód szerinti listaár": "28"
                },
                {
                    "termekkod": "03050078T",
                    "megnevezes": "Díszkötöző szalag metál kicsi",
                    "kat_id": "28",
                    "raktar_kod": "8",
                    "listaar": "15",
                    "Listaár szerint": "13",
                    "kat szerinti listaár": "1",
                    "raktárkód szerinti listaár": "5"
                },
                {
                    "termekkod": "03050079T",
                    "megnevezes": "Díszkötöző szalag vékony",
                    "kat_id": "28",
                    "raktar_kod": "8",
                    "listaar": "15",
                    "Listaár szerint": "13",
                    "kat szerinti listaár": "1",
                    "raktárkód szerinti listaár": "5"
                },
                {
                    "termekkod": "03050076T",
                    "megnevezes": "Díszkötöző szalag metál nagy",
                    "kat_id": "28",
                    "raktar_kod": "8",
                    "listaar": "26",
                    "Listaár szerint": "20",
                    "kat szerinti listaár": "2",
                    "raktárkód szerinti listaár": "10"
                },
                {
                    "termekkod": "03050077T",
                    "megnevezes": "Diszkötöző szalag arany",
                    "kat_id": "28",
                    "raktar_kod": "8",
                    "listaar": "44",
                    "Listaár szerint": "34",
                    "kat szerinti listaár": "3",
                    "raktárkód szerinti listaár": "21"
                },
                {
                    "termekkod": "03050080T",
                    "megnevezes": "Diszkötöző széles szalag",
                    "kat_id": "28",
                    "raktar_kod": "6",
                    "listaar": "81",
                    "Listaár szerint": "60",
                    "kat szerinti listaár": "4",
                    "raktárkód szerinti listaár": "29"
                },
                {
                    "termekkod": "02080081T",
                    "megnevezes": "Dvd",
                    "kat_id": "29",
                    "raktar_kod": "9",
                    "listaar": "133",
                    "Listaár szerint": "84",
                    "kat szerinti listaár": "1",
                    "raktárkód szerinti listaár": "44"
                },
                {
                    "termekkod": "06010083T",
                    "megnevezes": "Ecset Centrum 7,8,9",
                    "kat_id": "30",
                    "raktar_kod": "6",
                    "listaar": "33",
                    "Listaár szerint": "25",
                    "kat szerinti listaár": "1",
                    "raktárkód szerinti listaár": "13"
                },
                {
                    "termekkod": "06010086T",
                    "megnevezes": "Ecset Nebulo 4-es",
                    "kat_id": "30",
                    "raktar_kod": "8",
                    "listaar": "36",
                    "Listaár szerint": "28",
                    "kat szerinti listaár": "2",
                    "raktárkód szerinti listaár": "16"
                },
                {
                    "termekkod": "06010082T",
                    "megnevezes": "Ecset Centrum 10,11,12",
                    "kat_id": "30",
                    "raktar_kod": "8",
                    "listaar": "40",
                    "Listaár szerint": "31",
                    "kat szerinti listaár": "3",
                    "raktárkód szerinti listaár": "18"
                },
                {
                    "termekkod": "06010084T",
                    "megnevezes": "Ecset Deák 2-es",
                    "kat_id": "30",
                    "raktar_kod": "9",
                    "listaar": "60",
                    "Listaár szerint": "46",
                    "kat szerinti listaár": "4",
                    "raktárkód szerinti listaár": "23"
                },
                {
                    "termekkod": "06010085T",
                    "megnevezes": "Ecset Lizzy 10-es",
                    "kat_id": "30",
                    "raktar_kod": "5",
                    "listaar": "65",
                    "Listaár szerint": "50",
                    "kat szerinti listaár": "5",
                    "raktárkód szerinti listaár": "26"
                },
                {
                    "termekkod": "06040087T",
                    "megnevezes": "Ecset Nebuló 10-es",
                    "kat_id": "30",
                    "raktar_kod": "7",
                    "listaar": "79",
                    "Listaár szerint": "58",
                    "kat szerinti listaár": "6",
                    "raktárkód szerinti listaár": "32"
                },
                {
                    "termekkod": "06080428T",
                    "megnevezes": "Ecsetkészlet",
                    "kat_id": "30",
                    "raktar_kod": "8",
                    "listaar": "180",
                    "Listaár szerint": "98",
                    "kat szerinti listaár": "7",
                    "raktárkód szerinti listaár": "56"
                },
                {
                    "termekkod": "01040502T",
                    "megnevezes": "Előlap spirálhoz",
                    "kat_id": "31",
                    "raktar_kod": "5",
                    "listaar": "25",
                    "Listaár szerint": "19",
                    "kat szerinti listaár": "1",
                    "raktárkód szerinti listaár": "11"
                },
                {
                    "termekkod": "04080442T",
                    "megnevezes": "Emlékkönyv",
                    "kat_id": "32",
                    "raktar_kod": "7",
                    "listaar": "316",
                    "Listaár szerint": "139",
                    "kat szerinti listaár": "1",
                    "raktárkód szerinti listaár": "69"
                },
                {
                    "termekkod": "04080443T",
                    "megnevezes": "Emlékkönyv lakatos",
                    "kat_id": "32",
                    "raktar_kod": "7",
                    "listaar": "449",
                    "Listaár szerint": "159",
                    "kat szerinti listaár": "2",
                    "raktárkód szerinti listaár": "74"
                },
                {
                    "termekkod": "04040090T",
                    "megnevezes": "Emlékkönyv",
                    "kat_id": "32",
                    "raktar_kod": "6",
                    "listaar": "526",
                    "Listaár szerint": "166",
                    "kat szerinti listaár": "3",
                    "raktárkód szerinti listaár": "61"
                },
                {
                    "termekkod": "01030091T",
                    "megnevezes": "Emléklap A/5",
                    "kat_id": "33",
                    "raktar_kod": "7",
                    "listaar": "26",
                    "Listaár szerint": "20",
                    "kat szerinti listaár": "1",
                    "raktárkód szerinti listaár": "12"
                },
                {
                    "termekkod": "01080093T",
                    "megnevezes": "Fax papír 15 m",
                    "kat_id": "34",
                    "raktar_kod": "9",
                    "listaar": "161",
                    "Listaár szerint": "90",
                    "kat szerinti listaár": "1",
                    "raktárkód szerinti listaár": "48"
                },
                {
                    "termekkod": "G029-FE307",
                    "megnevezes": "fiú zokni",
                    "kat_id": "35",
                    "raktar_kod": "4",
                    "listaar": "240",
                    "Listaár szerint": "120",
                    "kat szerinti listaár": "1",
                    "raktárkód szerinti listaár": "1"
                },
                {
                    "termekkod": "L029-FE307",
                    "megnevezes": "lány zokni",
                    "kat_id": "35",
                    "raktar_kod": "4",
                    "listaar": "240",
                    "Listaár szerint": "120",
                    "kat szerinti listaár": "1",
                    "raktárkód szerinti listaár": "1"
                },
                {
                    "termekkod": "L023-FE301",
                    "megnevezes": "lány alsó",
                    "kat_id": "35",
                    "raktar_kod": "1",
                    "listaar": "390",
                    "Listaár szerint": "149",
                    "kat szerinti listaár": "2",
                    "raktárkód szerinti listaár": "1"
                },
                {
                    "termekkod": "G023-FE301",
                    "megnevezes": "fiú alsó",
                    "kat_id": "35",
                    "raktar_kod": "3",
                    "listaar": "390",
                    "Listaár szerint": "149",
                    "kat szerinti listaár": "2",
                    "raktárkód szerinti listaár": "1"
                },
                {
                    "termekkod": "N019-FE301",
                    "megnevezes": "női alsó",
                    "kat_id": "35",
                    "raktar_kod": "2",
                    "listaar": "690",
                    "Listaár szerint": "176",
                    "kat szerinti listaár": "3",
                    "raktárkód szerinti listaár": "2"
                },
                {
                    "termekkod": "G038-FE316",
                    "megnevezes": "fiú harisnya",
                    "kat_id": "35",
                    "raktar_kod": "3",
                    "listaar": "990",
                    "Listaár szerint": "190",
                    "kat szerinti listaár": "4",
                    "raktárkód szerinti listaár": "2"
                },
                {
                    "termekkod": "L033-FE311",
                    "megnevezes": "lány harisnya",
                    "kat_id": "35",
                    "raktar_kod": "3",
                    "listaar": "990",
                    "Listaár szerint": "190",
                    "kat szerinti listaár": "4",
                    "raktárkód szerinti listaár": "2"
                },
                {
                    "termekkod": "01100505T",
                    "megnevezes": "Fehér másoló A/4",
                    "kat_id": "36",
                    "raktar_kod": "6",
                    "listaar": "686",
                    "Listaár szerint": "175",
                    "kat szerinti listaár": "1",
                    "raktárkód szerinti listaár": "66"
                },
                {
                    "termekkod": "01100096T",
                    "megnevezes": "Fénymásoló papír Qconnect",
                    "kat_id": "36",
                    "raktar_kod": "5",
                    "listaar": "728",
                    "Listaár szerint": "180",
                    "kat szerinti listaár": "2",
                    "raktárkód szerinti listaár": "63"
                },
                {
                    "termekkod": "01100095T",
                    "megnevezes": "Fénymásoló papír GetCopy",
                    "kat_id": "36",
                    "raktar_kod": "9",
                    "listaar": "728",
                    "Listaár szerint": "180",
                    "kat szerinti listaár": "2",
                    "raktárkód szerinti listaár": "70"
                },
                {
                    "termekkod": "01100094T",
                    "megnevezes": "Fénymásoló papír DataCopy",
                    "kat_id": "36",
                    "raktar_kod": "9",
                    "listaar": "845",
                    "Listaár szerint": "187",
                    "kat szerinti listaár": "3",
                    "raktárkód szerinti listaár": "73"
                },
                {
                    "termekkod": "01100504T",
                    "megnevezes": "Fehér másoló A/3",
                    "kat_id": "36",
                    "raktar_kod": "6",
                    "listaar": "1488",
                    "Listaár szerint": "198",
                    "kat szerinti listaár": "4",
                    "raktárkód szerinti listaár": "70"
                },
                {
                    "termekkod": "F021-IN215",
                    "megnevezes": "férfi ing",
                    "kat_id": "37",
                    "raktar_kod": "1",
                    "listaar": "6490",
                    "Listaár szerint": "206",
                    "kat szerinti listaár": "1",
                    "raktárkód szerinti listaár": "4"
                },
                {
                    "termekkod": "F001-KB101",
                    "megnevezes": "férfi szövet kabát",
                    "kat_id": "38",
                    "raktar_kod": "1",
                    "listaar": "22000",
                    "Listaár szerint": "216",
                    "kat szerinti listaár": "1",
                    "raktárkód szerinti listaár": "9"
                },
                {
                    "termekkod": "F007-NA201",
                    "megnevezes": "férfi farmer nadrág",
                    "kat_id": "39",
                    "raktar_kod": "3",
                    "listaar": "7890",
                    "Listaár szerint": "208",
                    "kat szerinti listaár": "1",
                    "raktárkód szerinti listaár": "7"
                },
                {
                    "termekkod": "F013-NA207",
                    "megnevezes": "férfi szövet nadrág",
                    "kat_id": "39",
                    "raktar_kod": "1",
                    "listaar": "11900",
                    "Listaár szerint": "213",
                    "kat szerinti listaár": "2",
                    "raktárkód szerinti listaár": "8"
                },
                {
                    "termekkod": "02080455T",
                    "megnevezes": "Festékpatron BCI-3BK",
                    "kat_id": "40",
                    "raktar_kod": "6",
                    "listaar": "625",
                    "Listaár szerint": "169",
                    "kat szerinti listaár": "1",
                    "raktárkód szerinti listaár": "63"
                },
                {
                    "termekkod": "07030108T",
                    "megnevezes": "Filctoll CD író",
                    "kat_id": "41",
                    "raktar_kod": "5",
                    "listaar": "0",
                    "Listaár szerint": "1",
                    "kat szerinti listaár": "1",
                    "raktárkód szerinti listaár": "1"
                },
                {
                    "termekkod": "07040097T",
                    "megnevezes": "Filctoll ",
                    "kat_id": "41",
                    "raktar_kod": "8",
                    "listaar": "26",
                    "Listaár szerint": "20",
                    "kat szerinti listaár": "2",
                    "raktárkód szerinti listaár": "10"
                },
                {
                    "termekkod": "07040102T",
                    "megnevezes": "Filctoll supra fine",
                    "kat_id": "41",
                    "raktar_kod": "7",
                    "listaar": "46",
                    "Listaár szerint": "36",
                    "kat szerinti listaár": "3",
                    "raktárkód szerinti listaár": "21"
                },
                {
                    "termekkod": "07030103T",
                    "megnevezes": "Filctoll TINTEN PEN",
                    "kat_id": "41",
                    "raktar_kod": "8",
                    "listaar": "53",
                    "Listaár szerint": "41",
                    "kat szerinti listaár": "4",
                    "raktárkód szerinti listaár": "27"
                },
                {
                    "termekkod": "07030104T",
                    "megnevezes": "Filctoll vastag ARTIP",
                    "kat_id": "41",
                    "raktar_kod": "8",
                    "listaar": "76",
                    "Listaár szerint": "56",
                    "kat szerinti listaár": "5",
                    "raktárkód szerinti listaár": "34"
                },
                {
                    "termekkod": "07030106T",
                    "megnevezes": "Filctoll, alkoholosOHP F-M-C",
                    "kat_id": "41",
                    "raktar_kod": "9",
                    "listaar": "103",
                    "Listaár szerint": "70",
                    "kat szerinti listaár": "6",
                    "raktárkód szerinti listaár": "37"
                },
                {
                    "termekkod": "07030105T",
                    "megnevezes": "Filctoll, alkoholos Centropen",
                    "kat_id": "41",
                    "raktar_kod": "5",
                    "listaar": "114",
                    "Listaár szerint": "74",
                    "kat szerinti listaár": "7",
                    "raktárkód szerinti listaár": "33"
                },
                {
                    "termekkod": "07040101T",
                    "megnevezes": "Filctoll permanent vastag",
                    "kat_id": "41",
                    "raktar_kod": "9",
                    "listaar": "140",
                    "Listaár szerint": "85",
                    "kat szerinti listaár": "8",
                    "raktárkód szerinti listaár": "45"
                },
                {
                    "termekkod": "07030107T",
                    "megnevezes": "Filctoll, textil Edding 4500",
                    "kat_id": "41",
                    "raktar_kod": "5",
                    "listaar": "276",
                    "Listaár szerint": "127",
                    "kat szerinti listaár": "9",
                    "raktárkód szerinti listaár": "52"
                },
                {
                    "termekkod": "07040098T",
                    "megnevezes": "Filctoll document pen",
                    "kat_id": "41",
                    "raktar_kod": "5",
                    "listaar": "278",
                    "Listaár szerint": "128",
                    "kat szerinti listaár": "10",
                    "raktárkód szerinti listaár": "53"
                },
                {
                    "termekkod": "07040100T",
                    "megnevezes": "Filctoll Marvy alkoholos",
                    "kat_id": "41",
                    "raktar_kod": "5",
                    "listaar": "390",
                    "Listaár szerint": "149",
                    "kat szerinti listaár": "11",
                    "raktárkód szerinti listaár": "58"
                },
                {
                    "termekkod": "07040099T",
                    "megnevezes": "Filctoll Edding 750",
                    "kat_id": "41",
                    "raktar_kod": "9",
                    "listaar": "434",
                    "Listaár szerint": "156",
                    "kat szerinti listaár": "12",
                    "raktárkód szerinti listaár": "64"
                },
                {
                    "termekkod": "07040257T",
                    "megnevezes": "Lakk filc Edding 750",
                    "kat_id": "41",
                    "raktar_kod": "8",
                    "listaar": "434",
                    "Listaár szerint": "156",
                    "kat szerinti listaár": "12",
                    "raktárkód szerinti listaár": "72"
                },
                {
                    "termekkod": "02080109T",
                    "megnevezes": "Floppy lemez",
                    "kat_id": "42",
                    "raktar_kod": "7",
                    "listaar": "51",
                    "Listaár szerint": "40",
                    "kat szerinti listaár": "1",
                    "raktárkód szerinti listaár": "24"
                },
                {
                    "termekkod": "02040507T",
                    "megnevezes": "Fólia tasakos A4 80 mik.",
                    "kat_id": "43",
                    "raktar_kod": "8",
                    "listaar": "40",
                    "Listaár szerint": "31",
                    "kat szerinti listaár": "1",
                    "raktárkód szerinti listaár": "18"
                },
                {
                    "termekkod": "02040508T",
                    "megnevezes": "Fólia tasakos A4100 mik.",
                    "kat_id": "43",
                    "raktar_kod": "8",
                    "listaar": "44",
                    "Listaár szerint": "34",
                    "kat szerinti listaár": "2",
                    "raktárkód szerinti listaár": "21"
                },
                {
                    "termekkod": "02040506T",
                    "megnevezes": "Fólia tasakos A4 125 mik.",
                    "kat_id": "43",
                    "raktar_kod": "9",
                    "listaar": "44",
                    "Listaár szerint": "34",
                    "kat szerinti listaár": "2",
                    "raktárkód szerinti listaár": "16"
                },
                {
                    "termekkod": "01010110T",
                    "megnevezes": "Fotópapír A/4 fényes",
                    "kat_id": "44",
                    "raktar_kod": "9",
                    "listaar": "30",
                    "Listaár szerint": "23",
                    "kat szerinti listaár": "1",
                    "raktárkód szerinti listaár": "12"
                },
                {
                    "termekkod": "06010114T",
                    "megnevezes": "Füzet A/5 hangjegy 36/16",
                    "kat_id": "45",
                    "raktar_kod": "6",
                    "listaar": "30",
                    "Listaár szerint": "23",
                    "kat szerinti listaár": "1",
                    "raktárkód szerinti listaár": "12"
                },
                {
                    "termekkod": "06080116T",
                    "megnevezes": "Füzet A5 1-8 osz.-ig",
                    "kat_id": "45",
                    "raktar_kod": "7",
                    "listaar": "34",
                    "Listaár szerint": "26",
                    "kat szerinti listaár": "2",
                    "raktárkód szerinti listaár": "16"
                },
                {
                    "termekkod": "06010113T",
                    "megnevezes": "Füzet 31-32 szótár",
                    "kat_id": "45",
                    "raktar_kod": "8",
                    "listaar": "34",
                    "Listaár szerint": "26",
                    "kat szerinti listaár": "2",
                    "raktárkód szerinti listaár": "14"
                },
                {
                    "termekkod": "06010115T",
                    "megnevezes": "Füzet A/5, mintás",
                    "kat_id": "45",
                    "raktar_kod": "9",
                    "listaar": "48",
                    "Listaár szerint": "37",
                    "kat szerinti listaár": "3",
                    "raktárkód szerinti listaár": "18"
                },
                {
                    "termekkod": "06010111T",
                    "megnevezes": "Füzet  A/4 ",
                    "kat_id": "45",
                    "raktar_kod": "9",
                    "listaar": "68",
                    "Listaár szerint": "52",
                    "kat szerinti listaár": "4",
                    "raktárkód szerinti listaár": "27"
                },
                {
                    "termekkod": "06010112T",
                    "megnevezes": "Füzet  A4 mintás",
                    "kat_id": "45",
                    "raktar_kod": "9",
                    "listaar": "78",
                    "Listaár szerint": "57",
                    "kat szerinti listaár": "5",
                    "raktárkód szerinti listaár": "30"
                },
                {
                    "termekkod": "06040357T",
                    "megnevezes": "Sp.Füzet A/5 70-es",
                    "kat_id": "45",
                    "raktar_kod": "6",
                    "listaar": "89",
                    "Listaár szerint": "62",
                    "kat szerinti listaár": "6",
                    "raktárkód szerinti listaár": "30"
                },
                {
                    "termekkod": "06040356T",
                    "megnevezes": "Sp.Füzet A/4  70es",
                    "kat_id": "45",
                    "raktar_kod": "8",
                    "listaar": "144",
                    "Listaár szerint": "86",
                    "kat szerinti listaár": "7",
                    "raktárkód szerinti listaár": "50"
                },
                {
                    "termekkod": "06040355T",
                    "megnevezes": "Sp.Füzet A/4 70-as",
                    "kat_id": "45",
                    "raktar_kod": "8",
                    "listaar": "155",
                    "Listaár szerint": "89",
                    "kat szerinti listaár": "8",
                    "raktárkód szerinti listaár": "52"
                },
                {
                    "termekkod": "06080426T",
                    "megnevezes": "Szótárfüzet Lizzy",
                    "kat_id": "45",
                    "raktar_kod": "7",
                    "listaar": "161",
                    "Listaár szerint": "90",
                    "kat szerinti listaár": "9",
                    "raktárkód szerinti listaár": "46"
                },
                {
                    "termekkod": "06040354T",
                    "megnevezes": "Sp.Füzet A/4  perforált, lyuk.",
                    "kat_id": "45",
                    "raktar_kod": "5",
                    "listaar": "206",
                    "Listaár szerint": "109",
                    "kat szerinti listaár": "10",
                    "raktárkód szerinti listaár": "47"
                },
                {
                    "termekkod": "06080118T",
                    "megnevezes": "Füzetborító átlátszó A5",
                    "kat_id": "46",
                    "raktar_kod": "6",
                    "listaar": "8",
                    "Listaár szerint": "6",
                    "kat szerinti listaár": "1",
                    "raktárkód szerinti listaár": "3"
                },
                {
                    "termekkod": "06080117T",
                    "megnevezes": "Füzetborító A/4 átlátszó",
                    "kat_id": "46",
                    "raktar_kod": "6",
                    "listaar": "10",
                    "Listaár szerint": "8",
                    "kat szerinti listaár": "2",
                    "raktárkód szerinti listaár": "5"
                },
                {
                    "termekkod": "06080119T",
                    "megnevezes": "Füzetborító mesefig.",
                    "kat_id": "46",
                    "raktar_kod": "2",
                    "listaar": "19",
                    "Listaár szerint": "15",
                    "kat szerinti listaár": "3",
                    "raktárkód szerinti listaár": "1"
                },
                {
                    "termekkod": "06080122T",
                    "megnevezes": "Füzetborító öntapadós nagy",
                    "kat_id": "46",
                    "raktar_kod": "7",
                    "listaar": "19",
                    "Listaár szerint": "15",
                    "kat szerinti listaár": "3",
                    "raktárkód szerinti listaár": "9"
                },
                {
                    "termekkod": "06080120T",
                    "megnevezes": "Füzetborító öntapadó kicsi",
                    "kat_id": "46",
                    "raktar_kod": "9",
                    "listaar": "23",
                    "Listaár szerint": "17",
                    "kat szerinti listaár": "4",
                    "raktárkód szerinti listaár": "9"
                },
                {
                    "termekkod": "06080424T",
                    "megnevezes": "Füzetborító A/4 mintás",
                    "kat_id": "46",
                    "raktar_kod": "9",
                    "listaar": "24",
                    "Listaár szerint": "18",
                    "kat szerinti listaár": "5",
                    "raktárkód szerinti listaár": "10"
                },
                {
                    "termekkod": "06080121T",
                    "megnevezes": "Füzetborító öntapadó tekercses",
                    "kat_id": "46",
                    "raktar_kod": "7",
                    "listaar": "195",
                    "Listaár szerint": "106",
                    "kat szerinti listaár": "6",
                    "raktárkód szerinti listaár": "55"
                },
                {
                    "termekkod": "06080126T",
                    "megnevezes": "Füzettartó A/5  ",
                    "kat_id": "47",
                    "raktar_kod": "9",
                    "listaar": "203",
                    "Listaár szerint": "108",
                    "kat szerinti listaár": "1",
                    "raktárkód szerinti listaár": "53"
                },
                {
                    "termekkod": "06080125T",
                    "megnevezes": "Füzettartó A/5 vastag",
                    "kat_id": "47",
                    "raktar_kod": "7",
                    "listaar": "411",
                    "Listaár szerint": "154",
                    "kat szerinti listaár": "2",
                    "raktárkód szerinti listaár": "73"
                },
                {
                    "termekkod": "06080124T",
                    "megnevezes": "Füzettartó A/4 keménytáblás",
                    "kat_id": "47",
                    "raktar_kod": "6",
                    "listaar": "508",
                    "Listaár szerint": "164",
                    "kat szerinti listaár": "3",
                    "raktárkód szerinti listaár": "60"
                },
                {
                    "termekkod": "06080123T",
                    "megnevezes": "Füzettartó A/4 keménytáblás",
                    "kat_id": "47",
                    "raktar_kod": "6",
                    "listaar": "551",
                    "Listaár szerint": "167",
                    "kat szerinti listaár": "4",
                    "raktárkód szerinti listaár": "62"
                },
                {
                    "termekkod": "02040145T",
                    "megnevezes": "Gemkapocs 28 mm",
                    "kat_id": "48",
                    "raktar_kod": "8",
                    "listaar": "30",
                    "Listaár szerint": "23",
                    "kat szerinti listaár": "1",
                    "raktárkód szerinti listaár": "12"
                },
                {
                    "termekkod": "02040146T",
                    "megnevezes": "Gemkapocs ICO",
                    "kat_id": "48",
                    "raktar_kod": "7",
                    "listaar": "48",
                    "Listaár szerint": "37",
                    "kat szerinti listaár": "2",
                    "raktárkód szerinti listaár": "22"
                },
                {
                    "termekkod": "02080450T",
                    "megnevezes": "Gémkapocs 28-as színes",
                    "kat_id": "49",
                    "raktar_kod": "8",
                    "listaar": "44",
                    "Listaár szerint": "34",
                    "kat szerinti listaár": "1",
                    "raktárkód szerinti listaár": "21"
                },
                {
                    "termekkod": "02080451T",
                    "megnevezes": "Gémkapocs 50-es",
                    "kat_id": "49",
                    "raktar_kod": "5",
                    "listaar": "103",
                    "Listaár szerint": "70",
                    "kat szerinti listaár": "2",
                    "raktárkód szerinti listaár": "32"
                },
                {
                    "termekkod": "02080456T",
                    "megnevezes": "Genoterm HERLITZ 10-es",
                    "kat_id": "50",
                    "raktar_kod": "7",
                    "listaar": "89",
                    "Listaár szerint": "62",
                    "kat szerinti listaár": "1",
                    "raktárkód szerinti listaár": "33"
                },
                {
                    "termekkod": "02040147T",
                    "megnevezes": "Genotherm lefűzhető A/5",
                    "kat_id": "51",
                    "raktar_kod": "8",
                    "listaar": "8",
                    "Listaár szerint": "6",
                    "kat szerinti listaár": "1",
                    "raktárkód szerinti listaár": "3"
                },
                {
                    "termekkod": "02040148T",
                    "megnevezes": "Genotherm lefűzhető A4 10db-os",
                    "kat_id": "51",
                    "raktar_kod": "9",
                    "listaar": "63",
                    "Listaár szerint": "48",
                    "kat szerinti listaár": "2",
                    "raktárkód szerinti listaár": "25"
                },
                {
                    "termekkod": "02040149T",
                    "megnevezes": "Genotherm A4 10db-os",
                    "kat_id": "51",
                    "raktar_kod": "7",
                    "listaar": "110",
                    "Listaár szerint": "73",
                    "kat szerinti listaár": "3",
                    "raktárkód szerinti listaár": "38"
                },
                {
                    "termekkod": "07080156T",
                    "megnevezes": "Golyóstoll kupakos piros",
                    "kat_id": "52",
                    "raktar_kod": "8",
                    "listaar": "23",
                    "Listaár szerint": "17",
                    "kat szerinti listaár": "1",
                    "raktárkód szerinti listaár": "9"
                },
                {
                    "termekkod": "07080155T",
                    "megnevezes": "Golyóstoll",
                    "kat_id": "52",
                    "raktar_kod": "5",
                    "listaar": "33",
                    "Listaár szerint": "25",
                    "kat szerinti listaár": "2",
                    "raktárkód szerinti listaár": "14"
                },
                {
                    "termekkod": "07080153T",
                    "megnevezes": "Golyóstoll illatos ICO",
                    "kat_id": "52",
                    "raktar_kod": "8",
                    "listaar": "41",
                    "Listaár szerint": "32",
                    "kat szerinti listaár": "3",
                    "raktárkód szerinti listaár": "19"
                },
                {
                    "termekkod": "07080161T",
                    "megnevezes": "Golyóstoll kétszínű",
                    "kat_id": "52",
                    "raktar_kod": "9",
                    "listaar": "44",
                    "Listaár szerint": "34",
                    "kat szerinti listaár": "4",
                    "raktárkód szerinti listaár": "16"
                },
                {
                    "termekkod": "07080150T",
                    "megnevezes": "Golyóstoll",
                    "kat_id": "52",
                    "raktar_kod": "6",
                    "listaar": "51",
                    "Listaár szerint": "40",
                    "kat szerinti listaár": "5",
                    "raktárkód szerinti listaár": "20"
                },
                {
                    "termekkod": "07080159T",
                    "megnevezes": "Golyóstoll Pax tip.",
                    "kat_id": "52",
                    "raktar_kod": "8",
                    "listaar": "63",
                    "Listaár szerint": "48",
                    "kat szerinti listaár": "6",
                    "raktárkód szerinti listaár": "31"
                },
                {
                    "termekkod": "07080466T",
                    "megnevezes": "Golyóstoll Stabiló 308",
                    "kat_id": "52",
                    "raktar_kod": "9",
                    "listaar": "81",
                    "Listaár szerint": "60",
                    "kat szerinti listaár": "7",
                    "raktárkód szerinti listaár": "32"
                },
                {
                    "termekkod": "07080157T",
                    "megnevezes": "Golyóstoll Montex Hytone",
                    "kat_id": "52",
                    "raktar_kod": "7",
                    "listaar": "93",
                    "Listaár szerint": "64",
                    "kat szerinti listaár": "8",
                    "raktárkód szerinti listaár": "34"
                },
                {
                    "termekkod": "07040169T",
                    "megnevezes": "Golyóstoll Zodiák",
                    "kat_id": "52",
                    "raktar_kod": "8",
                    "listaar": "94",
                    "Listaár szerint": "65",
                    "kat szerinti listaár": "9",
                    "raktárkód szerinti listaár": "37"
                },
                {
                    "termekkod": "07080162T",
                    "megnevezes": "Golyóstoll Stabilo piros",
                    "kat_id": "52",
                    "raktar_kod": "6",
                    "listaar": "101",
                    "Listaár szerint": "69",
                    "kat szerinti listaár": "10",
                    "raktárkód szerinti listaár": "33"
                },
                {
                    "termekkod": "07080468T",
                    "megnevezes": "Golyóstoll háromfunkciós",
                    "kat_id": "52",
                    "raktar_kod": "6",
                    "listaar": "110",
                    "Listaár szerint": "73",
                    "kat szerinti listaár": "11",
                    "raktárkód szerinti listaár": "36"
                },
                {
                    "termekkod": "07080470T",
                    "megnevezes": "Golyóstoll háromszög",
                    "kat_id": "52",
                    "raktar_kod": "7",
                    "listaar": "188",
                    "Listaár szerint": "102",
                    "kat szerinti listaár": "12",
                    "raktárkód szerinti listaár": "54"
                },
                {
                    "termekkod": "07040168T",
                    "megnevezes": "Golyóstoll Zebra new hard",
                    "kat_id": "52",
                    "raktar_kod": "8",
                    "listaar": "189",
                    "Listaár szerint": "103",
                    "kat szerinti listaár": "13",
                    "raktárkód szerinti listaár": "57"
                },
                {
                    "termekkod": "07040165T",
                    "megnevezes": "Golyóstoll UNI laknock",
                    "kat_id": "52",
                    "raktar_kod": "9",
                    "listaar": "218",
                    "Listaár szerint": "113",
                    "kat szerinti listaár": "14",
                    "raktárkód szerinti listaár": "55"
                },
                {
                    "termekkod": "07080163T",
                    "megnevezes": "Golyóstoll UNI átlátszó",
                    "kat_id": "52",
                    "raktar_kod": "5",
                    "listaar": "230",
                    "Listaár szerint": "116",
                    "kat szerinti listaár": "15",
                    "raktárkód szerinti listaár": "49"
                },
                {
                    "termekkod": "07080164T",
                    "megnevezes": "Golyóstoll UNI gumis",
                    "kat_id": "52",
                    "raktar_kod": "6",
                    "listaar": "231",
                    "Listaár szerint": "117",
                    "kat szerinti listaár": "16",
                    "raktárkód szerinti listaár": "49"
                },
                {
                    "termekkod": "07080160T",
                    "megnevezes": "Golyóstoll penac",
                    "kat_id": "52",
                    "raktar_kod": "7",
                    "listaar": "239",
                    "Listaár szerint": "119",
                    "kat szerinti listaár": "17",
                    "raktárkód szerinti listaár": "62"
                },
                {
                    "termekkod": "07080467T",
                    "megnevezes": "Golyóstoll kétfunkciós ICO",
                    "kat_id": "52",
                    "raktar_kod": "8",
                    "listaar": "273",
                    "Listaár szerint": "126",
                    "kat szerinti listaár": "18",
                    "raktárkód szerinti listaár": "63"
                },
                {
                    "termekkod": "07080471T",
                    "megnevezes": "Golyóstoll levélbontós",
                    "kat_id": "52",
                    "raktar_kod": "7",
                    "listaar": "294",
                    "Listaár szerint": "133",
                    "kat szerinti listaár": "19",
                    "raktárkód szerinti listaár": "67"
                },
                {
                    "termekkod": "07080469T",
                    "megnevezes": "Golyóstoll UNIBALL 07",
                    "kat_id": "52",
                    "raktar_kod": "8",
                    "listaar": "364",
                    "Listaár szerint": "148",
                    "kat szerinti listaár": "20",
                    "raktárkód szerinti listaár": "70"
                },
                {
                    "termekkod": "07080151T",
                    "megnevezes": "Golyóstoll + ceruza Twister 2in1",
                    "kat_id": "52",
                    "raktar_kod": "9",
                    "listaar": "390",
                    "Listaár szerint": "149",
                    "kat szerinti listaár": "21",
                    "raktárkód szerinti listaár": "62"
                },
                {
                    "termekkod": "07080154T",
                    "megnevezes": "Golyóstoll INOXCROM",
                    "kat_id": "52",
                    "raktar_kod": "6",
                    "listaar": "401",
                    "Listaár szerint": "150",
                    "kat szerinti listaár": "22",
                    "raktárkód szerinti listaár": "55"
                },
                {
                    "termekkod": "07040166T",
                    "megnevezes": "Golyóstoll Zebra 301",
                    "kat_id": "52",
                    "raktar_kod": "8",
                    "listaar": "455",
                    "Listaár szerint": "160",
                    "kat szerinti listaár": "23",
                    "raktárkód szerinti listaár": "73"
                },
                {
                    "termekkod": "07040167T",
                    "megnevezes": "Golyóstoll Zebra mini",
                    "kat_id": "52",
                    "raktar_kod": "9",
                    "listaar": "655",
                    "Listaár szerint": "172",
                    "kat szerinti listaár": "24",
                    "raktárkód szerinti listaár": "69"
                },
                {
                    "termekkod": "07080158T",
                    "megnevezes": "Golyóstoll Parker tokban",
                    "kat_id": "52",
                    "raktar_kod": "5",
                    "listaar": "773",
                    "Listaár szerint": "183",
                    "kat szerinti listaár": "25",
                    "raktárkód szerinti listaár": "64"
                },
                {
                    "termekkod": "07080152T",
                    "megnevezes": "Golyóstoll 3 funkciós ",
                    "kat_id": "52",
                    "raktar_kod": "5",
                    "listaar": "1019",
                    "Listaár szerint": "191",
                    "kat szerinti listaár": "26",
                    "raktárkód szerinti listaár": "65"
                },
                {
                    "termekkod": "05050170T",
                    "megnevezes": "Gumigyűrű",
                    "kat_id": "53",
                    "raktar_kod": "9",
                    "listaar": "19",
                    "Listaár szerint": "15",
                    "kat szerinti listaár": "1",
                    "raktárkód szerinti listaár": "7"
                },
                {
                    "termekkod": "G064-CI401",
                    "megnevezes": "gyermek szandál (fiú)",
                    "kat_id": "54",
                    "raktar_kod": "1",
                    "listaar": "6900",
                    "Listaár szerint": "207",
                    "kat szerinti listaár": "1",
                    "raktárkód szerinti listaár": "5"
                },
                {
                    "termekkod": "L064-CI401",
                    "megnevezes": "gyermek szandál (lány)",
                    "kat_id": "54",
                    "raktar_kod": "3",
                    "listaar": "6900",
                    "Listaár szerint": "207",
                    "kat szerinti listaár": "1",
                    "raktárkód szerinti listaár": "6"
                },
                {
                    "termekkod": "L073-CI410",
                    "megnevezes": "gyermek cipő (lány)",
                    "kat_id": "54",
                    "raktar_kod": "3",
                    "listaar": "7900",
                    "Listaár szerint": "209",
                    "kat szerinti listaár": "2",
                    "raktárkód szerinti listaár": "8"
                },
                {
                    "termekkod": "G073-CI410",
                    "megnevezes": "gyermek cipő (fiú)",
                    "kat_id": "54",
                    "raktar_kod": "2",
                    "listaar": "7900",
                    "Listaár szerint": "209",
                    "kat szerinti listaár": "2",
                    "raktárkód szerinti listaár": "3"
                },
                {
                    "termekkod": "L082-CI419",
                    "megnevezes": "gyermek csizma (lány)",
                    "kat_id": "54",
                    "raktar_kod": "1",
                    "listaar": "8000",
                    "Listaár szerint": "210",
                    "kat szerinti listaár": "3",
                    "raktárkód szerinti listaár": "6"
                },
                {
                    "termekkod": "G082-CI419",
                    "megnevezes": "gyermek csizma (fiú)",
                    "kat_id": "54",
                    "raktar_kod": "3",
                    "listaar": "8000",
                    "Listaár szerint": "210",
                    "kat szerinti listaár": "3",
                    "raktárkód szerinti listaár": "9"
                },
                {
                    "termekkod": "L001-KB101",
                    "megnevezes": "gyermek kabát (lány)",
                    "kat_id": "55",
                    "raktar_kod": "1",
                    "listaar": "8900",
                    "Listaár szerint": "212",
                    "kat szerinti listaár": "1",
                    "raktárkód szerinti listaár": "7"
                },
                {
                    "termekkod": "G001-KB101",
                    "megnevezes": "gyermek kabát (fiú)",
                    "kat_id": "55",
                    "raktar_kod": "1",
                    "listaar": "8900",
                    "Listaár szerint": "212",
                    "kat szerinti listaár": "1",
                    "raktárkód szerinti listaár": "7"
                },
                {
                    "termekkod": "L019-NA207",
                    "megnevezes": "gyermek pamut nadrág (lány)",
                    "kat_id": "56",
                    "raktar_kod": "1",
                    "listaar": "1290",
                    "Listaár szerint": "195",
                    "kat szerinti listaár": "1",
                    "raktárkód szerinti listaár": "2"
                },
                {
                    "termekkod": "G019-NA207",
                    "megnevezes": "gyermek pamut nadrág (fiú)",
                    "kat_id": "56",
                    "raktar_kod": "3",
                    "listaar": "1290",
                    "Listaár szerint": "195",
                    "kat szerinti listaár": "1",
                    "raktárkód szerinti listaár": "3"
                },
                {
                    "termekkod": "G013-NA201",
                    "megnevezes": "gyermek farmer nadrág (fiú)",
                    "kat_id": "56",
                    "raktar_kod": "3",
                    "listaar": "4990",
                    "Listaár szerint": "205",
                    "kat szerinti listaár": "2",
                    "raktárkód szerinti listaár": "5"
                },
                {
                    "termekkod": "L013-NA201",
                    "megnevezes": "gyermek farmer nadrág (lány)",
                    "kat_id": "56",
                    "raktar_kod": "3",
                    "listaar": "4990",
                    "Listaár szerint": "205",
                    "kat szerinti listaár": "2",
                    "raktárkód szerinti listaár": "5"
                },
                {
                    "termekkod": "L048-PO218",
                    "megnevezes": "gyermek póló (lány)",
                    "kat_id": "57",
                    "raktar_kod": "3",
                    "listaar": "3900",
                    "Listaár szerint": "203",
                    "kat szerinti listaár": "1",
                    "raktárkód szerinti listaár": "4"
                },
                {
                    "termekkod": "G048-PO218",
                    "megnevezes": "gyermek póló (fiú)",
                    "kat_id": "57",
                    "raktar_kod": "3",
                    "listaar": "3900",
                    "Listaár szerint": "203",
                    "kat szerinti listaár": "1",
                    "raktárkód szerinti listaár": "4"
                },
                {
                    "termekkod": "02040176T",
                    "megnevezes": "Gyorsfűző dosszié fehér",
                    "kat_id": "58",
                    "raktar_kod": "7",
                    "listaar": "18",
                    "Listaár szerint": "14",
                    "kat szerinti listaár": "1",
                    "raktárkód szerinti listaár": "8"
                },
                {
                    "termekkod": "02040177T",
                    "megnevezes": "Gyorsfűző műa.",
                    "kat_id": "58",
                    "raktar_kod": "5",
                    "listaar": "30",
                    "Listaár szerint": "23",
                    "kat szerinti listaár": "2",
                    "raktárkód szerinti listaár": "13"
                },
                {
                    "termekkod": "02040178T",
                    "megnevezes": "Gyorsfűző műa.",
                    "kat_id": "58",
                    "raktar_kod": "8",
                    "listaar": "35",
                    "Listaár szerint": "27",
                    "kat szerinti listaár": "3",
                    "raktárkód szerinti listaár": "15"
                },
                {
                    "termekkod": "06080441T",
                    "megnevezes": "Gyurmakés",
                    "kat_id": "59",
                    "raktar_kod": "9",
                    "listaar": "121",
                    "Listaár szerint": "78",
                    "kat szerinti listaár": "1",
                    "raktárkód szerinti listaár": "42"
                },
                {
                    "termekkod": "06080440T",
                    "megnevezes": "Gyurma 12 szinű",
                    "kat_id": "59",
                    "raktar_kod": "5",
                    "listaar": "161",
                    "Listaár szerint": "90",
                    "kat szerinti listaár": "2",
                    "raktárkód szerinti listaár": "40"
                },
                {
                    "termekkod": "06040179T",
                    "megnevezes": "Gyurma színes 200 g-os",
                    "kat_id": "59",
                    "raktar_kod": "6",
                    "listaar": "180",
                    "Listaár szerint": "98",
                    "kat szerinti listaár": "3",
                    "raktárkód szerinti listaár": "46"
                },
                {
                    "termekkod": "06040180T",
                    "megnevezes": "Gyurma színes natúr",
                    "kat_id": "59",
                    "raktar_kod": "8",
                    "listaar": "228",
                    "Listaár szerint": "115",
                    "kat szerinti listaár": "4",
                    "raktárkód szerinti listaár": "61"
                },
                {
                    "termekkod": "06040183T",
                    "megnevezes": "Gyűrűskönyv bet. A/5",
                    "kat_id": "60",
                    "raktar_kod": "9",
                    "listaar": "95",
                    "Listaár szerint": "66",
                    "kat szerinti listaár": "1",
                    "raktárkód szerinti listaár": "36"
                },
                {
                    "termekkod": "06040182T",
                    "megnevezes": "Gyűrűskönyv bet. A/4",
                    "kat_id": "60",
                    "raktar_kod": "7",
                    "listaar": "184",
                    "Listaár szerint": "100",
                    "kat szerinti listaár": "2",
                    "raktárkód szerinti listaár": "52"
                },
                {
                    "termekkod": "06040184T",
                    "megnevezes": "Gyűrűskönyv betét A/5",
                    "kat_id": "60",
                    "raktar_kod": "9",
                    "listaar": "218",
                    "Listaár szerint": "113",
                    "kat szerinti listaár": "3",
                    "raktárkód szerinti listaár": "55"
                },
                {
                    "termekkod": "06040185T",
                    "megnevezes": "Gyűrűskönyv",
                    "kat_id": "60",
                    "raktar_kod": "9",
                    "listaar": "581",
                    "Listaár szerint": "168",
                    "kat szerinti listaár": "4",
                    "raktárkód szerinti listaár": "67"
                },
                {
                    "termekkod": "06040186T",
                    "megnevezes": "Gyűrűskönyv színes",
                    "kat_id": "60",
                    "raktar_kod": "6",
                    "listaar": "699",
                    "Listaár szerint": "178",
                    "kat szerinti listaár": "5",
                    "raktárkód szerinti listaár": "67"
                },
                {
                    "termekkod": "04050187T",
                    "megnevezes": "Hajgumi macis",
                    "kat_id": "61",
                    "raktar_kod": "8",
                    "listaar": "66",
                    "Listaár szerint": "51",
                    "kat szerinti listaár": "1",
                    "raktárkód szerinti listaár": "32"
                },
                {
                    "termekkod": "02020444T",
                    "megnevezes": "Határidő napló A/6",
                    "kat_id": "62",
                    "raktar_kod": "9",
                    "listaar": "464",
                    "Listaár szerint": "161",
                    "kat szerinti listaár": "1",
                    "raktárkód szerinti listaár": "66"
                },
                {
                    "termekkod": "04020445T",
                    "megnevezes": "Határidő napló 2010-s",
                    "kat_id": "62",
                    "raktar_kod": "9",
                    "listaar": "728",
                    "Listaár szerint": "180",
                    "kat szerinti listaár": "2",
                    "raktárkód szerinti listaár": "70"
                },
                {
                    "termekkod": "06080190T",
                    "megnevezes": "Hegyező műanyag egyes",
                    "kat_id": "64",
                    "raktar_kod": "6",
                    "listaar": "23",
                    "Listaár szerint": "17",
                    "kat szerinti listaár": "1",
                    "raktárkód szerinti listaár": "9"
                },
                {
                    "termekkod": "06080189T",
                    "megnevezes": "Hegyező műanyag dupla",
                    "kat_id": "64",
                    "raktar_kod": "6",
                    "listaar": "30",
                    "Listaár szerint": "23",
                    "kat szerinti listaár": "2",
                    "raktárkód szerinti listaár": "12"
                },
                {
                    "termekkod": "06080191T",
                    "megnevezes": "Hegyező tartályos egyes",
                    "kat_id": "64",
                    "raktar_kod": "8",
                    "listaar": "30",
                    "Listaár szerint": "23",
                    "kat szerinti listaár": "2",
                    "raktárkód szerinti listaár": "12"
                },
                {
                    "termekkod": "06080188T",
                    "megnevezes": "Hegyező gép",
                    "kat_id": "64",
                    "raktar_kod": "8",
                    "listaar": "875",
                    "Listaár szerint": "189",
                    "kat szerinti listaár": "3",
                    "raktárkód szerinti listaár": "82"
                },
                {
                    "termekkod": "06080192T",
                    "megnevezes": "Hegyző fém 1 lyukú",
                    "kat_id": "65",
                    "raktar_kod": "9",
                    "listaar": "70",
                    "Listaár szerint": "53",
                    "kat szerinti listaár": "1",
                    "raktárkód szerinti listaár": "28"
                },
                {
                    "termekkod": "06080193T",
                    "megnevezes": "Hegyző fém 2 lyukú",
                    "kat_id": "65",
                    "raktar_kod": "7",
                    "listaar": "180",
                    "Listaár szerint": "98",
                    "kat szerinti listaár": "2",
                    "raktárkód szerinti listaár": "51"
                },
                {
                    "termekkod": "02040197T",
                    "megnevezes": "Hibajavító lap ",
                    "kat_id": "66",
                    "raktar_kod": "9",
                    "listaar": "81",
                    "Listaár szerint": "60",
                    "kat szerinti listaár": "1",
                    "raktárkód szerinti listaár": "32"
                },
                {
                    "termekkod": "02040198T",
                    "megnevezes": "Hibajavító roller 5 mm",
                    "kat_id": "66",
                    "raktar_kod": "7",
                    "listaar": "133",
                    "Listaár szerint": "84",
                    "kat szerinti listaár": "2",
                    "raktárkód szerinti listaár": "42"
                },
                {
                    "termekkod": "02040195T",
                    "megnevezes": "Hibajavító ecsetes Aqua",
                    "kat_id": "66",
                    "raktar_kod": "5",
                    "listaar": "185",
                    "Listaár szerint": "101",
                    "kat szerinti listaár": "3",
                    "raktárkód szerinti listaár": "44"
                },
                {
                    "termekkod": "02040196T",
                    "megnevezes": "Hibajavító készlet Blanco",
                    "kat_id": "66",
                    "raktar_kod": "7",
                    "listaar": "273",
                    "Listaár szerint": "126",
                    "kat szerinti listaár": "4",
                    "raktárkód szerinti listaár": "64"
                },
                {
                    "termekkod": "02040200T",
                    "megnevezes": "Hibajavító Kores mini pen",
                    "kat_id": "66",
                    "raktar_kod": "6",
                    "listaar": "278",
                    "Listaár szerint": "128",
                    "kat szerinti listaár": "5",
                    "raktárkód szerinti listaár": "51"
                },
                {
                    "termekkod": "02040199T",
                    "megnevezes": "Hibajavító roller Pax",
                    "kat_id": "66",
                    "raktar_kod": "7",
                    "listaar": "286",
                    "Listaár szerint": "129",
                    "kat szerinti listaár": "6",
                    "raktárkód szerinti listaár": "65"
                },
                {
                    "termekkod": "02040194T",
                    "megnevezes": "Hibajav.roll.Pritt 4,2mm",
                    "kat_id": "66",
                    "raktar_kod": "8",
                    "listaar": "794",
                    "Listaár szerint": "186",
                    "kat szerinti listaár": "7",
                    "raktárkód szerinti listaár": "80"
                },
                {
                    "termekkod": "04050203T",
                    "megnevezes": "Hűtőmágnes",
                    "kat_id": "67",
                    "raktar_kod": "7",
                    "listaar": "24",
                    "Listaár szerint": "18",
                    "kat szerinti listaár": "1",
                    "raktárkód szerinti listaár": "11"
                },
                {
                    "termekkod": "04050204T",
                    "megnevezes": "Hűtőmágnes WD",
                    "kat_id": "67",
                    "raktar_kod": "8",
                    "listaar": "169",
                    "Listaár szerint": "94",
                    "kat szerinti listaár": "2",
                    "raktárkód szerinti listaár": "54"
                },
                {
                    "termekkod": "06040206T",
                    "megnevezes": "kék indigó",
                    "kat_id": "68",
                    "raktar_kod": "5",
                    "listaar": "12",
                    "Listaár szerint": "10",
                    "kat szerinti listaár": "1",
                    "raktárkód szerinti listaár": "4"
                },
                {
                    "termekkod": "06040205T",
                    "megnevezes": "Indigó Pelikán",
                    "kat_id": "68",
                    "raktar_kod": "5",
                    "listaar": "15",
                    "Listaár szerint": "13",
                    "kat szerinti listaár": "2",
                    "raktárkód szerinti listaár": "7"
                },
                {
                    "termekkod": "02040207T",
                    "megnevezes": "Iratgyűjtő ESSELTE ablakos",
                    "kat_id": "70",
                    "raktar_kod": "6",
                    "listaar": "19",
                    "Listaár szerint": "15",
                    "kat szerinti listaár": "1",
                    "raktárkód szerinti listaár": "8"
                },
                {
                    "termekkod": "02040208T",
                    "megnevezes": "Iratgyűjtő fehér",
                    "kat_id": "70",
                    "raktar_kod": "8",
                    "listaar": "19",
                    "Listaár szerint": "15",
                    "kat szerinti listaár": "1",
                    "raktárkód szerinti listaár": "7"
                },
                {
                    "termekkod": "02040025T",
                    "megnevezes": "Álló irattartó karton",
                    "kat_id": "70",
                    "raktar_kod": "8",
                    "listaar": "133",
                    "Listaár szerint": "84",
                    "kat szerinti listaár": "2",
                    "raktárkód szerinti listaár": "49"
                },
                {
                    "termekkod": "02040211T",
                    "megnevezes": "Iratrendező ESSELTE",
                    "kat_id": "71",
                    "raktar_kod": "9",
                    "listaar": "243",
                    "Listaár szerint": "121",
                    "kat szerinti listaár": "1",
                    "raktárkód szerinti listaár": "56"
                },
                {
                    "termekkod": "02080432T",
                    "megnevezes": "Tokos iratrendező",
                    "kat_id": "71",
                    "raktar_kod": "5",
                    "listaar": "259",
                    "Listaár szerint": "124",
                    "kat szerinti listaár": "2",
                    "raktárkód szerinti listaár": "51"
                },
                {
                    "termekkod": "02040209T",
                    "megnevezes": "Iratsín fehér",
                    "kat_id": "72",
                    "raktar_kod": "7",
                    "listaar": "44",
                    "Listaár szerint": "34",
                    "kat szerinti listaár": "1",
                    "raktárkód szerinti listaár": "20"
                },
                {
                    "termekkod": "02040210T",
                    "megnevezes": "Iratsín kék",
                    "kat_id": "72",
                    "raktar_kod": "6",
                    "listaar": "89",
                    "Listaár szerint": "62",
                    "kat szerinti listaár": "2",
                    "raktárkód szerinti listaár": "30"
                },
                {
                    "termekkod": "02080436T",
                    "megnevezes": "Irattartó müa. boríték A/4",
                    "kat_id": "73",
                    "raktar_kod": "7",
                    "listaar": "66",
                    "Listaár szerint": "51",
                    "kat szerinti listaár": "1",
                    "raktárkód szerinti listaár": "28"
                },
                {
                    "termekkod": "02080431T",
                    "megnevezes": "Álló irattartó",
                    "kat_id": "73",
                    "raktar_kod": "8",
                    "listaar": "214",
                    "Listaár szerint": "112",
                    "kat szerinti listaár": "2",
                    "raktárkód szerinti listaár": "60"
                },
                {
                    "termekkod": "02040214T",
                    "megnevezes": "Iromány fedél feles",
                    "kat_id": "74",
                    "raktar_kod": "5",
                    "listaar": "59",
                    "Listaár szerint": "45",
                    "kat szerinti listaár": "1",
                    "raktárkód szerinti listaár": "24"
                },
                {
                    "termekkod": "06040212T",
                    "megnevezes": "Írólap 10-50 ffam.",
                    "kat_id": "75",
                    "raktar_kod": "8",
                    "listaar": "29",
                    "Listaár szerint": "22",
                    "kat szerinti listaár": "1",
                    "raktárkód szerinti listaár": "11"
                },
                {
                    "termekkod": "06040213T",
                    "megnevezes": "Írólap 20-50 ",
                    "kat_id": "75",
                    "raktar_kod": "8",
                    "listaar": "34",
                    "Listaár szerint": "26",
                    "kat szerinti listaár": "2",
                    "raktárkód szerinti listaár": "14"
                },
                {
                    "termekkod": "07040218T",
                    "megnevezes": "Ironbél HB 0,5",
                    "kat_id": "76",
                    "raktar_kod": "6",
                    "listaar": "23",
                    "Listaár szerint": "17",
                    "kat szerinti listaár": "1",
                    "raktárkód szerinti listaár": "9"
                },
                {
                    "termekkod": "07040216T",
                    "megnevezes": "Ironbél B 0,5",
                    "kat_id": "76",
                    "raktar_kod": "5",
                    "listaar": "36",
                    "Listaár szerint": "28",
                    "kat szerinti listaár": "2",
                    "raktárkód szerinti listaár": "15"
                },
                {
                    "termekkod": "07040217T",
                    "megnevezes": "Ironbél H 0,5",
                    "kat_id": "76",
                    "raktar_kod": "6",
                    "listaar": "59",
                    "Listaár szerint": "45",
                    "kat szerinti listaár": "3",
                    "raktárkód szerinti listaár": "23"
                },
                {
                    "termekkod": "07040215T",
                    "megnevezes": "Ironbél  2B ICO",
                    "kat_id": "76",
                    "raktar_kod": "7",
                    "listaar": "74",
                    "Listaár szerint": "55",
                    "kat szerinti listaár": "4",
                    "raktárkód szerinti listaár": "30"
                },
                {
                    "termekkod": "07040219T",
                    "megnevezes": "Ironbél HI-POLIMER HB 0,7",
                    "kat_id": "76",
                    "raktar_kod": "6",
                    "listaar": "78",
                    "Listaár szerint": "57",
                    "kat szerinti listaár": "5",
                    "raktárkód szerinti listaár": "27"
                },
                {
                    "termekkod": "06040089T",
                    "megnevezes": "Ellenőrzőborító",
                    "kat_id": "78",
                    "raktar_kod": "7",
                    "listaar": "5",
                    "Listaár szerint": "4",
                    "kat szerinti listaár": "1",
                    "raktárkód szerinti listaár": "3"
                },
                {
                    "termekkod": "06040353T",
                    "megnevezes": "Sorvezető",
                    "kat_id": "78",
                    "raktar_kod": "5",
                    "listaar": "8",
                    "Listaár szerint": "6",
                    "kat szerinti listaár": "2",
                    "raktárkód szerinti listaár": "2"
                },
                {
                    "termekkod": "06040181T",
                    "megnevezes": "Gyűjtőlap A/4",
                    "kat_id": "78",
                    "raktar_kod": "6",
                    "listaar": "8",
                    "Listaár szerint": "6",
                    "kat szerinti listaár": "2",
                    "raktárkód szerinti listaár": "3"
                },
                {
                    "termekkod": "06010305T",
                    "megnevezes": "Papírcenti 100 cm-es",
                    "kat_id": "78",
                    "raktar_kod": "6",
                    "listaar": "9",
                    "Listaár szerint": "7",
                    "kat szerinti listaár": "3",
                    "raktárkód szerinti listaár": "4"
                },
                {
                    "termekkod": "06040383T",
                    "megnevezes": "Taffet papír",
                    "kat_id": "78",
                    "raktar_kod": "6",
                    "listaar": "19",
                    "Listaár szerint": "15",
                    "kat szerinti listaár": "4",
                    "raktárkód szerinti listaár": "8"
                },
                {
                    "termekkod": "06010202T",
                    "megnevezes": "Hurkapálca 10 db-os",
                    "kat_id": "78",
                    "raktar_kod": "6",
                    "listaar": "23",
                    "Listaár szerint": "17",
                    "kat szerinti listaár": "5",
                    "raktárkód szerinti listaár": "9"
                },
                {
                    "termekkod": "06010036T",
                    "megnevezes": "Betűtartó sin",
                    "kat_id": "78",
                    "raktar_kod": "7",
                    "listaar": "33",
                    "Listaár szerint": "25",
                    "kat szerinti listaár": "6",
                    "raktárkód szerinti listaár": "15"
                },
                {
                    "termekkod": "06010367T",
                    "megnevezes": "Számolókorong",
                    "kat_id": "78",
                    "raktar_kod": "6",
                    "listaar": "35",
                    "Listaár szerint": "27",
                    "kat szerinti listaár": "7",
                    "raktárkód szerinti listaár": "14"
                },
                {
                    "termekkod": "06010201T",
                    "megnevezes": "Hőmérő, műa.",
                    "kat_id": "78",
                    "raktar_kod": "6",
                    "listaar": "36",
                    "Listaár szerint": "28",
                    "kat szerinti listaár": "8",
                    "raktárkód szerinti listaár": "15"
                },
                {
                    "termekkod": "07050463T",
                    "megnevezes": "Ceruzafogó",
                    "kat_id": "78",
                    "raktar_kod": "8",
                    "listaar": "36",
                    "Listaár szerint": "28",
                    "kat szerinti listaár": "8",
                    "raktárkód szerinti listaár": "16"
                },
                {
                    "termekkod": "06010365T",
                    "megnevezes": "Számegyenes",
                    "kat_id": "78",
                    "raktar_kod": "8",
                    "listaar": "36",
                    "Listaár szerint": "28",
                    "kat szerinti listaár": "8",
                    "raktárkód szerinti listaár": "16"
                },
                {
                    "termekkod": "06010373T",
                    "megnevezes": "Színes papír I.II-IV.V-VIII-ig",
                    "kat_id": "78",
                    "raktar_kod": "8",
                    "listaar": "43",
                    "Listaár szerint": "33",
                    "kat szerinti listaár": "9",
                    "raktárkód szerinti listaár": "20"
                },
                {
                    "termekkod": "06010374T",
                    "megnevezes": "Szorzótábla műanyag",
                    "kat_id": "78",
                    "raktar_kod": "8",
                    "listaar": "45",
                    "Listaár szerint": "35",
                    "kat szerinti listaár": "10",
                    "raktárkód szerinti listaár": "22"
                },
                {
                    "termekkod": "06040088T",
                    "megnevezes": "Egészségügyi könyv",
                    "kat_id": "78",
                    "raktar_kod": "7",
                    "listaar": "51",
                    "Listaár szerint": "40",
                    "kat szerinti listaár": "11",
                    "raktárkód szerinti listaár": "24"
                },
                {
                    "termekkod": "06040384T",
                    "megnevezes": "Technika cs. I-II-III-IV",
                    "kat_id": "78",
                    "raktar_kod": "5",
                    "listaar": "58",
                    "Listaár szerint": "44",
                    "kat szerinti listaár": "12",
                    "raktárkód szerinti listaár": "23"
                },
                {
                    "termekkod": "06010368T",
                    "megnevezes": "Számolópálca",
                    "kat_id": "78",
                    "raktar_kod": "5",
                    "listaar": "61",
                    "Listaár szerint": "47",
                    "kat szerinti listaár": "13",
                    "raktárkód szerinti listaár": "25"
                },
                {
                    "termekkod": "06050249T",
                    "megnevezes": "Krepp papír",
                    "kat_id": "78",
                    "raktar_kod": "5",
                    "listaar": "73",
                    "Listaár szerint": "54",
                    "kat szerinti listaár": "14",
                    "raktárkód szerinti listaár": "27"
                },
                {
                    "termekkod": "06080430T",
                    "megnevezes": "Öntapadős betűk",
                    "kat_id": "78",
                    "raktar_kod": "7",
                    "listaar": "74",
                    "Listaár szerint": "55",
                    "kat szerinti listaár": "15",
                    "raktárkód szerinti listaár": "30"
                },
                {
                    "termekkod": "06040352T",
                    "megnevezes": "Rovatolt papír 20 íves",
                    "kat_id": "78",
                    "raktar_kod": "6",
                    "listaar": "103",
                    "Listaár szerint": "70",
                    "kat szerinti listaár": "16",
                    "raktárkód szerinti listaár": "34"
                },
                {
                    "termekkod": "06040399T",
                    "megnevezes": "Tombola tömb",
                    "kat_id": "78",
                    "raktar_kod": "7",
                    "listaar": "125",
                    "Listaár szerint": "81",
                    "kat szerinti listaár": "17",
                    "raktárkód szerinti listaár": "40"
                },
                {
                    "termekkod": "06080259T",
                    "megnevezes": "Leckefüzet",
                    "kat_id": "78",
                    "raktar_kod": "6",
                    "listaar": "161",
                    "Listaár szerint": "90",
                    "kat szerinti listaár": "18",
                    "raktárkód szerinti listaár": "43"
                },
                {
                    "termekkod": "06080427T",
                    "megnevezes": "Ablakkréta",
                    "kat_id": "78",
                    "raktar_kod": "9",
                    "listaar": "161",
                    "Listaár szerint": "90",
                    "kat szerinti listaár": "18",
                    "raktárkód szerinti listaár": "48"
                },
                {
                    "termekkod": "06080422T",
                    "megnevezes": "Füzettartó A/4",
                    "kat_id": "78",
                    "raktar_kod": "7",
                    "listaar": "324",
                    "Listaár szerint": "140",
                    "kat szerinti listaár": "19",
                    "raktárkód szerinti listaár": "70"
                },
                {
                    "termekkod": "06040400T",
                    "megnevezes": "Tornazsák",
                    "kat_id": "78",
                    "raktar_kod": "8",
                    "listaar": "511",
                    "Listaár szerint": "165",
                    "kat szerinti listaár": "20",
                    "raktárkód szerinti listaár": "75"
                },
                {
                    "termekkod": "04050220T",
                    "megnevezes": "Játék autó",
                    "kat_id": "79",
                    "raktar_kod": "7",
                    "listaar": "65",
                    "Listaár szerint": "50",
                    "kat szerinti listaár": "1",
                    "raktárkód szerinti listaár": "27"
                },
                {
                    "termekkod": "04050223T",
                    "megnevezes": "Játékautó mini",
                    "kat_id": "79",
                    "raktar_kod": "7",
                    "listaar": "73",
                    "Listaár szerint": "54",
                    "kat szerinti listaár": "2",
                    "raktárkód szerinti listaár": "29"
                },
                {
                    "termekkod": "04050221T",
                    "megnevezes": "Játékautó Blisteres",
                    "kat_id": "79",
                    "raktar_kod": "7",
                    "listaar": "133",
                    "Listaár szerint": "84",
                    "kat szerinti listaár": "3",
                    "raktárkód szerinti listaár": "42"
                },
                {
                    "termekkod": "04050222T",
                    "megnevezes": "Játékautó elemes",
                    "kat_id": "79",
                    "raktar_kod": "7",
                    "listaar": "165",
                    "Listaár szerint": "91",
                    "kat szerinti listaár": "4",
                    "raktárkód szerinti listaár": "47"
                },
                {
                    "termekkod": "04050224T",
                    "megnevezes": "Jelzőkréta",
                    "kat_id": "80",
                    "raktar_kod": "5",
                    "listaar": "48",
                    "Listaár szerint": "37",
                    "kat szerinti listaár": "1",
                    "raktárkód szerinti listaár": "18"
                },
                {
                    "termekkod": "02080226T",
                    "megnevezes": "Kapocskiszedő",
                    "kat_id": "82",
                    "raktar_kod": "8",
                    "listaar": "106",
                    "Listaár szerint": "71",
                    "kat szerinti listaár": "1",
                    "raktárkód szerinti listaár": "42"
                },
                {
                    "termekkod": "01090515T",
                    "megnevezes": "Színes A/3 160 gr IQ",
                    "kat_id": "83",
                    "raktar_kod": "5",
                    "listaar": "11",
                    "Listaár szerint": "9",
                    "kat szerinti listaár": "1",
                    "raktárkód szerinti listaár": "3"
                },
                {
                    "termekkod": "01090516T",
                    "megnevezes": "Színes karton A4",
                    "kat_id": "83",
                    "raktar_kod": "9",
                    "listaar": "25",
                    "Listaár szerint": "19",
                    "kat szerinti listaár": "2",
                    "raktárkód szerinti listaár": "11"
                },
                {
                    "termekkod": "01080513T",
                    "megnevezes": "Selyemfényű karton A/4",
                    "kat_id": "83",
                    "raktar_kod": "8",
                    "listaar": "38",
                    "Listaár szerint": "29",
                    "kat szerinti listaár": "3",
                    "raktárkód szerinti listaár": "17"
                },
                {
                    "termekkod": "01100509T",
                    "megnevezes": "Márványos A/4",
                    "kat_id": "83",
                    "raktar_kod": "6",
                    "listaar": "40",
                    "Listaár szerint": "31",
                    "kat szerinti listaár": "4",
                    "raktárkód szerinti listaár": "17"
                },
                {
                    "termekkod": "01100070T",
                    "megnevezes": "Dekorációs karton",
                    "kat_id": "83",
                    "raktar_kod": "5",
                    "listaar": "73",
                    "Listaár szerint": "54",
                    "kat szerinti listaár": "5",
                    "raktárkód szerinti listaár": "27"
                },
                {
                    "termekkod": "01100071T",
                    "megnevezes": "Dekorációs karton arany, ezüst",
                    "kat_id": "83",
                    "raktar_kod": "7",
                    "listaar": "89",
                    "Listaár szerint": "62",
                    "kat szerinti listaár": "6",
                    "raktárkód szerinti listaár": "33"
                },
                {
                    "termekkod": "04050225T",
                    "megnevezes": "Kártya mini Magyar",
                    "kat_id": "84",
                    "raktar_kod": "6",
                    "listaar": "131",
                    "Listaár szerint": "83",
                    "kat szerinti listaár": "1",
                    "raktárkód szerinti listaár": "39"
                },
                {
                    "termekkod": "04030240T",
                    "megnevezes": "Képeslap virágos",
                    "kat_id": "85",
                    "raktar_kod": "7",
                    "listaar": "14",
                    "Listaár szerint": "12",
                    "kat szerinti listaár": "1",
                    "raktárkód szerinti listaár": "6"
                },
                {
                    "termekkod": "04030236T",
                    "megnevezes": "Képeslap karácsonyi WD",
                    "kat_id": "85",
                    "raktar_kod": "6",
                    "listaar": "15",
                    "Listaár szerint": "13",
                    "kat szerinti listaár": "2",
                    "raktárkód szerinti listaár": "7"
                },
                {
                    "termekkod": "04030234T",
                    "megnevezes": "Képeslap karácsonyi",
                    "kat_id": "85",
                    "raktar_kod": "5",
                    "listaar": "30",
                    "Listaár szerint": "23",
                    "kat szerinti listaár": "3",
                    "raktárkód szerinti listaár": "13"
                },
                {
                    "termekkod": "04110229T",
                    "megnevezes": "Képeslap \"Részvét\"",
                    "kat_id": "85",
                    "raktar_kod": "5",
                    "listaar": "33",
                    "Listaár szerint": "25",
                    "kat szerinti listaár": "4",
                    "raktárkód szerinti listaár": "14"
                },
                {
                    "termekkod": "04110227T",
                    "megnevezes": "Képeslap  borítékos",
                    "kat_id": "85",
                    "raktar_kod": "6",
                    "listaar": "33",
                    "Listaár szerint": "25",
                    "kat szerinti listaár": "4",
                    "raktárkód szerinti listaár": "13"
                },
                {
                    "termekkod": "04030237T",
                    "megnevezes": "Képeslap kerek",
                    "kat_id": "85",
                    "raktar_kod": "9",
                    "listaar": "36",
                    "Listaár szerint": "28",
                    "kat szerinti listaár": "5",
                    "raktárkód szerinti listaár": "14"
                },
                {
                    "termekkod": "04030241T",
                    "megnevezes": "Képeslap virágos +boríték",
                    "kat_id": "85",
                    "raktar_kod": "8",
                    "listaar": "44",
                    "Listaár szerint": "34",
                    "kat szerinti listaár": "6",
                    "raktárkód szerinti listaár": "21"
                },
                {
                    "termekkod": "04030239T",
                    "megnevezes": "Képeslap stancolt szív",
                    "kat_id": "85",
                    "raktar_kod": "9",
                    "listaar": "48",
                    "Listaár szerint": "37",
                    "kat szerinti listaár": "7",
                    "raktárkód szerinti listaár": "18"
                },
                {
                    "termekkod": "04110232T",
                    "megnevezes": "Képeslap humoros kaparós",
                    "kat_id": "85",
                    "raktar_kod": "8",
                    "listaar": "51",
                    "Listaár szerint": "40",
                    "kat szerinti listaár": "8",
                    "raktárkód szerinti listaár": "26"
                },
                {
                    "termekkod": "04110230T",
                    "megnevezes": "Képeslap humoros ",
                    "kat_id": "85",
                    "raktar_kod": "6",
                    "listaar": "55",
                    "Listaár szerint": "42",
                    "kat szerinti listaár": "9",
                    "raktárkód szerinti listaár": "21"
                },
                {
                    "termekkod": "04030238T",
                    "megnevezes": "Képeslap stancolt",
                    "kat_id": "85",
                    "raktar_kod": "9",
                    "listaar": "59",
                    "Listaár szerint": "45",
                    "kat szerinti listaár": "10",
                    "raktárkód szerinti listaár": "22"
                },
                {
                    "termekkod": "04030235T",
                    "megnevezes": "Képeslap karácsonyi borítékos",
                    "kat_id": "85",
                    "raktar_kod": "7",
                    "listaar": "73",
                    "Listaár szerint": "54",
                    "kat szerinti listaár": "11",
                    "raktárkód szerinti listaár": "29"
                },
                {
                    "termekkod": "04110231T",
                    "megnevezes": "Képeslap humoros borítékos",
                    "kat_id": "85",
                    "raktar_kod": "5",
                    "listaar": "81",
                    "Listaár szerint": "60",
                    "kat szerinti listaár": "12",
                    "raktárkód szerinti listaár": "30"
                },
                {
                    "termekkod": "04110233T",
                    "megnevezes": "Képeslap humoros",
                    "kat_id": "85",
                    "raktar_kod": "5",
                    "listaar": "89",
                    "Listaár szerint": "62",
                    "kat szerinti listaár": "13",
                    "raktárkód szerinti listaár": "31"
                },
                {
                    "termekkod": "04030242T",
                    "megnevezes": "Képeslap WD +boríték",
                    "kat_id": "85",
                    "raktar_kod": "8",
                    "listaar": "118",
                    "Listaár szerint": "76",
                    "kat szerinti listaár": "14",
                    "raktárkód szerinti listaár": "46"
                },
                {
                    "termekkod": "04110228T",
                    "megnevezes": "Képeslap \"Nászajándék\"",
                    "kat_id": "85",
                    "raktar_kod": "9",
                    "listaar": "184",
                    "Listaár szerint": "100",
                    "kat szerinti listaár": "15",
                    "raktárkód szerinti listaár": "52"
                },
                {
                    "termekkod": "04030243T",
                    "megnevezes": "Képkirakó Dirib-darab",
                    "kat_id": "86",
                    "raktar_kod": "7",
                    "listaar": "195",
                    "Listaár szerint": "106",
                    "kat szerinti listaár": "1",
                    "raktárkód szerinti listaár": "55"
                },
                {
                    "termekkod": "N035-AL218",
                    "megnevezes": "kosztüm (rövid)",
                    "kat_id": "88",
                    "raktar_kod": "3",
                    "listaar": "39000",
                    "Listaár szerint": "219",
                    "kat szerinti listaár": "1",
                    "raktárkód szerinti listaár": "11"
                },
                {
                    "termekkod": "N039-AL222",
                    "megnevezes": "kosztüm (hosszú)",
                    "kat_id": "88",
                    "raktar_kod": "2",
                    "listaar": "46000",
                    "Listaár szerint": "220",
                    "kat szerinti listaár": "2",
                    "raktárkód szerinti listaár": "5"
                },
                {
                    "termekkod": "06040247T",
                    "megnevezes": "Körzőhegy grafit",
                    "kat_id": "89",
                    "raktar_kod": "8",
                    "listaar": "30",
                    "Listaár szerint": "23",
                    "kat szerinti listaár": "1",
                    "raktárkód szerinti listaár": "12"
                },
                {
                    "termekkod": "06040246T",
                    "megnevezes": "Körző",
                    "kat_id": "89",
                    "raktar_kod": "5",
                    "listaar": "161",
                    "Listaár szerint": "90",
                    "kat szerinti listaár": "2",
                    "raktárkód szerinti listaár": "40"
                },
                {
                    "termekkod": "06040248T",
                    "megnevezes": "Körző maped",
                    "kat_id": "89",
                    "raktar_kod": "6",
                    "listaar": "243",
                    "Listaár szerint": "121",
                    "kat szerinti listaár": "3",
                    "raktárkód szerinti listaár": "50"
                },
                {
                    "termekkod": "01090501T",
                    "megnevezes": "Kreatív A/4 300g ",
                    "kat_id": "90",
                    "raktar_kod": "8",
                    "listaar": "4",
                    "Listaár szerint": "3",
                    "kat szerinti listaár": "1",
                    "raktárkód szerinti listaár": "2"
                },
                {
                    "termekkod": "01100510T",
                    "megnevezes": "Kreatív A/4 120g ",
                    "kat_id": "90",
                    "raktar_kod": "5",
                    "listaar": "13",
                    "Listaár szerint": "11",
                    "kat szerinti listaár": "2",
                    "raktárkód szerinti listaár": "5"
                },
                {
                    "termekkod": "04050255T",
                    "megnevezes": "Kulcstartó mesefigurás",
                    "kat_id": "91",
                    "raktar_kod": "9",
                    "listaar": "36",
                    "Listaár szerint": "28",
                    "kat szerinti listaár": "1",
                    "raktárkód szerinti listaár": "14"
                },
                {
                    "termekkod": "04050253T",
                    "megnevezes": "Kulcstartó figurás",
                    "kat_id": "91",
                    "raktar_kod": "8",
                    "listaar": "103",
                    "Listaár szerint": "70",
                    "kat szerinti listaár": "2",
                    "raktárkód szerinti listaár": "41"
                },
                {
                    "termekkod": "04050250T",
                    "megnevezes": "Kulcstartó autós",
                    "kat_id": "91",
                    "raktar_kod": "8",
                    "listaar": "115",
                    "Listaár szerint": "75",
                    "kat szerinti listaár": "3",
                    "raktárkód szerinti listaár": "45"
                },
                {
                    "termekkod": "04050252T",
                    "megnevezes": "Kulcstartó Csőrikés",
                    "kat_id": "91",
                    "raktar_kod": "8",
                    "listaar": "124",
                    "Listaár szerint": "80",
                    "kat szerinti listaár": "4",
                    "raktárkód szerinti listaár": "47"
                },
                {
                    "termekkod": "04050256T",
                    "megnevezes": "Kulcstartó nagyítós",
                    "kat_id": "91",
                    "raktar_kod": "9",
                    "listaar": "129",
                    "Listaár szerint": "82",
                    "kat szerinti listaár": "5",
                    "raktárkód szerinti listaár": "43"
                },
                {
                    "termekkod": "04050251T",
                    "megnevezes": "Kulcstartó billiárd golyós",
                    "kat_id": "91",
                    "raktar_kod": "8",
                    "listaar": "148",
                    "Listaár szerint": "88",
                    "kat szerinti listaár": "6",
                    "raktárkód szerinti listaár": "51"
                },
                {
                    "termekkod": "04050254T",
                    "megnevezes": "Kulcstartó intarziás állatos",
                    "kat_id": "91",
                    "raktar_kod": "9",
                    "listaar": "155",
                    "Listaár szerint": "89",
                    "kat szerinti listaár": "7",
                    "raktárkód szerinti listaár": "47"
                },
                {
                    "termekkod": "04040387T",
                    "megnevezes": "Tenisz labda",
                    "kat_id": "92",
                    "raktar_kod": "8",
                    "listaar": "81",
                    "Listaár szerint": "60",
                    "kat szerinti listaár": "1",
                    "raktárkód szerinti listaár": "35"
                },
                {
                    "termekkod": "04050171T",
                    "megnevezes": "Gumilabda közepes",
                    "kat_id": "92",
                    "raktar_kod": "7",
                    "listaar": "110",
                    "Listaár szerint": "73",
                    "kat szerinti listaár": "2",
                    "raktárkód szerinti listaár": "38"
                },
                {
                    "termekkod": "04030260T",
                    "megnevezes": "Levélpapír A/4",
                    "kat_id": "93",
                    "raktar_kod": "6",
                    "listaar": "15",
                    "Listaár szerint": "13",
                    "kat szerinti listaár": "1",
                    "raktárkód szerinti listaár": "7"
                },
                {
                    "termekkod": "04030262T",
                    "megnevezes": "Levélpapír sima",
                    "kat_id": "93",
                    "raktar_kod": "6",
                    "listaar": "56",
                    "Listaár szerint": "43",
                    "kat szerinti listaár": "2",
                    "raktárkód szerinti listaár": "22"
                },
                {
                    "termekkod": "04030264T",
                    "megnevezes": "Levélpapír szett ",
                    "kat_id": "93",
                    "raktar_kod": "6",
                    "listaar": "74",
                    "Listaár szerint": "55",
                    "kat szerinti listaár": "3",
                    "raktárkód szerinti listaár": "26"
                },
                {
                    "termekkod": "04030263T",
                    "megnevezes": "Levélpapír szett",
                    "kat_id": "93",
                    "raktar_kod": "7",
                    "listaar": "89",
                    "Listaár szerint": "62",
                    "kat szerinti listaár": "4",
                    "raktárkód szerinti listaár": "33"
                },
                {
                    "termekkod": "04030265T",
                    "megnevezes": "Levélpapír szett natur, mintás",
                    "kat_id": "93",
                    "raktar_kod": "6",
                    "listaar": "103",
                    "Listaár szerint": "70",
                    "kat szerinti listaár": "5",
                    "raktárkód szerinti listaár": "34"
                },
                {
                    "termekkod": "04030261T",
                    "megnevezes": "Levélpapír állatos",
                    "kat_id": "93",
                    "raktar_kod": "6",
                    "listaar": "140",
                    "Listaár szerint": "85",
                    "kat szerinti listaár": "6",
                    "raktárkód szerinti listaár": "40"
                },
                {
                    "termekkod": "04030266T",
                    "megnevezes": "Levélpapír szett virágos",
                    "kat_id": "93",
                    "raktar_kod": "7",
                    "listaar": "169",
                    "Listaár szerint": "94",
                    "kat szerinti listaár": "7",
                    "raktárkód szerinti listaár": "49"
                },
                {
                    "termekkod": "04050269T",
                    "megnevezes": "Lufi hullámos",
                    "kat_id": "94",
                    "raktar_kod": "6",
                    "listaar": "11",
                    "Listaár szerint": "9",
                    "kat szerinti listaár": "1",
                    "raktárkód szerinti listaár": "6"
                },
                {
                    "termekkod": "04050268T",
                    "megnevezes": "Lufi formázható",
                    "kat_id": "94",
                    "raktar_kod": "7",
                    "listaar": "15",
                    "Listaár szerint": "13",
                    "kat szerinti listaár": "2",
                    "raktárkód szerinti listaár": "7"
                },
                {
                    "termekkod": "02080453T",
                    "megnevezes": "Lyukasztó EAGLE",
                    "kat_id": "95",
                    "raktar_kod": "7",
                    "listaar": "526",
                    "Listaár szerint": "166",
                    "kat szerinti listaár": "1",
                    "raktárkód szerinti listaár": "75"
                },
                {
                    "termekkod": "02080454T",
                    "megnevezes": "Lyukasztó BOXER",
                    "kat_id": "95",
                    "raktar_kod": "9",
                    "listaar": "765",
                    "Listaár szerint": "182",
                    "kat szerinti listaár": "2",
                    "raktárkód szerinti listaár": "72"
                },
                {
                    "termekkod": "06040174T",
                    "megnevezes": "Gumis mappa ",
                    "kat_id": "96",
                    "raktar_kod": "6",
                    "listaar": "148",
                    "Listaár szerint": "88",
                    "kat szerinti listaár": "1",
                    "raktárkód szerinti listaár": "42"
                },
                {
                    "termekkod": "02080435T",
                    "megnevezes": "Mappa bemutató",
                    "kat_id": "96",
                    "raktar_kod": "9",
                    "listaar": "184",
                    "Listaár szerint": "100",
                    "kat szerinti listaár": "2",
                    "raktárkód szerinti listaár": "52"
                },
                {
                    "termekkod": "06040175T",
                    "megnevezes": "Gumis mappa Köbüki",
                    "kat_id": "96",
                    "raktar_kod": "8",
                    "listaar": "191",
                    "Listaár szerint": "105",
                    "kat szerinti listaár": "3",
                    "raktárkód szerinti listaár": "58"
                },
                {
                    "termekkod": "06040172T",
                    "megnevezes": "Gumis mappa csomagolt",
                    "kat_id": "96",
                    "raktar_kod": "7",
                    "listaar": "195",
                    "Listaár szerint": "106",
                    "kat szerinti listaár": "4",
                    "raktárkód szerinti listaár": "55"
                },
                {
                    "termekkod": "02080434T",
                    "megnevezes": "Mappa müa A/4",
                    "kat_id": "96",
                    "raktar_kod": "8",
                    "listaar": "210",
                    "Listaár szerint": "110",
                    "kat szerinti listaár": "5",
                    "raktárkód szerinti listaár": "59"
                },
                {
                    "termekkod": "06040173T",
                    "megnevezes": "Gumis mappa fóliázott állatos",
                    "kat_id": "96",
                    "raktar_kod": "7",
                    "listaar": "211",
                    "Listaár szerint": "111",
                    "kat szerinti listaár": "6",
                    "raktárkód szerinti listaár": "58"
                },
                {
                    "termekkod": "04080271T",
                    "megnevezes": "Mappa PVC villámzáras",
                    "kat_id": "96",
                    "raktar_kod": "8",
                    "listaar": "264",
                    "Listaár szerint": "125",
                    "kat szerinti listaár": "7",
                    "raktárkód szerinti listaár": "62"
                },
                {
                    "termekkod": "04080272T",
                    "megnevezes": "Mappa PVC villámzáras  képes",
                    "kat_id": "96",
                    "raktar_kod": "9",
                    "listaar": "360",
                    "Listaár szerint": "147",
                    "kat szerinti listaár": "8",
                    "raktárkód szerinti listaár": "61"
                },
                {
                    "termekkod": "04080270T",
                    "megnevezes": "Mappa bőr A5",
                    "kat_id": "96",
                    "raktar_kod": "6",
                    "listaar": "1765",
                    "Listaár szerint": "200",
                    "kat szerinti listaár": "9",
                    "raktárkód szerinti listaár": "71"
                },
                {
                    "termekkod": "04110274T",
                    "megnevezes": "Matrica autóra H",
                    "kat_id": "97",
                    "raktar_kod": "5",
                    "listaar": "49",
                    "Listaár szerint": "38",
                    "kat szerinti listaár": "1",
                    "raktárkód szerinti listaár": "19"
                },
                {
                    "termekkod": "04110275T",
                    "megnevezes": "Matrica motoros kicsi",
                    "kat_id": "97",
                    "raktar_kod": "9",
                    "listaar": "49",
                    "Listaár szerint": "38",
                    "kat szerinti listaár": "1",
                    "raktárkód szerinti listaár": "19"
                },
                {
                    "termekkod": "04110273T",
                    "megnevezes": "Matrica állatos",
                    "kat_id": "97",
                    "raktar_kod": "5",
                    "listaar": "55",
                    "Listaár szerint": "42",
                    "kat szerinti listaár": "2",
                    "raktárkód szerinti listaár": "21"
                },
                {
                    "termekkod": "04110282T",
                    "megnevezes": "Matrica WD kicsi",
                    "kat_id": "97",
                    "raktar_kod": "5",
                    "listaar": "56",
                    "Listaár szerint": "43",
                    "kat szerinti listaár": "3",
                    "raktárkód szerinti listaár": "22"
                },
                {
                    "termekkod": "04110277T",
                    "megnevezes": "Matrica Stickers szíves",
                    "kat_id": "97",
                    "raktar_kod": "6",
                    "listaar": "93",
                    "Listaár szerint": "64",
                    "kat szerinti listaár": "4",
                    "raktárkód szerinti listaár": "32"
                },
                {
                    "termekkod": "04110276T",
                    "megnevezes": "Matrica Stickers nagy állatos",
                    "kat_id": "97",
                    "raktar_kod": "9",
                    "listaar": "109",
                    "Listaár szerint": "72",
                    "kat szerinti listaár": "5",
                    "raktárkód szerinti listaár": "39"
                },
                {
                    "termekkod": "04110280T",
                    "megnevezes": "Matrica tetoválós kicsi",
                    "kat_id": "97",
                    "raktar_kod": "9",
                    "listaar": "148",
                    "Listaár szerint": "88",
                    "kat szerinti listaár": "6",
                    "raktárkód szerinti listaár": "46"
                },
                {
                    "termekkod": "04110278T",
                    "megnevezes": "Matrica Test ékszer tattoo",
                    "kat_id": "97",
                    "raktar_kod": "8",
                    "listaar": "161",
                    "Listaár szerint": "90",
                    "kat szerinti listaár": "7",
                    "raktárkód szerinti listaár": "53"
                },
                {
                    "termekkod": "04110279T",
                    "megnevezes": "Matrica tetoválás",
                    "kat_id": "97",
                    "raktar_kod": "7",
                    "listaar": "168",
                    "Listaár szerint": "93",
                    "kat szerinti listaár": "8",
                    "raktárkód szerinti listaár": "48"
                },
                {
                    "termekkod": "04110281T",
                    "megnevezes": "Matrica világítós ",
                    "kat_id": "97",
                    "raktar_kod": "9",
                    "listaar": "175",
                    "Listaár szerint": "96",
                    "kat szerinti listaár": "9",
                    "raktárkód szerinti listaár": "51"
                },
                {
                    "termekkod": "01030092T",
                    "megnevezes": "Esküvői meghívó",
                    "kat_id": "98",
                    "raktar_kod": "9",
                    "listaar": "59",
                    "Listaár szerint": "45",
                    "kat szerinti listaár": "1",
                    "raktárkód szerinti listaár": "22"
                },
                {
                    "termekkod": "06080429T",
                    "megnevezes": "Meghívó ballagási",
                    "kat_id": "98",
                    "raktar_kod": "6",
                    "listaar": "63",
                    "Listaár szerint": "48",
                    "kat szerinti listaár": "2",
                    "raktárkód szerinti listaár": "24"
                },
                {
                    "termekkod": "04110283T",
                    "megnevezes": "Meghívó állatos",
                    "kat_id": "98",
                    "raktar_kod": "5",
                    "listaar": "155",
                    "Listaár szerint": "89",
                    "kat szerinti listaár": "3",
                    "raktárkód szerinti listaár": "39"
                },
                {
                    "termekkod": "04110284T",
                    "megnevezes": "Meghívó borítékos",
                    "kat_id": "98",
                    "raktar_kod": "5",
                    "listaar": "169",
                    "Listaár szerint": "94",
                    "kat szerinti listaár": "4",
                    "raktárkód szerinti listaár": "41"
                },
                {
                    "termekkod": "06080425T",
                    "megnevezes": "Miliméterpapír",
                    "kat_id": "99",
                    "raktar_kod": "6",
                    "listaar": "8",
                    "Listaár szerint": "6",
                    "kat szerinti listaár": "1",
                    "raktárkód szerinti listaár": "3"
                },
                {
                    "termekkod": "08070482T",
                    "megnevezes": "Fizika munkafüzet 14 év.",
                    "kat_id": "100",
                    "raktar_kod": "5",
                    "listaar": "190",
                    "Listaár szerint": "104",
                    "kat szerinti listaár": "1",
                    "raktárkód szerinti listaár": "45"
                },
                {
                    "termekkod": "08070481T",
                    "megnevezes": "Fizika munkafüzet 13 év.",
                    "kat_id": "100",
                    "raktar_kod": "7",
                    "listaar": "198",
                    "Listaár szerint": "107",
                    "kat szerinti listaár": "2",
                    "raktárkód szerinti listaár": "56"
                },
                {
                    "termekkod": "08070476T",
                    "megnevezes": "Anyanyelvi gyakorló 2",
                    "kat_id": "100",
                    "raktar_kod": "6",
                    "listaar": "293",
                    "Listaár szerint": "132",
                    "kat szerinti listaár": "3",
                    "raktárkód szerinti listaár": "53"
                },
                {
                    "termekkod": "08070477T",
                    "megnevezes": "Anyanyelvi gyakorló 3",
                    "kat_id": "100",
                    "raktar_kod": "6",
                    "listaar": "353",
                    "Listaár szerint": "145",
                    "kat szerinti listaár": "4",
                    "raktárkód szerinti listaár": "54"
                },
                {
                    "termekkod": "08070486T",
                    "megnevezes": "Matematika gyakorló 2",
                    "kat_id": "100",
                    "raktar_kod": "6",
                    "listaar": "403",
                    "Listaár szerint": "151",
                    "kat szerinti listaár": "5",
                    "raktárkód szerinti listaár": "56"
                },
                {
                    "termekkod": "08070487T",
                    "megnevezes": "Matematika gyakorló 3",
                    "kat_id": "100",
                    "raktar_kod": "6",
                    "listaar": "403",
                    "Listaár szerint": "151",
                    "kat szerinti listaár": "5",
                    "raktárkód szerinti listaár": "56"
                },
                {
                    "termekkod": "08070488T",
                    "megnevezes": "Matematika gyakorló 4",
                    "kat_id": "100",
                    "raktar_kod": "9",
                    "listaar": "403",
                    "Listaár szerint": "151",
                    "kat szerinti listaár": "5",
                    "raktárkód szerinti listaár": "63"
                },
                {
                    "termekkod": "08070475T",
                    "megnevezes": "A föld amelyen élünk - munkafüzet",
                    "kat_id": "100",
                    "raktar_kod": "5",
                    "listaar": "440",
                    "Listaár szerint": "158",
                    "kat szerinti listaár": "6",
                    "raktárkód szerinti listaár": "60"
                },
                {
                    "termekkod": "08070478T",
                    "megnevezes": "Összefoglaló feladatgyüjtemény számtech.",
                    "kat_id": "100",
                    "raktar_kod": "8",
                    "listaar": "785",
                    "Listaár szerint": "185",
                    "kat szerinti listaár": "7",
                    "raktárkód szerinti listaár": "79"
                },
                {
                    "termekkod": "01090498T",
                    "megnevezes": "Műnyomó 300g 17,5*20",
                    "kat_id": "101",
                    "raktar_kod": "8",
                    "listaar": "3",
                    "Listaár szerint": "2",
                    "kat szerinti listaár": "1",
                    "raktárkód szerinti listaár": "1"
                },
                {
                    "termekkod": "02040290T",
                    "megnevezes": "Naptár 24-es",
                    "kat_id": "103",
                    "raktar_kod": "8",
                    "listaar": "89",
                    "Listaár szerint": "62",
                    "kat szerinti listaár": "1",
                    "raktárkód szerinti listaár": "36"
                },
                {
                    "termekkod": "02040291T",
                    "megnevezes": "Naptárhát kicsi",
                    "kat_id": "104",
                    "raktar_kod": "8",
                    "listaar": "15",
                    "Listaár szerint": "13",
                    "kat szerinti listaár": "1",
                    "raktárkód szerinti listaár": "5"
                },
                {
                    "termekkod": "02040292T",
                    "megnevezes": "Naptárhát nagy",
                    "kat_id": "104",
                    "raktar_kod": "9",
                    "listaar": "78",
                    "Listaár szerint": "57",
                    "kat szerinti listaár": "2",
                    "raktárkód szerinti listaár": "30"
                },
                {
                    "termekkod": "02040293T",
                    "megnevezes": "Névjegytartó kicsi",
                    "kat_id": "105",
                    "raktar_kod": "9",
                    "listaar": "310",
                    "Listaár szerint": "137",
                    "kat szerinti listaár": "1",
                    "raktárkód szerinti listaár": "59"
                },
                {
                    "termekkod": "02040298T",
                    "megnevezes": "Notesz mintás",
                    "kat_id": "106",
                    "raktar_kod": "6",
                    "listaar": "44",
                    "Listaár szerint": "34",
                    "kat szerinti listaár": "1",
                    "raktárkód szerinti listaár": "18"
                },
                {
                    "termekkod": "02040296T",
                    "megnevezes": "Notesz A/6 College",
                    "kat_id": "106",
                    "raktar_kod": "6",
                    "listaar": "56",
                    "Listaár szerint": "43",
                    "kat szerinti listaár": "2",
                    "raktárkód szerinti listaár": "22"
                },
                {
                    "termekkod": "02040295T",
                    "megnevezes": "Notesz A/5 sima spirál",
                    "kat_id": "106",
                    "raktar_kod": "9",
                    "listaar": "89",
                    "Listaár szerint": "62",
                    "kat szerinti listaár": "3",
                    "raktárkód szerinti listaár": "34"
                },
                {
                    "termekkod": "02040297T",
                    "megnevezes": "Notesz sima spirál College",
                    "kat_id": "106",
                    "raktar_kod": "9",
                    "listaar": "103",
                    "Listaár szerint": "70",
                    "kat szerinti listaár": "4",
                    "raktárkód szerinti listaár": "37"
                },
                {
                    "termekkod": "02040294T",
                    "megnevezes": "Notesz A/5 sima",
                    "kat_id": "106",
                    "raktar_kod": "5",
                    "listaar": "103",
                    "Listaár szerint": "70",
                    "kat szerinti listaár": "4",
                    "raktárkód szerinti listaár": "32"
                },
                {
                    "termekkod": "N001-KB101",
                    "megnevezes": "női szövet kabát",
                    "kat_id": "107",
                    "raktar_kod": "1",
                    "listaar": "24000",
                    "Listaár szerint": "217",
                    "kat szerinti listaár": "1",
                    "raktárkód szerinti listaár": "10"
                },
                {
                    "termekkod": "N008-NA201",
                    "megnevezes": "női farmer nadrág",
                    "kat_id": "108",
                    "raktar_kod": "2",
                    "listaar": "8290",
                    "Listaár szerint": "211",
                    "kat szerinti listaár": "1",
                    "raktárkód szerinti listaár": "4"
                },
                {
                    "termekkod": "01090517T",
                    "megnevezes": "Színes ofszet B/4",
                    "kat_id": "109",
                    "raktar_kod": "7",
                    "listaar": "4",
                    "Listaár szerint": "3",
                    "kat szerinti listaár": "1",
                    "raktárkód szerinti listaár": "2"
                },
                {
                    "termekkod": "01020299T",
                    "megnevezes": "Oklevél A/4 egyszínű",
                    "kat_id": "110",
                    "raktar_kod": "9",
                    "listaar": "48",
                    "Listaár szerint": "37",
                    "kat szerinti listaár": "1",
                    "raktárkód szerinti listaár": "18"
                },
                {
                    "termekkod": "01020300T",
                    "megnevezes": "Oklevél A/4 színes",
                    "kat_id": "110",
                    "raktar_kod": "9",
                    "listaar": "55",
                    "Listaár szerint": "42",
                    "kat szerinti listaár": "2",
                    "raktárkód szerinti listaár": "20"
                },
                {
                    "termekkod": "06050301T",
                    "megnevezes": "Olló gyerek ",
                    "kat_id": "111",
                    "raktar_kod": "8",
                    "listaar": "133",
                    "Listaár szerint": "84",
                    "kat szerinti listaár": "1",
                    "raktárkód szerinti listaár": "49"
                },
                {
                    "termekkod": "06050303T",
                    "megnevezes": "Olló, iskolai",
                    "kat_id": "111",
                    "raktar_kod": "7",
                    "listaar": "161",
                    "Listaár szerint": "90",
                    "kat szerinti listaár": "2",
                    "raktárkód szerinti listaár": "46"
                },
                {
                    "termekkod": "06050302T",
                    "megnevezes": "Olló Tagit 18 cm-es",
                    "kat_id": "111",
                    "raktar_kod": "5",
                    "listaar": "176",
                    "Listaár szerint": "97",
                    "kat szerinti listaár": "3",
                    "raktárkód szerinti listaár": "42"
                },
                {
                    "termekkod": "01010304T",
                    "megnevezes": "Öntapadós hologramos papír A/4",
                    "kat_id": "112",
                    "raktar_kod": "8",
                    "listaar": "59",
                    "Listaár szerint": "45",
                    "kat szerinti listaár": "1",
                    "raktárkód szerinti listaár": "30"
                },
                {
                    "termekkod": "01080512T",
                    "megnevezes": "Öntapadó A/4",
                    "kat_id": "112",
                    "raktar_kod": "5",
                    "listaar": "4575",
                    "Listaár szerint": "204",
                    "kat szerinti listaár": "2",
                    "raktárkód szerinti listaár": "70"
                },
                {
                    "termekkod": "05010306T",
                    "megnevezes": "Papízsebkendő,10db Szindy",
                    "kat_id": "114",
                    "raktar_kod": "8",
                    "listaar": "20",
                    "Listaár szerint": "16",
                    "kat szerinti listaár": "1",
                    "raktárkód szerinti listaár": "8"
                },
                {
                    "termekkod": "01040307T",
                    "megnevezes": "Pausz papír A/4",
                    "kat_id": "115",
                    "raktar_kod": "8",
                    "listaar": "15",
                    "Listaár szerint": "13",
                    "kat szerinti listaár": "1",
                    "raktárkód szerinti listaár": "5"
                },
                {
                    "termekkod": "02020245T",
                    "megnevezes": "Kiadási pénztárbizonylat 2×25",
                    "kat_id": "116",
                    "raktar_kod": "7",
                    "listaar": "103",
                    "Listaár szerint": "70",
                    "kat szerinti listaár": "1",
                    "raktárkód szerinti listaár": "36"
                },
                {
                    "termekkod": "02020037T",
                    "megnevezes": "Bevételi pénztárbizonylat 3×25",
                    "kat_id": "116",
                    "raktar_kod": "6",
                    "listaar": "144",
                    "Listaár szerint": "86",
                    "kat szerinti listaár": "2",
                    "raktárkód szerinti listaár": "41"
                },
                {
                    "termekkod": "02040308T",
                    "megnevezes": "Pénztárgépsz. 2 pl. nem öníró",
                    "kat_id": "117",
                    "raktar_kod": "9",
                    "listaar": "81",
                    "Listaár szerint": "60",
                    "kat szerinti listaár": "1",
                    "raktárkód szerinti listaár": "32"
                },
                {
                    "termekkod": "02040309T",
                    "megnevezes": "Pénztárgépszalag 2pl SC 57.5/60",
                    "kat_id": "117",
                    "raktar_kod": "6",
                    "listaar": "93",
                    "Listaár szerint": "64",
                    "kat szerinti listaár": "2",
                    "raktárkód szerinti listaár": "32"
                },
                {
                    "termekkod": "07080317T",
                    "megnevezes": "Pixiron mini ",
                    "kat_id": "118",
                    "raktar_kod": "5",
                    "listaar": "59",
                    "Listaár szerint": "45",
                    "kat szerinti listaár": "1",
                    "raktárkód szerinti listaár": "24"
                },
                {
                    "termekkod": "07080313T",
                    "megnevezes": "Pixiron Centrum",
                    "kat_id": "118",
                    "raktar_kod": "9",
                    "listaar": "59",
                    "Listaár szerint": "45",
                    "kat szerinti listaár": "1",
                    "raktárkód szerinti listaár": "22"
                },
                {
                    "termekkod": "07080315T",
                    "megnevezes": "Pixiron Handy műanyag",
                    "kat_id": "118",
                    "raktar_kod": "8",
                    "listaar": "94",
                    "Listaár szerint": "65",
                    "kat szerinti listaár": "2",
                    "raktárkód szerinti listaár": "37"
                },
                {
                    "termekkod": "07080312T",
                    "megnevezes": "Pixiron 0,7 Handy",
                    "kat_id": "118",
                    "raktar_kod": "5",
                    "listaar": "125",
                    "Listaár szerint": "81",
                    "kat szerinti listaár": "3",
                    "raktárkód szerinti listaár": "35"
                },
                {
                    "termekkod": "07080314T",
                    "megnevezes": "Pixiron Handy fém",
                    "kat_id": "118",
                    "raktar_kod": "8",
                    "listaar": "133",
                    "Listaár szerint": "84",
                    "kat szerinti listaár": "4",
                    "raktárkód szerinti listaár": "49"
                },
                {
                    "termekkod": "07080318T",
                    "megnevezes": "Pixiron Penac",
                    "kat_id": "118",
                    "raktar_kod": "5",
                    "listaar": "235",
                    "Listaár szerint": "118",
                    "kat szerinti listaár": "5",
                    "raktárkód szerinti listaár": "50"
                },
                {
                    "termekkod": "07080311T",
                    "megnevezes": "Pixiron  UNI",
                    "kat_id": "118",
                    "raktar_kod": "8",
                    "listaar": "276",
                    "Listaár szerint": "127",
                    "kat szerinti listaár": "6",
                    "raktárkód szerinti listaár": "64"
                },
                {
                    "termekkod": "07080319T",
                    "megnevezes": "Pixiron Pentel színes",
                    "kat_id": "118",
                    "raktar_kod": "7",
                    "listaar": "299",
                    "Listaár szerint": "135",
                    "kat szerinti listaár": "7",
                    "raktárkód szerinti listaár": "68"
                },
                {
                    "termekkod": "07080316T",
                    "megnevezes": "Pixiron KOH-I-NOOR",
                    "kat_id": "118",
                    "raktar_kod": "8",
                    "listaar": "468",
                    "Listaár szerint": "162",
                    "kat szerinti listaár": "8",
                    "raktárkód szerinti listaár": "74"
                },
                {
                    "termekkod": "04050321T",
                    "megnevezes": "Plüss kicsi",
                    "kat_id": "119",
                    "raktar_kod": "7",
                    "listaar": "161",
                    "Listaár szerint": "90",
                    "kat szerinti listaár": "1",
                    "raktárkód szerinti listaár": "46"
                },
                {
                    "termekkod": "04050320T",
                    "megnevezes": "Plüss  QX állatok",
                    "kat_id": "119",
                    "raktar_kod": "9",
                    "listaar": "173",
                    "Listaár szerint": "95",
                    "kat szerinti listaár": "2",
                    "raktárkód szerinti listaár": "50"
                },
                {
                    "termekkod": "04050322T",
                    "megnevezes": "Plüss sárkány",
                    "kat_id": "119",
                    "raktar_kod": "5",
                    "listaar": "314",
                    "Listaár szerint": "138",
                    "kat szerinti listaár": "3",
                    "raktárkód szerinti listaár": "55"
                },
                {
                    "termekkod": "06040323T",
                    "megnevezes": "Post-it 51×38 100 lapos",
                    "kat_id": "121",
                    "raktar_kod": "8",
                    "listaar": "36",
                    "Listaár szerint": "28",
                    "kat szerinti listaár": "1",
                    "raktárkód szerinti listaár": "16"
                },
                {
                    "termekkod": "06040324T",
                    "megnevezes": "Post-it 75×75 100 lapos",
                    "kat_id": "121",
                    "raktar_kod": "7",
                    "listaar": "89",
                    "Listaár szerint": "62",
                    "kat szerinti listaár": "2",
                    "raktárkód szerinti listaár": "33"
                },
                {
                    "termekkod": "06040326T",
                    "megnevezes": "Radír KOH-I-NOR 80",
                    "kat_id": "122",
                    "raktar_kod": "8",
                    "listaar": "19",
                    "Listaár szerint": "15",
                    "kat szerinti listaár": "1",
                    "raktárkód szerinti listaár": "7"
                },
                {
                    "termekkod": "06040327T",
                    "megnevezes": "Radír Koh-i-nor 40",
                    "kat_id": "122",
                    "raktar_kod": "9",
                    "listaar": "36",
                    "Listaár szerint": "28",
                    "kat szerinti listaár": "2",
                    "raktárkód szerinti listaár": "14"
                },
                {
                    "termekkod": "06040325T",
                    "megnevezes": "Radír gyümölcsös",
                    "kat_id": "122",
                    "raktar_kod": "9",
                    "listaar": "40",
                    "Listaár szerint": "31",
                    "kat szerinti listaár": "3",
                    "raktárkód szerinti listaár": "15"
                },
                {
                    "termekkod": "06040328T",
                    "megnevezes": "Radír Maped",
                    "kat_id": "122",
                    "raktar_kod": "8",
                    "listaar": "44",
                    "Listaár szerint": "34",
                    "kat szerinti listaár": "4",
                    "raktárkód szerinti listaár": "21"
                },
                {
                    "termekkod": "06040329T",
                    "megnevezes": "Radír stabilo",
                    "kat_id": "122",
                    "raktar_kod": "6",
                    "listaar": "44",
                    "Listaár szerint": "34",
                    "kat szerinti listaár": "4",
                    "raktárkód szerinti listaár": "18"
                },
                {
                    "termekkod": "06040331T",
                    "megnevezes": "Radír Tikky 40 ",
                    "kat_id": "122",
                    "raktar_kod": "8",
                    "listaar": "49",
                    "Listaár szerint": "38",
                    "kat szerinti listaár": "5",
                    "raktárkód szerinti listaár": "25"
                },
                {
                    "termekkod": "06040330T",
                    "megnevezes": "Radír Tikky 30 ",
                    "kat_id": "122",
                    "raktar_kod": "7",
                    "listaar": "50",
                    "Listaár szerint": "39",
                    "kat szerinti listaár": "6",
                    "raktárkód szerinti listaár": "23"
                },
                {
                    "termekkod": "06080332T",
                    "megnevezes": "Radírtoll betét ER100",
                    "kat_id": "123",
                    "raktar_kod": "5",
                    "listaar": "74",
                    "Listaár szerint": "55",
                    "kat szerinti listaár": "1",
                    "raktárkód szerinti listaár": "28"
                },
                {
                    "termekkod": "06080333T",
                    "megnevezes": "Radírtoll betét vastag",
                    "kat_id": "123",
                    "raktar_kod": "7",
                    "listaar": "119",
                    "Listaár szerint": "77",
                    "kat szerinti listaár": "2",
                    "raktárkód szerinti listaár": "39"
                },
                {
                    "termekkod": "06080336T",
                    "megnevezes": "Ragasztó 8 g Pritt",
                    "kat_id": "124",
                    "raktar_kod": "9",
                    "listaar": "81",
                    "Listaár szerint": "60",
                    "kat szerinti listaár": "1",
                    "raktárkód szerinti listaár": "32"
                },
                {
                    "termekkod": "06080339T",
                    "megnevezes": "Ragasztó kores",
                    "kat_id": "124",
                    "raktar_kod": "5",
                    "listaar": "89",
                    "Listaár szerint": "62",
                    "kat szerinti listaár": "2",
                    "raktárkód szerinti listaár": "31"
                },
                {
                    "termekkod": "06080338T",
                    "megnevezes": "Ragasztó kenőfejes Nebuló",
                    "kat_id": "124",
                    "raktar_kod": "8",
                    "listaar": "101",
                    "Listaár szerint": "69",
                    "kat szerinti listaár": "3",
                    "raktárkód szerinti listaár": "40"
                },
                {
                    "termekkod": "05040310T",
                    "megnevezes": "Pill.ragasztó",
                    "kat_id": "124",
                    "raktar_kod": "8",
                    "listaar": "103",
                    "Listaár szerint": "70",
                    "kat szerinti listaár": "4",
                    "raktárkód szerinti listaár": "41"
                },
                {
                    "termekkod": "06080335T",
                    "megnevezes": "Ragasztó 9 g Pax",
                    "kat_id": "124",
                    "raktar_kod": "9",
                    "listaar": "110",
                    "Listaár szerint": "73",
                    "kat szerinti listaár": "5",
                    "raktárkód szerinti listaár": "40"
                },
                {
                    "termekkod": "06080334T",
                    "megnevezes": "Ragasztó szalag KORES ",
                    "kat_id": "124",
                    "raktar_kod": "5",
                    "listaar": "133",
                    "Listaár szerint": "84",
                    "kat szerinti listaár": "6",
                    "raktárkód szerinti listaár": "37"
                },
                {
                    "termekkod": "05080341T",
                    "megnevezes": "Ragasztó, Technokol 35g piros",
                    "kat_id": "124",
                    "raktar_kod": "6",
                    "listaar": "144",
                    "Listaár szerint": "86",
                    "kat szerinti listaár": "7",
                    "raktárkód szerinti listaár": "41"
                },
                {
                    "termekkod": "05080340T",
                    "megnevezes": "Ragasztó, Technokol 35g kék",
                    "kat_id": "124",
                    "raktar_kod": "8",
                    "listaar": "144",
                    "Listaár szerint": "86",
                    "kat szerinti listaár": "7",
                    "raktárkód szerinti listaár": "50"
                },
                {
                    "termekkod": "06080337T",
                    "megnevezes": "Ragasztó Gyurma",
                    "kat_id": "124",
                    "raktar_kod": "7",
                    "listaar": "293",
                    "Listaár szerint": "132",
                    "kat szerinti listaár": "8",
                    "raktárkód szerinti listaár": "66"
                },
                {
                    "termekkod": "06010343T",
                    "megnevezes": "Ragasztószalag 19 mm-es SCOTCH+ tépő",
                    "kat_id": "124",
                    "raktar_kod": "6",
                    "listaar": "426",
                    "Listaár szerint": "155",
                    "kat szerinti listaár": "9",
                    "raktárkód szerinti listaár": "57"
                },
                {
                    "termekkod": "03010342T",
                    "megnevezes": "Ragasztószalag  TIXO",
                    "kat_id": "125",
                    "raktar_kod": "9",
                    "listaar": "15",
                    "Listaár szerint": "13",
                    "kat szerinti listaár": "1",
                    "raktárkód szerinti listaár": "6"
                },
                {
                    "termekkod": "02080433T",
                    "megnevezes": "Ragasztószalag 19 mm-es",
                    "kat_id": "125",
                    "raktar_kod": "9",
                    "listaar": "55",
                    "Listaár szerint": "42",
                    "kat szerinti listaár": "2",
                    "raktárkód szerinti listaár": "20"
                },
                {
                    "termekkod": "03010344T",
                    "megnevezes": "Ragasztószalag nagy 12 mm",
                    "kat_id": "125",
                    "raktar_kod": "7",
                    "listaar": "63",
                    "Listaár szerint": "48",
                    "kat szerinti listaár": "3",
                    "raktárkód szerinti listaár": "26"
                },
                {
                    "termekkod": "03010345T",
                    "megnevezes": "Ragasztószalag széles barna",
                    "kat_id": "125",
                    "raktar_kod": "6",
                    "listaar": "166",
                    "Listaár szerint": "92",
                    "kat szerinti listaár": "4",
                    "raktárkód szerinti listaár": "44"
                },
                {
                    "termekkod": "05050346T",
                    "megnevezes": "Rágógumi Orbit",
                    "kat_id": "126",
                    "raktar_kod": "9",
                    "listaar": "89",
                    "Listaár szerint": "62",
                    "kat szerinti listaár": "1",
                    "raktárkód szerinti listaár": "34"
                },
                {
                    "termekkod": "06040347T",
                    "megnevezes": "Rajzlap A/4 10db ffam.",
                    "kat_id": "127",
                    "raktar_kod": "5",
                    "listaar": "28",
                    "Listaár szerint": "21",
                    "kat szerinti listaár": "1",
                    "raktárkód szerinti listaár": "12"
                },
                {
                    "termekkod": "01010001T",
                    "megnevezes": "félfamentes rajzlap A4 (10 lap)",
                    "kat_id": "127",
                    "raktar_kod": "9",
                    "listaar": "342",
                    "Listaár szerint": "143",
                    "kat szerinti listaár": "2",
                    "raktárkód szerinti listaár": "60"
                },
                {
                    "termekkod": "05040349T",
                    "megnevezes": "Rajzszeg",
                    "kat_id": "128",
                    "raktar_kod": "6",
                    "listaar": "63",
                    "Listaár szerint": "48",
                    "kat szerinti listaár": "1",
                    "raktárkód szerinti listaár": "24"
                },
                {
                    "termekkod": "05040348T",
                    "megnevezes": "Rajzszeg színes",
                    "kat_id": "128",
                    "raktar_kod": "8",
                    "listaar": "106",
                    "Listaár szerint": "71",
                    "kat szerinti listaár": "2",
                    "raktárkód szerinti listaár": "42"
                },
                {
                    "termekkod": "06040351T",
                    "megnevezes": "Regiszteres füzet A5 Hightech",
                    "kat_id": "129",
                    "raktar_kod": "5",
                    "listaar": "203",
                    "Listaár szerint": "108",
                    "kat szerinti listaár": "1",
                    "raktárkód szerinti listaár": "46"
                },
                {
                    "termekkod": "06040350T",
                    "megnevezes": "Regiszteres füzet A4",
                    "kat_id": "129",
                    "raktar_kod": "9",
                    "listaar": "256",
                    "Listaár szerint": "123",
                    "kat szerinti listaár": "2",
                    "raktárkód szerinti listaár": "57"
                },
                {
                    "termekkod": "U001-KI501",
                    "megnevezes": "sál",
                    "kat_id": "130",
                    "raktar_kod": "1",
                    "listaar": "1990",
                    "Listaár szerint": "201",
                    "kat szerinti listaár": "1",
                    "raktárkód szerinti listaár": "3"
                },
                {
                    "termekkod": "02080514T",
                    "megnevezes": "Spirál 1/4 ",
                    "kat_id": "131",
                    "raktar_kod": "9",
                    "listaar": "45",
                    "Listaár szerint": "35",
                    "kat szerinti listaár": "1",
                    "raktárkód szerinti listaár": "17"
                },
                {
                    "termekkod": "04050358T",
                    "megnevezes": "Strandlabda ",
                    "kat_id": "132",
                    "raktar_kod": "8",
                    "listaar": "356",
                    "Listaár szerint": "146",
                    "kat szerinti listaár": "1",
                    "raktárkód szerinti listaár": "69"
                },
                {
                    "termekkod": "05110360T",
                    "megnevezes": "Szalvéta egyszínű",
                    "kat_id": "133",
                    "raktar_kod": "6",
                    "listaar": "118",
                    "Listaár szerint": "76",
                    "kat szerinti listaár": "1",
                    "raktárkód szerinti listaár": "37"
                },
                {
                    "termekkod": "05110363T",
                    "megnevezes": "Szalvéta dekor",
                    "kat_id": "133",
                    "raktar_kod": "9",
                    "listaar": "133",
                    "Listaár szerint": "84",
                    "kat szerinti listaár": "2",
                    "raktárkód szerinti listaár": "44"
                },
                {
                    "termekkod": "05110364T",
                    "megnevezes": "Szalvéta kicsi virágos",
                    "kat_id": "133",
                    "raktar_kod": "8",
                    "listaar": "161",
                    "Listaár szerint": "90",
                    "kat szerinti listaár": "3",
                    "raktárkód szerinti listaár": "53"
                },
                {
                    "termekkod": "05110361T",
                    "megnevezes": "Szalvéta Goma húsvéti",
                    "kat_id": "133",
                    "raktar_kod": "7",
                    "listaar": "175",
                    "Listaár szerint": "96",
                    "kat szerinti listaár": "4",
                    "raktárkód szerinti listaár": "50"
                },
                {
                    "termekkod": "05110359T",
                    "megnevezes": "Szalvéta ",
                    "kat_id": "133",
                    "raktar_kod": "8",
                    "listaar": "176",
                    "Listaár szerint": "97",
                    "kat szerinti listaár": "5",
                    "raktárkód szerinti listaár": "55"
                },
                {
                    "termekkod": "04110362T",
                    "megnevezes": "Szalvéta gyűjtőknek",
                    "kat_id": "133",
                    "raktar_kod": "5",
                    "listaar": "183",
                    "Listaár szerint": "99",
                    "kat szerinti listaár": "6",
                    "raktárkód szerinti listaár": "43"
                },
                {
                    "termekkod": "06010366T",
                    "megnevezes": "Számológép Roxin",
                    "kat_id": "134",
                    "raktar_kod": "6",
                    "listaar": "508",
                    "Listaár szerint": "164",
                    "kat szerinti listaár": "1",
                    "raktárkód szerinti listaár": "60"
                },
                {
                    "termekkod": "06040446T",
                    "megnevezes": "Számológép tudományos",
                    "kat_id": "134",
                    "raktar_kod": "5",
                    "listaar": "1173",
                    "Listaár szerint": "194",
                    "kat szerinti listaár": "2",
                    "raktárkód szerinti listaár": "67"
                },
                {
                    "termekkod": "05010369T",
                    "megnevezes": "Szemetes zsák 60 literes",
                    "kat_id": "135",
                    "raktar_kod": "7",
                    "listaar": "129",
                    "Listaár szerint": "82",
                    "kat szerinti listaár": "1",
                    "raktárkód szerinti listaár": "41"
                },
                {
                    "termekkod": "07010371T",
                    "megnevezes": "Színes ceruza 6-os",
                    "kat_id": "136",
                    "raktar_kod": "8",
                    "listaar": "99",
                    "Listaár szerint": "68",
                    "kat szerinti listaár": "1",
                    "raktárkód szerinti listaár": "39"
                },
                {
                    "termekkod": "07010372T",
                    "megnevezes": "Színes ceruza 12 szín",
                    "kat_id": "136",
                    "raktar_kod": "7",
                    "listaar": "161",
                    "Listaár szerint": "90",
                    "kat szerinti listaár": "2",
                    "raktárkód szerinti listaár": "46"
                },
                {
                    "termekkod": "06010377T",
                    "megnevezes": "Szögmérő színes",
                    "kat_id": "137",
                    "raktar_kod": "9",
                    "listaar": "8",
                    "Listaár szerint": "6",
                    "kat szerinti listaár": "1",
                    "raktárkód szerinti listaár": "2"
                },
                {
                    "termekkod": "06010376T",
                    "megnevezes": "Szögmérő papír",
                    "kat_id": "137",
                    "raktar_kod": "6",
                    "listaar": "11",
                    "Listaár szerint": "9",
                    "kat szerinti listaár": "2",
                    "raktárkód szerinti listaár": "6"
                },
                {
                    "termekkod": "06010375T",
                    "megnevezes": "Szögmérő 180 fokos műa.",
                    "kat_id": "137",
                    "raktar_kod": "6",
                    "listaar": "24",
                    "Listaár szerint": "18",
                    "kat szerinti listaár": "3",
                    "raktárkód szerinti listaár": "10"
                },
                {
                    "termekkod": "06040380T",
                    "megnevezes": "Szövegkiemelő",
                    "kat_id": "138",
                    "raktar_kod": "5",
                    "listaar": "78",
                    "Listaár szerint": "57",
                    "kat szerinti listaár": "1",
                    "raktárkód szerinti listaár": "29"
                },
                {
                    "termekkod": "06040378T",
                    "megnevezes": "Szövegkiemelő vékony",
                    "kat_id": "138",
                    "raktar_kod": "8",
                    "listaar": "89",
                    "Listaár szerint": "62",
                    "kat szerinti listaár": "2",
                    "raktárkód szerinti listaár": "36"
                },
                {
                    "termekkod": "06040379T",
                    "megnevezes": "Szövegkiemelő ",
                    "kat_id": "138",
                    "raktar_kod": "9",
                    "listaar": "93",
                    "Listaár szerint": "64",
                    "kat szerinti listaár": "3",
                    "raktárkód szerinti listaár": "35"
                },
                {
                    "termekkod": "06040381T",
                    "megnevezes": "Szövegkiemelő Videotip",
                    "kat_id": "138",
                    "raktar_kod": "6",
                    "listaar": "103",
                    "Listaár szerint": "70",
                    "kat szerinti listaár": "4",
                    "raktárkód szerinti listaár": "34"
                },
                {
                    "termekkod": "07050464T",
                    "megnevezes": "Szövegkiemelő Staedtler",
                    "kat_id": "138",
                    "raktar_kod": "7",
                    "listaar": "140",
                    "Listaár szerint": "85",
                    "kat szerinti listaár": "5",
                    "raktárkód szerinti listaár": "43"
                },
                {
                    "termekkod": "06040382T",
                    "megnevezes": "Táblafilc",
                    "kat_id": "139",
                    "raktar_kod": "9",
                    "listaar": "633",
                    "Listaár szerint": "170",
                    "kat szerinti listaár": "1",
                    "raktárkód szerinti listaár": "68"
                },
                {
                    "termekkod": "05050465T",
                    "megnevezes": "Tapétavágó kés",
                    "kat_id": "140",
                    "raktar_kod": "6",
                    "listaar": "40",
                    "Listaár szerint": "31",
                    "kat szerinti listaár": "1",
                    "raktárkód szerinti listaár": "17"
                },
                {
                    "termekkod": "06040386T",
                    "megnevezes": "Tempera szóló színes",
                    "kat_id": "141",
                    "raktar_kod": "8",
                    "listaar": "48",
                    "Listaár szerint": "37",
                    "kat szerinti listaár": "1",
                    "raktárkód szerinti listaár": "24"
                },
                {
                    "termekkod": "06040385T",
                    "megnevezes": "Tempera szóló ezüst",
                    "kat_id": "141",
                    "raktar_kod": "8",
                    "listaar": "96",
                    "Listaár szerint": "67",
                    "kat szerinti listaár": "2",
                    "raktárkód szerinti listaár": "38"
                },
                {
                    "termekkod": "02080449T",
                    "megnevezes": "Térképtű színes",
                    "kat_id": "142",
                    "raktar_kod": "6",
                    "listaar": "103",
                    "Listaár szerint": "70",
                    "kat szerinti listaár": "1",
                    "raktárkód szerinti listaár": "34"
                },
                {
                    "termekkod": "07040388T",
                    "megnevezes": "Tintapatron /kék/",
                    "kat_id": "143",
                    "raktar_kod": "7",
                    "listaar": "9",
                    "Listaár szerint": "7",
                    "kat szerinti listaár": "1",
                    "raktárkód szerinti listaár": "4"
                },
                {
                    "termekkod": "07040390T",
                    "megnevezes": "Tintapatron színes",
                    "kat_id": "143",
                    "raktar_kod": "9",
                    "listaar": "11",
                    "Listaár szerint": "9",
                    "kat szerinti listaár": "2",
                    "raktárkód szerinti listaár": "4"
                },
                {
                    "termekkod": "07040389T",
                    "megnevezes": "Tintapatron 30 db-os kék",
                    "kat_id": "143",
                    "raktar_kod": "7",
                    "listaar": "360",
                    "Listaár szerint": "147",
                    "kat szerinti listaár": "3",
                    "raktárkód szerinti listaár": "71"
                },
                {
                    "termekkod": "07010244T",
                    "megnevezes": "Kerámiatoll",
                    "kat_id": "144",
                    "raktar_kod": "5",
                    "listaar": "74",
                    "Listaár szerint": "55",
                    "kat szerinti listaár": "1",
                    "raktárkód szerinti listaár": "28"
                },
                {
                    "termekkod": "07040391T",
                    "megnevezes": "Toll Centropen roller",
                    "kat_id": "144",
                    "raktar_kod": "9",
                    "listaar": "80",
                    "Listaár szerint": "59",
                    "kat szerinti listaár": "2",
                    "raktárkód szerinti listaár": "31"
                },
                {
                    "termekkod": "07010141T",
                    "megnevezes": "G.toll betét X20",
                    "kat_id": "145",
                    "raktar_kod": "7",
                    "listaar": "15",
                    "Listaár szerint": "13",
                    "kat szerinti listaár": "1",
                    "raktárkód szerinti listaár": "7"
                },
                {
                    "termekkod": "07010140T",
                    "megnevezes": "G.toll betét Stabilo",
                    "kat_id": "145",
                    "raktar_kod": "5",
                    "listaar": "23",
                    "Listaár szerint": "17",
                    "kat szerinti listaár": "2",
                    "raktárkód szerinti listaár": "9"
                },
                {
                    "termekkod": "07040129T",
                    "megnevezes": "G. toll betét réz",
                    "kat_id": "145",
                    "raktar_kod": "5",
                    "listaar": "30",
                    "Listaár szerint": "23",
                    "kat szerinti listaár": "3",
                    "raktárkód szerinti listaár": "13"
                },
                {
                    "termekkod": "07040127T",
                    "megnevezes": "G. toll betét mini",
                    "kat_id": "145",
                    "raktar_kod": "9",
                    "listaar": "30",
                    "Listaár szerint": "23",
                    "kat szerinti listaár": "3",
                    "raktárkód szerinti listaár": "12"
                },
                {
                    "termekkod": "07010138T",
                    "megnevezes": "G.toll betét jumbo",
                    "kat_id": "145",
                    "raktar_kod": "8",
                    "listaar": "33",
                    "Listaár szerint": "25",
                    "kat szerinti listaár": "4",
                    "raktárkód szerinti listaár": "13"
                },
                {
                    "termekkod": "07040133T",
                    "megnevezes": "G.toll betét görbe hegyű",
                    "kat_id": "145",
                    "raktar_kod": "5",
                    "listaar": "39",
                    "Listaár szerint": "30",
                    "kat szerinti listaár": "5",
                    "raktárkód szerinti listaár": "16"
                },
                {
                    "termekkod": "07040134T",
                    "megnevezes": "G.toll betét illatos",
                    "kat_id": "145",
                    "raktar_kod": "7",
                    "listaar": "44",
                    "Listaár szerint": "34",
                    "kat szerinti listaár": "6",
                    "raktárkód szerinti listaár": "20"
                },
                {
                    "termekkod": "07010137T",
                    "megnevezes": "G.toll betét PAX tip.",
                    "kat_id": "145",
                    "raktar_kod": "6",
                    "listaar": "48",
                    "Listaár szerint": "37",
                    "kat szerinti listaár": "7",
                    "raktárkód szerinti listaár": "19"
                },
                {
                    "termekkod": "07040128T",
                    "megnevezes": "G. toll betét mini fém",
                    "kat_id": "145",
                    "raktar_kod": "6",
                    "listaar": "55",
                    "Listaár szerint": "42",
                    "kat szerinti listaár": "8",
                    "raktárkód szerinti listaár": "21"
                },
                {
                    "termekkod": "07040132T",
                    "megnevezes": "G.toll betét csavaros",
                    "kat_id": "145",
                    "raktar_kod": "8",
                    "listaar": "55",
                    "Listaár szerint": "42",
                    "kat szerinti listaár": "8",
                    "raktárkód szerinti listaár": "28"
                },
                {
                    "termekkod": "07010143T",
                    "megnevezes": "G.toll betét Zebra H-0,7",
                    "kat_id": "145",
                    "raktar_kod": "7",
                    "listaar": "78",
                    "Listaár szerint": "57",
                    "kat szerinti listaár": "9",
                    "raktárkód szerinti listaár": "31"
                },
                {
                    "termekkod": "07040130T",
                    "megnevezes": "G. toll betét S7S",
                    "kat_id": "145",
                    "raktar_kod": "6",
                    "listaar": "80",
                    "Listaár szerint": "59",
                    "kat szerinti listaár": "10",
                    "raktárkód szerinti listaár": "28"
                },
                {
                    "termekkod": "07040131T",
                    "megnevezes": "G. toll betét UNI lachnok Fine SA-7C",
                    "kat_id": "145",
                    "raktar_kod": "9",
                    "listaar": "85",
                    "Listaár szerint": "61",
                    "kat szerinti listaár": "11",
                    "raktárkód szerinti listaár": "33"
                },
                {
                    "termekkod": "07010144T",
                    "megnevezes": "G.toll betét Zebra K-0,7",
                    "kat_id": "145",
                    "raktar_kod": "9",
                    "listaar": "89",
                    "Listaár szerint": "62",
                    "kat szerinti listaár": "12",
                    "raktárkód szerinti listaár": "34"
                },
                {
                    "termekkod": "07010139T",
                    "megnevezes": "G.toll betét S7L ",
                    "kat_id": "145",
                    "raktar_kod": "6",
                    "listaar": "91",
                    "Listaár szerint": "63",
                    "kat szerinti listaár": "13",
                    "raktárkód szerinti listaár": "31"
                },
                {
                    "termekkod": "07010136T",
                    "megnevezes": "G.toll betét PAX",
                    "kat_id": "145",
                    "raktar_kod": "6",
                    "listaar": "123",
                    "Listaár szerint": "79",
                    "kat szerinti listaár": "14",
                    "raktárkód szerinti listaár": "38"
                },
                {
                    "termekkod": "07010142T",
                    "megnevezes": "G.toll betét Zebra F-0.7",
                    "kat_id": "145",
                    "raktar_kod": "5",
                    "listaar": "228",
                    "Listaár szerint": "115",
                    "kat szerinti listaár": "15",
                    "raktárkód szerinti listaár": "48"
                },
                {
                    "termekkod": "07040135T",
                    "megnevezes": "G.toll betét Parker ",
                    "kat_id": "145",
                    "raktar_kod": "6",
                    "listaar": "684",
                    "Listaár szerint": "174",
                    "kat szerinti listaár": "16",
                    "raktárkód szerinti listaár": "65"
                },
                {
                    "termekkod": "06040394T",
                    "megnevezes": "Tolltartó zipzáras",
                    "kat_id": "146",
                    "raktar_kod": "5",
                    "listaar": "324",
                    "Listaár szerint": "140",
                    "kat szerinti listaár": "1",
                    "raktárkód szerinti listaár": "56"
                },
                {
                    "termekkod": "06040396T",
                    "megnevezes": "Tolltartó Garfield",
                    "kat_id": "146",
                    "raktar_kod": "7",
                    "listaar": "410",
                    "Listaár szerint": "153",
                    "kat szerinti listaár": "2",
                    "raktárkód szerinti listaár": "72"
                },
                {
                    "termekkod": "06040398T",
                    "megnevezes": "Tolltartó hengeres ",
                    "kat_id": "146",
                    "raktar_kod": "5",
                    "listaar": "411",
                    "Listaár szerint": "154",
                    "kat szerinti listaár": "3",
                    "raktárkód szerinti listaár": "59"
                },
                {
                    "termekkod": "06040397T",
                    "megnevezes": "Tolltartó asztali",
                    "kat_id": "146",
                    "raktar_kod": "8",
                    "listaar": "655",
                    "Listaár szerint": "172",
                    "kat szerinti listaár": "4",
                    "raktárkód szerinti listaár": "76"
                },
                {
                    "termekkod": "06040395T",
                    "megnevezes": "Tolltartó 2 zipzáros töltött",
                    "kat_id": "146",
                    "raktar_kod": "7",
                    "listaar": "728",
                    "Listaár szerint": "180",
                    "kat szerinti listaár": "5",
                    "raktárkód szerinti listaár": "77"
                },
                {
                    "termekkod": "06040392T",
                    "megnevezes": "Tolltartó 1 zipzáros",
                    "kat_id": "146",
                    "raktar_kod": "7",
                    "listaar": "728",
                    "Listaár szerint": "180",
                    "kat szerinti listaár": "5",
                    "raktárkód szerinti listaár": "77"
                },
                {
                    "termekkod": "06040393T",
                    "megnevezes": "Tolltartó 2 részes NG.",
                    "kat_id": "146",
                    "raktar_kod": "9",
                    "listaar": "765",
                    "Listaár szerint": "182",
                    "kat szerinti listaár": "6",
                    "raktárkód szerinti listaár": "72"
                },
                {
                    "termekkod": "02080511T",
                    "megnevezes": "Oki toner C",
                    "kat_id": "147",
                    "raktar_kod": "8",
                    "listaar": "14250",
                    "Listaár szerint": "214",
                    "kat szerinti listaár": "1",
                    "raktárkód szerinti listaár": "84"
                },
                {
                    "termekkod": "07050462T",
                    "megnevezes": "Töltőtoll tinta ",
                    "kat_id": "148",
                    "raktar_kod": "5",
                    "listaar": "493",
                    "Listaár szerint": "163",
                    "kat szerinti listaár": "1",
                    "raktárkód szerinti listaár": "61"
                },
                {
                    "termekkod": "02040402T",
                    "megnevezes": "Tűzőgép Boxer ",
                    "kat_id": "149",
                    "raktar_kod": "5",
                    "listaar": "286",
                    "Listaár szerint": "129",
                    "kat szerinti listaár": "1",
                    "raktárkód szerinti listaár": "54"
                },
                {
                    "termekkod": "02040401T",
                    "megnevezes": "Tűzőgép Boxer 10",
                    "kat_id": "149",
                    "raktar_kod": "8",
                    "listaar": "339",
                    "Listaár szerint": "142",
                    "kat szerinti listaár": "2",
                    "raktárkód szerinti listaár": "67"
                },
                {
                    "termekkod": "02040404T",
                    "megnevezes": "Tűzőgép EAGLE",
                    "kat_id": "149",
                    "raktar_kod": "8",
                    "listaar": "405",
                    "Listaár szerint": "152",
                    "kat szerinti listaár": "3",
                    "raktárkód szerinti listaár": "71"
                },
                {
                    "termekkod": "02080452T",
                    "megnevezes": "Tűzőgép mini",
                    "kat_id": "149",
                    "raktar_kod": "6",
                    "listaar": "438",
                    "Listaár szerint": "157",
                    "kat szerinti listaár": "4",
                    "raktárkód szerinti listaár": "58"
                },
                {
                    "termekkod": "02040403T",
                    "megnevezes": "Tűzőgép SAX 239",
                    "kat_id": "149",
                    "raktar_kod": "5",
                    "listaar": "1351",
                    "Listaár szerint": "196",
                    "kat szerinti listaár": "5",
                    "raktárkód szerinti listaár": "68"
                },
                {
                    "termekkod": "02040002T",
                    "megnevezes": "irodai tűzőgép",
                    "kat_id": "149",
                    "raktar_kod": "6",
                    "listaar": "2100",
                    "Listaár szerint": "202",
                    "kat szerinti listaár": "6",
                    "raktárkód szerinti listaár": "72"
                },
                {
                    "termekkod": "02040406T",
                    "megnevezes": "Tűzőkapocs 24/6",
                    "kat_id": "150",
                    "raktar_kod": "9",
                    "listaar": "34",
                    "Listaár szerint": "26",
                    "kat szerinti listaár": "1",
                    "raktárkód szerinti listaár": "13"
                },
                {
                    "termekkod": "02040405T",
                    "megnevezes": "Tűzőkapocs 10-es",
                    "kat_id": "150",
                    "raktar_kod": "7",
                    "listaar": "44",
                    "Listaár szerint": "34",
                    "kat szerinti listaár": "2",
                    "raktárkód szerinti listaár": "20"
                },
                {
                    "termekkod": "06080410T",
                    "megnevezes": "Vízfesték 12db-os kínai",
                    "kat_id": "151",
                    "raktar_kod": "6",
                    "listaar": "176",
                    "Listaár szerint": "97",
                    "kat szerinti listaár": "1",
                    "raktárkód szerinti listaár": "45"
                },
                {
                    "termekkod": "06080409T",
                    "megnevezes": "Vízfesték 12 színű kerek",
                    "kat_id": "151",
                    "raktar_kod": "6",
                    "listaar": "180",
                    "Listaár szerint": "98",
                    "kat szerinti listaár": "2",
                    "raktárkód szerinti listaár": "46"
                },
                {
                    "termekkod": "06080408T",
                    "megnevezes": "Vízfesték 12 db-os ",
                    "kat_id": "151",
                    "raktar_kod": "7",
                    "listaar": "210",
                    "Listaár szerint": "110",
                    "kat szerinti listaár": "3",
                    "raktárkód szerinti listaár": "57"
                },
                {
                    "termekkod": "06080407T",
                    "megnevezes": "Vízfesték  12 színű nagy",
                    "kat_id": "151",
                    "raktar_kod": "7",
                    "listaar": "249",
                    "Listaár szerint": "122",
                    "kat szerinti listaár": "4",
                    "raktárkód szerinti listaár": "63"
                },
                {
                    "termekkod": "06080413T",
                    "megnevezes": "Vonalzó 30 cm",
                    "kat_id": "152",
                    "raktar_kod": "8",
                    "listaar": "30",
                    "Listaár szerint": "23",
                    "kat szerinti listaár": "1",
                    "raktárkód szerinti listaár": "12"
                },
                {
                    "termekkod": "06080414T",
                    "megnevezes": "Vonalzó 20 cm-es ",
                    "kat_id": "152",
                    "raktar_kod": "8",
                    "listaar": "30",
                    "Listaár szerint": "23",
                    "kat szerinti listaár": "1",
                    "raktárkód szerinti listaár": "12"
                },
                {
                    "termekkod": "06080415T",
                    "megnevezes": "Vonalzó 45 fokos",
                    "kat_id": "152",
                    "raktar_kod": "9",
                    "listaar": "30",
                    "Listaár szerint": "23",
                    "kat szerinti listaár": "1",
                    "raktárkód szerinti listaár": "12"
                },
                {
                    "termekkod": "06080412T",
                    "megnevezes": "Vonalzó 16 cm-es LIZZY",
                    "kat_id": "152",
                    "raktar_kod": "7",
                    "listaar": "30",
                    "Listaár szerint": "23",
                    "kat szerinti listaár": "1",
                    "raktárkód szerinti listaár": "13"
                },
                {
                    "termekkod": "06080416T",
                    "megnevezes": "Vonalzó 60 fokos",
                    "kat_id": "152",
                    "raktar_kod": "6",
                    "listaar": "33",
                    "Listaár szerint": "25",
                    "kat szerinti listaár": "2",
                    "raktárkód szerinti listaár": "13"
                },
                {
                    "termekkod": "06080411T",
                    "megnevezes": "Vonalzó 15 cm-es ESSELTE",
                    "kat_id": "152",
                    "raktar_kod": "8",
                    "listaar": "58",
                    "Listaár szerint": "44",
                    "kat szerinti listaár": "3",
                    "raktárkód szerinti listaár": "29"
                },
                {
                    "termekkod": "06080417T",
                    "megnevezes": "Zászló papír",
                    "kat_id": "153",
                    "raktar_kod": "5",
                    "listaar": "20",
                    "Listaár szerint": "16",
                    "kat szerinti listaár": "1",
                    "raktárkód szerinti listaár": "8"
                },
                {
                    "termekkod": "07080419T",
                    "megnevezes": "Zselés toll MICRO",
                    "kat_id": "154",
                    "raktar_kod": "9",
                    "listaar": "66",
                    "Listaár szerint": "51",
                    "kat szerinti listaár": "1",
                    "raktárkód szerinti listaár": "26"
                },
                {
                    "termekkod": "07080418T",
                    "megnevezes": "Zselés toll ",
                    "kat_id": "154",
                    "raktar_kod": "7",
                    "listaar": "95",
                    "Listaár szerint": "66",
                    "kat szerinti listaár": "2",
                    "raktárkód szerinti listaár": "35"
                },
                {
                    "termekkod": "07080420T",
                    "megnevezes": "Zselés toll Muhnwa",
                    "kat_id": "154",
                    "raktar_kod": "7",
                    "listaar": "161",
                    "Listaár szerint": "90",
                    "kat szerinti listaár": "3",
                    "raktárkód szerinti listaár": "46"
                },
                {
                    "termekkod": "07080421T",
                    "megnevezes": "Zseléstoll Lizzy Card",
                    "kat_id": "154",
                    "raktar_kod": "7",
                    "listaar": "228",
                    "Listaár szerint": "115",
                    "kat szerinti listaár": "4",
                    "raktárkód szerinti listaár": "61"
                },
                {
                    "termekkod": "02040206T",
                    "megnevezes": "Írásvetítő fólia",
                    "kat_id": "155",
                    "raktar_kod": "8",
                    "listaar": "81",
                    "Listaár szerint": "60",
                    "kat szerinti listaár": "1",
                    "raktárkód szerinti listaár": "35"
                }
            ]
        },
        "text/html": [
            "<table>",
            "<tr><th>termekkod</th><th>megnevezes</th><th>kat_id</th><th>raktar_kod</th><th>listaar</th><th>Listaár szerint</th><th>kat szerinti listaár</th><th>raktárkód szerinti listaár</th></tr>",
            "<tr><td>08070491T</td><td>Szám.tech. kicsiknek</td><td>4</td><td>8</td><td>214</td><td>112</td><td>1</td><td>60</td></tr>",
            "<tr><td>08070485T</td><td>Jól felkészültem-e - Fizika</td><td>4</td><td>6</td><td>291</td><td>131</td><td>2</td><td>52</td></tr>",
            "<tr><td>08070480T</td><td>Fizika 13 éveseknek</td><td>4</td><td>8</td><td>308</td><td>136</td><td>3</td><td>66</td></tr>",
            "<tr><td>08070483T</td><td>Fizikai feladatok és tévedések</td><td>4</td><td>5</td><td>324</td><td>140</td><td>4</td><td>56</td></tr>",
            "<tr><td>08070484T</td><td>Fogalmazás lépésről lépésre</td><td>4</td><td>8</td><td>345</td><td>144</td><td>5</td><td>68</td></tr>",
            "<tr><td>08070495T</td><td>Érettségi felv. fel. Biológia</td><td>4</td><td>9</td><td>440</td><td>158</td><td>6</td><td>65</td></tr>",
            "<tr><td>08070494T</td><td>Érettségi felv. fel. Fizika</td><td>4</td><td>6</td><td>440</td><td>158</td><td>6</td><td>59</td></tr>",
            "<tr><td>08070479T</td><td>Fizika</td><td>4</td><td>7</td><td>674</td><td>173</td><td>7</td><td>76</td></tr>",
            "<tr><td>08070490T</td><td>Szövegszerkesztés</td><td>4</td><td>8</td><td>691</td><td>177</td><td>8</td><td>77</td></tr>",
            "<tr><td>08070493T</td><td>Érettségi felv. fel. Matematika</td><td>4</td><td>5</td><td>720</td><td>179</td><td>9</td><td>62</td></tr>",
            "<tr><td>08070492T</td><td>Informatika</td><td>4</td><td>9</td><td>735</td><td>181</td><td>10</td><td>71</td></tr>",
            "<tr><td>08070489T</td><td>RAMba zárt világ</td><td>4</td><td>8</td><td>868</td><td>188</td><td>11</td><td>81</td></tr>",
            "<tr><td>08070472T</td><td>A föld amelyen élünk - Európa földrajza</td><td>4</td><td>8</td><td>1089</td><td>192</td><td>12</td><td>83</td></tr>",
            "<tr><td>08070474T</td><td>A föld amelyen élünk - Hazánk földrajza</td><td>4</td><td>5</td><td>1089</td><td>192</td><td>12</td><td>66</td></tr>",
            "<tr><td>08070473T</td><td>A föld amelyen élünk - Távoli földrészek</td><td>4</td><td>6</td><td>1089</td><td>192</td><td>12</td><td>68</td></tr>",
            "<tr><td>04050035T</td><td>Bérlet tok</td><td>5</td><td>5</td><td>24</td><td>18</td><td>1</td><td>10</td></tr>",
            "<tr><td>04110258T</td><td>Lampion</td><td>5</td><td>9</td><td>73</td><td>54</td><td>2</td><td>29</td></tr>",
            "<tr><td>04050267T</td><td>Logikai készlet</td><td>5</td><td>5</td><td>129</td><td>82</td><td>3</td><td>36</td></tr>",
            "<tr><td>04030285T</td><td>Mikulás zacskó</td><td>6</td><td>8</td><td>11</td><td>9</td><td>1</td><td>4</td></tr>",
            "<tr><td>03080004T</td><td>Ajándék cs. tasak italos, fólia</td><td>6</td><td>6</td><td>19</td><td>15</td><td>2</td><td>8</td></tr>",
            "<tr><td>03050457T</td><td>Ajándék cs. tasak kicsi</td><td>6</td><td>6</td><td>26</td><td>20</td><td>3</td><td>11</td></tr>",
            "<tr><td>03080006T</td><td>Ajándék cs. tasak mintás kicsi</td><td>6</td><td>8</td><td>26</td><td>20</td><td>3</td><td>10</td></tr>",
            "<tr><td>03050459T</td><td>Talpas tasak</td><td>6</td><td>8</td><td>40</td><td>31</td><td>4</td><td>18</td></tr>",
            "<tr><td>03080013T</td><td>Ajándék csom. 50x70 húsvéti</td><td>6</td><td>6</td><td>64</td><td>49</td><td>5</td><td>25</td></tr>",
            "<tr><td>03080014T</td><td>Ajándék csom. 70x50 metál</td><td>6</td><td>8</td><td>81</td><td>60</td><td>6</td><td>35</td></tr>",
            "<tr><td>03080008T</td><td>Ajándék cs. tasak kicsi</td><td>6</td><td>7</td><td>103</td><td>70</td><td>7</td><td>36</td></tr>",
            "<tr><td>03080439T</td><td>Italtartó doboz</td><td>6</td><td>8</td><td>114</td><td>74</td><td>8</td><td>44</td></tr>",
            "<tr><td>03080012T</td><td>Ajándék csom. 200x70</td><td>6</td><td>8</td><td>125</td><td>81</td><td>9</td><td>48</td></tr>",
            "<tr><td>03080009T</td><td>Ajándék csom. 100x70 metál</td><td>6</td><td>8</td><td>148</td><td>88</td><td>10</td><td>51</td></tr>",
            "<tr><td>03050458T</td><td>Ajándék cs. 2×100×70</td><td>6</td><td>7</td><td>148</td><td>88</td><td>10</td><td>45</td></tr>",
            "<tr><td>03080011T</td><td>Ajándék cs. tasak közepes</td><td>6</td><td>6</td><td>148</td><td>88</td><td>10</td><td>42</td></tr>",
            "<tr><td>03080015T</td><td>Ajándék csom. gyűrt</td><td>6</td><td>9</td><td>169</td><td>94</td><td>11</td><td>49</td></tr>",
            "<tr><td>03080437T</td><td>Ajándék csomagoló tasak</td><td>6</td><td>7</td><td>185</td><td>101</td><td>12</td><td>53</td></tr>",
            "<tr><td>03080003T</td><td>Ajándék cs. tasak italos</td><td>6</td><td>6</td><td>185</td><td>101</td><td>12</td><td>47</td></tr>",
            "<tr><td>03080007T</td><td>Ajándék cs. tasak mintás nagy</td><td>6</td><td>9</td><td>206</td><td>109</td><td>13</td><td>54</td></tr>",
            "<tr><td>03080010T</td><td>Ajándék csom. 150x70</td><td>6</td><td>9</td><td>206</td><td>109</td><td>13</td><td>54</td></tr>",
            "<tr><td>03080438T</td><td>Ajándék csomagoló tasak lézeres</td><td>6</td><td>7</td><td>214</td><td>112</td><td>14</td><td>59</td></tr>",
            "<tr><td>03080005T</td><td>Ajándék cs. tasak virágos nagy</td><td>6</td><td>8</td><td>290</td><td>130</td><td>15</td><td>65</td></tr>",
            "<tr><td>04050022T</td><td>Álarc</td><td>7</td><td>8</td><td>89</td><td>62</td><td>1</td><td>36</td></tr>",
            "<tr><td>04050023T</td><td>Álarc fejdísz</td><td>7</td><td>8</td><td>144</td><td>86</td><td>2</td><td>50</td></tr>",
            "<tr><td>04050024T</td><td>Álarc szemüveg</td><td>7</td><td>7</td><td>144</td><td>86</td><td>2</td><td>44</td></tr>",
            "<tr><td>L041-AL211</td><td>lány ünneplős ruha</td><td>8</td><td>3</td><td>16900</td><td>215</td><td>1</td><td>10</td></tr>",
            "<tr><td>G041-AL211</td><td>fiú ünneplős ruha</td><td>8</td><td>4</td><td>16900</td><td>215</td><td>1</td><td>2</td></tr>",
            "<tr><td>N029-AL212</td><td>női koktélruha</td><td>8</td><td>4</td><td>32000</td><td>218</td><td>2</td><td>3</td></tr>",
            "<tr><td>05010026T</td><td>Alufólia 10 m-es</td><td>9</td><td>9</td><td>118</td><td>76</td><td>1</td><td>41</td></tr>",
            "<tr><td>05010027T</td><td>Alufólia 20 m-es</td><td>9</td><td>6</td><td>214</td><td>112</td><td>2</td><td>48</td></tr>",
            "<tr><td>02010028T</td><td>Árazószalag </td><td>10</td><td>9</td><td>106</td><td>71</td><td>1</td><td>38</td></tr>",
            "<tr><td>02020029T</td><td>Átírótömb A/6</td><td>11</td><td>8</td><td>115</td><td>75</td><td>1</td><td>45</td></tr>",
            "<tr><td>06080423T</td><td>Beíró A/5 kockás</td><td>12</td><td>5</td><td>228</td><td>115</td><td>1</td><td>48</td></tr>",
            "<tr><td>02020032T</td><td>Beírókönyv A5 </td><td>13</td><td>8</td><td>133</td><td>84</td><td>1</td><td>49</td></tr>",
            "<tr><td>02020033T</td><td>Beírókönyv A4</td><td>13</td><td>5</td><td>328</td><td>141</td><td>2</td><td>57</td></tr>",
            "<tr><td>02060039T</td><td>Bélyegző párna</td><td>14</td><td>6</td><td>650</td><td>171</td><td>1</td><td>64</td></tr>",
            "<tr><td>02060038T</td><td>Bélyegző IDEAL 50</td><td>14</td><td>8</td><td>780</td><td>184</td><td>2</td><td>78</td></tr>",
            "<tr><td>02060448T</td><td>Bélyegző RP 18-47</td><td>14</td><td>7</td><td>1147</td><td>193</td><td>3</td><td>78</td></tr>",
            "<tr><td>02060447T</td><td>Bélyegző pocket</td><td>14</td><td>6</td><td>1377</td><td>197</td><td>4</td><td>69</td></tr>",
            "<tr><td>02060034T</td><td>Bélyegzőfesték </td><td>15</td><td>9</td><td>297</td><td>134</td><td>1</td><td>58</td></tr>",
            "<tr><td>02030042T</td><td>Boríték LC 6</td><td>16</td><td>6</td><td>3</td><td>2</td><td>1</td><td>1</td></tr>",
            "<tr><td>02030040T</td><td>Boríték LA 4 francia</td><td>16</td><td>6</td><td>6</td><td>5</td><td>2</td><td>2</td></tr>",
            "<tr><td>02030041T</td><td>Boríték LC 5</td><td>16</td><td>9</td><td>6</td><td>5</td><td>2</td><td>1</td></tr>",
            "<tr><td>02030044T</td><td>Boríték mintás</td><td>16</td><td>6</td><td>15</td><td>13</td><td>3</td><td>7</td></tr>",
            "<tr><td>02050460T</td><td>Boríték C/4-es</td><td>16</td><td>5</td><td>15</td><td>13</td><td>3</td><td>7</td></tr>",
            "<tr><td>02050461T</td><td>Boríték B/4-es</td><td>16</td><td>8</td><td>18</td><td>14</td><td>4</td><td>6</td></tr>",
            "<tr><td>02030043T</td><td>Boríték légp. kicsi</td><td>16</td><td>7</td><td>39</td><td>30</td><td>5</td><td>18</td></tr>",
            "<tr><td>02080069T</td><td>CD tartó tok</td><td>17</td><td>8</td><td>30</td><td>23</td><td>1</td><td>12</td></tr>",
            "<tr><td>05050045T</td><td>Celofán</td><td>18</td><td>8</td><td>46</td><td>36</td><td>1</td><td>23</td></tr>",
            "<tr><td>05050046T</td><td>Celofán 50 db-os</td><td>18</td><td>8</td><td>73</td><td>54</td><td>2</td><td>33</td></tr>",
            "<tr><td>07080065T</td><td>Ceruza kínai</td><td>19</td><td>8</td><td>11</td><td>9</td><td>1</td><td>4</td></tr>",
            "<tr><td>07040058T</td><td>Ceruza radíros kínai</td><td>19</td><td>7</td><td>11</td><td>9</td><td>1</td><td>5</td></tr>",
            "<tr><td>07040053T</td><td>Ceruza HB radiros</td><td>19</td><td>5</td><td>23</td><td>17</td><td>2</td><td>9</td></tr>",
            "<tr><td>07040050T</td><td>Ceruza Cseh</td><td>19</td><td>6</td><td>30</td><td>23</td><td>3</td><td>12</td></tr>",
            "<tr><td>07080063T</td><td>Ceruza szorzótáblás</td><td>19</td><td>7</td><td>35</td><td>27</td><td>4</td><td>17</td></tr>",
            "<tr><td>07040060T</td><td>Ceruza stabilo swano</td><td>19</td><td>6</td><td>36</td><td>28</td><td>5</td><td>15</td></tr>",
            "<tr><td>07040051T</td><td>Ceruza háromszög </td><td>19</td><td>6</td><td>39</td><td>30</td><td>6</td><td>16</td></tr>",
            "<tr><td>07040047T</td><td>Ceruza 2H-4B</td><td>19</td><td>5</td><td>39</td><td>30</td><td>6</td><td>16</td></tr>",
            "<tr><td>07080064T</td><td>Ceruza zöld színű</td><td>19</td><td>6</td><td>40</td><td>31</td><td>7</td><td>17</td></tr>",
            "<tr><td>07040056T</td><td>Ceruza piros-kék vékony</td><td>19</td><td>7</td><td>40</td><td>31</td><td>7</td><td>19</td></tr>",
            "<tr><td>07040049T</td><td>Ceruza Conté zöld</td><td>19</td><td>9</td><td>40</td><td>31</td><td>7</td><td>15</td></tr>",
            "<tr><td>07040061T</td><td>Ceruza stabilo opera</td><td>19</td><td>9</td><td>44</td><td>34</td><td>8</td><td>16</td></tr>",
            "<tr><td>07040052T</td><td>Ceruza 2H-3B Koh-i-nor</td><td>19</td><td>5</td><td>53</td><td>41</td><td>9</td><td>20</td></tr>",
            "<tr><td>07040054T</td><td>Ceruza kártyás</td><td>19</td><td>7</td><td>55</td><td>42</td><td>10</td><td>25</td></tr>",
            "<tr><td>07040048T</td><td>Ceruza arany, ezüst</td><td>19</td><td>6</td><td>55</td><td>42</td><td>10</td><td>21</td></tr>",
            "<tr><td>07040059T</td><td>Ceruza smaragd</td><td>19</td><td>9</td><td>58</td><td>44</td><td>11</td><td>21</td></tr>",
            "<tr><td>07040055T</td><td>Ceruza piros-kék</td><td>19</td><td>9</td><td>59</td><td>45</td><td>12</td><td>22</td></tr>",
            "<tr><td>07040057T</td><td>Ceruza Progresso</td><td>19</td><td>7</td><td>106</td><td>71</td><td>13</td><td>37</td></tr>",
            "<tr><td>07080062T</td><td>Ceruza szén</td><td>19</td><td>5</td><td>146</td><td>87</td><td>14</td><td>38</td></tr>",
            "<tr><td>04110068T</td><td>Címke egyszínű</td><td>20</td><td>9</td><td>20</td><td>16</td><td>1</td><td>8</td></tr>",
            "<tr><td>04110066T</td><td>Címke 8 db-os</td><td>20</td><td>7</td><td>26</td><td>20</td><td>2</td><td>12</td></tr>",
            "<tr><td>04110067T</td><td>Címke WD. állat</td><td>20</td><td>7</td><td>31</td><td>24</td><td>3</td><td>14</td></tr>",
            "<tr><td>01100503T</td><td>Color Copy A4 120 g</td><td>21</td><td>6</td><td>10</td><td>8</td><td>1</td><td>5</td></tr>",
            "<tr><td>01100497T</td><td>Color Copy 160 g-os </td><td>21</td><td>5</td><td>14</td><td>12</td><td>2</td><td>6</td></tr>",
            "<tr><td>01090500T</td><td>Color Copy A4 200 g</td><td>21</td><td>9</td><td>14</td><td>12</td><td>2</td><td>5</td></tr>",
            "<tr><td>01090499T</td><td>Color Copy A/4 250 g</td><td>21</td><td>6</td><td>15</td><td>13</td><td>3</td><td>7</td></tr>",
            "<tr><td>01100496T</td><td>Színes másoló a/4 80g</td><td>21</td><td>5</td><td>1500</td><td>199</td><td>4</td><td>69</td></tr>",
            "<tr><td>05010370T</td><td>Szilvia csomagoló</td><td>22</td><td>7</td><td>89</td><td>62</td><td>1</td><td>33</td></tr>",
            "<tr><td>03080016T</td><td>házt.csom.  5 ív</td><td>22</td><td>8</td><td>110</td><td>73</td><td>2</td><td>43</td></tr>",
            "<tr><td>03080021T</td><td>Ajándék csom. vékony</td><td>24</td><td>7</td><td>23</td><td>17</td><td>1</td><td>10</td></tr>",
            "<tr><td>03080020T</td><td>Ajándék csom. nagy  </td><td>24</td><td>9</td><td>44</td><td>34</td><td>2</td><td>16</td></tr>",
            "<tr><td>03080019T</td><td>Ajándék csom. Krepp</td><td>24</td><td>5</td><td>56</td><td>43</td><td>3</td><td>22</td></tr>",
            "<tr><td>03080031T</td><td>Ajándék cs. húsvéti</td><td>24</td><td>6</td><td>106</td><td>71</td><td>4</td><td>35</td></tr>",
            "<tr><td>03080018T</td><td>Ajándék csom. gyűrt 50x70 </td><td>24</td><td>5</td><td>121</td><td>78</td><td>5</td><td>34</td></tr>",
            "<tr><td>03080017T</td><td>iskolai csomagoló papír</td><td>24</td><td>9</td><td>148</td><td>88</td><td>6</td><td>46</td></tr>",
            "<tr><td>03080030T</td><td>Ajándék cs. húsvéti 200x70</td><td>24</td><td>7</td><td>220</td><td>114</td><td>7</td><td>60</td></tr>",
            "<tr><td>04030288T</td><td>Műanyag pohár 1 dl-es</td><td>25</td><td>7</td><td>3</td><td>2</td><td>1</td><td>1</td></tr>",
            "<tr><td>04030289T</td><td>Műanyag pohár 5 cl-es</td><td>25</td><td>6</td><td>15</td><td>13</td><td>2</td><td>7</td></tr>",
            "<tr><td>04030287T</td><td>Műanyag foszforeszkáló állat</td><td>25</td><td>8</td><td>23</td><td>17</td><td>3</td><td>9</td></tr>",
            "<tr><td>04030286T</td><td>Műanyag állatok</td><td>25</td><td>5</td><td>44</td><td>34</td><td>4</td><td>17</td></tr>",
            "<tr><td>01100072T</td><td>Dipa A/4 keretezett</td><td>26</td><td>9</td><td>9</td><td>7</td><td>1</td><td>3</td></tr>",
            "<tr><td>04050075T</td><td>Díszdoboz tollnak 2 db-os keskeny</td><td>27</td><td>5</td><td>44</td><td>34</td><td>1</td><td>17</td></tr>",
            "<tr><td>04050073T</td><td>Díszdoboz kar.</td><td>27</td><td>9</td><td>61</td><td>47</td><td>2</td><td>24</td></tr>",
            "<tr><td>04050074T</td><td>Díszdoboz tollnak 2 db-os</td><td>27</td><td>7</td><td>66</td><td>51</td><td>3</td><td>28</td></tr>",
            "<tr><td>03050078T</td><td>Díszkötöző szalag metál kicsi</td><td>28</td><td>8</td><td>15</td><td>13</td><td>1</td><td>5</td></tr>",
            "<tr><td>03050079T</td><td>Díszkötöző szalag vékony</td><td>28</td><td>8</td><td>15</td><td>13</td><td>1</td><td>5</td></tr>",
            "<tr><td>03050076T</td><td>Díszkötöző szalag metál nagy</td><td>28</td><td>8</td><td>26</td><td>20</td><td>2</td><td>10</td></tr>",
            "<tr><td>03050077T</td><td>Diszkötöző szalag arany</td><td>28</td><td>8</td><td>44</td><td>34</td><td>3</td><td>21</td></tr>",
            "<tr><td>03050080T</td><td>Diszkötöző széles szalag</td><td>28</td><td>6</td><td>81</td><td>60</td><td>4</td><td>29</td></tr>",
            "<tr><td>02080081T</td><td>Dvd</td><td>29</td><td>9</td><td>133</td><td>84</td><td>1</td><td>44</td></tr>",
            "<tr><td>06010083T</td><td>Ecset Centrum 7,8,9</td><td>30</td><td>6</td><td>33</td><td>25</td><td>1</td><td>13</td></tr>",
            "<tr><td>06010086T</td><td>Ecset Nebulo 4-es</td><td>30</td><td>8</td><td>36</td><td>28</td><td>2</td><td>16</td></tr>",
            "<tr><td>06010082T</td><td>Ecset Centrum 10,11,12</td><td>30</td><td>8</td><td>40</td><td>31</td><td>3</td><td>18</td></tr>",
            "<tr><td>06010084T</td><td>Ecset Deák 2-es</td><td>30</td><td>9</td><td>60</td><td>46</td><td>4</td><td>23</td></tr>",
            "<tr><td>06010085T</td><td>Ecset Lizzy 10-es</td><td>30</td><td>5</td><td>65</td><td>50</td><td>5</td><td>26</td></tr>",
            "<tr><td>06040087T</td><td>Ecset Nebuló 10-es</td><td>30</td><td>7</td><td>79</td><td>58</td><td>6</td><td>32</td></tr>",
            "<tr><td>06080428T</td><td>Ecsetkészlet</td><td>30</td><td>8</td><td>180</td><td>98</td><td>7</td><td>56</td></tr>",
            "<tr><td>01040502T</td><td>Előlap spirálhoz</td><td>31</td><td>5</td><td>25</td><td>19</td><td>1</td><td>11</td></tr>",
            "<tr><td>04080442T</td><td>Emlékkönyv</td><td>32</td><td>7</td><td>316</td><td>139</td><td>1</td><td>69</td></tr>",
            "<tr><td>04080443T</td><td>Emlékkönyv lakatos</td><td>32</td><td>7</td><td>449</td><td>159</td><td>2</td><td>74</td></tr>",
            "<tr><td>04040090T</td><td>Emlékkönyv</td><td>32</td><td>6</td><td>526</td><td>166</td><td>3</td><td>61</td></tr>",
            "<tr><td>01030091T</td><td>Emléklap A/5</td><td>33</td><td>7</td><td>26</td><td>20</td><td>1</td><td>12</td></tr>",
            "<tr><td>01080093T</td><td>Fax papír 15 m</td><td>34</td><td>9</td><td>161</td><td>90</td><td>1</td><td>48</td></tr>",
            "<tr><td>G029-FE307</td><td>fiú zokni</td><td>35</td><td>4</td><td>240</td><td>120</td><td>1</td><td>1</td></tr>",
            "<tr><td>L029-FE307</td><td>lány zokni</td><td>35</td><td>4</td><td>240</td><td>120</td><td>1</td><td>1</td></tr>",
            "<tr><td>L023-FE301</td><td>lány alsó</td><td>35</td><td>1</td><td>390</td><td>149</td><td>2</td><td>1</td></tr>",
            "<tr><td>G023-FE301</td><td>fiú alsó</td><td>35</td><td>3</td><td>390</td><td>149</td><td>2</td><td>1</td></tr>",
            "<tr><td>N019-FE301</td><td>női alsó</td><td>35</td><td>2</td><td>690</td><td>176</td><td>3</td><td>2</td></tr>",
            "<tr><td>G038-FE316</td><td>fiú harisnya</td><td>35</td><td>3</td><td>990</td><td>190</td><td>4</td><td>2</td></tr>",
            "<tr><td>L033-FE311</td><td>lány harisnya</td><td>35</td><td>3</td><td>990</td><td>190</td><td>4</td><td>2</td></tr>",
            "<tr><td>01100505T</td><td>Fehér másoló A/4</td><td>36</td><td>6</td><td>686</td><td>175</td><td>1</td><td>66</td></tr>",
            "<tr><td>01100096T</td><td>Fénymásoló papír Qconnect</td><td>36</td><td>5</td><td>728</td><td>180</td><td>2</td><td>63</td></tr>",
            "<tr><td>01100095T</td><td>Fénymásoló papír GetCopy</td><td>36</td><td>9</td><td>728</td><td>180</td><td>2</td><td>70</td></tr>",
            "<tr><td>01100094T</td><td>Fénymásoló papír DataCopy</td><td>36</td><td>9</td><td>845</td><td>187</td><td>3</td><td>73</td></tr>",
            "<tr><td>01100504T</td><td>Fehér másoló A/3</td><td>36</td><td>6</td><td>1488</td><td>198</td><td>4</td><td>70</td></tr>",
            "<tr><td>F021-IN215</td><td>férfi ing</td><td>37</td><td>1</td><td>6490</td><td>206</td><td>1</td><td>4</td></tr>",
            "<tr><td>F001-KB101</td><td>férfi szövet kabát</td><td>38</td><td>1</td><td>22000</td><td>216</td><td>1</td><td>9</td></tr>",
            "<tr><td>F007-NA201</td><td>férfi farmer nadrág</td><td>39</td><td>3</td><td>7890</td><td>208</td><td>1</td><td>7</td></tr>",
            "<tr><td>F013-NA207</td><td>férfi szövet nadrág</td><td>39</td><td>1</td><td>11900</td><td>213</td><td>2</td><td>8</td></tr>",
            "<tr><td>02080455T</td><td>Festékpatron BCI-3BK</td><td>40</td><td>6</td><td>625</td><td>169</td><td>1</td><td>63</td></tr>",
            "<tr><td>07030108T</td><td>Filctoll CD író</td><td>41</td><td>5</td><td>0</td><td>1</td><td>1</td><td>1</td></tr>",
            "<tr><td>07040097T</td><td>Filctoll </td><td>41</td><td>8</td><td>26</td><td>20</td><td>2</td><td>10</td></tr>",
            "<tr><td>07040102T</td><td>Filctoll supra fine</td><td>41</td><td>7</td><td>46</td><td>36</td><td>3</td><td>21</td></tr>",
            "<tr><td>07030103T</td><td>Filctoll TINTEN PEN</td><td>41</td><td>8</td><td>53</td><td>41</td><td>4</td><td>27</td></tr>",
            "<tr><td>07030104T</td><td>Filctoll vastag ARTIP</td><td>41</td><td>8</td><td>76</td><td>56</td><td>5</td><td>34</td></tr>",
            "<tr><td>07030106T</td><td>Filctoll, alkoholosOHP F-M-C</td><td>41</td><td>9</td><td>103</td><td>70</td><td>6</td><td>37</td></tr>",
            "<tr><td>07030105T</td><td>Filctoll, alkoholos Centropen</td><td>41</td><td>5</td><td>114</td><td>74</td><td>7</td><td>33</td></tr>",
            "<tr><td>07040101T</td><td>Filctoll permanent vastag</td><td>41</td><td>9</td><td>140</td><td>85</td><td>8</td><td>45</td></tr>",
            "<tr><td>07030107T</td><td>Filctoll, textil Edding 4500</td><td>41</td><td>5</td><td>276</td><td>127</td><td>9</td><td>52</td></tr>",
            "<tr><td>07040098T</td><td>Filctoll document pen</td><td>41</td><td>5</td><td>278</td><td>128</td><td>10</td><td>53</td></tr>",
            "<tr><td>07040100T</td><td>Filctoll Marvy alkoholos</td><td>41</td><td>5</td><td>390</td><td>149</td><td>11</td><td>58</td></tr>",
            "<tr><td>07040099T</td><td>Filctoll Edding 750</td><td>41</td><td>9</td><td>434</td><td>156</td><td>12</td><td>64</td></tr>",
            "<tr><td>07040257T</td><td>Lakk filc Edding 750</td><td>41</td><td>8</td><td>434</td><td>156</td><td>12</td><td>72</td></tr>",
            "<tr><td>02080109T</td><td>Floppy lemez</td><td>42</td><td>7</td><td>51</td><td>40</td><td>1</td><td>24</td></tr>",
            "<tr><td>02040507T</td><td>Fólia tasakos A4 80 mik.</td><td>43</td><td>8</td><td>40</td><td>31</td><td>1</td><td>18</td></tr>",
            "<tr><td>02040508T</td><td>Fólia tasakos A4100 mik.</td><td>43</td><td>8</td><td>44</td><td>34</td><td>2</td><td>21</td></tr>",
            "<tr><td>02040506T</td><td>Fólia tasakos A4 125 mik.</td><td>43</td><td>9</td><td>44</td><td>34</td><td>2</td><td>16</td></tr>",
            "<tr><td>01010110T</td><td>Fotópapír A/4 fényes</td><td>44</td><td>9</td><td>30</td><td>23</td><td>1</td><td>12</td></tr>",
            "<tr><td>06010114T</td><td>Füzet A/5 hangjegy 36/16</td><td>45</td><td>6</td><td>30</td><td>23</td><td>1</td><td>12</td></tr>",
            "<tr><td>06080116T</td><td>Füzet A5 1-8 osz.-ig</td><td>45</td><td>7</td><td>34</td><td>26</td><td>2</td><td>16</td></tr>",
            "<tr><td>06010113T</td><td>Füzet 31-32 szótár</td><td>45</td><td>8</td><td>34</td><td>26</td><td>2</td><td>14</td></tr>",
            "<tr><td>06010115T</td><td>Füzet A/5, mintás</td><td>45</td><td>9</td><td>48</td><td>37</td><td>3</td><td>18</td></tr>",
            "<tr><td>06010111T</td><td>Füzet  A/4 </td><td>45</td><td>9</td><td>68</td><td>52</td><td>4</td><td>27</td></tr>",
            "<tr><td>06010112T</td><td>Füzet  A4 mintás</td><td>45</td><td>9</td><td>78</td><td>57</td><td>5</td><td>30</td></tr>",
            "<tr><td>06040357T</td><td>Sp.Füzet A/5 70-es</td><td>45</td><td>6</td><td>89</td><td>62</td><td>6</td><td>30</td></tr>",
            "<tr><td>06040356T</td><td>Sp.Füzet A/4  70es</td><td>45</td><td>8</td><td>144</td><td>86</td><td>7</td><td>50</td></tr>",
            "<tr><td>06040355T</td><td>Sp.Füzet A/4 70-as</td><td>45</td><td>8</td><td>155</td><td>89</td><td>8</td><td>52</td></tr>",
            "<tr><td>06080426T</td><td>Szótárfüzet Lizzy</td><td>45</td><td>7</td><td>161</td><td>90</td><td>9</td><td>46</td></tr>",
            "<tr><td>06040354T</td><td>Sp.Füzet A/4  perforált, lyuk.</td><td>45</td><td>5</td><td>206</td><td>109</td><td>10</td><td>47</td></tr>",
            "<tr><td>06080118T</td><td>Füzetborító átlátszó A5</td><td>46</td><td>6</td><td>8</td><td>6</td><td>1</td><td>3</td></tr>",
            "<tr><td>06080117T</td><td>Füzetborító A/4 átlátszó</td><td>46</td><td>6</td><td>10</td><td>8</td><td>2</td><td>5</td></tr>",
            "<tr><td>06080119T</td><td>Füzetborító mesefig.</td><td>46</td><td>2</td><td>19</td><td>15</td><td>3</td><td>1</td></tr>",
            "<tr><td>06080122T</td><td>Füzetborító öntapadós nagy</td><td>46</td><td>7</td><td>19</td><td>15</td><td>3</td><td>9</td></tr>",
            "<tr><td>06080120T</td><td>Füzetborító öntapadó kicsi</td><td>46</td><td>9</td><td>23</td><td>17</td><td>4</td><td>9</td></tr>",
            "<tr><td>06080424T</td><td>Füzetborító A/4 mintás</td><td>46</td><td>9</td><td>24</td><td>18</td><td>5</td><td>10</td></tr>",
            "<tr><td>06080121T</td><td>Füzetborító öntapadó tekercses</td><td>46</td><td>7</td><td>195</td><td>106</td><td>6</td><td>55</td></tr>",
            "<tr><td>06080126T</td><td>Füzettartó A/5  </td><td>47</td><td>9</td><td>203</td><td>108</td><td>1</td><td>53</td></tr>",
            "<tr><td>06080125T</td><td>Füzettartó A/5 vastag</td><td>47</td><td>7</td><td>411</td><td>154</td><td>2</td><td>73</td></tr>",
            "<tr><td>06080124T</td><td>Füzettartó A/4 keménytáblás</td><td>47</td><td>6</td><td>508</td><td>164</td><td>3</td><td>60</td></tr>",
            "<tr><td>06080123T</td><td>Füzettartó A/4 keménytáblás</td><td>47</td><td>6</td><td>551</td><td>167</td><td>4</td><td>62</td></tr>",
            "<tr><td>02040145T</td><td>Gemkapocs 28 mm</td><td>48</td><td>8</td><td>30</td><td>23</td><td>1</td><td>12</td></tr>",
            "<tr><td>02040146T</td><td>Gemkapocs ICO</td><td>48</td><td>7</td><td>48</td><td>37</td><td>2</td><td>22</td></tr>",
            "<tr><td>02080450T</td><td>Gémkapocs 28-as színes</td><td>49</td><td>8</td><td>44</td><td>34</td><td>1</td><td>21</td></tr>",
            "<tr><td>02080451T</td><td>Gémkapocs 50-es</td><td>49</td><td>5</td><td>103</td><td>70</td><td>2</td><td>32</td></tr>",
            "<tr><td>02080456T</td><td>Genoterm HERLITZ 10-es</td><td>50</td><td>7</td><td>89</td><td>62</td><td>1</td><td>33</td></tr>",
            "<tr><td>02040147T</td><td>Genotherm lefűzhető A/5</td><td>51</td><td>8</td><td>8</td><td>6</td><td>1</td><td>3</td></tr>",
            "<tr><td>02040148T</td><td>Genotherm lefűzhető A4 10db-os</td><td>51</td><td>9</td><td>63</td><td>48</td><td>2</td><td>25</td></tr>",
            "<tr><td>02040149T</td><td>Genotherm A4 10db-os</td><td>51</td><td>7</td><td>110</td><td>73</td><td>3</td><td>38</td></tr>",
            "<tr><td>07080156T</td><td>Golyóstoll kupakos piros</td><td>52</td><td>8</td><td>23</td><td>17</td><td>1</td><td>9</td></tr>",
            "<tr><td>07080155T</td><td>Golyóstoll</td><td>52</td><td>5</td><td>33</td><td>25</td><td>2</td><td>14</td></tr>",
            "<tr><td>07080153T</td><td>Golyóstoll illatos ICO</td><td>52</td><td>8</td><td>41</td><td>32</td><td>3</td><td>19</td></tr>",
            "<tr><td>07080161T</td><td>Golyóstoll kétszínű</td><td>52</td><td>9</td><td>44</td><td>34</td><td>4</td><td>16</td></tr>",
            "<tr><td>07080150T</td><td>Golyóstoll</td><td>52</td><td>6</td><td>51</td><td>40</td><td>5</td><td>20</td></tr>",
            "<tr><td>07080159T</td><td>Golyóstoll Pax tip.</td><td>52</td><td>8</td><td>63</td><td>48</td><td>6</td><td>31</td></tr>",
            "<tr><td>07080466T</td><td>Golyóstoll Stabiló 308</td><td>52</td><td>9</td><td>81</td><td>60</td><td>7</td><td>32</td></tr>",
            "<tr><td>07080157T</td><td>Golyóstoll Montex Hytone</td><td>52</td><td>7</td><td>93</td><td>64</td><td>8</td><td>34</td></tr>",
            "<tr><td>07040169T</td><td>Golyóstoll Zodiák</td><td>52</td><td>8</td><td>94</td><td>65</td><td>9</td><td>37</td></tr>",
            "<tr><td>07080162T</td><td>Golyóstoll Stabilo piros</td><td>52</td><td>6</td><td>101</td><td>69</td><td>10</td><td>33</td></tr>",
            "<tr><td>07080468T</td><td>Golyóstoll háromfunkciós</td><td>52</td><td>6</td><td>110</td><td>73</td><td>11</td><td>36</td></tr>",
            "<tr><td>07080470T</td><td>Golyóstoll háromszög</td><td>52</td><td>7</td><td>188</td><td>102</td><td>12</td><td>54</td></tr>",
            "<tr><td>07040168T</td><td>Golyóstoll Zebra new hard</td><td>52</td><td>8</td><td>189</td><td>103</td><td>13</td><td>57</td></tr>",
            "<tr><td>07040165T</td><td>Golyóstoll UNI laknock</td><td>52</td><td>9</td><td>218</td><td>113</td><td>14</td><td>55</td></tr>",
            "<tr><td>07080163T</td><td>Golyóstoll UNI átlátszó</td><td>52</td><td>5</td><td>230</td><td>116</td><td>15</td><td>49</td></tr>",
            "<tr><td>07080164T</td><td>Golyóstoll UNI gumis</td><td>52</td><td>6</td><td>231</td><td>117</td><td>16</td><td>49</td></tr>",
            "<tr><td>07080160T</td><td>Golyóstoll penac</td><td>52</td><td>7</td><td>239</td><td>119</td><td>17</td><td>62</td></tr>",
            "<tr><td>07080467T</td><td>Golyóstoll kétfunkciós ICO</td><td>52</td><td>8</td><td>273</td><td>126</td><td>18</td><td>63</td></tr>",
            "<tr><td>07080471T</td><td>Golyóstoll levélbontós</td><td>52</td><td>7</td><td>294</td><td>133</td><td>19</td><td>67</td></tr>",
            "<tr><td>07080469T</td><td>Golyóstoll UNIBALL 07</td><td>52</td><td>8</td><td>364</td><td>148</td><td>20</td><td>70</td></tr>",
            "<tr><td>07080151T</td><td>Golyóstoll + ceruza Twister 2in1</td><td>52</td><td>9</td><td>390</td><td>149</td><td>21</td><td>62</td></tr>",
            "<tr><td>07080154T</td><td>Golyóstoll INOXCROM</td><td>52</td><td>6</td><td>401</td><td>150</td><td>22</td><td>55</td></tr>",
            "<tr><td>07040166T</td><td>Golyóstoll Zebra 301</td><td>52</td><td>8</td><td>455</td><td>160</td><td>23</td><td>73</td></tr>",
            "<tr><td>07040167T</td><td>Golyóstoll Zebra mini</td><td>52</td><td>9</td><td>655</td><td>172</td><td>24</td><td>69</td></tr>",
            "<tr><td>07080158T</td><td>Golyóstoll Parker tokban</td><td>52</td><td>5</td><td>773</td><td>183</td><td>25</td><td>64</td></tr>",
            "<tr><td>07080152T</td><td>Golyóstoll 3 funkciós </td><td>52</td><td>5</td><td>1019</td><td>191</td><td>26</td><td>65</td></tr>",
            "<tr><td>05050170T</td><td>Gumigyűrű</td><td>53</td><td>9</td><td>19</td><td>15</td><td>1</td><td>7</td></tr>",
            "<tr><td>G064-CI401</td><td>gyermek szandál (fiú)</td><td>54</td><td>1</td><td>6900</td><td>207</td><td>1</td><td>5</td></tr>",
            "<tr><td>L064-CI401</td><td>gyermek szandál (lány)</td><td>54</td><td>3</td><td>6900</td><td>207</td><td>1</td><td>6</td></tr>",
            "<tr><td>L073-CI410</td><td>gyermek cipő (lány)</td><td>54</td><td>3</td><td>7900</td><td>209</td><td>2</td><td>8</td></tr>",
            "<tr><td>G073-CI410</td><td>gyermek cipő (fiú)</td><td>54</td><td>2</td><td>7900</td><td>209</td><td>2</td><td>3</td></tr>",
            "<tr><td>L082-CI419</td><td>gyermek csizma (lány)</td><td>54</td><td>1</td><td>8000</td><td>210</td><td>3</td><td>6</td></tr>",
            "<tr><td>G082-CI419</td><td>gyermek csizma (fiú)</td><td>54</td><td>3</td><td>8000</td><td>210</td><td>3</td><td>9</td></tr>",
            "<tr><td>L001-KB101</td><td>gyermek kabát (lány)</td><td>55</td><td>1</td><td>8900</td><td>212</td><td>1</td><td>7</td></tr>",
            "<tr><td>G001-KB101</td><td>gyermek kabát (fiú)</td><td>55</td><td>1</td><td>8900</td><td>212</td><td>1</td><td>7</td></tr>",
            "<tr><td>L019-NA207</td><td>gyermek pamut nadrág (lány)</td><td>56</td><td>1</td><td>1290</td><td>195</td><td>1</td><td>2</td></tr>",
            "<tr><td>G019-NA207</td><td>gyermek pamut nadrág (fiú)</td><td>56</td><td>3</td><td>1290</td><td>195</td><td>1</td><td>3</td></tr>",
            "<tr><td>G013-NA201</td><td>gyermek farmer nadrág (fiú)</td><td>56</td><td>3</td><td>4990</td><td>205</td><td>2</td><td>5</td></tr>",
            "<tr><td>L013-NA201</td><td>gyermek farmer nadrág (lány)</td><td>56</td><td>3</td><td>4990</td><td>205</td><td>2</td><td>5</td></tr>",
            "<tr><td>L048-PO218</td><td>gyermek póló (lány)</td><td>57</td><td>3</td><td>3900</td><td>203</td><td>1</td><td>4</td></tr>",
            "<tr><td>G048-PO218</td><td>gyermek póló (fiú)</td><td>57</td><td>3</td><td>3900</td><td>203</td><td>1</td><td>4</td></tr>",
            "<tr><td>02040176T</td><td>Gyorsfűző dosszié fehér</td><td>58</td><td>7</td><td>18</td><td>14</td><td>1</td><td>8</td></tr>",
            "<tr><td>02040177T</td><td>Gyorsfűző műa.</td><td>58</td><td>5</td><td>30</td><td>23</td><td>2</td><td>13</td></tr>",
            "<tr><td>02040178T</td><td>Gyorsfűző műa.</td><td>58</td><td>8</td><td>35</td><td>27</td><td>3</td><td>15</td></tr>",
            "<tr><td>06080441T</td><td>Gyurmakés</td><td>59</td><td>9</td><td>121</td><td>78</td><td>1</td><td>42</td></tr>",
            "<tr><td>06080440T</td><td>Gyurma 12 szinű</td><td>59</td><td>5</td><td>161</td><td>90</td><td>2</td><td>40</td></tr>",
            "<tr><td>06040179T</td><td>Gyurma színes 200 g-os</td><td>59</td><td>6</td><td>180</td><td>98</td><td>3</td><td>46</td></tr>",
            "<tr><td>06040180T</td><td>Gyurma színes natúr</td><td>59</td><td>8</td><td>228</td><td>115</td><td>4</td><td>61</td></tr>",
            "<tr><td>06040183T</td><td>Gyűrűskönyv bet. A/5</td><td>60</td><td>9</td><td>95</td><td>66</td><td>1</td><td>36</td></tr>",
            "<tr><td>06040182T</td><td>Gyűrűskönyv bet. A/4</td><td>60</td><td>7</td><td>184</td><td>100</td><td>2</td><td>52</td></tr>",
            "<tr><td>06040184T</td><td>Gyűrűskönyv betét A/5</td><td>60</td><td>9</td><td>218</td><td>113</td><td>3</td><td>55</td></tr>",
            "<tr><td>06040185T</td><td>Gyűrűskönyv</td><td>60</td><td>9</td><td>581</td><td>168</td><td>4</td><td>67</td></tr>",
            "<tr><td>06040186T</td><td>Gyűrűskönyv színes</td><td>60</td><td>6</td><td>699</td><td>178</td><td>5</td><td>67</td></tr>",
            "<tr><td>04050187T</td><td>Hajgumi macis</td><td>61</td><td>8</td><td>66</td><td>51</td><td>1</td><td>32</td></tr>",
            "<tr><td>02020444T</td><td>Határidő napló A/6</td><td>62</td><td>9</td><td>464</td><td>161</td><td>1</td><td>66</td></tr>",
            "<tr><td>04020445T</td><td>Határidő napló 2010-s</td><td>62</td><td>9</td><td>728</td><td>180</td><td>2</td><td>70</td></tr>",
            "<tr><td>06080190T</td><td>Hegyező műanyag egyes</td><td>64</td><td>6</td><td>23</td><td>17</td><td>1</td><td>9</td></tr>",
            "<tr><td>06080189T</td><td>Hegyező műanyag dupla</td><td>64</td><td>6</td><td>30</td><td>23</td><td>2</td><td>12</td></tr>",
            "<tr><td>06080191T</td><td>Hegyező tartályos egyes</td><td>64</td><td>8</td><td>30</td><td>23</td><td>2</td><td>12</td></tr>",
            "<tr><td>06080188T</td><td>Hegyező gép</td><td>64</td><td>8</td><td>875</td><td>189</td><td>3</td><td>82</td></tr>",
            "<tr><td>06080192T</td><td>Hegyző fém 1 lyukú</td><td>65</td><td>9</td><td>70</td><td>53</td><td>1</td><td>28</td></tr>",
            "<tr><td>06080193T</td><td>Hegyző fém 2 lyukú</td><td>65</td><td>7</td><td>180</td><td>98</td><td>2</td><td>51</td></tr>",
            "<tr><td>02040197T</td><td>Hibajavító lap </td><td>66</td><td>9</td><td>81</td><td>60</td><td>1</td><td>32</td></tr>",
            "<tr><td>02040198T</td><td>Hibajavító roller 5 mm</td><td>66</td><td>7</td><td>133</td><td>84</td><td>2</td><td>42</td></tr>",
            "<tr><td>02040195T</td><td>Hibajavító ecsetes Aqua</td><td>66</td><td>5</td><td>185</td><td>101</td><td>3</td><td>44</td></tr>",
            "<tr><td>02040196T</td><td>Hibajavító készlet Blanco</td><td>66</td><td>7</td><td>273</td><td>126</td><td>4</td><td>64</td></tr>",
            "<tr><td>02040200T</td><td>Hibajavító Kores mini pen</td><td>66</td><td>6</td><td>278</td><td>128</td><td>5</td><td>51</td></tr>",
            "<tr><td>02040199T</td><td>Hibajavító roller Pax</td><td>66</td><td>7</td><td>286</td><td>129</td><td>6</td><td>65</td></tr>",
            "<tr><td>02040194T</td><td>Hibajav.roll.Pritt 4,2mm</td><td>66</td><td>8</td><td>794</td><td>186</td><td>7</td><td>80</td></tr>",
            "<tr><td>04050203T</td><td>Hűtőmágnes</td><td>67</td><td>7</td><td>24</td><td>18</td><td>1</td><td>11</td></tr>",
            "<tr><td>04050204T</td><td>Hűtőmágnes WD</td><td>67</td><td>8</td><td>169</td><td>94</td><td>2</td><td>54</td></tr>",
            "<tr><td>06040206T</td><td>kék indigó</td><td>68</td><td>5</td><td>12</td><td>10</td><td>1</td><td>4</td></tr>",
            "<tr><td>06040205T</td><td>Indigó Pelikán</td><td>68</td><td>5</td><td>15</td><td>13</td><td>2</td><td>7</td></tr>",
            "<tr><td>02040207T</td><td>Iratgyűjtő ESSELTE ablakos</td><td>70</td><td>6</td><td>19</td><td>15</td><td>1</td><td>8</td></tr>",
            "<tr><td>02040208T</td><td>Iratgyűjtő fehér</td><td>70</td><td>8</td><td>19</td><td>15</td><td>1</td><td>7</td></tr>",
            "<tr><td>02040025T</td><td>Álló irattartó karton</td><td>70</td><td>8</td><td>133</td><td>84</td><td>2</td><td>49</td></tr>",
            "<tr><td>02040211T</td><td>Iratrendező ESSELTE</td><td>71</td><td>9</td><td>243</td><td>121</td><td>1</td><td>56</td></tr>",
            "<tr><td>02080432T</td><td>Tokos iratrendező</td><td>71</td><td>5</td><td>259</td><td>124</td><td>2</td><td>51</td></tr>",
            "<tr><td>02040209T</td><td>Iratsín fehér</td><td>72</td><td>7</td><td>44</td><td>34</td><td>1</td><td>20</td></tr>",
            "<tr><td>02040210T</td><td>Iratsín kék</td><td>72</td><td>6</td><td>89</td><td>62</td><td>2</td><td>30</td></tr>",
            "<tr><td>02080436T</td><td>Irattartó müa. boríték A/4</td><td>73</td><td>7</td><td>66</td><td>51</td><td>1</td><td>28</td></tr>",
            "<tr><td>02080431T</td><td>Álló irattartó</td><td>73</td><td>8</td><td>214</td><td>112</td><td>2</td><td>60</td></tr>",
            "<tr><td>02040214T</td><td>Iromány fedél feles</td><td>74</td><td>5</td><td>59</td><td>45</td><td>1</td><td>24</td></tr>",
            "<tr><td>06040212T</td><td>Írólap 10-50 ffam.</td><td>75</td><td>8</td><td>29</td><td>22</td><td>1</td><td>11</td></tr>",
            "<tr><td>06040213T</td><td>Írólap 20-50 </td><td>75</td><td>8</td><td>34</td><td>26</td><td>2</td><td>14</td></tr>",
            "<tr><td>07040218T</td><td>Ironbél HB 0,5</td><td>76</td><td>6</td><td>23</td><td>17</td><td>1</td><td>9</td></tr>",
            "<tr><td>07040216T</td><td>Ironbél B 0,5</td><td>76</td><td>5</td><td>36</td><td>28</td><td>2</td><td>15</td></tr>",
            "<tr><td>07040217T</td><td>Ironbél H 0,5</td><td>76</td><td>6</td><td>59</td><td>45</td><td>3</td><td>23</td></tr>",
            "<tr><td>07040215T</td><td>Ironbél  2B ICO</td><td>76</td><td>7</td><td>74</td><td>55</td><td>4</td><td>30</td></tr>",
            "<tr><td>07040219T</td><td>Ironbél HI-POLIMER HB 0,7</td><td>76</td><td>6</td><td>78</td><td>57</td><td>5</td><td>27</td></tr>",
            "<tr><td>06040089T</td><td>Ellenőrzőborító</td><td>78</td><td>7</td><td>5</td><td>4</td><td>1</td><td>3</td></tr>",
            "<tr><td>06040353T</td><td>Sorvezető</td><td>78</td><td>5</td><td>8</td><td>6</td><td>2</td><td>2</td></tr>",
            "<tr><td>06040181T</td><td>Gyűjtőlap A/4</td><td>78</td><td>6</td><td>8</td><td>6</td><td>2</td><td>3</td></tr>",
            "<tr><td>06010305T</td><td>Papírcenti 100 cm-es</td><td>78</td><td>6</td><td>9</td><td>7</td><td>3</td><td>4</td></tr>",
            "<tr><td>06040383T</td><td>Taffet papír</td><td>78</td><td>6</td><td>19</td><td>15</td><td>4</td><td>8</td></tr>",
            "<tr><td>06010202T</td><td>Hurkapálca 10 db-os</td><td>78</td><td>6</td><td>23</td><td>17</td><td>5</td><td>9</td></tr>",
            "<tr><td>06010036T</td><td>Betűtartó sin</td><td>78</td><td>7</td><td>33</td><td>25</td><td>6</td><td>15</td></tr>",
            "<tr><td>06010367T</td><td>Számolókorong</td><td>78</td><td>6</td><td>35</td><td>27</td><td>7</td><td>14</td></tr>",
            "<tr><td>06010201T</td><td>Hőmérő, műa.</td><td>78</td><td>6</td><td>36</td><td>28</td><td>8</td><td>15</td></tr>",
            "<tr><td>07050463T</td><td>Ceruzafogó</td><td>78</td><td>8</td><td>36</td><td>28</td><td>8</td><td>16</td></tr>",
            "<tr><td>06010365T</td><td>Számegyenes</td><td>78</td><td>8</td><td>36</td><td>28</td><td>8</td><td>16</td></tr>",
            "<tr><td>06010373T</td><td>Színes papír I.II-IV.V-VIII-ig</td><td>78</td><td>8</td><td>43</td><td>33</td><td>9</td><td>20</td></tr>",
            "<tr><td>06010374T</td><td>Szorzótábla műanyag</td><td>78</td><td>8</td><td>45</td><td>35</td><td>10</td><td>22</td></tr>",
            "<tr><td>06040088T</td><td>Egészségügyi könyv</td><td>78</td><td>7</td><td>51</td><td>40</td><td>11</td><td>24</td></tr>",
            "<tr><td>06040384T</td><td>Technika cs. I-II-III-IV</td><td>78</td><td>5</td><td>58</td><td>44</td><td>12</td><td>23</td></tr>",
            "<tr><td>06010368T</td><td>Számolópálca</td><td>78</td><td>5</td><td>61</td><td>47</td><td>13</td><td>25</td></tr>",
            "<tr><td>06050249T</td><td>Krepp papír</td><td>78</td><td>5</td><td>73</td><td>54</td><td>14</td><td>27</td></tr>",
            "<tr><td>06080430T</td><td>Öntapadős betűk</td><td>78</td><td>7</td><td>74</td><td>55</td><td>15</td><td>30</td></tr>",
            "<tr><td>06040352T</td><td>Rovatolt papír 20 íves</td><td>78</td><td>6</td><td>103</td><td>70</td><td>16</td><td>34</td></tr>",
            "<tr><td>06040399T</td><td>Tombola tömb</td><td>78</td><td>7</td><td>125</td><td>81</td><td>17</td><td>40</td></tr>",
            "<tr><td>06080259T</td><td>Leckefüzet</td><td>78</td><td>6</td><td>161</td><td>90</td><td>18</td><td>43</td></tr>",
            "<tr><td>06080427T</td><td>Ablakkréta</td><td>78</td><td>9</td><td>161</td><td>90</td><td>18</td><td>48</td></tr>",
            "<tr><td>06080422T</td><td>Füzettartó A/4</td><td>78</td><td>7</td><td>324</td><td>140</td><td>19</td><td>70</td></tr>",
            "<tr><td>06040400T</td><td>Tornazsák</td><td>78</td><td>8</td><td>511</td><td>165</td><td>20</td><td>75</td></tr>",
            "<tr><td>04050220T</td><td>Játék autó</td><td>79</td><td>7</td><td>65</td><td>50</td><td>1</td><td>27</td></tr>",
            "<tr><td>04050223T</td><td>Játékautó mini</td><td>79</td><td>7</td><td>73</td><td>54</td><td>2</td><td>29</td></tr>",
            "<tr><td>04050221T</td><td>Játékautó Blisteres</td><td>79</td><td>7</td><td>133</td><td>84</td><td>3</td><td>42</td></tr>",
            "<tr><td>04050222T</td><td>Játékautó elemes</td><td>79</td><td>7</td><td>165</td><td>91</td><td>4</td><td>47</td></tr>",
            "<tr><td>04050224T</td><td>Jelzőkréta</td><td>80</td><td>5</td><td>48</td><td>37</td><td>1</td><td>18</td></tr>",
            "<tr><td>02080226T</td><td>Kapocskiszedő</td><td>82</td><td>8</td><td>106</td><td>71</td><td>1</td><td>42</td></tr>",
            "<tr><td>01090515T</td><td>Színes A/3 160 gr IQ</td><td>83</td><td>5</td><td>11</td><td>9</td><td>1</td><td>3</td></tr>",
            "<tr><td>01090516T</td><td>Színes karton A4</td><td>83</td><td>9</td><td>25</td><td>19</td><td>2</td><td>11</td></tr>",
            "<tr><td>01080513T</td><td>Selyemfényű karton A/4</td><td>83</td><td>8</td><td>38</td><td>29</td><td>3</td><td>17</td></tr>",
            "<tr><td>01100509T</td><td>Márványos A/4</td><td>83</td><td>6</td><td>40</td><td>31</td><td>4</td><td>17</td></tr>",
            "<tr><td>01100070T</td><td>Dekorációs karton</td><td>83</td><td>5</td><td>73</td><td>54</td><td>5</td><td>27</td></tr>",
            "<tr><td>01100071T</td><td>Dekorációs karton arany, ezüst</td><td>83</td><td>7</td><td>89</td><td>62</td><td>6</td><td>33</td></tr>",
            "<tr><td>04050225T</td><td>Kártya mini Magyar</td><td>84</td><td>6</td><td>131</td><td>83</td><td>1</td><td>39</td></tr>",
            "<tr><td>04030240T</td><td>Képeslap virágos</td><td>85</td><td>7</td><td>14</td><td>12</td><td>1</td><td>6</td></tr>",
            "<tr><td>04030236T</td><td>Képeslap karácsonyi WD</td><td>85</td><td>6</td><td>15</td><td>13</td><td>2</td><td>7</td></tr>",
            "<tr><td>04030234T</td><td>Képeslap karácsonyi</td><td>85</td><td>5</td><td>30</td><td>23</td><td>3</td><td>13</td></tr>",
            "<tr><td>04110229T</td><td>Képeslap &quot;Részvét&quot;</td><td>85</td><td>5</td><td>33</td><td>25</td><td>4</td><td>14</td></tr>",
            "<tr><td>04110227T</td><td>Képeslap  borítékos</td><td>85</td><td>6</td><td>33</td><td>25</td><td>4</td><td>13</td></tr>",
            "<tr><td>04030237T</td><td>Képeslap kerek</td><td>85</td><td>9</td><td>36</td><td>28</td><td>5</td><td>14</td></tr>",
            "<tr><td>04030241T</td><td>Képeslap virágos +boríték</td><td>85</td><td>8</td><td>44</td><td>34</td><td>6</td><td>21</td></tr>",
            "<tr><td>04030239T</td><td>Képeslap stancolt szív</td><td>85</td><td>9</td><td>48</td><td>37</td><td>7</td><td>18</td></tr>",
            "<tr><td>04110232T</td><td>Képeslap humoros kaparós</td><td>85</td><td>8</td><td>51</td><td>40</td><td>8</td><td>26</td></tr>",
            "<tr><td>04110230T</td><td>Képeslap humoros </td><td>85</td><td>6</td><td>55</td><td>42</td><td>9</td><td>21</td></tr>",
            "<tr><td>04030238T</td><td>Képeslap stancolt</td><td>85</td><td>9</td><td>59</td><td>45</td><td>10</td><td>22</td></tr>",
            "<tr><td>04030235T</td><td>Képeslap karácsonyi borítékos</td><td>85</td><td>7</td><td>73</td><td>54</td><td>11</td><td>29</td></tr>",
            "<tr><td>04110231T</td><td>Képeslap humoros borítékos</td><td>85</td><td>5</td><td>81</td><td>60</td><td>12</td><td>30</td></tr>",
            "<tr><td>04110233T</td><td>Képeslap humoros</td><td>85</td><td>5</td><td>89</td><td>62</td><td>13</td><td>31</td></tr>",
            "<tr><td>04030242T</td><td>Képeslap WD +boríték</td><td>85</td><td>8</td><td>118</td><td>76</td><td>14</td><td>46</td></tr>",
            "<tr><td>04110228T</td><td>Képeslap &quot;Nászajándék&quot;</td><td>85</td><td>9</td><td>184</td><td>100</td><td>15</td><td>52</td></tr>",
            "<tr><td>04030243T</td><td>Képkirakó Dirib-darab</td><td>86</td><td>7</td><td>195</td><td>106</td><td>1</td><td>55</td></tr>",
            "<tr><td>N035-AL218</td><td>kosztüm (rövid)</td><td>88</td><td>3</td><td>39000</td><td>219</td><td>1</td><td>11</td></tr>",
            "<tr><td>N039-AL222</td><td>kosztüm (hosszú)</td><td>88</td><td>2</td><td>46000</td><td>220</td><td>2</td><td>5</td></tr>",
            "<tr><td>06040247T</td><td>Körzőhegy grafit</td><td>89</td><td>8</td><td>30</td><td>23</td><td>1</td><td>12</td></tr>",
            "<tr><td>06040246T</td><td>Körző</td><td>89</td><td>5</td><td>161</td><td>90</td><td>2</td><td>40</td></tr>",
            "<tr><td>06040248T</td><td>Körző maped</td><td>89</td><td>6</td><td>243</td><td>121</td><td>3</td><td>50</td></tr>",
            "<tr><td>01090501T</td><td>Kreatív A/4 300g </td><td>90</td><td>8</td><td>4</td><td>3</td><td>1</td><td>2</td></tr>",
            "<tr><td>01100510T</td><td>Kreatív A/4 120g </td><td>90</td><td>5</td><td>13</td><td>11</td><td>2</td><td>5</td></tr>",
            "<tr><td>04050255T</td><td>Kulcstartó mesefigurás</td><td>91</td><td>9</td><td>36</td><td>28</td><td>1</td><td>14</td></tr>",
            "<tr><td>04050253T</td><td>Kulcstartó figurás</td><td>91</td><td>8</td><td>103</td><td>70</td><td>2</td><td>41</td></tr>",
            "<tr><td>04050250T</td><td>Kulcstartó autós</td><td>91</td><td>8</td><td>115</td><td>75</td><td>3</td><td>45</td></tr>",
            "<tr><td>04050252T</td><td>Kulcstartó Csőrikés</td><td>91</td><td>8</td><td>124</td><td>80</td><td>4</td><td>47</td></tr>",
            "<tr><td>04050256T</td><td>Kulcstartó nagyítós</td><td>91</td><td>9</td><td>129</td><td>82</td><td>5</td><td>43</td></tr>",
            "<tr><td>04050251T</td><td>Kulcstartó billiárd golyós</td><td>91</td><td>8</td><td>148</td><td>88</td><td>6</td><td>51</td></tr>",
            "<tr><td>04050254T</td><td>Kulcstartó intarziás állatos</td><td>91</td><td>9</td><td>155</td><td>89</td><td>7</td><td>47</td></tr>",
            "<tr><td>04040387T</td><td>Tenisz labda</td><td>92</td><td>8</td><td>81</td><td>60</td><td>1</td><td>35</td></tr>",
            "<tr><td>04050171T</td><td>Gumilabda közepes</td><td>92</td><td>7</td><td>110</td><td>73</td><td>2</td><td>38</td></tr>",
            "<tr><td>04030260T</td><td>Levélpapír A/4</td><td>93</td><td>6</td><td>15</td><td>13</td><td>1</td><td>7</td></tr>",
            "<tr><td>04030262T</td><td>Levélpapír sima</td><td>93</td><td>6</td><td>56</td><td>43</td><td>2</td><td>22</td></tr>",
            "<tr><td>04030264T</td><td>Levélpapír szett </td><td>93</td><td>6</td><td>74</td><td>55</td><td>3</td><td>26</td></tr>",
            "<tr><td>04030263T</td><td>Levélpapír szett</td><td>93</td><td>7</td><td>89</td><td>62</td><td>4</td><td>33</td></tr>",
            "<tr><td>04030265T</td><td>Levélpapír szett natur, mintás</td><td>93</td><td>6</td><td>103</td><td>70</td><td>5</td><td>34</td></tr>",
            "<tr><td>04030261T</td><td>Levélpapír állatos</td><td>93</td><td>6</td><td>140</td><td>85</td><td>6</td><td>40</td></tr>",
            "<tr><td>04030266T</td><td>Levélpapír szett virágos</td><td>93</td><td>7</td><td>169</td><td>94</td><td>7</td><td>49</td></tr>",
            "<tr><td>04050269T</td><td>Lufi hullámos</td><td>94</td><td>6</td><td>11</td><td>9</td><td>1</td><td>6</td></tr>",
            "<tr><td>04050268T</td><td>Lufi formázható</td><td>94</td><td>7</td><td>15</td><td>13</td><td>2</td><td>7</td></tr>",
            "<tr><td>02080453T</td><td>Lyukasztó EAGLE</td><td>95</td><td>7</td><td>526</td><td>166</td><td>1</td><td>75</td></tr>",
            "<tr><td>02080454T</td><td>Lyukasztó BOXER</td><td>95</td><td>9</td><td>765</td><td>182</td><td>2</td><td>72</td></tr>",
            "<tr><td>06040174T</td><td>Gumis mappa </td><td>96</td><td>6</td><td>148</td><td>88</td><td>1</td><td>42</td></tr>",
            "<tr><td>02080435T</td><td>Mappa bemutató</td><td>96</td><td>9</td><td>184</td><td>100</td><td>2</td><td>52</td></tr>",
            "<tr><td>06040175T</td><td>Gumis mappa Köbüki</td><td>96</td><td>8</td><td>191</td><td>105</td><td>3</td><td>58</td></tr>",
            "<tr><td>06040172T</td><td>Gumis mappa csomagolt</td><td>96</td><td>7</td><td>195</td><td>106</td><td>4</td><td>55</td></tr>",
            "<tr><td>02080434T</td><td>Mappa müa A/4</td><td>96</td><td>8</td><td>210</td><td>110</td><td>5</td><td>59</td></tr>",
            "<tr><td>06040173T</td><td>Gumis mappa fóliázott állatos</td><td>96</td><td>7</td><td>211</td><td>111</td><td>6</td><td>58</td></tr>",
            "<tr><td>04080271T</td><td>Mappa PVC villámzáras</td><td>96</td><td>8</td><td>264</td><td>125</td><td>7</td><td>62</td></tr>",
            "<tr><td>04080272T</td><td>Mappa PVC villámzáras  képes</td><td>96</td><td>9</td><td>360</td><td>147</td><td>8</td><td>61</td></tr>",
            "<tr><td>04080270T</td><td>Mappa bőr A5</td><td>96</td><td>6</td><td>1765</td><td>200</td><td>9</td><td>71</td></tr>",
            "<tr><td>04110274T</td><td>Matrica autóra H</td><td>97</td><td>5</td><td>49</td><td>38</td><td>1</td><td>19</td></tr>",
            "<tr><td>04110275T</td><td>Matrica motoros kicsi</td><td>97</td><td>9</td><td>49</td><td>38</td><td>1</td><td>19</td></tr>",
            "<tr><td>04110273T</td><td>Matrica állatos</td><td>97</td><td>5</td><td>55</td><td>42</td><td>2</td><td>21</td></tr>",
            "<tr><td>04110282T</td><td>Matrica WD kicsi</td><td>97</td><td>5</td><td>56</td><td>43</td><td>3</td><td>22</td></tr>",
            "<tr><td>04110277T</td><td>Matrica Stickers szíves</td><td>97</td><td>6</td><td>93</td><td>64</td><td>4</td><td>32</td></tr>",
            "<tr><td>04110276T</td><td>Matrica Stickers nagy állatos</td><td>97</td><td>9</td><td>109</td><td>72</td><td>5</td><td>39</td></tr>",
            "<tr><td>04110280T</td><td>Matrica tetoválós kicsi</td><td>97</td><td>9</td><td>148</td><td>88</td><td>6</td><td>46</td></tr>",
            "<tr><td>04110278T</td><td>Matrica Test ékszer tattoo</td><td>97</td><td>8</td><td>161</td><td>90</td><td>7</td><td>53</td></tr>",
            "<tr><td>04110279T</td><td>Matrica tetoválás</td><td>97</td><td>7</td><td>168</td><td>93</td><td>8</td><td>48</td></tr>",
            "<tr><td>04110281T</td><td>Matrica világítós </td><td>97</td><td>9</td><td>175</td><td>96</td><td>9</td><td>51</td></tr>",
            "<tr><td>01030092T</td><td>Esküvői meghívó</td><td>98</td><td>9</td><td>59</td><td>45</td><td>1</td><td>22</td></tr>",
            "<tr><td>06080429T</td><td>Meghívó ballagási</td><td>98</td><td>6</td><td>63</td><td>48</td><td>2</td><td>24</td></tr>",
            "<tr><td>04110283T</td><td>Meghívó állatos</td><td>98</td><td>5</td><td>155</td><td>89</td><td>3</td><td>39</td></tr>",
            "<tr><td>04110284T</td><td>Meghívó borítékos</td><td>98</td><td>5</td><td>169</td><td>94</td><td>4</td><td>41</td></tr>",
            "<tr><td>06080425T</td><td>Miliméterpapír</td><td>99</td><td>6</td><td>8</td><td>6</td><td>1</td><td>3</td></tr>",
            "<tr><td>08070482T</td><td>Fizika munkafüzet 14 év.</td><td>100</td><td>5</td><td>190</td><td>104</td><td>1</td><td>45</td></tr>",
            "<tr><td>08070481T</td><td>Fizika munkafüzet 13 év.</td><td>100</td><td>7</td><td>198</td><td>107</td><td>2</td><td>56</td></tr>",
            "<tr><td>08070476T</td><td>Anyanyelvi gyakorló 2</td><td>100</td><td>6</td><td>293</td><td>132</td><td>3</td><td>53</td></tr>",
            "<tr><td>08070477T</td><td>Anyanyelvi gyakorló 3</td><td>100</td><td>6</td><td>353</td><td>145</td><td>4</td><td>54</td></tr>",
            "<tr><td>08070486T</td><td>Matematika gyakorló 2</td><td>100</td><td>6</td><td>403</td><td>151</td><td>5</td><td>56</td></tr>",
            "<tr><td>08070487T</td><td>Matematika gyakorló 3</td><td>100</td><td>6</td><td>403</td><td>151</td><td>5</td><td>56</td></tr>",
            "<tr><td>08070488T</td><td>Matematika gyakorló 4</td><td>100</td><td>9</td><td>403</td><td>151</td><td>5</td><td>63</td></tr>",
            "<tr><td>08070475T</td><td>A föld amelyen élünk - munkafüzet</td><td>100</td><td>5</td><td>440</td><td>158</td><td>6</td><td>60</td></tr>",
            "<tr><td>08070478T</td><td>Összefoglaló feladatgyüjtemény számtech.</td><td>100</td><td>8</td><td>785</td><td>185</td><td>7</td><td>79</td></tr>",
            "<tr><td>01090498T</td><td>Műnyomó 300g 17,5*20</td><td>101</td><td>8</td><td>3</td><td>2</td><td>1</td><td>1</td></tr>",
            "<tr><td>02040290T</td><td>Naptár 24-es</td><td>103</td><td>8</td><td>89</td><td>62</td><td>1</td><td>36</td></tr>",
            "<tr><td>02040291T</td><td>Naptárhát kicsi</td><td>104</td><td>8</td><td>15</td><td>13</td><td>1</td><td>5</td></tr>",
            "<tr><td>02040292T</td><td>Naptárhát nagy</td><td>104</td><td>9</td><td>78</td><td>57</td><td>2</td><td>30</td></tr>",
            "<tr><td>02040293T</td><td>Névjegytartó kicsi</td><td>105</td><td>9</td><td>310</td><td>137</td><td>1</td><td>59</td></tr>",
            "<tr><td>02040298T</td><td>Notesz mintás</td><td>106</td><td>6</td><td>44</td><td>34</td><td>1</td><td>18</td></tr>",
            "<tr><td>02040296T</td><td>Notesz A/6 College</td><td>106</td><td>6</td><td>56</td><td>43</td><td>2</td><td>22</td></tr>",
            "<tr><td>02040295T</td><td>Notesz A/5 sima spirál</td><td>106</td><td>9</td><td>89</td><td>62</td><td>3</td><td>34</td></tr>",
            "<tr><td>02040297T</td><td>Notesz sima spirál College</td><td>106</td><td>9</td><td>103</td><td>70</td><td>4</td><td>37</td></tr>",
            "<tr><td>02040294T</td><td>Notesz A/5 sima</td><td>106</td><td>5</td><td>103</td><td>70</td><td>4</td><td>32</td></tr>",
            "<tr><td>N001-KB101</td><td>női szövet kabát</td><td>107</td><td>1</td><td>24000</td><td>217</td><td>1</td><td>10</td></tr>",
            "<tr><td>N008-NA201</td><td>női farmer nadrág</td><td>108</td><td>2</td><td>8290</td><td>211</td><td>1</td><td>4</td></tr>",
            "<tr><td>01090517T</td><td>Színes ofszet B/4</td><td>109</td><td>7</td><td>4</td><td>3</td><td>1</td><td>2</td></tr>",
            "<tr><td>01020299T</td><td>Oklevél A/4 egyszínű</td><td>110</td><td>9</td><td>48</td><td>37</td><td>1</td><td>18</td></tr>",
            "<tr><td>01020300T</td><td>Oklevél A/4 színes</td><td>110</td><td>9</td><td>55</td><td>42</td><td>2</td><td>20</td></tr>",
            "<tr><td>06050301T</td><td>Olló gyerek </td><td>111</td><td>8</td><td>133</td><td>84</td><td>1</td><td>49</td></tr>",
            "<tr><td>06050303T</td><td>Olló, iskolai</td><td>111</td><td>7</td><td>161</td><td>90</td><td>2</td><td>46</td></tr>",
            "<tr><td>06050302T</td><td>Olló Tagit 18 cm-es</td><td>111</td><td>5</td><td>176</td><td>97</td><td>3</td><td>42</td></tr>",
            "<tr><td>01010304T</td><td>Öntapadós hologramos papír A/4</td><td>112</td><td>8</td><td>59</td><td>45</td><td>1</td><td>30</td></tr>",
            "<tr><td>01080512T</td><td>Öntapadó A/4</td><td>112</td><td>5</td><td>4575</td><td>204</td><td>2</td><td>70</td></tr>",
            "<tr><td>05010306T</td><td>Papízsebkendő,10db Szindy</td><td>114</td><td>8</td><td>20</td><td>16</td><td>1</td><td>8</td></tr>",
            "<tr><td>01040307T</td><td>Pausz papír A/4</td><td>115</td><td>8</td><td>15</td><td>13</td><td>1</td><td>5</td></tr>",
            "<tr><td>02020245T</td><td>Kiadási pénztárbizonylat 2×25</td><td>116</td><td>7</td><td>103</td><td>70</td><td>1</td><td>36</td></tr>",
            "<tr><td>02020037T</td><td>Bevételi pénztárbizonylat 3×25</td><td>116</td><td>6</td><td>144</td><td>86</td><td>2</td><td>41</td></tr>",
            "<tr><td>02040308T</td><td>Pénztárgépsz. 2 pl. nem öníró</td><td>117</td><td>9</td><td>81</td><td>60</td><td>1</td><td>32</td></tr>",
            "<tr><td>02040309T</td><td>Pénztárgépszalag 2pl SC 57.5/60</td><td>117</td><td>6</td><td>93</td><td>64</td><td>2</td><td>32</td></tr>",
            "<tr><td>07080317T</td><td>Pixiron mini </td><td>118</td><td>5</td><td>59</td><td>45</td><td>1</td><td>24</td></tr>",
            "<tr><td>07080313T</td><td>Pixiron Centrum</td><td>118</td><td>9</td><td>59</td><td>45</td><td>1</td><td>22</td></tr>",
            "<tr><td>07080315T</td><td>Pixiron Handy műanyag</td><td>118</td><td>8</td><td>94</td><td>65</td><td>2</td><td>37</td></tr>",
            "<tr><td>07080312T</td><td>Pixiron 0,7 Handy</td><td>118</td><td>5</td><td>125</td><td>81</td><td>3</td><td>35</td></tr>",
            "<tr><td>07080314T</td><td>Pixiron Handy fém</td><td>118</td><td>8</td><td>133</td><td>84</td><td>4</td><td>49</td></tr>",
            "<tr><td>07080318T</td><td>Pixiron Penac</td><td>118</td><td>5</td><td>235</td><td>118</td><td>5</td><td>50</td></tr>",
            "<tr><td>07080311T</td><td>Pixiron  UNI</td><td>118</td><td>8</td><td>276</td><td>127</td><td>6</td><td>64</td></tr>",
            "<tr><td>07080319T</td><td>Pixiron Pentel színes</td><td>118</td><td>7</td><td>299</td><td>135</td><td>7</td><td>68</td></tr>",
            "<tr><td>07080316T</td><td>Pixiron KOH-I-NOOR</td><td>118</td><td>8</td><td>468</td><td>162</td><td>8</td><td>74</td></tr>",
            "<tr><td>04050321T</td><td>Plüss kicsi</td><td>119</td><td>7</td><td>161</td><td>90</td><td>1</td><td>46</td></tr>",
            "<tr><td>04050320T</td><td>Plüss  QX állatok</td><td>119</td><td>9</td><td>173</td><td>95</td><td>2</td><td>50</td></tr>",
            "<tr><td>04050322T</td><td>Plüss sárkány</td><td>119</td><td>5</td><td>314</td><td>138</td><td>3</td><td>55</td></tr>",
            "<tr><td>06040323T</td><td>Post-it 51×38 100 lapos</td><td>121</td><td>8</td><td>36</td><td>28</td><td>1</td><td>16</td></tr>",
            "<tr><td>06040324T</td><td>Post-it 75×75 100 lapos</td><td>121</td><td>7</td><td>89</td><td>62</td><td>2</td><td>33</td></tr>",
            "<tr><td>06040326T</td><td>Radír KOH-I-NOR 80</td><td>122</td><td>8</td><td>19</td><td>15</td><td>1</td><td>7</td></tr>",
            "<tr><td>06040327T</td><td>Radír Koh-i-nor 40</td><td>122</td><td>9</td><td>36</td><td>28</td><td>2</td><td>14</td></tr>",
            "<tr><td>06040325T</td><td>Radír gyümölcsös</td><td>122</td><td>9</td><td>40</td><td>31</td><td>3</td><td>15</td></tr>",
            "<tr><td>06040328T</td><td>Radír Maped</td><td>122</td><td>8</td><td>44</td><td>34</td><td>4</td><td>21</td></tr>",
            "<tr><td>06040329T</td><td>Radír stabilo</td><td>122</td><td>6</td><td>44</td><td>34</td><td>4</td><td>18</td></tr>",
            "<tr><td>06040331T</td><td>Radír Tikky 40 </td><td>122</td><td>8</td><td>49</td><td>38</td><td>5</td><td>25</td></tr>",
            "<tr><td>06040330T</td><td>Radír Tikky 30 </td><td>122</td><td>7</td><td>50</td><td>39</td><td>6</td><td>23</td></tr>",
            "<tr><td>06080332T</td><td>Radírtoll betét ER100</td><td>123</td><td>5</td><td>74</td><td>55</td><td>1</td><td>28</td></tr>",
            "<tr><td>06080333T</td><td>Radírtoll betét vastag</td><td>123</td><td>7</td><td>119</td><td>77</td><td>2</td><td>39</td></tr>",
            "<tr><td>06080336T</td><td>Ragasztó 8 g Pritt</td><td>124</td><td>9</td><td>81</td><td>60</td><td>1</td><td>32</td></tr>",
            "<tr><td>06080339T</td><td>Ragasztó kores</td><td>124</td><td>5</td><td>89</td><td>62</td><td>2</td><td>31</td></tr>",
            "<tr><td>06080338T</td><td>Ragasztó kenőfejes Nebuló</td><td>124</td><td>8</td><td>101</td><td>69</td><td>3</td><td>40</td></tr>",
            "<tr><td>05040310T</td><td>Pill.ragasztó</td><td>124</td><td>8</td><td>103</td><td>70</td><td>4</td><td>41</td></tr>",
            "<tr><td>06080335T</td><td>Ragasztó 9 g Pax</td><td>124</td><td>9</td><td>110</td><td>73</td><td>5</td><td>40</td></tr>",
            "<tr><td>06080334T</td><td>Ragasztó szalag KORES </td><td>124</td><td>5</td><td>133</td><td>84</td><td>6</td><td>37</td></tr>",
            "<tr><td>05080341T</td><td>Ragasztó, Technokol 35g piros</td><td>124</td><td>6</td><td>144</td><td>86</td><td>7</td><td>41</td></tr>",
            "<tr><td>05080340T</td><td>Ragasztó, Technokol 35g kék</td><td>124</td><td>8</td><td>144</td><td>86</td><td>7</td><td>50</td></tr>",
            "<tr><td>06080337T</td><td>Ragasztó Gyurma</td><td>124</td><td>7</td><td>293</td><td>132</td><td>8</td><td>66</td></tr>",
            "<tr><td>06010343T</td><td>Ragasztószalag 19 mm-es SCOTCH+ tépő</td><td>124</td><td>6</td><td>426</td><td>155</td><td>9</td><td>57</td></tr>",
            "<tr><td>03010342T</td><td>Ragasztószalag  TIXO</td><td>125</td><td>9</td><td>15</td><td>13</td><td>1</td><td>6</td></tr>",
            "<tr><td>02080433T</td><td>Ragasztószalag 19 mm-es</td><td>125</td><td>9</td><td>55</td><td>42</td><td>2</td><td>20</td></tr>",
            "<tr><td>03010344T</td><td>Ragasztószalag nagy 12 mm</td><td>125</td><td>7</td><td>63</td><td>48</td><td>3</td><td>26</td></tr>",
            "<tr><td>03010345T</td><td>Ragasztószalag széles barna</td><td>125</td><td>6</td><td>166</td><td>92</td><td>4</td><td>44</td></tr>",
            "<tr><td>05050346T</td><td>Rágógumi Orbit</td><td>126</td><td>9</td><td>89</td><td>62</td><td>1</td><td>34</td></tr>",
            "<tr><td>06040347T</td><td>Rajzlap A/4 10db ffam.</td><td>127</td><td>5</td><td>28</td><td>21</td><td>1</td><td>12</td></tr>",
            "<tr><td>01010001T</td><td>félfamentes rajzlap A4 (10 lap)</td><td>127</td><td>9</td><td>342</td><td>143</td><td>2</td><td>60</td></tr>",
            "<tr><td>05040349T</td><td>Rajzszeg</td><td>128</td><td>6</td><td>63</td><td>48</td><td>1</td><td>24</td></tr>",
            "<tr><td>05040348T</td><td>Rajzszeg színes</td><td>128</td><td>8</td><td>106</td><td>71</td><td>2</td><td>42</td></tr>",
            "<tr><td>06040351T</td><td>Regiszteres füzet A5 Hightech</td><td>129</td><td>5</td><td>203</td><td>108</td><td>1</td><td>46</td></tr>",
            "<tr><td>06040350T</td><td>Regiszteres füzet A4</td><td>129</td><td>9</td><td>256</td><td>123</td><td>2</td><td>57</td></tr>",
            "<tr><td>U001-KI501</td><td>sál</td><td>130</td><td>1</td><td>1990</td><td>201</td><td>1</td><td>3</td></tr>",
            "<tr><td>02080514T</td><td>Spirál 1/4 </td><td>131</td><td>9</td><td>45</td><td>35</td><td>1</td><td>17</td></tr>",
            "<tr><td>04050358T</td><td>Strandlabda </td><td>132</td><td>8</td><td>356</td><td>146</td><td>1</td><td>69</td></tr>",
            "<tr><td>05110360T</td><td>Szalvéta egyszínű</td><td>133</td><td>6</td><td>118</td><td>76</td><td>1</td><td>37</td></tr>",
            "<tr><td>05110363T</td><td>Szalvéta dekor</td><td>133</td><td>9</td><td>133</td><td>84</td><td>2</td><td>44</td></tr>",
            "<tr><td>05110364T</td><td>Szalvéta kicsi virágos</td><td>133</td><td>8</td><td>161</td><td>90</td><td>3</td><td>53</td></tr>",
            "<tr><td>05110361T</td><td>Szalvéta Goma húsvéti</td><td>133</td><td>7</td><td>175</td><td>96</td><td>4</td><td>50</td></tr>",
            "<tr><td>05110359T</td><td>Szalvéta </td><td>133</td><td>8</td><td>176</td><td>97</td><td>5</td><td>55</td></tr>",
            "<tr><td>04110362T</td><td>Szalvéta gyűjtőknek</td><td>133</td><td>5</td><td>183</td><td>99</td><td>6</td><td>43</td></tr>",
            "<tr><td>06010366T</td><td>Számológép Roxin</td><td>134</td><td>6</td><td>508</td><td>164</td><td>1</td><td>60</td></tr>",
            "<tr><td>06040446T</td><td>Számológép tudományos</td><td>134</td><td>5</td><td>1173</td><td>194</td><td>2</td><td>67</td></tr>",
            "<tr><td>05010369T</td><td>Szemetes zsák 60 literes</td><td>135</td><td>7</td><td>129</td><td>82</td><td>1</td><td>41</td></tr>",
            "<tr><td>07010371T</td><td>Színes ceruza 6-os</td><td>136</td><td>8</td><td>99</td><td>68</td><td>1</td><td>39</td></tr>",
            "<tr><td>07010372T</td><td>Színes ceruza 12 szín</td><td>136</td><td>7</td><td>161</td><td>90</td><td>2</td><td>46</td></tr>",
            "<tr><td>06010377T</td><td>Szögmérő színes</td><td>137</td><td>9</td><td>8</td><td>6</td><td>1</td><td>2</td></tr>",
            "<tr><td>06010376T</td><td>Szögmérő papír</td><td>137</td><td>6</td><td>11</td><td>9</td><td>2</td><td>6</td></tr>",
            "<tr><td>06010375T</td><td>Szögmérő 180 fokos műa.</td><td>137</td><td>6</td><td>24</td><td>18</td><td>3</td><td>10</td></tr>",
            "<tr><td>06040380T</td><td>Szövegkiemelő</td><td>138</td><td>5</td><td>78</td><td>57</td><td>1</td><td>29</td></tr>",
            "<tr><td>06040378T</td><td>Szövegkiemelő vékony</td><td>138</td><td>8</td><td>89</td><td>62</td><td>2</td><td>36</td></tr>",
            "<tr><td>06040379T</td><td>Szövegkiemelő </td><td>138</td><td>9</td><td>93</td><td>64</td><td>3</td><td>35</td></tr>",
            "<tr><td>06040381T</td><td>Szövegkiemelő Videotip</td><td>138</td><td>6</td><td>103</td><td>70</td><td>4</td><td>34</td></tr>",
            "<tr><td>07050464T</td><td>Szövegkiemelő Staedtler</td><td>138</td><td>7</td><td>140</td><td>85</td><td>5</td><td>43</td></tr>",
            "<tr><td>06040382T</td><td>Táblafilc</td><td>139</td><td>9</td><td>633</td><td>170</td><td>1</td><td>68</td></tr>",
            "<tr><td>05050465T</td><td>Tapétavágó kés</td><td>140</td><td>6</td><td>40</td><td>31</td><td>1</td><td>17</td></tr>",
            "<tr><td>06040386T</td><td>Tempera szóló színes</td><td>141</td><td>8</td><td>48</td><td>37</td><td>1</td><td>24</td></tr>",
            "<tr><td>06040385T</td><td>Tempera szóló ezüst</td><td>141</td><td>8</td><td>96</td><td>67</td><td>2</td><td>38</td></tr>",
            "<tr><td>02080449T</td><td>Térképtű színes</td><td>142</td><td>6</td><td>103</td><td>70</td><td>1</td><td>34</td></tr>",
            "<tr><td>07040388T</td><td>Tintapatron /kék/</td><td>143</td><td>7</td><td>9</td><td>7</td><td>1</td><td>4</td></tr>",
            "<tr><td>07040390T</td><td>Tintapatron színes</td><td>143</td><td>9</td><td>11</td><td>9</td><td>2</td><td>4</td></tr>",
            "<tr><td>07040389T</td><td>Tintapatron 30 db-os kék</td><td>143</td><td>7</td><td>360</td><td>147</td><td>3</td><td>71</td></tr>",
            "<tr><td>07010244T</td><td>Kerámiatoll</td><td>144</td><td>5</td><td>74</td><td>55</td><td>1</td><td>28</td></tr>",
            "<tr><td>07040391T</td><td>Toll Centropen roller</td><td>144</td><td>9</td><td>80</td><td>59</td><td>2</td><td>31</td></tr>",
            "<tr><td>07010141T</td><td>G.toll betét X20</td><td>145</td><td>7</td><td>15</td><td>13</td><td>1</td><td>7</td></tr>",
            "<tr><td>07010140T</td><td>G.toll betét Stabilo</td><td>145</td><td>5</td><td>23</td><td>17</td><td>2</td><td>9</td></tr>",
            "<tr><td>07040129T</td><td>G. toll betét réz</td><td>145</td><td>5</td><td>30</td><td>23</td><td>3</td><td>13</td></tr>",
            "<tr><td>07040127T</td><td>G. toll betét mini</td><td>145</td><td>9</td><td>30</td><td>23</td><td>3</td><td>12</td></tr>",
            "<tr><td>07010138T</td><td>G.toll betét jumbo</td><td>145</td><td>8</td><td>33</td><td>25</td><td>4</td><td>13</td></tr>",
            "<tr><td>07040133T</td><td>G.toll betét görbe hegyű</td><td>145</td><td>5</td><td>39</td><td>30</td><td>5</td><td>16</td></tr>",
            "<tr><td>07040134T</td><td>G.toll betét illatos</td><td>145</td><td>7</td><td>44</td><td>34</td><td>6</td><td>20</td></tr>",
            "<tr><td>07010137T</td><td>G.toll betét PAX tip.</td><td>145</td><td>6</td><td>48</td><td>37</td><td>7</td><td>19</td></tr>",
            "<tr><td>07040128T</td><td>G. toll betét mini fém</td><td>145</td><td>6</td><td>55</td><td>42</td><td>8</td><td>21</td></tr>",
            "<tr><td>07040132T</td><td>G.toll betét csavaros</td><td>145</td><td>8</td><td>55</td><td>42</td><td>8</td><td>28</td></tr>",
            "<tr><td>07010143T</td><td>G.toll betét Zebra H-0,7</td><td>145</td><td>7</td><td>78</td><td>57</td><td>9</td><td>31</td></tr>",
            "<tr><td>07040130T</td><td>G. toll betét S7S</td><td>145</td><td>6</td><td>80</td><td>59</td><td>10</td><td>28</td></tr>",
            "<tr><td>07040131T</td><td>G. toll betét UNI lachnok Fine SA-7C</td><td>145</td><td>9</td><td>85</td><td>61</td><td>11</td><td>33</td></tr>",
            "<tr><td>07010144T</td><td>G.toll betét Zebra K-0,7</td><td>145</td><td>9</td><td>89</td><td>62</td><td>12</td><td>34</td></tr>",
            "<tr><td>07010139T</td><td>G.toll betét S7L </td><td>145</td><td>6</td><td>91</td><td>63</td><td>13</td><td>31</td></tr>",
            "<tr><td>07010136T</td><td>G.toll betét PAX</td><td>145</td><td>6</td><td>123</td><td>79</td><td>14</td><td>38</td></tr>",
            "<tr><td>07010142T</td><td>G.toll betét Zebra F-0.7</td><td>145</td><td>5</td><td>228</td><td>115</td><td>15</td><td>48</td></tr>",
            "<tr><td>07040135T</td><td>G.toll betét Parker </td><td>145</td><td>6</td><td>684</td><td>174</td><td>16</td><td>65</td></tr>",
            "<tr><td>06040394T</td><td>Tolltartó zipzáras</td><td>146</td><td>5</td><td>324</td><td>140</td><td>1</td><td>56</td></tr>",
            "<tr><td>06040396T</td><td>Tolltartó Garfield</td><td>146</td><td>7</td><td>410</td><td>153</td><td>2</td><td>72</td></tr>",
            "<tr><td>06040398T</td><td>Tolltartó hengeres </td><td>146</td><td>5</td><td>411</td><td>154</td><td>3</td><td>59</td></tr>",
            "<tr><td>06040397T</td><td>Tolltartó asztali</td><td>146</td><td>8</td><td>655</td><td>172</td><td>4</td><td>76</td></tr>",
            "<tr><td>06040395T</td><td>Tolltartó 2 zipzáros töltött</td><td>146</td><td>7</td><td>728</td><td>180</td><td>5</td><td>77</td></tr>",
            "<tr><td>06040392T</td><td>Tolltartó 1 zipzáros</td><td>146</td><td>7</td><td>728</td><td>180</td><td>5</td><td>77</td></tr>",
            "<tr><td>06040393T</td><td>Tolltartó 2 részes NG.</td><td>146</td><td>9</td><td>765</td><td>182</td><td>6</td><td>72</td></tr>",
            "<tr><td>02080511T</td><td>Oki toner C</td><td>147</td><td>8</td><td>14250</td><td>214</td><td>1</td><td>84</td></tr>",
            "<tr><td>07050462T</td><td>Töltőtoll tinta </td><td>148</td><td>5</td><td>493</td><td>163</td><td>1</td><td>61</td></tr>",
            "<tr><td>02040402T</td><td>Tűzőgép Boxer </td><td>149</td><td>5</td><td>286</td><td>129</td><td>1</td><td>54</td></tr>",
            "<tr><td>02040401T</td><td>Tűzőgép Boxer 10</td><td>149</td><td>8</td><td>339</td><td>142</td><td>2</td><td>67</td></tr>",
            "<tr><td>02040404T</td><td>Tűzőgép EAGLE</td><td>149</td><td>8</td><td>405</td><td>152</td><td>3</td><td>71</td></tr>",
            "<tr><td>02080452T</td><td>Tűzőgép mini</td><td>149</td><td>6</td><td>438</td><td>157</td><td>4</td><td>58</td></tr>",
            "<tr><td>02040403T</td><td>Tűzőgép SAX 239</td><td>149</td><td>5</td><td>1351</td><td>196</td><td>5</td><td>68</td></tr>",
            "<tr><td>02040002T</td><td>irodai tűzőgép</td><td>149</td><td>6</td><td>2100</td><td>202</td><td>6</td><td>72</td></tr>",
            "<tr><td>02040406T</td><td>Tűzőkapocs 24/6</td><td>150</td><td>9</td><td>34</td><td>26</td><td>1</td><td>13</td></tr>",
            "<tr><td>02040405T</td><td>Tűzőkapocs 10-es</td><td>150</td><td>7</td><td>44</td><td>34</td><td>2</td><td>20</td></tr>",
            "<tr><td>06080410T</td><td>Vízfesték 12db-os kínai</td><td>151</td><td>6</td><td>176</td><td>97</td><td>1</td><td>45</td></tr>",
            "<tr><td>06080409T</td><td>Vízfesték 12 színű kerek</td><td>151</td><td>6</td><td>180</td><td>98</td><td>2</td><td>46</td></tr>",
            "<tr><td>06080408T</td><td>Vízfesték 12 db-os </td><td>151</td><td>7</td><td>210</td><td>110</td><td>3</td><td>57</td></tr>",
            "<tr><td>06080407T</td><td>Vízfesték  12 színű nagy</td><td>151</td><td>7</td><td>249</td><td>122</td><td>4</td><td>63</td></tr>",
            "<tr><td>06080413T</td><td>Vonalzó 30 cm</td><td>152</td><td>8</td><td>30</td><td>23</td><td>1</td><td>12</td></tr>",
            "<tr><td>06080414T</td><td>Vonalzó 20 cm-es </td><td>152</td><td>8</td><td>30</td><td>23</td><td>1</td><td>12</td></tr>",
            "<tr><td>06080415T</td><td>Vonalzó 45 fokos</td><td>152</td><td>9</td><td>30</td><td>23</td><td>1</td><td>12</td></tr>",
            "<tr><td>06080412T</td><td>Vonalzó 16 cm-es LIZZY</td><td>152</td><td>7</td><td>30</td><td>23</td><td>1</td><td>13</td></tr>",
            "<tr><td>06080416T</td><td>Vonalzó 60 fokos</td><td>152</td><td>6</td><td>33</td><td>25</td><td>2</td><td>13</td></tr>",
            "<tr><td>06080411T</td><td>Vonalzó 15 cm-es ESSELTE</td><td>152</td><td>8</td><td>58</td><td>44</td><td>3</td><td>29</td></tr>",
            "<tr><td>06080417T</td><td>Zászló papír</td><td>153</td><td>5</td><td>20</td><td>16</td><td>1</td><td>8</td></tr>",
            "<tr><td>07080419T</td><td>Zselés toll MICRO</td><td>154</td><td>9</td><td>66</td><td>51</td><td>1</td><td>26</td></tr>",
            "<tr><td>07080418T</td><td>Zselés toll </td><td>154</td><td>7</td><td>95</td><td>66</td><td>2</td><td>35</td></tr>",
            "<tr><td>07080420T</td><td>Zselés toll Muhnwa</td><td>154</td><td>7</td><td>161</td><td>90</td><td>3</td><td>46</td></tr>",
            "<tr><td>07080421T</td><td>Zseléstoll Lizzy Card</td><td>154</td><td>7</td><td>228</td><td>115</td><td>4</td><td>61</td></tr>",
            "<tr><td>02040206T</td><td>Írásvetítő fólia</td><td>155</td><td>8</td><td>81</td><td>60</td><td>1</td><td>35</td></tr>",
            "</table>"
        ]
    }
}
],
            "execution_count": 25
        },
        {
            "cell_type": "markdown",
            "source": [
                "15. <span style=\"color: rgb(255, 255, 255); font-family: -apple-system, BlinkMacSystemFont, &quot;Segoe UI&quot;, Helvetica, Arial, sans-serif, &quot;Apple Color Emoji&quot;, &quot;Segoe UI Emoji&quot;; font-size: 16px;\">Készítsünk listát a rendelési tételekről, amely minden sor esetén göngyölítve tartalmazza az ügyfél adott rendelési tételig meglévő rendelési tételeinek összértékét!</span>\n",
                "\n",
                "1. Az új oszlop neve legyen Eddigi rendelési tételek összértéke!\n",
                "2. Az ügyfél neve is jelenjen meg!"
            ],
            "metadata": {
                "azdata_cell_guid": "93552388-ffec-49ff-99e5-ae8dc8072601"
            },
            "attachments": {}
        },
        {
            "cell_type": "code",
            "source": [
                ""
            ],
            "metadata": {
                "azdata_cell_guid": "0e7f547f-7d96-4611-b1c2-0fa84a581e79",
                "language": "sql"
            },
            "outputs": [],
            "execution_count": null
        }
    ]
}