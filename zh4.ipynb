{
    "metadata": {
        "kernelspec": {
            "name": "SQL",
            "display_name": "SQL",
            "language": "sql"
        },
        "language_info": {
            "name": "sql",
            "version": ""
        }
    },
    "nbformat_minor": 2,
    "nbformat": 4,
    "cells": [
        {
            "cell_type": "markdown",
            "source": [
                "Jelenítsük meg minden egyes szoba esetén, hogy hányszor foglalták el!\n",
                "\n",
                "- Csak a szoba azonosítója és a foglalások darabszáma jelenjen meg\n",
                "- Azok a szobák is jelenjenek meg, ahol nem történt foglalás"
            ],
            "metadata": {
                "azdata_cell_guid": "82e3a834-895e-494a-90ab-564150518ea5"
            },
            "attachments": {}
        },
        {
            "cell_type": "code",
            "source": [
                "select  sz.szoba_id, \r\n",
                "        count(f.foglalas_pk) as 'Darab foglalás'\r\n",
                "from szoba sz left join Foglalas f on sz.SZOBA_ID = f.SZOBA_FK\r\n",
                "group by sz.SZOBA_ID"
            ],
            "metadata": {
                "azdata_cell_guid": "3515b660-d468-4594-a3fa-e2d0c53aa092",
                "language": "sql"
            },
            "outputs": [
                {
                    "output_type": "display_data",
                    "data": {
                        "text/html": "(294 rows affected)"
                    },
                    "metadata": {}
                },
                {
                    "output_type": "display_data",
                    "data": {
                        "text/html": "Total execution time: 00:00:00.018"
                    },
                    "metadata": {}
                },
                {
                    "output_type": "execute_result",
                    "metadata": {},
                    "execution_count": 2,
                    "data": {
                        "application/vnd.dataresource+json": {
                            "schema": {
                                "fields": [
                                    {
                                        "name": "szoba_id"
                                    },
                                    {
                                        "name": "Darab foglalás"
                                    }
                                ]
                            },
                            "data": [
                                {
                                    "szoba_id": "1",
                                    "Darab foglalás": "8"
                                },
                                {
                                    "szoba_id": "2",
                                    "Darab foglalás": "4"
                                },
                                {
                                    "szoba_id": "3",
                                    "Darab foglalás": "8"
                                },
                                {
                                    "szoba_id": "4",
                                    "Darab foglalás": "6"
                                },
                                {
                                    "szoba_id": "5",
                                    "Darab foglalás": "4"
                                },
                                {
                                    "szoba_id": "6",
                                    "Darab foglalás": "6"
                                },
                                {
                                    "szoba_id": "7",
                                    "Darab foglalás": "6"
                                },
                                {
                                    "szoba_id": "8",
                                    "Darab foglalás": "5"
                                },
                                {
                                    "szoba_id": "9",
                                    "Darab foglalás": "6"
                                },
                                {
                                    "szoba_id": "10",
                                    "Darab foglalás": "4"
                                },
                                {
                                    "szoba_id": "11",
                                    "Darab foglalás": "4"
                                },
                                {
                                    "szoba_id": "12",
                                    "Darab foglalás": "9"
                                },
                                {
                                    "szoba_id": "13",
                                    "Darab foglalás": "4"
                                },
                                {
                                    "szoba_id": "14",
                                    "Darab foglalás": "3"
                                },
                                {
                                    "szoba_id": "15",
                                    "Darab foglalás": "6"
                                },
                                {
                                    "szoba_id": "16",
                                    "Darab foglalás": "5"
                                },
                                {
                                    "szoba_id": "17",
                                    "Darab foglalás": "6"
                                },
                                {
                                    "szoba_id": "18",
                                    "Darab foglalás": "6"
                                },
                                {
                                    "szoba_id": "19",
                                    "Darab foglalás": "6"
                                },
                                {
                                    "szoba_id": "20",
                                    "Darab foglalás": "5"
                                },
                                {
                                    "szoba_id": "21",
                                    "Darab foglalás": "4"
                                },
                                {
                                    "szoba_id": "22",
                                    "Darab foglalás": "6"
                                },
                                {
                                    "szoba_id": "23",
                                    "Darab foglalás": "3"
                                },
                                {
                                    "szoba_id": "24",
                                    "Darab foglalás": "3"
                                },
                                {
                                    "szoba_id": "25",
                                    "Darab foglalás": "2"
                                },
                                {
                                    "szoba_id": "26",
                                    "Darab foglalás": "2"
                                },
                                {
                                    "szoba_id": "27",
                                    "Darab foglalás": "7"
                                },
                                {
                                    "szoba_id": "28",
                                    "Darab foglalás": "6"
                                },
                                {
                                    "szoba_id": "29",
                                    "Darab foglalás": "6"
                                },
                                {
                                    "szoba_id": "30",
                                    "Darab foglalás": "3"
                                },
                                {
                                    "szoba_id": "31",
                                    "Darab foglalás": "3"
                                },
                                {
                                    "szoba_id": "32",
                                    "Darab foglalás": "1"
                                },
                                {
                                    "szoba_id": "33",
                                    "Darab foglalás": "6"
                                },
                                {
                                    "szoba_id": "34",
                                    "Darab foglalás": "4"
                                },
                                {
                                    "szoba_id": "35",
                                    "Darab foglalás": "9"
                                },
                                {
                                    "szoba_id": "36",
                                    "Darab foglalás": "6"
                                },
                                {
                                    "szoba_id": "37",
                                    "Darab foglalás": "3"
                                },
                                {
                                    "szoba_id": "38",
                                    "Darab foglalás": "8"
                                },
                                {
                                    "szoba_id": "39",
                                    "Darab foglalás": "7"
                                },
                                {
                                    "szoba_id": "40",
                                    "Darab foglalás": "4"
                                },
                                {
                                    "szoba_id": "41",
                                    "Darab foglalás": "2"
                                },
                                {
                                    "szoba_id": "42",
                                    "Darab foglalás": "6"
                                },
                                {
                                    "szoba_id": "43",
                                    "Darab foglalás": "8"
                                },
                                {
                                    "szoba_id": "44",
                                    "Darab foglalás": "6"
                                },
                                {
                                    "szoba_id": "45",
                                    "Darab foglalás": "5"
                                },
                                {
                                    "szoba_id": "46",
                                    "Darab foglalás": "4"
                                },
                                {
                                    "szoba_id": "47",
                                    "Darab foglalás": "2"
                                },
                                {
                                    "szoba_id": "48",
                                    "Darab foglalás": "9"
                                },
                                {
                                    "szoba_id": "49",
                                    "Darab foglalás": "7"
                                },
                                {
                                    "szoba_id": "50",
                                    "Darab foglalás": "4"
                                },
                                {
                                    "szoba_id": "51",
                                    "Darab foglalás": "5"
                                },
                                {
                                    "szoba_id": "52",
                                    "Darab foglalás": "5"
                                },
                                {
                                    "szoba_id": "53",
                                    "Darab foglalás": "2"
                                },
                                {
                                    "szoba_id": "54",
                                    "Darab foglalás": "6"
                                },
                                {
                                    "szoba_id": "55",
                                    "Darab foglalás": "8"
                                },
                                {
                                    "szoba_id": "56",
                                    "Darab foglalás": "2"
                                },
                                {
                                    "szoba_id": "57",
                                    "Darab foglalás": "4"
                                },
                                {
                                    "szoba_id": "58",
                                    "Darab foglalás": "13"
                                },
                                {
                                    "szoba_id": "59",
                                    "Darab foglalás": "7"
                                },
                                {
                                    "szoba_id": "60",
                                    "Darab foglalás": "1"
                                },
                                {
                                    "szoba_id": "61",
                                    "Darab foglalás": "5"
                                },
                                {
                                    "szoba_id": "62",
                                    "Darab foglalás": "5"
                                },
                                {
                                    "szoba_id": "63",
                                    "Darab foglalás": "4"
                                },
                                {
                                    "szoba_id": "64",
                                    "Darab foglalás": "6"
                                },
                                {
                                    "szoba_id": "65",
                                    "Darab foglalás": "1"
                                },
                                {
                                    "szoba_id": "66",
                                    "Darab foglalás": "4"
                                },
                                {
                                    "szoba_id": "67",
                                    "Darab foglalás": "6"
                                },
                                {
                                    "szoba_id": "68",
                                    "Darab foglalás": "3"
                                },
                                {
                                    "szoba_id": "69",
                                    "Darab foglalás": "4"
                                },
                                {
                                    "szoba_id": "70",
                                    "Darab foglalás": "11"
                                },
                                {
                                    "szoba_id": "71",
                                    "Darab foglalás": "3"
                                },
                                {
                                    "szoba_id": "72",
                                    "Darab foglalás": "4"
                                },
                                {
                                    "szoba_id": "73",
                                    "Darab foglalás": "4"
                                },
                                {
                                    "szoba_id": "74",
                                    "Darab foglalás": "9"
                                },
                                {
                                    "szoba_id": "75",
                                    "Darab foglalás": "3"
                                },
                                {
                                    "szoba_id": "76",
                                    "Darab foglalás": "3"
                                },
                                {
                                    "szoba_id": "77",
                                    "Darab foglalás": "6"
                                },
                                {
                                    "szoba_id": "78",
                                    "Darab foglalás": "6"
                                },
                                {
                                    "szoba_id": "79",
                                    "Darab foglalás": "5"
                                },
                                {
                                    "szoba_id": "80",
                                    "Darab foglalás": "7"
                                },
                                {
                                    "szoba_id": "81",
                                    "Darab foglalás": "5"
                                },
                                {
                                    "szoba_id": "82",
                                    "Darab foglalás": "6"
                                },
                                {
                                    "szoba_id": "83",
                                    "Darab foglalás": "8"
                                },
                                {
                                    "szoba_id": "84",
                                    "Darab foglalás": "4"
                                },
                                {
                                    "szoba_id": "85",
                                    "Darab foglalás": "4"
                                },
                                {
                                    "szoba_id": "86",
                                    "Darab foglalás": "5"
                                },
                                {
                                    "szoba_id": "87",
                                    "Darab foglalás": "5"
                                },
                                {
                                    "szoba_id": "88",
                                    "Darab foglalás": "8"
                                },
                                {
                                    "szoba_id": "89",
                                    "Darab foglalás": "8"
                                },
                                {
                                    "szoba_id": "90",
                                    "Darab foglalás": "4"
                                },
                                {
                                    "szoba_id": "91",
                                    "Darab foglalás": "4"
                                },
                                {
                                    "szoba_id": "92",
                                    "Darab foglalás": "6"
                                },
                                {
                                    "szoba_id": "93",
                                    "Darab foglalás": "5"
                                },
                                {
                                    "szoba_id": "94",
                                    "Darab foglalás": "10"
                                },
                                {
                                    "szoba_id": "95",
                                    "Darab foglalás": "4"
                                },
                                {
                                    "szoba_id": "96",
                                    "Darab foglalás": "7"
                                },
                                {
                                    "szoba_id": "97",
                                    "Darab foglalás": "7"
                                },
                                {
                                    "szoba_id": "98",
                                    "Darab foglalás": "4"
                                },
                                {
                                    "szoba_id": "99",
                                    "Darab foglalás": "5"
                                },
                                {
                                    "szoba_id": "100",
                                    "Darab foglalás": "4"
                                },
                                {
                                    "szoba_id": "101",
                                    "Darab foglalás": "3"
                                },
                                {
                                    "szoba_id": "102",
                                    "Darab foglalás": "2"
                                },
                                {
                                    "szoba_id": "103",
                                    "Darab foglalás": "4"
                                },
                                {
                                    "szoba_id": "104",
                                    "Darab foglalás": "4"
                                },
                                {
                                    "szoba_id": "105",
                                    "Darab foglalás": "2"
                                },
                                {
                                    "szoba_id": "106",
                                    "Darab foglalás": "6"
                                },
                                {
                                    "szoba_id": "107",
                                    "Darab foglalás": "5"
                                },
                                {
                                    "szoba_id": "108",
                                    "Darab foglalás": "2"
                                },
                                {
                                    "szoba_id": "109",
                                    "Darab foglalás": "7"
                                },
                                {
                                    "szoba_id": "110",
                                    "Darab foglalás": "8"
                                },
                                {
                                    "szoba_id": "111",
                                    "Darab foglalás": "5"
                                },
                                {
                                    "szoba_id": "112",
                                    "Darab foglalás": "5"
                                },
                                {
                                    "szoba_id": "113",
                                    "Darab foglalás": "5"
                                },
                                {
                                    "szoba_id": "114",
                                    "Darab foglalás": "4"
                                },
                                {
                                    "szoba_id": "115",
                                    "Darab foglalás": "7"
                                },
                                {
                                    "szoba_id": "116",
                                    "Darab foglalás": "2"
                                },
                                {
                                    "szoba_id": "117",
                                    "Darab foglalás": "8"
                                },
                                {
                                    "szoba_id": "118",
                                    "Darab foglalás": "7"
                                },
                                {
                                    "szoba_id": "119",
                                    "Darab foglalás": "5"
                                },
                                {
                                    "szoba_id": "120",
                                    "Darab foglalás": "6"
                                },
                                {
                                    "szoba_id": "121",
                                    "Darab foglalás": "8"
                                },
                                {
                                    "szoba_id": "122",
                                    "Darab foglalás": "9"
                                },
                                {
                                    "szoba_id": "123",
                                    "Darab foglalás": "5"
                                },
                                {
                                    "szoba_id": "124",
                                    "Darab foglalás": "6"
                                },
                                {
                                    "szoba_id": "125",
                                    "Darab foglalás": "1"
                                },
                                {
                                    "szoba_id": "126",
                                    "Darab foglalás": "6"
                                },
                                {
                                    "szoba_id": "127",
                                    "Darab foglalás": "7"
                                },
                                {
                                    "szoba_id": "128",
                                    "Darab foglalás": "5"
                                },
                                {
                                    "szoba_id": "129",
                                    "Darab foglalás": "4"
                                },
                                {
                                    "szoba_id": "130",
                                    "Darab foglalás": "6"
                                },
                                {
                                    "szoba_id": "131",
                                    "Darab foglalás": "5"
                                },
                                {
                                    "szoba_id": "132",
                                    "Darab foglalás": "6"
                                },
                                {
                                    "szoba_id": "133",
                                    "Darab foglalás": "6"
                                },
                                {
                                    "szoba_id": "134",
                                    "Darab foglalás": "6"
                                },
                                {
                                    "szoba_id": "135",
                                    "Darab foglalás": "3"
                                },
                                {
                                    "szoba_id": "136",
                                    "Darab foglalás": "3"
                                },
                                {
                                    "szoba_id": "137",
                                    "Darab foglalás": "6"
                                },
                                {
                                    "szoba_id": "138",
                                    "Darab foglalás": "7"
                                },
                                {
                                    "szoba_id": "139",
                                    "Darab foglalás": "7"
                                },
                                {
                                    "szoba_id": "140",
                                    "Darab foglalás": "8"
                                },
                                {
                                    "szoba_id": "141",
                                    "Darab foglalás": "6"
                                },
                                {
                                    "szoba_id": "142",
                                    "Darab foglalás": "2"
                                },
                                {
                                    "szoba_id": "143",
                                    "Darab foglalás": "7"
                                },
                                {
                                    "szoba_id": "144",
                                    "Darab foglalás": "5"
                                },
                                {
                                    "szoba_id": "145",
                                    "Darab foglalás": "6"
                                },
                                {
                                    "szoba_id": "146",
                                    "Darab foglalás": "6"
                                },
                                {
                                    "szoba_id": "147",
                                    "Darab foglalás": "1"
                                },
                                {
                                    "szoba_id": "148",
                                    "Darab foglalás": "6"
                                },
                                {
                                    "szoba_id": "149",
                                    "Darab foglalás": "7"
                                },
                                {
                                    "szoba_id": "150",
                                    "Darab foglalás": "6"
                                },
                                {
                                    "szoba_id": "151",
                                    "Darab foglalás": "3"
                                },
                                {
                                    "szoba_id": "152",
                                    "Darab foglalás": "4"
                                },
                                {
                                    "szoba_id": "153",
                                    "Darab foglalás": "5"
                                },
                                {
                                    "szoba_id": "154",
                                    "Darab foglalás": "5"
                                },
                                {
                                    "szoba_id": "155",
                                    "Darab foglalás": "5"
                                },
                                {
                                    "szoba_id": "156",
                                    "Darab foglalás": "7"
                                },
                                {
                                    "szoba_id": "157",
                                    "Darab foglalás": "5"
                                },
                                {
                                    "szoba_id": "158",
                                    "Darab foglalás": "3"
                                },
                                {
                                    "szoba_id": "159",
                                    "Darab foglalás": "0"
                                },
                                {
                                    "szoba_id": "160",
                                    "Darab foglalás": "5"
                                },
                                {
                                    "szoba_id": "161",
                                    "Darab foglalás": "6"
                                },
                                {
                                    "szoba_id": "162",
                                    "Darab foglalás": "3"
                                },
                                {
                                    "szoba_id": "163",
                                    "Darab foglalás": "7"
                                },
                                {
                                    "szoba_id": "164",
                                    "Darab foglalás": "5"
                                },
                                {
                                    "szoba_id": "165",
                                    "Darab foglalás": "7"
                                },
                                {
                                    "szoba_id": "166",
                                    "Darab foglalás": "3"
                                },
                                {
                                    "szoba_id": "167",
                                    "Darab foglalás": "2"
                                },
                                {
                                    "szoba_id": "168",
                                    "Darab foglalás": "5"
                                },
                                {
                                    "szoba_id": "169",
                                    "Darab foglalás": "6"
                                },
                                {
                                    "szoba_id": "170",
                                    "Darab foglalás": "5"
                                },
                                {
                                    "szoba_id": "171",
                                    "Darab foglalás": "5"
                                },
                                {
                                    "szoba_id": "172",
                                    "Darab foglalás": "9"
                                },
                                {
                                    "szoba_id": "173",
                                    "Darab foglalás": "4"
                                },
                                {
                                    "szoba_id": "174",
                                    "Darab foglalás": "4"
                                },
                                {
                                    "szoba_id": "175",
                                    "Darab foglalás": "5"
                                },
                                {
                                    "szoba_id": "176",
                                    "Darab foglalás": "6"
                                },
                                {
                                    "szoba_id": "177",
                                    "Darab foglalás": "4"
                                },
                                {
                                    "szoba_id": "178",
                                    "Darab foglalás": "4"
                                },
                                {
                                    "szoba_id": "179",
                                    "Darab foglalás": "3"
                                },
                                {
                                    "szoba_id": "180",
                                    "Darab foglalás": "3"
                                },
                                {
                                    "szoba_id": "181",
                                    "Darab foglalás": "6"
                                },
                                {
                                    "szoba_id": "182",
                                    "Darab foglalás": "12"
                                },
                                {
                                    "szoba_id": "183",
                                    "Darab foglalás": "4"
                                },
                                {
                                    "szoba_id": "184",
                                    "Darab foglalás": "4"
                                },
                                {
                                    "szoba_id": "185",
                                    "Darab foglalás": "12"
                                },
                                {
                                    "szoba_id": "186",
                                    "Darab foglalás": "4"
                                },
                                {
                                    "szoba_id": "187",
                                    "Darab foglalás": "7"
                                },
                                {
                                    "szoba_id": "188",
                                    "Darab foglalás": "6"
                                },
                                {
                                    "szoba_id": "189",
                                    "Darab foglalás": "5"
                                },
                                {
                                    "szoba_id": "190",
                                    "Darab foglalás": "5"
                                },
                                {
                                    "szoba_id": "191",
                                    "Darab foglalás": "5"
                                },
                                {
                                    "szoba_id": "192",
                                    "Darab foglalás": "2"
                                },
                                {
                                    "szoba_id": "193",
                                    "Darab foglalás": "7"
                                },
                                {
                                    "szoba_id": "194",
                                    "Darab foglalás": "1"
                                },
                                {
                                    "szoba_id": "195",
                                    "Darab foglalás": "6"
                                },
                                {
                                    "szoba_id": "196",
                                    "Darab foglalás": "4"
                                },
                                {
                                    "szoba_id": "197",
                                    "Darab foglalás": "6"
                                },
                                {
                                    "szoba_id": "198",
                                    "Darab foglalás": "8"
                                },
                                {
                                    "szoba_id": "199",
                                    "Darab foglalás": "0"
                                },
                                {
                                    "szoba_id": "200",
                                    "Darab foglalás": "0"
                                },
                                {
                                    "szoba_id": "201",
                                    "Darab foglalás": "0"
                                },
                                {
                                    "szoba_id": "202",
                                    "Darab foglalás": "0"
                                },
                                {
                                    "szoba_id": "203",
                                    "Darab foglalás": "0"
                                },
                                {
                                    "szoba_id": "204",
                                    "Darab foglalás": "0"
                                },
                                {
                                    "szoba_id": "205",
                                    "Darab foglalás": "0"
                                },
                                {
                                    "szoba_id": "206",
                                    "Darab foglalás": "0"
                                },
                                {
                                    "szoba_id": "207",
                                    "Darab foglalás": "0"
                                },
                                {
                                    "szoba_id": "208",
                                    "Darab foglalás": "0"
                                },
                                {
                                    "szoba_id": "209",
                                    "Darab foglalás": "0"
                                },
                                {
                                    "szoba_id": "210",
                                    "Darab foglalás": "0"
                                },
                                {
                                    "szoba_id": "211",
                                    "Darab foglalás": "0"
                                },
                                {
                                    "szoba_id": "212",
                                    "Darab foglalás": "0"
                                },
                                {
                                    "szoba_id": "213",
                                    "Darab foglalás": "0"
                                },
                                {
                                    "szoba_id": "214",
                                    "Darab foglalás": "0"
                                },
                                {
                                    "szoba_id": "215",
                                    "Darab foglalás": "0"
                                },
                                {
                                    "szoba_id": "216",
                                    "Darab foglalás": "0"
                                },
                                {
                                    "szoba_id": "217",
                                    "Darab foglalás": "0"
                                },
                                {
                                    "szoba_id": "218",
                                    "Darab foglalás": "0"
                                },
                                {
                                    "szoba_id": "219",
                                    "Darab foglalás": "0"
                                },
                                {
                                    "szoba_id": "220",
                                    "Darab foglalás": "0"
                                },
                                {
                                    "szoba_id": "221",
                                    "Darab foglalás": "0"
                                },
                                {
                                    "szoba_id": "222",
                                    "Darab foglalás": "0"
                                },
                                {
                                    "szoba_id": "223",
                                    "Darab foglalás": "0"
                                },
                                {
                                    "szoba_id": "224",
                                    "Darab foglalás": "0"
                                },
                                {
                                    "szoba_id": "225",
                                    "Darab foglalás": "0"
                                },
                                {
                                    "szoba_id": "226",
                                    "Darab foglalás": "0"
                                },
                                {
                                    "szoba_id": "227",
                                    "Darab foglalás": "0"
                                },
                                {
                                    "szoba_id": "228",
                                    "Darab foglalás": "0"
                                },
                                {
                                    "szoba_id": "229",
                                    "Darab foglalás": "0"
                                },
                                {
                                    "szoba_id": "230",
                                    "Darab foglalás": "0"
                                },
                                {
                                    "szoba_id": "231",
                                    "Darab foglalás": "0"
                                },
                                {
                                    "szoba_id": "232",
                                    "Darab foglalás": "0"
                                },
                                {
                                    "szoba_id": "233",
                                    "Darab foglalás": "0"
                                },
                                {
                                    "szoba_id": "234",
                                    "Darab foglalás": "0"
                                },
                                {
                                    "szoba_id": "235",
                                    "Darab foglalás": "0"
                                },
                                {
                                    "szoba_id": "236",
                                    "Darab foglalás": "0"
                                },
                                {
                                    "szoba_id": "237",
                                    "Darab foglalás": "0"
                                },
                                {
                                    "szoba_id": "238",
                                    "Darab foglalás": "0"
                                },
                                {
                                    "szoba_id": "239",
                                    "Darab foglalás": "0"
                                },
                                {
                                    "szoba_id": "240",
                                    "Darab foglalás": "0"
                                },
                                {
                                    "szoba_id": "241",
                                    "Darab foglalás": "0"
                                },
                                {
                                    "szoba_id": "242",
                                    "Darab foglalás": "0"
                                },
                                {
                                    "szoba_id": "243",
                                    "Darab foglalás": "0"
                                },
                                {
                                    "szoba_id": "244",
                                    "Darab foglalás": "0"
                                },
                                {
                                    "szoba_id": "245",
                                    "Darab foglalás": "0"
                                },
                                {
                                    "szoba_id": "246",
                                    "Darab foglalás": "0"
                                },
                                {
                                    "szoba_id": "247",
                                    "Darab foglalás": "0"
                                },
                                {
                                    "szoba_id": "248",
                                    "Darab foglalás": "0"
                                },
                                {
                                    "szoba_id": "249",
                                    "Darab foglalás": "0"
                                },
                                {
                                    "szoba_id": "250",
                                    "Darab foglalás": "0"
                                },
                                {
                                    "szoba_id": "251",
                                    "Darab foglalás": "0"
                                },
                                {
                                    "szoba_id": "252",
                                    "Darab foglalás": "0"
                                },
                                {
                                    "szoba_id": "253",
                                    "Darab foglalás": "0"
                                },
                                {
                                    "szoba_id": "254",
                                    "Darab foglalás": "0"
                                },
                                {
                                    "szoba_id": "255",
                                    "Darab foglalás": "0"
                                },
                                {
                                    "szoba_id": "256",
                                    "Darab foglalás": "0"
                                },
                                {
                                    "szoba_id": "257",
                                    "Darab foglalás": "0"
                                },
                                {
                                    "szoba_id": "258",
                                    "Darab foglalás": "0"
                                },
                                {
                                    "szoba_id": "259",
                                    "Darab foglalás": "0"
                                },
                                {
                                    "szoba_id": "260",
                                    "Darab foglalás": "0"
                                },
                                {
                                    "szoba_id": "261",
                                    "Darab foglalás": "0"
                                },
                                {
                                    "szoba_id": "262",
                                    "Darab foglalás": "0"
                                },
                                {
                                    "szoba_id": "263",
                                    "Darab foglalás": "0"
                                },
                                {
                                    "szoba_id": "264",
                                    "Darab foglalás": "0"
                                },
                                {
                                    "szoba_id": "265",
                                    "Darab foglalás": "0"
                                },
                                {
                                    "szoba_id": "266",
                                    "Darab foglalás": "0"
                                },
                                {
                                    "szoba_id": "267",
                                    "Darab foglalás": "0"
                                },
                                {
                                    "szoba_id": "268",
                                    "Darab foglalás": "0"
                                },
                                {
                                    "szoba_id": "269",
                                    "Darab foglalás": "0"
                                },
                                {
                                    "szoba_id": "270",
                                    "Darab foglalás": "0"
                                },
                                {
                                    "szoba_id": "271",
                                    "Darab foglalás": "0"
                                },
                                {
                                    "szoba_id": "272",
                                    "Darab foglalás": "0"
                                },
                                {
                                    "szoba_id": "273",
                                    "Darab foglalás": "0"
                                },
                                {
                                    "szoba_id": "274",
                                    "Darab foglalás": "0"
                                },
                                {
                                    "szoba_id": "275",
                                    "Darab foglalás": "0"
                                },
                                {
                                    "szoba_id": "276",
                                    "Darab foglalás": "0"
                                },
                                {
                                    "szoba_id": "277",
                                    "Darab foglalás": "0"
                                },
                                {
                                    "szoba_id": "278",
                                    "Darab foglalás": "0"
                                },
                                {
                                    "szoba_id": "279",
                                    "Darab foglalás": "0"
                                },
                                {
                                    "szoba_id": "280",
                                    "Darab foglalás": "0"
                                },
                                {
                                    "szoba_id": "281",
                                    "Darab foglalás": "0"
                                },
                                {
                                    "szoba_id": "282",
                                    "Darab foglalás": "0"
                                },
                                {
                                    "szoba_id": "283",
                                    "Darab foglalás": "0"
                                },
                                {
                                    "szoba_id": "284",
                                    "Darab foglalás": "0"
                                },
                                {
                                    "szoba_id": "285",
                                    "Darab foglalás": "0"
                                },
                                {
                                    "szoba_id": "286",
                                    "Darab foglalás": "0"
                                },
                                {
                                    "szoba_id": "287",
                                    "Darab foglalás": "0"
                                },
                                {
                                    "szoba_id": "288",
                                    "Darab foglalás": "0"
                                },
                                {
                                    "szoba_id": "289",
                                    "Darab foglalás": "0"
                                },
                                {
                                    "szoba_id": "290",
                                    "Darab foglalás": "0"
                                },
                                {
                                    "szoba_id": "291",
                                    "Darab foglalás": "0"
                                },
                                {
                                    "szoba_id": "292",
                                    "Darab foglalás": "0"
                                },
                                {
                                    "szoba_id": "293",
                                    "Darab foglalás": "0"
                                },
                                {
                                    "szoba_id": "294",
                                    "Darab foglalás": "0"
                                }
                            ]
                        },
                        "text/html": [
                            "<table>",
                            "<tr><th>szoba_id</th><th>Darab foglalás</th></tr>",
                            "<tr><td>1</td><td>8</td></tr>",
                            "<tr><td>2</td><td>4</td></tr>",
                            "<tr><td>3</td><td>8</td></tr>",
                            "<tr><td>4</td><td>6</td></tr>",
                            "<tr><td>5</td><td>4</td></tr>",
                            "<tr><td>6</td><td>6</td></tr>",
                            "<tr><td>7</td><td>6</td></tr>",
                            "<tr><td>8</td><td>5</td></tr>",
                            "<tr><td>9</td><td>6</td></tr>",
                            "<tr><td>10</td><td>4</td></tr>",
                            "<tr><td>11</td><td>4</td></tr>",
                            "<tr><td>12</td><td>9</td></tr>",
                            "<tr><td>13</td><td>4</td></tr>",
                            "<tr><td>14</td><td>3</td></tr>",
                            "<tr><td>15</td><td>6</td></tr>",
                            "<tr><td>16</td><td>5</td></tr>",
                            "<tr><td>17</td><td>6</td></tr>",
                            "<tr><td>18</td><td>6</td></tr>",
                            "<tr><td>19</td><td>6</td></tr>",
                            "<tr><td>20</td><td>5</td></tr>",
                            "<tr><td>21</td><td>4</td></tr>",
                            "<tr><td>22</td><td>6</td></tr>",
                            "<tr><td>23</td><td>3</td></tr>",
                            "<tr><td>24</td><td>3</td></tr>",
                            "<tr><td>25</td><td>2</td></tr>",
                            "<tr><td>26</td><td>2</td></tr>",
                            "<tr><td>27</td><td>7</td></tr>",
                            "<tr><td>28</td><td>6</td></tr>",
                            "<tr><td>29</td><td>6</td></tr>",
                            "<tr><td>30</td><td>3</td></tr>",
                            "<tr><td>31</td><td>3</td></tr>",
                            "<tr><td>32</td><td>1</td></tr>",
                            "<tr><td>33</td><td>6</td></tr>",
                            "<tr><td>34</td><td>4</td></tr>",
                            "<tr><td>35</td><td>9</td></tr>",
                            "<tr><td>36</td><td>6</td></tr>",
                            "<tr><td>37</td><td>3</td></tr>",
                            "<tr><td>38</td><td>8</td></tr>",
                            "<tr><td>39</td><td>7</td></tr>",
                            "<tr><td>40</td><td>4</td></tr>",
                            "<tr><td>41</td><td>2</td></tr>",
                            "<tr><td>42</td><td>6</td></tr>",
                            "<tr><td>43</td><td>8</td></tr>",
                            "<tr><td>44</td><td>6</td></tr>",
                            "<tr><td>45</td><td>5</td></tr>",
                            "<tr><td>46</td><td>4</td></tr>",
                            "<tr><td>47</td><td>2</td></tr>",
                            "<tr><td>48</td><td>9</td></tr>",
                            "<tr><td>49</td><td>7</td></tr>",
                            "<tr><td>50</td><td>4</td></tr>",
                            "<tr><td>51</td><td>5</td></tr>",
                            "<tr><td>52</td><td>5</td></tr>",
                            "<tr><td>53</td><td>2</td></tr>",
                            "<tr><td>54</td><td>6</td></tr>",
                            "<tr><td>55</td><td>8</td></tr>",
                            "<tr><td>56</td><td>2</td></tr>",
                            "<tr><td>57</td><td>4</td></tr>",
                            "<tr><td>58</td><td>13</td></tr>",
                            "<tr><td>59</td><td>7</td></tr>",
                            "<tr><td>60</td><td>1</td></tr>",
                            "<tr><td>61</td><td>5</td></tr>",
                            "<tr><td>62</td><td>5</td></tr>",
                            "<tr><td>63</td><td>4</td></tr>",
                            "<tr><td>64</td><td>6</td></tr>",
                            "<tr><td>65</td><td>1</td></tr>",
                            "<tr><td>66</td><td>4</td></tr>",
                            "<tr><td>67</td><td>6</td></tr>",
                            "<tr><td>68</td><td>3</td></tr>",
                            "<tr><td>69</td><td>4</td></tr>",
                            "<tr><td>70</td><td>11</td></tr>",
                            "<tr><td>71</td><td>3</td></tr>",
                            "<tr><td>72</td><td>4</td></tr>",
                            "<tr><td>73</td><td>4</td></tr>",
                            "<tr><td>74</td><td>9</td></tr>",
                            "<tr><td>75</td><td>3</td></tr>",
                            "<tr><td>76</td><td>3</td></tr>",
                            "<tr><td>77</td><td>6</td></tr>",
                            "<tr><td>78</td><td>6</td></tr>",
                            "<tr><td>79</td><td>5</td></tr>",
                            "<tr><td>80</td><td>7</td></tr>",
                            "<tr><td>81</td><td>5</td></tr>",
                            "<tr><td>82</td><td>6</td></tr>",
                            "<tr><td>83</td><td>8</td></tr>",
                            "<tr><td>84</td><td>4</td></tr>",
                            "<tr><td>85</td><td>4</td></tr>",
                            "<tr><td>86</td><td>5</td></tr>",
                            "<tr><td>87</td><td>5</td></tr>",
                            "<tr><td>88</td><td>8</td></tr>",
                            "<tr><td>89</td><td>8</td></tr>",
                            "<tr><td>90</td><td>4</td></tr>",
                            "<tr><td>91</td><td>4</td></tr>",
                            "<tr><td>92</td><td>6</td></tr>",
                            "<tr><td>93</td><td>5</td></tr>",
                            "<tr><td>94</td><td>10</td></tr>",
                            "<tr><td>95</td><td>4</td></tr>",
                            "<tr><td>96</td><td>7</td></tr>",
                            "<tr><td>97</td><td>7</td></tr>",
                            "<tr><td>98</td><td>4</td></tr>",
                            "<tr><td>99</td><td>5</td></tr>",
                            "<tr><td>100</td><td>4</td></tr>",
                            "<tr><td>101</td><td>3</td></tr>",
                            "<tr><td>102</td><td>2</td></tr>",
                            "<tr><td>103</td><td>4</td></tr>",
                            "<tr><td>104</td><td>4</td></tr>",
                            "<tr><td>105</td><td>2</td></tr>",
                            "<tr><td>106</td><td>6</td></tr>",
                            "<tr><td>107</td><td>5</td></tr>",
                            "<tr><td>108</td><td>2</td></tr>",
                            "<tr><td>109</td><td>7</td></tr>",
                            "<tr><td>110</td><td>8</td></tr>",
                            "<tr><td>111</td><td>5</td></tr>",
                            "<tr><td>112</td><td>5</td></tr>",
                            "<tr><td>113</td><td>5</td></tr>",
                            "<tr><td>114</td><td>4</td></tr>",
                            "<tr><td>115</td><td>7</td></tr>",
                            "<tr><td>116</td><td>2</td></tr>",
                            "<tr><td>117</td><td>8</td></tr>",
                            "<tr><td>118</td><td>7</td></tr>",
                            "<tr><td>119</td><td>5</td></tr>",
                            "<tr><td>120</td><td>6</td></tr>",
                            "<tr><td>121</td><td>8</td></tr>",
                            "<tr><td>122</td><td>9</td></tr>",
                            "<tr><td>123</td><td>5</td></tr>",
                            "<tr><td>124</td><td>6</td></tr>",
                            "<tr><td>125</td><td>1</td></tr>",
                            "<tr><td>126</td><td>6</td></tr>",
                            "<tr><td>127</td><td>7</td></tr>",
                            "<tr><td>128</td><td>5</td></tr>",
                            "<tr><td>129</td><td>4</td></tr>",
                            "<tr><td>130</td><td>6</td></tr>",
                            "<tr><td>131</td><td>5</td></tr>",
                            "<tr><td>132</td><td>6</td></tr>",
                            "<tr><td>133</td><td>6</td></tr>",
                            "<tr><td>134</td><td>6</td></tr>",
                            "<tr><td>135</td><td>3</td></tr>",
                            "<tr><td>136</td><td>3</td></tr>",
                            "<tr><td>137</td><td>6</td></tr>",
                            "<tr><td>138</td><td>7</td></tr>",
                            "<tr><td>139</td><td>7</td></tr>",
                            "<tr><td>140</td><td>8</td></tr>",
                            "<tr><td>141</td><td>6</td></tr>",
                            "<tr><td>142</td><td>2</td></tr>",
                            "<tr><td>143</td><td>7</td></tr>",
                            "<tr><td>144</td><td>5</td></tr>",
                            "<tr><td>145</td><td>6</td></tr>",
                            "<tr><td>146</td><td>6</td></tr>",
                            "<tr><td>147</td><td>1</td></tr>",
                            "<tr><td>148</td><td>6</td></tr>",
                            "<tr><td>149</td><td>7</td></tr>",
                            "<tr><td>150</td><td>6</td></tr>",
                            "<tr><td>151</td><td>3</td></tr>",
                            "<tr><td>152</td><td>4</td></tr>",
                            "<tr><td>153</td><td>5</td></tr>",
                            "<tr><td>154</td><td>5</td></tr>",
                            "<tr><td>155</td><td>5</td></tr>",
                            "<tr><td>156</td><td>7</td></tr>",
                            "<tr><td>157</td><td>5</td></tr>",
                            "<tr><td>158</td><td>3</td></tr>",
                            "<tr><td>159</td><td>0</td></tr>",
                            "<tr><td>160</td><td>5</td></tr>",
                            "<tr><td>161</td><td>6</td></tr>",
                            "<tr><td>162</td><td>3</td></tr>",
                            "<tr><td>163</td><td>7</td></tr>",
                            "<tr><td>164</td><td>5</td></tr>",
                            "<tr><td>165</td><td>7</td></tr>",
                            "<tr><td>166</td><td>3</td></tr>",
                            "<tr><td>167</td><td>2</td></tr>",
                            "<tr><td>168</td><td>5</td></tr>",
                            "<tr><td>169</td><td>6</td></tr>",
                            "<tr><td>170</td><td>5</td></tr>",
                            "<tr><td>171</td><td>5</td></tr>",
                            "<tr><td>172</td><td>9</td></tr>",
                            "<tr><td>173</td><td>4</td></tr>",
                            "<tr><td>174</td><td>4</td></tr>",
                            "<tr><td>175</td><td>5</td></tr>",
                            "<tr><td>176</td><td>6</td></tr>",
                            "<tr><td>177</td><td>4</td></tr>",
                            "<tr><td>178</td><td>4</td></tr>",
                            "<tr><td>179</td><td>3</td></tr>",
                            "<tr><td>180</td><td>3</td></tr>",
                            "<tr><td>181</td><td>6</td></tr>",
                            "<tr><td>182</td><td>12</td></tr>",
                            "<tr><td>183</td><td>4</td></tr>",
                            "<tr><td>184</td><td>4</td></tr>",
                            "<tr><td>185</td><td>12</td></tr>",
                            "<tr><td>186</td><td>4</td></tr>",
                            "<tr><td>187</td><td>7</td></tr>",
                            "<tr><td>188</td><td>6</td></tr>",
                            "<tr><td>189</td><td>5</td></tr>",
                            "<tr><td>190</td><td>5</td></tr>",
                            "<tr><td>191</td><td>5</td></tr>",
                            "<tr><td>192</td><td>2</td></tr>",
                            "<tr><td>193</td><td>7</td></tr>",
                            "<tr><td>194</td><td>1</td></tr>",
                            "<tr><td>195</td><td>6</td></tr>",
                            "<tr><td>196</td><td>4</td></tr>",
                            "<tr><td>197</td><td>6</td></tr>",
                            "<tr><td>198</td><td>8</td></tr>",
                            "<tr><td>199</td><td>0</td></tr>",
                            "<tr><td>200</td><td>0</td></tr>",
                            "<tr><td>201</td><td>0</td></tr>",
                            "<tr><td>202</td><td>0</td></tr>",
                            "<tr><td>203</td><td>0</td></tr>",
                            "<tr><td>204</td><td>0</td></tr>",
                            "<tr><td>205</td><td>0</td></tr>",
                            "<tr><td>206</td><td>0</td></tr>",
                            "<tr><td>207</td><td>0</td></tr>",
                            "<tr><td>208</td><td>0</td></tr>",
                            "<tr><td>209</td><td>0</td></tr>",
                            "<tr><td>210</td><td>0</td></tr>",
                            "<tr><td>211</td><td>0</td></tr>",
                            "<tr><td>212</td><td>0</td></tr>",
                            "<tr><td>213</td><td>0</td></tr>",
                            "<tr><td>214</td><td>0</td></tr>",
                            "<tr><td>215</td><td>0</td></tr>",
                            "<tr><td>216</td><td>0</td></tr>",
                            "<tr><td>217</td><td>0</td></tr>",
                            "<tr><td>218</td><td>0</td></tr>",
                            "<tr><td>219</td><td>0</td></tr>",
                            "<tr><td>220</td><td>0</td></tr>",
                            "<tr><td>221</td><td>0</td></tr>",
                            "<tr><td>222</td><td>0</td></tr>",
                            "<tr><td>223</td><td>0</td></tr>",
                            "<tr><td>224</td><td>0</td></tr>",
                            "<tr><td>225</td><td>0</td></tr>",
                            "<tr><td>226</td><td>0</td></tr>",
                            "<tr><td>227</td><td>0</td></tr>",
                            "<tr><td>228</td><td>0</td></tr>",
                            "<tr><td>229</td><td>0</td></tr>",
                            "<tr><td>230</td><td>0</td></tr>",
                            "<tr><td>231</td><td>0</td></tr>",
                            "<tr><td>232</td><td>0</td></tr>",
                            "<tr><td>233</td><td>0</td></tr>",
                            "<tr><td>234</td><td>0</td></tr>",
                            "<tr><td>235</td><td>0</td></tr>",
                            "<tr><td>236</td><td>0</td></tr>",
                            "<tr><td>237</td><td>0</td></tr>",
                            "<tr><td>238</td><td>0</td></tr>",
                            "<tr><td>239</td><td>0</td></tr>",
                            "<tr><td>240</td><td>0</td></tr>",
                            "<tr><td>241</td><td>0</td></tr>",
                            "<tr><td>242</td><td>0</td></tr>",
                            "<tr><td>243</td><td>0</td></tr>",
                            "<tr><td>244</td><td>0</td></tr>",
                            "<tr><td>245</td><td>0</td></tr>",
                            "<tr><td>246</td><td>0</td></tr>",
                            "<tr><td>247</td><td>0</td></tr>",
                            "<tr><td>248</td><td>0</td></tr>",
                            "<tr><td>249</td><td>0</td></tr>",
                            "<tr><td>250</td><td>0</td></tr>",
                            "<tr><td>251</td><td>0</td></tr>",
                            "<tr><td>252</td><td>0</td></tr>",
                            "<tr><td>253</td><td>0</td></tr>",
                            "<tr><td>254</td><td>0</td></tr>",
                            "<tr><td>255</td><td>0</td></tr>",
                            "<tr><td>256</td><td>0</td></tr>",
                            "<tr><td>257</td><td>0</td></tr>",
                            "<tr><td>258</td><td>0</td></tr>",
                            "<tr><td>259</td><td>0</td></tr>",
                            "<tr><td>260</td><td>0</td></tr>",
                            "<tr><td>261</td><td>0</td></tr>",
                            "<tr><td>262</td><td>0</td></tr>",
                            "<tr><td>263</td><td>0</td></tr>",
                            "<tr><td>264</td><td>0</td></tr>",
                            "<tr><td>265</td><td>0</td></tr>",
                            "<tr><td>266</td><td>0</td></tr>",
                            "<tr><td>267</td><td>0</td></tr>",
                            "<tr><td>268</td><td>0</td></tr>",
                            "<tr><td>269</td><td>0</td></tr>",
                            "<tr><td>270</td><td>0</td></tr>",
                            "<tr><td>271</td><td>0</td></tr>",
                            "<tr><td>272</td><td>0</td></tr>",
                            "<tr><td>273</td><td>0</td></tr>",
                            "<tr><td>274</td><td>0</td></tr>",
                            "<tr><td>275</td><td>0</td></tr>",
                            "<tr><td>276</td><td>0</td></tr>",
                            "<tr><td>277</td><td>0</td></tr>",
                            "<tr><td>278</td><td>0</td></tr>",
                            "<tr><td>279</td><td>0</td></tr>",
                            "<tr><td>280</td><td>0</td></tr>",
                            "<tr><td>281</td><td>0</td></tr>",
                            "<tr><td>282</td><td>0</td></tr>",
                            "<tr><td>283</td><td>0</td></tr>",
                            "<tr><td>284</td><td>0</td></tr>",
                            "<tr><td>285</td><td>0</td></tr>",
                            "<tr><td>286</td><td>0</td></tr>",
                            "<tr><td>287</td><td>0</td></tr>",
                            "<tr><td>288</td><td>0</td></tr>",
                            "<tr><td>289</td><td>0</td></tr>",
                            "<tr><td>290</td><td>0</td></tr>",
                            "<tr><td>291</td><td>0</td></tr>",
                            "<tr><td>292</td><td>0</td></tr>",
                            "<tr><td>293</td><td>0</td></tr>",
                            "<tr><td>294</td><td>0</td></tr>",
                            "</table>"
                        ]
                    }
                }
            ],
            "execution_count": 2
        },
        {
            "cell_type": "markdown",
            "source": [
                "<span style=\"color: rgb(0, 0, 0); font-family: &quot;Open Sans&quot;, sans-serif; font-size: 14.44px; background-color: rgb(255, 255, 255);\">Listázzuk azon szálláshelyek azonosítóját és nevét, amelyek a saját helyükön (HELY) a legtöbb csillaggal rendelkeznek!</span>"
            ],
            "metadata": {
                "language": "sql",
                "azdata_cell_guid": "483d97ea-d962-473c-b031-1d65ef001613"
            },
            "attachments": {}
        },
        {
            "cell_type": "code",
            "source": [
                "SELECT  szallas_id, \r\n",
                "        szallas_nev\r\n",
                "FROM szallashely szh\r\n",
                "WHERE csillagok_szama = (\r\n",
                "        SELECT MAX(csillagok_szama)\r\n",
                "        FROM szallashely\r\n",
                "        WHERE hely = szh.hely)"
            ],
            "metadata": {
                "language": "sql",
                "azdata_cell_guid": "47406d33-14bd-4e7a-a7ca-8501ab393ebe"
            },
            "outputs": [
                {
                    "output_type": "display_data",
                    "data": {
                        "text/html": "(11 rows affected)"
                    },
                    "metadata": {}
                },
                {
                    "output_type": "display_data",
                    "data": {
                        "text/html": "Total execution time: 00:00:00.004"
                    },
                    "metadata": {}
                },
                {
                    "output_type": "execute_result",
                    "metadata": {},
                    "execution_count": 7,
                    "data": {
                        "application/vnd.dataresource+json": {
                            "schema": {
                                "fields": [
                                    {
                                        "name": "szallas_id"
                                    },
                                    {
                                        "name": "szallas_nev"
                                    }
                                ]
                            },
                            "data": [
                                {
                                    "szallas_id": "17",
                                    "szallas_nev": "Szarvas Hotel"
                                },
                                {
                                    "szallas_id": "16",
                                    "szallas_nev": "Bagoly Hotel"
                                },
                                {
                                    "szallas_id": "3",
                                    "szallas_nev": "Fortuna Apartman"
                                },
                                {
                                    "szallas_id": "18",
                                    "szallas_nev": "Fortuna Apartman"
                                },
                                {
                                    "szallas_id": "19",
                                    "szallas_nev": "Nyárfás Vendégház"
                                },
                                {
                                    "szallas_id": "21",
                                    "szallas_nev": "Müller Vendégház"
                                },
                                {
                                    "szallas_id": "13",
                                    "szallas_nev": "Riviéra Panzió"
                                },
                                {
                                    "szallas_id": "10",
                                    "szallas_nev": "Lagúna Hotel"
                                },
                                {
                                    "szallas_id": "5",
                                    "szallas_nev": "Fortuna Panzió"
                                },
                                {
                                    "szallas_id": "11",
                                    "szallas_nev": "Partiszél Vendégház"
                                },
                                {
                                    "szallas_id": "8",
                                    "szallas_nev": "Hotel Három Hattyú"
                                }
                            ]
                        },
                        "text/html": [
                            "<table>",
                            "<tr><th>szallas_id</th><th>szallas_nev</th></tr>",
                            "<tr><td>17</td><td>Szarvas Hotel</td></tr>",
                            "<tr><td>16</td><td>Bagoly Hotel</td></tr>",
                            "<tr><td>3</td><td>Fortuna Apartman</td></tr>",
                            "<tr><td>18</td><td>Fortuna Apartman</td></tr>",
                            "<tr><td>19</td><td>Nyárfás Vendégház</td></tr>",
                            "<tr><td>21</td><td>Müller Vendégház</td></tr>",
                            "<tr><td>13</td><td>Riviéra Panzió</td></tr>",
                            "<tr><td>10</td><td>Lagúna Hotel</td></tr>",
                            "<tr><td>5</td><td>Fortuna Panzió</td></tr>",
                            "<tr><td>11</td><td>Partiszél Vendégház</td></tr>",
                            "<tr><td>8</td><td>Hotel Három Hattyú</td></tr>",
                            "</table>"
                        ]
                    }
                }
            ],
            "execution_count": 7
        },
        {
            "cell_type": "markdown",
            "source": [
                "Készítsen lekérdezést, amely sorszámozza a vendégeket a foglalások száma alapján\n",
                "\n",
                "- A sorszám mellett jelenjen meg a vendég azonosítója, neve és a foglalások száma is\n",
                "- A legtöbbet foglaló vendég kapja az egyes sorszámot\n",
                "- Holtverseny esetén a számozás annyit ugorjon, ahány egyforma érték van"
            ],
            "metadata": {
                "language": "sql",
                "azdata_cell_guid": "94b42483-966f-479e-a550-d994e80385d1"
            },
            "attachments": {}
        },
        {
            "cell_type": "code",
            "source": [
                "Select  RANK() over (order by count(f.foglalas_pk) desc) as 'sorszám',\r\n",
                "        v.usernev,\r\n",
                "        v.nev,\r\n",
                "        count(f.foglalas_pk)\r\n",
                "from vendeg v join foglalas f on v.USERNEV = f.UGYFEL_FK\r\n",
                "group by v.usernev, v.nev"
            ],
            "metadata": {
                "language": "sql",
                "azdata_cell_guid": "5a887094-2717-4a61-a8fd-ef996cd850ba"
            },
            "outputs": [
                {
                    "output_type": "display_data",
                    "data": {
                        "text/html": "(195 rows affected)"
                    },
                    "metadata": {}
                },
                {
                    "output_type": "display_data",
                    "data": {
                        "text/html": "Total execution time: 00:00:00.020"
                    },
                    "metadata": {}
                },
                {
                    "output_type": "execute_result",
                    "metadata": {},
                    "execution_count": 10,
                    "data": {
                        "application/vnd.dataresource+json": {
                            "schema": {
                                "fields": [
                                    {
                                        "name": "sorszám"
                                    },
                                    {
                                        "name": "usernev"
                                    },
                                    {
                                        "name": "nev"
                                    },
                                    {
                                        "name": "(No column name)"
                                    }
                                ]
                            },
                            "data": [
                                {
                                    "sorszám": "1",
                                    "usernev": "andras41",
                                    "nev": "Komjáti András",
                                    "(No column name)": "13"
                                },
                                {
                                    "sorszám": "1",
                                    "usernev": "ARONK",
                                    "nev": "Kelemen Áron",
                                    "(No column name)": "13"
                                },
                                {
                                    "sorszám": "3",
                                    "usernev": "krisztian4",
                                    "nev": "Czérna Krisztián",
                                    "(No column name)": "12"
                                },
                                {
                                    "sorszám": "3",
                                    "usernev": "peter4",
                                    "nev": "Bíró Péter",
                                    "(No column name)": "12"
                                },
                                {
                                    "sorszám": "3",
                                    "usernev": "sara",
                                    "nev": "Farkas Sára",
                                    "(No column name)": "12"
                                },
                                {
                                    "sorszám": "3",
                                    "usernev": "zoltan4",
                                    "nev": "Barna Zoltán",
                                    "(No column name)": "12"
                                },
                                {
                                    "sorszám": "7",
                                    "usernev": "kata",
                                    "nev": "Gondos Katalin",
                                    "(No column name)": "10"
                                },
                                {
                                    "sorszám": "7",
                                    "usernev": "akos",
                                    "nev": "Bíró Ákos",
                                    "(No column name)": "10"
                                },
                                {
                                    "sorszám": "7",
                                    "usernev": "balazs2",
                                    "nev": "Szűcs Balázs",
                                    "(No column name)": "10"
                                },
                                {
                                    "sorszám": "7",
                                    "usernev": "balint1",
                                    "nev": "Molnár Bálint",
                                    "(No column name)": "10"
                                },
                                {
                                    "sorszám": "7",
                                    "usernev": "eszter2",
                                    "nev": "Balogh Eszter",
                                    "(No column name)": "10"
                                },
                                {
                                    "sorszám": "12",
                                    "usernev": "dani",
                                    "nev": "Vörös Dániel",
                                    "(No column name)": "9"
                                },
                                {
                                    "sorszám": "12",
                                    "usernev": "daniel",
                                    "nev": "Rácz Dániel",
                                    "(No column name)": "9"
                                },
                                {
                                    "sorszám": "12",
                                    "usernev": "david",
                                    "nev": "Ambrus Dávid",
                                    "(No column name)": "9"
                                },
                                {
                                    "sorszám": "12",
                                    "usernev": "BEATRIXK",
                                    "nev": "Kerényi Beatrix",
                                    "(No column name)": "9"
                                },
                                {
                                    "sorszám": "12",
                                    "usernev": "bence",
                                    "nev": "Győrffy Bence",
                                    "(No column name)": "9"
                                },
                                {
                                    "sorszám": "12",
                                    "usernev": "ANIKOS",
                                    "nev": "Simon Anikó",
                                    "(No column name)": "9"
                                },
                                {
                                    "sorszám": "12",
                                    "usernev": "katalin",
                                    "nev": "Horváth Katalin",
                                    "(No column name)": "9"
                                },
                                {
                                    "sorszám": "12",
                                    "usernev": "katka",
                                    "nev": "Kovács Katalin",
                                    "(No column name)": "9"
                                },
                                {
                                    "sorszám": "12",
                                    "usernev": "norbert4",
                                    "nev": "Mile Norbert",
                                    "(No column name)": "9"
                                },
                                {
                                    "sorszám": "12",
                                    "usernev": "szilvia1",
                                    "nev": "Tari Szilvia",
                                    "(No column name)": "9"
                                },
                                {
                                    "sorszám": "12",
                                    "usernev": "TAMASF",
                                    "nev": "Fényes Tamás",
                                    "(No column name)": "9"
                                },
                                {
                                    "sorszám": "23",
                                    "usernev": "tunde",
                                    "nev": "Turcsik Tünde",
                                    "(No column name)": "8"
                                },
                                {
                                    "sorszám": "23",
                                    "usernev": "ROBERTI",
                                    "nev": "Iván Róbert",
                                    "(No column name)": "8"
                                },
                                {
                                    "sorszám": "23",
                                    "usernev": "MATYASS",
                                    "nev": "Szilágyi Mátyás",
                                    "(No column name)": "8"
                                },
                                {
                                    "sorszám": "23",
                                    "usernev": "krisztina",
                                    "nev": "Szedlár Krisztina",
                                    "(No column name)": "8"
                                },
                                {
                                    "sorszám": "23",
                                    "usernev": "maria1",
                                    "nev": "Baráth Mária",
                                    "(No column name)": "8"
                                },
                                {
                                    "sorszám": "23",
                                    "usernev": "fruzsina4",
                                    "nev": "Frank Fruzsina",
                                    "(No column name)": "8"
                                },
                                {
                                    "sorszám": "23",
                                    "usernev": "GYORGYO",
                                    "nev": "Oroszi György",
                                    "(No column name)": "8"
                                },
                                {
                                    "sorszám": "23",
                                    "usernev": "anett3",
                                    "nev": "Pivarcsi Anett",
                                    "(No column name)": "8"
                                },
                                {
                                    "sorszám": "23",
                                    "usernev": "andras3",
                                    "nev": "Vígh András",
                                    "(No column name)": "8"
                                },
                                {
                                    "sorszám": "23",
                                    "usernev": "bernadett2",
                                    "nev": "Kovács Bernadett",
                                    "(No column name)": "8"
                                },
                                {
                                    "sorszám": "23",
                                    "usernev": "csongor3",
                                    "nev": "Nagymihály Csongor",
                                    "(No column name)": "8"
                                },
                                {
                                    "sorszám": "34",
                                    "usernev": "daniel1",
                                    "nev": "Keszler Dániel",
                                    "(No column name)": "7"
                                },
                                {
                                    "sorszám": "34",
                                    "usernev": "edit",
                                    "nev": "Bittmann Edit",
                                    "(No column name)": "7"
                                },
                                {
                                    "sorszám": "34",
                                    "usernev": "emese",
                                    "nev": "Kuruc Emese",
                                    "(No column name)": "7"
                                },
                                {
                                    "sorszám": "34",
                                    "usernev": "BERNADETTO",
                                    "nev": "Orbán Bernadett",
                                    "(No column name)": "7"
                                },
                                {
                                    "sorszám": "34",
                                    "usernev": "bernadett1",
                                    "nev": "Simon Bernadett",
                                    "(No column name)": "7"
                                },
                                {
                                    "sorszám": "34",
                                    "usernev": "alexandra",
                                    "nev": "Bagóczki Alexandra",
                                    "(No column name)": "7"
                                },
                                {
                                    "sorszám": "34",
                                    "usernev": "andras21",
                                    "nev": "Molnár András",
                                    "(No column name)": "7"
                                },
                                {
                                    "sorszám": "34",
                                    "usernev": "arpad2",
                                    "nev": "Ötvös Árpád",
                                    "(No column name)": "7"
                                },
                                {
                                    "sorszám": "34",
                                    "usernev": "ARPADH",
                                    "nev": "Horváth Árpád",
                                    "(No column name)": "7"
                                },
                                {
                                    "sorszám": "34",
                                    "usernev": "imre1",
                                    "nev": "Papp Imre",
                                    "(No column name)": "7"
                                },
                                {
                                    "sorszám": "34",
                                    "usernev": "GYONGYIK",
                                    "nev": "Kornseé Gyöngyi",
                                    "(No column name)": "7"
                                },
                                {
                                    "sorszám": "34",
                                    "usernev": "kati",
                                    "nev": "Zatykó Katalin",
                                    "(No column name)": "7"
                                },
                                {
                                    "sorszám": "34",
                                    "usernev": "JANOSG",
                                    "nev": "Giliga János",
                                    "(No column name)": "7"
                                },
                                {
                                    "sorszám": "34",
                                    "usernev": "JOZSEFG",
                                    "nev": "Gyuris József",
                                    "(No column name)": "7"
                                },
                                {
                                    "sorszám": "34",
                                    "usernev": "marton",
                                    "nev": "Kalacsi Márton",
                                    "(No column name)": "7"
                                },
                                {
                                    "sorszám": "34",
                                    "usernev": "nikoletta4",
                                    "nev": "Kő Nikoletta",
                                    "(No column name)": "7"
                                },
                                {
                                    "sorszám": "34",
                                    "usernev": "norbert2",
                                    "nev": "Hegedűs Norbert",
                                    "(No column name)": "7"
                                },
                                {
                                    "sorszám": "34",
                                    "usernev": "SZABOLCSM",
                                    "nev": "Miklós Szabolcs",
                                    "(No column name)": "7"
                                },
                                {
                                    "sorszám": "34",
                                    "usernev": "SZILARDS",
                                    "nev": "Szalai Szilárd",
                                    "(No column name)": "7"
                                },
                                {
                                    "sorszám": "34",
                                    "usernev": "vivien3",
                                    "nev": "Boros Vivien",
                                    "(No column name)": "7"
                                },
                                {
                                    "sorszám": "54",
                                    "usernev": "ZSOLTJ",
                                    "nev": "Józsa Zsolt",
                                    "(No column name)": "6"
                                },
                                {
                                    "sorszám": "54",
                                    "usernev": "ZOLTANP",
                                    "nev": "Pintér Zoltán",
                                    "(No column name)": "6"
                                },
                                {
                                    "sorszám": "54",
                                    "usernev": "ZSUZSAV",
                                    "nev": "Vajda Zsuzsa",
                                    "(No column name)": "6"
                                },
                                {
                                    "sorszám": "54",
                                    "usernev": "veronika4",
                                    "nev": "Tankó Veronika",
                                    "(No column name)": "6"
                                },
                                {
                                    "sorszám": "54",
                                    "usernev": "tihamer",
                                    "nev": "Kazy Tihamér",
                                    "(No column name)": "6"
                                },
                                {
                                    "sorszám": "54",
                                    "usernev": "RENATAK",
                                    "nev": "Kardos Renáta",
                                    "(No column name)": "6"
                                },
                                {
                                    "sorszám": "54",
                                    "usernev": "polla",
                                    "nev": "Palágyi Polla",
                                    "(No column name)": "6"
                                },
                                {
                                    "sorszám": "54",
                                    "usernev": "peter3",
                                    "nev": "Szalai Péter",
                                    "(No column name)": "6"
                                },
                                {
                                    "sorszám": "54",
                                    "usernev": "MONIKAM",
                                    "nev": "Mohos Mónika",
                                    "(No column name)": "6"
                                },
                                {
                                    "sorszám": "54",
                                    "usernev": "kriszti",
                                    "nev": "Horváth Krisztina",
                                    "(No column name)": "6"
                                },
                                {
                                    "sorszám": "54",
                                    "usernev": "LASZLON",
                                    "nev": "Nagy László",
                                    "(No column name)": "6"
                                },
                                {
                                    "sorszám": "54",
                                    "usernev": "krisztina1",
                                    "nev": "Bori Krisztina",
                                    "(No column name)": "6"
                                },
                                {
                                    "sorszám": "54",
                                    "usernev": "KRISZTIANM",
                                    "nev": "Mogyródi Krisztián",
                                    "(No column name)": "6"
                                },
                                {
                                    "sorszám": "54",
                                    "usernev": "lala",
                                    "nev": "Nagymihály Lajos",
                                    "(No column name)": "6"
                                },
                                {
                                    "sorszám": "54",
                                    "usernev": "katalin4",
                                    "nev": "Kertész Katalin",
                                    "(No column name)": "6"
                                },
                                {
                                    "sorszám": "54",
                                    "usernev": "gabor1",
                                    "nev": "Köves Gábor",
                                    "(No column name)": "6"
                                },
                                {
                                    "sorszám": "54",
                                    "usernev": "gabriella1",
                                    "nev": "Nagy Gabriella",
                                    "(No column name)": "6"
                                },
                                {
                                    "sorszám": "54",
                                    "usernev": "ARPADM",
                                    "nev": "Móricz Árpád",
                                    "(No column name)": "6"
                                },
                                {
                                    "sorszám": "54",
                                    "usernev": "ANNAMARIAR",
                                    "nev": "Regős Annamária",
                                    "(No column name)": "6"
                                },
                                {
                                    "sorszám": "54",
                                    "usernev": "aron2",
                                    "nev": "Jakab Áron",
                                    "(No column name)": "6"
                                },
                                {
                                    "sorszám": "54",
                                    "usernev": "attila1",
                                    "nev": "Gulyás Attila",
                                    "(No column name)": "6"
                                },
                                {
                                    "sorszám": "54",
                                    "usernev": "andrea",
                                    "nev": "Kiss Andrea",
                                    "(No column name)": "6"
                                },
                                {
                                    "sorszám": "54",
                                    "usernev": "AGNESH",
                                    "nev": "Horváth Ágnes",
                                    "(No column name)": "6"
                                },
                                {
                                    "sorszám": "54",
                                    "usernev": "adam4",
                                    "nev": "Bieniek Ádám",
                                    "(No column name)": "6"
                                },
                                {
                                    "sorszám": "54",
                                    "usernev": "beata4",
                                    "nev": "Bagi Beáta",
                                    "(No column name)": "6"
                                },
                                {
                                    "sorszám": "54",
                                    "usernev": "BENCEB",
                                    "nev": "Bajusz Bence",
                                    "(No column name)": "6"
                                },
                                {
                                    "sorszám": "54",
                                    "usernev": "bertalan",
                                    "nev": "Csiger Bertalan",
                                    "(No column name)": "6"
                                },
                                {
                                    "sorszám": "54",
                                    "usernev": "BEATRIXS",
                                    "nev": "Szekendi Beatrix",
                                    "(No column name)": "6"
                                },
                                {
                                    "sorszám": "54",
                                    "usernev": "BELAF",
                                    "nev": "Farkas Béla",
                                    "(No column name)": "6"
                                },
                                {
                                    "sorszám": "54",
                                    "usernev": "balazs3",
                                    "nev": "Bakódy Balázs",
                                    "(No column name)": "6"
                                },
                                {
                                    "sorszám": "54",
                                    "usernev": "balazs1",
                                    "nev": "Bozsik Balázs",
                                    "(No column name)": "6"
                                },
                                {
                                    "sorszám": "54",
                                    "usernev": "david1",
                                    "nev": "Sobják Dávid",
                                    "(No column name)": "6"
                                },
                                {
                                    "sorszám": "54",
                                    "usernev": "denes",
                                    "nev": "Tömböly Dénes",
                                    "(No column name)": "6"
                                },
                                {
                                    "sorszám": "87",
                                    "usernev": "dora3",
                                    "nev": "Sarodi Dóra",
                                    "(No column name)": "5"
                                },
                                {
                                    "sorszám": "87",
                                    "usernev": "EVAV",
                                    "nev": "Viktor Éva",
                                    "(No column name)": "5"
                                },
                                {
                                    "sorszám": "87",
                                    "usernev": "brigitta",
                                    "nev": "Székely Brigitta",
                                    "(No column name)": "5"
                                },
                                {
                                    "sorszám": "87",
                                    "usernev": "brigitta3",
                                    "nev": "Pataki Brigitta",
                                    "(No column name)": "5"
                                },
                                {
                                    "sorszám": "87",
                                    "usernev": "agnes",
                                    "nev": "Lengyel Ágnes",
                                    "(No column name)": "5"
                                },
                                {
                                    "sorszám": "87",
                                    "usernev": "ANDRASE",
                                    "nev": "Erdei András",
                                    "(No column name)": "5"
                                },
                                {
                                    "sorszám": "87",
                                    "usernev": "andi",
                                    "nev": "Maródi Andrea",
                                    "(No column name)": "5"
                                },
                                {
                                    "sorszám": "87",
                                    "usernev": "andras2",
                                    "nev": "Tóth András",
                                    "(No column name)": "5"
                                },
                                {
                                    "sorszám": "87",
                                    "usernev": "gusztav",
                                    "nev": "Bárci Gusztáv",
                                    "(No column name)": "5"
                                },
                                {
                                    "sorszám": "87",
                                    "usernev": "julia",
                                    "nev": "Tóth Júlia",
                                    "(No column name)": "5"
                                },
                                {
                                    "sorszám": "87",
                                    "usernev": "janos3",
                                    "nev": "Harangozó János",
                                    "(No column name)": "5"
                                },
                                {
                                    "sorszám": "87",
                                    "usernev": "jozsef2",
                                    "nev": "Vajda József",
                                    "(No column name)": "5"
                                },
                                {
                                    "sorszám": "87",
                                    "usernev": "KRISZTINAG",
                                    "nev": "Gyárfás Krisztina",
                                    "(No column name)": "5"
                                },
                                {
                                    "sorszám": "87",
                                    "usernev": "laszlo2",
                                    "nev": "Móra László",
                                    "(No column name)": "5"
                                },
                                {
                                    "sorszám": "87",
                                    "usernev": "mark",
                                    "nev": "Kispál Márk",
                                    "(No column name)": "5"
                                },
                                {
                                    "sorszám": "87",
                                    "usernev": "MIHALYJ",
                                    "nev": "Juhász Mihály",
                                    "(No column name)": "5"
                                },
                                {
                                    "sorszám": "87",
                                    "usernev": "pal",
                                    "nev": "Barabás Pál",
                                    "(No column name)": "5"
                                },
                                {
                                    "sorszám": "87",
                                    "usernev": "norbert",
                                    "nev": "Szűcs Norbert",
                                    "(No column name)": "5"
                                },
                                {
                                    "sorszám": "87",
                                    "usernev": "PETERB",
                                    "nev": "Berendi Péter",
                                    "(No column name)": "5"
                                },
                                {
                                    "sorszám": "87",
                                    "usernev": "RENATAS",
                                    "nev": "Szirmai Renáta",
                                    "(No column name)": "5"
                                },
                                {
                                    "sorszám": "87",
                                    "usernev": "SEBASTIANF",
                                    "nev": "Foltényi Sebastián",
                                    "(No column name)": "5"
                                },
                                {
                                    "sorszám": "87",
                                    "usernev": "reka4",
                                    "nev": "Szikszai Réka",
                                    "(No column name)": "5"
                                },
                                {
                                    "sorszám": "87",
                                    "usernev": "timea2",
                                    "nev": "Dusha Tímea",
                                    "(No column name)": "5"
                                },
                                {
                                    "sorszám": "87",
                                    "usernev": "valentin",
                                    "nev": "Feró Valentin",
                                    "(No column name)": "5"
                                },
                                {
                                    "sorszám": "87",
                                    "usernev": "sandor3",
                                    "nev": "Farkas Sándor",
                                    "(No column name)": "5"
                                },
                                {
                                    "sorszám": "112",
                                    "usernev": "sandor4",
                                    "nev": "Nagy Sándor",
                                    "(No column name)": "4"
                                },
                                {
                                    "sorszám": "112",
                                    "usernev": "VIKTORIAU",
                                    "nev": "Urbán Viktoria",
                                    "(No column name)": "4"
                                },
                                {
                                    "sorszám": "112",
                                    "usernev": "tamas",
                                    "nev": "Antal Tamás",
                                    "(No column name)": "4"
                                },
                                {
                                    "sorszám": "112",
                                    "usernev": "sandor",
                                    "nev": "Karasz Sándor",
                                    "(No column name)": "4"
                                },
                                {
                                    "sorszám": "112",
                                    "usernev": "roland",
                                    "nev": "Tóth Roland",
                                    "(No column name)": "4"
                                },
                                {
                                    "sorszám": "112",
                                    "usernev": "roland1",
                                    "nev": "Ferencz Roland",
                                    "(No column name)": "4"
                                },
                                {
                                    "sorszám": "112",
                                    "usernev": "sebestyen",
                                    "nev": "Rab Sebestyén",
                                    "(No column name)": "4"
                                },
                                {
                                    "sorszám": "112",
                                    "usernev": "robert2",
                                    "nev": "Patay Róbert",
                                    "(No column name)": "4"
                                },
                                {
                                    "sorszám": "112",
                                    "usernev": "rajmond4",
                                    "nev": "Rácz Rajmond",
                                    "(No column name)": "4"
                                },
                                {
                                    "sorszám": "112",
                                    "usernev": "zsolt1",
                                    "nev": "Pulai Zsolt",
                                    "(No column name)": "4"
                                },
                                {
                                    "sorszám": "112",
                                    "usernev": "zsuzsa3",
                                    "nev": "Varsányi Zsuzsa",
                                    "(No column name)": "4"
                                },
                                {
                                    "sorszám": "112",
                                    "usernev": "zsuzsanna",
                                    "nev": "Barta Zsuzsanna",
                                    "(No column name)": "4"
                                },
                                {
                                    "sorszám": "112",
                                    "usernev": "nikolett3",
                                    "nev": "Horváth Nikolett",
                                    "(No column name)": "4"
                                },
                                {
                                    "sorszám": "112",
                                    "usernev": "peter1",
                                    "nev": "Kozma Péter",
                                    "(No column name)": "4"
                                },
                                {
                                    "sorszám": "112",
                                    "usernev": "peter2",
                                    "nev": "Bozsó Péter",
                                    "(No column name)": "4"
                                },
                                {
                                    "sorszám": "112",
                                    "usernev": "NIKOLETTAT",
                                    "nev": "Tatár Nikoletta",
                                    "(No column name)": "4"
                                },
                                {
                                    "sorszám": "112",
                                    "usernev": "MARKH",
                                    "nev": "Horváth Márk",
                                    "(No column name)": "4"
                                },
                                {
                                    "sorszám": "112",
                                    "usernev": "LASZLOA",
                                    "nev": "Antal László",
                                    "(No column name)": "4"
                                },
                                {
                                    "sorszám": "112",
                                    "usernev": "JANOSP",
                                    "nev": "Pálinkás János",
                                    "(No column name)": "4"
                                },
                                {
                                    "sorszám": "112",
                                    "usernev": "julianna4",
                                    "nev": "Szabó Julianna",
                                    "(No column name)": "4"
                                },
                                {
                                    "sorszám": "112",
                                    "usernev": "eva2",
                                    "nev": "Perlinger Éva",
                                    "(No column name)": "4"
                                },
                                {
                                    "sorszám": "112",
                                    "usernev": "georgij",
                                    "nev": "Nyíri Georgij",
                                    "(No column name)": "4"
                                },
                                {
                                    "sorszám": "112",
                                    "usernev": "gabor4",
                                    "nev": "Telek Gábor",
                                    "(No column name)": "4"
                                },
                                {
                                    "sorszám": "112",
                                    "usernev": "istvan1",
                                    "nev": "Vizi István",
                                    "(No column name)": "4"
                                },
                                {
                                    "sorszám": "112",
                                    "usernev": "ilona3",
                                    "nev": "Bosnyák Ilona",
                                    "(No column name)": "4"
                                },
                                {
                                    "sorszám": "112",
                                    "usernev": "aniko4",
                                    "nev": "Böröcz Anikó",
                                    "(No column name)": "4"
                                },
                                {
                                    "sorszám": "112",
                                    "usernev": "anita",
                                    "nev": "Hamvay-Kovács Anita",
                                    "(No column name)": "4"
                                },
                                {
                                    "sorszám": "112",
                                    "usernev": "andrea4",
                                    "nev": "Neizer Andrea",
                                    "(No column name)": "4"
                                },
                                {
                                    "sorszám": "112",
                                    "usernev": "ATTILAO",
                                    "nev": "Opra Attila",
                                    "(No column name)": "4"
                                },
                                {
                                    "sorszám": "112",
                                    "usernev": "ferenc1",
                                    "nev": "Orosz Ferenc",
                                    "(No column name)": "4"
                                },
                                {
                                    "sorszám": "112",
                                    "usernev": "ESZTERE",
                                    "nev": "Érsek Eszter",
                                    "(No column name)": "4"
                                },
                                {
                                    "sorszám": "112",
                                    "usernev": "eszter",
                                    "nev": "Molnár Eszter",
                                    "(No column name)": "4"
                                },
                                {
                                    "sorszám": "112",
                                    "usernev": "debora",
                                    "nev": "Barna Debóra",
                                    "(No column name)": "4"
                                },
                                {
                                    "sorszám": "145",
                                    "usernev": "eszter4",
                                    "nev": "Fülöp Eszter",
                                    "(No column name)": "3"
                                },
                                {
                                    "sorszám": "145",
                                    "usernev": "balint",
                                    "nev": "Horváth Bálint",
                                    "(No column name)": "3"
                                },
                                {
                                    "sorszám": "145",
                                    "usernev": "ANDREAT",
                                    "nev": "Tornyos Andrea",
                                    "(No column name)": "3"
                                },
                                {
                                    "sorszám": "145",
                                    "usernev": "aniko",
                                    "nev": "Tóth Anikó",
                                    "(No column name)": "3"
                                },
                                {
                                    "sorszám": "145",
                                    "usernev": "attila4",
                                    "nev": "Baróti Attila",
                                    "(No column name)": "3"
                                },
                                {
                                    "sorszám": "145",
                                    "usernev": "attila",
                                    "nev": "Csóti Attila",
                                    "(No column name)": "3"
                                },
                                {
                                    "sorszám": "145",
                                    "usernev": "andras4",
                                    "nev": "Back András",
                                    "(No column name)": "3"
                                },
                                {
                                    "sorszám": "145",
                                    "usernev": "agnes3",
                                    "nev": "Hartyánszky Ágnes",
                                    "(No column name)": "3"
                                },
                                {
                                    "sorszám": "145",
                                    "usernev": "adam1",
                                    "nev": "Kiss Ádám",
                                    "(No column name)": "3"
                                },
                                {
                                    "sorszám": "145",
                                    "usernev": "AGNESK",
                                    "nev": "Kovács Ágnes",
                                    "(No column name)": "3"
                                },
                                {
                                    "sorszám": "145",
                                    "usernev": "aladar",
                                    "nev": "Dunai Aladár",
                                    "(No column name)": "3"
                                },
                                {
                                    "sorszám": "145",
                                    "usernev": "henrik3",
                                    "nev": "Nádudvari Henrik",
                                    "(No column name)": "3"
                                },
                                {
                                    "sorszám": "145",
                                    "usernev": "IBOLYAA",
                                    "nev": "Andor Ibolya",
                                    "(No column name)": "3"
                                },
                                {
                                    "sorszám": "145",
                                    "usernev": "istvan",
                                    "nev": "Soós István",
                                    "(No column name)": "3"
                                },
                                {
                                    "sorszám": "145",
                                    "usernev": "klaudia2",
                                    "nev": "Bakó Klaudia",
                                    "(No column name)": "3"
                                },
                                {
                                    "sorszám": "145",
                                    "usernev": "kornel4",
                                    "nev": "Lukács Kornél",
                                    "(No column name)": "3"
                                },
                                {
                                    "sorszám": "145",
                                    "usernev": "jozsef",
                                    "nev": "Gergely József",
                                    "(No column name)": "3"
                                },
                                {
                                    "sorszám": "145",
                                    "usernev": "JUDITH",
                                    "nev": "Hídasi Judit",
                                    "(No column name)": "3"
                                },
                                {
                                    "sorszám": "145",
                                    "usernev": "MATEK",
                                    "nev": "Koza Máté",
                                    "(No column name)": "3"
                                },
                                {
                                    "sorszám": "145",
                                    "usernev": "lajos",
                                    "nev": "Kiss Lajos",
                                    "(No column name)": "3"
                                },
                                {
                                    "sorszám": "145",
                                    "usernev": "NANDORF",
                                    "nev": "Fő Nándor",
                                    "(No column name)": "3"
                                },
                                {
                                    "sorszám": "145",
                                    "usernev": "miklos2",
                                    "nev": "Gondos Miklós",
                                    "(No column name)": "3"
                                },
                                {
                                    "sorszám": "145",
                                    "usernev": "MIKLOSB",
                                    "nev": "Balla Miklós",
                                    "(No column name)": "3"
                                },
                                {
                                    "sorszám": "145",
                                    "usernev": "norbert5",
                                    "nev": "Béres Norbert",
                                    "(No column name)": "3"
                                },
                                {
                                    "sorszám": "145",
                                    "usernev": "ZOLTANT",
                                    "nev": "Tóth Zoltán",
                                    "(No column name)": "3"
                                },
                                {
                                    "sorszám": "145",
                                    "usernev": "zsuzsa",
                                    "nev": "Pusztai Zsuzsanna",
                                    "(No column name)": "3"
                                },
                                {
                                    "sorszám": "145",
                                    "usernev": "roza2",
                                    "nev": "Bucskó Róza",
                                    "(No column name)": "3"
                                },
                                {
                                    "sorszám": "172",
                                    "usernev": "ROBERTP",
                                    "nev": "Pásztor Róbert",
                                    "(No column name)": "2"
                                },
                                {
                                    "sorszám": "172",
                                    "usernev": "VIKTORK",
                                    "nev": "Keresztúri Viktor",
                                    "(No column name)": "2"
                                },
                                {
                                    "sorszám": "172",
                                    "usernev": "tibor",
                                    "nev": "Gombos Tibor",
                                    "(No column name)": "2"
                                },
                                {
                                    "sorszám": "172",
                                    "usernev": "tamara2",
                                    "nev": "Miklós Tamara",
                                    "(No column name)": "2"
                                },
                                {
                                    "sorszám": "172",
                                    "usernev": "zoltan",
                                    "nev": "Fodor Zoltán",
                                    "(No column name)": "2"
                                },
                                {
                                    "sorszám": "172",
                                    "usernev": "zsofi1",
                                    "nev": "Molnár Zsófi",
                                    "(No column name)": "2"
                                },
                                {
                                    "sorszám": "172",
                                    "usernev": "matyas2",
                                    "nev": "Botka Mátyás",
                                    "(No column name)": "2"
                                },
                                {
                                    "sorszám": "172",
                                    "usernev": "julia4",
                                    "nev": "Nagy Júlia",
                                    "(No column name)": "2"
                                },
                                {
                                    "sorszám": "172",
                                    "usernev": "kristof4",
                                    "nev": "Poprádi Kristóf",
                                    "(No column name)": "2"
                                },
                                {
                                    "sorszám": "172",
                                    "usernev": "ISTVANV",
                                    "nev": "Varga István",
                                    "(No column name)": "2"
                                },
                                {
                                    "sorszám": "172",
                                    "usernev": "imre",
                                    "nev": "Búza Imre",
                                    "(No column name)": "2"
                                },
                                {
                                    "sorszám": "172",
                                    "usernev": "adam3",
                                    "nev": "Barkóci Ádám",
                                    "(No column name)": "2"
                                },
                                {
                                    "sorszám": "172",
                                    "usernev": "annamaria1",
                                    "nev": "Szűcs Annamária",
                                    "(No column name)": "2"
                                },
                                {
                                    "sorszám": "172",
                                    "usernev": "balint2",
                                    "nev": "Vukasinovity Bálint",
                                    "(No column name)": "2"
                                },
                                {
                                    "sorszám": "172",
                                    "usernev": "balu",
                                    "nev": "Endresz Bálint",
                                    "(No column name)": "2"
                                },
                                {
                                    "sorszám": "172",
                                    "usernev": "eva",
                                    "nev": "Enyedi Éva",
                                    "(No column name)": "2"
                                },
                                {
                                    "sorszám": "188",
                                    "usernev": "david4",
                                    "nev": "Berta Dávid",
                                    "(No column name)": "1"
                                },
                                {
                                    "sorszám": "188",
                                    "usernev": "ANDRASN",
                                    "nev": "Nagy András",
                                    "(No column name)": "1"
                                },
                                {
                                    "sorszám": "188",
                                    "usernev": "andrea3",
                                    "nev": "Szomor Andrea",
                                    "(No column name)": "1"
                                },
                                {
                                    "sorszám": "188",
                                    "usernev": "gabriella10",
                                    "nev": "Vida Gabriella",
                                    "(No column name)": "1"
                                },
                                {
                                    "sorszám": "188",
                                    "usernev": "laszlo1",
                                    "nev": "Farkas László",
                                    "(No column name)": "1"
                                },
                                {
                                    "sorszám": "188",
                                    "usernev": "tibor2",
                                    "nev": "Dániel Tibor",
                                    "(No column name)": "1"
                                },
                                {
                                    "sorszám": "188",
                                    "usernev": "timea",
                                    "nev": "Papós Tímea",
                                    "(No column name)": "1"
                                },
                                {
                                    "sorszám": "188",
                                    "usernev": "szabolcs",
                                    "nev": "Bodor Szabolcs",
                                    "(No column name)": "1"
                                }
                            ]
                        },
                        "text/html": [
                            "<table>",
                            "<tr><th>sorszám</th><th>usernev</th><th>nev</th><th>(No column name)</th></tr>",
                            "<tr><td>1</td><td>andras41</td><td>Komjáti András</td><td>13</td></tr>",
                            "<tr><td>1</td><td>ARONK</td><td>Kelemen Áron</td><td>13</td></tr>",
                            "<tr><td>3</td><td>krisztian4</td><td>Czérna Krisztián</td><td>12</td></tr>",
                            "<tr><td>3</td><td>peter4</td><td>Bíró Péter</td><td>12</td></tr>",
                            "<tr><td>3</td><td>sara</td><td>Farkas Sára</td><td>12</td></tr>",
                            "<tr><td>3</td><td>zoltan4</td><td>Barna Zoltán</td><td>12</td></tr>",
                            "<tr><td>7</td><td>kata</td><td>Gondos Katalin</td><td>10</td></tr>",
                            "<tr><td>7</td><td>akos</td><td>Bíró Ákos</td><td>10</td></tr>",
                            "<tr><td>7</td><td>balazs2</td><td>Szűcs Balázs</td><td>10</td></tr>",
                            "<tr><td>7</td><td>balint1</td><td>Molnár Bálint</td><td>10</td></tr>",
                            "<tr><td>7</td><td>eszter2</td><td>Balogh Eszter</td><td>10</td></tr>",
                            "<tr><td>12</td><td>dani</td><td>Vörös Dániel</td><td>9</td></tr>",
                            "<tr><td>12</td><td>daniel</td><td>Rácz Dániel</td><td>9</td></tr>",
                            "<tr><td>12</td><td>david</td><td>Ambrus Dávid</td><td>9</td></tr>",
                            "<tr><td>12</td><td>BEATRIXK</td><td>Kerényi Beatrix</td><td>9</td></tr>",
                            "<tr><td>12</td><td>bence</td><td>Győrffy Bence</td><td>9</td></tr>",
                            "<tr><td>12</td><td>ANIKOS</td><td>Simon Anikó</td><td>9</td></tr>",
                            "<tr><td>12</td><td>katalin</td><td>Horváth Katalin</td><td>9</td></tr>",
                            "<tr><td>12</td><td>katka</td><td>Kovács Katalin</td><td>9</td></tr>",
                            "<tr><td>12</td><td>norbert4</td><td>Mile Norbert</td><td>9</td></tr>",
                            "<tr><td>12</td><td>szilvia1</td><td>Tari Szilvia</td><td>9</td></tr>",
                            "<tr><td>12</td><td>TAMASF</td><td>Fényes Tamás</td><td>9</td></tr>",
                            "<tr><td>23</td><td>tunde</td><td>Turcsik Tünde</td><td>8</td></tr>",
                            "<tr><td>23</td><td>ROBERTI</td><td>Iván Róbert</td><td>8</td></tr>",
                            "<tr><td>23</td><td>MATYASS</td><td>Szilágyi Mátyás</td><td>8</td></tr>",
                            "<tr><td>23</td><td>krisztina</td><td>Szedlár Krisztina</td><td>8</td></tr>",
                            "<tr><td>23</td><td>maria1</td><td>Baráth Mária</td><td>8</td></tr>",
                            "<tr><td>23</td><td>fruzsina4</td><td>Frank Fruzsina</td><td>8</td></tr>",
                            "<tr><td>23</td><td>GYORGYO</td><td>Oroszi György</td><td>8</td></tr>",
                            "<tr><td>23</td><td>anett3</td><td>Pivarcsi Anett</td><td>8</td></tr>",
                            "<tr><td>23</td><td>andras3</td><td>Vígh András</td><td>8</td></tr>",
                            "<tr><td>23</td><td>bernadett2</td><td>Kovács Bernadett</td><td>8</td></tr>",
                            "<tr><td>23</td><td>csongor3</td><td>Nagymihály Csongor</td><td>8</td></tr>",
                            "<tr><td>34</td><td>daniel1</td><td>Keszler Dániel</td><td>7</td></tr>",
                            "<tr><td>34</td><td>edit</td><td>Bittmann Edit</td><td>7</td></tr>",
                            "<tr><td>34</td><td>emese</td><td>Kuruc Emese</td><td>7</td></tr>",
                            "<tr><td>34</td><td>BERNADETTO</td><td>Orbán Bernadett</td><td>7</td></tr>",
                            "<tr><td>34</td><td>bernadett1</td><td>Simon Bernadett</td><td>7</td></tr>",
                            "<tr><td>34</td><td>alexandra</td><td>Bagóczki Alexandra</td><td>7</td></tr>",
                            "<tr><td>34</td><td>andras21</td><td>Molnár András</td><td>7</td></tr>",
                            "<tr><td>34</td><td>arpad2</td><td>Ötvös Árpád</td><td>7</td></tr>",
                            "<tr><td>34</td><td>ARPADH</td><td>Horváth Árpád</td><td>7</td></tr>",
                            "<tr><td>34</td><td>imre1</td><td>Papp Imre</td><td>7</td></tr>",
                            "<tr><td>34</td><td>GYONGYIK</td><td>Kornseé Gyöngyi</td><td>7</td></tr>",
                            "<tr><td>34</td><td>kati</td><td>Zatykó Katalin</td><td>7</td></tr>",
                            "<tr><td>34</td><td>JANOSG</td><td>Giliga János</td><td>7</td></tr>",
                            "<tr><td>34</td><td>JOZSEFG</td><td>Gyuris József</td><td>7</td></tr>",
                            "<tr><td>34</td><td>marton</td><td>Kalacsi Márton</td><td>7</td></tr>",
                            "<tr><td>34</td><td>nikoletta4</td><td>Kő Nikoletta</td><td>7</td></tr>",
                            "<tr><td>34</td><td>norbert2</td><td>Hegedűs Norbert</td><td>7</td></tr>",
                            "<tr><td>34</td><td>SZABOLCSM</td><td>Miklós Szabolcs</td><td>7</td></tr>",
                            "<tr><td>34</td><td>SZILARDS</td><td>Szalai Szilárd</td><td>7</td></tr>",
                            "<tr><td>34</td><td>vivien3</td><td>Boros Vivien</td><td>7</td></tr>",
                            "<tr><td>54</td><td>ZSOLTJ</td><td>Józsa Zsolt</td><td>6</td></tr>",
                            "<tr><td>54</td><td>ZOLTANP</td><td>Pintér Zoltán</td><td>6</td></tr>",
                            "<tr><td>54</td><td>ZSUZSAV</td><td>Vajda Zsuzsa</td><td>6</td></tr>",
                            "<tr><td>54</td><td>veronika4</td><td>Tankó Veronika</td><td>6</td></tr>",
                            "<tr><td>54</td><td>tihamer</td><td>Kazy Tihamér</td><td>6</td></tr>",
                            "<tr><td>54</td><td>RENATAK</td><td>Kardos Renáta</td><td>6</td></tr>",
                            "<tr><td>54</td><td>polla</td><td>Palágyi Polla</td><td>6</td></tr>",
                            "<tr><td>54</td><td>peter3</td><td>Szalai Péter</td><td>6</td></tr>",
                            "<tr><td>54</td><td>MONIKAM</td><td>Mohos Mónika</td><td>6</td></tr>",
                            "<tr><td>54</td><td>kriszti</td><td>Horváth Krisztina</td><td>6</td></tr>",
                            "<tr><td>54</td><td>LASZLON</td><td>Nagy László</td><td>6</td></tr>",
                            "<tr><td>54</td><td>krisztina1</td><td>Bori Krisztina</td><td>6</td></tr>",
                            "<tr><td>54</td><td>KRISZTIANM</td><td>Mogyródi Krisztián</td><td>6</td></tr>",
                            "<tr><td>54</td><td>lala</td><td>Nagymihály Lajos</td><td>6</td></tr>",
                            "<tr><td>54</td><td>katalin4</td><td>Kertész Katalin</td><td>6</td></tr>",
                            "<tr><td>54</td><td>gabor1</td><td>Köves Gábor</td><td>6</td></tr>",
                            "<tr><td>54</td><td>gabriella1</td><td>Nagy Gabriella</td><td>6</td></tr>",
                            "<tr><td>54</td><td>ARPADM</td><td>Móricz Árpád</td><td>6</td></tr>",
                            "<tr><td>54</td><td>ANNAMARIAR</td><td>Regős Annamária</td><td>6</td></tr>",
                            "<tr><td>54</td><td>aron2</td><td>Jakab Áron</td><td>6</td></tr>",
                            "<tr><td>54</td><td>attila1</td><td>Gulyás Attila</td><td>6</td></tr>",
                            "<tr><td>54</td><td>andrea</td><td>Kiss Andrea</td><td>6</td></tr>",
                            "<tr><td>54</td><td>AGNESH</td><td>Horváth Ágnes</td><td>6</td></tr>",
                            "<tr><td>54</td><td>adam4</td><td>Bieniek Ádám</td><td>6</td></tr>",
                            "<tr><td>54</td><td>beata4</td><td>Bagi Beáta</td><td>6</td></tr>",
                            "<tr><td>54</td><td>BENCEB</td><td>Bajusz Bence</td><td>6</td></tr>",
                            "<tr><td>54</td><td>bertalan</td><td>Csiger Bertalan</td><td>6</td></tr>",
                            "<tr><td>54</td><td>BEATRIXS</td><td>Szekendi Beatrix</td><td>6</td></tr>",
                            "<tr><td>54</td><td>BELAF</td><td>Farkas Béla</td><td>6</td></tr>",
                            "<tr><td>54</td><td>balazs3</td><td>Bakódy Balázs</td><td>6</td></tr>",
                            "<tr><td>54</td><td>balazs1</td><td>Bozsik Balázs</td><td>6</td></tr>",
                            "<tr><td>54</td><td>david1</td><td>Sobják Dávid</td><td>6</td></tr>",
                            "<tr><td>54</td><td>denes</td><td>Tömböly Dénes</td><td>6</td></tr>",
                            "<tr><td>87</td><td>dora3</td><td>Sarodi Dóra</td><td>5</td></tr>",
                            "<tr><td>87</td><td>EVAV</td><td>Viktor Éva</td><td>5</td></tr>",
                            "<tr><td>87</td><td>brigitta</td><td>Székely Brigitta</td><td>5</td></tr>",
                            "<tr><td>87</td><td>brigitta3</td><td>Pataki Brigitta</td><td>5</td></tr>",
                            "<tr><td>87</td><td>agnes</td><td>Lengyel Ágnes</td><td>5</td></tr>",
                            "<tr><td>87</td><td>ANDRASE</td><td>Erdei András</td><td>5</td></tr>",
                            "<tr><td>87</td><td>andi</td><td>Maródi Andrea</td><td>5</td></tr>",
                            "<tr><td>87</td><td>andras2</td><td>Tóth András</td><td>5</td></tr>",
                            "<tr><td>87</td><td>gusztav</td><td>Bárci Gusztáv</td><td>5</td></tr>",
                            "<tr><td>87</td><td>julia</td><td>Tóth Júlia</td><td>5</td></tr>",
                            "<tr><td>87</td><td>janos3</td><td>Harangozó János</td><td>5</td></tr>",
                            "<tr><td>87</td><td>jozsef2</td><td>Vajda József</td><td>5</td></tr>",
                            "<tr><td>87</td><td>KRISZTINAG</td><td>Gyárfás Krisztina</td><td>5</td></tr>",
                            "<tr><td>87</td><td>laszlo2</td><td>Móra László</td><td>5</td></tr>",
                            "<tr><td>87</td><td>mark</td><td>Kispál Márk</td><td>5</td></tr>",
                            "<tr><td>87</td><td>MIHALYJ</td><td>Juhász Mihály</td><td>5</td></tr>",
                            "<tr><td>87</td><td>pal</td><td>Barabás Pál</td><td>5</td></tr>",
                            "<tr><td>87</td><td>norbert</td><td>Szűcs Norbert</td><td>5</td></tr>",
                            "<tr><td>87</td><td>PETERB</td><td>Berendi Péter</td><td>5</td></tr>",
                            "<tr><td>87</td><td>RENATAS</td><td>Szirmai Renáta</td><td>5</td></tr>",
                            "<tr><td>87</td><td>SEBASTIANF</td><td>Foltényi Sebastián</td><td>5</td></tr>",
                            "<tr><td>87</td><td>reka4</td><td>Szikszai Réka</td><td>5</td></tr>",
                            "<tr><td>87</td><td>timea2</td><td>Dusha Tímea</td><td>5</td></tr>",
                            "<tr><td>87</td><td>valentin</td><td>Feró Valentin</td><td>5</td></tr>",
                            "<tr><td>87</td><td>sandor3</td><td>Farkas Sándor</td><td>5</td></tr>",
                            "<tr><td>112</td><td>sandor4</td><td>Nagy Sándor</td><td>4</td></tr>",
                            "<tr><td>112</td><td>VIKTORIAU</td><td>Urbán Viktoria</td><td>4</td></tr>",
                            "<tr><td>112</td><td>tamas</td><td>Antal Tamás</td><td>4</td></tr>",
                            "<tr><td>112</td><td>sandor</td><td>Karasz Sándor</td><td>4</td></tr>",
                            "<tr><td>112</td><td>roland</td><td>Tóth Roland</td><td>4</td></tr>",
                            "<tr><td>112</td><td>roland1</td><td>Ferencz Roland</td><td>4</td></tr>",
                            "<tr><td>112</td><td>sebestyen</td><td>Rab Sebestyén</td><td>4</td></tr>",
                            "<tr><td>112</td><td>robert2</td><td>Patay Róbert</td><td>4</td></tr>",
                            "<tr><td>112</td><td>rajmond4</td><td>Rácz Rajmond</td><td>4</td></tr>",
                            "<tr><td>112</td><td>zsolt1</td><td>Pulai Zsolt</td><td>4</td></tr>",
                            "<tr><td>112</td><td>zsuzsa3</td><td>Varsányi Zsuzsa</td><td>4</td></tr>",
                            "<tr><td>112</td><td>zsuzsanna</td><td>Barta Zsuzsanna</td><td>4</td></tr>",
                            "<tr><td>112</td><td>nikolett3</td><td>Horváth Nikolett</td><td>4</td></tr>",
                            "<tr><td>112</td><td>peter1</td><td>Kozma Péter</td><td>4</td></tr>",
                            "<tr><td>112</td><td>peter2</td><td>Bozsó Péter</td><td>4</td></tr>",
                            "<tr><td>112</td><td>NIKOLETTAT</td><td>Tatár Nikoletta</td><td>4</td></tr>",
                            "<tr><td>112</td><td>MARKH</td><td>Horváth Márk</td><td>4</td></tr>",
                            "<tr><td>112</td><td>LASZLOA</td><td>Antal László</td><td>4</td></tr>",
                            "<tr><td>112</td><td>JANOSP</td><td>Pálinkás János</td><td>4</td></tr>",
                            "<tr><td>112</td><td>julianna4</td><td>Szabó Julianna</td><td>4</td></tr>",
                            "<tr><td>112</td><td>eva2</td><td>Perlinger Éva</td><td>4</td></tr>",
                            "<tr><td>112</td><td>georgij</td><td>Nyíri Georgij</td><td>4</td></tr>",
                            "<tr><td>112</td><td>gabor4</td><td>Telek Gábor</td><td>4</td></tr>",
                            "<tr><td>112</td><td>istvan1</td><td>Vizi István</td><td>4</td></tr>",
                            "<tr><td>112</td><td>ilona3</td><td>Bosnyák Ilona</td><td>4</td></tr>",
                            "<tr><td>112</td><td>aniko4</td><td>Böröcz Anikó</td><td>4</td></tr>",
                            "<tr><td>112</td><td>anita</td><td>Hamvay-Kovács Anita</td><td>4</td></tr>",
                            "<tr><td>112</td><td>andrea4</td><td>Neizer Andrea</td><td>4</td></tr>",
                            "<tr><td>112</td><td>ATTILAO</td><td>Opra Attila</td><td>4</td></tr>",
                            "<tr><td>112</td><td>ferenc1</td><td>Orosz Ferenc</td><td>4</td></tr>",
                            "<tr><td>112</td><td>ESZTERE</td><td>Érsek Eszter</td><td>4</td></tr>",
                            "<tr><td>112</td><td>eszter</td><td>Molnár Eszter</td><td>4</td></tr>",
                            "<tr><td>112</td><td>debora</td><td>Barna Debóra</td><td>4</td></tr>",
                            "<tr><td>145</td><td>eszter4</td><td>Fülöp Eszter</td><td>3</td></tr>",
                            "<tr><td>145</td><td>balint</td><td>Horváth Bálint</td><td>3</td></tr>",
                            "<tr><td>145</td><td>ANDREAT</td><td>Tornyos Andrea</td><td>3</td></tr>",
                            "<tr><td>145</td><td>aniko</td><td>Tóth Anikó</td><td>3</td></tr>",
                            "<tr><td>145</td><td>attila4</td><td>Baróti Attila</td><td>3</td></tr>",
                            "<tr><td>145</td><td>attila</td><td>Csóti Attila</td><td>3</td></tr>",
                            "<tr><td>145</td><td>andras4</td><td>Back András</td><td>3</td></tr>",
                            "<tr><td>145</td><td>agnes3</td><td>Hartyánszky Ágnes</td><td>3</td></tr>",
                            "<tr><td>145</td><td>adam1</td><td>Kiss Ádám</td><td>3</td></tr>",
                            "<tr><td>145</td><td>AGNESK</td><td>Kovács Ágnes</td><td>3</td></tr>",
                            "<tr><td>145</td><td>aladar</td><td>Dunai Aladár</td><td>3</td></tr>",
                            "<tr><td>145</td><td>henrik3</td><td>Nádudvari Henrik</td><td>3</td></tr>",
                            "<tr><td>145</td><td>IBOLYAA</td><td>Andor Ibolya</td><td>3</td></tr>",
                            "<tr><td>145</td><td>istvan</td><td>Soós István</td><td>3</td></tr>",
                            "<tr><td>145</td><td>klaudia2</td><td>Bakó Klaudia</td><td>3</td></tr>",
                            "<tr><td>145</td><td>kornel4</td><td>Lukács Kornél</td><td>3</td></tr>",
                            "<tr><td>145</td><td>jozsef</td><td>Gergely József</td><td>3</td></tr>",
                            "<tr><td>145</td><td>JUDITH</td><td>Hídasi Judit</td><td>3</td></tr>",
                            "<tr><td>145</td><td>MATEK</td><td>Koza Máté</td><td>3</td></tr>",
                            "<tr><td>145</td><td>lajos</td><td>Kiss Lajos</td><td>3</td></tr>",
                            "<tr><td>145</td><td>NANDORF</td><td>Fő Nándor</td><td>3</td></tr>",
                            "<tr><td>145</td><td>miklos2</td><td>Gondos Miklós</td><td>3</td></tr>",
                            "<tr><td>145</td><td>MIKLOSB</td><td>Balla Miklós</td><td>3</td></tr>",
                            "<tr><td>145</td><td>norbert5</td><td>Béres Norbert</td><td>3</td></tr>",
                            "<tr><td>145</td><td>ZOLTANT</td><td>Tóth Zoltán</td><td>3</td></tr>",
                            "<tr><td>145</td><td>zsuzsa</td><td>Pusztai Zsuzsanna</td><td>3</td></tr>",
                            "<tr><td>145</td><td>roza2</td><td>Bucskó Róza</td><td>3</td></tr>",
                            "<tr><td>172</td><td>ROBERTP</td><td>Pásztor Róbert</td><td>2</td></tr>",
                            "<tr><td>172</td><td>VIKTORK</td><td>Keresztúri Viktor</td><td>2</td></tr>",
                            "<tr><td>172</td><td>tibor</td><td>Gombos Tibor</td><td>2</td></tr>",
                            "<tr><td>172</td><td>tamara2</td><td>Miklós Tamara</td><td>2</td></tr>",
                            "<tr><td>172</td><td>zoltan</td><td>Fodor Zoltán</td><td>2</td></tr>",
                            "<tr><td>172</td><td>zsofi1</td><td>Molnár Zsófi</td><td>2</td></tr>",
                            "<tr><td>172</td><td>matyas2</td><td>Botka Mátyás</td><td>2</td></tr>",
                            "<tr><td>172</td><td>julia4</td><td>Nagy Júlia</td><td>2</td></tr>",
                            "<tr><td>172</td><td>kristof4</td><td>Poprádi Kristóf</td><td>2</td></tr>",
                            "<tr><td>172</td><td>ISTVANV</td><td>Varga István</td><td>2</td></tr>",
                            "<tr><td>172</td><td>imre</td><td>Búza Imre</td><td>2</td></tr>",
                            "<tr><td>172</td><td>adam3</td><td>Barkóci Ádám</td><td>2</td></tr>",
                            "<tr><td>172</td><td>annamaria1</td><td>Szűcs Annamária</td><td>2</td></tr>",
                            "<tr><td>172</td><td>balint2</td><td>Vukasinovity Bálint</td><td>2</td></tr>",
                            "<tr><td>172</td><td>balu</td><td>Endresz Bálint</td><td>2</td></tr>",
                            "<tr><td>172</td><td>eva</td><td>Enyedi Éva</td><td>2</td></tr>",
                            "<tr><td>188</td><td>david4</td><td>Berta Dávid</td><td>1</td></tr>",
                            "<tr><td>188</td><td>ANDRASN</td><td>Nagy András</td><td>1</td></tr>",
                            "<tr><td>188</td><td>andrea3</td><td>Szomor Andrea</td><td>1</td></tr>",
                            "<tr><td>188</td><td>gabriella10</td><td>Vida Gabriella</td><td>1</td></tr>",
                            "<tr><td>188</td><td>laszlo1</td><td>Farkas László</td><td>1</td></tr>",
                            "<tr><td>188</td><td>tibor2</td><td>Dániel Tibor</td><td>1</td></tr>",
                            "<tr><td>188</td><td>timea</td><td>Papós Tímea</td><td>1</td></tr>",
                            "<tr><td>188</td><td>szabolcs</td><td>Bodor Szabolcs</td><td>1</td></tr>",
                            "</table>"
                        ]
                    }
                }
            ],
            "execution_count": 10
        },
        {
            "cell_type": "markdown",
            "source": [
                "Készítsen lekérdezést, amely megjeleníti, hogy szálláshelyenként, azon belül a pótágyak száma szerint hány főre foglaltak összesen (felnőtt + gyermek)!\n",
                "\n",
                "- Jelenjenek meg a részösszegek és a végösszeg is!"
            ],
            "metadata": {
                "language": "sql",
                "azdata_cell_guid": "7e9b789d-29e8-4613-8be5-83b28e04ccdd"
            },
            "attachments": {}
        },
        {
            "cell_type": "code",
            "source": [
                "select  iif(SZALLAS_NEV IS null, 'Végösszeg:',cast((szallas_nev) as nvarchar(50))),\r\n",
                "        iif(potagy is null, 'Részösszeg:', cast((potagy) as nvarchar(20))), \r\n",
                "        sum(f.FELNOTT_SZAM+f.GYERMEK_SZAM)\r\n",
                "from szallashely szh    join szoba sz on szh.SZALLAS_ID=sz.SZALLAS_FK\r\n",
                "                        join foglalas f on sz.SZOBA_ID=f.SZOBA_FK\r\n",
                "group by rollup(SZALLAS_NEV, POTAGY)"
            ],
            "metadata": {
                "language": "sql",
                "azdata_cell_guid": "1b6b7d06-a391-4319-9c67-3dc455697da1"
            },
            "outputs": [
                {
                    "output_type": "display_data",
                    "data": {
                        "text/html": "(41 rows affected)"
                    },
                    "metadata": {}
                },
                {
                    "output_type": "display_data",
                    "data": {
                        "text/html": "Total execution time: 00:00:00.022"
                    },
                    "metadata": {}
                },
                {
                    "output_type": "execute_result",
                    "metadata": {},
                    "execution_count": 12,
                    "data": {
                        "application/vnd.dataresource+json": {
                            "schema": {
                                "fields": [
                                    {
                                        "name": "(No column name)"
                                    },
                                    {
                                        "name": "(No column name)"
                                    },
                                    {
                                        "name": "(No column name)"
                                    }
                                ]
                            },
                            "data": [
                                {
                                    "(No column name)": "10"
                                },
                                {
                                    "(No column name)": "31"
                                },
                                {
                                    "(No column name)": "11"
                                },
                                {
                                    "(No column name)": "52"
                                },
                                {
                                    "(No column name)": "18"
                                },
                                {
                                    "(No column name)": "52"
                                },
                                {
                                    "(No column name)": "36"
                                },
                                {
                                    "(No column name)": "106"
                                },
                                {
                                    "(No column name)": "158"
                                },
                                {
                                    "(No column name)": "113"
                                },
                                {
                                    "(No column name)": "40"
                                },
                                {
                                    "(No column name)": "311"
                                },
                                {
                                    "(No column name)": "216"
                                },
                                {
                                    "(No column name)": "93"
                                },
                                {
                                    "(No column name)": "119"
                                },
                                {
                                    "(No column name)": "428"
                                },
                                {
                                    "(No column name)": "183"
                                },
                                {
                                    "(No column name)": "258"
                                },
                                {
                                    "(No column name)": "63"
                                },
                                {
                                    "(No column name)": "504"
                                },
                                {
                                    "(No column name)": "66"
                                },
                                {
                                    "(No column name)": "66"
                                },
                                {
                                    "(No column name)": "168"
                                },
                                {
                                    "(No column name)": "224"
                                },
                                {
                                    "(No column name)": "28"
                                },
                                {
                                    "(No column name)": "420"
                                },
                                {
                                    "(No column name)": "105"
                                },
                                {
                                    "(No column name)": "150"
                                },
                                {
                                    "(No column name)": "36"
                                },
                                {
                                    "(No column name)": "291"
                                },
                                {
                                    "(No column name)": "31"
                                },
                                {
                                    "(No column name)": "17"
                                },
                                {
                                    "(No column name)": "15"
                                },
                                {
                                    "(No column name)": "63"
                                },
                                {
                                    "(No column name)": "67"
                                },
                                {
                                    "(No column name)": "99"
                                },
                                {
                                    "(No column name)": "166"
                                },
                                {
                                    "(No column name)": "64"
                                },
                                {
                                    "(No column name)": "19"
                                },
                                {
                                    "(No column name)": "83"
                                },
                                {
                                    "(No column name)": "2490"
                                }
                            ]
                        },
                        "text/html": [
                            "<table>",
                            "<tr><th>(No column name)</th><th>(No column name)</th><th>(No column name)</th></tr>",
                            "<tr><td>Családi Ház</td><td>0</td><td>10</td></tr>",
                            "<tr><td>Családi Ház</td><td>1</td><td>31</td></tr>",
                            "<tr><td>Családi Ház</td><td>2</td><td>11</td></tr>",
                            "<tr><td>Családi Ház</td><td>Részösszeg:</td><td>52</td></tr>",
                            "<tr><td>Fortuna Apartman</td><td>0</td><td>18</td></tr>",
                            "<tr><td>Fortuna Apartman</td><td>1</td><td>52</td></tr>",
                            "<tr><td>Fortuna Apartman</td><td>2</td><td>36</td></tr>",
                            "<tr><td>Fortuna Apartman</td><td>Részösszeg:</td><td>106</td></tr>",
                            "<tr><td>Fortuna Panzió</td><td>0</td><td>158</td></tr>",
                            "<tr><td>Fortuna panzió</td><td>1</td><td>113</td></tr>",
                            "<tr><td>Fortuna panzió</td><td>2</td><td>40</td></tr>",
                            "<tr><td>Fortuna Panzió</td><td>Részösszeg:</td><td>311</td></tr>",
                            "<tr><td>Gold Hotel</td><td>0</td><td>216</td></tr>",
                            "<tr><td>Gold Hotel</td><td>1</td><td>93</td></tr>",
                            "<tr><td>Gold Hotel</td><td>2</td><td>119</td></tr>",
                            "<tr><td>Gold Hotel</td><td>Részösszeg:</td><td>428</td></tr>",
                            "<tr><td>Hotel Három Hattyú</td><td>0</td><td>183</td></tr>",
                            "<tr><td>Hotel Három Hattyú</td><td>1</td><td>258</td></tr>",
                            "<tr><td>Hotel Három Hattyú</td><td>2</td><td>63</td></tr>",
                            "<tr><td>Hotel Három Hattyú</td><td>Részösszeg:</td><td>504</td></tr>",
                            "<tr><td>Jáde panzió</td><td>0</td><td>66</td></tr>",
                            "<tr><td>Jáde panzió</td><td>Részösszeg:</td><td>66</td></tr>",
                            "<tr><td>Kentaur Hotel</td><td>0</td><td>168</td></tr>",
                            "<tr><td>Kentaur Hotel</td><td>1</td><td>224</td></tr>",
                            "<tr><td>Kentaur Hotel</td><td>2</td><td>28</td></tr>",
                            "<tr><td>Kentaur Hotel</td><td>Részösszeg:</td><td>420</td></tr>",
                            "<tr><td>Lagúna Hotel</td><td>0</td><td>105</td></tr>",
                            "<tr><td>Lagúna Hotel</td><td>1</td><td>150</td></tr>",
                            "<tr><td>Lagúna Hotel</td><td>2</td><td>36</td></tr>",
                            "<tr><td>Lagúna Hotel</td><td>Részösszeg:</td><td>291</td></tr>",
                            "<tr><td>Partiszél Vendégház</td><td>0</td><td>31</td></tr>",
                            "<tr><td>Partiszél Vendégház</td><td>1</td><td>17</td></tr>",
                            "<tr><td>Partiszél Vendégház</td><td>2</td><td>15</td></tr>",
                            "<tr><td>Partiszél Vendégház</td><td>Részösszeg:</td><td>63</td></tr>",
                            "<tr><td>Sába-Ház</td><td>0</td><td>67</td></tr>",
                            "<tr><td>Sába-Ház</td><td>1</td><td>99</td></tr>",
                            "<tr><td>Sába-Ház</td><td>Részösszeg:</td><td>166</td></tr>",
                            "<tr><td>Szieszta Apartmanház</td><td>0</td><td>64</td></tr>",
                            "<tr><td>Szieszta Apartmanház</td><td>1</td><td>19</td></tr>",
                            "<tr><td>Szieszta Apartmanház</td><td>Részösszeg:</td><td>83</td></tr>",
                            "<tr><td>Végösszeg:</td><td>Részösszeg:</td><td>2490</td></tr>",
                            "</table>"
                        ]
                    }
                }
            ],
            "execution_count": 12
        },
        {
            "cell_type": "markdown",
            "source": [
                "A Szoba tábla Ferohely oszlopára végezzük el a következő számításokat:\n",
                "\n",
                "- Különböző értékek száma\n",
                "- Minimum, maximum, átlag\n",
                "- Null és Not null értékek százalékos aránya"
            ],
            "metadata": {
                "language": "sql",
                "azdata_cell_guid": "80e11296-a127-4a3b-8332-d3cab7c3fa95"
            },
            "attachments": {}
        },
        {
            "cell_type": "code",
            "source": [
                "SELECT  COUNT(DISTINCT FEROHELY) AS 'DB Egyedi',\r\n",
                "        MIN(FEROHELY) AS 'MIN',\r\n",
                "        MAX(FEROHELY) AS 'MAX',\r\n",
                "        AVG(FEROHELY) AS 'Átlag',\r\n",
                "        (count(*) - count(FEROHELY))*100/count(*) as 'NULL',\r\n",
                "        count(FEROHELY)*100/COUNT(*) as 'NemNULL'\r\n",
                "FROM SZOBA"
            ],
            "metadata": {
                "language": "sql",
                "azdata_cell_guid": "f445c2a0-1689-4894-a236-e44d623a9da7",
                "tags": []
            },
            "outputs": [
                {
                    "output_type": "display_data",
                    "data": {
                        "text/html": "(1 row affected)"
                    },
                    "metadata": {}
                },
                {
                    "output_type": "display_data",
                    "data": {
                        "text/html": "Total execution time: 00:00:00.007"
                    },
                    "metadata": {}
                },
                {
                    "output_type": "execute_result",
                    "metadata": {},
                    "execution_count": 24,
                    "data": {
                        "application/vnd.dataresource+json": {
                            "schema": {
                                "fields": [
                                    {
                                        "name": "DB Egyedi"
                                    },
                                    {
                                        "name": "MIN"
                                    },
                                    {
                                        "name": "MAX"
                                    },
                                    {
                                        "name": "Átlag"
                                    },
                                    {
                                        "name": "NULL"
                                    },
                                    {
                                        "name": "NemNULL"
                                    }
                                ]
                            },
                            "data": [
                                {
                                    "DB Egyedi": "4",
                                    "MIN": "1",
                                    "MAX": "4",
                                    "Átlag": "2",
                                    "NULL": "0",
                                    "NemNULL": "100"
                                }
                            ]
                        },
                        "text/html": [
                            "<table>",
                            "<tr><th>DB Egyedi</th><th>MIN</th><th>MAX</th><th>Átlag</th><th>NULL</th><th>NemNULL</th></tr>",
                            "<tr><td>4</td><td>1</td><td>4</td><td>2</td><td>0</td><td>100</td></tr>",
                            "</table>"
                        ]
                    }
                }
            ],
            "execution_count": 24
        },
        {
            "cell_type": "markdown",
            "source": [
                "Valósítsa meg REDIS-ben a következő táblákat:\n",
                "\n",
                "- <span style=\"box-sizing: border-box; font-size: 0.9375rem;\">IRO(ID, nev, nemzetiseg)</span>\n",
                "- KONYV(ID, cim, mufaj, IRO\\_ID)\n",
                "\n",
                "Vigyen fel táblánként legalább 2-2 sornyi adatot!"
            ],
            "metadata": {
                "language": "sql",
                "azdata_cell_guid": "ed288246-e698-4beb-9f08-39aaf83791f4"
            },
            "attachments": {}
        },
        {
            "cell_type": "code",
            "source": [
                "HSET iro:1 id 1 nev \"Jókai Mór\" nemzetiseg \"Magyar\"\r\n",
                "HSET iro:2 id 2 nev \"William Shakespeare\" nemzetiseg \"Angol\"\r\n",
                "HSET konyv:1 id 1 cim \"Az arany ember\" mufaj \"Regény\" iro_id 1\r\n",
                "HSET konyv:2 id 2 cim \"Hamlet\" mufaj \"Tragédia\" iro_id 2"
            ],
            "metadata": {
                "language": "sql",
                "azdata_cell_guid": "32eae079-cc4b-4b5a-aeb3-e3dd4b683be2"
            },
            "outputs": [],
            "execution_count": null
        },
        {
            "cell_type": "markdown",
            "source": [
                "Cassandra CQL Shellben hozza létre a következő táblát:\n",
                "\n",
                "STUDENT(ID, Nev, Teljesitett\\_felevek, Eredmenyek, Nyelvtudas)\n",
                "\n",
                "- Az ID legyen az elsődleges kulcs\n",
                "- A Teljesitett felevek legyen LIST, tartalma egész számok, pl: 1, 2, 3\n",
                "- Az Eredmenyek legyen MAP, tartalma, hogy melyik félévben mennyi volt az átlag, pl: 1: 3,00, 2: 4.55, 3: 4,10\n",
                "- A Nyelvtudas legyen SET, tartalma a nyelvek megnevezése\n",
                "\n",
                "Vigyen fel legalább 2 rekordot!"
            ],
            "metadata": {
                "language": "sql",
                "azdata_cell_guid": "d006d9db-1be7-434f-a135-43964eaa2713"
            },
            "attachments": {}
        },
        {
            "cell_type": "code",
            "source": [
                "--Kihagyott feladat"
            ],
            "metadata": {
                "language": "sql",
                "azdata_cell_guid": "db5ac954-75b8-4513-848f-612e982cb716"
            },
            "outputs": [],
            "execution_count": null
        },
        {
            "cell_type": "markdown",
            "source": [
                "A Neo4j Sandbox<span style=\"color: #000000;\">-</span>ban vagy a Desktopban jelenítsük meg azon személyeket, akik egy filmben szerepeltek Tom Hanks<span style=\"color: #000000;\">-</span>sel.\n",
                "\n",
                "- Egy szereplő neve csak egyszer jelenjen meg\n",
                "- Tom Hanks ne legyen benne a listában"
            ],
            "metadata": {
                "language": "sql",
                "azdata_cell_guid": "ab0d1cdd-0636-43ad-a9b4-7ff872af50a6"
            },
            "attachments": {}
        },
        {
            "cell_type": "code",
            "source": [
                "MATCH (p:Person)-[:ACTED_IN]->(movie:Movie)<-[:ACTED_IN]-(tom:Person {name: 'Tom Hanks'})\r\n",
                "WHERE p.name <> 'Tom Hanks'\r\n",
                "RETURN DISTINCT p.name"
            ],
            "metadata": {
                "language": "sql",
                "azdata_cell_guid": "257d6b02-bb75-40dc-b5ff-36508a2b4c1a",
                "tags": []
            },
            "outputs": [],
            "execution_count": null
        }
    ]
}