{
    "metadata": {
        "kernelspec": {
            "name": "SQL",
            "display_name": "SQL",
            "language": "sql"
        },
        "language_info": {
            "name": "sql",
            "version": ""
        },
        "extensions": {
            "azuredatastudio": {
                "version": 1,
                "views": []
            }
        }
    },
    "nbformat_minor": 2,
    "nbformat": 4,
    "cells": [
        {
            "cell_type": "markdown",
            "source": [
                "1. <span style=\"color:rgb(36, 41, 47);font-family:-apple-system, BlinkMacSystemFont, &quot;Segoe UI&quot;, Helvetica, Arial, sans-serif, &quot;Apple Color Emoji&quot;, &quot;Segoe UI Emoji&quot;;font-size:16px;\">Készítsünk lekérdezést, amely listázza, hogy mely napokon hány db kölcsönzés történt!</span>\n",
                "\n",
                "<span style=\"font-size: 16px;\">a.&nbsp;</span> Az oszlopok neve legyen 'Dátum' és 'Kölcsönzések száma'  \n",
                "b. A listát rendezzük a kölcsönzés dátuma szerint csökkenő sorrendbe!"
            ],
            "metadata": {
                "azdata_cell_guid": "77f2d5b3-38e9-41cc-893f-f5afd02b97ef"
            },
            "attachments": {}
        },
        {
            "cell_type": "code",
            "source": [
                "SELECT ki_datum,\r\n",
                "        count(*) as 'DB'\r\n",
                "FROM kolcsonzesek\r\n",
                "group by ki_datum\r\n",
                "Order by ki_datum DESC"
            ],
            "metadata": {
                "azdata_cell_guid": "bd3cef1a-4e6e-4ece-9dc3-aaa9d2b5d66d",
                "language": "sql"
            },
            "outputs": [
                {
                    "output_type": "display_data",
                    "data": {
                        "text/html": "(3 rows affected)"
                    },
                    "metadata": {}
                },
                {
                    "output_type": "display_data",
                    "data": {
                        "text/html": "Total execution time: 00:00:00.059"
                    },
                    "metadata": {}
                },
                {
                    "output_type": "execute_result",
                    "metadata": {},
                    "execution_count": 1,
                    "data": {
                        "application/vnd.dataresource+json": {
                            "schema": {
                                "fields": [
                                    {
                                        "name": "ki_datum"
                                    },
                                    {
                                        "name": "DB"
                                    }
                                ]
                            },
                            "data": [
                                {
                                    "ki_datum": "2006-10-02",
                                    "DB": "1"
                                },
                                {
                                    "ki_datum": "2006-10-01",
                                    "DB": "1"
                                },
                                {
                                    "ki_datum": "2003-12-11",
                                    "DB": "3"
                                }
                            ]
                        },
                        "text/html": [
                            "<table>",
                            "<tr><th>ki_datum</th><th>DB</th></tr>",
                            "<tr><td>2006-10-02</td><td>1</td></tr>",
                            "<tr><td>2006-10-01</td><td>1</td></tr>",
                            "<tr><td>2003-12-11</td><td>3</td></tr>",
                            "</table>"
                        ]
                    }
                }
            ],
            "execution_count": 1
        },
        {
            "cell_type": "markdown",
            "source": [
                "2. <span style=\"font-weight: 600; color: rgb(36, 41, 47); font-family: -apple-system, BlinkMacSystemFont, &quot;Segoe UI&quot;, Helvetica, Arial, sans-serif, &quot;Apple Color Emoji&quot;, &quot;Segoe UI Emoji&quot;; font-size: 16px;\">Mennyi a dvd-k átlagos ára stílusonkénti bontásban?</span>\n",
                "\n",
                "1. Csak azokat a stílusokat vegyük figyelembe, ahol az átlagos ár 4500 Ft feletti!\n",
                "2. Az oszlopokat nevezzük el értelemszerűen!\n",
                "3. A listát rendezzük átlagos ár szerint csökkenő sorrendbe!"
            ],
            "metadata": {
                "azdata_cell_guid": "88f5b4bb-f4c1-4bad-a0c7-b2592687b422"
            },
            "attachments": {}
        },
        {
            "cell_type": "code",
            "source": [
                "SELECT  stilus as 'Stílus',\r\n",
                "        avg(nettoar) as 'ÁtlagÁr'\r\n",
                "from dvd\r\n",
                "group by stilus\r\n",
                "having avg(nettoar) > 4500\r\n",
                "order by avg(nettoar) DESC"
            ],
            "metadata": {
                "azdata_cell_guid": "e9de5726-f036-4fb9-8c33-a873955ed886",
                "language": "sql"
            },
            "outputs": [
                {
                    "output_type": "display_data",
                    "data": {
                        "text/html": "(30 rows affected)"
                    },
                    "metadata": {}
                },
                {
                    "output_type": "display_data",
                    "data": {
                        "text/html": "Total execution time: 00:00:00.037"
                    },
                    "metadata": {}
                },
                {
                    "output_type": "execute_result",
                    "metadata": {},
                    "execution_count": 12,
                    "data": {
                        "application/vnd.dataresource+json": {
                            "schema": {
                                "fields": [
                                    {
                                        "name": "Stílus"
                                    },
                                    {
                                        "name": "ÁtlagÁr"
                                    }
                                ]
                            },
                            "data": [
                                {
                                    "Stílus": "ásványtan",
                                    "ÁtlagÁr": "5624"
                                },
                                {
                                    "Stílus": "játék (rodeó)",
                                    "ÁtlagÁr": "5591"
                                },
                                {
                                    "Stílus": "humor",
                                    "ÁtlagÁr": "5573"
                                },
                                {
                                    "Stílus": "környezetvédelem",
                                    "ÁtlagÁr": "5508"
                                },
                                {
                                    "Stílus": "kresz",
                                    "ÁtlagÁr": "5476"
                                },
                                {
                                    "Stílus": "játék (jégkorong)",
                                    "ÁtlagÁr": "5242"
                                },
                                {
                                    "Stílus": "színház",
                                    "ÁtlagÁr": "5158"
                                },
                                {
                                    "Stílus": "múvészet",
                                    "ÁtlagÁr": "5118"
                                },
                                {
                                    "Stílus": "kémia",
                                    "ÁtlagÁr": "5094"
                                },
                                {
                                    "Stílus": "fordító program",
                                    "ÁtlagÁr": "5036"
                                },
                                {
                                    "Stílus": "kerttervező",
                                    "ÁtlagÁr": "4951"
                                },
                                {
                                    "Stílus": "művészet",
                                    "ÁtlagÁr": "4939,25"
                                },
                                {
                                    "Stílus": "festészet",
                                    "ÁtlagÁr": "4901"
                                },
                                {
                                    "Stílus": "zene",
                                    "ÁtlagÁr": "4855,333333333333"
                                },
                                {
                                    "Stílus": "játék",
                                    "ÁtlagÁr": "4850,466666666666"
                                },
                                {
                                    "Stílus": "játék (labdarúgás)",
                                    "ÁtlagÁr": "4817,333333333333"
                                },
                                {
                                    "Stílus": "állattan",
                                    "ÁtlagÁr": "4783,666666666667"
                                },
                                {
                                    "Stílus": "nyelvtan",
                                    "ÁtlagÁr": "4770,666666666667"
                                },
                                {
                                    "Stílus": "fizika",
                                    "ÁtlagÁr": "4769"
                                },
                                {
                                    "Stílus": "nyelvtanító",
                                    "ÁtlagÁr": "4759,476190476191"
                                },
                                {
                                    "Stílus": "csillagászat",
                                    "ÁtlagÁr": "4733,571428571428"
                                },
                                {
                                    "Stílus": "ismeretterjesztő",
                                    "ÁtlagÁr": "4726,673913043478"
                                },
                                {
                                    "Stílus": "irodalom, nyelv",
                                    "ÁtlagÁr": "4704"
                                },
                                {
                                    "Stílus": "gasztronómia",
                                    "ÁtlagÁr": "4691"
                                },
                                {
                                    "Stílus": "történelem",
                                    "ÁtlagÁr": "4655,731707317073"
                                },
                                {
                                    "Stílus": "szótár",
                                    "ÁtlagÁr": "4624,428571428572"
                                },
                                {
                                    "Stílus": "sport",
                                    "ÁtlagÁr": "4607"
                                },
                                {
                                    "Stílus": "földrajz",
                                    "ÁtlagÁr": "4580,0625"
                                },
                                {
                                    "Stílus": "matematika",
                                    "ÁtlagÁr": "4520,777777777777"
                                },
                                {
                                    "Stílus": "felvételi",
                                    "ÁtlagÁr": "4501,333333333333"
                                }
                            ]
                        },
                        "text/html": [
                            "<table>",
                            "<tr><th>Stílus</th><th>ÁtlagÁr</th></tr>",
                            "<tr><td>ásványtan</td><td>5624</td></tr>",
                            "<tr><td>játék (rodeó)</td><td>5591</td></tr>",
                            "<tr><td>humor</td><td>5573</td></tr>",
                            "<tr><td>környezetvédelem</td><td>5508</td></tr>",
                            "<tr><td>kresz</td><td>5476</td></tr>",
                            "<tr><td>játék (jégkorong)</td><td>5242</td></tr>",
                            "<tr><td>színház</td><td>5158</td></tr>",
                            "<tr><td>múvészet</td><td>5118</td></tr>",
                            "<tr><td>kémia</td><td>5094</td></tr>",
                            "<tr><td>fordító program</td><td>5036</td></tr>",
                            "<tr><td>kerttervező</td><td>4951</td></tr>",
                            "<tr><td>művészet</td><td>4939,25</td></tr>",
                            "<tr><td>festészet</td><td>4901</td></tr>",
                            "<tr><td>zene</td><td>4855,333333333333</td></tr>",
                            "<tr><td>játék</td><td>4850,466666666666</td></tr>",
                            "<tr><td>játék (labdarúgás)</td><td>4817,333333333333</td></tr>",
                            "<tr><td>állattan</td><td>4783,666666666667</td></tr>",
                            "<tr><td>nyelvtan</td><td>4770,666666666667</td></tr>",
                            "<tr><td>fizika</td><td>4769</td></tr>",
                            "<tr><td>nyelvtanító</td><td>4759,476190476191</td></tr>",
                            "<tr><td>csillagászat</td><td>4733,571428571428</td></tr>",
                            "<tr><td>ismeretterjesztő</td><td>4726,673913043478</td></tr>",
                            "<tr><td>irodalom, nyelv</td><td>4704</td></tr>",
                            "<tr><td>gasztronómia</td><td>4691</td></tr>",
                            "<tr><td>történelem</td><td>4655,731707317073</td></tr>",
                            "<tr><td>szótár</td><td>4624,428571428572</td></tr>",
                            "<tr><td>sport</td><td>4607</td></tr>",
                            "<tr><td>földrajz</td><td>4580,0625</td></tr>",
                            "<tr><td>matematika</td><td>4520,777777777777</td></tr>",
                            "<tr><td>felvételi</td><td>4501,333333333333</td></tr>",
                            "</table>"
                        ]
                    }
                }
            ],
            "execution_count": 12
        },
        {
            "cell_type": "markdown",
            "source": [
                "3. <span style=\"color:rgb(36, 41, 47);font-family:-apple-system, BlinkMacSystemFont, &quot;Segoe UI&quot;, Helvetica, Arial, sans-serif, &quot;Apple Color Emoji&quot;, &quot;Segoe UI Emoji&quot;;font-size:16px;\">Listázzuk nyelvenkénti, azon belül stílusonkénti bontásban, hogy mennyi a dvd-k legkisebb és legnagyobb ára!&nbsp;</span> \n",
                "\n",
                "<span style=\"font-size: 16px;\">a. Az oszlopok neve legyen 'Nyelv', 'Stílus', 'MinÁr' és 'MaxÁr'!<br>b.&nbsp;</span> A listából hagyjuk ki azokat a sorokat, ahol a nyelv vagy a stílus nincs megadva!  \n",
                "c. Szintén hagyjuk ki azokat a csoportokat, ahol a csoport elemszáma 3-nál kisebb!"
            ],
            "metadata": {
                "azdata_cell_guid": "9e7249de-1b59-43d8-84b1-26fa7d81fc5a"
            },
            "attachments": {}
        },
        {
            "cell_type": "code",
            "source": [
                ""
            ],
            "metadata": {
                "azdata_cell_guid": "6405d3e8-a9b1-45d7-aa76-3b1e785ef6cc",
                "language": "sql"
            },
            "outputs": [],
            "execution_count": null
        },
        {
            "cell_type": "markdown",
            "source": [
                "4. <span style=\"color: rgb(36, 41, 47); font-family: -apple-system, BlinkMacSystemFont, &quot;Segoe UI&quot;, Helvetica, Arial, sans-serif, &quot;Apple Color Emoji&quot;, &quot;Segoe UI Emoji&quot;; font-size: 16px;\">Készítsünk listát, amely a csoportokat hoz létre aszerint, hogy a mai naptól számítva hány nap telt el a kölcsönzés kezdete óta. A lista jelenítse meg csoportonkénti bontásban a kikölcsönzött dvd-k számát!</span>\n",
                "\n",
                "1. Az oszlopokat nevezzük el értelemszerűen!\n",
                "2. A listát rendezzük az eltelt napok száma szerint csökkenő sorrendbe!"
            ],
            "metadata": {
                "azdata_cell_guid": "6478e469-c094-472c-a772-ccd5b5c61516"
            },
            "attachments": {}
        },
        {
            "cell_type": "code",
            "source": [
                ""
            ],
            "metadata": {
                "azdata_cell_guid": "02031ea2-3838-458d-839c-228e3b362b61",
                "language": "sql"
            },
            "outputs": [],
            "execution_count": null
        },
        {
            "cell_type": "markdown",
            "source": [
                "5. <span style=\"color: rgb(36, 41, 47); font-family: -apple-system, BlinkMacSystemFont, &quot;Segoe UI&quot;, Helvetica, Arial, sans-serif, &quot;Apple Color Emoji&quot;, &quot;Segoe UI Emoji&quot;; font-size: 16px;\">A kölcsönző tulajdonosa elhatározza, hogy ezentúl kerekebb árakat alkalmaz. Ezért minden dvd árát 1000 Ft-ra kerekíti. Készítsünk lekérdezést, amely megmutatja, hogy melyik 1000 Ft-ra kerekített ár szerint, azon belül stílus szerint hány db dvd összesen raktáron! **</span>\n",
                "\n",
                "1. Csak olyan csoportokat listázzunk, ahol a raktárkészlet legalább 30!\n",
                "2. A listát rendezzük kerekített ár szerint, azon belül raktárkészlet szerint növekvő sorrendbe!"
            ],
            "metadata": {
                "azdata_cell_guid": "9edbbaf9-c276-4898-9a01-e1b2993c089f"
            },
            "attachments": {}
        },
        {
            "cell_type": "code",
            "source": [
                ""
            ],
            "metadata": {
                "azdata_cell_guid": "5ad5fdcb-2878-4111-861a-833bcd50e935",
                "language": "sql"
            },
            "outputs": [],
            "execution_count": null
        },
        {
            "cell_type": "markdown",
            "source": [
                "6. <span style=\"font-weight: 600; color: rgb(36, 41, 47); font-family: -apple-system, BlinkMacSystemFont, &quot;Segoe UI&quot;, Helvetica, Arial, sans-serif, &quot;Apple Color Emoji&quot;, &quot;Segoe UI Emoji&quot;; font-size: 16px;\">A dvd-ket csoportosíthatjuk aszerint, hogy milyen hosszú a címük. Amelyiknél a cím hosszúsága 10 karakter alatt van, az legyen Rövid, 10-20-ig Átlagos, 20 felett Hosszú. Hány Rövid, Átlagos, illetve Hosszú dvd-van összesen raktáron?</span>\n",
                "\n",
                "1. Az oszlopok neve legyen 'Cím hosszúság' és 'Darabszám"
            ],
            "metadata": {
                "azdata_cell_guid": "5fe65c1c-2479-45ac-ad03-ec99d12eae21"
            },
            "attachments": {}
        },
        {
            "cell_type": "code",
            "source": [
                ""
            ],
            "metadata": {
                "azdata_cell_guid": "924f2dde-f1c2-4def-a7f9-dbf4bace7735",
                "language": "sql"
            },
            "outputs": [],
            "execution_count": null
        },
        {
            "cell_type": "markdown",
            "source": [
                "7. <span style=\"color: rgb(36, 41, 47); font-family: -apple-system, BlinkMacSystemFont, &quot;Segoe UI&quot;, Helvetica, Arial, sans-serif, &quot;Apple Color Emoji&quot;, &quot;Segoe UI Emoji&quot;; font-size: 16px;\">Készítsünk listát arról, hogy melyik teremben hány óra van!</span>\n",
                "\n",
                "1. Jelenítsük meg a termek azonosítóit és a teremben tartott órák számát!\n",
                "2. Az oszlopokat nevezzük el értelemszerűen!\n",
                "3. Szűrjünk azokra a termekre, ahol az órák száma legalább 3!"
            ],
            "metadata": {
                "azdata_cell_guid": "3aeb6bf5-b111-40d5-92b2-9712ce335696"
            },
            "attachments": {}
        },
        {
            "cell_type": "code",
            "source": [
                ""
            ],
            "metadata": {
                "azdata_cell_guid": "3e89b651-f56f-4102-af52-30eb2bbe360d",
                "language": "sql"
            },
            "outputs": [],
            "execution_count": null
        },
        {
            "cell_type": "markdown",
            "source": [
                "8. <span style=\"color: rgb(36, 41, 47); font-family: -apple-system, BlinkMacSystemFont, &quot;Segoe UI&quot;, Helvetica, Arial, sans-serif, &quot;Apple Color Emoji&quot;, &quot;Segoe UI Emoji&quot;; font-size: 16px;\">Készítsünk lekérdezést, amely megadja, hogy minimálian és maximálisan hány kreditet ér egy tantárgy!</span>\n",
                "\n",
                "1. Az oszlopokat nevezzük el értelemszerűen!\n",
                "2. Ne vegyük figyelembe azokat a tantárgyakat, amelyek nevében az „alapjai” szó szerepel, vagy a tantárgy neve 10 karakternél rövidebb!"
            ],
            "metadata": {
                "azdata_cell_guid": "26a504dc-ff6a-439f-94c0-4580eca3eacf"
            },
            "attachments": {}
        },
        {
            "cell_type": "code",
            "source": [
                ""
            ],
            "metadata": {
                "azdata_cell_guid": "1cbb8aeb-78b5-4350-aa45-e3202fdab85b",
                "language": "sql"
            },
            "outputs": [],
            "execution_count": null
        },
        {
            "cell_type": "markdown",
            "source": [
                "9. <span style=\"color: rgb(36, 41, 47); font-family: -apple-system, BlinkMacSystemFont, &quot;Segoe UI&quot;, Helvetica, Arial, sans-serif, &quot;Apple Color Emoji&quot;, &quot;Segoe UI Emoji&quot;; font-size: 16px;\">A tapasztalat alapján a tanársegédeknek 8, az óraadóknak 10 órájuk van egy héten. A többiek annyi órát tartanak, amennyi az elvárt óraszámuk. Készítsünk lekérdezést, amely minden beosztáshoz megjeleníti, hogy hetente hány túlóra tartozik hozzá!</span>\n",
                "\n",
                "1. A lekérdezés csak a beosztások nevét és a heti túlórák számát jelenítse meg!"
            ],
            "metadata": {
                "azdata_cell_guid": "435e2860-2dd5-4877-90f4-34a43baeb53c"
            },
            "attachments": {}
        },
        {
            "cell_type": "code",
            "source": [
                "select Beosztasok.beosztasnev,\r\n",
                "        CASE\r\n",
                "            when beosztasnev = 'tanársegéd' then 8 - elvart\r\n",
                "            when beosztasnev = 'óraadó' then 10 - elvart\r\n",
                "            else 0\r\n",
                "        end AS 'túlórák száma'\r\n",
                "from Orak   join Oktatok On orak.tanar = oktato_id\r\n",
                "            join Beosztasok on oktatok.beosztás = beosztasok.beosztas_id\r\n",
                "\r\n",
                ""
            ],
            "metadata": {
                "azdata_cell_guid": "ce846351-ddbe-4d8e-b8fb-2a92c73ac80b",
                "language": "sql"
            },
            "outputs": [
{
    "output_type": "display_data",
    "data": {
        "text/html": "(67 rows affected)"
    },
    "metadata": {}
}, {
    "output_type": "display_data",
    "data": {
        "text/html": "Total execution time: 00:00:00.073"
    },
    "metadata": {}
}, {
    "output_type": "execute_result",
    "metadata": {},
    "execution_count": 14,
    "data": {
        "application/vnd.dataresource+json": {
            "schema": {
                "fields": [
                    {
                        "name": "beosztasnev"
                    },
                    {
                        "name": "túlórák száma"
                    }
                ]
            },
            "data": [
                {
                    "beosztasnev": "Egyetemi tanár",
                    "túlórák száma": "0"
                },
                {
                    "beosztasnev": "Tanársegéd",
                    "túlórák száma": "2"
                },
                {
                    "beosztasnev": "Tanársegéd",
                    "túlórák száma": "2"
                },
                {
                    "beosztasnev": "Óraadó",
                    "túlórák száma": "4"
                },
                {
                    "beosztasnev": "Docens",
                    "túlórák száma": "0"
                },
                {
                    "beosztasnev": "Tanársegéd",
                    "túlórák száma": "2"
                },
                {
                    "beosztasnev": "Docens",
                    "túlórák száma": "0"
                },
                {
                    "beosztasnev": "Docens",
                    "túlórák száma": "0"
                },
                {
                    "beosztasnev": "Adjunktus",
                    "túlórák száma": "0"
                },
                {
                    "beosztasnev": "Egyetemi tanár",
                    "túlórák száma": "0"
                },
                {
                    "beosztasnev": "Óraadó",
                    "túlórák száma": "4"
                },
                {
                    "beosztasnev": "Óraadó",
                    "túlórák száma": "4"
                },
                {
                    "beosztasnev": "Adjunktus",
                    "túlórák száma": "0"
                },
                {
                    "beosztasnev": "Tanársegéd",
                    "túlórák száma": "2"
                },
                {
                    "beosztasnev": "Óraadó",
                    "túlórák száma": "4"
                },
                {
                    "beosztasnev": "Óraadó",
                    "túlórák száma": "4"
                },
                {
                    "beosztasnev": "Adjunktus",
                    "túlórák száma": "0"
                },
                {
                    "beosztasnev": "Óraadó",
                    "túlórák száma": "4"
                },
                {
                    "beosztasnev": "Adjunktus",
                    "túlórák száma": "0"
                },
                {
                    "beosztasnev": "Tanársegéd",
                    "túlórák száma": "2"
                },
                {
                    "beosztasnev": "Adjunktus",
                    "túlórák száma": "0"
                },
                {
                    "beosztasnev": "Tanársegéd",
                    "túlórák száma": "2"
                },
                {
                    "beosztasnev": "Adjunktus",
                    "túlórák száma": "0"
                },
                {
                    "beosztasnev": "Tanársegéd",
                    "túlórák száma": "2"
                },
                {
                    "beosztasnev": "Adjunktus",
                    "túlórák száma": "0"
                },
                {
                    "beosztasnev": "Tanársegéd",
                    "túlórák száma": "2"
                },
                {
                    "beosztasnev": "Adjunktus",
                    "túlórák száma": "0"
                },
                {
                    "beosztasnev": "Óraadó",
                    "túlórák száma": "4"
                },
                {
                    "beosztasnev": "Docens",
                    "túlórák száma": "0"
                },
                {
                    "beosztasnev": "Tanársegéd",
                    "túlórák száma": "2"
                },
                {
                    "beosztasnev": "Tanársegéd",
                    "túlórák száma": "2"
                },
                {
                    "beosztasnev": "Tanársegéd",
                    "túlórák száma": "2"
                },
                {
                    "beosztasnev": "Docens",
                    "túlórák száma": "0"
                },
                {
                    "beosztasnev": "Docens",
                    "túlórák száma": "0"
                },
                {
                    "beosztasnev": "Tanársegéd",
                    "túlórák száma": "2"
                },
                {
                    "beosztasnev": "Tanársegéd",
                    "túlórák száma": "2"
                },
                {
                    "beosztasnev": "Docens",
                    "túlórák száma": "0"
                },
                {
                    "beosztasnev": "Docens",
                    "túlórák száma": "0"
                },
                {
                    "beosztasnev": "Tanársegéd",
                    "túlórák száma": "2"
                },
                {
                    "beosztasnev": "Tanársegéd",
                    "túlórák száma": "2"
                },
                {
                    "beosztasnev": "Óraadó",
                    "túlórák száma": "4"
                },
                {
                    "beosztasnev": "Óraadó",
                    "túlórák száma": "4"
                },
                {
                    "beosztasnev": "Egyetemi tanár",
                    "túlórák száma": "0"
                },
                {
                    "beosztasnev": "Egyetemi tanár",
                    "túlórák száma": "0"
                },
                {
                    "beosztasnev": "Óraadó",
                    "túlórák száma": "4"
                },
                {
                    "beosztasnev": "Tanársegéd",
                    "túlórák száma": "2"
                },
                {
                    "beosztasnev": "Egyetemi tanár",
                    "túlórák száma": "0"
                },
                {
                    "beosztasnev": "Docens",
                    "túlórák száma": "0"
                },
                {
                    "beosztasnev": "Docens",
                    "túlórák száma": "0"
                },
                {
                    "beosztasnev": "Egyetemi tanár",
                    "túlórák száma": "0"
                },
                {
                    "beosztasnev": "Egyetemi tanár",
                    "túlórák száma": "0"
                },
                {
                    "beosztasnev": "Adjunktus",
                    "túlórák száma": "0"
                },
                {
                    "beosztasnev": "Adjunktus",
                    "túlórák száma": "0"
                },
                {
                    "beosztasnev": "Tanársegéd",
                    "túlórák száma": "2"
                },
                {
                    "beosztasnev": "Tanársegéd",
                    "túlórák száma": "2"
                },
                {
                    "beosztasnev": "Tanársegéd",
                    "túlórák száma": "2"
                },
                {
                    "beosztasnev": "Tanársegéd",
                    "túlórák száma": "2"
                },
                {
                    "beosztasnev": "Adjunktus",
                    "túlórák száma": "0"
                },
                {
                    "beosztasnev": "Adjunktus",
                    "túlórák száma": "0"
                },
                {
                    "beosztasnev": "Tanársegéd",
                    "túlórák száma": "2"
                },
                {
                    "beosztasnev": "Tanársegéd",
                    "túlórák száma": "2"
                },
                {
                    "beosztasnev": "Egyetemi tanár",
                    "túlórák száma": "0"
                },
                {
                    "beosztasnev": "Egyetemi tanár",
                    "túlórák száma": "0"
                },
                {
                    "beosztasnev": "Egyetemi tanár",
                    "túlórák száma": "0"
                },
                {
                    "beosztasnev": "Egyetemi tanár",
                    "túlórák száma": "0"
                },
                {
                    "beosztasnev": "Adjunktus",
                    "túlórák száma": "0"
                },
                {
                    "beosztasnev": "Adjunktus",
                    "túlórák száma": "0"
                }
            ]
        },
        "text/html": [
            "<table>",
            "<tr><th>beosztasnev</th><th>túlórák száma</th></tr>",
            "<tr><td>Egyetemi tanár</td><td>0</td></tr>",
            "<tr><td>Tanársegéd</td><td>2</td></tr>",
            "<tr><td>Tanársegéd</td><td>2</td></tr>",
            "<tr><td>Óraadó</td><td>4</td></tr>",
            "<tr><td>Docens</td><td>0</td></tr>",
            "<tr><td>Tanársegéd</td><td>2</td></tr>",
            "<tr><td>Docens</td><td>0</td></tr>",
            "<tr><td>Docens</td><td>0</td></tr>",
            "<tr><td>Adjunktus</td><td>0</td></tr>",
            "<tr><td>Egyetemi tanár</td><td>0</td></tr>",
            "<tr><td>Óraadó</td><td>4</td></tr>",
            "<tr><td>Óraadó</td><td>4</td></tr>",
            "<tr><td>Adjunktus</td><td>0</td></tr>",
            "<tr><td>Tanársegéd</td><td>2</td></tr>",
            "<tr><td>Óraadó</td><td>4</td></tr>",
            "<tr><td>Óraadó</td><td>4</td></tr>",
            "<tr><td>Adjunktus</td><td>0</td></tr>",
            "<tr><td>Óraadó</td><td>4</td></tr>",
            "<tr><td>Adjunktus</td><td>0</td></tr>",
            "<tr><td>Tanársegéd</td><td>2</td></tr>",
            "<tr><td>Adjunktus</td><td>0</td></tr>",
            "<tr><td>Tanársegéd</td><td>2</td></tr>",
            "<tr><td>Adjunktus</td><td>0</td></tr>",
            "<tr><td>Tanársegéd</td><td>2</td></tr>",
            "<tr><td>Adjunktus</td><td>0</td></tr>",
            "<tr><td>Tanársegéd</td><td>2</td></tr>",
            "<tr><td>Adjunktus</td><td>0</td></tr>",
            "<tr><td>Óraadó</td><td>4</td></tr>",
            "<tr><td>Docens</td><td>0</td></tr>",
            "<tr><td>Tanársegéd</td><td>2</td></tr>",
            "<tr><td>Tanársegéd</td><td>2</td></tr>",
            "<tr><td>Tanársegéd</td><td>2</td></tr>",
            "<tr><td>Docens</td><td>0</td></tr>",
            "<tr><td>Docens</td><td>0</td></tr>",
            "<tr><td>Tanársegéd</td><td>2</td></tr>",
            "<tr><td>Tanársegéd</td><td>2</td></tr>",
            "<tr><td>Docens</td><td>0</td></tr>",
            "<tr><td>Docens</td><td>0</td></tr>",
            "<tr><td>Tanársegéd</td><td>2</td></tr>",
            "<tr><td>Tanársegéd</td><td>2</td></tr>",
            "<tr><td>Óraadó</td><td>4</td></tr>",
            "<tr><td>Óraadó</td><td>4</td></tr>",
            "<tr><td>Egyetemi tanár</td><td>0</td></tr>",
            "<tr><td>Egyetemi tanár</td><td>0</td></tr>",
            "<tr><td>Óraadó</td><td>4</td></tr>",
            "<tr><td>Tanársegéd</td><td>2</td></tr>",
            "<tr><td>Egyetemi tanár</td><td>0</td></tr>",
            "<tr><td>Docens</td><td>0</td></tr>",
            "<tr><td>Docens</td><td>0</td></tr>",
            "<tr><td>Egyetemi tanár</td><td>0</td></tr>",
            "<tr><td>Egyetemi tanár</td><td>0</td></tr>",
            "<tr><td>Adjunktus</td><td>0</td></tr>",
            "<tr><td>Adjunktus</td><td>0</td></tr>",
            "<tr><td>Tanársegéd</td><td>2</td></tr>",
            "<tr><td>Tanársegéd</td><td>2</td></tr>",
            "<tr><td>Tanársegéd</td><td>2</td></tr>",
            "<tr><td>Tanársegéd</td><td>2</td></tr>",
            "<tr><td>Adjunktus</td><td>0</td></tr>",
            "<tr><td>Adjunktus</td><td>0</td></tr>",
            "<tr><td>Tanársegéd</td><td>2</td></tr>",
            "<tr><td>Tanársegéd</td><td>2</td></tr>",
            "<tr><td>Egyetemi tanár</td><td>0</td></tr>",
            "<tr><td>Egyetemi tanár</td><td>0</td></tr>",
            "<tr><td>Egyetemi tanár</td><td>0</td></tr>",
            "<tr><td>Egyetemi tanár</td><td>0</td></tr>",
            "<tr><td>Adjunktus</td><td>0</td></tr>",
            "<tr><td>Adjunktus</td><td>0</td></tr>",
            "</table>"
        ]
    }
}
],
            "execution_count": 14
        },
        {
            "cell_type": "markdown",
            "source": [
                "10. <span style=\"font-weight: 600; color: rgb(36, 41, 47); font-family: -apple-system, BlinkMacSystemFont, &quot;Segoe UI&quot;, Helvetica, Arial, sans-serif, &quot;Apple Color Emoji&quot;, &quot;Segoe UI Emoji&quot;; font-size: 16px;\">Melyek azok az oktatók, akiknek nincs órájuk?</span>\n",
                "\n",
                "1. Csak az oktatók neve jelenjen meg!\n",
                "2. ÖTLET: használjunk LEFT JOIN-t, és szűrjünk azokra a rekordokra, ahol NULL érték van a JOIN utáni feltétel jobb oldalán!"
            ],
            "metadata": {
                "azdata_cell_guid": "217c5772-afe2-4a7c-b913-e3a3e09d6411"
            },
            "attachments": {}
        },
        {
            "cell_type": "code",
            "source": [
                ""
            ],
            "metadata": {
                "azdata_cell_guid": "a9cc0926-3dbd-4ed8-8179-1c39d64a0762",
                "language": "sql"
            },
            "outputs": [],
            "execution_count": null
        },
        {
            "cell_type": "markdown",
            "source": [
                "11. <span style=\"font-weight: 600; color: rgb(36, 41, 47); font-family: -apple-system, BlinkMacSystemFont, &quot;Segoe UI&quot;, Helvetica, Arial, sans-serif, &quot;Apple Color Emoji&quot;, &quot;Segoe UI Emoji&quot;; font-size: 16px;\">Készítsünk lekérdezést, amely részletesen megjeleníti az egyes órák fontosabb adatait, azaz</span>\n",
                "\n",
                "1. Az órák azonosítóit, a tanár nevét, a tantárgy nevét, a terem nevét és a kezdési időpontot!\n",
                "2. Az oszlopokat nevezzük el értelemszerűen!"
            ],
            "metadata": {
                "azdata_cell_guid": "d2340f5f-1614-473c-b937-85740d67f7c1"
            },
            "attachments": {}
        },
        {
            "cell_type": "code",
            "source": [
                ""
            ],
            "metadata": {
                "azdata_cell_guid": "e99c2c53-898f-4787-b0e6-182d106dc16f",
                "language": "sql"
            },
            "outputs": [],
            "execution_count": null
        },
        {
            "cell_type": "markdown",
            "source": [
                "12. <span style=\"color: rgb(36, 41, 47); font-family: -apple-system, BlinkMacSystemFont, &quot;Segoe UI&quot;, Helvetica, Arial, sans-serif, &quot;Apple Color Emoji&quot;, &quot;Segoe UI Emoji&quot;; font-size: 16px;\">Készítsünk listát, amely tartalmazza az egyes órák azonosítóit, és az órán oktatott tantárgy felelősének nevét!</span>\n",
                "\n",
                "1. Rendezzük a listát a tantárgyfelelős neve szerint csökkenő sorrendbe!"
            ],
            "metadata": {
                "azdata_cell_guid": "a765e9d6-58b3-4171-872a-78f3118fd6e3"
            },
            "attachments": {}
        },
        {
            "cell_type": "code",
            "source": [
                ""
            ],
            "metadata": {
                "azdata_cell_guid": "422e8127-b652-4d3a-bfd7-9b1637b5781e",
                "language": "sql"
            },
            "outputs": [],
            "execution_count": null
        },
        {
            "cell_type": "markdown",
            "source": [
                "13. <span style=\"color: rgb(36, 41, 47); font-family: -apple-system, BlinkMacSystemFont, &quot;Segoe UI&quot;, Helvetica, Arial, sans-serif, &quot;Apple Color Emoji&quot;, &quot;Segoe UI Emoji&quot;; font-size: 16px;\">Készítsünk listát, amely megjeleníti, hogy az Orak táblában lévő órák közül hányat tart Dr., illetve nem Dr. titulusú tanár!</span>\n",
                "\n",
                "1. Az oszlopokat nevezzük el értelemszerűen!"
            ],
            "metadata": {
                "azdata_cell_guid": "3f9237ae-f109-401c-acb9-31d75e73331b"
            },
            "attachments": {}
        },
        {
            "cell_type": "code",
            "source": [
                ""
            ],
            "metadata": {
                "azdata_cell_guid": "4b31bb89-cfbc-46b1-8639-85c462877786",
                "language": "sql"
            },
            "outputs": [],
            "execution_count": null
        },
        {
            "cell_type": "markdown",
            "source": [
                "14. <span style=\"color: rgb(36, 41, 47); font-family: -apple-system, BlinkMacSystemFont, &quot;Segoe UI&quot;, Helvetica, Arial, sans-serif, &quot;Apple Color Emoji&quot;, &quot;Segoe UI Emoji&quot;; font-size: 16px;\">Készítsünk listát arról, hogy beosztásonként hány óra szerepel az Orak táblában!</span>\n",
                "\n",
                "1. Jelenítsük meg a beosztások nevét és az órák számát!\n",
                "2. A listát szűrjük azokra a beosztásokra, ahol ez az óraszám 10 feletti!"
            ],
            "metadata": {
                "azdata_cell_guid": "f634e09a-85ef-4e70-8ec6-ef355dfddaa7"
            },
            "attachments": {}
        },
        {
            "cell_type": "code",
            "source": [
                ""
            ],
            "metadata": {
                "azdata_cell_guid": "88abc55b-2c78-495b-a72f-3f8f4eb5fe70",
                "language": "sql"
            },
            "outputs": [],
            "execution_count": null
        },
        {
            "cell_type": "markdown",
            "source": [
                "15. <span style=\"color: rgb(36, 41, 47); font-family: -apple-system, BlinkMacSystemFont, &quot;Segoe UI&quot;, Helvetica, Arial, sans-serif, &quot;Apple Color Emoji&quot;, &quot;Segoe UI Emoji&quot;; font-size: 16px;\">Melyek azok az órák, amelyek kezdési időpontja olyan sávba esik, amely a mostani időpont (óra:perc) után van?</span>\n",
                "\n",
                "1. Listázzuk az órák azonosítóit, valamint az órakezdés napját és időpontját!\n",
                "2. A listát rendezzük az időpont szerint növekvő sorrendbe!"
            ],
            "metadata": {
                "azdata_cell_guid": "4cbf2f0d-a65d-480a-8186-ccdb24498443"
            },
            "attachments": {}
        },
        {
            "cell_type": "code",
            "source": [
                ""
            ],
            "metadata": {
                "azdata_cell_guid": "c148aee8-bc85-40bf-b80a-a4898a6c05cb",
                "language": "sql"
            },
            "outputs": [],
            "execution_count": null
        }
    ]
}