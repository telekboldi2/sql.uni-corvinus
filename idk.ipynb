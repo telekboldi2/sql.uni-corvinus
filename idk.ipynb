{
    "metadata": {
        "kernelspec": {
            "name": "SQL",
            "display_name": "SQL",
            "language": "sql"
        },
        "language_info": {
            "name": "sql",
            "version": ""
        }
    },
    "nbformat_minor": 2,
    "nbformat": 4,
    "cells": [
        {
            "cell_type": "code",
            "source": [
                "SELECT *,\r\n",
                "        --új oszlop\r\n",
                "        IIF(MONTH(METTOL) IN (6,7,8), 'Igen', 'Nem') as 'Nyári-e?'\r\n",
                "from Foglalas\r\n",
                "where UGYFEL_FK = 'laszlo2' and GYERMEK_SZAM = 0\r\n",
                ""
            ],
            "metadata": {
                "azdata_cell_guid": "f165951e-4cf0-4d66-a0a3-68c0af4d057e",
                "language": "sql",
                "tags": []
            },
            "outputs": [
{
    "output_type": "display_data",
    "data": {
        "text/html": "(1 row affected)"
    },
    "metadata": {}
}, {
    "output_type": "display_data",
    "data": {
        "text/html": "Total execution time: 00:00:00.006"
    },
    "metadata": {}
}, {
    "output_type": "execute_result",
    "metadata": {},
    "execution_count": 3,
    "data": {
        "application/vnd.dataresource+json": {
            "schema": {
                "fields": [
                    {
                        "name": "FOGLALAS_PK"
                    },
                    {
                        "name": "UGYFEL_FK"
                    },
                    {
                        "name": "SZOBA_FK"
                    },
                    {
                        "name": "METTOL"
                    },
                    {
                        "name": "MEDDIG"
                    },
                    {
                        "name": "FELNOTT_SZAM"
                    },
                    {
                        "name": "GYERMEK_SZAM"
                    },
                    {
                        "name": "Nyári-e?"
                    }
                ]
            },
            "data": [
                {
                    "FOGLALAS_PK": "561",
                    "UGYFEL_FK": "laszlo2",
                    "SZOBA_FK": "42",
                    "METTOL": "2016-04-06",
                    "MEDDIG": "2016-04-10",
                    "FELNOTT_SZAM": "2",
                    "GYERMEK_SZAM": "0",
                    "Nyári-e?": "Nem"
                }
            ]
        },
        "text/html": [
            "<table>",
            "<tr><th>FOGLALAS_PK</th><th>UGYFEL_FK</th><th>SZOBA_FK</th><th>METTOL</th><th>MEDDIG</th><th>FELNOTT_SZAM</th><th>GYERMEK_SZAM</th><th>Nyári-e?</th></tr>",
            "<tr><td>561</td><td>laszlo2</td><td>42</td><td>2016-04-06</td><td>2016-04-10</td><td>2</td><td>0</td><td>Nem</td></tr>",
            "</table>"
        ]
    }
}
],
            "execution_count": 3
        }
    ]
}